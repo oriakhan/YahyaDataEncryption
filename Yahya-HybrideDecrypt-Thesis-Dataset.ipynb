{
 "cells": [
  {
   "cell_type": "code",
   "execution_count": 1,
   "id": "ba34aba9",
   "metadata": {},
   "outputs": [
    {
     "name": "stdout",
     "output_type": "stream",
     "text": [
      "Enter only 2, 3 or 4 digita, last digit should be in between 6 and 96532\n",
      "6\n",
      "532\n"
     ]
    }
   ],
   "source": [
    "user_input = input(\"Enter only 2, 3 or 4 digita, last digit should be in between 6 and 9\")\n",
    "digits=str(user_input)\n",
    "integer_value = int(user_input)\n",
    "openSource = digits[0]\n",
    "customizedTechniques = digits[1:]\n",
    "print(openSource)\n",
    "print(customizedTechniques)"
   ]
  },
  {
   "cell_type": "code",
   "execution_count": 2,
   "id": "c4bd10d7",
   "metadata": {},
   "outputs": [],
   "source": [
    "from cryptography.hazmat.primitives.ciphers import Cipher, algorithms, modes\n",
    "from cryptography.hazmat.backends import default_backend\n",
    "from cryptography.hazmat.primitives import padding\n",
    "import pickle\n",
    "import pickle\n",
    "import pyaes\n",
    "\n",
    "class pyaesDecryptor:\n",
    "    def __init__(self, key):\n",
    "        self.key = key\n",
    "\n",
    "    def decrypt_message(self, encrypted_message):\n",
    "        aes = pyaes.AESModeOfOperationCTR(self.key)\n",
    "        decrypted = aes.decrypt(encrypted_message)\n",
    "        return decrypted.decode('latin-1')  # Use 'latin-1' encoding for decoding bytes\n",
    "\n",
    "\n",
    "\n",
    "class TextDecryptorAES:\n",
    "    def __init__(self, key):\n",
    "        self.key = key\n",
    "\n",
    "    def decrypt_text(self, encrypted_text):\n",
    "        cipher = Cipher(algorithms.AES(self.key), modes.ECB(), backend=default_backend())\n",
    "        decryptor = cipher.decryptor()\n",
    "        decrypted_padded_data = decryptor.update(encrypted_text) + decryptor.finalize()\n",
    "        unpadder = padding.PKCS7(128).unpadder()\n",
    "        decrypted_text = unpadder.update(decrypted_padded_data) + unpadder.finalize()\n",
    "        return decrypted_text.decode()\n",
    "\n",
    "from cryptography.fernet import Fernet\n",
    "\n",
    "class TextDecryptor:\n",
    "    def __init__(self, key):\n",
    "        self.key = key\n",
    "\n",
    "    def decrypt_text(self, encrypted_text):\n",
    "        fernet = Fernet(self.key)\n",
    "        decrypted_text = fernet.decrypt(encrypted_text).decode()\n",
    "        return decrypted_text\n",
    "\n",
    "import pickle\n",
    "import nacl.secret\n",
    "import nacl.utils\n",
    "\n",
    "class TextDecryptorSalsa20:\n",
    "    def __init__(self, key):\n",
    "        self.key = key\n",
    "\n",
    "    def decrypt_text(self, encrypted_text):\n",
    "        box = nacl.secret.SecretBox(self.key)\n",
    "        decrypted = box.decrypt(encrypted_text)\n",
    "        return decrypted.decode()\n",
    "\n",
    "\n",
    "def check_unique_characters(input_string):\n",
    "    if len(set(input_string)) == len(input_string):\n",
    "        return \"Hybride Key Pattern is Correct\"\n",
    "    else:\n",
    "        raise ValueError(\"Hybride Key Pattern is incorrect\")\n",
    "def decryptReplace1234(encrypted_message):\n",
    "    decrypted_message = \"\"\n",
    "    for i in range(0, len(encrypted_message), 4):\n",
    "        group = encrypted_message[i:i+4]\n",
    "\n",
    "        # Swap back the characters to their original positions\n",
    "        original_group = group[2] + group[3] + group[0] + group[1]\n",
    "\n",
    "        decrypted_message += original_group\n",
    "\n",
    "    return decrypted_message.rstrip()  # Remove any trailing spaces\n",
    "def decryptReplace12(encrypted_message):\n",
    "    decrypted_message = \"\"\n",
    "    for i in range(0, len(encrypted_message), 2):\n",
    "        pair = encrypted_message[i:i+2]\n",
    "        decrypted_pair = \"\"\n",
    "\n",
    "        for char in pair:\n",
    "            if char.isalpha():\n",
    "                # Decrypt only alphabetic characters\n",
    "                if char.isupper():\n",
    "                    decrypted_char = chr((ord(char) - ord('A' ) - 2) % 26 + ord('A'))\n",
    "                else:\n",
    "                    decrypted_char = chr((ord(char) - ord('a' ) - 2) % 26 + ord('a'))\n",
    "                decrypted_pair += decrypted_char\n",
    "            else:\n",
    "                # Keep non-alphabetic characters unchanged\n",
    "                decrypted_pair += char\n",
    "\n",
    "        decrypted_message += decrypted_pair\n",
    "\n",
    "    return decrypted_message\n",
    "def decryptUnicode30(encrypted_text):\n",
    "    decrypted_text = ''.join(chr(ord(char) - 30) for char in encrypted_text)  # Example: Reverse the shift by 5 Unicode code points\n",
    "    return decrypted_text\n",
    "\n",
    "def decryptUnicode50(encrypted_text):\n",
    "    decrypted_text = ''.join(chr(ord(char) - 50) for char in encrypted_text)  # Example: Reverse the shift by 5 Unicode code points\n",
    "    return decrypted_text"
   ]
  },
  {
   "cell_type": "code",
   "execution_count": null,
   "id": "f6255729",
   "metadata": {},
   "outputs": [],
   "source": []
  },
  {
   "cell_type": "code",
   "execution_count": 3,
   "id": "046047fa",
   "metadata": {},
   "outputs": [
    {
     "name": "stdout",
     "output_type": "stream",
     "text": [
      "0: Message\n",
      "6\n",
      "Decrypted text: ÇÂ\n",
      "5\n",
      "_\n",
      "3\n",
      "Awr\n",
      "2\n",
      "Yup\n",
      "====================\n",
      "1: Message\n",
      "6\n",
      "Decrypted text: ¡½~~\n",
      "5\n",
      "oLL\n",
      "3\n",
      "Qm..\n",
      "2\n",
      "Ok..\n",
      "====================\n",
      "2: Message\n",
      "6\n",
      "Decrypted text: ¡½»·~~~\n",
      "5\n",
      "o",
      "LLL\n",
      "3\n",
      "Qmkg...\n",
      "2\n",
      "Okie...\n",
      "====================\n",
      "3: Message\n",
      "6\n",
      "Decrypted text: ©º·Ä·p\n",
      "5\n",
      "w",
      "",
      ">^\n",
      "3\n",
      "Yjgtg @\n",
      "2\n",
      "Where @\n",
      "====================\n",
      "4: Message\n",
      "6\n",
      "Decrypted text: ¦º³ÀÊ~~~\n",
      "5\n",
      "tLLL\n",
      "3\n",
      "Vjcpz...\n",
      "2\n",
      "Thanx...\n",
      "====================\n",
      "5: Message\n",
      "6\n",
      "Decrypted text: ¦º³À½pÇq\n",
      "5\n",
      "t>?\n",
      "3\n",
      "Vjcpm w!\n",
      "2\n",
      "Thank u!\n",
      "====================\n",
      "6: Message\n",
      "6\n",
      "Decrypted text: ··Ä³¹·\n",
      "5\n",
      "b",
      "",
      "",
      "]\n",
      "3\n",
      "Dggtcig?\n",
      "2\n",
      "Beerage?\n",
      "====================\n",
      "7: Message\n",
      "6\n",
      "Decrypted text: w¿pºÁ¿·~\n",
      "5\n",
      "iE>",
      "L\n",
      "3\n",
      "K'o jqog.\n",
      "2\n",
      "I'm home.\n",
      "====================\n",
      "8: Message\n",
      "6\n",
      "Decrypted text: Æºp¡p§\n",
      "5\n",
      "PT>of>jul_\n",
      "3\n",
      "26vj QH LWNA\n",
      "2\n",
      "26th OF JULY\n",
      "====================\n",
      "9: Message\n",
      "6\n",
      "Decrypted text: º³À½Åp¾ÁÆÅ¾±q\n",
      "5\n",
      ">?\n",
      "3\n",
      "jcpmu nqvuna!\n",
      "2\n",
      "hanks lotsly!\n",
      "====================\n",
      "10: Message\n",
      "6\n",
      "Decrypted text: ÇÂpÀ·ÊÆpÅÆÁÂ~\n",
      "5\n",
      "_>",
      ">L\n",
      "3\n",
      "Awr pgzv uvqr.\n",
      "2\n",
      "Yup next stop.\n",
      "====================\n",
      "11: Message\n",
      "6\n",
      "Decrypted text: ¡ºpÁ½pÀÁpÂÄÁ´~~\n",
      "5\n",
      "o>>>LL\n",
      "3\n",
      "Qj qm pq rtqd..\n",
      "2\n",
      "Oh ok no prob..\n",
      "====================\n",
      "12: Message\n",
      "6\n",
      "Decrypted text: w¾¾p´·p¾³Æ·~~~\n",
      "5\n",
      "iE>",
      ">",
      "LLL\n",
      "3\n",
      "K'nn dg ncvg...\n",
      "2\n",
      "I'll be late...\n",
      "====================\n",
      "13: Message\n",
      "6\n",
      "Decrypted text: ÁÆp¿·º~~~p©º·À\n",
      "5\n",
      "g>",
      "LLL>w",
      "]\n",
      "3\n",
      "Iqv ogj... Yjgp?\n",
      "2\n",
      "Got meh... When?\n",
      "====================\n",
      "14: Message\n",
      "6\n",
      "Decrypted text: p¿»Àp¾³Æ·Äp½~~~\n",
      "5\n",
      "ON>>",
      ">LLL\n",
      "3\n",
      "10 okp ncvgt m...\n",
      "2\n",
      "10 min later k...\n",
      "====================\n",
      "15: Message\n",
      "6\n",
      "Decrypted text: ÇÀÀÁp±pÇp³Å½p¿·~\n",
      "5\n",
      "d>>>>",
      "L\n",
      "3\n",
      "Fwppq a w cum og.\n",
      "2\n",
      "Dunno y u ask me.\n",
      "====================\n",
      "16: Message\n",
      "6\n",
      "Decrypted text: ©³Æµº»À¹pÆÈp¾ÁÄ~~~\n",
      "5\n",
      "w>>LLL\n",
      "3\n",
      "Ycvejkpi vx nqt...\n",
      "2\n",
      "Watching tv lor...\n",
      "====================\n",
      "17: Message\n",
      "6\n",
      "Decrypted text: ©³ÅpÆº·p¸³Ä¿pÁÂ·À\n",
      "5\n",
      "w>",
      ">>",
      "]\n",
      "3\n",
      "Ycu vjg hcto qrgp?\n",
      "2\n",
      "Was the farm open?\n",
      "====================\n",
      "18: Message\n",
      "6\n",
      "Decrypted text: ©¡p¤p¡§p¥ \n",
      "5\n",
      "who>are>_ou>seeing]\n",
      "3\n",
      "YJQ CTG AQW UGGKPI?\n",
      "2\n",
      "WHO ARE YOU SEEING?\n",
      "====================\n",
      "19: Message\n",
      "6\n",
      "Decrypted text: ¬©·ÀpÇp¿»ÅÅpÅÁ¿·ÁÀ·\n",
      "5\n",
      "zw",
      ">>>",
      "",
      "\n",
      "3\n",
      "\\Ygp w okuu uqogqpg\n",
      "2\n",
      "\\Wen u miss someone\n",
      "====================\n",
      "20: Message\n",
      "6\n",
      "Decrypted text:  ·È³p¿»À¶p»ÆwÅpÁ½~~\n",
      "5\n",
      "n",
      ">>E>LL\n",
      "3\n",
      "Pgxc okpf kv'u qm..\n",
      "2\n",
      "Neva mind it's ok..\n",
      "====================\n",
      "21: Message\n",
      "6\n",
      "Decrypted text: p´ÁÄÄÁÉpÇÄp´³¹pÁ½~\n",
      "5\n",
      "i>>>>L\n",
      "3\n",
      "K dqttqy wt dci qm.\n",
      "2\n",
      "I borrow ur bag ok.\n",
      "====================\n",
      "22: Message\n",
      "6\n",
      "Decrypted text: §pµ³Àpµ³¾¾p¿·pÀÁÉ~~~\n",
      "5\n",
      "u>>>",
      ">LLL\n",
      "3\n",
      "W ecp ecnn og pqy...\n",
      "2\n",
      "U can call me now...\n",
      "====================\n",
      "23: Message\n",
      "6\n",
      "Decrypted text: ÁÁ¶pÅÆÇ¸¸|pÉ»¾¾p¶Á~\n",
      "5\n",
      "g>J>>L\n",
      "3\n",
      "Iqqf uvwhh, yknn fq.\n",
      "2\n",
      "Good stuff, will do.\n",
      "====================\n",
      "24: Message\n",
      "6\n",
      "Decrypted text: ·pÀpº»¿pÅÁp¸ÇÀÀ±~~~\n",
      "5\n",
      "m",
      ">>>>LLL\n",
      "3\n",
      "Og p jko uq hwppa...\n",
      "2\n",
      "Me n him so funny...\n",
      "====================\n",
      "25: Message\n",
      "6\n",
      "Decrypted text: ¡ÁÂÅ~pp¹ÁÆpÆº³Æp´»Æ~\n",
      "5\n",
      "oL>R>>>L\n",
      "3\n",
      "Qqru. 4 iqv vjcv dkv.\n",
      "2\n",
      "Oops. 4 got that bit.\n",
      "====================\n",
      "26: Message\n",
      "6\n",
      "Decrypted text: ©º·Àpµ³Àp¯pµÁ¿·pÁÇÆ\n",
      "5\n",
      "w",
      ">>j}>",
      ">]\n",
      "3\n",
      "Yjgp ecp L_ eqog qwv?\n",
      "2\n",
      "When can J_ come out?\n",
      "====================\n",
      "27: Message\n",
      "6\n",
      "Decrypted text: »¶pÇpÄ·µ·»È·p¿±p¿Å¹\n",
      "5\n",
      "d>>",
      "",
      "",
      ">>]\n",
      "3\n",
      "Fkf w tgegkxg oa oui?\n",
      "2\n",
      "Did u receive my msg?\n",
      "====================\n",
      "28: Message\n",
      "6\n",
      "Decrypted text: ¦·¾¾pÉº·Ä·p±ÁÇpÄ·³µº·¶\n",
      "5\n",
      "t",
      ">",
      "",
      ">>",
      "",
      "\n",
      "3\n",
      "Vgnn yjgtg aqw tgcejgf\n",
      "2\n",
      "Tell where you reached\n",
      "====================\n",
      "29: Message\n",
      "6\n",
      "Decrypted text: ¥ÁÄÄ±|pw¾¾pµ³¾¾p¾³Æ·Ä\n",
      "5\n",
      "sJ>iE>>",
      "\n",
      "3\n",
      "Uqtta, K'nn ecnn ncvgt\n",
      "2\n",
      "Sorry, I'll call later\n",
      "====================\n",
      "30: Message\n",
      "6\n",
      "Decrypted text: Ä·p±ÁÇpÆº·Ä·p»ÀpÄÁÁ¿~\n",
      "5\n",
      "a",
      ">>",
      "",
      ">>L\n",
      "3\n",
      "Ctg aqw vjgtg kp tqqo.\n",
      "2\n",
      "Are you there in room.\n",
      "====================\n",
      "31: Message\n",
      "6\n",
      "Decrypted text: ¥ÁÄÄ±|pw¾¾pµ³¾¾p¾³Æ·Ä\n",
      "5\n",
      "sJ>iE>>",
      "\n",
      "3\n",
      "Uqtta, K'nn ecnn ncvgt\n",
      "2\n",
      "Sorry, I'll call later\n",
      "====================\n",
      "32: Message\n",
      "6\n",
      "Decrypted text: ÁÇp¹ÁÆpµ³¾¾·¶p³pÆÁÁ¾\n",
      "5\n",
      "_>>",
      ">>]\n",
      "3\n",
      "Aqw iqv ecnngf c vqqn?\n",
      "2\n",
      "You got called a tool?\n",
      "====================\n",
      "33: Message\n",
      "6\n",
      "Decrypted text: Ä·p±ÁÇpÆº»Åp¿Çµºp´Ç²±\n",
      "5\n",
      "a",
      ">>>>\n",
      "3\n",
      "Ctg aqw vjku owej dwba\n",
      "2\n",
      "Are you this much buzy\n",
      "====================\n",
      "34: Message\n",
      "6\n",
      "Decrypted text: ~½y³ÂÁp½~¹ÁÁ¶p¿ÁÈ»·~\n",
      "5\n",
      "kLXG>L>",
      "L\n",
      "3\n",
      "M.m:)crq m.iqqf oqxkg.\n",
      "2\n",
      "K.k:)apo k.good movie.\n",
      "====================\n",
      "35: Message\n",
      "6\n",
      "Decrypted text: ¥ÁÄÄ±|pw¾¾pµ³¾¾p¾³Æ·Ä\n",
      "5\n",
      "sJ>iE>>",
      "\n",
      "3\n",
      "Uqtta, K'nn ecnn ncvgt\n",
      "2\n",
      "Sorry, I'll call later\n",
      "====================\n",
      "36: Message\n",
      "6\n",
      "Decrypted text: ÆpÆÁÁ½pÄpÁÉ¾pp¾»µ½Å\n",
      "5\n",
      "i>>m>>Q>\n",
      "3\n",
      "Kv vqqm Ot qyn 3 nkemu\n",
      "2\n",
      "It took Mr owl 3 licks\n",
      "====================\n",
      "37: Message\n",
      "6\n",
      "Decrypted text: ÁÄÀ»À¹pÁÀ¾±p»pµ³ÀpÁ½~\n",
      "5\n",
      "m>>>>L\n",
      "3\n",
      "Oqtpkpi qpna k ecp qm.\n",
      "2\n",
      "Morning only i can ok.\n",
      "====================\n",
      "38: Message\n",
      "6\n",
      "Decrypted text: ·³¶»ÀpÆÁÉ³Ä¶Åp´ÇÅ·ÆÁÂ\n",
      "5\n",
      "h",
      ">>",
      "\n",
      "3\n",
      "Jgcfkp vqyctfu dwugvqr\n",
      "2\n",
      "Headin towards busetop\n",
      "====================\n",
      "39: Message\n",
      "6\n",
      "Decrypted text: ¥ÁÄÄ±|pw¾¾pµ³¾¾p¾³Æ·Ä\n",
      "5\n",
      "sJ>iE>>",
      "\n",
      "3\n",
      "Uqtta, K'nn ecnn ncvgt\n",
      "2\n",
      "Sorry, I'll call later\n",
      "====================\n",
      "40: Message\n",
      "6\n",
      "Decrypted text: ©³»Æppv¾Æsv¹Æpp¿»À~~\n",
      "5\n",
      "w>>DYADY>>LL\n",
      "3\n",
      "Yckv  &nv;#&iv;  okp..\n",
      "2\n",
      "Wait  &lt;#&gt;  min..\n",
      "====================\n",
      "41: Message\n",
      "6\n",
      "Decrypted text: ³Àp±ÁÇpÁÂ·ÀpÆº·p¶ÁÁÄ\n",
      "5\n",
      "c>>",
      ">",
      ">]\n",
      "3\n",
      "Ecp aqw qrgp vjg fqqt?\n",
      "2\n",
      "Can you open the door?\n",
      "====================\n",
      "42: Message\n",
      "6\n",
      "Decrypted text: ©³»Æ»À¹p¸ÁÄp±ÁÇÄpµ³¾¾~\n",
      "5\n",
      "w>>>L\n",
      "3\n",
      "Yckvkpi hqt aqwt ecnn.\n",
      "2\n",
      "Waiting for your call.\n",
      "====================\n",
      "43: Message\n",
      "6\n",
      "Decrypted text: ··Æp³¸Æ·Äp¾ÇÀµºp¾³~~~\n",
      "5\n",
      "m",
      "",
      ">",
      ">>LLL\n",
      "3\n",
      "Oggv chvgt nwpej nc...\n",
      "2\n",
      "Meet after lunch la...\n",
      "====================\n",
      "44: Message\n",
      "6\n",
      "Decrypted text: pº³È·p¿³À±p¶·Â·À¶·ÀÆÅ\n",
      "5\n",
      "i>",
      ">>",
      "",
      "",
      "\n",
      "3\n",
      "K jcxg ocpa fgrgpfgpvu\n",
      "2\n",
      "I have many dependents\n",
      "====================\n",
      "45: Message\n",
      "6\n",
      "Decrypted text: ¦º·Àp¿Ç¿wÅpÄ·Â·ÀÆpºÁÉ\n",
      "5\n",
      "t",
      ">E>",
      "",
      ">]\n",
      "3\n",
      "Vjgp owo'u tgrgpv jqy?\n",
      "2\n",
      "Then mum's repent how?\n",
      "====================\n",
      "46: Message\n",
      "6\n",
      "Decrypted text: ÅpÊ±p¹Á»À¹pp·p¾ÇÀµº\n",
      "5\n",
      "i>>>R>",
      ">]\n",
      "3\n",
      "Ku za iqkpi 4 g nwpej?\n",
      "2\n",
      "Is xy going 4 e lunch?\n",
      "====================\n",
      "47: Message\n",
      "6\n",
      "Decrypted text: ¥ÁÄÄ±|pw¾¾pµ³¾¾p¾³Æ·Ä\n",
      "5\n",
      "sJ>iE>>",
      "\n",
      "3\n",
      "Uqtta, K'nn ecnn ncvgt\n",
      "2\n",
      "Sorry, I'll call later\n",
      "====================\n",
      "48: Message\n",
      "6\n",
      "Decrypted text: ¥ÁÄÄ±|pw¾¾pµ³¾¾p¾³Æ·Ä\n",
      "5\n",
      "sJ>iE>>",
      "\n",
      "3\n",
      "Uqtta, K'nn ecnn ncvgt\n",
      "2\n",
      "Sorry, I'll call later\n",
      "====================\n",
      "49: Message\n",
      "6\n",
      "Decrypted text: p¶¾·¶p¶p»ÆÅpÈ·Ä±p»¿Â\n",
      "5\n",
      "i>",
      ">Q>>",
      ">\n",
      "3\n",
      "K fngf 3f kvu xgta kor\n",
      "2\n",
      "I dled 3d its very imp\n",
      "====================\n",
      "50: Message\n",
      "6\n",
      "Decrypted text: ·±~pÁÇp¹ÁÆp³À±p¿³»¾\n",
      "5\n",
      "h",
      "L>_>>>]\n",
      "3\n",
      "Jga. Aqw iqv cpa ockn?\n",
      "2\n",
      "Hey. You got any mail?\n",
      "====================\n",
      "51: Message\n",
      "6\n",
      "Decrypted text: Ä·p±ÁÇpÆº»Åp¿Çµºp´Ç²±\n",
      "5\n",
      "a",
      ">>>>\n",
      "3\n",
      "Ctg aqw vjku owej dwba\n",
      "2\n",
      "Are you this much buzy\n",
      "====================\n",
      "52: Message\n",
      "6\n",
      "Decrypted text: ¡½p»pÅº³¾¾pÆ³¾½pÆÁpº»¿\n",
      "5\n",
      "o>>>>>\n",
      "3\n",
      "Qm k ujcnn vcnm vq jko\n",
      "2\n",
      "Ok i shall talk to him\n",
      "====================\n",
      "53: Message\n",
      "6\n",
      "Decrypted text: Á¾pÀÁ~p§pµ³ÀpÆÄÇÅÆp¿·~\n",
      "5\n",
      "l>L>u>>>",
      "L\n",
      "3\n",
      "Nqn pq. W ecp vtwuv og.\n",
      "2\n",
      "Lol no. U can trust me.\n",
      "====================\n",
      "54: Message\n",
      "6\n",
      "Decrypted text: y½y¹ÁÁ¶yÅÆÇ¶±pÉ·¾¾~\n",
      "5\n",
      "kXGXGXG>",
      "L\n",
      "3\n",
      "M:)m:)iqqf:)uvwfa ygnn.\n",
      "2\n",
      "K:)k:)good:)study well.\n",
      "====================\n",
      "55: Message\n",
      "6\n",
      "Decrypted text: Á¸¸··pµ³½·|p»p¹Ç·ÅÅ~~~\n",
      "5\n",
      "c",
      "",
      ">",
      "J>>",
      "LLL\n",
      "3\n",
      "Eqhhgg ecmg, k iwguu...\n",
      "2\n",
      "Coffee cake, i guess...\n",
      "====================\n",
      "56: Message\n",
      "6\n",
      "Decrypted text: ³Àp±ÁÇpÅ³±pÉº³Æpº³ÂÂ·À\n",
      "5\n",
      "c>>>>",
      "\n",
      "3\n",
      "Ecp aqw uca yjcv jcrrgp\n",
      "2\n",
      "Can you say what happen\n",
      "====================\n",
      "57: Message\n",
      "6\n",
      "Decrypted text: ·³Äp»pº³È·pÄ·³µº·pÄÁÁ¿\n",
      "5\n",
      "d",
      ">>",
      ">",
      "",
      ">\n",
      "3\n",
      "Fgct k jcxg tgcejg tqqo\n",
      "2\n",
      "Dear i have reache room\n",
      "====================\n",
      "58: Message\n",
      "6\n",
      "Decrypted text: º·µ½pÉ»ÆºpÀÇ·ÄÁ¾Á¹»ÅÆ~\n",
      "5\n",
      "c",
      ">>",
      "L\n",
      "3\n",
      "Ejgem ykvj pwgtqnqikuv.\n",
      "2\n",
      "Check with nuerologist.\n",
      "====================\n",
      "59: Message\n",
      "6\n",
      "Decrypted text: Á¾pÁ½p±ÁÇÄp¸ÁÄ¹»È·Àpy\n",
      "5\n",
      "l>>>",
      ">XG\n",
      "3\n",
      "Nqn qm aqwt hqtikxgp :)\n",
      "2\n",
      "Lol ok your forgiven :)\n",
      "====================\n",
      "60: Message\n",
      "6\n",
      "Decrypted text: ¦º·Àp³À±pÅÂ·µ»³¾pÆº·Ä·\n",
      "5\n",
      "t",
      ">>",
      ">",
      "",
      "]\n",
      "3\n",
      "Vjgp cpa urgekcn vjgtg?\n",
      "2\n",
      "Then any special there?\n",
      "====================\n",
      "61: Message\n",
      "6\n",
      "Decrypted text: ¥ÁpÉº±p¶»¶ÀÆp±ÁÇpºÁ¾¾³\n",
      "5\n",
      "s>>>>]\n",
      "3\n",
      "Uq yja fkfpv aqw jqnnc?\n",
      "2\n",
      "So why didnt you holla?\n",
      "====================\n",
      "62: Message\n",
      "6\n",
      "Decrypted text: ¦º³Æp¿·³ÀÅp¹·ÆpÆº·p¶ÁÁÄ\n",
      "5\n",
      "t>",
      ">",
      ">",
      ">\n",
      "3\n",
      "Vjcv ogcpu igv vjg fqqt\n",
      "2\n",
      "That means get the door\n",
      "====================\n",
      "63: Message\n",
      "6\n",
      "Decrypted text: ¡ÀpÆº·pÄÁ³¶pÅÁpµ³ÀÆpÆÊÆ\n",
      "5\n",
      "o>",
      ">>>>\n",
      "3\n",
      "Qp vjg tqcf uq ecpv vzv\n",
      "2\n",
      "On the road so cant txt\n",
      "====================\n",
      "64: Message\n",
      "6\n"
     ]
    },
    {
     "name": "stdout",
     "output_type": "stream",
     "text": [
      "Decrypted text: ¥ÂÁÁÀÅp»Æp»ÅpÆº·ÀpÁ½³±\n",
      "5\n",
      "s>>>",
      ">]\n",
      "3\n",
      "Urqqpu kv ku vjgp qmca?\n",
      "2\n",
      "Spoons it is then okay?\n",
      "====================\n",
      "65: Message\n",
      "6\n",
      "Decrypted text: p³¿pÅÁÄÄ±p»ÆpºÇÄÆp±ÁÇ~\n",
      "5\n",
      "i>>>>>L\n",
      "3\n",
      "K co uqtta kv jwtv aqw.\n",
      "2\n",
      "I am sorry it hurt you.\n",
      "====================\n",
      "66: Message\n",
      "6\n",
      "Decrypted text: ©º·ÀpÇpÉ³À³pÅ··p»ÆpÆº·À\n",
      "5\n",
      "w",
      ">>>",
      "",
      ">>",
      "\n",
      "3\n",
      "Yjgp w ycpc ugg kv vjgp\n",
      "2\n",
      "When u wana see it then\n",
      "====================\n",
      "67: Message\n",
      "6\n",
      "Decrypted text: ¡ºp³¾¾pº³È·pÆÁpµÁ¿·p³º\n",
      "5\n",
      "o>>",
      ">>",
      ">]\n",
      "3\n",
      "Qj cnn jcxg vq eqog cj?\n",
      "2\n",
      "Oh all have to come ah?\n",
      "====================\n",
      "68: Message\n",
      "6\n",
      "Decrypted text:  Á~~´ÇÆpº·³Ä¶p³´ÆpÆ³Æ~~\n",
      "5\n",
      "nLL>",
      ">>LL\n",
      "3\n",
      "Pq..dwv jgctf cdv vcv..\n",
      "2\n",
      "No..but heard abt tat..\n",
      "====================\n",
      "69: Message\n",
      "6\n",
      "Decrypted text: ·pÉ»¾¾|p±ÁÇp¹Ç±Åpµ¾ÁÅ·\n",
      "5\n",
      "h",
      ">J>>>",
      "]\n",
      "3\n",
      "Jg yknn, aqw iwau enqug?\n",
      "2\n",
      "He will, you guys close?\n",
      "====================\n",
      "70: Message\n",
      "6\n",
      "Decrypted text: ÁÁ¶¿ÁÄÀ»À¹pÅ¾··Â»À¹p¹³~\n",
      "5\n",
      "g>",
      "",
      ">L\n",
      "3\n",
      "Iqqfoqtpkpi unggrkpi ic.\n",
      "2\n",
      "Goodmorning sleeping ga.\n",
      "====================\n",
      "71: Message\n",
      "6\n",
      "Decrypted text: ÇÂ~~~pÁÉp¯pÀÁ·p¾·º~~~\n",
      "5\n",
      "_LLL>h>j}>",
      ">",
      "LLL\n",
      "3\n",
      "Awr... Jqy L_ pqg ngj...\n",
      "2\n",
      "Yup... How J_ noe leh...\n",
      "====================\n",
      "72: Message\n",
      "6\n",
      "Decrypted text: ·p»Åp³pÉÁ¿¶³Ä¸Ç¾¾p³µÆÁÄ\n",
      "5\n",
      "h",
      ">>>>\n",
      "3\n",
      "Jg ku c yqofcthwnn cevqt\n",
      "2\n",
      "He is a womdarfull actor\n",
      "====================\n",
      "73: Message\n",
      "6\n",
      "Decrypted text: Ä»À¹pºÁ¿·pÅÁ¿·p©·À¶±p\n",
      "5\n",
      "b>",
      ">",
      ">w",
      ">[d\n",
      "3\n",
      "Dtkpi jqog uqog Ygpfa =F\n",
      "2\n",
      "Bring home some Wendy =D\n",
      "====================\n",
      "74: Message\n",
      "6\n",
      "Decrypted text: ¥»È³p»Åp»ÀpºÁÅÆ·¾p³º³}~\n",
      "5\n",
      "s>>>",
      ">XKL\n",
      "3\n",
      "Ukxc ku kp jquvgn cjc:-.\n",
      "2\n",
      "Siva is in hostel aha:-.\n",
      "====================\n",
      "75: Message\n",
      "6\n",
      "Decrypted text: ÆpºÁ¿·pÉ³Æµº»À¹pÆÈp¾ÁÄ~\n",
      "5\n",
      "a>",
      ">>>L\n",
      "3\n",
      "Cv jqog ycvejkpi vx nqt.\n",
      "2\n",
      "At home watching tv lor.\n",
      "====================\n",
      "76: Message\n",
      "6\n",
      "Decrypted text: ©º³ÆwÅpÆº·pÅ»¹À»¸»µ³Àµ·\n",
      "5\n",
      "wE>",
      ">",
      "]\n",
      "3\n",
      "Yjcv'u vjg ukipkhkecpeg?\n",
      "2\n",
      "What's the significance?\n",
      "====================\n",
      "77: Message\n",
      "6\n",
      "Decrypted text: ÁÇpÅÆ»¾¾p³Æp¹Ä³À¶pÂÄ»Ê\n",
      "5\n",
      "_>>>>]\n",
      "3\n",
      "Aqw uvknn cv itcpf rtkz?\n",
      "2\n",
      "You still at grand prix?\n",
      "====================\n",
      "78: Message\n",
      "6\n",
      "Decrypted text: p³¿p¹Ä·³ÆqpÁÉp³Ä·p±ÁÇ\n",
      "5\n",
      "i>>",
      "?>h>",
      ">]\n",
      "3\n",
      "K co itgcv! Jqy ctg aqw?\n",
      "2\n",
      "I am great! How are you?\n",
      "====================\n",
      "79: Message\n",
      "6\n",
      "Decrypted text: ³ÇÅ·pw¿pÀÁÆp¸Ä·³½±p¾Á¾\n",
      "5\n",
      "c",
      ">iE>>",
      ">\n",
      "3\n",
      "Ecwug K'o pqv htgcma nqn\n",
      "2\n",
      "Cause I'm not freaky lol\n",
      "====================\n",
      "80: Message\n",
      "6\n",
      "Decrypted text: ~½yÉº·Àp³Ä·p±ÁÇp¹Á»À¹\n",
      "5\n",
      "kLXG",
      ">",
      ">>]\n",
      "3\n",
      "M.m:)yjgp ctg aqw iqkpi?\n",
      "2\n",
      "K.k:)when are you going?\n",
      "====================\n",
      "81: Message\n",
      "6\n",
      "Decrypted text: ÁÇÄp´ÄÁÆº·Äp»Åp³p¹·À»ÇÅ\n",
      "5\n",
      "_>",
      ">>>",
      "\n",
      "3\n",
      "Aqwt dtqvjgt ku c igpkwu\n",
      "2\n",
      "Your brother is a genius\n",
      "====================\n",
      "82: Message\n",
      "6\n",
      "Decrypted text: »´´ÅpÇÀÅÁ¾¶~¿»½·pºÇÅÅ·±\n",
      "5\n",
      "g>L",
      ">",
      "\n",
      "3\n",
      "Ikddu wpuqnf.okmg jwuuga\n",
      "2\n",
      "Gibbs unsold.mike hussey\n",
      "====================\n",
      "83: Message\n",
      "6\n",
      "Decrypted text: ÁÇpÇÀ´·¾»·È³´¾·p¸³¹¾ÁÄ¶\n",
      "5\n",
      "_>",
      "",
      "",
      ">\n",
      "3\n",
      "Aqw wpdgnkgxcdng hcinqtf\n",
      "2\n",
      "You unbelievable faglord\n",
      "====================\n",
      "84: Message\n",
      "6\n",
      "Decrypted text: ©º±p¶Áp±ÁÇp³Å½pÂÄ»Àµ·ÅÅ\n",
      "5\n",
      "w>>>>",
      "]\n",
      "3\n",
      "Yja fq aqw cum rtkpeguu?\n",
      "2\n",
      "Why do you ask princess?\n",
      "====================\n",
      "85: Message\n",
      "6\n",
      "Decrypted text: y½~³Ä·p±ÁÇp»ÀpµÁ¾¾·¹·\n",
      "5\n",
      "kXGL",
      ">>>",
      "",
      "]\n",
      "3\n",
      "M:)m.ctg aqw kp eqnngig?\n",
      "2\n",
      "K:)k.are you in college?\n",
      "====================\n",
      "86: Message\n",
      "6\n",
      "Decrypted text: º½p»ÀpÇÄp´·¾ÁÈ¶p¿Åp¶»µÆ\n",
      "5\n",
      "c>>>",
      ">>\n",
      "3\n",
      "Ejm kp wt dgnqxf ou fkev\n",
      "2\n",
      "Chk in ur belovd ms dict\n",
      "====================\n",
      "87: Message\n",
      "6\n",
      "Decrypted text: ¥º´p´pÁ½p¾ÁÄ~~~p¦º³ÀÊ~~~\n",
      "5\n",
      "s>>>LLL>tLLL\n",
      "3\n",
      "Ujd d qm nqt... Vjcpz...\n",
      "2\n",
      "Shb b ok lor... Thanx...\n",
      "====================\n",
      "88: Message\n",
      "6\n",
      "Decrypted text: ºpÇpÅ·À¶pÉÄÁÀ¹¾±p¾³Ä~~~\n",
      "5\n",
      "e>>",
      ">>LLL\n",
      "3\n",
      "Gj w ugpf ytqpina nct...\n",
      "2\n",
      "Eh u send wrongly lar...\n",
      "====================\n",
      "89: Message\n",
      "6\n",
      "Decrypted text: ÆÅp³pÂ³ÄÆpÁ¸pµº·µ½»À¹p£\n",
      "5\n",
      "i>>>>",
      ">iq\n",
      "3\n",
      "Kvu c rctv qh ejgemkpi KS\n",
      "2\n",
      "Its a part of checking IQ\n",
      "====================\n",
      "90: Message\n",
      "6\n",
      "Decrypted text: »ÄÅÆp³ÀÅÉ·Äp¿±pÃÇ·ÅÆ»ÁÀ~\n",
      "5\n",
      "f>",
      ">>",
      "L\n",
      "3\n",
      "Hktuv cpuygt oa swguvkqp.\n",
      "2\n",
      "First answer my question.\n",
      "====================\n",
      "91: Message\n",
      "6\n",
      "Decrypted text: ·ÅpÅ··p±³pÀÁÆpÁÀpÆº·p¶ÁÆ\n",
      "5\n",
      "_",
      ">",
      "",
      ">>>>",
      ">\n",
      "3\n",
      "Agu ugg ac pqv qp vjg fqv\n",
      "2\n",
      "Yes see ya not on the dot\n",
      "====================\n",
      "92: Message\n",
      "6\n",
      "Decrypted text: ¡½~~~p§ÄpÆ±Â»µ³¾pÄ·Â¾±~~~\n",
      "5\n",
      "oLLL>u>>",
      "LLL\n",
      "3\n",
      "Qm... Wt varkecn tgrna...\n",
      "2\n",
      "Ok... Ur typical reply...\n",
      "====================\n",
      "93: Message\n",
      "6\n",
      "Decrypted text: §pµ³¾¾p¿·p³¾Æ·Äp³ÆppÁ½~\n",
      "5\n",
      "u>>",
      ">",
      ">>OO>L\n",
      "3\n",
      "W ecnn og cnvgt cv 11 qm.\n",
      "2\n",
      "U call me alter at 11 ok.\n",
      "====================\n",
      "94: Message\n",
      "6\n",
      "Decrypted text: ¡½pÀÁpÂÄÁ´~p¦³½·pÇÄpÆ»¿·~\n",
      "5\n",
      "o>>L>t",
      ">>",
      "L\n",
      "3\n",
      "Qm pq rtqd. Vcmg wt vkog.\n",
      "2\n",
      "Ok no prob. Take ur time.\n",
      "====================\n",
      "95: Message\n",
      "6\n",
      "Decrypted text: ÇºpÅÁp¾³Æ·~~~pÄp¶»ÀÀ·Ä\n",
      "5\n",
      "h>>",
      "LLL>f>",
      "]\n",
      "3\n",
      "Jwj uq ncvg... Ht fkppgt?\n",
      "2\n",
      "Huh so late... Fr dinner?\n",
      "====================\n",
      "96: Message\n",
      "6\n",
      "Decrypted text: ¡½~p¥º·w¾¾p´·pÁ½~pp¹Ç·ÅÅ\n",
      "5\n",
      "oL>s",
      "E>",
      ">L>i>",
      "\n",
      "3\n",
      "Qm. Ujg'nn dg qm. K iwguu\n",
      "2\n",
      "Ok. She'll be ok. I guess\n",
      "====================\n",
      "97: Message\n",
      "6\n",
      "Decrypted text: ÁÁ½·¶pÆ»µ½·Æp¸ÁÄpÂÁÀ¹³¾\n",
      "5\n",
      "b",
      ">",
      ">>]\n",
      "3\n",
      "Dqqmgf vkemgv hqt rqpicn?\n",
      "2\n",
      "Booked ticket for pongal?\n",
      "====================\n",
      "98: Message\n",
      "6\n",
      "Decrypted text:  Á~~¼ÅÆpµº³À¹·pÆ³ÆpÁÀ¾±~~\n",
      "5\n",
      "nLL>",
      ">>LL\n",
      "3\n",
      "Pq..luv ejcpig vcv qpna..\n",
      "2\n",
      "No..jst change tat only..\n",
      "====================\n",
      "99: Message\n",
      "6\n",
      "Decrypted text: ¦³·p³¤pÀp¹¦p©·pÅ¡¡À\n",
      "5\n",
      "tk",
      ">cre>>et>w",
      "ll>oo\n",
      "3\n",
      "VcMg EcTG p iGV YgNN uQQp\n",
      "2\n",
      "TaKe CaRE n gET WeLL sOOn\n",
      "====================\n",
      "100: Message\n",
      "6\n",
      "Decrypted text: ÁÄp¿±p¸³¿»¾±pº³ÂÂ»À·ÅÅ~~\n",
      "5\n",
      "f>>>",
      "LL\n",
      "3\n",
      "Hqt oa hcokna jcrrkpguu..\n",
      "2\n",
      "For my family happiness..\n",
      "====================\n",
      "101: Message\n",
      "6\n",
      "Decrypted text: ³È·p³p¹ÁÁ¶p·È·À»À¹qp¦Æ±¾\n",
      "5\n",
      "h",
      ">>>",
      "",
      "?>t\n",
      "3\n",
      "Jcxg c iqqf gxgpkpi! Vvan\n",
      "2\n",
      "Have a good evening! Ttyl\n",
      "====================\n",
      "102: Message\n",
      "6\n",
      "Decrypted text: ¦º³Æp»ÅpÉÁÀ¶³Äp¸Ç¾¾p¸¾»¿~\n",
      "5\n",
      "t>>>>L\n",
      "3\n",
      "Vjcv ku yqpfct hwnn hnko.\n",
      "2\n",
      "That is wondar full flim.\n",
      "====================\n",
      "103: Message\n",
      "6\n",
      "Decrypted text: ©»Åºp»pÉ·Ä·pÉ»Æºp±ÁÇpÀÁÉq\n",
      "5\n",
      "w>>",
      "",
      ">>>?\n",
      "3\n",
      "Ykuj k ygtg ykvj aqw pqy!\n",
      "2\n",
      "Wish i were with you now!\n",
      "====================\n",
      "104: Message\n",
      "6\n",
      "Decrypted text: pw¾¾p´·pÆº·Ä·p´·¸ÁÄ·p~\n",
      "5\n",
      "k>iE>",
      ">",
      "",
      ">",
      "",
      ">RL\n",
      "3\n",
      "M K'nn dg vjgtg dghqtg 4.\n",
      "2\n",
      "K I'll be there before 4.\n",
      "====================\n",
      "105: Message\n",
      "6\n",
      "Decrypted text: ³È·p³p¹ÁÁ¶p·È·À»À¹qp¦Æ±¾\n",
      "5\n",
      "h",
      ">>>",
      "",
      "?>t\n",
      "3\n",
      "Jcxg c iqqf gxgpkpi! Vvan\n",
      "2\n",
      "Have a good evening! Ttyl\n",
      "====================\n",
      "106: Message\n",
      "6\n",
      "Decrypted text: ¡ºp½~~~»w¿pÉ³Æµº»À¹pº·Ä·y\n",
      "5\n",
      "o>LLLE>>",
      "",
      "XG\n",
      "3\n",
      "Qj m...k'o ycvejkpi jgtg:)\n",
      "2\n",
      "Oh k...i'm watching here:)\n",
      "====================\n",
      "107: Message\n",
      "6\n",
      "Decrypted text: §pÅÆ»¾¾p¹Á»À¹pÆÁpÆº·p¿³¾¾\n",
      "5\n",
      "u>>>>",
      ">]\n",
      "3\n",
      "W uvknn iqkpi vq vjg ocnn?\n",
      "2\n",
      "U still going to the mall?\n",
      "====================\n",
      "108: Message\n",
      "6\n",
      "Decrypted text: Á»À¹pÁÀpÀÁÆº»À¹p¹Ä·³Æ~´±·\n",
      "5\n",
      "g>>>",
      "L",
      "\n",
      "3\n",
      "Iqkpi qp pqvjkpi itgcv.dag\n",
      "2\n",
      "Going on nothing great.bye\n",
      "====================\n",
      "109: Message\n",
      "6\n",
      "Decrypted text: Á¿·pÅÁpÉ·pµ³Àp³¾É³±Åpµº³Æ\n",
      "5\n",
      "h",
      ">>",
      ">>>\n",
      "3\n",
      "Jqog uq yg ecp cnycau ejcv\n",
      "2\n",
      "Home so we can always chat\n",
      "====================\n",
      "110: Message\n",
      "6\n",
      "Decrypted text: ©º±p±ÁÇp»ÀÆpµÁ¿·pÉ»ÆºpÇÅ~\n",
      "5\n",
      "w>>d>",
      ">>L\n",
      "3\n",
      "Yja aqw Fkpv eqog ykvj wu.\n",
      "2\n",
      "Why you Dint come with us.\n",
      "====================\n",
      "111: Message\n",
      "6\n",
      "Decrypted text: ÁÅp³Å½p»¸pÇpÉ³À³p¿··ÆpÇÂ\n",
      "5\n",
      "j>>>>>",
      "",
      ">]\n",
      "3\n",
      "Lqu cum kh w ycpc oggv wr?\n",
      "2\n",
      "Jos ask if u wana meet up?\n",
      "====================\n",
      "112: Message\n",
      "6\n",
      "Decrypted text: ~½y³¶È³Àµ·pº³ÂÂ±pÂÁÀ¹³¾~\n",
      "5\n",
      "kLXG",
      ">>L\n",
      "3\n",
      "M.m:)cfxcpeg jcrra rqpicn.\n",
      "2\n",
      "K.k:)advance happy pongal.\n",
      "====================\n",
      "113: Message\n",
      "6\n",
      "Decrypted text: ÇÅÆpÅ¾··Â»À¹~~³À¶pÅÇÄ¸»À¹\n",
      "5\n",
      "j>",
      "",
      "LL>\n",
      "3\n",
      "Lwuv unggrkpi..cpf uwthkpi\n",
      "2\n",
      "Just sleeping..and surfing\n",
      "====================\n",
      "114: Message\n",
      "6\n",
      "Decrypted text: ©³ÆpÇÀ»¸ÁÄ¿pÀpÉº·Ä·p¹·Æ\n",
      "5\n",
      "w>]>i>",
      "",
      ">",
      "]\n",
      "3\n",
      "Ycv wpkhqto? Kp yjgtg igv?\n",
      "2\n",
      "Wat uniform? In where get?\n",
      "====================\n",
      "115: Message\n",
      "6\n",
      "Decrypted text: ¥yÀÁpµÁ¿Â·Æ»Æ»ÁÀp¸ÁÄpº»¿~\n",
      "5\n",
      "sXG>",
      ">>L\n",
      "3\n",
      "U:)pq eqorgvkvkqp hqt jko.\n",
      "2\n",
      "S:)no competition for him.\n",
      "====================\n",
      "116: Message\n",
      "6\n",
      "Decrypted text: ¥º³¾¾p»pµÁ¿·pÆÁp¹·ÆpÂ»µ½¾·\n",
      "5\n",
      "s>>",
      ">>",
      ">",
      "\n",
      "3\n",
      "Ujcnn k eqog vq igv rkemng\n",
      "2\n",
      "Shall i come to get pickle\n",
      "====================\n",
      "117: Message\n",
      "6\n",
      "Decrypted text: »p¿Å¹p¿·y»w¿p»ÀpÁ¸¸»µ·~~\n",
      "5\n",
      "h>>",
      "XGE>>",
      "LL\n",
      "3\n",
      "Jk oui og:)k'o kp qhhkeg..\n",
      "2\n",
      "Hi msg me:)i'm in office..\n",
      "====================\n",
      "118: Message\n",
      "6\n",
      "Decrypted text: ©¡¦p§p©  p¡p¦ p¥¥\n",
      "5\n",
      "wot>u>wanna>do>then>miss_]\n",
      "3\n",
      "YQV W YCPPC FQ VJGP OKUUA?\n",
      "2\n",
      "WOT U WANNA DO THEN MISSY?\n",
      "====================\n",
      "119: Message\n",
      "6\n",
      "Decrypted text: »À·p»p¿»ÅÅp±ÁÇpÈ·Ä±p¿Çµº~\n",
      "5\n",
      "f",
      ">>>>",
      ">L\n",
      "3\n",
      "Hkpg k okuu aqw xgta owej.\n",
      "2\n",
      "Fine i miss you very much.\n",
      "====================\n",
      "120: Message\n",
      "6\n",
      "Decrypted text: ÇÅÆpÅ¾··Â»À¹~~³À¶pÅÇÄ¸»À¹\n",
      "5\n",
      "j>",
      "",
      "LL>\n",
      "3\n",
      "Lwuv unggrkpi..cpf uwthkpi\n",
      "2\n",
      "Just sleeping..and surfing\n",
      "====================\n",
      "121: Message\n",
      "6\n",
      "Decrypted text: ¥yÅ~À·ÄÈÁÇÅppv¾Æsv¹Æpy\n",
      "5\n",
      "sXGL",
      ">>DYADY>XG\n",
      "3\n",
      "U:)u.pgtxqwu  &nv;#&iv; :)\n",
      "2\n",
      "S:)s.nervous  &lt;#&gt; :)\n",
      "====================\n",
      "122: Message\n",
      "6\n"
     ]
    },
    {
     "name": "stdout",
     "output_type": "stream",
     "text": [
      "Decrypted text: ¥ÇÄ·¾±pÄ·ÅÇ¾ÆpÉ»¾¾pÁ¸¸·Äy\n",
      "5\n",
      "s",
      ">",
      ">>",
      "XG\n",
      "3\n",
      "Uwtgna tguwnv yknn qhhgt:)\n",
      "2\n",
      "Surely result will offer:)\n",
      "====================\n",
      "123: Message\n",
      "6\n",
      "Decrypted text: ¦º·Àp¶ÇÀpÉ·³Äp¼·³ÀÅp¾ÁÄ~~~\n",
      "5\n",
      "t",
      ">>",
      ">",
      ">LLL\n",
      "3\n",
      "Vjgp fwp ygct lgcpu nqt...\n",
      "2\n",
      "Then dun wear jeans lor...\n",
      "====================\n",
      "124: Message\n",
      "6\n",
      "Decrypted text: ©·¾Âp³ÂÂ³Ä·ÀÆ¾±pº·pÄ·Æ»Ä·¶\n",
      "5\n",
      "w",
      ">",
      ">",
      ">",
      "",
      "\n",
      "3\n",
      "Ygnr crrctgpvna jg tgvktgf\n",
      "2\n",
      "Welp apparently he retired\n",
      "====================\n",
      "125: Message\n",
      "6\n",
      "Decrypted text: §¿¿³~p»¶pÅº·pÅ³±p³À±Æº»À¹\n",
      "5\n",
      "uL>d>",
      ">>\n",
      "3\n",
      "Wooc. Fkf ujg uca cpavjkpi\n",
      "2\n",
      "Umma. Did she say anything\n",
      "====================\n",
      "126: Message\n",
      "6\n",
      "Decrypted text: À±Æº»À¹p¾ÁÄ~~~p§p¶·µ»¶·~~~\n",
      "5\n",
      "a>LLL>u>",
      "",
      "LLL\n",
      "3\n",
      "Cpavjkpi nqt... W fgekfg...\n",
      "2\n",
      "Anything lor... U decide...\n",
      "====================\n",
      "127: Message\n",
      "6\n",
      "Decrypted text: ¥»Ä|p©³»Æ»À¹p¸ÁÄp±ÁÇÄp¿³»¾~\n",
      "5\n",
      "sJ>w>>>L\n",
      "3\n",
      "Ukt, Yckvkpi hqt aqwt ockn.\n",
      "2\n",
      "Sir, Waiting for your mail.\n",
      "====================\n",
      "128: Message\n",
      "6\n",
      "Decrypted text: w¿p¾·³È»À¹p¿±pºÁÇÅ·pÀÁÉ~~~\n",
      "5\n",
      "iE>",
      ">>",
      ">LLL\n",
      "3\n",
      "K'o ngcxkpi oa jqwug pqy...\n",
      "2\n",
      "I'm leaving my house now...\n",
      "====================\n",
      "129: Message\n",
      "6\n",
      "Decrypted text: ©º³Æp±ÁÇp¶Á»À¹ºÁÉp³Ä·p±ÁÇ\n",
      "5\n",
      "w>>]>",
      ">]\n",
      "3\n",
      "Yjcv aqw fqkpi?jqy ctg aqw?\n",
      "2\n",
      "What you doing?how are you?\n",
      "====================\n",
      "130: Message\n",
      "6\n",
      "Decrypted text: ³³Æº»~~Éº·Ä·p³Ä·p±ÁÇp¶·³Ä~~\n",
      "5\n",
      "LL",
      "",
      ">",
      ">>",
      "LL\n",
      "3\n",
      "ccvjk..yjgtg ctg aqw fgct..\n",
      "2\n",
      "aathi..where are you dear..\n",
      "====================\n",
      "131: Message\n",
      "6\n",
      "Decrypted text: ³pÅÄÅ¾±p´·ÆÆ·ÄpÆº³Àp±»pÆºÁ\n",
      "5\n",
      "_>>",
      "",
      ">>>\n",
      "3\n",
      "Ac utuna dgvvgt vjcp ak vjq\n",
      "2\n",
      "Ya srsly better than yi tho\n",
      "====================\n",
      "132: Message\n",
      "6\n",
      "Decrypted text: ÁÀÆp¹»¿¿·pÆº³Æp¾»Âpµ³È·´Á±\n",
      "5\n",
      "d>",
      ">>>",
      "\n",
      "3\n",
      "Fqpv ikoog vjcv nkr ecxgdqa\n",
      "2\n",
      "Dont gimme that lip caveboy\n",
      "====================\n",
      "133: Message\n",
      "6\n",
      "Decrypted text: ¦º·ÀpÉº±p±ÁÇpÀÁÆpÄ·ÅÂÁÀ¶»À¹\n",
      "5\n",
      "t",
      ">>>>",
      "\n",
      "3\n",
      "Vjgp yja aqw pqv tgurqpfkpi\n",
      "2\n",
      "Then why you not responding\n",
      "====================\n",
      "134: Message\n",
      "6\n",
      "Decrypted text: ³º³º³~~ÇÅ·p±ÁÇÄp´Ä³»Àp¶·³Ä\n",
      "5\n",
      "hLL",
      ">>>",
      "\n",
      "3\n",
      "Jcjcjc..wug aqwt dtckp fgct\n",
      "2\n",
      "Hahaha..use your brain dear\n",
      "====================\n",
      "135: Message\n",
      "6\n",
      "Decrypted text: Ç¶·pÉ·pÅºÁÇ¾¶p¹ÁpÅÇÂp³¹³»À\n",
      "5\n",
      "d",
      ">",
      ">>>>\n",
      "3\n",
      "Fwfg yg ujqwnf iq uwr cickp\n",
      "2\n",
      "Dude we should go sup again\n",
      "====================\n",
      "136: Message\n",
      "6\n",
      "Decrypted text: pÅ··pÆº·p¾·ÆÆ·ÄppÁÀp¿±pµ³Ä\n",
      "5\n",
      "i>",
      "",
      ">",
      ">",
      "",
      ">b>>>\n",
      "3\n",
      "K ugg vjg ngvvgt D qp oa ect\n",
      "2\n",
      "I see the letter B on my car\n",
      "====================\n",
      "137: Message\n",
      "6\n",
      "Decrypted text: ~~½yºÁÉp¿Çµºp¶Á·Åp»ÆpµÁÅÆ\n",
      "5\n",
      "kLLXG>>",
      ">>]\n",
      "3\n",
      "M..m:)jqy owej fqgu kv equv?\n",
      "2\n",
      "K..k:)how much does it cost?\n",
      "====================\n",
      "138: Message\n",
      "6\n",
      "Decrypted text: ³ÁÁÁÁÄ»¹ºÆp³Ä·p±ÁÇp³ÆpÉÁÄ½\n",
      "5\n",
      "a>",
      ">>>]\n",
      "3\n",
      "Ccqqqqtkijv ctg aqw cv yqtm?\n",
      "2\n",
      "Aaooooright are you at work?\n",
      "====================\n",
      "139: Message\n",
      "6\n",
      "Decrypted text: Ç¶p¿ÄÀ¹p¶·³Äpº³Èp³pÀ»µ·p¶³±\n",
      "5\n",
      "g>>",
      ">>>",
      ">\n",
      "3\n",
      "Iwf otpi fgct jcx c pkeg fca\n",
      "2\n",
      "Gud mrng dear hav a nice day\n",
      "====================\n",
      "140: Message\n",
      "6\n",
      "Decrypted text: »¶pÇp¹ÁÆpÆº³ÆpÂ·ÄÅÁÀÅpÅÆÁÄ±\n",
      "5\n",
      "d>>>>",
      ">\n",
      "3\n",
      "Fkf w iqv vjcv rgtuqpu uvqta\n",
      "2\n",
      "Did u got that persons story\n",
      "====================\n",
      "141: Message\n",
      "6\n",
      "Decrypted text: pÅ·ÀÆp±ÁÇppv¾Æsv¹Æpp´Çµ½Å\n",
      "5\n",
      "i>",
      ">>>DYADY>>\n",
      "3\n",
      "K ugpv aqw  &nv;#&iv;  dwemu\n",
      "2\n",
      "I sent you  &lt;#&gt;  bucks\n",
      "====================\n",
      "142: Message\n",
      "6\n",
      "Decrypted text: »¹ºÆp±Á|p¶³ÆÅpÅÆÄ³»¹ºÆp¶Á¹¹\n",
      "5\n",
      "a>J>>>\n",
      "3\n",
      "Ckijv aq, fcvu uvtckijv fqii\n",
      "2\n",
      "Aight yo, dats straight dogg\n",
      "====================\n",
      "143: Message\n",
      "6\n",
      "Decrypted text: ¡½pÆº³ÆwÅp¹Ä·³ÆpÆº³ÀÊp³p¾ÁÆ~\n",
      "5\n",
      "o>E>",
      ">>>L\n",
      "3\n",
      "Qm vjcv'u itgcv vjcpz c nqv.\n",
      "2\n",
      "Ok that's great thanx a lot.\n",
      "====================\n",
      "144: Message\n",
      "6\n",
      "Decrypted text: ÁÈ·p±ÁÇp³³Æº»~~¾ÁÈ·pÇp¾ÁÆ~~\n",
      "5\n",
      "l",
      ">>LL",
      ">>LL\n",
      "3\n",
      "Nqxg aqw ccvjk..nqxg w nqv..\n",
      "2\n",
      "Love you aathi..love u lot..\n",
      "====================\n",
      "145: Message\n",
      "6\n",
      "Decrypted text: ¾¿ÁÅÆpÆº·Ä·|pÅ··pÇp»Àp³pÅ·µ\n",
      "5\n",
      "a>",
      "",
      "J>",
      "",
      ">>>>",
      "\n",
      "3\n",
      "Cnoquv vjgtg, ugg w kp c uge\n",
      "2\n",
      "Almost there, see u in a sec\n",
      "====================\n",
      "146: Message\n",
      "6\n",
      "Decrypted text: ©·Ä·p¹ÁÀÀ³p¹Áp¹·ÆpÅÁ¿·pÆ³µÁÅ\n",
      "5\n",
      "w",
      "",
      ">>>",
      ">",
      ">\n",
      "3\n",
      "Ygtg iqppc iq igv uqog vcequ\n",
      "2\n",
      "Were gonna go get some tacos\n",
      "====================\n",
      "147: Message\n",
      "6\n",
      "Decrypted text: »¶pÇp¹ÁÆpÆº³ÆpÂ·ÄÅÁÀÅpÅÆÁÄ±\n",
      "5\n",
      "d>>>>",
      ">\n",
      "3\n",
      "Fkf w iqv vjcv rgtuqpu uvqta\n",
      "2\n",
      "Did u got that persons story\n",
      "====================\n",
      "148: Message\n",
      "6\n",
      "Decrypted text: Ç¶p¿ÄÀ¹p¶·³Äpº³Èp³pÀ»µ·p¶³±\n",
      "5\n",
      "g>>",
      ">>>",
      ">\n",
      "3\n",
      "Iwf otpi fgct jcx c pkeg fca\n",
      "2\n",
      "Gud mrng dear hav a nice day\n",
      "====================\n",
      "149: Message\n",
      "6\n",
      "Decrypted text: Éº³Æp»Åp±ÁÇÄp³µµÁÇÀÆpÀÇ¿´·Ä\n",
      "5\n",
      ">>>>",
      "]\n",
      "3\n",
      "yjcv ku aqwt ceeqwpv pwodgt?\n",
      "2\n",
      "what is your account number?\n",
      "====================\n",
      "150: Message\n",
      "6\n",
      "Decrypted text: Áp¹Ç·ÅÅpÉº³Æpp¼ÇÅÆp¶ÄÁÂÂ·¶\n",
      "5\n",
      "_>",
      ">>i>>",
      "\n",
      "3\n",
      "Aq iwguu yjcv K lwuv ftqrrgf\n",
      "2\n",
      "Yo guess what I just dropped\n",
      "====================\n",
      "151: Message\n",
      "6\n",
      "Decrypted text: ¡½p¾³Ä~~~pÁ½»À¹pÉ»¸pÇpÁÀ»~~~\n",
      "5\n",
      "o>LLL>j>>>LLL\n",
      "3\n",
      "Qm nct... Lqmkpi ykh w qpk...\n",
      "2\n",
      "Ok lar... Joking wif u oni...\n",
      "====================\n",
      "152: Message\n",
      "6\n",
      "Decrypted text: pÆ·¾¾p¿·p³À±Æº»À¹p³´ÁÇÆp±ÁÇ~\n",
      "5\n",
      "k>",
      ">",
      ">>>L\n",
      "3\n",
      "M vgnn og cpavjkpi cdqwv aqw.\n",
      "2\n",
      "K tell me anything about you.\n",
      "====================\n",
      "153: Message\n",
      "6\n",
      "Decrypted text: »À»Åº·¶pµ¾³ÅÅpÉº·Ä·p³Ä·p±ÁÇ~\n",
      "5\n",
      "f",
      ">>",
      "",
      ">",
      ">L\n",
      "3\n",
      "Hkpkujgf encuu yjgtg ctg aqw.\n",
      "2\n",
      "Finished class where are you.\n",
      "====================\n",
      "154: Message\n",
      "6\n",
      "Decrypted text: ¡½~pp³Å½·¶p¸ÁÄp¿ÁÀ·±pºÁÉp¸³Ä\n",
      "5\n",
      "oL>i>",
      ">>",
      ">>\n",
      "3\n",
      "Qm. K cumgf hqt oqpga jqy hct\n",
      "2\n",
      "Ok. I asked for money how far\n",
      "====================\n",
      "155: Message\n",
      "6\n",
      "Decrypted text: ©º·Ä·pÇp´··Àpº»¶»À¹pÅÆÄ³À¹·Ä\n",
      "5\n",
      "w",
      "",
      ">>",
      "",
      ">>",
      "]\n",
      "3\n",
      "Yjgtg w dggp jkfkpi uvtcpigt?\n",
      "2\n",
      "Where u been hiding stranger?\n",
      "====================\n",
      "156: Message\n",
      "6\n",
      "Decrypted text: ¾Ä»¹ºÆp»pº³È·p³pÀ·Ép¹Á³¾pÀÁÉ\n",
      "5\n",
      "a>>",
      ">>",
      ">>\n",
      "3\n",
      "Cntkijv k jcxg c pgy iqcn pqy\n",
      "2\n",
      "Alright i have a new goal now\n",
      "====================\n",
      "157: Message\n",
      "6\n",
      "Decrypted text: ¥ÁÄÄ±|pw¾¾pµ³¾¾p¾³Æ·ÄpÁ½p´±·\n",
      "5\n",
      "sJ>iE>>",
      ">>",
      "\n",
      "3\n",
      "Uqtta, K'nn ecnn ncvgt qm dag\n",
      "2\n",
      "Sorry, I'll call later ok bye\n",
      "====================\n",
      "158: Message\n",
      "6\n",
      "Decrypted text: ¡½p»p³¿pÁÀpÆº·pÉ³±pÆÁpÄ³»¾É³±\n",
      "5\n",
      "o>>>>",
      ">>>\n",
      "3\n",
      "Qm k co qp vjg yca vq tcknyca\n",
      "2\n",
      "Ok i am on the way to railway\n",
      "====================\n",
      "159: Message\n",
      "6\n",
      "Decrypted text: Ç¶p¿ÄÀ¹p¶·³Äpº³È·p³pÀ»µ·p¶³±\n",
      "5\n",
      "g>>",
      ">",
      ">>",
      ">\n",
      "3\n",
      "Iwf otpi fgct jcxg c pkeg fca\n",
      "2\n",
      "Gud mrng dear have a nice day\n",
      "====================\n",
      "160: Message\n",
      "6\n",
      "Decrypted text: ÁÉp¿ÇµºpÄp¯pÉ»¾¾»À¹pÆÁpÂ³±\n",
      "5\n",
      "h>>>j}>>>]\n",
      "3\n",
      "Jqy owej t L_ yknnkpi vq rca?\n",
      "2\n",
      "How much r J_ willing to pay?\n",
      "====================\n",
      "161: Message\n",
      "6\n",
      "Decrypted text: ¡ºp»Åp»Æp¥·À¶p¿·pÆº·p³¶¶Ä·ÅÅ\n",
      "5\n",
      "o>>]>s",
      ">",
      ">",
      ">",
      "\n",
      "3\n",
      "Qj ku kv? Ugpf og vjg cfftguu\n",
      "2\n",
      "Oh is it? Send me the address\n",
      "====================\n",
      "162: Message\n",
      "6\n",
      "Decrypted text: ¦º·ÀpÉº±pÀÁpÁÀ·pÆ³¾½»À¹pÆÁp¿·\n",
      "5\n",
      "t",
      ">>>",
      ">>>",
      "\n",
      "3\n",
      "Vjgp yja pq qpg vcnmkpi vq og\n",
      "2\n",
      "Then why no one talking to me\n",
      "====================\n",
      "163: Message\n",
      "6\n",
      "Decrypted text: Á»À¹pÆÁpÆ³½·p±ÁÇÄp´³´·pÁÇÆp\n",
      "5\n",
      "g>>",
      ">>",
      ">>]\n",
      "3\n",
      "Iqkpi vq vcmg aqwt dcdg qwv ?\n",
      "2\n",
      "Going to take your babe out ?\n",
      "====================\n",
      "164: Message\n",
      "6\n",
      "Decrypted text: Á¾p±ÁÇÄp³¾É³±ÅpÅÁpµÁÀÈ»Àµ»À¹~\n",
      "5\n",
      "l>>>>L\n",
      "3\n",
      "Nqn aqwt cnycau uq eqpxkpekpi.\n",
      "2\n",
      "Lol your always so convincing.\n",
      "====================\n",
      "165: Message\n",
      "6\n",
      "Decrypted text: ÁÀÆpÉÁÄÄ±~pp¹Ç·ÅÅpº·wÅp´ÇÅ±~\n",
      "5\n",
      "d>L>i>",
      ">",
      "E>L\n",
      "3\n",
      "Fqpv yqtta. K iwguu jg'u dwua.\n",
      "2\n",
      "Dont worry. I guess he's busy.\n",
      "====================\n",
      "166: Message\n",
      "6\n",
      "Decrypted text: ¥»À¶Çp¹ÁÆp¼Á´p»Àp´»Ä¾³pÅÁ¸Æp~~\n",
      "5\n",
      "s>>>>>>LL\n",
      "3\n",
      "Ukpfw iqv lqd kp dktnc uqhv ..\n",
      "2\n",
      "Sindu got job in birla soft ..\n",
      "====================\n",
      "167: Message\n",
      "6\n",
      "Decrypted text: ·±pµÁ¿Â³À±p·¾³¿³pÂÁp¿Ç¶±³¶ºÇ~\n",
      "5\n",
      "h",
      ">>",
      ">>L\n",
      "3\n",
      "Jga eqorcpa gncoc rq owfacfjw.\n",
      "2\n",
      "Hey company elama po mudyadhu.\n",
      "====================\n",
      "168: Message\n",
      "6\n",
      "Decrypted text: p³Å½·¶p±ÁÇpÆÁpµ³¾¾pº»¿pÀÁÉpÁ½\n",
      "5\n",
      "i>",
      ">>>>>>\n",
      "3\n",
      "K cumgf aqw vq ecnn jko pqy qm\n",
      "2\n",
      "I asked you to call him now ok\n",
      "====================\n",
      "169: Message\n",
      "6\n",
      "Decrypted text: É·ÅÁ¿·|pw¾¾pÅ··p±ÁÇp»Àp³p´»Æ\n",
      "5\n",
      "a",
      "",
      "J>iE>",
      "",
      ">>>>\n",
      "3\n",
      "Cyguqog, K'nn ugg aqw kp c dkv\n",
      "2\n",
      "Awesome, I'll see you in a bit\n",
      "====================\n",
      "170: Message\n",
      "6\n",
      "Decrypted text:  ÁpÂÄÁ´¾·¿~pÁÉp³Ä·p±ÁÇp¶Á»À¹\n",
      "5\n",
      "n>",
      "L>h>",
      ">>]\n",
      "3\n",
      "Pq rtqdngo. Jqy ctg aqw fqkpi?\n",
      "2\n",
      "No problem. How are you doing?\n",
      "====================\n",
      "171: Message\n",
      "6\n",
      "Decrypted text: ¿pÆº³ÆpÆ»¿·p±ÁÇp¶ÁÀÆp¾»½·p¸ÇÀ\n",
      "5\n",
      "m>>",
      ">>>",
      ">\n",
      "3\n",
      "Oo vjcv vkog aqw fqpv nkmg hwp\n",
      "2\n",
      "Mm that time you dont like fun\n",
      "====================\n",
      "172: Message\n",
      "6\n",
      "Decrypted text: ÁÅp»pÉ³ÀÆp»ÆpÆÁp´·p±ÁÇÄpÆº»À¹\n",
      "5\n",
      "c>>>>>",
      ">>\n",
      "3\n",
      "Equ k ycpv kv vq dg aqwt vjkpi\n",
      "2\n",
      "Cos i want it to be your thing\n",
      "====================\n",
      "173: Message\n",
      "6\n",
      "Decrypted text: p¾Á¹pÁ¸¸ppÉ³Æ~pÆwÅpÅ¶Ä±´»\n",
      "5\n",
      "jm>>>R>L>iE>V\n",
      "3\n",
      "LO nqi qhh 4 ycv. Kv'u uftad8k\n",
      "2\n",
      "JM log off 4 wat. It's sdryb8i\n",
      "====================\n",
      "174: Message\n",
      "6\n",
      "Decrypted text: ³È·p±ÁÇp¸»À»Åº·¶pÉÁÄ½p±·Æpy\n",
      "5\n",
      "h",
      ">>",
      ">>",
      "]>XG\n",
      "3\n",
      "Jcxg aqw hkpkujgf yqtm agv? :)\n",
      "2\n",
      "Have you finished work yet? :)\n",
      "====================\n",
      "175: Message\n",
      "6\n",
      "Decrypted text: Ç¿p³Å½p¯pÆÁp´Ç±p¸ÁÁ¶pºÁ¿·~~~\n",
      "5\n",
      "m>>j}>>>>",
      "LLL\n",
      "3\n",
      "Owo cum L_ vq dwa hqqf jqog...\n",
      "2\n",
      "Mum ask J_ to buy food home...\n",
      "====================\n",
      "176: Message\n",
      "6\n",
      "Decrypted text: ¥ÁpÉº·Àp¶Áp±ÁÇpÉ³ÀÀ³p¹±¿pº³ÄÄ»\n",
      "5\n",
      "s>",
      ">>>>>\n",
      "3\n",
      "Uq yjgp fq aqw ycppc iao jcttk\n",
      "2\n",
      "So when do you wanna gym harri\n",
      "====================\n",
      "177: Message\n",
      "6\n",
      "Decrypted text: ³»Äp·ÀÁÇ¹º|p³À±Æº»À¹p¹Á»À¹pÁÀ\n",
      "5\n",
      "f>",
      "J>>>]\n",
      "3\n",
      "Hckt gpqwij, cpavjkpi iqkpi qp?\n",
      "2\n",
      "Fair enough, anything going on?\n",
      "====================\n"
     ]
    },
    {
     "name": "stdout",
     "output_type": "stream",
     "text": [
      "178: Message\n",
      "6\n",
      "Decrypted text: Á»À¹p¸ÁÄp¶»ÀÀ·Ä~¿Å¹p±ÁÇp³¸Æ·Ä~\n",
      "5\n",
      "g>>",
      "L>>",
      "L\n",
      "3\n",
      "Iqkpi hqt fkppgt.oui aqw chvgt.\n",
      "2\n",
      "Going for dinner.msg you after.\n",
      "====================\n",
      "179: Message\n",
      "6\n",
      "Decrypted text: ¥ÁÇÀ¶Åp¹Ä·³ÆqpÄ·p±ÁÇpºÁ¿·pÀÁÉ\n",
      "5\n",
      "s>",
      "?>a",
      ">>",
      ">]\n",
      "3\n",
      "Uqwpfu itgcv! Ctg aqw jqog pqy?\n",
      "2\n",
      "Sounds great! Are you home now?\n",
      "====================\n",
      "180: Message\n",
      "6\n",
      "Decrypted text: ³¾¾»ÅpÉÁÀÆp´³Æp»ÀpÀ¶p»ÀÀ»À¹Å~\n",
      "5\n",
      "k>>>>P>L\n",
      "3\n",
      "Mcnnku yqpv dcv kp 2pf kppkpiu.\n",
      "2\n",
      "Kallis wont bat in 2nd innings.\n",
      "====================\n",
      "181: Message\n",
      "6\n",
      "Decrypted text:  ÁpÁ´¼·µÆ»ÁÀ~p±p´¸pÀÁÆpµÁ¿»À¹~\n",
      "5\n",
      "n>",
      "L>m>>>L\n",
      "3\n",
      "Pq qdlgevkqp. Oa dh pqv eqokpi.\n",
      "2\n",
      "No objection. My bf not coming.\n",
      "====================\n",
      "182: Message\n",
      "6\n",
      "Decrypted text: »p¶³yºÁÉp»ÅpÆº·pÆÁ¶³±Åpµ¾³ÅÅ\n",
      "5\n",
      "h>XG>>",
      ">>]\n",
      "3\n",
      "Jk fc:)jqy ku vjg vqfcau encuu?\n",
      "2\n",
      "Hi da:)how is the todays class?\n",
      "====================\n",
      "183: Message\n",
      "6\n",
      "Decrypted text: ¡À·pÅ¿³¾¾pÂÄ·ÅÆ»¹·pÂÄÁ´¾·¿pÀÁÉ~\n",
      "5\n",
      "o",
      ">>",
      "",
      ">",
      ">L\n",
      "3\n",
      "Qpg uocnn rtguvkig rtqdngo pqy.\n",
      "2\n",
      "One small prestige problem now.\n",
      "====================\n",
      "184: Message\n",
      "6\n",
      "Decrypted text: º·µ½p³Ç¶Ä·±wÅpÅÆ³ÆÇÅpÄ»¹ºÆpÀÁÉ\n",
      "5\n",
      "c",
      ">",
      "E>>>\n",
      "3\n",
      "Ejgem cwftga'u uvcvwu tkijv pqy\n",
      "2\n",
      "Check audrey's status right now\n",
      "====================\n",
      "185: Message\n",
      "6\n",
      "Decrypted text: ÁÁ¾|pÆ·ÊÆp¿·pÉº·Àp±ÁÇwÄ·pÄ·³¶±\n",
      "5\n",
      "cJ>",
      ">",
      ">",
      ">E",
      ">",
      "\n",
      "3\n",
      "Eqqn, vgzv og yjgp aqw'tg tgcfa\n",
      "2\n",
      "Cool, text me when you're ready\n",
      "====================\n",
      "186: Message\n",
      "6\n",
      "Decrypted text: ÇÅÆÁ¿·ÄpÂ¾³µ·p»pÉ»¾¾pµ³¾¾p±ÁÇ~\n",
      "5\n",
      "c",
      ">",
      ">>>>L\n",
      "3\n",
      "Ewuvqogt rnceg k yknn ecnn aqw.\n",
      "2\n",
      "Customer place i will call you.\n",
      "====================\n",
      "187: Message\n",
      "6\n",
      "Decrypted text: ©º·Àp¶»¶p±ÁÇp¹·ÆpÆÁpÆº·p¾»´Ä³Ä±\n",
      "5\n",
      "w",
      ">>>",
      ">>",
      ">\n",
      "3\n",
      "Yjgp fkf aqw igv vq vjg nkdtcta\n",
      "2\n",
      "When did you get to the library\n",
      "====================\n",
      "188: Message\n",
      "6\n",
      "Decrypted text: ¾¾p·p´·ÅÆppÇÄp¶Ä»È»À¹pÆ¿Äp}y\n",
      "5\n",
      "a>",
      ">",
      ">R>>>>XKG\n",
      "3\n",
      "Cnn g dguv 4 wt ftkxkpi vot :-)\n",
      "2\n",
      "All e best 4 ur driving tmr :-)\n",
      "====================\n",
      "189: Message\n",
      "6\n",
      "Decrypted text: ¡½p»p¿Å¹pÇp´p»p¾·³È·p¿±pºÁÇÅ·~\n",
      "5\n",
      "o>>>>R>>",
      "",
      ">>",
      "L\n",
      "3\n",
      "Qm k oui w d4 k ngcxg oa jqwug.\n",
      "2\n",
      "Ok i msg u b4 i leave my house.\n",
      "====================\n",
      "190: Message\n",
      "6\n",
      "Decrypted text: w¾¾pÆ·ÊÆp±ÁÇpÉº·Àpp¶ÄÁÂpÊpÁ¸¸\n",
      "5\n",
      "iE>",
      ">>",
      ">i>>>\n",
      "3\n",
      "K'nn vgzv aqw yjgp K ftqr z qhh\n",
      "2\n",
      "I'll text you when I drop x off\n",
      "====================\n",
      "191: Message\n",
      "6\n",
      "Decrypted text: ©¦p§p¡¤¡¥p¤p p¥¦¡¤¥\n",
      "5\n",
      "white>fudge>oreos>are>in>stores\n",
      "3\n",
      "YJKVG HWFIG QTGQU CTG KP UVQTGU\n",
      "2\n",
      "WHITE FUDGE OREOS ARE IN STORES\n",
      "====================\n",
      "192: Message\n",
      "6\n",
      "Decrypted text: ³º³p³É·ÅÁ¿·|pÁ¿Ép´³µ½pÀÁÉpÆº·À\n",
      "5\n",
      "h>",
      "",
      "J>>>>",
      "\n",
      "3\n",
      "Jcjc cyguqog, qoy dcem pqy vjgp\n",
      "2\n",
      "Haha awesome, omw back now then\n",
      "====================\n",
      "193: Message\n",
      "6\n",
      "Decrypted text:  Ápµ³¾¾Å~~¿·ÅÅ³¹·Å~~¿»ÅÅ·¶pµ³¾¾Å\n",
      "5\n",
      "n>LL",
      "",
      "LL",
      ">\n",
      "3\n",
      "Pq ecnnu..oguucigu..okuugf ecnnu\n",
      "2\n",
      "No calls..messages..missed calls\n",
      "====================\n",
      "194: Message\n",
      "6\n",
      "Decrypted text: ~p»¶p±ÁÇpµ³¾¾p¿·p¼ÇÅÆpÀÁÉp³ºp\n",
      "5\n",
      "kL>d>>>",
      ">>>]>\n",
      "3\n",
      "M. Fkf aqw ecnn og lwuv pqy cj? \n",
      "2\n",
      "K. Did you call me just now ah? \n",
      "====================\n",
      "195: Message\n",
      "6\n",
      "Decrypted text: ¡½p»p³¿pÁÀpÆº·pÉ³±pÆÁpºÁ¿·pº»pº»\n",
      "5\n",
      "o>>>>",
      ">>>",
      ">>\n",
      "3\n",
      "Qm k co qp vjg yca vq jqog jk jk\n",
      "2\n",
      "Ok i am on the way to home hi hi\n",
      "====================\n",
      "196: Message\n",
      "6\n",
      "Decrypted text: pº³È·pÆÁpÆ³½·p·Ê³¿pÉ»Æºp¿³Äµºp\n",
      "5\n",
      "i>",
      ">>",
      ">",
      ">>>Q\n",
      "3\n",
      "K jcxg vq vcmg gzco ykvj octej 3\n",
      "2\n",
      "I have to take exam with march 3\n",
      "====================\n",
      "197: Message\n",
      "6\n",
      "Decrypted text:  Ápµ³¾¾Å~~¿·ÅÅ³¹·Å~~¿»ÅÅ·¶pµ³¾¾Å\n",
      "5\n",
      "n>LL",
      "",
      "LL",
      ">\n",
      "3\n",
      "Pq ecnnu..oguucigu..okuugf ecnnu\n",
      "2\n",
      "No calls..messages..missed calls\n",
      "====================\n",
      "198: Message\n",
      "6\n",
      "Decrypted text: ÁÁ¾|pÆ·ÊÆp¿·pÉº·Àp±ÁÇwÄ·pÂ³Ä½·¶\n",
      "5\n",
      "cJ>",
      ">",
      ">",
      ">E",
      ">",
      "\n",
      "3\n",
      "Eqqn, vgzv og yjgp aqw'tg rctmgf\n",
      "2\n",
      "Cool, text me when you're parked\n",
      "====================\n",
      "199: Message\n",
      "6\n",
      "Decrypted text: ¥ÁÄÄ±|»Àp¿··Æ»À¹pw¾¾pµ³¾¾p¾³Æ·Ä\n",
      "5\n",
      "sJ>",
      "",
      ">iE>>",
      "\n",
      "3\n",
      "Uqtta,kp oggvkpi K'nn ecnn ncvgt\n",
      "2\n",
      "Sorry,in meeting I'll call later\n",
      "====================\n",
      "200: Message\n",
      "6\n",
      "Decrypted text: Ä·p±ÁÇp¸Ä··pÀÁÉµ³Àp»pµ³¾¾pÀÁÉ\n",
      "5\n",
      "a",
      ">>",
      "",
      ">]>>>]\n",
      "3\n",
      "Ctg aqw htgg pqy?ecp k ecnn pqy?\n",
      "2\n",
      "Are you free now?can i call now?\n",
      "====================\n",
      "201: Message\n",
      "6\n",
      "Decrypted text: ¦º³ÆwÅpÈ·Ä±pÄÇ¶·|p±ÁÇpÁÀpµ³¿ÂÇÅ\n",
      "5\n",
      "tE>",
      ">",
      "J>>>]\n",
      "3\n",
      "Vjcv'u xgta twfg, aqw qp ecorwu?\n",
      "2\n",
      "That's very rude, you on campus?\n",
      "====================\n",
      "202: Message\n",
      "6\n",
      "Decrypted text: ¥ÁÄÄ±pÆº³ÆpÆÁÁ½pÅÁp¾ÁÀ¹|pÁ¿ÉpÀÁÉ\n",
      "5\n",
      "s>>>>J>>\n",
      "3\n",
      "Uqtta vjcv vqqm uq nqpi, qoy pqy\n",
      "2\n",
      "Sorry that took so long, omw now\n",
      "====================\n",
      "203: Message\n",
      "6\n",
      "Decrypted text: ¦º³ÀÊpp·p´ÄÁÉÀ»·p»ÆwÅpÈpÀ»µ·~~~\n",
      "5\n",
      "t>R>",
      ">",
      ">E>>",
      "LLL\n",
      "3\n",
      "Vjcpz 4 g dtqypkg kv'u x pkeg...\n",
      "2\n",
      "Thanx 4 e brownie it's v nice...\n",
      "====================\n",
      "204: Message\n",
      "6\n",
      "Decrypted text: ¦º³À½Åp¸ÁÄpÂ»µ½»À¹pÇÂpÆº·pÆÄ³Åº~\n",
      "5\n",
      "t>>>>",
      ">L\n",
      "3\n",
      "Vjcpmu hqt rkemkpi wr vjg vtcuj.\n",
      "2\n",
      "Thanks for picking up the trash.\n",
      "====================\n",
      "205: Message\n",
      "6\n",
      "Decrypted text: ©³Æµº»À¹pÆ·¾Ç¹Çp¿ÁÈ»·~~É³Æp³´ÆpÇ\n",
      "5\n",
      "w>",
      ">",
      "LL>>]\n",
      "3\n",
      "Ycvejkpi vgnwiw oqxkg..ycv cdv w?\n",
      "2\n",
      "Watching telugu movie..wat abt u?\n",
      "====================\n",
      "206: Message\n",
      "6\n",
      "Decrypted text: |pÆ·ÊÆp¿·pÉº·Àp±ÁÇwÄ·pÁÀpÆº·pÉ³±\n",
      "5\n",
      "kJ>",
      ">",
      ">",
      ">E",
      ">>",
      ">\n",
      "3\n",
      "M, vgzv og yjgp aqw'tg qp vjg yca\n",
      "2\n",
      "K, text me when you're on the way\n",
      "====================\n",
      "207: Message\n",
      "6\n",
      "Decrypted text: ~~»p¶·¾·Æ·¶p¿±pµÁÀÆ³µÆpÆº³ÆpÉº±\n",
      "5\n",
      "kLL>",
      "",
      "",
      ">>>>]\n",
      "3\n",
      "M..k fgngvgf oa eqpvcev vjcv yja?\n",
      "2\n",
      "K..i deleted my contact that why?\n",
      "====================\n",
      "208: Message\n",
      "6\n",
      "Decrypted text: ©º³ÆpÆ»¿·p±ÁÇpµÁ¿»À¹p¶ÁÉÀp¾³Æ·Äp\n",
      "5\n",
      "w>",
      ">>>>",
      "]>\n",
      "3\n",
      "Yjcv vkog aqw eqokpi fqyp ncvgt? \n",
      "2\n",
      "What time you coming down later? \n",
      "====================\n",
      "209: Message\n",
      "6\n",
      "Decrypted text: ¥ÁÄÄ±p´³ÆÆ·Ä±p¶»·¶|p±·³ºpw¿pº·Ä·\n",
      "5\n",
      "s>",
      ">",
      "J>",
      ">iE>",
      "",
      "\n",
      "3\n",
      "Uqtta dcvvgta fkgf, agcj K'o jgtg\n",
      "2\n",
      "Sorry battery died, yeah I'm here\n",
      "====================\n",
      "210: Message\n",
      "6\n",
      "Decrypted text: Ç¶À»Æ·~~~~Æµ~~~ÂÄ³µÆ»µ·p¹Á»À¹pÁÀ\n",
      "5\n",
      "g",
      "LLLLLLL",
      ">>\n",
      "3\n",
      "Iwfpkvg....ve...rtcevkeg iqkpi qp\n",
      "2\n",
      "Gudnite....tc...practice going on\n",
      "====================\n",
      "211: Message\n",
      "6\n",
      "Decrypted text: Ç¶À»Æ·~~~~Æµ~~~ÂÄ³µÆ»µ·p¹Á»À¹pÁÀ\n",
      "5\n",
      "g",
      "LLLLLLL",
      ">>\n",
      "3\n",
      "Iwfpkvg....ve...rtcevkeg iqkpi qp\n",
      "2\n",
      "Gudnite....tc...practice going on\n",
      "====================\n",
      "212: Message\n",
      "6\n",
      "Decrypted text:  ÁÂ·p»pÉ³»Æ»À¹p»ÀpÅµºpp¶³¶¶±~~~p\n",
      "5\n",
      "n",
      ">>>>>R>LLL>\n",
      "3\n",
      "Pqrg k yckvkpi kp uej 4 fcffa... \n",
      "2\n",
      "Nope i waiting in sch 4 daddy... \n",
      "====================\n",
      "213: Message\n",
      "6\n",
      "Decrypted text: §pÅºÁÇ¾¶pº³È·p¿³¶·p³Àp³ÂÂÁ»ÀÆ¿·ÀÆ\n",
      "5\n",
      "u>>",
      ">",
      ">>",
      "\n",
      "3\n",
      "W ujqwnf jcxg ocfg cp crrqkpvogpv\n",
      "2\n",
      "U should have made an appointment\n",
      "====================\n",
      "214: Message\n",
      "6\n",
      "Decrypted text: ÁÁÁÁp±ÁÇp³¾É³±ÅpÉÁÄ½~pÇÅÆpÃÇ»Æ~\n",
      "5\n",
      "b>>>L>j>L\n",
      "3\n",
      "Dqqqq aqw cnycau yqtm. Lwuv swkv.\n",
      "2\n",
      "Boooo you always work. Just quit.\n",
      "====================\n",
      "215: Message\n",
      "6\n",
      "Decrypted text: pµ³ÀwÆ|pp¶ÁÀwÆpº³È·pº·ÄpÀÇ¿´·Äq\n",
      "5\n",
      "i>EJ>i>E>",
      ">",
      ">",
      "?\n",
      "3\n",
      "K ecp'v, K fqp'v jcxg jgt pwodgt!\n",
      "2\n",
      "I can't, I don't have her number!\n",
      "====================\n",
      "216: Message\n",
      "6\n",
      "Decrypted text: ¥ÁÄÄ±|pw¾¾pµ³¾¾p¾³Æ·Äp»Àp¿··Æ»À¹~\n",
      "5\n",
      "sJ>iE>>",
      ">>",
      "",
      "L\n",
      "3\n",
      "Uqtta, K'nn ecnn ncvgt kp oggvkpi.\n",
      "2\n",
      "Sorry, I'll call later in meeting.\n",
      "====================\n",
      "217: Message\n",
      "6\n",
      "Decrypted text: pÂ¾³À·pÆÁp¹»È·pÁÀpÆº»Åp¿ÁÀÆºp·À¶~\n",
      "5\n",
      "i>",
      ">>",
      ">>>>",
      "L\n",
      "3\n",
      "K rncpg vq ikxg qp vjku oqpvj gpf.\n",
      "2\n",
      "I plane to give on this month end.\n",
      "====================\n",
      "218: Message\n",
      "6\n",
      "Decrypted text: ·p»ÅpÆº·Ä·~pÁÇpµ³¾¾p³À¶p¿··Æpº»¿\n",
      "5\n",
      "h",
      ">>",
      "",
      "L>_>>>",
      "",
      ">\n",
      "3\n",
      "Jg ku vjgtg. Aqw ecnn cpf oggv jko\n",
      "2\n",
      "He is there. You call and meet him\n",
      "====================\n",
      "219: Message\n",
      "6\n",
      "Decrypted text: ³º³p³É·ÅÁ¿·|p´·pÆº·Ä·p»Àp³p¿»ÀÇÆ·\n",
      "5\n",
      "h>",
      "",
      "J>",
      ">",
      "",
      ">>>",
      "\n",
      "3\n",
      "Jcjc cyguqog, dg vjgtg kp c okpwvg\n",
      "2\n",
      "Haha awesome, be there in a minute\n",
      "====================\n",
      "220: Message\n",
      "6\n",
      "Decrypted text: ·³Äp¹ÁÁ¶p¿ÁÄÀ»À¹pÀÁÉpÁÀ¾±p»p³¿pÇÂ\n",
      "5\n",
      "d",
      ">>>>>>>\n",
      "3\n",
      "Fgct iqqf oqtpkpi pqy qpna k co wr\n",
      "2\n",
      "Dear good morning now only i am up\n",
      "====================\n",
      "221: Message\n",
      "6\n",
      "Decrypted text: ¿pÀÁÆp»ÀÆ·Ä·ÅÆ·¶pÆÁp¶Áp¾»½·pÆº³Æ~\n",
      "5\n",
      "a>>",
      "",
      "",
      ">>>",
      ">L\n",
      "3\n",
      "Co pqv kpvgtguvgf vq fq nkmg vjcv.\n",
      "2\n",
      "Am not interested to do like that.\n",
      "====================\n",
      "222: Message\n",
      "6\n",
      "Decrypted text: pÉ»¾¾pÅÂÁ»¾p±ÁÇp»Àp´·¶p³ÅpÉ·¾¾py\n",
      "5\n",
      "i>>>>>",
      ">>",
      ">XG\n",
      "3\n",
      "K yknn urqkn aqw kp dgf cu ygnn :)\n",
      "2\n",
      "I will spoil you in bed as well :)\n",
      "====================\n",
      "223: Message\n",
      "6\n",
      "Decrypted text: ¦·ÀÅ»ÁÀp³ºÉº³Æp¿³µº»³À±pÂÄÁ´¾·¿\n",
      "5\n",
      "t",
      ">]>]>",
      "]\n",
      "3\n",
      "Vgpukqp cj?yjcv ocejk?cpa rtqdngo?\n",
      "2\n",
      "Tension ah?what machi?any problem?\n",
      "====================\n",
      "224: Message\n",
      "6\n",
      "Decrypted text: ©º³Æpµ¾³ÅÅpÁ¸ppv¾Æsv¹ÆppÄ·ÇÀ»ÁÀ\n",
      "5\n",
      "w>>>>DYADY>>",
      "]\n",
      "3\n",
      "Yjcv encuu qh  &nv;#&iv;  tgwpkqp?\n",
      "2\n",
      "What class of  &lt;#&gt;  reunion?\n",
      "====================\n",
      "225: Message\n",
      "6\n",
      "Decrypted text: w¿p»Àp³p¿··Æ»À¹|pµ³¾¾p¿·p¾³Æ·Äp³Æ\n",
      "5\n",
      "iE>>>",
      "",
      "J>>",
      ">",
      ">\n",
      "3\n",
      "K'o kp c oggvkpi, ecnn og ncvgt cv\n",
      "2\n",
      "I'm in a meeting, call me later at\n",
      "====================\n",
      "226: Message\n",
      "6\n",
      "Decrypted text: p¶ÁÀÆp½ÀÉpÂ³|p»p¼ÇÅÆp¶Ä»À½p¿»¾½~~\n",
      "5\n",
      "i>>>J>>>>LL\n",
      "3\n",
      "K fqpv mpy rc, k lwuv ftkpm oknm..\n",
      "2\n",
      "I dont knw pa, i just drink milk..\n",
      "====================\n",
      "227: Message\n",
      "6\n",
      "Decrypted text: ¡½~p¦º·Ä·p¿³±p´·p³p¸Ä··p¹±¿p³´ÁÇÆ~\n",
      "5\n",
      "oL>t",
      "",
      ">>",
      ">>",
      "",
      ">>L\n",
      "3\n",
      "Qm. Vjgtg oca dg c htgg iao cdqwv.\n",
      "2\n",
      "Ok. There may be a free gym about.\n",
      "====================\n",
      "228: Message\n",
      "6\n",
      "Decrypted text: ¥Áp¶Áp±ÁÇpº³È·pÅ³¿ÇÅpÅºÁÇ¾¶·ÄÅp±·Æ\n",
      "5\n",
      "s>>>",
      ">>",
      ">",
      "\n",
      "3\n",
      "Uq fq aqw jcxg ucowu ujqwnfgtu agv\n",
      "2\n",
      "So do you have samus shoulders yet\n",
      "====================\n",
      "229: Message\n",
      "6\n",
      "Decrypted text: §pÅÇÄ·pÇpµ³ÀwÆpÆ³½·p³À±pÅ»µ½pÆ»¿·\n",
      "5\n",
      "u>",
      ">>E>",
      ">>>",
      "]\n",
      "3\n",
      "W uwtg w ecp'v vcmg cpa ukem vkog?\n",
      "2\n",
      "U sure u can't take any sick time?\n",
      "====================\n",
      "230: Message\n",
      "6\n",
      "Decrypted text: p¨pp¦p¡ p¥§ p©¦p©qq\n",
      "5\n",
      "i>have>a>date>on>sunda_>with>will??\n",
      "3\n",
      "K JCXG C FCVG QP UWPFCA YKVJ YKNN!!\n",
      "2\n",
      "I HAVE A DATE ON SUNDAY WITH WILL!!\n",
      "====================\n",
      "231: Message\n",
      "6\n"
     ]
    },
    {
     "name": "stdout",
     "output_type": "stream",
     "text": [
      "Decrypted text: ¥³¿·~p©³À³pÂ¾³Àp³pÆÄ»ÂpÅÁ¿·Æ¿·pÆº·À\n",
      "5\n",
      "s",
      "L>w>>>>",
      "",
      ">",
      "\n",
      "3\n",
      "Ucog. Ycpc rncp c vtkr uqogvog vjgp\n",
      "2\n",
      "Same. Wana plan a trip sometme then\n",
      "====================\n",
      "232: Message\n",
      "6\n",
      "Decrypted text: ©º³ÆÅÇÂpÆº·Ä·~pÁÀÆpÇpÉ³ÀÆpÆÁpÅ¾··Â\n",
      "5\n",
      "w>",
      "",
      "L>d>>>>",
      "",
      "\n",
      "3\n",
      "Yjcvuwr vjgtg. Fqpv w ycpv vq unggr\n",
      "2\n",
      "Whatsup there. Dont u want to sleep\n",
      "====================\n",
      "233: Message\n",
      "6\n",
      "Decrypted text: ¢¾·³Å·p¶ÁÀÆpÅ³±p¾»½·pÆº³Æ~p»pº»pº»\n",
      "5\n",
      "p",
      "",
      ">>>",
      ">L>h>>\n",
      "3\n",
      "Rngcug fqpv uca nkmg vjcv. Jk jk jk\n",
      "2\n",
      "Please dont say like that. Hi hi hi\n",
      "====================\n",
      "234: Message\n",
      "6\n",
      "Decrypted text:  ÁpÂÄÁ´~ppÉ»¾¾pÅ·À¶pÆÁp±ÁÇÄp·¿³»¾~\n",
      "5\n",
      "n>L>i>>",
      ">>>",
      "L\n",
      "3\n",
      "Pq rtqd. K yknn ugpf vq aqwt gockn.\n",
      "2\n",
      "No prob. I will send to your email.\n",
      "====================\n",
      "235: Message\n",
      "6\n",
      "Decrypted text: ÀpÉÁÄ½pÀÁÉ~pÁ»À¹pº³È·p»Àp¸·Ép¿»À~\n",
      "5\n",
      "i>>L>g>",
      ">>",
      ">L\n",
      "3\n",
      "Kp yqtm pqy. Iqkpi jcxg kp hgy okp.\n",
      "2\n",
      "In work now. Going have in few min.\n",
      "====================\n",
      "236: Message\n",
      "6\n",
      "Decrypted text: y»pÉ»¾¾p¹»È·p¿±p½È´p³µµp¶·Æ³»¾Åy\n",
      "5\n",
      "kXG>>",
      ">>>>",
      "XG\n",
      "3\n",
      "M:)k yknn ikxg oa mxd cee fgvcknu:)\n",
      "2\n",
      "K:)i will give my kvb acc details:)\n",
      "====================\n",
      "237: Message\n",
      "6\n",
      "Decrypted text: ÁÇpÉ»¾¾p´·p»ÀpÆº·pÂ¾³µ·pÁ¸pÆº³Æp¿³À\n",
      "5\n",
      "_>>",
      ">>",
      ">",
      ">>>\n",
      "3\n",
      "Aqw yknn dg kp vjg rnceg qh vjcv ocp\n",
      "2\n",
      "You will be in the place of that man\n",
      "====================\n",
      "238: Message\n",
      "6\n",
      "Decrypted text: ©º·Ä·p³Ä·p±ÁÇp¾ÁÈ·ÄpppÀ··¶p±ÁÇp~~~\n",
      "5\n",
      "w",
      "",
      ">",
      ">>",
      ">]>i>",
      "",
      ">>LLL\n",
      "3\n",
      "Yjgtg ctg aqw nqxgt ? K pggf aqw ...\n",
      "2\n",
      "Where are you lover ? I need you ...\n",
      "====================\n",
      "239: Message\n",
      "6\n",
      "Decrypted text: ··Âp¿±pÂ³±³Å³¿pÆº·Ä·p»¸pÄ»ÀÇp´Ä»À¹Å\n",
      "5\n",
      "k",
      "",
      ">>>",
      "",
      ">>>\n",
      "3\n",
      "Mggr oa rcacuco vjgtg kh tkpw dtkpiu\n",
      "2\n",
      "Keep my payasam there if rinu brings\n",
      "====================\n",
      "240: Message\n",
      "6\n",
      "Decrypted text: ¦º·pº³»ÄpµÄ·³¿pº³ÅpÀÁÆp´··ÀpÅº»ÂÂ·¶~\n",
      "5\n",
      "t",
      ">>",
      ">>>",
      "",
      ">",
      "L\n",
      "3\n",
      "Vjg jckt etgco jcu pqv dggp ujkrrgf.\n",
      "2\n",
      "The hair cream has not been shipped.\n",
      "====================\n",
      "241: Message\n",
      "6\n",
      "Decrypted text: ÁÉp¾ÁÀ¹p¶Á·Åp³ÂÂ¾·´··Åp¸Çµ½»À¹pÆ³½·\n",
      "5\n",
      "h>>",
      ">",
      "",
      "",
      ">>",
      "\n",
      "3\n",
      "Jqy nqpi fqgu crrngdggu hwemkpi vcmg\n",
      "2\n",
      "How long does applebees fucking take\n",
      "====================\n",
      "242: Message\n",
      "6\n",
      "Decrypted text: ³±pÅ³±ÅpÆº³Æp±ÁÇwÄ·p³p¶ÁÇ´¾·}¸³¹¹ÁÆ\n",
      "5\n",
      "j>>>E",
      ">>",
      "K\n",
      "3\n",
      "Lca ucau vjcv aqw'tg c fqwdng-hciiqv\n",
      "2\n",
      "Jay says that you're a double-faggot\n",
      "====================\n",
      "243: Message\n",
      "6\n",
      "Decrypted text: pÉ³»Æpp¿·p»ÀpÅµºp»p¸»À»Åºp³Ä¶p",
      "~~\n",
      "5\n",
      "jm>>R>",
      ">>>>>>SLL\n",
      "3\n",
      "LO yckv 4 og kp uej k hkpkuj ctf 5..\n",
      "2\n",
      "JM wait 4 me in sch i finish ard 5..\n",
      "====================\n",
      "244: Message\n",
      "6\n",
      "Decrypted text: ©º³ÆpÉ»¾¾pÉ·p¶Áp»ÀpÆº·pÅºÁÉ·Ä|p´³´±\n",
      "5\n",
      "w>>",
      ">>>",
      ">",
      "J>]\n",
      "3\n",
      "Yjcv yknn yg fq kp vjg ujqygt, dcda?\n",
      "2\n",
      "What will we do in the shower, baby?\n",
      "====================\n",
      "245: Message\n",
      "6\n",
      "Decrypted text: ¢ÄÁ´³´¾±p¹ÁÀÀ³pÅÉ»À¹p´±p»Àp³pÉ··p´»Æ\n",
      "5\n",
      "p>>>>>>",
      "",
      ">\n",
      "3\n",
      "Rtqdcdna iqppc uykpi da kp c ygg dkv\n",
      "2\n",
      "Probably gonna swing by in a wee bit\n",
      "====================\n",
      "246: Message\n",
      "6\n",
      "Decrypted text: ÁÇpÉ»¾¾p´·p»ÀpÆº·pÂ¾³µ·pÁ¸pÆº³Æp¿³À\n",
      "5\n",
      "_>>",
      ">>",
      ">",
      ">>>\n",
      "3\n",
      "Aqw yknn dg kp vjg rnceg qh vjcv ocp\n",
      "2\n",
      "You will be in the place of that man\n",
      "====================\n",
      "247: Message\n",
      "6\n",
      "Decrypted text: ÁpºÁp}p´»¹p´·¾¾±p¾³Ç¹ºqp¥··p±³pÆÁ¿Á\n",
      "5\n",
      "h>>K>>",
      ">?>s",
      "",
      ">>\n",
      "3\n",
      "Jq jq - dki dgnna ncwij! Ugg ac vqoq\n",
      "2\n",
      "Ho ho - big belly laugh! See ya tomo\n",
      "====================\n",
      "248: Message\n",
      "6\n",
      "Decrypted text: ÁÁ¶~pÁÁ¶p¼Á´~pp¾»½·p·ÀÆÄ·ÂÄ·À·ÇÄÅ\n",
      "5\n",
      "gL>g>L>i>",
      ">",
      "",
      "",
      "",
      "\n",
      "3\n",
      "Iqqf. Iqqf lqd. K nkmg gpvtgrtgpgwtu\n",
      "2\n",
      "Good. Good job. I like entrepreneurs\n",
      "====================\n",
      "249: Message\n",
      "6\n",
      "Decrypted text: »py¸»À³¾¾±p»pµÁ¿Â¾·Æ·¶pÆº·pµÁÇÄÅ·y\n",
      "5\n",
      "h>XG>>",
      "",
      ">",
      ">",
      "XG\n",
      "3\n",
      "Jk :)hkpcnna k eqorngvgf vjg eqwtug:)\n",
      "2\n",
      "Hi :)finally i completed the course:)\n",
      "====================\n",
      "250: Message\n",
      "6\n",
      "Decrypted text: ·³ÄpÉ·p³Ä·p¹Á»À¹pÆÁpÁÇÄpÄÇ´´·ÄpÂ¾³µ·\n",
      "5\n",
      "d",
      ">",
      ">",
      ">>>>",
      ">",
      "\n",
      "3\n",
      "Fgct yg ctg iqkpi vq qwt twddgt rnceg\n",
      "2\n",
      "Dear we are going to our rubber place\n",
      "====================\n",
      "251: Message\n",
      "6\n",
      "Decrypted text: §p¶ÁÀwÆpÄ·¿·¿´·ÄpÆº³ÆpÁ¾¶pµÁ¿¿·Äµ»³¾\n",
      "5\n",
      "u>E>",
      "",
      "",
      ">>>",
      "]\n",
      "3\n",
      "W fqp'v tgogodgt vjcv qnf eqoogtekcn?\n",
      "2\n",
      "U don't remember that old commercial?\n",
      "====================\n",
      "252: Message\n",
      "6\n",
      "Decrypted text: §Å¸pp¹Ç·ÅÅ|p¿»¹ºÆp³ÅpÉ·¾¾pÆ³½·ppµ³Ä\n",
      "5\n",
      "u>i>",
      "J>>>",
      ">",
      ">O>\n",
      "3\n",
      "Wuh K iwguu, okijv cu ygnn vcmg 1 ect\n",
      "2\n",
      "Usf I guess, might as well take 1 car\n",
      "====================\n",
      "253: Message\n",
      "6\n",
      "Decrypted text: ·±p±ÁÇpÆÁ¾¶p±ÁÇÄpÀ³¿·pÆÁp¹³ÇÆº³¿p³º\n",
      "5\n",
      "h",
      ">>>>",
      ">>>]\n",
      "3\n",
      "Jga aqw vqnf aqwt pcog vq icwvjco cj?\n",
      "2\n",
      "Hey you told your name to gautham ah?\n",
      "====================\n",
      "254: Message\n",
      "6\n",
      "Decrypted text: À±pÂ³»ÀpÁÀpÇÄ»À³Æ»ÁÀp³À±pÆº»À¹p·¾Å·\n",
      "5\n",
      "a>>>>>>",
      "",
      "]\n",
      "3\n",
      "Cpa rckp qp wtkpcvkqp cpa vjkpi gnug?\n",
      "2\n",
      "Any pain on urination any thing else?\n",
      "====================\n",
      "255: Message\n",
      "6\n",
      "Decrypted text: ©º·Àp³Ä·p±ÁÇp¹Á»À¹pÆÁpÄ»¶·p±ÁÇÄp´»½·\n",
      "5\n",
      "w",
      ">",
      ">>>>",
      ">>",
      "]\n",
      "3\n",
      "Yjgp ctg aqw iqkpi vq tkfg aqwt dkmg?\n",
      "2\n",
      "When are you going to ride your bike?\n",
      "====================\n",
      "256: Message\n",
      "6\n",
      "Decrypted text: Áp±ÁÇp½ÀÁÉpÉº·Ä·p¿±p¾³´p¹Á¹¹¾·ÅpÉ·ÀÆ\n",
      "5\n",
      "d>>>",
      "",
      ">>>",
      ">",
      "\n",
      "3\n",
      "Fq aqw mpqy yjgtg oa ncd iqiingu ygpv\n",
      "2\n",
      "Do you know where my lab goggles went\n",
      "====================\n",
      "257: Message\n",
      "6\n",
      "Decrypted text: ·³ÄpÉ·p¹ÁÆppv¾Æsv¹Æpp¶Á¾¾³ÄÅpº»pº»\n",
      "5\n",
      "d",
      ">",
      ">>>DYADY>>>>\n",
      "3\n",
      "Fgct yg iqv  &nv;#&iv;  fqnnctu jk jk\n",
      "2\n",
      "Dear we got  &lt;#&gt;  dollars hi hi\n",
      "====================\n",
      "258: Message\n",
      "6\n",
      "Decrypted text: ³pÈ·Ä±pÀ»µ·~p~p~´·pÄ·³¶±pÁÀpÆºÇÄÅ¶³±\n",
      "5\n",
      "_>",
      ">",
      "L>L>L",
      ">",
      ">>\n",
      "3\n",
      "Ac xgta pkeg. . .dg tgcfa qp vjwtufca\n",
      "2\n",
      "Ya very nice. . .be ready on thursday\n",
      "====================\n",
      "259: Message\n",
      "6\n",
      "Decrypted text: ¦º»ÅpÂ³±p»Åppv¾Æv¹Æpp¾³½ºÅy\n",
      "5\n",
      "t>>>>DYdecimalDY>>XG\n",
      "3\n",
      "Vjku rca ku  &nv;FGEKOCN&iv;  ncmju:)\n",
      "2\n",
      "This pay is  &lt;DECIMAL&gt;  lakhs:)\n",
      "====================\n",
      "260: Message\n",
      "6\n",
      "Decrypted text: p´·ÆÉ··Àp³¿}Â¿pÁÅÆpÂ\n",
      "5\n",
      "NVUORUOPQVV>",
      "",
      "",
      ">ONKU>c>ON\n",
      "3\n",
      "08714712388 dgvyggp 10co-7ro Equv 10r\n",
      "2\n",
      "08714712388 between 10am-7pm Cost 10p\n",
      "====================\n",
      "261: Message\n",
      "6\n",
      "Decrypted text: ÁÀÆpÆ³¾½pÆÁpº»¿p·È·ÄpÁ½p»ÆÅp¿±pÉÁÄ¶~\n",
      "5\n",
      "d>>>>",
      "",
      ">>>>L\n",
      "3\n",
      "Fqpv vcnm vq jko gxgt qm kvu oa yqtf.\n",
      "2\n",
      "Dont talk to him ever ok its my word.\n",
      "====================\n",
      "262: Message\n",
      "6\n",
      "Decrypted text: ÇÂp»pÆº½pÅÁpÇÀÆ»¾p·pÅºÁÂpµ¾ÁÅ·Åp¾ÁÄ~\n",
      "5\n",
      "_>>>>>",
      ">>",
      ">L\n",
      "3\n",
      "Awr k vjm uq wpvkn g ujqr enqugu nqt.\n",
      "2\n",
      "Yup i thk so until e shop closes lor.\n",
      "====================\n",
      "263: Message\n",
      "6\n",
      "Decrypted text: »È·p¿·p³pÅ·µpÆÁpÆº»À½pÆº»À½p³´ÁÇÆp»Æ\n",
      "5\n",
      "g",
      ">",
      ">>",
      ">>>>>\n",
      "3\n",
      "Ikxg og c uge vq vjkpm vjkpm cdqwv kv\n",
      "2\n",
      "Give me a sec to think think about it\n",
      "====================\n",
      "264: Message\n",
      "6\n",
      "Decrypted text: ³|pÆÁ¾¶~~Åº·pÉ³Åp³Å½»À¹pÉ³ÆÅp¿³ÆÆ·Ä\n",
      "5\n",
      "_J>LL",
      ">>>>",
      "]\n",
      "3\n",
      "Ac, vqnf..ujg ycu cumkpi ycvu ocvvgt?\n",
      "2\n",
      "Ya, told..she was asking wats matter?\n",
      "====================\n",
      "265: Message\n",
      "6\n",
      "Decrypted text: pÁÀ¾±pº³¸p¿ÅÀ~pÆwÅp±»¼Ç·ºÁÆ¿³»¾~µÁ¿\n",
      "5\n",
      "i>>>L>iE>",
      "^L\n",
      "3\n",
      "K qpna jch oup. Kv'u aklwg@jqvockn.eqo\n",
      "2\n",
      "I only haf msn. It's yijue@hotmail.com\n",
      "====================\n",
      "266: Message\n",
      "6\n",
      "Decrypted text: ©º·Ä·p³Ä·p±ÁÇÉº·ÀpÉ»¾p±ÁÇpÄ·³µºpº·Ä·\n",
      "5\n",
      "w",
      "",
      ">",
      ">]",
      ">>>",
      ">",
      "",
      "]\n",
      "3\n",
      "Yjgtg ctg aqw?yjgp ykn aqw tgcej jgtg?\n",
      "2\n",
      "Where are you?when wil you reach here?\n",
      "====================\n",
      "267: Message\n",
      "6\n",
      "Decrypted text: w¿p´³µ½|p¾·¿¿·p½ÀÁÉpÉº·Àp±ÁÇwÄ·pÄ·³¶±\n",
      "5\n",
      "iE>J>",
      "",
      ">>",
      ">E",
      ">",
      "\n",
      "3\n",
      "K'o dcem, ngoog mpqy yjgp aqw'tg tgcfa\n",
      "2\n",
      "I'm back, lemme know when you're ready\n",
      "====================\n",
      "268: Message\n",
      "6\n",
      "Decrypted text: ¦·¾¾pÄÁ´pÆÁp¿³µ½pº»Åp¹¸p»ÀpÆº·pÆº·³Æ·Ä\n",
      "5\n",
      "t",
      ">>>>>>>",
      ">",
      "",
      "\n",
      "3\n",
      "Vgnn tqd vq ocem jku ih kp vjg vjgcvgt\n",
      "2\n",
      "Tell rob to mack his gf in the theater\n",
      "====================\n",
      "269: Message\n",
      "6\n",
      "Decrypted text: ³pº³pµÁÁ¾pµÁÁ¾pµº»½½Çpµº»½½Ç}y}}y\n",
      "5\n",
      "h>>>>>XKGXKdbKG\n",
      "3\n",
      "Jc jc eqqn eqqn ejkmmw ejkmmw:-):-FD-)\n",
      "2\n",
      "Ha ha cool cool chikku chikku:-):-DB-)\n",
      "====================\n",
      "270: Message\n",
      "6\n",
      "Decrypted text: ÁÇpÉ·Ä·pÅÇÂÂÁÅ·¶pÆÁpÉ³½·ppÇÂpv¹Æx\n",
      "5\n",
      "_>",
      "",
      ">",
      ">>",
      ">me>>DYXF\n",
      "3\n",
      "Aqw ygtg uwrrqugf vq ycmg OG wr &iv;:(\n",
      "2\n",
      "You were supposed to wake ME up &gt;:(\n",
      "====================\n",
      "271: Message\n",
      "6\n",
      "Decrypted text: w¿p¹Á»À¹pÁÇÆpÆÁp´Ç±p¿Ç¿wÅpÂÄ·Å·ÀÆp³Ä~\n",
      "5\n",
      "iE>>>>>E>",
      "",
      ">L\n",
      "3\n",
      "K'o iqkpi qwv vq dwa owo'u rtgugpv ct.\n",
      "2\n",
      "I'm going out to buy mum's present ar.\n",
      "====================\n",
      "272: Message\n",
      "6\n",
      "Decrypted text: ¥Â·³½»À¹pÁ¸p¶Á·Åpº·pº³È·p³À±pµ³Åºp±·Æ\n",
      "5\n",
      "s",
      ">>",
      ">",
      ">",
      ">>>",
      "]\n",
      "3\n",
      "Urgcmkpi qh fqgu jg jcxg cpa ecuj agv?\n",
      "2\n",
      "Speaking of does he have any cash yet?\n",
      "====================\n",
      "273: Message\n",
      "6\n",
      "Decrypted text: ·pº³ÂÂ±pÆº·Ä·~ppÉ»¾¾pµÁ¿·p³¸Æ·ÄpÀÁÁÀ\n",
      "5\n",
      "b",
      ">>",
      "",
      "L>i>>",
      ">",
      ">\n",
      "3\n",
      "Dg jcrra vjgtg. K yknn eqog chvgt pqqp\n",
      "2\n",
      "Be happy there. I will come after noon\n",
      "====================\n",
      "274: Message\n",
      "6\n"
     ]
    },
    {
     "name": "stdout",
     "output_type": "stream",
     "text": [
      "Decrypted text: ¥w¸»À·~pÀ±Æ»¿·~p¾¾pÆº·p´·ÅÆpÉ»Æºp»Æ~\n",
      "5\n",
      "sE",
      "L>a",
      "L>a>",
      ">",
      ">>L\n",
      "3\n",
      "U'hkpg. Cpavkog. Cnn vjg dguv ykvj kv.\n",
      "2\n",
      "S'fine. Anytime. All the best with it.\n",
      "====================\n",
      "275: Message\n",
      "6\n",
      "Decrypted text: ·Åp»pÉ»¾¾p´·pÆº·Ä·~p¾³¶p±ÁÇp¿³¶·p»Æ~\n",
      "5\n",
      "_",
      ">>>",
      ">",
      "",
      "L>g>>",
      ">L\n",
      "3\n",
      "Agu k yknn dg vjgtg. Incf aqw ocfg kv.\n",
      "2\n",
      "Yes i will be there. Glad you made it.\n",
      "====================\n",
      "276: Message\n",
      "6\n",
      "Decrypted text: ¾ÅÁp³Ä·p±ÁÇp´Ä»À¹»À¹p¹³¾»¾·ÁpÁÄp¶Á´´±\n",
      "5\n",
      "a>",
      ">>>",
      ">>\n",
      "3\n",
      "Cnuq ctg aqw dtkpikpi icnkngq qt fqdda\n",
      "2\n",
      "Also are you bringing galileo or dobby\n",
      "====================\n",
      "277: Message\n",
      "6\n",
      "Decrypted text: ÅpÆº³ÆpÉº³ÆpÆ»¿·p±ÁÇpÉ³ÀÆp¿·pÆÁpµÁ¿·\n",
      "5\n",
      "i>>>",
      ">>>",
      ">>",
      "]\n",
      "3\n",
      "Ku vjcv yjcv vkog aqw ycpv og vq eqog?\n",
      "2\n",
      "Is that what time you want me to come?\n",
      "====================\n",
      "278: Message\n",
      "6\n",
      "Decrypted text: ¥º³¾¾p»pÅ·À¶pÆº³Æp·Ê·pÆÁp±ÁÇÄp¿³»¾p»¶~\n",
      "5\n",
      "s>>",
      ">>",
      "",
      ">>>>L\n",
      "3\n",
      "Ujcnn k ugpf vjcv gzg vq aqwt ockn kf.\n",
      "2\n",
      "Shall i send that exe to your mail id.\n",
      "====================\n",
      "279: Message\n",
      "6\n",
      "Decrypted text: ·³Ä|pÉ»¾¾pµ³¾¾p¦¿ÁÄÄÁÉ~Â¾Åp³µµÁ¿Á¶³Æ·~\n",
      "5\n",
      "d",
      "J>>>tL>",
      "L\n",
      "3\n",
      "Fgct, yknn ecnn Voqttqy.rnu ceeqoqfcvg.\n",
      "2\n",
      "Dear, will call Tmorrow.pls accomodate.\n",
      "====================\n",
      "280: Message\n",
      "6\n",
      "Decrypted text: ÁÆºpyp»pÅºÁÁÆp´»¹p¾Á³¶ÅpÅÁp¹·ÆpÄ·³¶±q\n",
      "5\n",
      "b>XG>>>>>>",
      ">",
      "?\n",
      "3\n",
      "Dqvj :) k ujqqv dki nqcfu uq igv tgcfa!\n",
      "2\n",
      "Both :) i shoot big loads so get ready!\n",
      "====================\n",
      "281: Message\n",
      "6\n",
      "Decrypted text: ·³ÄpºÁÉp»Åpµº·µº»~p»¶p±ÁÇpÆ³¾½pÆÁpº·Ä\n",
      "5\n",
      "d",
      ">>>",
      "L>d>>>>",
      "\n",
      "3\n",
      "Fgct jqy ku ejgejk. Fkf aqw vcnm vq jgt\n",
      "2\n",
      "Dear how is chechi. Did you talk to her\n",
      "====================\n",
      "282: Message\n",
      "6\n",
      "Decrypted text: ©º·Àp»pº³È·pÅÆÇ¸¸pÆÁpÅ·¾¾p»~¾¾pÆ·¾¾p±ÁÇ\n",
      "5\n",
      "w",
      ">>",
      ">>>",
      ">L>",
      ">\n",
      "3\n",
      "Yjgp k jcxg uvwhh vq ugnn k.nn vgnn aqw\n",
      "2\n",
      "When i have stuff to sell i.ll tell you\n",
      "====================\n",
      "283: Message\n",
      "6\n",
      "Decrypted text: »¶pº·p¼ÇÅÆpÅ³±pÅÁ¿·´Á¶±p»ÅpÀ³¿·¶pÆ³¿Â³\n",
      "5\n",
      "d>",
      ">>>",
      ">>",
      ">\n",
      "3\n",
      "Fkf jg lwuv uca uqogdqfa ku pcogf vcorc\n",
      "2\n",
      "Did he just say somebody is named tampa\n",
      "====================\n",
      "284: Message\n",
      "6\n",
      "Decrypted text: ³¾¾p¿·p¶³|p»p³¿pÉ³»Æ»À¹p¸ÁÄp±ÁÇÄpµ³¾¾~\n",
      "5\n",
      "c>",
      ">J>>>>>>L\n",
      "3\n",
      "Ecnn og fc, k co yckvkpi hqt aqwt ecnn.\n",
      "2\n",
      "Call me da, i am waiting for your call.\n",
      "====================\n",
      "285: Message\n",
      "6\n",
      "Decrypted text: ·Å~~¹³ÇÆ»p³À¶pÅ·ºÉ³¹pÁÇÆpÁ¸pÁ¶»pÅ·Ä»·Å~\n",
      "5\n",
      "_",
      "LL>>",
      ">>>>",
      "",
      "L\n",
      "3\n",
      "Agu..icwvk cpf ugjyci qwv qh qfk ugtkgu.\n",
      "2\n",
      "Yes..gauti and sehwag out of odi series.\n",
      "====================\n",
      "286: Message\n",
      "6\n",
      "Decrypted text: ©º³Æp»ÅpÆº·pÂ¾ÇÄ³¾pÁ¸pÆº·pÀÁÇÀpÄ·Å·³Äµº\n",
      "5\n",
      "w>>",
      ">>>",
      ">>",
      "",
      "]\n",
      "3\n",
      "Yjcv ku vjg rnwtcn qh vjg pqwp tgugctej?\n",
      "2\n",
      "What is the plural of the noun research?\n",
      "====================\n",
      "287: Message\n",
      "6\n",
      "Decrypted text: pÂÄ·¶»µÆpÉ³ÆpÆ»¿·p¯w¾¾p¸»À»Åºp´Ç±»À¹\n",
      "5\n",
      "jm>",
      ">>",
      ">j}E>>]\n",
      "3\n",
      "LO rtgfkev ycv vkog L_'nn hkpkuj dwakpi?\n",
      "2\n",
      "JM predict wat time J_'ll finish buying?\n",
      "====================\n",
      "288: Message\n",
      "6\n",
      "Decrypted text: ÁÇÀ¶p»Æ|p ppv¾Æsv¹Æp|pÉº·Ä·p±ÁÇp³Æ\n",
      "5\n",
      "f>J>enc>>DYADY>J>",
      "",
      ">>]\n",
      "3\n",
      "Hqwpf kv, GPE  &nv;#&iv; , yjgtg aqw cv?\n",
      "2\n",
      "Found it, ENC  &lt;#&gt; , where you at?\n",
      "====================\n",
      "289: Message\n",
      "6\n",
      "Decrypted text: ·³ÄpÄ·³µº·¶pÄ³»¾É³±~p©º³Æpº³ÂÂ·ÀpÆÁp±ÁÇ\n",
      "5\n",
      "d",
      ">",
      "",
      ">L>w>",
      ">>\n",
      "3\n",
      "Fgct tgcejgf tcknyca. Yjcv jcrrgp vq aqw\n",
      "2\n",
      "Dear reached railway. What happen to you\n",
      "====================\n",
      "290: Message\n",
      "6\n",
      "Decrypted text: Á¾À»µ·~ppÉ·ÀÆp¸ÄÁ¿p³p¸»ÅºpÆÁp~~É³Æ·Ä~\n",
      "5\n",
      "l",
      "L>i>",
      ">>>>>LL",
      "L]\n",
      "3\n",
      "Nqnpkeg. K ygpv htqo c hkuj vq ..ycvgt.?\n",
      "2\n",
      "Lolnice. I went from a fish to ..water.?\n",
      "====================\n",
      "291: Message\n",
      "6\n",
      "Decrypted text: ³È»À¹p¾ÇÀµºy±ÁÇp³Ä·pÀÁÆp»ÀpÁÀ¾»À·Éº±\n",
      "5\n",
      "h>XG>",
      ">>>",
      "]]\n",
      "3\n",
      "Jcxkpi nwpej:)aqw ctg pqv kp qpnkpg?yja?\n",
      "2\n",
      "Having lunch:)you are not in online?why?\n",
      "====================\n",
      "292: Message\n",
      "6\n",
      "Decrypted text: p½ÀÁÉpÆº³Æp¿±p¸Ä»·À¶p³¾Ä·³¶±pÆÁ¾¶pÆº³Æ~\n",
      "5\n",
      "i>>>>",
      ">",
      ">>L\n",
      "3\n",
      "K mpqy vjcv oa htkgpf cntgcfa vqnf vjcv.\n",
      "2\n",
      "I know that my friend already told that.\n",
      "====================\n",
      "293: Message\n",
      "6\n",
      "Decrypted text: ~~Çp³¾ÅÁp¶ÁÀÆp¿Å¹pÁÄpÄ·Â¾±pÆÁpº»Åp¿Å¹~~\n",
      "5\n",
      "kLL>>>>>",
      ">>>LL\n",
      "3\n",
      "M..w cnuq fqpv oui qt tgrna vq jku oui..\n",
      "2\n",
      "K..u also dont msg or reply to his msg..\n",
      "====================\n",
      "294: Message\n",
      "6\n",
      "Decrypted text: ³p·È·ÀpÆºÁÅ·pµÁÁ½»·Åpº³È·p¼·¾¾±pÁÀpÆº·¿\n",
      "5\n",
      "_>",
      "",
      ">",
      ">",
      ">",
      ">",
      ">>",
      "\n",
      "3\n",
      "Ac gxgp vjqug eqqmkgu jcxg lgnna qp vjgo\n",
      "2\n",
      "Ya even those cookies have jelly on them\n",
      "====================\n",
      "295: Message\n",
      "6\n",
      "Decrypted text: ÇÀÀÁpº·p¼ÇÅpÅ³±p¹Áp¾»¶Á~p¥³¿·pÆ»¿·p~\n",
      "5\n",
      "d>",
      ">>>>L>s",
      ">",
      ">WQNL\n",
      "3\n",
      "Fwppq jg lwu uca iq nkfq. Ucog vkog 930.\n",
      "2\n",
      "Dunno he jus say go lido. Same time 930.\n",
      "====================\n",
      "296: Message\n",
      "6\n",
      "Decrypted text: ÅpÆº³ÆpÅ·Ä»ÁÇÅ¾±pºÁÉp±ÁÇpÅÂ·¾¾pº»ÅpÀ³¿·\n",
      "5\n",
      "i>>",
      ">>>",
      ">>",
      "]\n",
      "3\n",
      "Ku vjcv ugtkqwuna jqy aqw urgnn jku pcog?\n",
      "2\n",
      "Is that seriously how you spell his name?\n",
      "====================\n",
      "297: Message\n",
      "6\n",
      "Decrypted text: ¾³p½³ÀÁ~|»¾p¶ÁÉÀ¾Á³¶|pµÁ¿·pÉ·ÀpÇÄp¸Ä··~~\n",
      "5\n",
      "e>LJ>J>",
      ">",
      ">>",
      "",
      "LL\n",
      "3\n",
      "Gnc mcpq.,kn fqypnqcf, eqog ygp wt htgg..\n",
      "2\n",
      "Ela kano.,il download, come wen ur free..\n",
      "====================\n",
      "298: Message\n",
      "6\n",
      "Decrypted text: ³Å±p³ºÅ·Àp¹ÁÆpÅ·¾·µÆ·¶p¿·³ÀÅp»ÆÅp¹ÁÁ¶~~\n",
      "5\n",
      "e>]",
      ">>",
      "",
      "",
      ">",
      ">>LL\n",
      "3\n",
      "Gcua cj?ugp iqv ugngevgf ogcpu kvu iqqf..\n",
      "2\n",
      "Easy ah?sen got selected means its good..\n",
      "====================\n",
      "299: Message\n",
      "6\n",
      "Decrypted text: ÁÇp¿³¶·p¿±p¶³±~pÁpº³È·p³p¹Ä·³Æp¶³±pÆÁÁ~\n",
      "5\n",
      "_>",
      ">>L>d>",
      ">>",
      ">>L\n",
      "3\n",
      "Aqw ocfg oa fca. Fq jcxg c itgcv fca vqq.\n",
      "2\n",
      "You made my day. Do have a great day too.\n",
      "====================\n",
      "300: Message\n",
      "6\n",
      "Decrypted text: §pµ³¾¾»À¹p¿·pÄ»¹ºÆp³¾¾p¿±pº³À¶pÂºÁÀ·~~~\n",
      "5\n",
      "u>>",
      ">]>c>>>",
      "LLL\n",
      "3\n",
      "W ecnnkpi og tkijv? Ecnn oa jcpf rjqpg...\n",
      "2\n",
      "U calling me right? Call my hand phone...\n",
      "====================\n",
      "301: Message\n",
      "6\n",
      "Decrypted text: ·±p»pÉ»¾¾p´·p¾³Æ·p³º~~~p··Æp±ÁÇp³Æp",
      "{\n",
      "5\n",
      "h",
      ">>>",
      ">",
      ">LLL>m",
      "",
      ">>>WRSI\n",
      "3\n",
      "Jga k yknn dg ncvg cj... Oggv aqw cv 945+\n",
      "2\n",
      "Hey i will be late ah... Meet you at 945+\n",
      "====================\n",
      "302: Message\n",
      "6\n",
      "Decrypted text:  Ápº·p¶»¶ÀwÆ~p¥ÂÄ»À¹p»ÅpµÁ¿»À¹p·³Ä¾±p±³±q\n",
      "5\n",
      "n>",
      ">EL>s>>>",
      ">?\n",
      "3\n",
      "Pq jg fkfp'v. Urtkpi ku eqokpi gctna aca!\n",
      "2\n",
      "No he didn't. Spring is coming early yay!\n",
      "====================\n",
      "303: Message\n",
      "6\n",
      "Decrypted text: »¾Æº±pÅÆÁÄ»·Åp³À¶p¤¥pÉ³»Æ»À¹p¸ÁÄp±ÁÇÄ\n",
      "5\n",
      "f>",
      ">>girls>>>\n",
      "3\n",
      "Hknvja uvqtkgu cpf IKTNU yckvkpi hqt aqwt\n",
      "2\n",
      "Filthy stories and GIRLS waiting for your\n",
      "====================\n",
      "304: Message\n",
      "6\n",
      "Decrypted text: Ä·p±ÁÇpÉ»¾¾»À¹pÆÁp¹Áp¸ÁÄp³ÂÆ»ÆÇ¶·pµ¾³ÅÅ~\n",
      "5\n",
      "a",
      ">>>>>>",
      ">L\n",
      "3\n",
      "Ctg aqw yknnkpi vq iq hqt crvkvwfg encuu.\n",
      "2\n",
      "Are you willing to go for aptitude class.\n",
      "====================\n",
      "305: Message\n",
      "6\n",
      "Decrypted text: »¹ºÆpÉ»¾¾p¶Á|pÆº³À½Åp³¹³»Àp¸ÁÄpµÁ¿»ÀpÁÇÆ\n",
      "5\n",
      "a>>J>>>>>\n",
      "3\n",
      "Ckijv yknn fq, vjcpmu cickp hqt eqokp qwv\n",
      "2\n",
      "Aight will do, thanks again for comin out\n",
      "====================\n",
      "306: Message\n",
      "6\n",
      "Decrypted text: ~~½yÉº·Ä·p³Ä·p±ÁÇºÁÉp¶»¶p±ÁÇpÂ·Ä¸ÁÄ¿·¶\n",
      "5\n",
      "kLLXG",
      "",
      ">",
      ">]>>>",
      "",
      "]\n",
      "3\n",
      "M..m:)yjgtg ctg aqw?jqy fkf aqw rgthqtogf?\n",
      "2\n",
      "K..k:)where are you?how did you performed?\n",
      "====================\n",
      "307: Message\n",
      "6\n",
      "Decrypted text: Á·ÅpÀÁÆpÁÂ·Ä³Æ·p³¸Æ·Äppv¾Æsv¹ÆppÁÄpÉº³Æ\n",
      "5\n",
      "d",
      ">>",
      "",
      ">",
      ">>DYADY>>>\n",
      "3\n",
      "Fqgu pqv qrgtcvg chvgt  &nv;#&iv;  qt yjcv\n",
      "2\n",
      "Does not operate after  &lt;#&gt;  or what\n",
      "====================\n",
      "308: Message\n",
      "6\n",
      "Decrypted text: w¿pÄ·³¾¾±pÀÁÆpÇÂpÆÁp»ÆpÅÆ»¾¾pÆÁÀ»¹ºÆp´³´·\n",
      "5\n",
      "iE>",
      ">>>>>>>",
      "\n",
      "3\n",
      "K'o tgcnna pqv wr vq kv uvknn vqpkijv dcdg\n",
      "2\n",
      "I'm really not up to it still tonight babe\n",
      "====================\n",
      "309: Message\n",
      "6\n",
      "Decrypted text: p½ÀÁÉp±ÁÇp³Ä·~p³Àp±ÁÇpÂ¾ÅpÁÂ·ÀpÆº·p´³µ½\n",
      "5\n",
      "i>>>",
      "L>c>>>",
      ">",
      ">]\n",
      "3\n",
      "K mpqy aqw ctg. Ecp aqw rnu qrgp vjg dcem?\n",
      "2\n",
      "I know you are. Can you pls open the back?\n",
      "====================\n",
      "310: Message\n",
      "6\n",
      "Decrypted text: ·±p¾·³È·p»Æ~pÀÁÆp³p´»¹p¶·³¾}ypÆ³½·pµ³Ä·~\n",
      "5\n",
      "h",
      ">",
      "",
      ">L>>>>",
      "XKG>",
      ">",
      "L\n",
      "3\n",
      "Jga ngcxg kv. pqv c dki fgcn:-) vcmg ectg.\n",
      "2\n",
      "Hey leave it. not a big deal:-) take care.\n",
      "====================\n",
      "311: Message\n",
      "6\n",
      "Decrypted text: ¡p~~~p³È·p±ÁÇp¿³¶·pÂ¾³ÀÅp¸ÁÄpÀ·Ép±·³ÄÅ\n",
      "5\n",
      "lol>LLL>h",
      ">>",
      ">>>",
      ">",
      "]\n",
      "3\n",
      "NQN ... Jcxg aqw ocfg rncpu hqt pgy agctu?\n",
      "2\n",
      "LOL ... Have you made plans for new years?\n",
      "====================\n",
      "312: Message\n",
      "6\n",
      "Decrypted text: ·ÅqpÁÉp»Åp³pÂÄ·ÆÆ±p¾³¶±p¾»½·p±ÁÇpÅ»À¹¾·\n",
      "5\n",
      "_",
      "?>h>>>",
      ">>",
      ">>",
      "]\n",
      "3\n",
      "Agu! Jqy ku c rtgvva ncfa nkmg aqw ukping?\n",
      "2\n",
      "Yes! How is a pretty lady like you single?\n",
      "====================\n",
      "313: Message\n",
      "6\n",
      "Decrypted text: ¥¥~p³µpÅÇÀpÂÁÅÆÅp¡¬ÁÇpÅ··¿pµÁÁ¾\n",
      "5\n",
      "smsL>>NVOW>>helloXz_>",
      "",
      ">\n",
      "3\n",
      "UOU. ce uwp0819 rquvu JGNNQ:\\Aqw uggo eqqn\n",
      "2\n",
      "SMS. ac sun0819 posts HELLO:\\You seem cool\n",
      "====================\n",
      "314: Message\n",
      "6\n",
      "Decrypted text: ¦º³À½Åp¾ÁÈ·~pÇÆp³¿p»p¶Á»À¹pÆÁÄµºpÁÄp´Á¾¶~\n",
      "5\n",
      "t>",
      "L>b>>>>>>L\n",
      "3\n",
      "Vjcpmu nqxg. Dwv co k fqkpi vqtej qt dqnf.\n",
      "2\n",
      "Thanks love. But am i doing torch or bold.\n",
      "====================\n",
      "315: Message\n",
      "6\n",
      "Decrypted text: ±p¿ÁÀ¶³±pÀ·ÊÆpÉ··½~p»È·p¿·pÆº·p¸Ç¾¾p¹»ÅÆ\n",
      "5\n",
      "b>>",
      ">",
      "",
      "L>g",
      ">",
      ">",
      ">>\n",
      "3\n",
      "Da oqpfca pgzv yggm. Ikxg og vjg hwnn ikuv\n",
      "2\n",
      "By monday next week. Give me the full gist\n",
      "====================\n",
      "316: Message\n",
      "6\n",
      "Decrypted text: ¿¿p~~p»ÆÅp³À¶pÂ»·µ·Åp¾Á¾p~~~pzÅ»¹ºÅzp~~~\n",
      "5\n",
      "h>LL>b>>",
      "",
      ">>LLL>HH>LLL\n",
      "3\n",
      "Joo .. Dkvu cpf rkgegu nqn ... *ukiju* ...\n",
      "2\n",
      "Hmm .. Bits and pieces lol ... *sighs* ...\n",
      "====================\n",
      "317: Message\n",
      "6\n",
      "Decrypted text: É·ÅÁ¿·|p¾·¿¿·p½ÀÁÉpÉº·À·È·Äp±ÁÇwÄ·p³ÄÁÇÀ¶\n",
      "5\n",
      "a",
      "",
      "J>",
      "",
      ">>",
      "",
      "",
      ">E",
      ">\n",
      "3\n",
      "Cyguqog, ngoog mpqy yjgpgxgt aqw'tg ctqwpf\n",
      "2\n",
      "Awesome, lemme know whenever you're around\n",
      "====================\n",
      "318: Message\n",
      "6\n",
      "Decrypted text: p³¿pÉ³»Æ»À¹p¿³µº³À~p³¾¾p¿·pÁÀµ·p±ÁÇp¸Ä··~\n",
      "5\n",
      "i>>>L>c>",
      ">",
      ">>",
      "",
      "L\n",
      "3\n",
      "K co yckvkpi ocejcp. Ecnn og qpeg aqw htgg.\n",
      "2\n",
      "I am waiting machan. Call me once you free.\n",
      "====================\n",
      "319: Message\n",
      "6\n"
     ]
    },
    {
     "name": "stdout",
     "output_type": "stream",
     "text": [
      "Decrypted text: »¹ºÆ|pw¾¾pº»Æp±ÁÇpÇÂpÉº·Àpp¹·ÆpÅÁ¿·pµ³Åº\n",
      "5\n",
      "aJ>iE>>>>",
      ">i>",
      ">",
      ">\n",
      "3\n",
      "Ckijv, K'nn jkv aqw wr yjgp K igv uqog ecuj\n",
      "2\n",
      "Aight, I'll hit you up when I get some cash\n",
      "====================\n",
      "320: Message\n",
      "6\n",
      "Decrypted text: ¿¿pÅÁp±Ç¿¿±p´³´·p~~~p »µ·p¼Á¾ÆpÆÁpÆº·pÅÇ²±\n",
      "5\n",
      "m>>>",
      ">LLL>n",
      ">>>",
      ">\n",
      "3\n",
      "Ooo uq awooa dcdg ... Pkeg lqnv vq vjg uwba\n",
      "2\n",
      "Mmm so yummy babe ... Nice jolt to the suzy\n",
      "====================\n",
      "321: Message\n",
      "6\n",
      "Decrypted text: ³Æ·p¼³µ½ÅÁÀpÄ·µpµ·ÀÆ·Äp´·¸ÁÄ·p»Åº|pÄ»¹ºÆ\n",
      "5\n",
      "k",
      ">>",
      ">",
      "",
      ">",
      "",
      ">UJ>]\n",
      "3\n",
      "Mcvg lcemuqp tge egpvgt dghqtg 7kuj, tkijv?\n",
      "2\n",
      "Kate jackson rec center before 7ish, right?\n",
      "====================\n",
      "322: Message\n",
      "6\n",
      "Decrypted text: ·³È·p»Æp¶·}y~p¥Æ³ÄÆp¢Ä·Â³Ä·p¸ÁÄpÀ·ÊÆ}y~~\n",
      "5\n",
      "l",
      "",
      ">>",
      "XKGL>s>p",
      "",
      ">>",
      "XKGLL\n",
      "3\n",
      "Ngcxg kv fg:-). Uvctv Rtgrctg hqt pgzv:-)..\n",
      "2\n",
      "Leave it de:-). Start Prepare for next:-)..\n",
      "====================\n",
      "323: Message\n",
      "6\n",
      "Decrypted text: ¬»¿¿·p³p¸·É¬rpÉ³Åppv¾Æsv¹Æpp¿»ÀÇÆ·Åp³¹Ár\n",
      "5\n",
      "zg",
      ">>",
      "z@>>>DYADY>>",
      ">@\n",
      "3\n",
      "\\Ikoog c hgy\\\" ycu  &nv;#&iv;  okpwvgu ciq\"\n",
      "2\n",
      "\\Gimme a few\\\" was  &lt;#&gt;  minutes ago\"\n",
      "====================\n",
      "324: Message\n",
      "6\n",
      "Decrypted text: ÁÉp»Åp»ÆpÂÁÅÅ»´¾·pÆÁpÆ·³µºp±ÁÇ~pÀ¶pÉº·Ä·~\n",
      "5\n",
      "h>>>",
      ">>",
      ">L>a>",
      "",
      "L\n",
      "3\n",
      "Jqy ku kv rquukdng vq vgcej aqw. Cpf yjgtg.\n",
      "2\n",
      "How is it possible to teach you. And where.\n",
      "====================\n",
      "325: Message\n",
      "6\n",
      "Decrypted text: p¼ÇÅÆp¹ÁÆpºÁ¿·p´³´·|p³Ä·p±ÁÇpÅÆ»¾¾p³É³½·p\n",
      "5\n",
      "i>>>",
      ">",
      "J>",
      ">>>",
      ">]\n",
      "3\n",
      "K lwuv iqv jqog dcdg, ctg aqw uvknn cycmg ?\n",
      "2\n",
      "I just got home babe, are you still awake ?\n",
      "====================\n",
      "326: Message\n",
      "6\n",
      "Decrypted text: §¿¿³p¿±p¾»¸·p³À¶pÈ³È³pÇ¿¿³p¾ÁÈ·p±ÁÇp¾ÁÆp¶·³Ä\n",
      "5\n",
      "u>>",
      ">>>>",
      ">>>",
      "\n",
      "3\n",
      "Wooc oa nkhg cpf xcxc wooc nqxg aqw nqv fgct\n",
      "2\n",
      "Umma my life and vava umma love you lot dear\n",
      "====================\n",
      "327: Message\n",
      "6\n",
      "Decrypted text: ¤³À¼»Æºpµ³¾p¶ÄÂ¶p··Ä³¼p³À¶p¶··Â³½p",
      "¿»ÀpºÁ¾¶\n",
      "5\n",
      "r>>>d",
      "",
      ">>",
      "",
      ">S>\n",
      "3\n",
      "Tcplkvj ecn ftrf Fggtcl cpf fggrcm 5okp jqnf\n",
      "2\n",
      "Ranjith cal drpd Deeraj and deepak 5min hold\n",
      "====================\n",
      "328: Message\n",
      "6\n",
      "Decrypted text: ÇÂ|pÀÁpÀ··¶~pw¾¾p¼ÇÅpÉ³»Æpp·pÄ³»ÀppÅÆÁÂ~\n",
      "5\n",
      "_J>>",
      "",
      "L>iE>>>R>",
      ">>P>L\n",
      "3\n",
      "Awr, pq pggf. K'nn lwu yckv 4 g tckp 2 uvqr.\n",
      "2\n",
      "Yup, no need. I'll jus wait 4 e rain 2 stop.\n",
      "====================\n",
      "329: Message\n",
      "6\n",
      "Decrypted text: p³¿pÆ³½»À¹pº³¾¸p¶³±p¾·³È·p´·µp»p³¿pÀÁÆpÉ·¾¾\n",
      "5\n",
      "i>>>>>",
      "",
      ">",
      ">>>>",
      "\n",
      "3\n",
      "K co vcmkpi jcnh fca ngcxg dge k co pqv ygnn\n",
      "2\n",
      "I am taking half day leave bec i am not well\n",
      "====================\n",
      "330: Message\n",
      "6\n",
      "Decrypted text: Ä·p±ÁÇp»Àpµ³ÅÆÁÄpÁÇpÀ··¶pÆÁpÅ··pÅÁ¿·Æº»À¹\n",
      "5\n",
      "a",
      ">>>]>_>",
      "",
      ">>",
      "",
      ">",
      "\n",
      "3\n",
      "Ctg aqw kp ecuvqt? Aqw pggf vq ugg uqogvjkpi\n",
      "2\n",
      "Are you in castor? You need to see something\n",
      "====================\n",
      "331: Message\n",
      "6\n",
      "Decrypted text: ©»¸·~ºÁÉpÅº·p½À·ÉpÆº·pÆ»¿·pÁ¸p¿ÇÄ¶·Äp·Ê³µÆ¾±\n",
      "5\n",
      "w",
      "L>",
      ">",
      ">",
      ">",
      ">>",
      ">",
      "\n",
      "3\n",
      "Ykhg.jqy ujg mpgy vjg vkog qh owtfgt gzcevna\n",
      "2\n",
      "Wife.how she knew the time of murder exactly\n",
      "====================\n",
      "332: Message\n",
      "6\n",
      "Decrypted text: |pÉ³»Æpµº»½½Ç~~»¾pÅ·À¶p³¸ÆÄppv¾Æsv¹Æp¿»ÀÅ\n",
      "5\n",
      "kJ>>LL>",
      ">>>DYADY>\n",
      "3\n",
      "M, yckv ejkmmw..kn ugpf chvt  &nv;#&iv; okpu\n",
      "2\n",
      "K, wait chikku..il send aftr  &lt;#&gt; mins\n",
      "====================\n",
      "333: Message\n",
      "6\n",
      "Decrypted text: »¶ÀwÆp±ÁÇp¹·Æpº·Âp´p»¿¿ÇÀ»Å³Æ»ÁÀp»ÀpÀ»¹·Ä»³~\n",
      "5\n",
      "dE>>",
      ">",
      ">>>>",
      "L\n",
      "3\n",
      "Fkfp'v aqw igv jgr d koowpkucvkqp kp pkigtkc.\n",
      "2\n",
      "Didn't you get hep b immunisation in nigeria.\n",
      "====================\n",
      "334: Message\n",
      "6\n",
      "Decrypted text: ppp¦p¡p ¡©p©  p¡p¥¡¦ pªª\n",
      "5\n",
      "hi>babe>im>at>home>now>wanna>do>something]>xx\n",
      "3\n",
      "JK DCDG KO CV JQOG PQY YCPPC FQ UQOGVJKPI? ZZ\n",
      "2\n",
      "HI BABE IM AT HOME NOW WANNA DO SOMETHING? XX\n",
      "====================\n",
      "335: Message\n",
      "6\n",
      "Decrypted text: ¦º·pÉ»À·p»Åp¸¾ÁÉ»À¹p³À¶p»w¿p»pº³È·pÀ·È·Ä»À¹~~\n",
      "5\n",
      "t",
      ">",
      ">>>>E>>",
      ">",
      "",
      "LL\n",
      "3\n",
      "Vjg ykpg ku hnqykpi cpf k'o k jcxg pgxgtkpi..\n",
      "2\n",
      "The wine is flowing and i'm i have nevering..\n",
      "====================\n",
      "336: Message\n",
      "6\n",
      "Decrypted text: ¢¥¥¥¥¥¥¥p¦pp¨p¨ ¦p¡ p¥¢¡¤¦¥Ê\n",
      "5\n",
      "pleassssssseeeeee>tel>me>v>avent>done>sports\n",
      "3\n",
      "RNGCUUUUUUUGGGGGG VGN OG X CXGPV FQPG URQTVUz\n",
      "2\n",
      "PLEASSSSSSSEEEEEE TEL ME V AVENT DONE SPORTSx\n",
      "====================\n",
      "337: Message\n",
      "6\n",
      "Decrypted text: ¦³}³³³³³qpp³¿pºÁ¿·p´³´·|p³Ä·p±ÁÇpÅÆ»¾¾pÇÂp\n",
      "5\n",
      "tKd?>i>>",
      ">",
      "J>",
      ">>>>]\n",
      "3\n",
      "Vc-Fccccc! K co jqog dcdg, ctg aqw uvknn wr ?\n",
      "2\n",
      "Ta-Daaaaa! I am home babe, are you still up ?\n",
      "====================\n",
      "338: Message\n",
      "6\n",
      "Decrypted text: v¾Æsv¹Æp¥p §¦¥p©¥p",
      "p §¦¥p¡~p©¦~\n",
      "5\n",
      "DYADY>ish>minutes>was>S>minutes>agoL>wtfL\n",
      "3\n",
      "&nv;#&iv; KUJ OKPWVGU YCU 5 OKPWVGU CIQ. YVH.\n",
      "2\n",
      "&lt;#&gt; ISH MINUTES WAS 5 MINUTES AGO. WTF.\n",
      "====================\n",
      "339: Message\n",
      "6\n",
      "Decrypted text: ¦º³À½Åp¸ÁÄpÆº»ÅpºÁÂ·p±ÁÇpº³¶p³p¹ÁÁ¶p¶³±pÆÁ¶³±\n",
      "5\n",
      "t>>>",
      ">>>>>>\n",
      "3\n",
      "Vjcpmu hqt vjku jqrg aqw jcf c iqqf fca vqfca\n",
      "2\n",
      "Thanks for this hope you had a good day today\n",
      "====================\n",
      "340: Message\n",
      "6\n",
      "Decrypted text: ¦º·Ä·p³Ä·p¿³À±pµÁ¿Â³À±~p¦·¾¾p¿·pÆº·p¾³À¹Ç³¹·~\n",
      "5\n",
      "t",
      "",
      ">",
      ">>L>t",
      ">",
      ">",
      ">",
      "L\n",
      "3\n",
      "Vjgtg ctg ocpa eqorcpa. Vgnn og vjg ncpiwcig.\n",
      "2\n",
      "There are many company. Tell me the language.\n",
      "====================\n",
      "341: Message\n",
      "6\n",
      "Decrypted text: ¸pÉ·pÉ»Àp»ÆÅpÄ·³¾¾±pÀÁppÅ»¶·p¸ÁÄp¾ÁÀ¹pÆ»¿·~\n",
      "5\n",
      "i>",
      ">>>",
      ">>O>",
      ">>>",
      "L\n",
      "3\n",
      "Kh yg ykp kvu tgcnna pq 1 ukfg hqt nqpi vkog.\n",
      "2\n",
      "If we win its really no 1 side for long time.\n",
      "====================\n",
      "342: Message\n",
      "6\n",
      "Decrypted text: ¢Ä³´º³~~»w¿pÅÁÄ±¶³~~Ä·³¾±~~¸Ä¿pº·³ÄÆp»w¿pÅÁÄ±\n",
      "5\n",
      "pLLE>LL",
      "LL>",
      ">E>\n",
      "3\n",
      "Rtcdjc..k'o uqtafc..tgcna..hto jgctv k'o uqta\n",
      "2\n",
      "Prabha..i'm soryda..realy..frm heart i'm sory\n",
      "====================\n",
      "343: Message\n",
      "6\n",
      "Decrypted text: ¡ÁÁºp´·¶pÄ»¶¶·Àp·±p©º³Æp³Ä·p¡§pÆº»À½»À¹pÁ¸\n",
      "5\n",
      "o>",
      ">",
      ">",
      "]>w>",
      ">_ou>>]\n",
      "3\n",
      "Qqqj dgf tkffgp ga? Yjcv ctg AQW vjkpmkpi qh?\n",
      "2\n",
      "Oooh bed ridden ey? What are YOU thinking of?\n",
      "====================\n",
      "344: Message\n",
      "6\n",
      "Decrypted text: ¦·¾¾pÆº·¿pÆº·p¶ÄÇ¹p¶·³¾·ÄwÅp¹·ÆÆ»À¹p»¿Â³Æ»·ÀÆ\n",
      "5\n",
      "t",
      ">",
      ">",
      ">>",
      "",
      "E>",
      ">",
      "\n",
      "3\n",
      "Vgnn vjgo vjg ftwi fgcngt'u igvvkpi korcvkgpv\n",
      "2\n",
      "Tell them the drug dealer's getting impatient\n",
      "====================\n",
      "345: Message\n",
      "6\n",
      "Decrypted text: Ç¶·p»È·p´··ÀpÅ··»À¹p³p¾ÁÆÆ³pµÁÄÈ·ÆÆ·Åp¾³Æ·¾±\n",
      "5\n",
      "d",
      ">",
      ">",
      "",
      ">",
      "",
      ">>>",
      "",
      ">",
      "\n",
      "3\n",
      "Fwfg kxg dggp uggkpi c nqvvc eqtxgvvgu ncvgna\n",
      "2\n",
      "Dude ive been seeing a lotta corvettes lately\n",
      "====================\n",
      "346: Message\n",
      "6\n",
      "Decrypted text: v¾Æsv¹Æpp³¿ppÆº»À½p¥ºÁÇ¾¶pÅ³±pÁÀpÅ±¾¾³´ÇÅ\n",
      "5\n",
      "DYADY>>>i>]>s>>>\n",
      "3\n",
      "&nv;#&iv;  co K vjkpm? Ujqwnf uca qp uanncdwu\n",
      "2\n",
      "&lt;#&gt;  am I think? Should say on syllabus\n",
      "====================\n",
      "347: Message\n",
      "6\n",
      "Decrypted text: ©³ºp¾Çµ½±p¿³À~~~p¦º·Àpµ³ÀpÅ³È·p¿ÁÀ·±~~~p··~~~\n",
      "5\n",
      "w>>LLL>t",
      ">>",
      ">",
      "LLL>h",
      "",
      "LLL\n",
      "3\n",
      "Ycj nwema ocp... Vjgp ecp ucxg oqpga... Jgg...\n",
      "2\n",
      "Wah lucky man... Then can save money... Hee...\n",
      "====================\n",
      "348: Message\n",
      "6\n",
      "Decrypted text:  ÁpÀÁ~ppÉ»¾¾pµº·µ½p³¾¾pÄÁÁ¿Åp´·¸ÁÄp³µÆ»È»Æ»·Å\n",
      "5\n",
      "n>L>i>>",
      ">>>",
      ">",
      "\n",
      "3\n",
      "Pq pq. K yknn ejgem cnn tqqou dghqt cevkxkvkgu\n",
      "2\n",
      "No no. I will check all rooms befor activities\n",
      "====================\n",
      "349: Message\n",
      "6\n",
      "Decrypted text:  ÁÆpÄ·³¾¾±p¶Ç¶·|pº³È·pÀÁp¸Ä»·À¶Åp»w¿p³¸Ä³»¶px\n",
      "5\n",
      "n>",
      ">",
      "J>",
      ">>",
      ">E>>XF\n",
      "3\n",
      "Pqv tgcnna fwfg, jcxg pq htkgpfu k'o chtckf :(\n",
      "2\n",
      "Not really dude, have no friends i'm afraid :(\n",
      "====================\n",
      "350: Message\n",
      "6\n",
      "Decrypted text: |pµ³ÀppÂ»µ½pÇÂp³ÀÁÆº·ÄpÆºpÉº·Àp±ÁÇwÄ·p¶ÁÀ·\n",
      "5\n",
      "kJ>>i>>>",
      ">V>",
      ">E",
      ">",
      "]\n",
      "3\n",
      "M, ecp K rkem wr cpqvjgt 8vj yjgp aqw'tg fqpg?\n",
      "2\n",
      "K, can I pick up another 8th when you're done?\n",
      "====================\n",
      "351: Message\n",
      "6\n",
      "Decrypted text: ÇÆpÆº³ÆwÅpÁÀp·´³±p»Æp¿»¹ºÆp´·p¾·ÅÅp·¾Å·Éº·Ä·~\n",
      "5\n",
      "b>E>>",
      ">>>",
      ">",
      ">",
      "",
      "",
      "",
      "L\n",
      "3\n",
      "Dwv vjcv'u qp gdca kv okijv dg nguu gnugyjgtg.\n",
      "2\n",
      "But that's on ebay it might be less elsewhere.\n",
      "====================\n",
      "352: Message\n",
      "6\n",
      "Decrypted text: ¡½p³À±É³±pÀÁpÀ··¶pÆÁpµº³À¹·pÉ»ÆºpÉº³Æp±ÁÇpÅ³»¶\n",
      "5\n",
      "o>>>",
      "",
      ">>",
      ">>>>\n",
      "3\n",
      "Qm cpayca pq pggf vq ejcpig ykvj yjcv aqw uckf\n",
      "2\n",
      "Ok anyway no need to change with what you said\n",
      "====================\n",
      "353: Message\n",
      "6\n",
      "Decrypted text: wÈ·p¹ÁÆppv¾Æsv¹Æp|p³À±pÉ³±ppµÁÇ¾¶pÂ»µ½pÇÂ\n",
      "5\n",
      "iE",
      ">>>DYADY>J>>>i>>>]\n",
      "3\n",
      "K'xg iqv  &nv;#&iv; , cpa yca K eqwnf rkem wr?\n",
      "2\n",
      "I've got  &lt;#&gt; , any way I could pick up?\n",
      "====================\n",
      "354: Message\n",
      "6\n",
      "Decrypted text: ©º³Æp»ÅpÆº»Åpwº·ÊwpÂ¾³µ·p±ÁÇpÆ³¾½pÁ¸pÊÂ¾³»Àq\n",
      "5\n",
      "w>>>E",
      "E>",
      ">>>]>e?\n",
      "3\n",
      "Yjcv ku vjku 'jgz' rnceg aqw vcnm qh? Gzrnckp!\n",
      "2\n",
      "What is this 'hex' place you talk of? Explain!\n",
      "====================\n",
      "355: Message\n",
      "6\n",
      "Decrypted text: p¶ÇÀÀÁpÆº·±pµ¾ÁÅ·pÁÄ·¶»pÀÁÆ~~~ppÈp¿³p¸³À~~~\n",
      "5\n",
      "i>>",
      ">",
      ">",
      ">LLL>jm>>>LLL\n",
      "3\n",
      "K fwppq vjga enqug qtgfk pqv... LO x oc hcp...\n",
      "2\n",
      "I dunno they close oredi not... JM v ma fan...\n",
      "====================\n",
      "356: Message\n",
      "6\n",
      "Decrypted text: ¡ÁÂÅ|pw¾¾p¾·Æp±ÁÇp½ÀÁÉpÉº·Àp¿±pÄÁÁ¿¿³Æ·wÅp¶ÁÀ·\n",
      "5\n",
      "oJ>iE>",
      ">>>",
      ">>",
      "E>",
      "\n",
      "3\n",
      "Qqru, K'nn ngv aqw mpqy yjgp oa tqqoocvg'u fqpg\n",
      "2\n",
      "Oops, I'll let you know when my roommate's done\n",
      "====================\n",
      "357: Message\n",
      "6\n"
     ]
    },
    {
     "name": "stdout",
     "output_type": "stream",
     "text": [
      "Decrypted text:  ÁÆpÅÇÄ·p±·Æ|pÅÆ»¾¾pÆÄ±»À¹pÆÁp¹·Æp³pºÁ¾¶pÁ¸pº»¿\n",
      "5\n",
      "n>",
      ">",
      "J>>>>",
      ">>>>\n",
      "3\n",
      "Pqv uwtg agv, uvknn vtakpi vq igv c jqnf qh jko\n",
      "2\n",
      "Not sure yet, still trying to get a hold of him\n",
      "====================\n",
      "358: Message\n",
      "6\n",
      "Decrypted text: ¦º·p·ÈÁ~pp¼ÇÅÆpº³¶pÆÁp¶ÁÉÀ¾Á³¶p¸¾³Åº~p·³¾ÁÇÅ\n",
      "5\n",
      "t",
      ">",
      "L>i>>>>>L>j",
      "]\n",
      "3\n",
      "Vjg gxq. K lwuv jcf vq fqypnqcf hncuj. Lgcnqwu?\n",
      "2\n",
      "The evo. I just had to download flash. Jealous?\n",
      "====================\n",
      "359: Message\n",
      "6\n",
      "Decrypted text: ÇÅÆpÅ·ÀÆp»Æ~p¥ÁpÉº³ÆpÆ±Â·pÁ¸p¸ÁÁ¶p¶Áp±ÁÇp¾»½·\n",
      "5\n",
      "j>",
      ">L>s>>",
      ">>>>>",
      "]\n",
      "3\n",
      "Lwuv ugpv kv. Uq yjcv varg qh hqqf fq aqw nkmg?\n",
      "2\n",
      "Just sent it. So what type of food do you like?\n",
      "====================\n",
      "360: Message\n",
      "6\n",
      "Decrypted text: ÇÂpº³È»À¹p¿±p¾ÇÀµºp´Ç¸¸·ÆpÀÁÉ~~p§p·³Æp³¾Ä·³¶±\n",
      "5\n",
      "_>>>>",
      ">LL>u>",
      ">",
      "]\n",
      "3\n",
      "Awr jcxkpi oa nwpej dwhhgv pqy.. W gcv cntgcfa?\n",
      "2\n",
      "Yup having my lunch buffet now.. U eat already?\n",
      "====================\n",
      "361: Message\n",
      "6\n",
      "Decrypted text: ÇÆp»pº³È·pÆÁ~pp¾»½·pÆÁpº³È·p¾ÁÈ·p³À¶p³ÄÄ³À¹·~\n",
      "5\n",
      "b>>",
      ">L>i>",
      ">>",
      ">",
      ">>",
      "L\n",
      "3\n",
      "Dwv k jcxg vq. K nkmg vq jcxg nqxg cpf cttcpig.\n",
      "2\n",
      "But i have to. I like to have love and arrange.\n",
      "====================\n",
      "362: Message\n",
      "6\n",
      "Decrypted text: ¥»pÅ»~ppÆº»À½p»¾¾p¹Áp¿³½·pÆºÁÅ·pÁÄ·ÁpÆÄÇ¸¸¾·Å~\n",
      "5\n",
      "s>L>i>>>>",
      ">",
      ">",
      ">",
      "L\n",
      "3\n",
      "Uk uk. K vjkpm knn iq ocmg vjqug qtgq vtwhhngu.\n",
      "2\n",
      "Si si. I think ill go make those oreo truffles.\n",
      "====================\n",
      "363: Message\n",
      "6\n",
      "Decrypted text: pÁµ¾Áµ½p³Æp¿»À·~pÇÅÆpÆÁp´³ÅºpÁÇÆp³p¸¾³ÆpÂ¾³À~\n",
      "5\n",
      "R>>>",
      "L>j>>>>>>L\n",
      "3\n",
      "4 qenqem cv okpg. Lwuv vq dcuj qwv c hncv rncp.\n",
      "2\n",
      "4 oclock at mine. Just to bash out a flat plan.\n",
      "====================\n",
      "364: Message\n",
      "6\n",
      "Decrypted text: ¾Ä»¹ºÆpÁ¿É|p¹ÁÆÆ³pµº³À¹·p¿±pÁÄ¶·ÄpÆÁp³pº³¾¸Æº\n",
      "5\n",
      "a>J>>",
      ">>",
      ">>>V\n",
      "3\n",
      "Cntkijv qoy, iqvvc ejcpig oa qtfgt vq c jcnh8vj\n",
      "2\n",
      "Alright omw, gotta change my order to a half8th\n",
      "====================\n",
      "365: Message\n",
      "6\n",
      "Decrypted text: ·Àp¾»½·pÅºÁÄÆ·Äp¾³¶»·Å~p³²·pÇÂp»ÀÆÁpº»Åp·±·Å~\n",
      "5\n",
      "m",
      ">",
      ">",
      ">",
      "L>g",
      ">>>>",
      "",
      "L\n",
      "3\n",
      "Ogp nkmg ujqtvgt ncfkgu. Icbg wr kpvq jku gagu.\n",
      "2\n",
      "Men like shorter ladies. Gaze up into his eyes.\n",
      "====================\n",
      "366: Message\n",
      "6\n",
      "Decrypted text: §¹ºpp¶ÁÀwÆpÉ³ÀÀ³p¹·ÆpÁÇÆpÁ¸p´·¶~pÆwÅpÅÁpÉ³Ä¿~\n",
      "5\n",
      "u>i>E>>",
      ">>>",
      "L>iE>>L\n",
      "3\n",
      "Wij K fqp'v ycppc igv qwv qh dgf. Kv'u uq ycto.\n",
      "2\n",
      "Ugh I don't wanna get out of bed. It's so warm.\n",
      "====================\n",
      "367: Message\n",
      "6\n",
      "Decrypted text: ¥»Àµ·pÉº·À|pÉº»µºpÅ»¶·|p³À±p¸·È·Ä|p³À±pÈÁ¿»Æ»À~\n",
      "5\n",
      "s",
      ">",
      "J>>",
      "J>>",
      "",
      "J>>L\n",
      "3\n",
      "Ukpeg yjgp, yjkej ukfg, cpa hgxgt, cpa xqokvkp.\n",
      "2\n",
      "Since when, which side, any fever, any vomitin.\n",
      "====================\n",
      "368: Message\n",
      "6\n",
      "Decrypted text: ¾ÅÁpÄ·¿·¿´·ÄpÆÁp¹·Æp¶Á´´±wÅp´ÁÉ¾p¸ÄÁ¿p±ÁÇÄpµ³Ä\n",
      "5\n",
      "a>",
      "",
      "",
      ">>",
      ">E>>>>\n",
      "3\n",
      "Cnuq tgogodgt vq igv fqdda'u dqyn htqo aqwt ect\n",
      "2\n",
      "Also remember to get dobby's bowl from your car\n",
      "====================\n",
      "369: Message\n",
      "6\n",
      "Decrypted text: º³À¹·p³¹³»À~~~pÆwÅp·pÁÀ·pÀ·ÊÆpÆÁp·Åµ³¾³ÆÁÄ~~~\n",
      "5\n",
      "c",
      ">LLL>iE>",
      ">",
      ">",
      ">>",
      "LLL\n",
      "3\n",
      "Ejcpig cickp... Kv'u g qpg pgzv vq guecncvqt...\n",
      "2\n",
      "Change again... It's e one next to escalator...\n",
      "====================\n",
      "370: Message\n",
      "6\n",
      "Decrypted text: ³pº³pº³p¹ÁÁ¶p¼Á½·~p»Ä¾Åp³Ä·pÅ»ÆÇ³Æ»ÁÀpÅ··½·ÄÅ~\n",
      "5\n",
      "h>>>>",
      "L>g>",
      ">>",
      "",
      "",
      "L\n",
      "3\n",
      "Jc jc jc iqqf lqmg. Iktnu ctg ukvwcvkqp uggmgtu.\n",
      "2\n",
      "Ha ha ha good joke. Girls are situation seekers.\n",
      "====================\n",
      "371: Message\n",
      "6\n",
      "Decrypted text: ©º³ÆÅpÆº·pÅÆ³¸¸pÀ³¿·pÉºÁp»ÅpÆ³½»À¹pµ¾³ÅÅp¸ÁÄpÇÅ\n",
      "5\n",
      "w>",
      ">>",
      ">>>>>>]\n",
      "3\n",
      "Yjcvu vjg uvchh pcog yjq ku vcmkpi encuu hqt wu?\n",
      "2\n",
      "Whats the staff name who is taking class for us?\n",
      "====================\n",
      "372: Message\n",
      "6\n",
      "Decrypted text: ¦»Ä·¶~ppº³È·ÀwÆpÅ¾·ÂÆpÉ·¾¾pÆº·pÂ³ÅÆp¸·ÉpÀ»¹ºÆÅ~\n",
      "5\n",
      "t",
      "L>i>",
      "E>",
      ">",
      ">",
      ">>",
      ">L\n",
      "3\n",
      "Vktgf. K jcxgp'v ungrv ygnn vjg rcuv hgy pkijvu.\n",
      "2\n",
      "Tired. I haven't slept well the past few nights.\n",
      "====================\n",
      "373: Message\n",
      "6\n",
      "Decrypted text: ·Åyº·Ä·pÆÈp»Åp³¾É³±Åp³È³»¾³´¾·p»ÀpÉÁÄ½pÂ¾³µ·~~\n",
      "5\n",
      "_",
      "XG",
      "",
      ">>>>",
      ">>>",
      "LL\n",
      "3\n",
      "Agu:)jgtg vx ku cnycau cxckncdng kp yqtm rnceg..\n",
      "2\n",
      "Yes:)here tv is always available in work place..\n",
      "====================\n",
      "374: Message\n",
      "6\n",
      "Decrypted text:  ÁÀ·pÁ¸pÆº³ÆwÅpº³ÂÂ·À»À¹pÆ»¾p±ÁÇp¹·Æpº·Ä·pÆºÁÇ¹º\n",
      "5\n",
      "n",
      ">>E>",
      ">>>",
      ">",
      "",
      ">\n",
      "3\n",
      "Pqpg qh vjcv'u jcrrgpkpi vkn aqw igv jgtg vjqwij\n",
      "2\n",
      "None of that's happening til you get here though\n",
      "====================\n",
      "375: Message\n",
      "6\n",
      "Decrypted text: ·Åy¸ÄÁ¿p¾³ÅÆpÉ··½p»ÆÅ·¾¸p»w¿pÆ³½»À¹p¾»È·pµ³¾¾~\n",
      "5\n",
      "_",
      "XG>>",
      "",
      ">",
      ">E>>",
      ">L\n",
      "3\n",
      "Agu:)htqo ncuv yggm kvugnh k'o vcmkpi nkxg ecnn.\n",
      "2\n",
      "Yes:)from last week itself i'm taking live call.\n",
      "====================\n",
      "376: Message\n",
      "6\n",
      "Decrypted text: ·p³¾ÅÁp½ÀÁÉÅp³´ÁÇÆp¾ÇÀµºp¿·ÀÇpÁÀ¾±p¶³~p~pp½ÀÁÉ\n",
      "5\n",
      "h",
      ">>>>>",
      ">>L>L>i>\n",
      "3\n",
      "Jg cnuq mpqyu cdqwv nwpej ogpw qpna fc. . K mpqy\n",
      "2\n",
      "He also knows about lunch menu only da. . I know\n",
      "====================\n",
      "377: Message\n",
      "6\n",
      "Decrypted text: »ÆwÅpÄ·³¾¾±p¹·ÆÆ»À¹p¿·p¶ÁÉÀp¼ÇÅÆpº³À¹»À¹p³ÄÁÇÀ¶~\n",
      "5\n",
      "E>",
      ">",
      ">",
      ">>>>L\n",
      "3\n",
      "kv'u tgcnna igvvkpi og fqyp lwuv jcpikpi ctqwpf.\n",
      "2\n",
      "it's really getting me down just hanging around.\n",
      "====================\n",
      "378: Message\n",
      "6\n",
      "Decrypted text: ÅÇÄ·|p´ÇÆp¿³½·pÅÇÄ·pº·p½ÀÁÉÅpÉ·p³»ÀwÆpÅ¿Á½»Àp±·Æ\n",
      "5\n",
      "",
      "J>>",
      ">",
      ">",
      ">>",
      ">E>>",
      "\n",
      "3\n",
      "uwtg, dwv ocmg uwtg jg mpqyu yg ckp'v uoqmkp agv\n",
      "2\n",
      "sure, but make sure he knows we ain't smokin yet\n",
      "====================\n",
      "379: Message\n",
      "6\n",
      "Decrypted text: ©º·Ä·wÅp¿±p´Á±ÆÁ±pp¿»ÅÅp±ÁÇp~~~p©º³Æpº³ÂÂ·À·¶\n",
      "5\n",
      "w",
      "",
      "E>>]>i>>>LLL>w>",
      "",
      "]\n",
      "3\n",
      "Yjgtg'u oa dqavqa? K okuu aqw ... Yjcv jcrrgpgf?\n",
      "2\n",
      "Where's my boytoy? I miss you ... What happened?\n",
      "====================\n",
      "380: Message\n",
      "6\n",
      "Decrypted text: §p¶ÇÀpÅ³±pÅÁp·³Ä¾±pºÁÄ~~~p§pµp³¾Ä·³¶±pÆº·ÀpÅ³±~~~\n",
      "5\n",
      "u>>>>",
      ">LLL>u>>",
      ">",
      ">LLL\n",
      "3\n",
      "W fwp uca uq gctna jqt... W e cntgcfa vjgp uca...\n",
      "2\n",
      "U dun say so early hor... U c already then say...\n",
      "====================\n",
      "381: Message\n",
      "6\n",
      "Decrypted text: ₀Ň¿p¹Á»À¹pÆÁpÆÄ±p¸ÁÄpp¿ÁÀÆºÅpº³pº³pÁÀ¾±p¼Á½»À¹\n",
      "5\n",
      "i⁎_ĕ>>>>>P>>>>>\n",
      "3\n",
      "K‰A÷o iqkpi vq vta hqt 2 oqpvju jc jc qpna lqmkpi\n",
      "2\n",
      "I‰Y÷m going to try for 2 months ha ha only joking\n",
      "====================\n",
      "382: Message\n",
      "6\n",
      "Decrypted text: p¶³Æ»À¹pÅ·ÄÈ»µ·pµ³¾¾pp´ÁÊÅ½µº\n",
      "5\n",
      "ONN>>",
      "",
      ">Y>NWNTRNOPONQ>QQRQV\n",
      "3\n",
      "100 fcvkpi ugtxkeg ecn;n 09064012103 dqz334um38ej\n",
      "2\n",
      "100 dating service cal;l 09064012103 box334sk38ch\n",
      "====================\n",
      "383: Message\n",
      "6\n",
      "Decrypted text: £Ç»Æ·p¾³Æ·p¾³Ä~~~pÄ¶pp³À±É³±p»pÉÇÀp´p¶Ä»È»À~~~\n",
      "5\n",
      "q",
      ">",
      ">LLL>a>OP>>>>>LLL\n",
      "3\n",
      "Swkvg ncvg nct... Ctf 12 cpayca k ywp d ftkxkp...\n",
      "2\n",
      "Quite late lar... Ard 12 anyway i wun b drivin...\n",
      "====================\n",
      "384: Message\n",
      "6\n",
      "Decrypted text: ÁÂ·p±ÁÇp³Ä·pº³È»À¹p³p¹ÁÁ¶pÉ··½~pÇÅÆpµº·µ½»À¹p»À\n",
      "5\n",
      "h",
      ">>",
      ">>>>",
      "",
      "L>j>",
      ">\n",
      "3\n",
      "Jqrg aqw ctg jcxkpi c iqqf yggm. Lwuv ejgemkpi kp\n",
      "2\n",
      "Hope you are having a good week. Just checking in\n",
      "====================\n",
      "385: Message\n",
      "6\n",
      "Decrypted text: ÁÈ·¾±pÅ¿·¾¾pÁÀpÆº»Åp´ÇÅp³À¶p»Æp³»ÀwÆpÆÁ´³µµÁ~~~p\n",
      "5\n",
      "l",
      ">",
      ">>>>>>E>LLL>\n",
      "3\n",
      "Nqxgna uognn qp vjku dwu cpf kv ckp'v vqdceeq... \n",
      "2\n",
      "Lovely smell on this bus and it ain't tobacco... \n",
      "====================\n",
      "386: Message\n",
      "6\n",
      "Decrypted text: ·±pÉº³ÆwÅpÇÂpµº³Ä¾·ÅpÅÁÄÄ±p³´ÁÇÆpÆº·p¾³Æ·pÄ·Â¾±~\n",
      "5\n",
      "h",
      ">E>>",
      ">>>",
      ">",
      ">",
      "L\n",
      "3\n",
      "Jga yjcv'u wr ejctngu uqtta cdqwv vjg ncvg tgrna.\n",
      "2\n",
      "Hey what's up charles sorry about the late reply.\n",
      "====================\n",
      "387: Message\n",
      "6\n",
      "Decrypted text: ÀÁÆº·Äp¿ÁÀÆº~ppÀ··¶pµºÁµÁ¾³Æ·pÉ··¶p³À¶p³¾µÁºÁ¾~\n",
      "5\n",
      "a",
      ">L>i>",
      "",
      ">",
      ">",
      "",
      ">>L\n",
      "3\n",
      "Cpqvjgt oqpvj. K pggf ejqeqncvg yggf cpf cneqjqn.\n",
      "2\n",
      "Another month. I need chocolate weed and alcohol.\n",
      "====================\n",
      "388: Message\n",
      "6\n",
      "Decrypted text: ³Ä¾ÁÅpÅ³±Åpº·w¾¾p´·p³Æp¿Çp»Àppv¾Æsv¹Æpp¿»ÀÇÆ·Å\n",
      "5\n",
      "c>>",
      "E>",
      ">>>>>DYADY>>",
      "\n",
      "3\n",
      "Ectnqu ucau jg'nn dg cv ow kp  &nv;#&iv;  okpwvgu\n",
      "2\n",
      "Carlos says he'll be at mu in  &lt;#&gt;  minutes\n",
      "====================\n",
      "389: Message\n",
      "6\n",
      "Decrypted text: p¾»½·p±ÁÇpÂ·ÁÂ¾·ÅpÈ·Ä±p¿Çµºyp´ÇÆp³¿pÈ·Ä±pÅº±pÂ³~\n",
      "5\n",
      "i>",
      ">>",
      "",
      ">",
      ">XG>>>",
      ">>L\n",
      "3\n",
      "K nkmg aqw rgqrngu xgta owej:) dwv co xgta uja rc.\n",
      "2\n",
      "I like you peoples very much:) but am very shy pa.\n",
      "====================\n",
      "390: Message\n",
      "6\n",
      "Decrypted text: ¥»Ä|ppÀ··¶pª¥p p³µµÁÇÀÆpÀÁp³À¶p´³À½p³¶¶Ä·ÅÅ~\n",
      "5\n",
      "sJ>i>",
      "",
      ">axis>bank>>>>>",
      "L\n",
      "3\n",
      "Ukt, K pggf CZKU DCPM ceeqwpv pq cpf dcpm cfftguu.\n",
      "2\n",
      "Sir, I need AXIS BANK account no and bank address.\n",
      "====================\n",
      "391: Message\n",
      "6\n",
      "Decrypted text: pº³È·pÂÄ»ÀÆ·¶p»ÆpÁº~p¥Áppv¾Æsv¹ÆppµÁ¿·pÇÂÅÆ³»ÄÅ\n",
      "5\n",
      "i>",
      ">",
      ">>L>s>>DYADY>>",
      ">\n",
      "3\n",
      "K jcxg rtkpvgf kv qj. Uq  &nv;#&iv;  eqog wruvcktu\n",
      "2\n",
      "I have printed it oh. So  &lt;#&gt;  come upstairs\n",
      "====================\n",
      "392: Message\n",
      "6\n",
      "Decrypted text: p³µµ»¶·ÀÆ³¾¾±p¶·¾·Æ·¶pÆº·p¿·ÅÅ³¹·~p¤·Å·À¶pÂ¾·³Å·~\n",
      "5\n",
      "i>",
      ">",
      "",
      "",
      ">",
      ">",
      "",
      "L>r",
      "",
      ">",
      "",
      "L\n",
      "3\n",
      "K ceekfgpvcnna fgngvgf vjg oguucig. Tgugpf rngcug.\n",
      "2\n",
      "I accidentally deleted the message. Resend please.\n",
      "====================\n",
      "393: Message\n",
      "6\n",
      "Decrypted text:  ³ºpµ³ÀwÆpº·¾Âp±ÁÇpÆº·Ä·|pwÈ·pÀ·È·Äpº³¶p³Àp»ÂºÁÀ·\n",
      "5\n",
      "n>E>",
      ">>",
      "",
      "J>iE",
      ">",
      "",
      ">>>",
      "\n",
      "3\n",
      "Pcj ecp'v jgnr aqw vjgtg, K'xg pgxgt jcf cp krjqpg\n",
      "2\n",
      "Nah can't help you there, I've never had an iphone\n",
      "====================\n",
      "394: Message\n",
      "6\n",
      "Decrypted text: ©·¾¾p»p½ÀÁÉppÉ»¾¾pÆ³½·pµ³Ä·pÁ¸p¿·~p¥ÁpÀÁpÉÁÄÄ»·Å~\n",
      "5\n",
      "w",
      ">>>`>>",
      ">",
      ">>",
      "L>s>>",
      "L\n",
      "3\n",
      "Ygnn k mpqy B yknn vcmg ectg qh og. Uq pq yqttkgu.\n",
      "2\n",
      "Well i know Z will take care of me. So no worries.\n",
      "====================\n",
      "395: Message\n",
      "6\n"
     ]
    },
    {
     "name": "stdout",
     "output_type": "stream",
     "text": [
      "Decrypted text: ÁÉp¾ÁÀ¹pº³Åp»Æp´··ÀpÅ»Àµ·p±ÁÇpÅµÄ·³¿·¶|pÂÄ»Àµ·ÅÅ\n",
      "5\n",
      "h>>>>",
      "",
      ">",
      ">>",
      "",
      "J>",
      "]\n",
      "3\n",
      "Jqy nqpi jcu kv dggp ukpeg aqw uetgcogf, rtkpeguu?\n",
      "2\n",
      "How long has it been since you screamed, princess?\n",
      "====================\n",
      "396: Message\n",
      "6\n",
      "Decrypted text: pÆº»À½p»wÈ·p¸»Ê·¶p»Æpµ³Àp±ÁÇpÅ·À¶p³pÆ·ÅÆp¿·ÅÅ³¹·\n",
      "5\n",
      "i>>E",
      ">",
      ">>>>",
      ">>",
      ">",
      "",
      "]\n",
      "3\n",
      "K vjkpm k'xg hkzgf kv ecp aqw ugpf c vguv oguucig?\n",
      "2\n",
      "I think i've fixed it can you send a test message?\n",
      "====================\n",
      "397: Message\n",
      "6\n",
      "Decrypted text: ©º³Æp¦Á¶³±}ÅÇÀ¶³±~~ÅÇÀ¶³±p»ÅpºÁ¾»¶³±~~ÅÁpÀÁpÉÁÄ½~~\n",
      "5\n",
      "w>tKLL>>LL>>LL\n",
      "3\n",
      "Yjcv Vqfca-uwpfca..uwpfca ku jqnkfca..uq pq yqtm..\n",
      "2\n",
      "What Today-sunday..sunday is holiday..so no work..\n",
      "====================\n",
      "398: Message\n",
      "6\n",
      "Decrypted text: ·±p±ÁÇpµ³ÀpÂ³±~p©»ÆºpÅ³¾³Ä±p¶·~p¡À¾±ppv¾Æsv¹Æp~\n",
      "5\n",
      "h",
      ">>>L>w>>",
      "L>o>>DYADY>L\n",
      "3\n",
      "Jga aqw ecp rca. Ykvj ucncta fg. Qpna  &nv;#&iv; .\n",
      "2\n",
      "Hey you can pay. With salary de. Only  &lt;#&gt; .\n",
      "====================\n",
      "399: Message\n",
      "6\n",
      "Decrypted text: »pÅ··~p©º·ÀpÉ·p¸»À»ÅºpÉ·pº³È·p¾Á³¶ÅpÁ¸p¾Á³ÀÅpÆÁpÂ³±\n",
      "5\n",
      ">",
      "",
      "L>w",
      ">",
      ">>",
      ">",
      ">>>>>\n",
      "3\n",
      "k ugg. Yjgp yg hkpkuj yg jcxg nqcfu qh nqcpu vq rca\n",
      "2\n",
      "i see. When we finish we have loads of loans to pay\n",
      "====================\n",
      "400: Message\n",
      "6\n",
      "Decrypted text: pÂ¾³µ·p³¾¾pÇÄpÂÁ»ÀÆÅpÁÀp·pµÇ¾ÆÇÄ·Åp¿Á¶Ç¾·p³¾Ä·³¶±~\n",
      "5\n",
      "i>",
      ">>>>>",
      ">",
      ">",
      ">",
      "L\n",
      "3\n",
      "K rnceg cnn wt rqkpvu qp g ewnvwtgu oqfwng cntgcfa.\n",
      "2\n",
      "I place all ur points on e cultures module already.\n",
      "====================\n",
      "401: Message\n",
      "6\n",
      "Decrypted text: ¦Á¿³ÄÄÁÉp¸»À³¾pº·³Ä»À¹pÁÀp¿±p¾³ÂÆÁÂpµ³Å·pÅÁp»pµ³ÀÆ~\n",
      "5\n",
      "t>>",
      ">>>>",
      ">>>L\n",
      "3\n",
      "Vqocttqy hkpcn jgctkpi qp oa ncrvqr ecug uq k ecpv.\n",
      "2\n",
      "Tomarrow final hearing on my laptop case so i cant.\n",
      "====================\n",
      "402: Message\n",
      "6\n",
      "Decrypted text: p ¡~p p§¦¡ p",
      "p¤ ppp§¤p¤¡§ qpz\n",
      "5\n",
      "m_>noL>in>luton>NOPSTWVUVW>ring>me>if>ur>around?>hH\n",
      "3\n",
      "OA PQ. KP NWVQP 0125698789 TKPI OG KH WT CTQWPF! J*\n",
      "2\n",
      "MY NO. IN LUTON 0125698789 RING ME IF UR AROUND! H*\n",
      "====================\n",
      "403: Message\n",
      "6\n",
      "Decrypted text: pµ³ÀÆpÂ»µ½pÆº·pÂºÁÀ·pÄ»¹ºÆpÀÁÉ~p¢¾ÅpÅ·À¶p³p¿·ÅÅ³¹·\n",
      "5\n",
      "i>>>",
      ">",
      ">>L>p>",
      ">>",
      "",
      "\n",
      "3\n",
      "K ecpv rkem vjg rjqpg tkijv pqy. Rnu ugpf c oguucig\n",
      "2\n",
      "I cant pick the phone right now. Pls send a message\n",
      "====================\n",
      "404: Message\n",
      "6\n",
      "Decrypted text: ·ÄÄ±pºÄ»ÅÆ¿³ÅpÆÁp±ÁÇpÆÁÁp´³´·|p»p¾ÁÈ·p±³pz½»ÅÅ·Åz\n",
      "5\n",
      "m",
      ">c>>>>",
      "J>>",
      ">>H",
      "H\n",
      "3\n",
      "Ogtta Ejtkuvocu vq aqw vqq dcdg, k nqxg ac *mkuugu*\n",
      "2\n",
      "Merry Christmas to you too babe, i love ya *kisses*\n",
      "====================\n",
      "405: Message\n",
      "6\n",
      "Decrypted text: ·¾¾ÁqpÁÁ¶pÉ··½p³Àµ±p³p¶Ä»À½pÁÄpÅÁ¿·Æº»À¹p¾³Æ·Ä\n",
      "5\n",
      "h",
      "?>g>",
      "",
      "]>f>>>>",
      ">",
      "]\n",
      "3\n",
      "Jgnnq! Iqqf yggm? Hcpea c ftkpm qt uqogvjkpi ncvgt?\n",
      "2\n",
      "Hello! Good week? Fancy a drink or something later?\n",
      "====================\n",
      "406: Message\n",
      "6\n",
      "Decrypted text: ¡½pw¿p¹ÁÀÀ³pº·³¶pÇÂpÆÁpÇÅ¸p»Àp¾»½·p¸»¸Æ··Àp¿»ÀÇÆ·Å\n",
      "5\n",
      "o>iE>>",
      ">>>>>",
      ">",
      "",
      ">",
      "\n",
      "3\n",
      "Qm K'o iqppc jgcf wr vq wuh kp nkmg hkhvggp okpwvgu\n",
      "2\n",
      "Ok I'm gonna head up to usf in like fifteen minutes\n",
      "====================\n",
      "407: Message\n",
      "6\n",
      "Decrypted text: ·····p~~~pp¾ÁÈ·p±ÁÇpÅÁp¿Çµºppµ³Àp´³Ä·¾±pÅÆ³À¶p»Æ\n",
      "5\n",
      "g",
      "",
      "",
      "",
      "",
      ">LLL>i>",
      ">>>>i>>",
      ">>\n",
      "3\n",
      "Iggggg ... K nqxg aqw uq owej K ecp dctgna uvcpf kv\n",
      "2\n",
      "Geeeee ... I love you so much I can barely stand it\n",
      "====================\n",
      "408: Message\n",
      "6\n",
      "Decrypted text: ÇºpÅÁp·³Ä¾±~~p¦º·Àp¯pº³È»À¹p¶»ÀÀ·ÄpÁÇÆÅ»¶·p»²²»Æ\n",
      "5\n",
      "h>>",
      "LL>t",
      ">j}>>",
      ">",
      ">]\n",
      "3\n",
      "Jwj uq gctna.. Vjgp L_ jcxkpi fkppgt qwvukfg kbbkv?\n",
      "2\n",
      "Huh so early.. Then J_ having dinner outside izzit?\n",
      "====================\n",
      "409: Message\n",
      "6\n",
      "Decrypted text: ©º·Àp¯p¾Á¹»Àp¶³ÆpÆ»¿·~~~p³¶p¸·Æµº»À¹p¯pºÁ¿·pÀÁÉ\n",
      "5\n",
      "w",
      ">j}>>>",
      "LLL>d>",
      ">j}>",
      ">]\n",
      "3\n",
      "Yjgp L_ nqikp fcv vkog... Fcf hgvejkpi L_ jqog pqy?\n",
      "2\n",
      "When J_ login dat time... Dad fetching J_ home now?\n",
      "====================\n",
      "410: Message\n",
      "6\n",
      "Decrypted text: ¦º³À½Åp¸ÁÄp¾ÁÁ½»À¹pÁÇÆp¸ÁÄp¿·~ppÄ·³¾¾±p³ÂÂÄ·µ»³Æ·~\n",
      "5\n",
      "t>>>>>",
      "L>i>",
      ">",
      "",
      "L\n",
      "3\n",
      "Vjcpmu hqt nqqmkpi qwv hqt og. K tgcnna crrtgekcvg.\n",
      "2\n",
      "Thanks for looking out for me. I really appreciate.\n",
      "====================\n",
      "411: Message\n",
      "6\n",
      "Decrypted text: pµ³ÀÆpÂ»µ½pÆº·pÂºÁÀ·pÄ»¹ºÆpÀÁÉ~p¢¾ÅpÅ·À¶p³p¿·ÅÅ³¹·\n",
      "5\n",
      "i>>>",
      ">",
      ">>L>p>",
      ">>",
      "",
      "\n",
      "3\n",
      "K ecpv rkem vjg rjqpg tkijv pqy. Rnu ugpf c oguucig\n",
      "2\n",
      "I cant pick the phone right now. Pls send a message\n",
      "====================\n",
      "412: Message\n",
      "6\n",
      "Decrypted text: p³¿p¹Á»À¹pÆÁpÅ³Áp¿ÇpÆÁ¶³±~p©»¾¾p´·p¶ÁÀ·pÁÀ¾±p³Æpp\n",
      "5\n",
      "i>>>>>>L>w>",
      ">",
      ">>>OP>\n",
      "3\n",
      "K co iqkpi vq ucq ow vqfca. Yknn dg fqpg qpna cv 12 \n",
      "2\n",
      "I am going to sao mu today. Will be done only at 12 \n",
      "====================\n",
      "413: Message\n",
      "6\n",
      "Decrypted text: ±pÅ»ÅÆ·Äpµ¾·³Ä·¶pÆÉÁpÄÁÇÀ¶p»Àp´»Ä¾³pÅÁ¸Æp±·ÅÆ·Ä¶³±~\n",
      "5\n",
      "m>",
      ">",
      "",
      ">>>>>>",
      "",
      "L\n",
      "3\n",
      "Oa ukuvgt engctgf vyq tqwpf kp dktnc uqhv aguvgtfca.\n",
      "2\n",
      "My sister cleared two round in birla soft yesterday.\n",
      "====================\n",
      "414: Message\n",
      "6\n",
      "Decrypted text: p¾»½·pÆÁpÆ³¾½pÂ³p´ÇÆp³¿pÀÁÆp³´¾·pÆÁ~pp¶ÁÀÆp½ÀÁÉp±~\n",
      "5\n",
      "i>",
      ">>>>>>>",
      ">L>i>>>L\n",
      "3\n",
      "K nkmg vq vcnm rc dwv co pqv cdng vq. K fqpv mpqy a.\n",
      "2\n",
      "I like to talk pa but am not able to. I dont know y.\n",
      "====================\n",
      "415: Message\n",
      "6\n",
      "Decrypted text: ¥Áp¯pÂ³±p¸»ÄÅÆp¾³Ä~~~p¦º·ÀpÉº·Àp»Åp¶³pÅÆÁµ½pµÁ¿»À~~~\n",
      "5\n",
      "s>j}>>>LLL>t",
      ">",
      ">>>>LLL\n",
      "3\n",
      "Uq L_ rca hktuv nct... Vjgp yjgp ku fc uvqem eqokp...\n",
      "2\n",
      "So J_ pay first lar... Then when is da stock comin...\n",
      "====================\n",
      "416: Message\n",
      "6\n",
      "Decrypted text: º·Ä·p»Åp¿±pÀ·Ép³¶¶Ä·ÅÅp}³ÂÂ¾·ÅvÂ³»ÄÅv³¾¾pÆº³Æp¿³¾³Ä½±\n",
      "5\n",
      "",
      "",
      ">>>",
      ">",
      ">K",
      "DD>>\n",
      "3\n",
      "jgtg ku oa pgy cfftguu -crrngu&rcktu&cnn vjcv ocnctma\n",
      "2\n",
      "here is my new address -apples&pairs&all that malarky\n",
      "====================\n",
      "417: Message\n",
      "6\n",
      "Decrypted text: Á¿·pÆÁp¿Ç|pÉ·wÄ·pÅÁÄÆ»À¹pÁÇÆpÁÇÄpÀ³ÄµÁÆ»µÅpÅ»ÆÇ³Æ»ÁÀ\n",
      "5\n",
      "c",
      ">>J>",
      "E",
      ">>>>>\n",
      "3\n",
      "Eqog vq ow, yg'tg uqtvkpi qwv qwt pcteqvkeu ukvwcvkqp\n",
      "2\n",
      "Come to mu, we're sorting out our narcotics situation\n",
      "====================\n",
      "418: Message\n",
      "6\n",
      "Decrypted text: ÁÇpµÁÇ¾¶pº³È·pÅ··Àp¿·~~»p¶»¶wÆpÄ·µÁ¹À»Å·p±ÁÇp³µ·~y\n",
      "5\n",
      "_>>",
      ">",
      "",
      ">",
      "LL>E>",
      "",
      ">>f",
      "LXG\n",
      "3\n",
      "Aqw eqwnf jcxg uggp og..k fkf'v tgeqipkug aqw Hceg.:)\n",
      "2\n",
      "You could have seen me..i did't recognise you Face.:)\n",
      "====================\n",
      "419: Message\n",
      "6\n",
      "Decrypted text: pº³¶p³Å½¶pÇp³pÃÇ·ÅÆ»ÁÀpÅÁ¿·pºÁÇÄÅp´·¸ÁÄ·~pÆÅp³ÀÅÉ·Ä\n",
      "5\n",
      "i>>>>>",
      ">",
      ">>",
      "",
      "L>i>",
      "\n",
      "3\n",
      "K jcf cumf w c swguvkqp uqog jqwtu dghqtg. Kvu cpuygt\n",
      "2\n",
      "I had askd u a question some hours before. Its answer\n",
      "====================\n",
      "420: Message\n",
      "6\n",
      "Decrypted text: ÆpÅº³¾¾p´·p¸»À·~ppº³È·p³È³¾³ÄÄpÀÁÉ~p©»¾¾pºÁ¾¾³¾³Æ·Ä\n",
      "5\n",
      "i>>",
      ">",
      "L>i>",
      ">>L>w>",
      "\n",
      "3\n",
      "Kv ujcnn dg hkpg. K jcxg cxcnctt pqy. Yknn jqnncncvgt\n",
      "2\n",
      "It shall be fine. I have avalarr now. Will hollalater\n",
      "====================\n",
      "421: Message\n",
      "6\n",
      "Decrypted text: w¿p»ÀpÁ¸¸»µ·pÀÁÉp~ppÉ»¾¾pµ³¾¾p±ÁÇppv¾Æsv¹Æpp¿»Ày\n",
      "5\n",
      "iE>>",
      ">>L>i>>>>>DYADY>>XG\n",
      "3\n",
      "K'o kp qhhkeg pqy . K yknn ecnn aqw  &nv;#&iv;  okp:)\n",
      "2\n",
      "I'm in office now . I will call you  &lt;#&gt;  min:)\n",
      "====================\n",
      "422: Message\n",
      "6\n",
      "Decrypted text: §¹º~pÁÆÆ³p¶Ä»È·p´³µ½pÆÁpÅ¶p¸ÄÁ¿p¾³~p±p´ÇÆÆp»ÅpÅÁÄ·~\n",
      "5\n",
      "uL>g>",
      ">>>>>L>m>>>",
      "L\n",
      "3\n",
      "Wij. Iqvvc ftkxg dcem vq uf htqo nc. Oa dwvv ku uqtg.\n",
      "2\n",
      "Ugh. Gotta drive back to sd from la. My butt is sore.\n",
      "====================\n",
      "423: Message\n",
      "6\n",
      "Decrypted text: w¿p¹Á»À¹p¸ÁÄp´³ÆºpÉ»¾¾p¿Å¹p±ÁÇpÀ·ÊÆppv¾Æsv¹Æpp¿»À~~\n",
      "5\n",
      "iE>>>>>>>",
      ">>DYADY>>LL\n",
      "3\n",
      "K'o iqkpi hqt dcvj yknn oui aqw pgzv  &nv;#&iv;  okp..\n",
      "2\n",
      "I'm going for bath will msg you next  &lt;#&gt;  min..\n",
      "====================\n",
      "424: Message\n",
      "6\n",
      "Decrypted text: ¦º³À½p±ÁÇp´³´±qppµ³ÀÆpÉ³»ÆpÆÁpÆ³ÅÆ·pÆº·pÄ·³¾pÆº»À¹~~~\n",
      "5\n",
      "t>>?>i>>>>",
      ">",
      ">",
      ">LLL\n",
      "3\n",
      "Vjcpm aqw dcda! K ecpv yckv vq vcuvg vjg tgcn vjkpi...\n",
      "2\n",
      "Thank you baby! I cant wait to taste the real thing...\n",
      "====================\n",
      "425: Message\n",
      "6\n",
      "Decrypted text: ÇÄÄ±pÇÂ|pwÈ·p´··ÀpÉ··¶}¶·¸»µ»·ÀÆp¸ÁÄp¾»½·pÆºÄ··p¶³±Å\n",
      "5\n",
      "h>J>iE",
      ">",
      "",
      ">",
      "",
      "K",
      "",
      ">>",
      ">",
      "",
      ">\n",
      "3\n",
      "Jwtta wr, K'xg dggp yggf-fghkekgpv hqt nkmg vjtgg fcau\n",
      "2\n",
      "Hurry up, I've been weed-deficient for like three days\n",
      "====================\n",
      "426: Message\n",
      "6\n",
      "Decrypted text: ³Ä¾ÁÅw¾¾p´·pº·Ä·p»Àp³p¿»ÀÇÆ·p»¸p±ÁÇpÅÆ»¾¾pÀ··¶pÆÁp´Ç±\n",
      "5\n",
      "cE>",
      ">",
      "",
      ">>>",
      ">>>>",
      "",
      ">>\n",
      "3\n",
      "Ectnqu'nn dg jgtg kp c okpwvg kh aqw uvknn pggf vq dwa\n",
      "2\n",
      "Carlos'll be here in a minute if you still need to buy\n",
      "====================\n",
      "427: Message\n",
      "6\n",
      "Decrypted text: »¹ºÆ|p±ÁÇpµ¾ÁÅ·p´±pÁÄpÅÆ»¾¾p¶ÁÉÀp³ÄÁÇÀ¶p³¾·ÊwÅpÂ¾³µ·\n",
      "5\n",
      "aJ>>",
      ">>>>>>",
      "E>",
      "]\n",
      "3\n",
      "Ckijv, aqw enqug da qt uvknn fqyp ctqwpf cngz'u rnceg?\n",
      "2\n",
      "Aight, you close by or still down around alex's place?\n",
      "====================\n",
      "428: Message\n",
      "6\n",
      "Decrypted text: §pÄ·³µºpÁÄµº³Ä¶p³¾Ä·³¶±p§pÉ³Àpp¹Áp´Ç±pÆ»µ½·ÆÅp¸»ÄÅÆ\n",
      "5\n",
      "u>",
      ">>",
      "]>u>>P>>>",
      ">]\n",
      "3\n",
      "W tgcej qtejctf cntgcfa? W ycp 2 iq dwa vkemgvu hktuv?\n",
      "2\n",
      "U reach orchard already? U wan 2 go buy tickets first?\n",
      "====================\n",
      "429: Message\n",
      "6\n",
      "Decrypted text:  Áp¶³p»¸p±ÁÇpÄÇÀpÆº³Æp»Æp³µÆ»È³Æ·pÆº·p¸Ç¾¾pÈ·ÄÅ»ÁÀp¶³~\n",
      "5\n",
      "n>>>>>>>",
      ">",
      ">>",
      ">L\n",
      "3\n",
      "Pq fc kh aqw twp vjcv kv cevkxcvg vjg hwnn xgtukqp fc.\n",
      "2\n",
      "No da if you run that it activate the full version da.\n",
      "====================\n",
      "430: Message\n",
      "6\n",
      "Decrypted text: ¡¡p¦p¦p§ p¦~p©¦p¦p§p¡§p¦ p¥p§¢\n",
      "5\n",
      "look>at>the>fuckin>timeL>what>the>fuck>_ou>think>is>up\n",
      "3\n",
      "NQQM CV VJG HWEMKP VKOG. YJCV VJG HWEM AQW VJKPM KU WR\n",
      "2\n",
      "LOOK AT THE FUCKIN TIME. WHAT THE FUCK YOU THINK IS UP\n",
      "====================\n",
      "431: Message\n",
      "6\n",
      "Decrypted text: pµ³¾¾p±ÁÇp¾³Æ·Ä|p¶ÁÀwÆpº³È·pÀ·ÆÉÁÄ½~p¸pÇÄ¹ÀÆ|pÅ¿Åp¿·~\n",
      "5\n",
      "i>>>",
      "J>E>",
      ">",
      "L>i>J>>",
      "L\n",
      "3\n",
      "K ecnn aqw ncvgt, fqp'v jcxg pgvyqtm. Kh wtipv, uou og.\n",
      "2\n",
      "I call you later, don't have network. If urgnt, sms me.\n",
      "====================\n",
      "432: Message\n",
      "6\n",
      "Decrypted text: ³È·p±ÁÇp¹ÁÆpª¿³ÅpÄ³¶»ÁpÆ»¿·Å~p¸pÀÁÆp»pÉ»¾¾p¹·Æp»ÆpÀÁÉ\n",
      "5\n",
      "h",
      ">>>x>>",
      "L>i>>>>",
      ">>\n",
      "3\n",
      "Jcxg aqw iqv Zocu tcfkq vkogu. Kh pqv k yknn igv kv pqy\n",
      "2\n",
      "Have you got Xmas radio times. If not i will get it now\n",
      "====================\n",
      "433: Message\n",
      "6\n",
      "Decrypted text: ³¸pÇp¸ÁÇÀ¶pº»¿pp¸··¾pÅÁpÅÆÇÂ»¶p¶³pÈpµ³¿pÉ³ÅpÉÁÄ½»À¹~\n",
      "5\n",
      "h>>>]>i>",
      "",
      ">>>>>>>L\n",
      "3\n",
      "Jch w hqwpf jko? K hggn uq uvwrkf fc x eco ycu yqtmkpi.\n",
      "2\n",
      "Haf u found him? I feel so stupid da v cam was working.\n",
      "====================\n",
      "434: Message\n",
      "6\n",
      "Decrypted text: ©º·Ä·p³Ä·pÆº·p¹³Ä³¹·p½·±Åp¦º·±p³Ä·ÀwÆpÁÀpÆº·p´ÁÁ½Åº·¾¸\n",
      "5\n",
      "w",
      "",
      ">",
      ">",
      ">",
      ">",
      "]>t",
      ">",
      "E>>",
      ">",
      "\n",
      "3\n",
      "Yjgtg ctg vjg ictcig mgau? Vjga ctgp'v qp vjg dqqmujgnh\n",
      "2\n",
      "Where are the garage keys? They aren't on the bookshelf\n",
      "====================\n",
      "435: Message\n",
      "6\n",
      "Decrypted text: ÁÇpÅºÁÇ¾¶pµº³À¹·p±ÁÇÄp¸´pÆÁp¼³±½ÉÁÀpÆºÇ¹¾±¸·p¸³¾µÁÀ·Ä¸\n",
      "5\n",
      "_>>",
      ">>>>>",
      ">",
      "\n",
      "3\n",
      "Aqw ujqwnf ejcpig aqwt hd vq lcamyqp vjwinahg hcneqpgth\n",
      "2\n",
      "You should change your fb to jaykwon thuglyfe falconerf\n",
      "====================\n",
      "436: Message\n",
      "6\n"
     ]
    },
    {
     "name": "stdout",
     "output_type": "stream",
     "text": [
      "Decrypted text: ¥Á¿·pÁ¸pÆº·¿pÆÁ¾¶p³µµ·ÀÆÇÄ·p»ÅpÀÁÆpµÁÀ¸»Ä¿~pÅp»ÆpÆÄÇ·~\n",
      "5\n",
      "s",
      ">>",
      ">>",
      "",
      ">>>L>i>>",
      "L\n",
      "3\n",
      "Uqog qh vjgo vqnf ceegpvwtg ku pqv eqphkto. Ku kv vtwg.\n",
      "2\n",
      "Some of them told accenture is not confirm. Is it true.\n",
      "====================\n",
      "437: Message\n",
      "6\n",
      "Decrypted text: ¬¢·Æ·pµ³Àp±ÁÇpÂ¾·³Å·pÄ»À¹p¿·»È·pº³Ä¶¾±p¹ÁÆ³À±pµÄ·¶»Æ¬rr\n",
      "5\n",
      "zp",
      "",
      ">>>",
      "",
      ">>",
      "",
      ">>>",
      "z@@\n",
      "3\n",
      "\\Rgvg ecp aqw rngcug tkpi ogkxg jctfna iqvcpa etgfkv\\\"\"\n",
      "2\n",
      "\\Pete can you please ring meive hardly gotany credit\\\"\"\n",
      "====================\n",
      "438: Message\n",
      "6\n",
      "Decrypted text: p³¿p¹Ä·³ÆpÂÄ»Àµ·ÅÅqp©º³Æp³Ä·p±ÁÇpÆº»À½»À¹p³´ÁÇÆp¿·py\n",
      "5\n",
      "i>>",
      ">",
      "?>w>",
      ">>>>",
      "]>XG\n",
      "3\n",
      "K co itgcv rtkpeguu! Yjcv ctg aqw vjkpmkpi cdqwv og? :)\n",
      "2\n",
      "I am great princess! What are you thinking about me? :)\n",
      "====================\n",
      "439: Message\n",
      "6\n",
      "Decrypted text: ¥ÁÄÄ±p¿±pÄÁÁ¿¿³Æ·ÅpÆÁÁ½p¸ÁÄ·È·Ä|p»ÆpÁ½p»¸ppµÁ¿·p´±pÀÁÉ\n",
      "5\n",
      "s>>",
      ">>",
      "",
      "J>>>>i>",
      ">>]\n",
      "3\n",
      "Uqtta oa tqqoocvgu vqqm hqtgxgt, kv qm kh K eqog da pqy?\n",
      "2\n",
      "Sorry my roommates took forever, it ok if I come by now?\n",
      "====================\n",
      "440: Message\n",
      "6\n",
      "Decrypted text: ¾¾p¶ÁÀ·p¾¾pº³À¶·¶p»Àp·¾·´Ä³Æ»ÁÀÅp»Àp¸Ç¾¾pÅÉ»À¹p±·Æ\n",
      "5\n",
      "a>",
      "]>a>",
      ">]>c",
      "",
      ">>>>",
      "]\n",
      "3\n",
      "Cnn fqpg? Cnn jcpfgf kp? Egngdtcvkqpu kp hwnn uykpi agv?\n",
      "2\n",
      "All done? All handed in? Celebrations in full swing yet?\n",
      "====================\n",
      "441: Message\n",
      "6\n",
      "Decrypted text: ¢»µ½p±ÁÇpÇÂp´ÁÇÆp~»Åºp©º³ÆpÆ»¿·p³Ä·pp³À¶pÆº³Æp¹Á»À¹\n",
      "5\n",
      "p>>>>ULQN]>w>",
      ">",
      ">>>>]\n",
      "3\n",
      "Rkem aqw wr dqwv 7.30kuj? Yjcv vkog ctg  cpf vjcv iqkpi?\n",
      "2\n",
      "Pick you up bout 7.30ish? What time are  and that going?\n",
      "====================\n",
      "442: Message\n",
      "6\n",
      "Decrypted text: Àpµº»½½ÇpÀ³À¹·p´³½Ä³p¿Å¹p½³¾ÅÆ»±³~~Æº·Àpº³¶pÆ·³µÁ¸¸··\n",
      "5\n",
      "e>>",
      ">>>LL",
      ">>",
      "M",
      "",
      "]\n",
      "3\n",
      "Gp ejkmmw pcpig dcmtc oui mcnuvkac..vjgp jcf vgc/eqhhgg?\n",
      "2\n",
      "En chikku nange bakra msg kalstiya..then had tea/coffee?\n",
      "====================\n",
      "443: Message\n",
      "6\n",
      "Decrypted text: ¦ºÇÄÅ¶³±pÀ»¹ºÆp·³º|pÅÇÄ·pÆº»À¹|pÉ·w¾¾pÉÁÄ½p»ÆpÁÇÆpÆº·À\n",
      "5\n",
      "t>]>_",
      "J>",
      ">J>",
      "E>>>>",
      "\n",
      "3\n",
      "Vjwtufca pkijv? Agcj, uwtg vjkpi, yg'nn yqtm kv qwv vjgp\n",
      "2\n",
      "Thursday night? Yeah, sure thing, we'll work it out then\n",
      "====================\n",
      "444: Message\n",
      "6\n",
      "Decrypted text: ¡Àp¿³pÉ³±pÆÁpÅµºÁÁ¾~p³Àp±ÁÇpÂ¾ÅpÅ·À¶p¿·p³Åº¾·±wÅpÀÇ¿´·Ä\n",
      "5\n",
      "o>>>>L>c>>>",
      ">",
      ">",
      "E>",
      "\n",
      "3\n",
      "Qp oc yca vq uejqqn. Ecp aqw rnu ugpf og cujnga'u pwodgt\n",
      "2\n",
      "On ma way to school. Can you pls send me ashley's number\n",
      "====================\n",
      "445: Message\n",
      "6\n",
      "Decrypted text: ÇÅÆp´Ç±p³pÂ»²²³~p·³Æp¾ÁÈ·ÄÅpÁÄpÅÇÂÄ·¿·~p§p¹·ÆpÆÁpÂ»µ½~\n",
      "5\n",
      "j>>>L>m",
      ">",
      ">>",
      "",
      "L>u>",
      ">>L\n",
      "3\n",
      "Lwuv dwa c rkbbc. Ogcv nqxgtu qt uwrtgog. W igv vq rkem.\n",
      "2\n",
      "Just buy a pizza. Meat lovers or supreme. U get to pick.\n",
      "====================\n",
      "446: Message\n",
      "6\n",
      "Decrypted text: ¸¸¸¸¸¸¸¸¸~p¾Ä»¹ºÆpÀÁpÉ³±ppµ³Àp¿··ÆpÇÂpÉ»Æºp±ÁÇpÅÁÁÀ·Ä\n",
      "5\n",
      "fL>a>>>i>>",
      "",
      ">>>>",
      "]\n",
      "3\n",
      "Hhhhhhhhhh. Cntkijv pq yca K ecp oggv wr ykvj aqw uqqpgt?\n",
      "2\n",
      "Ffffffffff. Alright no way I can meet up with you sooner?\n",
      "====================\n",
      "447: Message\n",
      "6\n",
      "Decrypted text: ¢¾·³Å·p¶ÁÀwÆpÆ·ÊÆp¿·p³À±¿ÁÄ·~ppº³È·pÀÁÆº»À¹p·¾Å·pÆÁpÅ³±~\n",
      "5\n",
      "p",
      "",
      ">E>",
      ">",
      ">",
      "L>i>",
      ">>",
      "",
      ">>L\n",
      "3\n",
      "Rngcug fqp'v vgzv og cpaoqtg. K jcxg pqvjkpi gnug vq uca.\n",
      "2\n",
      "Please don't text me anymore. I have nothing else to say.\n",
      "====================\n",
      "448: Message\n",
      "6\n",
      "Decrypted text: ÇÂ~~~pÄÁ¿pÉº³Æp»pÄ·¿´~~~ppÆº»À½pÅºÁÇ¾¶p´·pµ³Àp´ÁÁ½~~~p\n",
      "5\n",
      "_LLL>f>>>",
      "LLL>i>>>",
      ">>LLL>\n",
      "3\n",
      "Awr... Htqo yjcv k tgod... K vjkpm ujqwnf dg ecp dqqm... \n",
      "2\n",
      "Yup... From what i remb... I think should be can book... \n",
      "====================\n",
      "449: Message\n",
      "6\n",
      "Decrypted text: ÁÁ¾~p¥ÁpºÁÉpµÁ¿·p±ÁÇpº³È·ÀÆp´··ÀpÉ»À·¶p³À¶p¶»À·¶p´·¸ÁÄ·\n",
      "5\n",
      "cL>s>>",
      ">>",
      ">",
      "",
      ">",
      ">>",
      ">",
      "",
      "]\n",
      "3\n",
      "Eqqn. Uq jqy eqog aqw jcxgpv dggp ykpgf cpf fkpgf dghqtg?\n",
      "2\n",
      "Cool. So how come you havent been wined and dined before?\n",
      "====================\n",
      "450: Message\n",
      "6\n",
      "Decrypted text: y½yÉº³Æp³Ä·p¶·Æ³»¾p±ÁÇpÉ³ÀÆpÆÁpÆÄ³ÀÅ¸·Ä³µµpÀÁp·ÀÁÇ¹º\n",
      "5\n",
      "kXGXG>",
      ">",
      ">>>>",
      "]>>",
      "]\n",
      "3\n",
      "M:)m:)yjcv ctg fgvckn aqw ycpv vq vtcpuhgt?cee pq gpqwij?\n",
      "2\n",
      "K:)k:)what are detail you want to transfer?acc no enough?\n",
      "====================\n",
      "451: Message\n",
      "6\n",
      "Decrypted text: »p»pÉÁÀwÆp´p³Ä¶ppµºÄ»ÅÆ¿³Å~pÇÆp¶Áp·À¼Á±pÀp¿·ÄÄ±pÊw¿³Å~\n",
      "5\n",
      "h>>E>>>R>L>b>>",
      ">>",
      ">EL\n",
      "3\n",
      "Jk k yqp'v d ctf 4 ejtkuvocu. Dwv fq gplqa p ogtta z'ocu.\n",
      "2\n",
      "Hi i won't b ard 4 christmas. But do enjoy n merry x'mas.\n",
      "====================\n",
      "452: Message\n",
      "6\n",
      "Decrypted text: p³¿p»ÀpÆ»ÄÇÂÇÄp¶³|pÁÀµ·p±ÁÇpÅÆ³ÄÆ·¶p¸ÄÁ¿pÁ¸¸»µ·pµ³¾¾p¿·~\n",
      "5\n",
      "i>>>>J>",
      ">>",
      ">>",
      ">>",
      "L\n",
      "3\n",
      "K co kp vktwrwt fc, qpeg aqw uvctvgf htqo qhhkeg ecnn og.\n",
      "2\n",
      "I am in tirupur da, once you started from office call me.\n",
      "====================\n",
      "453: Message\n",
      "6\n",
      "Decrypted text: ¥ÁÄÄ±p¿·p¹Á»À¹pºÁ¿·p¸»ÄÅÆ~~~p³¶¶±pµÁ¿·p¸·Æµºp¯p¾³Æ·Ä~~~\n",
      "5\n",
      "s>",
      ">>",
      ">LLL>d>",
      ">",
      ">j}>",
      "LLL\n",
      "3\n",
      "Uqtta og iqkpi jqog hktuv... Fcffa eqog hgvej L_ ncvgt...\n",
      "2\n",
      "Sorry me going home first... Daddy come fetch J_ later...\n",
      "====================\n",
      "454: Message\n",
      "6\n",
      "Decrypted text: pÉ»¾p´·pÆº·Ä·pÉ»Æºp»Àppv¾Æsv¹Æpp¿»ÀÇÆ·Å~pÁÆp³À±pÅÂ³µ·\n",
      "5\n",
      "i>>",
      ">",
      "",
      ">>>>DYADY>>",
      "L>g>>",
      "\n",
      "3\n",
      "K ykn dg vjgtg ykvj kp  &nv;#&iv;  okpwvgu. Iqv cpa urceg\n",
      "2\n",
      "I wil be there with in  &lt;#&gt;  minutes. Got any space\n",
      "====================\n",
      "455: Message\n",
      "6\n",
      "Decrypted text: »À·p»¸pÆº³Æµ¥ÅpÆº·pÉ³±pÇp¸··¾~p¦º³Æµ¥ÅpÆº·pÉ³±p»ÆÅp¹ÁÆ³p´\n",
      "5\n",
      "f",
      ">>s>",
      ">>>",
      "",
      "L>ts>",
      ">>>>\n",
      "3\n",
      "Hkpg kh vjcveUu vjg yca w hggn. VjcveUu vjg yca kvu iqvc d\n",
      "2\n",
      "Fine if thatcSs the way u feel. ThatcSs the way its gota b\n",
      "====================\n",
      "456: Message\n",
      "6\n",
      "Decrypted text: ©º³Æp±ÁÇpÆº»À½·¶p³´ÁÇÆp¿·~p»ÄÅÆpÆ»¿·p±ÁÇpÅ³Ép¿·p»Àpµ¾³ÅÅ~\n",
      "5\n",
      "w>>",
      ">>",
      "L>f>",
      ">>>",
      ">>L\n",
      "3\n",
      "Yjcv aqw vjkpmgf cdqwv og. Hktuv vkog aqw ucy og kp encuu.\n",
      "2\n",
      "What you thinked about me. First time you saw me in class.\n",
      "====================\n",
      "457: Message\n",
      "6\n",
      "Decrypted text: »À³¾¾±pÆº·p¿³Æµºpº·³¶»À¹pÆÁÉ³Ä¶Åp¶Ä³Ép³Åp±ÁÇÄpÂÄ·¶»µÆ»ÁÀ~\n",
      "5\n",
      "f>",
      ">>",
      ">>>>>",
      "L\n",
      "3\n",
      "Hkpcnna vjg ocvej jgcfkpi vqyctfu ftcy cu aqwt rtgfkevkqp.\n",
      "2\n",
      "Finally the match heading towards draw as your prediction.\n",
      "====================\n",
      "458: Message\n",
      "6\n",
      "Decrypted text: |pp¿»¹ºÆpµÁ¿·p´±pÆÁÀ»¹ºÆpÆº·Àp»¸p¿±pµ¾³ÅÅp¾·ÆÅpÁÇÆp·³Ä¾±\n",
      "5\n",
      "kJ>i>>",
      ">>>",
      ">>>>",
      ">>",
      "\n",
      "3\n",
      "M, K okijv eqog da vqpkijv vjgp kh oa encuu ngvu qwv gctna\n",
      "2\n",
      "K, I might come by tonight then if my class lets out early\n",
      "====================\n",
      "459: Message\n",
      "6\n",
      "Decrypted text: Å½p¹pÁÄp»ÁÇÄ»|pwÈ·pÆÁ¾¶pÆº·pÅÆÁÄ±p¾»½·pÆ·ÀpÆ»¿·Åp³¾Ä·³¶±\n",
      "5\n",
      "a>>>J>iE",
      ">>",
      ">>",
      ">",
      ">",
      ">",
      "\n",
      "3\n",
      "Cum i qt kqwtk, K'xg vqnf vjg uvqta nkmg vgp vkogu cntgcfa\n",
      "2\n",
      "Ask g or iouri, I've told the story like ten times already\n",
      "====================\n",
      "460: Message\n",
      "6\n",
      "Decrypted text: ÁÁ¶pÉÁÄ¶Å~~~~pÇÆpÉÁÄ¶Åp¿³±p¾·³È·pÇp»Àp¶»Å¿³±p¿³À±pÆ»¿·Å~\n",
      "5\n",
      "g>LLLL>b>>>",
      "",
      ">>>>>",
      "L\n",
      "3\n",
      "Iqqf yqtfu.... Dwv yqtfu oca ngcxg w kp fkuoca ocpa vkogu.\n",
      "2\n",
      "Good words.... But words may leave u in dismay many times.\n",
      "====================\n",
      "461: Message\n",
      "6\n",
      "Decrypted text: ÅÁÄÄ±|pÀÁ|pº³È·p¹ÁÆp¸·ÉpÆº»À¹ÅpÆÁp¶Á~p¿³±p´·p»ÀpÂÇ´p¾³Æ·Ä~\n",
      "5\n",
      "J>J>",
      ">>",
      ">>>L>>",
      ">>>",
      "L\n",
      "3\n",
      "uqtta, pq, jcxg iqv hgy vjkpiu vq fq. oca dg kp rwd ncvgt.\n",
      "2\n",
      "sorry, no, have got few things to do. may be in pub later.\n",
      "====================\n",
      "462: Message\n",
      "6\n",
      "Decrypted text: ÁÆp»Æ~p¥·È·ÀÆ··ÀpÂÁÇÀ¶Åp¸ÁÄpÅ·È·ÀpºÇÀ¶Ä·¶p¿¾p₀¢pºÁÂ·pÁ½~\n",
      "5\n",
      "g>L>s",
      "",
      "",
      "",
      ">>>",
      "",
      ">",
      ">>⁎_p>",
      ">L\n",
      "3\n",
      "Iqv kv. Ugxgpvggp rqwpfu hqt ugxgp jwpftgf on ‰AR jqrg qm.\n",
      "2\n",
      "Got it. Seventeen pounds for seven hundred ml ‰YP hope ok.\n",
      "====================\n",
      "463: Message\n",
      "6\n",
      "Decrypted text:  ÁÆp¹·ÆÆ»À¹p³À±Éº·Ä·pÉ»ÆºpÆº»Åp¶³¿Àp¼Á´pºÇÀÆ»À¹pÁÈ·Äpº·Ä·q\n",
      "5\n",
      "n>",
      ">",
      "",
      ">>>>>>",
      ">",
      "",
      "?\n",
      "3\n",
      "Pqv igvvkpi cpayjgtg ykvj vjku fcop lqd jwpvkpi qxgt jgtg!\n",
      "2\n",
      "Not getting anywhere with this damn job hunting over here!\n",
      "====================\n",
      "464: Message\n",
      "6\n",
      "Decrypted text: p³¿pÄ·³¾|p´³´±qppÉ³ÀÆpÆÁp´Ä»À¹pÁÇÆp±ÁÇÄp»ÀÀ·ÄpÆ»¹Ä·ÅÅ~~~\n",
      "5\n",
      "i>>",
      "J>?>i>>>>>>",
      ">",
      "LLL\n",
      "3\n",
      "K co tgcn, dcda! K ycpv vq dtkpi qwv aqwt kppgt vkitguu...\n",
      "2\n",
      "I am real, baby! I want to bring out your inner tigress...\n",
      "====================\n",
      "465: Message\n",
      "6\n",
      "Decrypted text: ÇÂp»pÆº½pµ»À·p»Åp´·ÆÆ·ÄpµÁÅpÀÁpÀ··¶pp¹Áp¶ÁÉÀppÂ¾³²³p¿³º~\n",
      "5\n",
      "_>>>",
      ">>",
      "",
      ">>>",
      "",
      ">P>>>P>>L\n",
      "3\n",
      "Awr k vjm ekpg ku dgvvgt equ pq pggf 2 iq fqyp 2 rncbc ocj.\n",
      "2\n",
      "Yup i thk cine is better cos no need 2 go down 2 plaza mah.\n",
      "====================\n",
      "466: Message\n",
      "6\n",
      "Decrypted text: ·Åpy»ÆpµÁ¿Â¾·Æ·¾±p»ÀpÁÇÆpÁ¸p¸ÁÄ¿yµ¾³Ä½p³¾ÅÁpÇÆÆ·ÄpÉ³ÅÆ·~\n",
      "5\n",
      "_",
      ">XG>",
      "",
      ">>>>XG>>",
      ">",
      "L\n",
      "3\n",
      "Agu :)kv eqorngvgna kp qwv qh hqto:)enctm cnuq wvvgt ycuvg.\n",
      "2\n",
      "Yes :)it completely in out of form:)clark also utter waste.\n",
      "====================\n",
      "467: Message\n",
      "6\n"
     ]
    },
    {
     "name": "stdout",
     "output_type": "stream",
     "text": [
      "Decrypted text: ·³ºpÅÇÄ·|p¹»È·p¿·p³pµÁÇÂ¾·p¿»ÀÇÆ·ÅpÆÁpÆÄ³µ½p¶ÁÉÀp¿±pÉ³¾¾·Æ\n",
      "5\n",
      "_",
      ">",
      "J>",
      ">",
      ">>",
      ">",
      ">>>>>",
      "\n",
      "3\n",
      "Agcj uwtg, ikxg og c eqwrng okpwvgu vq vtcem fqyp oa ycnngv\n",
      "2\n",
      "Yeah sure, give me a couple minutes to track down my wallet\n",
      "====================\n",
      "468: Message\n",
      "6\n",
      "Decrypted text: ¸pÇpÅ·À¶»À¹pº·ÄpºÁ¿·p¸»ÄÅÆp»ÆwÅpÁ½p¾ÁÄ~pw¿pÀÁÆpÄ·³¶±p±·Æ~\n",
      "5\n",
      "i>>",
      ">",
      ">",
      ">>E>>L>iE>>",
      ">",
      "L\n",
      "3\n",
      "Kh w ugpfkpi jgt jqog hktuv kv'u qm nqt. K'o pqv tgcfa agv.\n",
      "2\n",
      "If u sending her home first it's ok lor. I'm not ready yet.\n",
      "====================\n",
      "469: Message\n",
      "6\n",
      "Decrypted text: p³À¶pp³Ä·pÂÄ·¿»Ç¿pÂºÁÀ·pÅ·ÄÈ»µ·Åpµ³¾¾p\n",
      "5\n",
      "VVVNN>>VWNQR>",
      ">",
      ">",
      ">",
      "",
      ">>NVUOVUOOONV\n",
      "3\n",
      "88800 cpf 89034 ctg rtgokwo rjqpg ugtxkegu ecnn 08718711108\n",
      "2\n",
      "88800 and 89034 are premium phone services call 08718711108\n",
      "====================\n",
      "470: Message\n",
      "6\n",
      "Decrypted text: ³ÀÆpÆº»À½pÁ¸p³À±ÁÀ·pÉ»ÆºpzpÅÂ³Ä·pÄÁÁ¿pÁ¸¸pzpÆÁÂpÁ¸p¿±pº·³¶\n",
      "5\n",
      "c>>>",
      ">>H>",
      ">>>H>>>>",
      "\n",
      "3\n",
      "Ecpv vjkpm qh cpaqpg ykvj * urctg tqqo qhh * vqr qh oa jgcf\n",
      "2\n",
      "Cant think of anyone with * spare room off * top of my head\n",
      "====================\n",
      "471: Message\n",
      "6\n",
      "Decrypted text: pµ³ÀÆpÉ³»ÆpÆÁpÅ··p±ÁÇqpÁÉpÉ·Ä·pÆº·pÂºÁÆÁÅpÉ·Ä·pÇÅ·¸Ç¾py\n",
      "5\n",
      "i>>>>",
      "",
      ">?>h>",
      "",
      ">",
      ">>",
      "",
      ">",
      "]>XG\n",
      "3\n",
      "K ecpv yckv vq ugg aqw! Jqy ygtg vjg rjqvqu ygtg wughwn? :)\n",
      "2\n",
      "I cant wait to see you! How were the photos were useful? :)\n",
      "====================\n",
      "472: Message\n",
      "6\n",
      "Decrypted text: ³º³p¹·ÆpÇÅ·¶pÆÁp¶Ä»È»À¹pÆÁpÇÅ¸p¿³À|pp½ÀÁÉp³p¾ÁÆpÁ¸pÅÆÁÀ·ÄÅ\n",
      "5\n",
      "h>",
      ">",
      ">>>>>J>i>>>>>",
      "\n",
      "3\n",
      "Jcjc igv wugf vq ftkxkpi vq wuh ocp, K mpqy c nqv qh uvqpgtu\n",
      "2\n",
      "Haha get used to driving to usf man, I know a lot of stoners\n",
      "====================\n",
      "473: Message\n",
      "6\n",
      "Decrypted text: pµÁ¿·pÀpÂ»µ½p¯pÇÂ~~~pÁ¿·pÁÇÆp»¿¿·¶»³Æ·¾±p³¸ÆpÇÄp¾·ÅÅÁÀ~~~\n",
      "5\n",
      "i>",
      ">>>j}>LLL>c",
      ">>",
      "",
      ">>>",
      "LLL\n",
      "3\n",
      "K eqog p rkem L_ wr... Eqog qwv koogfkcvgna chv wt nguuqp...\n",
      "2\n",
      "I come n pick J_ up... Come out immediately aft ur lesson...\n",
      "====================\n",
      "474: Message\n",
      "6\n",
      "Decrypted text: ÆpÉÁÀÆp´pÇÀÆ»¾p~",
      "p³ÅpÆÄ±»À¹ppÅÁÄÆpºÁÇÅ·pÁÇÆ|p»ÅpÆº³ÆpÁ½\n",
      "5\n",
      "i>>>>PLOS>>>P>>",
      ">J>>>]\n",
      "3\n",
      "Kv yqpv d wpvkn 2.15 cu vtakpi 2 uqtv jqwug qwv, ku vjcv qm?\n",
      "2\n",
      "It wont b until 2.15 as trying 2 sort house out, is that ok?\n",
      "====================\n",
      "475: Message\n",
      "6\n",
      "Decrypted text:  ³ºpp¶ÁÀwÆpÆº»À½pº·p¹Á·ÅpÆÁpÇÅ¸|pº·p¾»È·Åp³ÄÁÇÀ¶pº·Ä·pÆºÁÇ¹º\n",
      "5\n",
      "n>i>E>>",
      ">",
      ">>J>",
      ">",
      ">>",
      "",
      ">\n",
      "3\n",
      "Pcj K fqp'v vjkpm jg iqgu vq wuh, jg nkxgu ctqwpf jgtg vjqwij\n",
      "2\n",
      "Nah I don't think he goes to usf, he lives around here though\n",
      "====================\n",
      "476: Message\n",
      "6\n",
      "Decrypted text: ©·¾¾|p»w¿p¹ÁÀÀ³p¸»À»Åºp¿±p´³ÆºpÀÁÉ~p³È·p³p¹ÁÁ¶~~~¸»À·pÀ»¹ºÆ~\n",
      "5\n",
      "w",
      "J>E>>>>>L>h",
      ">>LLL",
      ">L\n",
      "3\n",
      "Ygnn, k'o iqppc hkpkuj oa dcvj pqy. Jcxg c iqqf...hkpg pkijv.\n",
      "2\n",
      "Well, i'm gonna finish my bath now. Have a good...fine night.\n",
      "====================\n",
      "477: Message\n",
      "6\n",
      "Decrypted text: ·Åp´³´±qp©·pµ³ÀpÅÆÇ¶±p³¾¾pÆº·pÂÁÅ»Æ»ÁÀÅpÁ¸pÆº·p½³¿³pÅÇÆÄ³py\n",
      "5\n",
      "_",
      ">?>w",
      ">>>>",
      ">>>",
      ">>>YG\n",
      "3\n",
      "Agu dcda! Yg ecp uvwfa cnn vjg rqukvkqpu qh vjg mcoc uwvtc ;)\n",
      "2\n",
      "Yes baby! We can study all the positions of the kama sutra ;)\n",
      "====================\n",
      "478: Message\n",
      "6\n",
      "Decrypted text: ¤·µ½ÁÀpÀ··¶pÆÁp´·p»ÀpÆÁÉÀp´±p·»¹ºÆ»ÅºpÆÁpÉ³¾½p¸ÄÁ¿pzpµ³ÄÂ³Ä½~\n",
      "5\n",
      "r",
      ">",
      "",
      ">>",
      ">>>>",
      ">>>>H>L\n",
      "3\n",
      "Tgemqp pggf vq dg kp vqyp da gkijvkuj vq ycnm htqo * ectrctm.\n",
      "2\n",
      "Reckon need to be in town by eightish to walk from * carpark.\n",
      "====================\n",
      "479: Message\n",
      "6\n",
      "Decrypted text: ·³ºp¶ÁqpÁÀ₀ŇÆpÅÆ³À¶pÆÁpµ¾ÁÅ·pÆºÁ}p±ÁÇ₀Ň¾¾pµ³ÆµºpÅÁ¿·Æº»À¹q\n",
      "5\n",
      "_",
      ">?>d⁎_ĕ>>>",
      ">K>⁎_ĕ>>",
      "?\n",
      "3\n",
      "Agcj fq! Fqp‰A÷v uvcpf vq enqug vjq- aqw‰A÷nn ecvej uqogvjkpi!\n",
      "2\n",
      "Yeah do! Don‰Y÷t stand to close tho- you‰Y÷ll catch something!\n",
      "====================\n",
      "480: Message\n",
      "6\n",
      "Decrypted text: ·±~~~p©º±p¶ÁÀÆpÉ·p¼ÇÅÆp¹ÁpÉ³ÆµºpÊp¿·Àp³À¶pº³È·p¾ÇÀµº~~~p³º³p\n",
      "5\n",
      "h",
      "LLL>w>>",
      ">>>>>",
      ">>",
      ">LLL>h>\n",
      "3\n",
      "Jga... Yja fqpv yg lwuv iq ycvej z ogp cpf jcxg nwpej... Jcjc \n",
      "2\n",
      "Hey... Why dont we just go watch x men and have lunch... Haha \n",
      "====================\n",
      "481: Message\n",
      "6\n",
      "Decrypted text: ©º·Ä·p¶»¶pÇp¹Áp±pÂºÁÀ·p»Åp¹ÁÀÀ³p¶»·p±ÁÇpº³È·pÆÁpÅÆ³±p»Àpº·Ä·\n",
      "5\n",
      "w",
      "",
      ">>>]>m>",
      ">>>",
      ">>",
      ">>>>",
      "",
      "\n",
      "3\n",
      "Yjgtg fkf w iq? Oa rjqpg ku iqppc fkg aqw jcxg vq uvca kp jgtg\n",
      "2\n",
      "Where did u go? My phone is gonna die you have to stay in here\n",
      "====================\n",
      "482: Message\n",
      "6\n",
      "Decrypted text: ³±´·pÉ·ÅÆÅºÁÄ·pÁÄpº±¶·pÂ³Ä½pÈ»¾¾³¹·|pÆº·pÂ¾³µ·pÀ·³Äp¿±pºÁÇÅ·\n",
      "5\n",
      "m",
      ">",
      "",
      ">>",
      ">>",
      "J>",
      ">",
      ">",
      ">>",
      "]\n",
      "3\n",
      "Ocadg yguvujqtg qt jafg rctm xknncig, vjg rnceg pgct oa jqwug?\n",
      "2\n",
      "Maybe westshore or hyde park village, the place near my house?\n",
      "====================\n",
      "483: Message\n",
      "6\n",
      "Decrypted text: ¡ºpÆº³ÆpÉ³Åp³p¸ÁÄÉ³Ä¶·¶p¿·ÅÅ³¹·~ppÆºÁÇ¹ºÆp±ÁÇpÅ·À¶pÆº³ÆpÆÁp¿·\n",
      "5\n",
      "o>>>>",
      ">",
      "",
      "L>i>>>",
      ">>>",
      "\n",
      "3\n",
      "Qj vjcv ycu c hqtyctfgf oguucig. K vjqwijv aqw ugpf vjcv vq og\n",
      "2\n",
      "Oh that was a forwarded message. I thought you send that to me\n",
      "====================\n",
      "484: Message\n",
      "6\n",
      "Decrypted text: ÁpÉ·¾¾py³¾¾pÉ»¾¾p¸ÁÄp¾»ÆÆ¾·pÆ»¿·~p¦º»À¹pÁ¸p¹ÁÁ¶pÆ»¿·Åp³º·³¶\n",
      "5\n",
      "d>",
      ">XG>>>",
      ">",
      "L>t>>>",
      ">",
      "X\n",
      "3\n",
      "Fq ygnn :)cnn yknn hqt nkvvng vkog. Vjkpi qh iqqf vkogu cjgcf:\n",
      "2\n",
      "Do well :)all will for little time. Thing of good times ahead:\n",
      "====================\n",
      "485: Message\n",
      "6\n",
      "Decrypted text:  ÇÆÆ·Ä~pÇÆÆ·Ä~pÆÆ·Ä~pÆÆ·Ä¹¹~pÆÆ³Ä¹¹~pÆ³Ä¹¹~pÆ³¹¹~p»·p±ÁÇ\n",
      "5\n",
      "n",
      "L>c",
      "L>c",
      "L>c",
      "L>cL>cL>cL>",
      ">\n",
      "3\n",
      "Pwvvgt. Ewvvgt. Evvgt. Evvgtii. Evvctii. Evctii. Evcii. kg aqw\n",
      "2\n",
      "Nutter. Cutter. Ctter. Cttergg. Cttargg. Ctargg. Ctagg. ie you\n",
      "====================\n",
      "486: Message\n",
      "6\n",
      "Decrypted text: ¡½p¾ÁÄp´ÇÆpÀÁÆpÆÁÁp·³Ä¾±~p·pÅÆ»¾¾pº³È»À¹pÂÄÁ¼·µÆp¿··Æ»À¹pÀÁÉ~\n",
      "5\n",
      "o>>>>>",
      "L>m",
      ">>>",
      ">",
      "",
      ">L\n",
      "3\n",
      "Qm nqt dwv pqv vqq gctna. Og uvknn jcxkpi rtqlgev oggvkpi pqy.\n",
      "2\n",
      "Ok lor but not too early. Me still having project meeting now.\n",
      "====================\n",
      "487: Message\n",
      "6\n",
      "Decrypted text: ¸p±ÁÇwÄ·pÀÁÆp»Àp¿±pµ³Äp»Àp³ÀpºÁÇÄp³À¶p³pº³¾¸pw¿p¹Á»À¹p³Â·Åº»Æ\n",
      "5\n",
      "i>E",
      ">>>>>>>>>>>iE>>",
      "\n",
      "3\n",
      "Kh aqw'tg pqv kp oa ect kp cp jqwt cpf c jcnh K'o iqkpi crgujkv\n",
      "2\n",
      "If you're not in my car in an hour and a half I'm going apeshit\n",
      "====================\n",
      "488: Message\n",
      "6\n",
      "Decrypted text: ¢ÄÁ´³´¾±p¹ÁÀÀ³p´·pº·Ä·p¸ÁÄp³pÉº»¾·|pÅ··p±ÁÇp¾³Æ·ÄpÆÁÀ»¹ºÆpv¾Æy\n",
      "5\n",
      "p>>",
      ">",
      "",
      ">>>",
      "J>",
      "",
      ">>",
      ">>DYG\n",
      "3\n",
      "Rtqdcdna iqppc dg jgtg hqt c yjkng, ugg aqw ncvgt vqpkijv &nv;)\n",
      "2\n",
      "Probably gonna be here for a while, see you later tonight &lt;)\n",
      "====================\n",
      "489: Message\n",
      "6\n",
      "Decrypted text: ¿±p·Ê}É»¸·pÉ³ÅpÀÁÆp³´¾·pÆÁpº³È·p½»¶Å~pÁp±ÁÇpÉ³ÀÆp½»¶ÅpÁÀ·p¶³±\n",
      "5\n",
      ">",
      "K",
      ">>>",
      ">>",
      ">L>d>>>>",
      ">]\n",
      "3\n",
      "oa gz-ykhg ycu pqv cdng vq jcxg mkfu. Fq aqw ycpv mkfu qpg fca?\n",
      "2\n",
      "my ex-wife was not able to have kids. Do you want kids one day?\n",
      "====================\n",
      "490: Message\n",
      "6\n",
      "Decrypted text: Ê³µÆ¾±~pÀ±É³±ÅpºÁÉp¸³Ä~pÅp¼»¶·pº·ÄpÆÁpÅÆÇ¶±pÁÄp¼ÇÅÆpÈ»Å»Æ»À¹\n",
      "5\n",
      "eL>a>>L>i>",
      ">",
      ">>>>>\n",
      "3\n",
      "Gzcevna. Cpaycau jqy hct. Ku lkfg jgt vq uvwfa qt lwuv xkukvkpi\n",
      "2\n",
      "Exactly. Anyways how far. Is jide her to study or just visiting\n",
      "====================\n",
      "491: Message\n",
      "6\n",
      "Decrypted text: p³¿pÀÁÆpÅÇÄ·p³´ÁÇÆpÀ»¹ºÆp¿·ÀÇ~p~p~pp½ÀÁÉpÁÀ¾±p³´ÁÇÆpÀÁÁÀp¿·ÀÇ\n",
      "5\n",
      "i>>>",
      ">>>",
      "L>L>L>i>>>>>",
      "\n",
      "3\n",
      "K co pqv uwtg cdqwv pkijv ogpw. . . K mpqy qpna cdqwv pqqp ogpw\n",
      "2\n",
      "I am not sure about night menu. . . I know only about noon menu\n",
      "====================\n",
      "492: Message\n",
      "6\n",
      "Decrypted text: ¢Á±±³Ä»½³ÆÇÄ|½Á¾³ÆºÇÂ³¾³±³¿|ÇÀ¼³¾ÇÄpÂÁÅÆ|·ÄÁ¶·p¶»Å|pv¾Æsv¹Æp~\n",
      "5\n",
      "pJJ>J",
      "",
      ">J>DYADY>L\n",
      "3\n",
      "Rqaactkmcvwt,mqncvjwrcncaco,wplcnwt rquv,gtqfg fku, &nv;#&iv; .\n",
      "2\n",
      "Poyyarikatur,kolathupalayam,unjalur post,erode dis, &lt;#&gt; .\n",
      "====================\n",
      "493: Message\n",
      "6\n",
      "Decrypted text: ººº~p©ÁÄ½~ppÈ³¹Ç·¾±pÄ·¿·¿´·ÄpÆº³Æqp©º³Æp¶Á·Åp»Æp¸··¾p¾»½·pÁ¾\n",
      "5\n",
      "aL>wL>i>",
      ">",
      "",
      "",
      ">?>w>",
      ">>",
      "",
      ">",
      "]>l\n",
      "3\n",
      "Cjjj. Yqtm. K xciwgna tgogodgt vjcv! Yjcv fqgu kv hggn nkmg? Nqn\n",
      "2\n",
      "Ahhh. Work. I vaguely remember that! What does it feel like? Lol\n",
      "====================\n",
      "494: Message\n",
      "6\n",
      "Decrypted text:  ·Épµ³Äp³À¶pºÁÇÅ·p¸ÁÄp¿±pÂ³Ä·ÀÆÅ~y»pº³È·pÁÀ¾±pÀ·Ép¼Á´p»Àpº³À¶y\n",
      "5\n",
      "n",
      ">>>",
      ">>>",
      "LXG>",
      ">>",
      ">>>XG\n",
      "3\n",
      "Pgy ect cpf jqwug hqt oa rctgpvu.:)k jcxg qpna pgy lqd kp jcpf:)\n",
      "2\n",
      "New car and house for my parents.:)i have only new job in hand:)\n",
      "====================\n",
      "495: Message\n",
      "6\n",
      "Decrypted text: »Åp±ÁÇÄpº³¿ÅÆ·Äp¶·³¶p·±pÅÁpÆ¿Äp»p¿··Æp±ÁÇp³ÆpÂ¿pÁÄµº³Ä¶p¿ÄÆp\n",
      "5\n",
      ">>",
      ">",
      "]>h",
      ">>>>",
      "",
      ">>>O>>]>\n",
      "3\n",
      "ku aqwt jcouvgt fgcf? Jga uq vot k oggv aqw cv 1ro qtejctf otv? \n",
      "2\n",
      "is your hamster dead? Hey so tmr i meet you at 1pm orchard mrt? \n",
      "====================\n",
      "496: Message\n",
      "6\n",
      "Decrypted text: pÅ³±pÇÀÆ»¾p¾»½·p¶³Æp»p¶ÇÀp´Ç±p·Ä»µÅÅÁÀpÁÅÁpµ³ÀÀÁÆpÁÄ·¶»p¾³Ä~~~\n",
      "5\n",
      "jm>>>",
      ">>>>>",
      ">>>",
      ">LLL\n",
      "3\n",
      "LO uca wpvkn nkmg fcv k fwp dwa gtkeuuqp quq ecppqv qtgfk nct...\n",
      "2\n",
      "JM say until like dat i dun buy ericsson oso cannot oredi lar...\n",
      "====================\n",
      "497: Message\n",
      "6\n",
      "Decrypted text: ·Æp¿·p½ÀÁÉpÉº·Àp±ÁÇwÈ·p¹ÁÆpÆº·p¿ÁÀ·±pÅÁpµ³Ä¾ÁÅpµ³Àp¿³½·pÆº·pµ³¾¾\n",
      "5\n",
      "l",
      ">",
      ">>",
      ">E",
      ">>",
      ">",
      ">>>>",
      ">",
      ">\n",
      "3\n",
      "Ngv og mpqy yjgp aqw'xg iqv vjg oqpga uq ectnqu ecp ocmg vjg ecnn\n",
      "2\n",
      "Let me know when you've got the money so carlos can make the call\n",
      "====================\n",
      "498: Message\n",
      "6\n",
      "Decrypted text: Á½~pp³¿p³p¹·ÀÆ¾·¿³Àp³À¶pÉ»¾¾pÆÄ·³Æp±ÁÇpÉ»Æºp¶»¹À»Æ±p³À¶pÄ·ÅÂ·µÆ~\n",
      "5\n",
      "L>i>>>",
      "",
      ">>>",
      ">>>>>",
      "",
      "L\n",
      "3\n",
      "qm. K co c igpvngocp cpf yknn vtgcv aqw ykvj fkipkva cpf tgurgev.\n",
      "2\n",
      "ok. I am a gentleman and will treat you with dignity and respect.\n",
      "====================\n",
      "499: Message\n",
      "6\n",
      "Decrypted text: ¡Äp»¾¾p´·p³p¾»ÆÆ¾·pµ¾ÁÅ·Äp¾»½·p³ÆpÆº·p´ÇÅpÅÆÁÂpÁÀpÆº·pÅ³¿·pÅÆÄ··Æ\n",
      "5\n",
      "o>>",
      ">>",
      ">",
      ">",
      ">>",
      ">>>>",
      ">",
      ">",
      "",
      "\n",
      "3\n",
      "Qt knn dg c nkvvng enqugt nkmg cv vjg dwu uvqr qp vjg ucog uvtggv\n",
      "2\n",
      "Or ill be a little closer like at the bus stop on the same street\n",
      "====================\n",
      "500: Message\n",
      "6\n"
     ]
    },
    {
     "name": "stdout",
     "output_type": "stream",
     "text": [
      "Decrypted text: pµ³¾¾·¶p³À¶pÅ³»¶p³¾¾pÆÁpº»¿yÆº·Àpº·pº³È·pÆÁpµºÁÁÅ·pÆº»Åp¸ÇÆÇÄ·~\n",
      "5\n",
      "i>",
      ">>>>>XG",
      ">",
      ">",
      ">>",
      ">>",
      "L\n",
      "3\n",
      "K ecnngf cpf uckf cnn vq jko:)vjgp jg jcxg vq ejqqug vjku hwvwtg.\n",
      "2\n",
      "I called and said all to him:)then he have to choose this future.\n",
      "====================\n",
      "501: Message\n",
      "6\n",
      "Decrypted text: ©³»Æ|p¶Áp±ÁÇp½ÀÁÉp»¸pÉ·Å¾·±Åp»ÀpÆÁÉÀpp´·ÆpÅº·p¶Á·Åpº·¾¾³p¶ÄÇ¹Åq\n",
      "5\n",
      "wJ>>>>>",
      "",
      ">>]>i>",
      ">",
      ">",
      ">",
      ">?\n",
      "3\n",
      "Yckv, fq aqw mpqy kh ygungau kp vqyp? K dgv ujg fqgu jgnnc ftwiu!\n",
      "2\n",
      "Wait, do you know if wesleys in town? I bet she does hella drugs!\n",
      "====================\n",
      "502: Message\n",
      "6\n",
      "Decrypted text: ÁÇpº³È·p³Àp»¿ÂÁÄÆ³ÀÆpµÇÅÆÁ¿·ÄpÅ·ÄÈ»µ·p³ÀÀÁÇÀµ·¿·ÀÆp¸ÄÁ¿p¢¤¤~\n",
      "5\n",
      "_>",
      ">>>",
      ">",
      "",
      ">",
      "",
      ">>premierL\n",
      "3\n",
      "Aqw jcxg cp korqtvcpv ewuvqogt ugtxkeg cppqwpegogpv htqo RTGOKGT.\n",
      "2\n",
      "You have an important customer service announcement from PREMIER.\n",
      "====================\n",
      "503: Message\n",
      "6\n",
      "Decrypted text: ÁÀÆpÆº»À½pÅÁ~pÆpÆÇÄÀÅpÁ¸¸p¾»½·pÄ³À¶Á¿¾¾±pÉ»Æº»Àp",
      "¿»ÀpÁ¸pÁÂ·À»À¹\n",
      "5\n",
      "d>>L>i>>>",
      ">>>S>>",
      "\n",
      "3\n",
      "Fqpv vjkpm uq. Kv vwtpu qhh nkmg tcpfqonna ykvjkp 5okp qh qrgpkpi\n",
      "2\n",
      "Dont think so. It turns off like randomlly within 5min of opening\n",
      "====================\n",
      "504: Message\n",
      "6\n",
      "Decrypted text: ¦·ÊÆpº·Ä~p¸pÅº·p¶Á·ÅÀÆpÄ·Â¾±p¾·Æp¿·p½ÀÁÉpÅÁp»pµ³Àpº³È·pº·Äp¾Á¹p»À\n",
      "5\n",
      "t",
      ">",
      "L>i>",
      ">",
      ">",
      ">",
      ">",
      ">>>>>",
      ">",
      ">>\n",
      "3\n",
      "Vgzv jgt. Kh ujg fqgupv tgrna ngv og mpqy uq k ecp jcxg jgt nqi kp\n",
      "2\n",
      "Text her. If she doesnt reply let me know so i can have her log in\n",
      "====================\n",
      "505: Message\n",
      "6\n",
      "Decrypted text: ¾Ä»¹ºÆ|pw¾¾pº·³¶pÁÇÆp»Àp³p¸·Ép¿»ÀÇÆ·Å|pÆ·ÊÆp¿·pÉº·Ä·pÆÁp¿··Æp±ÁÇ\n",
      "5\n",
      "aJ>iE>",
      ">>>>",
      ">",
      "J>",
      ">",
      ">",
      "",
      ">>",
      "",
      ">\n",
      "3\n",
      "Cntkijv, K'nn jgcf qwv kp c hgy okpwvgu, vgzv og yjgtg vq oggv aqw\n",
      "2\n",
      "Alright, I'll head out in a few minutes, text me where to meet you\n",
      "====================\n",
      "506: Message\n",
      "6\n",
      "Decrypted text: ¬pp©¤¦p¡ ¥¢¡¢p¥p©p¡ ¤¡§ qp¡©p¡¤¡§¥\n",
      "5\n",
      "zhe_>he_>werethe>monkeespeople>sa_>we>monke_around?>howd_>gorgeous\n",
      "3\n",
      "\\JGA JGA YGTGVJG OQPMGGURGQRNG UCA YG OQPMGACTQWPF! JQYFA IQTIGQWU\n",
      "2\n",
      "\\HEY HEY WERETHE MONKEESPEOPLE SAY WE MONKEYAROUND! HOWDY GORGEOUS\n",
      "====================\n",
      "507: Message\n",
      "6\n",
      "Decrypted text: ¡~p©·¾¾pÇÈpµ³ÇÅ·Åp¿ÇÆ³Æ»ÁÀÅ~p¥ÇÀÅµÄ··Àp»Åp¾»½·p·ÅÅ·ÀÆ»³¾pÆº·Å·¶³±Å\n",
      "5\n",
      "oL>w",
      ">>",
      ">L>s",
      "",
      ">>",
      ">",
      "",
      ">",
      "",
      "\n",
      "3\n",
      "Q. Ygnn wx ecwugu owvcvkqpu. Uwpuetggp ku nkmg guugpvkcn vjgugfcau\n",
      "2\n",
      "O. Well uv causes mutations. Sunscreen is like essential thesedays\n",
      "====================\n",
      "508: Message\n",
      "6\n",
      "Decrypted text: ÆwÅp¸»À·|p»¿¿³p¹·Æp³p¶Ä»À½pÁÄpÅÁ¿·Æº»À~p©³ÀÆp¿·pÆÁpµÁ¿·p¸»À¶p±ÁÇ\n",
      "5\n",
      "iE>",
      "J>>",
      ">>>>",
      "L>w>",
      ">>",
      ">>]\n",
      "3\n",
      "Kv'u hkpg, kooc igv c ftkpm qt uqogvjkp. Ycpv og vq eqog hkpf aqw?\n",
      "2\n",
      "It's fine, imma get a drink or somethin. Want me to come find you?\n",
      "====================\n",
      "509: Message\n",
      "6\n",
      "Decrypted text: ÁÉp¿³À±p¾»µ½Åp¶Á·Åp»ÆpÆ³½·pÆÁp¹·ÆpÆÁpÆº·pµ·ÀÆ·ÄpÁ¸p³pÆÁÁÆÅ»·pÂÁÂ\n",
      "5\n",
      "h>>>",
      ">>",
      ">>",
      ">>",
      ">",
      "",
      ">>>",
      ">]\n",
      "3\n",
      "Jqy ocpa nkemu fqgu kv vcmg vq igv vq vjg egpvgt qh c vqqvukg rqr?\n",
      "2\n",
      "How many licks does it take to get to the center of a tootsie pop?\n",
      "====================\n",
      "510: Message\n",
      "6\n",
      "Decrypted text: ¦º³ÆÅpµÁÁ¾qp¥Á¿·Æ»¿·ÅpÅ¾ÁÉp³À¶p¹·ÀÆ¾·~p¥ÁÀ·Æ»¿·ÅpÄÁÇ¹ºp³À¶pº³Ä¶py\n",
      "5\n",
      "t>?>s",
      "",
      ">>>",
      "",
      "L>s",
      "",
      ">>>>XG\n",
      "3\n",
      "Vjcvu eqqn! Uqogvkogu unqy cpf igpvng. Uqpgvkogu tqwij cpf jctf :)\n",
      "2\n",
      "Thats cool! Sometimes slow and gentle. Sonetimes rough and hard :)\n",
      "====================\n",
      "511: Message\n",
      "6\n",
      "Decrypted text: ÁÁ¶pÁÄÀ»À¹p¿±p·³Ä~~~~~~~~~~~p³È·p³p¹Ä·³Æpv³¿ÂpÅÇµµ·ÅÅ¸Ç¾p¶³±~\n",
      "5\n",
      "g>m>>d",
      "LLLLLLLLLLL>h",
      ">>",
      ">DY>",
      ">L\n",
      "3\n",
      "Iqqf Oqtpkpi oa Fgct........... Jcxg c itgcv &cor; uweeguuhwn fca.\n",
      "2\n",
      "Good Morning my Dear........... Have a great &amp; successful day.\n",
      "====================\n",
      "512: Message\n",
      "6\n",
      "Decrypted text: ·³ºpºÁÂ·¸Ç¾¾±|p»¸pÆ±¾·Äpµ³ÀwÆp¶Áp»ÆppµÁÇ¾¶p¿³±´·p³Å½p³ÄÁÇÀ¶p³p´»Æ\n",
      "5\n",
      "_",
      ">",
      "J>>",
      ">E>>>i>>",
      ">>>>\n",
      "3\n",
      "Agcj jqrghwnna, kh vangt ecp'v fq kv K eqwnf ocadg cum ctqwpf c dkv\n",
      "2\n",
      "Yeah hopefully, if tyler can't do it I could maybe ask around a bit\n",
      "====================\n",
      "513: Message\n",
      "6\n",
      "Decrypted text: Ä·³Æp·Åµ³Â·~pp¸³Àµ±pÆº·p´Ä»¶¹·p´ÇÆpÀ··¶Åpº·Äp¾³¹·Ä~p¥··p±ÁÇpÆÁ¿Áp\n",
      "5\n",
      "g",
      ">",
      "",
      "L>i>>",
      ">",
      ">>",
      "",
      ">",
      ">",
      "L>s",
      "",
      ">>>\n",
      "3\n",
      "Itgcv guecrg. K hcpea vjg dtkfig dwv pggfu jgt ncigt. Ugg aqw vqoq \n",
      "2\n",
      "Great escape. I fancy the bridge but needs her lager. See you tomo \n",
      "====================\n",
      "514: Message\n",
      "6\n",
      "Decrypted text: §À¾·ÅÅp»ÆwÅp³pÅ»ÆÇ³Æ»ÁÀpÉº·Ä·p¡§p¡p§¤pÉÁÇ¾¶p´·p¿ÁÄ·p³ÂÂÄÁÂÄ»³Æ·\n",
      "5\n",
      "u",
      ">E>>>",
      "",
      ">_ou>go>gurl>>",
      ">",
      ">",
      "\n",
      "3\n",
      "Wpnguu kv'u c ukvwcvkqp yjgtg AQW IQ IWTN yqwnf dg oqtg crrtqrtkcvg\n",
      "2\n",
      "Unless it's a situation where YOU GO GURL would be more appropriate\n",
      "====================\n",
      "515: Message\n",
      "6\n",
      "Decrypted text:  ··¶p³pµÁ¸¸··pÄÇÀpÆÁ¿Á³ÀwÆp´·¾»·È·p»ÆwÅpÆº³ÆpÆ»¿·pÁ¸pÉ··½p³¾Ä·³¶±\n",
      "5\n",
      "n",
      "",
      ">>",
      "",
      ">>]cE>",
      "",
      "",
      ">E>>",
      ">>",
      "",
      ">",
      "\n",
      "3\n",
      "Pggf c eqhhgg twp vqoq?Ecp'v dgnkgxg kv'u vjcv vkog qh yggm cntgcfa\n",
      "2\n",
      "Need a coffee run tomo?Can't believe it's that time of week already\n",
      "====================\n",
      "516: Message\n",
      "6\n",
      "Decrypted text:  ÁÂ·~~~p¦º»À½p»pÉ»¾¾p¹Áp¸ÁÄp»ÆpÁÀp¿ÁÀ¶³±~~~p¥ÁÄÄ±p»pÄ·Â¾»·¶pÅÁp¾³Æ·\n",
      "5\n",
      "n",
      "LLL>t>>>>>>>LLL>s>>",
      "",
      ">>",
      "\n",
      "3\n",
      "Pqrg... Vjkpm k yknn iq hqt kv qp oqpfca... Uqtta k tgrnkgf uq ncvg\n",
      "2\n",
      "Nope... Think i will go for it on monday... Sorry i replied so late\n",
      "====================\n",
      "517: Message\n",
      "6\n",
      "Decrypted text: ³º³p¹ÁÁ¶pÆÁpº·³Ä|pw¿pÁ¸¸»µ»³¾¾±pÂ³»¶p³À¶pÁÀpÆº·p¿³Ä½·Æp¸ÁÄp³ÀpÆº\n",
      "5\n",
      "h>>>",
      "J>iE>>>>>",
      ">",
      ">>>V\n",
      "3\n",
      "Jcjc iqqf vq jgct, K'o qhhkekcnna rckf cpf qp vjg octmgv hqt cp 8vj\n",
      "2\n",
      "Haha good to hear, I'm officially paid and on the market for an 8th\n",
      "====================\n",
      "518: Message\n",
      "6\n",
      "Decrypted text: pµÁÇ¾¶p³Å½pµ³Ä¾ÁÅp»¸pÉ·pµÁÇ¾¶p¹·Æp¿ÁÄ·p»¸p³À±´Á¶±p·¾Å·pµ³Àpµº»Âp»À\n",
      "5\n",
      "i>>>>>",
      ">>",
      ">",
      ">>>",
      "",
      ">>>\n",
      "3\n",
      "K eqwnf cum ectnqu kh yg eqwnf igv oqtg kh cpadqfa gnug ecp ejkr kp\n",
      "2\n",
      "I could ask carlos if we could get more if anybody else can chip in\n",
      "====================\n",
      "519: Message\n",
      "6\n",
      "Decrypted text: p¶ÇÀpµÇÆpÆÁÁpÅºÁÄÆp¾·º~p§p¶ÇÀp¾»½·p³ºp¥º·p¸³»¾·¶~p¥º·wÅpÃÇ»Æ·pÅ³¶~\n",
      "5\n",
      "_>>>>>",
      "L>u>>",
      ">]>s",
      ">",
      "L>s",
      "E>",
      ">L\n",
      "3\n",
      "A fwp ewv vqq ujqtv ngj. W fwp nkmg cj? Ujg hckngf. Ujg'u swkvg ucf.\n",
      "2\n",
      "Y dun cut too short leh. U dun like ah? She failed. She's quite sad.\n",
      "====================\n",
      "520: Message\n",
      "6\n",
      "Decrypted text: ©ÁÇ¾¶pÄ·³¾¾±p³ÂÂÄ·µ»³Æ·p»¸p±ÁÇpµ³¾¾p¿·~pÇÅÆpÀ··¶pÅÁ¿·ÁÀ·pÆÁpÆ³¾½pÆÁ~\n",
      "5\n",
      "w>",
      ">",
      "",
      ">>>>",
      "L>j>",
      "",
      ">",
      "",
      ">>>L\n",
      "3\n",
      "Yqwnf tgcnna crrtgekcvg kh aqw ecnn og. Lwuv pggf uqogqpg vq vcnm vq.\n",
      "2\n",
      "Would really appreciate if you call me. Just need someone to talk to.\n",
      "====================\n",
      "521: Message\n",
      "6\n",
      "Decrypted text: p³Æp·ÅÂ¾³À³¶·~~pÁp¯p¿»À¶p¹»È»À¹p¿·p³p¾»¸ÆpµÁÅp»p¹ÁÆpÀÁpµ³ÄpÆÁ¶³±~~\n",
      "5\n",
      "U>>",
      "",
      "LL>d>j}>>>",
      ">>>>>>>>LL\n",
      "3\n",
      "7 cv gurncpcfg.. Fq L_ okpf ikxkpi og c nkhv equ k iqv pq ect vqfca..\n",
      "2\n",
      "7 at esplanade.. Do J_ mind giving me a lift cos i got no car today..\n",
      "====================\n",
      "522: Message\n",
      "6\n",
      "Decrypted text: ¡»µ~~~ppÅ³Épº»¿pÆÁÁp´ÇÆp»pÆÁÆpº·p¶»Àpµp¿·~~~pp¸ÁÇÀ¶p³p¹ÄÁÇÂp¾»³Á~~~\n",
      "5\n",
      "oLLL>i>>>>>>>",
      ">>>",
      "LLL>i>>>>LLL\n",
      "3\n",
      "Qke... K ucy jko vqq dwv k vqv jg fkp e og... K hqwpf c itqwr nkcq...\n",
      "2\n",
      "Oic... I saw him too but i tot he din c me... I found a group liao...\n",
      "====================\n",
      "523: Message\n",
      "6\n",
      "Decrypted text: ÁÇpº³È·pÉÁÀp|pµ³ÅºpÁÄp³p|pÂÄ»²·qp¦Ápµ¾³»¿|pµ³¾¾",
      "\n",
      "5\n",
      "_>",
      ">>]OJNNN>>>>]PJNNN>",
      "?>t>J>NWNSNNNNQPU\n",
      "3\n",
      "Aqw jcxg yqp ?1,000 ecuj qt c ?2,000 rtkbg! Vq encko, ecnn09050000327\n",
      "2\n",
      "You have won ?1,000 cash or a ?2,000 prize! To claim, call09050000327\n",
      "====================\n",
      "524: Message\n",
      "6\n",
      "Decrypted text: ¦·¾¾pÆº·¿pÇpº³È·p³pº·³¶³µº·p³À¶p¼ÇÅÆpÉ³ÀÆpÆÁpÇÅ·ppºÁÇÄpÁ¸pÅ»µ½pÆ»¿·~\n",
      "5\n",
      "t",
      ">",
      ">>",
      ">>",
      "",
      ">>>>>",
      ">O>>>>",
      "L\n",
      "3\n",
      "Vgnn vjgo w jcxg c jgcfcejg cpf lwuv ycpv vq wug 1 jqwt qh ukem vkog.\n",
      "2\n",
      "Tell them u have a headache and just want to use 1 hour of sick time.\n",
      "====================\n",
      "525: Message\n",
      "6\n",
      "Decrypted text: ¢»¹¹±|pÄpÇp³É³½·pp´·ÆpÇwÄ·pÅÆ»¾¾pÅ¾··Â»À¹~pw¿p¹Á»À¹pp¾ÇÀµºpÀÁÉ~~~\n",
      "5\n",
      "pJ>>>",
      "]>i>",
      ">E",
      ">>",
      "",
      "L>iE>>R>>LLL\n",
      "3\n",
      "Rkiia, t w cycmg? K dgv w'tg uvknn unggrkpi. K'o iqkpi 4 nwpej pqy...\n",
      "2\n",
      "Piggy, r u awake? I bet u're still sleeping. I'm going 4 lunch now...\n",
      "====================\n",
      "526: Message\n",
      "6\n",
      "Decrypted text: ©·¾¾p¶ÁÀ·|p´¾»¿·±|p·Ê·Äµ»Å·|p±·³º|p»p½»À¶³pÄ·¿·¿´·ÄpÉÁÆpÆº³Æp»Å|pº¿¿~p\n",
      "5\n",
      "w",
      ">",
      "J>",
      "J>",
      "",
      "",
      "J>",
      "J>>>",
      "",
      "",
      ">>>J>L>\n",
      "3\n",
      "Ygnn fqpg, dnkoga, gzgtekug, agcj, k mkpfc tgogodgt yqv vjcv ku, joo. \n",
      "2\n",
      "Well done, blimey, exercise, yeah, i kinda remember wot that is, hmm. \n",
      "====================\n",
      "527: Message\n",
      "6\n",
      "Decrypted text: »p¢Ä»Àµ·ÅÅqp¦º³À½p±ÁÇp¸ÁÄpÆº·pÂ»µÅ~pÁÇp³Ä·pÈ·Ä±pÂÄ·ÆÆ±~pÁÉp³Ä·p±ÁÇ\n",
      "5\n",
      "h>p",
      "?>t>>>",
      ">L>_>",
      ">",
      ">",
      "L>h>",
      ">]\n",
      "3\n",
      "Jk Rtkpeguu! Vjcpm aqw hqt vjg rkeu. Aqw ctg xgta rtgvva. Jqy ctg aqw?\n",
      "2\n",
      "Hi Princess! Thank you for the pics. You are very pretty. How are you?\n",
      "====================\n",
      "528: Message\n",
      "6\n",
      "Decrypted text: ÁÆp»ÆqpÆp¾ÁÁ½ÅpÅµÄÇ¿ÂÆ»ÁÇÅ~~~p¶³¶¶±pÉ³ÀÆÅpÆÁp·³Æp±ÁÇp³¾¾pÀ»¹ºÆp¾ÁÀ¹q\n",
      "5\n",
      "g>?>i>>LLL>>>>",
      ">>>>?\n",
      "3\n",
      "Iqv kv! Kv nqqmu uetworvkqwu... fcffa ycpvu vq gcv aqw cnn pkijv nqpi!\n",
      "2\n",
      "Got it! It looks scrumptious... daddy wants to eat you all night long!\n",
      "====================\n",
      "529: Message\n",
      "6\n",
      "Decrypted text: ¡¿¹ppÉ³ÀÆpÆÁpÅµÄ·³¿~ppÉ·»¹º·¶p¿±Å·¾¸p³À¶pp¾ÁÅÆp¿ÁÄ·pÉ·»¹ºÆqp©ÁÁºÁÁq\n",
      "5\n",
      "o>i>>>",
      "L>i>",
      "",
      ">",
      ">>i>>",
      ">",
      "?>w?\n",
      "3\n",
      "Qoi K ycpv vq uetgco. K ygkijgf oaugnh cpf K nquv oqtg ygkijv! Yqqjqq!\n",
      "2\n",
      "Omg I want to scream. I weighed myself and I lost more weight! Woohoo!\n",
      "====================\n",
      "530: Message\n",
      "6\n",
      "Decrypted text: Á¾p±·Å~p¡ÇÄp¸Ä»·À¶Åº»Âp»Åpº³À¹»À¹pÁÀp³pÆºÄ·³¶pµ³ÇÅ·pÇpÉÁÀwÆp´Ç±pÅÆÇ¸¸~\n",
      "5\n",
      "l>",
      "L>o>",
      ">>>>>",
      ">",
      ">>E>>L\n",
      "3\n",
      "Nqn agu. Qwt htkgpfujkr ku jcpikpi qp c vjtgcf ecwug w yqp'v dwa uvwhh.\n",
      "2\n",
      "Lol yes. Our friendship is hanging on a thread cause u won't buy stuff.\n",
      "====================\n",
      "531: Message\n",
      "6\n",
      "Decrypted text: Ä·³Æ~p ·È·Äp´··Àp´·ÆÆ·Ä~p³µºp¶³±p¹»È·Åp·È·Àp¿ÁÄ·pÄ·³ÅÁÀÅpÆÁpÆº³À½pÁ¶\n",
      "5\n",
      "g",
      "L>n",
      "",
      ">",
      "",
      ">",
      "",
      "L>e>>",
      ">",
      "",
      ">",
      ">",
      ">>>g\n",
      "3\n",
      "Itgcv. Pgxgt dggp dgvvgt. Gcej fca ikxgu gxgp oqtg tgcuqpu vq vjcpm Iqf\n",
      "2\n",
      "Great. Never been better. Each day gives even more reasons to thank God\n",
      "====================\n",
      "532: Message\n",
      "6\n",
      "Decrypted text: ¥º·pÉ³ÅpÅÇÂÂÁÅ·¶pÆÁp´·p´ÇÆpµÁÇ¾¶ÀwÆp¿³½·p»Æ|pÅº·wÅpÅÆ»¾¾p»ÀpÆÁÉÀpÆºÁÇ¹º\n",
      "5\n",
      "s",
      ">>",
      ">>",
      ">>E>",
      ">J>",
      "E>>>>\n",
      "3\n",
      "Ujg ycu uwrrqugf vq dg dwv eqwnfp'v ocmg kv, ujg'u uvknn kp vqyp vjqwij\n",
      "2\n",
      "She was supposed to be but couldn't make it, she's still in town though\n",
      "====================\n",
      "533: Message\n",
      "6\n",
      "Decrypted text: ÂÂÆp»Åp³Æpv¾Æ¦v¹Æp³¿~p ÁÆp¿±p¸³Ç¾ÆpÇp¶ÁÀwÆp¾»ÅÆ·À~ppÆÁ¾¶pÇpÆÉ»µ·\n",
      "5\n",
      "a>>>DYtimeDY>L>n>>>>E>",
      "L>i>>>",
      "\n",
      "3\n",
      "Crrv ku cv &nv;VKOG&iv; co. Pqv oa hcwnv w fqp'v nkuvgp. K vqnf w vykeg\n",
      "2\n",
      "Appt is at &lt;TIME&gt; am. Not my fault u don't listen. I told u twice\n",
      "====================\n",
      "534: Message\n",
      "6\n",
      "Decrypted text: Ä·³ÆqppºÁÂ·p±ÁÇp¾»½·p±ÁÇÄp¿³ÀpÉ·¾¾p·À¶ÁÉ·¶~pp³¿ppv¾Æsv¹Æpp»Àµº·Å~~~\n",
      "5\n",
      "g",
      "?>i>",
      ">>",
      ">>>",
      ">",
      "",
      "L>i>>>DYADY>>",
      "LLL\n",
      "3\n",
      "Itgcv! K jqrg aqw nkmg aqwt ocp ygnn gpfqygf. K co  &nv;#&iv;  kpejgu...\n",
      "2\n",
      "Great! I hope you like your man well endowed. I am  &lt;#&gt;  inches...\n",
      "====================\n",
      "535: Message\n",
      "6\n",
      "Decrypted text: ÁÁ¶Áqp·ÅpÉ·p¿ÇÅÆpÅÂ·³½p¸Ä»¶³±p}p·¹¹}ÂÁÆ³ÆÁpÄ³Æ»Áp¸ÁÄpÆÁÄÆ»¾¾³pÀ··¶·¶qp\n",
      "5\n",
      "g?>_",
      ">",
      ">>",
      ">>K>",
      "K>>>>",
      "",
      "",
      "?>\n",
      "3\n",
      "Iqqfq! Agu yg owuv urgcm htkfca - gii-rqvcvq tcvkq hqt vqtvknnc pggfgf! \n",
      "2\n",
      "Goodo! Yes we must speak friday - egg-potato ratio for tortilla needed! \n",
      "====================\n",
      "536: Message\n",
      "6\n",
      "Decrypted text: Ä·p±ÁÇpÇÀ»ÃÇ·p·ÀÁÇ¹ºp»À¶pÁÇÆp¸ÄÁ¿pÆºpÇ¹ÇÅÆ~pÉÉÉ~³Ä·±ÁÇÇÀ»ÃÇ·~µÁ~Ç½\n",
      "5\n",
      "a",
      ">>",
      ">",
      "]>f>>>QN>aL>L",
      "",
      "LL\n",
      "3\n",
      "Ctg aqw wpkswg gpqwij? Hkpf qwv htqo 30vj Cwiwuv. yyy.ctgaqwwpkswg.eq.wm\n",
      "2\n",
      "Are you unique enough? Find out from 30th August. www.areyouunique.co.uk\n",
      "====================\n",
      "537: Message\n",
      "6\n",
      "Decrypted text: ©¤p§p¦p¡¤¦p¦¥p§¥¦p¥¡§  pp pp¦¦µ¥¥pqqqqqqqqq\n",
      "5\n",
      "_]where>u>at>dogbreath]>its>just>sounding>like>jan>c>thatss>al?????????\n",
      "3\n",
      "A?YJGTG W CV FQIDTGCVJ? KVU LWUV UQWPFKPI NKMG LCP E VJCVeUU CN!!!!!!!!!\n",
      "2\n",
      "Y?WHERE U AT DOGBREATH? ITS JUST SOUNDING LIKE JAN C THATcSS AL!!!!!!!!!\n",
      "====================\n",
      "538: Message\n",
      "6\n",
      "Decrypted text: p³¿p»ÀpÁ¸¸»µ·yÉº³ÆÅpÆº·p¿³ÆÆ·Ä~~¿Å¹p¿·pÀÁÉ~»pÉ»¾¾pµ³¾¾p±ÁÇp³Æp´Ä·³½y~\n",
      "5\n",
      "i>>>",
      "XG>",
      ">",
      "LL>",
      ">L>>>>>",
      "XGL\n",
      "3\n",
      "K co kp qhhkeg:)yjcvu vjg ocvvgt..oui og pqy.k yknn ecnn aqw cv dtgcm:).\n",
      "2\n",
      "I am in office:)whats the matter..msg me now.i will call you at break:).\n",
      "====================\n",
      "539: Message\n",
      "6\n",
      "Decrypted text: ·ÆÇÀ¶·p»w¿p»Àpµ¾³ÅÅpµ³Àp±ÁÇpÀÁÆpÄÇÀpÉ³Æ·ÄpÁÀp»ÆpÆÁp¿³½·p»ÆpÁ½~p¢¾ÅpÀÁÉ~\n",
      "5\n",
      "_",
      "",
      ">E>>>>>>>",
      ">>>>",
      ">>L>p>L\n",
      "3\n",
      "Agvwpfg k'o kp encuu ecp aqw pqv twp ycvgt qp kv vq ocmg kv qm. Rnu pqy.\n",
      "2\n",
      "Yetunde i'm in class can you not run water on it to make it ok. Pls now.\n",
      "====================\n",
      "540: Message\n",
      "6\n"
     ]
    },
    {
     "name": "stdout",
     "output_type": "stream",
     "text": [
      "Decrypted text: ¦º³ÆÅpµÁÁ¾~p»p³¿p³p¹·ÀÆ¾·¿³Àp³À¶pÉ»¾¾pÆÄ·³Æp±ÁÇpÉ»Æºp¶»¹À»Æ±p³À¶pÄ·ÅÂ·µÆ~\n",
      "5\n",
      "t>L>>>>",
      "",
      ">>>",
      ">>>>>",
      "",
      "L\n",
      "3\n",
      "Vjcvu eqqn. k co c igpvngocp cpf yknn vtgcv aqw ykvj fkipkva cpf tgurgev.\n",
      "2\n",
      "Thats cool. i am a gentleman and will treat you with dignity and respect.\n",
      "====================\n",
      "541: Message\n",
      "6\n",
      "Decrypted text: ©º³ÆwÅpÇÂp´ÄÇÈ|pºÁÂ·p±ÁÇpº³¶p³p¹Ä·³Æp´Ä·³½~pÁpº³È·p³pÄ·É³Ä¶»À¹pÅ·¿·ÅÆ·Ä~\n",
      "5\n",
      "wE>>J>",
      ">>>>",
      ">",
      "L>d>",
      ">>",
      ">",
      "",
      "",
      "L\n",
      "3\n",
      "Yjcv'u wr dtwx, jqrg aqw jcf c itgcv dtgcm. Fq jcxg c tgyctfkpi ugoguvgt.\n",
      "2\n",
      "What's up bruv, hope you had a great break. Do have a rewarding semester.\n",
      "====================\n",
      "542: Message\n",
      "6\n",
      "Decrypted text: ÁÇp³È³»¾³´¾·pÀÁÉpw¿p¾»½·pÄ»¹ºÆp³ÄÁÇÀ¶pº»¾¾Å´ÁÄÁÇ¹ºpv³¿Âppv¾Æsv¹ÆpÆº\n",
      "5\n",
      "_>",
      ">]>iE>",
      ">>>>DY>>DYADY>\n",
      "3\n",
      "Aqw cxckncdng pqy? K'o nkmg tkijv ctqwpf jknnudqtqwij &cor;  &nv;#&iv; vj\n",
      "2\n",
      "You available now? I'm like right around hillsborough &amp;  &lt;#&gt; th\n",
      "====================\n",
      "543: Message\n",
      "6\n",
      "Decrypted text: pÉÁÀÆp¹·ÆpµÁÀµ·ÀÆÄ³Æ»ÁÀp¶·³Äp±ÁÇp½ÀÁÉp±ÁÇp³Ä·p¿±p¿»À¶p³À¶p·È·Ä±Æº»À¹p}y\n",
      "5\n",
      "i>>",
      ">",
      ">",
      ">>>>",
      ">>>>",
      "",
      ">XKG\n",
      "3\n",
      "K yqpv igv eqpegpvtcvkqp fgct aqw mpqy aqw ctg oa okpf cpf gxgtavjkpi :-)\n",
      "2\n",
      "I wont get concentration dear you know you are my mind and everything :-)\n",
      "====================\n",
      "544: Message\n",
      "6\n",
      "Decrypted text: ©»¾¾pÂÇÄµº³Å·p¶pÅÆÇ¸¸pÆÁ¶³±p³À¶p¿³»¾pÆÁp±ÁÇ~pÁp±ÁÇpº³È·p³pÂÁp´ÁÊpÀÇ¿´·Ä\n",
      "5\n",
      "w>",
      ">>>>>>>L>d>>",
      ">>>>",
      "]\n",
      "3\n",
      "Yknn rwtejcug f uvwhh vqfca cpf ockn vq aqw. Fq aqw jcxg c rq dqz pwodgt?\n",
      "2\n",
      "Will purchase d stuff today and mail to you. Do you have a po box number?\n",
      "====================\n",
      "545: Message\n",
      "6\n",
      "Decrypted text: ¢¾ÅpÅ·À¶p¿·p³pµÁ¿ÂÄ·º·ÀÅ»È·p¿³»¾p³´ÁÇÆpÉºÁp»w¿pÂ³±»À¹|pÉº·Àp³À¶pºÁÉp¿Çµº~\n",
      "5\n",
      "p>",
      ">",
      ">>",
      "",
      "",
      ">>>>E>J>",
      ">>>L\n",
      "3\n",
      "Rnu ugpf og c eqortgjgpukxg ockn cdqwv yjq k'o rcakpi, yjgp cpf jqy owej.\n",
      "2\n",
      "Pls send me a comprehensive mail about who i'm paying, when and how much.\n",
      "====================\n",
      "546: Message\n",
      "6\n",
      "Decrypted text: »¶pÇp¸»À¶pÁÇÆpÉº³ÆpÆ»¿·pÆº·p´ÇÅp»Åp³ÆpµÁ²p»pÀ··¶pÆÁpÅÁÄÆpÅÁ¿·pÅÆÇ¸¸pÁÇÆ~\n",
      "5\n",
      "d>>>>>",
      ">",
      ">>>>>>",
      "",
      ">>>",
      ">>L\n",
      "3\n",
      "Fkf w hkpf qwv yjcv vkog vjg dwu ku cv eqb k pggf vq uqtv uqog uvwhh qwv.\n",
      "2\n",
      "Did u find out what time the bus is at coz i need to sort some stuff out.\n",
      "====================\n",
      "547: Message\n",
      "6\n",
      "Decrypted text: ©³Åp³µÆÇ³¾¾±p³´ÁÇÆpÆÁpÅ·À¶p±ÁÇp³pÄ·¿»À¶·ÄpÆÁ¶³±~p³È·p³pÉÁÀ¶·Ä¸Ç¾pÉ··½·À¶\n",
      "5\n",
      "w>>>>",
      ">>>",
      "",
      ">L>h",
      ">>",
      ">",
      "",
      "",
      "\n",
      "3\n",
      "Ycu cevwcnna cdqwv vq ugpf aqw c tgokpfgt vqfca. Jcxg c yqpfgthwn yggmgpf\n",
      "2\n",
      "Was actually about to send you a reminder today. Have a wonderful weekend\n",
      "====================\n",
      "548: Message\n",
      "6\n",
      "Decrypted text: ¥º·pÉ·ÀÆpÆÁp³ÆÆ·À¶p³ÀÁÆº·ÄpÆÉÁpÄÁÇÀ¶ÅpÆÁ¶³±~~´ÇÆpÅÆ»¾¾p¶»¶wÆpÄ·³µºpºÁ¿·~~\n",
      "5\n",
      "s",
      ">",
      ">>",
      ">",
      ">>>LL>>E>",
      ">",
      "LL\n",
      "3\n",
      "Ujg ygpv vq cvvgpf cpqvjgt vyq tqwpfu vqfca..dwv uvknn fkf'v tgcej jqog..\n",
      "2\n",
      "She went to attend another two rounds today..but still did't reach home..\n",
      "====================\n",
      "549: Message\n",
      "6\n",
      "Decrypted text: §ÂpÆÁp¯~~~ppÉ³ÀpµÁ¿·pÆº·ÀpµÁ¿·p¾ÁÄ~~~pÇÆp»p¶»Àpµp³À±pÅÆÄ»Â·ÅpÅ½»ÄÆ~~~\n",
      "5\n",
      "u>>j}LLL>jm>>",
      ">",
      ">",
      ">LLL>b>>>>>",
      ">LLL\n",
      "3\n",
      "Wr vq L_... LO ycp eqog vjgp eqog nqt... Dwv k fkp e cpa uvtkrgu umktv...\n",
      "2\n",
      "Up to J_... JM wan come then come lor... But i din c any stripes skirt...\n",
      "====================\n",
      "550: Message\n",
      "6\n",
      "Decrypted text: »p¸ÄÀ¶|pÉº»µºp»Åp´·ÅÆpÉ³±pÆÁp³ÈÁ»¶p¿»ÅÅÇÀ¶·ÄÅÆ¶»À¹pÉ»ÆpÁÇÄp´·¾ÁÈ·¶pÁÀ·wÅ\n",
      "5\n",
      "h>J>>>",
      ">>>>",
      ">>>",
      "",
      ">",
      "E]\n",
      "3\n",
      "Jk htpf, yjkej ku dguv yca vq cxqkf okuuwpfgtuvfkpi ykv qwt dgnqxgf qpg'u?\n",
      "2\n",
      "Hi frnd, which is best way to avoid missunderstding wit our beloved one's?\n",
      "====================\n",
      "551: Message\n",
      "6\n",
      "Decrypted text: ₀Ň¿pÂ³Ä½·¶pÀ·ÊÆpÆÁp³p qqqqp©º·Àp³Ä·p±ÁÇpµÁ¿»À¹p»ÀpÆÁ¶³±p¶Áp±ÁÇpÆº»À½\n",
      "5\n",
      "i⁎_ĕ>",
      ">",
      ">>>mini????>w",
      ">",
      ">>>>>>>]\n",
      "3\n",
      "K‰A÷o rctmgf pgzv vq c OKPK!!!! Yjgp ctg aqw eqokpi kp vqfca fq aqw vjkpm?\n",
      "2\n",
      "I‰Y÷m parked next to a MINI!!!! When are you coming in today do you think?\n",
      "====================\n",
      "552: Message\n",
      "6\n",
      "Decrypted text: w¿p´³µ½pv³¿ÂpÉ·wÄ·pÂ³µ½»À¹pÆº·pµ³ÄpÀÁÉ|pw¾¾p¾·Æp±ÁÇp½ÀÁÉp»¸pÆº·Ä·wÅpÄÁÁ¿\n",
      "5\n",
      "iE>>DY>",
      "E",
      ">>",
      ">>J>iE>",
      ">>>>",
      "",
      "E>\n",
      "3\n",
      "K'o dcem &cor; yg'tg rcemkpi vjg ect pqy, K'nn ngv aqw mpqy kh vjgtg'u tqqo\n",
      "2\n",
      "I'm back &amp; we're packing the car now, I'll let you know if there's room\n",
      "====================\n",
      "553: Message\n",
      "6\n",
      "Decrypted text: Á¿·p´±pÁÇÄpÄÁÁ¿p³ÆpÅÁ¿·pÂÁ»ÀÆpÅÁpÉ·pµ³Àp»ÄÁÀpÁÇÆpÆº·pÂ¾³Àp¸ÁÄpÆº»ÅpÉ··½·À¶\n",
      "5\n",
      "c",
      ">>>>>",
      ">>>",
      ">>>>",
      ">>>>",
      "",
      "",
      "\n",
      "3\n",
      "Eqog da qwt tqqo cv uqog rqkpv uq yg ecp ktqp qwv vjg rncp hqt vjku yggmgpf\n",
      "2\n",
      "Come by our room at some point so we can iron out the plan for this weekend\n",
      "====================\n",
      "554: Message\n",
      "6\n",
      "Decrypted text: ¦ÄÇ·p¶·³Ä~~»pÅ³ÆpÆÁpÂÄ³±p·È·À»À¹p³À¶p¸·¾ÆpÅÁ~ÅÁp»pÅ¿Åw¶p±ÁÇp»ÀpÅÁ¿·pÆ»¿·~~~\n",
      "5\n",
      "t",
      ">",
      "LL>>>>",
      "",
      ">>",
      ">L>>E>>>",
      ">",
      "LLL\n",
      "3\n",
      "Vtwg fgct..k ucv vq rtca gxgpkpi cpf hgnv uq.uq k uou'f aqw kp uqog vkog...\n",
      "2\n",
      "True dear..i sat to pray evening and felt so.so i sms'd you in some time...\n",
      "====================\n",
      "555: Message\n",
      "6\n",
      "Decrypted text: ©»Åº»À¹p±ÁÇp³À¶p±ÁÇÄp¸³¿»¾±p·ÄÄ±p¬ª¬rp¿³Åp³À¶p¢¢p ©p·³Äp»Àp³¶È³Àµ·~~r\n",
      "5\n",
      "w>>>>>m",
      ">zxz@>>>happ_>new>_",
      ">>",
      "LL@\n",
      "3\n",
      "Ykujkpi aqw cpf aqwt hcokna Ogtta \\Z\\\" ocu cpf JCRRA PGY Agct kp cfxcpeg..\"\n",
      "2\n",
      "Wishing you and your family Merry \\X\\\" mas and HAPPY NEW Year in advance..\"\n",
      "====================\n",
      "556: Message\n",
      "6\n",
      "Decrypted text: Áp±ÁÇp½ÀÁÉpÉº³Æp³¾¾»½³p¥º·Ä³É³Æp¶»¶p±·ÅÆ·Ä¶³±p»À¶pÁÇÆpÀÁÉpppv¾Æ§¤v¹Æ\n",
      "5\n",
      "d>>>>m>s",
      ">>",
      "",
      "]>f>>>^>>DYurlDY\n",
      "3\n",
      "Fq aqw mpqy yjcv Ocnnkmc Ujgtcycv fkf aguvgtfca? Hkpf qwv pqy @  &nv;WTN&iv;\n",
      "2\n",
      "Do you know what Mallika Sherawat did yesterday? Find out now @  &lt;URL&gt;\n",
      "====================\n",
      "557: Message\n",
      "6\n",
      "Decrypted text: ÆÅpÀÁÆpÆº·pÅ³¿·pº·Ä·~p¥Æ»¾¾p¾ÁÁ½»À¹p¸ÁÄp³p¼Á´~pÁÉp¿Çµºp¶Áp¦³wÅp·³ÄÀpÆº·Ä·~\n",
      "5\n",
      "i>>",
      ">",
      ">",
      "",
      "L>s>>>>L>h>>>tE>",
      ">",
      "",
      "L\n",
      "3\n",
      "Kvu pqv vjg ucog jgtg. Uvknn nqqmkpi hqt c lqd. Jqy owej fq Vc'u gctp vjgtg.\n",
      "2\n",
      "Its not the same here. Still looking for a job. How much do Ta's earn there.\n",
      "====================\n",
      "558: Message\n",
      "6\n",
      "Decrypted text: w¿pÅÆ»¾¾p¾ÁÁ½»À¹p¸ÁÄp³pµ³ÄpÆÁp´Ç±~pÀ¶pº³È·pÀÁÆp¹ÁÀ·pÆº·p¶Ä»È»À¹pÆ·ÅÆp±·Æ~\n",
      "5\n",
      "iE>>>>>>>L>a>",
      ">>",
      ">R",
      ">>",
      ">",
      "L\n",
      "3\n",
      "K'o uvknn nqqmkpi hqt c ect vq dwa. Cpf jcxg pqv iqpg 4vjg ftkxkpi vguv agv.\n",
      "2\n",
      "I'm still looking for a car to buy. And have not gone 4the driving test yet.\n",
      "====================\n",
      "559: Message\n",
      "6\n",
      "Decrypted text: ³±´·p»pµÁÇ¾¶p¹·Æp´ÁÁ½pÁÇÆpÆÁ¿ÁpÆº·ÀpÄ·ÆÇÄÀp»Æp»¿¿·¶»³Æ·¾±p~~p¡ÄpÅÁ¿·Æº»À¹~\n",
      "5\n",
      "m",
      ">>>",
      ">>>>",
      ">",
      ">>",
      "",
      ">LL]>o>",
      "L\n",
      "3\n",
      "Ocadg k eqwnf igv dqqm qwv vqoq vjgp tgvwtp kv koogfkcvgna ..? Qt uqogvjkpi.\n",
      "2\n",
      "Maybe i could get book out tomo then return it immediately ..? Or something.\n",
      "====================\n",
      "560: Message\n",
      "6\n",
      "Decrypted text: »pºÁÂ·pÇp¹·ÆpÆº»ÅpÆÊÆÎ¼ÁÇÄÀ·±pº³ÅÀÆp´··Àp¹¶|ÀÁÉp³´ÁÇÆp",
      "p¿»ÀÅp¾³Æ·ppÆº»À½~\n",
      "5\n",
      "h>",
      ">>",
      ">>",
      ">>",
      "",
      ">J>>SN>>",
      ">i>L\n",
      "3\n",
      "Jk jqrg w igv vjku vzv~lqwtpga jcupv dggp if,pqy cdqwv 50 okpu ncvg K vjkpm.\n",
      "2\n",
      "Hi hope u get this txt~journey hasnt been gd,now about 50 mins late I think.\n",
      "====================\n",
      "561: Message\n",
      "6\n",
      "Decrypted text: ÇÆp³¿p¹Á»À¹pÆÁpµÁ¾¾·¹·pÂ³~p©º³ÆpÆÁp¶Á~p³Ä·p·¾Å·p»¾¾pµÁ¿·pÆº·Ä·p»ÆpÅ·¾¸~p¢³~\n",
      "5\n",
      "b>>>>",
      "",
      ">L>w>>L>",
      ">",
      "",
      ">>",
      ">",
      "",
      ">>",
      "L>pL\n",
      "3\n",
      "Dwv co iqkpi vq eqnngig rc. Yjcv vq fq. ctg gnug knn eqog vjgtg kv ugnh. Rc.\n",
      "2\n",
      "But am going to college pa. What to do. are else ill come there it self. Pa.\n",
      "====================\n",
      "562: Message\n",
      "6\n",
      "Decrypted text: ±pÅ»ÅÆ·Äp»Àp¾³É|pºÁÂ·p±ÁÇp³Ä·pº³È»À¹p³p¹Ä·³Æp¿ÁÀÆº~pÇÅÆpÅ³±»À¹pº·±~p´»Á¾³\n",
      "5\n",
      "m>",
      ">>J>",
      ">>",
      ">>>",
      ">L>j>>",
      "L>a\n",
      "3\n",
      "Oa ukuvgt kp ncy, jqrg aqw ctg jcxkpi c itgcv oqpvj. Lwuv ucakpi jga. Cdkqnc\n",
      "2\n",
      "My sister in law, hope you are having a great month. Just saying hey. Abiola\n",
      "====================\n",
      "563: Message\n",
      "6\n",
      "Decrypted text: p¶ÁÀwÆpÆº»À½ppµ³Àp¹·Æp³É³±p¸ÁÄp³pÆÄ·½pÆº³Æp¾ÁÀ¹pÉ»Æºp¸³¿»¾±p»ÀpÆÁÉÀ|pÅÁÄÄ±\n",
      "5\n",
      "i>E>>i>>",
      ">>>>",
      ">>>>>>J>\n",
      "3\n",
      "K fqp'v vjkpm K ecp igv cyca hqt c vtgm vjcv nqpi ykvj hcokna kp vqyp, uqtta\n",
      "2\n",
      "I don't think I can get away for a trek that long with family in town, sorry\n",
      "====================\n",
      "564: Message\n",
      "6\n",
      "Decrypted text: ¡ÇÄp¢Ä³Åº³ÀÆº·ÆÆ³ÀwÅp¿ÁÆº·ÄpÂ³ÅÅ·¶p³É³±p¾³ÅÆpÀ»¹ºÆ~pÂÄ³±p¸ÁÄpº·Äp³À¶p¸³¿»¾±~\n",
      "5\n",
      "o>p",
      "E>",
      ">",
      ">>>L>>>",
      ">>L\n",
      "3\n",
      "Qwt Rtcujcpvjgvvcp'u oqvjgt rcuugf cyca ncuv pkijv. rtca hqt jgt cpf hcokna.\n",
      "2\n",
      "Our Prashanthettan's mother passed away last night. pray for her and family.\n",
      "====================\n",
      "565: Message\n",
      "6\n"
     ]
    },
    {
     "name": "stdout",
     "output_type": "stream",
     "text": [
      "Decrypted text: È·Àp¿±p´ÄÁÆº·Äp»ÅpÀÁÆp¾»½·pÆÁpÅÂ·³½pÉ»Æºp¿·~p¦º·±pÆÄ·³Æp¿·p¾»½·p³»¶ÅpÂ³Æ·ÀÆ~\n",
      "5\n",
      "e",
      ">>",
      ">>>",
      ">>",
      ">>",
      "L>t",
      ">",
      ">",
      ">",
      ">>",
      "L\n",
      "3\n",
      "Gxgp oa dtqvjgt ku pqv nkmg vq urgcm ykvj og. Vjga vtgcv og nkmg ckfu rcvgpv.\n",
      "2\n",
      "Even my brother is not like to speak with me. They treat me like aids patent.\n",
      "====================\n",
      "566: Message\n",
      "6\n",
      "Decrypted text: ·Â|pÆº·p¹Ä·³Æp¾ÁÊ³º³Æµº··pÊ¿³ÅpÆÄ··p´ÇÄÀ»À¹pÁ¸ppv¾Æsv¹ÆppÅÆ³ÄÆÅp»Àp³ÀpºÁÇÄ\n",
      "5\n",
      "_",
      "J>",
      ">",
      ">",
      "",
      ">>",
      "",
      ">>>>DYADY>>>>>\n",
      "3\n",
      "Agr, vjg itgcv nqzcjcvejgg zocu vtgg dwtpkpi qh  &nv;#&iv;  uvctvu kp cp jqwt\n",
      "2\n",
      "Yep, the great loxahatchee xmas tree burning of  &lt;#&gt;  starts in an hour\n",
      "====================\n",
      "567: Message\n",
      "6\n",
      "Decrypted text: ©º³Æp»Åp»¿ÂÁÄÆ³ÀÆp»ÅpÆº³Æp±ÁÇpÂÄ·È·ÀÆp¶·º±¶Ä³Æ»ÁÀp´±p¹»È»À¹pº·Äp·ÀÁÇ¹ºp¸¾Ç»¶Å\n",
      "5\n",
      "w>>>>>>",
      "",
      ">",
      ">>>",
      ">",
      ">\n",
      "3\n",
      "Yjcv ku korqtvcpv ku vjcv aqw rtgxgpv fgjaftcvkqp da ikxkpi jgt gpqwij hnwkfu\n",
      "2\n",
      "What is important is that you prevent dehydration by giving her enough fluids\n",
      "====================\n",
      "568: Message\n",
      "6\n",
      "Decrypted text: §¹ºp»ÆÅp´··Àp³p¾ÁÀ¹p¶³±~pw¿p·Êº³ÇÅÆ·¶~pÇÅÆpÉ³ÀÆpÆÁpµÇ¶¶¾·pÇÂp³À¶pÆ³½·p³pÀ³Â\n",
      "5\n",
      "u>>",
      "",
      ">>>L>iE>",
      "",
      "L>j>>>",
      ">>>",
      ">>\n",
      "3\n",
      "Wij kvu dggp c nqpi fca. K'o gzjcwuvgf. Lwuv ycpv vq ewffng wr cpf vcmg c pcr\n",
      "2\n",
      "Ugh its been a long day. I'm exhausted. Just want to cuddle up and take a nap\n",
      "====================\n",
      "569: Message\n",
      "6\n",
      "Decrypted text: pÉÁÀ¶·Äp»¸p±ÁÇÄpÂºÁÀ·p´³ÆÆ·Ä±pÉ·ÀÆp¶·³¶pppº³¶pÆÁpÆ·¾¾p±ÁÇ|pp¾ÁÈ·p±ÁÇp´³´·\n",
      "5\n",
      "i>",
      ">>>",
      ">",
      ">",
      ">",
      ">]>i>>>",
      ">J>i>",
      ">>",
      "\n",
      "3\n",
      "K yqpfgt kh aqwt rjqpg dcvvgta ygpv fgcf ? K jcf vq vgnn aqw, K nqxg aqw dcdg\n",
      "2\n",
      "I wonder if your phone battery went dead ? I had to tell you, I love you babe\n",
      "====================\n",
      "570: Message\n",
      "6\n",
      "Decrypted text: ©º³ÆpÆ»¿·p±ÁÇpÆº»À½p±ÁÇw¾¾pº³È·p»Æp ··¶pÆÁp½ÀÁÉpÉº·ÀppÅºÁÇ¾¶p´·pÀ·³Äpµ³¿ÂÇÅ\n",
      "5\n",
      "w>",
      ">>>E>",
      ">]>n",
      "",
      ">>>",
      ">i>>",
      ">",
      ">\n",
      "3\n",
      "Yjcv vkog aqw vjkpm aqw'nn jcxg kv? Pggf vq mpqy yjgp K ujqwnf dg pgct ecorwu\n",
      "2\n",
      "What time you think you'll have it? Need to know when I should be near campus\n",
      "====================\n",
      "571: Message\n",
      "6\n",
      "Decrypted text: ¦ÁÁp¾³Æ·~ppÅ³»¶p»pº³È·pÆº·pÉ·´Å»Æ·~pp¶»¶ÀwÆp»pº³È·pÁÄp¶ÁÀÆpº³È·pÆº·pÅ¾»ÂÂ·ÄÅ\n",
      "5\n",
      "t>",
      "L>i>>>",
      ">",
      ">",
      "",
      "L>i>E>>",
      ">>>",
      ">",
      ">",
      "\n",
      "3\n",
      "Vqq ncvg. K uckf k jcxg vjg ygdukvg. K fkfp'v k jcxg qt fqpv jcxg vjg unkrrgtu\n",
      "2\n",
      "Too late. I said i have the website. I didn't i have or dont have the slippers\n",
      "====================\n",
      "572: Message\n",
      "6\n",
      "Decrypted text: ÇÅÆpµº·µ½»À¹p»ÀpÁÀp±ÁÇ~p¤·³¾¾±p¶Áp¿»ÅÅpÅ··»À¹p·Ä·¿»³º~pÁpº³È·p³p¹Ä·³Æp¿ÁÀÆº\n",
      "5\n",
      "j>",
      ">>>L>r",
      ">>>",
      "",
      ">j",
      "",
      "L>d>",
      ">>",
      ">\n",
      "3\n",
      "Lwuv ejgemkpi kp qp aqw. Tgcnna fq okuu uggkpi Lgtgokcj. Fq jcxg c itgcv oqpvj\n",
      "2\n",
      "Just checking in on you. Really do miss seeing Jeremiah. Do have a great month\n",
      "====================\n",
      "573: Message\n",
      "6\n",
      "Decrypted text: ¿··Æp±ÁÇp»ÀpµÁÄÂÁÄ³Æ»ÁÀpÅÆpÁÇÆÅ»¶·p¹³Âp₀¯p±ÁÇpµ³ÀpÅ··pºÁÉp¿±p¿»À¶p»ÅpÉÁÄ½»À¹q\n",
      "5\n",
      "",
      "",
      ">>>>>",
      ">>⁎_}>>>",
      "",
      ">>>>>?\n",
      "3\n",
      "oggv aqw kp eqtrqtcvkqp uv qwvukfg icr ‰A_ aqw ecp ugg jqy oa okpf ku yqtmkpi!\n",
      "2\n",
      "meet you in corporation st outside gap ‰Y_ you can see how my mind is working!\n",
      "====================\n",
      "574: Message\n",
      "6\n",
      "Decrypted text: p¾ÁÈ·pÆÁp¹»È·p¿³ÅÅ³¹·Å~ppÇÅ·p¾ÁÆÅpÁ¸p´³´±pÁ»¾~~~p©º³Æp»Åp±ÁÇÄp¸³È·pÂÁÅ»Æ»ÁÀ\n",
      "5\n",
      "i>",
      ">>",
      ">",
      "L>i>",
      ">>>>LLL>w>>>",
      ">]\n",
      "3\n",
      "K nqxg vq ikxg ocuucigu. K wug nqvu qh dcda qkn... Yjcv ku aqwt hcxg rqukvkqp?\n",
      "2\n",
      "I love to give massages. I use lots of baby oil... What is your fave position?\n",
      "====================\n",
      "575: Message\n",
      "6\n",
      "Decrypted text: ¦º·±Ä·p¶Á»À¹p»ÆpÆÁp¾ÁÆÅpÁ¸pÂ¾³µ·Å~p¡À¾±pºÁÅÂ»Æ³¾Åp³À¶p¿·¶»µ³¾pÂ¾³µ·Åp³Ä·pÅ³¸·~\n",
      "5\n",
      "t",
      "",
      ">>>>>>",
      "L>o>>>",
      ">",
      ">",
      ">",
      "L\n",
      "3\n",
      "Vjgatg fqkpi kv vq nqvu qh rncegu. Qpna jqurkvcnu cpf ogfkecn rncegu ctg uchg.\n",
      "2\n",
      "Theyre doing it to lots of places. Only hospitals and medical places are safe.\n",
      "====================\n",
      "576: Message\n",
      "6\n",
      "Decrypted text: w¶pÅ³±pÆº³ÆwÅp³p¹ÁÁ¶pÅ»¹Àp´ÇÆ|pÉ·¾¾|p±ÁÇp½ÀÁÉp¿±pÆÄ³µ½pÄ·µÁÄ¶p³ÆpÄ·³¶»À¹pÉÁ¿·À\n",
      "5\n",
      "iE>>E>>>>J>",
      "J>>>>>",
      ">>",
      ">",
      "\n",
      "3\n",
      "K'f uca vjcv'u c iqqf ukip dwv, ygnn, aqw mpqy oa vtcem tgeqtf cv tgcfkpi yqogp\n",
      "2\n",
      "I'd say that's a good sign but, well, you know my track record at reading women\n",
      "====================\n",
      "577: Message\n",
      "6\n",
      "Decrypted text: ~pÆº³Æpµ³¾¾pµÁÅÆ~p©º»µºp»p¹Ç·ÅÅp»ÅÀÆp´³¶~p»ÅÅp±³|pÀ··¶p±³|pÉ³ÀÆp±³|p¾ÁÈ·p±³\n",
      "5\n",
      "OLPN>>>L>w>>",
      ">>L>m>J>",
      "",
      ">J>>J>",
      ">\n",
      "3\n",
      "1.20 vjcv ecnn equv. Yjkej k iwguu kupv dcf. Okuu ac, pggf ac, ycpv ac, nqxg ac\n",
      "2\n",
      "1.20 that call cost. Which i guess isnt bad. Miss ya, need ya, want ya, love ya\n",
      "====================\n",
      "578: Message\n",
      "6\n",
      "Decrypted text: Á±±ÁÁÁpÇp½ÀÁÉpºÁÉpÆÁpµº³À¹·pÂ·Ä¿»ÅÅ»ÁÀÅp¸ÁÄp³p¶Ä»È·p»Àp¿³µ~p±pÇÅ´p¸¾³Åºp¶Ä»È·\n",
      "5\n",
      "_>>>>>",
      ">",
      ">>>",
      ">>L>m>>>",
      "\n",
      "3\n",
      "Aqaaqqq w mpqy jqy vq ejcpig rgtokuukqpu hqt c ftkxg kp oce. Oa wud hncuj ftkxg\n",
      "2\n",
      "Yoyyooo u know how to change permissions for a drive in mac. My usb flash drive\n",
      "====================\n",
      "579: Message\n",
      "6\n",
      "Decrypted text: ~¾¾p¹»È·pº·ÄpÁÀµ·p»pº³È·p»Æ~p¢¾ÇÅpÅº·pÅ³»¶p¹Ä»ÀÇ¾·p¹Ä··Æp±ÁÇpÉº·À·È·ÄpÉ·pÅÂ·³½\n",
      "5\n",
      "iL>",
      ">",
      ">",
      ">>",
      ">L>p>",
      ">>",
      ">",
      "",
      ">>",
      "",
      "",
      ">",
      ">",
      "\n",
      "3\n",
      "K.nn ikxg jgt qpeg k jcxg kv. Rnwu ujg uckf itkpwng itggv aqw yjgpgxgt yg urgcm\n",
      "2\n",
      "I.ll give her once i have it. Plus she said grinule greet you whenever we speak\n",
      "====================\n",
      "580: Message\n",
      "6\n",
      "Decrypted text: p¸±»pÊpº³Åp³pÄ»¶·p·³Ä¾±pÆÁ¿ÁÄÄÁÉp¿ÁÄÀ»À¹p´ÇÆpº·wÅpµÄ³Åº»À¹p³ÆpÁÇÄpÂ¾³µ·pÆÁÀ»¹ºÆ\n",
      "5\n",
      "k>>>>>",
      ">",
      ">>>>",
      "E>>>>",
      ">\n",
      "3\n",
      "M hak z jcu c tkfg gctna vqoqttqy oqtpkpi dwv jg'u etcujkpi cv qwt rnceg vqpkijv\n",
      "2\n",
      "K fyi x has a ride early tomorrow morning but he's crashing at our place tonight\n",
      "====================\n",
      "581: Message\n",
      "6\n",
      "Decrypted text: »¶p±ÁÇpº·³Äp³´ÁÇÆpÆº·pÀ·Ép¬»ÈÁÄµ·p³Ä´»·¬rpÆpµÁ¿·ÅpÉ»Æºp³¾¾pÁ¸p·ÀwÅpÅÆÇ¸¸qr\n",
      "5\n",
      "d>>",
      ">>",
      ">",
      ">zd",
      ">b",
      "z@]>i>",
      ">>>>k",
      "E>?@\n",
      "3\n",
      "Fkf aqw jgct cdqwv vjg pgy \\Fkxqteg Dctdkg\\\"? Kv eqogu ykvj cnn qh Mgp'u uvwhh!\"\n",
      "2\n",
      "Did you hear about the new \\Divorce Barbie\\\"? It comes with all of Ken's stuff!\"\n",
      "====================\n",
      "582: Message\n",
      "6\n",
      "Decrypted text: ·±pÅÁpÆº»ÅpÅ³Æp³Ä·pÉ·p¹Á»À¹p¸ÁÄpÆº·p»ÀÆÄÁpÂ»¾³Æ·ÅpÁÀ¾±p¡ÄpÆº·p½»µ½´ÁÊ»À¹pÆÁÁp\n",
      "5\n",
      "h",
      ">>>>",
      ">",
      ">>>",
      ">>",
      ">]>o>",
      ">>]>\n",
      "3\n",
      "Jga uq vjku ucv ctg yg iqkpi hqt vjg kpvtq rkncvgu qpna? Qt vjg mkemdqzkpi vqq? \n",
      "2\n",
      "Hey so this sat are we going for the intro pilates only? Or the kickboxing too? \n",
      "====================\n",
      "583: Message\n",
      "6\n",
      "Decrypted text: Á·ÅpÅº·pÇÅÇ³¾¾±pÆ³½·p¸»¸Æ··Àp¸Çµ½»À¹p¿»ÀÇÆ·ÅpÆÁpÄ·ÅÂÁÀ¶pÆÁp³p±·ÅpÁÄpÀÁpÃÇ·ÅÆ»ÁÀ\n",
      "5\n",
      "d",
      ">",
      ">>",
      ">",
      "",
      ">>",
      ">>",
      ">>>",
      ">>>",
      "\n",
      "3\n",
      "Fqgu ujg wuwcnna vcmg hkhvggp hwemkpi okpwvgu vq tgurqpf vq c agu qt pq swguvkqp\n",
      "2\n",
      "Does she usually take fifteen fucking minutes to respond to a yes or no question\n",
      "====================\n",
      "584: Message\n",
      "6\n",
      "Decrypted text: Áp±ÁÇp¿»À¶p»¸pp³Å½pÉº³Æpº³ÂÂ·À·¶pÁÇp¶ÁÀÆpº³È·pÆÁpÅ³±p»¸p»Æp»ÅpÇÀµÁ¿¸ÁÄÆ³´¾·~\n",
      "5\n",
      "d>>>>i>>>",
      "",
      "]>_>>",
      ">>>>>>",
      "L\n",
      "3\n",
      "Fq aqw okpf kh K cum yjcv jcrrgpgf? Aqw fqpv jcxg vq uca kh kv ku wpeqohqtvcdng.\n",
      "2\n",
      "Do you mind if I ask what happened? You dont have to say if it is uncomfortable.\n",
      "====================\n",
      "585: Message\n",
      "6\n",
      "Decrypted text: ³±´·qp¥³±pº»pÆÁpp³À¶p¸»À¶pÁÇÆp»¸pp¹ÁÆpº»Åpµ³Ä¶~pÄ·³Æp·Åµ³Â·pÁÄpÉ·Æº·ÄÅÂÁÁÀÅp\n",
      "5\n",
      "m",
      "]?>s>>>>>>>>>>>L>g",
      ">",
      "",
      ">>",
      "",
      "]>\n",
      "3\n",
      "Ocadg?! Uca jk vq  cpf hkpf qwv kh  iqv jku ectf. Itgcv guecrg qt ygvjgturqqpu? \n",
      "2\n",
      "Maybe?! Say hi to  and find out if  got his card. Great escape or wetherspoons? \n",
      "====================\n",
      "586: Message\n",
      "6\n",
      "Decrypted text: Á¾p±ÁÇpÉÁÀwÆp¸··¾p´³¶pÉº·ÀppÇÅ·pº·Äp¿ÁÀ·±pÆÁpÆ³½·p±ÁÇpÁÇÆpÆÁp³pÅÆ·³½p¶»ÀÀ·Äp\n",
      "5\n",
      "l>>E>",
      "",
      ">>",
      ">i>",
      ">",
      ">",
      ">>",
      ">>>>>",
      ">",
      ">[d\n",
      "3\n",
      "Nqn aqw yqp'v hggn dcf yjgp K wug jgt oqpga vq vcmg aqw qwv vq c uvgcm fkppgt =F\n",
      "2\n",
      "Lol you won't feel bad when I use her money to take you out to a steak dinner =D\n",
      "====================\n",
      "587: Message\n",
      "6\n",
      "Decrypted text: µÆÇ³¾¾±p»p¶·¾·Æ·¶p¿±pÁ¾¶pÉ·´Å»Æ·~~ÀÁÉp»p¿p´¾Á¹¹»À¹p³Æp¿³¹»µ³¾ÅÁÀ¹Å~´¾Á¹ÅÂÁÆ~µÁ¿\n",
      "5\n",
      "a>>",
      "",
      "",
      ">>>",
      "",
      "LL>>>>>LL\n",
      "3\n",
      "Cevwcnna k fgngvgf oa qnf ygdukvg..pqy k o dnqiikpi cv ocikecnuqpiu.dnqiurqv.eqo\n",
      "2\n",
      "Actually i deleted my old website..now i m blogging at magicalsongs.blogspot.com\n",
      "====================\n",
      "588: Message\n",
      "6\n",
      "Decrypted text: ºpÇpÄ·¿·¿´·ÄpºÁÉppÅÂ·¾¾pº»ÅpÀ³¿·~~~p·Åp»p¶»¶~p·pÈpÀ³Ç¹ºÆ±p¿³½·pÇÀÆ»¾p»pÈpÉ·Æ~\n",
      "5\n",
      "e>>",
      "",
      "",
      ">>P>",
      ">>",
      "LLL>_",
      ">>L>h",
      ">>>",
      ">>>>",
      "L\n",
      "3\n",
      "Gj w tgogodgt jqy 2 urgnn jku pcog... Agu k fkf. Jg x pcwijva ocmg wpvkn k x ygv.\n",
      "2\n",
      "Eh u remember how 2 spell his name... Yes i did. He v naughty make until i v wet.\n",
      "====================\n",
      "589: Message\n",
      "6\n",
      "Decrypted text: ¡½³±pÀ³¿·pÇÄpÂÄ»µ·p³Åp¾ÁÀ¹p³Åp»ÆÅp¾·¹³¾qp©·Àpµ³ÀppÂ»µ½pÆº·¿pÇÂppÇp³È·pÊp³¿ÅpÊÊ\n",
      "5\n",
      "o>",
      ">>",
      ">>>>>",
      "?>w",
      ">>i>>",
      ">]>_>>",
      ">>>\n",
      "3\n",
      "Qmca pcog wt rtkeg cu nqpi cu kvu ngicn! Ygp ecp K rkem vjgo wr? A w cxg z cou zz\n",
      "2\n",
      "Okay name ur price as long as its legal! Wen can I pick them up? Y u ave x ams xx\n",
      "====================\n",
      "590: Message\n",
      "6\n",
      "Decrypted text: ©º·ÀwÄ·p±ÁÇp¹Ç±Åp¹·ÆÆ»À¹p´³µ½ppÅ³»¶p±ÁÇpÉ·Ä·pÆº»À½»À¹p³´ÁÇÆpÀÁÆpÅÆ³±»À¹p¸ÁÄp¿µÄ\n",
      "5\n",
      "w",
      "E",
      ">>>",
      ">]>g>>>",
      "",
      ">>>>>>\n",
      "3\n",
      "Yjgp'tg aqw iwau igvvkpi dcem? I uckf aqw ygtg vjkpmkpi cdqwv pqv uvcakpi hqt oet\n",
      "2\n",
      "When're you guys getting back? G said you were thinking about not staying for mcr\n",
      "====================\n",
      "591: Message\n",
      "6\n",
      "Decrypted text: »¶µp¹·ÆpÁÈ·Äpº·Ä·|p±ÁÇp³Ä·pÀÁÆpÉ·³Å·¾»À¹p±ÁÇÄpÉ³±pÁÇÆpÁ¸pÆº»ÅpÅº»ÆpÆÉ»µ·p»Àp³pÄÁÉ\n",
      "5\n",
      ">",
      ">",
      ">",
      "",
      "J>>",
      ">>",
      "",
      ">>>>>>>",
      ">>>\n",
      "3\n",
      "kfe igv qxgt jgtg, aqw ctg pqv ygcugnkpi aqwt yca qwv qh vjku ujkv vykeg kp c tqy\n",
      "2\n",
      "idc get over here, you are not weaseling your way out of this shit twice in a row\n",
      "====================\n",
      "592: Message\n",
      "6\n",
      "Decrypted text: ¢¾Åp¹Áp³º·³¶pÉ»ÆºpÉ³ÆÆÅ~pp¼ÇÅÆpÉ³ÀÆ·¶pÆÁp´·pÅÇÄ·~pÁpº³È·p³p¹Ä·³ÆpÉ··½·À¶~p´»Á¾³\n",
      "5\n",
      "p>>",
      ">>L>i>>",
      ">>",
      ">",
      "L>d>",
      ">>",
      ">",
      "",
      "",
      "L>a\n",
      "3\n",
      "Rnu iq cjgcf ykvj ycvvu. K lwuv ycpvgf vq dg uwtg. Fq jcxg c itgcv yggmgpf. Cdkqnc\n",
      "2\n",
      "Pls go ahead with watts. I just wanted to be sure. Do have a great weekend. Abiola\n",
      "====================\n",
      "593: Message\n",
      "6\n",
      "Decrypted text: ÁÉpÉÁÇ¾¶p¿±p»Âp³¶¶Ä·ÅÅpÆ·ÅÆpÆº³ÆpµÁÀÅ»¶·Ä»À¹p¿±pµÁ¿ÂÇÆ·Äp»ÅÀwÆp³p¿»À·µÄ³¸ÆpÅ·ÄÈ·Ä\n",
      "5\n",
      "h>>>>",
      ">",
      ">>",
      ">>",
      ">E>>",
      ">",
      "",
      "\n",
      "3\n",
      "Jqy yqwnf oa kr cfftguu vguv vjcv eqpukfgtkpi oa eqorwvgt kup'v c okpgetchv ugtxgt\n",
      "2\n",
      "How would my ip address test that considering my computer isn't a minecraft server\n",
      "====================\n",
      "594: Message\n",
      "6\n",
      "Decrypted text: ¤·³¾±pÅÁÄÄ±}»p¶ÁÀwÆpÄ·µÁ¹À»Å·pÆº»ÅpÀÇ¿´·Äp³À¶p³¿pÀÁÉpµÁÀ¸ÇÅ·¶pypÉºÁpÄpÇpÂ¾·³Å·qp\n",
      "5\n",
      "r",
      ">K>E>",
      "",
      ">>",
      ">>>>",
      ">XG>>>>",
      "",
      "]?>\n",
      "3\n",
      "Tgcna uqtta-k fqp'v tgeqipkug vjku pwodgt cpf co pqy eqphwugf :) yjq t w rngcug?! \n",
      "2\n",
      "Realy sorry-i don't recognise this number and am now confused :) who r u please?! \n",
      "====================\n",
      "595: Message\n",
      "6\n"
     ]
    },
    {
     "name": "stdout",
     "output_type": "stream",
     "text": [
      "Decrypted text: p¾ÇÈpÇpÅÁÁp¿ÇµºpÇp¶ÁÀµ¥ÆpÇÀ¶·ÄÅÆ³À¶pºÁÉpÅÂ·µ»³¾pÇpÄpp¿·pÄ»À¹pÇp¿ÁÄÄÁÉp¾ÇÈpÇpÊÊÊ\n",
      "5\n",
      "i>>>>>>s>",
      ">>",
      ">>>P>",
      ">>>P>>>\n",
      "3\n",
      "K nwx w uqq owej w fqpeUv wpfgtuvcpf jqy urgekcn w t 2 og tkpi w 2oqttqy nwx w zzz\n",
      "2\n",
      "I luv u soo much u doncSt understand how special u r 2 me ring u 2morrow luv u xxx\n",
      "====================\n",
      "596: Message\n",
      "6\n",
      "Decrypted text: ¡½³±~p ÁpÀÁ|p¼ÇÅÆpÅº»À»À¹pÁÀ~p¦º³ÆpÉ³Åp¿·³ÀÆpÆÁp´·pÅ»¹À»À¹|p´ÇÆpÆº³ÆpÅÁÇÀ¶Åp´·ÆÆ·Ä~\n",
      "5\n",
      "oL>n>J>>>L>t>>",
      ">>",
      ">J>>>>",
      "",
      "L\n",
      "3\n",
      "Qmca. Pq pq, lwuv ujkpkpi qp. Vjcv ycu ogcpv vq dg ukipkpi, dwv vjcv uqwpfu dgvvgt.\n",
      "2\n",
      "Okay. No no, just shining on. That was meant to be signing, but that sounds better.\n",
      "====================\n",
      "597: Message\n",
      "6\n",
      "Decrypted text: ¦º·±p¶ÁÀwÆpÂÇÆpÆº³ÆpÅÆÇ¸¸pÁÀpÆº·pÄÁ³¶ÅpÆÁp½··Âp»Æp¸ÄÁ¿p¹·ÆÆ»À¹pÅ¾»ÂÂ·Ä±pÁÈ·ÄpÆº·Ä·\n",
      "5\n",
      "t",
      ">E>>>>>",
      ">>>",
      "",
      ">>>",
      ">",
      ">",
      ">",
      "",
      "]\n",
      "3\n",
      "Vjga fqp'v rwv vjcv uvwhh qp vjg tqcfu vq mggr kv htqo igvvkpi unkrrgta qxgt vjgtg?\n",
      "2\n",
      "They don't put that stuff on the roads to keep it from getting slippery over there?\n",
      "====================\n",
      "598: Message\n",
      "6\n",
      "Decrypted text: ÁÄp¸·³ÄpÁ¸p¸³»ÀÆ»À¹pÉ»ÆºpÆº·pÁ¸p³¾¾pÆº³ÆpºÁÇÅ·ÉÁÄ½p±ÁÇp¼ÇÅÆp¶»¶p£Ç»µ½pº³È·p³pµÇÂÂ³\n",
      "5\n",
      "f>",
      ">>>>",
      ">>>>",
      ">>>]>q>",
      ">>\n",
      "3\n",
      "Hqt hgct qh hckpvkpi ykvj vjg qh cnn vjcv jqwugyqtm aqw lwuv fkf? Swkem jcxg c ewrrc\n",
      "2\n",
      "For fear of fainting with the of all that housework you just did? Quick have a cuppa\n",
      "====================\n",
      "599: Message\n",
      "6\n",
      "Decrypted text: §¿¿¿³~É»¾¾pµ³¾¾p³¸Æ·Äpµº·µ½p»À~ÁÇÄp¾»¸·pÉ»¾¾p´·¹»Àp¸ÄÁ¿pÃ³Æ³ÄpÅÁpÂ¾ÅpÂÄ³±pÈ·Ä±pº³Ä¶~\n",
      "5\n",
      "uL>>",
      ">",
      ">L>",
      ">>",
      ">>>>>>",
      ">L\n",
      "3\n",
      "Woooc.yknn ecnn chvgt ejgem kp.qwt nkhg yknn dgikp htqo scvct uq rnu rtca xgta jctf.\n",
      "2\n",
      "Ummma.will call after check in.our life will begin from qatar so pls pray very hard.\n",
      "====================\n",
      "600: Message\n",
      "6\n",
      "Decrypted text: ·¾¾Áp¶³Ä¾»Àp»È·p¸»À»Åº·¶pµÁ¾¾·¹·pÀÁÉpÅÁpÆÊÆp¿·pÉº·ÀpÇp¸»À»Åºp»¸pÇpµ³Àp¾ÁÈ·p³Æ·pÊÊÊ\n",
      "5\n",
      "h",
      ">>",
      ">",
      ">",
      "",
      ">>>>",
      ">",
      ">>>>>>",
      ">k",
      ">\n",
      "3\n",
      "Jgnnq fctnkp kxg hkpkujgf eqnngig pqy uq vzv og yjgp w hkpkuj kh w ecp nqxg Mcvg zzz\n",
      "2\n",
      "Hello darlin ive finished college now so txt me when u finish if u can love Kate xxx\n",
      "====================\n",
      "601: Message\n",
      "6\n",
      "Decrypted text: ¡Äp¿³±´·p¿±p¸³Æp¸»À¹·ÄÅp¼ÇÅÆpÂÄ·ÅÅp³¾¾pÆº·Å·p´ÇÆÆÁÀÅp³À¶p»Æp¶Á·ÅÀwÆp½ÀÁÉpÉº³ÆpÆÁp¶Á~\n",
      "5\n",
      "o>",
      ">>>",
      ">>",
      ">>",
      "",
      ">>>>",
      "E>>>>L\n",
      "3\n",
      "Qt ocadg oa hcv hkpigtu lwuv rtguu cnn vjgug dwvvqpu cpf kv fqgup'v mpqy yjcv vq fq.\n",
      "2\n",
      "Or maybe my fat fingers just press all these buttons and it doesn't know what to do.\n",
      "====================\n",
      "602: Message\n",
      "6\n",
      "Decrypted text: §¿¿¿¿¿³³ºp³À±p¿³À±pº³ÂÂ±pÄ·ÆÇÄÀÅpÁ¸p¶p¶³±p¿±p¶·³ÄpÅÉ··Æpº·³ÄÆ~~p¢¢p¤¦p¶·³Ä\n",
      "5\n",
      "u>m>>>",
      ">>>>>",
      ">",
      "",
      ">",
      "LL>happ_>birthda_>",
      "\n",
      "3\n",
      "Woooooccj Ocpa ocpa jcrra tgvwtpu qh f fca oa fgct uyggv jgctv.. JCRRA DKTVJFCA fgct\n",
      "2\n",
      "Ummmmmaah Many many happy returns of d day my dear sweet heart.. HAPPY BIRTHDAY dear\n",
      "====================\n",
      "603: Message\n",
      "6\n",
      "Decrypted text: ©·wÄ·p³¾¾p¹·ÆÆ»À¹pÉÁÄÄ»·¶pÁÈ·Äpº·Ä·|p¶·Ä·½p³À¶pÆ³±¾ÁÄpº³È·p³¾Ä·³¶±p³ÅÅÇ¿·¶pÆº·pÉÁÄÅÆ\n",
      "5\n",
      "w",
      "E",
      ">>",
      ">",
      ">",
      ">",
      "",
      "J>",
      "",
      ">>>",
      ">",
      ">",
      ">",
      ">\n",
      "3\n",
      "Yg'tg cnn igvvkpi yqttkgf qxgt jgtg, fgtgm cpf vcanqt jcxg cntgcfa cuuwogf vjg yqtuv\n",
      "2\n",
      "We're all getting worried over here, derek and taylor have already assumed the worst\n",
      "====================\n",
      "604: Message\n",
      "6\n",
      "Decrypted text: w¿pÅÁp»Àp¾ÁÈ·pÉ»Æºp±ÁÇ~pw¿p·Êµ»Æ·¶p·³µºp¶³±p»pÅÂ·À¶pÉ»Æºp±ÁÇ~pÁÇp¿³½·p¿·pÅÁpº³ÂÂ±~\n",
      "5\n",
      "iE>>>",
      ">>L>iE>",
      "",
      ">",
      ">>>",
      ">>L>_>",
      ">",
      ">>L\n",
      "3\n",
      "K'o uq kp nqxg ykvj aqw. K'o gzekvgf gcej fca k urgpf ykvj aqw. Aqw ocmg og uq jcrra.\n",
      "2\n",
      "I'm so in love with you. I'm excited each day i spend with you. You make me so happy.\n",
      "====================\n",
      "605: Message\n",
      "6\n",
      "Decrypted text: À±É³±p»w¿p¹Á»À¹pÅºÁÂÂ»À¹pÁÀp¿±pÁÉÀpÀÁÉ~pÁÅp¿±pÅ»ÅpÀÁÆp¶ÁÀ·p±·Æ~pÇÀp¶»ÅÆÇÄ´pÇp¾»³Á~\n",
      "5\n",
      "a>E>>>>>>L>c>>>>",
      ">",
      "L>d>>>L\n",
      "3\n",
      "Cpayca k'o iqkpi ujqrrkpi qp oa qyp pqy. Equ oa uku pqv fqpg agv. Fwp fkuvwtd w nkcq.\n",
      "2\n",
      "Anyway i'm going shopping on my own now. Cos my sis not done yet. Dun disturb u liao.\n",
      "====================\n",
      "606: Message\n",
      "6\n",
      "Decrypted text: »Åp»Åp±»¼Ç·~pp¼ÇÅpÅ³ÉpÇÄp¿³»¾~pÀpµ³Å·pºÇ»¿»À¹pº³È·ÀÆpÅ·ÀÆpÇp¿±pÀÇ¿~p»Åp»Åp¿±pÀÇ¿~\n",
      "5\n",
      "d>>",
      "L>i>>>>L>i>",
      ">>",
      ">",
      ">>>L>d>>>L\n",
      "3\n",
      "Fku ku aklwg. K lwu ucy wt ockn. Kp ecug jwkokpi jcxgpv ugpv w oa pwo. Fku ku oa pwo.\n",
      "2\n",
      "Dis is yijue. I jus saw ur mail. In case huiming havent sent u my num. Dis is my num.\n",
      "====================\n",
      "607: Message\n",
      "6\n",
      "Decrypted text: ·¾¾ÁqpÇÅÆp¹ÁÆpº·Ä·|pÅÆp³À¶Ä·ÉÅ}´Á±p»ÆÅp³p¾ÁÀ¹pÉ³±qpÆÅpµÁ¾¶~ppÉ»¾¾p½··Âp±ÁÇpÂÁÅÆ·¶\n",
      "5\n",
      "h",
      "?>j>>",
      "",
      "J>>",
      "K>>>>?>i>L>i>>",
      "",
      ">>",
      "\n",
      "3\n",
      "Jgnnq! Lwuv iqv jgtg, uv cpftgyu-dqa kvu c nqpi yca! Kvu eqnf. K yknn mggr aqw rquvgf\n",
      "2\n",
      "Hello! Just got here, st andrews-boy its a long way! Its cold. I will keep you posted\n",
      "====================\n",
      "608: Message\n",
      "6\n",
      "Decrypted text: ¡Äp´·ÆÆ·ÄpÅÆ»¾¾pµ³Àp±ÁÇpµ³Æµºpº·Äp³À¶p¾·Æp³Å½pº·Äp»¸pÅº·pµ³ÀpÅ·¾¾ppv¾Æsv¹Æpp¸ÁÄp¿·~\n",
      "5\n",
      "o>",
      "",
      ">>>>>",
      ">>",
      ">>",
      ">>",
      ">>",
      ">>DYADY>>>",
      "L\n",
      "3\n",
      "Qt dgvvgt uvknn ecp aqw ecvej jgt cpf ngv cum jgt kh ujg ecp ugnn  &nv;#&iv;  hqt og.\n",
      "2\n",
      "Or better still can you catch her and let ask her if she can sell  &lt;#&gt;  for me.\n",
      "====================\n",
      "609: Message\n",
      "6\n",
      "Decrypted text: ¿¿~~~¿±pÇÀµ¾·p¼ÇÅÆp»À¸ÁÄ¿·¶p¿·pÆº³Æpº·wÅpÂ³±»À¹pÆº·pÅµºÁÁ¾p¶»Ä·µÆ¾±~p¥ÁpÂ¾Åp´Ç±p¸ÁÁ¶~\n",
      "5\n",
      "hLLL>",
      ">>",
      ">",
      ">>",
      "E>>",
      ">>",
      "L>s>>>L\n",
      "3\n",
      "Joo...oa wpeng lwuv kphqtogf og vjcv jg'u rcakpi vjg uejqqn fktgevna. Uq rnu dwa hqqf.\n",
      "2\n",
      "Hmm...my uncle just informed me that he's paying the school directly. So pls buy food.\n",
      "====================\n",
      "610: Message\n",
      "6\n",
      "Decrypted text: ÁÆpµ~~~pp¾³²±pÆÁpÆ±Â·~~~pp¸ÁÄ¹ÁÆp¯p»Àp¾·µÆ~~~ppÅ³Ép³pÂÁÇµºp´ÇÆp¾»½·pÀÁÆpÈpÀ»µ·~~~\n",
      "5\n",
      "g>LLL>i>>>",
      "LLL>i>>j}>>",
      "LLL>i>>>>>",
      ">>>",
      "LLL\n",
      "3\n",
      "Iqv e... K ncba vq varg... K hqtiqv L_ kp ngev... K ucy c rqwej dwv nkmg pqv x pkeg...\n",
      "2\n",
      "Got c... I lazy to type... I forgot J_ in lect... I saw a pouch but like not v nice...\n",
      "====================\n",
      "611: Message\n",
      "6\n",
      "Decrypted text: ÁÇpÂ¾·³Å·p¹»È·pÇÅpµÁÀÀ·µÆ»ÁÀpÆÁ¶³±p»ÆÅ·¾¸p´·¸ÁÄ·ppv¾Æv¹ÆppÁÄpÄ·¸ÇÀ¶pÆº·p´»¾¾\n",
      "5\n",
      "_>",
      "",
      ">",
      ">>",
      ">>",
      ">",
      "",
      ">>DYdecimalDY>>>",
      ">",
      ">\n",
      "3\n",
      "Aqw rngcug ikxg wu eqppgevkqp vqfca kvugnh dghqtg  &nv;FGEKOCN&iv;  qt tghwpf vjg dknn\n",
      "2\n",
      "You please give us connection today itself before  &lt;DECIMAL&gt;  or refund the bill\n",
      "====================\n",
      "612: Message\n",
      "6\n",
      "Decrypted text: w¿pÄ·³¶»À¹pÆº·pÆ·ÊÆp»p¼ÇÅÆpÅ·ÀÆp±ÁÇ~pÆÅp¿·³ÀÆpÆÁp´·p³p¼Á½·~p¥ÁpÄ·³¶p»Æp»ÀpÆº³Æp¾»¹ºÆ\n",
      "5\n",
      "iE>",
      ">",
      ">",
      ">>>",
      ">L>i>",
      ">>",
      ">>",
      "L>s>",
      ">>>>\n",
      "3\n",
      "K'o tgcfkpi vjg vgzv k lwuv ugpv aqw. Kvu ogcpv vq dg c lqmg. Uq tgcf kv kp vjcv nkijv\n",
      "2\n",
      "I'm reading the text i just sent you. Its meant to be a joke. So read it in that light\n",
      "====================\n",
      "613: Message\n",
      "6\n",
      "Decrypted text: ÁÇpº³È·p³Àp»¿ÂÁÄÆ³ÀÆpµÇÅÆÁ¿·ÄpÅ·ÄÈ»µ·p³ÀÀÁÇÀµ·¿·ÀÆ~p³¾¾p¤¢¡ pp",
      "p",
      "pÀÁÉq\n",
      "5\n",
      "_>",
      ">>>",
      ">",
      "",
      ">",
      "",
      "L>c>freephone>NVNN>SRP>NVPS>?\n",
      "3\n",
      "Aqw jcxg cp korqtvcpv ewuvqogt ugtxkeg cppqwpegogpv. Ecnn HTGGRJQPG 0800 542 0825 pqy!\n",
      "2\n",
      "You have an important customer service announcement. Call FREEPHONE 0800 542 0825 now!\n",
      "====================\n",
      "614: Message\n",
      "6\n",
      "Decrypted text: ©»¾¾p¶Á~p©³Åp·Êº³ÇÅÆ·¶pÁÀpÆÄ³»ÀpÆº»Åp¿ÁÄÀ»À¹~p¦ÁÁp¿ÇµºpÉ»À·p³À¶pÂ»·~pÁÇpÅ¾··ÂpÉ·¾¾pÆÁÁ\n",
      "5\n",
      "w>L>w>",
      "",
      ">>>>L>t>>",
      ">>",
      "L>_>",
      "",
      ">",
      ">\n",
      "3\n",
      "Yknn fq. Ycu gzjcwuvgf qp vtckp vjku oqtpkpi. Vqq owej ykpg cpf rkg. Aqw unggr ygnn vqq\n",
      "2\n",
      "Will do. Was exhausted on train this morning. Too much wine and pie. You sleep well too\n",
      "====================\n",
      "615: Message\n",
      "6\n",
      "Decrypted text: Éº³Æpp¿·³ÀÆpÆÁpÅ³±p»Åpµ³ÀÆpÉ³»ÆpÆÁpÅ··pÇp³¹³»Àp¹·ÆÆ»À¹p´ÁÄ·¶pÁ¸pÆº»Åp´Ä»¶¹É³Æ·Äp´³ÀÆ·Ä\n",
      "5\n",
      ">i>",
      ">>>>>>>",
      "",
      ">>>",
      ">",
      ">>>",
      ">",
      "\n",
      "3\n",
      "yjcv K ogcpv vq uca ku ecpv yckv vq ugg w cickp igvvkpi dqtgf qh vjku dtkfiycvgt dcpvgt\n",
      "2\n",
      "what I meant to say is cant wait to see u again getting bored of this bridgwater banter\n",
      "====================\n",
      "616: Message\n",
      "6\n",
      "Decrypted text: p¥§¤pªp ¡©¥p¥p¤¦p¥p¡¨¤p p¦ p §¦¥p¥p¤p¥p¡§w¤p¡ ¤ \n",
      "5\n",
      "make>sure>alex>knows>his>birthda_>is>over>in>fifteen>minutes>as>far>as>_ouEre>concerned\n",
      "3\n",
      "OCMG UWTG CNGZ MPQYU JKU DKTVJFCA KU QXGT KP HKHVGGP OKPWVGU CU HCT CU AQW'TG EQPEGTPGF\n",
      "2\n",
      "MAKE SURE ALEX KNOWS HIS BIRTHDAY IS OVER IN FIFTEEN MINUTES AS FAR AS YOU'RE CONCERNED\n",
      "====================\n",
      "617: Message\n",
      "6\n",
      "Decrypted text: pÉ³ÀÆ·¶pÆÁp³Å½p¯pÆÁpÉ³»Æpp¿·pÆÁp¸»À»Åºp¾·µÆ~pÁÅp¿±p¾·µÆp¸»À»Åº·Åp»Àp³ÀpºÁÇÄp³À±É³±~\n",
      "5\n",
      "i>",
      ">>>j}>>>R>",
      ">>>",
      "L>c>>",
      ">",
      ">>>>L\n",
      "3\n",
      "K ycpvgf vq cum L_ vq yckv 4 og vq hkpkuj ngev. Equ oa ngev hkpkujgu kp cp jqwt cpayca.\n",
      "2\n",
      "I wanted to ask J_ to wait 4 me to finish lect. Cos my lect finishes in an hour anyway.\n",
      "====================\n",
      "618: Message\n",
      "6\n",
      "Decrypted text: ±pÅÆÁ¿³µºpº³Åp´··ÀpÆºÄÇpÅÁp¿ÇµºpÆÄ³Ç¿³ppÅÉ·³Äpp¼ÇÅÆpµ³ÀwÆp·³Æ~pp´·ÆÆ·Äp¾ÁÅ·pÉ·»¹ºÆ~\n",
      "5\n",
      "m>>>",
      "",
      ">>>>>i>",
      ">i>>E>",
      "L>i>",
      "",
      ">",
      ">",
      "L\n",
      "3\n",
      "Oa uvqocej jcu dggp vjtw uq owej vtcwoc K uygct K lwuv ecp'v gcv. K dgvvgt nqug ygkijv.\n",
      "2\n",
      "My stomach has been thru so much trauma I swear I just can't eat. I better lose weight.\n",
      "====================\n",
      "619: Message\n",
      "6\n",
      "Decrypted text: Á·ÅÀwÆp¹pº³È·pµ¾³ÅÅp·³Ä¾±pÆÁ¿ÁÄÄÁÉp³À¶pÆºÇÅpÅºÁÇ¾¶ÀwÆp´·pÆÄ±»À¹pÆÁpÅ¿Á½·p³Æppv¾Æsv¹Æ\n",
      "5\n",
      "d",
      "E>>",
      ">>",
      ">>>>E>",
      ">>>",
      ">>>DYADY\n",
      "3\n",
      "Fqgup'v i jcxg encuu gctna vqoqttqy cpf vjwu ujqwnfp'v dg vtakpi vq uoqmg cv  &nv;#&iv;\n",
      "2\n",
      "Doesn't g have class early tomorrow and thus shouldn't be trying to smoke at  &lt;#&gt;\n",
      "====================\n",
      "620: Message\n",
      "6\n"
     ]
    },
    {
     "name": "stdout",
     "output_type": "stream",
     "text": [
      "Decrypted text: ¸pº·pÅÆ³ÄÆ·¶pÅ·³Äµº»À¹pº·pÉ»¾¾p¹·Æp¼Á´p»Àp¸·Ép¶³±Å~º·pº³È·p¹Ä·³ÆpÂÁÆ·ÀÆ»³¾p³À¶pÆ³¾·ÀÆ~\n",
      "5\n",
      "i>",
      ">",
      ">",
      ">",
      ">>",
      ">>>",
      ">L",
      ">",
      ">",
      ">",
      ">>",
      "L\n",
      "3\n",
      "Kh jg uvctvgf ugctejkpi jg yknn igv lqd kp hgy fcau.jg jcxg itgcv rqvgpvkcn cpf vcngpv.\n",
      "2\n",
      "If he started searching he will get job in few days.he have great potential and talent.\n",
      "====================\n",
      "621: Message\n",
      "6\n",
      "Decrypted text: ¸Æp»p¸»À»Åºp¿±p¾ÇÀµºpÆº·Àp»p¹ÁpÅÆÄp¶ÁÉÀp¾ÁÄ~pÄ¶ppÅ¿Æºp¾ÁÄ~p§p¸»À»ÅºpÇÄp¾ÇÀµºp³¾Ä·³¶±\n",
      "5\n",
      "a>>>>>",
      ">>>>>L>a>Q>>L>u>>>>",
      "]\n",
      "3\n",
      "Chv k hkpkuj oa nwpej vjgp k iq uvt fqyp nqt. Ctf 3 uovj nqt. W hkpkuj wt nwpej cntgcfa?\n",
      "2\n",
      "Aft i finish my lunch then i go str down lor. Ard 3 smth lor. U finish ur lunch already?\n",
      "====================\n",
      "622: Message\n",
      "6\n",
      "Decrypted text: p¼ÇÅpÄ·³µº·¶pºÁ¿·~pp¹Áp´³Æº·p¸»ÄÅÆ~pÇÆp¿±pÅ»ÅpÇÅ»À¹pÀ·ÆpÆ·¾¾pÇpÉº·ÀpÅº·p¸»À»Åº·Åp½~~~\n",
      "5\n",
      "i>>",
      "",
      ">",
      "L>i>>",
      ">L>b>>>>",
      ">",
      ">>",
      ">",
      ">",
      ">LLL\n",
      "3\n",
      "K lwu tgcejgf jqog. K iq dcvjg hktuv. Dwv oa uku wukpi pgv vgnn w yjgp ujg hkpkujgu m...\n",
      "2\n",
      "I jus reached home. I go bathe first. But my sis using net tell u when she finishes k...\n",
      "====================\n",
      "623: Message\n",
      "6\n",
      "Decrypted text: É·ÅÁ¿·|ppÄ·¿·¿´·ÄpÆº·p¾³ÅÆpÆ»¿·pÉ·p¹ÁÆpÅÁ¿·´Á¶±pº»¹ºp¸ÁÄpÆº·p¸»ÄÅÆpÆ»¿·pÉ»Æºp¶»·Å·¾p¨\n",
      "5\n",
      "a",
      "",
      "J>i>",
      "",
      "",
      ">",
      ">>",
      ">",
      ">>",
      ">>>",
      ">>",
      ">>",
      "",
      ">Xv\n",
      "3\n",
      "Cyguqog, K tgogodgt vjg ncuv vkog yg iqv uqogdqfa jkij hqt vjg hktuv vkog ykvj fkgugn :X\n",
      "2\n",
      "Awesome, I remember the last time we got somebody high for the first time with diesel :V\n",
      "====================\n",
      "624: Message\n",
      "6\n",
      "Decrypted text: ÇÅ±pº·Ä·~p¦Ä±»À¹pÆÁp¸»À»Åºp¸ÁÄpÀ·Ép±·³Ä~pp³¿p¾ÁÁ½»À¹p¸ÁÄÉ³Ä¶pÆÁp¸»À³¾¾±p¿··Æ»À¹p±ÁÇ~~~\n",
      "5\n",
      "b>",
      "",
      "L>t>>>>",
      ">",
      "L>i>>>>>>",
      "",
      ">LLL\n",
      "3\n",
      "Dwua jgtg. Vtakpi vq hkpkuj hqt pgy agct. K co nqqmkpi hqtyctf vq hkpcnna oggvkpi aqw...\n",
      "2\n",
      "Busy here. Trying to finish for new year. I am looking forward to finally meeting you...\n",
      "====================\n",
      "625: Message\n",
      "6\n",
      "Decrypted text: ©·¾¾p»¿¿³p¶·¸»À»Æ·¾±pÀ··¶pÆÁpÄ·ÅÆÁµ½p´·¸ÁÄ·pÆº³À½Å¹»È»À¹|pw¾¾p¾·Æp±ÁÇp½ÀÁÉpÉº·Àpw¿pÁÇÆ\n",
      "5\n",
      "w",
      ">>",
      "",
      ">",
      "",
      ">>",
      ">",
      "",
      ">J>iE>",
      ">>>",
      ">iE>\n",
      "3\n",
      "Ygnn kooc fghkpkvgna pggf vq tguvqem dghqtg vjcpmuikxkpi, K'nn ngv aqw mpqy yjgp K'o qwv\n",
      "2\n",
      "Well imma definitely need to restock before thanksgiving, I'll let you know when I'm out\n",
      "====================\n",
      "626: Message\n",
      "6\n",
      "Decrypted text: ¥ÆÁÂpÆº·pÅÆÁÄ±~pwÈ·pÆÁ¾¶pº»¿p»wÈ·pÄ·ÆÇÄÀ·¶p»Æp³À¶pº·wÅpÅ³±»À¹p»pÅºÁÇ¾¶pÀÁÆpÄ·pÁÄ¶·Äp»Æ~\n",
      "5\n",
      "s>",
      ">L>iE",
      ">>>E",
      ">",
      "",
      ">>>",
      "E>>>>>",
      ">",
      ">L\n",
      "3\n",
      "Uvqr vjg uvqta. K'xg vqnf jko k'xg tgvwtpgf kv cpf jg'u ucakpi k ujqwnf pqv tg qtfgt kv.\n",
      "2\n",
      "Stop the story. I've told him i've returned it and he's saying i should not re order it.\n",
      "====================\n",
      "627: Message\n",
      "6\n",
      "Decrypted text: ·±p±ÁÇp¹³È·pÆº·¿p±ÁÇÄpÂºÁÆÁpÉº·Àp±ÁÇpÄ·¹»ÅÆ·Ä·¶p¸ÁÄp¶Ä»È»À¹p³ºp¦¿ÄpÉ³ÀÀ³p¿··Æp³Æp±µ½p\n",
      "5\n",
      "h",
      ">>",
      ">",
      ">>>",
      ">>",
      "",
      "",
      ">>>]>t>>",
      "",
      ">>]>\n",
      "3\n",
      "Jga aqw icxg vjgo aqwt rjqvq yjgp aqw tgikuvgtgf hqt ftkxkpi cj? Vot ycppc oggv cv aem? \n",
      "2\n",
      "Hey you gave them your photo when you registered for driving ah? Tmr wanna meet at yck? \n",
      "====================\n",
      "628: Message\n",
      "6\n",
      "Decrypted text: ³Äp¾ÁÄpº·pÉ³Àpp¹ÁpµpºÁÄÅ·pÄ³µ»À¹pÆÁ¶³±p¿³º|pÅÁp·³Æp·³Ä¾»·Äp¾ÁÄ~pp³Æ·pµº»µ½·ÀpÄ»µ·~p§\n",
      "5\n",
      "_>>",
      ">>P>>>",
      ">>>J>>",
      ">",
      "",
      ">L>i>",
      ">",
      ">",
      "L>u]\n",
      "3\n",
      "Act nqt jg ycp 2 iq e jqtug tcekpi vqfca ocj, uq gcv gctnkgt nqt. K cvg ejkemgp tkeg. W?\n",
      "2\n",
      "Yar lor he wan 2 go c horse racing today mah, so eat earlier lor. I ate chicken rice. U?\n",
      "====================\n",
      "629: Message\n",
      "6\n",
      "Decrypted text: ¦º·p¿·ÅÅ³¹·pÅ·ÀÆp»Åp³Å½»Àp¸ÁÄppv¾Æsv¹Æp¶Á¾¾³ÄÅ~p¥ºÁÇ¾p»pÂ³±ppv¾Æsv¹ÆppÁÄppv¾Æsv¹Æp\n",
      "5\n",
      "t",
      ">",
      "",
      ">",
      ">>>>>DYADY>L>s>>>>DYADY>>>>DYADY>]\n",
      "3\n",
      "Vjg oguucig ugpv ku cumkp hqt  &nv;#&iv; fqnnctu. Ujqwn k rca  &nv;#&iv;  qt  &nv;#&iv; ?\n",
      "2\n",
      "The message sent is askin for  &lt;#&gt; dollars. Shoul i pay  &lt;#&gt;  or  &lt;#&gt; ?\n",
      "====================\n",
      "630: Message\n",
      "6\n",
      "Decrypted text: ÁÇÄpµÄ·¶»ÆÅpº³È·p´··ÀpÆÁÂÂ·¶pÇÂp¸ÁÄpºÆÆÂÉÉÉ~´Ç´´¾·Æ·ÊÆ~µÁ¿pÁÇÄpÄ·À·É³¾p¢»Àp»ÅpÆ¹ÊÊÄ²\n",
      "5\n",
      "_>",
      ">",
      ">",
      "",
      ">",
      ">>>XMML",
      "",
      "L>_>",
      "",
      ">p>>\n",
      "3\n",
      "Aqwt etgfkvu jcxg dggp vqrrgf wr hqt jvvr://yyy.dwddngvgzv.eqo Aqwt tgpgycn Rkp ku vizztb\n",
      "2\n",
      "Your credits have been topped up for http://www.bubbletext.com Your renewal Pin is tgxxrz\n",
      "====================\n",
      "631: Message\n",
      "6\n",
      "Decrypted text: Á¾qp§p¶ÄÇÀ½³Ä¶qpÇÅÆp¶Á»À¹p¿±pº³»Äp³Æp¶p¿Á¿·ÀÆ~p·³ºpÅÆ»¾¾pÇÂppÆÁÀ»¹ºÆ~p©³ÆÅpÆº·pÂ¾³Àp\n",
      "5\n",
      "l?>u>?>j>>>>>>",
      "L>_",
      ">>>R>L>w>",
      ">]>\n",
      "3\n",
      "Nqn! W ftwpmctf! Lwuv fqkpi oa jckt cv f oqogpv. Agcj uvknn wr 4 vqpkijv. Ycvu vjg rncp? \n",
      "2\n",
      "Lol! U drunkard! Just doing my hair at d moment. Yeah still up 4 tonight. Wats the plan? \n",
      "====================\n",
      "632: Message\n",
      "6\n",
      "Decrypted text: ¦º³À½Åp¸ÁÄp±·ÅÆ·Ä¶³±pÅ»Ä~pÁÇpº³È·p´··ÀpÉÁÀ¶·Ä¸Ç¾~pÁÂ·p±ÁÇp·À¼Á±·¶pÆº·p´ÇÄ»³¾~pÁ¼»»Á¾³\n",
      "5\n",
      "t>>",
      "",
      ">L>_>",
      ">",
      "",
      ">",
      "L>h",
      ">>",
      "",
      ">",
      ">L>mb\n",
      "3\n",
      "Vjcpmu hqt aguvgtfca ukt. Aqw jcxg dggp yqpfgthwn. Jqrg aqw gplqagf vjg dwtkcn. OqlkDkqnc\n",
      "2\n",
      "Thanks for yesterday sir. You have been wonderful. Hope you enjoyed the burial. MojiBiola\n",
      "====================\n",
      "633: Message\n",
      "6\n",
      "Decrypted text: Ápµ³Ä¾ÁÅ|p³p¸·Ép¸Ä»·À¶Åp³Ä·p³¾Ä·³¶±p³Å½»À¹p¿·p³´ÁÇÆp±ÁÇ|p±ÁÇpÉÁÄ½»À¹p³Æp³¾¾pÆº»ÅpÉ··½·À¶\n",
      "5\n",
      "_>J>>",
      ">",
      ">",
      ">",
      ">>",
      ">>J>>>>>>",
      "",
      "",
      "]\n",
      "3\n",
      "Aq ectnqu, c hgy htkgpfu ctg cntgcfa cumkpi og cdqwv aqw, aqw yqtmkpi cv cnn vjku yggmgpf?\n",
      "2\n",
      "Yo carlos, a few friends are already asking me about you, you working at all this weekend?\n",
      "====================\n",
      "634: Message\n",
      "6\n",
      "Decrypted text: Ápµº³¶pÉº»µºp¹±¿À³ÅÆ»µÅpµ¾³ÅÅp¶Áp±ÁÇpÉ³ÀÀ³pÆ³½·p¦º·pÅ»Æ·pÅ³±ÅpºÄ»ÅÆ»³ÀÅpµ¾³ÅÅp»Åp¸Ç¾¾~~\n",
      "5\n",
      "_>>>>>>>>",
      "]>t",
      ">",
      ">>c>>>LL\n",
      "3\n",
      "Aq ejcf yjkej iaopcuvkeu encuu fq aqw ycppc vcmg? Vjg ukvg ucau Ejtkuvkcpu encuu ku hwnn..\n",
      "2\n",
      "Yo chad which gymnastics class do you wanna take? The site says Christians class is full..\n",
      "====================\n",
      "635: Message\n",
      "6\n",
      "Decrypted text: ¡ºp³À¶p´±pÆº·pÉ³±p±ÁÇp¶Ápº³È·p¿ÁÄ·p¸ÁÁ¶p»Àp±ÁÇÄp¸Ä»¶¹·qp©³ÀÆpÆÁp¹ÁpÁÇÆp¸ÁÄp³p¿·³¾pÆÁÀ»¹ºÆp\n",
      "5\n",
      "o>>>",
      ">>>>",
      ">",
      ">>>>",
      "?>w>>>>>>",
      ">]>\n",
      "3\n",
      "Qj cpf da vjg yca aqw fq jcxg oqtg hqqf kp aqwt htkfig! Ycpv vq iq qwv hqt c ogcn vqpkijv? \n",
      "2\n",
      "Oh and by the way you do have more food in your fridge! Want to go out for a meal tonight? \n",
      "====================\n",
      "636: Message\n",
      "6\n",
      "Decrypted text: ÁÉp³Ä·p±ÁÇp¶Á»À¹pÁÂ·p±ÁÇwÈ·pÅ·ÆÆ¾·¶p»Àp¸ÁÄpÆº·pÀ·ÉpÅµºÁÁ¾p±·³Ä~pÇÅÆpÉ»Åº»Àp±ÁÇp³p¹Äp¶³±\n",
      "5\n",
      "h>",
      ">>]>h",
      ">E",
      ">",
      "",
      ">>>",
      ">",
      ">>",
      "L>j>>>>V>\n",
      "3\n",
      "Jqy ctg aqw fqkpi? Jqrg aqw'xg ugvvngf kp hqt vjg pgy uejqqn agct. Lwuv ykujkp aqw c it8 fca\n",
      "2\n",
      "How are you doing? Hope you've settled in for the new school year. Just wishin you a gr8 day\n",
      "====================\n",
      "637: Message\n",
      "6\n",
      "Decrypted text: ÁÈ·p»Æqp³¶¶±pÉ»¾¾p¿³½·p±ÁÇpÅµÄ·³¿pÉ»ÆºpÂ¾·³ÅÇÄ·qpp³¿p¹Á»À¹pÆÁpÅ¾³Âp±ÁÇÄp³ÅÅpÉ»Æºp¿±p¶»µ½q\n",
      "5\n",
      "l",
      ">?>d>>",
      ">>",
      ">>",
      "",
      "?>i>>>>>>>>>?\n",
      "3\n",
      "Nqxg kv! Fcffa yknn ocmg aqw uetgco ykvj rngcuwtg! K co iqkpi vq uncr aqwt cuu ykvj oa fkem!\n",
      "2\n",
      "Love it! Daddy will make you scream with pleasure! I am going to slap your ass with my dick!\n",
      "====================\n",
      "638: Message\n",
      "6\n",
      "Decrypted text: ©³Æµº»À¹pµ³ÄÆÁÁÀ|p¾»ÅÆ·À»À¹p¿ÇÅ»µpv³¿Âp³Æp·È·pº³¶pÆÁp¹ÁpÆ·¿Â¾·pv³¿ÂpµºÇÄµº~~p©º³Æp³´ÁÇÆpÇ\n",
      "5\n",
      "w>J>",
      ">>DY>>",
      "",
      ">>>>",
      "",
      ">DY>LL>w>>]\n",
      "3\n",
      "Ycvejkpi ectvqqp, nkuvgpkpi owuke &cor; cv gxg jcf vq iq vgorng &cor; ejwtej.. Yjcv cdqwv w?\n",
      "2\n",
      "Watching cartoon, listening music &amp; at eve had to go temple &amp; church.. What about u?\n",
      "====================\n",
      "639: Message\n",
      "6\n",
      "Decrypted text: ºpÂÁÁÂ~pÁÁ½Åp¾»½·p»¾¾pÂÄÁ´pº³È·pÆÁpÅ·À¶p»Àp¿±p¾³ÂÆÁÂpÆÁp¹·Æp¸»Ê·¶pµÇ²p»Æpº³Åp³p¹ÂÇpÂÄÁ´¾·¿\n",
      "5\n",
      "a>L>l>",
      ">>>",
      ">>",
      ">>>>>",
      ">",
      ">>>>>>",
      "\n",
      "3\n",
      "Cj rqqr. Nqqmu nkmg knn rtqd jcxg vq ugpf kp oa ncrvqr vq igv hkzgf ewb kv jcu c irw rtqdngo\n",
      "2\n",
      "Ah poop. Looks like ill prob have to send in my laptop to get fixed cuz it has a gpu problem\n",
      "====================\n",
      "640: Message\n",
      "6\n",
      "Decrypted text: ©·¾¾p³¿pÁ¸¸»µ»³¾¾±p»Àp³pÂº»¾ÁÅÁÂº»µ³¾pºÁ¾·|pÅÁp»¸pÇpÉ³ÀÀ³pµ³¾¾p³¿p³ÆpºÁ¿·pÄ·³¶±pÆÁp´·pÅ³È·¶q\n",
      "5\n",
      "w",
      ">>>>>>",
      "J>>>>>>>>",
      ">",
      ">>",
      ">",
      "?\n",
      "3\n",
      "Ygnn co qhhkekcnna kp c rjknquqrjkecn jqng, uq kh w ycppc ecnn co cv jqog tgcfa vq dg ucxgf!\n",
      "2\n",
      "Well am officially in a philosophical hole, so if u wanna call am at home ready to be saved!\n",
      "====================\n",
      "641: Message\n",
      "6\n"
     ]
    },
    {
     "name": "stdout",
     "output_type": "stream",
     "text": [
      "Decrypted text: ÇÆpw¿pÁÀp³p¶»·Æ~pÀ¶pp³Æ·ppÆÁÁp¿³À±pÅ¾»µ·ÅpÁ¸pÂ»²²³p±·ÅÆ·Ä¶³±~p§¹ºpw¿p©¥pÁÀp³p¶»·Æ~\n",
      "5\n",
      "b>iE>>>",
      "L>a>i>",
      ">O>>>",
      ">>>",
      "",
      "L>u>iE>alwa_s>>>",
      "L\n",
      "3\n",
      "Dwv K'o qp c fkgv. Cpf K cvg 1 vqq ocpa unkegu qh rkbbc aguvgtfca. Wij K'o CNYCAU qp c fkgv.\n",
      "2\n",
      "But I'm on a diet. And I ate 1 too many slices of pizza yesterday. Ugh I'm ALWAYS on a diet.\n",
      "====================\n",
      "642: Message\n",
      "6\n",
      "Decrypted text: ©³Æµº»À¹pµ³ÄÆÁÁÀ|p¾»ÅÆ·À»À¹p¿ÇÅ»µpv³¿Âp³Æp·È·pº³¶pÆÁp¹ÁpÆ·¿Â¾·pv³¿ÂpµºÇÄµº~~p©º³Æp³´ÁÇÆpÇ\n",
      "5\n",
      "w>J>",
      ">>DY>>",
      "",
      ">>>>",
      "",
      ">DY>LL>w>>]\n",
      "3\n",
      "Ycvejkpi ectvqqp, nkuvgpkpi owuke &cor; cv gxg jcf vq iq vgorng &cor; ejwtej.. Yjcv cdqwv w?\n",
      "2\n",
      "Watching cartoon, listening music &amp; at eve had to go temple &amp; church.. What about u?\n",
      "====================\n",
      "643: Message\n",
      "6\n",
      "Decrypted text: Á¾ppÉÁÇ¾¶p´ÇÆp¿±p¿Á¿pÉÁÇ¾¶pº³È·p³p¸»Æp³À¶pÆ·¾¾pÆº·pÉºÁ¾·p¸³¿»¾±pºÁÉpµÄ³²±p³À¶pÆ·ÄÄ»´¾·pp³¿\n",
      "5\n",
      "l>i>>>>>>",
      ">>>>",
      ">",
      ">",
      ">>>>>",
      "",
      ">i>\n",
      "3\n",
      "Nqn K yqwnf dwv oa oqo yqwnf jcxg c hkv cpf vgnn vjg yjqng hcokna jqy etcba cpf vgttkdng K co\n",
      "2\n",
      "Lol I would but my mom would have a fit and tell the whole family how crazy and terrible I am\n",
      "====================\n",
      "644: Message\n",
      "6\n",
      "Decrypted text: ¿¿¿~~p¦º½pÅÇÄ·p¹ÁÆpÆ»¿·pÆÁpºÁÂp³Ä¶~~~p³|pµ³Àp¹Ápp¸Ä··p³´Æ~~~pÇ²pµ³¾¾pÇpÆÁp¶»ÅµÇÅÅp¾»³Á~~~p\n",
      "5\n",
      "hLL>t>",
      ">>",
      ">>>LLL>_J>>>R>",
      "",
      ">LLL>m>>>>>LLL>\n",
      "3\n",
      "Jooo.. Vjm uwtg iqv vkog vq jqr ctf... Ac, ecp iq 4 htgg cdv... Owb ecnn w vq fkuewuu nkcq... \n",
      "2\n",
      "Hmmm.. Thk sure got time to hop ard... Ya, can go 4 free abt... Muz call u to discuss liao... \n",
      "====================\n",
      "645: Message\n",
      "6\n",
      "Decrypted text: ¥ÁÄÄ±|p¿±p´³ÆÆ·Ä±p¶»·¶|ppµ³ÀpµÁ¿·p´±p´ÇÆpw¿pÁÀ¾±p¹·ÆÆ»À¹p³p¹Ä³¿p¸ÁÄpÀÁÉ|pÉº·Ä·wÅp±ÁÇÄpÂ¾³µ·\n",
      "5\n",
      "sJ>>",
      ">",
      "J>i>>",
      ">>>iE>>",
      ">>>>J>",
      "",
      "E>>",
      "]\n",
      "3\n",
      "Uqtta, oa dcvvgta fkgf, K ecp eqog da dwv K'o qpna igvvkpi c itco hqt pqy, yjgtg'u aqwt rnceg?\n",
      "2\n",
      "Sorry, my battery died, I can come by but I'm only getting a gram for now, where's your place?\n",
      "====================\n",
      "646: Message\n",
      "6\n",
      "Decrypted text: Æp¶Á·ÅÀÆp¿³½·pÅ·ÀÅ·pÆÁpÆ³½·p»ÆpÆº·Ä·pÇÀ¾·ÅÅp»ÆÅp¸Ä··~p¸p±ÁÇpÀ··¶pÆÁp½ÀÁÉp¿ÁÄ·|pÉ»½»Â·¶»³~µÁ¿\n",
      "5\n",
      "i>",
      ">",
      ">",
      "",
      ">>",
      ">>",
      "",
      ">",
      ">>",
      "",
      "L>i>>",
      "",
      ">>>",
      "J>",
      "L\n",
      "3\n",
      "Kv fqgupv ocmg ugpug vq vcmg kv vjgtg wpnguu kvu htgg. Kh aqw pggf vq mpqy oqtg, ykmkrgfkc.eqo\n",
      "2\n",
      "It doesnt make sense to take it there unless its free. If you need to know more, wikipedia.com\n",
      "====================\n",
      "647: Message\n",
      "6\n",
      "Decrypted text: ¿¿¿p~~~ppÆºÁÇ¹ºÆpÉ·pÅ³»¶ppºÁÇÄÅpÅ¾³È·|pÀÁÆpp~~~pÁÇp³Ä·p¾³Æ·p~~~pÁÉpÅºÁÇ¾¶ppÂÇÀ»Åºp±ÁÇp\n",
      "5\n",
      "h>LLL>i>>",
      ">>P>>",
      "J>>Q>LLL>_>",
      ">",
      ">LLL>h>>i>>>]\n",
      "3\n",
      "Jooo ... K vjqwijv yg uckf 2 jqwtu uncxg, pqv 3 ... Aqw ctg ncvg ... Jqy ujqwnf K rwpkuj aqw ?\n",
      "2\n",
      "Hmmm ... I thought we said 2 hours slave, not 3 ... You are late ... How should I punish you ?\n",
      "====================\n",
      "648: Message\n",
      "6\n",
      "Decrypted text: ¦º·Ä·p¹·À·Ä³¾¾±p»ÅÀwÆpÁÀ·~pÆwÅp³ÀpÇÀµÁÇÀÆ³´¾·pÀÁÇÀp}pÇp»ÀpÆº·p¶»µÆ»ÁÀ³Ä±~pÂ»·µ·ÅpÁ¸pÄ·Å·³Äµº\n",
      "5\n",
      "t",
      "",
      ">",
      "",
      ">E>",
      "L>iE>>",
      ">>K>>>",
      ">L>",
      "",
      ">>",
      "",
      "]\n",
      "3\n",
      "Vjgtg igpgtcnna kup'v qpg. Kv'u cp wpeqwpvcdng pqwp - w kp vjg fkevkqpcta. rkgegu qh tgugctej?\n",
      "2\n",
      "There generally isn't one. It's an uncountable noun - u in the dictionary. pieces of research?\n",
      "====================\n",
      "649: Message\n",
      "6\n",
      "Decrypted text: ¦º³À½Åp³p¾ÁÆp¸ÁÄp±ÁÇÄpÉ»Åº·ÅpÁÀp¿±p´»ÄÆº¶³±~p¦º³À½Åp±ÁÇp¸ÁÄp¿³½»À¹p¿±p´»ÄÆº¶³±pÆÄÇ¾±p¿·¿ÁÄ³´¾·~\n",
      "5\n",
      "t>>>>>",
      ">>>L>t>>>>>>>",
      "",
      "L\n",
      "3\n",
      "Vjcpmu c nqv hqt aqwt ykujgu qp oa dktvjfca. Vjcpmu aqw hqt ocmkpi oa dktvjfca vtwna ogoqtcdng.\n",
      "2\n",
      "Thanks a lot for your wishes on my birthday. Thanks you for making my birthday truly memorable.\n",
      "====================\n",
      "650: Message\n",
      "6\n",
      "Decrypted text: ¡½»·Å~~~pw¾¾p¹Áp±³Àp¼»ÇpÆÁÁ~~~p©·pµ³ÀpÅ½»Âp³Ä¶pÁÅÁ|p¹Ápµ»À·p¶·Àp¹Áp¿ÄÆpÁÀ·|p´¾³ºp´¾³ºp´¾³º~~~p\n",
      "5\n",
      "o",
      "LLL>iE>>>>LLL>w",
      ">>>>J>>",
      ">",
      ">>>",
      "J>>>LLL>\n",
      "3\n",
      "Qmkgu... K'nn iq acp lkw vqq... Yg ecp umkr ctf quq, iq ekpg fgp iq otv qpg, dncj dncj dncj... \n",
      "2\n",
      "Okies... I'll go yan jiu too... We can skip ard oso, go cine den go mrt one, blah blah blah... \n",
      "====================\n",
      "651: Message\n",
      "6\n",
      "Decrypted text: ¥ÁpºÁÉwÅpÅµÁÆ¾³À¶~pÁÂ·p±ÁÇp³Ä·pÀÁÆpÁÈ·ÄpÅºÁÉ»À¹p±ÁÇÄppÆ·À¶·Àµ»·Å~p¦³½·pµ³Ä·~p»È·pÆº·p¶Ä·³¿\n",
      "5\n",
      "s>E>L>h",
      ">>",
      ">>",
      ">>>jjc>",
      "",
      "",
      "L>t",
      ">",
      "L>l",
      ">",
      ">",
      "\n",
      "3\n",
      "Uq jqy'u ueqvncpf. Jqrg aqw ctg pqv qxgt ujqykpi aqwt LLE vgpfgpekgu. Vcmg ectg. Nkxg vjg ftgco\n",
      "2\n",
      "So how's scotland. Hope you are not over showing your JJC tendencies. Take care. Live the dream\n",
      "====================\n",
      "652: Message\n",
      "6\n",
      "Decrypted text: ³¾¾p¿·pÉº·Àp±ÁÇµ³Ä¾ÁÅp»Å³Ä·pº·Ä·|p¿±pÂºÁÀ·wÅpÈ»´Ä³Æ·p»Åp³µÆ»À¹pÇÂp³À¶pp¿»¹ºÆpÀÁÆpº·³ÄpÆ·ÊÆÅ\n",
      "5\n",
      "c>",
      ">",
      ">M>M",
      ">",
      "",
      "J>>",
      "E>",
      ">>>>>i>>>",
      ">",
      "\n",
      "3\n",
      "Ecnn og yjgp aqw/ectnqu ku/ctg jgtg, oa rjqpg'u xkdtcvg ku cevkpi wr cpf K okijv pqv jgct vgzvu\n",
      "2\n",
      "Call me when you/carlos is/are here, my phone's vibrate is acting up and I might not hear texts\n",
      "====================\n",
      "653: Message\n",
      "6\n",
      "Decrypted text: ¥ÁÄÄ±|pp¹Ç·ÅÅpÉº·À·È·Äppµ³Àp¹·Æp³pºÁ¾¶pÁ¸p¿±pµÁÀÀ·µÆ»ÁÀÅ|p¿³±´·p³ÀpºÁÇÄpÁÄpÆÉÁpw¾¾pÆ·ÊÆp±ÁÇ\n",
      "5\n",
      "sJ>i>",
      ">",
      "",
      "",
      ">i>>",
      ">>>>>",
      "J>",
      ">>>>]>iE>",
      ">\n",
      "3\n",
      "Uqtta, K iwguu yjgpgxgt K ecp igv c jqnf qh oa eqppgevkqpu, ocadg cp jqwt qt vyq? K'nn vgzv aqw\n",
      "2\n",
      "Sorry, I guess whenever I can get a hold of my connections, maybe an hour or two? I'll text you\n",
      "====================\n",
      "654: Message\n",
      "6\n",
      "Decrypted text: w¿pÁ½pÉ»¸p»ÆpµÁÅp»p¾»½·ppÆÄ±pÀ·ÉpÆº»À¹Å~pÇÆp»pÅµ³Ä·¶pÇp¶ÇÀp¾»½·p¿³º~pÁÅpÇpÅ³»¶pÀÁÆpÆÁÁp¾ÁÇ¶~\n",
      "5\n",
      "iE>>>>>>",
      ">P>>",
      ">L>b>>",
      ">>>",
      ">L>c>>>>>L\n",
      "3\n",
      "K'o qm ykh kv equ k nkmg 2 vta pgy vjkpiu. Dwv k uectgf w fwp nkmg ocj. Equ w uckf pqv vqq nqwf.\n",
      "2\n",
      "I'm ok wif it cos i like 2 try new things. But i scared u dun like mah. Cos u said not too loud.\n",
      "====================\n",
      "655: Message\n",
      "6\n",
      "Decrypted text: ¸ÄÁ¿pÉÉÉ~ÂÂ¾³ÇÅ·ÅÆÁÄ·~µÁ¿pÁÀÆº¾±¥Ç´ÅµÄ»ÂÆ»ÁÀ",
      "Â¿Å¹p¿³Ê¿ÁÀÆºp¦vÅpÉ·´p³¹·pÅÆÁÂpÆÊÆpÅÆÁÂ\n",
      "5\n",
      ">La",
      "",
      "L>ms^SNM>TM>tDcc>",
      ">",
      "OT>P>>\n",
      "3\n",
      "htqo yyy.Crrncwuguvqtg.eqo OqpvjnaUwduetkrvkqp@50r/oui ocz6/oqpvj V&EuE ygd cig16 2uvqr vzv uvqr\n",
      "2\n",
      "from www.Applausestore.com MonthlySubscription@50p/msg max6/month T&CsC web age16 2stop txt stop\n",
      "====================\n",
      "656: Message\n",
      "6\n",
      "Decrypted text: ¤Á¿³ÀÆ»µp¢³Ä»Å~ppÀ»¹ºÆÅ|pp¸¾»¹ºÆÅp¸ÄÁ¿pµópÁÁ½pÀÁÉppÀ·ÊÆp±·³Ä~p³¾¾p¦ÅvÅp³ÂÂ¾±~\n",
      "5\n",
      "r>pL>P>J>P>>>ÁUW>b>>R>",
      ">",
      "L>c>NVUNRRQWTVNtDc>L\n",
      "3\n",
      "Tqocpvke Rctku. 2 pkijvu, 2 hnkijvu htqo e£79 Dqqm pqy 4 pgzv agct. Ecnn 08704439680Vu&Eu crrna.\n",
      "2\n",
      "Romantic Paris. 2 nights, 2 flights from c£79 Book now 4 next year. Call 08704439680Ts&Cs apply.\n",
      "====================\n",
      "657: Message\n",
      "6\n",
      "Decrypted text: ÁÀwÆpÀ·µ·ÅÅ³Ä»¾±p·ÊÂ·µÆp»ÆpÆÁp´·p¶ÁÀ·p´·¸ÁÄ·p±ÁÇp¹·Æp´³µ½pÆºÁÇ¹ºp´·µ³ÇÅ·pw¿p¼ÇÅÆpÀÁÉpº·³¶»ÀpÁÇÆ\n",
      "5\n",
      "dE>",
      "",
      ">",
      "",
      ">>>",
      ">",
      ">",
      "",
      ">>",
      ">>>",
      "",
      ">iE>>>",
      ">\n",
      "3\n",
      "Fqp'v pgeguuctkna gzrgev kv vq dg fqpg dghqtg aqw igv dcem vjqwij dgecwug K'o lwuv pqy jgcfkp qwv\n",
      "2\n",
      "Don't necessarily expect it to be done before you get back though because I'm just now headin out\n",
      "====================\n",
      "658: Message\n",
      "6\n",
      "Decrypted text: ÁÇpº³È·pÉÁÀp|pµ³ÅºpÁÄp³p|pÂÄ»²·qp¦Ápµ¾³»¿|pµ³¾¾",
      "~p¦vp¤¥¦|p¥©p¥¥~p",
      "ÂÂ¿\n",
      "5\n",
      "_>",
      ">>]OJNNN>>>>]PJNNN>",
      "?>t>J>NWNSNNNNQPUL>tDcX>rstmJ>swU>QssL>OSN\n",
      "3\n",
      "Aqw jcxg yqp ?1,000 ecuj qt c ?2,000 rtkbg! Vq encko, ecnn09050000327. V&E: TUVO, UY7 3UU. 150rro\n",
      "2\n",
      "You have won ?1,000 cash or a ?2,000 prize! To claim, call09050000327. T&C: RSTM, SW7 3SS. 150ppm\n",
      "====================\n",
      "659: Message\n",
      "6\n",
      "Decrypted text: ¬¢·Æ·±p´Á±pÉº·Ä·³Ä·p±ÁÇp¿·p³À¶p³¾¾p±ÁÇÄp¸Ä»·À¶Å³Ä·p»ÀpÆº·»À¹Åº·³¶pµÁ¿·p¶ÁÉÀp»¸p±ÁÇpµ³À¾ÁÈ·p »µ¬rr\n",
      "5\n",
      "zp",
      "",
      ">>",
      "",
      "",
      ">>",
      ">>>>",
      "",
      ">>",
      "k",
      ">",
      ">>>>",
      ">nz@@\n",
      "3\n",
      "\\Rgvga dqa yjgtgctg aqw og cpf cnn aqwt htkgpfuctg kp vjgMkpiujgcf eqog fqyp kh aqw ecpnqxg Pke\\\"\"\n",
      "2\n",
      "\\Petey boy whereare you me and all your friendsare in theKingshead come down if you canlove Nic\\\"\"\n",
      "====================\n",
      "660: Message\n",
      "6\n",
      "Decrypted text: ¥ÁÄÄ±p¾»¹ºÆpÆÇÄÀ·¶p¹Ä··À|pp¿·³ÀÆp³ÀÁÆº·Äp¸Ä»·À¶pÉ³ÀÆ·¶ppv¾Æsv¹ÆppÉÁÄÆºp´ÇÆpº·p¿³±pÀÁÆp´·p³ÄÁÇÀ¶\n",
      "5\n",
      "s>>",
      ">",
      "",
      "J>i>",
      ">",
      ">",
      ">",
      ">>DYADY>>>>",
      ">>>",
      ">\n",
      "3\n",
      "Uqtta nkijv vwtpgf itggp, K ogcpv cpqvjgt htkgpf ycpvgf  &nv;#&iv;  yqtvj dwv jg oca pqv dg ctqwpf\n",
      "2\n",
      "Sorry light turned green, I meant another friend wanted  &lt;#&gt;  worth but he may not be around\n",
      "====================\n",
      "661: Message\n",
      "6\n",
      "Decrypted text: p³ÆpÆº·p¾³Æ·ÅÆ|p¹wÅpÅÆ»¾¾pÆº·Ä·p»¸p±ÁÇpµ³ÀpÅµÄÁÇÀ¹·pÇÂpÅÁ¿·p³¿¿Áp³À¶pÉ³ÀÆpÆÁp¹»È·pÆº·pÀ·Ép³½p³pÆÄ±\n",
      "5\n",
      "V>>",
      ">",
      "J>E>>",
      "",
      ">>>>",
      ">>",
      ">>>>>",
      ">",
      ">",
      ">>>\n",
      "3\n",
      "8 cv vjg ncvguv, i'u uvknn vjgtg kh aqw ecp uetqwpig wr uqog cooq cpf ycpv vq ikxg vjg pgy cm c vta\n",
      "2\n",
      "8 at the latest, g's still there if you can scrounge up some ammo and want to give the new ak a try\n",
      "====================\n",
      "662: Message\n",
      "6\n",
      "Decrypted text: ÁÇpº³È·p³Àp»¿ÂÁÄÆ³ÀÆpµÇÅÆÁ¿·ÄpÅ·ÄÈ»µ·p³ÀÀÁÇÀµ·¿·ÀÆp¸ÄÁ¿p¢¤¤~p³¾¾p¤¢¡ pp",
      "p",
      "pÀÁÉq\n",
      "5\n",
      "_>",
      ">>>",
      ">",
      "",
      ">",
      "",
      ">>premierL>c>freephone>NVNN>SRP>NSUV>?\n",
      "3\n",
      "Aqw jcxg cp korqtvcpv ewuvqogt ugtxkeg cppqwpegogpv htqo RTGOKGT. Ecnn HTGGRJQPG 0800 542 0578 pqy!\n",
      "2\n",
      "You have an important customer service announcement from PREMIER. Call FREEPHONE 0800 542 0578 now!\n",
      "====================\n",
      "663: Message\n",
      "6\n",
      "Decrypted text: ÁÇÄp¿Á´»¾·pÀÇ¿´·Äpº³ÅpÉÁÀpµó",
      "|pÆÁpµ¾³»¿pµ³¾¾ÅpÇÅp´³µ½pÁÄpÄ»À¹pÆº·pµ¾³»¿ÅpºÁÆp¾»À·pÁÀp",
      "",
      "~\n",
      "5\n",
      ">",
      ">",
      ">>>ÁSNNNJ>>>>>>>>",
      ">>>",
      ">>NWNSNNNSQPOL\n",
      "3\n",
      "qwt oqdkng pwodgt jcu yqp e£5000, vq encko ecnnu wu dcem qt tkpi vjg enckou jqv nkpg qp 09050005321.\n",
      "2\n",
      "our mobile number has won c£5000, to claim calls us back or ring the claims hot line on 09050005321.\n",
      "====================\n",
      "664: Message\n",
      "6\n",
      "Decrypted text: ¥É··Æº·³ÄÆ|pºÁÂ·p±ÁÇp³Ä·pÀÁÆpº³È»À¹pÆº³Æp½»À¶pÁ¸p¶³±qp³È·pÁÀ·pÉ»Æºp¾Á³¶ÅpÁ¸pÄ·³ÅÁÀÅpÆÁpÅ¿»¾·~p»Á¾³\n",
      "5\n",
      "s",
      "",
      "",
      "J>",
      ">>",
      ">>>>>>?>h",
      ">",
      ">>>>",
      ">>",
      "L>b\n",
      "3\n",
      "Uyggvjgctv, jqrg aqw ctg pqv jcxkpi vjcv mkpf qh fca! Jcxg qpg ykvj nqcfu qh tgcuqpu vq uokng. Dkqnc\n",
      "2\n",
      "Sweetheart, hope you are not having that kind of day! Have one with loads of reasons to smile. Biola\n",
      "====================\n",
      "665: Message\n",
      "6\n",
      "Decrypted text: ¡½p¹»È·p¿·p",
      "p¿»ÀÇÆ·ÅppÆº»À½ppÅ··pº·Ä~p¦©p±ÁÇwÄ·p¿±p³¾»´»~pÁÇpÉ·Ä·pµÇÆÆ»À¹p¿±pº³»ÄpÆº·pÉºÁ¾·pÆ»¿·~\n",
      "5\n",
      "o>",
      ">",
      ">S>",
      ">i>>i>",
      "",
      ">",
      "L>btw>E",
      ">>L>_>",
      "",
      ">>>>",
      ">",
      ">",
      "L\n",
      "3\n",
      "Qm ikxg og 5 okpwvgu K vjkpm K ugg jgt. DVY aqw'tg oa cnkdk. Aqw ygtg ewvvkpi oa jckt vjg yjqng vkog.\n",
      "2\n",
      "Ok give me 5 minutes I think I see her. BTW you're my alibi. You were cutting my hair the whole time.\n",
      "====================\n",
      "666: Message\n",
      "6\n",
      "Decrypted text: ¿³»¾p¾·ÄÆÄÁ¿p·Ä»p¥Æ·É³ÄÆ¥»²·p¥Ç´¼·µÆpÁÉ}µÁÅÆpÂÄ·ÅµÄ»Â»ÆÁÀp¶ÄÈ¹Å¦Áp¾»ÅÆ·ÀpÆÁp·¿³»¾pµ³¾¾p\n",
      "5\n",
      "e>a",
      "fX>j",
      ">s",
      "s",
      "X>Pkbs",
      "X>lK>",
      ">t>",
      ">>",
      ">>OPQ\n",
      "3\n",
      "Gockn CngtvHtqo: Lgtk UvgyctvUkbg: 2MDUwdlgev: Nqy-equv rtguetkrkvqp ftxiuVq nkuvgp vq gockn ecnn 123\n",
      "2\n",
      "Email AlertFrom: Jeri StewartSize: 2KBSubject: Low-cost prescripiton drvgsTo listen to email call 123\n",
      "====================\n",
      "667: Message\n",
      "6\n",
      "Decrypted text: ÅpÆº·Ä·p³pÄ·³ÅÁÀpÉ·wÈ·pÀÁÆpÅÂÁ½·ÀpÆº»Åp±·³ÄpÀ±É³±Åpº³È·p³p¹Ä·³ÆpÉ··½p³À¶p³¾¾pÆº·p´·ÅÆp»Àp±ÁÇÄp·Ê³¿\n",
      "5\n",
      "i>",
      "",
      ">>",
      ">",
      "E",
      ">>",
      ">>",
      "]>a>",
      ">>",
      ">",
      "",
      ">>>",
      ">",
      ">>>",
      "\n",
      "3\n",
      "Ku vjgtg c tgcuqp yg'xg pqv urqmgp vjku agct? Cpaycau jcxg c itgcv yggm cpf cnn vjg dguv kp aqwt gzco\n",
      "2\n",
      "Is there a reason we've not spoken this year? Anyways have a great week and all the best in your exam\n",
      "====================\n",
      "668: Message\n",
      "6\n",
      "Decrypted text: ÄÁ¿pº·Ä·p³¸Æ·Äp¦º·pÂ·Ä¸ÁÄ¿³Àµ·p³É³Ä¶p»Åpµ³¾µÇ¾³Æ·¶p·È·Ä±pÆÉÁp¿ÁÀÆº~ÀÁÆp¸ÁÄpµÇÄÄ·ÀÆpÁÀ·p¿ÁÀÆºpÂ·Ä»Á¶~~\n",
      "5\n",
      "f>",
      "",
      ">",
      ">t",
      ">",
      "",
      ">>>",
      ">",
      "",
      ">>L>>",
      ">",
      ">>",
      "LL\n",
      "3\n",
      "Htqo jgtg chvgt Vjg rgthqtocpeg cyctf ku ecnewncvgf gxgta vyq oqpvj.pqv hqt ewttgpv qpg oqpvj rgtkqf..\n",
      "2\n",
      "From here after The performance award is calculated every two month.not for current one month period..\n",
      "====================\n",
      "669: Message\n",
      "6\n",
      "Decrypted text: ÇÂp»pÆº½pÆº·±pÄp·pÆ·³µº·ÄpÅ³»¶pÆº³ÆpÉ»¾¾p¿³½·p¿±p¸³µ·p¾ÁÁ½p¾ÁÀ¹·Ä~p³ÄÄ·Àp³Å½p¿·pÀÁÆppµÇÆpÆÁÁpÅºÁÄÆ~\n",
      "5\n",
      "_>>>",
      ">>",
      ">",
      "",
      ">>>>",
      ">>",
      ">>",
      "L>d",
      ">>",
      ">>P>>>L\n",
      "3\n",
      "Awr k vjm vjga t g vgcejgt uckf vjcv yknn ocmg oa hceg nqqm nqpigt. Fcttgp cum og pqv 2 ewv vqq ujqtv.\n",
      "2\n",
      "Yup i thk they r e teacher said that will make my face look longer. Darren ask me not 2 cut too short.\n",
      "====================\n",
      "670: Message\n",
      "6\n",
      "Decrypted text: Áp±ÁÇpÄ·³¾»²·pÆº³Æp»Àp³´ÁÇÆpp±·³ÄÅ|pÉ·w¾¾pº³È·pÆºÁÇÅ³À¶ÅpÁ¸pÁ¾¶p¾³¶»·ÅpÄÇÀÀ»À¹p³ÄÁÇÀ¶pÉ»ÆºpÆ³ÆÆÁÁÅ\n",
      "5\n",
      "d>>",
      "",
      ">>>>RN>",
      "J>",
      "E>",
      ">>>>",
      ">>>>]\n",
      "3\n",
      "Fq aqw tgcnkbg vjcv kp cdqwv 40 agctu, yg'nn jcxg vjqwucpfu qh qnf ncfkgu twppkpi ctqwpf ykvj vcvvqqu?\n",
      "2\n",
      "Do you realize that in about 40 years, we'll have thousands of old ladies running around with tattoos?\n",
      "====================\n",
      "671: Message\n",
      "6\n"
     ]
    },
    {
     "name": "stdout",
     "output_type": "stream",
     "text": [
      "Decrypted text: ÆÅp¹Á»À¹p¹ÁÁ¶~~~ÀÁpÂÄÁ´¾·¿~~´ÇÆpÅÆ»¾¾pÀ··¶p¾»ÆÆ¾·p·ÊÂ·Ä»·Àµ·pÆÁpÇÀ¶·ÄÅÆ³À¶p³¿·Ä»µ³ÀpµÇÅÆÁ¿·ÄpÈÁ»µ·~~~\n",
      "5\n",
      "i>>LLL>",
      "LL>>",
      "",
      ">",
      ">",
      "",
      "",
      "",
      ">>",
      ">",
      ">",
      ">",
      "LLL\n",
      "3\n",
      "Kvu iqkpi iqqf...pq rtqdngo..dwv uvknn pggf nkvvng gzrgtkgpeg vq wpfgtuvcpf cogtkecp ewuvqogt xqkeg...\n",
      "2\n",
      "Its going good...no problem..but still need little experience to understand american customer voice...\n",
      "====================\n",
      "672: Message\n",
      "6\n",
      "Decrypted text: ¾¾pµ³¾¾pÇp¿ÄÉp³ÆpÀ»À»Åº|pÉ»Æºp¿±p³¶¶Ä·ÅÅpÆº³Æp»µ½±p¿·Ä»µ³Àp¸Ä··½pÉÁÀÆpÅÆÁÂpµ³¾¾»Àp¿·pp´³¶p·Àp½p·º\n",
      "5\n",
      "i>>>P>>J>>>",
      ">>>a",
      ">",
      "",
      ">>>>",
      ">P>>j",
      ">>",
      "]\n",
      "3\n",
      "Knn ecnn w 2oty cv pkpkuj, ykvj oa cfftguu vjcv kema Cogtkecp htggm yqpv uvqr ecnnkp og 2 dcf Lgp m gj?\n",
      "2\n",
      "Ill call u 2mrw at ninish, with my address that icky American freek wont stop callin me 2 bad Jen k eh?\n",
      "====================\n",
      "673: Message\n",
      "6\n",
      "Decrypted text: ·ÆpÆº·Ä·p´·pÅÀÁÉ~p·ÆpÆº·Ä·p´·pÅÀÁÉ~p¦º»Åp½»À¶pÁ¸pÉ·³Æº·Äp´Ä»À¹ÅpÂÂ¾pÆÁ¹·Æº·ÄpÅÁp¸Ä»·À¶Åº»ÂÅpµ³Àp¹ÄÁÉ~\n",
      "5\n",
      "l",
      ">",
      "",
      ">",
      ">L>l",
      ">",
      "",
      ">",
      ">L>t>>>",
      "",
      ">>>",
      "",
      ">>",
      ">>L\n",
      "3\n",
      "Ngv vjgtg dg upqy. Ngv vjgtg dg upqy. Vjku mkpf qh ygcvjgt dtkpiu rrn vqigvjgt uq htkgpfujkru ecp itqy.\n",
      "2\n",
      "Let there be snow. Let there be snow. This kind of weather brings ppl together so friendships can grow.\n",
      "====================\n",
      "674: Message\n",
      "6\n",
      "Decrypted text: ·³È»À¹pÆÁpÃ³Æ³ÄpÆÁÀ»Æ·p»ÀpÅ·³ÄµºpÁ¸p³ÀpÁÂÂÁÄÆÇÀ»Æ±~³¾¾pÉ·ÀÆp¸³ÅÆ~Â¾Åp³¶¶p¿·p»ÀpÇÄpÂÄ³±·ÄÅp¶·³Ä~¤³½º·Åº\n",
      "5\n",
      "l",
      ">>>",
      ">>",
      ">>>L>",
      ">L>>",
      ">>>",
      ">",
      "Lr",
      "\n",
      "3\n",
      "Ngcxkpi vq scvct vqpkvg kp ugctej qh cp qrrqtvwpkva.cnn ygpv hcuv.rnu cff og kp wt rtcagtu fgct.Tcmjguj\n",
      "2\n",
      "Leaving to qatar tonite in search of an opportunity.all went fast.pls add me in ur prayers dear.Rakhesh\n",
      "====================\n",
      "675: Message\n",
      "6\n",
      "Decrypted text: w¿pÀÆp¹Á»À|p¹ÁÆpÅÁ¿·Æº»ÀpÁÀ|pÇÀ¾·ÅÅpÆº·±p¿··Æ»Àpp¶»ÀÀ·Äp¾ÁÄ~~~p³º³|p»pÉÁÀ¶·ÄpÉºÁpÉ»¾¾p¹ÁpÆ»ÅpÆ»¿·~~~\n",
      "5\n",
      "iE>>J>>",
      ">J>",
      ">",
      ">",
      "",
      ">R>",
      ">LLL>hJ>>",
      ">>>>>",
      "LLL\n",
      "3\n",
      "K'o pv iqkp, iqv uqogvjkp qp, wpnguu vjga oggvkp 4 fkppgt nqt... Jcjc, k yqpfgt yjq yknn iq vku vkog...\n",
      "2\n",
      "I'm nt goin, got somethin on, unless they meetin 4 dinner lor... Haha, i wonder who will go tis time...\n",
      "====================\n",
      "676: Message\n",
      "6\n",
      "Decrypted text: ÁÀ¹Ä³ÆÇ¾³Æ»ÁÀÅpÁÄ·p¿ÁpÁÉÁpÄ·pÉ³~pÀ¼Á±p»Æp³À¶p»pÉ»Åºp±ÁÇp¿³À±pº³ÂÂ±p¿Á¿·ÀÆÅpÆÁp³À¶p¸ÄÁpÉº·Ä·È·Äp±ÁÇp¹Á\n",
      "5\n",
      "c>",
      ">>>",
      ">L>e>>>>>>>>",
      ">>>>",
      "",
      "",
      ">>\n",
      "3\n",
      "Eqpitcvwncvkqpu qtg oq qyq tg yc. Gplqa kv cpf k ykuj aqw ocpa jcrra oqogpvu vq cpf htq yjgtgxgt aqw iq\n",
      "2\n",
      "Congratulations ore mo owo re wa. Enjoy it and i wish you many happy moments to and fro wherever you go\n",
      "====================\n",
      "677: Message\n",
      "6\n",
      "Decrypted text: ·Å~~º·p»ÅpÄ·³¾¾±p¹Ä·³Æ~~´º³¼»pÆÁ¾¶p½³¾¾»Åp´·ÅÆpµÄ»µ½·Æ·Äp³¸Æ·ÄpÅ³µº»Àp»ÀpÉÁÄ¾¶y~È·Ä±pÆÁÇ¹ºpÆÁp¹·ÆpÁÇÆ~\n",
      "5\n",
      "_",
      "LL",
      ">>",
      ">",
      "LL>>>",
      ">",
      "",
      ">",
      ">>>XGL",
      ">>>",
      ">L\n",
      "3\n",
      "Agu..jg ku tgcnna itgcv..djclk vqnf mcnnku dguv etkemgvgt chvgt ucejkp kp yqtnf:).xgta vqwij vq igv qwv.\n",
      "2\n",
      "Yes..he is really great..bhaji told kallis best cricketer after sachin in world:).very tough to get out.\n",
      "====================\n",
      "678: Message\n",
      "6\n",
      "Decrypted text: »À¶p´¾³ÅÆ»À~~p Áp¿ÁÄ·p¦ÅÇÀ³¿»ÅpÉ»¾¾pÁµµÇÄp¸ÄÁ¿pÀÁÉpÁÀ~~p¤³¼À»½³ÀÆpÅÆÁÂÂ·¶pÅÉ»¿¿»À¹p»ÀpÀ¶»³Àp¡µ·³À~~}\n",
      "5\n",
      "m>LL>n>",
      ">t>>>>>LL>r>",
      ">>>i>o",
      "LLXKd\n",
      "3\n",
      "Okpf dncuvkp.. Pq oqtg Vuwpcoku yknn qeewt htqo pqy qp.. Tclpkmcpv uvqrrgf uykookpi kp Kpfkcp Qegcp..:-F\n",
      "2\n",
      "Mind blastin.. No more Tsunamis will occur from now on.. Rajnikant stopped swimming in Indian Ocean..:-D\n",
      "====================\n",
      "679: Message\n",
      "6\n",
      "Decrypted text: ÆwÅpÁ½p»pÀÁ·pÇwÄ·p´ÇÅ±p´ÇÆp»w¿pÄ·³¾¾±pÆÁÁp´ÁÄ·¶pÅÁp»p¿Å¹pÇ~ppÁÅÁp¶ÇÀÀÁpÉ³ÆpµÁ¾ÁÇÄpÅº·pµºÁÁÅ·pp¿·pÁÀ·~\n",
      "5\n",
      "iE>>>",
      ">E",
      ">>>E>",
      ">>",
      ">>>>L>i>>>>>",
      ">",
      ">R>",
      ">",
      "L\n",
      "3\n",
      "Kv'u qm k pqg w'tg dwua dwv k'o tgcnna vqq dqtgf uq k oui w. K quq fwppq ycv eqnqwt ujg ejqqug 4 og qpg.\n",
      "2\n",
      "It's ok i noe u're busy but i'm really too bored so i msg u. I oso dunno wat colour she choose 4 me one.\n",
      "====================\n",
      "680: Message\n",
      "6\n",
      "Decrypted text: ·Å~~º·p»ÅpÄ·³¾¾±p¹Ä·³Æ~~´º³¼»pÆÁ¾¶p½³¾¾»Åp´·ÅÆpµÄ»µ½·Æ·Äp³¸Æ·ÄpÅ³µº»Àp»ÀpÉÁÄ¾¶y~È·Ä±pÆÁÇ¹ºpÆÁp¹·ÆpÁÇÆ~\n",
      "5\n",
      "_",
      "LL",
      ">>",
      ">",
      "LL>>>",
      ">",
      "",
      ">",
      ">>>XGL",
      ">>>",
      ">L\n",
      "3\n",
      "Agu..jg ku tgcnna itgcv..djclk vqnf mcnnku dguv etkemgvgt chvgt ucejkp kp yqtnf:).xgta vqwij vq igv qwv.\n",
      "2\n",
      "Yes..he is really great..bhaji told kallis best cricketer after sachin in world:).very tough to get out.\n",
      "====================\n",
      "681: Message\n",
      "6\n",
      "Decrypted text: ¾ÁÁ¶±pº·¾¾|pµ³ÀÆp´·¾»·È·p±ÁÇp¸ÁÄ¹ÁÆp¿±pÅÇÄÀ³¿·pÄp~p¾¾p¹»È·pÇp³pµ¾Ç·|p»ÆÅpÅÂ³À»Åºp³À¶p´·¹»ÀÅpÉ»Æºp¿~~~p\n",
      "5\n",
      "b>",
      "J>>",
      "",
      "",
      ">>>>",
      ">m>L>i>",
      ">>>",
      "J>>>>",
      ">>LLL>\n",
      "3\n",
      "Dnqqfa jgnn, ecpv dgnkgxg aqw hqtiqv oa uwtpcog Ot . Knn ikxg w c enwg, kvu urcpkuj cpf dgikpu ykvj o... \n",
      "2\n",
      "Bloody hell, cant believe you forgot my surname Mr . Ill give u a clue, its spanish and begins with m... \n",
      "====================\n",
      "682: Message\n",
      "6\n",
      "Decrypted text: ¡½p»pÉ»¾¾pÆ·¾¾pº·ÄpÆÁpÅÆ³±pÁÇÆ~p·³ºp»ÆÅp´··ÀpÆÁÇ¹ºp´ÇÆpÉ·p³Ä·pÁÂÆ»¿»ÅÆ»µpÆº»À¹ÅpÉ»¾¾p»¿ÂÄÁÈ·pÆº»Åp¿ÁÀÆº~\n",
      "5\n",
      "o>>>",
      ">",
      ">>>L>_",
      ">>",
      "",
      ">>>",
      ">",
      ">>>>",
      ">>L\n",
      "3\n",
      "Qm k yknn vgnn jgt vq uvca qwv. Agcj kvu dggp vqwij dwv yg ctg qrvkokuvke vjkpiu yknn kortqxg vjku oqpvj.\n",
      "2\n",
      "Ok i will tell her to stay out. Yeah its been tough but we are optimistic things will improve this month.\n",
      "====================\n",
      "683: Message\n",
      "6\n",
      "Decrypted text: ·³ºpÆº·Ä·wÅp´³Ä·¾±p·ÀÁÇ¹ºpÄÁÁ¿p¸ÁÄpÆº·pÆÉÁpÁ¸pÇÅ|pÊpº³ÅpÆÁÁp¿³À±p¸Çµ½»À¹pÅºÁ·Å~p¥ÁÄÄ±p¿³À|pÅ··p±ÁÇp¾³Æ·Ä\n",
      "5\n",
      "_",
      ">",
      "",
      "E>",
      ">",
      ">>>",
      ">>>J>>>>>>",
      "L>s>J>",
      "",
      ">>",
      "\n",
      "3\n",
      "Agcj vjgtg'u dctgna gpqwij tqqo hqt vjg vyq qh wu, z jcu vqq ocpa hwemkpi ujqgu. Uqtta ocp, ugg aqw ncvgt\n",
      "2\n",
      "Yeah there's barely enough room for the two of us, x has too many fucking shoes. Sorry man, see you later\n",
      "====================\n",
      "684: Message\n",
      "6\n",
      "Decrypted text: w¿pÄ·³¾¾±pÅÁÄÄ±p»pÉÁÀwÆp´p³´¾·pp¶ÁpÆº»Åp¸Ä»¶³±~ºÁÂ·pÇpµ³Àp¸»À¶p³Àp³¾Æ·ÄÀ³Æ»È·~ºÁÂ·p±ÄpÆ·Ä¿wÅp¹Á»À¹pÁ½}y\n",
      "5\n",
      "iE>",
      ">>>E>>",
      ">P>>>L",
      ">>>>>",
      "",
      "L",
      ">>",
      "E>>XKG\n",
      "3\n",
      "K'o tgcnna uqtta k yqp'v d cdng 2 fq vjku htkfca.jqrg w ecp hkpf cp cnvgtpcvkxg.jqrg at vgto'u iqkpi qm:-)\n",
      "2\n",
      "I'm really sorry i won't b able 2 do this friday.hope u can find an alternative.hope yr term's going ok:-)\n",
      "====================\n",
      "685: Message\n",
      "6\n",
      "Decrypted text: ³È·ÀÆpÂ¾³ÀÀ»À¹pÆÁp´Ç±p¾³Æ·Ä~ppµº·µ½p³¾Ä·³¶±p¾»¶ÁpÁÀ¾±p¹ÁÆp",
      "pÅºÁÉp»Àp·p³¸Æ·ÄÀÁÁÀ~p§p¸»À»ÅºpÉÁÄ½p³¾Ä·³¶±\n",
      "5\n",
      "h",
      ">>>>",
      "L>i>",
      ">",
      ">>>>SQN>>>",
      ">",
      "L>u>>>",
      "]\n",
      "3\n",
      "Jcxgpv rncppkpi vq dwa ncvgt. K ejgem cntgcfa nkfq qpna iqv 530 ujqy kp g chvgtpqqp. W hkpkuj yqtm cntgcfa?\n",
      "2\n",
      "Havent planning to buy later. I check already lido only got 530 show in e afternoon. U finish work already?\n",
      "====================\n",
      "686: Message\n",
      "6\n",
      "Decrypted text: p¤~p¡©p¤p§p¡¢p§p¤p©pp pp¤pqp p¡ p¦p ¡pqp¨pppp¥§p¦p¤¡p§ÊÊ\n",
      "5\n",
      "he_>girlL>how>r>u]>hope>u>r>well>me>an>del>r>bak?>again>long>time>no>c?>give>me>a>call>sum>time>from>luc_\n",
      "3\n",
      "JGA IKTN. JQY T W? JQRG W T YGNN OG CP FGN T DCM! CICKP NQPI VKOG PQ E! IKXG OG C ECNN UWO VKOG HTQO NWEAzz\n",
      "2\n",
      "HEY GIRL. HOW R U? HOPE U R WELL ME AN DEL R BAK! AGAIN LONG TIME NO C! GIVE ME A CALL SUM TIME FROM LUCYxx\n",
      "====================\n",
      "687: Message\n",
      "6\n",
      "Decrypted text: µÇ¶pÇpÆ·¾¾pÂÂ¾p»¿p¹ÁÀ³p´p³p´»Æp¾pµÁÅpp´ÇÅ·Åpº³Èp¹ÁÀpÂ³ÅÆpµÁÅpÆº·±pÉ·Ä·p¸Ç¾¾pvp»¿pÅÆ»¾¾pÉ³»Æ»Àpp~p¢·Æ·pÊ\n",
      "5\n",
      ">>",
      ">>>>>>>V>>P>",
      ">>>>>",
      ">",
      "",
      ">>D>>>>R>OL>p",
      "",
      ">\n",
      "3\n",
      "ewf w vgnn rrn ko iqpc d c dkv n8 equ 2 dwugu jcx iqp rcuv equ vjga ygtg hwnn & ko uvknn yckvkp 4 1. Rgvg z\n",
      "2\n",
      "cud u tell ppl im gona b a bit l8 cos 2 buses hav gon past cos they were full & im still waitin 4 1. Pete x\n",
      "====================\n",
      "688: Message\n",
      "6\n",
      "Decrypted text: ¤p·ÀÆÄ±p»ÀÆÁpÁÇÄpµó",
      "pÉ··½¾±pµÁ¿Â·Æ»Æ»ÁÀp¼ÇÅÆpÆ·ÊÆpÆº·pÉÁÄ¶p© pÆÁpp ¡©~pp¦vpÉÉÉ~ÆÊÆÆÁÉ»À~µÁ~Ç½\n",
      "5\n",
      "free>",
      ">>>ÁPSN>",
      "",
      ">",
      ">>",
      ">",
      ">>win>>VNNVT>nowL>OV>tDc>LLL\n",
      "3\n",
      "HTGG gpvta kpvq qwt e£250 yggmna eqorgvkvkqp lwuv vgzv vjg yqtf YKP vq 80086 PQY. 18 V&E yyy.vzvvqykp.eq.wm\n",
      "2\n",
      "FREE entry into our c£250 weekly competition just text the word WIN to 80086 NOW. 18 T&C www.txttowin.co.uk\n",
      "====================\n",
      "689: Message\n",
      "6\n",
      "Decrypted text: ·Â·À¶ÅpÁÀpÃÇ³¾»Æ±~p¸p±ÁÇpÉ³ÀÆpÆº·pÆ±Â·p»pÅ·ÀÆp´Á±·|p¸³¶·¶p¹¾ÁÄ±|pÆº·Àp³´ÁÇÆp~p¸p±ÁÇpÉ³ÀÆpÄ³¾ÂºÅp¿³±´·p\n",
      "5\n",
      "d",
      "",
      ">>L>i>>>",
      ">",
      ">>",
      ">",
      "J>",
      ">J>",
      ">>TL>i>>>>",
      ">P\n",
      "3\n",
      "Fgrgpfu qp swcnkva. Kh aqw ycpv vjg varg k ugpv dqag, hcfgf inqta, vjgp cdqwv 6. Kh aqw ycpv tcnrju ocadg 2\n",
      "2\n",
      "Depends on quality. If you want the type i sent boye, faded glory, then about 6. If you want ralphs maybe 2\n",
      "====================\n",
      "690: Message\n",
      "6\n",
      "Decrypted text: ¦ ªp¦¡p¤p¦p©¥p pp¦p§¢p§¦p©p¨pp p¡¤p¦p¡¤p¡¦ p¡p©p¦p¤pp§p¥¡¡ ~\n",
      "5\n",
      "thanxR>toda_>cer>it>was>nice>P>catch>up>but>we>ave>P>find>more>time>more>often>oh>well>take>care>c>u>soonLc\n",
      "3\n",
      "VJCPZ4 VQFCA EGT KV YCU PKEG 2 ECVEJ WR DWV YG CXG 2 HKPF OQTG VKOG OQTG QHVGP QJ YGNN VCMG ECTG E W UQQP.E\n",
      "2\n",
      "THANX4 TODAY CER IT WAS NICE 2 CATCH UP BUT WE AVE 2 FIND MORE TIME MORE OFTEN OH WELL TAKE CARE C U SOON.C\n",
      "====================\n",
      "691: Message\n",
      "6\n",
      "Decrypted text: ·pº³Åp¾ÁÆÅpÁ¸pÇÅ·¶pÁÀ·Åp´³´·|p´ÇÆpÆº·p¿Á¶·¾p¶Á·ÅÀwÆpº·¾Â~pÁÇ»pº³È·pÆÁp´Ä»À¹p»ÆpÁÈ·Äp³À¶pº·w¾¾p¿³Æµºp»ÆpÇÂ\n",
      "5\n",
      "h",
      ">>>>",
      ">",
      ">",
      "J>>",
      ">",
      ">",
      "E>",
      "L>_>",
      ">>>>",
      ">>",
      "E>>>\n",
      "3\n",
      "Jg jcu nqvu qh wugf qpgu dcdg, dwv vjg oqfgn fqgup'v jgnr. Aqwk jcxg vq dtkpi kv qxgt cpf jg'nn ocvej kv wr\n",
      "2\n",
      "He has lots of used ones babe, but the model doesn't help. Youi have to bring it over and he'll match it up\n",
      "====================\n",
      "692: Message\n",
      "6\n",
      "Decrypted text: ¦º·Àp¯pÉ³»Æpp¿·p³Æp´ÇÅpÅÆÁÂp³¸ÆpÇÄp¾·µÆp¾³Ä~p¸p»p¶ÇÀpµp¯pÆº·Àp»p¹Áp¹·Æp¿±pµ³ÄpÆº·ÀpµÁ¿·p´³µ½pÀpÂ»µ½p¯~\n",
      "5\n",
      "t",
      ">j}>>R>",
      ">>>>>>",
      ">L>i>>>>j}>",
      ">>>",
      ">>>",
      ">",
      ">>>>j}L\n",
      "3\n",
      "Vjgp L_ yckv 4 og cv dwu uvqr chv wt ngev nct. Kh k fwp e L_ vjgp k iq igv oa ect vjgp eqog dcem p rkem L_.\n",
      "2\n",
      "Then J_ wait 4 me at bus stop aft ur lect lar. If i dun c J_ then i go get my car then come back n pick J_.\n",
      "====================\n",
      "693: Message\n",
      "6\n",
      "Decrypted text: ÁÇÄp¹ÁÀÀ³pº³È·pÆÁpÂ»µ½pÇÂp³ptp´ÇÄ¹·Äp¸ÁÄp±ÁÇÄÅ·¾¸pÁÀp±ÁÇÄpÉ³±pºÁ¿·~ppµ³ÀwÆp·È·Àp¿ÁÈ·~p¢³»Àp»Åp½»¾¾»À¹p¿·~\n",
      "5\n",
      "_>>",
      ">>>>>BO>",
      ">>",
      ">>>>",
      "L>i>E>",
      "",
      ">",
      "L>p>>>",
      "L\n",
      "3\n",
      "Aqwt iqppc jcxg vq rkem wr c $1 dwtigt hqt aqwtugnh qp aqwt yca jqog. K ecp'v gxgp oqxg. Rckp ku mknnkpi og.\n",
      "2\n",
      "Your gonna have to pick up a $1 burger for yourself on your way home. I can't even move. Pain is killing me.\n",
      "====================\n",
      "694: Message\n",
      "6\n",
      "Decrypted text: »ÅÅ·¶p±ÁÇÄpµ³¾¾pµ³ÇÅ·ppÉ³Åp±·¾¾»À¹p³ÆpÅµÄ³ÂÂ±~p»ÅÅpÇ~p³ÀwÆpÉ³»Æp¸ÁÄpÇpÆÁpµÁ¿·pºÁ¿·~pw¿pÅÁp¾ÁÀ·¾±pÆÁ¶³±~\n",
      "5\n",
      "m",
      ">>>",
      ">i>>",
      ">>L>m>L>cE>>>>>",
      ">",
      "L>iE>>",
      ">L\n",
      "3\n",
      "Okuugf aqwt ecnn ecwug K ycu agnnkpi cv uetcrra. Okuu w. Ecp'v yckv hqt w vq eqog jqog. K'o uq nqpgna vqfca.\n",
      "2\n",
      "Missed your call cause I was yelling at scrappy. Miss u. Can't wait for u to come home. I'm so lonely today.\n",
      "====================\n",
      "695: Message\n",
      "6\n",
      "Decrypted text: ·³Äp·ÄÁ|»p³¿p¾·³È»À¹pÆÁpÃ³Æ³ÄpÆÁÀ»Æ·p¸ÁÄp³Àp³ÂÆpÁÂÂÁÄÆÇÀ»Æ±~Â¾Åp¶Áp½··Âp»ÀpÆÁÇµºp³Æppv¾Æv¹Æp|½·Ä³¾³\n",
      "5\n",
      "d",
      ">h",
      "J>>",
      ">>>",
      ">>>>L>>",
      "",
      ">>>>>DYemailDY>J",
      "\n",
      "3\n",
      "Fgct Jgtq,k co ngcxkpi vq scvct vqpkvg hqt cp crv qrrqtvwpkva.rnu fq mggr kp vqwej cv  &nv;GOCKN&iv; ,mgtcnc\n",
      "2\n",
      "Dear Hero,i am leaving to qatar tonite for an apt opportunity.pls do keep in touch at  &lt;EMAIL&gt; ,kerala\n",
      "====================\n",
      "696: Message\n",
      "6\n",
      "Decrypted text: w¿p¹ÁÀÀ³p´·pºÁ¿·pÅÁÁÀp³À¶p»p¶ÁÀwÆpÉ³ÀÆpÆÁpÆ³¾½p³´ÁÇÆpÆº»ÅpÅÆÇ¸¸p³À±¿ÁÄ·pÆÁÀ»¹ºÆ|p½pwÈ·pµÄ»·¶p·ÀÁÇ¹ºpÆÁ¶³±~\n",
      "5\n",
      "iE>>",
      ">",
      ">>>>E>>>>>>>",
      ">J>]>iE",
      ">",
      ">",
      ">L\n",
      "3\n",
      "K'o iqppc dg jqog uqqp cpf k fqp'v ycpv vq vcnm cdqwv vjku uvwhh cpaoqtg vqpkijv, m? K'xg etkgf gpqwij vqfca.\n",
      "2\n",
      "I'm gonna be home soon and i don't want to talk about this stuff anymore tonight, k? I've cried enough today.\n",
      "====================\n",
      "697: Message\n",
      "6\n",
      "Decrypted text: ·Æp¶ÁÉÀp»Àp¹³À¶º»ÂÇÄ³¿p³À¶pÉ³¾½pÆÁpµÄÁÅÅpµÇÆpÄÁ³¶~p¤»¹ºÆpÅ»¶·pv¾Æsv¹ÆpÅÆÄ··ÆpÄÁ³¶p³À¶pÆÇÄÀp³Æp¸»ÄÅÆpÄ»¹ºÆ~\n",
      "5\n",
      "g",
      ">>>>>>>>>L>r>",
      ">DYADY>",
      "",
      ">>>>>>L\n",
      "3\n",
      "Igv fqyp kp icpfjkrwtco cpf ycnm vq etquu ewv tqcf. Tkijv ukfg &nv;#&iv; uvtggv tqcf cpf vwtp cv hktuv tkijv.\n",
      "2\n",
      "Get down in gandhipuram and walk to cross cut road. Right side &lt;#&gt; street road and turn at first right.\n",
      "====================\n",
      "698: Message\n",
      "6\n"
     ]
    },
    {
     "name": "stdout",
     "output_type": "stream",
     "text": [
      "Decrypted text: w¿pÆ»Ä·¶pÁ¸p³Ä¹Ç»À¹pÉ»Æºp±ÁÇp³´ÁÇÆpÆº»ÅpÉ··½p³¸Æ·ÄpÉ··½~pÁpÉº³Æp±ÁÇpÉ³ÀÆp³À¶p¸ÄÁ¿pÀÁÉpÁÀ|p»w¾¾p¶ÁpÆº·pÅ³¿·~\n",
      "5\n",
      "iE>",
      ">>>>>>>",
      "",
      ">",
      ">",
      "",
      "L>d>>>>>>>J>E>>",
      ">",
      "L\n",
      "3\n",
      "K'o vktgf qh ctiwkpi ykvj aqw cdqwv vjku yggm chvgt yggm. Fq yjcv aqw ycpv cpf htqo pqy qp, k'nn fq vjg ucog.\n",
      "2\n",
      "I'm tired of arguing with you about this week after week. Do what you want and from now on, i'll do the same.\n",
      "====================\n",
      "699: Message\n",
      "6\n",
      "Decrypted text: ¥ÁÄÄ±pÆÁpÆÄÁÇ´¾·pÇp³¹³»À~p³Àp´Ç±p¶p¸ÁÄp¿±p¶³¶p³¹³»Àp",
      "|p|p~p¾¾pp´»¹ppÅ¿³¾¾|pÅ³ÆpÀpÅÇÀ~p¦º³ÀÊ~\n",
      "5\n",
      "s>>",
      ">>L>c>>R>>>>]>ORNSJ>OTVNJ>OVRQL>a>P>>O>J>>>L>tL\n",
      "3\n",
      "Uqtta vq vtqwdng w cickp. Ecp dwa 4f hqt oa fcf cickp? 1405, 1680, 1843. Cnn 2 dki 1 uocnn, ucv p uwp. Vjcpz.\n",
      "2\n",
      "Sorry to trouble u again. Can buy 4d for my dad again? 1405, 1680, 1843. All 2 big 1 small, sat n sun. Thanx.\n",
      "====================\n",
      "700: Message\n",
      "6\n",
      "Decrypted text: ¦º³ÆÅp³p´»ÆpÉ·»Ä¶|p·È·Àp}pÉº·Ä·p»ÅpÆº·p¶ÁpÅÇÂÂÁÅ·¶pÆÁp´·pº³ÂÂ·À»À¹pÇÆp¹ÁÁ¶p»¶·³|pÅÇÄ·pÆº·±pÉ»¾¾p´·p»ÀpÂÇ´q\n",
      "5\n",
      "t>>>",
      "J>",
      "",
      ">]K>",
      "",
      ">>",
      ">>",
      ">>",
      ">",
      "]>b>>",
      "J>",
      ">",
      ">>",
      ">>?\n",
      "3\n",
      "Vjcvu c dkv ygktf, gxgp ?- yjgtg ku vjg fq uwrrqugf vq dg jcrrgpkpi? Dwv iqqf kfgc, uwtg vjga yknn dg kp rwd!\n",
      "2\n",
      "Thats a bit weird, even ?- where is the do supposed to be happening? But good idea, sure they will be in pub!\n",
      "====================\n",
      "701: Message\n",
      "6\n",
      "Decrypted text: ¡½p¾³Äp»p¶ÁÇ´¾·pµº·µ½pÉ»¸p¶³pº³»Äp¶Ä·ÅÅ·Äp³¾Ä·³¶±pº·pÅ³»¶pÉÇÀpµÇÆpÈpÅºÁÄÆ~p·pÅ³»¶pÉ»¾¾pµÇÆpÇÀÆ»¾p»p¾ÁÁ½pÀ»µ·~\n",
      "5\n",
      "o>>>",
      ">",
      ">>>>",
      "",
      ">",
      ">",
      ">>>>>L>h",
      ">>>>>>>",
      "L\n",
      "3\n",
      "Qm nct k fqwdng ejgem ykh fc jckt ftguugt cntgcfa jg uckf ywp ewv x ujqtv. Jg uckf yknn ewv wpvkn k nqqm pkeg.\n",
      "2\n",
      "Ok lar i double check wif da hair dresser already he said wun cut v short. He said will cut until i look nice.\n",
      "====================\n",
      "702: Message\n",
      "6\n",
      "Decrypted text: p¶ÇÀpÆº½p»w¾¾pÃÇ»Æp±·Æ~~~p¿¿¿|pµ³Àp¹Áp¼³²²ppÁ¹³Å³À³pÁÅÁpµ³À~~~p©·pµ³Àp¹Áp¿··Æp·¿p³¸Æ·ÄpÁÇÄp¾·ÅÅÁÀÅp¶·À~~~p\n",
      "5\n",
      "i>>>E>>",
      "LLL>hJ>>>>]>_>>LLL>w",
      ">>>",
      "",
      ">",
      ">",
      ">>",
      ">",
      "LLL>\n",
      "3\n",
      "K fwp vjm k'nn swkv agv... Jooo, ecp iq lcbb ? Aqicucpc quq ecp... Yg ecp iq oggv go chvgt qwt nguuqpu fgp... \n",
      "2\n",
      "I dun thk i'll quit yet... Hmmm, can go jazz ? Yogasana oso can... We can go meet em after our lessons den... \n",
      "====================\n",
      "703: Message\n",
      "6\n",
      "Decrypted text: pÂÄÁ¿»Å·pÆÁpÆ³½·p¹ÁÁ¶pµ³Ä·pÁ¸p±ÁÇ|pÂÄ»Àµ·ÅÅ~ppº³È·pÆÁpÄÇÀpÀÁÉ~p¢¾·³Å·pÅ·À¶pÂ»µÅpÉº·Àp±ÁÇp¹·Æp³pµº³Àµ·~p¦Æ±¾q\n",
      "5\n",
      "i>",
      ">>",
      ">>",
      ">>J>",
      "L>i>",
      ">>>L>p",
      "",
      ">",
      ">>",
      ">>",
      ">>",
      "L>t?\n",
      "3\n",
      "K rtqokug vq vcmg iqqf ectg qh aqw, rtkpeguu. K jcxg vq twp pqy. Rngcug ugpf rkeu yjgp aqw igv c ejcpeg. Vvan!\n",
      "2\n",
      "I promise to take good care of you, princess. I have to run now. Please send pics when you get a chance. Ttyl!\n",
      "====================\n",
      "704: Message\n",
      "6\n",
      "Decrypted text: ÁpÇÀÆ»¾p¼ÇÄÁÀ¹pÂÁ»ÀÆ|pµÄ³²±~~pÈ³»¾³´¾·pÁÀ¾±p»Àp´Ç¹»ÅpÀp¹Ä·³ÆpÉÁÄ¾¶p¾³p·p´Ç¸¸·Æ~~~p»À·pÆº·Ä·p¹ÁÆp³¿ÁÄ·pÉ³Æ~~~\n",
      "5\n",
      "g>>>J>LL>a",
      ">>>>>",
      ">>>",
      ">",
      "LLL>c",
      ">",
      "",
      ">>",
      ">LLL\n",
      "3\n",
      "Iq wpvkn lwtqpi rqkpv, etcba.. Cxckncdng qpna kp dwiku p itgcv yqtnf nc g dwhhgv... Ekpg vjgtg iqv coqtg ycv...\n",
      "2\n",
      "Go until jurong point, crazy.. Available only in bugis n great world la e buffet... Cine there got amore wat...\n",
      "====================\n",
      "705: Message\n",
      "6\n",
      "Decrypted text: ÆpÉ»¾¾pÅÆÁÂpÁÀp»ÆÅ·¾¸~ppºÁÉ·È·ÄpÅÇ¹¹·ÅÆpÅº·pÅÆ³±ÅpÉ»ÆºpÅÁ¿·ÁÀ·pÆº³ÆpÉ»¾¾p´·p³´¾·pÆÁp¹»È·pÁÄÅp¸ÁÄp·È·Ä±pÅÆÁÁ¾~\n",
      "5\n",
      "i>>>>",
      "L>i>",
      "",
      ">",
      ">",
      ">>>",
      "",
      ">>>",
      ">",
      ">>",
      ">>>",
      "",
      ">L\n",
      "3\n",
      "Kv yknn uvqr qp kvugnh. K jqygxgt uwiiguv ujg uvcau ykvj uqogqpg vjcv yknn dg cdng vq ikxg qtu hqt gxgta uvqqn.\n",
      "2\n",
      "It will stop on itself. I however suggest she stays with someone that will be able to give ors for every stool.\n",
      "====================\n",
      "706: Message\n",
      "6\n",
      "Decrypted text: ³Àµ±p³pÅº³¹pp¶Á~ÀÆ·Ä·ÅÆ·¶pÅ·ÊÆ·ÊÆÇ½~µÁ¿pÆÊÆpªª§p¥§pÆÁp~p¦ÊÆÅpµÁÅÆp~",
      "pÂ·Äp¿Å¹~p¦ÀÅpÁÀpÉ·´Å»Æ·~pª\n",
      "5\n",
      "f>>]>i>Li",
      "",
      "",
      "]>",
      "",
      "L>>xxuk>su`_>>TWVUTL>t>>OLSN>",
      ">L>tc>>",
      "",
      "L>x\n",
      "3\n",
      "Hcpea c ujci? K fq.Kpvgtguvgf? ugzvgzvwm.eqo vzv ZZWM UWBA vq 69876. Vzvu equv 1.50 rgt oui. VpEu qp ygdukvg. Z\n",
      "2\n",
      "Fancy a shag? I do.Interested? sextextuk.com txt XXUK SUZY to 69876. Txts cost 1.50 per msg. TnCs on website. X\n",
      "====================\n",
      "707: Message\n",
      "6\n",
      "Decrypted text: ÁÇpÉ»¾¾pÄ·µ»·È·p±ÁÇÄpÆÁÀ·pÉ»Æº»ÀpÆº·pÀ·ÊÆpºÄÅ~pÁÄp¦·Ä¿Åp³À¶pµÁÀ¶»Æ»ÁÀÅpÂ¾·³Å·pÅ··pº³ÀÀ·¾p§p¦·¾·Æ·ÊÆp¢¹p",
      "\n",
      "5\n",
      "_>>",
      "",
      "",
      ">>",
      ">>",
      ">",
      ">PRL>f>t",
      ">>>",
      "",
      ">",
      "",
      ">c",
      ">u>t",
      "",
      "",
      ">p>USN\n",
      "3\n",
      "Aqw yknn tgekgxg aqwt vqpg ykvjkp vjg pgzv 24jtu. Hqt Vgtou cpf eqpfkvkqpu rngcug ugg Ejcppgn W Vgngvgzv Ri 750\n",
      "2\n",
      "You will recieve your tone within the next 24hrs. For Terms and conditions please see Channel U Teletext Pg 750\n",
      "====================\n",
      "708: Message\n",
      "6\n",
      "Decrypted text: ÁÄÉ³Ä¶·¶p¸ÄÁ¿p¢¾·³Å·ppp»¿¿·¶»³Æ·¾±p³ÅpÆº·Ä·p»Åp³ÀpÇÄ¹·ÀÆp¿·ÅÅ³¹·pÉ³»Æ»À¹p¸ÁÄp±ÁÇ~\n",
      "5\n",
      "Zf",
      ">>RRVUOPRNRNNN\\p",
      "",
      ">call>NVUOPRNRNNN>",
      "",
      ">>",
      "",
      ">>>",
      ">",
      "",
      ">>>L\n",
      "3\n",
      "<Hqtyctfgf htqo 448712404000>Rngcug ECNN 08712404000 koogfkcvgna cu vjgtg ku cp wtigpv oguucig yckvkpi hqt aqw.\n",
      "2\n",
      "<Forwarded from 448712404000>Please CALL 08712404000 immediately as there is an urgent message waiting for you.\n",
      "====================\n",
      "709: Message\n",
      "6\n",
      "Decrypted text: ¥ÁpÆº·Ä·wÅp³pÄ»À¹pÆº³ÆpµÁ¿·ÅpÉ»ÆºpÆº·p¹Ç±ÅpµÁÅÆÇ¿·Å~pÆwÅpÆº·Ä·pÅÁpÆº·±pµ³Àp¹»¸ÆpÆº·»Äp¸ÇÆÇÄ·p±ÁÉ»¸·Å~p»ÀÆpº»ÀÆ\n",
      "5\n",
      "s>",
      "",
      "E>>>>",
      ">>",
      ">>",
      "L>iE>",
      "",
      ">>",
      ">>>",
      ">",
      ">",
      "L>h>\n",
      "3\n",
      "Uq vjgtg'u c tkpi vjcv eqogu ykvj vjg iwau equvwogu. Kv'u vjgtg uq vjga ecp ikhv vjgkt hwvwtg aqykhgu. Jkpv jkpv\n",
      "2\n",
      "So there's a ring that comes with the guys costumes. It's there so they can gift their future yowifes. Hint hint\n",
      "====================\n",
      "710: Message\n",
      "6\n",
      "Decrypted text: ¿¿¿~~~½~~~´ÇÆp»pÉ³ÀÆpÆÁpµº³À¹·pÆº·p¸»·¾¶pÃÇ»µ½¾±p¶³}y»pÉ³ÀÀ³p¹·ÆpÅ±ÅÆ·¿p³¶¿»À»ÅÆÄ³ÆÁÄpÁÄpÀ·ÆÉÁÄ½p³¶¿»À»ÅÆÄ³ÆÁÄ~~\n",
      "5\n",
      "hLLLLLL>>>>",
      ">",
      ">",
      ">>XKG>>",
      ">",
      ">>>",
      ">LL\n",
      "3\n",
      "Jooo...m...dwv k ycpv vq ejcpig vjg hkgnf swkemna fc:-)k ycppc igv uauvgo cfokpkuvtcvqt qt pgvyqtm cfokpkuvtcvqt..\n",
      "2\n",
      "Hmmm...k...but i want to change the field quickly da:-)i wanna get system administrator or network administrator..\n",
      "====================\n",
      "711: Message\n",
      "6\n",
      "Decrypted text: ±pÅÁÄÆpµÁ¶·p»Åpp³À¶p³µµpÀÁp»Åp~p¦º·p´³À½p»ÅpÀ³ÆÉ·ÅÆ~p³Àp±ÁÇpÄ·Â¾±pÆÁpµÁÀ¸»Ä¿p»wÈ·pÅ·ÀÆpÆº»ÅpÆÁpÆº·pÄ»¹ºÆpÂ·ÄÅÁÀq\n",
      "5\n",
      "m>>",
      ">>>>>>>L>t",
      ">>>",
      "L>c>>",
      ">>>E",
      ">",
      ">>>",
      ">>",
      "?\n",
      "3\n",
      "Oa uqtv eqfg ku  cpf cee pq ku . Vjg dcpm ku pcvyguv. Ecp aqw tgrna vq eqphkto k'xg ugpv vjku vq vjg tkijv rgtuqp!\n",
      "2\n",
      "My sort code is  and acc no is . The bank is natwest. Can you reply to confirm i've sent this to the right person!\n",
      "====================\n",
      "712: Message\n",
      "6\n",
      "Decrypted text: p½ÀÁÉqpÄÇ¿Â±pÁ¾¶pÂ·ÁÂ¾·~p±p¿Á¿pÉ³Åp¾»½·p±ÁÇp´·ÆÆ·ÄpÀÁÆp´·p¾±»À¹~p¦º·Àp³¹³»Àpp³¿p³¾É³±ÅpÆº·pÁÀ·pÆÁpÂ¾³±p¼Á½·Å~~~\n",
      "5\n",
      "i>?>g>>",
      "",
      "L>m>>>",
      ">>",
      "",
      ">>",
      ">L>t",
      ">>i>>>",
      ">",
      ">>>",
      "LLL\n",
      "3\n",
      "K mpqy! Itwora qnf rgqrng. Oa oqo ycu nkmg aqw dgvvgt pqv dg nakpi. Vjgp cickp K co cnycau vjg qpg vq rnca lqmgu...\n",
      "2\n",
      "I know! Grumpy old people. My mom was like you better not be lying. Then again I am always the one to play jokes...\n",
      "====================\n",
      "713: Message\n",
      "6\n",
      "Decrypted text: ··Âp±ÁÇÄÅ·¾¸pÅ³¸·p¸ÁÄp¿·p´·µ³ÇÅ·ppÀ··¶p±ÁÇp³À¶pp¿»ÅÅp±ÁÇp³¾Ä·³¶±p³À¶pp·ÀÈ±p·È·Ä±ÁÀ·pÆº³ÆpÅ··wÅp±ÁÇp»ÀpÄ·³¾p¾»¸·\n",
      "5\n",
      "k",
      "",
      ">",
      ">",
      ">>",
      ">",
      "",
      ">i>",
      "",
      ">>>i>>>",
      ">>i>",
      ">",
      "",
      "",
      ">>",
      "",
      "E>>>",
      ">",
      "\n",
      "3\n",
      "Mggr aqwtugnh uchg hqt og dgecwug K pggf aqw cpf K okuu aqw cntgcfa cpf K gpxa gxgtaqpg vjcv ugg'u aqw kp tgcn nkhg\n",
      "2\n",
      "Keep yourself safe for me because I need you and I miss you already and I envy everyone that see's you in real life\n",
      "====================\n",
      "714: Message\n",
      "6\n",
      "Decrypted text: ·Åp»pÆº»À½pÅÁ~pp³¿p»ÀpÁ¸¸»µ·p´ÇÆp¿±p¾³Âp»Åp»ÀpÄÁÁ¿p»pÆº»À½pÆº³ÆÅpÁÀp¸ÁÄpÆº·p¾³ÅÆp¸·Ép¶³±Å~pp¶»¶ÀÆpÅºÇÆpÆº³Æp¶ÁÉÀ\n",
      "5\n",
      "_",
      ">>>L>i>>>",
      ">>>>>>>>>>>>",
      ">>",
      ">L>i>>>>\n",
      "3\n",
      "Agu k vjkpm uq. K co kp qhhkeg dwv oa ncr ku kp tqqo k vjkpm vjcvu qp hqt vjg ncuv hgy fcau. K fkfpv ujwv vjcv fqyp\n",
      "2\n",
      "Yes i think so. I am in office but my lap is in room i think thats on for the last few days. I didnt shut that down\n",
      "====================\n",
      "715: Message\n",
      "6\n",
      "Decrypted text: À¶p³¾ÅÁpwÈ·pÅÁÄÆ³p´¾ÁÉÀpº»¿pÁ¸¸p³pµÁÇÂ¾·pÆ»¿·ÅpÄ·µ·ÀÆ¾±pÅÁp»¶pÄ³Æº·ÄpÀÁÆpÆ·ÊÆpº»¿pÁÇÆpÁ¸pÆº·p´¾Ç·p¾ÁÁ½»À¹p¸ÁÄpÉ··¶\n",
      "5\n",
      "a>>iE",
      ">>>>>>",
      ">",
      ">",
      "",
      ">>>",
      ">>",
      ">>>>",
      ">",
      ">>>",
      "",
      "\n",
      "3\n",
      "Cpf cnuq K'xg uqtvc dnqyp jko qhh c eqwrng vkogu tgegpvna uq kf tcvjgt pqv vgzv jko qwv qh vjg dnwg nqqmkpi hqt yggf\n",
      "2\n",
      "And also I've sorta blown him off a couple times recently so id rather not text him out of the blue looking for weed\n",
      "====================\n",
      "716: Message\n",
      "6\n",
      "Decrypted text: ¡¡p¦pp§¤pp§¦§|p ¦ ¦p©¡ p ppp§pp¡¦~pp ¡©p§p¡ µ¥¦pppp¦¦p¥¡p¡ µ¥¦p©¡¤¤~\n",
      "5\n",
      "look>at>am_>ure>a>beautifulJ>intelligent>woman>and>i>like>u>a>lotL>i>know>u>donst>like>me>like>that>so>donst>worr_L\n",
      "3\n",
      "NQQM CV COA WTG C DGCWVKHWN, KPVGNNKIGPV YQOCP CPF K NKMG W C NQV. K MPQY W FQPeUV NKMG OG NKMG VJCV UQ FQPeUV YQTTA.\n",
      "2\n",
      "LOOK AT AMY URE A BEAUTIFUL, INTELLIGENT WOMAN AND I LIKE U A LOT. I KNOW U DONcST LIKE ME LIKE THAT SO DONcST WORRY.\n",
      "====================\n",
      "717: Message\n",
      "6\n",
      "Decrypted text:  Áp»ÆwÅpÉ³»Æ»À¹p»Àp·pµ³Äp¶³ÆwÅp´ÁÄ·¶pÉ³Æ~pÁÅpÉ³»ÆpÁÇÆÅ»¶·p¹ÁÆpÀÁÆº»À¹pp¶Á~pÆpºÁ¿·pµ³Àp¶Áp¿±pÅÆÇ¸¸pÁÄpÉ³ÆµºpÆÈpÉ³Æ~\n",
      "5\n",
      "n>E>>>",
      ">>E>",
      ">L>c>>",
      ">>>P>L>a>",
      ">>>>>>>>L\n",
      "3\n",
      "Pq kv'u yckvkpi kp g ect fcv'u dqtgf ycv. Equ yckv qwvukfg iqv pqvjkpi 2 fq. Cv jqog ecp fq oa uvwhh qt ycvej vx ycv.\n",
      "2\n",
      "No it's waiting in e car dat's bored wat. Cos wait outside got nothing 2 do. At home can do my stuff or watch tv wat.\n",
      "====================\n",
      "718: Message\n",
      "6\n",
      "Decrypted text: §ÅÇ³¾¾±pÆº·pÂ·ÄÅÁÀp»ÅpÇÀµÁÀÅµ»ÁÇÅpÆº³ÆwÅp»Àpµº»¾¶Ä·Àp´ÇÆp»Àp³¶Ç¾ÆÅpÆº·±p¿³±p¼ÇÅÆp´·º³È·p³´ÀÁÄ¿³¾¾±~p~¾¾pµ³¾¾p±ÁÇpÀÁÉ\n",
      "5\n",
      "u>",
      ">",
      ">>>E>>",
      ">>>>",
      ">>>",
      "",
      ">L>iL>>>\n",
      "3\n",
      "Wuwcnna vjg rgtuqp ku wpeqpuekqwu vjcv'u kp ejknftgp dwv kp cfwnvu vjga oca lwuv dgjcxg cdpqtocnna. K.nn ecnn aqw pqy\n",
      "2\n",
      "Usually the person is unconscious that's in children but in adults they may just behave abnormally. I.ll call you now\n",
      "====================\n",
      "719: Message\n",
      "6\n",
      "Decrypted text: Æp¶Á·Åp»ÆpÁÀp»ÆÅpÁÉÀ~pÁÅÆpÁ¸pÆº·pÆ»¿·p»Æp¸»Ê·Åp¿±pÅÂ·¾¾»À¹~pÇÆpÅÁ¿·Æ»¿·Åp»Æp¹·ÆÅp³pµÁ¿Â¾·Æ·¾±p¶»¸¸pÉÁÄ¶~pÁp¸»¹ÇÄ·\n",
      "5\n",
      "i>",
      ">>>>L>m>>",
      ">",
      ">>",
      ">>",
      "L>b>",
      "",
      ">>",
      ">>",
      "",
      ">>L>g>",
      "\n",
      "3\n",
      "Kv fqgu kv qp kvu qyp. Oquv qh vjg vkog kv hkzgu oa urgnnkpi. Dwv uqogvkogu kv igvu c eqorngvgna fkhh yqtf. Iq hkiwtg\n",
      "2\n",
      "It does it on its own. Most of the time it fixes my spelling. But sometimes it gets a completely diff word. Go figure\n",
      "====================\n",
      "720: Message\n",
      "6\n",
      "Decrypted text: ©³Åp³µÆÇ³¾¾±pÅ¾··Â»À¹p³À¶pÅÆ»¾¾p¿»¹ºÆpÉº·ÀpÇpµ³¾¾p´³µ½~p¥Áp³pÆ·ÊÆp»Åp¹Ä~pÁÇpÄÁµ½pÅ»Å~p©»¾¾pÅ·À¶pÇp³pÆ·ÊÆpÉ·Àp»pÉ³½·~\n",
      "5\n",
      "w>>",
      "",
      ">>>>",
      ">>>L>s>>",
      ">>VL>_>>L>w>",
      ">>>",
      ">",
      ">>",
      "L\n",
      "3\n",
      "Ycu cevwcnna unggrkpi cpf uvknn okijv yjgp w ecnn dcem. Uq c vgzv ku it8. Aqw tqem uku. Yknn ugpf w c vgzv ygp k ycmg.\n",
      "2\n",
      "Was actually sleeping and still might when u call back. So a text is gr8. You rock sis. Will send u a text wen i wake.\n",
      "====================\n",
      "721: Message\n",
      "6\n",
      "Decrypted text: ¬p¢¡¡¤pq¡¢p§¤ p¦¦¤¥ p§¨qp¢¤¡¦¦p¡¨¤¡¥p¡p©¡¤pp¡p¤§p¥¢pp§p¥ p¡¦¥p¡p¡¨ pªªª~¬rr\n",
      "5\n",
      "zah>poor>bab_?hope>urfeeling>bettersn>luv?>probthat>overdose>of>work>he_>go>careful>spk>P>u>sn>lots>of>lovejen>xxxLz@@\n",
      "3\n",
      "\\CJ RQQT DCDA!JQRG WTHGGNKPI DGVVGTUP NWX! RTQDVJCV QXGTFQUG QH YQTM JGA IQ ECTGHWN URM 2 W UP NQVU QH NQXGLGP ZZZ.\\\"\"\n",
      "2\n",
      "\\AH POOR BABY!HOPE URFEELING BETTERSN LUV! PROBTHAT OVERDOSE OF WORK HEY GO CAREFUL SPK 2 U SN LOTS OF LOVEJEN XXX.\\\"\"\n",
      "====================\n",
      "722: Message\n",
      "6\n",
      "Decrypted text: ·±pÀÁpp³¶p³pµÄ³ÂpÀ»Æ·pÉ³Åp´ÁÄ»ÀpÉ»ÆºÁÇÆp±³pp´Á¹¹±pÉ»Æºp¿·pÇp´ÁÄ»À¹p´»³Æµºqp¦º³ÀÊp´ÇÆpÇpÉ³»ÆpÆ»¾pÀÊÆpÆ»¿·p»¾p³È·p±³p\n",
      "5\n",
      "h",
      ">>i>>>>",
      ">>>>>P>>>",
      ">>>?>t>>>>>>",
      ">>",
      ">>\n",
      "3\n",
      "Jga pq K cf c etcr pkvg ycu dqtkp ykvjqwv ac 2 dqiia ykvj og w dqtkpi dkcvej! Vjcpz dwv w yckv vkn pzv vkog kn cxg ac \n",
      "2\n",
      "Hey no I ad a crap nite was borin without ya 2 boggy with me u boring biatch! Thanx but u wait til nxt time il ave ya \n",
      "====================\n",
      "723: Message\n",
      "6\n",
      "Decrypted text: §pÅ³±p¾·º~~~p¡¸pµÁÇÄÅ·pÀÁÆº»À¹pº³ÂÂ·Àp¾³Ä~p ÁÆpÅ³±pÈpÄÁ¿³ÀÆ»µp¼ÇÅp³p´»ÆpÁÀ¾±p¾ÁÄ~ppÆº½p·pÀ»Æ·pÅµ·À·Ä±pÀÁÆpÅÁpÀ»µ·p¾·º~\n",
      "5\n",
      "u>>",
      "LLL>o>",
      ">>",
      ">L>n>>>>>>>>L>i>>",
      ">",
      ">",
      "",
      ">>>",
      ">",
      "L\n",
      "3\n",
      "W uca ngj... Qh eqwtug pqvjkpi jcrrgp nct. Pqv uca x tqocpvke lwu c dkv qpna nqt. K vjm g pkvg uegpgta pqv uq pkeg ngj.\n",
      "2\n",
      "U say leh... Of course nothing happen lar. Not say v romantic jus a bit only lor. I thk e nite scenery not so nice leh.\n",
      "====================\n",
      "724: Message\n",
      "6\n",
      "Decrypted text: ·pÅ³±Åpº·w¾¾p¹»È·p¿·p³pµ³¾¾pÉº·Àpº»Åp¸Ä»·À¶wÅp¹ÁÆpÆº·p¿ÁÀ·±p´ÇÆpÆº³Æpº·wÅp¶·¸»À»Æ·¾±p´Ç±»À¹p´·¸ÁÄ·pÆº·p·À¶pÁ¸pÆº·pÉ··½\n",
      "5\n",
      "h",
      ">>",
      "E>",
      ">",
      ">>>",
      ">>",
      "E>>",
      ">",
      ">>>",
      "E>",
      "",
      ">>",
      "",
      ">",
      ">",
      ">>",
      ">",
      "",
      "\n",
      "3\n",
      "Jg ucau jg'nn ikxg og c ecnn yjgp jku htkgpf'u iqv vjg oqpga dwv vjcv jg'u fghkpkvgna dwakpi dghqtg vjg gpf qh vjg yggm\n",
      "2\n",
      "He says he'll give me a call when his friend's got the money but that he's definitely buying before the end of the week\n",
      "====================\n",
      "725: Message\n",
      "6\n",
      "Decrypted text: ¿¿¿~~~pÇ·ÅÅpÉ·pµ³Àp¹Ápp½´pÀpÂÁÉ·Äp±Á¹³~~~p³º³|p¶ÇÀÀÁpÉ·pµ³ÀpÆ³º³ÀpÂÁÉ·Äp±Á¹³p³ÀÁÆ~~~p¦º½p¹ÁÆp¾ÁpÁÅÁ|p¸ÁÄ¹ÁÆp¾»³Á~~~\n",
      "5\n",
      "hLLL>g",
      ">",
      ">>>R>>>",
      ">LLL>hJ>>",
      ">>>",
      ">>LLL>t>>>J>>LLL\n",
      "3\n",
      "Jooo... Iwguu yg ecp iq 4 md p rqygt aqic... Jcjc, fwppq yg ecp vcjcp rqygt aqic cpqv... Vjm iqv nq quq, hqtiqv nkcq...\n",
      "2\n",
      "Hmmm... Guess we can go 4 kb n power yoga... Haha, dunno we can tahan power yoga anot... Thk got lo oso, forgot liao...\n",
      "====================\n",
      "726: Message\n",
      "6\n",
      "Decrypted text: w¿p¹ÁÀÀ³pÅ³±pÀÁ~p¥ÁÄÄ±~ppÉÁÇ¾¶p´ÇÆp³ÅpÀÁÄ¿³¾p³¿pÅÆ³ÄÆ»À¹pÆÁpÂ³À»µp³´ÁÇÆpÆ»¿·~p¥ÁÄÄ±p³¹³»ÀqpÄ·p±ÁÇpÅ··»À¹pÁÀp¦Ç·Å¶³±\n",
      "5\n",
      "iE>>>L>sL>i>>>>>>>>>>",
      "L>s>?>a",
      ">>",
      "",
      ">>t",
      "]\n",
      "3\n",
      "K'o iqppc uca pq. Uqtta. K yqwnf dwv cu pqtocn co uvctvkpi vq rcpke cdqwv vkog. Uqtta cickp! Ctg aqw uggkpi qp Vwgufca?\n",
      "2\n",
      "I'm gonna say no. Sorry. I would but as normal am starting to panic about time. Sorry again! Are you seeing on Tuesday?\n",
      "====================\n",
      "727: Message\n",
      "6\n"
     ]
    },
    {
     "name": "stdout",
     "output_type": "stream",
     "text": [
      "Decrypted text: ¥¥~p³µp¥ÂÆÈp¦º·p ·Ép·ÄÅ·±p·È»¾Åp³À¶pÆº·p·ÆÄÁ»Æp¤·¶p©»À¹ÅpÂ¾³±pµ·pÁµ½·±~pÁÄÄ·µÆpÁÄpÀµÁÄÄ·µÆpÀ¶p¤·Â¾±p p¥¢¦¨\n",
      "5\n",
      "smsL>>sX>t",
      ">n",
      ">j",
      "",
      ">d",
      ">>",
      ">d",
      ">r",
      ">w>>i",
      ">h",
      "L>c",
      ">>i",
      "]>e]>r",
      ">end>sptv\n",
      "3\n",
      "UOU. ce Urvx: Vjg Pgy Lgtuga Fgxknu cpf vjg Fgvtqkv Tgf Ykpiu rnca Keg Jqemga. Eqttgev qt Kpeqttgev? Gpf? Tgrna GPF URVX\n",
      "2\n",
      "SMS. ac Sptv: The New Jersey Devils and the Detroit Red Wings play Ice Hockey. Correct or Incorrect? End? Reply END SPTV\n",
      "====================\n",
      "728: Message\n",
      "6\n",
      "Decrypted text: ¥ÁÄÄ±p¿³Àp¿±p³µµÁÇÀÆwÅp¶Ä±pÁÄppÉÁÇ¾¶|p»¸p±ÁÇpÉ³ÀÆpÉ·pµÁÇ¾¶pÆÄ³¶·p´³µ½pº³¾¸pÁÄppµÁÇ¾¶p´Ç±pÅÁ¿·pÅº»ÆpÉ»Æºp¿±pµÄ·¶»Æpµ³Ä¶\n",
      "5\n",
      "s>>>E>>>i>J>>>>",
      ">>",
      ">>>>i>>>",
      ">>>>",
      ">\n",
      "3\n",
      "Uqtta ocp oa ceeqwpv'u fta qt K yqwnf, kh aqw ycpv yg eqwnf vtcfg dcem jcnh qt K eqwnf dwa uqog ujkv ykvj oa etgfkv ectf\n",
      "2\n",
      "Sorry man my account's dry or I would, if you want we could trade back half or I could buy some shit with my credit card\n",
      "====================\n",
      "729: Message\n",
      "6\n",
      "Decrypted text: ¥ÇÄ·|p»¸pp¹·Æp³Àp³µ½ÀÁÉ¾·¶¹·¿·ÀÆp¸ÄÁ¿p±ÁÇpÆº³Æp»ÆwÅp³ÅÆÁÇÀ¶»À¹¾±pÆ³µÆ¾·ÅÅp³À¶p¹·À·Ä³¾¾±p¸³¹¹±pÆÁp¶·¿³À¶p³p´¾ÁÁ¶pÁ³Æºp¸Á\n",
      "5\n",
      "s",
      "J>>i>",
      ">>",
      "",
      "",
      ">>>>E>>",
      ">>",
      "",
      ">>>",
      ">>>>\n",
      "3\n",
      "Uwtg, kh K igv cp cempqyngfigogpv htqo aqw vjcv kv'u cuvqwpfkpina vcevnguu cpf igpgtcnna hciia vq fgocpf c dnqqf qcvj hq\n",
      "2\n",
      "Sure, if I get an acknowledgement from you that it's astoundingly tactless and generally faggy to demand a blood oath fo\n",
      "====================\n",
      "730: Message\n",
      "6\n",
      "Decrypted text: ÁÄpÄ·³¾pÉº·ÀpÇp¹·ÆÆ»À¹pÁÀp±ÁppÁÀ¾±pÀ··¶pp¿ÁÄ·pÆ»µ½·ÆÅp³À¶pÁÀ·p¿ÁÄ·p¼³µ½·Æp³À¶pw¿p¶ÁÀ·~pp³¾Ä·³¶±pÇÅ·¶p³¾¾p¿±p¿Ç¾Æ»Å~\n",
      "5\n",
      "f>",
      ">",
      ">>",
      ">>]>i>>",
      "",
      ">P>",
      ">",
      ">>",
      ">",
      ">",
      ">>iE>",
      "L>i>",
      ">",
      ">>>L\n",
      "3\n",
      "Hqt tgcn yjgp w igvvkpi qp aq? K qpna pggf 2 oqtg vkemgvu cpf qpg oqtg lcemgv cpf K'o fqpg. K cntgcfa wugf cnn oa ownvku.\n",
      "2\n",
      "For real when u getting on yo? I only need 2 more tickets and one more jacket and I'm done. I already used all my multis.\n",
      "====================\n",
      "731: Message\n",
      "6\n",
      "Decrypted text: ·±pp³¿pÄ·³¾¾±pºÁÄÀ±pÉ³ÀÆpÆÁpµº³ÆpÁÄpÅ··p¿·pÀ³½·¶pÆ·ÊÆpºÁÆpÆÁppÆ·ÊÆpµº³Ä¹·¶p³Æp",
      "Â¿pÆÁpÇÀÅÇ´ÅµÄ»´·pÆ·ÊÆpÅÆÁÂp\n",
      "5\n",
      "h",
      ">i>>",
      ">>>>>>",
      "",
      ">",
      ">",
      ">",
      ">>>TWTWV>",
      ">",
      ">>OSN>>",
      ">",
      ">>TWTWV\n",
      "3\n",
      "Jga K co tgcnna jqtpa ycpv vq ejcv qt ugg og pcmgf vgzv jqv vq 69698 vgzv ejctigf cv 150ro vq wpuwduetkdg vgzv uvqr 69698\n",
      "2\n",
      "Hey I am really horny want to chat or see me naked text hot to 69698 text charged at 150pm to unsubscribe text stop 69698\n",
      "====================\n",
      "732: Message\n",
      "6\n",
      "Decrypted text: ·³ºppÆº»À½p¿±pÇÅÇ³¾p¹Ç±wÅpÅÆ»¾¾pÂ³ÅÅ·¶pÁÇÆp¸ÄÁ¿p¾³ÅÆpÀ»¹ºÆ|p»¸p±ÁÇp¹·Æp³ºÁ¾¶pÁ¸p³À±´Á¶±p¾·Æp¿·p½ÀÁÉp³À¶pw¾¾pÆºÄÁÉp¶ÁÉÀ\n",
      "5\n",
      "_",
      ">i>>>>E>>",
      ">>>>J>>>",
      ">>>>",
      ">",
      ">>>iE>>\n",
      "3\n",
      "Agcj K vjkpm oa wuwcn iwa'u uvknn rcuugf qwv htqo ncuv pkijv, kh aqw igv cjqnf qh cpadqfa ngv og mpqy cpf K'nn vjtqy fqyp\n",
      "2\n",
      "Yeah I think my usual guy's still passed out from last night, if you get ahold of anybody let me know and I'll throw down\n",
      "====================\n",
      "733: Message\n",
      "6\n",
      "Decrypted text: ÁÁ½pÉº»µºp¾·ÅÅÁÀpÆº·Àp±ÁÇp¿Å¹p¿·~~~ppÉ»¾¾pµ³¾¾pÇÂp³¸Æ·ÄpÉÁÄ½pÁÄpÅÆº~~~pw¿p¹Á»À¹pÆÁp¹·ÆpÅÂ·µÅ~p±p¿·¿´·ÄÅº»Âp»Åp¢ª\n",
      "5\n",
      "b>>",
      "]>",
      ">>>",
      "LLL>i>>>>",
      ">>>LLL>iE>>>",
      ">",
      "L>m>",
      "",
      ">>pxQURV\n",
      "3\n",
      "Dqqm yjkej nguuqp? vjgp aqw oui og... K yknn ecnn wr chvgt yqtm qt uvj... K'o iqkpi vq igv urgeu. Oa ogodgtujkr ku RZ3748\n",
      "2\n",
      "Book which lesson? then you msg me... I will call up after work or sth... I'm going to get specs. My membership is PX3748\n",
      "====================\n",
      "734: Message\n",
      "6\n",
      "Decrypted text: ¬»p»ÆÅp³Æ·p»ÆpÉ³Åp¾ÁÈ·¾±pÆÁpÅ··p±ÁÇpÆÁÀ»¹ºÆp³À¶p»¾¾pÂºÁÀ·p±ÁÇpÆÁ¿ÁÄÄÁÉ~pp¹ÁÆpÆÁpÅ»À¹p³À¶p³p¹Ç±p¹³È·p¿·pº»Åpµ³Ä¶qpÊÊÊ¬rr\n",
      "5\n",
      "zh>>k",
      ">>>",
      ">>",
      "",
      ">>>>>",
      ">>L>i>>>>>>>",
      ">",
      ">>?>z@@\n",
      "3\n",
      "\\Jk kvu Mcvg kv ycu nqxgna vq ugg aqw vqpkijv cpf knn rjqpg aqw vqoqttqy. K iqv vq ukpi cpf c iwa icxg og jku ectf! zzz\\\"\"\n",
      "2\n",
      "\\Hi its Kate it was lovely to see you tonight and ill phone you tomorrow. I got to sing and a guy gave me his card! xxx\\\"\"\n",
      "====================\n",
      "735: Message\n",
      "6\n",
      "Decrypted text: ¥ÁÄÄ±p»pÀÁÉpÆº·ÀpµpÇÄp¿Å¹~~~p³Äp¾ÁÄpÅÁpÂÁÁÄpÆº»À¹~~~pÇÆpÁÀ¾±ppÁÀ·pÀ»¹ºÆ~~~p¦¿ÄpÇw¾¾pº³È·p³p´Ä³À¶pÀ·ÉpÄÁÁ¿ppÅ¾··Âp»À~~~\n",
      "5\n",
      "s>>>",
      ">>>LLL>_>>>>LLL>b>>R>",
      ">LLL>t>E>",
      ">>>",
      ">>P>",
      "",
      ">LLL\n",
      "3\n",
      "Uqtta k pqy vjgp e wt oui... Act nqt uq rqqt vjkpi... Dwv qpna 4 qpg pkijv... Vot w'nn jcxg c dtcpf pgy tqqo 2 unggr kp...\n",
      "2\n",
      "Sorry i now then c ur msg... Yar lor so poor thing... But only 4 one night... Tmr u'll have a brand new room 2 sleep in...\n",
      "====================\n",
      "736: Message\n",
      "6\n",
      "Decrypted text: ÇÂ~~~p¡½p»p¹ÁpºÁ¿·p¾ÁÁ½p³ÆpÆº·pÆ»¿»À¹ÅpÆº·Àp»p¿Å¹p¯p³¹³»À~~~pªÇºÇ»p¹Á»À¹pÆÁp¾·³ÄÀpÁÀpÀ¶p¿³±pÆÁÁp´ÇÆpº·Äp¾·ÅÅÁÀp»Åp³Æp³¿\n",
      "5\n",
      "_LLL>o>>>",
      ">>>",
      ">>",
      ">>>j}>LLL>x>>>",
      ">>P>>>>",
      ">",
      ">>>V\n",
      "3\n",
      "Awr... Qm k iq jqog nqqm cv vjg vkokpiu vjgp k oui L_ cickp... Zwjwk iqkpi vq ngctp qp 2pf oca vqq dwv jgt nguuqp ku cv 8co\n",
      "2\n",
      "Yup... Ok i go home look at the timings then i msg J_ again... Xuhui going to learn on 2nd may too but her lesson is at 8am\n",
      "====================\n",
      "737: Message\n",
      "6\n",
      "Decrypted text:  ³ºp»ÆwÅpÅÆÄ³»¹ºÆ|p»¸p±ÁÇpµ³Àp¼ÇÅÆp´Ä»À¹p´Ç¶pÁÄp¶Ä»À½ÅpÁÄpÅÁ¿·Æº»À¹pÆº³ÆwÅp³µÆÇ³¾¾±p³p¾»ÆÆ¾·p¿ÁÄ·pÇÅ·¸Ç¾pÆº³ÀpÅÆÄ³»¹ºÆpµ³Åº\n",
      "5\n",
      "n>E>J>>>>>>>>>>",
      ">E>>>",
      ">",
      ">",
      ">>>\n",
      "3\n",
      "Pcj kv'u uvtckijv, kh aqw ecp lwuv dtkpi dwf qt ftkpmu qt uqogvjkpi vjcv'u cevwcnna c nkvvng oqtg wughwn vjcp uvtckijv ecuj\n",
      "2\n",
      "Nah it's straight, if you can just bring bud or drinks or something that's actually a little more useful than straight cash\n",
      "====================\n",
      "738: Message\n",
      "6\n",
      "Decrypted text: p¹Ä³¿pÇÅÇ³¾¾±pÄÇÀÅp¾»½·ppv¾Æsv¹Æp|p³pº³¾¸p·»¹ºÆºp»ÅpÅ¿³ÄÆ·ÄpÆºÁÇ¹ºp³À¶p¹·ÆÅp±ÁÇp³¾¿ÁÅÆp³pÉºÁ¾·pÅ·µÁÀ¶p¹Ä³¿p¸ÁÄppv¾Æsv¹Æ\n",
      "5\n",
      "a>>>>",
      ">>DYADY>J>>>",
      ">>",
      ">>>",
      ">>>>",
      ">",
      ">>>>DYADY\n",
      "3\n",
      "C itco wuwcnna twpu nkmg  &nv;#&iv; , c jcnh gkijvj ku uoctvgt vjqwij cpf igvu aqw cnoquv c yjqng ugeqpf itco hqt  &nv;#&iv;\n",
      "2\n",
      "A gram usually runs like  &lt;#&gt; , a half eighth is smarter though and gets you almost a whole second gram for  &lt;#&gt;\n",
      "====================\n",
      "739: Message\n",
      "6\n",
      "Decrypted text: ¦Á¶³±p»Åp¬ÅÁÀ¹p¶·¶»µ³Æ·¶p¶³±~~¬rp©º»µºpÅÁÀ¹pÉ»¾¾pÇp¶·¶»µ³Æ·p¸ÁÄp¿·p¥·À¶pÆº»ÅpÆÁp³¾¾pÇÄpÈ³¾Ç³´¾·p¸ÄÀ¶Åp´ÇÆp¸»ÄÅÆpÄÂ¾±p¿·~~~r\n",
      "5\n",
      "t>>z>",
      "",
      ">LLz@>w>>>>",
      "",
      ">>",
      "]>s",
      ">>>>>",
      ">>>>>",
      "LLL@\n",
      "3\n",
      "Vqfca ku \\uqpi fgfkecvgf fca..\\\" Yjkej uqpi yknn w fgfkecvg hqt og? Ugpf vjku vq cnn wt xcnwcdng htpfu dwv hktuv trna og...\"\n",
      "2\n",
      "Today is \\song dedicated day..\\\" Which song will u dedicate for me? Send this to all ur valuable frnds but first rply me...\"\n",
      "====================\n",
      "740: Message\n",
      "6\n",
      "Decrypted text: ÇÅÆÁ¿·ÄpÅ·ÄÈ»µ·p³ÀÀÁÀµ·¿·ÀÆ~pÁÇpº³È·p³p ·Ép·³ÄÅp¶·¾»È·Ä±pÉ³»Æ»À¹p¸ÁÄp±ÁÇ~p¢¾·³Å·pµ³¾¾p",
      "pÀÁÉpÆÁp³ÄÄ³À¹·p¶·¾»È·Ä±\n",
      "5\n",
      "c",
      ">",
      "",
      ">",
      "",
      "L>_>",
      ">>n",
      ">_",
      ">",
      "",
      ">>>L>p",
      "",
      ">>NUNRTURRRQS>>>",
      ">",
      "",
      "\n",
      "3\n",
      "Ewuvqogt ugtxkeg cppqpegogpv. Aqw jcxg c Pgy Agctu fgnkxgta yckvkpi hqt aqw. Rngcug ecnn 07046744435 pqy vq cttcpig fgnkxgta\n",
      "2\n",
      "Customer service annoncement. You have a New Years delivery waiting for you. Please call 07046744435 now to arrange delivery\n",
      "====================\n",
      "741: Message\n",
      "6\n",
      "Decrypted text: ·³Ä|Ä·¹Ä·Æp»pµÇ¶ÀÆpÂ»µ½pµ³¾¾~¶ÄÁÈ·p¶ÁÉÀp¸Ä¿pµÆ¾³pÀÁÉp³ÆpµÁµº»ÀpºÁ¿·~¾·¸Æp¿Á´»¾·p»Àpµ³Ä~~·ÀÆ·pÅÆ±¾·p»ÅºÆ³¿³±ÁÁº³ÂÂ±p´³½Ä»¶q\n",
      "5\n",
      "d",
      "J",
      "",
      ">>>>L",
      ">>>>>>>",
      "L",
      ">",
      ">>LL",
      "",
      ">",
      ">]>?\n",
      "3\n",
      "Fgct,tgitgv k ewfpv rkem ecnn.ftqxg fqyp hto evnc pqy cv eqejkp jqog.nghv oqdkng kp ect..gpvg uvang kujvcocaqq?jcrra dcmtkf!\n",
      "2\n",
      "Dear,regret i cudnt pick call.drove down frm ctla now at cochin home.left mobile in car..ente style ishtamayoo?happy bakrid!\n",
      "====================\n",
      "742: Message\n",
      "6\n",
      "Decrypted text: ÁÇÄp¸Ä··pÄ»À¹ÆÁÀ·p»ÅpÉ³»Æ»À¹pÆÁp´·pµÁ¾¾·µÆ·¶~p¥»¿Â¾±pÆ·ÊÆpÆº·pÂ³ÅÅÉÁÄ¶p¬ª¬rpÆÁp",
      "pÆÁpÈ·Ä»¸±~p·Æp§Åº·Äp³À¶pÄ»ÆÀ·±~p\n",
      "5\n",
      "_>",
      "",
      ">",
      ">>>>",
      ">",
      "",
      "L>s>",
      ">",
      ">>zmixz@>>VSNTW>>",
      "L>g",
      ">u",
      ">>b",
      "L>fml\n",
      "3\n",
      "Aqwt htgg tkpivqpg ku yckvkpi vq dg eqnngevgf. Ukorna vgzv vjg rcuuyqtf \\OKZ\\\" vq 85069 vq xgtkha. Igv Wujgt cpf Dtkvpga. HON\n",
      "2\n",
      "Your free ringtone is waiting to be collected. Simply text the password \\MIX\\\" to 85069 to verify. Get Usher and Britney. FML\n",
      "====================\n",
      "743: Message\n",
      "6\n",
      "Decrypted text:  »µ·p¾»À·pÅ³»¶p´±p³p´ÄÁ½·Àpº·³ÄÆ}p¢¾²p¶ÁÀwÆpµÇ¿pp¿ÁÄ·pÆ»¿·Åp»À¸ÄÁÀÆpÁ¸p¿·~~~p¡Æº·ÄpÉ»Å·pÁÀµ·p³¹³»Àpp¾¾pÆÄÇÅÆp§~~~pÁÁ¶pÆy\n",
      "5\n",
      "n",
      ">",
      ">>>>",
      ">",
      "K>p>E>>O>",
      ">",
      ">>>",
      "LLL>o",
      ">",
      ">",
      ">>i>>>uLLL>g>WXG\n",
      "3\n",
      "Pkeg nkpg uckf da c dtqmgp jgctv- Rnb fqp'v ewo 1 oqtg vkogu kphtqpv qh og... Qvjgt ykug qpeg cickp K nn vtwuv W... Iqqf 9v:)\n",
      "2\n",
      "Nice line said by a broken heart- Plz don't cum 1 more times infront of me... Other wise once again I ll trust U... Good 9t:)\n",
      "====================\n",
      "744: Message\n",
      "6\n",
      "Decrypted text: ¥³È·p±ÁÇÄÅ·¾¸pÆº·pÅÆÄ·ÅÅ~p¸pÆº·pÂ·ÄÅÁÀpº³Åp³p¶ÁÄ¿p³µµÁÇÀÆ|p¼ÇÅÆpÅ·À¶p±ÁÇÄp³µµÁÇÀÆp¶·Æ³»¾Åp³À¶pÆº·p¿ÁÀ·±pÉ»¾¾p´·pÅ·ÀÆpÆÁp±ÁÇ~\n",
      "5\n",
      "s",
      ">",
      ">",
      ">",
      "L>i>",
      ">",
      ">>>>J>>",
      ">>>",
      ">>",
      ">",
      ">>",
      ">",
      ">>L\n",
      "3\n",
      "Ucxg aqwtugnh vjg uvtguu. Kh vjg rgtuqp jcu c fqto ceeqwpv, lwuv ugpf aqwt ceeqwpv fgvcknu cpf vjg oqpga yknn dg ugpv vq aqw.\n",
      "2\n",
      "Save yourself the stress. If the person has a dorm account, just send your account details and the money will be sent to you.\n",
      "====================\n",
      "745: Message\n",
      "6\n",
      "Decrypted text: ÁÇÄp¸Ä··pÄ»À¹ÆÁÀ·p»ÅpÉ³»Æ»À¹pÆÁp´·pµÁ¾¾·µÆ·¶~p¥»¿Â¾±pÆ·ÊÆpÆº·pÂ³ÅÅÉÁÄ¶p¬ª¬rpÆÁp",
      "pÆÁpÈ·Ä»¸±~p·Æp§Åº·Äp³À¶pÄ»ÆÀ·±~p\n",
      "5\n",
      "_>",
      "",
      ">",
      ">>>>",
      ">",
      "",
      "L>s>",
      ">",
      ">>zmixz@>>VSNTW>>",
      "L>g",
      ">u",
      ">>b",
      "L>fml\n",
      "3\n",
      "Aqwt htgg tkpivqpg ku yckvkpi vq dg eqnngevgf. Ukorna vgzv vjg rcuuyqtf \\OKZ\\\" vq 85069 vq xgtkha. Igv Wujgt cpf Dtkvpga. HON\n",
      "2\n",
      "Your free ringtone is waiting to be collected. Simply text the password \\MIX\\\" to 85069 to verify. Get Usher and Britney. FML\n",
      "====================\n",
      "746: Message\n",
      "6\n",
      "Decrypted text: ¥ÇÀÅº»À·p£Ç»²p©½¾±p£qp©»Àp³pÆÁÂp¥ÁÀ±p¨pÂ¾³±·Äp»¸pÇp½ÀÁÉpÉº»µºpµÁÇÀÆÄ±pÆº·p¾¹³ÄÈ·p»Åp»Àp¦ÊÆp³ÀÅÄpÆÁp~pµó~",
      "p¥¢¦±ÄÁÀ·\n",
      "5\n",
      "s",
      ">q>w>q?>w>>>s>dvd>",
      ">>>>>>",
      ">a",
      ">>]>t>>>VPPUUL>ÁOLSN>spXt",
      "\n",
      "3\n",
      "Uwpujkpg Swkb Ymna S! Ykp c vqr Uqpa FXF rncagt kh w mpqy yjkej eqwpvta vjg Cnictxg ku kp? Vzv cput vq 82277. e£1.50 UR:Vatqpg\n",
      "2\n",
      "Sunshine Quiz Wkly Q! Win a top Sony DVD player if u know which country the Algarve is in? Txt ansr to 82277. c£1.50 SP:Tyrone\n",
      "====================\n",
      "747: Message\n",
      "6\n",
      "Decrypted text: »qpÁÇp¼ÇÅÆpÅÂÁ½·pÆÁp ¥p¨~p©·w¶p¾»½·pÆÁp½ÀÁÉp»¸p±ÁÇpÉ·Ä·pÅ³Æ»Å¸»·¶pÉ»ÆºpÆº·p·ÊÂ·Ä»·Àµ·~p¤·Â¾±p¦Á¾¾pÄ··pÉ»Æºp·ÅpÁÄp Á~\n",
      "5\n",
      "h?>_>>",
      ">>maneesha>vL>w",
      "E>",
      ">>>>>",
      "",
      ">",
      ">>",
      ">",
      "",
      "",
      "",
      "L>r",
      ">t>f",
      "",
      ">>_",
      ">>nL\n",
      "3\n",
      "Jk! Aqw lwuv urqmg vq OCPGGUJC X. Yg'f nkmg vq mpqy kh aqw ygtg ucvkuhkgf ykvj vjg gzrgtkgpeg. Tgrna Vqnn Htgg ykvj Agu qt Pq.\n",
      "2\n",
      "Hi! You just spoke to MANEESHA V. We'd like to know if you were satisfied with the experience. Reply Toll Free with Yes or No.\n",
      "====================\n",
      "748: Message\n",
      "6\n",
      "Decrypted text: ¢ÄÁ´³´¾±p¿ÁÀ·±pÉÁÄÄ»·Å~p¦º»À¹Åp³Ä·pµÁ¿»À¹p¶Ç·p³À¶p»pº³È·pÅ·È·Ä³¾pÁÇÆÅÆ³À¶»À¹p»ÀÈÁ»µ·Åp¸ÁÄpÉÁÄ½p»p¶»¶pÆÉÁp³À¶pÆºÄ··p¿ÁÀÆºÅp³¹Á~\n",
      "5\n",
      "p>",
      ">",
      "L>t>",
      ">>",
      ">>>",
      ">",
      "",
      ">>",
      ">>>>>>>",
      "",
      ">>L\n",
      "3\n",
      "Rtqdcdna oqpga yqttkgu. Vjkpiu ctg eqokpi fwg cpf k jcxg ugxgtcn qwvuvcpfkpi kpxqkegu hqt yqtm k fkf vyq cpf vjtgg oqpvju ciq.\n",
      "2\n",
      "Probably money worries. Things are coming due and i have several outstanding invoices for work i did two and three months ago.\n",
      "====================\n",
      "749: Message\n",
      "6\n",
      "Decrypted text:  ÁpÉ·pÅ·¾¾p»Æp³¾¾pÅÁpÉ·w¾¾pº³È·pÆÁÀÅp»¸pµÁ»ÀÅ~p¦º·ÀpÅ·¾¾pÁÇÄpµÁ»ÀÅpÆÁpÅÁ¿·ÁÀ·pÆºÄÇpÂ³±Â³¾~p¨Á»¾³qpÁÀ·±p´³µ½p»Àp¾»¸·pÂÁµ½·ÆÅy\n",
      "5\n",
      "n>",
      ">",
      ">>>>",
      "E>",
      ">>>L>t",
      ">",
      ">>>>",
      "",
      ">>L>v?>m",
      ">>>",
      ">",
      "XG\n",
      "3\n",
      "Pq yg ugnn kv cnn uq yg'nn jcxg vqpu kh eqkpu. Vjgp ugnn qwt eqkpu vq uqogqpg vjtw rcarcn. Xqknc! Oqpga dcem kp nkhg rqemgvu:)\n",
      "2\n",
      "No we sell it all so we'll have tons if coins. Then sell our coins to someone thru paypal. Voila! Money back in life pockets:)\n",
      "====================\n",
      "750: Message\n",
      "6\n",
      "Decrypted text: ÁÈ·p»ÅÀwÆp³p¶·µ»Å»ÁÀ|p»ÆwÅp³p¸··¾»À¹~p¸pÉ·pµÁÇ¾¶p¶·µ»¶·pÉºÁpÆÁp¾ÁÈ·|pÆº·À|p¾»¸·pÉÁÇ¾¶p´·p¿ÇµºpÅ»¿Â¾·Ä|p´ÇÆpÆº·Àp¾·ÅÅp¿³¹»µ³¾\n",
      "5\n",
      "l",
      ">E>>",
      "J>E>>",
      "",
      "L>i>",
      ">>",
      "",
      ">>>",
      "J>",
      "J>",
      ">>",
      ">>",
      "J>>",
      ">",
      ">\n",
      "3\n",
      "Nqxg kup'v c fgekukqp, kv'u c hggnkpi. Kh yg eqwnf fgekfg yjq vq nqxg, vjgp, nkhg yqwnf dg owej ukorngt, dwv vjgp nguu ocikecn\n",
      "2\n",
      "Love isn't a decision, it's a feeling. If we could decide who to love, then, life would be much simpler, but then less magical\n",
      "====================\n",
      "751: Message\n",
      "6\n",
      "Decrypted text: ÁÄpÇÄpµº³Àµ·pÆÁpÉ»Àp³pµó",
      "pÉ½¾±pÅºÁÂÂ»À¹pÅÂÄ··p¦ª¦p¥¡¢pÆÁp~p¦wÅvwÅpÉÉÉ~ÆÊÆ}}ÅºÁÂ~µÁ¿pµÇÅÆµ³Ä·p",
      "",
      "|pÊ",
      "ÂÉ½\n",
      "5\n",
      "f>>",
      ">>>>ÁPSN>>>",
      "",
      ">txtX>shop>>VNVUVL>tEDcE>LKPKL>",
      ">NVUOSUNSNPPJ>OOSNM\n",
      "3\n",
      "Hqt wt ejcpeg vq ykp c e£250 ymna ujqrrkpi urtgg VZV: UJQR vq 80878. V'u&E'u yyy.vzv-2-ujqr.eqo ewuvectg 08715705022, 1z150r/ym\n",
      "2\n",
      "For ur chance to win a c£250 wkly shopping spree TXT: SHOP to 80878. T's&C's www.txt-2-shop.com custcare 08715705022, 1x150p/wk\n",
      "====================\n",
      "752: Message\n",
      "6\n",
      "Decrypted text: ¾¾Áqp©·pº³È·p´Ä³È·¶pÆº·p´ÇÅ·Åp³À¶pÆ³½·ÀpÁÀpÆº·pÆÄ³»ÀÅp³À¶pÆÄ»Ç¿Âº·¶~pp¿·³ÀpÉ·₀ŇÄ·p»Àp´₀Ňº³¿~p³È·p³p¼Á¾¾±p¹ÁÁ¶pÄ·ÅÆpÁ¸pÉ··½\n",
      "5\n",
      "a?>w",
      ">",
      ">",
      ">",
      ">",
      ">>",
      ">>",
      ">>>",
      "L>i>",
      ">",
      "⁎_ĕ",
      ">>⁎_ĕL>h",
      ">>>>",
      ">>",
      "",
      "\n",
      "3\n",
      "Cnnq! Yg jcxg dtcxgf vjg dwugu cpf vcmgp qp vjg vtckpu cpf vtkworjgf. K ogcp yg‰A÷tg kp d‰A÷jco. Jcxg c lqnna iqqf tguv qh yggm\n",
      "2\n",
      "Allo! We have braved the buses and taken on the trains and triumphed. I mean we‰Y÷re in b‰Y÷ham. Have a jolly good rest of week\n",
      "====================\n",
      "753: Message\n",
      "6\n"
     ]
    },
    {
     "name": "stdout",
     "output_type": "stream",
     "text": [
      "Decrypted text: ¤·¿»À¶·ÄpÁÇpº³È·pÀÁÆp¶ÁÉÀ¾Á³¶·¶pÆº·pµÁÀÆ·ÀÆp±ÁÇpº³È·p³¾Ä·³¶±pÂ³»¶p¸ÁÄ~pÁÆÁpºÆÆÂ¶Á»Æ~p¿±¿Á´±~pÆÈpÆÁpµÁ¾¾·µÆp±ÁÇÄpµÁÀÆ·ÀÆ~\n",
      "5\n",
      "r",
      "",
      "X>_>",
      ">>",
      ">",
      ">",
      ">>",
      ">",
      ">>L>g>XMML>L>M>>",
      ">>",
      "L\n",
      "3\n",
      "Tgokpfgt: Aqw jcxg pqv fqypnqcfgf vjg eqpvgpv aqw jcxg cntgcfa rckf hqt. Iqvq jvvr://fqkv. oaoqda. vx/ vq eqnngev aqwt eqpvgpv.\n",
      "2\n",
      "Reminder: You have not downloaded the content you have already paid for. Goto http://doit. mymoby. tv/ to collect your content.\n",
      "====================\n",
      "754: Message\n",
      "6\n",
      "Decrypted text: ³¾¾p·Ä¿³À±p¸ÁÄpÁÀ¾±ppÂ·Àµ·pÂ·Äp¿»ÀÇÆ·qp³¾¾p¸ÄÁ¿p³p¸»Ê·¶p¾»À·pÈ»³p³µµ·ÅÅpÀÇ¿´·Äppp",
      "p",
      "~p ÁpÂÄ·Â³±¿·ÀÆ~p»Ä·µÆp³µµ·ÅÅq\n",
      "5\n",
      "c>g",
      ">>>O>",
      "",
      ">",
      ">",
      "?>c>>>",
      ">",
      ">>",
      ">",
      ">NVRR>VTO>VS>VSL>n>",
      "",
      "L>d",
      ">",
      "?\n",
      "3\n",
      "Ecnn Igtocpa hqt qpna 1 rgpeg rgt okpwvg! Ecnn htqo c hkzgf nkpg xkc ceeguu pwodgt 0844 861 85 85. Pq rtgrcaogpv. Fktgev ceeguu!\n",
      "2\n",
      "Call Germany for only 1 pence per minute! Call from a fixed line via access number 0844 861 85 85. No prepayment. Direct access!\n",
      "====================\n",
      "755: Message\n",
      "6\n",
      "Decrypted text: Áp±ÁÇp¹Ç±Åp·È·Äp¸»¹ÇÄ·pÁÇÆpºÁÉp¿ÇµºpÉ·pÀ··¶p¸ÁÄp³¾µÁºÁ¾p³±p³À¶pp³Ä·pÆÄ±»À¹pÆÁp¸»¹ÇÄ·pÁÇÆpºÁÉp¿ÇµºpÉ·pµ³ÀpÅ³¸·¾±pÅÂ·À¶pÁÀpÉ··¶\n",
      "5\n",
      "_>>>",
      "",
      ">",
      ">>>>",
      ">",
      "",
      ">>]>j>>i>",
      ">>>",
      ">>>>",
      ">>",
      ">",
      ">>",
      "",
      "\n",
      "3\n",
      "Aq aqw iwau gxgt hkiwtg qwv jqy owej yg pggf hqt cneqjqn? Lca cpf K ctg vtakpi vq hkiwtg qwv jqy owej yg ecp uchgna urgpf qp yggf\n",
      "2\n",
      "Yo you guys ever figure out how much we need for alcohol? Jay and I are trying to figure out how much we can safely spend on weed\n",
      "====================\n",
      "756: Message\n",
      "6\n",
      "Decrypted text: ·Ä·p»Åp±ÁÇÄp¶»ÅµÁÇÀÆpµÁ¶·p¤¢~p¦ÁpÅÆÁÂp¸ÇÄÆº·Äp¿·ÅÅ³¹·ÅpÄ·Â¾±pÅÆÁÂ~pÉÉÉ~Ä·¹³¾ÂÁÄÆ¸Á¾»Á~µÁ~Ç½~pÇÅÆÁ¿·Äp¥·ÄÈ»µ·Åp",
      "",
      "\n",
      "5\n",
      "h",
      "",
      ">>>>",
      ">rpOUTUVOL>t>>",
      ">",
      "",
      ">",
      ">L>L",
      "LLL>c",
      ">s",
      "",
      ">NVUOUPNSSRT\n",
      "3\n",
      "Jgtg ku aqwt fkueqwpv eqfg TR176781. Vq uvqr hwtvjgt oguucigu tgrna uvqr. yyy.tgicnrqtvhqnkq.eq.wm. Ewuvqogt Ugtxkegu 08717205546\n",
      "2\n",
      "Here is your discount code RP176781. To stop further messages reply stop. www.regalportfolio.co.uk. Customer Services 08717205546\n",
      "====================\n",
      "757: Message\n",
      "6\n",
      "Decrypted text: ·¾¾Áp¿±p´Á±ÆÁ±p~~~p····pp¿»ÅÅp±ÁÇp³¾Ä·³¶±p³À¶pp¼ÇÅÆpÉÁ½·pÇÂ~ppÉ»Åºp±ÁÇpÉ·Ä·pº·Ä·p»Àp´·¶pÉ»Æºp¿·|pµÇ¶¶¾»À¹p¿·~pp¾ÁÈ·p±ÁÇp~~~\n",
      "5\n",
      "h",
      ">>>LLL>g",
      "",
      "",
      "",
      ">i>>>",
      ">>i>>",
      ">L>i>>>",
      "",
      ">",
      "",
      ">>",
      ">>",
      "J>>",
      "L>i>",
      ">>LLL\n",
      "3\n",
      "Jgnnq oa dqavqa ... Igggg K okuu aqw cntgcfa cpf K lwuv yqmg wr. K ykuj aqw ygtg jgtg kp dgf ykvj og, ewffnkpi og. K nqxg aqw ...\n",
      "2\n",
      "Hello my boytoy ... Geeee I miss you already and I just woke up. I wish you were here in bed with me, cuddling me. I love you ...\n",
      "====================\n",
      "758: Message\n",
      "6\n",
      "Decrypted text: È·ÄpÆºÁÇ¹ºÆp³´ÁÇÆp¾»È»À¹p³p¹ÁÁ¶p¾»¸·pÉ»Æºp³pÂ·Ä¸·µÆpÂ³ÄÆÀ·ÄpÇÅÆpÆÊÆp´³µ½p p³À¶ppÆÁp¼Á»ÀpÆº·p¿Á´»¾·pµÁ¿¿ÇÀ»Æ±~pxÂ¥¥y\n",
      "5\n",
      "e",
      ">>>>>>",
      ">>>",
      "",
      ">",
      "]>j>>>name>>age>>>",
      ">",
      ">L>FONNMsmsG\n",
      "3\n",
      "Gxgt vjqwijv cdqwv nkxkpi c iqqf nkhg ykvj c rgthgev rctvpgt? Lwuv vzv dcem PCOG cpf CIG vq lqkp vjg oqdkng eqoowpkva. (100r/UOU)\n",
      "2\n",
      "Ever thought about living a good life with a perfect partner? Just txt back NAME and AGE to join the mobile community. (100p/SMS)\n",
      "====================\n",
      "759: Message\n",
      "6\n",
      "Decrypted text: ¬¡¡pqp§p ¡ p¡§¤¡p§p¥ppp¦¦ p¡ p©p§  q¡¢p§¤p¡¦p¤pvpµ¥¥¢p§p¥¡¡ ¡¦¥p¡p¡¨pªªªª~¬rr\n",
      "5\n",
      "zboo>babe?>u>enjo_in>_ourjob]>u>seemed>P>b>gettin>on>well>hunn_?hope>ure>ok]take>care>D>isllspeak>Pu>soonlots>of>loveme>xxxxLz@@\n",
      "3\n",
      "\\DQQ DCDG! W GPLQAKP AQWTLQD? W UGGOGF 2 D IGVVKP QP YGNN JWPPA!JQRG WTG QM?VCMG ECTG & KeUNNURGCM 2W UQQPNQVU QH NQXGOG ZZZZ.\\\"\"\n",
      "2\n",
      "\\BOO BABE! U ENJOYIN YOURJOB? U SEEMED 2 B GETTIN ON WELL HUNNY!HOPE URE OK?TAKE CARE & IcSLLSPEAK 2U SOONLOTS OF LOVEME XXXX.\\\"\"\n",
      "====================\n",
      "760: Message\n",
      "6\n",
      "Decrypted text: ¦º·pª¿³ÅpÅÆÁÄ±p»ÅpÂ·³µ·~~p¦º·pª¿³Åp¿Å¹p»Åp¾ÁÈ·~~p¦º·pª¿³Åp¿»Ä³µ¾·p»Åp¼·ÅÇÅ~~p³Èp³p´¾·ÅÅ·¶p¿ÁÀÆºp³º·³¶pv³¿ÂpÉ»Åºp§p·ÄÄ±pª¿³Å~~~\n",
      "5\n",
      "t",
      ">x>>>",
      "",
      "LL>t",
      ">x>>>",
      "LL>t",
      ">x>",
      ">>",
      "LL>h>>",
      "",
      ">>",
      ">DY>>u>m",
      ">xLLL\n",
      "3\n",
      "Vjg Zocu uvqta ku rgceg.. Vjg Zocu oui ku nqxg.. Vjg Zocu oktceng ku lguwu.. Jcx c dnguugf oqpvj cjgcf &cor; ykuj W Ogtta Zocu...\n",
      "2\n",
      "The Xmas story is peace.. The Xmas msg is love.. The Xmas miracle is jesus.. Hav a blessed month ahead &amp; wish U Merry Xmas...\n",
      "====================\n",
      "761: Message\n",
      "6\n",
      "Decrypted text: ©³»ÆpÆº³ÆwÅpÅÆ»¾¾pÀÁÆp³¾¾pÆº³Æpµ¾·³Ä|pÉ·Ä·p±ÁÇpÀÁÆpÅÇÄ·p³´ÁÇÆp¿·p´·»À¹pÅ³Äµ³ÅÆ»µpÁÄpÆº³ÆpÆº³ÆwÅpÉº±pÊp¶Á·ÅÀwÆpÉ³ÀÆpÆÁp¾»È·pÉ»ÆºpÇÅ\n",
      "5\n",
      "w>E>>>>>",
      "J>",
      "",
      ">>>",
      ">>",
      ">",
      ">>>>E>>>",
      "E>>>",
      ">>\n",
      "3\n",
      "Yckv vjcv'u uvknn pqv cnn vjcv engct, ygtg aqw pqv uwtg cdqwv og dgkpi uctecuvke qt vjcv vjcv'u yja z fqgup'v ycpv vq nkxg ykvj wu\n",
      "2\n",
      "Wait that's still not all that clear, were you not sure about me being sarcastic or that that's why x doesn't want to live with us\n",
      "====================\n",
      "762: Message\n",
      "6\n",
      "Decrypted text: ¦º»Åp¹»Ä¾p¶Á·ÅpÀÁÆpÅÆ³±p»Àp´·¶~p¦º»Åp¹»Ä¾p¶Á·ÅÀwÆpÀ··¶pÄ·µÁÈ·Ä±pÆ»¿·~p¶pÄ³Æº·ÄpÂ³ÅÅpÁÇÆpÉº»¾·pº³È»À¹p¸ÇÀpÆº·Àp´·pµÁÁÂ·¶pÇÂp»Àp´·¶\n",
      "5\n",
      "t>>",
      ">>>>",
      "L>t>>",
      "E>",
      "",
      ">",
      "",
      ">",
      "L>i>",
      ">>>",
      ">>>",
      ">",
      ">",
      ">>>",
      "\n",
      "3\n",
      "Vjku iktn fqgu pqv uvca kp dgf. Vjku iktn fqgup'v pggf tgeqxgta vkog. Kf tcvjgt rcuu qwv yjkng jcxkpi hwp vjgp dg eqqrgf wr kp dgf\n",
      "2\n",
      "This girl does not stay in bed. This girl doesn't need recovery time. Id rather pass out while having fun then be cooped up in bed\n",
      "====================\n",
      "763: Message\n",
      "6\n",
      "Decrypted text:  ·Ép¦ª¦§pº³ÆppºÁÄÀ±p¹Ç±Åp»ÀpÇÄp³Ä·³pp¼ÇÅÆp",
      "ÂpÄ··ppÄ·µ·»È·p¥·³ÄµºpÂÁÅÆµÁ¶·pÁÄp³Æp¹³±Æ·ÊÆ´Ç¶¶±~µÁ¿~p¦ª¦p¡ pÀ³¿·pÆÁp\n",
      "5\n",
      "n",
      ">textbudd_>c>P>>>>>",
      ">R>>PS>f",
      "",
      ">P>",
      "",
      "",
      ">s",
      ">",
      ">>>",
      "LL>txt>one>",
      ">>VWTWQ\n",
      "3\n",
      "Pgy VGZVDWFFA Ejcv 2 jqtpa iwau kp wt ctgc 4 lwuv 25r Htgg 2 tgegkxg Ugctej rquveqfg qt cv icavgzvdwffa.eqo. VZV QPG pcog vq 89693\n",
      "2\n",
      "New TEXTBUDDY Chat 2 horny guys in ur area 4 just 25p Free 2 receive Search postcode or at gaytextbuddy.com. TXT ONE name to 89693\n",
      "====================\n",
      "764: Message\n",
      "6\n",
      "Decrypted text: »p¿³Æ·p»ÆÅp¤¨p¶»¶pÇpº³Èp³pÀ»µ·pºÁ¾p¼ÇÅÆp³p¿·ÅÅ³¹·ppÅ³±pº·¾¾ÁpµÁ²pº³È·Àµ¥ÆpÅ·ÀÆpÇpp»Àp³¹·ÅpÅÆ³ÄÆ·¶p¶Ä»È»À¹pÅÁpÅÆ³±pÁ¸¸pÄÁ³¶Åq¤¨Ê\n",
      "5\n",
      "h>",
      ">>rv>>>>>",
      ">>>>",
      "",
      ">Q>>",
      ">>",
      "s>",
      ">>O>>",
      ">",
      ">>>>>?rv\n",
      "3\n",
      "Jk ocvg kvu TX fkf w jcx c pkeg jqn lwuv c oguucig 3 uca jgnnq eqb jcxgpeUv ugpv w 1 kp cigu uvctvgf ftkxkpi uq uvca qhh tqcfu!TXz\n",
      "2\n",
      "Hi mate its RV did u hav a nice hol just a message 3 say hello coz havencSt sent u 1 in ages started driving so stay off roads!RVx\n",
      "====================\n",
      "765: Message\n",
      "6\n",
      "Decrypted text: »p»ÆÅp³Æ·pºÁÉp»Åp±ÁÇÄp·È·À»À¹ppºÁÂ·p»pµ³ÀpÅ··p±ÁÇpÆÁ¿ÁÄÄÁÉp¸ÁÄp³p´»Æp´ÇÆp»pº³È·pÆÁp´¾ÁÁ¶±p´³´±¼ÁÀÆ·Æqp¦ÊÆp´³µ½p»¸pÇpµ³À~pypÊÊÊ\n",
      "5\n",
      "h>>k",
      ">>>>",
      "",
      "]>i>",
      ">>>",
      "",
      ">>>>>>>>",
      ">>>",
      "?>t>>>>L>XG>\n",
      "3\n",
      "Jk kvu Mcvg jqy ku aqwt gxgpkpi? K jqrg k ecp ugg aqw vqoqttqy hqt c dkv dwv k jcxg vq dnqqfa dcdalqpvgv! Vzv dcem kh w ecp. :) zzz\n",
      "2\n",
      "Hi its Kate how is your evening? I hope i can see you tomorrow for a bit but i have to bloody babyjontet! Txt back if u can. :) xxx\n",
      "====================\n",
      "766: Message\n",
      "6\n",
      "Decrypted text: ©·¾¾pÆº·Ä·wÅpÀÁÆp³p¾ÁÆpÁ¸pÆº»À¹Åpº³ÂÂ·À»À¹p»Àp»À¶Å³±pÁÀp ·Ép±·³ÄÅpzÅ»¹ºÅzp¥Á¿·p´³ÄÅp»Àp¢Æ´Áp³À¶pÆº·p´¾Ç·pº·ÄÁÀpº³ÅpÅÁ¿·Æº»À¹p¹Á»À¹\n",
      "5\n",
      "w",
      ">",
      "",
      "E>>>>>>",
      ">>l>>n",
      ">",
      ">HH>s",
      ">>>p>>",
      ">",
      ">",
      ">>",
      ">\n",
      "3\n",
      "Ygnn vjgtg'u pqv c nqv qh vjkpiu jcrrgpkpi kp Nkpfuca qp Pgy agctu *ukiju* Uqog dctu kp Rvdq cpf vjg dnwg jgtqp jcu uqogvjkpi iqkpi\n",
      "2\n",
      "Well there's not a lot of things happening in Lindsay on New years *sighs* Some bars in Ptbo and the blue heron has something going\n",
      "====================\n",
      "767: Message\n",
      "6\n",
      "Decrypted text: ÁÁ¶p³¸Æ·ÄÀÁÁÀpÅÆ³ÄÅº»À·qpÁÉwÅp¿±p´Á±ÆÁ±pÁ·Åpº·pµÄ³È·p¿·p±·Æpµº·pÆÁp¸Çµ½p¿·ppzÅ»ÂÅpµ³ÂÂÇµµ»ÀÁzpp¿»ÅÅp±ÁÇp´³´·pzÆ·³Å»À¹p½»ÅÅz\n",
      "5\n",
      "g>",
      ">",
      "?>hE>>]>d",
      ">",
      ">",
      ">",
      ">",
      "]>a",
      ">>>",
      ">]>H>H>i>>>",
      ">H",
      ">H\n",
      "3\n",
      "Iqqf chvgtpqqp uvctujkpg! Jqy'u oa dqavqa? Fqgu jg etcxg og agv? Cejg vq hwem og ? *ukru ecrrweekpq* K okuu aqw dcdg *vgcukpi mkuu*\n",
      "2\n",
      "Good afternoon starshine! How's my boytoy? Does he crave me yet? Ache to fuck me ? *sips cappuccino* I miss you babe *teasing kiss*\n",
      "====================\n",
      "768: Message\n",
      "6\n",
      "Decrypted text: §p³Ä·pÅÇ´ÅµÄ»´·¶pÆÁpÆº·p´·ÅÆpÁ´»¾·pÁÀÆ·ÀÆp¥·ÄÈ»µ·p»ÀpÆº·p§p¸ÁÄpµópÂ·Äpp¶³±ÅpÇÀÆ»¾p±ÁÇpÅ·À¶p¥¦¡¢pÆÁp~p·¾Â¾»À·p",
      "\n",
      "5\n",
      "u>",
      ">",
      ">>",
      ">",
      ">m",
      ">c",
      ">s",
      "",
      ">>",
      ">uk>>ÁQ>",
      ">ON>>>>",
      ">stop>>VPQPRL>h",
      "",
      ">NVUNTNWOUWS\n",
      "3\n",
      "W ctg uwduetkdgf vq vjg dguv Oqdkng Eqpvgpv Ugtxkeg kp vjg WM hqt e£3 rgt 10 fcau wpvkn aqw ugpf UVQR vq 82324. Jgnrnkpg 08706091795\n",
      "2\n",
      "U are subscribed to the best Mobile Content Service in the UK for c£3 per 10 days until you send STOP to 82324. Helpline 08706091795\n",
      "====================\n",
      "769: Message\n",
      "6\n"
     ]
    },
    {
     "name": "stdout",
     "output_type": "stream",
     "text": [
      "Decrypted text: §pº³È·p³pÅ·µÄ·Æp³¶¿»Ä·ÄpÉºÁp»Åp¾ÁÁ½»À¹pp¿³½·pµÁÀÆ³µÆpÉ»Æºp§}¸»À¶pÁÇÆpÉºÁpÆº·±p¤zÄ·È·³¾pÉºÁpÆº»À½Åp§¤pÅÁpÅÂ·µ»³¾}µ³¾¾pÁÀp",
      "",
      "",
      "\n",
      "5\n",
      "u>",
      ">>",
      "",
      ">",
      ">>>>P>",
      ">>>uK>>>",
      ">rH",
      "",
      ">>>ur>>",
      "K>>NWNSVNWRSTS\n",
      "3\n",
      "W jcxg c ugetgv cfoktgt yjq ku nqqmkpi 2 ocmg eqpvcev ykvj W-hkpf qwv yjq vjga T*tgxgcn yjq vjkpmu WT uq urgekcn-ecnn qp 09058094565\n",
      "2\n",
      "U have a secret admirer who is looking 2 make contact with U-find out who they R*reveal who thinks UR so special-call on 09058094565\n",
      "====================\n",
      "770: Message\n",
      "6\n",
      "Decrypted text: ÁÉp³´ÁÇÆp¹·ÆÆ»À¹p»ÀpÆÁÇµºpÉ»Æºp¸Á¾½ÅpÉ³»Æ»À¹p¸ÁÄpµÁ¿Â³À±pÇÅÆpÆÊÆp´³µ½p±ÁÇÄp p³À¶ppÆÁpÁÂÆp»ÀqpÀ¼Á±pÆº·pµÁ¿¿ÇÀ»Æ±px",
      "Â¥¥y\n",
      "5\n",
      "h>>",
      ">>>>>>>]>j>>>>name>>age>>>?>e>",
      ">>FOSNMsmsG\n",
      "3\n",
      "Jqy cdqwv igvvkpi kp vqwej ykvj hqnmu yckvkpi hqt eqorcpa? Lwuv vzv dcem aqwt PCOG cpf CIG vq qrv kp! Gplqa vjg eqoowpkva (150r/UOU)\n",
      "2\n",
      "How about getting in touch with folks waiting for company? Just txt back your NAME and AGE to opt in! Enjoy the community (150p/SMS)\n",
      "====================\n",
      "771: Message\n",
      "6\n",
      "Decrypted text: p¶ÁÀwÆpÃÇ»Æ·p½ÀÁÉpÉº³ÆpÆÁp¶Á~ppÅÆ»¾¾pµ³ÀwÆp¹·ÆpºÁ¾¶pÁ¸p³À±ÁÀ·~ppµÇ¶pÂ»µ½p±ÁÇpÇÂp´ÁÇÆp~Â¿p³À¶pÉ·pµ³ÀpÅ··p»¸pÆº·±wÄ·p»ÀpÆº·pÂÇ´\n",
      "5\n",
      "i>E>",
      ">>>>L>i>>E>",
      ">>>",
      "L>i>>>>>>ULQN>>",
      ">>",
      "",
      ">>",
      "E",
      ">>",
      ">]\n",
      "3\n",
      "K fqp'v swkvg mpqy yjcv vq fq. K uvknn ecp'v igv jqnf qh cpaqpg. K ewf rkem aqw wr dqwv 7.30ro cpf yg ecp ugg kh vjga'tg kp vjg rwd?\n",
      "2\n",
      "I don't quite know what to do. I still can't get hold of anyone. I cud pick you up bout 7.30pm and we can see if they're in the pub?\n",
      "====================\n",
      "772: Message\n",
      "6\n",
      "Decrypted text: ¤»À¹ÆÁÀ·p¾Ç´p·ÆpÆº·p§pÅ»À¹¾·Åpµº³ÄÆpÁÀp±ÁÇÄp¿Á´»¾·p·³µºpÉ··½p³À¶pµºÁÁÅ·p³À±pÆÁÂpÃÇ³¾»Æ±pÄ»À¹ÆÁÀ·qp¦º»Åp¿·ÅÅ³¹·p»Åp¸Ä··pÁ¸pµº³Ä¹·~\n",
      "5\n",
      "r",
      ">cX>g",
      ">",
      ">uk>",
      ">>>>",
      ">",
      ">",
      "",
      ">>",
      ">>>>",
      "?>t>",
      "",
      ">>",
      "",
      ">>",
      "L\n",
      "3\n",
      "Tkpivqpg Enwd: Igv vjg WM ukpingu ejctv qp aqwt oqdkng gcej yggm cpf ejqqug cpa vqr swcnkva tkpivqpg! Vjku oguucig ku htgg qh ejctig.\n",
      "2\n",
      "Ringtone Club: Get the UK singles chart on your mobile each week and choose any top quality ringtone! This message is free of charge.\n",
      "====================\n",
      "773: Message\n",
      "6\n",
      "Decrypted text: pÅ³»¶p½»ÅÅ|p½»ÅÅ|p»pµ³ÀwÆp¶ÁpÆº·pÅÁÇÀ¶p·¸¸·µÆÅqp·p»Åp³p¹ÁÄ¹·ÁÇÅp¿³Àp»ÅÀwÆpº·qp»À¶pÁ¸pÂ·ÄÅÁÀpÉºÁpÀ··¶Åp³pÅ¿»¾·pÆÁp´Ä»¹ºÆ·Àpº»Åp¶³±qp\n",
      "5\n",
      ">>J>J>>E>>",
      ">>",
      "",
      "?>h",
      ">>>",
      ">>E>",
      "?>k>>",
      ">>",
      "",
      ">>",
      ">>",
      ">>?>\n",
      "3\n",
      " uckf mkuu, mkuu, k ecp'v fq vjg uqwpf ghhgevu! Jg ku c iqtigqwu ocp kup'v jg! Mkpf qh rgtuqp yjq pggfu c uokng vq dtkijvgp jku fca! \n",
      "2\n",
      " said kiss, kiss, i can't do the sound effects! He is a gorgeous man isn't he! Kind of person who needs a smile to brighten his day! \n",
      "====================\n",
      "774: Message\n",
      "6\n",
      "Decrypted text: ³»Æºp¿³½·ÅpÆº»À¹ÅpÂÁÅÅ»´¾·|ÁÂ·p¿³½·ÅpÆº»À¹ÅpÉÁÄ½|ÁÈ·p¿³½·ÅpÆº»À¹Åp´·³ÇÆ»¸Ç¾|³±p±ÁÇpº³È·p³¾¾pÆºÄ··pÆº»ÅpºÄ»ÅÆ¿³Åq·ÄÄ±pºÄ»ÅÆ¿³Åq\n",
      "5\n",
      "f>",
      ">>",
      "Jh",
      ">",
      ">>Jl",
      ">",
      ">>",
      "Jm>>",
      ">>",
      "",
      ">>c?m",
      ">c?\n",
      "3\n",
      "Hckvj ocmgu vjkpiu rquukdng,Jqrg ocmgu vjkpiu yqtm,Nqxg ocmgu vjkpiu dgcwvkhwn,Oca aqw jcxg cnn vjtgg vjku Ejtkuvocu!Ogtta Ejtkuvocu!\n",
      "2\n",
      "Faith makes things possible,Hope makes things work,Love makes things beautiful,May you have all three this Christmas!Merry Christmas!\n",
      "====================\n",
      "775: Message\n",
      "6\n",
      "Decrypted text: §pÉ·Ä·pÁÇÆ´»¶p´±pÅ»¿ÁÀÉ³ÆÅÁÀ",
      "pÁÀpÆº·p¥º»ÀµÁp¨p¢¾±Ä~pp´»¶p³¹³»À|pÈ»Å»ÆpÅ¿Å~p³µÅ¿ÅÄ·É³Ä¶Åpp·À¶p´»¶pÀÁÆ»¸»µ³Æ»ÁÀÅ|pÄ·Â¾±p p¡§¦\n",
      "5\n",
      "u>",
      "",
      ">>>SOPN>>",
      ">s>dvd>pL>P>>J>>L>M",
      ">P>",
      ">>J>",
      ">end>out\n",
      "3\n",
      "W ygtg qwvdkf da ukoqpycvuqp5120 qp vjg Ujkpeq FXF Rnat. 2 dkf cickp, xkukv uou. ce/uoutgyctfu 2 gpf dkf pqvkhkecvkqpu, tgrna GPF QWV\n",
      "2\n",
      "U were outbid by simonwatson5120 on the Shinco DVD Plyr. 2 bid again, visit sms. ac/smsrewards 2 end bid notifications, reply END OUT\n",
      "====================\n",
      "776: Message\n",
      "6\n",
      "Decrypted text: ·ÆÆ·Ä~p³¶·pÇÂp¸ÁÄpÄ»¶³±p³À¶pÅÆÇ¸¸·¶p¿±Å·¾¸p¾»½·p³pÂ»¹p±·ÅÆ·Ä¶³±~p ÁÉpp¸··¾p´¾·º~pÇÆp³Æp¾·³ÅÆp»ÆÅpÀÁÆpÉÄ»Æº»À¹pÂ³»Àp½»À¶pÁ¸p´¾·º~\n",
      "5\n",
      "b",
      "",
      "L>m",
      ">>>f>>",
      ">",
      ">",
      ">>>",
      "",
      "L>n>i>",
      "",
      ">",
      "L>b>>",
      ">>>>>>>",
      "L\n",
      "3\n",
      "Dgvvgt. Ocfg wr hqt Htkfca cpf uvwhhgf oaugnh nkmg c rki aguvgtfca. Pqy K hggn dngj. Dwv cv ngcuv kvu pqv ytkvjkpi rckp mkpf qh dngj.\n",
      "2\n",
      "Better. Made up for Friday and stuffed myself like a pig yesterday. Now I feel bleh. But at least its not writhing pain kind of bleh.\n",
      "====================\n",
      "777: Message\n",
      "6\n",
      "Decrypted text: »¶p±ÁÇpµ³ÆµºpÆº·p´ÇÅppÄ·p±ÁÇp¸Ä±»À¹p³Àp·¹¹pp»¶p±ÁÇp¿³½·p³pÆ·³pÄ·p±ÁÇp·³Æ»À¹p±ÁÇÄp¿Á¿wÅp¾·¸ÆpÁÈ·Äp¶»ÀÀ·ÄppÁp±ÁÇp¸··¾p¿±pÁÈ·p\n",
      "5\n",
      "d>>>",
      ">>]>a",
      ">>>>",
      ">]>d>>",
      ">>",
      "]>a",
      ">>",
      ">>E>",
      ">",
      ">",
      ">]>d>>",
      "",
      ">>l",
      ">]\n",
      "3\n",
      "Fkf aqw ecvej vjg dwu ? Ctg aqw htakpi cp gii ? Fkf aqw ocmg c vgc? Ctg aqw gcvkpi aqwt oqo'u nghv qxgt fkppgt ? Fq aqw hggn oa Nqxg ?\n",
      "2\n",
      "Did you catch the bus ? Are you frying an egg ? Did you make a tea? Are you eating your mom's left over dinner ? Do you feel my Love ?\n",
      "====================\n",
      "778: Message\n",
      "6\n",
      "Decrypted text: ¦º»À½pÇÄpÅ¿³ÄÆpp©»ÀpµópÆº»ÅpÉ··½p»ÀpÁÇÄpÉ··½¾±pÃÇ»²|pÆ·ÊÆp¢pÆÁp",
      "pÀÁÉq¦vÅp©»ÀÀ·ÄÅ¾Ç´p¢¡p¡ªp|pp§~p{~p¢~",
      "É··½\n",
      "5\n",
      "t>>>]>w>ÁPNN>>",
      "",
      ">>>",
      "",
      ">J>",
      ">pla_>>VSPPP>?tDc>w",
      "c>po>box>VRJ>mPT>Qu`L>OTIL>gbpOLSNM",
      "",
      "\n",
      "3\n",
      "Vjkpm wt uoctv ? Ykp e£200 vjku yggm kp qwt yggmna swkb, vgzv RNCA vq 85222 pqy!V&Eu YkppgtuEnwd RQ DQZ 84, O26 3WB. 16+. IDR1.50/yggm\n",
      "2\n",
      "Think ur smart ? Win c£200 this week in our weekly quiz, text PLAY to 85222 now!T&Cs WinnersClub PO BOX 84, M26 3UZ. 16+. GBP1.50/week\n",
      "====================\n",
      "779: Message\n",
      "6\n",
      "Decrypted text: ³Äp¾ÁÄpÉ³»Æpp¿±p¿Ç¿pp¸»À»ÅºpÅµºpÆº·Àpº³È·p¾ÇÀµºp¾ÁÄ~~~ppÉºÁ¾·p¿ÁÄÀ»À¹pÅÆ³±p³ÆpºÁ¿·pµ¾·³Àp¿±pÄÁÁ¿pÀÁÉp¿±pÄÁÁ¿pÃÇ»Æ·pµ¾·³À~~~p··~~~\n",
      "5\n",
      "_>>>R>>>P>>>",
      ">",
      ">>LLL>i>",
      ">>>>",
      ">",
      ">>>>>>",
      ">",
      "LLL>h",
      "",
      "LLL\n",
      "3\n",
      "Act nqt yckv 4 oa owo 2 hkpkuj uej vjgp jcxg nwpej nqt... K yjqng oqtpkpi uvca cv jqog engcp oa tqqo pqy oa tqqo swkvg engcp... Jgg...\n",
      "2\n",
      "Yar lor wait 4 my mum 2 finish sch then have lunch lor... I whole morning stay at home clean my room now my room quite clean... Hee...\n",
      "====================\n",
      "780: Message\n",
      "6\n",
      "Decrypted text: ·¾¾Á~p©·pÀ··¶pÅÁ¿·pÂÁÅºp´»Ä¶Åp³À¶pµº³ÂÅpÆÁpÇÅ·ÄpÆÄ»³¾pÂÄÁ¶Åp¸ÁÄpµº³¿ÂÀ·±Å~p³Àp»pÂÇÆp±ÁÇp¶ÁÉÀppÀ··¶p±ÁÇÄp³¶¶Ä·ÅÅp³À¶p¶Á´p³Å³Â~p¦³pÄ\n",
      "5\n",
      "h",
      "L>w",
      ">",
      "",
      ">",
      ">>>>>>",
      ">>>>",
      "L>c>>>>]>i>",
      "",
      ">>",
      ">>>L>t>\n",
      "3\n",
      "Jgnnq. Yg pggf uqog rquj dktfu cpf ejcru vq wugt vtkcn rtqfu hqt ejcorpgau. Ecp k rwv aqw fqyp? K pggf aqwt cfftguu cpf fqd cucr. Vc t\n",
      "2\n",
      "Hello. We need some posh birds and chaps to user trial prods for champneys. Can i put you down? I need your address and dob asap. Ta r\n",
      "====================\n",
      "781: Message\n",
      "6\n",
      "Decrypted text: ₀Ň¾¾pº³È·p³p¾ÁÁ½p³ÆpÆº·p¸Ä±»À¹pÂ³Àp»Àpµ³Å·p»Æ₀ŇÅpµº·³ÂpÁÄp³p´ÁÁ½pÂ·Äº³ÂÅ~p ÁpÆº³Æ₀ŇÅpÅ»¾¾±p³p¸Ä±»À¹pÂ³Àp»ÅÀ₀ŇÆp¾»½·¾±pÆÁp´·p³p´ÁÁ½\n",
      "5\n",
      "i⁎_ĕ>",
      ">>>>",
      ">>>>",
      ">⁎_ĕ>",
      ">>>>",
      "L>n>⁎_ĕ>>>>>⁎_ĕ>",
      ">>",
      ">>\n",
      "3\n",
      "K‰A÷nn jcxg c nqqm cv vjg htakpi rcp kp ecug kv‰A÷u ejgcr qt c dqqm rgtjcru. Pq vjcv‰A÷u uknna c htakpi rcp kup‰A÷v nkmgna vq dg c dqqm\n",
      "2\n",
      "I‰Y÷ll have a look at the frying pan in case it‰Y÷s cheap or a book perhaps. No that‰Y÷s silly a frying pan isn‰Y÷t likely to be a book\n",
      "====================\n",
      "782: Message\n",
      "6\n",
      "Decrypted text: ª§¥¨§¥¥p¡¤¡©p",
      "p¥¡¤p¥¢p¡§p©¦p ¡¥p¤¡p¢¤¥~¤p¤¡¥¥ppp¥pqqqp»À¸Ápp\n",
      "5\n",
      "xclusive^clubsaisai>Pmorow>PVMS>soiree>speciale>`ouk>with>nichols>from>parisLfree>roses>P>all>ladies>???>X>NUWRTURTPWOMNUVVNVTUVTU>\n",
      "3\n",
      "ZENWUKXG@ENWDUCKUCK 2OQTQY 28/5 UQKTGG URGEKCNG BQWM YKVJ PKEJQNU HTQO RCTKU.HTGG TQUGU 2 CNN NCFKGU !!! kphq: 07946746291/07880867867 \n",
      "2\n",
      "XCLUSIVE@CLUBSAISAI 2MOROW 28/5 SOIREE SPECIALE ZOUK WITH NICHOLS FROM PARIS.FREE ROSES 2 ALL LADIES !!! info: 07946746291/07880867867 \n",
      "====================\n",
      "783: Message\n",
      "6\n"
     ]
    },
    {
     "name": "stdout",
     "output_type": "stream",
     "text": [
      "Decrypted text: ©·p³Ä·p³Æp¹Ä³À¶¿³Å~p¡ºp¶·³Ä|pÇpÅÆ»¾¾p»¾¾pp¸·¾Æp¥º»ÆpÆº»Åp¿ÁÄÀ»À¹p´ÇÆp»pÆº»À½p»p³¿p¼ÇÅÆpºÇÀ¹ÁÈ·ÄqpÀÁÆº·ÄpÀ»¹ºÆpÆº·À~p©·p¾·³È·pÁÀpÅ³Æ~\n",
      "5\n",
      "w",
      ">",
      ">>L>o>",
      "J>>>]>i>",
      ">s>>>>>>>>>",
      "?>a",
      ">>",
      "L>w",
      ">",
      "",
      ">>L\n",
      "3\n",
      "Yg ctg cv itcpfocu. Qj fgct, w uvknn knn? K hgnv Ujkv vjku oqtpkpi dwv k vjkpm k co lwuv jwpiqxgt! Cpqvjgt pkijv vjgp. Yg ngcxg qp ucv.\n",
      "2\n",
      "We are at grandmas. Oh dear, u still ill? I felt Shit this morning but i think i am just hungover! Another night then. We leave on sat.\n",
      "====================\n",
      "784: Message\n",
      "6\n",
      "Decrypted text: ¥ªpµº³Àµ·ÅpÆÁpÉ»Àp¥qpÄÁ¿ppÆÁp|pÂÁÇÀ¶ÅpÆÊÆp¥p³À¶pÅ·À¶pÆÁp",
      "",
      "~pÁÅÆp",
      "Â¶³±|p¶³±Å|p{p¦Å³À¶Åp³ÂÂ¾±p¤·Â¾±ppp»À¸Á\n",
      "5\n",
      "six>",
      ">>>cash?>f>ONN>>PNJNNN>>\\>cshOO>>",
      ">>VUSUSL>c>OSNMJ>TJ>OTI>tc>>r",
      ">hl>R>\n",
      "3\n",
      "UKZ ejcpegu vq ykp ECUJ! Htqo 100 vq 20,000 rqwpfu vzv> EUJ11 cpf ugpf vq 87575. Equv 150r/fca, 6fcau, 16+ VucpfEu crrna Tgrna JN 4 kphq\n",
      "2\n",
      "SIX chances to win CASH! From 100 to 20,000 pounds txt> CSH11 and send to 87575. Cost 150p/day, 6days, 16+ TsandCs apply Reply HL 4 info\n",
      "====================\n",
      "785: Message\n",
      "6\n",
      "Decrypted text: ÁÇÄpÁÂ»À»ÁÀp³´ÁÇÆp¿·p~p¡È·Äp~p³¶³p~pÇÅÄÇÆº»p~pÁÈ³´¾·p",
      "~p¥»¾·ÀÆp~p¥Â¾pµº³Ä³µÆ·Äp~p ÁÆp¿³ÆÇÄ·¶p~p¥Æ±¾»Åºp~p¥»¿Â¾·p¢¾ÅpÄ·Â¾±~~\n",
      "5\n",
      "_>>>",
      "]>OL>o",
      ">PL>j>QL>k>RL>l",
      ">SL>s",
      ">TL>s>",
      ">UL>n>",
      ">VL>s>WL>s",
      ">p>",
      "LL\n",
      "3\n",
      "Aqwt qrkpkqp cdqwv og? 1. Qxgt 2. Lcfc 3. Mwutwvjk 4. Nqxcdng 5. Ukngpv 6. Urn ejctcevgt 7. Pqv ocvwtgf 8. Uvankuj 9. Ukorng Rnu tgrna..\n",
      "2\n",
      "Your opinion about me? 1. Over 2. Jada 3. Kusruthi 4. Lovable 5. Silent 6. Spl character 7. Not matured 8. Stylish 9. Simple Pls reply..\n",
      "====================\n",
      "786: Message\n",
      "6\n",
      "Decrypted text: ¢¤¨¦qpÁÇÄppµµÁÇÀÆp¥Æ³Æ·¿·ÀÆp¸ÁÄpÅºÁÉÅppÇÀ}Ä·¶··¿·¶p¥~p~p~pÂÁ»ÀÆÅ~p³¾¾p",
      "p¶·ÀÆ»¸»·ÄpÁ¶·p",
      "pÊÂ»Ä·Åp\n",
      "5\n",
      "private?>_>PNNQ>a>s",
      "",
      ">>>VNN>K",
      "",
      "",
      "",
      ">sL>iL>mL>L>c>NVUOSPNQTWR>i",
      "",
      ">c",
      "X>RNSQQ>e",
      ">QOMONMNR\n",
      "3\n",
      "RTKXCVG! Aqwt 2003 Ceeqwpv Uvcvgogpv hqt ujqyu 800 wp-tgfggogf U. K. O. rqkpvu. Ecnn 08715203694 Kfgpvkhkgt Eqfg: 40533 Gzrktgu 31/10/04\n",
      "2\n",
      "PRIVATE! Your 2003 Account Statement for shows 800 un-redeemed S. I. M. points. Call 08715203694 Identifier Code: 40533 Expires 31/10/04\n",
      "====================\n",
      "787: Message\n",
      "6\n",
      "Decrypted text: ÁÇÄpÁÂ»À»ÁÀp³´ÁÇÆp¿·p~p¡È·Äp~p³¶³p~pÇÅÄÇÆº»p~pÁÈ³´¾·p",
      "~p¥»¾·ÀÆp~p¥Â¾pµº³Ä³µÆ·Äp~p ÁÆp¿³ÆÇÄ·¶p~p¥Æ±¾»Åºp~p¥»¿Â¾·p¢¾ÅpÄ·Â¾±~~\n",
      "5\n",
      "_>>>",
      "]>OL>o",
      ">PL>j>QL>k>RL>l",
      ">SL>s",
      ">TL>s>",
      ">UL>n>",
      ">VL>s>WL>s",
      ">p>",
      "LL\n",
      "3\n",
      "Aqwt qrkpkqp cdqwv og? 1. Qxgt 2. Lcfc 3. Mwutwvjk 4. Nqxcdng 5. Ukngpv 6. Urn ejctcevgt 7. Pqv ocvwtgf 8. Uvankuj 9. Ukorng Rnu tgrna..\n",
      "2\n",
      "Your opinion about me? 1. Over 2. Jada 3. Kusruthi 4. Lovable 5. Silent 6. Spl character 7. Not matured 8. Stylish 9. Simple Pls reply..\n",
      "====================\n",
      "788: Message\n",
      "6\n",
      "Decrypted text: ³»p³À³pÆÁ¿³ÄÄÁÉp³¿pµÁ¿»À¹pÁÀp¿ÁÄÀ»À¹~ppv¾Æv¹Æpp»¾¾p´·pÆº·Ä·p»ÀpÅ³Æº±pÆº·ÀpÉ·p¾¾p¹ÁpÆÁp¤¦¡pÁ¸¸»µ·~p¤·Â¾±p¿·p³¸Æ·Äpµ³¿·pÆÁpºÁ¿·~\n",
      "5\n",
      "h>>>>>>L>>DYdecimalDY>>>",
      ">",
      "",
      ">>>",
      ">",
      ">>>>rto>",
      "L>r",
      ">",
      ">",
      ">",
      ">>",
      "L\n",
      "3\n",
      "Jck cpc vqocttqy co eqokpi qp oqtpkpi.  &nv;FGEKOCN&iv;  knn dg vjgtg kp ucvja vjgp yg nn iq vq TVQ qhhkeg. Tgrna og chvgt ecog vq jqog.\n",
      "2\n",
      "Hai ana tomarrow am coming on morning.  &lt;DECIMAL&gt;  ill be there in sathy then we ll go to RTO office. Reply me after came to home.\n",
      "====================\n",
      "789: Message\n",
      "6\n",
      "Decrypted text: ©»¾¾pÇp¿··ÆpÇÄp¶Ä·³¿pÂ³ÄÆÀ·ÄpÅÁÁÀpÅpÇÄpµ³Ä··ÄpÁ¸¸pp³p¸¾±À¹pÅÆ³ÄÆpp¸»À¶pÁÇÆp¸Ä··|pÆÊÆp¡¤¡p¸Á¾¾ÁÉ·¶p´±pÇÄpÅÆ³ÄpÅ»¹À|p·~p¹~p¡¤¡p¤¥\n",
      "5\n",
      "w>>",
      "",
      ">>",
      ">",
      ">]>i>>",
      "",
      ">>P>>>]>P>>>",
      "",
      "J>>horo>",
      ">>>>J>",
      "L>L>horo>aries\n",
      "3\n",
      "Yknn w oggv wt ftgco rctvpgt uqqp? Ku wt ectggt qhh 2 c hnapi uvctv? 2 hkpf qwv htgg, vzv JQTQ hqnnqygf da wt uvct ukip, g. i. JQTQ CTKGU\n",
      "2\n",
      "Will u meet ur dream partner soon? Is ur career off 2 a flyng start? 2 find out free, txt HORO followed by ur star sign, e. g. HORO ARIES\n",
      "====================\n",
      "790: Message\n",
      "6\n",
      "Decrypted text: §¤ ¦qpÁÇÄpÁ´»¾·pÀÇ¿´·Äpº³Åp´··Àp³É³Ä¶·¶pÉ»Æºp³pµópÂÄ»²·p§¤ ¦~p³¾¾p",
      "",
      "",
      "p¸ÄÁ¿p¾³À¶p¾»À·~p¾³»¿p~p¨³¾»¶pºÄÅpÁÀ¾±\n",
      "5\n",
      "urgent?>_>m",
      ">",
      ">>",
      "",
      ">",
      ">>>ÁPNNN>",
      ">guaranteedL>c>NWNSVNWRRSS>>>",
      "L>c>QNQNL>v>OP>\n",
      "3\n",
      "WTIGPV! Aqwt Oqdkng pwodgt jcu dggp cyctfgf ykvj c e£2000 rtkbg IWCTCPVGGF. Ecnn 09058094455 htqo ncpf nkpg. Encko 3030. Xcnkf 12jtu qpna\n",
      "2\n",
      "URGENT! Your Mobile number has been awarded with a c£2000 prize GUARANTEED. Call 09058094455 from land line. Claim 3030. Valid 12hrs only\n",
      "====================\n",
      "791: Message\n",
      "6\n",
      "Decrypted text: ·p¾»½·pÀÁÆpÈpÅºÁµ½p¾·º~pÁÅpÆ·¾¾»À¹pÅºÇºÇ»p»Åp¾»½·pÆ·¾¾»À¹p¾·ÁÀ³p³¾ÅÁ~p»½·p¶³Æp³¾¿ÁÅÆp³¾¾p½ÀÁÉp¾»³Á~p·p¹ÁÆp³Å½p¿·p³´ÆpÇÄpÄ·³µÆ»ÁÀp¾ÁÄ~\n",
      "5\n",
      "h",
      ">",
      ">>>>",
      "L>c>",
      ">>>",
      ">",
      ">",
      ">L>l",
      ">>>>>L>h",
      ">>>",
      ">>>",
      ">L\n",
      "3\n",
      "Jg nkmg pqv x ujqem ngj. Equ vgnnkpi ujwjwk ku nkmg vgnnkpi ngqpc cnuq. Nkmg fcv cnoquv cnn mpqy nkcq. Jg iqv cum og cdv wt tgcevkqp nqt.\n",
      "2\n",
      "He like not v shock leh. Cos telling shuhui is like telling leona also. Like dat almost all know liao. He got ask me abt ur reaction lor.\n",
      "====================\n",
      "792: Message\n",
      "6\n",
      "Decrypted text: È·ÀpÇp¶ÁÀÆp¹·Æp»ÀpÆÄÁÇ´¾·pÉº»¾·pµÁÀÈ»Àµ»À¹~~¼ÇÅÆpÆ·¾pº»¿pÁÀµ·pÁÄpÆÉ»µ·p³À¶p¼ÇÅÆpÆ·¾pÀ·¹¾·µÆpº»Åp¿Å¹Åp¶ÁÀÆpµp³À¶pÄ·³¶p»Æ~~¼ÇÅÆp¶ÁÀÆpÄ·Â¾±\n",
      "5\n",
      "e",
      ">>>",
      ">>",
      ">",
      ">LL>",
      ">>",
      ">>",
      ">>>",
      ">",
      "",
      ">>>>>>",
      ">LL>>",
      "\n",
      "3\n",
      "Gxgp w fqpv igv kp vtqwdng yjkng eqpxkpekpi..lwuv vgn jko qpeg qt vykeg cpf lwuv vgn pgingev jku ouiu fqpv e cpf tgcf kv..lwuv fqpv tgrna\n",
      "2\n",
      "Even u dont get in trouble while convincing..just tel him once or twice and just tel neglect his msgs dont c and read it..just dont reply\n",
      "====================\n",
      "793: Message\n",
      "6\n",
      "Decrypted text: Á¾pp½ÀÁÉqp¦º·±wÄ·pÅÁp¶Ä³¿³Æ»µ~p¥µºÁÁ¾Åp³¾Ä·³¶±pµ¾ÁÅ·¶p¸ÁÄpÆÁ¿ÁÄÄÁÉ~pÂÂ³Ä·ÀÆ¾±pÉ·pµ³ÀwÆp¶Ä»È·p»ÀpÆº·p»ÀµºpÁ¸pÅÀÁÉpÉ·Ä·pÅÇÂÂÁÅ·¶pÆÁp¹·Æ~\n",
      "5\n",
      "l>i>?>t",
      "E",
      ">>L>s>",
      ">",
      ">>L>a",
      ">",
      ">E>",
      ">>",
      ">>>>",
      "",
      ">",
      ">>",
      "L\n",
      "3\n",
      "Nqn K mpqy! Vjga'tg uq ftcocvke. Uejqqnu cntgcfa enqugf hqt vqoqttqy. Crrctgpvna yg ecp'v ftkxg kp vjg kpej qh upqy ygtg uwrrqugf vq igv.\n",
      "2\n",
      "Lol I know! They're so dramatic. Schools already closed for tomorrow. Apparently we can't drive in the inch of snow were supposed to get.\n",
      "====================\n",
      "794: Message\n",
      "6\n",
      "Decrypted text: ¥ÇÀÅº»À·p£Ç»²p©½¾±p£qp©»Àp³pÆÁÂp¥ÁÀ±p¨pÂ¾³±·Äp»¸pÇp½ÀÁÉpÉº»µºpµÁÇÀÆÄ±p»È·ÄÂÁÁ¾pÂ¾³±·¶p»Àp¿»¶pÉ··½p¦ÊÆp³ÀÅÄpÆÁp~pµó~",
      "p¥¢¦±ÄÁÀ·\n",
      "5\n",
      "s",
      ">q>w>q?>w>>>s>dvd>",
      ">>>>>>l",
      ">",
      ">>>",
      "",
      "]>t>>>VPPUUL>ÁOLSN>spXt",
      "\n",
      "3\n",
      "Uwpujkpg Swkb Ymna S! Ykp c vqr Uqpa FXF rncagt kh w mpqy yjkej eqwpvta Nkxgtrqqn rncagf kp okf yggm? Vzv cput vq 82277. e£1.50 UR:Vatqpg\n",
      "2\n",
      "Sunshine Quiz Wkly Q! Win a top Sony DVD player if u know which country Liverpool played in mid week? Txt ansr to 82277. c£1.50 SP:Tyrone\n",
      "====================\n",
      "795: Message\n",
      "6\n",
      "Decrypted text: §Äpµ³Åº}´³¾³Àµ·p»ÅpµÇÄÄ·ÀÆ¾±p",
      "pÂÁÇÀ¶Åp}pÆÁp¿³Ê»¿»²·pÇÄpµ³Åº}»ÀpÀÁÉpÅ·À¶p¡pÆÁppÁÀ¾±p",
      "Â¿Å¹~ppp¢¡p¡ªpp¦¤©\n",
      "5\n",
      "u>K",
      ">>",
      ">SNN>>K>>",
      ">>K>>",
      ">go>>VTTVV>>OSNML>ccX>NVUOVUPNPNO>po>box>OORMOR>tcrMwO\n",
      "3\n",
      "Wt ecuj-dcncpeg ku ewttgpvna 500 rqwpfu - vq oczkokbg wt ecuj-kp pqy ugpf IQ vq 86688 qpna 150r/oui. EE: 08718720201 RQ DQZ 114/14 VET/Y1\n",
      "2\n",
      "Ur cash-balance is currently 500 pounds - to maximize ur cash-in now send GO to 86688 only 150p/msg. CC: 08718720201 PO BOX 114/14 TCR/W1\n",
      "====================\n",
      "796: Message\n",
      "6\n",
      "Decrypted text: ¦º·Á´pº·µ½pÁÇÆpÁÇÄpÀ·É·ÅÆpÅ·¾·µÆ»ÁÀpÁ¸pµÁÀÆ·ÀÆ|p³¿·Å|p¦ÁÀ·Å|pÁÅÅ»Â|p´³´·Åp³À¶pÅÂÁÄÆ|p··Âp±ÁÇÄp¿Á´»¾·p¸»Æp³À¶p¸ÇÀ½±pÆ·ÊÆp©¢pÆÁp\n",
      "5\n",
      "t",
      "m\\>c",
      ">>>",
      "",
      ">",
      "",
      ">>",
      "J>g",
      "J>t",
      "J>gJ>",
      ">>J>k",
      "",
      ">>",
      ">>>>",
      ">wap>>VPRTV\n",
      "3\n",
      "VjgOqd> Ejgem qwv qwt pgyguv ugngevkqp qh eqpvgpv, Icogu, Vqpgu, Iquukr, dcdgu cpf urqtv, Mggr aqwt oqdkng hkv cpf hwpma vgzv YCR vq 82468\n",
      "2\n",
      "TheMob> Check out our newest selection of content, Games, Tones, Gossip, babes and sport, Keep your mobile fit and funky text WAP to 82468\n",
      "====================\n",
      "797: Message\n",
      "6\n",
      "Decrypted text: ¡½~pÈ·Ä±pÀ»¹ºÆpÆ³½·p³pÉ³Ä¿p´³Æºp¶Ä»À½p³pµÇÂpÁ¸p¿»¾½p³À¶p±ÁÇw¾¾pÅ··p³pÉÁÄ½pÁ¸p¿³¹»µ~pÁÇpÅÆ»¾¾pÀ··¶pÆÁp¾ÁÁÅ·pÉ·»¹ºÆ~pÇÅÆpÅÁpÆº³Æp±ÁÇp½ÀÁÉ\n",
      "5\n",
      "oL>e",
      ">>",
      ">>>>>>>>>>E>",
      "",
      ">>>>L>_>>",
      "",
      ">>",
      ">",
      "L>j>>>>\n",
      "3\n",
      "Qm. Gxgta pkijv vcmg c ycto dcvj ftkpm c ewr qh oknm cpf aqw'nn ugg c yqtm qh ocike. Aqw uvknn pggf vq nqqug ygkijv. Lwuv uq vjcv aqw mpqy\n",
      "2\n",
      "Ok. Every night take a warm bath drink a cup of milk and you'll see a work of magic. You still need to loose weight. Just so that you know\n",
      "====================\n",
      "798: Message\n",
      "6\n",
      "Decrypted text: ¢¾·³Å·pµ³¾¾pÁÇÄpµÇÅÆÁ¿·ÄpÅ·ÄÈ»µ·pÄ·ÂÄ·Å·ÀÆ³Æ»È·pÁÀpppp´·ÆÉ··Àp³¿}Â¿p³Åp±ÁÇpº³È·p©¡ p³p¹Ç³Ä³ÀÆ··¶pµópµ³ÅºpÁÄpµó",
      "pÂÄ»²·q\n",
      "5\n",
      "p",
      "",
      ">>>",
      ">",
      "",
      ">",
      "",
      "",
      "",
      ">>NVNN>OTW>TNQO>",
      "",
      "",
      ">ONKW>>>",
      ">won>>",
      "",
      ">ÁONNN>>>ÁSNNN>",
      "?\n",
      "3\n",
      "Rngcug ecnn qwt ewuvqogt ugtxkeg tgrtgugpvcvkxg qp 0800 169 6031 dgvyggp 10co-9ro cu aqw jcxg YQP c iwctcpvggf e£1000 ecuj qt e£5000 rtkbg!\n",
      "2\n",
      "Please call our customer service representative on 0800 169 6031 between 10am-9pm as you have WON a guaranteed c£1000 cash or c£5000 prize!\n",
      "====================\n",
      "799: Message\n",
      "6\n",
      "Decrypted text: ¦³¾½p©»ÆºpÁÇÄÅ·¾¸pÆ¾·³ÅÆp¡Àµ·pÀpp³±~~~qqqp¡Æº·ÄÉ»Å·pÁÇp©»¾¾p»ÅÅpÁÇÄp·ÅÆp¤ pÀp¦º»Åp©¡¤~~~qqqp}¥º³½·ÅÂ·³Ä·}p¥¥ppv¾Æsv¹Æ\n",
      "5\n",
      "t>w>_",
      ">a",
      ">o",
      ">i>a>dLLL???>o",
      "",
      ">_>w>m>_>b",
      ">friend>i>t>worldLLL???>Ks",
      "",
      "",
      "K>shesil>>DYADY\n",
      "3\n",
      "Vcnm Ykvj Aqwtugnh Cvngcuv Qpeg Kp C Fca...!!! Qvjgtykug Aqw Yknn Okuu Aqwt Dguv HTKGPF Kp Vjku YQTNF...!!! -Ujcmgurgctg- UJGUKN  &nv;#&iv;\n",
      "2\n",
      "Talk With Yourself Atleast Once In A Day...!!! Otherwise You Will Miss Your Best FRIEND In This WORLD...!!! -Shakespeare- SHESIL  &lt;#&gt;\n",
      "====================\n",
      "800: Message\n",
      "6\n",
      "Decrypted text: ÄÀ¹¶p¿³ÄÄ»³¹·p»ÅpÉº»¾·pÇpÄpÉ³¾½»ÀpÇÀ¸ÁÄÆÇÀÆ¾±p³pÅÀ³½·p´»Æ·ÅpÇ~p´Æp¾ÁÈ·p¿³ÄÄ»³¹·p»Åp¶³Àµ»À¹p»Àp¸ÄÀÆpÁ¸p¶pÅÀ³½·pv³¿ÂpÅ³±»Àp»Æ·p¿·|p´»Æ·p¿·~\n",
      "5\n",
      "a>",
      ">>",
      ">>>>>>",
      ">",
      ">L>>",
      ">",
      ">>>>>>>",
      ">DY>>b",
      ">",
      "J>",
      ">",
      "L\n",
      "3\n",
      "Ctpif octtkcig ku yjkng w t ycnmkp wphqtvwpvna c upcmg dkvgu w. dv nqxg octtkcig ku fcpekpi kp htpv qh f upcmg &cor; ucakp Dkvg og, dkvg og.\n",
      "2\n",
      "Arngd marriage is while u r walkin unfortuntly a snake bites u. bt love marriage is dancing in frnt of d snake &amp; sayin Bite me, bite me.\n",
      "====================\n"
     ]
    }
   ],
   "source": [
    "for k in range(0,801):\n",
    "    print(str(k) + \": Message\")\n",
    "    if(openSource==\"6\"):\n",
    "        print(\"6\")\n",
    "        with open('D:\\\\YahyaWork\\\\'+ str(k) +'6text.pickle', 'rb') as f:\n",
    "                encrypted_text = pickle.load(f)\n",
    "        with open('D:\\\\YahyaWork\\\\'+ str(k) +'6key.pickle', 'rb') as f:\n",
    "                key = pickle.load(f)\n",
    "        decryptor_aes = TextDecryptorAES(key)\n",
    "        decrypted_text = decryptor_aes.decrypt_text(encrypted_text)\n",
    "        print(\"Decrypted text:\", decrypted_text)\n",
    "            \n",
    "    if(openSource==\"7\"):\n",
    "        print(\"7\")\n",
    "        with open('D:\\\\YahyaWork\\\\'+ str(k) +'7key.key', 'rb') as f:\n",
    "                key = f.read()\n",
    "        with open('D:\\\\YahyaWork\\\\'+ str(k) +'7Text.txt', 'rb') as f:\n",
    "                encrypted_text = f.read()\n",
    "        decryptor = TextDecryptor(key)\n",
    "        decrypted_text = decryptor.decrypt_text(encrypted_text)\n",
    "        print(\"Decrypted text:\", decrypted_text)\n",
    "\n",
    "    if(openSource==\"8\"):\n",
    "        print(\"8\")\n",
    "        with open('D:\\\\YahyaWork\\\\'+ str(k) +'8Text.pickle', 'rb') as f:\n",
    "              encrypted_text = pickle.load(f)\n",
    "        with open('D:\\\\YahyaWork\\\\'+ str(k) +'8key.pickle', 'rb') as f:\n",
    "              key = pickle.load(f)\n",
    "        decryptor_salsa20 = TextDecryptorSalsa20(key)\n",
    "        decrypted_text = decryptor_salsa20.decrypt_text(encrypted_text)\n",
    "        print(\"Decrypted text:\", decrypted_text)\n",
    "\n",
    "    if (openSource==\"9\"):\n",
    "        print(\"9\")\n",
    "        with open('D:\\\\YahyaWork\\\\'+ str(k) +'9text.pickle', 'rb') as f:\n",
    "            encrypted_message = pickle.load(f)\n",
    "        with open('D:\\\\YahyaWork\\\\'+ str(k) +'9key.pickle', 'rb') as f:\n",
    "            key = pickle.load(f)\n",
    "\n",
    "        decryptor = pyaesDecryptor(key)\n",
    "        decrypted_text = decryptor.decrypt_message(encrypted_message)\n",
    "        print(\"Decrypted message:\", decrypted_text)\n",
    "\n",
    "    for i in range(0, len(customizedTechniques)):\n",
    "        #print(customizedTechniques[i])\n",
    "        if(customizedTechniques[i]==\"1\"):\n",
    "            print(\"1\")\n",
    "            decrypted_text = decryptReplace1234(decrypted_text)\n",
    "            print(decrypted_text)\n",
    "        if(customizedTechniques[i]==\"2\"):\n",
    "            print(\"2\")\n",
    "            decrypted_text = decryptReplace12(decrypted_text)\n",
    "            print(decrypted_text)\n",
    "        if(customizedTechniques[i]==\"3\"):\n",
    "            print(\"3\")\n",
    "            decrypted_text = decryptUnicode30(decrypted_text)\n",
    "            print(decrypted_text)\n",
    "        \n",
    "        if(customizedTechniques[i]==\"4\"):\n",
    "            print(\"4\")\n",
    "            decrypted_text = str(decrypted_text)[::-1]\n",
    "            print(decrypted_text)\n",
    "        if(customizedTechniques[i]==\"5\"):\n",
    "            print(\"5\")\n",
    "            decrypted_text = decryptUnicode50(decrypted_text)\n",
    "            print(decrypted_text)\n",
    "    print(\"====================\")"
   ]
  },
  {
   "cell_type": "code",
   "execution_count": null,
   "id": "84b25a2f",
   "metadata": {},
   "outputs": [],
   "source": []
  },
  {
   "cell_type": "code",
   "execution_count": null,
   "id": "d24f0307",
   "metadata": {},
   "outputs": [],
   "source": []
  },
  {
   "cell_type": "code",
   "execution_count": null,
   "id": "7c72ed81",
   "metadata": {},
   "outputs": [],
   "source": []
  },
  {
   "cell_type": "code",
   "execution_count": null,
   "id": "b8f21e1c",
   "metadata": {},
   "outputs": [],
   "source": []
  }
 ],
 "metadata": {
  "kernelspec": {
   "display_name": "Python 3 (ipykernel)",
   "language": "python",
   "name": "python3"
  },
  "language_info": {
   "codemirror_mode": {
    "name": "ipython",
    "version": 3
   },
   "file_extension": ".py",
   "mimetype": "text/x-python",
   "name": "python",
   "nbconvert_exporter": "python",
   "pygments_lexer": "ipython3",
   "version": "3.8.13"
  }
 },
 "nbformat": 4,
 "nbformat_minor": 5
}
