{
 "cells": [
  {
   "cell_type": "code",
   "execution_count": 99,
   "id": "3911ea38",
   "metadata": {},
   "outputs": [
    {
     "name": "stdout",
     "output_type": "stream",
     "text": [
      "Enter the integer of 2, 3 or 4 digits and each digit should be in between 1 to 5: 235\n",
      "The integer 235 meets the specified criteria.\n",
      "Enter an integer of single digit in between 6 to 9 6\n",
      "The integer 6 is within the specified range.\n"
     ]
    }
   ],
   "source": [
    "def check_integer(num):\n",
    "    num_str = str(num)\n",
    "    if len(num_str) in [1, 2, 3]:\n",
    "        for digit in num_str:\n",
    "            if not (1 <= int(digit) <= 5):\n",
    "                return False\n",
    "        return True\n",
    "    return False\n",
    "\n",
    "# Read one integer from the user\n",
    "cTechniques = int(input(\"Enter the integer of 2, 3 or 4 digits and each digit should be in between 1 to 5: \"))\n",
    "\n",
    "# Check if the integer meets the criteria\n",
    "if check_integer(cTechniques):\n",
    "    print(f\"The integer {cTechniques} meets the specified criteria.\")\n",
    "else:\n",
    "    print(f\"The integer {cTechniques} does not meet the specified criteria.\")\n",
    "    raise ValueError(\"Rules not followed\")\n",
    "# Read a single integer from the user\n",
    "oSource = int(input(\"Enter an integer of single digit in between 6 to 9 \"))\n",
    "\n",
    "# Check if the integer falls within the range 6 to 9\n",
    "if 6 <= oSource <= 9:\n",
    "    print(f\"The integer {oSource} is within the specified range.\")\n",
    "else:\n",
    "    print(f\"The integer {oSource} is not within the specified range.\")\n",
    "    raise ValueError(\"Rules not followed\")\n",
    "#encrypted_text=input(\"Enter Secrete Message\")"
   ]
  },
  {
   "cell_type": "code",
   "execution_count": 100,
   "id": "2b9c04ca",
   "metadata": {},
   "outputs": [
    {
     "name": "stdout",
     "output_type": "stream",
     "text": [
      "                                               Message  Original Characters\n",
      "0                                                  Yup                    3\n",
      "1                                                 Ok..                    4\n",
      "2                                              Okie...                    7\n",
      "3                                              Where @                    7\n",
      "4                                             Thanx...                    8\n",
      "..                                                 ...                  ...\n",
      "796  TheMob> Check out our newest selection of cont...                  138\n",
      "797  Ok. Every night take a warm bath drink a cup o...                  138\n",
      "798  Please call our customer service representativ...                  139\n",
      "799  I can't download it. One of the cheapest appli...                 8126\n",
      "800  Arngd marriage is while u r walkin unfortuntly...                 1780\n",
      "\n",
      "[801 rows x 2 columns]\n"
     ]
    }
   ],
   "source": [
    "import pandas as pd\n",
    "df = pd.read_excel('D:\\YahyaData\\inputData\\SMSforEncryption.xlsx')\n",
    "print(df)"
   ]
  },
  {
   "cell_type": "code",
   "execution_count": 101,
   "id": "0b0a9187",
   "metadata": {},
   "outputs": [
    {
     "name": "stdout",
     "output_type": "stream",
     "text": [
      "All files in D:\\YahyaWork have been deleted.\n"
     ]
    }
   ],
   "source": [
    "from cryptography.hazmat.primitives.ciphers import Cipher, algorithms, modes\n",
    "from cryptography.hazmat.backends import default_backend\n",
    "from cryptography.hazmat.primitives import padding\n",
    "import secrets\n",
    "import pickle\n",
    "import pyaes\n",
    "import os\n",
    "\n",
    "\n",
    "class pyaesEncryptor:\n",
    "    def __init__(self):\n",
    "        self.key = os.urandom(16)  # Generating a random 16-byte key\n",
    "\n",
    "    def encrypt_message(self, message):\n",
    "        aes = pyaes.AESModeOfOperationCTR(self.key)\n",
    "        ciphertext = aes.encrypt(message.encode())\n",
    "        return ciphertext, self.key\n",
    "\n",
    "class TextEncryptorAES:\n",
    "    def __init__(self, key=None):\n",
    "        if key:\n",
    "            self.key = key\n",
    "        else:\n",
    "            self.key = secrets.token_bytes(32)\n",
    "\n",
    "    def encrypt_text(self, text):\n",
    "        padder = padding.PKCS7(128).padder()\n",
    "        padded_data = padder.update(text.encode()) + padder.finalize()\n",
    "        cipher = Cipher(algorithms.AES(self.key), modes.ECB(), backend=default_backend())\n",
    "        encryptor = cipher.encryptor()\n",
    "        encrypted_text = encryptor.update(padded_data) + encryptor.finalize()\n",
    "        return encrypted_text, self.key\n",
    "\n",
    "\n",
    "from cryptography.fernet import Fernet\n",
    "\n",
    "class fernetTextEncryptor:\n",
    "    def __init__(self, key=None):\n",
    "        if key:\n",
    "            self.key = key\n",
    "        else:\n",
    "            self.key = Fernet.generate_key()\n",
    "\n",
    "    def get_key(self):\n",
    "        return self.key\n",
    "\n",
    "    def encrypt_text(self, text):\n",
    "        fernet = Fernet(self.key)\n",
    "        encrypted_text = fernet.encrypt(text.encode())\n",
    "        return encrypted_text\n",
    "\n",
    "\n",
    "import pickle\n",
    "import nacl.secret\n",
    "import nacl.utils\n",
    "\n",
    "class TextEncryptorSalsa20:\n",
    "    def __init__(self):\n",
    "        self.key = nacl.utils.random(nacl.secret.SecretBox.KEY_SIZE)\n",
    "\n",
    "    def encrypt_text(self, text):\n",
    "        box = nacl.secret.SecretBox(self.key)\n",
    "        encrypted = box.encrypt(text.encode())\n",
    "        return encrypted, self.key\n",
    "import os\n",
    "import shutil\n",
    "\n",
    "folder_path = \"D:\\\\YahyaWork\"  # Specify the path to your folder\n",
    "\n",
    "# Check if the folder exists\n",
    "if os.path.exists(folder_path):\n",
    "    # Iterate over the files in the folder and delete them\n",
    "    for filename in os.listdir(folder_path):\n",
    "        file_path = os.path.join(folder_path, filename)\n",
    "        try:\n",
    "            if os.path.isfile(file_path):\n",
    "                os.unlink(file_path)\n",
    "            # If you want to delete the folder itself, uncomment the following lines\n",
    "            # elif os.path.isdir(file_path):\n",
    "            #     shutil.rmtree(file_path)\n",
    "        except Exception as e:\n",
    "            print(f\"Failed to delete {file_path}. Reason: {e}\")\n",
    "    print(f\"All files in {folder_path} have been deleted.\")\n",
    "else:\n",
    "    print(f\"The specified folder {folder_path} does not exist.\")\n",
    "def calculate_embedding_efficiency(secret_data, stego_list):\n",
    "    embedded_data_capacity = len(text_to_binary(secret_data))\n",
    "    return embedded_data_capacity / len(stego_list)\n",
    "def text_to_binary(text):\n",
    "    binary_string = ''.join(format(ord(char), '08b') for char in text)\n",
    "    return binary_string\n",
    "    "
   ]
  },
  {
   "cell_type": "code",
   "execution_count": 102,
   "id": "edd89104",
   "metadata": {},
   "outputs": [
    {
     "name": "stdout",
     "output_type": "stream",
     "text": [
      "5\n",
      "3\n",
      "2\n",
      " .  .  .  .  .  . \n",
      " .  .  .  .  . \n",
      " .  .  . \n",
      " .  . \n",
      "\n",
      "HybrideKey Saved as Image, and receiver knows its pattern\n"
     ]
    }
   ],
   "source": [
    "dots=str(cTechniques)\n",
    "s=\"\"\n",
    "for i in range(int(oSource),0,-1):\n",
    "    s=s+\" . \"\n",
    "s=s+\"\\n\"\n",
    "for i in range(len(dots)-1,-1,-1):\n",
    "    print(dots[i])\n",
    "    for j in range(0,int(dots[i])):\n",
    "        s=s+\" . \"\n",
    "    s=s+\"\\n\"\n",
    "\n",
    "print(s)\n",
    "from PIL import Image, ImageDraw, ImageFont\n",
    "image = Image.new('RGB', (300, 200), color='white')\n",
    "draw = ImageDraw.Draw(image)\n",
    "font = ImageFont.truetype(\"arial.ttf\", 20)\n",
    "draw.text((16, 30), s, fill='black', font=font)\n",
    "image.save('D://YahyaWork//hybrideKey.png')\n",
    "print(\"HybrideKey Saved as Image, and receiver knows its pattern\")"
   ]
  },
  {
   "cell_type": "code",
   "execution_count": 103,
   "id": "be9c9371",
   "metadata": {},
   "outputs": [],
   "source": [
    "def encryptReplace1234(message):\n",
    "    # Pad the message with spaces if its length is not a multiple of 4\n",
    "    message = message.ljust((len(message) + 3) // 4 * 4)\n",
    "\n",
    "    encrypted_message = \"\"\n",
    "    for i in range(0, len(message), 4):\n",
    "        group = message[i:i+4]\n",
    "\n",
    "        # Swap the first and third characters, and the second and fourth characters\n",
    "        swapped_group = group[2] + group[3] + group[0] + group[1]\n",
    "\n",
    "        encrypted_message += swapped_group\n",
    "\n",
    "    return encrypted_message\n",
    "def encryptReplace12(message):\n",
    "    encrypted_message = \"\"\n",
    "    for i in range(0, len(message), 2):\n",
    "        pair = message[i:i+2]\n",
    "        encrypted_pair = \"\"\n",
    "\n",
    "        for char in pair:\n",
    "            if char.isalpha():\n",
    "                # Encrypt only alphabetic characters\n",
    "                if char.isupper():\n",
    "                    encrypted_char = chr((ord(char) - ord('A' ) + 2) % 26 + ord('A'))\n",
    "                else:\n",
    "                    encrypted_char = chr((ord(char) - ord('a' ) + 2) % 26 + ord('a'))\n",
    "                encrypted_pair += encrypted_char\n",
    "            else:\n",
    "                # Keep non-alphabetic characters unchanged\n",
    "                encrypted_pair += char\n",
    "\n",
    "        encrypted_message += encrypted_pair\n",
    "\n",
    "    return encrypted_message\n",
    "def encryptUnicode30(text):\n",
    "    encrypted_text = ''.join(chr(ord(char) + 30) for char in text)  # Example: Shift each character by 100 Unicode code points\n",
    "    return encrypted_text\n",
    "\n",
    "def encryptUnicode50(text):\n",
    "    encrypted_text = ''.join(chr(ord(char) + 50) for char in text)  # Example: Shift each character by 50 Unicode code points\n",
    "    return encrypted_text\n",
    "customizedTechniques=str(cTechniques)\n"
   ]
  },
  {
   "cell_type": "code",
   "execution_count": 104,
   "id": "412c0767",
   "metadata": {},
   "outputs": [
    {
     "name": "stdout",
     "output_type": "stream",
     "text": [
      "3\n"
     ]
    }
   ],
   "source": [
    "messages=df['Message']\n",
    "print(len(messages[0]))\n",
    "#print(messages)\n",
    "#for k in range (len(messages)):\n",
    "#   encrypted_text=messages[k]\n",
    "#   print(encrypted_text)"
   ]
  },
  {
   "cell_type": "code",
   "execution_count": 105,
   "id": "d8d56500",
   "metadata": {},
   "outputs": [
    {
     "data": {
      "text/plain": [
       "'235'"
      ]
     },
     "execution_count": 105,
     "metadata": {},
     "output_type": "execute_result"
    }
   ],
   "source": [
    "customizedTechniques"
   ]
  },
  {
   "cell_type": "code",
   "execution_count": 106,
   "id": "a16090b9",
   "metadata": {},
   "outputs": [
    {
     "name": "stdout",
     "output_type": "stream",
     "text": [
      "0Yup\n",
      "customizedTechniques-2\n",
      "Awr\n",
      "Length: 3\n",
      "customizedTechniques-3\n",
      "_\n",
      "Length: 3\n",
      "customizedTechniques-5\n",
      "ÇÂ\n",
      "Length: 3\n",
      "OpenSourceTechniques-6\n",
      "b'\\xee\\xdd\\xa5\\x1b\\x8e\\xf1\\xfc\\x91N\\x9c\\x07)o\\xdd\\xff\\x1f'\n",
      "Length: 16\n",
      "Embedding Efficiency: 1.5\n",
      "==============\n",
      "1Ok..\n",
      "customizedTechniques-2\n",
      "Qm..\n",
      "Length: 4\n",
      "customizedTechniques-3\n",
      "oLL\n",
      "Length: 4\n",
      "customizedTechniques-5\n",
      "¡½~~\n",
      "Length: 4\n",
      "OpenSourceTechniques-6\n",
      "b'\\x99\\x0b\\x8c\\xc2:\\\\\\x1cS\\xbf\\xc61A\\x13i.\\xf6'\n",
      "Length: 16\n",
      "Embedding Efficiency: 2.0\n",
      "==============\n",
      "2Okie...\n",
      "customizedTechniques-2\n",
      "Qmkg...\n",
      "Length: 7\n",
      "customizedTechniques-3\n",
      "o",
      "LLL\n",
      "Length: 7\n",
      "customizedTechniques-5\n",
      "¡½»·~~~\n",
      "Length: 7\n",
      "OpenSourceTechniques-6\n",
      "b'\\x96\\x86\\xb4j\\xf1\\xc5w%Fy\\x85g\\x93\\x17\\xb40'\n",
      "Length: 16\n",
      "Embedding Efficiency: 3.5\n",
      "==============\n",
      "3Where @\n",
      "customizedTechniques-2\n",
      "Yjgtg @\n",
      "Length: 7\n",
      "customizedTechniques-3\n",
      "w",
      "",
      ">^\n",
      "Length: 7\n",
      "customizedTechniques-5\n",
      "©º·Ä·p\n",
      "Length: 7\n",
      "OpenSourceTechniques-6\n",
      "b'5e\\xdc\\x11\\xed\\n{k\\x84\\xc2\\xde\\xeeX$iF'\n",
      "Length: 16\n",
      "Embedding Efficiency: 3.5\n",
      "==============\n",
      "4Thanx...\n",
      "customizedTechniques-2\n",
      "Vjcpz...\n",
      "Length: 8\n",
      "customizedTechniques-3\n",
      "tLLL\n",
      "Length: 8\n",
      "customizedTechniques-5\n",
      "¦º³ÀÊ~~~\n",
      "Length: 8\n",
      "OpenSourceTechniques-6\n",
      "b'4\\x11G\\x16\\xd5\\xf08\\xfb\\xb5\\xf58o8\\xc7\\x84\\xbf'\n",
      "Length: 16\n",
      "Embedding Efficiency: 4.0\n",
      "==============\n",
      "5Thank u!\n",
      "customizedTechniques-2\n",
      "Vjcpm w!\n",
      "Length: 8\n",
      "customizedTechniques-3\n",
      "t>?\n",
      "Length: 8\n",
      "customizedTechniques-5\n",
      "¦º³À½pÇq\n",
      "Length: 8\n",
      "OpenSourceTechniques-6\n",
      "b'\\xa3\\xb6)GY\\x95M\\x83\\x08\\t\\xa0\\x87\\x1b\\xd6X\\xe1'\n",
      "Length: 16\n",
      "Embedding Efficiency: 4.0\n",
      "==============\n",
      "6Beerage?\n",
      "customizedTechniques-2\n",
      "Dggtcig?\n",
      "Length: 8\n",
      "customizedTechniques-3\n",
      "b",
      "",
      "",
      "]\n",
      "Length: 8\n",
      "customizedTechniques-5\n",
      "··Ä³¹·\n",
      "Length: 8\n",
      "OpenSourceTechniques-6\n",
      "b'z&\\x9f\\x81*U\\xee\\xeb\\x0e&<\\x02\\xc8\\xf86Z\\xe0\\x95\\x02\\x97\\xc7%\\xb0\\xeb3F[\\x12\\x88SF\\x89'\n",
      "Length: 32\n",
      "Embedding Efficiency: 2.0\n",
      "==============\n",
      "7I'm home.\n",
      "customizedTechniques-2\n",
      "K'o jqog.\n",
      "Length: 9\n",
      "customizedTechniques-3\n",
      "iE>",
      "L\n",
      "Length: 9\n",
      "customizedTechniques-5\n",
      "w¿pºÁ¿·~\n",
      "Length: 9\n",
      "OpenSourceTechniques-6\n",
      "b'\\x8d\\xa6:&N!M\\t\\xe1\\xe8\\x01\\x93\\x03B\\xf51'\n",
      "Length: 16\n",
      "Embedding Efficiency: 4.5\n",
      "==============\n",
      "826th OF JULY\n",
      "customizedTechniques-2\n",
      "26vj QH LWNA\n",
      "Length: 12\n",
      "customizedTechniques-3\n",
      "PT>of>jul_\n",
      "Length: 12\n",
      "customizedTechniques-5\n",
      "Æºp¡p§\n",
      "Length: 12\n",
      "OpenSourceTechniques-6\n",
      "b'\\x97\\xe0\\x85z\\xc1\\x1cq\\xf9)\\xe2\\xfa\\xc5H\\xdd\\xed\\x08\\xe8a\\xf9\\xc7\\x18<\\xbcJU\\xce\\xedw\\xb5,\\xcb\\xe1'\n",
      "Length: 32\n",
      "Embedding Efficiency: 3.0\n",
      "==============\n",
      "9hanks lotsly!\n",
      "customizedTechniques-2\n",
      "jcpmu nqvuna!\n",
      "Length: 13\n",
      "customizedTechniques-3\n",
      ">?\n",
      "Length: 13\n",
      "customizedTechniques-5\n",
      "º³À½Åp¾ÁÆÅ¾±q\n",
      "Length: 13\n",
      "OpenSourceTechniques-6\n",
      "b\"\\x99U*\\x95\\x0e\\xaap\\x10~\\x81s\\t\\x94\\xac\\xc4\\x91\\xf4\\xb0\\x13\\xdd\\x15\\xe4'\\xb6N\\x1d\\x1ee\\xbe^ys\"\n",
      "Length: 32\n",
      "Embedding Efficiency: 3.25\n",
      "==============\n",
      "10Yup next stop.\n",
      "customizedTechniques-2\n",
      "Awr pgzv uvqr.\n",
      "Length: 14\n",
      "customizedTechniques-3\n",
      "_>",
      ">L\n",
      "Length: 14\n",
      "customizedTechniques-5\n",
      "ÇÂpÀ·ÊÆpÅÆÁÂ~\n",
      "Length: 14\n",
      "OpenSourceTechniques-6\n",
      "b'\\x87=;\\xa4L\\xcf\\x08\\x0f1\\xe4PL\\xfaR2t\\xc2d\\n,\\xdf\\xbe_\\xd3n\\xd2\\xab\\x94\\xb1`}\\x92'\n",
      "Length: 32\n",
      "Embedding Efficiency: 3.5\n",
      "==============\n",
      "11Oh ok no prob..\n",
      "customizedTechniques-2\n",
      "Qj qm pq rtqd..\n",
      "Length: 15\n",
      "customizedTechniques-3\n",
      "o>>>LL\n",
      "Length: 15\n",
      "customizedTechniques-5\n",
      "¡ºpÁ½pÀÁpÂÄÁ´~~\n",
      "Length: 15\n",
      "OpenSourceTechniques-6\n",
      "b'\\xe7\\x00\\x1d\\x13\\xf3\\xa7\\x90\\xfe\\xff\\xd1\\xa8\\xd7\\xcd\\xc29\\xb4\\xd8\\x11!\\xe4\\x04Tc\\x81\\xbb\\xdf\\xf2\\xd6\\xd0}\\xd5\\x1e'\n",
      "Length: 32\n",
      "Embedding Efficiency: 3.75\n",
      "==============\n",
      "12I'll be late...\n",
      "customizedTechniques-2\n",
      "K'nn dg ncvg...\n",
      "Length: 15\n",
      "customizedTechniques-3\n",
      "iE>",
      ">",
      "LLL\n",
      "Length: 15\n",
      "customizedTechniques-5\n",
      "w¾¾p´·p¾³Æ·~~~\n",
      "Length: 15\n",
      "OpenSourceTechniques-6\n",
      "b'\\xcf\\xa31F\\xf4\\xff:\\xb0\\xed\\x06\\xc5\\x1a\\x0fE\\xa7\\x7f\\x89\\x17\\xadw\\x0f\\x05b9\\r\\xb5a\\x85\\xfdS`a'\n",
      "Length: 32\n",
      "Embedding Efficiency: 3.75\n",
      "==============\n",
      "13Got meh... When?\n",
      "customizedTechniques-2\n",
      "Iqv ogj... Yjgp?\n",
      "Length: 16\n",
      "customizedTechniques-3\n",
      "g>",
      "LLL>w",
      "]\n",
      "Length: 16\n",
      "customizedTechniques-5\n",
      "ÁÆp¿·º~~~p©º·À\n",
      "Length: 16\n",
      "OpenSourceTechniques-6\n",
      "b'\\xf5\\x8b\\x14\\x86\\x08\\x84\\x8f\\xfa\\xdf\\xf4\\xc7\\xb6aE\\xd5\\x85dI7\\x94K\\xf9\\xbf\\xa8\\x01f\\xdd\\xc8\\x99\\x15\\xa5F'\n",
      "Length: 32\n",
      "Embedding Efficiency: 4.0\n",
      "==============\n",
      "1410 min later k...\n",
      "customizedTechniques-2\n",
      "10 okp ncvgt m...\n",
      "Length: 17\n",
      "customizedTechniques-3\n",
      "ON>>",
      ">LLL\n",
      "Length: 17\n",
      "customizedTechniques-5\n",
      "p¿»Àp¾³Æ·Äp½~~~\n",
      "Length: 17\n",
      "OpenSourceTechniques-6\n",
      "b\"\\x1c+d\\xde\\x11\\xb5\\xf5\\x0e\\xb2\\xb4@\\xf0G\\xde\\x83\\x8d\\xbd\\x07E\\xf8l\\xffl\\xbaX\\xfb\\xa0\\x17\\x9e')\\xc6\"\n",
      "Length: 32\n",
      "Embedding Efficiency: 4.25\n",
      "==============\n",
      "15Dunno y u ask me.\n",
      "customizedTechniques-2\n",
      "Fwppq a w cum og.\n",
      "Length: 17\n",
      "customizedTechniques-3\n",
      "d>>>>",
      "L\n",
      "Length: 17\n",
      "customizedTechniques-5\n",
      "ÇÀÀÁp±pÇp³Å½p¿·~\n",
      "Length: 17\n",
      "OpenSourceTechniques-6\n",
      "b')\\x00\\xe2\\xee\\x1b\\xfe\\xf5\\xa9\\x8f\\x10\\xf0j\\x99\\x10u\\xa3\\x81y\\xfc1\\xb5\\x9f/\\xec\\x0b\\x95LH@Yf+'\n",
      "Length: 32\n",
      "Embedding Efficiency: 4.25\n",
      "==============\n",
      "16Watching tv lor...\n",
      "customizedTechniques-2\n",
      "Ycvejkpi vx nqt...\n",
      "Length: 18\n",
      "customizedTechniques-3\n",
      "w>>LLL\n",
      "Length: 18\n",
      "customizedTechniques-5\n",
      "©³Æµº»À¹pÆÈp¾ÁÄ~~~\n",
      "Length: 18\n",
      "OpenSourceTechniques-6\n",
      "b\"K\\xa8\\xd6>%j\\x05\\x9c\\x92K-\\xca\\x06\\x889bC\\x19\\x9d\\x02h\\xfd7\\x9e'\\x01J\\xc3\\xa63s\\xc5\"\n",
      "Length: 32\n",
      "Embedding Efficiency: 4.5\n",
      "==============\n",
      "17Was the farm open?\n",
      "customizedTechniques-2\n",
      "Ycu vjg hcto qrgp?\n",
      "Length: 18\n",
      "customizedTechniques-3\n",
      "w>",
      ">>",
      "]\n",
      "Length: 18\n",
      "customizedTechniques-5\n",
      "©³ÅpÆº·p¸³Ä¿pÁÂ·À\n",
      "Length: 18\n",
      "OpenSourceTechniques-6\n",
      "b'\\xef /\\x92i\\xce\\xf7\\xb6\\x9e}\\xd8f@i#\\x1c\\xe5\\x7f;\\x11ba\\xf8\\xe3E\\x05\\xe8\\n\\xe8q$\\x13]\\xc5)\\xd60\\xf5\\xa9\\xd1\\xb5<\\x08\\x99f\\x93\\x8d\\xd8'\n",
      "Length: 48\n",
      "Embedding Efficiency: 3.0\n",
      "==============\n",
      "18WHO ARE YOU SEEING?\n",
      "customizedTechniques-2\n",
      "YJQ CTG AQW UGGKPI?\n",
      "Length: 19\n",
      "customizedTechniques-3\n",
      "who>are>_ou>seeing]\n",
      "Length: 19\n",
      "customizedTechniques-5\n",
      "©¡p¤p¡§p¥ \n",
      "Length: 19\n",
      "OpenSourceTechniques-6\n",
      "b'P_\\x17\\xf2:\\x88\\xf5\\xe9W\\xca\\x85\\xc9\\x11\\xa0Mg\\xf91\\xee\\x0fUG\\xd7\\x99\\xd9\\x1du\\x1f\\xcb\\rD\\xff\\xfc\\xc6#E\\xd1=KQ%B\\xd4\\xa3\\xcb|v['\n",
      "Length: 48\n",
      "Embedding Efficiency: 3.1666666666666665\n",
      "==============\n",
      "19\\Wen u miss someone\n",
      "customizedTechniques-2\n",
      "\\Ygp w okuu uqogqpg\n",
      "Length: 19\n",
      "customizedTechniques-3\n",
      "zw",
      ">>>",
      "",
      "\n",
      "Length: 19\n",
      "customizedTechniques-5\n",
      "¬©·ÀpÇp¿»ÅÅpÅÁ¿·ÁÀ·\n",
      "Length: 19\n",
      "OpenSourceTechniques-6\n",
      "b'\\xb8c\\xfeX\\x80\\xe4\\x06\\x92^AO\\xd3\\x92\\xcd,7h[\\x02\\x9aZi\\xd0W\\xc2\\xed\\xb61\\xa4\\x1c\\xc91d7\\x08\\xd727J\\xaab\\x11\\x8c\\x12y3eI'\n",
      "Length: 48\n",
      "Embedding Efficiency: 3.1666666666666665\n",
      "==============\n",
      "20Neva mind it's ok..\n",
      "customizedTechniques-2\n",
      "Pgxc okpf kv'u qm..\n",
      "Length: 19\n",
      "customizedTechniques-3\n",
      "n",
      ">>E>LL\n",
      "Length: 19\n",
      "customizedTechniques-5\n",
      " ·È³p¿»À¶p»ÆwÅpÁ½~~\n",
      "Length: 19\n",
      "OpenSourceTechniques-6\n",
      "b'\\xa8\\xf8\\x12\\xd6\\xc2\\xad\\x87\\x88\\x95]\\xe1\\x97\\x9f*\\x97\\xd8\\x87\\xe08\\xa7\\x85\\xc8lxg\\xb7\\xa2\\x8f\\xcdk\\xf0SET\\xe2\\x10\\xc2\\x1e\\t\\x04\\x11\\xf1\\xcc\\xf7\\xcd\\xf7\\xd7\\xc3'\n",
      "Length: 48\n",
      "Embedding Efficiency: 3.1666666666666665\n",
      "==============\n",
      "21I borrow ur bag ok.\n",
      "customizedTechniques-2\n",
      "K dqttqy wt dci qm.\n",
      "Length: 19\n",
      "customizedTechniques-3\n",
      "i>>>>L\n",
      "Length: 19\n",
      "customizedTechniques-5\n",
      "p´ÁÄÄÁÉpÇÄp´³¹pÁ½~\n",
      "Length: 19\n",
      "OpenSourceTechniques-6\n",
      "b'\\x9d\\x14\\x17\\x8f\\xdf\\x7fP_\\xb4\\x03)\\x86(\\x9a\\x05)\\xf9$p?\\x02\\x9e\\xb7i\\xb6Q\\xe2\\x14\\xd7X\\xfa)\\xad\\x037s-\\x9a\\x06:\\xe6\\xcf\\xfa$\\xaa%\\x96\\xd0'\n",
      "Length: 48\n",
      "Embedding Efficiency: 3.1666666666666665\n",
      "==============\n",
      "22U can call me now...\n",
      "customizedTechniques-2\n",
      "W ecp ecnn og pqy...\n",
      "Length: 20\n",
      "customizedTechniques-3\n",
      "u>>>",
      ">LLL\n",
      "Length: 20\n",
      "customizedTechniques-5\n",
      "§pµ³Àpµ³¾¾p¿·pÀÁÉ~~~\n",
      "Length: 20\n",
      "OpenSourceTechniques-6\n",
      "b'+C\\xde\\x17\\xd6j\\x1c+TU\\xc7\\xe3\\xa1\\xee=\\x00H\\x19\\xec\\x04\\x10\\x1eC\\x90U\\xcf*\\nvf]b\\xe8\\xd07k\\x0804\\xbd\\xb9]\\x0b\\x00\\xf5\\x97\\x83H'\n",
      "Length: 48\n",
      "Embedding Efficiency: 3.3333333333333335\n",
      "==============\n",
      "23Good stuff, will do.\n",
      "customizedTechniques-2\n",
      "Iqqf uvwhh, yknn fq.\n",
      "Length: 20\n",
      "customizedTechniques-3\n",
      "g>J>>L\n",
      "Length: 20\n",
      "customizedTechniques-5\n",
      "ÁÁ¶pÅÆÇ¸¸|pÉ»¾¾p¶Á~\n",
      "Length: 20\n",
      "OpenSourceTechniques-6\n",
      "b'\\xa4;H{?\\x8a\\xa2\\x9f\\xe0\\xfc\\xa4}\\xe0\\x95}\\xaf\\xebI\\xfa;#\\xd0\\x8b\\xbbI(P\\xda\\xf7zdT3\\xa9n\\xac\\x8b\\xae\\xcf\\xc9R\\x7f\\x14R\\x1e\\xb9\\x06\\xe5'\n",
      "Length: 48\n",
      "Embedding Efficiency: 3.3333333333333335\n",
      "==============\n",
      "24Me n him so funny...\n",
      "customizedTechniques-2\n",
      "Og p jko uq hwppa...\n",
      "Length: 20\n",
      "customizedTechniques-3\n",
      "m",
      ">>>>LLL\n",
      "Length: 20\n",
      "customizedTechniques-5\n",
      "·pÀpº»¿pÅÁp¸ÇÀÀ±~~~\n",
      "Length: 20\n",
      "OpenSourceTechniques-6\n",
      "b'\\x99dq\\xf8t\\xb0\\xb1\\x96l\\x9eN\\xcd\\xb9N\\x03/\\xe0\\xde\\xb5\\x1e!%\\xdb\\xf4\\xe6x\\x9d\\x96y\\x87\\xe4.\\xc57s\\x0f\\x15\\xb9\\xb5z\\x9b\\x16\\x1b+\\x95\\xfa\\x00}'\n",
      "Length: 48\n",
      "Embedding Efficiency: 3.3333333333333335\n",
      "==============\n",
      "25Oops. 4 got that bit.\n",
      "customizedTechniques-2\n",
      "Qqru. 4 iqv vjcv dkv.\n",
      "Length: 21\n",
      "customizedTechniques-3\n",
      "oL>R>>>L\n",
      "Length: 21\n",
      "customizedTechniques-5\n",
      "¡ÁÂÅ~pp¹ÁÆpÆº³Æp´»Æ~\n",
      "Length: 21\n",
      "OpenSourceTechniques-6\n",
      "b'\\xf8f\\xf8\\xa2r$;!(vN\\x13\\x0f\\xdc\\xb7\\xf3f\\x1eT\\x16\\xb8}D\\xb8\\x18\\xf6a\\x06\\x1b\\x8a@\\xc9t>.\\x1d\\x8c\\xd5\\x8d\\x8c?M>qzU\\x87f'\n",
      "Length: 48\n",
      "Embedding Efficiency: 3.5\n",
      "==============\n",
      "26When can Ì_ come out?\n",
      "customizedTechniques-2\n",
      "Yjgp ecp L_ eqog qwv?\n",
      "Length: 21\n",
      "customizedTechniques-3\n",
      "w",
      ">>j}>",
      ">]\n",
      "Length: 21\n",
      "customizedTechniques-5\n",
      "©º·Àpµ³Àp¯pµÁ¿·pÁÇÆ\n",
      "Length: 21\n",
      "OpenSourceTechniques-6\n",
      "b'_\\xf9\\x88\\x88\\xeb{6\\x99\\xa88\\x98\\xc5=\\xc7\\x87/\\x83r\\x8d\\r\\x8d(n&+\\x08\\x9ciC\\x0f\\xc4y&\\xfb<\\xf9\\x14\\x84d\\xe1o\\xb8\\x0b@\\xc9\\xf7mh'\n",
      "Length: 48\n",
      "Embedding Efficiency: 3.5\n",
      "==============\n",
      "27Did u receive my msg?\n",
      "customizedTechniques-2\n",
      "Fkf w tgegkxg oa oui?\n",
      "Length: 21\n",
      "customizedTechniques-3\n",
      "d>>",
      "",
      "",
      ">>]\n",
      "Length: 21\n",
      "customizedTechniques-5\n",
      "»¶pÇpÄ·µ·»È·p¿±p¿Å¹\n",
      "Length: 21\n",
      "OpenSourceTechniques-6\n",
      "b\"\\xe0\\x97?;Zs\\xc2=e\\xa4_\\x99\\xdf\\xe4\\xff]A\\xd4H\\xa2\\x16K'DxD}!u!;\\n&\\xe1\\xed8I\\xf6\\x93I\\xb1Q\\xcb\\x92*\\xaa\\xe1\\x02\"\n",
      "Length: 48\n",
      "Embedding Efficiency: 3.5\n",
      "==============\n",
      "28Tell where you reached\n",
      "customizedTechniques-2\n",
      "Vgnn yjgtg aqw tgcejgf\n",
      "Length: 22\n",
      "customizedTechniques-3\n",
      "t",
      ">",
      "",
      ">>",
      "",
      "\n",
      "Length: 22\n",
      "customizedTechniques-5\n",
      "¦·¾¾pÉº·Ä·p±ÁÇpÄ·³µº·¶\n",
      "Length: 22\n",
      "OpenSourceTechniques-6\n",
      "b'\\x0e.\\x00\\xc9\\x03\\xbeaa]H\\x1d\\x8d\\xc9X\\xc0@u!2y:S\\xb9\\xa9\\x1f\\x8a#y\\xf9 \\x80\\r\\xba\\xf4\\x19\\xca2\\tW\\xf921S4\\x90\\xea<k'\n",
      "Length: 48\n",
      "Embedding Efficiency: 3.6666666666666665\n",
      "==============\n",
      "29Sorry, I'll call later\n",
      "customizedTechniques-2\n",
      "Uqtta, K'nn ecnn ncvgt\n",
      "Length: 22\n",
      "customizedTechniques-3\n",
      "sJ>iE>>",
      "\n",
      "Length: 22\n",
      "customizedTechniques-5\n",
      "¥ÁÄÄ±|pw¾¾pµ³¾¾p¾³Æ·Ä\n",
      "Length: 22\n",
      "OpenSourceTechniques-6\n",
      "b\"e\\xf9U\\xac\\xdd\\x19=\\x97J\\x84\\xe3\\x12&DH\\xf7!2\\xa6\\x97\\xe8\\xd5\\xbe\\xa1\\x8a\\x8c\\xca\\xdf\\xfe\\xea\\x9eQ^\\x1fj\\xf4\\xb7\\xc7\\x9c]9xz\\x03\\xd0'>e\"\n",
      "Length: 48\n",
      "Embedding Efficiency: 3.6666666666666665\n",
      "==============\n",
      "30Are you there in room.\n",
      "customizedTechniques-2\n",
      "Ctg aqw vjgtg kp tqqo.\n",
      "Length: 22\n",
      "customizedTechniques-3\n",
      "a",
      ">>",
      "",
      ">>L\n",
      "Length: 22\n",
      "customizedTechniques-5\n",
      "Ä·p±ÁÇpÆº·Ä·p»ÀpÄÁÁ¿~\n",
      "Length: 22\n",
      "OpenSourceTechniques-6\n",
      "b'\\x02\\x8c\\xafB\\xcf]\\xf1*\\xd7\\x85\\xe5\\x04v\\xaeT%\\xa6\\x8a\\x83y\\xe0x\\xfa/\\xfa\\xfd\\xc9\\x9d\\xa8\\xe4h\\x19\\xf3\\x17\\xa1\\xb4\\x87\\xa7[\\nq\\xb9\\x978#\"\\x81\\x93'\n",
      "Length: 48\n",
      "Embedding Efficiency: 3.6666666666666665\n",
      "==============\n",
      "31Sorry, I'll call later\n",
      "customizedTechniques-2\n",
      "Uqtta, K'nn ecnn ncvgt\n",
      "Length: 22\n",
      "customizedTechniques-3\n",
      "sJ>iE>>",
      "\n",
      "Length: 22\n",
      "customizedTechniques-5\n",
      "¥ÁÄÄ±|pw¾¾pµ³¾¾p¾³Æ·Ä\n",
      "Length: 22\n",
      "OpenSourceTechniques-6\n",
      "b'C\\xf6\\x17ZFeC\\x9b\\xdf\\xb7\\xb1ap\\xbc>;\\xd7\\x88\\x99V.\\x1bg\\x80\\x97\\x82\\xc2\\x88\\x05\\xc7\\xed\\xe6\\t\\xecG\\x89c\\xb3\\x97!\\x83\\xe2\\xf7\\xe5\\x1a\\xc6\\x1eb'\n",
      "Length: 48\n",
      "Embedding Efficiency: 3.6666666666666665\n",
      "==============\n",
      "32You got called a tool?\n",
      "customizedTechniques-2\n",
      "Aqw iqv ecnngf c vqqn?\n",
      "Length: 22\n",
      "customizedTechniques-3\n",
      "_>>",
      ">>]\n",
      "Length: 22\n",
      "customizedTechniques-5\n",
      "ÁÇp¹ÁÆpµ³¾¾·¶p³pÆÁÁ¾\n",
      "Length: 22\n",
      "OpenSourceTechniques-6\n",
      "b'p\\x94\\x93\\xacD\\xf2) \\x88\\x0c8\\xbf\\xb1*\\t_`}\\xb3\\x10\\xe2\\x1a\\x1c7\\xdbo\\x92;h\\x87p\\xa8\\xc7\\x18&{X\\xc8(\\x8b/\\xe3I\\xe6\\x96\\xd6dB'\n",
      "Length: 48\n",
      "Embedding Efficiency: 3.6666666666666665\n",
      "==============\n",
      "33Are you this much buzy\n",
      "customizedTechniques-2\n",
      "Ctg aqw vjku owej dwba\n",
      "Length: 22\n",
      "customizedTechniques-3\n",
      "a",
      ">>>>\n",
      "Length: 22\n",
      "customizedTechniques-5\n",
      "Ä·p±ÁÇpÆº»Åp¿Çµºp´Ç²±\n",
      "Length: 22\n",
      "OpenSourceTechniques-6\n",
      "b'1\\xb9\\x7f\\xe2\\x02\\xfe `\\x9b\\xeb\\xcde\\x8a\\xa1\\xb1\\x94\\x00e]\\xf2(\\xdc\\xac\\x80X\\x17%\\x19\\xbb\"\\x81_1\\xd0\\xe9\\xd7\\xeeHs\\x96\\x0b\\xd5l\\x7f\\xabJ\\xdb)'\n",
      "Length: 48\n",
      "Embedding Efficiency: 3.6666666666666665\n",
      "==============\n",
      "34K.k:)apo k.good movie.\n",
      "customizedTechniques-2\n",
      "M.m:)crq m.iqqf oqxkg.\n",
      "Length: 22\n",
      "customizedTechniques-3\n",
      "kLXG>L>",
      "L\n",
      "Length: 22\n",
      "customizedTechniques-5\n",
      "~½y³ÂÁp½~¹ÁÁ¶p¿ÁÈ»·~\n",
      "Length: 22\n",
      "OpenSourceTechniques-6\n",
      "b'\\xdd\\xa7\\x95\\x04\\xd3!|\\xd7\\xe2\\xcf\\x87S\\xe7\\xa8\\x05g\\xb6\\xc8>\\xf5\\xb8\\x98\\xba\\x9c\\x8d\\xf1\\x12D\\t\\xbf\\xf14F\\x94\\xa9a\\x07\\xa6\\x87\\xc9\\xf8&)P\\xda \\x00t'\n",
      "Length: 48\n",
      "Embedding Efficiency: 3.6666666666666665\n",
      "==============\n",
      "35Sorry, I'll call later\n",
      "customizedTechniques-2\n",
      "Uqtta, K'nn ecnn ncvgt\n",
      "Length: 22\n",
      "customizedTechniques-3\n",
      "sJ>iE>>",
      "\n",
      "Length: 22\n",
      "customizedTechniques-5\n",
      "¥ÁÄÄ±|pw¾¾pµ³¾¾p¾³Æ·Ä\n",
      "Length: 22\n",
      "OpenSourceTechniques-6\n",
      "b'+s/x\\x13v\\x02i+\\xe5\\xcc$\\x9a\\xc3\\xa9\\x9c!mjI\\xe2\\x08\\xcb\\xea\\x97\\x0b@\\x1b\\x07n\\xf2Yn\\xe3\\x8cY\\xcbl\\xa1\\x01r>\\xaaK\\xf4\\x10\\xbe\\x8f'\n",
      "Length: 48\n",
      "Embedding Efficiency: 3.6666666666666665\n",
      "==============\n",
      "36It took Mr owl 3 licks\n",
      "customizedTechniques-2\n",
      "Kv vqqm Ot qyn 3 nkemu\n",
      "Length: 22\n",
      "customizedTechniques-3\n",
      "i>>m>>Q>\n",
      "Length: 22\n",
      "customizedTechniques-5\n",
      "ÆpÆÁÁ½pÄpÁÉ¾pp¾»µ½Å\n",
      "Length: 22\n",
      "OpenSourceTechniques-6\n",
      "b'!\\xaa\\xbc\\xd7\\xcb\\xa2\\xf66\\xff:d\\x89\\xdc\\xcdv\\x89vE\\xa7\\xa4\\xd0\\xde_t\\x19m\\xe4>7\\xefJ\\xf5\\x8f\\x97\\xdfU\\xea+HR\\nnv\\xc0\\xb6\\x88q9'\n",
      "Length: 48\n",
      "Embedding Efficiency: 3.6666666666666665\n",
      "==============\n",
      "37Morning only i can ok.\n",
      "customizedTechniques-2\n",
      "Oqtpkpi qpna k ecp qm.\n",
      "Length: 22\n",
      "customizedTechniques-3\n",
      "m>>>>L\n",
      "Length: 22\n",
      "customizedTechniques-5\n",
      "ÁÄÀ»À¹pÁÀ¾±p»pµ³ÀpÁ½~\n",
      "Length: 22\n",
      "OpenSourceTechniques-6\n",
      "b'\\xad\\xc0\\x8dX\\xbc\\xdf<{bs\\x061\\x10b\\xea\\xfc\\xe4\\x82h\\xbaq8\\xd5\\x9fh\\x99\\x13![\\x175\\xf2-E\\xc4\\xef\\xc4\\x95s\\x11a\\xfd,L\\x01\\x86 \\x16'\n",
      "Length: 48\n",
      "Embedding Efficiency: 3.6666666666666665\n",
      "==============\n",
      "38Headin towards busetop\n",
      "customizedTechniques-2\n",
      "Jgcfkp vqyctfu dwugvqr\n",
      "Length: 22\n",
      "customizedTechniques-3\n",
      "h",
      ">>",
      "\n",
      "Length: 22\n",
      "customizedTechniques-5\n",
      "·³¶»ÀpÆÁÉ³Ä¶Åp´ÇÅ·ÆÁÂ\n",
      "Length: 22\n",
      "OpenSourceTechniques-6\n",
      "b'\\xcd\\x91~\\xb0\\xe5\\x08KX\\x97\\xf1%\\x85{\\x87\\xe9\\x81\\x84\\x96\\x82 \\x1by\\xeb\\xbe\\xeau\\r\\xc2\\x98\\x05=\\x01%\\x98\\x9e\\x12\\xd5\\x93b\\xc1\\\\\\xc9+S\\xb3\\xfa\\x1e\\xab'\n",
      "Length: 48\n",
      "Embedding Efficiency: 3.6666666666666665\n",
      "==============\n",
      "39Sorry, I'll call later\n",
      "customizedTechniques-2\n",
      "Uqtta, K'nn ecnn ncvgt\n",
      "Length: 22\n",
      "customizedTechniques-3\n",
      "sJ>iE>>",
      "\n",
      "Length: 22\n",
      "customizedTechniques-5\n",
      "¥ÁÄÄ±|pw¾¾pµ³¾¾p¾³Æ·Ä\n",
      "Length: 22\n",
      "OpenSourceTechniques-6\n",
      "b'\\x87\\xc0\\xd4\\xbe\\xf3\\xf8@\\x95\\xf7|\\xac\\x9b\\x17\\xdb4A5\\xf9\\x12\\x00%\\xe3y\\x12d\\x9a\\xfaOQV\\xecb\\xecY\\xa8\\xb2|\\x91\\x800\\xc5(;\\x0b^\\x9c\\x91u'\n",
      "Length: 48\n",
      "Embedding Efficiency: 3.6666666666666665\n",
      "==============\n",
      "40Wait  &lt;#&gt;  min..\n",
      "customizedTechniques-2\n",
      "Yckv  &nv;#&iv;  okp..\n",
      "Length: 22\n",
      "customizedTechniques-3\n",
      "w>>DYADY>>LL\n",
      "Length: 22\n",
      "customizedTechniques-5\n",
      "©³»Æppv¾Æsv¹Æpp¿»À~~\n",
      "Length: 22\n",
      "OpenSourceTechniques-6\n",
      "b'\\x1d\\xf2|Sk\"\\xc4\\xdbLp\\x10A\\xf1\\xf2xj\\xed\\xae\\xba\\xb5v\\xe0\\xea\\x17\\xfb\\xee\\x14\\n\\x0c\\xd0F\\x82n)\\xbc\\xe88\\xed\\x995\\xbfZ\\xe2p\\xa5\\x1dh@'\n",
      "Length: 48\n",
      "Embedding Efficiency: 3.6666666666666665\n",
      "==============\n",
      "41Can you open the door?\n",
      "customizedTechniques-2\n",
      "Ecp aqw qrgp vjg fqqt?\n",
      "Length: 22\n",
      "customizedTechniques-3\n",
      "c>>",
      ">",
      ">]\n",
      "Length: 22\n",
      "customizedTechniques-5\n",
      "³Àp±ÁÇpÁÂ·ÀpÆº·p¶ÁÁÄ\n",
      "Length: 22\n",
      "OpenSourceTechniques-6\n",
      "b\"\\xee\\x0b\\tzF\\xda\\x1f\\xd1,\\x17_\\xeb\\r\\x1e\\x96\\xd2]\\x1a\\x89\\x04\\xbbN+\\x96qH\\x89\\xc0\\xe3\\xc6\\x8c\\xb1\\x87\\x80\\xf0\\x8a\\xfb\\xf2'y\\xe1X\\xd2%\\x88Rx\\x8f\"\n",
      "Length: 48\n",
      "Embedding Efficiency: 3.6666666666666665\n",
      "==============\n",
      "42Waiting for your call.\n",
      "customizedTechniques-2\n",
      "Yckvkpi hqt aqwt ecnn.\n",
      "Length: 22\n",
      "customizedTechniques-3\n",
      "w>>>L\n",
      "Length: 22\n",
      "customizedTechniques-5\n",
      "©³»Æ»À¹p¸ÁÄp±ÁÇÄpµ³¾¾~\n",
      "Length: 22\n",
      "OpenSourceTechniques-6\n",
      "b'\\x05\\xde\\xda\\x96X\\xb7\\x9bq\\xb2\\xb6\\xe6\\xc9\\xde\\x81-\\xf4\\xc0-\\xa5\\x969\\xfe\\x89\\x80\\x1a\\xe4\\x8f\\xe2\\x8d\\xe7\\x81\\xa6\\r\\xe8~\\x98\\xeb\\xb0\\x9c\\xbaI\\x05\\x98\\xac\\xf6q\\xe1='\n",
      "Length: 48\n",
      "Embedding Efficiency: 3.6666666666666665\n",
      "==============\n",
      "43Meet after lunch la...\n",
      "customizedTechniques-2\n",
      "Oggv chvgt nwpej nc...\n",
      "Length: 22\n",
      "customizedTechniques-3\n",
      "m",
      "",
      ">",
      ">>LLL\n",
      "Length: 22\n",
      "customizedTechniques-5\n",
      "··Æp³¸Æ·Äp¾ÇÀµºp¾³~~~\n",
      "Length: 22\n",
      "OpenSourceTechniques-6\n",
      "b'\\x816\\x8d\\x9b\\xe4\\x8b\\xde\\x01+6\"\\xae@\\xbaK/\\x1f\\x1f\\xda\\x0bl\\xf6\\x85\\x1e\\x19{\\xb66\\xfdy\\x1cI\\x00\\\\\\xa1\\xc0<\\xa4\\xe8\\x95\\xc9\\x8f\\xb2\\x99\\x9a\\x98+4'\n",
      "Length: 48\n",
      "Embedding Efficiency: 3.6666666666666665\n",
      "==============\n",
      "44I have many dependents\n",
      "customizedTechniques-2\n",
      "K jcxg ocpa fgrgpfgpvu\n",
      "Length: 22\n",
      "customizedTechniques-3\n",
      "i>",
      ">>",
      "",
      "",
      "\n",
      "Length: 22\n",
      "customizedTechniques-5\n",
      "pº³È·p¿³À±p¶·Â·À¶·ÀÆÅ\n",
      "Length: 22\n",
      "OpenSourceTechniques-6\n",
      "b'\\xc1/T\\xf66\\x0c\\x08\\x00\\x1aGyP\\xa0A00e\\x973\\x16S\\x1b\\x98\\x9bwG\\xe7GF\\xfc\\x04s\\n)\\xba\\x87c0p=\\xab\\xb3+\\x8ekI\\xe5\\xb4'\n",
      "Length: 48\n",
      "Embedding Efficiency: 3.6666666666666665\n",
      "==============\n",
      "45Then mum's repent how?\n",
      "customizedTechniques-2\n",
      "Vjgp owo'u tgrgpv jqy?\n",
      "Length: 22\n",
      "customizedTechniques-3\n",
      "t",
      ">E>",
      "",
      ">]\n",
      "Length: 22\n",
      "customizedTechniques-5\n",
      "¦º·Àp¿Ç¿wÅpÄ·Â·ÀÆpºÁÉ\n",
      "Length: 22\n",
      "OpenSourceTechniques-6\n",
      "b'\\x04\\xf8*Ou\\x15\\xaf{\\x05\\x0c\\xe7W\\x9a\\xf4\\xdaRH\\xa2\\x93\\x02LV\\x8ce\\xd7\\xb6\\xa0\\xdf8ZR\\x1a;\\xc9\\xe7|\\x0e\\xff\\xb9;\\xee6U\\x16 \\xb0\\xe0\\xbd'\n",
      "Length: 48\n",
      "Embedding Efficiency: 3.6666666666666665\n",
      "==============\n",
      "46Is xy going 4 e lunch?\n",
      "customizedTechniques-2\n",
      "Ku za iqkpi 4 g nwpej?\n",
      "Length: 22\n",
      "customizedTechniques-3\n",
      "i>>>R>",
      ">]\n",
      "Length: 22\n",
      "customizedTechniques-5\n",
      "ÅpÊ±p¹Á»À¹pp·p¾ÇÀµº\n",
      "Length: 22\n",
      "OpenSourceTechniques-6\n",
      "b'!\\xe2_\\xbf\\xb3\\xaf\\xc4Wu\\x86\\x9b\\x88\\xfezt\\x17\\xdd\\x8b6\\xff~\\x819\\xb1\\xa1\\x17\\xbd\\x1a$pa\\x18h\\x1a&>\\x8f\\xf5\\x9f\"\\xc3\\xac:\\xb1\\xb0\\x8be\\xab'\n",
      "Length: 48\n",
      "Embedding Efficiency: 3.6666666666666665\n",
      "==============\n",
      "47Sorry, I'll call later\n",
      "customizedTechniques-2\n",
      "Uqtta, K'nn ecnn ncvgt\n",
      "Length: 22\n",
      "customizedTechniques-3\n",
      "sJ>iE>>",
      "\n",
      "Length: 22\n",
      "customizedTechniques-5\n",
      "¥ÁÄÄ±|pw¾¾pµ³¾¾p¾³Æ·Ä\n",
      "Length: 22\n",
      "OpenSourceTechniques-6\n",
      "b'\\xa5\\xe2\\xf4\\x1f\\xaf.\\xc8\\x1c\\xf0\\x07\\xac\\xcf\\x12m\\\\\\xedg\\xd4>\\x8f\\x10\\x14\\rsB\\x0b\\xdd\\xa5w0\\xbe\\x18\\xb4\\x05\\x0c\\xb4\\x1c\\xd7\\xe1\\xbf\\xbd\\xe9L[\\xcb!\\xad$'\n",
      "Length: 48\n",
      "Embedding Efficiency: 3.6666666666666665\n",
      "==============\n",
      "48Sorry, I'll call later\n",
      "customizedTechniques-2\n",
      "Uqtta, K'nn ecnn ncvgt\n",
      "Length: 22\n",
      "customizedTechniques-3\n",
      "sJ>iE>>",
      "\n",
      "Length: 22\n",
      "customizedTechniques-5\n",
      "¥ÁÄÄ±|pw¾¾pµ³¾¾p¾³Æ·Ä\n",
      "Length: 22\n",
      "OpenSourceTechniques-6\n",
      "b']N\\x00C\\xc9 \\xc2<\\xd9$\\xc1\\xeb|\\x9d}\\x12f\\xa6\\x1f9\\xad8\\x04\\x94g\\xb3O\\xfe\\xd4\\xa6\\xc8y9\\x8b\\xf2\\x1c\\xd8qlh@\\x0f\\xfe\\xfe.\\xf8\\x14\\xde'\n",
      "Length: 48\n",
      "Embedding Efficiency: 3.6666666666666665\n",
      "==============\n",
      "49I dled 3d its very imp\n",
      "customizedTechniques-2\n",
      "K fngf 3f kvu xgta kor\n",
      "Length: 22\n",
      "customizedTechniques-3\n",
      "i>",
      ">Q>>",
      ">\n",
      "Length: 22\n",
      "customizedTechniques-5\n",
      "p¶¾·¶p¶p»ÆÅpÈ·Ä±p»¿Â\n",
      "Length: 22\n",
      "OpenSourceTechniques-6\n",
      "b'>\\xb6\\x02$qP\\x865T\\xdef\\xca]:~2R\\xfe\\x98\\xaa\\xb8\\xe0\\x9a<\\x9c\\x1c\\xb8J\\xf2\\x1b\\xb8\\x8eAW\\xaex\\x81lZy07\\xfb\\x94\\x03\\xbd\\x17\\xc8'\n",
      "Length: 48\n",
      "Embedding Efficiency: 3.6666666666666665\n",
      "==============\n",
      "50Hey. You got any mail?\n",
      "customizedTechniques-2\n",
      "Jga. Aqw iqv cpa ockn?\n",
      "Length: 22\n",
      "customizedTechniques-3\n",
      "h",
      "L>_>>>]\n",
      "Length: 22\n",
      "customizedTechniques-5\n",
      "·±~pÁÇp¹ÁÆp³À±p¿³»¾\n",
      "Length: 22\n",
      "OpenSourceTechniques-6\n",
      "b'L=\\xe5\\r\\xf5\\xac\\xcf\\xea\\x08Y\\xdb\\x02?I\\xcd\\x16\\xf9\\xc8\\x12\\xe9\\xe5_\\xabl~\\x02\\xe6\\xaa\\xa1\\xdf\\x1d\\xd9\\xe9@a_C(F:\\x95\\xe4\\xe3\\x8b\\x96\\xe5\\xb0\\x86'\n",
      "Length: 48\n",
      "Embedding Efficiency: 3.6666666666666665\n",
      "==============\n",
      "51Are you this much buzy\n",
      "customizedTechniques-2\n",
      "Ctg aqw vjku owej dwba\n",
      "Length: 22\n",
      "customizedTechniques-3\n",
      "a",
      ">>>>\n",
      "Length: 22\n",
      "customizedTechniques-5\n",
      "Ä·p±ÁÇpÆº»Åp¿Çµºp´Ç²±\n",
      "Length: 22\n",
      "OpenSourceTechniques-6\n",
      "b'u\\xe2bf\\xf0\\xc6\\x04\\xf6\\xab\\xda D+\\x13\\xba\\xb1\\xef\\xb3\\xf4\\xed:\"\\xf8\\xef\\rB\\xe6fPK`4\\x8f\\xd9\\x18u9i\\xf3q\\xd7\\xba\\n\\xb7u>\\x16\\x01'\n",
      "Length: 48\n",
      "Embedding Efficiency: 3.6666666666666665\n",
      "==============\n",
      "52Ok i shall talk to him\n",
      "customizedTechniques-2\n",
      "Qm k ujcnn vcnm vq jko\n",
      "Length: 22\n",
      "customizedTechniques-3\n",
      "o>>>>>\n",
      "Length: 22\n",
      "customizedTechniques-5\n",
      "¡½p»pÅº³¾¾pÆ³¾½pÆÁpº»¿\n",
      "Length: 22\n",
      "OpenSourceTechniques-6\n",
      "b'\\xa1lB~\\xa6!8,8\\xdf]P\\xe9\\xae\"\\xc5\\xa4\\xbfb\\xf7\\xa5\\xcb\\xd5U\\x82\\xa6\\xad\\xae\\xc1\\xa0Y\\xba0a\\x14\\xd89\\x80\\xa9&/\\xae\\xf9\\t\\xff\\xf5\\x1dC'\n",
      "Length: 48\n",
      "Embedding Efficiency: 3.6666666666666665\n",
      "==============\n",
      "53Lol no. U can trust me.\n",
      "customizedTechniques-2\n",
      "Nqn pq. W ecp vtwuv og.\n",
      "Length: 23\n",
      "customizedTechniques-3\n",
      "l>L>u>>>",
      "L\n",
      "Length: 23\n",
      "customizedTechniques-5\n",
      "Á¾pÀÁ~p§pµ³ÀpÆÄÇÅÆp¿·~\n",
      "Length: 23\n",
      "OpenSourceTechniques-6\n",
      "b'\\xaa\\x10<%\\xd21\\xc4ffT\\x0c8\\xd5\\x89}\\x8b\\xc6\\xa3\\x04\\xae>>p\\xd9@\\xf3\\xaf\\x08w\\xdeg\\xe3\\xccK\\x037\\xb9\\xca\\xca\\xaf\"\\x1a\\x86\\x80\\xa8\\xce\\')'\n",
      "Length: 48\n",
      "Embedding Efficiency: 3.8333333333333335\n",
      "==============\n",
      "54K:)k:)good:)study well.\n",
      "customizedTechniques-2\n",
      "M:)m:)iqqf:)uvwfa ygnn.\n",
      "Length: 23\n",
      "customizedTechniques-3\n",
      "kXGXGXG>",
      "L\n",
      "Length: 23\n",
      "customizedTechniques-5\n",
      "y½y¹ÁÁ¶yÅÆÇ¶±pÉ·¾¾~\n",
      "Length: 23\n",
      "OpenSourceTechniques-6\n",
      "b'\\x02Z\\x08\\x10\\xfb*#\\xef#[\\x83\\xfcY\\x9a\\xa0\\xaf\\xee\\xbfU\\xbc\\xb0\\xa2\\xd4\\x97\\xe2\\xc0\\xe6\\xb6E\\x1a\\xce\\x81-\\xeb\\x805\\t\\xe2\\xac\\x1e\\x17\\xaa\\xf8T\\xf2\\x15\\xb7#'\n",
      "Length: 48\n",
      "Embedding Efficiency: 3.8333333333333335\n",
      "==============\n",
      "55Coffee cake, i guess...\n",
      "customizedTechniques-2\n",
      "Eqhhgg ecmg, k iwguu...\n",
      "Length: 23\n",
      "customizedTechniques-3\n",
      "c",
      "",
      ">",
      "J>>",
      "LLL\n",
      "Length: 23\n",
      "customizedTechniques-5\n",
      "Á¸¸··pµ³½·|p»p¹Ç·ÅÅ~~~\n",
      "Length: 23\n",
      "OpenSourceTechniques-6\n",
      "b'O\\xd5\\xd85e\\x14\\x15\\xa5\\x83\\x18\\xb8b\\xf8s\\xe8\\x809\\xf4\\xf1\\xff\\xe4?\\xa4\\xd9\\x85\\xf8*\\xf8\\xb91X\\xba\\n\\xe7\\xd9@\\x02\\x16\\xdc\\xe4[;X\\x08\\x08\\xc3h/'\n",
      "Length: 48\n",
      "Embedding Efficiency: 3.8333333333333335\n",
      "==============\n",
      "56Can you say what happen\n",
      "customizedTechniques-2\n",
      "Ecp aqw uca yjcv jcrrgp\n",
      "Length: 23\n",
      "customizedTechniques-3\n",
      "c>>>>",
      "\n",
      "Length: 23\n",
      "customizedTechniques-5\n",
      "³Àp±ÁÇpÅ³±pÉº³Æpº³ÂÂ·À\n",
      "Length: 23\n",
      "OpenSourceTechniques-6\n",
      "b'{|\\xa6dA\\xd5\\xc7OSI6\\x8d\\x86\\x1b\\x84`\\xea\\xe5\\x02\\xd2\\x89.\\xe4\\t#\\xc7\\x18\\t_9jx\\xdd\\x0c\\xb9\\xc2\\x12?gTI\\x8b\\x04\\xc1N\\xe8>G'\n",
      "Length: 48\n",
      "Embedding Efficiency: 3.8333333333333335\n",
      "==============\n",
      "57Dear i have reache room\n",
      "customizedTechniques-2\n",
      "Fgct k jcxg tgcejg tqqo\n",
      "Length: 23\n",
      "customizedTechniques-3\n",
      "d",
      ">>",
      ">",
      "",
      ">\n",
      "Length: 23\n",
      "customizedTechniques-5\n",
      "·³Äp»pº³È·pÄ·³µº·pÄÁÁ¿\n",
      "Length: 23\n",
      "OpenSourceTechniques-6\n"
     ]
    },
    {
     "name": "stdout",
     "output_type": "stream",
     "text": [
      "b'\\x95\\xa7Q\\xc1\\x19Xx\\x8a\\xa1\\xf95\\xce\\x1a\\x88\\x84C\\x95qB\\x98\\xcaq\\xd4\\x90w4\\x88K\\x1a\\x7f\\xc9\\xcf\\x9c<\\xbe@\\x94w\\xf2>\\xd6\\x8b\\x91\\xf2\\x82\\x02\\xd3E'\n",
      "Length: 48\n",
      "Embedding Efficiency: 3.8333333333333335\n",
      "==============\n",
      "58Check with nuerologist.\n",
      "customizedTechniques-2\n",
      "Ejgem ykvj pwgtqnqikuv.\n",
      "Length: 23\n",
      "customizedTechniques-3\n",
      "c",
      ">>",
      "L\n",
      "Length: 23\n",
      "customizedTechniques-5\n",
      "º·µ½pÉ»ÆºpÀÇ·ÄÁ¾Á¹»ÅÆ~\n",
      "Length: 23\n",
      "OpenSourceTechniques-6\n",
      "b'\\xad{\\xbd34\\x9c\\x7f\\x11*\\xc9|\\xaa\\xc0\\xe1\\xd0t\\nuH\\xa4\\xb3O\\x9e\\xb1\\rv\\xdf\\xf84Q\\xb3\\x9aD$\\x81\\x98\\xff\\x8b\\xb1\\xf8\\x7f\\x0b\\t\\xbdE\\xfdF\\x03'\n",
      "Length: 48\n",
      "Embedding Efficiency: 3.8333333333333335\n",
      "==============\n",
      "59Lol ok your forgiven :)\n",
      "customizedTechniques-2\n",
      "Nqn qm aqwt hqtikxgp :)\n",
      "Length: 23\n",
      "customizedTechniques-3\n",
      "l>>>",
      ">XG\n",
      "Length: 23\n",
      "customizedTechniques-5\n",
      "Á¾pÁ½p±ÁÇÄp¸ÁÄ¹»È·Àpy\n",
      "Length: 23\n",
      "OpenSourceTechniques-6\n",
      "b'P\\x9f\\xfec\\x0e\\xcc\\x86\\x9e\\x07H\\x87\\xca\\x04z\\x80:V\\xd8\\xfbb\\x83?M\\xccj\\xac,G\\x9a\\xf7\\x12\\xfcd\\n\\x12\\xc3\\x9c\\xeaW\\x91\\x91\\x9a%x\\xc8q\\xe1!'\n",
      "Length: 48\n",
      "Embedding Efficiency: 3.8333333333333335\n",
      "==============\n",
      "60Then any special there?\n",
      "customizedTechniques-2\n",
      "Vjgp cpa urgekcn vjgtg?\n",
      "Length: 23\n",
      "customizedTechniques-3\n",
      "t",
      ">>",
      ">",
      "",
      "]\n",
      "Length: 23\n",
      "customizedTechniques-5\n",
      "¦º·Àp³À±pÅÂ·µ»³¾pÆº·Ä·\n",
      "Length: 23\n",
      "OpenSourceTechniques-6\n",
      "b'\\xa7\\xf2\\xd1\\x03\\xf8I.\\xce\\n\\xe3\\xb4\\x02\\x19\\xd0D3P\\xf0:\\xafN\\x1b\\x86\\xf5\\xa1d\\x8d\\xc1\\x1b\\xef\\xb9\\x00\\xfa\\x88\\x16Op\\t\\xbc\\xc6\\xf8\\xfd\\x82B\\xf6{\\xdbT'\n",
      "Length: 48\n",
      "Embedding Efficiency: 3.8333333333333335\n",
      "==============\n",
      "61So why didnt you holla?\n",
      "customizedTechniques-2\n",
      "Uq yja fkfpv aqw jqnnc?\n",
      "Length: 23\n",
      "customizedTechniques-3\n",
      "s>>>>]\n",
      "Length: 23\n",
      "customizedTechniques-5\n",
      "¥ÁpÉº±p¶»¶ÀÆp±ÁÇpºÁ¾¾³\n",
      "Length: 23\n",
      "OpenSourceTechniques-6\n",
      "b'\\x03\\x9fD\\xc7u\\\\\\xcdl\\xa9\\xc4.N1\\x8f\\x916o\\xd6\\x1a\\xae\\xc4\\xee\\xe1I\\xe9\\xcf)\\xc8[\\xc0\\xff\\xb7\\xb8\\x1d\\xee\\xb2\\xae\\x97\\xe4\\xe7\\xa73\\xf6\\x10\\xb2\\xe4\\xdd|'\n",
      "Length: 48\n",
      "Embedding Efficiency: 3.8333333333333335\n",
      "==============\n",
      "62That means get the door\n",
      "customizedTechniques-2\n",
      "Vjcv ogcpu igv vjg fqqt\n",
      "Length: 23\n",
      "customizedTechniques-3\n",
      "t>",
      ">",
      ">",
      ">\n",
      "Length: 23\n",
      "customizedTechniques-5\n",
      "¦º³Æp¿·³ÀÅp¹·ÆpÆº·p¶ÁÁÄ\n",
      "Length: 23\n",
      "OpenSourceTechniques-6\n",
      "b'\\x876\\xc1\\x0b\\xcdl\\xc0\\xd3\\xb5\\x8c`\\x0b\\x8a\\xe3v\\xff\\xb9\\x07Pa\\xd0\\x07\\xb7w\\xda\\xa7\\x8eQ\\x93V\\x83C\\xd5`\\x9a\\x05\\x16\\xad\\xa7\\xe2 >g)\\xb7}\\x8a4'\n",
      "Length: 48\n",
      "Embedding Efficiency: 3.8333333333333335\n",
      "==============\n",
      "63On the road so cant txt\n",
      "customizedTechniques-2\n",
      "Qp vjg tqcf uq ecpv vzv\n",
      "Length: 23\n",
      "customizedTechniques-3\n",
      "o>",
      ">>>>\n",
      "Length: 23\n",
      "customizedTechniques-5\n",
      "¡ÀpÆº·pÄÁ³¶pÅÁpµ³ÀÆpÆÊÆ\n",
      "Length: 23\n",
      "OpenSourceTechniques-6\n",
      "b\"/\\x96(s\\xb6\\xce\\x05\\xb0\\xacn^\\xf0k^\\x14[\\x9a\\x91t'S\\xbd\\xf0\\xb0\\x13\\x15\\xf1-\\xb4\\x9ew\\x1c\\x1c\\x84\\xe2\\xdf\\x1d\\xbc>\\xa2o\\x88\\xc6\\x9a\\xef\\xde\\x8c\\xb1\"\n",
      "Length: 48\n",
      "Embedding Efficiency: 3.8333333333333335\n",
      "==============\n",
      "64Spoons it is then okay?\n",
      "customizedTechniques-2\n",
      "Urqqpu kv ku vjgp qmca?\n",
      "Length: 23\n",
      "customizedTechniques-3\n",
      "s>>>",
      ">]\n",
      "Length: 23\n",
      "customizedTechniques-5\n",
      "¥ÂÁÁÀÅp»Æp»ÅpÆº·ÀpÁ½³±\n",
      "Length: 23\n",
      "OpenSourceTechniques-6\n",
      "b'\\x85\\xcb \\xed\\xf5G\\x9e1I\\x90\\x89\\xd4\\n!\\x84\\\\\\xa9\\xff\\xbd\\xdew\\x84\\xa4zYs\\r\\xcb\\xd6oUx\\x9c\\x80\\xb2\\xf8\\xa8\\xf0\\xd4\\x92i\\x13\\xf5ye9\\xc1\\x13'\n",
      "Length: 48\n",
      "Embedding Efficiency: 3.8333333333333335\n",
      "==============\n",
      "65I am sorry it hurt you.\n",
      "customizedTechniques-2\n",
      "K co uqtta kv jwtv aqw.\n",
      "Length: 23\n",
      "customizedTechniques-3\n",
      "i>>>>>L\n",
      "Length: 23\n",
      "customizedTechniques-5\n",
      "p³¿pÅÁÄÄ±p»ÆpºÇÄÆp±ÁÇ~\n",
      "Length: 23\n",
      "OpenSourceTechniques-6\n",
      "b'0\\xf6\\xe1fl\\xa3\\xd42\\xcb\\xca}{\\x94\\x0e\\xcf2\\xcb\\x9b\\xe4pn\\x83\\x05\\x95p.\\x00\\x97\\x16\\x13j\\xceR1\\xb7E\\xca\\xc4z\\xeb\\x82y\\x1e\\xa1p\\x19\\x1a\\x12'\n",
      "Length: 48\n",
      "Embedding Efficiency: 3.8333333333333335\n",
      "==============\n",
      "66When u wana see it then\n",
      "customizedTechniques-2\n",
      "Yjgp w ycpc ugg kv vjgp\n",
      "Length: 23\n",
      "customizedTechniques-3\n",
      "w",
      ">>>",
      "",
      ">>",
      "\n",
      "Length: 23\n",
      "customizedTechniques-5\n",
      "©º·ÀpÇpÉ³À³pÅ··p»ÆpÆº·À\n",
      "Length: 23\n",
      "OpenSourceTechniques-6\n",
      "b'\\xed\\x03\\xe8\\xd2a\\xbbY\\x13\\xbd\\xb1-V\"p\\xff)[\\xe6\\xb2\\xfb\\x12G\\xb9o\\x152\\xe9\\xad\\x00\\x9dk\\x1d\\xd0\\xe8\\xe5y\\x0b\\xf0\\x01\\x89\\x89,l\\xa1\\x80\\x98\\r$'\n",
      "Length: 48\n",
      "Embedding Efficiency: 3.8333333333333335\n",
      "==============\n",
      "67Oh all have to come ah?\n",
      "customizedTechniques-2\n",
      "Qj cnn jcxg vq eqog cj?\n",
      "Length: 23\n",
      "customizedTechniques-3\n",
      "o>>",
      ">>",
      ">]\n",
      "Length: 23\n",
      "customizedTechniques-5\n",
      "¡ºp³¾¾pº³È·pÆÁpµÁ¿·p³º\n",
      "Length: 23\n",
      "OpenSourceTechniques-6\n",
      "b'\\xf8\\xea\\x03y\\xccS8mN\\xa7n\\xb9C-Q\\x1eC\\xcd\"\\xf2\\xdet%k\\xe8\\xcf\\x8a\\xa2\\xb7\\x1dO\\x13\\x1fG\\xb7X\\xa4e\\x99F\\xc3\"F\\x92\\xdf\\xd2\\x18.'\n",
      "Length: 48\n",
      "Embedding Efficiency: 3.8333333333333335\n",
      "==============\n",
      "68No..but heard abt tat..\n",
      "customizedTechniques-2\n",
      "Pq..dwv jgctf cdv vcv..\n",
      "Length: 23\n",
      "customizedTechniques-3\n",
      "nLL>",
      ">>LL\n",
      "Length: 23\n",
      "customizedTechniques-5\n",
      " Á~~´ÇÆpº·³Ä¶p³´ÆpÆ³Æ~~\n",
      "Length: 23\n",
      "OpenSourceTechniques-6\n",
      "b't4a\\x13\\x83\\x04\\xee\"sQ\\x0fo\\x94s\\x07\\x94\\x8d\\x956*\\xb7\\x01\\xcc\\xa8\\x87\\x00\\x1a\\x0b\\xbc\\x1e\\x1f\\x8a,e\\xcf\\xcb4#\\xfa\\xc5\\x03\\xd3g\\x89SOz\\xb8'\n",
      "Length: 48\n",
      "Embedding Efficiency: 3.8333333333333335\n",
      "==============\n",
      "69He will, you guys close?\n",
      "customizedTechniques-2\n",
      "Jg yknn, aqw iwau enqug?\n",
      "Length: 24\n",
      "customizedTechniques-3\n",
      "h",
      ">J>>>",
      "]\n",
      "Length: 24\n",
      "customizedTechniques-5\n",
      "·pÉ»¾¾|p±ÁÇp¹Ç±Åpµ¾ÁÅ·\n",
      "Length: 24\n",
      "OpenSourceTechniques-6\n",
      "b'\\xe7lO[\\x1dsu\\xd65\\x99\\x80\\x96\\xb6\\x04\\x03\"W3\\xe2%[{`I\\x87\\xab\\x13\\xfd:\\xe7\\x9f\\xf2K\\x0c\\xa5\\x17\\x8d\\xe1\\x1f\\x9f\\xfaY\\xeb\\x07\\xd1\\x14eD'\n",
      "Length: 48\n",
      "Embedding Efficiency: 4.0\n",
      "==============\n",
      "70Goodmorning sleeping ga.\n",
      "customizedTechniques-2\n",
      "Iqqfoqtpkpi unggrkpi ic.\n",
      "Length: 24\n",
      "customizedTechniques-3\n",
      "g>",
      "",
      ">L\n",
      "Length: 24\n",
      "customizedTechniques-5\n",
      "ÁÁ¶¿ÁÄÀ»À¹pÅ¾··Â»À¹p¹³~\n",
      "Length: 24\n",
      "OpenSourceTechniques-6\n",
      "b'8\\x90\\x80av\\x11aO#\\xb7\\xed5\\xba\\x1f]|h\\xa50J\\x13q&\\x06A\\xd2kGz\\xe0j\\xc6f8\\xf6Kw\\x06\\x02\\xc6\\x91\\xb7\\xbf\\x94\\xa1)\\x18\\xbc'\n",
      "Length: 48\n",
      "Embedding Efficiency: 4.0\n",
      "==============\n",
      "71Yup... How Ì_ noe leh...\n",
      "customizedTechniques-2\n",
      "Awr... Jqy L_ pqg ngj...\n",
      "Length: 24\n",
      "customizedTechniques-3\n",
      "_LLL>h>j}>",
      ">",
      "LLL\n",
      "Length: 24\n",
      "customizedTechniques-5\n",
      "ÇÂ~~~pÁÉp¯pÀÁ·p¾·º~~~\n",
      "Length: 24\n",
      "OpenSourceTechniques-6\n",
      "b'\\xfe\\xcd`\"/u\\xcb\\xb2\\xed\\xd0\\xaf\\x07\\xd7\\x9a\\xdd\\xab\\xc5^\\x1d*\\xaf\\\\\\x81\\xe9\\x0c7\\x19@\\xc8\\x11T\\xee\\x07I\\xdf\\x85\\x87\\x8b\\x81\"\\xda\\x97\\xe1\\xd7\\x81\\xf3\\xd2x'\n",
      "Length: 48\n",
      "Embedding Efficiency: 4.0\n",
      "==============\n",
      "72He is a womdarfull actor\n",
      "customizedTechniques-2\n",
      "Jg ku c yqofcthwnn cevqt\n",
      "Length: 24\n",
      "customizedTechniques-3\n",
      "h",
      ">>>>\n",
      "Length: 24\n",
      "customizedTechniques-5\n",
      "·p»Åp³pÉÁ¿¶³Ä¸Ç¾¾p³µÆÁÄ\n",
      "Length: 24\n",
      "OpenSourceTechniques-6\n",
      "b'\\xce\\x14\\xd7\\xcdqu\\xb4[\\xe5R{k\\x83\\xc4\\x84\\xa8\\xd5\\xb8\\xae\\xf2\"\\x1d\\xcdd\\xcb\\xad0\\xc1G\\x84>s7\\x08\\x145\\xa1\\x08{s\\xf8\\xd3a\\xa67\\x9f\\x81\\xb4'\n",
      "Length: 48\n",
      "Embedding Efficiency: 4.0\n",
      "==============\n",
      "73Bring home some Wendy =D\n",
      "customizedTechniques-2\n",
      "Dtkpi jqog uqog Ygpfa =F\n",
      "Length: 24\n",
      "customizedTechniques-3\n",
      "b>",
      ">",
      ">w",
      ">[d\n",
      "Length: 24\n",
      "customizedTechniques-5\n",
      "Ä»À¹pºÁ¿·pÅÁ¿·p©·À¶±p\n",
      "Length: 24\n",
      "OpenSourceTechniques-6\n",
      "b'\\xf4-\\xbau\\xaem(\\xbar\\x082\\xcb@\\x87\\xbb\\xb9%\\xb7\\xe2\\xbd8\\xe4J\\x93X-\\xd6Q\\xa3\\xd7\\x91\\x8b\\x1c\\x08\\x89\\xa7\\x90\\xff3q7}SA\\x14%\\x1c\\xa2'\n",
      "Length: 48\n",
      "Embedding Efficiency: 4.0\n",
      "==============\n",
      "74Siva is in hostel aha:-.\n",
      "customizedTechniques-2\n",
      "Ukxc ku kp jquvgn cjc:-.\n",
      "Length: 24\n",
      "customizedTechniques-3\n",
      "s>>>",
      ">XKL\n",
      "Length: 24\n",
      "customizedTechniques-5\n",
      "¥»È³p»Åp»ÀpºÁÅÆ·¾p³º³}~\n",
      "Length: 24\n",
      "OpenSourceTechniques-6\n",
      "b'\\xd7\\xc9\\xed\\xc8\\xde[,\\xf2\\xdc\\xc9\\x7f\\xcd\\xb2?j\\x9bs7X\\x8c\\xd3\\x96\\x85\\x1ak4\\x068\\xdd\\xc9\\xa9vo\\xcbXcV\\xb9\\x1e\\xa5x\\xecoY\\xfa\\x021?'\n",
      "Length: 48\n",
      "Embedding Efficiency: 4.0\n",
      "==============\n",
      "75At home watching tv lor.\n",
      "customizedTechniques-2\n",
      "Cv jqog ycvejkpi vx nqt.\n",
      "Length: 24\n",
      "customizedTechniques-3\n",
      "a>",
      ">>>L\n",
      "Length: 24\n",
      "customizedTechniques-5\n",
      "ÆpºÁ¿·pÉ³Æµº»À¹pÆÈp¾ÁÄ~\n",
      "Length: 24\n",
      "OpenSourceTechniques-6\n",
      "b\"\\x87\\xe6\\x19ql\\xc7Q\\xed\\xc6\\xef\\xbeN\\xa4\\x06l4\\x8dFK%^\\x91\\xca\\x9b\\xd0\\x18'O\\xc9\\xf1wZ\\xb2f+\\xdd\\xd9\\xa7\\xecL7\\x97\\x9c\\xf5\\x95\\x96\\xb3\\xe5\"\n",
      "Length: 48\n",
      "Embedding Efficiency: 4.0\n",
      "==============\n",
      "76What's the significance?\n",
      "customizedTechniques-2\n",
      "Yjcv'u vjg ukipkhkecpeg?\n",
      "Length: 24\n",
      "customizedTechniques-3\n",
      "wE>",
      ">",
      "]\n",
      "Length: 24\n",
      "customizedTechniques-5\n",
      "©º³ÆwÅpÆº·pÅ»¹À»¸»µ³Àµ·\n",
      "Length: 24\n",
      "OpenSourceTechniques-6\n",
      "b\"bW>\\x08'\\xa1\\xc1\\x82>\\x06\\t\\x83XM\\xfbJ\\x06, \\x8e\\xa6\\xe2\\x13\\x9e\\xaeD\\x07>\\x9f\\xab\\x05\\xd6\\n\\x17\\x94\\xf8\\xd6$:\\xc5;*\\xaf]\\x19\\xee\\xb2\\xcd\"\n",
      "Length: 48\n",
      "Embedding Efficiency: 4.0\n",
      "==============\n",
      "77You still at grand prix?\n",
      "customizedTechniques-2\n",
      "Aqw uvknn cv itcpf rtkz?\n",
      "Length: 24\n",
      "customizedTechniques-3\n",
      "_>>>>]\n",
      "Length: 24\n",
      "customizedTechniques-5\n",
      "ÁÇpÅÆ»¾¾p³Æp¹Ä³À¶pÂÄ»Ê\n",
      "Length: 24\n",
      "OpenSourceTechniques-6\n",
      "b'\\x10\\x89\\x8a\\xc4dJ0h\\x1e\\x9e\\x95\\xfaS\\xf3\\xc5J\\x86\\xf4\\xb2\\x981_\\xa4\\x0b\\x81\\\\\\x1c\\n\\x10}[\\xe2`?\\xe8\\x19\\x98&\\xacS\\xad\\x19n\\xcc3 \\xbf\\xd4'\n",
      "Length: 48\n",
      "Embedding Efficiency: 4.0\n",
      "==============\n",
      "78I am great! How are you?\n",
      "customizedTechniques-2\n",
      "K co itgcv! Jqy ctg aqw?\n",
      "Length: 24\n",
      "customizedTechniques-3\n",
      "i>>",
      "?>h>",
      ">]\n",
      "Length: 24\n",
      "customizedTechniques-5\n",
      "p³¿p¹Ä·³ÆqpÁÉp³Ä·p±ÁÇ\n",
      "Length: 24\n",
      "OpenSourceTechniques-6\n",
      "b'\\x07\\xab`\\xc5\\x8d\\x96\\xd2\\xe9]\\x88\"C5@\\xa3\\x83S\\x12\\xa1)9K\\x17bah\\x04=\\xd1\\xea\\xa6\\x8a\\xec\\x06d\\xa9\\x81%\\x07\\xb1\\xf9\\xd1\\xcaj\\xd1\\x1fV\\xb8'\n",
      "Length: 48\n",
      "Embedding Efficiency: 4.0\n",
      "==============\n",
      "79Cause I'm not freaky lol\n",
      "customizedTechniques-2\n",
      "Ecwug K'o pqv htgcma nqn\n",
      "Length: 24\n",
      "customizedTechniques-3\n",
      "c",
      ">iE>>",
      ">\n",
      "Length: 24\n",
      "customizedTechniques-5\n",
      "³ÇÅ·pw¿pÀÁÆp¸Ä·³½±p¾Á¾\n",
      "Length: 24\n",
      "OpenSourceTechniques-6\n",
      "b'*\\xda\\xa2\\xaf\\xe9\\x17\\xfaJ\\xb0w\\x92c{\\x0e\\xd0\\x13\\xa8 \\x88F\\n:\\xc7\\xa7\\x07\\x19\\xdf\\xe2\\x1c7\\xe2\\x12\\x87\\x96\\x83\\x92\\x13\\xc6\\x1bO\\x01\\x02 1\\x0eh\\xf1\\x93'\n",
      "Length: 48\n",
      "Embedding Efficiency: 4.0\n",
      "==============\n",
      "80K.k:)when are you going?\n",
      "customizedTechniques-2\n",
      "M.m:)yjgp ctg aqw iqkpi?\n",
      "Length: 24\n",
      "customizedTechniques-3\n",
      "kLXG",
      ">",
      ">>]\n",
      "Length: 24\n",
      "customizedTechniques-5\n",
      "~½yÉº·Àp³Ä·p±ÁÇp¹Á»À¹\n",
      "Length: 24\n",
      "OpenSourceTechniques-6\n",
      "b'\\x04/S-6h\\x8cM[q\\xe1\\xd3\\xec\\xe5\\xe1\\xe8\\xf7\\x01]\"\\xca\\x8f\\\\\\xc7\\x17\"\\xfc\\x92\\xb0L\\xff\\xdb\\xb0`\\xbf\\x1d\\x0b\\xb7\\xb8\\xa2(\\x08\\xe3\\x9e\\xc7\\x1aF\\xc6'\n",
      "Length: 48\n",
      "Embedding Efficiency: 4.0\n",
      "==============\n",
      "81Your brother is a genius\n",
      "customizedTechniques-2\n",
      "Aqwt dtqvjgt ku c igpkwu\n",
      "Length: 24\n",
      "customizedTechniques-3\n",
      "_>",
      ">>>",
      "\n",
      "Length: 24\n",
      "customizedTechniques-5\n",
      "ÁÇÄp´ÄÁÆº·Äp»Åp³p¹·À»ÇÅ\n",
      "Length: 24\n",
      "OpenSourceTechniques-6\n",
      "b'\\xa3\\xb4\\x14\\xe1#\\xf8\\x9f2/=e\\xbc\\xfc\\xfb)\\x85\\x81\\x7f\\xc3\\xfaO\\x9f\\x1b\\x8fN\\xa5G>\\xec\\xc1\\\\\\t\\x0f\\x17<\\xf5\\xef\\xcbK>x4\\x13\\xb8-\\x84\"\\xc8'\n",
      "Length: 48\n",
      "Embedding Efficiency: 4.0\n",
      "==============\n",
      "82Gibbs unsold.mike hussey\n",
      "customizedTechniques-2\n",
      "Ikddu wpuqnf.okmg jwuuga\n",
      "Length: 24\n",
      "customizedTechniques-3\n",
      "g>L",
      ">",
      "\n",
      "Length: 24\n",
      "customizedTechniques-5\n",
      "»´´ÅpÇÀÅÁ¾¶~¿»½·pºÇÅÅ·±\n",
      "Length: 24\n",
      "OpenSourceTechniques-6\n",
      "b'\\x86\\xbe\\xac\\xe4\\xf6p[\\x9d\\x12\\xf8\\n\\xfc(\\xf9CGW\\xd5\\x0ew\\xef\\xfb\"\\xf5\\xb9\\xf4\\xf5m\\xd6\\xd2x\\xd6\\xd2A\\xe1\\xcb\\xca\\xf2\\x15\\r\\xc2\\x12\\xa03\\xc1q\\xbd\\x12'\n",
      "Length: 48\n",
      "Embedding Efficiency: 4.0\n",
      "==============\n",
      "83You unbelievable faglord\n",
      "customizedTechniques-2\n",
      "Aqw wpdgnkgxcdng hcinqtf\n",
      "Length: 24\n",
      "customizedTechniques-3\n",
      "_>",
      "",
      "",
      ">\n",
      "Length: 24\n",
      "customizedTechniques-5\n",
      "ÁÇpÇÀ´·¾»·È³´¾·p¸³¹¾ÁÄ¶\n",
      "Length: 24\n",
      "OpenSourceTechniques-6\n",
      "b'\\r\\xec\\xb0\\t\\xf5E\\x8b\\x9a~V\\x96\\x9a\\x08\\xdb\\xf0\\xd6\\xde\\t\\xfc\\xfe\\xecj\\xb1\\x99\\x95 \\xc8\\x1bI1\\xd4J\\xf5\\xcf\\\\\\xca\\xe0o\\x93\\xc8\\\\M\\xbdb\\x8eV\\x07['\n",
      "Length: 48\n",
      "Embedding Efficiency: 4.0\n",
      "==============\n",
      "84Why do you ask princess?\n",
      "customizedTechniques-2\n",
      "Yja fq aqw cum rtkpeguu?\n",
      "Length: 24\n",
      "customizedTechniques-3\n",
      "w>>>>",
      "]\n",
      "Length: 24\n",
      "customizedTechniques-5\n",
      "©º±p¶Áp±ÁÇp³Å½pÂÄ»Àµ·ÅÅ\n",
      "Length: 24\n",
      "OpenSourceTechniques-6\n",
      "b\"n\\x04\\xbf\\x84(\\xf3\\xc4\\x06\\xfe\\xc1?\\x19[\\xb6$\\xf8\\xe4\\xebs\\xc05\\x1d\\xe9R\\tR\\x06a\\x98\\xcad\\x9e*\\x1f]D\\x91\\xa5R1J\\xdd\\xc7\\x16\\x89/\\x98'\"\n",
      "Length: 48\n",
      "Embedding Efficiency: 4.0\n",
      "==============\n",
      "85K:)k.are you in college?\n",
      "customizedTechniques-2\n",
      "M:)m.ctg aqw kp eqnngig?\n",
      "Length: 24\n",
      "customizedTechniques-3\n",
      "kXGL",
      ">>>",
      "",
      "]\n",
      "Length: 24\n",
      "customizedTechniques-5\n",
      "y½~³Ä·p±ÁÇp»ÀpµÁ¾¾·¹·\n",
      "Length: 24\n",
      "OpenSourceTechniques-6\n",
      "b'\\xb2\\xdb\\x95?\\x82\\xce\\xfaS\\xf7\\xc2+\\xe3\\xcc\\xed\\x9dh\\xdaV\\xf7\\xa9\\xf4\\xf1\\x1b\\xb8\\x9b\\xef#`\\x87\\xf0\\x13\\xe7\\x90\\x84\\xd8\\x01\\xa4\\xe9\\xacY\\xd3\\xc0\\x04\\x0e\\xe4\\xef\\x99\\x0f'\n",
      "Length: 48\n",
      "Embedding Efficiency: 4.0\n",
      "==============\n",
      "86Chk in ur belovd ms dict\n",
      "customizedTechniques-2\n",
      "Ejm kp wt dgnqxf ou fkev\n",
      "Length: 24\n",
      "customizedTechniques-3\n",
      "c>>>",
      ">>\n",
      "Length: 24\n",
      "customizedTechniques-5\n",
      "º½p»ÀpÇÄp´·¾ÁÈ¶p¿Åp¶»µÆ\n",
      "Length: 24\n",
      "OpenSourceTechniques-6\n",
      "b'\\x06\\x14>\\xda\\xe0u\\xad\\xe9M\\xfc6\\xd7\\xcdH\\xc1\\xcea\\xdb\\x07@\\xdbEa\\xca-\\x0bm,\\xf2\\xd5\\xbfsM\\xadH[\\xc02\\xfdT1\\x94\\x16|\\x86\\xad\\xfc\\xfe'\n",
      "Length: 48\n",
      "Embedding Efficiency: 4.0\n",
      "==============\n",
      "87Shb b ok lor... Thanx...\n",
      "customizedTechniques-2\n",
      "Ujd d qm nqt... Vjcpz...\n",
      "Length: 24\n",
      "customizedTechniques-3\n",
      "s>>>LLL>tLLL\n",
      "Length: 24\n",
      "customizedTechniques-5\n",
      "¥º´p´pÁ½p¾ÁÄ~~~p¦º³ÀÊ~~~\n",
      "Length: 24\n",
      "OpenSourceTechniques-6\n",
      "b'?\\x8d\\xb87\\xb04;|c>\\xca\\x01>wx\\x9c\\xa9\\x8c|A\\x99\\xea\\xb0\\x95a\\x811\\xa8s\\xfa\\xcb\\x0bMg\\x7fE\\x85Q\\xf8\\x8c=\\x84\\xa4\\xd5\\xe1\\xe3\\x9f\\xf7'\n",
      "Length: 48\n",
      "Embedding Efficiency: 4.0\n",
      "==============\n",
      "88Eh u send wrongly lar...\n",
      "customizedTechniques-2\n",
      "Gj w ugpf ytqpina nct...\n",
      "Length: 24\n",
      "customizedTechniques-3\n",
      "e>>",
      ">>LLL\n",
      "Length: 24\n",
      "customizedTechniques-5\n",
      "ºpÇpÅ·À¶pÉÄÁÀ¹¾±p¾³Ä~~~\n",
      "Length: 24\n",
      "OpenSourceTechniques-6\n",
      "b'\\xf8\\xb9\\x1a\\xa3\\x93V\\xa1\\xdbT3\\x0c\\x8e\\xa4Y\\xd3\\xf3\\x8e\\xad\\x15\\xffR\\xa5\\xe5\\x85\\x92\\xf4\\xfc\\x88=\\xf7\\xd8\\x80\\xa9\\xb5x\\xd2It\\xcc\\xca\\x95\\xb5b\\t\\xaf\\xe2\\x9b\"'\n",
      "Length: 48\n",
      "Embedding Efficiency: 4.0\n",
      "==============\n",
      "89Its a part of checking IQ\n",
      "customizedTechniques-2\n",
      "Kvu c rctv qh ejgemkpi KS\n",
      "Length: 25\n",
      "customizedTechniques-3\n",
      "i>>>>",
      ">iq\n",
      "Length: 25\n",
      "customizedTechniques-5\n",
      "ÆÅp³pÂ³ÄÆpÁ¸pµº·µ½»À¹p£\n",
      "Length: 25\n",
      "OpenSourceTechniques-6\n",
      "b'\\xa2\\xd0_\\xda\\xb7\\xd6\\xe9\\xc3Q\\xc4\\xb4\\xea\\x0c\\xc9A\\x18L\\x9bzA1w>\\x16\\xdf\\\\\\x90\\xc7\\xaeL+\\x01\\x0f\\x8f`\\xd5\\xdb\\x11\\x1fI\\xfbmm:r\\x92\\x95\\x88'\n",
      "Length: 48\n",
      "Embedding Efficiency: 4.166666666666667\n",
      "==============\n",
      "90First answer my question.\n",
      "customizedTechniques-2\n",
      "Hktuv cpuygt oa swguvkqp.\n",
      "Length: 25\n",
      "customizedTechniques-3\n",
      "f>",
      ">>",
      "L\n",
      "Length: 25\n",
      "customizedTechniques-5\n",
      "»ÄÅÆp³ÀÅÉ·Äp¿±pÃÇ·ÅÆ»ÁÀ~\n",
      "Length: 25\n",
      "OpenSourceTechniques-6\n",
      "b'\\x03K\\x8b\\x08\\xed\\x13M\\xd2\\xbf]n\\xd1\\'\\xcc\\xeb\\x181\\x0b1S\\x08R\\xf5\\x0e\\xdf\\x8dV]t~\\x85s\\xf8\\x0e\\xd8\\rk7\\xc1\\xb5\"\\r\\x970\\xaf\"\\x99\\xb8'\n",
      "Length: 48\n",
      "Embedding Efficiency: 4.166666666666667\n",
      "==============\n",
      "91Yes see ya not on the dot\n",
      "customizedTechniques-2\n",
      "Agu ugg ac pqv qp vjg fqv\n",
      "Length: 25\n",
      "customizedTechniques-3\n",
      "_",
      ">",
      "",
      ">>>>",
      ">\n",
      "Length: 25\n",
      "customizedTechniques-5\n",
      "·ÅpÅ··p±³pÀÁÆpÁÀpÆº·p¶ÁÆ\n",
      "Length: 25\n",
      "OpenSourceTechniques-6\n",
      "b'5\\x89\\xe0\\x90fh\\xc3nf\\x85\\x1b\\xf1\\x88\\xa5\\xfd\\x1f=\\x95rk\\x12c\\xf9h\\x84\\xd8\\x14\\xe6d\\xc3\\xec\\xf3\\xdfgY0w]S\\x88\\x1fW\\xf7\\x96\\xad0\\x1c\\xdc'\n",
      "Length: 48\n",
      "Embedding Efficiency: 4.166666666666667\n",
      "==============\n",
      "92Ok... Ur typical reply...\n",
      "customizedTechniques-2\n",
      "Qm... Wt varkecn tgrna...\n",
      "Length: 25\n",
      "customizedTechniques-3\n",
      "oLLL>u>>",
      "LLL\n",
      "Length: 25\n",
      "customizedTechniques-5\n",
      "¡½~~~p§ÄpÆ±Â»µ³¾pÄ·Â¾±~~~\n",
      "Length: 25\n",
      "OpenSourceTechniques-6\n",
      "b'\\xa5\\xcb\\xc8\\xf0=m\\xae\\xc2\\x1dp\\x1b\\x00\\xff\\x1d,I\\xd1\\xa3\\xb5\\xa2s\\xc2\\x95\\xf9\\xb93m\\xb9\\xd2kM3C\\xdb\\x12\\xef$\\xc9zF\\x1e6\\xe7\\xaf\\x11.z\\xac'\n",
      "Length: 48\n",
      "Embedding Efficiency: 4.166666666666667\n",
      "==============\n",
      "93U call me alter at 11 ok.\n",
      "customizedTechniques-2\n",
      "W ecnn og cnvgt cv 11 qm.\n",
      "Length: 25\n",
      "customizedTechniques-3\n",
      "u>>",
      ">",
      ">>OO>L\n",
      "Length: 25\n",
      "customizedTechniques-5\n",
      "§pµ³¾¾p¿·p³¾Æ·Äp³ÆppÁ½~\n",
      "Length: 25\n",
      "OpenSourceTechniques-6\n",
      "b'\\xbf)/\\xa7\\xa0u\\x06:\\x12\\x14T\\xa6m\\x11\\x18\\xe8\\x04\\x16\\xa7\\xad\\xf5f\\xbf\\xfd\\x8e\\x9a\\x93]\\xc9\\xa9\"\\xd1\\xb7\\xe0\\xf2\\x04\\xcf\\x19\\xee\\xc2M\\xde~\\xc0\"\\xadq\\x95'\n",
      "Length: 48\n",
      "Embedding Efficiency: 4.166666666666667\n",
      "==============\n",
      "94Ok no prob. Take ur time.\n",
      "customizedTechniques-2\n",
      "Qm pq rtqd. Vcmg wt vkog.\n",
      "Length: 25\n",
      "customizedTechniques-3\n",
      "o>>L>t",
      ">>",
      "L\n",
      "Length: 25\n",
      "customizedTechniques-5\n",
      "¡½pÀÁpÂÄÁ´~p¦³½·pÇÄpÆ»¿·~\n",
      "Length: 25\n",
      "OpenSourceTechniques-6\n",
      "b'#\\x11Vjn\\x05]\"\\xec\\x81\\x08\\xde9z\\xbc\\x9edr\\x9d$VR\\xb7\\xde\\xa5\\x82\\x08\\xee\\xf3\\xb6\\x8a\\x9f\\x98\\t\\xc2\\x1f\\x97\\x95\\x06xU\\xed\\t\\xa1\\xe6~\\x9e\\x19'\n",
      "Length: 48\n",
      "Embedding Efficiency: 4.166666666666667\n",
      "==============\n",
      "95Huh so late... Fr dinner?\n",
      "customizedTechniques-2\n",
      "Jwj uq ncvg... Ht fkppgt?\n",
      "Length: 25\n",
      "customizedTechniques-3\n",
      "h>>",
      "LLL>f>",
      "]\n",
      "Length: 25\n",
      "customizedTechniques-5\n",
      "ÇºpÅÁp¾³Æ·~~~pÄp¶»ÀÀ·Ä\n",
      "Length: 25\n",
      "OpenSourceTechniques-6\n",
      "b'lI\\x02\\x91\\xa2\\ts\\xad\\x10Y\\x8b\\x11\\xd2xR:\\x87g\\x99\\xc8\\xfc\\x8a{\\x17\\xf5rV0\\xe4\\x95\\x08\\x1dv\\xf5.pr5\\xb1\\xa1\\x17\\xb5&\\xbc;fMD'\n",
      "Length: 48\n",
      "Embedding Efficiency: 4.166666666666667\n",
      "==============\n",
      "96Ok. She'll be ok. I guess\n",
      "customizedTechniques-2\n",
      "Qm. Ujg'nn dg qm. K iwguu\n",
      "Length: 25\n",
      "customizedTechniques-3\n",
      "oL>s",
      "E>",
      ">L>i>",
      "\n",
      "Length: 25\n",
      "customizedTechniques-5\n",
      "¡½~p¥º·w¾¾p´·pÁ½~pp¹Ç·ÅÅ\n",
      "Length: 25\n",
      "OpenSourceTechniques-6\n",
      "b'~\\xaa\"\\xcdwC\\xef\\x17\\xc5Zez\\xca\\\\q{P\\xaf\\x88\\xc1\\xf6\\x8c\\xa7\\xe3\\x8f\\x18M7@W\\x89W\\xee\\x1e\\x86\\xe1\\x88C\\xfd9\\x1b94\\x8113\\xd5\\xe7'\n",
      "Length: 48\n",
      "Embedding Efficiency: 4.166666666666667\n",
      "==============\n",
      "97Booked ticket for pongal?\n",
      "customizedTechniques-2\n",
      "Dqqmgf vkemgv hqt rqpicn?\n",
      "Length: 25\n",
      "customizedTechniques-3\n",
      "b",
      ">",
      ">>]\n",
      "Length: 25\n",
      "customizedTechniques-5\n",
      "ÁÁ½·¶pÆ»µ½·Æp¸ÁÄpÂÁÀ¹³¾\n",
      "Length: 25\n",
      "OpenSourceTechniques-6\n",
      "b'\\xc6\\x1e\\xe9\\xce\\xabo\\xfc\\xc4U\\x80\\x00\\xaa\\x19H\\x1c\\xbf\\xa8O?/\\x18P\\xaf\\xa9\\xaf\\xa0\\xb7\\xff\\t\\xbc\\xa4\\xf6\\xfd\\xcd\\xe73VB\\x98f\\x11J\\xc6}5\\xa5\\xf3!'\n",
      "Length: 48\n",
      "Embedding Efficiency: 4.166666666666667\n",
      "==============\n",
      "98No..jst change tat only..\n",
      "customizedTechniques-2\n",
      "Pq..luv ejcpig vcv qpna..\n",
      "Length: 25\n",
      "customizedTechniques-3\n",
      "nLL>",
      ">>LL\n",
      "Length: 25\n",
      "customizedTechniques-5\n",
      " Á~~¼ÅÆpµº³À¹·pÆ³ÆpÁÀ¾±~~\n",
      "Length: 25\n",
      "OpenSourceTechniques-6\n",
      "b'zY\\xc8U\\xad\\xae\\x818\"fr\\x84\\xd9 \\x06\\xb4\\xcfI\\xc1\\xaaS\\xdd\\xf8\\xe0\\x05\\x83\\x83FN\\x1d\\nk\"\\xd9\\\\TD\\xc8P\\xa9~\\x9f\\xdb\\xf9\\xec\\tJP'\n",
      "Length: 48\n",
      "Embedding Efficiency: 4.166666666666667\n",
      "==============\n",
      "99TaKe CaRE n gET WeLL sOOn\n",
      "customizedTechniques-2\n",
      "VcMg EcTG p iGV YgNN uQQp\n",
      "Length: 25\n",
      "customizedTechniques-3\n",
      "tk",
      ">cre>>et>w",
      "ll>oo\n",
      "Length: 25\n",
      "customizedTechniques-5\n",
      "¦³·p³¤pÀp¹¦p©·pÅ¡¡À\n",
      "Length: 25\n",
      "OpenSourceTechniques-6\n",
      "b\"J\\x1e'6\\x16\\nNC\\x8f\\xc4\\xde\\xd7\\x96\\xcc\\x1eW\\xc2$\\x03\\xc8\\x93\\x8d\\x10r\\xc6\\x92\\x1aZ\\x13rZ\\xe4C\\xfbZ\\xd5\\xe0Q\\x80\\x06\\xde\\xed\\x10@\\x8bEIC\"\n",
      "Length: 48\n",
      "Embedding Efficiency: 4.166666666666667\n",
      "==============\n",
      "100For my family happiness..\n",
      "customizedTechniques-2\n",
      "Hqt oa hcokna jcrrkpguu..\n",
      "Length: 25\n",
      "customizedTechniques-3\n",
      "f>>>",
      "LL\n",
      "Length: 25\n",
      "customizedTechniques-5\n",
      "ÁÄp¿±p¸³¿»¾±pº³ÂÂ»À·ÅÅ~~\n",
      "Length: 25\n",
      "OpenSourceTechniques-6\n",
      "b'\\xee\\xa7.tP\\xf1\\x9e\\xcd\\x87\\x9a\\xed$\\x14\\xb3\\x90\\xb3+TA\\x1dR\\xd6\\xb8\\x0c\\xd9\\xf4\\x8c\\xa5\\x9b\\x15\\xa5E\\xfd\\xb8,\\xc2\\x18\\xceyd\\xfc\\xc5S|8\\xb9\\xc0\\xd3'\n",
      "Length: 48\n",
      "Embedding Efficiency: 4.166666666666667\n",
      "==============\n",
      "101Have a good evening! Ttyl\n",
      "customizedTechniques-2\n",
      "Jcxg c iqqf gxgpkpi! Vvan\n",
      "Length: 25\n",
      "customizedTechniques-3\n",
      "h",
      ">>>",
      "",
      "?>t\n",
      "Length: 25\n",
      "customizedTechniques-5\n",
      "³È·p³p¹ÁÁ¶p·È·À»À¹qp¦Æ±¾\n",
      "Length: 25\n",
      "OpenSourceTechniques-6\n"
     ]
    },
    {
     "name": "stdout",
     "output_type": "stream",
     "text": [
      "b'\\x1f|\\xf4\\x0b^\\xf9j\\xc5!\\xc7~\\x116\\x06\\x01e\\xfe=\\xfa\\xd7\\xb0\\x1d\\\\?M\\xd8\\x81\\xe3\\x11X\\xe11\\xa2n\\r\\xcd\\xec!\\x03\\x8aA\\xd5\\x90\\xe8\\xa1\\x0f\\xe0\\xe5'\n",
      "Length: 48\n",
      "Embedding Efficiency: 4.166666666666667\n",
      "==============\n",
      "102That is wondar full flim.\n",
      "customizedTechniques-2\n",
      "Vjcv ku yqpfct hwnn hnko.\n",
      "Length: 25\n",
      "customizedTechniques-3\n",
      "t>>>>L\n",
      "Length: 25\n",
      "customizedTechniques-5\n",
      "¦º³Æp»ÅpÉÁÀ¶³Äp¸Ç¾¾p¸¾»¿~\n",
      "Length: 25\n",
      "OpenSourceTechniques-6\n",
      "b'R\\xe0\\xdb$L$\\xb1\\xf0\\x06\\xc7!\\xd5\\x8c\\x9dC\\xb0\\xbd8%\\x92w\\x9d\\x83G\\x17\\x92\\x88\\x8a|\\x8e\\xa9{\\x01\\xd2n\\xa8\\x8d|\\xee\\xbe\\xa3\\xa4\\xc3U=\\x0c\\xbf0'\n",
      "Length: 48\n",
      "Embedding Efficiency: 4.166666666666667\n",
      "==============\n",
      "103Wish i were with you now!\n",
      "customizedTechniques-2\n",
      "Ykuj k ygtg ykvj aqw pqy!\n",
      "Length: 25\n",
      "customizedTechniques-3\n",
      "w>>",
      "",
      ">>>?\n",
      "Length: 25\n",
      "customizedTechniques-5\n",
      "©»Åºp»pÉ·Ä·pÉ»Æºp±ÁÇpÀÁÉq\n",
      "Length: 25\n",
      "OpenSourceTechniques-6\n",
      "b'\\x91!\\xe9\\x8bo\\xc2fQ\\x7f\\x95\\xe6Q7\\xc8`\\xbd\\xb7\\xdcr\\xca\\xb1`\\x9ddg\\xe8/\\xac\\xf4\\xa2\\x9as\\xea1\\x81\\xf6+\\x15x\\xc9A|\\x90\\xc3\\xde\\xb9\\x0e\\x9e'\n",
      "Length: 48\n",
      "Embedding Efficiency: 4.166666666666667\n",
      "==============\n",
      "104K I'll be there before 4.\n",
      "customizedTechniques-2\n",
      "M K'nn dg vjgtg dghqtg 4.\n",
      "Length: 25\n",
      "customizedTechniques-3\n",
      "k>iE>",
      ">",
      "",
      ">",
      "",
      ">RL\n",
      "Length: 25\n",
      "customizedTechniques-5\n",
      "pw¾¾p´·pÆº·Ä·p´·¸ÁÄ·p~\n",
      "Length: 25\n",
      "OpenSourceTechniques-6\n",
      "b\"\\xdf'\\xc8\\xc9\\xf6\\x10\\x17g\\x8e;\\x05\\x16z\\xbe\\xe4\\xfc4\\x9fh\\x91z\\xcdH\\xe9\\x8b\\xaeNJ+\\xb2\\xda>\\x83?\\xb7\\xf5\\xff\\xa4%\\xb4\\x87\\xdcP5\\x14\\xf9\\xc1\\xb7\"\n",
      "Length: 48\n",
      "Embedding Efficiency: 4.166666666666667\n",
      "==============\n",
      "105Have a good evening! Ttyl\n",
      "customizedTechniques-2\n",
      "Jcxg c iqqf gxgpkpi! Vvan\n",
      "Length: 25\n",
      "customizedTechniques-3\n",
      "h",
      ">>>",
      "",
      "?>t\n",
      "Length: 25\n",
      "customizedTechniques-5\n",
      "³È·p³p¹ÁÁ¶p·È·À»À¹qp¦Æ±¾\n",
      "Length: 25\n",
      "OpenSourceTechniques-6\n",
      "b\"n\\xc9\\xf8\\x81\\xcemB'\\x00\\x85\\xf8j\\x06sj\\x0c\\ra\\x8b\\xca\\xc0;\\xaf\\x88\\xb3\\x12O\\xb3r\\x17\\x8eI\\xd4\\xad5\\xca\\xdf\\xf0\\xb9\\xadx!\\xf0j\\xa8ZH%\"\n",
      "Length: 48\n",
      "Embedding Efficiency: 4.166666666666667\n",
      "==============\n",
      "106Oh k...i'm watching here:)\n",
      "customizedTechniques-2\n",
      "Qj m...k'o ycvejkpi jgtg:)\n",
      "Length: 26\n",
      "customizedTechniques-3\n",
      "o>LLLE>>",
      "",
      "XG\n",
      "Length: 26\n",
      "customizedTechniques-5\n",
      "¡ºp½~~~»w¿pÉ³Æµº»À¹pº·Ä·y\n",
      "Length: 26\n",
      "OpenSourceTechniques-6\n",
      "b'\\xcc&\\x86\\x9b\\xe4\\x96\\x0e8\\x1e[\\xefj \\xefb\\x82o\\x18&\\xe3\\xca\\xd8\\x91\\x00,l-<@D\\xfd\\xe6=bCr\\r\\x8d\\xca\\xcc\\x88\\xf7\\xa8Z:\\xf15\\x84'\n",
      "Length: 48\n",
      "Embedding Efficiency: 4.333333333333333\n",
      "==============\n",
      "107U still going to the mall?\n",
      "customizedTechniques-2\n",
      "W uvknn iqkpi vq vjg ocnn?\n",
      "Length: 26\n",
      "customizedTechniques-3\n",
      "u>>>>",
      ">]\n",
      "Length: 26\n",
      "customizedTechniques-5\n",
      "§pÅÆ»¾¾p¹Á»À¹pÆÁpÆº·p¿³¾¾\n",
      "Length: 26\n",
      "OpenSourceTechniques-6\n",
      "b\"\\xe1*\\x04\\xa2\\xe7\\x1b\\xb5\\x9dLM\\xcc \\x8cE\\xd2'\\x90\\xd9\\x02k\\xabiP\\xf7\\xfb\\xeb\\xc5\\x10T\\xb8]\\xe8d\\xd5\\x9b\\x03oW\\xa9\\x03\\xde\\x88O1K\\x03\\x8fZ\"\n",
      "Length: 48\n",
      "Embedding Efficiency: 4.333333333333333\n",
      "==============\n",
      "108Going on nothing great.bye\n",
      "customizedTechniques-2\n",
      "Iqkpi qp pqvjkpi itgcv.dag\n",
      "Length: 26\n",
      "customizedTechniques-3\n",
      "g>>>",
      "L",
      "\n",
      "Length: 26\n",
      "customizedTechniques-5\n",
      "Á»À¹pÁÀpÀÁÆº»À¹p¹Ä·³Æ~´±·\n",
      "Length: 26\n",
      "OpenSourceTechniques-6\n",
      "b'\\xb1:\\xb7\\xe5;o\\xd1\\xf5_\\xf5Z\\x91\\x1byh\\xab\\xf4\\x11d\\x1e\\xc7CFy\\x10\\xf6\\xa0\\xb7\\xcd\\x9e\\x0f\\xe9I\\xfab\\xf6\\x96\\xf0*Q\\x16\\x9f\\xc7\\xa0\\xf4<\\x8b8Ml\\xd1UR<\\xd2\\xa7\\x85$*\\rX8}\\xc0'\n",
      "Length: 64\n",
      "Embedding Efficiency: 3.25\n",
      "==============\n",
      "109Home so we can always chat\n",
      "customizedTechniques-2\n",
      "Jqog uq yg ecp cnycau ejcv\n",
      "Length: 26\n",
      "customizedTechniques-3\n",
      "h",
      ">>",
      ">>>\n",
      "Length: 26\n",
      "customizedTechniques-5\n",
      "Á¿·pÅÁpÉ·pµ³Àp³¾É³±Åpµº³Æ\n",
      "Length: 26\n",
      "OpenSourceTechniques-6\n",
      "b'\\x1f=6\\n\\xc2B(F\\xf8\\xf0O\\xd2\\xe3\"\\xe9\\x91\\x7f\\nZ\\x02\\xa5r\\xdc\\tJ\\xe9\\xd0j\\x8ab#j\\x82u\\xc9\\xc4\\xad\\xdc\\xd7*#\\x02O\\xa9S{e\\xb4'\n",
      "Length: 48\n",
      "Embedding Efficiency: 4.333333333333333\n",
      "==============\n",
      "110Why you Dint come with us.\n",
      "customizedTechniques-2\n",
      "Yja aqw Fkpv eqog ykvj wu.\n",
      "Length: 26\n",
      "customizedTechniques-3\n",
      "w>>d>",
      ">>L\n",
      "Length: 26\n",
      "customizedTechniques-5\n",
      "©º±p±ÁÇp»ÀÆpµÁ¿·pÉ»ÆºpÇÅ~\n",
      "Length: 26\n",
      "OpenSourceTechniques-6\n",
      "b'v\\x17\\x85\\xc5\\xb7\\xaa\\x9f\\xde\\xd4\\xc5\\xcd\\x02X)\\xd6\\x97`\\x1a\\xe0\\xc0\\x9a=\\xec\\x0f\\xb2\\xd0\\x88\\xe8\\x97\\x9d\\\\\\xba\\x8b_$\\xd4\\xb4\\xec\\xef]\\xa1=I\\xe9\\xed\\xef\\xf5('\n",
      "Length: 48\n",
      "Embedding Efficiency: 4.333333333333333\n",
      "==============\n",
      "111Jos ask if u wana meet up?\n",
      "customizedTechniques-2\n",
      "Lqu cum kh w ycpc oggv wr?\n",
      "Length: 26\n",
      "customizedTechniques-3\n",
      "j>>>>>",
      "",
      ">]\n",
      "Length: 26\n",
      "customizedTechniques-5\n",
      "ÁÅp³Å½p»¸pÇpÉ³À³p¿··ÆpÇÂ\n",
      "Length: 26\n",
      "OpenSourceTechniques-6\n",
      "b'd\\x0b\\xf8\\x9e \\xf6%\\xc9\\x8f\\xfa\\\\[\\xe4\\xd2R\\xcd\\xcf\\x1d\\xfc\\xdb\\x10\\xb9DM\\xa4\\x9a\\x88\\xffM\\x02U\\x0b\\xbd\\xbd\\xfe\\xb3\\x17\\\\\\x98!Q\\xb5\\xd1\\xea_\\x91\\x1dU'\n",
      "Length: 48\n",
      "Embedding Efficiency: 4.333333333333333\n",
      "==============\n",
      "112K.k:)advance happy pongal.\n",
      "customizedTechniques-2\n",
      "M.m:)cfxcpeg jcrra rqpicn.\n",
      "Length: 26\n",
      "customizedTechniques-3\n",
      "kLXG",
      ">>L\n",
      "Length: 26\n",
      "customizedTechniques-5\n",
      "~½y³¶È³Àµ·pº³ÂÂ±pÂÁÀ¹³¾~\n",
      "Length: 26\n",
      "OpenSourceTechniques-6\n",
      "b'\\xe33\\xde\\xc8a=\\xcf\\xd0\\xf0c\\x9b<2M\\xf7%\\xfaZi\\xbak\\xe0\\xb3K\\x80=\\x12\\x11\\xbcv\\xb5\\xbbW\\xc4\\xf1^\\x9f\\x11\\xa5\\xbe\\xbd\\x84\\xd6\\x1b\\x89\\xce\\x1d\\x8b'\n",
      "Length: 48\n",
      "Embedding Efficiency: 4.333333333333333\n",
      "==============\n",
      "113Just sleeping..and surfing\n",
      "customizedTechniques-2\n",
      "Lwuv unggrkpi..cpf uwthkpi\n",
      "Length: 26\n",
      "customizedTechniques-3\n",
      "j>",
      "",
      "LL>\n",
      "Length: 26\n",
      "customizedTechniques-5\n",
      "ÇÅÆpÅ¾··Â»À¹~~³À¶pÅÇÄ¸»À¹\n",
      "Length: 26\n",
      "OpenSourceTechniques-6\n",
      "b'65/\\x88\\x1e\\xd0\\xabn9\\x1b?!\\xd1$Dx\\xf4y\\xc4\\xae/v\\x87\\xe4\\x98P4\\xbb\\xf1\\xbdk\\xa2\\x947\\x17k\\xcdLD,\\xd7h\\xd7\\xcc\\x88\\xd9T\\xbd\\xa4\\t)h\\xf5\\xf3c\\xf8\\x1d\\xbfz2\\xf8\\xfb\\x192'\n",
      "Length: 64\n",
      "Embedding Efficiency: 3.25\n",
      "==============\n",
      "114Wat uniform? In where get?\n",
      "customizedTechniques-2\n",
      "Ycv wpkhqto? Kp yjgtg igv?\n",
      "Length: 26\n",
      "customizedTechniques-3\n",
      "w>]>i>",
      "",
      ">",
      "]\n",
      "Length: 26\n",
      "customizedTechniques-5\n",
      "©³ÆpÇÀ»¸ÁÄ¿pÀpÉº·Ä·p¹·Æ\n",
      "Length: 26\n",
      "OpenSourceTechniques-6\n",
      "b'\\xe1q\\x85\\x07\\x15J\\x13mu\\xb5\\x8c\\xfeL\\x94\\xc9\\x9e\\x11\\xe2d\\xf2\\xd5\\xf6\\x00\\xc1h\\xc1\\xb2Fu\\xb2O\\xa7l\\xcfY\\xe5-!&\\xa7\\xc3\\x92\\xb8(\\xaaX^\\x85\\xced2\\xb7H{@G\\x03\\xc1~T\\x95^\\xcf\\xd7'\n",
      "Length: 64\n",
      "Embedding Efficiency: 3.25\n",
      "==============\n",
      "115S:)no competition for him.\n",
      "customizedTechniques-2\n",
      "U:)pq eqorgvkvkqp hqt jko.\n",
      "Length: 26\n",
      "customizedTechniques-3\n",
      "sXG>",
      ">>L\n",
      "Length: 26\n",
      "customizedTechniques-5\n",
      "¥yÀÁpµÁ¿Â·Æ»Æ»ÁÀp¸ÁÄpº»¿~\n",
      "Length: 26\n",
      "OpenSourceTechniques-6\n",
      "b'\\xdfU^.i\\x90z\\x94p\\x92\\x8d\\xdd\\xae\\x8c\\x92\\x15\\xd1\\x83\\x15d\\xec\\xcf\\xbc{\\xae\\n\\xdd\\xb9\\x0e\\xcf\\x10\\xf6v\\x8a\\xcd\\x1f\\xc2|8D\\xb3:,We\\x91\\xc1\\x0b'\n",
      "Length: 48\n",
      "Embedding Efficiency: 4.333333333333333\n",
      "==============\n",
      "116Shall i come to get pickle\n",
      "customizedTechniques-2\n",
      "Ujcnn k eqog vq igv rkemng\n",
      "Length: 26\n",
      "customizedTechniques-3\n",
      "s>>",
      ">>",
      ">",
      "\n",
      "Length: 26\n",
      "customizedTechniques-5\n",
      "¥º³¾¾p»pµÁ¿·pÆÁp¹·ÆpÂ»µ½¾·\n",
      "Length: 26\n",
      "OpenSourceTechniques-6\n",
      "b\"k\\x81$\\xcf\\x03\\xfck\\xcd\\xd4\\xa1\\x18\\x8a\\x8f\\x865\\x91\\x1a>\\x12J\\xcb\\x96\\x1f\\xd6\\xf6\\xb2\\xf9X'8!5C\\xc7\\xc5\\xbb\\xe3\\xc2\\xae\\xcd!\\x7f\\x7f\\xcf\\x16\\xe9\\xc8\\xc7\"\n",
      "Length: 48\n",
      "Embedding Efficiency: 4.333333333333333\n",
      "==============\n",
      "117Hi msg me:)i'm in office..\n",
      "customizedTechniques-2\n",
      "Jk oui og:)k'o kp qhhkeg..\n",
      "Length: 26\n",
      "customizedTechniques-3\n",
      "h>>",
      "XGE>>",
      "LL\n",
      "Length: 26\n",
      "customizedTechniques-5\n",
      "»p¿Å¹p¿·y»w¿p»ÀpÁ¸¸»µ·~~\n",
      "Length: 26\n",
      "OpenSourceTechniques-6\n",
      "b'-\\x93\\x17\\xe3\\x8e\\xf8L\\xf8\\xcc\\xf4\\xd8\\xe2\\xca\\xda\\xa5\\xbd!\\xfc\\xd6+\\xb4*;\\xb7\\x90\\xf6\\xe2Q*@\\x05\\xb2\\xaf\\x12\\xdb\\xc9\\nM(\\xed\\xd3\\x10\\x11=\\xce\\xeer-'\n",
      "Length: 48\n",
      "Embedding Efficiency: 4.333333333333333\n",
      "==============\n",
      "118WOT U WANNA DO THEN MISSY?\n",
      "customizedTechniques-2\n",
      "YQV W YCPPC FQ VJGP OKUUA?\n",
      "Length: 26\n",
      "customizedTechniques-3\n",
      "wot>u>wanna>do>then>miss_]\n",
      "Length: 26\n",
      "customizedTechniques-5\n",
      "©¡¦p§p©  p¡p¦ p¥¥\n",
      "Length: 26\n",
      "OpenSourceTechniques-6\n",
      "b\"\\x0c\\xc2\\xa9En\\xae\\xc1J&\\xf2\\x08~a\\xe1K\\xa3\\x85\\x9d\\x00+\\xb8\\x03p=\\xa2GEZ;\\x87\\x9c\\x96v\\x95'>\\xbd&\\x15\\xfb\\xa1r\\xd3\\xd89\\xe8\\xe9\\x8a\"\n",
      "Length: 48\n",
      "Embedding Efficiency: 4.333333333333333\n",
      "==============\n",
      "119Fine i miss you very much.\n",
      "customizedTechniques-2\n",
      "Hkpg k okuu aqw xgta owej.\n",
      "Length: 26\n",
      "customizedTechniques-3\n",
      "f",
      ">>>>",
      ">L\n",
      "Length: 26\n",
      "customizedTechniques-5\n",
      "»À·p»p¿»ÅÅp±ÁÇpÈ·Ä±p¿Çµº~\n",
      "Length: 26\n",
      "OpenSourceTechniques-6\n",
      "b'aq\\x06\\xc9\\xf8\\n\\x83x\\xcaXW\\xb6\\xde\\xc8\\xd6\\xe4<\\xce\\x03\\x89\\x92I\\x05\\xb8\\xfa\\xa4/gjpUu\\x04\\xb7s\\x9e\\xb7\\xcaj\\x94\\xc5d\\xf1\\x10\\xf5\\xd6\\xaf\\x88'\n",
      "Length: 48\n",
      "Embedding Efficiency: 4.333333333333333\n",
      "==============\n",
      "120Just sleeping..and surfing\n",
      "customizedTechniques-2\n",
      "Lwuv unggrkpi..cpf uwthkpi\n",
      "Length: 26\n",
      "customizedTechniques-3\n",
      "j>",
      "",
      "LL>\n",
      "Length: 26\n",
      "customizedTechniques-5\n",
      "ÇÅÆpÅ¾··Â»À¹~~³À¶pÅÇÄ¸»À¹\n",
      "Length: 26\n",
      "OpenSourceTechniques-6\n",
      "b'>S\\xf7\\x08\\xa4K\\x1a&\\xd2\\x8b\\x86\\xeb`/[r\\xdb>\\xe0\\x03\\x17v\\xa6%9G\\xe3e%\\xa1\\xeeV\\xae\\xb0\\x87\\xe5\\xe1A(Nw}B\\xc3X\\x85\\xb2\\xa6.\\xd86.\\xdd\\xb6\\x0fn\\x0c\\xc6\\xd7d\\xd8\\xc82\\xe1'\n",
      "Length: 64\n",
      "Embedding Efficiency: 3.25\n",
      "==============\n",
      "121S:)s.nervous  &lt;#&gt; :)\n",
      "customizedTechniques-2\n",
      "U:)u.pgtxqwu  &nv;#&iv; :)\n",
      "Length: 26\n",
      "customizedTechniques-3\n",
      "sXGL",
      ">>DYADY>XG\n",
      "Length: 26\n",
      "customizedTechniques-5\n",
      "¥yÅ~À·ÄÈÁÇÅppv¾Æsv¹Æpy\n",
      "Length: 26\n",
      "OpenSourceTechniques-6\n",
      "b\"7\\x8e\\xf5\\x8b1\\xe7'\\x01\\xeffw\\rlB\\xbc\\x10\\xbdq\\xd8_\\xfd\\x83J`\\x9d\\x1bX\\xf3\\x90(T\\xe8'\\xcf)|\\x83\\xee$%\\xeb\\xcb\\x1a\\x0fM\\xd6P\\xeb\"\n",
      "Length: 48\n",
      "Embedding Efficiency: 4.333333333333333\n",
      "==============\n",
      "122Surely result will offer:)\n",
      "customizedTechniques-2\n",
      "Uwtgna tguwnv yknn qhhgt:)\n",
      "Length: 26\n",
      "customizedTechniques-3\n",
      "s",
      ">",
      ">>",
      "XG\n",
      "Length: 26\n",
      "customizedTechniques-5\n",
      "¥ÇÄ·¾±pÄ·ÅÇ¾ÆpÉ»¾¾pÁ¸¸·Äy\n",
      "Length: 26\n",
      "OpenSourceTechniques-6\n",
      "b'\\x1e\\xa3c\\x08e\\xfd)Oy&\\xd9T\\x17]\\xaf\\x0eR\\xcc\\r\\xb3\\xafp\\xde\\x1e\\x84+F@\\x17\\xcbr}e\\x1bA\\xc8\\xb7\\xd2\\xae\\x0f\\xe14\\xd9\\xa9M\\xb99\\r\\x07\\x97y\\xe3R\\xf06U\\xcd\\x9en\\xd1\\xe9\\xf1Y='\n",
      "Length: 64\n",
      "Embedding Efficiency: 3.25\n",
      "==============\n",
      "123Then dun wear jeans lor...\n",
      "customizedTechniques-2\n",
      "Vjgp fwp ygct lgcpu nqt...\n",
      "Length: 26\n",
      "customizedTechniques-3\n",
      "t",
      ">>",
      ">",
      ">LLL\n",
      "Length: 26\n",
      "customizedTechniques-5\n",
      "¦º·Àp¶ÇÀpÉ·³Äp¼·³ÀÅp¾ÁÄ~~~\n",
      "Length: 26\n",
      "OpenSourceTechniques-6\n",
      "b'6dI\\xb5\\xf5\\x04\\x99\\xc2\\xb8p!\\xbdiF\\xcf\\xc6\\xa4\\xd6=}\\xc4\\x14\\x86\\x9d|\\x95\\xc4\\x88*\\xa0\\x92\\xad;\\xb0E\\x10\\xf3\\xbba\\xa10y\\xf2b@P\\x8e\\xad'\n",
      "Length: 48\n",
      "Embedding Efficiency: 4.333333333333333\n",
      "==============\n",
      "124Welp apparently he retired\n",
      "customizedTechniques-2\n",
      "Ygnr crrctgpvna jg tgvktgf\n",
      "Length: 26\n",
      "customizedTechniques-3\n",
      "w",
      ">",
      ">",
      ">",
      "",
      "\n",
      "Length: 26\n",
      "customizedTechniques-5\n",
      "©·¾Âp³ÂÂ³Ä·ÀÆ¾±pº·pÄ·Æ»Ä·¶\n",
      "Length: 26\n",
      "OpenSourceTechniques-6\n",
      "b'9\\x9a\\xb0\\x15@\\x1bB6J\\xe0}\\x08\\x9a\\xac\\xdb\\xc8\\xfar\\xf7%\\xa8\\xb5\\xa0\\xff\\xb2\\x04\\x9b\\x1b\\x14\\xf5]\\x05\\xb2\\xed\\x98\\xd8\\r\\xdb\\x0e\\x15\\x00\\x97\\x10\\xf2\\x18\\xe3\\xd8\\xfc\\xc6\\x9b}$h\\xe4\\xb3-K\\xe0*X\\xbexB\\x8a'\n",
      "Length: 64\n",
      "Embedding Efficiency: 3.25\n",
      "==============\n",
      "125Umma. Did she say anything\n",
      "customizedTechniques-2\n",
      "Wooc. Fkf ujg uca cpavjkpi\n",
      "Length: 26\n",
      "customizedTechniques-3\n",
      "uL>d>",
      ">>\n",
      "Length: 26\n",
      "customizedTechniques-5\n",
      "§¿¿³~p»¶pÅº·pÅ³±p³À±Æº»À¹\n",
      "Length: 26\n",
      "OpenSourceTechniques-6\n",
      "b'\\xb2+9\\xcd[\\x0f\\xc3uC|\\xce\\x17}\\xc0\\x0b\\xf2|9\\rm\\x83\\xd4\\x8b\\xdd\\xa6\\x96\\x8661[f\\xa2\\xf7\\xd1\\xfd\\xad\\x9b\\x10\\xf9\\xcah\\x9f\\x10\\xc3l\\xea\\xd3r'\n",
      "Length: 48\n",
      "Embedding Efficiency: 4.333333333333333\n",
      "==============\n",
      "126Anything lor... U decide...\n",
      "customizedTechniques-2\n",
      "Cpavjkpi nqt... W fgekfg...\n",
      "Length: 27\n",
      "customizedTechniques-3\n",
      "a>LLL>u>",
      "",
      "LLL\n",
      "Length: 27\n",
      "customizedTechniques-5\n",
      "À±Æº»À¹p¾ÁÄ~~~p§p¶·µ»¶·~~~\n",
      "Length: 27\n",
      "OpenSourceTechniques-6\n",
      "b'K\\x0c\\x05\\xe5\\x13LRVw3F<\\x0c\\xd6\\x04\\xcd\\x01o\\x15\\xdde\\xf7\\xc0\\x88Geeo8\\xdf{\\xe2a\\xa3lq\\x06\\xb0\\xe4\\xe5D\\xe2\\x8d\\xc4\\xe3\\xbc`D'\n",
      "Length: 48\n",
      "Embedding Efficiency: 4.5\n",
      "==============\n",
      "127Sir, Waiting for your mail.\n",
      "customizedTechniques-2\n",
      "Ukt, Yckvkpi hqt aqwt ockn.\n",
      "Length: 27\n",
      "customizedTechniques-3\n",
      "sJ>w>>>L\n",
      "Length: 27\n",
      "customizedTechniques-5\n",
      "¥»Ä|p©³»Æ»À¹p¸ÁÄp±ÁÇÄp¿³»¾~\n",
      "Length: 27\n",
      "OpenSourceTechniques-6\n",
      "b'$\\xdc\\xd0\\xa5n\\xdb\\xe2\\xc0\\xba\\xc8\\x80\\x9d\\x8d.\\\\D\\xff\\x8a\\xfc\\xfa\\xd0S\\x00Q|\\xa4\\x04\\x9f0&?\\xef<\\x00\\xdatw1|\\x0f\\xa2\\x1e\\x8e\\xee\\xa2{\\x98\\xb4\\x87\"\\xc5Z\\xa5\\xed\\xff\\xac#\"\\xd6\\x91\\xee>\\x13\\x18'\n",
      "Length: 64\n",
      "Embedding Efficiency: 3.375\n",
      "==============\n",
      "128I'm leaving my house now...\n",
      "customizedTechniques-2\n",
      "K'o ngcxkpi oa jqwug pqy...\n",
      "Length: 27\n",
      "customizedTechniques-3\n",
      "iE>",
      ">>",
      ">LLL\n",
      "Length: 27\n",
      "customizedTechniques-5\n",
      "w¿p¾·³È»À¹p¿±pºÁÇÅ·pÀÁÉ~~~\n",
      "Length: 27\n",
      "OpenSourceTechniques-6\n",
      "b\"F\\xc5\\xc7\\x1a\\xf6\\x918M\\xc2X\\x91\\x87\\xc3\\xa6\\xd7\\x9d\\x92+I\\x1c\\xfd\\x1a\\xabU\\x82\\xd5\\x15\\xc6\\xc9\\xdf\\x1a4\\x94\\xa7T3\\xe8B\\x97-\\xfc\\xf19\\x19'\\x03\\x0e\\x08\"\n",
      "Length: 48\n",
      "Embedding Efficiency: 4.5\n",
      "==============\n",
      "129What you doing?how are you?\n",
      "customizedTechniques-2\n",
      "Yjcv aqw fqkpi?jqy ctg aqw?\n",
      "Length: 27\n",
      "customizedTechniques-3\n",
      "w>>]>",
      ">]\n",
      "Length: 27\n",
      "customizedTechniques-5\n",
      "©º³Æp±ÁÇp¶Á»À¹ºÁÉp³Ä·p±ÁÇ\n",
      "Length: 27\n",
      "OpenSourceTechniques-6\n",
      "b'\\xeb\\xa3\\xeb\\xda\\xa7Z\\xd4#\\xf8\\xf42\\x0c5\\x10#\\xb9\\xa8 \\xb9i\\xd6oT$\\xe7\\x9f\\xc1\\xba\\xe7\\xf15\\xe0\\xdb\\\\\\xec\\xc1G\\x1b\\xb5C\\x88\\xeaU\\x05[}\\xdf\\xd7\\x04\\xeb\\xf8\\x00\\x0b\\x84\\xe5B\\xb8h\\xfe\\xcc\\x99\\xb3MA'\n",
      "Length: 64\n",
      "Embedding Efficiency: 3.375\n",
      "==============\n",
      "130aathi..where are you dear..\n",
      "customizedTechniques-2\n",
      "ccvjk..yjgtg ctg aqw fgct..\n",
      "Length: 27\n",
      "customizedTechniques-3\n",
      "LL",
      "",
      ">",
      ">>",
      "LL\n",
      "Length: 27\n",
      "customizedTechniques-5\n",
      "³³Æº»~~Éº·Ä·p³Ä·p±ÁÇp¶·³Ä~~\n",
      "Length: 27\n",
      "OpenSourceTechniques-6\n",
      "b'\\xbc6\\xb4\\xf8&\\xa1\\x12\\xf2\\xc2\\xa9Kn\\xd6\\xc0gvH\\xcbF\\xba\\xb8\\x95X\\x8d\\x81?\\x1csC\\xe0)u~\\x80|\\x1b\\xa6\\x14\\\\\\xb3\\xe6\\x91\\xa6\\x10\\r\\xd0\\xb9\\xe2'\n",
      "Length: 48\n",
      "Embedding Efficiency: 4.5\n",
      "==============\n",
      "131Ya srsly better than yi tho\n",
      "customizedTechniques-2\n",
      "Ac utuna dgvvgt vjcp ak vjq\n",
      "Length: 27\n",
      "customizedTechniques-3\n",
      "_>>",
      "",
      ">>>\n",
      "Length: 27\n",
      "customizedTechniques-5\n",
      "³pÅÄÅ¾±p´·ÆÆ·ÄpÆº³Àp±»pÆºÁ\n",
      "Length: 27\n",
      "OpenSourceTechniques-6\n",
      "b'G\\xd1\\x9d-\\xf8\\x19C\\xc9\\xfdw\\x88e\\x10\\xa5P\\x07.)\\x0c1)\\xde\\xcb\\xce\\x97r\\x82\\xfb\\x9fa\\xd1F\\xb5n~vE\\x9a\\xbbR\\x8f\\xcb|W\\x96\\x00\\xb4\\xd2\\xcbQ]\\xaa\\xf2\\x9es|\\xa8k>4\\xdf\\x98tM'\n",
      "Length: 64\n",
      "Embedding Efficiency: 3.375\n",
      "==============\n",
      "132Dont gimme that lip caveboy\n",
      "customizedTechniques-2\n",
      "Fqpv ikoog vjcv nkr ecxgdqa\n",
      "Length: 27\n",
      "customizedTechniques-3\n",
      "d>",
      ">>>",
      "\n",
      "Length: 27\n",
      "customizedTechniques-5\n",
      "ÁÀÆp¹»¿¿·pÆº³Æp¾»Âpµ³È·´Á±\n",
      "Length: 27\n",
      "OpenSourceTechniques-6\n",
      "b'\\xf2\\x9d\\x18\\xccy\\xd6k\\xc6\\xdd9x\\xb8\\x0e\\xadG\\x90\\x15~\\x1acal\\xed\\x98\\r Xt\\xc3\\x00\\x88\\x06#\\xdb\\xc1ht\\xb9&\\xe5\\x85X\\xe9_\\x0f`#~ o\\xbc\\x1d\\r\\xc4\\x7f\\xd2\\xdeW(u_\\xb9_\\x19'\n",
      "Length: 64\n",
      "Embedding Efficiency: 3.375\n",
      "==============\n",
      "133Then why you not responding\n",
      "customizedTechniques-2\n",
      "Vjgp yja aqw pqv tgurqpfkpi\n",
      "Length: 27\n",
      "customizedTechniques-3\n",
      "t",
      ">>>>",
      "\n",
      "Length: 27\n",
      "customizedTechniques-5\n",
      "¦º·ÀpÉº±p±ÁÇpÀÁÆpÄ·ÅÂÁÀ¶»À¹\n",
      "Length: 27\n",
      "OpenSourceTechniques-6\n",
      "b'A\\x13\\x99\\x94\\x86\\xb3\\xee\\x9a\\x17\\xe4yQ\\xf5N\\x0c\\xf4j\\x1c\\xa7\\x95\\x96\\x1a\\xfe6\\xedv\\xa3\\x10\\x90\\xa2\\xca3\\x1f\\x08\\x88\\x8ac\\xca\\xa6%j2;~\\xf4B\\xae\\xb5\\xbdt\\x03\\x92R\\xabW\\xa6[\\xc3\\xef\\x9a.\\xd6\\xec\\x1e'\n",
      "Length: 64\n",
      "Embedding Efficiency: 3.375\n",
      "==============\n",
      "134Hahaha..use your brain dear\n",
      "customizedTechniques-2\n",
      "Jcjcjc..wug aqwt dtckp fgct\n",
      "Length: 27\n",
      "customizedTechniques-3\n",
      "hLL",
      ">>>",
      "\n",
      "Length: 27\n",
      "customizedTechniques-5\n",
      "³º³º³~~ÇÅ·p±ÁÇÄp´Ä³»Àp¶·³Ä\n",
      "Length: 27\n",
      "OpenSourceTechniques-6\n",
      "b'\\xcf\\xe3p\\x94\\xcb\\xdc*x(\\xc1\\xfbh0aA\\x94\\xdb~>\\xf7k\\x9fF\\xfdB\\x13\\xc5\"\\x8durFy\\x08\\xc0z-\\x93[\\xa1\\xc9\\xe36\\x15\\r\\xd7{\\x0f9,\\xdf\\x12Pc\\x89\\xe2C\\xf4\\xfa\\xa9\\x9f\\t\\x8eq'\n",
      "Length: 64\n",
      "Embedding Efficiency: 3.375\n",
      "==============\n",
      "135Dude we should go sup again\n",
      "customizedTechniques-2\n",
      "Fwfg yg ujqwnf iq uwr cickp\n",
      "Length: 27\n",
      "customizedTechniques-3\n",
      "d",
      ">",
      ">>>>\n",
      "Length: 27\n",
      "customizedTechniques-5\n",
      "Ç¶·pÉ·pÅºÁÇ¾¶p¹ÁpÅÇÂp³¹³»À\n",
      "Length: 27\n",
      "OpenSourceTechniques-6\n",
      "b\"\\xab`\\xb9\\x02t\\x0b\\x95\\x83L\\xa2.\\xe5H\\x18/\\xba\\xba9O\\xe7\\xb2\\xf4\\x98\\xdfo\\x95\\x85\\x06'\\xa1\\xa5\\x0cj\\xeb\\x82z\\xf1\\xf3\\xed\\xc5[O\\xab`\\xb3$\\xd3 \\xaaC\\xfc%_\\x83%C~\\xa7\\x8d\\xe8k\\xa4,\\x88\"\n",
      "Length: 64\n",
      "Embedding Efficiency: 3.375\n",
      "==============\n",
      "136I see the letter B on my car\n",
      "customizedTechniques-2\n",
      "K ugg vjg ngvvgt D qp oa ect\n",
      "Length: 28\n",
      "customizedTechniques-3\n",
      "i>",
      "",
      ">",
      ">",
      "",
      ">b>>>\n",
      "Length: 28\n",
      "customizedTechniques-5\n",
      "pÅ··pÆº·p¾·ÆÆ·ÄppÁÀp¿±pµ³Ä\n",
      "Length: 28\n",
      "OpenSourceTechniques-6\n",
      "b'|J\\xf4\\xdb\\r\\xcaG\\xc3]?\\xf5\\x88\\xa8.\\xc9Ho?\\x05\\x86\\x18\\x93\\x97\\xfb\\xbf{#\\x7f\\t\\xbb\\x91X\\x07\\x91AF\\x8a\\x9d_\\xb5`\\x1e\\x88\\x92\\x01\\xb8\\xb7\\xa2\\x8e5f\\xeaO\\xc5 \\xa1\\xcb\\x00!\\x89\\x0b\\x98\\x04='\n",
      "Length: 64\n",
      "Embedding Efficiency: 3.5\n",
      "==============\n",
      "137K..k:)how much does it cost?\n",
      "customizedTechniques-2\n",
      "M..m:)jqy owej fqgu kv equv?\n",
      "Length: 28\n",
      "customizedTechniques-3\n",
      "kLLXG>>",
      ">>]\n",
      "Length: 28\n",
      "customizedTechniques-5\n",
      "~~½yºÁÉp¿Çµºp¶Á·Åp»ÆpµÁÅÆ\n",
      "Length: 28\n",
      "OpenSourceTechniques-6\n",
      "b'\\x17\\xaa\\x9b\\xe8\\x1d\\xff\\xa9\\xa6-nw\\x82ud\\xb1\\xe3\\x9d\\xbcWo\\x9bAT\\xc4!\\x1f\\xa477\\xd4!\\xf1amL\\x8b\\xe1\\x92\\xe9W\\xdcF\\x18e\\x17\\xb9\\xec\\xe1[TI\\xca\\x13\\xf1\\xee\\xbczi\\x04B\\x1f9J\\xad'\n",
      "Length: 64\n",
      "Embedding Efficiency: 3.5\n",
      "==============\n",
      "138Aaooooright are you at work?\n",
      "customizedTechniques-2\n",
      "Ccqqqqtkijv ctg aqw cv yqtm?\n",
      "Length: 28\n",
      "customizedTechniques-3\n",
      "a>",
      ">>>]\n",
      "Length: 28\n",
      "customizedTechniques-5\n",
      "³ÁÁÁÁÄ»¹ºÆp³Ä·p±ÁÇp³ÆpÉÁÄ½\n",
      "Length: 28\n",
      "OpenSourceTechniques-6\n",
      "b'\\xca\\xd6\\x03\\xf3\\x94-Kx\\x8b\\x81\\xffc\\xf0\\xef\\xa5\\x96NV\\x9d\\xbc\\x83.B\\x90\\xc1\\xca\\xb2\\x03} rG\\xc4\\x1b\\x8c\\xe36\\x80\\x1c\\xf0\\xd9\\x84&F\\xa2\\x03\\x854.\\xa0\\xb1\\x94\\xde\\xe0\\xe3\\xf9\\x01(\\x85N\\xe8\\xe5\\xed^'\n",
      "Length: 64\n",
      "Embedding Efficiency: 3.5\n",
      "==============\n",
      "139Gud mrng dear hav a nice day\n",
      "customizedTechniques-2\n",
      "Iwf otpi fgct jcx c pkeg fca\n",
      "Length: 28\n",
      "customizedTechniques-3\n",
      "g>>",
      ">>>",
      ">\n",
      "Length: 28\n",
      "customizedTechniques-5\n",
      "Ç¶p¿ÄÀ¹p¶·³Äpº³Èp³pÀ»µ·p¶³±\n",
      "Length: 28\n",
      "OpenSourceTechniques-6\n",
      "b'\\x94\\xfe\\x15X MXD\\xa5\\\\\\xc3lO\\xab\\xdc\\xe0\\xa3\\x01d\\xdb\\xf4N\\x026\\xe0\\xb0\\xa6\\xb8\\xec\\xe2\\x03\\x0elA %\\x1f:<H\\xc3P^\\xdcz\\xc0!n\\xe8A\\xcd0\\x1c\\x80\\xff\\xfa~\\xc9\\xb17\\x8a\\x8c,\\xd8'\n",
      "Length: 64\n",
      "Embedding Efficiency: 3.5\n",
      "==============\n",
      "140Did u got that persons story\n",
      "customizedTechniques-2\n",
      "Fkf w iqv vjcv rgtuqpu uvqta\n",
      "Length: 28\n",
      "customizedTechniques-3\n",
      "d>>>>",
      ">\n",
      "Length: 28\n",
      "customizedTechniques-5\n",
      "»¶pÇp¹ÁÆpÆº³ÆpÂ·ÄÅÁÀÅpÅÆÁÄ±\n",
      "Length: 28\n",
      "OpenSourceTechniques-6\n",
      "b'\\xb1Fd@\\xa5U^\\xe4=\\xd2J\\x9a\\xcb\\xfeD\\xc6\\xa7\\x9f\\xe5\\x84\\x86\\xda\\x0fZ\\xaa\\xe8B\\xc2\\x8bF\\xdb\\xcf\\xb3\\x9bPp}\\xa8+j\\xd6\\xc3\\x8b\\xaf\\x88\\xf1\\xec\\xf2\\x1a\\xb7\\xfdV\\xd3l*N\\x9c\\xb7\\x80\\xaeS\\x00\\x9a\\xde'\n",
      "Length: 64\n",
      "Embedding Efficiency: 3.5\n",
      "==============\n",
      "141I sent you  &lt;#&gt;  bucks\n",
      "customizedTechniques-2\n",
      "K ugpv aqw  &nv;#&iv;  dwemu\n",
      "Length: 28\n",
      "customizedTechniques-3\n",
      "i>",
      ">>>DYADY>>\n",
      "Length: 28\n",
      "customizedTechniques-5\n",
      "pÅ·ÀÆp±ÁÇppv¾Æsv¹Æpp´Çµ½Å\n",
      "Length: 28\n",
      "OpenSourceTechniques-6\n",
      "b'x\\t ^/\\xbfvLz\\r\\xc6\\xf4\\xed\\x13\\xd5F\\x92\\xf7\\xee\\xdf\\xcei\\xe9\\xec>\\xffR\\x14\\xfdg\\xed!\\xb6\\xb1\\x12e\\xc4\\x12H8\\x97\\xe8\\xd1\\x9a^YtI'\n",
      "Length: 48\n",
      "Embedding Efficiency: 4.666666666666667\n",
      "==============\n",
      "142Aight yo, dats straight dogg\n",
      "customizedTechniques-2\n",
      "Ckijv aq, fcvu uvtckijv fqii\n",
      "Length: 28\n",
      "customizedTechniques-3\n",
      "a>J>>>\n",
      "Length: 28\n",
      "customizedTechniques-5\n",
      "»¹ºÆp±Á|p¶³ÆÅpÅÆÄ³»¹ºÆp¶Á¹¹\n",
      "Length: 28\n",
      "OpenSourceTechniques-6\n",
      "b\"\\x9c\\x88\\xf93\\x9f\\x04\\xfa\\x9e\\xd4s\\x96\\xfb}\\x86\\xbd#P\\xb6\\x08\\xd7\\x16Bfs{p\\xf0\\xe2\\x9e\\x02!\\x0e\\xf5\\xf6P+p\\x1a\\xd52S\\n~\\x14\\xa0\\xfb\\xe8\\\\\\x83j\\xe8\\x94\\xfe\\x0f\\x89\\x04 \\x06\\x98'\\x92%\\x84\\x1b\"\n",
      "Length: 64\n",
      "Embedding Efficiency: 3.5\n",
      "==============\n",
      "143Ok that's great thanx a lot.\n",
      "customizedTechniques-2\n",
      "Qm vjcv'u itgcv vjcpz c nqv.\n",
      "Length: 28\n",
      "customizedTechniques-3\n",
      "o>E>",
      ">>>L\n",
      "Length: 28\n",
      "customizedTechniques-5\n",
      "¡½pÆº³ÆwÅp¹Ä·³ÆpÆº³ÀÊp³p¾ÁÆ~\n",
      "Length: 28\n",
      "OpenSourceTechniques-6\n",
      "b'\\xc6Tmn\\x1f\\x90\\x99\\xad\\x9b\\xba\\xdbr)\\xf0\\t\\x16\\xfd_\\xbe\\x11(\\xcf\\xf9V\\xab\\xe8\\x85\\xd7>$\\xbc\\x1a\\x84R\\xf7i\\xf4.\\x1d= \\xeb\\xee\\x08\\xda]\\xf9\\xb1Q7$\\x1dm\\xc5\\xb9\\xecL\\xf0B\\xef\\x10\\xfe\\x0c\\x9f'\n",
      "Length: 64\n",
      "Embedding Efficiency: 3.5\n",
      "==============\n",
      "144Love you aathi..love u lot..\n",
      "customizedTechniques-2\n",
      "Nqxg aqw ccvjk..nqxg w nqv..\n",
      "Length: 28\n",
      "customizedTechniques-3\n",
      "l",
      ">>LL",
      ">>LL\n",
      "Length: 28\n",
      "customizedTechniques-5\n",
      "ÁÈ·p±ÁÇp³³Æº»~~¾ÁÈ·pÇp¾ÁÆ~~\n",
      "Length: 28\n",
      "OpenSourceTechniques-6\n",
      "b'\\xb5\\xea\\x06\\xa1\\xd1$\\xfao/VX\\x83\\xdd\\xc3\\x11\\xab;D\\x0c\\x9b!cr\\x9c\\x0b\\x0e\\x98z\\xfe\\xe7\\x98\\xc9\\x06\\xb2\\xc3\\xf5\\xeb\\xc7\\xd2\\xc6\\xb5\\x16+\\x7f\\xf5\\x98#\\xba\\xf5k\\xf6\\x95\\x7f\\x8f\\xc8s6\\x96\\x17\\x0e=\\xadq\\x15'\n",
      "Length: 64\n",
      "Embedding Efficiency: 3.5\n"
     ]
    },
    {
     "name": "stdout",
     "output_type": "stream",
     "text": [
      "==============\n",
      "145Almost there, see u in a sec\n",
      "customizedTechniques-2\n",
      "Cnoquv vjgtg, ugg w kp c uge\n",
      "Length: 28\n",
      "customizedTechniques-3\n",
      "a>",
      "",
      "J>",
      "",
      ">>>>",
      "\n",
      "Length: 28\n",
      "customizedTechniques-5\n",
      "¾¿ÁÅÆpÆº·Ä·|pÅ··pÇp»Àp³pÅ·µ\n",
      "Length: 28\n",
      "OpenSourceTechniques-6\n",
      "b\"\\xd9\\x04\\xbb\\xd1\\x03\\xe7\\x96\\xae'\\xef\\xee\\x8a\\x91bl\\x82!\\xca\\x97X<\\xe3^f\\xf5I\\xb4Gn\\x11\\xfbJ\\x1b\\xcd\\xc0\\xd6\\x99&\\xeft\\x0b4\\x92~s2\\x9a\\xb1\\x8a\\x84\\xc9\\xc29\\xe9\\x19u\\xd7\\xa5\\x9b\\x18\\xbb\\xfdV\\x19\"\n",
      "Length: 64\n",
      "Embedding Efficiency: 3.5\n",
      "==============\n",
      "146Were gonna go get some tacos\n",
      "customizedTechniques-2\n",
      "Ygtg iqppc iq igv uqog vcequ\n",
      "Length: 28\n",
      "customizedTechniques-3\n",
      "w",
      "",
      ">>>",
      ">",
      ">\n",
      "Length: 28\n",
      "customizedTechniques-5\n",
      "©·Ä·p¹ÁÀÀ³p¹Áp¹·ÆpÅÁ¿·pÆ³µÁÅ\n",
      "Length: 28\n",
      "OpenSourceTechniques-6\n",
      "b'3\\\\y\\xc8\\xe1q\\xc3\\xe2\\r\\xadQ\\xa9@0j\\xaa\\xb6\\xb5\\xb1\\xdc\\x87\\xf04\\xf8\\x84k\"\\xab\\x99A\\xf9\\xfb\\x08\\xd4\\xaco\\xe9\\xfeN\\xfd\\x8d\\x86\\xf74\\x94\\xb3\\xd5\\x8dJ\\x92\\x16\\n\\x84\\xf9\\x9a\\xf6\\x84\\x9b\\x03\\xdf\\xe2_\\xc0\\xd2'\n",
      "Length: 64\n",
      "Embedding Efficiency: 3.5\n",
      "==============\n",
      "147Did u got that persons story\n",
      "customizedTechniques-2\n",
      "Fkf w iqv vjcv rgtuqpu uvqta\n",
      "Length: 28\n",
      "customizedTechniques-3\n",
      "d>>>>",
      ">\n",
      "Length: 28\n",
      "customizedTechniques-5\n",
      "»¶pÇp¹ÁÆpÆº³ÆpÂ·ÄÅÁÀÅpÅÆÁÄ±\n",
      "Length: 28\n",
      "OpenSourceTechniques-6\n",
      "b\"\\xb4\\xbc\\x0e\\xf2\\xb0\\xc4\\xda\\xed\\x12&\\x83\\x8d*\\x88@x\\xe0\\xbb\\x1c\\xc9Y\\x8b\\x89\\xc6\\x1f~\\x1b\\x93'\\x9d\\x13\\\\\\x86\\xa9\\x08W\\xa4o\\xb3~\\xc8o\\xbd#\\xc6\\x08\\xd1|t4\\xd3\\x96\\xb3w#\\x7f\\xf4\\xa4\\x84\\xdb;\\xdbd\\x0f\"\n",
      "Length: 64\n",
      "Embedding Efficiency: 3.5\n",
      "==============\n",
      "148Gud mrng dear hav a nice day\n",
      "customizedTechniques-2\n",
      "Iwf otpi fgct jcx c pkeg fca\n",
      "Length: 28\n",
      "customizedTechniques-3\n",
      "g>>",
      ">>>",
      ">\n",
      "Length: 28\n",
      "customizedTechniques-5\n",
      "Ç¶p¿ÄÀ¹p¶·³Äpº³Èp³pÀ»µ·p¶³±\n",
      "Length: 28\n",
      "OpenSourceTechniques-6\n",
      "b'\\xde1ZB\\xc9\\x07\\xbd\\xe6x\"&\\x86\\x8fX\\x98\\x06\\xc8Cn\\xd1\\xdcHE\\xab\\x88\\x08q\\x1eFZ\\x7f\\x97N\\xb19\\xd9\\xe7:Q\\xbfR#\\x99\\x01\\x1b\\xeb\\x93u\\xa5 i\\xd1z\\x08^\\x8d\\xa4\\x82\\xcf\\xa5\\xa6\\x18\\xdb7'\n",
      "Length: 64\n",
      "Embedding Efficiency: 3.5\n",
      "==============\n",
      "149what is your account number?\n",
      "customizedTechniques-2\n",
      "yjcv ku aqwt ceeqwpv pwodgt?\n",
      "Length: 28\n",
      "customizedTechniques-3\n",
      ">>>>",
      "]\n",
      "Length: 28\n",
      "customizedTechniques-5\n",
      "Éº³Æp»Åp±ÁÇÄp³µµÁÇÀÆpÀÇ¿´·Ä\n",
      "Length: 28\n",
      "OpenSourceTechniques-6\n",
      "b'\\xf1\\xc2\\xe2\\xf0%<\\xddc\\x8f\\xe3>\\x041~\\xda\\xe1~\\xb3\\xc6#(\\xb0\\x88\\xcf\\x1f\\xea\\xd5g\\x01B\\xda\\x02\\xd7\\xce6\\x899B-\\xb6\\xbd\\x19\\xe2\\x160\\xfeX\\x81y(\\x13W,\\xdd,\\xfe\\\\\\xb3\\xea\\xccq\\xaf\\xa8\\xf2'\n",
      "Length: 64\n",
      "Embedding Efficiency: 3.5\n",
      "==============\n",
      "150Yo guess what I just dropped\n",
      "customizedTechniques-2\n",
      "Aq iwguu yjcv K lwuv ftqrrgf\n",
      "Length: 28\n",
      "customizedTechniques-3\n",
      "_>",
      ">>i>>",
      "\n",
      "Length: 28\n",
      "customizedTechniques-5\n",
      "Áp¹Ç·ÅÅpÉº³Æpp¼ÇÅÆp¶ÄÁÂÂ·¶\n",
      "Length: 28\n",
      "OpenSourceTechniques-6\n",
      "b'\\x94\\xef\\x1a\\x13\\xc8K\\x10\\x0f\\x15!\\xac?\\xab\\xf0P\\x1e.\\xa7\\xdca\\xa8\\xd4\\t\\x15\\xd8\\x06`\\x1c-a\\xb2W\\x8c\\xf9I\\xc9\\x8b)\\x06-\\x9e\\x92^$e\\xc0\\x07\\xc5\\x8a\\n7V6\\x85\\x8cy\\x143\\xddyd+\\xa9z'\n",
      "Length: 64\n",
      "Embedding Efficiency: 3.5\n",
      "==============\n",
      "151Ok lar... Joking wif u oni...\n",
      "customizedTechniques-2\n",
      "Qm nct... Lqmkpi ykh w qpk...\n",
      "Length: 29\n",
      "customizedTechniques-3\n",
      "o>LLL>j>>>LLL\n",
      "Length: 29\n",
      "customizedTechniques-5\n",
      "¡½p¾³Ä~~~pÁ½»À¹pÉ»¸pÇpÁÀ»~~~\n",
      "Length: 29\n",
      "OpenSourceTechniques-6\n",
      "b'e\\xdd\\x81\\x968@\\xc5\\xbd\\xd7\\xdc\\xc3\\x81A\\x04>\\x83\\x84.\\xe6\\xd0\\x9es\\xa9\\x05\\x9c-\\xee2\\x19\\xb0\\xd5\\xb1\\x0cJ8XU\\xf5\\x15Yp\\xcf\\xb9\\xc0\\xa3\\x8b\\x12('\n",
      "Length: 48\n",
      "Embedding Efficiency: 4.833333333333333\n",
      "==============\n",
      "152K tell me anything about you.\n",
      "customizedTechniques-2\n",
      "M vgnn og cpavjkpi cdqwv aqw.\n",
      "Length: 29\n",
      "customizedTechniques-3\n",
      "k>",
      ">",
      ">>>L\n",
      "Length: 29\n",
      "customizedTechniques-5\n",
      "pÆ·¾¾p¿·p³À±Æº»À¹p³´ÁÇÆp±ÁÇ~\n",
      "Length: 29\n",
      "OpenSourceTechniques-6\n",
      "b'\\xcds\\xa2\\xa4\\txz\\xfc\\x87\\xd6\\xc0\\x90\\x8aw\\xbd\\xf2\\x81\\xde\\\\\\xc6\\xe5\\xff\\xf5\\xf0Z\\xb9\\x0b\\xd9i\\x83\"\\xab\\xa2\\x00\\xaf\\x86P\\x15\\tm&\\x97K\\xadh\\xac\\x86\\xe3\\xda\\xef\\x86\\x13\\x0c\\xcf{\\x9eO\\xb4\\x8b%\\x87\\xf3\\xb8-'\n",
      "Length: 64\n",
      "Embedding Efficiency: 3.625\n",
      "==============\n",
      "153Finished class where are you.\n",
      "customizedTechniques-2\n",
      "Hkpkujgf encuu yjgtg ctg aqw.\n",
      "Length: 29\n",
      "customizedTechniques-3\n",
      "f",
      ">>",
      "",
      ">",
      ">L\n",
      "Length: 29\n",
      "customizedTechniques-5\n",
      "»À»Åº·¶pµ¾³ÅÅpÉº·Ä·p³Ä·p±ÁÇ~\n",
      "Length: 29\n",
      "OpenSourceTechniques-6\n",
      "b'L \\x83Q2v\\x08?-\\xe5\\x87\\xb8\\x97T\\xceo\\xd9^K\\x9b\\xc9D\\x88\\xdd\\x1e\\xb9p\\xaf\\xfa\\xb3)\\xf8\\xb5;\\x99\\xb1j\\x0b5\\x82\\xef\\xc7\\x9fv\\x8e\\xbf\\xc2\\xa9,+\\x92\\xff\\xe5x\\xa1\\xfb\\xb5\\xe6+,]L\\xea\\xac'\n",
      "Length: 64\n",
      "Embedding Efficiency: 3.625\n",
      "==============\n",
      "154Ok. I asked for money how far\n",
      "customizedTechniques-2\n",
      "Qm. K cumgf hqt oqpga jqy hct\n",
      "Length: 29\n",
      "customizedTechniques-3\n",
      "oL>i>",
      ">>",
      ">>\n",
      "Length: 29\n",
      "customizedTechniques-5\n",
      "¡½~pp³Å½·¶p¸ÁÄp¿ÁÀ·±pºÁÉp¸³Ä\n",
      "Length: 29\n",
      "OpenSourceTechniques-6\n",
      "b\"\\x10C\\x1c\\nYgP#\\xc4=<kc\\x99 \\x11\\xfb\\xeb\\xc7\\x9bP\\xb3id\\xc9\\x81n\\x036\\t\\x88\\xa3\\xad'\\xb0>\\x04\\x88+\\xd9\\xfc\\xfaf\\xb8\\xb8\\x0c\\x12\\xa9\\xd5>\\x9au\\xa0%\\x04b2\\xe7\\xf2\\xb5\\x17\\xc7\\xa7\\x16\"\n",
      "Length: 64\n",
      "Embedding Efficiency: 3.625\n",
      "==============\n",
      "155Where u been hiding stranger?\n",
      "customizedTechniques-2\n",
      "Yjgtg w dggp jkfkpi uvtcpigt?\n",
      "Length: 29\n",
      "customizedTechniques-3\n",
      "w",
      "",
      ">>",
      "",
      ">>",
      "]\n",
      "Length: 29\n",
      "customizedTechniques-5\n",
      "©º·Ä·pÇp´··Àpº»¶»À¹pÅÆÄ³À¹·Ä\n",
      "Length: 29\n",
      "OpenSourceTechniques-6\n",
      "b'\\x08\\xbb\\xf9\\xe9o\\x875\\x98\\xb77)\\x8a\\x13\\xa4,x\\xe9^\\xdc\\xec\\xdc9#\\xf9\\x83\\t\\xf4\\x99\\xb9\\x8d\\xba\\\\\\xc2@Y|8\\x80\\xb1\\xce\\\\\\xf1\\xb8\\x95\\xb9\\x17g{`\\x08\\x1bV\\xf5E\\xa4/l\\xe2\\xfc\\x1a\\x8f\\xe7\\x80\\xdf'\n",
      "Length: 64\n",
      "Embedding Efficiency: 3.625\n",
      "==============\n",
      "156Alright i have a new goal now\n",
      "customizedTechniques-2\n",
      "Cntkijv k jcxg c pgy iqcn pqy\n",
      "Length: 29\n",
      "customizedTechniques-3\n",
      "a>>",
      ">>",
      ">>\n",
      "Length: 29\n",
      "customizedTechniques-5\n",
      "¾Ä»¹ºÆp»pº³È·p³pÀ·Ép¹Á³¾pÀÁÉ\n",
      "Length: 29\n",
      "OpenSourceTechniques-6\n",
      "b\"b+#\\xbd\\xbfFeL\\x13\\x08\\x8a\\xf7TV\\xe6*\\x99\\xc0k\\xa2\\x9d\\xcf\\xc6Y\\x9d\\x07n\\xc2T\\x04\\x95\\xb0\\xbe\\xefW\\r\\x86\\xc8\\x98\\xbe \\xfa>\\xb5\\x0e\\xdb\\xf7\\x10\\x17\\x8fB7\\xd4\\x8c\\x1b3\\xa5Vf'9 E\\xd1\"\n",
      "Length: 64\n",
      "Embedding Efficiency: 3.625\n",
      "==============\n",
      "157Sorry, I'll call later ok bye\n",
      "customizedTechniques-2\n",
      "Uqtta, K'nn ecnn ncvgt qm dag\n",
      "Length: 29\n",
      "customizedTechniques-3\n",
      "sJ>iE>>",
      ">>",
      "\n",
      "Length: 29\n",
      "customizedTechniques-5\n",
      "¥ÁÄÄ±|pw¾¾pµ³¾¾p¾³Æ·ÄpÁ½p´±·\n",
      "Length: 29\n",
      "OpenSourceTechniques-6\n",
      "b'\\xbcF\\x88\\xaci\\xad\\xbbF\\xda\\xdfxV\\x17\\xceQ\\x93\\xaa\\xd7\\xfcW\\xb0QCq\\xdc\\xfd\\xb1C\\xca\\x1b\\xbeI\\x99\\xb9hQh\\x12\\xd9\\xe2\\x1bI\\x86\\xb7\\xe39\\xa46\\xeb\\x85\\x82\\xd4\\x0b\\xecx\\xec\\xa6Xc\\x93\\xe2\\xd9\\xa8\\xcc'\n",
      "Length: 64\n",
      "Embedding Efficiency: 3.625\n",
      "==============\n",
      "158Ok i am on the way to railway\n",
      "customizedTechniques-2\n",
      "Qm k co qp vjg yca vq tcknyca\n",
      "Length: 29\n",
      "customizedTechniques-3\n",
      "o>>>>",
      ">>>\n",
      "Length: 29\n",
      "customizedTechniques-5\n",
      "¡½p»p³¿pÁÀpÆº·pÉ³±pÆÁpÄ³»¾É³±\n",
      "Length: 29\n",
      "OpenSourceTechniques-6\n",
      "b'\\xef\\xc1\\xdcb\\x8c\\xc1\\x90 A\\xe6\\x90\\xe1\\x8f%\\x1d\\xde\\\\aX{\\xdeC\\x16x\\xba\\xe1\\xdb\\xf4\\xe2\\xa2\\xa6\\xc8h\\x17\\x9a\\xf4\\xcc\\xbe\\x8aggh>;\\xa6\\xe2T\\x1a=\\xf3\\xfczP\\xcc\\xcf\\x9a0bup\\xe7\\xb5\\xb0{'\n",
      "Length: 64\n",
      "Embedding Efficiency: 3.625\n",
      "==============\n",
      "159Gud mrng dear have a nice day\n",
      "customizedTechniques-2\n",
      "Iwf otpi fgct jcxg c pkeg fca\n",
      "Length: 29\n",
      "customizedTechniques-3\n",
      "g>>",
      ">",
      ">>",
      ">\n",
      "Length: 29\n",
      "customizedTechniques-5\n",
      "Ç¶p¿ÄÀ¹p¶·³Äpº³È·p³pÀ»µ·p¶³±\n",
      "Length: 29\n",
      "OpenSourceTechniques-6\n",
      "b'\\xc0\\x90`\\x8d\\x12\\xc04\\\\\\x01_\\xc1\\xbf\\x08\\xa9\\xa75\\xf9\\xf5V\\xc4\\x9c\\xf1\\xdc\\x9c\\xc7\\xea\\xe6\\x1eY11\\xea\\xec\\xe1\\x8f\\xc8\\xee\\xaa\\xf5\\xa3K\\xb7;\\xd9p\\xeb\\x0fr@\\xe0#u\\xf6[\\xc45\\xe4A\\x05\\xb7m\\x9cT\\x9b'\n",
      "Length: 64\n",
      "Embedding Efficiency: 3.625\n",
      "==============\n",
      "160How much r Ì_ willing to pay?\n",
      "customizedTechniques-2\n",
      "Jqy owej t L_ yknnkpi vq rca?\n",
      "Length: 29\n",
      "customizedTechniques-3\n",
      "h>>>j}>>>]\n",
      "Length: 29\n",
      "customizedTechniques-5\n",
      "ÁÉp¿ÇµºpÄp¯pÉ»¾¾»À¹pÆÁpÂ³±\n",
      "Length: 29\n",
      "OpenSourceTechniques-6\n",
      "b'\\xea`wS\\xa2\\x03\\xe8\\xad\\x83\\x95\\x9a\\x9b\\x9b\\xa0\\x9dppG|h\\xe7i\\x10\",r\\xe0\\xdf\\x18B\\xdd\\xa4\\xf0\\xe7\\xbf\\x19F\\x0e\\x80\\xbd\\x8cX\\xe4i\\xc5\\xc9uQ>03\\'\\xc2\\xb6q\\xc7`\\xb6\\xa5\\xfb\\x17\\x93\\x9e\\xb3'\n",
      "Length: 64\n",
      "Embedding Efficiency: 3.625\n",
      "==============\n",
      "161Oh is it? Send me the address\n",
      "customizedTechniques-2\n",
      "Qj ku kv? Ugpf og vjg cfftguu\n",
      "Length: 29\n",
      "customizedTechniques-3\n",
      "o>>]>s",
      ">",
      ">",
      ">",
      "\n",
      "Length: 29\n",
      "customizedTechniques-5\n",
      "¡ºp»Åp»Æp¥·À¶p¿·pÆº·p³¶¶Ä·ÅÅ\n",
      "Length: 29\n",
      "OpenSourceTechniques-6\n",
      "b'\\xfdu\\x81\\xa7\\x95\\xbb\\x85\\xd1\\xda\\xc0&\\x82*k2\\xb5\\xf2\\x8du\\xed\\xe4z\\x84|\\xdf\\x0f\\xbe\\xd8\\xd1\\x90d\\x12\\x95\\x80H\\xa9\\x1a\\rO\\xfa\\x17\\x0e\\x03p\\x0fE5\\x0cu\\x07\\x90\\xe6\\xdc\\xe0.G\\x8dJ\\xe70\\xf118]'\n",
      "Length: 64\n",
      "Embedding Efficiency: 3.625\n",
      "==============\n",
      "162Then why no one talking to me\n",
      "customizedTechniques-2\n",
      "Vjgp yja pq qpg vcnmkpi vq og\n",
      "Length: 29\n",
      "customizedTechniques-3\n",
      "t",
      ">>>",
      ">>>",
      "\n",
      "Length: 29\n",
      "customizedTechniques-5\n",
      "¦º·ÀpÉº±pÀÁpÁÀ·pÆ³¾½»À¹pÆÁp¿·\n",
      "Length: 29\n",
      "OpenSourceTechniques-6\n",
      "b'j\\xad\\xb5!\\xa7\\x93\\xc5\\x00P\\x10u\\xa1/\\xdd\\x9f\\x87\\xbe\\xb6zu\\x08\\xfd\\x05\\xe2\\n\\xbd\\x11\\x92!%\\xf9\\x00jRZ .\\xc7T-\\xa8p\\xb1c\\x91\\xfc;S<\\xf7\\xb2\\xae\\x9a9\\xb5\\xe0\\xc7\\xc4\\x07\\x0e\\x1e\\xdc\\xaf\\x1e'\n",
      "Length: 64\n",
      "Embedding Efficiency: 3.625\n",
      "==============\n",
      "163Going to take your babe out ?\n",
      "customizedTechniques-2\n",
      "Iqkpi vq vcmg aqwt dcdg qwv ?\n",
      "Length: 29\n",
      "customizedTechniques-3\n",
      "g>>",
      ">>",
      ">>]\n",
      "Length: 29\n",
      "customizedTechniques-5\n",
      "Á»À¹pÆÁpÆ³½·p±ÁÇÄp´³´·pÁÇÆp\n",
      "Length: 29\n",
      "OpenSourceTechniques-6\n",
      "b'\\xac\\xa0\\xe8\\x14\\x9f\\xc9\\x19\\xbe\\xac\\x9c\\xb7\\xfc\\xe5\\xdc\\x0f\\xd9\\x9d\\x0e\\xd0\\x17\\xc6\\x11\\xae\\x82\\xc2\\xdfY\\xd2\\xc2N\\xcb?\\x1e\\xcd\\x19\\x05\\xe0!\\x01jC\\xcb\\xfd:\\xce\\x00\\x91}g%-\\x94\\xe1\\xce\\x9a\\xbc\\x19\\xc6\\xf4.\\xcf\\x11\\xa3<'\n",
      "Length: 64\n",
      "Embedding Efficiency: 3.625\n",
      "==============\n",
      "164Lol your always so convincing.\n",
      "customizedTechniques-2\n",
      "Nqn aqwt cnycau uq eqpxkpekpi.\n",
      "Length: 30\n",
      "customizedTechniques-3\n",
      "l>>>>L\n",
      "Length: 30\n",
      "customizedTechniques-5\n",
      "Á¾p±ÁÇÄp³¾É³±ÅpÅÁpµÁÀÈ»Àµ»À¹~\n",
      "Length: 30\n",
      "OpenSourceTechniques-6\n",
      "b'\\x13\\x97\\xec\\x11\\xc4ti\\xfc3\\xc7Z\\xcb*\\xf9\\x8fW\\xc4\\xf8C-2\\x14\\xa4d\\x05\\xae\\xcdv\\xcc`\\xb6}\\xe9\\xea\\xbf\\xec9\\xfcg\\xabz\\xbb\\xd5\\x0e1\\xc7\\xfcK\\x85\\xfd\\xa3\\x02\\x03:W\\x91A\\xa1\\xa42]\\x9b\\x94\\xaf'\n",
      "Length: 64\n",
      "Embedding Efficiency: 3.75\n",
      "==============\n",
      "165Dont worry. I guess he's busy.\n",
      "customizedTechniques-2\n",
      "Fqpv yqtta. K iwguu jg'u dwua.\n",
      "Length: 30\n",
      "customizedTechniques-3\n",
      "d>L>i>",
      ">",
      "E>L\n",
      "Length: 30\n",
      "customizedTechniques-5\n",
      "ÁÀÆpÉÁÄÄ±~pp¹Ç·ÅÅpº·wÅp´ÇÅ±~\n",
      "Length: 30\n",
      "OpenSourceTechniques-6\n",
      "b'\\xf4<cgh\\xd0\\xa4?\\xf6<g\\xcf)|\\x16qfl\\xffO\\xa3Q\\xeb\\x1fT\\x00\\xdf\\xb0\\x8c\\xb5m\\x07\\x19\\xd8\\x92N.\\xdc~;\\x1c{\\x83\\x18\\xbc\\xd1\\xb2\\xc7\\xb5\\xa6\\xb3U\\xfaz}\\xa1\\xa3\\xe4\\x9e\\xc9&w\\xfd\\xb7'\n",
      "Length: 64\n",
      "Embedding Efficiency: 3.75\n",
      "==============\n",
      "166Sindu got job in birla soft ..\n",
      "customizedTechniques-2\n",
      "Ukpfw iqv lqd kp dktnc uqhv ..\n",
      "Length: 30\n",
      "customizedTechniques-3\n",
      "s>>>>>>LL\n",
      "Length: 30\n",
      "customizedTechniques-5\n",
      "¥»À¶Çp¹ÁÆp¼Á´p»Àp´»Ä¾³pÅÁ¸Æp~~\n",
      "Length: 30\n",
      "OpenSourceTechniques-6\n",
      "b'\\x0f\\xf6\\xbf\\x82\\x88\\xa4\\xa2\\xe7l\\xf8X-.8V\\xfb8*\\xc7;j|?t\\xb6j\\x1dm\\xa8\\xd7\\xeb\\x95\\x1fK\\xcb|\\xba\\xfaV\\x86\\'\\xf7\\x01.\\xed/\\xd0\\x02\\xeb\\xb4%\"+%\\xa0V\\xe2\\x82\\xad\\xd3\\xfa\\xb1\\'&'\n",
      "Length: 64\n",
      "Embedding Efficiency: 3.75\n",
      "==============\n",
      "167Hey company elama po mudyadhu.\n",
      "customizedTechniques-2\n",
      "Jga eqorcpa gncoc rq owfacfjw.\n",
      "Length: 30\n",
      "customizedTechniques-3\n",
      "h",
      ">>",
      ">>L\n",
      "Length: 30\n",
      "customizedTechniques-5\n",
      "·±pµÁ¿Â³À±p·¾³¿³pÂÁp¿Ç¶±³¶ºÇ~\n",
      "Length: 30\n",
      "OpenSourceTechniques-6\n",
      "b'!\\xdf\\x18\\x8b\\xaa\\xa1\\xf9\\n\\'\\x9c_\\xca\\xb2\\x83\\x03\\xb5\\x07\\xfdp@\\xe3U\\x0c4\\xba{\\r\\xb2\\x10q\\xcd\\xf2D\\xad\\xdd\\xef\\xa7\\xd3\\x9b\\xcdS\\x17\\xde\\xb1lk\\x05i\\x1c\\xa2\\x08\\xc1W\\x90/\\xfa\\x1eW\\xfb\\xea\\x9e\"\\xf06'\n",
      "Length: 64\n",
      "Embedding Efficiency: 3.75\n",
      "==============\n",
      "168I asked you to call him now ok\n",
      "customizedTechniques-2\n",
      "K cumgf aqw vq ecnn jko pqy qm\n",
      "Length: 30\n",
      "customizedTechniques-3\n",
      "i>",
      ">>>>>>\n",
      "Length: 30\n",
      "customizedTechniques-5\n",
      "p³Å½·¶p±ÁÇpÆÁpµ³¾¾pº»¿pÀÁÉpÁ½\n",
      "Length: 30\n",
      "OpenSourceTechniques-6\n",
      "b'w|\\x1c\\x8a}\\xf9\\xe39Y\\x05\\x9d\\x99\\x8bI,\\x7f\\xf1\\x93\\xca)\\xb3\\xdd\\xc1@O\\x17\\xfe\\x1d\\xc6\\x86\\xa2Q\\x90\\xed\\x83\\x11B\\xd2\\xb9\\xab\\x19\\x86?\\r\\x97\\x14\\x03\\x01Xk\\xa5\\xa7\\xcd.^y\\x02A|\\x85\\xa6\\xb8\\x85\\x12'\n",
      "Length: 64\n",
      "Embedding Efficiency: 3.75\n",
      "==============\n",
      "169Awesome, I'll see you in a bit\n",
      "customizedTechniques-2\n",
      "Cyguqog, K'nn ugg aqw kp c dkv\n",
      "Length: 30\n",
      "customizedTechniques-3\n",
      "a",
      "",
      "J>iE>",
      "",
      ">>>>\n",
      "Length: 30\n",
      "customizedTechniques-5\n",
      "É·ÅÁ¿·|pw¾¾pÅ··p±ÁÇp»Àp³p´»Æ\n",
      "Length: 30\n",
      "OpenSourceTechniques-6\n",
      "b'D\\x8ei\\xf5n\\xf0\\xf8e\\xe8\\x85^?\\n1(Y\\xf1\\xcfFg0M\\xa9\\xbd\\xcc\\x9b4\\xf0\\xa9%\\xf3ou,\\xb8\\x0b\\x92\\xdf\\xbf(.@\\xfe\\xe3\\xf0\\x10=\\xb7\\xbc\\n*\\xdb\\xb0\\x03iT\\xe3\\x8dEp\\xda\\xdf7\\xd0'\n",
      "Length: 64\n",
      "Embedding Efficiency: 3.75\n",
      "==============\n",
      "170No problem. How are you doing?\n",
      "customizedTechniques-2\n",
      "Pq rtqdngo. Jqy ctg aqw fqkpi?\n",
      "Length: 30\n",
      "customizedTechniques-3\n",
      "n>",
      "L>h>",
      ">>]\n",
      "Length: 30\n",
      "customizedTechniques-5\n",
      " ÁpÂÄÁ´¾·¿~pÁÉp³Ä·p±ÁÇp¶Á»À¹\n",
      "Length: 30\n",
      "OpenSourceTechniques-6\n",
      "b'\\x84\\xffo\\xfc+\\xab>\\x14\\xfdA(\\xc1\\x17\\xe8~[\\x94\\xdf\\xb7v;\\xa5\\xea\\xe0\\x1c\\x9e\\xd4\\xa2~\\x1d{\\xb4]h\\x06\\x16\\xc7(\\xf2N|RC\\xa0\\xc8\\xdf\\xb3\\xfa\\xa0\\x06\\xef\\x95\\xed@W\\x9a7\\xf8g>S{\\x89\\xf5'\n",
      "Length: 64\n",
      "Embedding Efficiency: 3.75\n",
      "==============\n",
      "171Mm that time you dont like fun\n",
      "customizedTechniques-2\n",
      "Oo vjcv vkog aqw fqpv nkmg hwp\n",
      "Length: 30\n",
      "customizedTechniques-3\n",
      "m>>",
      ">>>",
      ">\n",
      "Length: 30\n",
      "customizedTechniques-5\n",
      "¿pÆº³ÆpÆ»¿·p±ÁÇp¶ÁÀÆp¾»½·p¸ÇÀ\n",
      "Length: 30\n",
      "OpenSourceTechniques-6\n",
      "b'\\x8b\\x8bha\\x96\\xf8\\x8c\\x8f\\x8a\\xd6\\xdf\\xd6\\x80\\xa6\\xff\\x10\\x8f\\x1b\\xb9q\\x86\\xe3\\x044U\\xbb\\x19\\xb4o\\x14[\\xa3Tk\"\\xb8\\xbdr-Oh\\xf8\\xa9\\xbd<\\x00_\\xea#\\xfe/1\\xd3\\x10r&\\x0c3\\xaa\\xd0\\x8f)\\\\8'\n",
      "Length: 64\n",
      "Embedding Efficiency: 3.75\n",
      "==============\n",
      "172Cos i want it to be your thing\n",
      "customizedTechniques-2\n",
      "Equ k ycpv kv vq dg aqwt vjkpi\n",
      "Length: 30\n",
      "customizedTechniques-3\n",
      "c>>>>>",
      ">>\n",
      "Length: 30\n",
      "customizedTechniques-5\n",
      "ÁÅp»pÉ³ÀÆp»ÆpÆÁp´·p±ÁÇÄpÆº»À¹\n",
      "Length: 30\n",
      "OpenSourceTechniques-6\n",
      "b'\\xa5\\xab\\xf7\\x83\\x00g\\xb9\\xaa\\xc9u=\\xca\\xaa\\x84,\\xd9r\\xb5\\xdd\\nV\\xca\\x17\\xdf\\xf9\\x04\\xe3\\x8f\\xc3\\xd4q\\xa3\\xa8\\x84P\\xad\\x13\\xbc\\x80\\xe1sT\\x9b\\xc3\"GS\\xbb\\x9fr_T\\xca\\xe0I\\xd1S\\x96z\\xab\\x080\\x18\\xea'\n",
      "Length: 64\n",
      "Embedding Efficiency: 3.75\n",
      "==============\n",
      "173ÌÏ log off 4 wat. It's sdryb8i\n",
      "customizedTechniques-2\n",
      "LO nqi qhh 4 ycv. Kv'u uftad8k\n",
      "Length: 30\n",
      "customizedTechniques-3\n",
      "jm>>>R>L>iE>V\n",
      "Length: 30\n",
      "customizedTechniques-5\n",
      "p¾Á¹pÁ¸¸ppÉ³Æ~pÆwÅpÅ¶Ä±´»\n",
      "Length: 30\n",
      "OpenSourceTechniques-6\n",
      "b'\\xd9\\x88\\xc6\\xb3SA[?1\\xc6\\x16\\xf0\\xc7\\'\\x9fX\\xe6\\xe0\\xa1\\xee*\\xe1~\\x02\\n\\x99Jf\\xe0\\xa8\\x89\\x80.{\\xf6\\xedv\\x0e\\x04v\\x91$\\xbcy\\x87\\x92j\\xdf\\xc8o\"\\xa8z\\xe1\\xfb\\x0f\\xfe\\\\+\\xe9.\\xb0\\xddT'\n",
      "Length: 64\n",
      "Embedding Efficiency: 3.75\n",
      "==============\n",
      "174Have you finished work yet? :)\n",
      "customizedTechniques-2\n",
      "Jcxg aqw hkpkujgf yqtm agv? :)\n",
      "Length: 30\n",
      "customizedTechniques-3\n",
      "h",
      ">>",
      ">>",
      "]>XG\n",
      "Length: 30\n",
      "customizedTechniques-5\n",
      "³È·p±ÁÇp¸»À»Åº·¶pÉÁÄ½p±·Æpy\n",
      "Length: 30\n",
      "OpenSourceTechniques-6\n",
      "b'\\x00V\\x03}\\xe6B\\xf2\\xff\\x19\\xb1\\x90\\xd1\\xe3\\x13O\\x91\\xac*O\\xe4\\x84\\xedy\\x1c\\xce\\xeb\\x12\\xfa\\xf9\\xb5+Pxh\\xea\\xdcoS\\x08\\x8dX\\xa1\\xe7\\xf4\\x7fm\\xfba?\\xd2\\xe0\\xa3\\xd7P\\x1f\\xe0\\x9a\\xd7&/6\\x9c\\xef\\xf6'\n",
      "Length: 64\n",
      "Embedding Efficiency: 3.75\n",
      "==============\n",
      "175Mum ask Ì_ to buy food home...\n",
      "customizedTechniques-2\n",
      "Owo cum L_ vq dwa hqqf jqog...\n",
      "Length: 30\n",
      "customizedTechniques-3\n",
      "m>>j}>>>>",
      "LLL\n",
      "Length: 30\n",
      "customizedTechniques-5\n",
      "Ç¿p³Å½p¯pÆÁp´Ç±p¸ÁÁ¶pºÁ¿·~~~\n",
      "Length: 30\n",
      "OpenSourceTechniques-6\n",
      "b\"\\xe3\\xb4\\x9e' \\xa6\\xde\\x9a\\x89VM\\x8f/|u[pu\\x1d\\xed\\x02r\\xbb\\xe8}\\xdf4\\x0e\\xe4 \\xf3\\x11\\xe0\\x10\\xd7sG~=\\xce\\x90\\x85\\xf4z\\xacp\\xd8\\xebK\\xeb#5\\xf1t\\r&B\\x16\\t\\xdd\\xbdWR\\xba\"\n",
      "Length: 64\n",
      "Embedding Efficiency: 3.75\n",
      "==============\n",
      "176So when do you wanna gym harri\n",
      "customizedTechniques-2\n",
      "Uq yjgp fq aqw ycppc iao jcttk\n",
      "Length: 30\n",
      "customizedTechniques-3\n",
      "s>",
      ">>>>>\n",
      "Length: 30\n",
      "customizedTechniques-5\n",
      "¥ÁpÉº·Àp¶Áp±ÁÇpÉ³ÀÀ³p¹±¿pº³ÄÄ»\n",
      "Length: 30\n",
      "OpenSourceTechniques-6\n",
      "b'+(\\xe4\\x0c\\xd2\\xb1x\\xe6|\\xfa\\xa9f\\x041\\xbf\\x84\\r$u\\xc3\\xd4[\\xbd\\xdd\\x10\\xaaX\\x06\\xe5\\x86\\xa2\\x80\\xd7\\x9b\\xf4hX\\xcb\\xca\\xb0PQ\\xc1\\xad\\xc5T\\x05\\xa6\\x90\\xbd\\xebT`3#g\\xe0\\x08{\\xe8\"\\xbf\\xb1:'\n",
      "Length: 64\n",
      "Embedding Efficiency: 3.75\n",
      "==============\n",
      "177Fair enough, anything going on?\n",
      "customizedTechniques-2\n",
      "Hckt gpqwij, cpavjkpi iqkpi qp?\n",
      "Length: 31\n",
      "customizedTechniques-3\n",
      "f>",
      "J>>>]\n",
      "Length: 31\n",
      "customizedTechniques-5\n",
      "³»Äp·ÀÁÇ¹º|p³À±Æº»À¹p¹Á»À¹pÁÀ\n",
      "Length: 31\n",
      "OpenSourceTechniques-6\n",
      "b'0<\\r%6\\x1bi\\xd4\\xda\\xcfa\\xf2.\\xf9\\n\\xb6N$L\\xac\\x8f\\xd1\\xd3\\xaaD\\xc7R\\xfe\\xe2\\x88\\xd6\\xb2\\xa5\\x85\\x92m\\xc3\\x0e\\x10\\xde\\x03\\xad\\x11\\xf0\\xdf\\xef\\xcd\\x95\\x0c\\xde\\x0f\\xac\\xf9\\x1fJ\\x05\\xbf\\xbb\\x83_q\\xd0\\xfaO'\n",
      "Length: 64\n",
      "Embedding Efficiency: 3.875\n",
      "==============\n",
      "178Going for dinner.msg you after.\n",
      "customizedTechniques-2\n",
      "Iqkpi hqt fkppgt.oui aqw chvgt.\n",
      "Length: 31\n",
      "customizedTechniques-3\n",
      "g>>",
      "L>>",
      "L\n",
      "Length: 31\n",
      "customizedTechniques-5\n",
      "Á»À¹p¸ÁÄp¶»ÀÀ·Ä~¿Å¹p±ÁÇp³¸Æ·Ä~\n",
      "Length: 31\n",
      "OpenSourceTechniques-6\n",
      "b\"\\x11\\x12a<\\xd3q~>\\xad\\x96\\xcep\\xd0\\xf4'\\x9cjb\\xf2\\xa8\\xb7z?\\x0e\\x84\\x149\\xde\\xed{\\x95\\xcc\\xcd]\\x01\\xcb\\xde\\xb0\\xa5\\xca V=\\x15\\x8b8\\xf5\\x13SJ\\x9ffr\\xca\\xb4A\\x8e,\\xa0\\\\c\\x934\\xfd\"\n",
      "Length: 64\n",
      "Embedding Efficiency: 3.875\n",
      "==============\n",
      "179Sounds great! Are you home now?\n",
      "customizedTechniques-2\n",
      "Uqwpfu itgcv! Ctg aqw jqog pqy?\n",
      "Length: 31\n",
      "customizedTechniques-3\n",
      "s>",
      "?>a",
      ">>",
      ">]\n",
      "Length: 31\n",
      "customizedTechniques-5\n",
      "¥ÁÇÀ¶Åp¹Ä·³ÆqpÄ·p±ÁÇpºÁ¿·pÀÁÉ\n",
      "Length: 31\n",
      "OpenSourceTechniques-6\n",
      "b'\\xaf\\xdf\\x81s\\x13\\xc5\\\\\\x17X\\x866\\xed+\\xb9\\x93\\xdd\\x8a@\\xb1\\x15(\\xe0\\x04\\xc8\\xc73[\\\\\\x03\\x16\\xb1f\\xb9\\\\.\\x00\\xc2\\xc3\\\\\\x8c8\\xc6s2$\\x9b\\xa1) \\x9fJ\\xc4 `\\xb1\\xdb\\x86\\xdc\\xf8S\\xf9\\xc9\\xd5\\xeb'\n",
      "Length: 64\n",
      "Embedding Efficiency: 3.875\n",
      "==============\n",
      "180Kallis wont bat in 2nd innings.\n",
      "customizedTechniques-2\n",
      "Mcnnku yqpv dcv kp 2pf kppkpiu.\n",
      "Length: 31\n",
      "customizedTechniques-3\n",
      "k>>>>P>L\n",
      "Length: 31\n",
      "customizedTechniques-5\n",
      "³¾¾»ÅpÉÁÀÆp´³Æp»ÀpÀ¶p»ÀÀ»À¹Å~\n",
      "Length: 31\n",
      "OpenSourceTechniques-6\n",
      "b'\\xce\\xbc\\xa0\\xda\\xa1\\xc7\\x07\\xc7\\x91\\xb6\\x16!\\xf1\\xca\\xba\\x8d<\\xa7\\x1e\\x86]\\x803\\x9bF\\xb7\\xe3UDp\\xcf\\xc3 \\x06\\xea\\x96\\x108\\t_W\\xafS*\\xca\\xb7*\\x84Vct\\x10EiV\\x1c\\xd9\\x1a\\xbc\\xbbm\\xb3\\xa0?'\n",
      "Length: 64\n",
      "Embedding Efficiency: 3.875\n",
      "==============\n",
      "181No objection. My bf not coming.\n",
      "customizedTechniques-2\n",
      "Pq qdlgevkqp. Oa dh pqv eqokpi.\n",
      "Length: 31\n",
      "customizedTechniques-3\n",
      "n>",
      "L>m>>>L\n",
      "Length: 31\n",
      "customizedTechniques-5\n",
      " ÁpÁ´¼·µÆ»ÁÀ~p±p´¸pÀÁÆpµÁ¿»À¹~\n",
      "Length: 31\n",
      "OpenSourceTechniques-6\n",
      "b\"q\\xe8\\x1ff\\x96\\xe4\\x8e>\\xeb[d\\xf0\\x9a.\\xe9\\xe2\\x16\\xcc9\\xb3\\x0c\\xb1K\\xdd\\x17o\\xc78e\\x96\\x00\\x89\\x15\\x01DZxmoO\\x1a\\xcf\\xc0G)rzzi'}\\x856\\x1dD\\x97\\x1cR\\x864\\xb2\\xc4\\xf4b\"\n",
      "Length: 64\n",
      "Embedding Efficiency: 3.875\n",
      "==============\n",
      "182Hi da:)how is the todays class?\n",
      "customizedTechniques-2\n",
      "Jk fc:)jqy ku vjg vqfcau encuu?\n",
      "Length: 31\n",
      "customizedTechniques-3\n",
      "h>XG>>",
      ">>]\n",
      "Length: 31\n",
      "customizedTechniques-5\n",
      "»p¶³yºÁÉp»ÅpÆº·pÆÁ¶³±Åpµ¾³ÅÅ\n",
      "Length: 31\n",
      "OpenSourceTechniques-6\n",
      "b'C\\xaa<<\\x12\\xd5R\\xf2\\xbc\\xf2>(9\\t\\x1d\\x1c\\xf5\\x8f@\\x0c\\x9cV3\\x98\\xc8G\\x13\\xa9k\\x91\\xad\\xc9\\xaf\\xf4?\\xcev\\xc3%\\x07\\x07A \\x92j\\x15\\xa2\\xa2\\xcf\\x9a\\xd4\\xff\\xa5\\xd8\\x80\\xd5\\xd0\\xf82\\x96-\\xb3\\x8f\\xb9'\n",
      "Length: 64\n",
      "Embedding Efficiency: 3.875\n",
      "==============\n",
      "183One small prestige problem now.\n",
      "customizedTechniques-2\n",
      "Qpg uocnn rtguvkig rtqdngo pqy.\n",
      "Length: 31\n",
      "customizedTechniques-3\n",
      "o",
      ">>",
      "",
      ">",
      ">L\n",
      "Length: 31\n",
      "customizedTechniques-5\n",
      "¡À·pÅ¿³¾¾pÂÄ·ÅÆ»¹·pÂÄÁ´¾·¿pÀÁÉ~\n",
      "Length: 31\n",
      "OpenSourceTechniques-6\n",
      "b'\\xbf/*\\x83f\\x98\\xe5\\n\\x86\\xd1{]\\xb66\\xd5:\\xd6\\xa3\\x19\\x12\"\\xd2G\\xd4m\\xca\\x9fy3\\xe0U~N\\x10@\\x81[\\x9a\\x00s>\\x00\\x9dt\\xa3/\\xe0\\x0b\\xd0gk\\\\\\xf6o2\\x8d\\x8eI\\x8c0]\\x90L|'\n",
      "Length: 64\n",
      "Embedding Efficiency: 3.875\n",
      "==============\n",
      "184Check audrey's status right now\n",
      "customizedTechniques-2\n",
      "Ejgem cwftga'u uvcvwu tkijv pqy\n",
      "Length: 31\n",
      "customizedTechniques-3\n",
      "c",
      ">",
      "E>>>\n",
      "Length: 31\n",
      "customizedTechniques-5\n",
      "º·µ½p³Ç¶Ä·±wÅpÅÆ³ÆÇÅpÄ»¹ºÆpÀÁÉ\n",
      "Length: 31\n",
      "OpenSourceTechniques-6\n",
      "b'S\\x8b\\xa7\\x0e3\\xbc\\xa0!\\xa0\\t\\xe3\\xa2\\x99\\x07\\x9f/\\xf1\\xd3\\x1d\\xcd\\xb7\\x03\\xa7R\\x07\\x96\"e!\\xf5\\xa0\\x12\\x83\\x95\\xe1%\\xfch\\xe6\\x1eB\\x197\\xb7\\xf6\\t\\xa8\\xd1\\xbej\\xad\\xa5\\x06\\xc4~\\x19\\xa4U<b\\xaa\\xa4\\xe9\\xe7'\n",
      "Length: 64\n",
      "Embedding Efficiency: 3.875\n",
      "==============\n",
      "185Cool, text me when you're ready\n",
      "customizedTechniques-2\n",
      "Eqqn, vgzv og yjgp aqw'tg tgcfa\n",
      "Length: 31\n",
      "customizedTechniques-3\n",
      "cJ>",
      ">",
      ">",
      ">E",
      ">",
      "\n",
      "Length: 31\n",
      "customizedTechniques-5\n",
      "ÁÁ¾|pÆ·ÊÆp¿·pÉº·Àp±ÁÇwÄ·pÄ·³¶±\n",
      "Length: 31\n",
      "OpenSourceTechniques-6\n",
      "b'\\x8f\\x16`\\xdfg\\x18$\\xd8x\\xb6\\xea\\x8a\\xdfX\\xfd\\xeaBhY\\xb5\\r\\xeb\\'h\\x87o\\xfeY\\xc2\\xf9\\x1f\\x81\\xb3x\\xcb\\xe68\\xa6\\xb1T\"\\xaa`\\x848\\xbb.\\xec]\\x9aV8\\xc7\\x07\\xc8u\\t:Rp\\xf8v\\xc3='\n",
      "Length: 64\n",
      "Embedding Efficiency: 3.875\n",
      "==============\n",
      "186Customer place i will call you.\n",
      "customizedTechniques-2\n",
      "Ewuvqogt rnceg k yknn ecnn aqw.\n",
      "Length: 31\n",
      "customizedTechniques-3\n",
      "c",
      ">",
      ">>>>L\n",
      "Length: 31\n",
      "customizedTechniques-5\n",
      "ÇÅÆÁ¿·ÄpÂ¾³µ·p»pÉ»¾¾pµ³¾¾p±ÁÇ~\n",
      "Length: 31\n",
      "OpenSourceTechniques-6\n",
      "b'\\x9d\\xaf\\xbe\\x8dw\\xf4!?{Fan\\x05yS,\\x97\\xdbL\\x0f\\x87$\\x8d\\x9a\\x9dO\"J\\x99\\x9d\\x15\\xc60.\\x15U\\xfe\\x90\\x0e)h\\xfe\\xcd\\x81\\x86e\\x96\\xf4M$#\\x13\\x0e,\\xe7\\x88\\xc2\\x19\\x1d\\xfc\\xf2\\xcf\\x1c\\x07'\n",
      "Length: 64\n",
      "Embedding Efficiency: 3.875\n",
      "==============\n",
      "187When did you get to the library\n",
      "customizedTechniques-2\n",
      "Yjgp fkf aqw igv vq vjg nkdtcta\n",
      "Length: 31\n",
      "customizedTechniques-3\n",
      "w",
      ">>>",
      ">>",
      ">\n",
      "Length: 31\n",
      "customizedTechniques-5\n",
      "©º·Àp¶»¶p±ÁÇp¹·ÆpÆÁpÆº·p¾»´Ä³Ä±\n",
      "Length: 31\n",
      "OpenSourceTechniques-6\n",
      "b\"\\x10\\x1e^\\xf1Md\\xe5vy^\\xb6\\x82A\\x0c\\xc3\\xee\\xc0\\x0e7\\xe7\\xfa\\xaa\\xfe\\xbbj\\x8c\\x8c}\\xf9>\\x01\\xd1\\xfb\\x10\\x9f\\xd7\\x9b\\xfc\\xeb \\x15t\\x00\\xd2w'\\x8b\\x15\\xf9\\x99\\xa8i\\xb9f\\x91\\x97\\xfe\\xdc{\\xd4e\\x95\\x88D\"\n",
      "Length: 64\n",
      "Embedding Efficiency: 3.875\n",
      "==============\n",
      "188All e best 4 ur driving tmr :-)\n",
      "customizedTechniques-2\n",
      "Cnn g dguv 4 wt ftkxkpi vot :-)\n",
      "Length: 31\n",
      "customizedTechniques-3\n",
      "a>",
      ">",
      ">R>>>>XKG\n",
      "Length: 31\n",
      "customizedTechniques-5\n",
      "¾¾p·p´·ÅÆppÇÄp¶Ä»È»À¹pÆ¿Äp}y\n",
      "Length: 31\n",
      "OpenSourceTechniques-6\n",
      "b'\\x12\\x8f{o\\x1b\\xfd\\x83%ST:\\xce%\\xa7\\xfb(\\x11)\\xe8.d\\xb3u\\xf9\\xca\\x8d]\\xead\\x1a\\x8dm\\xe2\\x1c\\x9c\\x96T\\x8f\\xca\\xf0\\xbd\\x9ck\\xba\\xcc\\xeb\\xe5q\\xad\\xee]\\xd4\\xd5\\xb4\\x96/\\x04<vK\\x02\\xb2!\\xf0'\n",
      "Length: 64\n",
      "Embedding Efficiency: 3.875\n",
      "==============\n",
      "189Ok i msg u b4 i leave my house.\n",
      "customizedTechniques-2\n",
      "Qm k oui w d4 k ngcxg oa jqwug.\n",
      "Length: 31\n",
      "customizedTechniques-3\n",
      "o>>>>R>>",
      "",
      ">>",
      "L\n",
      "Length: 31\n",
      "customizedTechniques-5\n",
      "¡½p»p¿Å¹pÇp´p»p¾·³È·p¿±pºÁÇÅ·~\n",
      "Length: 31\n",
      "OpenSourceTechniques-6\n",
      "b'\\x83};\\xb0\\x10\\xeb\\xbc\\x19}f\\x97\\xed`\\x01\\xb1\\xc8\\xe8\\xd1\\xc0-\\x9b?\\xcc\\x91\\xad\\x95:\\x8e=\\xa8\\xe9\\x1d\\xe6O\\xb2\\x1e\\xb3x\\xb9\\x0f\\xdb|d\\xf0\\x92g\\xc7\\x19WX\\xcd\\xcc\\xf9\\x95\\xb1+\\xe9\\xe8\\xf6\\x04.\\xf0\\x08\\x95'\n",
      "Length: 64\n",
      "Embedding Efficiency: 3.875\n",
      "==============\n",
      "190I'll text you when I drop x off\n",
      "customizedTechniques-2\n",
      "K'nn vgzv aqw yjgp K ftqr z qhh\n",
      "Length: 31\n",
      "customizedTechniques-3\n",
      "iE>",
      ">>",
      ">i>>>\n",
      "Length: 31\n",
      "customizedTechniques-5\n",
      "w¾¾pÆ·ÊÆp±ÁÇpÉº·Àpp¶ÄÁÂpÊpÁ¸¸\n",
      "Length: 31\n",
      "OpenSourceTechniques-6\n",
      "b'\\xe8\\xa8[\\xad.7\\xab]\\xfc\\xa0\\x99s\\x9f\\xe2Y\\x1e\\xa8\\xdf\\xaccH\\xca\\x97\\xc0L\\xceat\\x02\\xed_\\xb6\\xe0J\\x01e\\x0f\\xea<\\xb1m\\xa1\\xfa\\xfcy\\xef\\x9f\\xff\\xc9~\\x19\\xb4\\xa08\\x01\\xb3\\x89\\xd5\\xfb\\x84\\xe1\\xbb\\x06w'\n",
      "Length: 64\n",
      "Embedding Efficiency: 3.875\n",
      "==============\n",
      "191WHITE FUDGE OREOS ARE IN STORES\n",
      "customizedTechniques-2\n",
      "YJKVG HWFIG QTGQU CTG KP UVQTGU\n",
      "Length: 31\n",
      "customizedTechniques-3\n",
      "white>fudge>oreos>are>in>stores\n",
      "Length: 31\n",
      "customizedTechniques-5\n",
      "©¦p§p¡¤¡¥p¤p p¥¦¡¤¥\n",
      "Length: 31\n",
      "OpenSourceTechniques-6\n",
      "b\"\\x1d\\xe5g#\\x0bw\\xa7(\\x8b5W\\xb6'\\x19\\xfd\\xe0\\xe6\\x11\\x1a\\x84q\\xf9\\xebI\\xe2#\\x08TNTR\\xedc\\xb47\\xed\\xf5\\xfe\\x83\\x8a\\x81\\x11\\x81<\\xee\\xbf\\xe3\\x05)\\xab\\x01\\x16\\xe5\\xc6bV\\xd1Z\\x02; \\xbeF\\xaf\"\n",
      "Length: 64\n",
      "Embedding Efficiency: 3.875\n",
      "==============\n",
      "192Haha awesome, omw back now then\n",
      "customizedTechniques-2\n",
      "Jcjc cyguqog, qoy dcem pqy vjgp\n",
      "Length: 31\n",
      "customizedTechniques-3\n",
      "h>",
      "",
      "J>>>>",
      "\n",
      "Length: 31\n",
      "customizedTechniques-5\n",
      "³º³p³É·ÅÁ¿·|pÁ¿Ép´³µ½pÀÁÉpÆº·À\n",
      "Length: 31\n",
      "OpenSourceTechniques-6\n"
     ]
    },
    {
     "name": "stdout",
     "output_type": "stream",
     "text": [
      "b\"+F\\x87\\xd7/\\xcfwC\\x13\\x92\\xb3\\xc3'\\xa3\\xe9F\\x8c\\x0e\\xf4C]\\xfc\\xdb\\x06\\x0b\\xfa\\xfal\\xc6\\xdbE\\xaf\\x84\\x11\\xaeu]8K;\\x80\\xcaU\\x8a\\xac\\x0b\\rCS$\\x142k\\xd1\\x8b\\x1f\\x81\\xe3_\\xfe\\x8dlt\\xb3\"\n",
      "Length: 64\n",
      "Embedding Efficiency: 3.875\n",
      "==============\n",
      "193No calls..messages..missed calls\n",
      "customizedTechniques-2\n",
      "Pq ecnnu..oguucigu..okuugf ecnnu\n",
      "Length: 32\n",
      "customizedTechniques-3\n",
      "n>LL",
      "",
      "LL",
      ">\n",
      "Length: 32\n",
      "customizedTechniques-5\n",
      " Ápµ³¾¾Å~~¿·ÅÅ³¹·Å~~¿»ÅÅ·¶pµ³¾¾Å\n",
      "Length: 32\n",
      "OpenSourceTechniques-6\n",
      "b'\\xb2cJvop_\\x9eo,Ru\\x07\\x93\\x86N\\xdfB\\xb1\\xbb\\xf1\\xd8\\x03\\xcf\\x93\\x0b\\x1c\\x0em\\xd8q\\xeb\\xb8\\xbc\\xdd\\x14\\x8d\\xbcL\\xdc\\xba\\xd9\\x94$\\x1aU\\xf8\\xff\\xceI\\x91[F\\xad\\xc3\\x81Zl\\xea\\xc6\\x08#\\xf5\\xb6'\n",
      "Length: 64\n",
      "Embedding Efficiency: 4.0\n",
      "==============\n",
      "194K. Did you call me just now ah? \n",
      "customizedTechniques-2\n",
      "M. Fkf aqw ecnn og lwuv pqy cj? \n",
      "Length: 32\n",
      "customizedTechniques-3\n",
      "kL>d>>>",
      ">>>]>\n",
      "Length: 32\n",
      "customizedTechniques-5\n",
      "~p»¶p±ÁÇpµ³¾¾p¿·p¼ÇÅÆpÀÁÉp³ºp\n",
      "Length: 32\n",
      "OpenSourceTechniques-6\n",
      "b'\\x06Vp\\x05\\xcb\\xc7\\x1a\\x1a\\xe7#gq\\xa4\\x9e|\\xa8\\xfe\\n\\xfc\\xc1\\xaf\\xb2\\xca\\xbbpg\\xab6\\xd9\\xa7k\\xb6\\n\\xf8X\\xaa\\xd3\\x03\\x96\\\\\\xf8\\x86\\x95\\x143r\\x96\\xa3\\xd4\\x10\\xa7\\xdc\\xa6\\xcc/aWp\\x8b\\x7f\\xad0\\xc9;'\n",
      "Length: 64\n",
      "Embedding Efficiency: 4.0\n",
      "==============\n",
      "195Ok i am on the way to home hi hi\n",
      "customizedTechniques-2\n",
      "Qm k co qp vjg yca vq jqog jk jk\n",
      "Length: 32\n",
      "customizedTechniques-3\n",
      "o>>>>",
      ">>>",
      ">>\n",
      "Length: 32\n",
      "customizedTechniques-5\n",
      "¡½p»p³¿pÁÀpÆº·pÉ³±pÆÁpºÁ¿·pº»pº»\n",
      "Length: 32\n",
      "OpenSourceTechniques-6\n",
      "b'\\xc4\\x1aA\\x89\\xda9(IGx\\xf4\\x8cf\\xce\\xa9\\xf5\\xba\\xcf s|\\x0c&\\xa0\\xc2\\x8e\\xfe\\xa2\\x8ab2Nzy(hE\\x8dU\\xf3\\x12\\x00E\\xe2h\\xb4\\xb2(\\x03\\xf6\\x86\\xc8\\xc2\\xeb\\x1c\\x04\\x96\\xb1\\x95\\xaa\\xef\\x07\\x01\\xfc'\n",
      "Length: 64\n",
      "Embedding Efficiency: 4.0\n",
      "==============\n",
      "196I have to take exam with march 3\n",
      "customizedTechniques-2\n",
      "K jcxg vq vcmg gzco ykvj octej 3\n",
      "Length: 32\n",
      "customizedTechniques-3\n",
      "i>",
      ">>",
      ">",
      ">>>Q\n",
      "Length: 32\n",
      "customizedTechniques-5\n",
      "pº³È·pÆÁpÆ³½·p·Ê³¿pÉ»Æºp¿³Äµºp\n",
      "Length: 32\n",
      "OpenSourceTechniques-6\n",
      "b'I\\xd5W\\tZ \\xe6\\xbf\\xb0\\xc8\\x1fK\\xeb\\xde>\\x9de\\x80L\\x96\\xb3H8\\x19*\\xa7\\x82\\xc2=y\\xb3\\xbe\\xab\\xad\\xa9\\xba\\x9aJ\\x00y\\x92|Go\\x08\\xdb\\xef\\x17\\xdeO\\x95I\\xe8\\xb5\\x04\\xa0\\xc0z\\xf9\\xceR\\xa8\\xd0\\xfc'\n",
      "Length: 64\n",
      "Embedding Efficiency: 4.0\n",
      "==============\n",
      "197No calls..messages..missed calls\n",
      "customizedTechniques-2\n",
      "Pq ecnnu..oguucigu..okuugf ecnnu\n",
      "Length: 32\n",
      "customizedTechniques-3\n",
      "n>LL",
      "",
      "LL",
      ">\n",
      "Length: 32\n",
      "customizedTechniques-5\n",
      " Ápµ³¾¾Å~~¿·ÅÅ³¹·Å~~¿»ÅÅ·¶pµ³¾¾Å\n",
      "Length: 32\n",
      "OpenSourceTechniques-6\n",
      "b'w\\x1c\\xff\\xe8\\x15w\\xbb)\\xbc\\xfe<l5\\x1b\\x89a\\xea~\\xd5\\x1e\\xe6l1\\x17\\x16\\xd1=\\x1c\\xbb\\xac\\x00d\\x034-\\xc4\\x01\\x8b\\x8a*t\\xe6\\xda\\x08\\xed\\t\\xff.\\x0f\\xca]\\xc37t\\xaa\\xaa\\xa9{\\x04\\x9d\\xb3\\x16\\xa2\\xed'\n",
      "Length: 64\n",
      "Embedding Efficiency: 4.0\n",
      "==============\n",
      "198Cool, text me when you're parked\n",
      "customizedTechniques-2\n",
      "Eqqn, vgzv og yjgp aqw'tg rctmgf\n",
      "Length: 32\n",
      "customizedTechniques-3\n",
      "cJ>",
      ">",
      ">",
      ">E",
      ">",
      "\n",
      "Length: 32\n",
      "customizedTechniques-5\n",
      "ÁÁ¾|pÆ·ÊÆp¿·pÉº·Àp±ÁÇwÄ·pÂ³Ä½·¶\n",
      "Length: 32\n",
      "OpenSourceTechniques-6\n",
      "b\"\\xcf\\xdeL\\xafK\\xa3>\\rT\\xf2n'\\x04\\xaf\\x18\\x0c\\x14\\x18\\xb9\\x98w!\\xd9e{\\xb7\\xb6\\x16\\xb4\\xf4rl\\xf5s\\x10Qj\\xa5\\xb9F'\\x96\\nw=\\x18\\x8d\\x03\\xbe\\x85\\xcc\\x82!\\x04#\\xc8\\x04O\\x8a\\xf9\\x17a\\xaf\\xc7\"\n",
      "Length: 64\n",
      "Embedding Efficiency: 4.0\n",
      "==============\n",
      "199Sorry,in meeting I'll call later\n",
      "customizedTechniques-2\n",
      "Uqtta,kp oggvkpi K'nn ecnn ncvgt\n",
      "Length: 32\n",
      "customizedTechniques-3\n",
      "sJ>",
      "",
      ">iE>>",
      "\n",
      "Length: 32\n",
      "customizedTechniques-5\n",
      "¥ÁÄÄ±|»Àp¿··Æ»À¹pw¾¾pµ³¾¾p¾³Æ·Ä\n",
      "Length: 32\n",
      "OpenSourceTechniques-6\n",
      "b'\\xb5$c\\xe0\\xcbH|\\xd2y\\x0e\\x84\\x19p.\\x11U\\xb0\\x9f[A2v\\t\\xe9\\x95\\x1b\\x85\\xa5\\t\\xac\\xfas\\x1d\\xdbl\\x197\\xfe\\x1dD\\xf5\\xb9v\\xf6?\\x84\\x07^\\xe2\\xdf\\x12\\xc1fQ]\\x81I\\x10\\xc6W\\x8b)HV'\n",
      "Length: 64\n",
      "Embedding Efficiency: 4.0\n",
      "==============\n",
      "200Are you free now?can i call now?\n",
      "customizedTechniques-2\n",
      "Ctg aqw htgg pqy?ecp k ecnn pqy?\n",
      "Length: 32\n",
      "customizedTechniques-3\n",
      "a",
      ">>",
      "",
      ">]>>>]\n",
      "Length: 32\n",
      "customizedTechniques-5\n",
      "Ä·p±ÁÇp¸Ä··pÀÁÉµ³Àp»pµ³¾¾pÀÁÉ\n",
      "Length: 32\n",
      "OpenSourceTechniques-6\n",
      "b\"\\xb8\\x83\\x93\\x87\\xdfN\\xdc\\x85d\\x15\\xc4\\x1a\\x07\\x0fpb\\x85\\xbc\\xebs\\xdb\\x80\\xc8-\\xe5\\x01\\x0e+\\xc4t\\x89'\\xf4\\n\\x14D\\x9c?E\\x1c\\x014\\t\\x16\\x11\\xfeC1\\x0c\\x92i\\x920\\xce\\xf6\\xeb\\xa4GF\\x1ba\\xafY\\x08\"\n",
      "Length: 64\n",
      "Embedding Efficiency: 4.0\n",
      "==============\n",
      "201That's very rude, you on campus?\n",
      "customizedTechniques-2\n",
      "Vjcv'u xgta twfg, aqw qp ecorwu?\n",
      "Length: 32\n",
      "customizedTechniques-3\n",
      "tE>",
      ">",
      "J>>>]\n",
      "Length: 32\n",
      "customizedTechniques-5\n",
      "¦º³ÆwÅpÈ·Ä±pÄÇ¶·|p±ÁÇpÁÀpµ³¿ÂÇÅ\n",
      "Length: 32\n",
      "OpenSourceTechniques-6\n",
      "b'-\\x91\\xc2\\xd2\\xab\\x80-\\xb4\\x93\\x99J\\x06&\\xfd\\xb0\\x05e{\\x1f\\x10\\xb6=f\\xaeLDk\\xd1\\x9e8\\xe1)\\x07\\x01\\xbbn&\\xbf\\x02D\\xbb\\xfb\\x00t\\x01\\xb6\\xd3\\xfef\\x81\\x87f_\\x0e\\x0fq;\\xb5\\x8b-6\\xf8\\xf5a'\n",
      "Length: 64\n",
      "Embedding Efficiency: 4.0\n",
      "==============\n",
      "202Sorry that took so long, omw now\n",
      "customizedTechniques-2\n",
      "Uqtta vjcv vqqm uq nqpi, qoy pqy\n",
      "Length: 32\n",
      "customizedTechniques-3\n",
      "s>>>>J>>\n",
      "Length: 32\n",
      "customizedTechniques-5\n",
      "¥ÁÄÄ±pÆº³ÆpÆÁÁ½pÅÁp¾ÁÀ¹|pÁ¿ÉpÀÁÉ\n",
      "Length: 32\n",
      "OpenSourceTechniques-6\n",
      "b'z\\n\\xac\\x92\\xdfH|\\xcd$\\xd3\\x0b\\xcb\\xa5\\xe9L\\xe8\\xdf8[\\x00/\\x10j\\xe6\\xd3\\xe4\\xaf\\x8e\\xc5\\xdb@]Q\\xe2\\x98\\xfd\\x7f\\x06\\xce>\\xe7\\x89S\\x18\\x7f\\x9b\\tN\\xa0U\\xb3X4Ip\\xab\\x14\\x9d\\x9d\\x14\\x05\\xdc/5'\n",
      "Length: 64\n",
      "Embedding Efficiency: 4.0\n",
      "==============\n",
      "203Thanx 4 e brownie it's v nice...\n",
      "customizedTechniques-2\n",
      "Vjcpz 4 g dtqypkg kv'u x pkeg...\n",
      "Length: 32\n",
      "customizedTechniques-3\n",
      "t>R>",
      ">",
      ">E>>",
      "LLL\n",
      "Length: 32\n",
      "customizedTechniques-5\n",
      "¦º³ÀÊpp·p´ÄÁÉÀ»·p»ÆwÅpÈpÀ»µ·~~~\n",
      "Length: 32\n",
      "OpenSourceTechniques-6\n",
      "b'\\xf9\\t\\xecgu\\x8f;\\xf6\\xd5?\\xe9_\\xb2\\xb8w\\x97\\x0b\\x94M\\xa5\\x97\\x1f\\xac\\xfdP5\\x1fL\\xed\\xa2\\xaf\\x83\\xad\\xe4\\x169\\xd8\\tV%(\\xf8\\xedd\\x02\\x920x\\xa4#\\xd7\\x8e\\xb5\\tG\\xe6\\xe6r)\\xc8\\xdd\\xd1+\\x05'\n",
      "Length: 64\n",
      "Embedding Efficiency: 4.0\n",
      "==============\n",
      "204Thanks for picking up the trash.\n",
      "customizedTechniques-2\n",
      "Vjcpmu hqt rkemkpi wr vjg vtcuj.\n",
      "Length: 32\n",
      "customizedTechniques-3\n",
      "t>>>>",
      ">L\n",
      "Length: 32\n",
      "customizedTechniques-5\n",
      "¦º³À½Åp¸ÁÄpÂ»µ½»À¹pÇÂpÆº·pÆÄ³Åº~\n",
      "Length: 32\n",
      "OpenSourceTechniques-6\n",
      "b'\\x7f\\xef\\x00vk\\x0b\\xd5(EC\\xb0\\x89\\x86\\x15<Q\\x15\\xa5\\xa3\\x8fd\\xf2\\xb0\\xf6w65\\xeb$x\\x1d\\x95\\xbfH\\xc3\\x1d\\x85\\x94\\x06\\x96\\x84\\xb3\\xf5\\x00\\x0f\\xe2\\x00sm\\xeb\\xd0\\x1a\\xe2SB\\xb5\\xa0\\xe4\\x9cj\\xe4\\xf1\\x10\\x16'\n",
      "Length: 64\n",
      "Embedding Efficiency: 4.0\n",
      "==============\n",
      "205Watching telugu movie..wat abt u?\n",
      "customizedTechniques-2\n",
      "Ycvejkpi vgnwiw oqxkg..ycv cdv w?\n",
      "Length: 33\n",
      "customizedTechniques-3\n",
      "w>",
      ">",
      "LL>>]\n",
      "Length: 33\n",
      "customizedTechniques-5\n",
      "©³Æµº»À¹pÆ·¾Ç¹Çp¿ÁÈ»·~~É³Æp³´ÆpÇ\n",
      "Length: 33\n",
      "OpenSourceTechniques-6\n",
      "b'\\x83\\x93`\\x927\\xfaC\\xe7\\xab\\xec\\xe3\\x16&^/\\x1aoI0Z\\x9a-\\x8dC<T\\xdd\\x9c\\xab40\\xf2\\x1f\\x87\\x8cn[\\xab\\x9eR\\xeb\\xea\\x06\\xa5\\x83\\xf3\\x8e\\x85\\xac.\\xc2\\x98q\\x9a=\\x87!\\x1f\\xea\\xdeTL\\x18\\x92'\n",
      "Length: 64\n",
      "Embedding Efficiency: 4.125\n",
      "==============\n",
      "206K, text me when you're on the way\n",
      "customizedTechniques-2\n",
      "M, vgzv og yjgp aqw'tg qp vjg yca\n",
      "Length: 33\n",
      "customizedTechniques-3\n",
      "kJ>",
      ">",
      ">",
      ">E",
      ">>",
      ">\n",
      "Length: 33\n",
      "customizedTechniques-5\n",
      "|pÆ·ÊÆp¿·pÉº·Àp±ÁÇwÄ·pÁÀpÆº·pÉ³±\n",
      "Length: 33\n",
      "OpenSourceTechniques-6\n",
      "b\"\\xe3\\xb5\\xad\\xd4\\x97\\x7fq\\x1b\\xf2\\x1b\\xde\\x95\\xd3\\xe6\\xcb'>\\xb8\\xbd\\xd8d\\r\\xe9\\xaf+8`\\xd8\\xcbV\\xe7\\xd4\\xd4\\xff\\x14gb\\xee;\\xd5T\\r\\xf2\\xef\\xbaU\\x1b\\xd4\\xb9\\xb5a\\xf0\\x16\\xc2R=!u\\x97\\x87\\x88\\xebK\\x07\"\n",
      "Length: 64\n",
      "Embedding Efficiency: 4.125\n",
      "==============\n",
      "207K..i deleted my contact that why?\n",
      "customizedTechniques-2\n",
      "M..k fgngvgf oa eqpvcev vjcv yja?\n",
      "Length: 33\n",
      "customizedTechniques-3\n",
      "kLL>",
      "",
      "",
      ">>>>]\n",
      "Length: 33\n",
      "customizedTechniques-5\n",
      "~~»p¶·¾·Æ·¶p¿±pµÁÀÆ³µÆpÆº³ÆpÉº±\n",
      "Length: 33\n",
      "OpenSourceTechniques-6\n",
      "b\"$uz\\x80\\x18\\xb8\\xb7\\x8a\\x8e\\x11v\\xb6j\\x17\\xb1\\xb61\\x90UU\\xc3n\\x9a\\xe4\\xab=\\x00\\xa4\\xdf\\x0b\\x8e\\xfb\\xaf\\x8c#\\xc1\\x1c5\\xe3\\xefs)\\xadr\\xf7\\x0c=\\x05\\x8f\\xe5\\xa3\\xcdW\\xcb'r\\xe1\\x87\\x9b\\xe3\\x0c,\\xcd\\xcb\"\n",
      "Length: 64\n",
      "Embedding Efficiency: 4.125\n",
      "==============\n",
      "208What time you coming down later? \n",
      "customizedTechniques-2\n",
      "Yjcv vkog aqw eqokpi fqyp ncvgt? \n",
      "Length: 33\n",
      "customizedTechniques-3\n",
      "w>",
      ">>>>",
      "]>\n",
      "Length: 33\n",
      "customizedTechniques-5\n",
      "©º³ÆpÆ»¿·p±ÁÇpµÁ¿»À¹p¶ÁÉÀp¾³Æ·Äp\n",
      "Length: 33\n",
      "OpenSourceTechniques-6\n",
      "b\"\\x9d\\x86@\\\\\\xd7\\xcej\\x18\\xe5(F\\xe8W'C{1A\\xe7>\\x90\\xfe\\x17\\x93\\xeb\\xea\\xf9\\r\\x08\\xd5\\x05\\xf5\\x17\\x80d\\xe30\\x9c\\xc9\\x15o\\xa8\\x1f\\xd6:!\\xb8\\x06\\xf6Y=\\xc4\\x0e\\x80a\\x07\\\\\\x03\\xcd\\x95U\\xc8\\xd5\\xdb\"\n",
      "Length: 64\n",
      "Embedding Efficiency: 4.125\n",
      "==============\n",
      "209Sorry battery died, yeah I'm here\n",
      "customizedTechniques-2\n",
      "Uqtta dcvvgta fkgf, agcj K'o jgtg\n",
      "Length: 33\n",
      "customizedTechniques-3\n",
      "s>",
      ">",
      "J>",
      ">iE>",
      "",
      "\n",
      "Length: 33\n",
      "customizedTechniques-5\n",
      "¥ÁÄÄ±p´³ÆÆ·Ä±p¶»·¶|p±·³ºpw¿pº·Ä·\n",
      "Length: 33\n",
      "OpenSourceTechniques-6\n",
      "b'[\\xac\\r\\xea\\x9d:\\xe0\\xa7!e\\xd7lFrnb&$\\x19\\xdb\\xeb\\xda\\xc6tS\\xfb-Z|\\x8c\\x9d\\xddC\\xbc\\x96`\\xe14\\x9d\\xb9\\xce\\x92\\x80J\\xfe\\x8e\\x12\\xf5\\xb62\\xc5\\x99U\\xce\\x83%*\\xe8\\x1e\\xf1\\r\\xc0\\xe4\\xc9'\n",
      "Length: 64\n",
      "Embedding Efficiency: 4.125\n",
      "==============\n",
      "210Gudnite....tc...practice going on\n",
      "customizedTechniques-2\n",
      "Iwfpkvg....ve...rtcevkeg iqkpi qp\n",
      "Length: 33\n",
      "customizedTechniques-3\n",
      "g",
      "LLLLLLL",
      ">>\n",
      "Length: 33\n",
      "customizedTechniques-5\n",
      "Ç¶À»Æ·~~~~Æµ~~~ÂÄ³µÆ»µ·p¹Á»À¹pÁÀ\n",
      "Length: 33\n",
      "OpenSourceTechniques-6\n",
      "b'\\xde\\xf4\\x04\\x05\\xb4\\xb4\\xb3*I\\x06\\xf0\\x96\\x8a@!^\\xb9\\xbc\\x0e\\x0e$\\xc4\\x03k\\xd1\\x8ecR\\x9e\\xbd\\xe4h\\x03\\xear;\\x87\\x95\\xce8O\\xaa-%\\xb0\\x90|\\x96\\x85BJ\\xbe\\xf4\\x9c\\xc9\\x83\\xa8@\\x7f\\xdfA\\x9e\\xf9\\xc9'\n",
      "Length: 64\n",
      "Embedding Efficiency: 4.125\n",
      "==============\n",
      "211Gudnite....tc...practice going on\n",
      "customizedTechniques-2\n",
      "Iwfpkvg....ve...rtcevkeg iqkpi qp\n",
      "Length: 33\n",
      "customizedTechniques-3\n",
      "g",
      "LLLLLLL",
      ">>\n",
      "Length: 33\n",
      "customizedTechniques-5\n",
      "Ç¶À»Æ·~~~~Æµ~~~ÂÄ³µÆ»µ·p¹Á»À¹pÁÀ\n",
      "Length: 33\n",
      "OpenSourceTechniques-6\n",
      "b';0\\xa6.\\xbb@OOPXy\\xcf\\xf5]\\xf98s\\x19\\xb7\\xd1\\xea>\\x9cT\\xc6\\xcf\\x1a\\x12\\xd9)\\x1b06(\\xf7\\x90h|0\\xa6\\xaeX\\xe2\\x00\\x0f]/\\x99F\\xbe\\t\\x17\\xea\\xea\\x0b\\xba\\x9fz\\xfd\\xa9\\xc8=\\xb0\\x9e'\n",
      "Length: 64\n",
      "Embedding Efficiency: 4.125\n",
      "==============\n",
      "212Nope i waiting in sch 4 daddy... \n",
      "customizedTechniques-2\n",
      "Pqrg k yckvkpi kp uej 4 fcffa... \n",
      "Length: 33\n",
      "customizedTechniques-3\n",
      "n",
      ">>>>>R>LLL>\n",
      "Length: 33\n",
      "customizedTechniques-5\n",
      " ÁÂ·p»pÉ³»Æ»À¹p»ÀpÅµºpp¶³¶¶±~~~p\n",
      "Length: 33\n",
      "OpenSourceTechniques-6\n",
      "b' \\xa66a1\\xecB\\x06\\xbco?\\x8a\\xda\\xb5\\xe3\\xe2\\xa1\\xe7\\xf2\\x8b\\xfc>^\\xc8\\xc6Q\\xbcu\\xac\\x05\\xc5R\\xf1D\\xd6L\\xa8\\x1d\\x83\\xe5\\xadp\\x9a\\xf6\\x12\\xf7\\xfd\\x875\\x05\\xc9x\\xce\\xd4\\xa8\\x87\\x1dBRm\\xb6Of\\x96'\n",
      "Length: 64\n",
      "Embedding Efficiency: 4.125\n",
      "==============\n",
      "213U should have made an appointment\n",
      "customizedTechniques-2\n",
      "W ujqwnf jcxg ocfg cp crrqkpvogpv\n",
      "Length: 33\n",
      "customizedTechniques-3\n",
      "u>>",
      ">",
      ">>",
      "\n",
      "Length: 33\n",
      "customizedTechniques-5\n",
      "§pÅºÁÇ¾¶pº³È·p¿³¶·p³Àp³ÂÂÁ»ÀÆ¿·ÀÆ\n",
      "Length: 33\n",
      "OpenSourceTechniques-6\n",
      "b'\\xd3\\xaf\\xceH\\xeb\\xa1\\x87\\xd8]\\xc0L\\x8e\\x0b\\xe4\\xe6\\xa3K\\xdeT\\xc7\\xf4\\xaf\\x18\\x11\\xdb\\xb0\\xdeV\\x18\\x88\\xfa\\x88\\xf0\\xa7\\x12\\xdc)\\x9b.\\xfaUK\\x8cS\\xbd\\\\\\xed\\xfe\\xdc\"F\\xc5K}e\\xcb\\xfc\\x10&L\\xc7\\xed\\xa3:'\n",
      "Length: 64\n",
      "Embedding Efficiency: 4.125\n",
      "==============\n",
      "214Boooo you always work. Just quit.\n",
      "customizedTechniques-2\n",
      "Dqqqq aqw cnycau yqtm. Lwuv swkv.\n",
      "Length: 33\n",
      "customizedTechniques-3\n",
      "b>>>L>j>L\n",
      "Length: 33\n",
      "customizedTechniques-5\n",
      "ÁÁÁÁp±ÁÇp³¾É³±ÅpÉÁÄ½~pÇÅÆpÃÇ»Æ~\n",
      "Length: 33\n",
      "OpenSourceTechniques-6\n",
      "b'FB\\xc0Q\\x01-\\xbe\\xd4p\\x1c\\x01\\xbc\\x05\\xec\\x92\\xc0\\xb1\\xbb\\xed\\xddI=\\x7f\\x93\\xc2Y\\xa5\\x88\\xb9\\xcb\\xb9\\xfc|\\x97\\x0f\\x0f\\x08\\xab\\xe6}\\x11\\xc8\\xc0;\\xb9h\\xbf\\xee\\xbf\\xdfI\\x9f\\x0b\\x87\\xf2\\xf7\\x99ce\\xbe\\x12\\xe9H\\xb9'\n",
      "Length: 64\n",
      "Embedding Efficiency: 4.125\n",
      "==============\n",
      "215I can't, I don't have her number!\n",
      "customizedTechniques-2\n",
      "K ecp'v, K fqp'v jcxg jgt pwodgt!\n",
      "Length: 33\n",
      "customizedTechniques-3\n",
      "i>EJ>i>E>",
      ">",
      ">",
      "?\n",
      "Length: 33\n",
      "customizedTechniques-5\n",
      "pµ³ÀwÆ|pp¶ÁÀwÆpº³È·pº·ÄpÀÇ¿´·Äq\n",
      "Length: 33\n",
      "OpenSourceTechniques-6\n",
      "b'\\xc5D\\xcc\\x9f\\x11n\\x1aA\\xbfZK\\x06\\xa3\\xb4X \\xcd\\xac\\x02\\xf4<\\x02\\xea\\xd9\\xce\\xe1\\xd83\\xfc5\\xf5\\xbfeb9}\\x8dN\\x0b\\xa6\\x97\\xce\\xe5\\xd7\\xd8\\x8d7\\xd8\\xaf\\xf2\\t\\xb5\\xb3\\xa7\\xa6e\\xb5\\xbb/S\\xe2\\xbdL\\xf0'\n",
      "Length: 64\n",
      "Embedding Efficiency: 4.125\n",
      "==============\n",
      "216Sorry, I'll call later in meeting.\n",
      "customizedTechniques-2\n",
      "Uqtta, K'nn ecnn ncvgt kp oggvkpi.\n",
      "Length: 34\n",
      "customizedTechniques-3\n",
      "sJ>iE>>",
      ">>",
      "",
      "L\n",
      "Length: 34\n",
      "customizedTechniques-5\n",
      "¥ÁÄÄ±|pw¾¾pµ³¾¾p¾³Æ·Äp»Àp¿··Æ»À¹~\n",
      "Length: 34\n",
      "OpenSourceTechniques-6\n",
      "b'<\\xed,\\x88\\xe8\\xd2S\\xdd=\\x10<j\\xdb,\\x88P\\x07\\xb3BT\\xb2:\\xf7\\x92zS\\xd62\\x00\\xa3\\xbd\\x10\\xb9\\x8a\\x01\\\\\\xa4\\xe0xm\\x13\\xb3_=\\xbd\\x8d\\x94X>%\\xbeE\\xbb,\\xd0\\x9b#\\xc8\\x8b\\x92\\x18\\x8bz\\xfa'\n",
      "Length: 64\n",
      "Embedding Efficiency: 4.25\n",
      "==============\n",
      "217I plane to give on this month end.\n",
      "customizedTechniques-2\n",
      "K rncpg vq ikxg qp vjku oqpvj gpf.\n",
      "Length: 34\n",
      "customizedTechniques-3\n",
      "i>",
      ">>",
      ">>>>",
      "L\n",
      "Length: 34\n",
      "customizedTechniques-5\n",
      "pÂ¾³À·pÆÁp¹»È·pÁÀpÆº»Åp¿ÁÀÆºp·À¶~\n",
      "Length: 34\n",
      "OpenSourceTechniques-6\n",
      "b'\\xa5-Xw\\xbbso\\x9f\\x81\\xf0\\xbc\\xeb\\x89Gy\\x1a\\xd5\\x93\\x95\\x17\\xaf\\xd7\\xd0G\\xf2\\x99\\xbd0\\xfa\\xba\\xbe\\xee\\t$4\\x85\\xac\\xea?\\x9c\\x82\\x85\\x91\\x0f\\x18SOm\\x99\\xe6C.AH.+=4\\xdcfR\\xe7\\x85\\x93'\n",
      "Length: 64\n",
      "Embedding Efficiency: 4.25\n",
      "==============\n",
      "218He is there. You call and meet him\n",
      "customizedTechniques-2\n",
      "Jg ku vjgtg. Aqw ecnn cpf oggv jko\n",
      "Length: 34\n",
      "customizedTechniques-3\n",
      "h",
      ">>",
      "",
      "L>_>>>",
      "",
      ">\n",
      "Length: 34\n",
      "customizedTechniques-5\n",
      "·p»ÅpÆº·Ä·~pÁÇpµ³¾¾p³À¶p¿··Æpº»¿\n",
      "Length: 34\n",
      "OpenSourceTechniques-6\n",
      "b'\\x12\\xb3/\\x9a\\x0f\\x0eRJ\\x91K\\xff\\xecP\\x1e\\xbb\\xdc\\x92\\xdb\\xf0\\xc1((\\xf5\\xd4v\\xe9\\xa5-\\xb8%\\xcaK}W\\x07\\xe0c\\xcau\\xb6\\x1d\\x08\\x12J\\x88\\xc67\\xfb\\x1bAD\\xbcI\\x15!\\xc1\\xe58m\\x81\\x07A\\x9be'\n",
      "Length: 64\n",
      "Embedding Efficiency: 4.25\n",
      "==============\n",
      "219Haha awesome, be there in a minute\n",
      "customizedTechniques-2\n",
      "Jcjc cyguqog, dg vjgtg kp c okpwvg\n",
      "Length: 34\n",
      "customizedTechniques-3\n",
      "h>",
      "",
      "J>",
      ">",
      "",
      ">>>",
      "\n",
      "Length: 34\n",
      "customizedTechniques-5\n",
      "³º³p³É·ÅÁ¿·|p´·pÆº·Ä·p»Àp³p¿»ÀÇÆ·\n",
      "Length: 34\n",
      "OpenSourceTechniques-6\n",
      "b'\\xb8\\x8f\\x08\\xa7\\xebUY\\x17\\x8b=G\\x99\\xf8\\xbf \\xed\\xa7\\x12n\\x9a\\x81\\x9f\\xdf\\xb3\\x9a\\x16\\xda\\xf2I\\xac\\r\\x1fr<\\xbbo^\\xc55\\xd8\\xdb\\x19\\xf0\\xfb\\xdd\\xab\\xbf!\\xb2\\xff9!}\\xc4\\x9a\\xe9\\xafk@:\\xa4\\xe8\\xa4X'\n",
      "Length: 64\n",
      "Embedding Efficiency: 4.25\n",
      "==============\n",
      "220Dear good morning now only i am up\n",
      "customizedTechniques-2\n",
      "Fgct iqqf oqtpkpi pqy qpna k co wr\n",
      "Length: 34\n",
      "customizedTechniques-3\n",
      "d",
      ">>>>>>>\n",
      "Length: 34\n",
      "customizedTechniques-5\n",
      "·³Äp¹ÁÁ¶p¿ÁÄÀ»À¹pÀÁÉpÁÀ¾±p»p³¿pÇÂ\n",
      "Length: 34\n",
      "OpenSourceTechniques-6\n",
      "b'Hlv\\xad83\\x95s\\xf9|\\x13\\x8e \\x00N\\x7f;,x j\\xba\\x95\\xa6\\xbf<\\xe8\\x10B\\x0f\\t)\\xb6\\x030\\xc7\\xe1\\x9eDbCcm\\xa9\\xa5\\xd9\\xe2P@\\x80\\xca\\xd19p_O\\x89\\xbf\\xb8\\x06\\x1f;&:'\n",
      "Length: 64\n",
      "Embedding Efficiency: 4.25\n",
      "==============\n",
      "221Am not interested to do like that.\n",
      "customizedTechniques-2\n",
      "Co pqv kpvgtguvgf vq fq nkmg vjcv.\n",
      "Length: 34\n",
      "customizedTechniques-3\n",
      "a>>",
      "",
      "",
      ">>>",
      ">L\n",
      "Length: 34\n",
      "customizedTechniques-5\n",
      "¿pÀÁÆp»ÀÆ·Ä·ÅÆ·¶pÆÁp¶Áp¾»½·pÆº³Æ~\n",
      "Length: 34\n",
      "OpenSourceTechniques-6\n",
      "b\"\\x0c,(N\\x96P\\x18%\\xb2\\x11\\x1f\\x98\\x850\\xc3\\xad\\xd5.\\xce'\\x00\\xda\\x85!\\x95|\\x8fD\\xd5\\x06\\x88\\x18F\\xb1\\xc7\\xdcqx\\x8a\\xaddX\\x10\\x06\\x97\\x8bs\\xc7\\x01\\xcf\\x81A\\x19\\x11\\x81\\xff\\xdf\\x9d\\xca\\x9c\\xde\\x98!\\xaa\"\n",
      "Length: 64\n",
      "Embedding Efficiency: 4.25\n",
      "==============\n",
      "222I will spoil you in bed as well :)\n",
      "customizedTechniques-2\n",
      "K yknn urqkn aqw kp dgf cu ygnn :)\n",
      "Length: 34\n",
      "customizedTechniques-3\n",
      "i>>>>>",
      ">>",
      ">XG\n",
      "Length: 34\n",
      "customizedTechniques-5\n",
      "pÉ»¾¾pÅÂÁ»¾p±ÁÇp»Àp´·¶p³ÅpÉ·¾¾py\n",
      "Length: 34\n",
      "OpenSourceTechniques-6\n",
      "b\"\\xfe\\xbf~\\x8c\\x19\\xe5\\xb15\\xf2Q\\x1dk\\xbc\\xf5\\xf1\\r\\x9f\\x80\\x93\\xa2\\xa4VC\\x02h\\x85^z\\xeb\\xe1E\\xb7=?\\xa9i'5\\xd0\\xb7\\xac\\x91}\\xf7S\\x88!>\\xc6\\xba;\\x12$Ws\\xe2h\\x14I\\xce\\xb1\\xb5\\xc5\\x10\"\n",
      "Length: 64\n",
      "Embedding Efficiency: 4.25\n",
      "==============\n",
      "223Tension ah?what machi?any problem?\n",
      "customizedTechniques-2\n",
      "Vgpukqp cj?yjcv ocejk?cpa rtqdngo?\n",
      "Length: 34\n",
      "customizedTechniques-3\n",
      "t",
      ">]>]>",
      "]\n",
      "Length: 34\n",
      "customizedTechniques-5\n",
      "¦·ÀÅ»ÁÀp³ºÉº³Æp¿³µº»³À±pÂÄÁ´¾·¿\n",
      "Length: 34\n",
      "OpenSourceTechniques-6\n",
      "b'\"\\xa5V\\xf3\\x1a\\x7f\\xb3\\xc2`\\x05D3\\xceO\\xb6\\xbc\\xd1\\t?%3}\\x15a<\\x9b\\xed\\xa9@@jH\\xe0n\\x98y\\x96q\\xc5\\x1f.\\x0c3K\\xb2\\x17\\xbc\\xcc\\x00\\xacb\\xd2>\\xd6:\\x8f\\xaf\\x0fb\\x8b\\x84Lr#\\xa4>\\xd0\\xbaG\\xc00VH\\x917\\xb5\\x9d?\\xbb3'\n",
      "Length: 80\n",
      "Embedding Efficiency: 3.4\n",
      "==============\n",
      "224What class of  &lt;#&gt;  reunion?\n",
      "customizedTechniques-2\n",
      "Yjcv encuu qh  &nv;#&iv;  tgwpkqp?\n",
      "Length: 34\n",
      "customizedTechniques-3\n",
      "w>>>>DYADY>>",
      "]\n",
      "Length: 34\n",
      "customizedTechniques-5\n",
      "©º³Æpµ¾³ÅÅpÁ¸ppv¾Æsv¹ÆppÄ·ÇÀ»ÁÀ\n",
      "Length: 34\n",
      "OpenSourceTechniques-6\n",
      "b'P\\x92\\x9a\\xf5\\x8d\\t\\xb72\\x82\\x07\\x93\\x07\\x12\\xba.#\\xa2\\xbc\\x8f\\x15[WW\\xca\\x1c\\xef\\x95\\xef@\\xd3$\\xf0\\x0b\\xba}\\x8a\\xeb\\xec\\x07\\x91/C\\x87\\x11\\xe7EP\\xcd\\xf4\\xd1\\x92^\\xc6\\xfb\\x15\\x11txp\\xaa\\x9a\\xac\\xe1\\x9e'\n",
      "Length: 64\n",
      "Embedding Efficiency: 4.25\n",
      "==============\n",
      "225I'm in a meeting, call me later at\n",
      "customizedTechniques-2\n",
      "K'o kp c oggvkpi, ecnn og ncvgt cv\n",
      "Length: 34\n",
      "customizedTechniques-3\n",
      "iE>>>",
      "",
      "J>>",
      ">",
      ">\n",
      "Length: 34\n",
      "customizedTechniques-5\n",
      "w¿p»Àp³p¿··Æ»À¹|pµ³¾¾p¿·p¾³Æ·Äp³Æ\n",
      "Length: 34\n",
      "OpenSourceTechniques-6\n",
      "b'\\xa4\\xc1m\\xbb\\x19\\xe6Q\\x1b\\x08\\x07y\\x80:\\x10\\xb5G\\x15\\xec\\x9a\\xa2\\x8a\\xe7\\xdf\\x90\\xab\\xab=\\x88\\x8bO#\\x9e\\x1bq\\x88lE\\x12\\xcbp\\x83\\xa5\\xcb\\xbc\\xcd\\x02\\xf2%\\xd6>\\x85I\\xf9\\xbd\\xf8F\\xe3\\x02z\\r|K\\x82{'\n",
      "Length: 64\n",
      "Embedding Efficiency: 4.25\n",
      "==============\n",
      "226I dont knw pa, i just drink milk..\n",
      "customizedTechniques-2\n",
      "K fqpv mpy rc, k lwuv ftkpm oknm..\n",
      "Length: 34\n",
      "customizedTechniques-3\n",
      "i>>>J>>>>LL\n",
      "Length: 34\n",
      "customizedTechniques-5\n",
      "p¶ÁÀÆp½ÀÉpÂ³|p»p¼ÇÅÆp¶Ä»À½p¿»¾½~~\n",
      "Length: 34\n",
      "OpenSourceTechniques-6\n",
      "b'E`Y^\\xf3\\xb9\\xe5\\x0e\\xeeW\\x87\\x9eZN\\x0e\\x8c\\x07-\\x85\\x93\\xf2\\xa1\\xcc\\x15\\x00\\xef\\xbe\\xa1\\xdboz\\x92\\xa0\\xf5\\xc9\\x11IX\\xc7\\x13\\xfcZ>+\\x18h(|\\xfc?nKm5\\xba\\x00\\xa8\\xafMw\\xbc\\x8b(:'\n",
      "Length: 64\n",
      "Embedding Efficiency: 4.25\n",
      "==============\n",
      "227Ok. There may be a free gym about.\n",
      "customizedTechniques-2\n",
      "Qm. Vjgtg oca dg c htgg iao cdqwv.\n",
      "Length: 34\n",
      "customizedTechniques-3\n",
      "oL>t",
      "",
      ">>",
      ">>",
      "",
      ">>L\n",
      "Length: 34\n",
      "customizedTechniques-5\n",
      "¡½~p¦º·Ä·p¿³±p´·p³p¸Ä··p¹±¿p³´ÁÇÆ~\n",
      "Length: 34\n",
      "OpenSourceTechniques-6\n",
      "b'<\\x1e\\x01\\xa8\\x12\\xdb8\\x9fW\\xc4<\\xcao\\x9c@\\x8d\\x85\\xca\\xaa\\x0c\"Jo\\xb2G\\xbej\\x1ax\\x8a\\xf5JDA)\\xa1\\xdc,y8\\x00`=R?%Q\\xd3\\xf9<\\xbc\\x88H\\x96C*\\xf9?\\xf8Y\\xa2\\xe2$\\xe1'\n",
      "Length: 64\n",
      "Embedding Efficiency: 4.25\n",
      "==============\n",
      "228So do you have samus shoulders yet\n",
      "customizedTechniques-2\n",
      "Uq fq aqw jcxg ucowu ujqwnfgtu agv\n",
      "Length: 34\n",
      "customizedTechniques-3\n",
      "s>>>",
      ">>",
      ">",
      "\n",
      "Length: 34\n",
      "customizedTechniques-5\n",
      "¥Áp¶Áp±ÁÇpº³È·pÅ³¿ÇÅpÅºÁÇ¾¶·ÄÅp±·Æ\n",
      "Length: 34\n",
      "OpenSourceTechniques-6\n",
      "b'\\x9c\\xc0\\xa0^\\x9a\\x87\\x1f\\xc9_\\xb5\\xe8G3wZ\\xda\\xa1;\\x00\\xd7tJ\\x9eU\\xb3\\x0c_\\xabP\\x90\\x9b \\xf2\\x1dX\\x89\\xbf \\xfa\\xf7p\\xde\\x84G\\xae\\xa8\\xd3\\xd8\\xdd\\xdd\\xbd\\xd2:\\xf58Q-R\\xd1\\xb7O\\xdb\\x9dY'\n",
      "Length: 64\n",
      "Embedding Efficiency: 4.25\n",
      "==============\n",
      "229U sure u can't take any sick time?\n",
      "customizedTechniques-2\n",
      "W uwtg w ecp'v vcmg cpa ukem vkog?\n",
      "Length: 34\n",
      "customizedTechniques-3\n",
      "u>",
      ">>E>",
      ">>>",
      "]\n",
      "Length: 34\n",
      "customizedTechniques-5\n",
      "§pÅÇÄ·pÇpµ³ÀwÆpÆ³½·p³À±pÅ»µ½pÆ»¿·\n",
      "Length: 34\n",
      "OpenSourceTechniques-6\n",
      "b'\\x82\\x10\\x06u05\\x82\\xb3\\xffR\\xe6~\\xd6\\xb1\\xdb\\xc0\\xb6\\xbc\\xdb\\x88\\xa0\\x8d\\x02\\x11y< \\xf2u\\xe3\\xd4\\x0b\\x92\\xe8\\x7f\\x04W\\x97k\\xad\\x1b4\\xf4eZG\\x91\\xd8\\xa7\\x8e\\xd7\\xf7\\x14\\x12\\xcb\\x8f\\xf5\\x89#\\xcc\\xa6\\xcc\\x8e\\x00'\n",
      "Length: 64\n",
      "Embedding Efficiency: 4.25\n",
      "==============\n",
      "230I HAVE A DATE ON SUNDAY WITH WILL!!\n",
      "customizedTechniques-2\n",
      "K JCXG C FCVG QP UWPFCA YKVJ YKNN!!\n",
      "Length: 35\n",
      "customizedTechniques-3\n",
      "i>have>a>date>on>sunda_>with>will??\n",
      "Length: 35\n",
      "customizedTechniques-5\n",
      "p¨pp¦p¡ p¥§ p©¦p©qq\n",
      "Length: 35\n",
      "OpenSourceTechniques-6\n",
      "b'\\xdeZ\\xa0\\x81\\xdb\\xdb6\\r%E|\\xf3U\\xe8*V]\\xa9\\t\\xe6\\x1c\\x04\\xea\\x04z\\x13\\\\\\xba\\xf6%\\xd7\\x1b\\x85\\xddY\\xf7^\\x03I\\xe3 L\\xf1\\xed\\xba\\xdd!9\\xfa\\xbd\\xf5\\xd4\\xc4i\\xd5\\x98\\xd2\\x06*\\xafT\\xd2`}'\n",
      "Length: 64\n",
      "Embedding Efficiency: 4.375\n",
      "==============\n",
      "231Same. Wana plan a trip sometme then\n",
      "customizedTechniques-2\n",
      "Ucog. Ycpc rncp c vtkr uqogvog vjgp\n",
      "Length: 35\n",
      "customizedTechniques-3\n",
      "s",
      "L>w>>>>",
      "",
      ">",
      "\n",
      "Length: 35\n",
      "customizedTechniques-5\n",
      "¥³¿·~p©³À³pÂ¾³Àp³pÆÄ»ÂpÅÁ¿·Æ¿·pÆº·À\n",
      "Length: 35\n",
      "OpenSourceTechniques-6\n",
      "b'\\xa9\\x8a\\x9a \\xc1\\xc3\\x11\\xde\"\\xde\"\\xfd\\x90t\\xf4\\xc6\\x9fJ*\\xfc\\x1e:\\x06\\x96\\x88\\x8a\\xcc\\xa9\\x13\"\\x9c\\xac\\xb5\\x97\\xdd\\xeb\\xc9S\\x86q\\xab\\x04\\'s\\n\\x98q\\x8e\\xe5_\\xb9\\xce>\\xcf\\xc1P\\xde`\\x84<\\xfeu\\x0b1'\n",
      "Length: 64\n",
      "Embedding Efficiency: 4.375\n",
      "==============\n",
      "232Whatsup there. Dont u want to sleep\n",
      "customizedTechniques-2\n",
      "Yjcvuwr vjgtg. Fqpv w ycpv vq unggr\n",
      "Length: 35\n",
      "customizedTechniques-3\n",
      "w>",
      "",
      "L>d>>>>",
      "",
      "\n",
      "Length: 35\n",
      "customizedTechniques-5\n",
      "©º³ÆÅÇÂpÆº·Ä·~pÁÀÆpÇpÉ³ÀÆpÆÁpÅ¾··Â\n",
      "Length: 35\n",
      "OpenSourceTechniques-6\n",
      "b\"\\x8b0>\\xc2\\x16\\xf0\\xac]\\x99\\x9f\\xda\\x8b\\xf2n~z\\x1d8\\x92P\\xf9\\xbd\\xa1\\xa0dr\\x95\\xe0\\x7f\\x88W'\\x0f\\xf3$\\xef\\xc6$F{z\\xeb\\x06D}}\\xac\\xbbj\\xde\\x9d\\xbb\\x81\\xb5>AN\\xae\\xc6\\xc8\\xdd\\xbe\\x87A\"\n",
      "Length: 64\n",
      "Embedding Efficiency: 4.375\n",
      "==============\n",
      "233Please dont say like that. Hi hi hi\n",
      "customizedTechniques-2\n",
      "Rngcug fqpv uca nkmg vjcv. Jk jk jk\n",
      "Length: 35\n",
      "customizedTechniques-3\n",
      "p",
      "",
      ">>>",
      ">L>h>>\n",
      "Length: 35\n",
      "customizedTechniques-5\n",
      "¢¾·³Å·p¶ÁÀÆpÅ³±p¾»½·pÆº³Æ~p»pº»pº»\n",
      "Length: 35\n",
      "OpenSourceTechniques-6\n",
      "b'\\xcc\\x8d\\x11=Q\\xdfTY\\xcb6\\x96a\\x93\\xde=\\xb6v\\x00\\xf9\\x92\\xd5\\xbbf\\x17\\xe0\\xbf\\xa9wi{<\\xc4\\xca\\xa4\\xc8%\\xf4i?\\x81\\x9d!T\\xd3\\x0b\\xb5\\xc1\\x0f\\x1b\\xe7\\xbd?naD,\\xbb\\xb0z\\xbf#@\\xc3\\n'\n",
      "Length: 64\n",
      "Embedding Efficiency: 4.375\n",
      "==============\n",
      "234No prob. I will send to your email.\n",
      "customizedTechniques-2\n",
      "Pq rtqd. K yknn ugpf vq aqwt gockn.\n",
      "Length: 35\n",
      "customizedTechniques-3\n",
      "n>L>i>>",
      ">>>",
      "L\n",
      "Length: 35\n",
      "customizedTechniques-5\n",
      " ÁpÂÄÁ´~ppÉ»¾¾pÅ·À¶pÆÁp±ÁÇÄp·¿³»¾~\n",
      "Length: 35\n",
      "OpenSourceTechniques-6\n",
      "b'\\xcbb\\x89\\xeeU\\xbcn\\xfe\\xba\\xe0(\\xbe\\x84\\x17`\"\\xcaE\\xfbC\\xb3\\xf0\\xd3e\\xa7\\x920\\xa2\\x89\\t\\xd5\\\\|G\\x8fGCP\\xdc\\xf0`\\xd1\\xfc\\xdexg\\xd5\\xf9u\\xfe\\xa3Y\\x8c\\r\\xc6!\\x03p\\xef\\xfc\\t1mz'\n",
      "Length: 64\n",
      "Embedding Efficiency: 4.375\n",
      "==============\n",
      "235In work now. Going have in few min.\n",
      "customizedTechniques-2\n",
      "Kp yqtm pqy. Iqkpi jcxg kp hgy okp.\n",
      "Length: 35\n",
      "customizedTechniques-3\n",
      "i>>L>g>",
      ">>",
      ">L\n",
      "Length: 35\n",
      "customizedTechniques-5\n",
      "ÀpÉÁÄ½pÀÁÉ~pÁ»À¹pº³È·p»Àp¸·Ép¿»À~\n",
      "Length: 35\n",
      "OpenSourceTechniques-6\n",
      "b'%\\xfc5\\x89\\xf7=\\x80\\x81tt\\xd4\\xf8\\xec\\xcf\\xa0m:e\\xe4\\xeee\\xde\\x0f\\xf4{6<]\\xe7\\xc1Y\\xd3\\x83a\\xc1\\x7f\\x9b\\xbb\\x90\\xe6]\\x82w\\xd6^Y\\xcc+5f\\xeeZ\\x8c\\xf5i\\xfc\\x19I\\xa7y\\x96\\xbah\"'\n",
      "Length: 64\n",
      "Embedding Efficiency: 4.375\n",
      "==============\n",
      "236K:)i will give my kvb acc details:)\n",
      "customizedTechniques-2\n",
      "M:)k yknn ikxg oa mxd cee fgvcknu:)\n",
      "Length: 35\n",
      "customizedTechniques-3\n",
      "kXG>>",
      ">>>>",
      "XG\n",
      "Length: 35\n",
      "customizedTechniques-5\n",
      "y»pÉ»¾¾p¹»È·p¿±p½È´p³µµp¶·Æ³»¾Åy\n",
      "Length: 35\n",
      "OpenSourceTechniques-6\n",
      "b'\\x89\\x89\\xf9\\xb5t\\xa7\\x94R\\xa1tg\\x9a\\x9d\\xe7~\\xaf\\x9b:\\x17\\xcdjq\\x81\\x18\\x903\\x1d\\x9f\\x96y$\\x80,\\x19\\xee\\x9e\\x8aT\\x1eY\\xc7\\xbb2\\xe0\\x107\\xcb\\xe9dS\\x82\\xbeE\\x17E\\xffH\\xe1\\x81\\x9deg\\xabY'\n",
      "Length: 64\n",
      "Embedding Efficiency: 4.375\n",
      "==============\n",
      "237You will be in the place of that man\n",
      "customizedTechniques-2\n",
      "Aqw yknn dg kp vjg rnceg qh vjcv ocp\n",
      "Length: 36\n",
      "customizedTechniques-3\n",
      "_>>",
      ">>",
      ">",
      ">>>\n",
      "Length: 36\n",
      "customizedTechniques-5\n",
      "ÁÇpÉ»¾¾p´·p»ÀpÆº·pÂ¾³µ·pÁ¸pÆº³Æp¿³À\n",
      "Length: 36\n",
      "OpenSourceTechniques-6\n",
      "b'Y\\xd7\\xa0\\x18\\xe9T0Jk\\t\\xf6w\\xc7\\x81<\\x90e\\x98|(\\x13}\\r9\\x04dM\\xae\\xad\\xb4V\\xaeW\\xe0\\x19\\xf9J!\\x91\\x0c\\x90K\\x86RN\\x11\\x1b\\xda\\x16\\xbc/\\xc3\\xdb\\x97\\x86o\\xb0ya\\xe433\\x06W\\x84\\xd0\\x04\\xa3\\x07\\x95r\\x98\\xf5%0O\\xb6\\x11\\xdb\\x18'\n",
      "Length: 80\n",
      "Embedding Efficiency: 3.6\n",
      "==============\n",
      "238Where are you lover ? I need you ...\n",
      "customizedTechniques-2\n",
      "Yjgtg ctg aqw nqxgt ? K pggf aqw ...\n",
      "Length: 36\n",
      "customizedTechniques-3\n",
      "w",
      "",
      ">",
      ">>",
      ">]>i>",
      "",
      ">>LLL\n",
      "Length: 36\n",
      "customizedTechniques-5\n",
      "©º·Ä·p³Ä·p±ÁÇp¾ÁÈ·ÄpppÀ··¶p±ÁÇp~~~\n",
      "Length: 36\n",
      "OpenSourceTechniques-6\n",
      "b'\\x87\\x9eyin&y\\n\\x82\\x17\\xaf2\\xaf@\\xcd\\x94\\xf3`|\\xb4\\xcdzU\\xc6\\xc6\\xeb/\\xc5\\x814\\xf9O\\x9eo\\x1f\\x9d\\x94\\x96a\\x0b\\x1f\\xcc\\x88\\x19\\x14\\x80>\\x18=\\x15\\xbe\\x01\\xa4\\x11z\\xca\\x87\\xd7$\\xa2\\x8a\\x9d\\xe2='\n",
      "Length: 64\n",
      "Embedding Efficiency: 4.5\n",
      "==============\n",
      "239Keep my payasam there if rinu brings\n",
      "customizedTechniques-2\n",
      "Mggr oa rcacuco vjgtg kh tkpw dtkpiu\n",
      "Length: 36\n",
      "customizedTechniques-3\n",
      "k",
      "",
      ">>>",
      "",
      ">>>\n",
      "Length: 36\n",
      "customizedTechniques-5\n",
      "··Âp¿±pÂ³±³Å³¿pÆº·Ä·p»¸pÄ»ÀÇp´Ä»À¹Å\n",
      "Length: 36\n",
      "OpenSourceTechniques-6\n"
     ]
    },
    {
     "name": "stdout",
     "output_type": "stream",
     "text": [
      "b\"\\xb3\\xb5\\xaa\\xc3\\x96\\xb4\\x82!I\\xf1BG\\x140\\xd5\\xcc\\xc6\\xfd\\x85o\\xa4\\xce\\xd3'^\\xd7\\x9d'\\x8f\\xa1y5\\x81\\xd8\\xc9\\xae\\xe1a\\xdb\\x0f\\x8a\\x1b\\xc0|\\xf8P\\xd2\\xeeR\\x01\\xa4\\tJ\\xee\\xad\\xe5\\xbb\\x1bf\\xb8\\x7f\\x84}\\x01t\\x15G]\\xe6&1%\\xc0\\x02R\\xac\\x0f\\xac?\\xfd\"\n",
      "Length: 80\n",
      "Embedding Efficiency: 3.6\n",
      "==============\n",
      "240The hair cream has not been shipped.\n",
      "customizedTechniques-2\n",
      "Vjg jckt etgco jcu pqv dggp ujkrrgf.\n",
      "Length: 36\n",
      "customizedTechniques-3\n",
      "t",
      ">>",
      ">>>",
      "",
      ">",
      "L\n",
      "Length: 36\n",
      "customizedTechniques-5\n",
      "¦º·pº³»ÄpµÄ·³¿pº³ÅpÀÁÆp´··ÀpÅº»ÂÂ·¶~\n",
      "Length: 36\n",
      "OpenSourceTechniques-6\n",
      "b'\\xe4\\xed\\x9aZn\\xb2\\xfd\\x81\\x94\\x11\\x06\\xe8\\xc4\\x85\\x90\\xcaY0\\xdb\\xe8F)\\'n\\x19\\x1c\\xc7\\xfby\\xb1tr\\x1eO\\xcdh\\x83%_w\\x1c\\xf4\\x8a\\xf4\\x18n\\xd2Y\\xd8C^\\'\\xe4h\\x99Ka\\x1b#I\\x97@(\\xd5\\x14\\x94\\xfb\\x82\\x8e&\\x1b\\xe8\"Fd\\xe0\\xd0\"\\x9e\\x18'\n",
      "Length: 80\n",
      "Embedding Efficiency: 3.6\n",
      "==============\n",
      "241How long does applebees fucking take\n",
      "customizedTechniques-2\n",
      "Jqy nqpi fqgu crrngdggu hwemkpi vcmg\n",
      "Length: 36\n",
      "customizedTechniques-3\n",
      "h>>",
      ">",
      "",
      "",
      ">>",
      "\n",
      "Length: 36\n",
      "customizedTechniques-5\n",
      "ÁÉp¾ÁÀ¹p¶Á·Åp³ÂÂ¾·´··Åp¸Çµ½»À¹pÆ³½·\n",
      "Length: 36\n",
      "OpenSourceTechniques-6\n",
      "b\"\\x82\\xc4\\x8c\\x14\\xc2\\xca\\xcf\\x13\\xcb^\\xac\\x8c\\xb9\\x9eh\\x1fwzh\\x89\\xb6\\x05\\x9f\\xc5b\\xcb\\x1eo\\x16=<x\\xee{\\x9c\\xf9\\xa4\\xef\\xfa!Pg.\\x01\\xe9\\x86<\\xdc?\\x98Yx\\x95\\x1eb\\xef\\xa4dy#\\x15\\xd6h\\xe6\\t\\xc6\\x9cC>\\xa0n\\x97\\xb1X!]'\\xd9l\\x15\"\n",
      "Length: 80\n",
      "Embedding Efficiency: 3.6\n",
      "==============\n",
      "242Jay says that you're a double-faggot\n",
      "customizedTechniques-2\n",
      "Lca ucau vjcv aqw'tg c fqwdng-hciiqv\n",
      "Length: 36\n",
      "customizedTechniques-3\n",
      "j>>>E",
      ">>",
      "K\n",
      "Length: 36\n",
      "customizedTechniques-5\n",
      "³±pÅ³±ÅpÆº³Æp±ÁÇwÄ·p³p¶ÁÇ´¾·}¸³¹¹ÁÆ\n",
      "Length: 36\n",
      "OpenSourceTechniques-6\n",
      "b'$H\\x9e?|\\xb2\\x8d\\xb0\\x0b#\\xd6\\x9a\\x15\\xb8\\xd1\\xc7Pn#sU\\xf2\"\\x1d\\xfb\\xac%\\xa4\\x9d\\xdcm\\x93\\x99-\\xa3\\xe7\\x11\\xeb\\xd7\\xd6\\xf9\\xfbC\\xb6m\\x9a\\xc7\\x1a\\xf1R\\x84\\xe3\\xf4\\x1c@\\x9e\\xcc(g?\\xc4N\\xfb\\xad\\x15\\x80\\xb0k\\xb3+\\xd6- \\xd86K\\xc8\\x19\\xfa\\xf1'\n",
      "Length: 80\n",
      "Embedding Efficiency: 3.6\n",
      "==============\n",
      "243ÌÏ wait 4 me in sch i finish ard 5..\n",
      "customizedTechniques-2\n",
      "LO yckv 4 og kp uej k hkpkuj ctf 5..\n",
      "Length: 36\n",
      "customizedTechniques-3\n",
      "jm>>R>",
      ">>>>>>SLL\n",
      "Length: 36\n",
      "customizedTechniques-5\n",
      "pÉ³»Æpp¿·p»ÀpÅµºp»p¸»À»Åºp³Ä¶p",
      "~~\n",
      "Length: 36\n",
      "OpenSourceTechniques-6\n",
      "b'\\x12\\xf8\\xd9`>%CN\\x8bj\\xa430-\\xf7\\x92\\xe6\\x0f\\x8b\\x16\\x91\\x06\\xcf:>T\\xddNj\\x81\\xcf\\xf8N\\xab<\\xc0\\xc5(\\xbf#\"\\xd9O\\xf0,b(c\\x8eaK\\xb8?\\xc2\"mZ2\\x1a\\x1611^\\xe2'\n",
      "Length: 64\n",
      "Embedding Efficiency: 4.5\n",
      "==============\n",
      "244What will we do in the shower, baby?\n",
      "customizedTechniques-2\n",
      "Yjcv yknn yg fq kp vjg ujqygt, dcda?\n",
      "Length: 36\n",
      "customizedTechniques-3\n",
      "w>>",
      ">>>",
      ">",
      "J>]\n",
      "Length: 36\n",
      "customizedTechniques-5\n",
      "©º³ÆpÉ»¾¾pÉ·p¶Áp»ÀpÆº·pÅºÁÉ·Ä|p´³´±\n",
      "Length: 36\n",
      "OpenSourceTechniques-6\n",
      "b'G\\x90G\\x1d\\x98\\xd3\\xaa\\xd4U;\\xed\\x00ho\\x04\\xde\\x7f\\x84\\xe9\\xf2\\x04\\xddrY\\xd1\\xb42\\xbe>\\x96b\\xbcE2D\\x0fE\\xe7}^\\x9cp\\x04^0t\\xba\\x96s\\xae\\xa2\\xb6\\x0e \\xb8\\xc7\\xaa\\xd6j\\xbc\\\\\\xd2\\xa9\\xac\\x98e\\x0b\\xb6\\x9c\\x83\\x8f\\x01\\x1f\\xf61\\xbd6\\x9c\\xc7o'\n",
      "Length: 80\n",
      "Embedding Efficiency: 3.6\n",
      "==============\n",
      "245Probably gonna swing by in a wee bit\n",
      "customizedTechniques-2\n",
      "Rtqdcdna iqppc uykpi da kp c ygg dkv\n",
      "Length: 36\n",
      "customizedTechniques-3\n",
      "p>>>>>>",
      "",
      ">\n",
      "Length: 36\n",
      "customizedTechniques-5\n",
      "¢ÄÁ´³´¾±p¹ÁÀÀ³pÅÉ»À¹p´±p»Àp³pÉ··p´»Æ\n",
      "Length: 36\n",
      "OpenSourceTechniques-6\n",
      "b\"i\\x87k|\\xb0\\x8e\\xe5.s\\xf7r\\xea]6\\x9e\\x0e\\x17n\\x19\\xdfS]5\\xa5\\xfaPc6$\\xd7\\x18\\xcbM*\\xa4\\x87\\xe1\\xcdFX\\x03\\x8c\\xf9W'D\\x16\\xf1\\x9d0\\x15C#R\\xfa#\\xa5F\\xf7\\xc9\\x8e\\x91\\x0cJ_AN\\xd6d\\x958\\xfe\\xd2\\x11\\xfa\\xc4'\\x80`\\xc0\"\n",
      "Length: 80\n",
      "Embedding Efficiency: 3.6\n",
      "==============\n",
      "246You will be in the place of that man\n",
      "customizedTechniques-2\n",
      "Aqw yknn dg kp vjg rnceg qh vjcv ocp\n",
      "Length: 36\n",
      "customizedTechniques-3\n",
      "_>>",
      ">>",
      ">",
      ">>>\n",
      "Length: 36\n",
      "customizedTechniques-5\n",
      "ÁÇpÉ»¾¾p´·p»ÀpÆº·pÂ¾³µ·pÁ¸pÆº³Æp¿³À\n",
      "Length: 36\n",
      "OpenSourceTechniques-6\n",
      "b'2}\\xd3T\\xabZ\\x01W\\x0fw\\x99z\\x96\\x9c\\xd8\\x14\\x12\\t\\xa8\\xc7h\\x18\\xc6\\r\\x04\\xf7\\x90u\\xc0\\xc7\\x04b\\x02|E\\xe2\\x0f)\\x8c\\x99o\\xd1oYD\\x87V*\\x8by9m\\xba\\x8f\\x04\\x9b\\xf6)#V\\xa8,4\\xa8\\xcd\\x1e\\xa0Ge\\x186Fo\\xa6JIs\\x02\\x97\\x91'\n",
      "Length: 80\n",
      "Embedding Efficiency: 3.6\n",
      "==============\n",
      "247Ho ho - big belly laugh! See ya tomo\n",
      "customizedTechniques-2\n",
      "Jq jq - dki dgnna ncwij! Ugg ac vqoq\n",
      "Length: 36\n",
      "customizedTechniques-3\n",
      "h>>K>>",
      ">?>s",
      "",
      ">>\n",
      "Length: 36\n",
      "customizedTechniques-5\n",
      "ÁpºÁp}p´»¹p´·¾¾±p¾³Ç¹ºqp¥··p±³pÆÁ¿Á\n",
      "Length: 36\n",
      "OpenSourceTechniques-6\n",
      "b'\\xa6\\xdd]\\x1c\\xf5\\xf3\\x0eO\\x95\\xc2\\x88b^\\xa1\\xa6z\\xfa5TtM\\xa2\\x0f\\xd8@\\xfa\\x8c\\x0cx\\xc4\\x08\\xef\\x89\\xef\\x9d\\xccl|u\\x94\\xb4\\xbb\\xb8y~b\\x9a\\xb7\\x8eL\\x94\\x93\\xa8\\xd5\\xa4\\x1cI\\xb6Q\\xf8\\xc6\\xf0\\x10\\xc2'\n",
      "Length: 64\n",
      "Embedding Efficiency: 4.5\n",
      "==============\n",
      "248Good. Good job. I like entrepreneurs\n",
      "customizedTechniques-2\n",
      "Iqqf. Iqqf lqd. K nkmg gpvtgrtgpgwtu\n",
      "Length: 36\n",
      "customizedTechniques-3\n",
      "gL>g>L>i>",
      ">",
      "",
      "",
      "",
      "\n",
      "Length: 36\n",
      "customizedTechniques-5\n",
      "ÁÁ¶~pÁÁ¶p¼Á´~pp¾»½·p·ÀÆÄ·ÂÄ·À·ÇÄÅ\n",
      "Length: 36\n",
      "OpenSourceTechniques-6\n",
      "b'\\x7fCFF\\x1aki\\x8c^\\x17\\x9d\\x05\\x9b\\nM\\x05\\xa5\\xd7\\xbfp\\xea\\x0c\\xac\\x03\\xa4\\x0eC\\xd3:\\xd435(\\xba\\n\\xb8(\\xed\\xe6\\xa53\\xec\\xd8>\\x87\\xac\\xa1`\\xe7N8\\xb3m\\x83\\xb4\\xd5vXeP\\xea\\xa7\\x17\\xa5\\x00)\\xe5\\xa3\\x9a[\\xc2\\xf1\\xde$U\\x14\\xfd\\xf1U\\x9b'\n",
      "Length: 80\n",
      "Embedding Efficiency: 3.6\n",
      "==============\n",
      "249Hi :)finally i completed the course:)\n",
      "customizedTechniques-2\n",
      "Jk :)hkpcnna k eqorngvgf vjg eqwtug:)\n",
      "Length: 37\n",
      "customizedTechniques-3\n",
      "h>XG>>",
      "",
      ">",
      ">",
      "XG\n",
      "Length: 37\n",
      "customizedTechniques-5\n",
      "»py¸»À³¾¾±p»pµÁ¿Â¾·Æ·¶pÆº·pµÁÇÄÅ·y\n",
      "Length: 37\n",
      "OpenSourceTechniques-6\n",
      "b\"\\xdce\\x7f\\x18\\x88\\xc8D\\x8d#\\xc3\\xbd8\\xder\\x9fS\\xc0x\\x02Ry\\x0fv\\xe2__(\\xc1\\x1f\\xf2\\xe2v\\xbb\\xb1\\xbe\\x9f\\x85\\x90\\xcb\\xf3\\xef\\xfd\\x08\\xc6'\\xd5\\xba\\x12\\x9f\\xd9\\x02\\xb9;\\xeb\\xb0\\xc3\\xffx\\xbd\\x7f\\xa2\\xcf?=h\\x054k\\xad\\xbe\\xa3\\xa3\\x06\\xf04\\xdc\\x17\\xd6\\x8a\\x89\"\n",
      "Length: 80\n",
      "Embedding Efficiency: 3.7\n",
      "==============\n",
      "250Dear we are going to our rubber place\n",
      "customizedTechniques-2\n",
      "Fgct yg ctg iqkpi vq qwt twddgt rnceg\n",
      "Length: 37\n",
      "customizedTechniques-3\n",
      "d",
      ">",
      ">",
      ">>>>",
      ">",
      "\n",
      "Length: 37\n",
      "customizedTechniques-5\n",
      "·³ÄpÉ·p³Ä·p¹Á»À¹pÆÁpÁÇÄpÄÇ´´·ÄpÂ¾³µ·\n",
      "Length: 37\n",
      "OpenSourceTechniques-6\n",
      "b'\\x8c2p-H\\x1b\\x99`\\x96\\xd7\\xd3r\\xd1\\x91;X\\xeb\\xf4\\xbf\\xc6\\x0f\\xb4{\\x80\\xb6\\xd5\\x91\\x08\\xae\\xaa9\\xa8\\x88\\xe8A[6\\x17J\\xf7\\x8c\\x17\\xc6\\xb6uQ\\xa0\\xbb\\x1b\\xcc`@\\xb0\\xd9\\xf3\\xb7\\xf0\\xcd\\x9aY=hb9\\x8f\\xe9E\\xad\\x0f\\xd8\\x0f\\xea9\\xbcZ\\xc2C4\\x03\\x18'\n",
      "Length: 80\n",
      "Embedding Efficiency: 3.7\n",
      "==============\n",
      "251U don't remember that old commercial?\n",
      "customizedTechniques-2\n",
      "W fqp'v tgogodgt vjcv qnf eqoogtekcn?\n",
      "Length: 37\n",
      "customizedTechniques-3\n",
      "u>E>",
      "",
      "",
      ">>>",
      "]\n",
      "Length: 37\n",
      "customizedTechniques-5\n",
      "§p¶ÁÀwÆpÄ·¿·¿´·ÄpÆº³ÆpÁ¾¶pµÁ¿¿·Äµ»³¾\n",
      "Length: 37\n",
      "OpenSourceTechniques-6\n",
      "b'\\xc4\\xd2\\xf5V\\xc1\\x86R\\xf2D2\\x7f4\\xea\\xfb\\x16\\x027j\\xab\\xa4\\x10\\xd1\\x8bu\\xac\\x80\\xf5\\x9a\\x92\\n_\\x96\\xc3\\x9br^\\xf3\\xdaj\\x99\\xea\\xc0\\x8b\\x1fJ\\xab%2b.(,\\xd3\\x9c+\\xc2E\\xfd\\x05ZhV#\\xcbG\\xed\\xfc\\x9c\\x82\\xba\\x96\\x0e\\x95~\\xf7\\xbf\\x01~\\x0e\\xf9'\n",
      "Length: 80\n",
      "Embedding Efficiency: 3.7\n",
      "==============\n",
      "252Usf I guess, might as well take 1 car\n",
      "customizedTechniques-2\n",
      "Wuh K iwguu, okijv cu ygnn vcmg 1 ect\n",
      "Length: 37\n",
      "customizedTechniques-3\n",
      "u>i>",
      "J>>>",
      ">",
      ">O>\n",
      "Length: 37\n",
      "customizedTechniques-5\n",
      "§Å¸pp¹Ç·ÅÅ|p¿»¹ºÆp³ÅpÉ·¾¾pÆ³½·ppµ³Ä\n",
      "Length: 37\n",
      "OpenSourceTechniques-6\n",
      "b'\\xb9|\\xe3[<\\x07\\x06CH\\xd6\\xa3\\xeb\\xbb\\xda\\xb5\\x0cp\\x8d}`W\\xbf\\xac\\xc1\\xef\\xaeF\\xb5\\x02\\t\\x92M|\\xd4\\x8a$$\\\\^\\x0c\\x10\\xbc*\\xbc\\x16\\xc2\\xd7php\\xad\\xd3\\xef{\\xfd\\xbe\\xf6[\\x9a\\x0c\\x08\\xdb\\xb2\\x06\\x9d\\x1eZ\\xd4\\x87R\\x93\\xe9\\xefmY\\xc4\\xbe?\\x9f\\xe9'\n",
      "Length: 80\n",
      "Embedding Efficiency: 3.7\n",
      "==============\n",
      "253Hey you told your name to gautham ah?\n",
      "customizedTechniques-2\n",
      "Jga aqw vqnf aqwt pcog vq icwvjco cj?\n",
      "Length: 37\n",
      "customizedTechniques-3\n",
      "h",
      ">>>>",
      ">>>]\n",
      "Length: 37\n",
      "customizedTechniques-5\n",
      "·±p±ÁÇpÆÁ¾¶p±ÁÇÄpÀ³¿·pÆÁp¹³ÇÆº³¿p³º\n",
      "Length: 37\n",
      "OpenSourceTechniques-6\n",
      "b'0c\\xf8\\xa1\\xc6SfqV\\xdd\\xfd\\xebf\\x8d\\xbfa\\xed\\xcbu\\xcc\\xa7\\xfcmtT\\x9a?8\\xfc\\xf3\\xd8\\xca\\xe4\\x91\\xc7@]\\x1b\\xd9\\xb3\\x951&\\xe7\\xc1\\xc5\\x99\\xf1\\xda\\xa6\\x97\\xfb\\xce#\\x9a\\xc2\\x15(\\xe6\\xda[<\\xeeN{\\xc4\\xfc\\x88\\xc6&\\xb5\\xbat*\\xf0v\\xde\\xe9\\xbd\\x93'\n",
      "Length: 80\n",
      "Embedding Efficiency: 3.7\n",
      "==============\n",
      "254Any pain on urination any thing else?\n",
      "customizedTechniques-2\n",
      "Cpa rckp qp wtkpcvkqp cpa vjkpi gnug?\n",
      "Length: 37\n",
      "customizedTechniques-3\n",
      "a>>>>>>",
      "",
      "]\n",
      "Length: 37\n",
      "customizedTechniques-5\n",
      "À±pÂ³»ÀpÁÀpÇÄ»À³Æ»ÁÀp³À±pÆº»À¹p·¾Å·\n",
      "Length: 37\n",
      "OpenSourceTechniques-6\n",
      "b'/\\xae\\x91%3\\x90KQ%\\xa8\\xa8k\\xc3|\\xb8\\xd5\\xce\\r\\xc4\\xd0\\xaa\\xe7\\xfc\\xbe\\xe11\\xbc\\x15+\\xce\\x8e\\x86rm\\r\\xe0H\\x84w\\x9b\\xde\\xc0\\x1ay\"\\xd8!\\xa7\\x84\\xe4F\\x97\\xce\\xd0\\xc4\\xe0k\\x07hQ\\x1e\\xadi(g~9\\xa7\\xed\\x14=C\\x94l\\xa5\\x82\"<y\\xea'\n",
      "Length: 80\n",
      "Embedding Efficiency: 3.7\n",
      "==============\n",
      "255When are you going to ride your bike?\n",
      "customizedTechniques-2\n",
      "Yjgp ctg aqw iqkpi vq tkfg aqwt dkmg?\n",
      "Length: 37\n",
      "customizedTechniques-3\n",
      "w",
      ">",
      ">>>>",
      ">>",
      "]\n",
      "Length: 37\n",
      "customizedTechniques-5\n",
      "©º·Àp³Ä·p±ÁÇp¹Á»À¹pÆÁpÄ»¶·p±ÁÇÄp´»½·\n",
      "Length: 37\n",
      "OpenSourceTechniques-6\n",
      "b'\\x86\\xd8\\x8cDeL%L\\xc0\\xd5\\x87\\xc7\\x8d\\xa6&\\xf6s)L\\xca\\xc3\\xa4\\xad\\x8d\\xa6U\\x0eP!\\x81\\xd7\\xa0<\\x825\\xc2\\x87v\\xa3O\\xf1\\xe8\\xd4\\xcd\\t\\x16&\\xf8\\xb3\\x1a\\xdc/G\\xa9\\x8bCq:\\x8d\\x00\\xd6\\x16\\xc1\\x15\\xfb$\\xadk\\x870\\x0b\\x19\\xa0w\\xd6\\x9f\\xf7aW\\xf2'\n",
      "Length: 80\n",
      "Embedding Efficiency: 3.7\n",
      "==============\n",
      "256Do you know where my lab goggles went\n",
      "customizedTechniques-2\n",
      "Fq aqw mpqy yjgtg oa ncd iqiingu ygpv\n",
      "Length: 37\n",
      "customizedTechniques-3\n",
      "d>>>",
      "",
      ">>>",
      ">",
      "\n",
      "Length: 37\n",
      "customizedTechniques-5\n",
      "Áp±ÁÇp½ÀÁÉpÉº·Ä·p¿±p¾³´p¹Á¹¹¾·ÅpÉ·ÀÆ\n",
      "Length: 37\n",
      "OpenSourceTechniques-6\n",
      "b'\\xf1Z\\x1f0\\xee\\x7f\\xae\\x86\\xa9\\xdb\\xdfE\\x19\\xdam\\xdcIj\\xf3ak\\xf6\\xf0\\x91\\xdc\\x06^\\x8fp\\x10\\xaeG|w\\xbe\\xb7\\xc5\\x1d\\xeb\\xf3\\xc6A\\xec\\xb0\\xfb\\xd5\\xcbhu\\xaf.\\xf5\\r\\x06\\xf8\\xa0 V\\x91z7\\\\3\\xcf\\xa1W,\\xeaf\\xf8\\xa9>E\\xf7\\xb1\\x024\\x92\\x06\\xbf'\n",
      "Length: 80\n",
      "Embedding Efficiency: 3.7\n",
      "==============\n",
      "257Dear we got  &lt;#&gt;  dollars hi hi\n",
      "customizedTechniques-2\n",
      "Fgct yg iqv  &nv;#&iv;  fqnnctu jk jk\n",
      "Length: 37\n",
      "customizedTechniques-3\n",
      "d",
      ">",
      ">>>DYADY>>>>\n",
      "Length: 37\n",
      "customizedTechniques-5\n",
      "·³ÄpÉ·p¹ÁÆppv¾Æsv¹Æpp¶Á¾¾³ÄÅpº»pº»\n",
      "Length: 37\n",
      "OpenSourceTechniques-6\n",
      "b'\\x1a\\xe4\\x01\\xd23&\\xcc\\r\\xd6\\xf4\\x8d\\x19\\x8e\\x0c\\xaa<\\x067\\x83\\xde\\nj\\x03\\x9a\\xee\\x17\\x9f\\xf8[R\\xb9\\x17\\x0c,\\xf3\\xaa\\xc97\\x13=\\xfe\\x80\\xf3\\x0c\\xd3\\xa6\\xe3\\xad\\xd39\\x88\\x90j\\x16\\xd7\\xef\\x81\\x91M\\xc6\\x14|\\xf6\\xeb'\n",
      "Length: 64\n",
      "Embedding Efficiency: 4.625\n",
      "==============\n",
      "258Ya very nice. . .be ready on thursday\n",
      "customizedTechniques-2\n",
      "Ac xgta pkeg. . .dg tgcfa qp vjwtufca\n",
      "Length: 37\n",
      "customizedTechniques-3\n",
      "_>",
      ">",
      "L>L>L",
      ">",
      ">>\n",
      "Length: 37\n",
      "customizedTechniques-5\n",
      "³pÈ·Ä±pÀ»µ·~p~p~´·pÄ·³¶±pÁÀpÆºÇÄÅ¶³±\n",
      "Length: 37\n",
      "OpenSourceTechniques-6\n",
      "b\"M\\xf6O\\x05\\xafl\\xda%\\xee\\x83\\xa1\\x1b\\xa8\\xc3\\x05\\xa2\\xec\\xbf\\xc8\\x97\\xf8\\xb8\\xb5tp\\x13x\\xaf\\xa8\\xbb\\xca!\\xa2\\xc2\\xa1$G\\x8cj<{\\x83\\xe4{Y\\x9f-\\x9f.Wp\\xaf%\\xdbW'\\xef\\x05\\xc4\\x06_\\xac\\x1e\\xec\\x18\\xa2\\x0b\\xb6Y\\x91\\xe1\\xcc\\xb5\\xd2Y\\x1b\\xa5\\xec\\x9a\\xd8\"\n",
      "Length: 80\n",
      "Embedding Efficiency: 3.7\n",
      "==============\n",
      "259This pay is  &lt;DECIMAL&gt;  lakhs:)\n",
      "customizedTechniques-2\n",
      "Vjku rca ku  &nv;FGEKOCN&iv;  ncmju:)\n",
      "Length: 37\n",
      "customizedTechniques-3\n",
      "t>>>>DYdecimalDY>>XG\n",
      "Length: 37\n",
      "customizedTechniques-5\n",
      "¦º»ÅpÂ³±p»Åppv¾Æv¹Æpp¾³½ºÅy\n",
      "Length: 37\n",
      "OpenSourceTechniques-6\n",
      "b'\\xb00\\xfe\\xa1\\xbd\\x0b}y5\\xafi\\x91\\x9b>h\\x1ez\\xcc^\\x02T)\\xc2\\xc1\\x92&\\x1cY\\x1a\\xdb\\xd3\\x1d\\xc3*<S\\xb4\\xc6>\\x9c:\\xc1C\\xa1HI,\\xef\\x9e\\xfa\\xd9\\xee\\xb1|!=\\x9d\\x10\\xdbld\\xe5w\\xcd{\\xb3\\xd7\\xd4?\\xdeY\\xa6\\xcex\\x85\\xdb\\xd7\\xaf\\xbe/'\n",
      "Length: 80\n",
      "Embedding Efficiency: 3.7\n",
      "==============\n",
      "26008714712388 between 10am-7pm Cost 10p\n",
      "customizedTechniques-2\n",
      "08714712388 dgvyggp 10co-7ro Equv 10r\n",
      "Length: 37\n",
      "customizedTechniques-3\n",
      "NVUORUOPQVV>",
      "",
      "",
      ">ONKU>c>ON\n",
      "Length: 37\n",
      "customizedTechniques-5\n",
      "p´·ÆÉ··Àp³¿}Â¿pÁÅÆpÂ\n",
      "Length: 37\n",
      "OpenSourceTechniques-6\n",
      "b'(\\xcd\\xda%\\x02\\xef\\xc9\\xe9\\x9c\\xe9d\\x9b\\xe0\\xda\\x07nq\\xa7\\x08\\x00\\xe6\\xf3\\xba\\xc1\\xc1\\x80\\xecp\\xd541\\xeb\\xd8#_\\xb2\\xe4\\xef{\\x90<\\xc4\\x84\\xf9\\x1cfT\\xbd\\xc1\\x89N.N\\x91s\\xb1\\xb1\\xf5\\xbf\\xa9\\xb1H\\xb2\\xd2\\xb1\\x00y\\xcf\\xa7\\xf5\\xa7\\x8d\\x0b\\xb3$\\xf9\\xa4\\xad\\xb19'\n",
      "Length: 80\n",
      "Embedding Efficiency: 3.7\n",
      "==============\n",
      "261Dont talk to him ever ok its my word.\n",
      "customizedTechniques-2\n",
      "Fqpv vcnm vq jko gxgt qm kvu oa yqtf.\n",
      "Length: 37\n",
      "customizedTechniques-3\n",
      "d>>>>",
      "",
      ">>>>L\n",
      "Length: 37\n",
      "customizedTechniques-5\n",
      "ÁÀÆpÆ³¾½pÆÁpº»¿p·È·ÄpÁ½p»ÆÅp¿±pÉÁÄ¶~\n",
      "Length: 37\n",
      "OpenSourceTechniques-6\n",
      "b'\\xd3\\x11)\\xd6\\x80\\xdc\\xdb\\xa9\\xe7Q\\xbbm\\x0b\\xab\\x92\\x1cW>E\\x8e\\x8a,pD\\xa2\\xa4\\x95\\xe9\\xfe>8\\xcb\\xa5\\x88dx\\x9eG\\x02\\xd7\\xfe\\xddTRc\\xabP\"\\xa9\\x0b\\x8d]\\x8f\\\\\\x0c\\xaa\\x99\\x08\\xeb\\'\\xf2\\xac\\x13J\\x81\\xe4\\xac\"\\x186V\\xffZc\\n\\xa1\\xbd\\xea\\xdfx'\n",
      "Length: 80\n",
      "Embedding Efficiency: 3.7\n",
      "==============\n",
      "262Yup i thk so until e shop closes lor.\n",
      "customizedTechniques-2\n",
      "Awr k vjm uq wpvkn g ujqr enqugu nqt.\n",
      "Length: 37\n",
      "customizedTechniques-3\n",
      "_>>>>>",
      ">>",
      ">L\n",
      "Length: 37\n",
      "customizedTechniques-5\n",
      "ÇÂp»pÆº½pÅÁpÇÀÆ»¾p·pÅºÁÂpµ¾ÁÅ·Åp¾ÁÄ~\n",
      "Length: 37\n",
      "OpenSourceTechniques-6\n",
      "b\"8\\x9a\\x9b\\x84Z\\xe8\\xe6\\xb0\\xb5\\xe4\\x83\\x16\\x9cg\\xca#\\xee \\xa9\\x88\\xed\\xd8\\xaf\\xe1\\xaa,\\xeep\\x87\\x9et\\xe4KUb\\xcd\\x0b\\x93\\xf0D\\x94\\xca\\x82CY2qb\\xb3\\xff\\x8d\\x91\\xd35\\xe0os\\xdcr\\xd9|Cq\\xf7\\x17_L'\\x95\\xd3H\\xa7\\xcc;\\x18\\xae\\t-\\xfe\\x1b\"\n",
      "Length: 80\n",
      "Embedding Efficiency: 3.7\n",
      "==============\n",
      "263Give me a sec to think think about it\n",
      "customizedTechniques-2\n",
      "Ikxg og c uge vq vjkpm vjkpm cdqwv kv\n",
      "Length: 37\n",
      "customizedTechniques-3\n",
      "g",
      ">",
      ">>",
      ">>>>>\n",
      "Length: 37\n",
      "customizedTechniques-5\n",
      "»È·p¿·p³pÅ·µpÆÁpÆº»À½pÆº»À½p³´ÁÇÆp»Æ\n",
      "Length: 37\n",
      "OpenSourceTechniques-6\n",
      "b'/\\\\\\xa1\\xce\\xcb\\xac\\xcc\\x160\\x9bU\\xa7\\x99\\\\\\xf7\\x1d\\xf5\\xd0\\xfbX\\x8ci\\xee\\x11\\xca\\xb71\\x9a\\xa6\\xad.\\x1da\\x1aN\\x90&l\\x84x\\xcc\\xe8\"\\xfd\\xed\\xe54\\xf0\\xdc\\x0c\\x89\\xcc)\\x89\\xff^)\\x9b\\xf5\\xd4\\x08\\x83\\xb7\\x89\\xe5\\xc6>\\x98\\x0c\\xfc\\x9d[3\\xc39\\xb4\\xaa\\xe2P\\x8c'\n",
      "Length: 80\n",
      "Embedding Efficiency: 3.7\n",
      "==============\n",
      "264Ya, told..she was asking wats matter?\n",
      "customizedTechniques-2\n",
      "Ac, vqnf..ujg ycu cumkpi ycvu ocvvgt?\n",
      "Length: 37\n",
      "customizedTechniques-3\n",
      "_J>LL",
      ">>>>",
      "]\n",
      "Length: 37\n",
      "customizedTechniques-5\n",
      "³|pÆÁ¾¶~~Åº·pÉ³Åp³Å½»À¹pÉ³ÆÅp¿³ÆÆ·Ä\n",
      "Length: 37\n",
      "OpenSourceTechniques-6\n",
      "b'\\x97_z\\xc9z-\\xf5LG\\xfan\\xdf\\x1c\\xef\\xd6\\xe1cZ\\x17\\xaf\\x93\\x8d\\x7fn\\xe7\\x90\\xc4\\x0e\\x938\\x97\\xa2\\x16\\xdf\\xacwLE\\x08\\x17A\\x0cG[\\x05\\xb1QzL\\xf1\\xaf\\xd9\\xca\\x845\\xea&[\\xce\\xf9\\xc71\\xadk\\xbc\\xf1\\xe6\\t@\\xfeIn\\xb6\\x99{F\\xa9\\xb0\\xe9='\n",
      "Length: 80\n",
      "Embedding Efficiency: 3.7\n",
      "==============\n",
      "265I only haf msn. It's yijue@hotmail.com\n",
      "customizedTechniques-2\n",
      "K qpna jch oup. Kv'u aklwg@jqvockn.eqo\n",
      "Length: 38\n",
      "customizedTechniques-3\n",
      "i>>>L>iE>",
      "^L\n",
      "Length: 38\n",
      "customizedTechniques-5\n",
      "pÁÀ¾±pº³¸p¿ÅÀ~pÆwÅp±»¼Ç·ºÁÆ¿³»¾~µÁ¿\n",
      "Length: 38\n",
      "OpenSourceTechniques-6\n",
      "b'\\x96\\x9a\\x03\\xa1\\x98\\xf8\\xd4\\x87\\xd3\\xdf\\x15\\xc5P_\\xefyd\\rm\\xa0\\xa6\\xeduU\\xb3\\x1e\\xbc\\x81t\\x96\\x04\\xf1\\x83\\x83\\x1e\\x03\\xc3k\\xf7\\x0f\\xbf]\\xfc\\x9c\\x06uv\\x19\\xdb\\xf3\\xc6\\x12\\xf9\\xd9\\xf5\\xf9\\xffIN\\xbc\\x18\\tSzP\\x84\\xf2\\xa9\\xf01c\"JA\\xb9\\xcb:\\x88q<'\n",
      "Length: 80\n",
      "Embedding Efficiency: 3.8\n",
      "==============\n",
      "266Where are you?when wil you reach here?\n",
      "customizedTechniques-2\n",
      "Yjgtg ctg aqw?yjgp ykn aqw tgcej jgtg?\n",
      "Length: 38\n",
      "customizedTechniques-3\n",
      "w",
      "",
      ">",
      ">]",
      ">>>",
      ">",
      "",
      "]\n",
      "Length: 38\n",
      "customizedTechniques-5\n",
      "©º·Ä·p³Ä·p±ÁÇÉº·ÀpÉ»¾p±ÁÇpÄ·³µºpº·Ä·\n",
      "Length: 38\n",
      "OpenSourceTechniques-6\n",
      "b'\\xcf\\x16\\x1e\\xf8\\xe3Z\\x9e:o\\xec\\xec\\x1b$l\\x94rf\\x18\\x9e\\xf1\\x14\\x1e\\x15\\xf2=)}z\\x99\\x05yt~\\xfe?\\x8f9\\xce\\xdd\\x1f=\\xe23J\\xd0\\xd6\\xf5\\xdc\\xad\\xc2\\xf4\\xe7\\xa9<\\xf3e\\xb5\\x9dM=0\\x15\\x06?\\xdc\\x91f@\\x1dd\\xaa\\xdb\\x95\\\\\\x85\\x8cc|\\xfe\\xcf'\n",
      "Length: 80\n",
      "Embedding Efficiency: 3.8\n",
      "==============\n",
      "267I'm back, lemme know when you're ready\n",
      "customizedTechniques-2\n",
      "K'o dcem, ngoog mpqy yjgp aqw'tg tgcfa\n",
      "Length: 38\n",
      "customizedTechniques-3\n",
      "iE>J>",
      "",
      ">>",
      ">E",
      ">",
      "\n",
      "Length: 38\n",
      "customizedTechniques-5\n",
      "w¿p´³µ½|p¾·¿¿·p½ÀÁÉpÉº·Àp±ÁÇwÄ·pÄ·³¶±\n",
      "Length: 38\n",
      "OpenSourceTechniques-6\n",
      "b'OD\\xcf\\xc5\\xdc\\x90m+\\xeaj~\\x95\\x03\\xd3\\xc1)\\x9cdZ\\xea\\xbc\\x0e\\x02.\"\\x17\\xc5U\\xca\\x8d\\xfa\\x18\\xb6#\\x9dgpD\\xc5\\xba\\xc52\\xff\\xea\\x80-{\\x9e\\x07\\xff\\xbb\\x02\\xe2\\x0f\\x1a\\xd1\\xaa\\x0f\\xcea\\x93\\xc9\\x06\\xcf\\x8f\\xfb\\xe3\\xc1\\xc2\\x83&\\x82\\xd7ugE{\\xc6\\xf9\\xa4'\n",
      "Length: 80\n",
      "Embedding Efficiency: 3.8\n",
      "==============\n",
      "268Tell rob to mack his gf in the theater\n",
      "customizedTechniques-2\n",
      "Vgnn tqd vq ocem jku ih kp vjg vjgcvgt\n",
      "Length: 38\n",
      "customizedTechniques-3\n",
      "t",
      ">>>>>>>",
      ">",
      "",
      "\n",
      "Length: 38\n",
      "customizedTechniques-5\n",
      "¦·¾¾pÄÁ´pÆÁp¿³µ½pº»Åp¹¸p»ÀpÆº·pÆº·³Æ·Ä\n",
      "Length: 38\n",
      "OpenSourceTechniques-6\n",
      "b'>\\xec\\xf9\\xdb\\xd8n\\xa2[\\xcf_F\\x8b\\xa3\\x0blN\\xea\\x95gYR;\\xcf\\xe8\\xf2\\xe5\\xfcrU\\x13O\\x9cD#M\\x8aQt\\xed\\x01(:\\xa9e\\xfd0\\xc4\\x05\\xd3\\xbd\\xe6\\xa29\\xd7\\x1c\\x0bA\\x00\\xc0\\x18\\x10\\x18,)\\xea\\x9bv\\xe3L`*\\xc7\\xee\\x99\\xfc&\\r\\xc2_\\xe3'\n",
      "Length: 80\n",
      "Embedding Efficiency: 3.8\n",
      "==============\n",
      "269Ha ha cool cool chikku chikku:-):-DB-)\n",
      "customizedTechniques-2\n",
      "Jc jc eqqn eqqn ejkmmw ejkmmw:-):-FD-)\n",
      "Length: 38\n",
      "customizedTechniques-3\n",
      "h>>>>>XKGXKdbKG\n",
      "Length: 38\n",
      "customizedTechniques-5\n",
      "³pº³pµÁÁ¾pµÁÁ¾pµº»½½Çpµº»½½Ç}y}}y\n",
      "Length: 38\n",
      "OpenSourceTechniques-6\n",
      "b'\\xc6t\\x06ak\\xeb\\xd4\\xf6\\xc6\\x93A\\xedN{\\x8b(\\x06\\xfbt\\xe5}\\x7fn\\xf4\\x97\"\\x06\\xba\\x1f}=\\xeb\\nv]\\xdaF%\\xf2IOD\\x8c,rsn\\xe53\\x11<\\xa9T\\xb1\\xc3M\\xd5T\\x01\\xed\\xb7z\\x8e\\xc9\\xcb\\x04\\xfef\\xc8M\\x0e8r\\xb9\\xc5\\xaf\\x0c\\x9b*\\xe0'\n",
      "Length: 80\n",
      "Embedding Efficiency: 3.8\n",
      "==============\n",
      "270You were supposed to wake ME up &gt;:(\n",
      "customizedTechniques-2\n",
      "Aqw ygtg uwrrqugf vq ycmg OG wr &iv;:(\n",
      "Length: 38\n",
      "customizedTechniques-3\n",
      "_>",
      "",
      ">",
      ">>",
      ">me>>DYXF\n",
      "Length: 38\n",
      "customizedTechniques-5\n",
      "ÁÇpÉ·Ä·pÅÇÂÂÁÅ·¶pÆÁpÉ³½·ppÇÂpv¹Æx\n",
      "Length: 38\n",
      "OpenSourceTechniques-6\n",
      "b'\\xc3/\\xdd\\x9eS\\x17\\xec$\\x0e\\x0ftx\\x9f9\\x9bAD\\xe0\\xbcX\\xd3[s+ZA\\xa25\\xab\\xb9\\x8c%\\xcf\\xc8/\\x91\\xdc\\xf7\\xe5\\xea\\xa5q\\xa1\\x08C\\x99\\xb6C*\\xb1\\x9b\\xec\\xc9\\xeb\\x16{\\xc1X\\x96\\x16\\xcfJy)\\xbf^\\xfaY\\xb4\\xb3e\\x8a\\xc3\\xd7\\xc5\\x18\\xfd\\xaf%\\xd9'\n",
      "Length: 80\n",
      "Embedding Efficiency: 3.8\n",
      "==============\n",
      "271I'm going out to buy mum's present ar.\n",
      "customizedTechniques-2\n",
      "K'o iqkpi qwv vq dwa owo'u rtgugpv ct.\n",
      "Length: 38\n",
      "customizedTechniques-3\n",
      "iE>>>>>E>",
      "",
      ">L\n",
      "Length: 38\n",
      "customizedTechniques-5\n",
      "w¿p¹Á»À¹pÁÇÆpÆÁp´Ç±p¿Ç¿wÅpÂÄ·Å·ÀÆp³Ä~\n",
      "Length: 38\n",
      "OpenSourceTechniques-6\n",
      "b'\\xda\\x8a\\n\\xbdU\\xab\\r\\xd7\\xd4\\xacaB\\x08-d\\x93\\xd2\\xb2w\\xb2\\xd3S\\x06\\xca\\x8b\\x95P\\x0b%f\\xf4\\xc3\\xf5)0\\xb8\\x8b\\xf7\\xafM\\xdc*\\xdcM\\x84\\xfb\\xa2\\xed/B\\xdb\\x1c\\x9b\\r\\xb7WA\\xfc\\xa9eMH\\xca\\xb5\\xa0\\xd3b\\x9d\\xb3\\xe6pt>J\\x8cap\\xb0]d'\n",
      "Length: 80\n",
      "Embedding Efficiency: 3.8\n",
      "==============\n",
      "272Speaking of does he have any cash yet?\n",
      "customizedTechniques-2\n",
      "Urgcmkpi qh fqgu jg jcxg cpa ecuj agv?\n",
      "Length: 38\n",
      "customizedTechniques-3\n",
      "s",
      ">>",
      ">",
      ">",
      ">>>",
      "]\n",
      "Length: 38\n",
      "customizedTechniques-5\n",
      "¥Â·³½»À¹pÁ¸p¶Á·Åpº·pº³È·p³À±pµ³Åºp±·Æ\n",
      "Length: 38\n",
      "OpenSourceTechniques-6\n",
      "b'\\x92\\xde._\\xef\\xdfH\\x8d\\x9e:\\x82\\xf9\\r\\xbf\\xc7\\x85\\xde\\x9b\\x83\\xedD\\r\\xf8\\xb2.P\\x1b\\x04O[f\\xe4\\xab\\xc5\\x9d~\\x9b\\x05\\xa8\\xdb\\xd2\\xbe^\\xc3qe^\\xb2?\\xc2\\x9c\\xcf*\\x92\\x8c\\xdd\\x8cG\\x19\\xee.\\xed|\\xeae\\xe7\\xa4\\x90\\xbe,\\xa7\"\\xe6d9\\x9c{\\xa2y;'\n",
      "Length: 80\n",
      "Embedding Efficiency: 3.8\n",
      "==============\n",
      "273Be happy there. I will come after noon\n",
      "customizedTechniques-2\n",
      "Dg jcrra vjgtg. K yknn eqog chvgt pqqp\n",
      "Length: 38\n",
      "customizedTechniques-3\n",
      "b",
      ">>",
      "",
      "L>i>>",
      ">",
      ">\n",
      "Length: 38\n",
      "customizedTechniques-5\n",
      "·pº³ÂÂ±pÆº·Ä·~ppÉ»¾¾pµÁ¿·p³¸Æ·ÄpÀÁÁÀ\n",
      "Length: 38\n",
      "OpenSourceTechniques-6\n"
     ]
    },
    {
     "name": "stdout",
     "output_type": "stream",
     "text": [
      "b'\\xc6/(\\x08\"\\x8b\\xc0\\r/\\xf8Os\\x19MG\\t\\xa2\\x836\\xb6\\xf2\\xd1X\\xbf\\x13\\xe4(b6#14\\x1c}\\xfaC\\xf7\\x88Pk\\xe5\\x03\\xc4\\x1e/\\x96\\xc8\\xc2\\xdb}\\xd8\\x9c\\xecT\\xb2\\x174\\x8e\\x03\\x17\\x7fV\\xb0gV\\x96\\xad?\\xdd\\xd0:\\xf2\\xbd\\x0c\\x01v\\xf1\\x9cj\\xd6'\n",
      "Length: 80\n",
      "Embedding Efficiency: 3.8\n",
      "==============\n",
      "274S'fine. Anytime. All the best with it.\n",
      "customizedTechniques-2\n",
      "U'hkpg. Cpavkog. Cnn vjg dguv ykvj kv.\n",
      "Length: 38\n",
      "customizedTechniques-3\n",
      "sE",
      "L>a",
      "L>a>",
      ">",
      ">>L\n",
      "Length: 38\n",
      "customizedTechniques-5\n",
      "¥w¸»À·~pÀ±Æ»¿·~p¾¾pÆº·p´·ÅÆpÉ»Æºp»Æ~\n",
      "Length: 38\n",
      "OpenSourceTechniques-6\n",
      "b'\\xb6\\xc0@\\x89\\x96\\'w\\xadt\\x85e\\xf4q\\xd7\\x18\\xc9T^\\xc6\\x10F\\x17\\x05\\x9a1\\xb6\\tm:\\xc7\\x9e3\\x9f\\x99\\x9e.\\x11Kt\\x8d\\xf1\\xd1\\x19\\x00\\xdf\\xad\"PLh\\xaa\\xc4_\\x81b\\xd3\\x06\\xc9\\x861b=14uQk\\xc0\\x1d\\x85d\\xdb\\xd4\\x86\\xf1QYY\\xb6_'\n",
      "Length: 80\n",
      "Embedding Efficiency: 3.8\n",
      "==============\n",
      "275Yes i will be there. Glad you made it.\n",
      "customizedTechniques-2\n",
      "Agu k yknn dg vjgtg. Incf aqw ocfg kv.\n",
      "Length: 38\n",
      "customizedTechniques-3\n",
      "_",
      ">>>",
      ">",
      "",
      "L>g>>",
      ">L\n",
      "Length: 38\n",
      "customizedTechniques-5\n",
      "·Åp»pÉ»¾¾p´·pÆº·Ä·~p¾³¶p±ÁÇp¿³¶·p»Æ~\n",
      "Length: 38\n",
      "OpenSourceTechniques-6\n",
      "b'\\xc4(\\x94\\xe6jw\\xa2\\x7ft\\xc7\\x88\\xd5>>\\xb6\\xe8%\\xe53\\x89\\xc5j\\x82\\xe8{\\xb7&\\x0f\"\\xbc\\xcb\\x15\\xc3\\xf2:##\\xd3\\xd9\\x05\\x18\\xce\\x80P\\xe3\\xedC!O\\xefP\\xaaK\\xa1\\xfa\\xa7\\xd5\\xc8\\x1e\\xd7R\\xe0\\xaa\\x17\\x14\\xce:2vvl\\xb6\\x1dg\\xc7\\x0e\\xaa\\xd2\\xf9k'\n",
      "Length: 80\n",
      "Embedding Efficiency: 3.8\n",
      "==============\n",
      "276Also are you bringing galileo or dobby\n",
      "customizedTechniques-2\n",
      "Cnuq ctg aqw dtkpikpi icnkngq qt fqdda\n",
      "Length: 38\n",
      "customizedTechniques-3\n",
      "a>",
      ">>>",
      ">>\n",
      "Length: 38\n",
      "customizedTechniques-5\n",
      "¾ÅÁp³Ä·p±ÁÇp´Ä»À¹»À¹p¹³¾»¾·ÁpÁÄp¶Á´´±\n",
      "Length: 38\n",
      "OpenSourceTechniques-6\n",
      "b\"\\xf5?K&I\\xd9j\\n\\x9c\\xac.\\x03mg\\xe9'h\\xc0YQ\\xfe\\x99\\x84\\r|\\xd0\\xa7\\x1d\\xf54\\x9d\\x81\\xa9\\x16D\\x82A\\xa3\\x8b\\x9a\\x00\\xf8\\x84+T\\xca\\x10\\xcar2\\x1dL\\xe5\\x06\\xc1\\x9d[\\xf8\\x8c\\x04N\\x07.6\\xa4\\\\\\xdad\\x19\\x0c\\x17eO\\xc4\\xf8\\xdc\\x96\\x1f\\x8e\\x88\"\n",
      "Length: 80\n",
      "Embedding Efficiency: 3.8\n",
      "==============\n",
      "277Is that what time you want me to come?\n",
      "customizedTechniques-2\n",
      "Ku vjcv yjcv vkog aqw ycpv og vq eqog?\n",
      "Length: 38\n",
      "customizedTechniques-3\n",
      "i>>>",
      ">>>",
      ">>",
      "]\n",
      "Length: 38\n",
      "customizedTechniques-5\n",
      "ÅpÆº³ÆpÉº³ÆpÆ»¿·p±ÁÇpÉ³ÀÆp¿·pÆÁpµÁ¿·\n",
      "Length: 38\n",
      "OpenSourceTechniques-6\n",
      "b\"u\\xad\\x08\\xdd\\xa8=Gc\\xb8\\x07\\xaa\\xfe\\xd3D\\x98\\xa3\\xc7\\xe1lq\\xd5\\xc5U+\\x80\\xed\\xb6\\x8d\\xb7\\xc9\\xbc\\xbd\\xf8x0\\xa4\\x1f\\xbf1\\xce\\x97\\xf7F\\xb2\\xff\\xeb\\xfa?\\xec\\xf1\\xdd\\xef1L\\xbce5\\xf7\\xfd\\x86'\\x04\\xd6\\xf5\\xb5\\x1f\\xe2\\xa9B\\x10;Y\\xab\\xf9\\x8e\\xe7--\\x1c\\x05\"\n",
      "Length: 80\n",
      "Embedding Efficiency: 3.8\n",
      "==============\n",
      "278Shall i send that exe to your mail id.\n",
      "customizedTechniques-2\n",
      "Ujcnn k ugpf vjcv gzg vq aqwt ockn kf.\n",
      "Length: 38\n",
      "customizedTechniques-3\n",
      "s>>",
      ">>",
      "",
      ">>>>L\n",
      "Length: 38\n",
      "customizedTechniques-5\n",
      "¥º³¾¾p»pÅ·À¶pÆº³Æp·Ê·pÆÁp±ÁÇÄp¿³»¾p»¶~\n",
      "Length: 38\n",
      "OpenSourceTechniques-6\n",
      "b'\\xd3G\\x9e\\xd3\\xf48j$\\xd7o\\xfcgi\\xf7\\x92u\\xa1\\xf2\\xf4B\\x98\\xd5\\x9e\\x84`\\xf9i\\x90p\\x11\\xb2\\x8d4\\x07\\x03s\\x88;\\x03,\\xcb\\n\\x86\\xc1<\\x8e\\x1cGu\\xd9\\x1c\\xd7\\xa4)fg\\x87\\xe7\\xad\\xcf\\x16\\xe8\\xe0g^\\xa9\\x15!\\xb2\\x8ek\\x9eO\\xdc\\xfd\\x90\\xdb\\x9c\\x1f\\xdf'\n",
      "Length: 80\n",
      "Embedding Efficiency: 3.8\n",
      "==============\n",
      "279Dear, will call Tmorrow.pls accomodate.\n",
      "customizedTechniques-2\n",
      "Fgct, yknn ecnn Voqttqy.rnu ceeqoqfcvg.\n",
      "Length: 39\n",
      "customizedTechniques-3\n",
      "d",
      "J>>>tL>",
      "L\n",
      "Length: 39\n",
      "customizedTechniques-5\n",
      "·³Ä|pÉ»¾¾pµ³¾¾p¦¿ÁÄÄÁÉ~Â¾Åp³µµÁ¿Á¶³Æ·~\n",
      "Length: 39\n",
      "OpenSourceTechniques-6\n",
      "b'8\\xa7\\x87\\xf3\\xac\\x12\\xdf<\\x07\\xf13\\x11B\\x84X7)\\xd0\\xd9\\xe5\\x1b\\t\\r1&I\\x80Ch\\xb1>\\xafz\\x19\\xc40\"\\xff\\x8c\\x89 {\\xc5(\\x84Aw\\x8a\\x1e\\xf2M\\x1f\\xc2\\x17C\\x05\\xa8\\x06C\\xc3\\x07\\x15 )\\xcd\\x0bg\\xc9\\x8c5\\x0c\\xd3\\x1e\\x8f=B3Q\\x17\\xee'\n",
      "Length: 80\n",
      "Embedding Efficiency: 3.9\n",
      "==============\n",
      "280Both :) i shoot big loads so get ready!\n",
      "customizedTechniques-2\n",
      "Dqvj :) k ujqqv dki nqcfu uq igv tgcfa!\n",
      "Length: 39\n",
      "customizedTechniques-3\n",
      "b>XG>>>>>>",
      ">",
      "?\n",
      "Length: 39\n",
      "customizedTechniques-5\n",
      "ÁÆºpyp»pÅºÁÁÆp´»¹p¾Á³¶ÅpÅÁp¹·ÆpÄ·³¶±q\n",
      "Length: 39\n",
      "OpenSourceTechniques-6\n",
      "b'\\x08\\xfd\\x1a\\xc7IEqTX\\xc9i\\xf7\\x8aaW\\xber\\xaa\\x9e\\xad?\\x91\\xf7\\x17\\xcb_\\x7f:\\xfc61r7\\x87\\xfc\\r-\\xbbS\\x0bn\\xca\\xde*\\xce\\x9c\\x13\\x84`\\x18\\xdb\\x1c\\xff;\\x01jK\\x00\\x11\\x8f\\xd3\\xef\\xef\\xbc\\xc36\\x1b`8\\xc6\\x050\\x8b\\x027Tp\\xc9E\\xc4'\n",
      "Length: 80\n",
      "Embedding Efficiency: 3.9\n",
      "==============\n",
      "281Dear how is chechi. Did you talk to her\n",
      "customizedTechniques-2\n",
      "Fgct jqy ku ejgejk. Fkf aqw vcnm vq jgt\n",
      "Length: 39\n",
      "customizedTechniques-3\n",
      "d",
      ">>>",
      "L>d>>>>",
      "\n",
      "Length: 39\n",
      "customizedTechniques-5\n",
      "·³ÄpºÁÉp»Åpµº·µº»~p»¶p±ÁÇpÆ³¾½pÆÁpº·Ä\n",
      "Length: 39\n",
      "OpenSourceTechniques-6\n",
      "b'\\xa2\\x02\\x94V3c|{\\x88\\xe8\\xf9.\\x0e\\x9e\\xc9\\x9e\\xb37B\\x17\\t\\xa6B\\t\\xcbU\\x8b\\x7f d\\xc61Wc?X\\x8bY-,\\x86\\t&\\xac\\xaa\\xe7\\x13\\xbcsj\\xb51\\xe8$\\x9f\\x81\\xd8\\xcf\\x89o\\x7fi\\xf0\\xca\\xa0\\x9a\\x9f\\x17\\x8a\\xaf\\xb1\\xfd\\xd2[\\xb2\\xde\\xce\\xb7{\\xf1'\n",
      "Length: 80\n",
      "Embedding Efficiency: 3.9\n",
      "==============\n",
      "282When i have stuff to sell i.ll tell you\n",
      "customizedTechniques-2\n",
      "Yjgp k jcxg uvwhh vq ugnn k.nn vgnn aqw\n",
      "Length: 39\n",
      "customizedTechniques-3\n",
      "w",
      ">>",
      ">>>",
      ">L>",
      ">\n",
      "Length: 39\n",
      "customizedTechniques-5\n",
      "©º·Àp»pº³È·pÅÆÇ¸¸pÆÁpÅ·¾¾p»~¾¾pÆ·¾¾p±ÁÇ\n",
      "Length: 39\n",
      "OpenSourceTechniques-6\n",
      "b'3\\xb0\\xadh*\\xb90\\xb507\\xee\\xd9\\x85\\xe0\\x14\\xd0\\xd8y\\xae\\x9bk\\xf9\\xb7@\\xff\\xf4\\xad\\x7f\\xb1\\xd4\\xac\\xc8V~d\\xee\\xd6\\x9a\\xd9t\\xce\\x16t\\xef\\x02u\\xa6\\xf1\\x11W\\x0c\\xda\\xacK\\xb6\\x14kr\\xa5\\xc5E\\x88\\x01\\xd6\\xd65\\xeb\\xd5\\x13,dD\\x9f\\x83\\x9c\\xaf\\xc6\\xff\\xfd\\x9a'\n",
      "Length: 80\n",
      "Embedding Efficiency: 3.9\n",
      "==============\n",
      "283Did he just say somebody is named tampa\n",
      "customizedTechniques-2\n",
      "Fkf jg lwuv uca uqogdqfa ku pcogf vcorc\n",
      "Length: 39\n",
      "customizedTechniques-3\n",
      "d>",
      ">>>",
      ">>",
      ">\n",
      "Length: 39\n",
      "customizedTechniques-5\n",
      "»¶pº·p¼ÇÅÆpÅ³±pÅÁ¿·´Á¶±p»ÅpÀ³¿·¶pÆ³¿Â³\n",
      "Length: 39\n",
      "OpenSourceTechniques-6\n",
      "b'T\\x06\\x0cu{%\\xc1\\x88\\x88\\x08\\xae\"\\xbc\\xb8\\xbbP#\\x812\\xdf[\\xe6L\\x83\\x91U\\xb8Y\\x90\\x1b\\xeb~\\x05\\xcc\\x8c\\x18B\\xfb\\x9c+\\x87\\xc6dC\\x06O\\xfbu-\\xea;\\xba\\xdb\\xa4\\xeb\\xebK!\\xd0Xr\\xdb\\x95\\x7f\\xa0\\xf0\\xa4\\xa4\\xa9\\xfd\\xcd\\xdb\\xb6\\xcd\\xbaA\\t\\x07\"\\x08'\n",
      "Length: 80\n",
      "Embedding Efficiency: 3.9\n",
      "==============\n",
      "284Call me da, i am waiting for your call.\n",
      "customizedTechniques-2\n",
      "Ecnn og fc, k co yckvkpi hqt aqwt ecnn.\n",
      "Length: 39\n",
      "customizedTechniques-3\n",
      "c>",
      ">J>>>>>>L\n",
      "Length: 39\n",
      "customizedTechniques-5\n",
      "³¾¾p¿·p¶³|p»p³¿pÉ³»Æ»À¹p¸ÁÄp±ÁÇÄpµ³¾¾~\n",
      "Length: 39\n",
      "OpenSourceTechniques-6\n",
      "b'\\xbd\\x94\\xbe\\xdf\\xb9d\\xb5\\x91\\xee\\xf0\\x1dI\\x04\\xa4\\xceB\\x1f\\xbe\\x07\\x92(bV$\\x98\\x9f\\x0b\\x91\\xca\\x04\\x00\\x838_r\\xc2\\x8c\\xc1\\x9d \\xe8\\x06\\xb6\\xdf\\x06dg,Tf\\xa5e2\\xe5\\x84\\xc5\\x00\\xe4c\\xc1.\\x8e\\x8c\\xb1\\x99\\r\\xe3R2\\x12\\n@\\x98C\\xb5\\xcb\\xd5\\xdd\\\\\\x0b'\n",
      "Length: 80\n",
      "Embedding Efficiency: 3.9\n",
      "==============\n",
      "285Yes..gauti and sehwag out of odi series.\n",
      "customizedTechniques-2\n",
      "Agu..icwvk cpf ugjyci qwv qh qfk ugtkgu.\n",
      "Length: 40\n",
      "customizedTechniques-3\n",
      "_",
      "LL>>",
      ">>>>",
      "",
      "L\n",
      "Length: 40\n",
      "customizedTechniques-5\n",
      "·Å~~¹³ÇÆ»p³À¶pÅ·ºÉ³¹pÁÇÆpÁ¸pÁ¶»pÅ·Ä»·Å~\n",
      "Length: 40\n",
      "OpenSourceTechniques-6\n",
      "b\"\\xff\\xe5%\\xd6\\x9d\\x80\\x18\\x95\\xe2z/\\xb5^\\x92\\\\\\xa4J\\xda\\xb5\\xea\\x1e\\x0fn\\x831\\xddV\\xc1m\\t\\xee4\\x93[T\\xa5\\xe5\\xd3\\xbde\\x1e\\xf6\\x1biE\\xa9`i\\x01'\\xcf\\x03\\x90\\xfa\\xa7\\xaat\\xd47\\xfb\\x94\\xce\\x9d\\x9f~\\x05t.r\\xbb\\x94W\\xb2\\xd29\\xbd\\xe9\\x18v*\"\n",
      "Length: 80\n",
      "Embedding Efficiency: 4.0\n",
      "==============\n",
      "286What is the plural of the noun research?\n",
      "customizedTechniques-2\n",
      "Yjcv ku vjg rnwtcn qh vjg pqwp tgugctej?\n",
      "Length: 40\n",
      "customizedTechniques-3\n",
      "w>>",
      ">>>",
      ">>",
      "",
      "]\n",
      "Length: 40\n",
      "customizedTechniques-5\n",
      "©º³Æp»ÅpÆº·pÂ¾ÇÄ³¾pÁ¸pÆº·pÀÁÇÀpÄ·Å·³Äµº\n",
      "Length: 40\n",
      "OpenSourceTechniques-6\n",
      "b\"7\\xe6\\xdc|a\\xb1T\\xe3\\x03\\xeb\\xbb0go\\x01_\\xeb2<`;H'=\\xe2\\xa5I\\x02\\x8c\\x0f\\xb5y\\xd5\\xb7(\\xbd.\\xfe \\xdf\\x9c\\xd7,s\\xb1\\xb2\\xf1\\x0e\\xbeia\\xe8\\x88\\x13\\xa9\\xb20\\x1dNtrH>\\xc2\\xe2\\xb9&\\xee\\x0e\\xef*Z\\x97jK\\x8fIpO\\xd5\"\n",
      "Length: 80\n",
      "Embedding Efficiency: 4.0\n",
      "==============\n",
      "287ÌÏ predict wat time Ì_'ll finish buying?\n",
      "customizedTechniques-2\n",
      "LO rtgfkev ycv vkog L_'nn hkpkuj dwakpi?\n",
      "Length: 40\n",
      "customizedTechniques-3\n",
      "jm>",
      ">>",
      ">j}E>>]\n",
      "Length: 40\n",
      "customizedTechniques-5\n",
      "pÂÄ·¶»µÆpÉ³ÆpÆ»¿·p¯w¾¾p¸»À»Åºp´Ç±»À¹\n",
      "Length: 40\n",
      "OpenSourceTechniques-6\n",
      "b'\\x8e\\xe3y\\xb1f\\xdb\\xeb\\x08c|/\\xeb\\x89\\x0e\\xf7\\xcb\\x1f\\tL_\\xb8f*>\\xa0\\x8a\\xef#\\xe6#8[\\x9eE\\xbc&\\x90\\xed\\xfa.BQ\\xe8\\x14\\xfb\\x1e\\xce\\x15\\x8b\\x9c\\xdc\\xcf\\x05\\xb7\\x12\\xf0\\x08>\\xa5I9S\\x1d\\xde\\xd8\\xbe\\xec\\xab\\x93\\xe9\\xcb*W\\x0ew\\x02L\\x81\\xf7s'\n",
      "Length: 80\n",
      "Embedding Efficiency: 4.0\n",
      "==============\n",
      "288Found it, ENC  &lt;#&gt; , where you at?\n",
      "customizedTechniques-2\n",
      "Hqwpf kv, GPE  &nv;#&iv; , yjgtg aqw cv?\n",
      "Length: 40\n",
      "customizedTechniques-3\n",
      "f>J>enc>>DYADY>J>",
      "",
      ">>]\n",
      "Length: 40\n",
      "customizedTechniques-5\n",
      "ÁÇÀ¶p»Æ|p ppv¾Æsv¹Æp|pÉº·Ä·p±ÁÇp³Æ\n",
      "Length: 40\n",
      "OpenSourceTechniques-6\n",
      "b'@\\x92n\\xb2\\xcf\\xe3_\\xb8\\xc7Tm]\\xd6$\\x90\\x05\\xa9\\xcf\\x8d\\xd6\\xad\\x0f\\x1bIE5\\xb2\\xe2DF}\\xfa\\xeag\\xa25\\x06\\x91\\xcf\\xec\\x04\\x8d\\x9d#\\xf1`\\x14\\xb9G*\\xe0\\xc5SK!c\\xf1\\x95\\xff\\x8dBC\\xc9\\x89.M,P\\xc3&:\\x16n\\xf2\\xf6\\x193.\\x1aP'\n",
      "Length: 80\n",
      "Embedding Efficiency: 4.0\n",
      "==============\n",
      "289Dear reached railway. What happen to you\n",
      "customizedTechniques-2\n",
      "Fgct tgcejgf tcknyca. Yjcv jcrrgp vq aqw\n",
      "Length: 40\n",
      "customizedTechniques-3\n",
      "d",
      ">",
      "",
      ">L>w>",
      ">>\n",
      "Length: 40\n",
      "customizedTechniques-5\n",
      "·³ÄpÄ·³µº·¶pÄ³»¾É³±~p©º³Æpº³ÂÂ·ÀpÆÁp±ÁÇ\n",
      "Length: 40\n",
      "OpenSourceTechniques-6\n",
      "b'\\xa6xV6\\xe1\\xf8\\x92\\x81\\xbf\\x8b\\x0c\\xee#\\x08t@\\xc1\\xa3\\x05\"]A{.4\\r\\xecL\\xe5\\xe313\\xc1}\\x11\\xf4-\\xb5\\xca^\\x9d^\\xf8\\x99i\\xd8\\x83\\x87\\xb8\\x98\\xf0\\xb3{\\nw\\x9f\\x95\\xc5g\\xff\\x82\\x1f\\x11\\xdeI\\x96\\xa0\\x89\\xf1\\x9a+|\\xd6;\\x9d\\x11\\xbc\\x18\\x7f+'\n",
      "Length: 80\n",
      "Embedding Efficiency: 4.0\n",
      "==============\n",
      "290Lolnice. I went from a fish to ..water.?\n",
      "customizedTechniques-2\n",
      "Nqnpkeg. K ygpv htqo c hkuj vq ..ycvgt.?\n",
      "Length: 40\n",
      "customizedTechniques-3\n",
      "l",
      "L>i>",
      ">>>>>LL",
      "L]\n",
      "Length: 40\n",
      "customizedTechniques-5\n",
      "Á¾À»µ·~ppÉ·ÀÆp¸ÄÁ¿p³p¸»ÅºpÆÁp~~É³Æ·Ä~\n",
      "Length: 40\n",
      "OpenSourceTechniques-6\n",
      "b'\\x04\\xd1\\xd32V&\\x0c\\x92\\x05:\\x9cueT\\x03\\x01@\\x85\\xc8\\x8e\\xf6pr\\xbaK\\xcaU\\x8b\\xa3w\\x9c\\x83\\x7f\\x15\\x89\\xaa\\x14*B\\xf37\\xf00\\xbbEm\\xde3\\x94\\x87!\\xd7\\x9d\\x14\\xcb\\xd6\\x80.\\xd0\\x02\\x89\\xc3\\xc6\\x8b\\xf1\\x00\\xaf?\\xfd\\x01I\\xd5\\xc6\\x84\\x80\\xbe\\xe0s\\x86e'\n",
      "Length: 80\n",
      "Embedding Efficiency: 4.0\n",
      "==============\n",
      "291Having lunch:)you are not in online?why?\n",
      "customizedTechniques-2\n",
      "Jcxkpi nwpej:)aqw ctg pqv kp qpnkpg?yja?\n",
      "Length: 40\n",
      "customizedTechniques-3\n",
      "h>XG>",
      ">>>",
      "]]\n",
      "Length: 40\n",
      "customizedTechniques-5\n",
      "³È»À¹p¾ÇÀµºy±ÁÇp³Ä·pÀÁÆp»ÀpÁÀ¾»À·Éº±\n",
      "Length: 40\n",
      "OpenSourceTechniques-6\n",
      "b'`\\xe3\\x8d\\x97\\xa2\\x83\\x93\\xef>\\xde\\xb3\\x8a\\xfbL\\x12E\\xea\\n\\x830\\x16M\\xd9)`\\xc81\\xaa\\xcf9\\x83\\\\c\\xf1\\xc7\\xb1\\x9cP\\x8bc\\xec\\xfe\\xbc\\x0b\\xc7\\x80\\x88\\nS\\xbf\\xaf\\xba\\xf2<D\\x0eE\\xeb6\\xbc\\xbd0\\x947\\x04\\x16%\\xce\\xa0t\\xdf\\x1f0\\xd0q\\xaa\\xf8\\xbe\\x91('\n",
      "Length: 80\n",
      "Embedding Efficiency: 4.0\n",
      "==============\n",
      "292I know that my friend already told that.\n",
      "customizedTechniques-2\n",
      "K mpqy vjcv oa htkgpf cntgcfa vqnf vjcv.\n",
      "Length: 40\n",
      "customizedTechniques-3\n",
      "i>>>>",
      ">",
      ">>L\n",
      "Length: 40\n",
      "customizedTechniques-5\n",
      "p½ÀÁÉpÆº³Æp¿±p¸Ä»·À¶p³¾Ä·³¶±pÆÁ¾¶pÆº³Æ~\n",
      "Length: 40\n",
      "OpenSourceTechniques-6\n",
      "b'g|\\xd1\\x80\\xaf7\\x7ff,\\x8aE\\x13R\\xa0\\xab\\x11\\xde\\xfc\\t\\n&\\x81@2\\x15?g\\xea\\xd5e\\xc2M\\xf6\\xd2\\x90D\\x0f\\xff\\xc5\\x06)\\xcc\\x02\\x1e\\x8eb,{u\\x93<\\xd6\\xe9\\xed\\t\\xcdd]u\\xb1\\xf7\\xab\\x0f\\xf7\\xfa\\xb7t\\x83I\\xf5\\xc2L\\xb6\\xbc\\xbe\\x92\\xa5U\\x9f\\t'\n",
      "Length: 80\n",
      "Embedding Efficiency: 4.0\n",
      "==============\n",
      "293K..u also dont msg or reply to his msg..\n",
      "customizedTechniques-2\n",
      "M..w cnuq fqpv oui qt tgrna vq jku oui..\n",
      "Length: 40\n",
      "customizedTechniques-3\n",
      "kLL>>>>>",
      ">>>LL\n",
      "Length: 40\n",
      "customizedTechniques-5\n",
      "~~Çp³¾ÅÁp¶ÁÀÆp¿Å¹pÁÄpÄ·Â¾±pÆÁpº»Åp¿Å¹~~\n",
      "Length: 40\n",
      "OpenSourceTechniques-6\n",
      "b'\\xebPKZ\\x16\\x9f\\x00I\\xcb\\x8b\\xaa\\x844\\xe2\\xd0\\x1e\\x8f\\x9f/\\x98B\\x83\\xbd\\xdd\\x8a\\\\\\xd5U}\\xb8\\x8a\\x16\\xce\\x12\\x95!x\\n\\x88/.\\xe7\\x1d\\x02\\xc6V\\xdf?/6d\\x9e\\xa1\\xffw\\x0e\\xb3 \\xbbb\\xe1\\x95wN\\xfd\\n\"4\\xc9u\\x94r\\x98\\xa9\\x18\\xe1\\xedi[\\x00'\n",
      "Length: 80\n",
      "Embedding Efficiency: 4.0\n",
      "==============\n",
      "294Ya even those cookies have jelly on them\n",
      "customizedTechniques-2\n",
      "Ac gxgp vjqug eqqmkgu jcxg lgnna qp vjgo\n",
      "Length: 40\n",
      "customizedTechniques-3\n",
      "_>",
      "",
      ">",
      ">",
      ">",
      ">",
      ">>",
      "\n",
      "Length: 40\n",
      "customizedTechniques-5\n",
      "³p·È·ÀpÆºÁÅ·pµÁÁ½»·Åpº³È·p¼·¾¾±pÁÀpÆº·¿\n",
      "Length: 40\n",
      "OpenSourceTechniques-6\n",
      "b\"p\\xcc]\\xf3c=P\\xf5\\xe0\\x8e\\xc4\\x9c\\x1d\\xe3\\xe0\\xfc\\x05'1\\x9cW(\\xe9\\xf9h\\x85\\xd2M1\\xcab\\x9c\\xde<\\x95G6\\x9c\\xd5\\x1d\\xdc\\xdcFB\\xc5\\xe4\\t\\xec\\xb9Yr]&\\x9f\\x85\\xdb O\\xd0'\\xc6\\x8b\\xf0Q\\x85C[7\\xf3\\xc7\\xe1\\xd5\\xf9\\x88\\x0c%\\x16\\x1f\\xc8v\"\n",
      "Length: 80\n",
      "Embedding Efficiency: 4.0\n",
      "==============\n",
      "295Dunno he jus say go lido. Same time 930.\n",
      "customizedTechniques-2\n",
      "Fwppq jg lwu uca iq nkfq. Ucog vkog 930.\n",
      "Length: 40\n",
      "customizedTechniques-3\n",
      "d>",
      ">>>>L>s",
      ">",
      ">WQNL\n",
      "Length: 40\n",
      "customizedTechniques-5\n",
      "ÇÀÀÁpº·p¼ÇÅpÅ³±p¹Áp¾»¶Á~p¥³¿·pÆ»¿·p~\n",
      "Length: 40\n",
      "OpenSourceTechniques-6\n",
      "b'\\x01\\xcc@\\xb8c@E\\xd6\\x0c9gX\\x86\\x14K\\x12%t\\xae\\xdf\\x95\\xfc\\xa2\\xf5\\x1cP\\xbd\\xa5\\xc1\\x90h\\xf10h\\xd8\\x95\\xde\\xaa\\xfc\\xed\\x0b\\xcbH,\\xec-Gk\\x05B\\x93\\xf3K\\x82\\xfc\\xb0s\"\\xbb\\xf5\\xfew/g\\xacL\\xf3\\x08\\x10\\x9e\\t%\\xc3%\\xb1[I\\xa2\\x88\\xd8'\n",
      "Length: 80\n",
      "Embedding Efficiency: 4.0\n",
      "==============\n",
      "296Is that seriously how you spell his name?\n",
      "customizedTechniques-2\n",
      "Ku vjcv ugtkqwuna jqy aqw urgnn jku pcog?\n",
      "Length: 41\n",
      "customizedTechniques-3\n",
      "i>>",
      ">>>",
      ">>",
      "]\n",
      "Length: 41\n",
      "customizedTechniques-5\n",
      "ÅpÆº³ÆpÅ·Ä»ÁÇÅ¾±pºÁÉp±ÁÇpÅÂ·¾¾pº»ÅpÀ³¿·\n",
      "Length: 41\n",
      "OpenSourceTechniques-6\n",
      "b'VW\\x89\\xac\\x9d_\\xe59\\xf6\\xb0\\xf9\\x88\\xde\\xaa\\x1f\\x0c\\xaa\\xf7\\xa7T\\x01>H\\x19u\\xf5:F\\x8f\\xd2y@\\x81m=\\xf5=<\\xc1-xR\\x8a\\xa0\\xa86\\xe4\\xdf\\x0b\\x12r\\xae4x\\xfc\\xbdd\\x86|\\xad\\x043\\xf4\\x94\\xfa\\xe6\\xd01n\\xbf\\xb1R\\xcb-\\xbd\\x12%\\x02~\\x93'\n",
      "Length: 80\n",
      "Embedding Efficiency: 4.1\n",
      "==============\n",
      "297Ela kano.,il download, come wen ur free..\n",
      "customizedTechniques-2\n",
      "Gnc mcpq.,kn fqypnqcf, eqog ygp wt htgg..\n",
      "Length: 41\n",
      "customizedTechniques-3\n",
      "e>LJ>J>",
      ">",
      ">>",
      "",
      "LL\n",
      "Length: 41\n",
      "customizedTechniques-5\n",
      "¾³p½³ÀÁ~|»¾p¶ÁÉÀ¾Á³¶|pµÁ¿·pÉ·ÀpÇÄp¸Ä··~~\n",
      "Length: 41\n",
      "OpenSourceTechniques-6\n",
      "b'\\xf7\\xa6.\\xb1\\x0c&\\xfe^\\xae\\x9f\\x819n\\x85\\xf1\\xad\\xfax\\xc4C2b\\x85\\xbe\\x11\\x8d|1\\x0eF-7\\xeej\\xd7\\xfe\\xe8~h\\xa2j\\x90\\xb5\\xe4\\x82\\x9d\\x85\\xee4\\x14\\xef\\xdc\\xe7\\x05\\xb5\\xf5\\xf8.\\x02\\xe1\\xef$\\xafA\\xcf\\xe8,\\xd3\\xd4\\x05\\xd1\\xd64\\xfd\\x05\\xccP\\x0e&q'\n",
      "Length: 80\n",
      "Embedding Efficiency: 4.1\n",
      "==============\n",
      "298Easy ah?sen got selected means its good..\n",
      "customizedTechniques-2\n",
      "Gcua cj?ugp iqv ugngevgf ogcpu kvu iqqf..\n",
      "Length: 41\n",
      "customizedTechniques-3\n",
      "e>]",
      ">>",
      "",
      "",
      ">",
      ">>LL\n",
      "Length: 41\n",
      "customizedTechniques-5\n",
      "³Å±p³ºÅ·Àp¹ÁÆpÅ·¾·µÆ·¶p¿·³ÀÅp»ÆÅp¹ÁÁ¶~~\n",
      "Length: 41\n",
      "OpenSourceTechniques-6\n",
      "b'\\xa85\\x9d\\xadz\\xad%\\xcb<7\\xdb\\xb3v\\xd4\\xf6\\x0c\\x99\\x82\\xfe\\xe0\\xb4\\xbde_\\xacV\\xe6\\xf8\\xd3\\xac\\xa13Lx\\xee\\xbaS\\x1fI\\xfbm\\xb8?\\x8e\\xdaR\\xd4\\x99\\xcc=\\xb9\\xacS\\xef!\\xa0\\x90N\\xf2\\x99\\x862\\xb9\\xa7#KH\\xe1s\\xfdRk\\xbfO\\xa1\\xbd2_t8'\n",
      "Length: 80\n",
      "Embedding Efficiency: 4.1\n",
      "==============\n",
      "299You made my day. Do have a great day too.\n",
      "customizedTechniques-2\n",
      "Aqw ocfg oa fca. Fq jcxg c itgcv fca vqq.\n",
      "Length: 41\n",
      "customizedTechniques-3\n",
      "_>",
      ">>L>d>",
      ">>",
      ">>L\n",
      "Length: 41\n",
      "customizedTechniques-5\n",
      "ÁÇp¿³¶·p¿±p¶³±~pÁpº³È·p³p¹Ä·³Æp¶³±pÆÁÁ~\n",
      "Length: 41\n",
      "OpenSourceTechniques-6\n",
      "b'\\xd7%\\x94\\x974V\\x93j\\xb2hRg3x\\xdb\\x00P\\xbb\\xf8\\x93\\xc4\\xc3\\xe7\\x87\\x89?\\x0c\\x12\\xcd\\xda*>U\\xab\\xa4y\\xe9v\\xb8\\x89\\xadr\\x07\\x96z\\x18\\xac\\x84\\x88~R\\x05ZG&\\xee\\xef{\\xd4\\xc0\\xbc\\x13\\x1fY\\xfe,{|8\\x86\\xc5\\xa2\\xef}\\xe1\\xc5D\\xf3\\r\\x8f'\n",
      "Length: 80\n",
      "Embedding Efficiency: 4.1\n",
      "==============\n",
      "300U calling me right? Call my hand phone...\n",
      "customizedTechniques-2\n",
      "W ecnnkpi og tkijv? Ecnn oa jcpf rjqpg...\n",
      "Length: 41\n",
      "customizedTechniques-3\n",
      "u>>",
      ">]>c>>>",
      "LLL\n",
      "Length: 41\n",
      "customizedTechniques-5\n",
      "§pµ³¾¾»À¹p¿·pÄ»¹ºÆp³¾¾p¿±pº³À¶pÂºÁÀ·~~~\n",
      "Length: 41\n",
      "OpenSourceTechniques-6\n",
      "b'\\xb0\\x873A\\x9f\\xb0\\x05i\\xcb\\xe9\\xe3\\x81\\x1f\\x0eu\\xc7W\\xed-\\xc43*\\x1e8\\xab=\\x9e\\xcd&\\x1a\\xdcDH\\xa6\\x1f1\\x90\\x0b@\\x19?s\\xe4\\xc7\\xc8\\xfb\"Q-\\xa6\\x18\\xb3\\x19\\x87=ig\\x9e\\xda4\\xd8u7\\x12k\\xa4\\x94\\xdc\\x12\\xd7:\\x82\\x10X\\xb7\\x97\\x8e6-k'\n",
      "Length: 80\n",
      "Embedding Efficiency: 4.1\n",
      "==============\n",
      "301Hey i will be late ah... Meet you at 945+\n",
      "customizedTechniques-2\n",
      "Jga k yknn dg ncvg cj... Oggv aqw cv 945+\n",
      "Length: 41\n",
      "customizedTechniques-3\n",
      "h",
      ">>>",
      ">",
      ">LLL>m",
      "",
      ">>>WRSI\n",
      "Length: 41\n",
      "customizedTechniques-5\n",
      "·±p»pÉ»¾¾p´·p¾³Æ·p³º~~~p··Æp±ÁÇp³Æp",
      "{\n",
      "Length: 41\n",
      "OpenSourceTechniques-6\n",
      "b'F\\xa2\\x07\\xdb\\x81\\x1d\\xe17U}^\\xe9\\xb3\\xef\\xadk\\xfc:b&\\xa6a.D\\xba\\xf8\\xead\\x05\\xc5\\xe4\\xeaO\\xd6I\\xd2\\xd0(\\xe4\\x98\\xff/\\x98\\xcb4\\x1c\\xb9\\xb9\\r\\x1bF#(\\x84\\xf5z\\x00\\x8d\\x99\\x9d3\\xc7\\x82\\xc2\\xb7\\xd1o*5y2!\\x02\\x18|H\\x0e>\\x14\\xb3'\n",
      "Length: 80\n",
      "Embedding Efficiency: 4.1\n",
      "==============\n",
      "302No he didn't. Spring is coming early yay!\n",
      "customizedTechniques-2\n",
      "Pq jg fkfp'v. Urtkpi ku eqokpi gctna aca!\n",
      "Length: 41\n",
      "customizedTechniques-3\n",
      "n>",
      ">EL>s>>>",
      ">?\n",
      "Length: 41\n",
      "customizedTechniques-5\n",
      " Ápº·p¶»¶ÀwÆ~p¥ÂÄ»À¹p»ÅpµÁ¿»À¹p·³Ä¾±p±³±q\n",
      "Length: 41\n",
      "OpenSourceTechniques-6\n",
      "b'_\\x08A~\\xe2U\\xee\\xe3\\x1c\\x92Z\\xa8\\xc2\\x19M\\x86\\xa6\\xe5\\x01N\\x91\\xe34\\x06\\xe2\\x08\\xee\\xdbG\\xe3\\x1aj_<\\x8a\\xd2\\xe9\\x80\\x1d\\x1a$\\x1eRG\\xb9\\x03\\xf7\\x8c\\xb3\\x15f\\\\\\x8f\\x89\\t\\\\)\\x87\\xbe\\x82\\x9d\\xf2\\n\\xed\\xedg\\xff|<\\xffa!2\\x1d\\xae\\xb2:B^\\x16'\n",
      "Length: 80\n",
      "Embedding Efficiency: 4.1\n",
      "==============\n",
      "303Filthy stories and GIRLS waiting for your\n",
      "customizedTechniques-2\n",
      "Hknvja uvqtkgu cpf IKTNU yckvkpi hqt aqwt\n",
      "Length: 41\n",
      "customizedTechniques-3\n",
      "f>",
      ">>girls>>>\n",
      "Length: 41\n",
      "customizedTechniques-5\n",
      "»¾Æº±pÅÆÁÄ»·Åp³À¶p¤¥pÉ³»Æ»À¹p¸ÁÄp±ÁÇÄ\n",
      "Length: 41\n",
      "OpenSourceTechniques-6\n",
      "b'b|\\xef\\x9bN\\x8d\\x83\\xa2\\x18\\x14\\x1a,\\xc1\\xed\\xb5hZ+JF\\xf1\\x19\\xf8\\n\\xe1$\\xc8\\xf6\\x7f\\xb1\\x85\\x85\\x9f\\x92\\xa6j\\xb2JF\\xe5\\xd3N\\x1a\\xafbcHA\\xef\\x0b4\\xa4\\x93\\xc9\\x1f\\xf6k\\xecV\\x8b\\x01\\xfe\\xb7\\xac1\\x02\\xcb\\xeb~\\xe9\\xcd\\xf9\\xe1\\x0e\\xaf\\xa5\\xb7\\xe5?\\x87'\n",
      "Length: 80\n",
      "Embedding Efficiency: 4.1\n",
      "==============\n",
      "304Are you willing to go for aptitude class.\n",
      "customizedTechniques-2\n",
      "Ctg aqw yknnkpi vq iq hqt crvkvwfg encuu.\n",
      "Length: 41\n",
      "customizedTechniques-3\n",
      "a",
      ">>>>>>",
      ">L\n",
      "Length: 41\n",
      "customizedTechniques-5\n",
      "Ä·p±ÁÇpÉ»¾¾»À¹pÆÁp¹Áp¸ÁÄp³ÂÆ»ÆÇ¶·pµ¾³ÅÅ~\n",
      "Length: 41\n",
      "OpenSourceTechniques-6\n",
      "b'\\xbc\\x8b\\xc9\\x85q\\xd0\\xf9\\x12\\x1f?\\x1a\\x85\\xa7\\xda\\xda\\x0f\\xcd\\x8a\\xb9\\x03\\x8b\\x18\\xc7\\xac\\x11(\\x19Y\\xabR3\\x9a-\\xb6\\xf7\\xf1\\x88\\xed\\x8fOQ\\xd7.\\x83g\\x93_\\xa7\\xbeA?=\\xe7\\xa0\\x14\\xfb\\xfb+\\x8d|4*cVi//@\\xe7\\x9c\\x0c\\xad\\xe6\\x1a\\xe8Y\\xbc\\x8d\\x04k'\n",
      "Length: 80\n",
      "Embedding Efficiency: 4.1\n",
      "==============\n",
      "305Aight will do, thanks again for comin out\n",
      "customizedTechniques-2\n",
      "Ckijv yknn fq, vjcpmu cickp hqt eqokp qwv\n",
      "Length: 41\n",
      "customizedTechniques-3\n",
      "a>>J>>>>>\n",
      "Length: 41\n",
      "customizedTechniques-5\n",
      "»¹ºÆpÉ»¾¾p¶Á|pÆº³À½Åp³¹³»Àp¸ÁÄpµÁ¿»ÀpÁÇÆ\n",
      "Length: 41\n",
      "OpenSourceTechniques-6\n",
      "b\"\\xa5s\\x8e\\xb9\\x11]nC\\xf0\\xd8\\xe7\\xa4B\\xea8\\xbb\\x11{\\x0e\\x1a\\x83xk\\xcd\\x16v{pT\\x97\\x13\\x1co\\xb47\\xd8N\\xffe\\xe6\\xde\\xdb\\xf5*\\xc8\\xa7\\x82\\xa2\\xfa'\\xfb\\xde\\x9b\\x99\\x9e\\\\\\xae\\x98\\xdaUd\\xa3\\xc9\\xca\\x9e\\x05UX\\xec\\xe9\\xc8\\x93\\xf5\\xa6\\xc0vK!\\x95\\xbe\"\n",
      "Length: 80\n",
      "Embedding Efficiency: 4.1\n",
      "==============\n",
      "306K..k:)where are you?how did you performed?\n",
      "customizedTechniques-2\n",
      "M..m:)yjgtg ctg aqw?jqy fkf aqw rgthqtogf?\n",
      "Length: 42\n",
      "customizedTechniques-3\n",
      "kLLXG",
      "",
      ">",
      ">]>>>",
      "",
      "]\n",
      "Length: 42\n",
      "customizedTechniques-5\n",
      "~~½yÉº·Ä·p³Ä·p±ÁÇºÁÉp¶»¶p±ÁÇpÂ·Ä¸ÁÄ¿·¶\n",
      "Length: 42\n",
      "OpenSourceTechniques-6\n",
      "b\"\\xfb\\x82x\\xa5\\xe1\\xdc$\\xf0i\\xccgv\\xb9\\xbf\\x18\\xdd\\x07d'*\\xb5H*\\xb5\\x80\\xcdh\\xa8l\\xa8\\xca\\xc9\\xf5r\\xb1\\xf2\\x0b|O<\\xea\\x1c\\xcaB\\xf7\\x05\\xaah\\xaf\\xbf$J3!\\xbc\\xf1\\xd6g9U1\\xa8C\\x1b\\xa8G\\t22Q\\x87\\xb2R\\x81:\\xcc\\x14\\xe7\\x8bL\"\n",
      "Length: 80\n",
      "Embedding Efficiency: 4.2\n",
      "==============\n",
      "307Does not operate after  &lt;#&gt;  or what\n",
      "customizedTechniques-2\n",
      "Fqgu pqv qrgtcvg chvgt  &nv;#&iv;  qt yjcv\n",
      "Length: 42\n",
      "customizedTechniques-3\n",
      "d",
      ">>",
      "",
      ">",
      ">>DYADY>>>\n",
      "Length: 42\n",
      "customizedTechniques-5\n",
      "Á·ÅpÀÁÆpÁÂ·Ä³Æ·p³¸Æ·Äppv¾Æsv¹ÆppÁÄpÉº³Æ\n",
      "Length: 42\n",
      "OpenSourceTechniques-6\n",
      "b'm\\xf62\\xbe\\x9a\\xbd\\x00\\xf3\\x18J{\\x1a\\xf5H%k\\x13\\xb0\\x10\\xd3f\\x14\\x086\\xc7>\\x948\\xfd\\xca\\x9d\\xd0\\x12j\\xe9\\xa2\\x08\\xba,\\x8e\\x92\\x95\\xa8\\xec\\xae\\xb0\\x86F\\xa2\\x85\\x06\\xe3\\xd3\\x07\\x14J\\xc3\\xf6\\xcb\\xeasL\\x0e\\xe4\\xbcM\\x14\\xf9b\\x195\\x89)\\x02R\\xb8\\x16:\\x94!'\n",
      "Length: 80\n",
      "Embedding Efficiency: 4.2\n",
      "==============\n",
      "308I'm really not up to it still tonight babe\n",
      "customizedTechniques-2\n",
      "K'o tgcnna pqv wr vq kv uvknn vqpkijv dcdg\n",
      "Length: 42\n",
      "customizedTechniques-3\n",
      "iE>",
      ">>>>>>>",
      "\n",
      "Length: 42\n",
      "customizedTechniques-5\n",
      "w¿pÄ·³¾¾±pÀÁÆpÇÂpÆÁp»ÆpÅÆ»¾¾pÆÁÀ»¹ºÆp´³´·\n",
      "Length: 42\n",
      "OpenSourceTechniques-6\n",
      "b'\\xd2\\xec\\x9a\\x10\\xbb=\\xa4_<5Z\\x10 \\xa0\\xfd\\xaf 6\\xc0\\xfb\\t\\x1a6\\xcf8+\\x80%<7\\xca\\xc9\\x872\\x95\\xd3\\x93#\\xc1\\xcc\\xda\\xb8|~\\xe47\\xcd=>\\x7f\\x90\\xc4U\\xc0\\xee\\x17\\xc2\\xaf\\\\\\xa1\\x12|\\x83\\x82\\xb5E\\x8b\\\\\\xacZ\\x06\\xee\\x08\\x18\\xdf\\x14\\xfe\\xe4p{'\n",
      "Length: 80\n",
      "Embedding Efficiency: 4.2\n",
      "==============\n",
      "309I know you are. Can you pls open the back?\n",
      "customizedTechniques-2\n",
      "K mpqy aqw ctg. Ecp aqw rnu qrgp vjg dcem?\n",
      "Length: 42\n",
      "customizedTechniques-3\n",
      "i>>>",
      "L>c>>>",
      ">",
      ">]\n",
      "Length: 42\n",
      "customizedTechniques-5\n",
      "p½ÀÁÉp±ÁÇp³Ä·~p³Àp±ÁÇpÂ¾ÅpÁÂ·ÀpÆº·p´³µ½\n",
      "Length: 42\n",
      "OpenSourceTechniques-6\n",
      "b'\\xbbU@\\xf4\\x1c\\x1b\\xcc\\x07\\xff\\xda[\\x84\\x00\\x11\\x1b\\xdeA\\x9f\\xbf)\\xc6\\x15&\\x85\\x9f\\xe1\\x0c\\x91\\x1b\\x06\\xb4F\\x1a\\xa3\\xf6\\xa3\\xe4n\\xee\\xdf^\\x9b\\x05\\x94\\x95\\xd1\\nM\\xa2\\xa4\\xf0\\x9f\\x1e\\x9a6\\xbd\\x8b\\xc9\\x8f\\x03L\\xcc]-\\xe5\\xdfz\\xc6\\x0b@YX\\x0f2\\xcc\\xcc\\x86\\xde\\x02\\xc2'\n",
      "Length: 80\n",
      "Embedding Efficiency: 4.2\n",
      "==============\n",
      "310Hey leave it. not a big deal:-) take care.\n",
      "customizedTechniques-2\n",
      "Jga ngcxg kv. pqv c dki fgcn:-) vcmg ectg.\n",
      "Length: 42\n",
      "customizedTechniques-3\n",
      "h",
      ">",
      "",
      ">L>>>>",
      "XKG>",
      ">",
      "L\n",
      "Length: 42\n",
      "customizedTechniques-5\n",
      "·±p¾·³È·p»Æ~pÀÁÆp³p´»¹p¶·³¾}ypÆ³½·pµ³Ä·~\n",
      "Length: 42\n",
      "OpenSourceTechniques-6\n",
      "b'\\xae\\xcc\\xb6\\xb3({\\xe2\\xd7\\xfa\\x17E\\x8cL\\xe0\\xfe\\x00\\x80\\x14\\xc9\\xc3\\xe1\\r\\xcbJy\\x97\\xf4\\x84S\\xf7\\xa9\\xfb\\x9e\\x96\\x13\\x04\\x1a\\xb6\\x84\\xf47W\\xa7G\\x80(\\xee\\xe2\\xfe\\xa0\\x8d\\xce\\xf8\\xf9\\xa9\\xbdj[\\xe2\\xb8\\xda\\x0c\\x9a*\\x8f0\\x9d`o\\xfc\\xe74\\xd4w\\x93\\xcdv\\x81\\xb1<'\n",
      "Length: 80\n",
      "Embedding Efficiency: 4.2\n",
      "==============\n",
      "311LOL ... Have you made plans for new years?\n",
      "customizedTechniques-2\n",
      "NQN ... Jcxg aqw ocfg rncpu hqt pgy agctu?\n",
      "Length: 42\n",
      "customizedTechniques-3\n",
      "lol>LLL>h",
      ">>",
      ">>>",
      ">",
      "]\n",
      "Length: 42\n",
      "customizedTechniques-5\n",
      "¡p~~~p³È·p±ÁÇp¿³¶·pÂ¾³ÀÅp¸ÁÄpÀ·Ép±·³ÄÅ\n",
      "Length: 42\n",
      "OpenSourceTechniques-6\n",
      "b\"\\x03\\xa0tW;\\xbb\\xe9\\xc9\\xba\\xc5\\xa6\\xd0\\xa6\\x08\\x17\\x1f\\x19\\xb9\\xc6\\xfcn\\xd8\\n\\x96\\xda\\xdb:'N\\xc0\\xd0H\\xa2\\xd1(rM\\x8a\\x93\\x8d;P'F\\x9d\\xe3\\xc5\\x82~u/7\\xc8\\x9d\\x07\\xc5\\xd5\\xc0\\xb7\\xafx\\xbdkTK\\xa1c}m\\xc0 \\xc7\\xef\\x1f\\x81\\x14\\xb7cT\\xa0\"\n",
      "Length: 80\n",
      "Embedding Efficiency: 4.2\n",
      "==============\n",
      "312Yes! How is a pretty lady like you single?\n",
      "customizedTechniques-2\n",
      "Agu! Jqy ku c rtgvva ncfa nkmg aqw ukping?\n",
      "Length: 42\n",
      "customizedTechniques-3\n",
      "_",
      "?>h>>>",
      ">>",
      ">>",
      "]\n",
      "Length: 42\n",
      "customizedTechniques-5\n",
      "·ÅqpÁÉp»Åp³pÂÄ·ÆÆ±p¾³¶±p¾»½·p±ÁÇpÅ»À¹¾·\n",
      "Length: 42\n",
      "OpenSourceTechniques-6\n",
      "b'*\\xeb8\\xd6r\\xffjv\\x0b\\x9b\\x9f\\xae\\xd5>\\xe7\\xe7\\xb2m\\x82%7\\x1c\\xa4\\xbb\\x1d\\xd8(k[\\xc5e\\xa2\\xa1X*\\xc9\\x97\\xd7L\\xc9\\x84D.\\x04\\xc4\\xac\\r\\x15\\xc7\\x93=\\x19PfQ=8_\\xb7\\x0e\\xa3\\x87\\xf9P\\xbb\\x11\\x00\\x9e\\xf45\\xe1\\xe9\\xd6\\xfcBO.\\xabV>'\n",
      "Length: 80\n",
      "Embedding Efficiency: 4.2\n",
      "==============\n",
      "313SMS. ac sun0819 posts HELLO:\\You seem cool\n",
      "customizedTechniques-2\n",
      "UOU. ce uwp0819 rquvu JGNNQ:\\Aqw uggo eqqn\n",
      "Length: 42\n",
      "customizedTechniques-3\n",
      "smsL>>NVOW>>helloXz_>",
      "",
      ">\n",
      "Length: 42\n",
      "customizedTechniques-5\n",
      "¥¥~p³µpÅÇÀpÂÁÅÆÅp¡¬ÁÇpÅ··¿pµÁÁ¾\n",
      "Length: 42\n",
      "OpenSourceTechniques-6\n",
      "b'\\xe4q\\xcd\\x17\\xd6\\x94\"\\x82[W*2\\x9b#\\xa6\\xb4\\xcfe\\xc5+#0\\xcd\\xe03\\x1d\\xda\\x0e$6Z\\'\\xbd\\xf2\\x08T9\\xd7\\x94\\xfc\\xc4\\xc2\\x17\\xb7\\xe1\\xe7\\x0bq\\xfe\\xfbcB0\\xea5-\\xdc\\xac\\x8e\\x04\\xaa\\xa18\\'\\xa2b\\x82\\x94Z\\xc9\\xa7\\xd62\\xf9h\\xd32\\xec^O'\n",
      "Length: 80\n",
      "Embedding Efficiency: 4.2\n",
      "==============\n",
      "314Thanks love. But am i doing torch or bold.\n",
      "customizedTechniques-2\n",
      "Vjcpmu nqxg. Dwv co k fqkpi vqtej qt dqnf.\n",
      "Length: 42\n",
      "customizedTechniques-3\n",
      "t>",
      "L>b>>>>>>L\n",
      "Length: 42\n",
      "customizedTechniques-5\n",
      "¦º³À½Åp¾ÁÈ·~pÇÆp³¿p»p¶Á»À¹pÆÁÄµºpÁÄp´Á¾¶~\n",
      "Length: 42\n",
      "OpenSourceTechniques-6\n"
     ]
    },
    {
     "name": "stdout",
     "output_type": "stream",
     "text": [
      "b'F\\xfc\\x18z\\xe93>\\x94\\xd89\\xa05\\xf5(\\xb1~L*0\\xe6\\xc9\\\\\\xfd\\x8c\\xaaJM\\xcf\\x8bQ\\xba\\x85u\\xbf\\xdf\\x142<u\\n\\x02o\\xd9\\x87\\xe8\\xbc\\xd98\\x82\\xbf\\xa8\\xb4>\\xd6\\xde\"\\x9b\\xe6\\xfa\\x98\\x12\\x18A\\x9d\\x1a\\xed&d\\xcb\\xee\\x18\\xe0L`\\xf4\\x908#\\x87G'\n",
      "Length: 80\n",
      "Embedding Efficiency: 4.2\n",
      "==============\n",
      "315By monday next week. Give me the full gist\n",
      "customizedTechniques-2\n",
      "Da oqpfca pgzv yggm. Ikxg og vjg hwnn ikuv\n",
      "Length: 42\n",
      "customizedTechniques-3\n",
      "b>>",
      ">",
      "",
      "L>g",
      ">",
      ">",
      ">>\n",
      "Length: 42\n",
      "customizedTechniques-5\n",
      "±p¿ÁÀ¶³±pÀ·ÊÆpÉ··½~p»È·p¿·pÆº·p¸Ç¾¾p¹»ÅÆ\n",
      "Length: 42\n",
      "OpenSourceTechniques-6\n",
      "b'ta\\xa9\\x170\\xe6\\x0b\\xbc\\xcc\\\\\\xcb\\xca:!\\x16!X\\xb1\\xe2\\xf9\\xd1H\\xc8\\x06.yA\\x1e0s\\xdcWP\\xb4\\xd6$\\xf1YGX\\xf0C\\x9b\\xd3\\xba\\xa2p\\x88\\x84D\\x8auN\\x02\\xfc]8\\xdf\\x11\\xfd\\xd0\\xc4q\\xe8\\xdb8\\xdf\\x85\\x11~K\\xd2/\\x8b\\xb7\\xf0\\x81\\x1dW\\x14'\n",
      "Length: 80\n",
      "Embedding Efficiency: 4.2\n",
      "==============\n",
      "316Hmm .. Bits and pieces lol ... *sighs* ...\n",
      "customizedTechniques-2\n",
      "Joo .. Dkvu cpf rkgegu nqn ... *ukiju* ...\n",
      "Length: 42\n",
      "customizedTechniques-3\n",
      "h>LL>b>>",
      "",
      ">>LLL>HH>LLL\n",
      "Length: 42\n",
      "customizedTechniques-5\n",
      "¿¿p~~p»ÆÅp³À¶pÂ»·µ·Åp¾Á¾p~~~pzÅ»¹ºÅzp~~~\n",
      "Length: 42\n",
      "OpenSourceTechniques-6\n",
      "b'\\x8d\\xda\\xb0\\xbd\\xbc\\x1c\\xa2O`}b\\xb7\\xb1\\x92\\x17\\x7fg\\xd8\\xe8l\\xcb\\x83(\\xf5\\x04\\xebz\\x83\\xf5`\\x08\\xae\\xbf\\xa4\\xc2\\xc4\\xba\\xdd\\x11\\xdc\\x86\\xd0\\xbe\"\\x04\\xd5\\xa6\\xbb\\xf0\\x1f4\\x15\\x01i\\xcc\\x13\\xdc\\x13\\xf8\\xa9\\xed\\x1a\\x1f\\xfcC{\\x95P\\x82R&\\x8a@9V\\x86\\x05\\xb7\\xcd\\x95'\n",
      "Length: 80\n",
      "Embedding Efficiency: 4.2\n",
      "==============\n",
      "317Awesome, lemme know whenever you're around\n",
      "customizedTechniques-2\n",
      "Cyguqog, ngoog mpqy yjgpgxgt aqw'tg ctqwpf\n",
      "Length: 42\n",
      "customizedTechniques-3\n",
      "a",
      "",
      "J>",
      "",
      ">>",
      "",
      "",
      ">E",
      ">\n",
      "Length: 42\n",
      "customizedTechniques-5\n",
      "É·ÅÁ¿·|p¾·¿¿·p½ÀÁÉpÉº·À·È·Äp±ÁÇwÄ·p³ÄÁÇÀ¶\n",
      "Length: 42\n",
      "OpenSourceTechniques-6\n",
      "b'+\\xb13g\\x030V\\xc2V\\xe5E\\xd88j\\xc3\\xfes\\xc5\\x02cc\\xb3\\xfa\\x92\\xd8\\x93\\xb0\\x8b\\r\\x9d^\\x06\\x96\\x00\\xbbS\\xc9\\xb0\\xd9\\x12[x\\x7f\\xf1\\xf3\\x97_\\rd\\n6\\xbfX\\xa4\\x0c\"I\\xbdR\\xef\\x80\\x8f\\x8aY\\x86\\xfd\\xfb\\xe1\\xfb\\x8c\\x8c\\x01\\x12<p\\x82\\x85=\\x90\\xc3'\n",
      "Length: 80\n",
      "Embedding Efficiency: 4.2\n",
      "==============\n",
      "318I am waiting machan. Call me once you free.\n",
      "customizedTechniques-2\n",
      "K co yckvkpi ocejcp. Ecnn og qpeg aqw htgg.\n",
      "Length: 43\n",
      "customizedTechniques-3\n",
      "i>>>L>c>",
      ">",
      ">>",
      "",
      "L\n",
      "Length: 43\n",
      "customizedTechniques-5\n",
      "p³¿pÉ³»Æ»À¹p¿³µº³À~p³¾¾p¿·pÁÀµ·p±ÁÇp¸Ä··~\n",
      "Length: 43\n",
      "OpenSourceTechniques-6\n",
      "b'-\\xb0\\nx\\xb5v\\x97\\xadb\\x89\\xa5\\x9d\\xb7\\x08\\xf9j=c`\\x1c\\xac\\xc5\\xa8s \\xdb\\xc0\\xe4\\xdd\\xed\\xff<\\x7fQ\\xa2%\\x9a>q\\xf0\\x81\\xf2W\\xaf\\xa7x^r\\x83I\\x10\\xa4H\\x99\\x0cZ\\n\\x9c\\x04O\\xdd\\xcf_\\xef\\xb9\\xac\\xff\\x9e\\xb1\\x03K8-\\x93e\\xaek\\x82}K'\n",
      "Length: 80\n",
      "Embedding Efficiency: 4.3\n",
      "==============\n",
      "319Aight, I'll hit you up when I get some cash\n",
      "customizedTechniques-2\n",
      "Ckijv, K'nn jkv aqw wr yjgp K igv uqog ecuj\n",
      "Length: 43\n",
      "customizedTechniques-3\n",
      "aJ>iE>>>>",
      ">i>",
      ">",
      ">\n",
      "Length: 43\n",
      "customizedTechniques-5\n",
      "»¹ºÆ|pw¾¾pº»Æp±ÁÇpÇÂpÉº·Àpp¹·ÆpÅÁ¿·pµ³Åº\n",
      "Length: 43\n",
      "OpenSourceTechniques-6\n",
      "b'\\x84\\xa0\\xf3!w\\xfa\\xd7K\\xe3\\x0e\\xcb\\xd5\\xe7\\xe2L\\xa0\\x106n\\xd2\\xfa\\xefs\\xb4`6b\\xb6PW\\xc7[a{e(\\xd9=T2\\x92\\r\\x00\\x98XD\\xc6e\\x1c\\x86j\\xac\\xa51m\\xd4\\x90\\xd5\\x14k\\xfe\\xb8\\xa5\\xdeE\\xad\\xb9\\x96\\xe2>z\\xfc0\\xa1\\x9b\\xb9C\\xaf\\x99T'\n",
      "Length: 80\n",
      "Embedding Efficiency: 4.3\n",
      "==============\n",
      "320Mmm so yummy babe ... Nice jolt to the suzy\n",
      "customizedTechniques-2\n",
      "Ooo uq awooa dcdg ... Pkeg lqnv vq vjg uwba\n",
      "Length: 43\n",
      "customizedTechniques-3\n",
      "m>>>",
      ">LLL>n",
      ">>>",
      ">\n",
      "Length: 43\n",
      "customizedTechniques-5\n",
      "¿¿pÅÁp±Ç¿¿±p´³´·p~~~p »µ·p¼Á¾ÆpÆÁpÆº·pÅÇ²±\n",
      "Length: 43\n",
      "OpenSourceTechniques-6\n",
      "b\"\\xc8S\\xa0@9R\\x10\\xb9\\xf2\\xfd\\xc3[~\\xb0\\xd4G\\xcb\\xd5g.\\x84=\\xc9-'\\xb6\\x0e\\x9d\\xf6\\xe5\\xa1x\\xcb.4\\x06a\\xf4\\xe1B\\xf7\\x9b,\\xd5\\xb6\\xd7\\x0e2\\xe1\\x18K\\xdb\\xc5\\x89D\\xe6-Ga\\xcdjy\\x1b\\xefZy-\\x81?(\\x83';\\xecH\\x05I9W\\x01\"\n",
      "Length: 80\n",
      "Embedding Efficiency: 4.3\n",
      "==============\n",
      "321Kate jackson rec center before 7ish, right?\n",
      "customizedTechniques-2\n",
      "Mcvg lcemuqp tge egpvgt dghqtg 7kuj, tkijv?\n",
      "Length: 43\n",
      "customizedTechniques-3\n",
      "k",
      ">>",
      ">",
      "",
      ">",
      "",
      ">UJ>]\n",
      "Length: 43\n",
      "customizedTechniques-5\n",
      "³Æ·p¼³µ½ÅÁÀpÄ·µpµ·ÀÆ·Äp´·¸ÁÄ·p»Åº|pÄ»¹ºÆ\n",
      "Length: 43\n",
      "OpenSourceTechniques-6\n",
      "b\"\\x10\\xa72N\\x88;\\x7fys\\x1aI\\x111\\xcb\\xb3\\xe2x\\x8f\\t'B\\xb3\\x04\\x8f\\x14\\x01O\\xed.\\xe7M\\x9cx\\xc3?\\xe4w\\xd1\\xc6\\x13{\\x98\\xda\\xdai\\xda\\t\\xfc\\xc2\\x95\\x1bw\\xcc\\xa4t'\\x16\\xf2\\xe9gB\\xf8\\x88{\\xf0SQ\\xb0W\\xab\\xac\\xbf\\xf3\\xd6\\xd1\\x1d\\x1e\\xd1\\xb6 \"\n",
      "Length: 80\n",
      "Embedding Efficiency: 4.3\n",
      "==============\n",
      "322Leave it de:-). Start Prepare for next:-)..\n",
      "customizedTechniques-2\n",
      "Ngcxg kv fg:-). Uvctv Rtgrctg hqt pgzv:-)..\n",
      "Length: 43\n",
      "customizedTechniques-3\n",
      "l",
      "",
      ">>",
      "XKGL>s>p",
      "",
      ">>",
      "XKGLL\n",
      "Length: 43\n",
      "customizedTechniques-5\n",
      "·³È·p»Æp¶·}y~p¥Æ³ÄÆp¢Ä·Â³Ä·p¸ÁÄpÀ·ÊÆ}y~~\n",
      "Length: 43\n",
      "OpenSourceTechniques-6\n",
      "b'2\\rp\\xcf\\xff\\xde`\\xa2\\xc3\\xb6x\\'\\xf4\\xc3N\\x8a\\xaf\\xa7R=\\xd2\\x10Z&\\xb3\\xb6\\xc3\\x0cs\\xc1l^\\x19\\xd9fg(\\xee\\x1a\\xf3H\\x91\\xf6\\xb2\\xfc]\"\\x05\\x9c(A\\xcf\\xbeE\\xc0d\\xfcS&\\xf3(\\xf2\\x8bp\\x92QH\\x9fiVF\\xaf}\\xdb)I\\x14\\xa3\\xf3$'\n",
      "Length: 80\n",
      "Embedding Efficiency: 4.3\n",
      "==============\n",
      "323\\Gimme a few\\\" was  &lt;#&gt;  minutes ago\"\n",
      "customizedTechniques-2\n",
      "\\Ikoog c hgy\\\" ycu  &nv;#&iv;  okpwvgu ciq\"\n",
      "Length: 43\n",
      "customizedTechniques-3\n",
      "zg",
      ">>",
      "z@>>>DYADY>>",
      ">@\n",
      "Length: 43\n",
      "customizedTechniques-5\n",
      "¬»¿¿·p³p¸·É¬rpÉ³Åppv¾Æsv¹Æpp¿»ÀÇÆ·Åp³¹Ár\n",
      "Length: 43\n",
      "OpenSourceTechniques-6\n",
      "b'5\\xea]\\xd4\\xb2\\xa65\\x96\\xbd\\x81\"\\x18\\xdb\\xa5\\xd7\\xedF\\xa0\\x95\\xfe\\xaf\\x16\\x9a}\\x0cM\\x8b\\x9a\\x1e\\x06\\xe1t\\xd8c\\x98~o,\\xb0K\\x97q\\x1cB\\xd8\\xf3\\x96\\xa6N\\x9a\\x92\\n-Q\\xb4\\x92\\xa2\\xb8\\x7f-P\\x85I\\x0e\\x95\\xa2\\x0f\\xf7\\x9b\\x9c?<\\xf2\\xc4\\xfa\\x8e\\x03\\xa1W1'\n",
      "Length: 80\n",
      "Embedding Efficiency: 4.3\n",
      "==============\n",
      "324How is it possible to teach you. And where.\n",
      "customizedTechniques-2\n",
      "Jqy ku kv rquukdng vq vgcej aqw. Cpf yjgtg.\n",
      "Length: 43\n",
      "customizedTechniques-3\n",
      "h>>>",
      ">>",
      ">L>a>",
      "",
      "L\n",
      "Length: 43\n",
      "customizedTechniques-5\n",
      "ÁÉp»Åp»ÆpÂÁÅÅ»´¾·pÆÁpÆ·³µºp±ÁÇ~pÀ¶pÉº·Ä·~\n",
      "Length: 43\n",
      "OpenSourceTechniques-6\n",
      "b'V\\xa0\\xebY\\xd1\\x14(s\\r/F\\x8f\\xf4Z\\xe5\\xc0d\\x97\\x04\\xe2\\x9f\\x18\\xd7\\x12\\xdc\\xde|\\xa2\\x96\\x03\\x9fk\\xb9\\x0b\\x9b\\x1d\\xb1\\xdd0gL\\x94Kj\\x94\\x9b\\xcf;\\x8e\\n\\tE\\xda}F\\x15\\xa8\\x8b\\x19\\xf3r\\xe5\\xf8j \\x1f\\xbb\\x9d\\xf0Ky1Q\\xd0\\xbd\\rd\\xd7%J'\n",
      "Length: 80\n",
      "Embedding Efficiency: 4.3\n",
      "==============\n",
      "325I just got home babe, are you still awake ?\n",
      "customizedTechniques-2\n",
      "K lwuv iqv jqog dcdg, ctg aqw uvknn cycmg ?\n",
      "Length: 43\n",
      "customizedTechniques-3\n",
      "i>>>",
      ">",
      "J>",
      ">>>",
      ">]\n",
      "Length: 43\n",
      "customizedTechniques-5\n",
      "p¼ÇÅÆp¹ÁÆpºÁ¿·p´³´·|p³Ä·p±ÁÇpÅÆ»¾¾p³É³½·p\n",
      "Length: 43\n",
      "OpenSourceTechniques-6\n",
      "b'a\\xda\\xe00\\x95\\xfa \\x0f\\xb8o\\xabu^\\xdc}\\x96p\\xb9\\xeb\\xb4W\\x9f\\xc1>\\x11\\x9c\\xea\\xb5\\x94:B\\xa8\\xdf?M\\xeb\\xa3m\\x1d\\x04\\xc1\\xf6\\x15?N\\xed9[\\xdf\\xfa\\xc0\\x8be\\xa5\\x9eSG\\x9bH+r\\xc7\\xe5k/\\x11G\\x85G?\\xff\\x02\\xf6_8\\x84\\x81g\\xdf~'\n",
      "Length: 80\n",
      "Embedding Efficiency: 4.3\n",
      "==============\n",
      "326Umma my life and vava umma love you lot dear\n",
      "customizedTechniques-2\n",
      "Wooc oa nkhg cpf xcxc wooc nqxg aqw nqv fgct\n",
      "Length: 44\n",
      "customizedTechniques-3\n",
      "u>>",
      ">>>>",
      ">>>",
      "\n",
      "Length: 44\n",
      "customizedTechniques-5\n",
      "§¿¿³p¿±p¾»¸·p³À¶pÈ³È³pÇ¿¿³p¾ÁÈ·p±ÁÇp¾ÁÆp¶·³Ä\n",
      "Length: 44\n",
      "OpenSourceTechniques-6\n",
      "b'XB\\xe9\\xc5\\xea\\x0eP\\r\\xaa\\x0b3\\x96d6\\xef\\t_\\xad!p\\x80~\\xc1+\\x01*\\t\\xfe\\x97U\\xb7\\x8d\\xe2d\\xec9w\\xa9\\x8a<^\\xa3\\x8fz+\\x92\\xe9\\x1f\\xaf\\xbf\\n\\x1a\\x178T\\xfa\\xbbo0\\xbf#\\xcfg\\x87\\xa4/\\x1aQ\\xc0\\x88\\xb4\\x1cp\\xb3\\xb3\\xc1Nf\\xa6 '\n",
      "Length: 80\n",
      "Embedding Efficiency: 4.4\n",
      "==============\n",
      "327Ranjith cal drpd Deeraj and deepak 5min hold\n",
      "customizedTechniques-2\n",
      "Tcplkvj ecn ftrf Fggtcl cpf fggrcm 5okp jqnf\n",
      "Length: 44\n",
      "customizedTechniques-3\n",
      "r>>>d",
      "",
      ">>",
      "",
      ">S>\n",
      "Length: 44\n",
      "customizedTechniques-5\n",
      "¤³À¼»Æºpµ³¾p¶ÄÂ¶p··Ä³¼p³À¶p¶··Â³½p",
      "¿»ÀpºÁ¾¶\n",
      "Length: 44\n",
      "OpenSourceTechniques-6\n",
      "b'Ov5\\x95\\xf1\\x00\\x14}\\x9c\\x17\\x7f\\x99@{%\\x8d\\x80\\xc1u\\xef\\xae\\xa5ZEd4\\x1a\\x04~83\\x14\\xb7\\xa0\\r\\x08\\xfe\\x800\\x98\\x8a\\xa5@\\x06\\xe7\\x91\\x0bc>U\\xc9\\xf2\\xf8\\x1d\\xa0\\x17CB\\x7f\\xe06\\x90\\xe1\\x948\\x83\\xd0\\xf3`r\\x8b\\xcaB\\x8e\\xc1$\\xd8\\xbd\\xb44JR\\x18VM\\xf9\\xfb&~\\xe5\\xc1M\\xa1\\x05\\xa5S'\n",
      "Length: 96\n",
      "Embedding Efficiency: 3.6666666666666665\n",
      "==============\n",
      "328Yup, no need. I'll jus wait 4 e rain 2 stop.\n",
      "customizedTechniques-2\n",
      "Awr, pq pggf. K'nn lwu yckv 4 g tckp 2 uvqr.\n",
      "Length: 44\n",
      "customizedTechniques-3\n",
      "_J>>",
      "",
      "L>iE>>>R>",
      ">>P>L\n",
      "Length: 44\n",
      "customizedTechniques-5\n",
      "ÇÂ|pÀÁpÀ··¶~pw¾¾p¼ÇÅpÉ³»Æpp·pÄ³»ÀppÅÆÁÂ~\n",
      "Length: 44\n",
      "OpenSourceTechniques-6\n",
      "b\"\\xae\\xe8\\xaa\\xec\\xac\\xb1\\x97#\\xce6\\xbb\\x95\\xe1\\xcb\\xee\\x9fKh\\xf7\\xbe\\xe6\\x99,)\\xbb\\x07L\\xda\\x8ciP\\x1c\\xbd\\x8e\\x17IaD\\xaaB\\x04(\\x96UqP \\xee\\x92'I\\x90\\x93\\xbf9\\x9b\\xf5\\xb0\\x16Ji\\xde\\xc9\\xd6\\xec\\x9cC]2h\\xa3\\xa9\\x91y\\xdf\\x13TbRg\"\n",
      "Length: 80\n",
      "Embedding Efficiency: 4.4\n",
      "==============\n",
      "329I am taking half day leave bec i am not well\n",
      "customizedTechniques-2\n",
      "K co vcmkpi jcnh fca ngcxg dge k co pqv ygnn\n",
      "Length: 44\n",
      "customizedTechniques-3\n",
      "i>>>>>",
      "",
      ">",
      ">>>>",
      "\n",
      "Length: 44\n",
      "customizedTechniques-5\n",
      "p³¿pÆ³½»À¹pº³¾¸p¶³±p¾·³È·p´·µp»p³¿pÀÁÆpÉ·¾¾\n",
      "Length: 44\n",
      "OpenSourceTechniques-6\n",
      "b\"\\x16\\xaa\\xeb\\xea Z\\x9c\\xc3v\\x0b\\xfcn\\x8c:\\x03\\xd9\\x93\\xd06\\x00'\\x87\\xf5\\xc48\\x01B\\x92\\x9a3{2\\xc7\\xe6\\xd5e\\xb0\\xc1\\x01\\x15Tpw?\\xff\\xb1\\xe2\\x06\\xa7>K1S\\xeb\\xfc\\x83b\\x8e$\\x94T\\xf1\\x150\\xdc\\x0e\\x98*\\xf8\\x04S\\xfea\\xcb\\xc1\\xa6\\x10\\xc6\\rA\"\n",
      "Length: 80\n",
      "Embedding Efficiency: 4.4\n",
      "==============\n",
      "330Are you in castor? You need to see something\n",
      "customizedTechniques-2\n",
      "Ctg aqw kp ecuvqt? Aqw pggf vq ugg uqogvjkpi\n",
      "Length: 44\n",
      "customizedTechniques-3\n",
      "a",
      ">>>]>_>",
      "",
      ">>",
      "",
      ">",
      "\n",
      "Length: 44\n",
      "customizedTechniques-5\n",
      "Ä·p±ÁÇp»Àpµ³ÅÆÁÄpÁÇpÀ··¶pÆÁpÅ··pÅÁ¿·Æº»À¹\n",
      "Length: 44\n",
      "OpenSourceTechniques-6\n",
      "b\"\\x7f\\x98\\xf1\\xfe\\xb8\\xd6qM\\x88\\xf3\\xaa\\x87\\xcf\\xdcgK\\x9b/\\xed\\xff\\x0c\\xac\\xdb}\\xebhT\\x10`\\xc2\\xe3\\x81\\xad\\x91\\xf3\\xd2\\xf3UP\\xab\\x12\\xdd\\x80\\xc4&\\xfb\\xeb\\x95\\xb5s\\xcf\\xc2]\\xcaT\\xd3#\\xbeQ\\x7f\\x7f\\x14\\xe7%\\xb91=\\xfd+\\xdf\\x82n/Lu'\\x18\\xb9I`Mkm\\x1c\\xaeF\\xef\\xc2/\\xce:$D\\x82|\\x9c\"\n",
      "Length: 96\n",
      "Embedding Efficiency: 3.6666666666666665\n",
      "==============\n",
      "331Wife.how she knew the time of murder exactly\n",
      "customizedTechniques-2\n",
      "Ykhg.jqy ujg mpgy vjg vkog qh owtfgt gzcevna\n",
      "Length: 44\n",
      "customizedTechniques-3\n",
      "w",
      "L>",
      ">",
      ">",
      ">",
      ">>",
      ">",
      "\n",
      "Length: 44\n",
      "customizedTechniques-5\n",
      "©»¸·~ºÁÉpÅº·p½À·ÉpÆº·pÆ»¿·pÁ¸p¿ÇÄ¶·Äp·Ê³µÆ¾±\n",
      "Length: 44\n",
      "OpenSourceTechniques-6\n",
      "b'{\\xb5t\\x1f\\x9a\\xd7sS\\x14\\x96\\xde\\xf0\\xe4\\x12B\\\\\\x92\\xcfV\\xbc\\x1d\\xc3o\\x96\\xbd:x\\x0c2\\xa6\\xd45\\xd1\\x1ar\\xd8\\x10\\x9c\\x0f9.\\x83\\xd2\\xcc\\x84\\xe9&P\\\\a\\xe9\\x86u\\x98\\xfe\\x84\\xe2[\\x16\\xdc6\\xdf\\x0c\\xfd\\xacyJ\\xb7p\\x99\\xe6\\t/\\x8c\\xae\\xd12S\\x16^5\\xbab(\\xb1\\x8dP\\x1d~\\x96\\xe6\\x11\\xa3F\\xaed'\n",
      "Length: 96\n",
      "Embedding Efficiency: 3.6666666666666665\n",
      "==============\n",
      "332K, wait chikku..il send aftr  &lt;#&gt; mins\n",
      "customizedTechniques-2\n",
      "M, yckv ejkmmw..kn ugpf chvt  &nv;#&iv; okpu\n",
      "Length: 44\n",
      "customizedTechniques-3\n",
      "kJ>>LL>",
      ">>>DYADY>\n",
      "Length: 44\n",
      "customizedTechniques-5\n",
      "|pÉ³»Æpµº»½½Ç~~»¾pÅ·À¶p³¸ÆÄppv¾Æsv¹Æp¿»ÀÅ\n",
      "Length: 44\n",
      "OpenSourceTechniques-6\n",
      "b'\\x93*w\\xb8\\x87\\x84\\xcfj\\xe6E\"`Z \\x83\\x9ek\\x0b\\xad\\x1d(\\xdf\\xcc4N\\xbd\\xd87-\\x00\\x1eU\\x9a\\xed\\xf7\\x8f\\xf98o\\t\\x1c\\x8c\\xf2\\xcf\\xca\\xbc\\xed\\xbe\\x9d\\x10\\x15\\x15\\xf5\\xe9\\x9d\\xc9\\x06{\\xd6j\\xbd=\\xab*\\xbd\\x9b[\\xa9X\\x97q\\x9d\\xa7W\\x13\\x05\\x13s\\xfe\\x19'\n",
      "Length: 80\n",
      "Embedding Efficiency: 4.4\n",
      "==============\n",
      "333Didn't you get hep b immunisation in nigeria.\n",
      "customizedTechniques-2\n",
      "Fkfp'v aqw igv jgr d koowpkucvkqp kp pkigtkc.\n",
      "Length: 45\n",
      "customizedTechniques-3\n",
      "dE>>",
      ">",
      ">>>>",
      "L\n",
      "Length: 45\n",
      "customizedTechniques-5\n",
      "»¶ÀwÆp±ÁÇp¹·Æpº·Âp´p»¿¿ÇÀ»Å³Æ»ÁÀp»ÀpÀ»¹·Ä»³~\n",
      "Length: 45\n",
      "OpenSourceTechniques-6\n",
      "b'\\xfe\\xddN\\xc0\\xd6\\x17\\xc0&\\x0e\\xc1\\xb8\\xc2U\\t\\x19#\\xc1\\x00\\x01\\x18*5;sZ\\xf3\\x85\\xa1\\x87\\xb0\\x9d\\xa4n\\x90\\x86xf\\xf3\\xa5\\xded\\xbf\\x04\\x0b\\x82t\\xde\\xbfA)3\\xa1\\xa7r\\xee-\\x0eP\\x0fm,\\x84\\xe0\\xf5\\x94\\x17&\\x86\\xb8EHp\\x07\\xe0au\\xafOy[;]\\x1a\\xe3\\xa77o4q\\xf3\\xf9$=p\\x89\\xd6'\n",
      "Length: 96\n",
      "Embedding Efficiency: 3.75\n",
      "==============\n",
      "334HI BABE IM AT HOME NOW WANNA DO SOMETHING? XX\n",
      "customizedTechniques-2\n",
      "JK DCDG KO CV JQOG PQY YCPPC FQ UQOGVJKPI? ZZ\n",
      "Length: 45\n",
      "customizedTechniques-3\n",
      "hi>babe>im>at>home>now>wanna>do>something]>xx\n",
      "Length: 45\n",
      "customizedTechniques-5\n",
      "ppp¦p¡p ¡©p©  p¡p¥¡¦ pªª\n",
      "Length: 45\n",
      "OpenSourceTechniques-6\n",
      "b')\\x84\\x0f\\xd3d\\xa7\\n\\xe3\\xf1G/g\\x1f\\x81\\x08\\xbe\\xd4\\xe8\\xef\\x16\\tr\\xef\\xe5W \\x0b\\x1c\\x8eY\\xad\\xe9\\xac\\xe6CHg\\x8an\\x0f\\xbe\\xd0\\x9a\\xcd@\\xe9M\\xe5\\xd1Uz\\x8a\\xad\\xba\\xab-Q\\x1dF\\x11y\\x0ebxM5\\x0e\\xdb\\xb9\\x8b5kJ\\x02\\x8a\\x01lD\\x1c/\\x88\\x82+\\xc4\\xacu\\xde-5\\xabGP\\x15\\x822@'\n",
      "Length: 96\n",
      "Embedding Efficiency: 3.75\n",
      "==============\n",
      "335The wine is flowing and i'm i have nevering..\n",
      "customizedTechniques-2\n",
      "Vjg ykpg ku hnqykpi cpf k'o k jcxg pgxgtkpi..\n",
      "Length: 45\n",
      "customizedTechniques-3\n",
      "t",
      ">",
      ">>>>E>>",
      ">",
      "",
      "LL\n",
      "Length: 45\n",
      "customizedTechniques-5\n",
      "¦º·pÉ»À·p»Åp¸¾ÁÉ»À¹p³À¶p»w¿p»pº³È·pÀ·È·Ä»À¹~~\n",
      "Length: 45\n",
      "OpenSourceTechniques-6\n",
      "b'\\\\>>lrM\\x91\\xb3@m\\x02[\\x1a3\\x03\\x1f\\x02\\xbc\\n\\xce{\\nO\\x7f-\\x13\\xaanj&\\xee\\x8fP\\xc0G\\xc2\\xd7\\xe4i\\xdd\\xfbp\\x86N\\x83\\xf7\\xe9\\xf0\\xfaOu6\\xc6\\xa7\\xef\\xb0L \\xbb\\xdd\\x92\\xa1\\x8b\\x9b\\xfb-\\xf0\\x90\\xef\\xa5\\xf7\\xe9?\\xea\\x88\\x87\\xd4\\xd6#\\x87'\n",
      "Length: 80\n",
      "Embedding Efficiency: 4.5\n",
      "==============\n",
      "336PLEASSSSSSSEEEEEE TEL ME V AVENT DONE SPORTSx\n",
      "customizedTechniques-2\n",
      "RNGCUUUUUUUGGGGGG VGN OG X CXGPV FQPG URQTVUz\n",
      "Length: 45\n",
      "customizedTechniques-3\n",
      "pleassssssseeeeee>tel>me>v>avent>done>sports\n",
      "Length: 45\n",
      "customizedTechniques-5\n",
      "¢¥¥¥¥¥¥¥p¦pp¨p¨ ¦p¡ p¥¢¡¤¦¥Ê\n",
      "Length: 45\n",
      "OpenSourceTechniques-6\n",
      "b'e\\xdb2\\xb7T>~\\xa1\\xa0b\\xf8\\xb6{jE\\x80\\x1e\\xc2\\xf2cU\\xd5\\x9a\\xaf5\\xcey\\xac\\xdd\\xa6q-\\x80\\xda \\xb9`p\\xf4\\xba)`:>H\\xdb\\xdeb\\x9c\\xb2[\\xe1\\x9d\\xc9\\xbe~M9\\xd2\\t\\xd0p\\xf9\\xea\\xe5\\x97\\xdfu\\xb22\\xfaL\\xa1N^\\xa3\\x91\\x0c\\xf9\\x7f+\\x91\"\\xc8\\x8a^\\xa1r\\xba\\x1b\\xdf\\xabh\\xee\\xb0C'\n",
      "Length: 96\n",
      "Embedding Efficiency: 3.75\n",
      "==============\n",
      "337Ta-Daaaaa! I am home babe, are you still up ?\n",
      "customizedTechniques-2\n",
      "Vc-Fccccc! K co jqog dcdg, ctg aqw uvknn wr ?\n",
      "Length: 45\n",
      "customizedTechniques-3\n",
      "tKd?>i>>",
      ">",
      "J>",
      ">>>>]\n",
      "Length: 45\n",
      "customizedTechniques-5\n",
      "¦³}³³³³³qpp³¿pºÁ¿·p´³´·|p³Ä·p±ÁÇpÅÆ»¾¾pÇÂp\n",
      "Length: 45\n",
      "OpenSourceTechniques-6\n",
      "b'\\xafG\\xf14?\\xfe\\r\\x1c\\xc2\\x11\\xa0\\\\\\x1b\\x86\\x13}F\\xf0\\xe7\\xdbq\\xa1oT\\xe1\\xc9\\xb0\\x8f\\x0f\\x13\\x845\\x10\\xdfY\\xa8!-f\\xbd\\x05T\\xdcv\\xc3\\x88\\x81\\xc3Q\\xec\\xe6/\\x87\\xd5Q\\x85p\\x85\\xad:\\x1b\\xe0\\xa1\\x0c\\xcf\\x81\\xf8\\xc3\\xd2{\\x1eK?\\xfe\\xd9\\xe5\\x98\\x1c\\xe1\\x9d'\n",
      "Length: 80\n",
      "Embedding Efficiency: 4.5\n",
      "==============\n",
      "338&lt;#&gt; ISH MINUTES WAS 5 MINUTES AGO. WTF.\n",
      "customizedTechniques-2\n",
      "&nv;#&iv; KUJ OKPWVGU YCU 5 OKPWVGU CIQ. YVH.\n",
      "Length: 45\n",
      "customizedTechniques-3\n",
      "DYADY>ish>minutes>was>S>minutes>agoL>wtfL\n",
      "Length: 45\n",
      "customizedTechniques-5\n",
      "v¾Æsv¹Æp¥p §¦¥p©¥p",
      "p §¦¥p¡~p©¦~\n",
      "Length: 45\n",
      "OpenSourceTechniques-6\n",
      "b'|VBJ\\xde\\xaft\\xa8\\xa4;\\xe0yV\\x8f[$\\xe8!U\\x11\\n\\xdd\\xc1\\xdb\\x1d v\\x87\\x99yC\\xbb\\x11QPP\\xf9\\xa8\\xb7e&w\\xc0\\xed\\x8f\\xc7\\xa1\\x93v\\xe6YbB\\x19H\\x1eu \\xa4\";Z\\x02\\x9e\\xc3j]\\xd9j\\xc3\\x8a\\xc7\\xe4 q\\xc7\\x0b\\xae\\x9fF'\n",
      "Length: 80\n",
      "Embedding Efficiency: 4.5\n",
      "==============\n",
      "339Thanks for this hope you had a good day today\n",
      "customizedTechniques-2\n",
      "Vjcpmu hqt vjku jqrg aqw jcf c iqqf fca vqfca\n",
      "Length: 45\n",
      "customizedTechniques-3\n",
      "t>>>",
      ">>>>>>\n",
      "Length: 45\n",
      "customizedTechniques-5\n",
      "¦º³À½Åp¸ÁÄpÆº»ÅpºÁÂ·p±ÁÇpº³¶p³p¹ÁÁ¶p¶³±pÆÁ¶³±\n",
      "Length: 45\n",
      "OpenSourceTechniques-6\n",
      "b'Tix\\x1e\\xda[\\x90S\\xe7\\xac\\xd3\\x8f\\xfcD\\x8f\\x8b\\xafh\\xe6\\x91\\x03\\x91\\xea:\\xbf\\xaf\\xa6\\xb4\\x14>f\\x96\\x0bvb\\x17\\xb3\\xdaX\\xbe\\xd4\\xb35BA\\x0fu\\x13\\x16li8\\xdf\\x85Y\\xa6\\xd3\\xce\\x160\\x0cX\\xa5;\\xe9\\xc3\\x01\\xde\\xd2\\xf5\\x8e\\xf0\\xb07\\x18>\\xd24t\\xfc\\x12\\x97\\x81\\x1f?\"\\x80L\\x19\\x83\\x9c\\x9bV\\x97\\xa8I'\n",
      "Length: 96\n",
      "Embedding Efficiency: 3.75\n",
      "==============\n",
      "340There are many company. Tell me the language.\n",
      "customizedTechniques-2\n",
      "Vjgtg ctg ocpa eqorcpa. Vgnn og vjg ncpiwcig.\n",
      "Length: 45\n",
      "customizedTechniques-3\n",
      "t",
      "",
      ">",
      ">>L>t",
      ">",
      ">",
      ">",
      "L\n",
      "Length: 45\n",
      "customizedTechniques-5\n",
      "¦º·Ä·p³Ä·p¿³À±pµÁ¿Â³À±~p¦·¾¾p¿·pÆº·p¾³À¹Ç³¹·~\n",
      "Length: 45\n",
      "OpenSourceTechniques-6\n",
      "b'\\x87r<9\\xa3F\\x1d\\xe9p\\xc5o\\xb8\\x86\\xa6crr:\\xb7\\xbdax\\xf5\\xd7\\xfd\\xc0\\xf80\\x07\\xaa\\x10S\\xa4\\xb7+Wz\\x14\\xd6\\xb4\\x18\\xa22\\xb2,\\x10\\x84|\\xa41\\xbe\\xbf\\xde\\xbb\\xebH\\xba\\x99\\x0b\\xf5Ous\\x8e\\x89\\xcd\\x04iq`X\\x1b\\n\\x0eWE\\x80\\x1b\\xed\\x8f0\\x16\\xb0^\\x97\\xba\\xd3\\x14\\xd7%Lw\\xbd\\x7fJ\\x98'\n",
      "Length: 96\n",
      "Embedding Efficiency: 3.75\n",
      "==============\n",
      "341If we win its really no 1 side for long time.\n",
      "customizedTechniques-2\n",
      "Kh yg ykp kvu tgcnna pq 1 ukfg hqt nqpi vkog.\n",
      "Length: 45\n",
      "customizedTechniques-3\n",
      "i>",
      ">>>",
      ">>O>",
      ">>>",
      "L\n",
      "Length: 45\n",
      "customizedTechniques-5\n",
      "¸pÉ·pÉ»Àp»ÆÅpÄ·³¾¾±pÀÁppÅ»¶·p¸ÁÄp¾ÁÀ¹pÆ»¿·~\n",
      "Length: 45\n",
      "OpenSourceTechniques-6\n",
      "b'\\xab\\x91z\\xbd-\\xc5\\x1df\\xf76R\\xd3pR\\x81A\\xbb\\xb6 \\x0er/M\\x01\\x14\\xfc\\xd58\\x04\\xfa\\xf8\\xdd\\xadv\\x89#\\xc8^<\\x07\\xae\\xf7r\\xc4\\xf1\\xcf\\xba\\xdf\\x12q\\xf5\\xb1+\\xd0\\x9d\\xe5v\\xd8\\xe8\\xd7\\x85\\x94\\x87\\xbe\\x90Om\\x11p\\xcc\\x9f\\x99\\x15\\xfc\\x19i0\\x1a\\xa2\\xfb'\n",
      "Length: 80\n",
      "Embedding Efficiency: 4.5\n",
      "==============\n",
      "342Prabha..i'm soryda..realy..frm heart i'm sory\n",
      "customizedTechniques-2\n",
      "Rtcdjc..k'o uqtafc..tgcna..hto jgctv k'o uqta\n",
      "Length: 45\n",
      "customizedTechniques-3\n",
      "pLLE>LL",
      "LL>",
      ">E>\n",
      "Length: 45\n",
      "customizedTechniques-5\n",
      "¢Ä³´º³~~»w¿pÅÁÄ±¶³~~Ä·³¾±~~¸Ä¿pº·³ÄÆp»w¿pÅÁÄ±\n",
      "Length: 45\n",
      "OpenSourceTechniques-6\n",
      "b'\\x1a\\xbf*\\xb4\\x05\\xdc?\\xbe\\xa3\\xa2\\xa3x\\xfe9\\x98\\x8c\\x89\\xb4?\\xb0\\xe4\\xc9\\x0f8\\xa3U/;\\xfa1Z\\x9e\\xa7\\x83J\\xd5\\x91\\xb3\\x94&\\x85\\xfa*\\xca\\xfd#g\\x08\\xc7z<;\\x8a\\x0fzn\\xc7(\\x19$\\x1b0\\x84{\\xfd\\x0cv!\\xfc\\xd6T\\xfd\\x86\\xd1q\\xad\\x15L\\x8c\\x17'\n",
      "Length: 80\n",
      "Embedding Efficiency: 4.5\n",
      "==============\n",
      "343Oooh bed ridden ey? What are YOU thinking of?\n",
      "customizedTechniques-2\n",
      "Qqqj dgf tkffgp ga? Yjcv ctg AQW vjkpmkpi qh?\n",
      "Length: 45\n",
      "customizedTechniques-3\n",
      "o>",
      ">",
      ">",
      "]>w>",
      ">_ou>>]\n",
      "Length: 45\n",
      "customizedTechniques-5\n",
      "¡ÁÁºp´·¶pÄ»¶¶·Àp·±p©º³Æp³Ä·p¡§pÆº»À½»À¹pÁ¸\n",
      "Length: 45\n",
      "OpenSourceTechniques-6\n",
      "b'\\x90_\\xf5V\\x15\\xab\\x12 \\xb8*\\x070}4\\x9b\\xe2\\x8d\\x91\\xb6P\\xb9\\xf0\\x0e\\xb1u\\xb8nr\\xab\\x0f\\rZ\\x9fV\\xd1>rT\\x81l\\x7fse\\xbc\\x95&\\x840\\x15E\\xab\\xddn\\xaepc\\x91X\\xc6H1\\xe8\\xf7c\\x95\\x8c\\x07w\\xc7\\xa4\\xd3&\\x86\\x8d\\x86O%\\xcc!o{\\xcbY\\x1a\\xfa1\\x08m\\x99*\\xafy6\\xcfUf'\n",
      "Length: 96\n",
      "Embedding Efficiency: 3.75\n",
      "==============\n",
      "344Tell them the drug dealer's getting impatient\n",
      "customizedTechniques-2\n",
      "Vgnn vjgo vjg ftwi fgcngt'u igvvkpi korcvkgpv\n",
      "Length: 45\n",
      "customizedTechniques-3\n",
      "t",
      ">",
      ">",
      ">>",
      "",
      "E>",
      ">",
      "\n",
      "Length: 45\n",
      "customizedTechniques-5\n",
      "¦·¾¾pÆº·¿pÆº·p¶ÄÇ¹p¶·³¾·ÄwÅp¹·ÆÆ»À¹p»¿Â³Æ»·ÀÆ\n",
      "Length: 45\n",
      "OpenSourceTechniques-6\n",
      "b'nw\\x96\\xc3:\\xeaVR\\x80\\x0e\\xc301\\x85\\xee\\xe7\\xd2\\xaa3r\\x1e\\x03\\xea\\x94\\x16\\x04\\\\\\x87\\xe1Y\\xfe\\xabP\\xfcD`\"\\xf3\\x05\\x1d5\\xf9\\xf5\\xa0\\x84\\xc3z\\xeb\\x88\\xd95Q\\xc7\\xb13U\\'\\x91\\xbb\\xc3\\x9d\\x19\\xfeP\\xeax*E\\x81\\xf9U\\x81h\\x9b\\xb9\\xfd\\xec\\xc89\\x9d\\x95\\xf5\\xc6N]c+\\xb96bp\\xc9\\x19kv7'\n",
      "Length: 96\n",
      "Embedding Efficiency: 3.75\n",
      "==============\n",
      "345Dude ive been seeing a lotta corvettes lately\n",
      "customizedTechniques-2\n",
      "Fwfg kxg dggp uggkpi c nqvvc eqtxgvvgu ncvgna\n",
      "Length: 45\n",
      "customizedTechniques-3\n",
      "d",
      ">",
      ">",
      "",
      ">",
      "",
      ">>>",
      "",
      ">",
      "\n",
      "Length: 45\n",
      "customizedTechniques-5\n",
      "Ç¶·p»È·p´··ÀpÅ··»À¹p³p¾ÁÆÆ³pµÁÄÈ·ÆÆ·Åp¾³Æ·¾±\n",
      "Length: 45\n",
      "OpenSourceTechniques-6\n",
      "b'\\xf0P\\x0cBm\\xa9:\\xad\\xbbm7\\x9b\\x1c\\xad\\x14%\\xdau\\x13\\xcc\\x1f\\xf0J\\xfd\\x10\\x84I2\\xadu.\\x1b\\xe6_\\xec\\x93AI\\xde\\xdcr\\xf1\\xff\\xb1\\xc6\\xda\\x9f\\xa1g\\xdc\\x9a\\xeb\\x12\\x0f=\\x12!\\xd6\\x7f\\x14\\xcf\\xa1/\\x19\\xaaj\\x8fi@\\x16\\xe9Ks\\t\\xd4\\xc9A\\xbaS\\x81\\xfb\\x0f\\xef\\xb9\\xeb\\xd3\\xc9\\xe5V`\\xfbt\\xe6\\x06\\xa8\\xe5'\n",
      "Length: 96\n",
      "Embedding Efficiency: 3.75\n",
      "==============\n",
      "346&lt;#&gt;  am I think? Should say on syllabus\n",
      "customizedTechniques-2\n",
      "&nv;#&iv;  co K vjkpm? Ujqwnf uca qp uanncdwu\n",
      "Length: 45\n",
      "customizedTechniques-3\n",
      "DYADY>>>i>]>s>>>\n",
      "Length: 45\n",
      "customizedTechniques-5\n",
      "v¾Æsv¹Æpp³¿ppÆº»À½p¥ºÁÇ¾¶pÅ³±pÁÀpÅ±¾¾³´ÇÅ\n",
      "Length: 45\n",
      "OpenSourceTechniques-6\n",
      "b'w\\xb5\\xd1\\xe3\\x1d\\xbd\\x0bg\\xa9\\xc2\\x12\\x04\\xf9\\x13\\x16yU!g\\xc4\\xd1m\\xd1\\x93\\nQ\\x0ev\\x1b\\xe0\\x99BoH\\x1e\\x14(K\\xed\\x97\\x93xg\\x8b\\xc1s\\x0fe\\xf8\\xd6a\\x83V\\x14\\x97\\xf3\\xbbwJbV\\xa3\\x0e\\xef\\x07\\xb7!\\xfe\\x1c\\x86\\\\\\xec\\xa2\\xea2\\xfe6C\\xe4\\xd5'\n",
      "Length: 80\n",
      "Embedding Efficiency: 4.5\n",
      "==============\n",
      "347Wah lucky man... Then can save money... Hee...\n",
      "customizedTechniques-2\n",
      "Ycj nwema ocp... Vjgp ecp ucxg oqpga... Jgg...\n",
      "Length: 46\n",
      "customizedTechniques-3\n",
      "w>>LLL>t",
      ">>",
      ">",
      "LLL>h",
      "",
      "LLL\n",
      "Length: 46\n",
      "customizedTechniques-5\n",
      "©³ºp¾Çµ½±p¿³À~~~p¦º·Àpµ³ÀpÅ³È·p¿ÁÀ·±~~~p··~~~\n",
      "Length: 46\n",
      "OpenSourceTechniques-6\n",
      "b'K\\xc8kDN\\x82~0\\xbb\\x00\\xb7\\x9b_M \\xcb/\\xe7<f\\xce\\x1f-\\x87\\x166\\xda\\xfan\\xa9\\xb8\\xa9\\xa9u\\xbd5\\xa4+\\x83V\\x01O\\xc2\\x8ci\\x07\\xa4\\xa8d\\xbb^\\xc8\\xbek\\x1c\\\\\\xc4e\\xec\"\\x8c\\x148S\\xee\\x80.\\xe0\\xb8\\x9b\\x93QqG\\x0e\\xe0\\xa8\\xc2\\x96-'\n",
      "Length: 80\n",
      "Embedding Efficiency: 4.6\n",
      "==============\n",
      "348No no. I will check all rooms befor activities\n",
      "customizedTechniques-2\n",
      "Pq pq. K yknn ejgem cnn tqqou dghqt cevkxkvkgu\n",
      "Length: 46\n",
      "customizedTechniques-3\n",
      "n>L>i>>",
      ">>>",
      ">",
      "\n",
      "Length: 46\n",
      "customizedTechniques-5\n",
      " ÁpÀÁ~ppÉ»¾¾pµº·µ½p³¾¾pÄÁÁ¿Åp´·¸ÁÄp³µÆ»È»Æ»·Å\n",
      "Length: 46\n",
      "OpenSourceTechniques-6\n",
      "b'\\x16\\xfb\\xcfk\\x81\\xaa\\xf8\\x1a\\xff\\xc9A5\\x96\\xed\\xb8\\xed\\x13\\xdc\\xe0!\\xd1\\xbaS\\x18j\\x93~o\\xabOu]\\xd6\\xe3q.Q\\xe0\\x1f\\x80\\x8dBM\\x17M\\x7f\\x94Z\\x03]\\x15*D\\xac\\xc3P\\x01Z\\x8fj\\x9c\\x9d\\xf4\\x1b\\xef\\xf2\\xe7\\x03\\x040}\\x0c\\xeb\\xc0\\x85T$S\\x03\\xe7\\xf4|`\\xb2\\xa3\\x92\\x06\\xa2?\\xd6\\xbf|h\\xb4\\xe9\\x9d'\n",
      "Length: 96\n",
      "Embedding Efficiency: 3.8333333333333335\n",
      "==============\n",
      "349Not really dude, have no friends i'm afraid :(\n",
      "customizedTechniques-2\n",
      "Pqv tgcnna fwfg, jcxg pq htkgpfu k'o chtckf :(\n",
      "Length: 46\n",
      "customizedTechniques-3\n",
      "n>",
      ">",
      "J>",
      ">>",
      ">E>>XF\n",
      "Length: 46\n",
      "customizedTechniques-5\n",
      " ÁÆpÄ·³¾¾±p¶Ç¶·|pº³È·pÀÁp¸Ä»·À¶Åp»w¿p³¸Ä³»¶px\n",
      "Length: 46\n",
      "OpenSourceTechniques-6\n",
      "b'|50\\x01\\xbf\\xaa<\\xc8\\x8e\\x0f\\xa6\\x87\\xd7\\xf7)n\\x91\\x8b\\xa2\\xf3\\x0f\\xean\\xd0L\\xbd$\\x07\\xd1\\xdf\\xa3\\xc6n\\x90)BI\\xaeMT\\x97\\x92\\xa6N\\x99hk\\xe5\\xb2\\x9aR$\\x19]\\x8a\\xbb\\xe9\\xf9\\x1a\\xee\\x0e\\x9f\\xbf\\xc2\\xb6\\xf6x2l\\xa5\\xdd\\xa2HP4\\xf0*\\xe2\\x99\\x18\\xab\\xd8(6?\\xb8\\x9b\\xef#\\x7fc\\x81-\\xcf\\xb5\\xab'\n",
      "Length: 96\n",
      "Embedding Efficiency: 3.8333333333333335\n",
      "==============\n",
      "350K, can I pick up another 8th when you're done?\n",
      "customizedTechniques-2\n",
      "M, ecp K rkem wr cpqvjgt 8vj yjgp aqw'tg fqpg?\n",
      "Length: 46\n",
      "customizedTechniques-3\n",
      "kJ>>i>>>",
      ">V>",
      ">E",
      ">",
      "]\n",
      "Length: 46\n",
      "customizedTechniques-5\n",
      "|pµ³ÀppÂ»µ½pÇÂp³ÀÁÆº·ÄpÆºpÉº·Àp±ÁÇwÄ·p¶ÁÀ·\n",
      "Length: 46\n",
      "OpenSourceTechniques-6\n",
      "b\"Nx\\xd7\\r&U|\\xe6AH\\xcf\\xa2\\x91\\xbe\\x00XK\\xa6/\\xe6\\xf3\\x9dt\\x9f\\xbd6!N\\xd6\\x84\\xa8\\xebe\\xc5\\x15\\xe5\\xdc\\x9d\\xf7\\xa1\\xd7\\x16\\xd3*\\x9e\\x96\\x01\\x9bx\\x8d\\xed\\xea\\xfe@'\\x0b\\xe3V\\xb2\\x89'\\x06O\\xfb\\xebDf\\x91\\xdc\\xb6I\\xab\\x16\\xc8O\\x99\\xf50\\x1dX\\xb4\\x95\\xec\\xe6\\x8d\\\\\\xeb\\x82\\xf5\\xd3\\x8a\\xdd\\x89\\x0e\\xf5\\t\"\n",
      "Length: 96\n",
      "Embedding Efficiency: 3.8333333333333335\n",
      "==============\n",
      "351But that's on ebay it might be less elsewhere.\n",
      "customizedTechniques-2\n",
      "Dwv vjcv'u qp gdca kv okijv dg nguu gnugyjgtg.\n",
      "Length: 46\n",
      "customizedTechniques-3\n",
      "b>E>>",
      ">>>",
      ">",
      ">",
      "",
      "",
      "",
      "L\n",
      "Length: 46\n",
      "customizedTechniques-5\n",
      "ÇÆpÆº³ÆwÅpÁÀp·´³±p»Æp¿»¹ºÆp´·p¾·ÅÅp·¾Å·Éº·Ä·~\n",
      "Length: 46\n",
      "OpenSourceTechniques-6\n",
      "b\"\\xe8\\xf4\\x91\\xed\\xfdM'GAa$\\xd8\\x8a\\xc3\\x88\\xd0\\x08\\xb0\\x96\\xf22L\\x0f\\xbeC0\\xf3ip\\x9dV(~\\x85<\\xcc\\xc7\\x04\\xf1Q\\xcd\\x11\\x86J\\xf5\\x08\\xa3\\x9f\\xfc\\x9b\\x9d\\xb3\\x06I\\xc8+u\\x15\\xa2U\\xa4\\xca0\\x1b\\xcd\\xd5\\xe4\\xbbdFDN^\\x91\\xdc\\xae\\xc0\\x03yG\\x85\\x9eEZ\\x8dB\\xbc\\x11\\x89\\x9d\\xdb\\xb0\\x10\\xfc\\xf74\"\n",
      "Length: 96\n",
      "Embedding Efficiency: 3.8333333333333335\n",
      "==============\n",
      "352Ok anyway no need to change with what you said\n",
      "customizedTechniques-2\n",
      "Qm cpayca pq pggf vq ejcpig ykvj yjcv aqw uckf\n",
      "Length: 46\n",
      "customizedTechniques-3\n",
      "o>>>",
      "",
      ">>",
      ">>>>\n",
      "Length: 46\n",
      "customizedTechniques-5\n",
      "¡½p³À±É³±pÀÁpÀ··¶pÆÁpµº³À¹·pÉ»ÆºpÉº³Æp±ÁÇpÅ³»¶\n",
      "Length: 46\n",
      "OpenSourceTechniques-6\n",
      "b\"\\x90\\xc6\\x0b\\x88\\xdb\\x07\\xf1X\\x87\\xcfB\\xa7x\\n\\x12:\\x99\\x06\\x17\\x86\\xbc:t\\x92'\\xa4\\xf3\\xea\\xb1\\xd2i\\xcf\\x88\\xa6\\xc0\\xb2\\xf2\\x80\\xeeT\\xd9r\\xf6\\xa6G\\x11'\\xdf\\xc6T\\x1b_\\x8e\\xc5\\xc5\\xa6\\xdb\\xf2\\x00\\xe2\\x8d\\xce6>7\\xd1\\x83\\x005\\x08\\xf1\\xb7; K\\xcf*H2\\x91\\xe05\\xbea\\xee\\xd0S\\xe3\\xc4\\x9c$\\x96\\x87\\xce\\xb82\"\n",
      "Length: 96\n",
      "Embedding Efficiency: 3.8333333333333335\n",
      "==============\n",
      "353I've got  &lt;#&gt; , any way I could pick up?\n",
      "customizedTechniques-2\n",
      "K'xg iqv  &nv;#&iv; , cpa yca K eqwnf rkem wr?\n",
      "Length: 46\n",
      "customizedTechniques-3\n",
      "iE",
      ">>>DYADY>J>>>i>>>]\n",
      "Length: 46\n",
      "customizedTechniques-5\n",
      "wÈ·p¹ÁÆppv¾Æsv¹Æp|p³À±pÉ³±ppµÁÇ¾¶pÂ»µ½pÇÂ\n",
      "Length: 46\n",
      "OpenSourceTechniques-6\n",
      "b'iy\\x1a\\x96&\\xaa0\\xbe\\x10Q\\x82\\xdd.\\xb6\\x10\\xcf&Od\\\\B\\x00cV7\\x17fZ\\xe2sW\\t\\x85P-\\x96\\xf4\\xf3\\xdcMx\\xc2\\xed\\x1b\\x8f\\xad\\x87\\x10\\x8d\\xc7\\x99\\xdfODE\\xa5\\xd8CF{=B\\xb9b#\\x07\\xc3\\x9a\\xcd\\xe78\\xaa\\x0c\\xe5)3W\\xb0MH'\n",
      "Length: 80\n",
      "Embedding Efficiency: 4.6\n",
      "==============\n",
      "354What is this 'hex' place you talk of? Explain!\n",
      "customizedTechniques-2\n",
      "Yjcv ku vjku 'jgz' rnceg aqw vcnm qh? Gzrnckp!\n",
      "Length: 46\n",
      "customizedTechniques-3\n",
      "w>>>E",
      "E>",
      ">>>]>e?\n",
      "Length: 46\n",
      "customizedTechniques-5\n",
      "©º³Æp»ÅpÆº»Åpwº·ÊwpÂ¾³µ·p±ÁÇpÆ³¾½pÁ¸pÊÂ¾³»Àq\n",
      "Length: 46\n",
      "OpenSourceTechniques-6\n"
     ]
    },
    {
     "name": "stdout",
     "output_type": "stream",
     "text": [
      "b',\\x99+\\xaf*\\x05\\x99\\x12?\\xd9\\x8e\\xb0\\x8b\\xb5*(\\x08\\xbb\\x10\\x8c\\xd7\\xa3s\\x96\\xe6#{[\\x9cs\\xd6?\\xe8\\xb8\\x9aK\\xd2\\x81slg\\x84E\\x1c\\x02RQ\\xe3\\x1dU\\xe8{Hj\\n\\xec\\x90\\x168\\x04\\xbe\\xc6\\xf7\\x89s\\xf1\\xaa\\xeb\\x9a\\x0c\\xfe\\xf4\\x88\\x8f\\xc2\\xa5h\\x178\\x0c>\\xc9\\xa5\\xe1\\x80\\xcf2*#=\\x9d\\xce\\x88CU4'\n",
      "Length: 96\n",
      "Embedding Efficiency: 3.8333333333333335\n",
      "==============\n",
      "355I dunno they close oredi not... ÌÏ v ma fan...\n",
      "customizedTechniques-2\n",
      "K fwppq vjga enqug qtgfk pqv... LO x oc hcp...\n",
      "Length: 46\n",
      "customizedTechniques-3\n",
      "i>>",
      ">",
      ">",
      ">LLL>jm>>>LLL\n",
      "Length: 46\n",
      "customizedTechniques-5\n",
      "p¶ÇÀÀÁpÆº·±pµ¾ÁÅ·pÁÄ·¶»pÀÁÆ~~~ppÈp¿³p¸³À~~~\n",
      "Length: 46\n",
      "OpenSourceTechniques-6\n",
      "b'w\\x8b\\xb7\\xba\\x81\\x15.l\\x1e~J\\x15\\xf6{\\x06J\\x00\\x80\\xaa\\xa8\\xcb\\xb2\\x1a\\xa2\\xe8\"JlJ\\xef\\xedN\\xb2\\x02xT\"W\\xf7\\x14SJj\\xbc\\xd3\\x1c\\xce\\xf45\\xa1=\\x1e\"\\xa1\\xb8\\xa7\\x83\\xde\"\\xba\\xc6\\xb6\\xc9\\xfe\\xb9pd\\xc3o~6\\xe79\\xeb\\x951\\xfd\\xba\\xa0\\x85'\n",
      "Length: 80\n",
      "Embedding Efficiency: 4.6\n",
      "==============\n",
      "356Oops, I'll let you know when my roommate's done\n",
      "customizedTechniques-2\n",
      "Qqru, K'nn ngv aqw mpqy yjgp oa tqqoocvg'u fqpg\n",
      "Length: 47\n",
      "customizedTechniques-3\n",
      "oJ>iE>",
      ">>>",
      ">>",
      "E>",
      "\n",
      "Length: 47\n",
      "customizedTechniques-5\n",
      "¡ÁÂÅ|pw¾¾p¾·Æp±ÁÇp½ÀÁÉpÉº·Àp¿±pÄÁÁ¿¿³Æ·wÅp¶ÁÀ·\n",
      "Length: 47\n",
      "OpenSourceTechniques-6\n",
      "b'\\x82\\x8b\\x01SOx\\xae\\xda3\\xf1\\xf5\\x1f\\x82^\\xc6X\\xbc<K\\xc6\\x8c\\xf6\\x8e3\\x16\\xfb\\xe7\\xc04&!\\x06t0s~k\\x99\\x025\\x96\\xa3\\xdbZH\\xea%Hm\\xa4\\xa48\\xf17\\xc2\\xc7\\xd2\\x9a\\xbe\\x02\\xb4\\xd9uB\\xa0P\\xad\\xb6\\xbf\"\\xcd\\x9b\\xf5\\xa7]H\\x81\\xaa\\x93\\xab\\'u\\x05\\x86\\xbc->}A\\xedZ\\xdf\\xa4\\x94\\x9dr'\n",
      "Length: 96\n",
      "Embedding Efficiency: 3.9166666666666665\n",
      "==============\n",
      "357Not sure yet, still trying to get a hold of him\n",
      "customizedTechniques-2\n",
      "Pqv uwtg agv, uvknn vtakpi vq igv c jqnf qh jko\n",
      "Length: 47\n",
      "customizedTechniques-3\n",
      "n>",
      ">",
      "J>>>>",
      ">>>>\n",
      "Length: 47\n",
      "customizedTechniques-5\n",
      " ÁÆpÅÇÄ·p±·Æ|pÅÆ»¾¾pÆÄ±»À¹pÆÁp¹·Æp³pºÁ¾¶pÁ¸pº»¿\n",
      "Length: 47\n",
      "OpenSourceTechniques-6\n",
      "b'\\x83\\x016\\xb2m\\xc0<1?\\xcb\\xb0k\\xa5+}\\xb7\\xb8/\\xccY\\x06\\xc3\\xafd\\x13\\n\\x995\\x1dH\\xe2\\xecs\\x9e[y\\xd9\\xbe\\xf4\\x10\\xa3\\xcc\\xb4\\xce\\x99B\\xf3\\x84\\xb6\\x0f\\xf7a\\x04UW\\x94\\xdf\\x0c\\xa8\\xc4\\xf41\\xa5S\\x04xv\\x82H\\xfa\\x00\\xff\\x1d\\x0e\\xf8u\\xdf?\\x85.t\\xb8\\x96_$t\\xe1\\xed\\x9a\\xbcoC\\xdd\\xa2\\x1f/'\n",
      "Length: 96\n",
      "Embedding Efficiency: 3.9166666666666665\n",
      "==============\n",
      "358The evo. I just had to download flash. Jealous?\n",
      "customizedTechniques-2\n",
      "Vjg gxq. K lwuv jcf vq fqypnqcf hncuj. Lgcnqwu?\n",
      "Length: 47\n",
      "customizedTechniques-3\n",
      "t",
      ">",
      "L>i>>>>>L>j",
      "]\n",
      "Length: 47\n",
      "customizedTechniques-5\n",
      "¦º·p·ÈÁ~pp¼ÇÅÆpº³¶pÆÁp¶ÁÉÀ¾Á³¶p¸¾³Åº~p·³¾ÁÇÅ\n",
      "Length: 47\n",
      "OpenSourceTechniques-6\n",
      "b';\\x914\\x08D,\\xda\\x8b\\xe1Ql\\xafk2\\xd8\\x19\\x1dY\\xebzJCP\\xf5XZ\\x06\\xcd\\xf8HE&T\\x91\\x1fA\\x15\\x8a\\x0b!\\x89\\x82\\x8f\\xc8\\xadO\\xac\\x89x>\\x92v`\\xcf\\x95\\xd7#\\x05-\\xd9\\xac\\x91y\\xae\\xd9\\x87P\\x1d\\xf4{\\xec\\xa0c\\xcd\"\\x1ecy\\nD8\\xcb\\\\\\xcbfm\\xc6\\x85kP\\x8a\\xe4\\xab+\\xb1c'\n",
      "Length: 96\n",
      "Embedding Efficiency: 3.9166666666666665\n",
      "==============\n",
      "359Just sent it. So what type of food do you like?\n",
      "customizedTechniques-2\n",
      "Lwuv ugpv kv. Uq yjcv varg qh hqqf fq aqw nkmg?\n",
      "Length: 47\n",
      "customizedTechniques-3\n",
      "j>",
      ">L>s>>",
      ">>>>>",
      "]\n",
      "Length: 47\n",
      "customizedTechniques-5\n",
      "ÇÅÆpÅ·ÀÆp»Æ~p¥ÁpÉº³ÆpÆ±Â·pÁ¸p¸ÁÁ¶p¶Áp±ÁÇp¾»½·\n",
      "Length: 47\n",
      "OpenSourceTechniques-6\n",
      "b'\\xf0\\xc3 l\\xdc\\x1c\\xfdK\\xdc/)\\\\(\\x94\\xe1\\xb4\\xeci\\xfe\\xeaQ\\xd0<y\\xd5\\xace\\x188F \\x85\\xe6\\xb5,=A\\xbe\\x88M\\x06s3pz\\xdau\\xc4^8 \\xea\\xe6\\n\\xb5^\\x171\\x96J\\xbb\\x0e\\xb1\\xf2\\xad\\xa9\\x13,\\x0b\\xcc\\x1e\\xd9\\xed\\xad.\\xe5Y6zp]\\xebx\\x9fj\\xc0\\xf1n\\xc0\\xa1\\x97\\x92r-\\xe6\\xe2'\n",
      "Length: 96\n",
      "Embedding Efficiency: 3.9166666666666665\n",
      "==============\n",
      "360Yup having my lunch buffet now.. U eat already?\n",
      "customizedTechniques-2\n",
      "Awr jcxkpi oa nwpej dwhhgv pqy.. W gcv cntgcfa?\n",
      "Length: 47\n",
      "customizedTechniques-3\n",
      "_>>>>",
      ">LL>u>",
      ">",
      "]\n",
      "Length: 47\n",
      "customizedTechniques-5\n",
      "ÇÂpº³È»À¹p¿±p¾ÇÀµºp´Ç¸¸·ÆpÀÁÉ~~p§p·³Æp³¾Ä·³¶±\n",
      "Length: 47\n",
      "OpenSourceTechniques-6\n",
      "b'\\x83K\\xfd\\x15\\xca3\\xf3NLY\\\\\\x01T\"t\\xf4\\xae6\\x05\\xb0\\xdf\\xd3\\xb8\\x98\\xad\\xfdC\\xcb.\\xb3\\xf3V\\x00\\xbdX\\xa0\\xd1\\x13S\\xbc\\x9e\\xec\\x1aZp\\x9a\\x7f\\r\\x1c\\x0b\\xb2\\x84\\x1c\\xbc\\xb1\\x0c\\xa5K\\xdeH\\xc9\\x06e}l\\x84\\xd3\\x14\\xd9\\x9a\\x84v|t*wX\\xd6\\x85BH8\\xef\\xda\\xdbvTZ\\xf4\\xdbekM\\xda\\xf7\\xe1'\n",
      "Length: 96\n",
      "Embedding Efficiency: 3.9166666666666665\n",
      "==============\n",
      "361But i have to. I like to have love and arrange.\n",
      "customizedTechniques-2\n",
      "Dwv k jcxg vq. K nkmg vq jcxg nqxg cpf cttcpig.\n",
      "Length: 47\n",
      "customizedTechniques-3\n",
      "b>>",
      ">L>i>",
      ">>",
      ">",
      ">>",
      "L\n",
      "Length: 47\n",
      "customizedTechniques-5\n",
      "ÇÆp»pº³È·pÆÁ~pp¾»½·pÆÁpº³È·p¾ÁÈ·p³À¶p³ÄÄ³À¹·~\n",
      "Length: 47\n",
      "OpenSourceTechniques-6\n",
      "b'}\\xd4\\x80\\xa9\\x8a\\xa1\\xda%\\xc6\\x02f\\xacE&t\\xa6\\xda\\x8c(\\xff\\xe0\\'\\xc9\\x1e^\\n\\xe2\\xd3)9\\xde35\\x13\\x0e\\x1d\\xcc\\xc7\\xedyT\\x86\\xb8 \\xc2\\xf0\"\\xfb\\xa4\\x1fa\\xe6e \\x13\\xb97\\xc1@\\xb0\\xe4b\\xac\\x1f\\x0e\\xf1\\x14\\xf6\\x84H\\xb3Z\\x891\\x90\\xa8\\x1f\\xbb4\\x8f\\xff\\xde\\xce\\xc9s\\xf5Z\\x05\\xf1\\xf0\\x006`\\x89l\\xbc'\n",
      "Length: 96\n",
      "Embedding Efficiency: 3.9166666666666665\n",
      "==============\n",
      "362Si si. I think ill go make those oreo truffles.\n",
      "customizedTechniques-2\n",
      "Uk uk. K vjkpm knn iq ocmg vjqug qtgq vtwhhngu.\n",
      "Length: 47\n",
      "customizedTechniques-3\n",
      "s>L>i>>>>",
      ">",
      ">",
      ">",
      "L\n",
      "Length: 47\n",
      "customizedTechniques-5\n",
      "¥»pÅ»~ppÆº»À½p»¾¾p¹Áp¿³½·pÆºÁÅ·pÁÄ·ÁpÆÄÇ¸¸¾·Å~\n",
      "Length: 47\n",
      "OpenSourceTechniques-6\n",
      "b\"\\xda\\x00\\xd1\\n\\x19\\x16-\\x10\\xcf\\xed\\xd6\\x1d+\\xf5\\xfan\\x9e5=E<\\x8dy\\x1d\\x1c\\x03\\x1d\\xa4\\x84<\\x84\\xb3\\x06\\x8a\\x91\\xbb\\x03\\xef<8\\xcb4\\xb8\\xc60\\xd9W\\xcc\\x92p\\x0eg'}\\xc8\\xdc\\x05\\x1a\\xf7d\\x8eY3\\xa4\\xc8Z%\\x82I\\x9b\\xd7}\\xccV\\x99Y<d\\xd7\\x05\\x0b\\x80&\\xf1\\xd0\\xf6=C\\xf7\\xdbA\\x9d\\x12\\x1f\\x02\\x84\"\n",
      "Length: 96\n",
      "Embedding Efficiency: 3.9166666666666665\n",
      "==============\n",
      "3634 oclock at mine. Just to bash out a flat plan.\n",
      "customizedTechniques-2\n",
      "4 qenqem cv okpg. Lwuv vq dcuj qwv c hncv rncp.\n",
      "Length: 47\n",
      "customizedTechniques-3\n",
      "R>>>",
      "L>j>>>>>>L\n",
      "Length: 47\n",
      "customizedTechniques-5\n",
      "pÁµ¾Áµ½p³Æp¿»À·~pÇÅÆpÆÁp´³ÅºpÁÇÆp³p¸¾³ÆpÂ¾³À~\n",
      "Length: 47\n",
      "OpenSourceTechniques-6\n",
      "b'\\xb2\\x0f\\xf0\\xc7\\x9d\\xc3\\x8c\\xa8Rq\\xcf+\\xb4K\\xd9#\\xc0\\x1a\\xdf\\x9a\\xcb\\xdcA\\n\\xf9\\xff`\\xf4\\x11\\n\\xeb\\x97\\x1d\\x15d*\\x17R\\x92\\xad\\xeeP\\xde\\xf2\\xd12\\xb5\\x04a\\x89.J\\xff\\xac\\xa5\\xb8e\\xa6\\x93+\\xc7AX\\xab[\\x81\\x19\\x08\\xbd,J\\xa4\\x10n\\xd8{*>\\x93j\\xac[\\xe2ych\\xbf\\xf6\\xc5\\xc8n\\xa6\\x07>\\x87\\xc5'\n",
      "Length: 96\n",
      "Embedding Efficiency: 3.9166666666666665\n",
      "==============\n",
      "364Alright omw, gotta change my order to a half8th\n",
      "customizedTechniques-2\n",
      "Cntkijv qoy, iqvvc ejcpig oa qtfgt vq c jcnh8vj\n",
      "Length: 47\n",
      "customizedTechniques-3\n",
      "a>J>>",
      ">>",
      ">>>V\n",
      "Length: 47\n",
      "customizedTechniques-5\n",
      "¾Ä»¹ºÆpÁ¿É|p¹ÁÆÆ³pµº³À¹·p¿±pÁÄ¶·ÄpÆÁp³pº³¾¸Æº\n",
      "Length: 47\n",
      "OpenSourceTechniques-6\n",
      "b'H\\xb0\\xe7\\xa0^\\x13\\xd3#\\xdd\\xb6;,g[\\xe4|\\xe1\\xce}\\x99\\x85\\xda\\x8b\\xb6G\\xaa7\\xbb\\tTb*\\xf0\\x00\\xcbv\\xc4mz\\xde\\x0c\\xbf\\xb3\\x95\\xddR\\x01\\xca\\x16\\xd5(y\\xc7\\x03:T\\x19I\\x1c\\r^\\xed\\x9e{y\\xbc\\x85\\xe2#\\xb9*\\xf6\\xe4\\xc8\\xb5e$\\x17\\x08\\xe4n%TL\\xcb\\x05J\\xfeC\\x07\\x80qNh\\xec\\xb9'\n",
      "Length: 96\n",
      "Embedding Efficiency: 3.9166666666666665\n",
      "==============\n",
      "365Men like shorter ladies. Gaze up into his eyes.\n",
      "customizedTechniques-2\n",
      "Ogp nkmg ujqtvgt ncfkgu. Icbg wr kpvq jku gagu.\n",
      "Length: 47\n",
      "customizedTechniques-3\n",
      "m",
      ">",
      ">",
      ">",
      "L>g",
      ">>>>",
      "",
      "L\n",
      "Length: 47\n",
      "customizedTechniques-5\n",
      "·Àp¾»½·pÅºÁÄÆ·Äp¾³¶»·Å~p³²·pÇÂp»ÀÆÁpº»Åp·±·Å~\n",
      "Length: 47\n",
      "OpenSourceTechniques-6\n",
      "b'g\\xef\\x82\\xc8\\xd8\\xc6u/\\x87uE\\x9e\\x81\\xc9`&)\\xdeU^\\x90\\xb0\\xf2&\\x96\\xdf\\n\\x96#\\x90\\xd2q\\xd1J\\xd7\\r\\xa5\\xc5\\x9c\\xea\\xc2[aT\\xb9\\xa3\\xd93\\xea\\xa2mV6\\xd5\\x03lD{\\x11o\\xe9\\xc0\\xc0\\x04I\\xb8]Ppn\\xbbgr\\x0c4\\x99)`\\xfc\\xb90H\\xf5\\xea\\xbd\\x94\\x00k<\\x0f\\xa5\\xe0\\xf6\\x8d\\xb5\\xcb'\n",
      "Length: 96\n",
      "Embedding Efficiency: 3.9166666666666665\n",
      "==============\n",
      "366Ugh I don't wanna get out of bed. It's so warm.\n",
      "customizedTechniques-2\n",
      "Wij K fqp'v ycppc igv qwv qh dgf. Kv'u uq ycto.\n",
      "Length: 47\n",
      "customizedTechniques-3\n",
      "u>i>E>>",
      ">>>",
      "L>iE>>L\n",
      "Length: 47\n",
      "customizedTechniques-5\n",
      "§¹ºpp¶ÁÀwÆpÉ³ÀÀ³p¹·ÆpÁÇÆpÁ¸p´·¶~pÆwÅpÅÁpÉ³Ä¿~\n",
      "Length: 47\n",
      "OpenSourceTechniques-6\n",
      "b'Y\\xb3 \\xcd\\xd1\\xb9%M\\xaf\\xe9-]\\xb1\\xa0\\xfa-\\x84\\xc5g\\xb5\\x02j\\x91B\\xd7\\x98\\xf1\\xd2K\\xd86\\x84K\\xb9\\xfe\\x14}\\xdc\\x01\\xe2\\xde#\\x1c\\x0c\\x8b\\xbf\\x89\\x1d\\x04\\x88\\xae\\xf6\\x02e\\xc1\\x1diM\\xff\\xe7+C0fTj#J\\x99\\x06\\xa3\\x0b9\\x89rg\\x0f\\xea\\xa8\\xed\\xbc\\xcbv\\x02\\x93\\xdd|\\xa9\\xda\\xfe\\x9c\\xdb\\xd6\\x991z'\n",
      "Length: 96\n",
      "Embedding Efficiency: 3.9166666666666665\n",
      "==============\n",
      "367Since when, which side, any fever, any vomitin.\n",
      "customizedTechniques-2\n",
      "Ukpeg yjgp, yjkej ukfg, cpa hgxgt, cpa xqokvkp.\n",
      "Length: 47\n",
      "customizedTechniques-3\n",
      "s",
      ">",
      "J>>",
      "J>>",
      "",
      "J>>L\n",
      "Length: 47\n",
      "customizedTechniques-5\n",
      "¥»Àµ·pÉº·À|pÉº»µºpÅ»¶·|p³À±p¸·È·Ä|p³À±pÈÁ¿»Æ»À~\n",
      "Length: 47\n",
      "OpenSourceTechniques-6\n",
      "b'\\x94\\xd6\\xfd\\xb3\\xe3\\x90]\\xa5\\x88\\xca\\xcb\\x83S\\xa5\\xcd\\x86\\x16\\xf2\\xfd\\xa1:\\x19\\xfb)\\x1dLc\\x9d\\xed\\xd4S\\xb397\"\\xc8\\x0c\\x11\\x8cfPH\\xac\\x1c\\x9a\\x16\\xd4\\xf0}m\\x1bMY\\x9e8\\x8d\\xb8p\\x1f~\\xe0\\x88\\xb8\\xe7\\xf0\\x97 \\xe0\\x94\\xa8\\'\\xd9\\x00#\\x00\\x90\\xd6\\xdd\\xab\\xe39\\xba\\x1fbB\\n\\xb4\\x1b\\xc01\\x03\\xa1\\x07\\x85\\x1b0'\n",
      "Length: 96\n",
      "Embedding Efficiency: 3.9166666666666665\n",
      "==============\n",
      "368Also remember to get dobby's bowl from your car\n",
      "customizedTechniques-2\n",
      "Cnuq tgogodgt vq igv fqdda'u dqyn htqo aqwt ect\n",
      "Length: 47\n",
      "customizedTechniques-3\n",
      "a>",
      "",
      "",
      ">>",
      ">E>>>>\n",
      "Length: 47\n",
      "customizedTechniques-5\n",
      "¾ÅÁpÄ·¿·¿´·ÄpÆÁp¹·Æp¶Á´´±wÅp´ÁÉ¾p¸ÄÁ¿p±ÁÇÄpµ³Ä\n",
      "Length: 47\n",
      "OpenSourceTechniques-6\n",
      "b'\\xa3\\xce[\\xa3\\xc87\\x8egN\\xcf6gb\\x8b\\x94\\xe4\\x7fO\\xf0|\\x88E\\xae3\\x16\\xceQ\\xc2\\xd5\\x06\\x9d\\x89\\x9dk\\x10\\xd8\\x97)\\x0e$R\\xfa\\x00R7h\\xdf\\x15p\\xac.a\\x1fie\\x8by\\xab\\x90\\xa5C\\x8dmk\\xa2\\xce08\\x8b\\x8f&\\xfbvY\\xd7c\\xff\\xf2\\xb3G\\xf7\\xe6~uqM\\xba0\\x1e\\xa3\\xcev-\\x14\\x10I'\n",
      "Length: 96\n",
      "Embedding Efficiency: 3.9166666666666665\n",
      "==============\n",
      "369Change again... It's e one next to escalator...\n",
      "customizedTechniques-2\n",
      "Ejcpig cickp... Kv'u g qpg pgzv vq guecncvqt...\n",
      "Length: 47\n",
      "customizedTechniques-3\n",
      "c",
      ">LLL>iE>",
      ">",
      ">",
      ">>",
      "LLL\n",
      "Length: 47\n",
      "customizedTechniques-5\n",
      "º³À¹·p³¹³»À~~~pÆwÅp·pÁÀ·pÀ·ÊÆpÆÁp·Åµ³¾³ÆÁÄ~~~\n",
      "Length: 47\n",
      "OpenSourceTechniques-6\n",
      "b'1\\xdc\\x0b\\xda\\xcdX&\\x0c\\xdc`B\\xa2VLS\\xac\\x7fT\\xac<\\xf8\\x85}M\\xc4e\\x05}\\xf3\\x02\\x07\\x82\\xbcc\\xe5\\xf9\\xaf\\xc3\\x96\\xd1\\xd9\\xd2\\x06\\\\\\xab\\xdcQ|\\x9cKd\\xb9\\x84.[\\x1d\\xf1\\xe1$\\x08\\xefo)\\xdd\\x1c\\x1c! 6\\xc6\\xac\\xd5\\xbbj\\x85\\x8d\\x10\\xbb\\x8a\\x19^\\x98\\xfe`\\xa2\\xa2\\x04\\xffa=\\nJ\\x11\\xe4\\xa9\\x1c'\n",
      "Length: 96\n",
      "Embedding Efficiency: 3.9166666666666665\n",
      "==============\n",
      "370Ha ha ha good joke. Girls are situation seekers.\n",
      "customizedTechniques-2\n",
      "Jc jc jc iqqf lqmg. Iktnu ctg ukvwcvkqp uggmgtu.\n",
      "Length: 48\n",
      "customizedTechniques-3\n",
      "h>>>>",
      "L>g>",
      ">>",
      "",
      "",
      "L\n",
      "Length: 48\n",
      "customizedTechniques-5\n",
      "³pº³pº³p¹ÁÁ¶p¼Á½·~p»Ä¾Åp³Ä·pÅ»ÆÇ³Æ»ÁÀpÅ··½·ÄÅ~\n",
      "Length: 48\n",
      "OpenSourceTechniques-6\n",
      "b'`\\xb4t\\xe44\\x81\\xc7\\xf0\\x0c\\xfc\\x07\\xb5\\x08\\x01\\xcc{\\x0c\\xac\\xe5\\\\\\x9bJ\\r\\x92\\x7fx\\n\\x16X\\x15yF\\x8fl\\x83\\xb6\\xbb\\x8b\\x9er\\xf5[z\\xe4mN\\x92A?T\\x004\\x843\\xab)w\\xd7\\x03&\\xfc\\xe2 @\\x95\\x03\\xdd\\xbaY\\x9c\\xc4m\\xb4p\\xae7d\\xea\\xcf\\xac*$\\xd0\\x8d^T(e\\x186\\xf1\\xc4\\xbf\\x10\\xa8H'\n",
      "Length: 96\n",
      "Embedding Efficiency: 4.0\n",
      "==============\n",
      "371Whats the staff name who is taking class for us?\n",
      "customizedTechniques-2\n",
      "Yjcvu vjg uvchh pcog yjq ku vcmkpi encuu hqt wu?\n",
      "Length: 48\n",
      "customizedTechniques-3\n",
      "w>",
      ">>",
      ">>>>>>]\n",
      "Length: 48\n",
      "customizedTechniques-5\n",
      "©º³ÆÅpÆº·pÅÆ³¸¸pÀ³¿·pÉºÁp»ÅpÆ³½»À¹pµ¾³ÅÅp¸ÁÄpÇÅ\n",
      "Length: 48\n",
      "OpenSourceTechniques-6\n",
      "b'\\x9d\\x07\\x10\\x1a\\xe4\\x11\\x81\\xcc\\x8f$Z\\xda\\xe9|\\xb9\\x0eG\\xd3\\xdb=\\xf5h\\xa6s\\x0e\\x1b\\xb6f\\xd6\\x19|\\xf3\\x1e\\xba\\xe0\\x85\\xd3Z\\xa9\\xecA&\\x88\\x9b\\n\\xc9\\xef)<,1\\x94\\xbf\\xac\\x80\\x1f\\x9b\\xacy\\x0f\\xb1i\\xd9\\xfa_1vg\\xf0\\xb7u\\x84\\xe1w,\\xb0[\\x19\\xe6\\xfeg\\xe5\\xfea\\xfb\\xc6\\xce\\x89a$\\xf1\\xb7\\x12\\x9c\\xaeW'\n",
      "Length: 96\n",
      "Embedding Efficiency: 4.0\n",
      "==============\n",
      "372Tired. I haven't slept well the past few nights.\n",
      "customizedTechniques-2\n",
      "Vktgf. K jcxgp'v ungrv ygnn vjg rcuv hgy pkijvu.\n",
      "Length: 48\n",
      "customizedTechniques-3\n",
      "t",
      "L>i>",
      "E>",
      ">",
      ">",
      ">>",
      ">L\n",
      "Length: 48\n",
      "customizedTechniques-5\n",
      "¦»Ä·¶~ppº³È·ÀwÆpÅ¾·ÂÆpÉ·¾¾pÆº·pÂ³ÅÆp¸·ÉpÀ»¹ºÆÅ~\n",
      "Length: 48\n",
      "OpenSourceTechniques-6\n",
      "b'\\xa2\\xe2\\x19\\x8bsLr>\\xc3\\x90\\x85\\x8c\\xd9\\xe7\\xe3\\xcbK!\\xa8\\x84\\xecG\\xeb\\x0c\\xdahP\\xf8\\xae\\xe4\\x85D\\xf0\\x1cmqo\\xee\\xa4h\\xfe>\\xab\\x90z\\x89\\xe5iP\\xca\\xabw0\\xb8\\x07d\\x9b\\xb1I\\xc4\\x94\\xe1\\x93x\\x03\\xa4\\xb2\\xc6%\\x02A\\x91\\xe8p\\x000\\xeb\\x17\\xedzo=\\xc5\\xb5\\xcc\\xd5B\\x87\\x84\\xdd\\xce\\x19\\xf8\\xde\\xefm'\n",
      "Length: 96\n",
      "Embedding Efficiency: 4.0\n",
      "==============\n",
      "373Yes:)here tv is always available in work place..\n",
      "customizedTechniques-2\n",
      "Agu:)jgtg vx ku cnycau cxckncdng kp yqtm rnceg..\n",
      "Length: 48\n",
      "customizedTechniques-3\n",
      "_",
      "XG",
      "",
      ">>>>",
      ">>>",
      "LL\n",
      "Length: 48\n",
      "customizedTechniques-5\n",
      "·Åyº·Ä·pÆÈp»Åp³¾É³±Åp³È³»¾³´¾·p»ÀpÉÁÄ½pÂ¾³µ·~~\n",
      "Length: 48\n",
      "OpenSourceTechniques-6\n",
      "b'\\x88\\xad\\xe5\\x8b\\xa9rc\\x87;\\x94\\x86\\x8b\\x7f\\xe4\\xf5j \\x7f_\\x834\\x10\\x93\\xa3\\xc1p\\xe0\\xb1\\x06-\\xc1\\xd8\\x86\\x0e\\xa9\\x06\\xe7p\\x0f_\\xf3\\x00\\xe8\\xef\\x01\\xcaM\\xdf\\x84\\xd6\\xfc\\x93\\xe8`\\xfaOz\\xe6iR\\x10\\xf1\\xfb\\xfbi\\xe4\\x05\\xcd\\x8c]\\x98\\xba\\xbb\\xf7tW65\\xce\\x14RBh\\xc2\\xb6\\x1d\\xe4\\x935{\\xa7\\xe5\\xcd\\xe4\\x8f\\x02'\n",
      "Length: 96\n",
      "Embedding Efficiency: 4.0\n",
      "==============\n",
      "374None of that's happening til you get here though\n",
      "customizedTechniques-2\n",
      "Pqpg qh vjcv'u jcrrgpkpi vkn aqw igv jgtg vjqwij\n",
      "Length: 48\n",
      "customizedTechniques-3\n",
      "n",
      ">>E>",
      ">>>",
      ">",
      "",
      ">\n",
      "Length: 48\n",
      "customizedTechniques-5\n",
      " ÁÀ·pÁ¸pÆº³ÆwÅpº³ÂÂ·À»À¹pÆ»¾p±ÁÇp¹·Æpº·Ä·pÆºÁÇ¹º\n",
      "Length: 48\n",
      "OpenSourceTechniques-6\n",
      "b'g\\xb3\\x86\\x90S>\\xa3D\\xd9\\xb0\\xda\\x81\\xf8\\xac\\x88\\xcc\\x1a\\x80\\x0cq\\xecDQ\\x83\\x8c\\xac\\x98\\xae\\xd1\\x9a\\xeeG.\\x80:\\x90\\x8a\\xed\\xaa\\xc5\\xfe\\xd4\\xae\\no\\xb3R8E\\x86T\\x17\\x03y\\xa1\\xa6c\\'}\\xfe\\xfd\\xef\\x96(z\\x86s\\x8e=\\xfa[\\xfe\\xbfq.:\\xad`\\xc5\\x86\\xf9\\x88q\\x9f\\x82\\x04\\xf0\\xb6?/\\xec\\xa8\\xcc\"x['\n",
      "Length: 96\n",
      "Embedding Efficiency: 4.0\n",
      "==============\n",
      "375Yes:)from last week itself i'm taking live call.\n",
      "customizedTechniques-2\n",
      "Agu:)htqo ncuv yggm kvugnh k'o vcmkpi nkxg ecnn.\n",
      "Length: 48\n",
      "customizedTechniques-3\n",
      "_",
      "XG>>",
      "",
      ">",
      ">E>>",
      ">L\n",
      "Length: 48\n",
      "customizedTechniques-5\n",
      "·Åy¸ÄÁ¿p¾³ÅÆpÉ··½p»ÆÅ·¾¸p»w¿pÆ³½»À¹p¾»È·pµ³¾¾~\n",
      "Length: 48\n",
      "OpenSourceTechniques-6\n",
      "b\"\\xb9\\xc2\\xfe\\xc3T\\xa2y\\xdc\\xd0\\x17=\\xeevqw\\xe6=H\\x0b\\xa5\\xc5\\x0by\\x0b\\xc7\\x8f\\xc2\\xd8N\\x06\\xeb\\t\\x1b\\xa43\\x98\\xc7&\\xd7\\x19'C\\x97\\xd2\\xf7\\xd4\\x0c\\xa3\\xab\\xa5\\xb4\\xf9V\\x9b\\x0c\\xd1\\xbe\\xb0>\\xc1O%k\\x85\\x95A++M\\x1f \\x7f\\x7fm<SSh]^\\x19X\\xf5q\\x9b\\xc4\\xdb\\xf8\\xcf\\x12-v\\x81\\x967G\"\n",
      "Length: 96\n",
      "Embedding Efficiency: 4.0\n",
      "==============\n",
      "376He also knows about lunch menu only da. . I know\n",
      "customizedTechniques-2\n",
      "Jg cnuq mpqyu cdqwv nwpej ogpw qpna fc. . K mpqy\n",
      "Length: 48\n",
      "customizedTechniques-3\n",
      "h",
      ">>>>>",
      ">>L>L>i>\n",
      "Length: 48\n",
      "customizedTechniques-5\n",
      "·p³¾ÅÁp½ÀÁÉÅp³´ÁÇÆp¾ÇÀµºp¿·ÀÇpÁÀ¾±p¶³~p~pp½ÀÁÉ\n",
      "Length: 48\n",
      "OpenSourceTechniques-6\n",
      "b'uv\\x85\\x90\\x86!_9C\\xeb\\xceS\\x0ct\\x8e\\xbb6K\\\\\\x99\\xda\\xc8>t\\xd7W5\\xcaU\\x9c\\xed\\xcc\\xadg\\xa7\\xcc\\xb4\\t\\xb9\\xc7\\x9c_g4~\\x86\\xf6\\x17\\x18\\xfd\\xf8P\\xce\\xd9|u \\x07\\xa7\\xde\\x8f\\xea\\xe4\\xaf\\x93?\\x7f\\xef\\xb9\\x99B\\xef*\\xb0\\x07M\\xbdB\\xc4M%\\xb3\\xaf\\x84\\x97D\\xe3,\\xf8\\xf3~\\xfb\\x97`zU'\n",
      "Length: 96\n",
      "Embedding Efficiency: 4.0\n",
      "==============\n",
      "377it's really getting me down just hanging around.\n",
      "customizedTechniques-2\n",
      "kv'u tgcnna igvvkpi og fqyp lwuv jcpikpi ctqwpf.\n",
      "Length: 48\n",
      "customizedTechniques-3\n",
      "E>",
      ">",
      ">",
      ">>>>L\n",
      "Length: 48\n",
      "customizedTechniques-5\n",
      "»ÆwÅpÄ·³¾¾±p¹·ÆÆ»À¹p¿·p¶ÁÉÀp¼ÇÅÆpº³À¹»À¹p³ÄÁÇÀ¶~\n",
      "Length: 48\n",
      "OpenSourceTechniques-6\n",
      "b\"\\x0b\\x10\\x93l\\x03M%\\xd0Zj\\xae\\x92<;\\xc8Y\\x0f\\xad<\\xf6\\x87F\\xe7\\x8b\\x1a\\x89\\x7fz\\xa5A\\x9d\\t\\x8a\\x1b\\xd8\\xd9\\xec\\x83a\\xfb\\x99(\\xfb\\xf3{btvs\\x11_\\x01H\\x92\\x03d0\\xdb(u\\xe3\\x8c\\x99\\x03\\x06\\xe4\\x84PQ\\n\\x87P4\\xdab\\x06\\xea\\xbf\\x9d|'\\xd6\\x83\\x9af\\xf2@\\xf7\\x9d\\xbd\\x9f\\x81G\\x06\\xd8\\xe1\"\n",
      "Length: 96\n",
      "Embedding Efficiency: 4.0\n",
      "==============\n",
      "378sure, but make sure he knows we ain't smokin yet\n",
      "customizedTechniques-2\n",
      "uwtg, dwv ocmg uwtg jg mpqyu yg ckp'v uoqmkp agv\n",
      "Length: 48\n",
      "customizedTechniques-3\n",
      "",
      "J>>",
      ">",
      ">",
      ">>",
      ">E>>",
      "\n",
      "Length: 48\n",
      "customizedTechniques-5\n",
      "ÅÇÄ·|p´ÇÆp¿³½·pÅÇÄ·pº·p½ÀÁÉÅpÉ·p³»ÀwÆpÅ¿Á½»Àp±·Æ\n",
      "Length: 48\n",
      "OpenSourceTechniques-6\n",
      "b\"\\xdc&\\xa5\\xc5\\x01\\x00k\\xec\\xf4[\\x9f\\xd8F\\xd5\\xd2\\x0bB0uphz\\xf9\\x9e\\xcd\\xab\\x87\\x97\\xec\\xadS\\xd7:\\xd2W\\xcc\\t\\xffkJ\\xa1,P\\xb2>\\x1e\\xe1\\xbf0v\\xfc\\xca\\xde\\xf9\\x88c\\xf3\\xee\\xf2\\x8c\\xa9\\x9d\\x84\\xc1\\xbf\\xc1\\xab\\xbd\\xcb \\x0c\\xfa\\x18\\x92\\x82\\x02\\x17\\xc3J'\\xd6\\xcaZw\\xaf\\r(\\xefh\\xda\\xf5!\\x15v\\xd8\\xf1\"\n",
      "Length: 96\n",
      "Embedding Efficiency: 4.0\n",
      "==============\n",
      "379Where's my boytoy? I miss you ... What happened?\n",
      "customizedTechniques-2\n",
      "Yjgtg'u oa dqavqa? K okuu aqw ... Yjcv jcrrgpgf?\n",
      "Length: 48\n",
      "customizedTechniques-3\n",
      "w",
      "",
      "E>>]>i>>>LLL>w>",
      "",
      "]\n",
      "Length: 48\n",
      "customizedTechniques-5\n",
      "©º·Ä·wÅp¿±p´Á±ÆÁ±pp¿»ÅÅp±ÁÇp~~~p©º³Æpº³ÂÂ·À·¶\n",
      "Length: 48\n",
      "OpenSourceTechniques-6\n",
      "b\"VUtNK\\xde'\\xb51\\xc6X)\\xaau/q\\xcd\\x85\\xcf\\x92\\xe0\\xd0\\xda\\x80\\x18}\\xaf\\x8a\\xc7\\xd61E\\xf8\\x82O}]\\xe2\\xfb\\xec\\xe4\\r+\\x1f\\x99\\x99\\x96\\xfa\\xd3\\xb7)K\\xd3\\xf7\\xb9\\xa6\\xeeAE\\xb2\\xb0\\x82\\xcc,\\xb3\\x07\\xbb\\xea\\x9bZrkA\\x1cP[\\xa5\\\\\\xe5\\xc8\\xe2\\xfd\\xba}\\xfd\\xb2\\xff\\x08\\x04\\xeb\\xe0\\x91\\xceA}\\xdc\"\n",
      "Length: 96\n",
      "Embedding Efficiency: 4.0\n",
      "==============\n",
      "380U dun say so early hor... U c already then say...\n",
      "customizedTechniques-2\n",
      "W fwp uca uq gctna jqt... W e cntgcfa vjgp uca...\n",
      "Length: 49\n",
      "customizedTechniques-3\n",
      "u>>>>",
      ">LLL>u>>",
      ">",
      ">LLL\n",
      "Length: 49\n",
      "customizedTechniques-5\n",
      "§p¶ÇÀpÅ³±pÅÁp·³Ä¾±pºÁÄ~~~p§pµp³¾Ä·³¶±pÆº·ÀpÅ³±~~~\n",
      "Length: 49\n",
      "OpenSourceTechniques-6\n",
      "b'\\xceP\\xfd\\xc3\\xd4\\xb1\\xeed\\xb3\\xc8\\xf0\\xaa\\x8c\\xc7\\x12\\xa8E\\xaa#\\x9dWG\\xaep\\r\\xd5\\xaa\\xf6\\x8d3\\xb0\\xfb\\xc1L\\xa0}\\xb12\\x86-\\x94\\xe8\\xbe\\xe4\\x0e\\xf1R\\xa4\\xe5D \\xa5Fl\\xd5u\\x07\\x08\\xa7\\xd6\\xf5yac\\xf5\\xcf\\xcb*BW\\xcc\\x03N\\xf8\\xd7\\x90[\\x03.\\rg\\xd1!\\x13\\xdd\\xc2\\xe2\\x13mC\\xe2\\xd7t\\xdef\\xc4'\n",
      "Length: 96\n",
      "Embedding Efficiency: 4.083333333333333\n",
      "==============\n",
      "381I‰Û÷m going to try for 2 months ha ha only joking\n",
      "customizedTechniques-2\n",
      "K‰A÷o iqkpi vq vta hqt 2 oqpvju jc jc qpna lqmkpi\n",
      "Length: 49\n",
      "customizedTechniques-3\n",
      "i⁎_ĕ>>>>>P>>>>>\n",
      "Length: 49\n",
      "customizedTechniques-5\n",
      "₀Ň¿p¹Á»À¹pÆÁpÆÄ±p¸ÁÄpp¿ÁÀÆºÅpº³pº³pÁÀ¾±p¼Á½»À¹\n",
      "Length: 49\n",
      "OpenSourceTechniques-6\n",
      "b\"\\x919\\xb1,Z\\x16\\xee\\x94\\xa7\\xec&,T\\xb9\\xf8G\\x8c\\x9ahD\\x1eRt\\x96'\\x82'\\x8c\\x9c\\xf5\\x15g\\xc8U\\xb8\\xf1\\xdb\\x15Qvq\\x90Q\\x90\\x96\\xc5\\x93\\xe1\\xf6\\xf1\\xbc\\xf7~V@l\\x01-\\x88\\xe9\\xc1\\x0cz\\x9d\\t\\x8e\\x1fW`>\\xd9\\xa7\\x92\\xa4\\x9b[\\xd2\\xfa\\x0b\\xaf\\x02\\xc5\\xbc\\xf2X\\x92\\xa6RD'\\xcf\\xcaU}\\xf3\\xed\"\n",
      "Length: 96\n",
      "Embedding Efficiency: 4.145833333333333\n",
      "==============\n",
      "382100 dating service cal;l 09064012103 box334sk38ch\n",
      "customizedTechniques-2\n",
      "100 fcvkpi ugtxkeg ecn;n 09064012103 dqz334um38ej\n",
      "Length: 49\n",
      "customizedTechniques-3\n",
      "ONN>>",
      "",
      ">Y>NWNTRNOPONQ>QQRQV\n",
      "Length: 49\n",
      "customizedTechniques-5\n",
      "p¶³Æ»À¹pÅ·ÄÈ»µ·pµ³¾¾pp´ÁÊÅ½µº\n",
      "Length: 49\n",
      "OpenSourceTechniques-6\n",
      "b'\"\\xb8e\\xbb^\\xbe\\xbd\\x13\\xa6\\xdb \\xa5r\\xd5\\xac\\xe7\\x92L\\xdcVcV\\x9e#\\x1d\\xe5\\x15\\\\\\x19\\xe4c\\x1cA\\xd2\\xbd\\x8bbZ\\xfc\\xecu\\xfb\\xfb\\xc0\\x97\\x02\\x93\\xd1>\\xc3\\x90R\\x0e\\x9b\\xd3{)\\xabT\\xdf\\xea\\xd9\\xfe\\xd0\\x07vN\\xa0s\\xabg\\xf4\\xbdz\\xf8m[\\x01}\\x0f\\x8f\\xf1\\x01|j\\x13\\x14Tx\\xfe\\x1c\\xd7\\x1cW6\"'\n",
      "Length: 96\n",
      "Embedding Efficiency: 4.083333333333333\n",
      "==============\n",
      "383Quite late lar... Ard 12 anyway i wun b drivin...\n",
      "customizedTechniques-2\n",
      "Swkvg ncvg nct... Ctf 12 cpayca k ywp d ftkxkp...\n",
      "Length: 49\n",
      "customizedTechniques-3\n",
      "q",
      ">",
      ">LLL>a>OP>>>>>LLL\n",
      "Length: 49\n",
      "customizedTechniques-5\n",
      "£Ç»Æ·p¾³Æ·p¾³Ä~~~pÄ¶pp³À±É³±p»pÉÇÀp´p¶Ä»È»À~~~\n",
      "Length: 49\n",
      "OpenSourceTechniques-6\n",
      "b'\\xa9s\\x1f\\xff\\xe3\\xb4\\x10\\xb7\\x1c&E\\x8f6}lI\\\\\\x19\\xc3\\x94\\x04\\xa0p\\xab#\\xd1\\xb5\\xe3\\xe2\\xa9\\x83\\xe0!\\xff^]\\xfeV\\x93}]\\xfblj\\x18\\x0e\\xfc\\xa5\\x84\\x8a\\xad\\xc5q\\x8f\\xcb}.\\xa2PC\\r\\xb0)R\\xd6j\\xd5s\\x9bc^\\xd13M\\x05\\x96\\x04f\\x8ch\\xe9\\xa6\\x8d\\x10\\xef\\xba\\xc2\\xe3\\t\\x1a\\xd72\\xe4|>\\xab'\n",
      "Length: 96\n",
      "Embedding Efficiency: 4.083333333333333\n",
      "==============\n",
      "384Hope you are having a good week. Just checking in\n",
      "customizedTechniques-2\n",
      "Jqrg aqw ctg jcxkpi c iqqf yggm. Lwuv ejgemkpi kp\n",
      "Length: 49\n",
      "customizedTechniques-3\n",
      "h",
      ">>",
      ">>>>",
      "",
      "L>j>",
      ">\n",
      "Length: 49\n",
      "customizedTechniques-5\n",
      "ÁÂ·p±ÁÇp³Ä·pº³È»À¹p³p¹ÁÁ¶pÉ··½~pÇÅÆpµº·µ½»À¹p»À\n",
      "Length: 49\n",
      "OpenSourceTechniques-6\n",
      "b'\\xa9]\\x04|Ye\\x8cF\\xaa\\x14\\xa9V\\xcaxI\\xfd\\x08\\xf4u+\\xf1\\xca{5\\x82\\xfd\\'\\x9f\\x85\\xb1\\xfc\\x1a\\x11i8&\\x92K\\xd4I\"\\xd8g\\xcd\\xf5~p\\xf53\\x17a\\xc2v\\xb01\\xd9\\xf2\\xf1Q6\\x85\\x1dp=\\xab\\x0259?\\xdcDY%\\xb2\\xee\\xff*&\\xbc\\x00\\xf3\\xc8\\xeb\\x9d\\xf9>X\\x9c6a\\xd4\\x8dZ\\x86\\xcb\\x15'\n",
      "Length: 96\n",
      "Embedding Efficiency: 4.083333333333333\n",
      "==============\n",
      "385Lovely smell on this bus and it ain't tobacco... \n",
      "customizedTechniques-2\n",
      "Nqxgna uognn qp vjku dwu cpf kv ckp'v vqdceeq... \n",
      "Length: 49\n",
      "customizedTechniques-3\n",
      "l",
      ">",
      ">>>>>>E>LLL>\n",
      "Length: 49\n",
      "customizedTechniques-5\n",
      "ÁÈ·¾±pÅ¿·¾¾pÁÀpÆº»Åp´ÇÅp³À¶p»Æp³»ÀwÆpÆÁ´³µµÁ~~~p\n",
      "Length: 49\n",
      "OpenSourceTechniques-6\n",
      "b\"ZN\\xb4\\xe9?I\\x99\\xf5\\xb4\\xfcF\\xfc\\xf5Cc\\xd6\\n\\x7f\\xf5\\x9bv\\xc1hie\\xcbe\\xcb'{\\x15\\xa6\\xd5\\xecQ\\xec\\xcd\\x9aF\\xec\\xdf\\xdb\\xa4F\\x8f\\xcfe\\xf7\\xdb^\\x1c\\x0f\\x96\\x81\\xefYL\\xd2\\xf3u\\x9e\\xfa@\\xae_0-\\xd4\\xe0Z\\xc3e\\xb7Z\\xf7\\xe1\\xdb\\xe0O8\\xb2\\xbaT\\x9e\\tK\\xb9\\xba\\x04E7\\x87\\x96\\x93'\\t\"\n",
      "Length: 96\n",
      "Embedding Efficiency: 4.083333333333333\n",
      "==============\n",
      "386Hey what's up charles sorry about the late reply.\n",
      "customizedTechniques-2\n",
      "Jga yjcv'u wr ejctngu uqtta cdqwv vjg ncvg tgrna.\n",
      "Length: 49\n",
      "customizedTechniques-3\n",
      "h",
      ">E>>",
      ">>>",
      ">",
      ">",
      "L\n",
      "Length: 49\n",
      "customizedTechniques-5\n",
      "·±pÉº³ÆwÅpÇÂpµº³Ä¾·ÅpÅÁÄÄ±p³´ÁÇÆpÆº·p¾³Æ·pÄ·Â¾±~\n",
      "Length: 49\n",
      "OpenSourceTechniques-6\n",
      "b\"\\xdb\\xe2\\xe8\\xfb\\xd7|\\xcaw\\x06\\xfa\\xdd\\xady\\x86h\\x8d\\xd8\\xb7\\x89\\x89a%~\\x06N\\x92\\xc0\\x10~\\x87\\xec\\xf6\\xf1,\\xf2\\xab\\xa5\\x04\\xc6\\xa5\\xfe\\x93N\\t\\x1dx\\xcc\\x1fB\\xf6\\x82\\xd0J\\xac2`\\xa5\\xe3\\xc3\\xed\\xa7\\x90\\x9f\\x88\\r\\xd87\\x07'\\xe4\\x02O%\\xb5X\\x82rX\\xc0\\xf4b\\xd8\\xca\\x03G\\xb9\\x92i\\xde\\xeeK\\x02\\xf3\\x89h\\xd8\"\n",
      "Length: 96\n",
      "Embedding Efficiency: 4.083333333333333\n",
      "==============\n",
      "387Another month. I need chocolate weed and alcohol.\n",
      "customizedTechniques-2\n",
      "Cpqvjgt oqpvj. K pggf ejqeqncvg yggf cpf cneqjqn.\n",
      "Length: 49\n",
      "customizedTechniques-3\n",
      "a",
      ">L>i>",
      "",
      ">",
      ">",
      "",
      ">>L\n",
      "Length: 49\n",
      "customizedTechniques-5\n",
      "ÀÁÆº·Äp¿ÁÀÆº~ppÀ··¶pµºÁµÁ¾³Æ·pÉ··¶p³À¶p³¾µÁºÁ¾~\n",
      "Length: 49\n",
      "OpenSourceTechniques-6\n",
      "b'\\x99\\x1a\\xa3\\xbc\\xac\\x13\\xf7\\x0c\\xfc\\x85\\xe0\\x08\\xaa\\xb7\\xdc3\\x85\\xdfBQM)\\t?P\\xa5\\x1e\\xd2\\xc0\\xc8R\\xba\\x11<4M\\xf3\\x80w\\xd9V\\xdd\\xd5\\xde\\xb2\\xb5\\x8f\\x0b\\xd4\\xdc\\x18\\xf5c\\xa2m\\xdf\\x7f\\x95T\\xb5Y\\xd44\\xd4\\x94y.u\\x05\\x06\\xf6\\xf8\\xdf\\xc6tf1\\xdd\\x18\\xd4k\\xf95\\xf5\\xf9F\\x83P\\x9e\\xf5F\\xa0 \",\\x06'\n",
      "Length: 96\n",
      "Embedding Efficiency: 4.083333333333333\n",
      "==============\n",
      "388Carlos says he'll be at mu in  &lt;#&gt;  minutes\n",
      "customizedTechniques-2\n",
      "Ectnqu ucau jg'nn dg cv ow kp  &nv;#&iv;  okpwvgu\n",
      "Length: 49\n",
      "customizedTechniques-3\n",
      "c>>",
      "E>",
      ">>>>>DYADY>>",
      "\n",
      "Length: 49\n",
      "customizedTechniques-5\n",
      "³Ä¾ÁÅpÅ³±Åpº·w¾¾p´·p³Æp¿Çp»Àppv¾Æsv¹Æpp¿»ÀÇÆ·Å\n",
      "Length: 49\n",
      "OpenSourceTechniques-6\n",
      "b')m\\x0f\\x1f\\xd4N\\xcb\\xf9\\xfep*\\x8f?(P\\x88\\xe8\\x0b\\xcdB.\\r\\t\\xc8o\\xa5\\xba\\xd9\\x8a\\x7f\\xe7\\x87\\x027f\\xc9\\x022\\x8a\\xc3\\xdbMN\\xe1\\xa6M\\x8d\\xb9\\x04\\xdf\\x1c8\\xc1:\\x90\\xac\\xb5\\x91\\x13\\x84a\\x10\\x01\\x07l\\xe6!\\xec\\x99\\x06\\r\\xd4\\xf2\\xa8\\xd4\\xa7B0\\xe2E\\x82\\xd9lp\\xc3\\x7f\\x83\\x82\\x99\\xa8\\x07\\xb4\\x18\\x95\\xdd@'\n",
      "Length: 96\n",
      "Embedding Efficiency: 4.083333333333333\n",
      "==============\n",
      "389I like you peoples very much:) but am very shy pa.\n",
      "customizedTechniques-2\n",
      "K nkmg aqw rgqrngu xgta owej:) dwv co xgta uja rc.\n",
      "Length: 50\n",
      "customizedTechniques-3\n",
      "i>",
      ">>",
      "",
      ">",
      ">XG>>>",
      ">>L\n",
      "Length: 50\n",
      "customizedTechniques-5\n",
      "p¾»½·p±ÁÇpÂ·ÁÂ¾·ÅpÈ·Ä±p¿Çµºyp´ÇÆp³¿pÈ·Ä±pÅº±pÂ³~\n",
      "Length: 50\n",
      "OpenSourceTechniques-6\n",
      "b'\\xf7\\xbeOfNh\\xb0az\\xc3\"\\xb3Y\\xaf\\x04K\\xd6p?0\\xa8\\xdd]5\\xee\\x1f\\x93\\xf8\\x11M\\x94\\x80_\\x1a\\xd8\\x1d\\xd4\\xfeC3T\\xc2\\xe5/\\x16\\x92_\\xb0\\x81~W?\\xcc}\\xb3\\x82\\xa0>\\xder\\t\\xa6\\xc9\\x15\\x12\\xbc\\x04P\\xa9T\\x1c<(\\x9a>\\xee\\x9dGL&\\xf2\\xd9L\\xfcT\\xd7\\x99\\xfb;\\x0b\\xf7\\xa7N\\x80\\xd5\\xd4'\n",
      "Length: 96\n",
      "Embedding Efficiency: 4.166666666666667\n",
      "==============\n",
      "390Sir, I need AXIS BANK account no and bank address.\n",
      "customizedTechniques-2\n",
      "Ukt, K pggf CZKU DCPM ceeqwpv pq cpf dcpm cfftguu.\n",
      "Length: 50\n",
      "customizedTechniques-3\n",
      "sJ>i>",
      "",
      ">axis>bank>>>>>",
      "L\n",
      "Length: 50\n",
      "customizedTechniques-5\n",
      "¥»Ä|ppÀ··¶pª¥p p³µµÁÇÀÆpÀÁp³À¶p´³À½p³¶¶Ä·ÅÅ~\n",
      "Length: 50\n",
      "OpenSourceTechniques-6\n",
      "b'|\\xfbY\\xcc\\xc1\\xb4\\xee\\xa5\\x00\\xeay\\x80\\x14z\\x8b\\xaeq\\x85w;{e\\xc8\\rPA=n\\x88\\x0b\\xed\\xee\\x9c\\x8e1\\xcf3\\x0b\\x8a\\n\\xb3>\\xd3I\\x94\\xc3,\\xb5\\xce\\x8e\\xe7Q\\xe4\\xa8\\xee\\xa9\\x8c\\xb9\\x8c\\xf1\\x04g\\xc7>\\x16\\xa5L\\x96\\xec\\xf0\\x8d\\xf7\\xa7+45w.\\x13c\\x8deQ\\x84\\x1a\\xdfO8\\x1a[\\xf0<f\\xf0\\x05\\xa3'\n",
      "Length: 96\n",
      "Embedding Efficiency: 4.166666666666667\n",
      "==============\n",
      "391I have printed it oh. So  &lt;#&gt;  come upstairs\n",
      "customizedTechniques-2\n",
      "K jcxg rtkpvgf kv qj. Uq  &nv;#&iv;  eqog wruvcktu\n",
      "Length: 50\n",
      "customizedTechniques-3\n",
      "i>",
      ">",
      ">>L>s>>DYADY>>",
      ">\n",
      "Length: 50\n",
      "customizedTechniques-5\n",
      "pº³È·pÂÄ»ÀÆ·¶p»ÆpÁº~p¥Áppv¾Æsv¹ÆppµÁ¿·pÇÂÅÆ³»ÄÅ\n",
      "Length: 50\n",
      "OpenSourceTechniques-6\n",
      "b'@d\\xc4\\\\\\x9a\\xbas\\xadX\\xfd\\x0f\\xdf\\xba\\x995\\x93\\x9e\\xc6\\xba\\xea\\xdd\\x16\\xe9\\x1a[\\xe3\\x95\\x9bo\\xafu\\x06d]2hd\\x18\\x8c\\x1d\\x8f\\x99\\xce=\\x1d\\xc7\\x03\\x02z\\xd3\\xe1<pX\\x8e.\\x9a\"\\xda\\xc5\\xfe\\x1d\\x04\\xd02\\xd6_&N\\tR\\x83\\x0e\\xd3\\x92\"X\\x91Y[P\\xe6|\\x03c\\xd3\\xea3j=\\x87\\x8au\\xaf^\\xd7'\n",
      "Length: 96\n",
      "Embedding Efficiency: 4.166666666666667\n",
      "==============\n",
      "392I accidentally deleted the message. Resend please.\n",
      "customizedTechniques-2\n",
      "K ceekfgpvcnna fgngvgf vjg oguucig. Tgugpf rngcug.\n",
      "Length: 50\n",
      "customizedTechniques-3\n",
      "i>",
      ">",
      "",
      "",
      ">",
      ">",
      "",
      "L>r",
      "",
      ">",
      "",
      "L\n",
      "Length: 50\n",
      "customizedTechniques-5\n",
      "p³µµ»¶·ÀÆ³¾¾±p¶·¾·Æ·¶pÆº·p¿·ÅÅ³¹·~p¤·Å·À¶pÂ¾·³Å·~\n",
      "Length: 50\n",
      "OpenSourceTechniques-6\n",
      "b'\\x10FF\\xad i}\\xb3\\xce\\xfc\\xa3\\x1f\\xf4\\x80\\x89\\x97\\x94\\xb2\\xf4\\x9apd\\xde\\x11\\xa3M\\xb8\\xd3\\x1c\\xc9\\x97\\xc2<-\\x0f\\x85c\\xb0u\\xb3\\x93/\\xb9m\\xcf\\xa7IE\\x96P_rX\\x07\\xc1\\x03*O\\xcb{t\\xb4\\xef\\x8d\\x9af\\x8e\\x12\\xc4\\x8a\\xd1s\\x88\\x1c\\xda\\xdf\\n\\xa0\\xf9$\\x9bI\\x94\\xe7\\xb9\\xa5,F#bum\\xae\\x02+\\x85'\n",
      "Length: 96\n",
      "Embedding Efficiency: 4.166666666666667\n",
      "==============\n",
      "393Nah can't help you there, I've never had an iphone\n",
      "customizedTechniques-2\n",
      "Pcj ecp'v jgnr aqw vjgtg, K'xg pgxgt jcf cp krjqpg\n",
      "Length: 50\n",
      "customizedTechniques-3\n",
      "n>E>",
      ">>",
      "",
      "J>iE",
      ">",
      "",
      ">>>",
      "\n",
      "Length: 50\n",
      "customizedTechniques-5\n",
      " ³ºpµ³ÀwÆpº·¾Âp±ÁÇpÆº·Ä·|pwÈ·pÀ·È·Äpº³¶p³Àp»ÂºÁÀ·\n",
      "Length: 50\n",
      "OpenSourceTechniques-6\n"
     ]
    },
    {
     "name": "stdout",
     "output_type": "stream",
     "text": [
      "b'~\\xbc\\x8c\\xe0l\\xef\\x06\\x16\\xbd\\xd0\\xe7\\xb0cD(7Q\\x91\\x18\\xd7F/l|{\\xd2)\\xb3\\\\\\xec\\xf6\\xcf\\x04\\xc7\\xc1\\x02\\xe8z3\\x07\\xc2\\x0exS1z\\xdd\\xb0\\xd5s=\\x1a\\x96l\\x0bd\\xe57i\\x07\\x01m\\x8f\\xcfwh?!$\\x85=\\x9am\\x0f\\n=\\xa0u\\x013\\xe2\\x8c\\xc1\\xa3\\xd3\\xa2P1V=Q_w\\x86\\xab\\x8a'\n",
      "Length: 96\n",
      "Embedding Efficiency: 4.166666666666667\n",
      "==============\n",
      "394Well i know Z will take care of me. So no worries.\n",
      "customizedTechniques-2\n",
      "Ygnn k mpqy B yknn vcmg ectg qh og. Uq pq yqttkgu.\n",
      "Length: 50\n",
      "customizedTechniques-3\n",
      "w",
      ">>>`>>",
      ">",
      ">>",
      "L>s>>",
      "L\n",
      "Length: 50\n",
      "customizedTechniques-5\n",
      "©·¾¾p»p½ÀÁÉppÉ»¾¾pÆ³½·pµ³Ä·pÁ¸p¿·~p¥ÁpÀÁpÉÁÄÄ»·Å~\n",
      "Length: 50\n",
      "OpenSourceTechniques-6\n",
      "b'4\\xe1\\xf7\\xa7\\t;7\\xd4\\x90^!\\x80]\\xb5\\x9d\\xbea?\\x1f\\x8f\\x918\\xdb\\x0e\\x16\\x1a\\x12\\xd0L\\xb5\\x9c5\\x1b\\xc6\\xcc\\x80v\\xbc\\xa5\\x87C\\xcc\\xab\\x87\\xe7=Ag=\\xd8\\xd8\\x0e\\x02\\x95F)\\xfbu\\xcc\\xa1e\\x10\\xff\\x9dB\\r\\x08\\xd1{\\xf6\\x10`Y\\xc4Aw/\\xd7P\\xfb\\xf1\\xe1\\xa4\\x86\\xcf\\xaaT \\xcb\\x8e\\x1d\\xf4\\x1a\\xd1\\xaf\\xe1'\n",
      "Length: 96\n",
      "Embedding Efficiency: 4.166666666666667\n",
      "==============\n",
      "395How long has it been since you screamed, princess?\n",
      "customizedTechniques-2\n",
      "Jqy nqpi jcu kv dggp ukpeg aqw uetgcogf, rtkpeguu?\n",
      "Length: 50\n",
      "customizedTechniques-3\n",
      "h>>>>",
      "",
      ">",
      ">>",
      "",
      "J>",
      "]\n",
      "Length: 50\n",
      "customizedTechniques-5\n",
      "ÁÉp¾ÁÀ¹pº³Åp»Æp´··ÀpÅ»Àµ·p±ÁÇpÅµÄ·³¿·¶|pÂÄ»Àµ·ÅÅ\n",
      "Length: 50\n",
      "OpenSourceTechniques-6\n",
      "b'T\\r\\x12\\x87\\xc2\\xb2\\xa1j\\xc0\\xa6\\xc1\\xccle\\xc36\\xc2\\x86\\x10\\x10\\xc6\\x8d\\x16e\\x80\\xbc\"!=h\\x9d3\\xbb\\xc82\\xc3eO%\\xaa\\x02\\xee\\xb6$AI\\xec\\xf0=`\\xadNW\\xc47\\x07\\xe0\\xa6\\x9d\\xbdD\\xc8 i\\xf5\\xc5\\xcc\\x8e\\xcaxG\\xd5\\xf7\\xbc\\xc0\\x0b38\\xb1R\\xbfUlL\\xce2#b\\x0c\\x1a\\xa7k$$u\\xf7'\n",
      "Length: 96\n",
      "Embedding Efficiency: 4.166666666666667\n",
      "==============\n",
      "396I think i've fixed it can you send a test message?\n",
      "customizedTechniques-2\n",
      "K vjkpm k'xg hkzgf kv ecp aqw ugpf c vguv oguucig?\n",
      "Length: 50\n",
      "customizedTechniques-3\n",
      "i>>E",
      ">",
      ">>>>",
      ">>",
      ">",
      "",
      "]\n",
      "Length: 50\n",
      "customizedTechniques-5\n",
      "pÆº»À½p»wÈ·p¸»Ê·¶p»Æpµ³Àp±ÁÇpÅ·À¶p³pÆ·ÅÆp¿·ÅÅ³¹·\n",
      "Length: 50\n",
      "OpenSourceTechniques-6\n",
      "b'\\x06\\xd0!@\\xde\\xdbi\\x1b\\x1bc\\xfa\\x1f\\xa96mz\\xed\\xc6Rg4Wd\\x06\\x13\\xc3\\xd2m\\xcbw\\xaf\\xbf\\xfa\\x15\\xc2\\xe24\\x90\\x95\\xc8\\xf04\\x14f\\xbe\\x9d\\xdf\\xe5>xt\\x8efW\\x9c<)\\x15?\\x0en\\xa0&\\x96\\x9a\\xee\\xe3\\xdd\\xb9\\x15\\x94Sk\\xf7\\x12\\t\\xa9\\xa6U6\\xb6~.\\xf7\\xfd\\x1b\\x19\\xea?\\x9c$n\\rU\\x1b\\xe8'\n",
      "Length: 96\n",
      "Embedding Efficiency: 4.166666666666667\n",
      "==============\n",
      "397What Today-sunday..sunday is holiday..so no work..\n",
      "customizedTechniques-2\n",
      "Yjcv Vqfca-uwpfca..uwpfca ku jqnkfca..uq pq yqtm..\n",
      "Length: 50\n",
      "customizedTechniques-3\n",
      "w>tKLL>>LL>>LL\n",
      "Length: 50\n",
      "customizedTechniques-5\n",
      "©º³Æp¦Á¶³±}ÅÇÀ¶³±~~ÅÇÀ¶³±p»ÅpºÁ¾»¶³±~~ÅÁpÀÁpÉÁÄ½~~\n",
      "Length: 50\n",
      "OpenSourceTechniques-6\n",
      "b'!\\x95^\\xa3\\x8bI;\\xfb&>\\xbc\\xecy\\xd3Hk\\xda\\xe1\\xb8\\xbdC\\xc0L\\xb16\\xe6\\x91z\\x89|U\\xb6\\xcfT\\xd7\\x86\\xd6#g\\xf4b_\\xdf\\xe1\\x8c\\x82\\xdd\\xe6\\x89y\\xd6\\xd3\\xc4L\\xd1a\\xa2\\x8a\\x98O\\xbd\\xf3\\x94\\x1aP\\x03%}S[\\x82\\x96b\\xf1]\\xaf\\\\\\xe6\\xc3\\x02\\x0c\\x99\\xe6\\x18\\xfaMd\\r\\xf2\\xd4\\x92p7icB'\n",
      "Length: 96\n",
      "Embedding Efficiency: 4.166666666666667\n",
      "==============\n",
      "398Hey you can pay. With salary de. Only  &lt;#&gt; .\n",
      "customizedTechniques-2\n",
      "Jga aqw ecp rca. Ykvj ucncta fg. Qpna  &nv;#&iv; .\n",
      "Length: 50\n",
      "customizedTechniques-3\n",
      "h",
      ">>>L>w>>",
      "L>o>>DYADY>L\n",
      "Length: 50\n",
      "customizedTechniques-5\n",
      "·±p±ÁÇpµ³ÀpÂ³±~p©»ÆºpÅ³¾³Ä±p¶·~p¡À¾±ppv¾Æsv¹Æp~\n",
      "Length: 50\n",
      "OpenSourceTechniques-6\n",
      "b'\\xf7n\\xbeuS\\xe9\\xa8\\xab6V\\x12\\x10;\\xca\\xa0\\xbe\\xdeS\\xe6~\\xf4b@\\xb4q\\x1d\\xe4\\xb1\\xa2\\xd8\\xa0\\x90)5\\xa9\\x16\\x80\\xcd\\x9c\\xd57\\xc3\\x9d\\x92(\\x7f;F\\xd4c\\xf30\\xa2O:\\xa4a&\\xed\\x99\\x85\\xb6\\xd2\\xe6\\xdfh7h\\x7f\\x8c\\xadBv\\x80L\\x82\\xbd\\xf8X\\xe1\\xf1\\xd5\\xc7\\x93\\xe50\\x81\\x1f`\\xea\\xb5>\\x83\\xd2\\xfcr'\n",
      "Length: 96\n",
      "Embedding Efficiency: 4.166666666666667\n",
      "==============\n",
      "399i see. When we finish we have loads of loans to pay\n",
      "customizedTechniques-2\n",
      "k ugg. Yjgp yg hkpkuj yg jcxg nqcfu qh nqcpu vq rca\n",
      "Length: 51\n",
      "customizedTechniques-3\n",
      ">",
      "",
      "L>w",
      ">",
      ">>",
      ">",
      ">>>>>\n",
      "Length: 51\n",
      "customizedTechniques-5\n",
      "»pÅ··~p©º·ÀpÉ·p¸»À»ÅºpÉ·pº³È·p¾Á³¶ÅpÁ¸p¾Á³ÀÅpÆÁpÂ³±\n",
      "Length: 51\n",
      "OpenSourceTechniques-6\n",
      "b'\\x94\\xe9/\\xb2\\xaf&Hg\\t\\xc1\\xe6-\\t\\x1a \\xd35\\x10\\x89i?\\x80\\xbev~\\x8e=\\x03\\x8ar\\xe7\\xc5G\\x8a\\xf0\\xb1\\xbc\\xd2A\\xdcX\\xec\\x1a\\xef\\x13\\x03\\x14&\\xbc\\x91\\xd0\\xb3\\x9a \\x12\\xae\\x8a(\\xde\\x0e\\xe5\\x89\\x01Y\\tfq\\xb5\\x8e\\x13^8 \\xdf\\x1c4\\xcd\\x97T\\xfc\\xec\\xacA\\xea\\xa4\\xe1\\xecI\\xb3\\x11\\x84Y\\xd1\\x8c\\x11\\x8a'\n",
      "Length: 96\n",
      "Embedding Efficiency: 4.25\n",
      "==============\n",
      "400I place all ur points on e cultures module already.\n",
      "customizedTechniques-2\n",
      "K rnceg cnn wt rqkpvu qp g ewnvwtgu oqfwng cntgcfa.\n",
      "Length: 51\n",
      "customizedTechniques-3\n",
      "i>",
      ">>>>>",
      ">",
      ">",
      ">",
      "L\n",
      "Length: 51\n",
      "customizedTechniques-5\n",
      "pÂ¾³µ·p³¾¾pÇÄpÂÁ»ÀÆÅpÁÀp·pµÇ¾ÆÇÄ·Åp¿Á¶Ç¾·p³¾Ä·³¶±~\n",
      "Length: 51\n",
      "OpenSourceTechniques-6\n",
      "b'\\xc8\\xd9K>m\\xf1\\xc8\\xe4\\xe5\\x18\\xfa@\\xac#\\x17\\xb4\\xa9\\t\\x00;\\xaa\\x80\\x89\\xb5\\x91\\xc7q(\\x04\\x02S\\xf1X\\x83\\xd5\\xe2E\\xe3\\xbd\\x0c\\xe7\\x9dN\\xca\\x94dA;\\xe6\\xcd\\x93\\x92\\xe2Vo^\\xdf\\x87/\\xf5\\x9b\\xb3\\xec\\x1bp\\x9f\\xf1FS\\x0f\\xf3h\\x8b\\x07\\xcfK\\x97\\xd4htY\\xa2\\tl\\x9dl\\xb3N\\xeb\\xb0J\\xd6_\\xd7\\xb3\\xb7'\n",
      "Length: 96\n",
      "Embedding Efficiency: 4.25\n",
      "==============\n",
      "401Tomarrow final hearing on my laptop case so i cant.\n",
      "customizedTechniques-2\n",
      "Vqocttqy hkpcn jgctkpi qp oa ncrvqr ecug uq k ecpv.\n",
      "Length: 51\n",
      "customizedTechniques-3\n",
      "t>>",
      ">>>>",
      ">>>L\n",
      "Length: 51\n",
      "customizedTechniques-5\n",
      "¦Á¿³ÄÄÁÉp¸»À³¾pº·³Ä»À¹pÁÀp¿±p¾³ÂÆÁÂpµ³Å·pÅÁp»pµ³ÀÆ~\n",
      "Length: 51\n",
      "OpenSourceTechniques-6\n",
      "b\":ZP\\x82\\xea\\x93\\x1d\\xe0\\x8d\\x13Q\\xc7~\\xe9\\xc9\\xa9\\xcbk#\\xe3c\\x8b[v\\xcc\\xaf=\\xb2\\xdd\\xbd\\x86\\xa9\\xdc\\x8bT\\xca\\x0e\\x08\\x0fK\\xd3\\xd3\\xd6\\xeb\\x01\\x19b{\\xa8\\x89\\x93\\xc9\\x80/\\xcb\\x16\\xd6\\xad\\xfe\\xa9\\x1c\\x83G\\xee\\x95\\xb1u(~\\x91\\x10\\xbc+B\\xf1d\\xdc\\xa5\\x92M\\xac\\x99\\x82\\x0e'(\\xa4+\\xfa^\\x14\\x8e\\xad\\x90l\\x83\"\n",
      "Length: 96\n",
      "Embedding Efficiency: 4.25\n",
      "==============\n",
      "402MY NO. IN LUTON 0125698789 RING ME IF UR AROUND! H*\n",
      "customizedTechniques-2\n",
      "OA PQ. KP NWVQP 0125698789 TKPI OG KH WT CTQWPF! J*\n",
      "Length: 51\n",
      "customizedTechniques-3\n",
      "m_>noL>in>luton>NOPSTWVUVW>ring>me>if>ur>around?>hH\n",
      "Length: 51\n",
      "customizedTechniques-5\n",
      "p ¡~p p§¦¡ p",
      "p¤ ppp§¤p¤¡§ qpz\n",
      "Length: 51\n",
      "OpenSourceTechniques-6\n",
      "b\"VJ\\xc5'\\x90?\\xa7d\\x04\\xacyL\\xf0\\xed\\x83p\\\\A\\xaf\\xafAK\\xc8\\x11i\\xbb\\xa87\\x1c\\xf0\\xa9\\xa9\\x00\\xaev~\\x08\\n\\x9b\\xd2\\xd0-;<\\xb3\\x99\\x1d\\xa0\\xbb\\xba\\xbb\\xb1\\xe3;\\xad\\xfe2\\x00\\x17\\x0b\\xc12\\xd4C\\x1a_Z?\\x8c\\xf1m\\xc3\\xd6{\\xf8W\\xf3h#\\xcbc;L;\\x11C\\xdf.\\xf7\\xdd\\xd7\\x81\\xc0\\xf5-7\"\n",
      "Length: 96\n",
      "Embedding Efficiency: 4.25\n",
      "==============\n",
      "403I cant pick the phone right now. Pls send a message\n",
      "customizedTechniques-2\n",
      "K ecpv rkem vjg rjqpg tkijv pqy. Rnu ugpf c oguucig\n",
      "Length: 51\n",
      "customizedTechniques-3\n",
      "i>>>",
      ">",
      ">>L>p>",
      ">>",
      "",
      "\n",
      "Length: 51\n",
      "customizedTechniques-5\n",
      "pµ³ÀÆpÂ»µ½pÆº·pÂºÁÀ·pÄ»¹ºÆpÀÁÉ~p¢¾ÅpÅ·À¶p³p¿·ÅÅ³¹·\n",
      "Length: 51\n",
      "OpenSourceTechniques-6\n",
      "b\"\\xe9X\\xb5\\xc2\\x9bG\\x9d/wJ\\xfa\\x83\\xdf\\xb1\\xf6@\\x0c\\x82\\xb6'\\x83\\xbb\\xe1\\xc1[\\x8c\\xf0\\xc7\\x02\\xbf\\xb54d\\x16\\xc6\\xbd;\\x95\\x8f\\x82\\x02\\x042\\x86\\x14mA\\x04\\x8bLSj\\xbf\\xae\\x16N\\x99\\x02\\xf5'\\x93\\xf0*\\xe4bJ\\xdd\\x86h|\\xc1\\x8a-\\x7f8\\xe2\\xaa\\xefR\\x02\\x11`\\x12\\xa1\\x10\\xf6cI\\x98$\\xb2<\\x9cT\\xefS\"\n",
      "Length: 96\n",
      "Embedding Efficiency: 4.25\n",
      "==============\n",
      "404Merry Christmas to you too babe, i love ya *kisses*\n",
      "customizedTechniques-2\n",
      "Ogtta Ejtkuvocu vq aqw vqq dcdg, k nqxg ac *mkuugu*\n",
      "Length: 51\n",
      "customizedTechniques-3\n",
      "m",
      ">c>>>>",
      "J>>",
      ">>H",
      "H\n",
      "Length: 51\n",
      "customizedTechniques-5\n",
      "·ÄÄ±pºÄ»ÅÆ¿³ÅpÆÁp±ÁÇpÆÁÁp´³´·|p»p¾ÁÈ·p±³pz½»ÅÅ·Åz\n",
      "Length: 51\n",
      "OpenSourceTechniques-6\n",
      "b\"\\x88W\\x8c\\xadq\\xc6u\\xa6Ya;E\\xc9\\xce6q~\\xdf\\xcf\\x81!\\xca#\\x9b/\\xcfH\\xf89\\x93\\xc2\\x12\\xc6\\x0c\\xc1\\xf4\\x92\\xdd\\xfe\\xb4\\x07b\\xa1\\xab\\xd5\\x034@~\\xa20B\\x92\\xffI\\x1b\\xcb\\xe9G\\xd6\\x93Y\\xc3\\xf6\\x9d\\xd0\\x1cR\\x18\\x0e\\x88\\xa1\\xa1\\x8b)*@C\\xd9\\xefk.4\\xd9l\\x95*'ap\\xe7\\x84*\\xc5\\xf9\\xc1\"\n",
      "Length: 96\n",
      "Embedding Efficiency: 4.25\n",
      "==============\n",
      "405Hello! Good week? Fancy a drink or something later?\n",
      "customizedTechniques-2\n",
      "Jgnnq! Iqqf yggm? Hcpea c ftkpm qt uqogvjkpi ncvgt?\n",
      "Length: 51\n",
      "customizedTechniques-3\n",
      "h",
      "?>g>",
      "",
      "]>f>>>>",
      ">",
      "]\n",
      "Length: 51\n",
      "customizedTechniques-5\n",
      "·¾¾ÁqpÁÁ¶pÉ··½p³Àµ±p³p¶Ä»À½pÁÄpÅÁ¿·Æº»À¹p¾³Æ·Ä\n",
      "Length: 51\n",
      "OpenSourceTechniques-6\n",
      "b'\\xa1\\x93b\\x86o\\xb5\\xcf\\xeba\\xe6\\x18:)\\xfd7S%\\xb9\\x16\\xc5\\xbf\\\\g\\xa3\\xe2\\xce\\xb8D\\xc5x \\xd1\\x1ca\\x07\\xb6\\x13\\x9b\\xef\\xfaZ\\x83\\xa1A\\xb5\\xd3\\xfa\\xbe\\xa7\\xe2U0W\\xb67\\nv\\xbe4U\\x8d\\xdd\\xae\\x0c\\xe0\\x82\\xb4\\x01)f\\xcfb\\x00;-\\x13\\\\\\xa7\\xa4\\x16\\xbfq\\xc8\\xe7\\x15\\x82\\x11 \\xbce\\xb5a\\xa2Yl\\x01'\n",
      "Length: 96\n",
      "Embedding Efficiency: 4.25\n",
      "==============\n",
      "406Ok I'm gonna head up to usf in like fifteen minutes\n",
      "customizedTechniques-2\n",
      "Qm K'o iqppc jgcf wr vq wuh kp nkmg hkhvggp okpwvgu\n",
      "Length: 51\n",
      "customizedTechniques-3\n",
      "o>iE>>",
      ">>>>>",
      ">",
      "",
      ">",
      "\n",
      "Length: 51\n",
      "customizedTechniques-5\n",
      "¡½pw¿p¹ÁÀÀ³pº·³¶pÇÂpÆÁpÇÅ¸p»Àp¾»½·p¸»¸Æ··Àp¿»ÀÇÆ·Å\n",
      "Length: 51\n",
      "OpenSourceTechniques-6\n",
      "b'\\x9d\\xd7\\xf1\\xbep\\xf1\\xd9\\x99\\xbe\\xf8\\x05\\xbe\\xc9\\xc9ot\\x96\\x98)\\x8e\\xfb\\xb2\\xdc\\xde\\xd8\\\\\\x8cd>\\xf5\\x93SN\\xc8 \\x9d\\xc8\\xce%`(K\\x9e\\x81\\x07\\xf4\\xe3\\xe2\\xf0\\x80\\xe8-\\xfc\\x9a1\\xe38\\t\\xde>\\xe0\\xb0\\xd7%L\\x97\\x01\\x15K\\x81V\\xa7\\xc1I\\xcb\\xca\\x0b\\xe1:@\\xe1\\xc5\\x81\\x9b\\x82\\x92{\\x01dA\\xe4\\xcdS\\xe5\\x91\\xc9'\n",
      "Length: 96\n",
      "Embedding Efficiency: 4.25\n",
      "==============\n",
      "407Geeeee ... I love you so much I can barely stand it\n",
      "customizedTechniques-2\n",
      "Iggggg ... K nqxg aqw uq owej K ecp dctgna uvcpf kv\n",
      "Length: 51\n",
      "customizedTechniques-3\n",
      "g",
      "",
      "",
      "",
      "",
      ">LLL>i>",
      ">>>>i>>",
      ">>\n",
      "Length: 51\n",
      "customizedTechniques-5\n",
      "·····p~~~pp¾ÁÈ·p±ÁÇpÅÁp¿Çµºppµ³Àp´³Ä·¾±pÅÆ³À¶p»Æ\n",
      "Length: 51\n",
      "OpenSourceTechniques-6\n",
      "b'\\xb5b\\n\\x8b\\xba\\xcb@\\xd2PO}\\xddHD\\x1eH\\x1bA\\\\q\\x84\\xe48\\xa2\\x17*\\x98\\x82Y\\xd8&\\x10\\xcc\\xa1b\\x0bB\\x7f\\x82Z\\x01|\\t\\x8e\\xa71\\x1c/\\xec{q\\x8b\\x1f\"\\x06\\x0bG\\x12\\x00/\\xbf\\x90\\xc5\\x8a\\xa1f\\x7f4~\"\\xd8\\xb7(%@\\x151\\'\\xaa\\xc3J\\xb9\"(\\x06\\xb9\\xcaW8$s\\xb50\\xc0T\\xfb'\n",
      "Length: 96\n",
      "Embedding Efficiency: 4.25\n",
      "==============\n",
      "408Huh so early.. Then Ì_ having dinner outside izzit?\n",
      "customizedTechniques-2\n",
      "Jwj uq gctna.. Vjgp L_ jcxkpi fkppgt qwvukfg kbbkv?\n",
      "Length: 51\n",
      "customizedTechniques-3\n",
      "h>>",
      "LL>t",
      ">j}>>",
      ">",
      ">]\n",
      "Length: 51\n",
      "customizedTechniques-5\n",
      "ÇºpÅÁp·³Ä¾±~~p¦º·Àp¯pº³È»À¹p¶»ÀÀ·ÄpÁÇÆÅ»¶·p»²²»Æ\n",
      "Length: 51\n",
      "OpenSourceTechniques-6\n",
      "b'[O0\\x06\\xcfd\\xc2th\\xdf\\xf8\\x17A&\\x96n\\x1faC\\xa0\\x98t\\x01\\xd3\\xfc\\xbc\\xe9^\\x97t\\xd7S\\xc3Hk\\xd0k\\x98~\\x92\\x8e\\xa3\\xb5\\x96\\x9aS\\x03tM\\xbbV2\\x9c\\x86\\xa0\\x9b\\xd1\\\\y\\x02\\x05\\xa7\\xfd\\xed!(R\\xeb\"o\\xe5\\x84\\xf8\\xafv\\xd6\\xbdl\\x03O@\\x8c\\x94\\xae\\x9e\\xecQ\\xe1\\xcb\\xd6\\xabu\\xfd\\x98\\xdc\\x10'\n",
      "Length: 96\n",
      "Embedding Efficiency: 4.25\n",
      "==============\n",
      "409When Ì_ login dat time... Dad fetching Ì_ home now?\n",
      "customizedTechniques-2\n",
      "Yjgp L_ nqikp fcv vkog... Fcf hgvejkpi L_ jqog pqy?\n",
      "Length: 51\n",
      "customizedTechniques-3\n",
      "w",
      ">j}>>>",
      "LLL>d>",
      ">j}>",
      ">]\n",
      "Length: 51\n",
      "customizedTechniques-5\n",
      "©º·Àp¯p¾Á¹»Àp¶³ÆpÆ»¿·~~~p³¶p¸·Æµº»À¹p¯pºÁ¿·pÀÁÉ\n",
      "Length: 51\n",
      "OpenSourceTechniques-6\n",
      "b\"\\x8d\\xf5(@GJ\\x8ba`2E\\\\\\xd5\\xc5|K\\xc0\\xd0\\x1cA\\x05\\xcdzQ\\xda\\x01[!\\x98\\xe4\\xda\\x0c=7U\\x1c\\xf6\\xa9u\\xd4G\\xc4Qk\\xf5\\xce\\x1bD\\xaf\\xf0\\x10v\\xa6L\\xe9\\x87-v\\x18\\xf8Q\\xce\\xe3\\xd9\\xc2T\\x187k\\x00\\xeeV\\x04\\xfb\\xf4\\x83pCJ\\x9cq\\x94\\xc9'\\x0f\\x87\\x82\\xe7\\xe6\\\\\\xa0r6\\x10\\xe4|\"\n",
      "Length: 96\n",
      "Embedding Efficiency: 4.25\n",
      "==============\n",
      "410Thanks for looking out for me. I really appreciate.\n",
      "customizedTechniques-2\n",
      "Vjcpmu hqt nqqmkpi qwv hqt og. K tgcnna crrtgekcvg.\n",
      "Length: 51\n",
      "customizedTechniques-3\n",
      "t>>>>>",
      "L>i>",
      ">",
      "",
      "L\n",
      "Length: 51\n",
      "customizedTechniques-5\n",
      "¦º³À½Åp¸ÁÄp¾ÁÁ½»À¹pÁÇÆp¸ÁÄp¿·~ppÄ·³¾¾±p³ÂÂÄ·µ»³Æ·~\n",
      "Length: 51\n",
      "OpenSourceTechniques-6\n",
      "b'\\xd8\\r8\\x9e0p\\xa5\\xe4\\n\\xd9&\\x93JrL\\xfc\\x07\\x9d*\\x903\\xd8\\xa2\\x19\\xb0\\xb77|\\xa1\\x80\\x92\\xdc\\xb1\\xc9\\xed\\xa1\\x0f\\x0cMhW\\xadK\\x18\"\\x8c}yD\\x16ji\\x12Y\\x88\\xac\\xbe\\xbc\\xbdz\\x85\\xcb\\xdam\\xf4\\x0b\\x1f\\xae\\n\\x19k\"\\xe9\\xb5\\xff\\x97~vH\\x01\\xda\\xfa.\\xfd\\x0b\\xd6\\x13\\x1ch\\xb7\\xbe\\xa0Th\\x17\\xd6'\n",
      "Length: 96\n",
      "Embedding Efficiency: 4.25\n",
      "==============\n",
      "411I cant pick the phone right now. Pls send a message\n",
      "customizedTechniques-2\n",
      "K ecpv rkem vjg rjqpg tkijv pqy. Rnu ugpf c oguucig\n",
      "Length: 51\n",
      "customizedTechniques-3\n",
      "i>>>",
      ">",
      ">>L>p>",
      ">>",
      "",
      "\n",
      "Length: 51\n",
      "customizedTechniques-5\n",
      "pµ³ÀÆpÂ»µ½pÆº·pÂºÁÀ·pÄ»¹ºÆpÀÁÉ~p¢¾ÅpÅ·À¶p³p¿·ÅÅ³¹·\n",
      "Length: 51\n",
      "OpenSourceTechniques-6\n",
      "b'\\xd6\\x9a\\x0b\\x9az\\xf5n=\\x18\\xe3q<\\x8bhs~2\\x85\\x83%Yr\\xdbqo\\xc3\\xe8M\"\\xf0#2\\xb5\\xea=l\\xaf8> ?\\x82Z\\x18\\xa6\\xe1\\x9dXF\\x08\\xb0\\x81`\\xd1\\x04\\x81k\\xc0\\xf5\\xf8\\xbe\\xdd\\xf0\\xbd\\x18\\xf7\\x9a\\x07\\x96\\x1c.[\\xb5#\\xe9~Y\\x82\\x85\\xf5\\xe0\\x93o?\\x18\\xa2.2\\x97\\xbd\\xb2\\xf3Z\\x1e\\xc5g'\n",
      "Length: 96\n",
      "Embedding Efficiency: 4.25\n",
      "==============\n",
      "412I am going to sao mu today. Will be done only at 12 \n",
      "customizedTechniques-2\n",
      "K co iqkpi vq ucq ow vqfca. Yknn dg fqpg qpna cv 12 \n",
      "Length: 52\n",
      "customizedTechniques-3\n",
      "i>>>>>>L>w>",
      ">",
      ">>>OP>\n",
      "Length: 52\n",
      "customizedTechniques-5\n",
      "p³¿p¹Á»À¹pÆÁpÅ³Áp¿ÇpÆÁ¶³±~p©»¾¾p´·p¶ÁÀ·pÁÀ¾±p³Æpp\n",
      "Length: 52\n",
      "OpenSourceTechniques-6\n",
      "b'\"\\x92\\x82S!B\\xa4M\\xf6\\xdd\\xd2\\xbcYC\\xec\\x8b\\xb4\\xc1Ne\\xbbC\\xf7\\xc85\\xc0\\xc0\\x0cfm\\x17\\xfd6\\x05\\xa5#\\xeef\\x08\\xad>`\\x15Z\\xbes\\xfb2\\x90\\x92\\xc8\\x85\\xcd\\xce\\\\q\\xbaG\\xcc\\xa2&\\xde\\x93k1Z\\xcat]\\xd0m\\x7f&\\x8d\\xe3\\\\(6e&\\xfe\\x9a0J\\x9f\\x8aq\\x81\\x17\\x90H\\xff\\xcd\\xb6\\xd2\\xa2'\n",
      "Length: 96\n",
      "Embedding Efficiency: 4.333333333333333\n",
      "==============\n",
      "413My sister cleared two round in birla soft yesterday.\n",
      "customizedTechniques-2\n",
      "Oa ukuvgt engctgf vyq tqwpf kp dktnc uqhv aguvgtfca.\n",
      "Length: 52\n",
      "customizedTechniques-3\n",
      "m>",
      ">",
      "",
      ">>>>>>",
      "",
      "L\n",
      "Length: 52\n",
      "customizedTechniques-5\n",
      "±pÅ»ÅÆ·Äpµ¾·³Ä·¶pÆÉÁpÄÁÇÀ¶p»Àp´»Ä¾³pÅÁ¸Æp±·ÅÆ·Ä¶³±~\n",
      "Length: 52\n",
      "OpenSourceTechniques-6\n",
      "b'\\x05\\x9c\\x07\\xeaC1\\xae\\xady\\x88\\x15#@)\\x03JI)\\xf0\\x94\\xf1+=\\x13\\xf8hr\\x1a\\xa9\\xb5\\xdbc\\nG\\x89\\xc3o\\xaa\\xa2c\\x96\\xb8m\\xef\\xb1\\x8b\\x11\\xf7\\xbe\\xa0[(\\x08\\xd2\\xfe\\x1d\\xcf2%\\xe9k\\xafm)\\x0eR\\xff\\xc2*\\xf5\\xbf\\x18\\xa0\\xd7ky\\xbc\\xe1\\xfc\"\\xf5\\xe7\\xfb<J\\xfd\\x9c\\xa9$\\xff\\x86BP\\xfd\\x9f\\x15'\n",
      "Length: 96\n",
      "Embedding Efficiency: 4.333333333333333\n",
      "==============\n",
      "414I like to talk pa but am not able to. I dont know y.\n",
      "customizedTechniques-2\n",
      "K nkmg vq vcnm rc dwv co pqv cdng vq. K fqpv mpqy a.\n",
      "Length: 52\n",
      "customizedTechniques-3\n",
      "i>",
      ">>>>>>>",
      ">L>i>>>L\n",
      "Length: 52\n",
      "customizedTechniques-5\n",
      "p¾»½·pÆÁpÆ³¾½pÂ³p´ÇÆp³¿pÀÁÆp³´¾·pÆÁ~pp¶ÁÀÆp½ÀÁÉp±~\n",
      "Length: 52\n",
      "OpenSourceTechniques-6\n",
      "b'\\xe8\\x0bY\\xb5\\xc2hY\\xa2\\xbc\\x1an\\xbaE@<%5\\xc2?\\x05&\\xdd\\xa2$\\x1ep\\xb8\\x19\\x7fLf\\x7f~y\\xe0V\\xc7B\\xef\\xed38\\xfdj]\\x8bJz]\\x91E\\x05\\x98\\xde\\xb8\\x9al)\\x7fzZx\\x94\\xefm8\\xdf\\x14\\x07j\\x86\\xb85<Va\\xf5w\\x188\\xe0-\\xc27n\\x87zm\\x12\\xb6\\xb0Z\\r\\nF\\xf7'\n",
      "Length: 96\n",
      "Embedding Efficiency: 4.333333333333333\n",
      "==============\n",
      "415So Ì_ pay first lar... Then when is da stock comin...\n",
      "customizedTechniques-2\n",
      "Uq L_ rca hktuv nct... Vjgp yjgp ku fc uvqem eqokp...\n",
      "Length: 53\n",
      "customizedTechniques-3\n",
      "s>j}>>>LLL>t",
      ">",
      ">>>>LLL\n",
      "Length: 53\n",
      "customizedTechniques-5\n",
      "¥Áp¯pÂ³±p¸»ÄÅÆp¾³Ä~~~p¦º·ÀpÉº·Àp»Åp¶³pÅÆÁµ½pµÁ¿»À~~~\n",
      "Length: 53\n",
      "OpenSourceTechniques-6\n",
      "b\"\\xc2\\x96\\xf2\\x00\\xe2\\x05\\x9c\\xb6\\x0f\\xdb*M\\xffC&_S'\\r\\xab\\x1b\\x82->S\\t\\x13\\xaaP\\xca{\\x87\\x92c\\xd0\\xa0z\\xae\\xc0\\xc0\\x01\\x07\\xdb\\x06\\xf5\\x02\\xb3\\xbe7\\x04\\x04Z\\xc4n\\x1by\\x19\\xb5\\x1e\\xb4\\xce\\xe9\\x15\\xdc\\xe2\\x04\\xd4}\\x1c\\xb99p\\xd6SF\\x1b\\xf8\\x02Z\\x13\\xe5w\\xc4\\xa5)\\x1f\\x83R\\x9c\\x92\\x8d}\\xae\\xf7\\x93\\x08\"\n",
      "Length: 96\n",
      "Embedding Efficiency: 4.416666666666667\n",
      "==============\n",
      "416here is my new address -apples&pairs&all that malarky\n",
      "customizedTechniques-2\n",
      "jgtg ku oa pgy cfftguu -crrngu&rcktu&cnn vjcv ocnctma\n",
      "Length: 53\n",
      "customizedTechniques-3\n",
      "",
      "",
      ">>>",
      ">",
      ">K",
      "DD>>\n",
      "Length: 53\n",
      "customizedTechniques-5\n",
      "º·Ä·p»Åp¿±pÀ·Ép³¶¶Ä·ÅÅp}³ÂÂ¾·ÅvÂ³»ÄÅv³¾¾pÆº³Æp¿³¾³Ä½±\n",
      "Length: 53\n",
      "OpenSourceTechniques-6\n",
      "b\"\\xe0}?\\xeb\\x1cp\\x8f\\x86\\xe1\\xb8\\xef p\\x85FT\\xbc\\xba\\xb2\\xda\\xbd\\x02~S\\xf9'E\\x14g<i\\xa5\\x0b\\xa2\\xa6 \\xaa\\xe1\\xff8e\\x136\\xd5\\xc9\\x8aU\\x1c\\x04\\x8f\\xac^\\xcbCa\\xee!y\\x1bC\\xea\\x07\\xd5\\xbf\\xaa$E\\xb4Y\\xcf\\x9c\\xe6\\x16\\x11\\x11n\\xfd\\r\\x18\\x81\\xad\\xed\\x90\\x159LLV\\xc9\\x9a\\xc1\\x9a\\x93v)\\xb3\\x06\\xd6\\xef\\x81t\\xb4.\\xfc\\xb7.\\x82\\x02\\xf3\\xd8\\x97\\xc8\"\n",
      "Length: 112\n",
      "Embedding Efficiency: 3.7857142857142856\n",
      "==============\n",
      "417Come to mu, we're sorting out our narcotics situation\n",
      "customizedTechniques-2\n",
      "Eqog vq ow, yg'tg uqtvkpi qwv qwt pcteqvkeu ukvwcvkqp\n",
      "Length: 53\n",
      "customizedTechniques-3\n",
      "c",
      ">>J>",
      "E",
      ">>>>>\n",
      "Length: 53\n",
      "customizedTechniques-5\n",
      "Á¿·pÆÁp¿Ç|pÉ·wÄ·pÅÁÄÆ»À¹pÁÇÆpÁÇÄpÀ³ÄµÁÆ»µÅpÅ»ÆÇ³Æ»ÁÀ\n",
      "Length: 53\n",
      "OpenSourceTechniques-6\n",
      "b'\\xcd_\\x08\\x83\\xdeT,%\\xd8\\xc9\\x8b\\xee\\xa2Qg\\xc1\\xa4m_\\xb8{\\x13\\xc4VE\\xcf\\xddR\\xc8f~\\x14\\xc1\\x96)\\x84\\xe2\\x88\\xfel$M\\x1b\\xb3V\\xa9\\xf2\\xbe#^l-6$\\x95 \\x85R\\xcb=\\x17\\xfb\\x11\\x8b\\x84\\xf7\\xecq\\n\\xf7\\xa2Vt\\x1a\\xd5[\\xab\\xff\\xe1\\xebC\\xbb\\xb4\\xbb?\\xf2\\x81\\xa2U^p\\xa5b0\\xcd\\xbc\\xdd?\\x07\\xe8\\xd4\\x9e\\x85\\x85\\x17?=\\x1b\\xc5\\xd8M\\x9b'\n",
      "Length: 112\n",
      "Embedding Efficiency: 3.7857142857142856\n",
      "==============\n",
      "418You could have seen me..i did't recognise you Face.:)\n",
      "customizedTechniques-2\n",
      "Aqw eqwnf jcxg uggp og..k fkf'v tgeqipkug aqw Hceg.:)\n",
      "Length: 53\n",
      "customizedTechniques-3\n",
      "_>>",
      ">",
      "",
      ">",
      "LL>E>",
      "",
      ">>f",
      "LXG\n",
      "Length: 53\n",
      "customizedTechniques-5\n",
      "ÁÇpµÁÇ¾¶pº³È·pÅ··Àp¿·~~»p¶»¶wÆpÄ·µÁ¹À»Å·p±ÁÇp³µ·~y\n",
      "Length: 53\n",
      "OpenSourceTechniques-6\n",
      "b\"\\xf7\\xe4pL\\x01\\x18\\x02\\xd7\\xbdC\\x9c\\r\\xcd\\xecR\\xb3\\xe4\\t\\xf3\\xac'\\xe7\\xdeb\\xe9A\\x8d\\xa0t3?\\x87\\x0c\\xab|\\xa8?\\xfb\\x08\\xf5\\xe7\\xd3\\xd8dSYS\\xb6{\\x91\\x08\\xc6\\xd8\\xde\\xef,M\\x197\\xb2Bu\\xc9\\xd8\\xcc\\xcf\\xcd\\x9f4'\\n.\\x07m\\xac\\x92\\x0e\\xfeG\\xfc%\\xd4\\xecbS\\x83\\x83$%\\xf1I\\x88\\xcf\\x04{-\"\n",
      "Length: 96\n",
      "Embedding Efficiency: 4.416666666666667\n",
      "==============\n",
      "419I had askd u a question some hours before. Its answer\n",
      "customizedTechniques-2\n",
      "K jcf cumf w c swguvkqp uqog jqwtu dghqtg. Kvu cpuygt\n",
      "Length: 53\n",
      "customizedTechniques-3\n",
      "i>>>>>",
      ">",
      ">>",
      "",
      "L>i>",
      "\n",
      "Length: 53\n",
      "customizedTechniques-5\n",
      "pº³¶p³Å½¶pÇp³pÃÇ·ÅÆ»ÁÀpÅÁ¿·pºÁÇÄÅp´·¸ÁÄ·~pÆÅp³ÀÅÉ·Ä\n",
      "Length: 53\n",
      "OpenSourceTechniques-6\n",
      "b'\\x9c\\xfd3\\xcd\\x8f\\x13\\xc6\\x80x\\xa8\\x18m\\x14\\x8b\\xac\\xff$\\xabM\\\\\\x83v\\x97\\xe9\\x18\\x03q\\x0bc\\x90\\x8c\\x17P:knY\\xa9\\x81\\x18\\xd27\\xfa|-\\x1c6xc\\xfb\\x00\\xa9\\xc0Z^\\xcf\\x9f\",85\\xbe_f.\\x97N\\x00v\\xf1\\xdc\\xa6\\xf1 \\xf1\\xb9p\\xec\\xf5\\x9c\\x07.3\\xdc1<\\t\\xff\\xdc\\xba\\x82\\x10\\xd7r\\x88\\x1a'\n",
      "Length: 96\n",
      "Embedding Efficiency: 4.416666666666667\n",
      "==============\n",
      "420It shall be fine. I have avalarr now. Will hollalater\n",
      "customizedTechniques-2\n",
      "Kv ujcnn dg hkpg. K jcxg cxcnctt pqy. Yknn jqnncncvgt\n",
      "Length: 53\n",
      "customizedTechniques-3\n",
      "i>>",
      ">",
      "L>i>",
      ">>L>w>",
      "\n",
      "Length: 53\n",
      "customizedTechniques-5\n",
      "ÆpÅº³¾¾p´·p¸»À·~ppº³È·p³È³¾³ÄÄpÀÁÉ~p©»¾¾pºÁ¾¾³¾³Æ·Ä\n",
      "Length: 53\n",
      "OpenSourceTechniques-6\n",
      "b'v]G\\xc4C\\xd8\\xf2  \\x1eu\\xa3\\xe5O%\\x87\\xb3\\xb8\\x8f_\\x0fj]>\\xb0I\\x08\\xf8`f\\xfc\\xddl\\xda\\x95\\xab\\xca\\xcabC\\x11\\xcdC;pA\\xdc\\x0c\\xa6\\xa1\\x18uX\\xb8\\xd2\\xc6Y~\\xac\\x90\\xe1Tpz\\xe7\\x91j\\x7f\\xef-?c\\x00\\xd7X\\xed\\xec7\\x12\\xbe\\x03xd\\x85\\x1b\\x86\\xdd\\xf9\"\\xab,\\x114\\x98\\x90G'\n",
      "Length: 96\n",
      "Embedding Efficiency: 4.416666666666667\n",
      "==============\n",
      "421I'm in office now . I will call you  &lt;#&gt;  min:)\n",
      "customizedTechniques-2\n",
      "K'o kp qhhkeg pqy . K yknn ecnn aqw  &nv;#&iv;  okp:)\n",
      "Length: 53\n",
      "customizedTechniques-3\n",
      "iE>>",
      ">>L>i>>>>>DYADY>>XG\n",
      "Length: 53\n",
      "customizedTechniques-5\n",
      "w¿p»ÀpÁ¸¸»µ·pÀÁÉp~ppÉ»¾¾pµ³¾¾p±ÁÇppv¾Æsv¹Æpp¿»Ày\n",
      "Length: 53\n",
      "OpenSourceTechniques-6\n",
      "b\"l\\xd2\\x01\\x9f\\xaf\\x92\\xeed\\xeb\\xc1\\x12\\xaeC!ee6X\\xf2\\xf4'-\\xc2\\x1dVT\\x8b,\\xa0\\xf1f\\xe47\\x10!\\x9e\\x1c\\xbabE\\xd1\\xf5\\xefN\\xdd\\x00\\xd9\\x04\\xf6\\x1c^7\\xb9p\\xc1\\xd8b\\xb4\\xf5\\x9d\\xa6\\x00U\\xa6}J\\xa1\\xcd\\xc6\\xe0^\\xec\\xe0\\x07\\x92\\x83\\xb8p-5h\\xe55\\xee\\x96\\xca\\xb0\\xb9\\xd0\\x9d\\x93o\\xe8\\x0e!\\xd3\"\n",
      "Length: 96\n",
      "Embedding Efficiency: 4.416666666666667\n",
      "==============\n",
      "422Ugh. Gotta drive back to sd from la. My butt is sore.\n",
      "customizedTechniques-2\n",
      "Wij. Iqvvc ftkxg dcem vq uf htqo nc. Oa dwvv ku uqtg.\n",
      "Length: 53\n",
      "customizedTechniques-3\n",
      "uL>g>",
      ">>>>>L>m>>>",
      "L\n",
      "Length: 53\n",
      "customizedTechniques-5\n",
      "§¹º~pÁÆÆ³p¶Ä»È·p´³µ½pÆÁpÅ¶p¸ÄÁ¿p¾³~p±p´ÇÆÆp»ÅpÅÁÄ·~\n",
      "Length: 53\n",
      "OpenSourceTechniques-6\n",
      "b'~~\\x92S\\xe7\\x0ei\\xfeti\\xbd\\x00\\xf3\\xea\\xca\\xf6\\xf2c^\\x1a\\xdfJ\\xf4\\x1az\\xc3\\xd32\\xa2l\\xd0\\xe8\\x16\\x98\\xfc\\xbe\\xe7\\xe2O\\xc5\\xce\\xdbk\\xc6\\x893\\xf6\\xd8e\\x02\\x9b\\xe27\\xb0\\x97%\\xde\\xe4\\xd8\\xe4\\x85`\\xe0Wc0\\x14\\xc2\\xcb\\x12%\\xc4\\xc0E7\\x1f\\x1b\\xe0\\xb8\\x08\\xcb\\x87\\xad\\x18^\\x01\\xc5\\x87\\xd4\\xb2\\x1d ^\\x0c\\xf5\\x02'\n",
      "Length: 96\n",
      "Embedding Efficiency: 4.416666666666667\n",
      "==============\n",
      "423I'm going for bath will msg you next  &lt;#&gt;  min..\n",
      "customizedTechniques-2\n",
      "K'o iqkpi hqt dcvj yknn oui aqw pgzv  &nv;#&iv;  okp..\n",
      "Length: 54\n",
      "customizedTechniques-3\n",
      "iE>>>>>>>",
      ">>DYADY>>LL\n",
      "Length: 54\n",
      "customizedTechniques-5\n",
      "w¿p¹Á»À¹p¸ÁÄp´³ÆºpÉ»¾¾p¿Å¹p±ÁÇpÀ·ÊÆppv¾Æsv¹Æpp¿»À~~\n",
      "Length: 54\n",
      "OpenSourceTechniques-6\n",
      "b'\\xa6(\\xd6\\xbc\\xa2\\xeeA\\xf2\\xdc\\x93\\x15\\xef\\x0f\\xf7\\x98\\x98\\xa5+\\x1b\\xfe\\xc3\\xb6)G%c\\x00\\x94@\\x8f \\xd9\\x0b\\x03p_.\\xe7Y\\xcd\\xcd2j\\xfaG\\xf8/\\x94A\\xdf^\\x1e\\xe2\\xbekP\\x8b\\xaaT\\x02\\xb9R\\x17f\\xd2-\\xa0\\xb3\\xde\\xf3\\xa9!\\x1d\\xab\\xd3\\x8e\\nmQ\\x96\\x18\\x1c`\\xf9\\x95\\xf4t\\xe4\\r\\xcb\\xceC\\x9a3\\xfa,'\n",
      "Length: 96\n",
      "Embedding Efficiency: 4.5\n",
      "==============\n",
      "424Thank you baby! I cant wait to taste the real thing...\n",
      "customizedTechniques-2\n",
      "Vjcpm aqw dcda! K ecpv yckv vq vcuvg vjg tgcn vjkpi...\n",
      "Length: 54\n",
      "customizedTechniques-3\n",
      "t>>?>i>>>>",
      ">",
      ">",
      ">LLL\n",
      "Length: 54\n",
      "customizedTechniques-5\n",
      "¦º³À½p±ÁÇp´³´±qppµ³ÀÆpÉ³»ÆpÆÁpÆ³ÅÆ·pÆº·pÄ·³¾pÆº»À¹~~~\n",
      "Length: 54\n",
      "OpenSourceTechniques-6\n",
      "b\"\\xfac5#\\xb2Z\\xeb\\xe3\\xc4!\\xab\\x97\\x84\\xbb\\xc1:\\xee8>S-\\xea\\xc2\\xc5\\xf1\\xef5p[x\\xdd\\xd4\\xfa\\x8dB\\x87_M90\\x8e\\xeeFdec\\x12\\xf0\\xc9\\nDn\\xb2\\xea'?\\xcci\\xd5Kc\\xf7\\x14KdY\\xd9\\x86\\xe6\\xb7\\x93\\n\\xa8Uv\\xe7\\x81\\x04\\xb7\\xf3\\xbd\\x13\\x10\\x04\\xc7P\\xfb\\xa0\\\\\\xf9\\xb2\\xe8\\xe1\\xe1\\xf8\\xa0\"\n",
      "Length: 96\n",
      "Embedding Efficiency: 4.5\n",
      "==============\n",
      "425Hurry up, I've been weed-deficient for like three days\n",
      "customizedTechniques-2\n",
      "Jwtta wr, K'xg dggp yggf-fghkekgpv hqt nkmg vjtgg fcau\n",
      "Length: 54\n",
      "customizedTechniques-3\n",
      "h>J>iE",
      ">",
      "",
      ">",
      "",
      "K",
      "",
      ">>",
      ">",
      "",
      ">\n",
      "Length: 54\n",
      "customizedTechniques-5\n",
      "ÇÄÄ±pÇÂ|pwÈ·p´··ÀpÉ··¶}¶·¸»µ»·ÀÆp¸ÁÄp¾»½·pÆºÄ··p¶³±Å\n",
      "Length: 54\n",
      "OpenSourceTechniques-6\n",
      "b'$\\xe8LP\\x84o{=\\xa6\\xffg;\\x1aH\\xf6\\x98YSR_\\xd8\\x8e\\xfeDG\\xdd9?\\x16\\xea4V\\x863]\\xa4o\\xe5\\x96\\xae\\x14D\\x14WX\\xd4\\xe1\\xddb\\x87P\\xa3J\\xbb\\x9dw\\x1b-\\xc8\\xc1i\\t\\xd5\\x93g\\xfa\\x8eWJ\\x022\\x89N\\x91S?\\xdc=\\xb9j\\t\\nm\\xdf}\\xdf\\xed\\xd1S\\xff\\xc4\\x96\\xc5\\xb5\\x06X\\x9e\\x8c=~\\xcd\\xd0\\x9d\\xb2\"\\xbe\\x1a\\xa96w\\xc35'\n",
      "Length: 112\n",
      "Embedding Efficiency: 3.857142857142857\n",
      "==============\n",
      "426Carlos'll be here in a minute if you still need to buy\n",
      "customizedTechniques-2\n",
      "Ectnqu'nn dg jgtg kp c okpwvg kh aqw uvknn pggf vq dwa\n",
      "Length: 54\n",
      "customizedTechniques-3\n",
      "cE>",
      ">",
      "",
      ">>>",
      ">>>>",
      "",
      ">>\n",
      "Length: 54\n",
      "customizedTechniques-5\n",
      "³Ä¾ÁÅw¾¾p´·pº·Ä·p»Àp³p¿»ÀÇÆ·p»¸p±ÁÇpÅÆ»¾¾pÀ··¶pÆÁp´Ç±\n",
      "Length: 54\n",
      "OpenSourceTechniques-6\n",
      "b'zy\\xda\\x1b\\x1c\\x1ds\\x18\\x9e\\n@\\xc7\\x18\\xd4<\\x13\\xd7S\\xfe`\\xd2{.t\\xe1<\\xe5!\\xd2\\xdf\\xc0\\x83\\xce\\x92\\xdb\\x0f\\xb9\\xf1v\\xe7\\x9b\\xe59\\xe9O\\xd9\\xa3`\\x89I\\xcf&\\xa3\\xad\\x18\\xc0\\x8f\\x0f \\xaaz\\x8c\\x92\\xd1\\xab\\x94j\\x90\\xca\\x14[]8\\xb02\\xba\\xd8\\xa2\\xa8\\xfc\\x198N\\xa4\\x86c(\\x81\\xe9p \\xf3\\x96\\x152tc\\xc2T\\xec\\x84\\x8f}\\xf8o\\xb0\\x07l\\xff\\x87\\xe3\\x0b'\n",
      "Length: 112\n",
      "Embedding Efficiency: 3.857142857142857\n",
      "==============\n",
      "427Aight, you close by or still down around alex's place?\n",
      "customizedTechniques-2\n",
      "Ckijv, aqw enqug da qt uvknn fqyp ctqwpf cngz'u rnceg?\n",
      "Length: 54\n",
      "customizedTechniques-3\n",
      "aJ>>",
      ">>>>>>",
      "E>",
      "]\n",
      "Length: 54\n",
      "customizedTechniques-5\n",
      "»¹ºÆ|p±ÁÇpµ¾ÁÅ·p´±pÁÄpÅÆ»¾¾p¶ÁÉÀp³ÄÁÇÀ¶p³¾·ÊwÅpÂ¾³µ·\n",
      "Length: 54\n",
      "OpenSourceTechniques-6\n",
      "b\"\\x9e\\xcb\\x9c\\xa2\\x13\\xe3X\\x92\\xea\\xf0\\x9a\\x0f\\xeay\\xb27p\\xe2$\\x18-4f\\x1fP\\xc0\\xdat\\xaf\\xee\\xd7\\x81h\\x86\\x1e\\xc3\\x9a\\x04gL\\xfc\\x84\\xfd(\\x9c\\x88\\n\\xa9B@\\xf9\\x8f\\xba&'\\xe9ng\\xa2\\xa9\\xae\\xa2j9\\xd7Y\\x9cl\\x95\\xa4<\\x9e\\xae\\xb6\\xa9\\x998\\xfc\\x8d\\x16\\xda10\\xb5\\xcd\\xd0\\xbdgr\\xbe\\xc4\\xf2@\\xdcJ\\x04\\x04\\xab\\xb4\\xb8T\\x11\\x90\\x9a\\xba\\xf0\\xdb\\xad\\xafHh\\xcc\"\n",
      "Length: 112\n",
      "Embedding Efficiency: 3.857142857142857\n",
      "==============\n",
      "428U reach orchard already? U wan 2 go buy tickets first?\n",
      "customizedTechniques-2\n",
      "W tgcej qtejctf cntgcfa? W ycp 2 iq dwa vkemgvu hktuv?\n",
      "Length: 54\n",
      "customizedTechniques-3\n",
      "u>",
      ">>",
      "]>u>>P>>>",
      ">]\n",
      "Length: 54\n",
      "customizedTechniques-5\n",
      "§pÄ·³µºpÁÄµº³Ä¶p³¾Ä·³¶±p§pÉ³Àpp¹Áp´Ç±pÆ»µ½·ÆÅp¸»ÄÅÆ\n",
      "Length: 54\n",
      "OpenSourceTechniques-6\n",
      "b\"\\xd1'\\x8e\\xde\\xa71~\\xb2\\xd6\\xca\\x81yK\\xa5q:\\x0e\\xa2aG\\x18<\\xac\\xc8:^\\xd5\\x8b\\x7f\\xdfQ\\xec\\xcaL\\xbe\\x97\\xe5\\xc6\\x05\\xbe\\xb7T\\xe6\\xcd\\xf3.7\\xfb\\xc6\\x95\\xa0=}\\xc0\\xc2\\x81\\xb4\\x80Uo!\\xd9\\xec\\xce\\xd9s(\\xb4\\x1e\\x7f\\x94bP\\xcdA\\x1a\\xb0dd\\x83O\\xe5\\x83\\xdf\\xa4\\xbe\\x01\\xb2\\xd6\\xfb\\x14\\x80*%\\x9aW\\x01\\xa7\\x86\\xfc1\\x04\\x98O'\\xce\\xc5\\x19\\xf6\\\\\\x94\\x1c\"\n",
      "Length: 112\n",
      "Embedding Efficiency: 3.857142857142857\n",
      "==============\n",
      "429No da if you run that it activate the full version da.\n",
      "customizedTechniques-2\n",
      "Pq fc kh aqw twp vjcv kv cevkxcvg vjg hwnn xgtukqp fc.\n",
      "Length: 54\n",
      "customizedTechniques-3\n",
      "n>>>>>>>",
      ">",
      ">>",
      ">L\n",
      "Length: 54\n",
      "customizedTechniques-5\n",
      " Áp¶³p»¸p±ÁÇpÄÇÀpÆº³Æp»Æp³µÆ»È³Æ·pÆº·p¸Ç¾¾pÈ·ÄÅ»ÁÀp¶³~\n",
      "Length: 54\n",
      "OpenSourceTechniques-6\n",
      "b'\\x16`\\xda\\xe5\\xb8\\xcc\\x86\\xd0\\xd7AQ\\x84 q.[l\\xf2\\x03.n\\x91\\x04o\\x107\\xcd)s\\x1b\\xa1\\x0e\\x80\\xfe\\xe8S\\xbc\\xf2\\xa6\\x16\\xa8A\\xe3j\\x82\\x83`s\\xb0BZo8x\\xcd\\x8a\\xa4\\xce\\x86\\xea\\xd4\\xfeG?0\\x83Dr\\xc9\\x94\\x1e?:\\x8e\\xe1\\x8f\\xac\\xe5\\xcc\\xd6\\x94\\x00\\x890TX\\xafK\\x99{\\xe1\\xf28:&\\xfa\\x10\\xb5\\xd3\\x82\\x89\\xc2\\x98#\\xdfY\\xe2y\\xa8\\xb2W\\x10'\n",
      "Length: 112\n",
      "Embedding Efficiency: 3.857142857142857\n",
      "==============\n",
      "430LOOK AT THE FUCKIN TIME. WHAT THE FUCK YOU THINK IS UP\n",
      "customizedTechniques-2\n",
      "NQQM CV VJG HWEMKP VKOG. YJCV VJG HWEM AQW VJKPM KU WR\n",
      "Length: 54\n",
      "customizedTechniques-3\n",
      "look>at>the>fuckin>timeL>what>the>fuck>_ou>think>is>up\n",
      "Length: 54\n",
      "customizedTechniques-5\n",
      "¡¡p¦p¦p§ p¦~p©¦p¦p§p¡§p¦ p¥p§¢\n",
      "Length: 54\n",
      "OpenSourceTechniques-6\n",
      "b'Ij\\x16\\x025\\x19\\x1c\\x08\\x86\\x7f\\xacj\\x16\\xb0%\\xb8~~\\xb0*\\x1bnn}\\xbaU@6;6\\x94\\x15\\x9e\\x9bO\\xd8w\\x115U\\xbe\\x9cl\\x86*\\x86%\\x10\\xdfz\\xbe\\xd0\\x1c1\\xad\\x03v\\xbbk\\x83\\x7f\\x1a\\xfd/\\x7f\\xad\\xfcB\\x03\\xe2\\xcanIk\\xe7Z\\x98\\x87\\xe0\\xae\\x0f\\xf1l\\xe7\\\\V\\xa4\\xc4tg\\xa9\\xd13\\xd4\\x9f\\xa4\\x11\\x92\\x0e\\xed\\xf62\\x0f\\xbc\\x99\\x81\\xbez\\xf1\\xfb\\x9b\\x1d'\n",
      "Length: 112\n",
      "Embedding Efficiency: 3.857142857142857\n",
      "==============\n",
      "431I call you later, don't have network. If urgnt, sms me.\n",
      "customizedTechniques-2\n",
      "K ecnn aqw ncvgt, fqp'v jcxg pgvyqtm. Kh wtipv, uou og.\n",
      "Length: 55\n",
      "customizedTechniques-3\n",
      "i>>>",
      "J>E>",
      ">",
      "L>i>J>>",
      "L\n",
      "Length: 55\n",
      "customizedTechniques-5\n",
      "pµ³¾¾p±ÁÇp¾³Æ·Ä|p¶ÁÀwÆpº³È·pÀ·ÆÉÁÄ½~p¸pÇÄ¹ÀÆ|pÅ¿Åp¿·~\n",
      "Length: 55\n",
      "OpenSourceTechniques-6\n",
      "b'\\xb2(\\xfe\\t8\\x13L\\x98\\x1e~ 1\\x9cu\\xc9}2\\xdf\\xde\\x00~7\\x1a\\x815l\\xa1 \\x19\\xb1XsXe%\\xe7\\xb4\\xe0\\xf8l\\xfe\\x0e\\xc4]\"\\x9a\\xdd\\xdd_\\\\\\x8e`\\xd8\\x92^\\xb8t\\xd3\\xe5\\xbc\\xfa\\xb5S\\x87R\\xf7\\x01\\xde\\xab%\\xbd\\'g^\\xea/\\xf6Q\\r\\x97\\xe8\\xc7\\rM\\xc6\\xb2\\xa5\\xd8\\xfa\\xfe,\\x97\\x91\\xc3\\x1a\\xa8'\n",
      "Length: 96\n",
      "Embedding Efficiency: 4.583333333333333\n",
      "==============\n",
      "432Have you got Xmas radio times. If not i will get it now\n",
      "customizedTechniques-2\n",
      "Jcxg aqw iqv Zocu tcfkq vkogu. Kh pqv k yknn igv kv pqy\n",
      "Length: 55\n",
      "customizedTechniques-3\n",
      "h",
      ">>>x>>",
      "L>i>>>>",
      ">>\n",
      "Length: 55\n",
      "customizedTechniques-5\n",
      "³È·p±ÁÇp¹ÁÆpª¿³ÅpÄ³¶»ÁpÆ»¿·Å~p¸pÀÁÆp»pÉ»¾¾p¹·Æp»ÆpÀÁÉ\n",
      "Length: 55\n",
      "OpenSourceTechniques-6\n",
      "b\"\\xa5\\xe5\\tc3i\\xecE\\xc2\\xdd\\xe5\\xfb\\x10\\xfa_C1Mv\\\\d\\n|\\xb5G\\xb5\\x0f.\\xcc!C\\x81\\xfe\\xa4\\xdf\\x8a\\x11\\xe2\\x97\\x11R\\x81\\xe2Y\\xa60\\x93\\xa5\\xee\\xf1\\xd9\\xc9\\xb4C$\\x99\\xc5\\x15cp\\xe5\\xa7\\xec\\xd6\\xafR'\\xd9\\xd1c\\xcdt\\xb8@{\\xb4D4\\x85\\xb8>\\x1d\\xd4\\xd7X}o\\x91p\\xe3\\xe3\\xe8I\\xd8\\xd8\\xdeM\\x83\\xaa\\x95\\xce\\xaa\\x99\\x1e\\xb4\\x04\\x95\\x1bfe*\\xdf\"\n",
      "Length: 112\n",
      "Embedding Efficiency: 3.9285714285714284\n",
      "==============\n",
      "433Haf u found him? I feel so stupid da v cam was working.\n",
      "customizedTechniques-2\n",
      "Jch w hqwpf jko? K hggn uq uvwrkf fc x eco ycu yqtmkpi.\n",
      "Length: 55\n",
      "customizedTechniques-3\n",
      "h>>>]>i>",
      "",
      ">>>>>>>L\n",
      "Length: 55\n",
      "customizedTechniques-5\n",
      "³¸pÇp¸ÁÇÀ¶pº»¿pp¸··¾pÅÁpÅÆÇÂ»¶p¶³pÈpµ³¿pÉ³ÅpÉÁÄ½»À¹~\n",
      "Length: 55\n",
      "OpenSourceTechniques-6\n",
      "b'\\xad\\xde6\\xd4\\x8bB,R\\xaf\\xcd\\x01t\\xb1\\xc4|\\xcb\\xbe+ef\\xbc\\x9b\\xde\\xfd\\x02\\xbb\\xae\\xda[m\\x8d\\xd4\\x07\\x10\\xdc9J^\\xd2\\xbd6\\x8dlG\\xebB&\\xc5Z+\\xf51[\\xc6<s\\xc9b:\\x82ry\\x1f\\xb5\\x9e\\xfc\\xef\\xf1\\xc4#\\x9f\\xc1l\\xdf\\x8ci\\xa8\\xc5\\x9d\\r\\xf8,PYDf\\x05\\x9dv\\xa5\\xedymi\\x0eG\\xbc\\x19\\x03)0\\xd1LN\\x17\\x00\\x17\\xe0S\\xa7\\xa1\\xf9'\n",
      "Length: 112\n",
      "Embedding Efficiency: 3.9285714285714284\n",
      "==============\n",
      "434Where are the garage keys? They aren't on the bookshelf\n",
      "customizedTechniques-2\n",
      "Yjgtg ctg vjg ictcig mgau? Vjga ctgp'v qp vjg dqqmujgnh\n",
      "Length: 55\n",
      "customizedTechniques-3\n",
      "w",
      "",
      ">",
      ">",
      ">",
      ">",
      "]>t",
      ">",
      "E>>",
      ">",
      "\n",
      "Length: 55\n",
      "customizedTechniques-5\n",
      "©º·Ä·p³Ä·pÆº·p¹³Ä³¹·p½·±Åp¦º·±p³Ä·ÀwÆpÁÀpÆº·p´ÁÁ½Åº·¾¸\n",
      "Length: 55\n",
      "OpenSourceTechniques-6\n",
      "b'\\xbfbO\\xe0\\x99\\xec\\x8e0)\\xa5d.aC\\xea(\\x0f\\xa8\\nt\\xd7n~2\\n\\r\\x17\\x12c,\\xe2\\x0b6t\\x88\\x9b\\xff\\xfeyK\\xcf\\xdf\\xee\\xcd\\xe8\\x99\\x81o%\\x9c\\x8e]\\x92\\xef\\x83\\x07\\xa8B\\xb4=\\xd4\\xdd\\xe7_\\x08\\xbaL\\xc9\\xa8\\xe0 \\x8d\\xb5\\x83\\xa9\\xbe\\xben:\\xe3\\xec\\xf86aO\\xf4u\\xde\\x01\\x12\\x14L\\xae\\xee\\xceD\\x0eT\\xf7\\x93\\xa3J\\x08\\x89\\xf8\\x93}\\\\\\x1a\\xa62\\x1c'\n",
      "Length: 112\n",
      "Embedding Efficiency: 3.9285714285714284\n",
      "==============\n",
      "435You should change your fb to jaykwon thuglyfe falconerf\n",
      "customizedTechniques-2\n",
      "Aqw ujqwnf ejcpig aqwt hd vq lcamyqp vjwinahg hcneqpgth\n",
      "Length: 55\n",
      "customizedTechniques-3\n",
      "_>>",
      ">>>>>",
      ">",
      "\n",
      "Length: 55\n",
      "customizedTechniques-5\n",
      "ÁÇpÅºÁÇ¾¶pµº³À¹·p±ÁÇÄp¸´pÆÁp¼³±½ÉÁÀpÆºÇ¹¾±¸·p¸³¾µÁÀ·Ä¸\n",
      "Length: 55\n",
      "OpenSourceTechniques-6\n",
      "b'\\x92\\xec\\xd8\\xac\\xbe\\xf800X\\x88_\\tH7\\xf5P\\x08\\xdc\\xd7\\r_\\x1d\\xa0\\x8f\\xaf>\\x93\\xe8\\xec-\\xa5@\\xc5r=\\x02h\\x1az\\xbav\\x07\\xdf\\xbb\\x01Rl\\xc9\\xbb\\x12`\\xda\\xbcI\\xcf\\xdf\\x14\\xb2c\\x9c\\x1c\\xb7\\xc7.\\xa6*-\\xfcl\\xdf\\x8dg`\\xfd\\x13\\xb1\\xcb\\x18\\x06wa\\xb6\\x9e\\xa9N@8\\xd3\\xa5y~\\x92\\x98\\x7f\\\\\\xe6\\x0cX\\x03\\x90-\\x93\\xbc\\xe90{\\x84O<\\x9e\\xf0P'\n",
      "Length: 112\n",
      "Embedding Efficiency: 3.9285714285714284\n",
      "==============\n",
      "436Some of them told accenture is not confirm. Is it true.\n",
      "customizedTechniques-2\n",
      "Uqog qh vjgo vqnf ceegpvwtg ku pqv eqphkto. Ku kv vtwg.\n",
      "Length: 55\n",
      "customizedTechniques-3\n",
      "s",
      ">>",
      ">>",
      "",
      ">>>L>i>>",
      "L\n",
      "Length: 55\n",
      "customizedTechniques-5\n",
      "¥Á¿·pÁ¸pÆº·¿pÆÁ¾¶p³µµ·ÀÆÇÄ·p»ÅpÀÁÆpµÁÀ¸»Ä¿~pÅp»ÆpÆÄÇ·~\n",
      "Length: 55\n",
      "OpenSourceTechniques-6\n",
      "b\"\\x89'n\\x15\\x87\\xce\\xb3mX\\xeez\\xb8\\x15\\x9f\\xcc\\xaeWj\\x18\\x87~\\xa6K\\x0b\\xf2\\xce\\xbb\\xcf\\x9bj|\\x16J\\x0b\\x0e%\\xba\\xd8\\xfe\\x85T'\\xf8U1fn(3\\x9e\\xc3\\x9b\\x9eu7\\xb2\\x87u\\xd6\\xa0\\x96A~\\x85=P\\xdc\\x06<\\x17)^\\xaekn\\xa5\\x17\\xf9\\xe1g\\xedI6d\\x90\\xfa\\x11\\x8de2\\x7f)\\x9a\\xf2\\xbf\\xdc:\\xf0p{\\x12\\xe7\\xdey\\xa6]\\\\\\xd58A\\xa5e\"\n",
      "Length: 112\n",
      "Embedding Efficiency: 3.9285714285714284\n",
      "==============\n",
      "437\\Pete can you please ring meive hardly gotany credit\\\"\"\n",
      "customizedTechniques-2\n",
      "\\Rgvg ecp aqw rngcug tkpi ogkxg jctfna iqvcpa etgfkv\\\"\"\n",
      "Length: 55\n",
      "customizedTechniques-3\n",
      "zp",
      "",
      ">>>",
      "",
      ">>",
      "",
      ">>>",
      "z@@\n",
      "Length: 55\n",
      "customizedTechniques-5\n",
      "¬¢·Æ·pµ³Àp±ÁÇpÂ¾·³Å·pÄ»À¹p¿·»È·pº³Ä¶¾±p¹ÁÆ³À±pµÄ·¶»Æ¬rr\n",
      "Length: 55\n",
      "OpenSourceTechniques-6\n",
      "b'\\x9c\\xf3\\xdb\\x0b\\xddQ\\x9d\\xc5\\x99\\xe8\\xe7.\\x1d\\x9ec\\xc4\\xdb\\xcb\\xc3\\x08.\\x1bs\\xe0\\xd2\\xa8\\xbf{\\x1d$vz\\x00\\xce\\xd3\\x88L\\\\\\xba\\x95\\x18\\xe0\\xc4M\\xcc\"e\\xd4\\x9b\\xea\\x18\\xe6\\xa9]U\\xbc\\xe8|j\\xe0z\\x0f\\xa9\\r\\x11\\\\\\'\\xe5\\xef\\xfa=fil\\x89\\xb3\\xc0\\x15K\\xad\\xf6\\x7f@ \\x1e+\\x14\\xe51)3\\x0fT\\xa5r\\x8a\\x02_`R\\xa9\\x172`\\xef\\x9a\\x82\\xfeO\\x06\\x90\\x86'\n",
      "Length: 112\n",
      "Embedding Efficiency: 3.9285714285714284\n",
      "==============\n",
      "438I am great princess! What are you thinking about me? :)\n",
      "customizedTechniques-2\n",
      "K co itgcv rtkpeguu! Yjcv ctg aqw vjkpmkpi cdqwv og? :)\n",
      "Length: 55\n",
      "customizedTechniques-3\n",
      "i>>",
      ">",
      "?>w>",
      ">>>>",
      "]>XG\n",
      "Length: 55\n",
      "customizedTechniques-5\n",
      "p³¿p¹Ä·³ÆpÂÄ»Àµ·ÅÅqp©º³Æp³Ä·p±ÁÇpÆº»À½»À¹p³´ÁÇÆp¿·py\n",
      "Length: 55\n",
      "OpenSourceTechniques-6\n",
      "b'\\x8b\\x9e\\x9e\\xbb\\xed\\xcbNa-Fp\\xf4+\\xfc\\xc5\\x0e\\xf0\\xff\\xb6~\\xd9\\xb9+\\xe2\\x9a\\xbe78\\xb6\\xf8\\x05\\x85cp\\xa5~\\xf1\\xb2\\x0fC\\tD\\xe6 \\xcbfx\\xa6Z\\xee\\x82~\\x1a\\xc2a\\xcbc&\\x9c\\x8a\\xe9\\x150\\xd0\\x8cd\\xd9\\x18T\\xf4\\xda\\xd1\\xe2\\xed\\xb0\\x7f\\xfd!j\\xd4\\x02\\x16w\\xeb\\xa2\\x19q\\xd3\\x82\\x8d\\xc0p iVX\\x06\\x08\\x80I\\xc4\\xc4\\xc8\\xfes&9;\\x06\\xe6\\xe3\\xfb'\n",
      "Length: 112\n",
      "Embedding Efficiency: 3.9285714285714284\n",
      "==============\n",
      "439Sorry my roommates took forever, it ok if I come by now?\n",
      "customizedTechniques-2\n",
      "Uqtta oa tqqoocvgu vqqm hqtgxgt, kv qm kh K eqog da pqy?\n",
      "Length: 56\n",
      "customizedTechniques-3\n",
      "s>>",
      ">>",
      "",
      "J>>>>i>",
      ">>]\n",
      "Length: 56\n",
      "customizedTechniques-5\n",
      "¥ÁÄÄ±p¿±pÄÁÁ¿¿³Æ·ÅpÆÁÁ½p¸ÁÄ·È·Ä|p»ÆpÁ½p»¸ppµÁ¿·p´±pÀÁÉ\n",
      "Length: 56\n",
      "OpenSourceTechniques-6\n",
      "b'\\x8a\\x93\\xf5\\x95\\x1e\\xb0:\\xa6L\\xcf1d\\x1bR\\x88\\x16+\\xbc\\xfd\\x82\\xf7m\\xbaz;r\\xe9*\\xf1\\xa9\\tR\\xd8\\x1b\\x0c?\\xcc\\x19\\xea\\xfd\\x01\\x19\\xdc\\x1a\\x81\\xa2h\\xed\\x05q<\\x1b\\xf5\\xc7\\xa4?\\x1e7fk\\xcb\\xcb\\x12\\xde\\x94\\x00R\\x1b\\xc1\\xa5\\xa1\\x07\\xc7=\\xf44\\xf5)\"\\xde\\x03\\t\\xee\\xa0\"\\x1b2NP\\xaa\\xda\\x9bP\\xceAX?\\x0c\\xc0\\xe0\\xedUx\\x9e9\\xcd\\x03\\xf7\\x83\\xa1k\\xba'\n",
      "Length: 112\n",
      "Embedding Efficiency: 4.0\n",
      "==============\n",
      "440All done? All handed in? Celebrations in full swing yet?\n",
      "customizedTechniques-2\n",
      "Cnn fqpg? Cnn jcpfgf kp? Egngdtcvkqpu kp hwnn uykpi agv?\n",
      "Length: 56\n",
      "customizedTechniques-3\n",
      "a>",
      "]>a>",
      ">]>c",
      "",
      ">>>>",
      "]\n",
      "Length: 56\n",
      "customizedTechniques-5\n",
      "¾¾p¶ÁÀ·p¾¾pº³À¶·¶p»Àp·¾·´Ä³Æ»ÁÀÅp»Àp¸Ç¾¾pÅÉ»À¹p±·Æ\n",
      "Length: 56\n",
      "OpenSourceTechniques-6\n",
      "b'\\x1f0\\xf7\\x89L\\xb0\\xeb\\xdc\\xa3\\x82\\x89uz\\x90\\xfe\\x1b\\xa1\\x8c.\\x8c2]Y\\x1f\\xde\\xb8C\\x84\\xa9\\x19P\\xb8\\x88\\x90W\\xfc:D\\x95\\xcb\\xcbt\\x15b\\x00\\xee3\\xc8cF\\n\\xa3\\x8e\\xb1\\xa7\\xa14\\x18^\\x8a\\x98\\x84)O+3W\\xb7\\x0c\\x83+\\xb9,\\xff\\x964\\xd7\\x19\\xf9\\xb1\\x9a07\\xb9R8\\x97\\x0f\\xbd\\xbeF|\\xc0\\xd3\\xbe\\xd4\\xbcpX\\xcb\\x9at\\xb8+^\\xffU\\x87\\xe6\\x1ex9'\n",
      "Length: 112\n",
      "Embedding Efficiency: 4.0\n",
      "==============\n",
      "441Pick you up bout 7.30ish? What time are  and that going?\n",
      "customizedTechniques-2\n",
      "Rkem aqw wr dqwv 7.30kuj? Yjcv vkog ctg  cpf vjcv iqkpi?\n",
      "Length: 56\n",
      "customizedTechniques-3\n",
      "p>>>>ULQN]>w>",
      ">",
      ">>>>]\n",
      "Length: 56\n",
      "customizedTechniques-5\n",
      "¢»µ½p±ÁÇpÇÂp´ÁÇÆp~»Åºp©º³ÆpÆ»¿·p³Ä·pp³À¶pÆº³Æp¹Á»À¹\n",
      "Length: 56\n",
      "OpenSourceTechniques-6\n",
      "b'r\\xae\\xbfO\\xcc\\x94\\xf5\\xd6_q\\x81o\\x05\\x1b?\\xa9\\x08\\xb8S\\xd8\\xe2\\xdd\\x1e2\\xf1x^\\xebHz\\xdf\\xc1\\x98X\\x81R\\xb4RN\\xb4l\\x96\\xdf\\x82n\\xa0\\x87R&\\x1e\\xd7$\\xacAh\\x04\\xd3\\xcb6\\x80\\x81\\x02\\x82Y\\xba\\xa3\\x04KO\\xad\\x08\\xcc\\xc2\\xa4?\\x86\\xbb4\\xfd3\\x98V\\xe9\\xb7\\xa6\\xb6\\x17Y\\x0b\\xa40|k\\xc0\\xfcvo\\xdd\\xa9\\xfd\\xb8\\x98\\xcaF\\xef\\x1cX\"Q\\xba!\\x16'\n",
      "Length: 112\n",
      "Embedding Efficiency: 4.0\n",
      "==============\n",
      "442En chikku nange bakra msg kalstiya..then had tea/coffee?\n",
      "customizedTechniques-2\n",
      "Gp ejkmmw pcpig dcmtc oui mcnuvkac..vjgp jcf vgc/eqhhgg?\n",
      "Length: 56\n",
      "customizedTechniques-3\n",
      "e>>",
      ">>>LL",
      ">>",
      "M",
      "",
      "]\n",
      "Length: 56\n",
      "customizedTechniques-5\n",
      "Àpµº»½½ÇpÀ³À¹·p´³½Ä³p¿Å¹p½³¾ÅÆ»±³~~Æº·Àpº³¶pÆ·³µÁ¸¸··\n",
      "Length: 56\n",
      "OpenSourceTechniques-6\n",
      "b\"\\xa8\\x1c.\\xec\\x03\\x96\\xafGJ\\xc4\\xbe\\xa4\\x9d\\x10\\xfb\\xa7X!\\x1e\\xec\\xbe~\\xa0\\xd1\\xad$.\\xccx\\x82\\x00p\\x8fr%\\xf7A\\xf4f\\xe0w\\xddET\\x07\\xf7\\xbfJ\\xf5V\\xe1\\r\\xa4@\\xc9p\\xbf\\xc4h\\x85\\x96\\xdc\\xfd8\\xcd\\x97\\xe7\\xb2\\xa4\\xd4\\xf5\\xfd\\x97G\\xc5\\xad'\\x896\\xd4?$<Y\\x15~\\xf5\\x00\\x15\\xf6\\xc5lP\\xa1\\xf2\\\\\\xc9,:>Q\\x92\\xad\\xb0\\x1b\\x99\\xe5\\xaa\\xecK\\x8c\\x14\"\n",
      "Length: 112\n",
      "Embedding Efficiency: 4.0\n",
      "==============\n",
      "443Thursday night? Yeah, sure thing, we'll work it out then\n",
      "customizedTechniques-2\n",
      "Vjwtufca pkijv? Agcj, uwtg vjkpi, yg'nn yqtm kv qwv vjgp\n",
      "Length: 56\n",
      "customizedTechniques-3\n",
      "t>]>_",
      "J>",
      ">J>",
      "E>>>>",
      "\n",
      "Length: 56\n",
      "customizedTechniques-5\n",
      "¦ºÇÄÅ¶³±pÀ»¹ºÆp·³º|pÅÇÄ·pÆº»À¹|pÉ·w¾¾pÉÁÄ½p»ÆpÁÇÆpÆº·À\n",
      "Length: 56\n",
      "OpenSourceTechniques-6\n",
      "b'\\xa7\\xa1Y\\xfa\\xf5&L\\xd5\\x08\\xe9\\xa5^M\\xa1\\xbb\\xdes\\xa5\\x13/\\xdck$\\x86\\xc3\\xeb\\xd9\\x02\\xe9n0\\xf7\\x8du\\x9a1\\xd9%\\xdcA\\xff\\xdc0\\x9f\\xc4\\xceR\\x99E\\xc8=\\x19\\x97\\x89C\\xdez\\xbb\\x85\\x81`H\\x0cW?;\\xb7\\x1bG\\x19\\xcez\\x19\\x93\\x8e\\xa1\\xd8\\xc0\\x8e\\xaa\\xb03\\x10t\\xfd[@\\xdd\\xc3!Ug\\xa9\\xb8\\xdc\\xee\\xd8\\x13\\xd8{\\xeb\\xf5T\\x17V-+L\\xbc\\xb7\\x8f\\xd5'\n",
      "Length: 112\n",
      "Embedding Efficiency: 4.0\n",
      "==============\n",
      "444On ma way to school. Can you pls send me ashley's number\n",
      "customizedTechniques-2\n",
      "Qp oc yca vq uejqqn. Ecp aqw rnu ugpf og cujnga'u pwodgt\n",
      "Length: 56\n",
      "customizedTechniques-3\n",
      "o>>>>L>c>>>",
      ">",
      ">",
      "E>",
      "\n",
      "Length: 56\n",
      "customizedTechniques-5\n",
      "¡Àp¿³pÉ³±pÆÁpÅµºÁÁ¾~p³Àp±ÁÇpÂ¾ÅpÅ·À¶p¿·p³Åº¾·±wÅpÀÇ¿´·Ä\n",
      "Length: 56\n",
      "OpenSourceTechniques-6\n",
      "b\"\\xb9\\xfe\\x9cm\\xb1eZp\\x93,\\xde\\x97$\\xc6d\\xf6\\x8e\\x84p\\x84\\xb84x'\\xc1\\xa4\\xc3<\\x01\\x96\\xf5\\xc64\\x87\\x1f\\xe6Xt\\xd3\\x0f\\x15\\x9d\\xf6\\x95:K\\xafZ\\x07\\xdf\\x16=\\xbb\\xdd\\x0f\\xe8*2:#\\xa0\\xbe\\xaf\\r\\xc5r\\x82\\xc1\\x01e$\\\\\\x84\\xcb\\xa6k\\x84[|\\x05\\x93\\x82p\\xe7V\\x14\\xd9\\xfc\\xb3a\\x88R\\n\\x03:\\x9a\\xc0H\\x1f\\xbf&\\x0bG\\xa3\\x0c\\xf1\\xee\\xfa\\xc4B,\\xf0\"\n",
      "Length: 112\n",
      "Embedding Efficiency: 4.0\n",
      "==============\n",
      "445Just buy a pizza. Meat lovers or supreme. U get to pick.\n",
      "customizedTechniques-2\n",
      "Lwuv dwa c rkbbc. Ogcv nqxgtu qt uwrtgog. W igv vq rkem.\n",
      "Length: 56\n",
      "customizedTechniques-3\n",
      "j>>>L>m",
      ">",
      ">>",
      "",
      "L>u>",
      ">>L\n",
      "Length: 56\n",
      "customizedTechniques-5\n",
      "ÇÅÆp´Ç±p³pÂ»²²³~p·³Æp¾ÁÈ·ÄÅpÁÄpÅÇÂÄ·¿·~p§p¹·ÆpÆÁpÂ»µ½~\n",
      "Length: 56\n",
      "OpenSourceTechniques-6\n",
      "b'\\x02L\\xf5\\xb1\\xf9\\x87\\x03\\xbe\\x12\\xb6|\\x8f$+\\xc1~;6\\xc7\\xe5$|f\\x06\\xd2]\\x9c\\x05\\xd9\\xb9\\xba\\xcaz\\x01\\x1dftb\\xdc%\\x06\\x80\\x18\\x06\\x88\\x0e[\\xb0\\xcb\\xab!\\x14\\xe0\\x06r\\xbc\\xb4\\x19\\xb1\\x14\\xb7\\xe1\\xbb\\xe6G\\xb5\\xc1tzT*0\\x12&\\xb0\\xc0\\x8ce5\\x86Mu.\\xce\\xf0\\xc9\\xa3\\xa2\\xfe\\xc5\\xearF\\xcd\\x15\\xb0h\\x89\\xbd\\xd5\\x7f3=K\\xee\\x93t\\x10\\x88V\\xd9y'\n",
      "Length: 112\n",
      "Embedding Efficiency: 4.0\n",
      "==============\n",
      "446Ffffffffff. Alright no way I can meet up with you sooner?\n",
      "customizedTechniques-2\n",
      "Hhhhhhhhhh. Cntkijv pq yca K ecp oggv wr ykvj aqw uqqpgt?\n",
      "Length: 57\n",
      "customizedTechniques-3\n",
      "fL>a>>>i>>",
      "",
      ">>>>",
      "]\n",
      "Length: 57\n",
      "customizedTechniques-5\n",
      "¸¸¸¸¸¸¸¸¸~p¾Ä»¹ºÆpÀÁpÉ³±ppµ³Àp¿··ÆpÇÂpÉ»Æºp±ÁÇpÅÁÁÀ·Ä\n",
      "Length: 57\n",
      "OpenSourceTechniques-6\n"
     ]
    },
    {
     "name": "stdout",
     "output_type": "stream",
     "text": [
      "b'\\xbf#3\\xf8\\xdc\\xa1\\x99\\x10ZOY\\xd2+\\x15V\\xce\\xd23\\xbe\\xf5\\xbf\\xe1\\xab\\xc6\\x8c\\xc7\\x9c\\xd5\\x01\\xc3\\xdec\\x89B\\xe7\\x8f\\xedj_\\xab\\xa9\\xfa>\\x16O\\x99\\xac5/\\xc0\\xf4{\\xd2\\xf7\\xef\\xc89N\\xe9T\\xa5\\xfa\\xac}\\xab\\x8dKEa\\x04\\x91\\x95^\\x186\\xfd\\x9c3\\x9c\\x0f\\x95:\\xe8c\\xab\\xc5\\x91J\\x82\\x1e\\xf6^\\xd2\\xf7\\xedK\\xb8\\x94w\\xd2\\xb3\\xdcT\\x94\\xa9\\x9dWp2o\\x9d\\xa7'\n",
      "Length: 112\n",
      "Embedding Efficiency: 4.071428571428571\n",
      "==============\n",
      "447Please don't text me anymore. I have nothing else to say.\n",
      "customizedTechniques-2\n",
      "Rngcug fqp'v vgzv og cpaoqtg. K jcxg pqvjkpi gnug vq uca.\n",
      "Length: 57\n",
      "customizedTechniques-3\n",
      "p",
      "",
      ">E>",
      ">",
      ">",
      "L>i>",
      ">>",
      "",
      ">>L\n",
      "Length: 57\n",
      "customizedTechniques-5\n",
      "¢¾·³Å·p¶ÁÀwÆpÆ·ÊÆp¿·p³À±¿ÁÄ·~ppº³È·pÀÁÆº»À¹p·¾Å·pÆÁpÅ³±~\n",
      "Length: 57\n",
      "OpenSourceTechniques-6\n",
      "b'm\\xec[j\\xadt\\xa78)UV\\x16\\xfd\\x1c\\xc8\\x83\\xd5\\x95~\\x18\\xcd\\xc48\\x85w`\\xa9\\xb7\\x9e\\xddG\\xdd\\xf9\\x9aa6\\xa7\\x99\\xbf\\xd2\\xb1\\xc3P\\xdd\\x86N\\x86\\xc9[Z\\xc5\\x16\\x91\\xe0\\xc1\\x88\\x1dQ\\x1c\\xd2\\x93\\x80\\x06z\\x07\\xd5\\xb2\\x94\\x1d\\xf4\\x85\\x0e\\xfd\\xe4H\\x9eAVd\\x94p\\x86\\x89q\\xa6\\xb0Z\\x95\\xf0\\x85\\x93\\x8c\\xceyBOC\\x11\\xc8s$\\xf4V\\xbenT\\xbb`y:\\xeb\\xa6'\n",
      "Length: 112\n",
      "Embedding Efficiency: 4.071428571428571\n",
      "==============\n",
      "448Yup... From what i remb... I think should be can book... \n",
      "customizedTechniques-2\n",
      "Awr... Htqo yjcv k tgod... K vjkpm ujqwnf dg ecp dqqm... \n",
      "Length: 57\n",
      "customizedTechniques-3\n",
      "_LLL>f>>>",
      "LLL>i>>>",
      ">>LLL>\n",
      "Length: 57\n",
      "customizedTechniques-5\n",
      "ÇÂ~~~pÄÁ¿pÉº³Æp»pÄ·¿´~~~ppÆº»À½pÅºÁÇ¾¶p´·pµ³Àp´ÁÁ½~~~p\n",
      "Length: 57\n",
      "OpenSourceTechniques-6\n",
      "b'\\xa3EzE\\xf1\\x04\\x05^\\xc9\\t\\x00H\\x0b\\x91\\x9e\\xf9\\xc8\\x87\\xd9_Q\\xc7\\xe3\\xe98\\xa6`;\\xdb<_k\\x0c(]\\xd8+y\\x02:\\x93\\\\\\x8c\\x85\\x07-\\x80l\\xc5;\\xe4\\xfd=TN \\x91\\x9fT\\x07I\\xd5\\xd4Mh\\x1daJ\\xd54\\x95\\xb0\\xea9\\xfa\\x07O\\xc3z\\x16)\\x8b\\x1d/D\\xa23\\xecg9\\x80y\\x1a\\xa8-\\xad'\n",
      "Length: 96\n",
      "Embedding Efficiency: 4.75\n",
      "==============\n",
      "449Cool. So how come you havent been wined and dined before?\n",
      "customizedTechniques-2\n",
      "Eqqn. Uq jqy eqog aqw jcxgpv dggp ykpgf cpf fkpgf dghqtg?\n",
      "Length: 57\n",
      "customizedTechniques-3\n",
      "cL>s>>",
      ">>",
      ">",
      "",
      ">",
      ">>",
      ">",
      "",
      "]\n",
      "Length: 57\n",
      "customizedTechniques-5\n",
      "ÁÁ¾~p¥ÁpºÁÉpµÁ¿·p±ÁÇpº³È·ÀÆp´··ÀpÉ»À·¶p³À¶p¶»À·¶p´·¸ÁÄ·\n",
      "Length: 57\n",
      "OpenSourceTechniques-6\n",
      "b'\\x1a\\xbdT\\xea`\\xac\\x0e06+ v\\xa8E\\xdb\\xdd\\xdd\\x8bw\\xe1\\xf6]\\xd4on\\x88\\xf4\\xbe\\x11a*\\xbc\\x80\\xa0\\x9c\\xf1:\\x07_\\n\\x96~\\x01\\xbeg+\\x1d|Q\\xa4\\x1e\\xecy\\xc9\\xa7\\xde2%&0\\xec\\x17\\xadA\\xc4\\x00\\xd8\\x88\\xad\\xed4&|#\\xa6c\\\\o\\x88\\xb1\\x1dR\\x91\\x1e!\\x94:2<Pn\\x84Ae&\\xf6\\xa9\\xbcQ\\xe8\\x14\\x07\\x84\\x02\\x9e\\x9e-Gb\\x7f}\\x91'\n",
      "Length: 112\n",
      "Embedding Efficiency: 4.071428571428571\n",
      "==============\n",
      "450K:)k:)what are detail you want to transfer?acc no enough?\n",
      "customizedTechniques-2\n",
      "M:)m:)yjcv ctg fgvckn aqw ycpv vq vtcpuhgt?cee pq gpqwij?\n",
      "Length: 57\n",
      "customizedTechniques-3\n",
      "kXGXG>",
      ">",
      ">>>>",
      "]>>",
      "]\n",
      "Length: 57\n",
      "customizedTechniques-5\n",
      "y½yÉº³Æp³Ä·p¶·Æ³»¾p±ÁÇpÉ³ÀÆpÆÁpÆÄ³ÀÅ¸·Ä³µµpÀÁp·ÀÁÇ¹º\n",
      "Length: 57\n",
      "OpenSourceTechniques-6\n",
      "b\"\\xd5\\x81\\xd8\\x9f\\xc8<W*\\x89\\xda\\x7f\\xddM![\\xc3\\x930\\xa0\\xc8vkpq\\xcd\\xbc'=s=\\xa2k>\\x85\\xd4\\x9b\\xb1/=\\x02\\x85\\xe9\\x18\\xa6\\x18\\x0f\\xd5n%\\xf9\\xbc\\xf4\\x99\\xdfC\\x07\\xf3\\xbb\\x87\\xf8\\xcd\\x8c\\x0e E^6\\x98 \\xe7Y\\xa2x$\\x96\\xf3\\xeeX\\x8a\\xd1\\xbb\\x83\\x95j\\xe4b\\xf0\\xf3\\xcd\\xdb\\xd5\\xc9 D\\n.\\xed\\x7f\\xff\\r\\xb1\\x8b\\x8a\\xd74\\x8d\\xeb\\xe13\\x96\\x04\\\\\"\n",
      "Length: 112\n",
      "Embedding Efficiency: 4.071428571428571\n",
      "==============\n",
      "451Hi i won't b ard 4 christmas. But do enjoy n merry x'mas.\n",
      "customizedTechniques-2\n",
      "Jk k yqp'v d ctf 4 ejtkuvocu. Dwv fq gplqa p ogtta z'ocu.\n",
      "Length: 57\n",
      "customizedTechniques-3\n",
      "h>>E>>>R>L>b>>",
      ">>",
      ">EL\n",
      "Length: 57\n",
      "customizedTechniques-5\n",
      "»p»pÉÁÀwÆp´p³Ä¶ppµºÄ»ÅÆ¿³Å~pÇÆp¶Áp·À¼Á±pÀp¿·ÄÄ±pÊw¿³Å~\n",
      "Length: 57\n",
      "OpenSourceTechniques-6\n",
      "b'\\xc1:\\x01n\\xf1v\\x80\\xf2\\xe3\\x05\\r\\xaf\\xfc\\x14\\x8b\\x00Y1\\xca:\\x7f;\\x1cg\\xb9\\x87\\xa2\\xbc&\\xf3h\\x85\\x10\\xc9\\x90\\x8c:\\xd7\\xe1\\xc6F\\x033\\xf0s\\xa7\\xb0\\xcd\\xd6\\x16\\xcc1\\x04\\xce0\\xb3W\\xcb\\xf92\\xd8\\xccq]k\\x98\\x82H\\x18$u\\x17\\xf1^\\x1d\\x9c\\xb2\\xd4\\x01\\x85\\x80O\\x9d\\x8bq\\x8e\\xe0cj\\xa3\\xccAqf\\x9cz\\xbc\\xd5g\\xf6\\x90M\\x03\\x08\"\\x0c\\xeeIQ\\xca\\xc2:'\n",
      "Length: 112\n",
      "Embedding Efficiency: 4.071428571428571\n",
      "==============\n",
      "452I am in tirupur da, once you started from office call me.\n",
      "customizedTechniques-2\n",
      "K co kp vktwrwt fc, qpeg aqw uvctvgf htqo qhhkeg ecnn og.\n",
      "Length: 57\n",
      "customizedTechniques-3\n",
      "i>>>>J>",
      ">>",
      ">>",
      ">>",
      "L\n",
      "Length: 57\n",
      "customizedTechniques-5\n",
      "p³¿p»ÀpÆ»ÄÇÂÇÄp¶³|pÁÀµ·p±ÁÇpÅÆ³ÄÆ·¶p¸ÄÁ¿pÁ¸¸»µ·pµ³¾¾p¿·~\n",
      "Length: 57\n",
      "OpenSourceTechniques-6\n",
      "b'\\xb0\\xc9\\xe7\\xa7\\xb7\\xde\\xe2\\xd3\\x85=\\x1a\\x0c\\xde\\xf0\\xa5\\x1d\\xa7\\xd6E$\\xdc\\x93\\\\\\xa5\\x08i\\x84\\x8e\\x81P\\xec\\xc1s\\xe7\\x0c+D\\xd3}JfG\\x7f\\xa8:iE\\x0b\\x00\\xc5O&?\\x8f\\xba \\x06\\x12\\x9c\\xd4n2\\x8a\\xcb\\xd7B\\xbe\\xb3\\r\\x99\\xedp\\xbb\\x1b\\xb5\\x1a\\x9eq\\x9c,A1!\\xc0\\x84\\xeaK$\\x9a\\x02\\x12\\x1a-\\x16\\x06[_\\xcd\\x86\\x82N?+\\x9a\\x81W(m\\xf0\\x16t\\xb5'\n",
      "Length: 112\n",
      "Embedding Efficiency: 4.071428571428571\n",
      "==============\n",
      "453Sorry me going home first... Daddy come fetch Ì_ later...\n",
      "customizedTechniques-2\n",
      "Uqtta og iqkpi jqog hktuv... Fcffa eqog hgvej L_ ncvgt...\n",
      "Length: 57\n",
      "customizedTechniques-3\n",
      "s>",
      ">>",
      ">LLL>d>",
      ">",
      ">j}>",
      "LLL\n",
      "Length: 57\n",
      "customizedTechniques-5\n",
      "¥ÁÄÄ±p¿·p¹Á»À¹pºÁ¿·p¸»ÄÅÆ~~~p³¶¶±pµÁ¿·p¸·Æµºp¯p¾³Æ·Ä~~~\n",
      "Length: 57\n",
      "OpenSourceTechniques-6\n",
      "b'\\xe8\\x93\\x8b\\xda\\xf4\\x1d\\xd1K\\x1c\\x1f\\xecx\\x16u\\xf0\\x10\\xc6\\xd5\\xa5:\\xee\\xe3\\x9bW\\n}A\\x19\\x83\\xccp\\xe3\\x82{#\\xcc\\xe0\\xd6.\\x06\\xbb6van\\xbd\\x04\\x86\\x91J\\xea\\x07\\\\\\xad\\x0cP\\xf1\\x1br\\x0c\\x05\\x1bw\\x13X#y\\xcf\\xbb\\x9c\\x85\\xb9\\xb9\\xc2\\x8d\\xbc\\x17H.Q\\xbe\\xaf\\x96\\xed\\xb7i\\xb8C\\x82\\xb4\\x94\\xab<Y8\\xdd\\x8dh\\xe1\\x91>:6\\xe3\\x05\\x9f\\x8b)iq\\xc1\\x0e'\n",
      "Length: 112\n",
      "Embedding Efficiency: 4.071428571428571\n",
      "==============\n",
      "454I wil be there with in  &lt;#&gt;  minutes. Got any space\n",
      "customizedTechniques-2\n",
      "K ykn dg vjgtg ykvj kp  &nv;#&iv;  okpwvgu. Iqv cpa urceg\n",
      "Length: 57\n",
      "customizedTechniques-3\n",
      "i>>",
      ">",
      "",
      ">>>>DYADY>>",
      "L>g>>",
      "\n",
      "Length: 57\n",
      "customizedTechniques-5\n",
      "pÉ»¾p´·pÆº·Ä·pÉ»Æºp»Àppv¾Æsv¹Æpp¿»ÀÇÆ·Å~pÁÆp³À±pÅÂ³µ·\n",
      "Length: 57\n",
      "OpenSourceTechniques-6\n",
      "b't\\xd2Wu\\xc3\\x85/\\x93\\x02\\x9c\\xb0iJw~\\x068\\x04mv\\xd2\\x84\\x07\\x82!\\x87\\x83\\xc2\\xd7\\x98\\xe4\\xd8\\xb2\\xe7\\xfd\\xaf\\xf6\\x03L\\xa5\\xb3\\x1d\\xff*\\xd8;P\\x08\\'mJ\"B\\xd2\\x99\\x14\\x99\\xabF\\xa0\\xa4.\\xfc\\x87\\xdb\\x03\\xc4\\xac\\xbf\\xcbU\\xfb\\x96W3\\x08!A\\xfb\\xc9\\xa5\\xebl\\x1d\\x8a\\xa3u\\xbe\\x13\\x0c\\x11\\xc0\\x1b\\x82T\\xaa\\x10\\xf3\\xad\\x8bm\\x05\\x81\\xd9\\xc0\\xd5\\xdf\\xa9\\xe5wSx'\n",
      "Length: 112\n",
      "Embedding Efficiency: 4.071428571428571\n",
      "==============\n",
      "455Fine if thatåÕs the way u feel. ThatåÕs the way its gota b\n",
      "customizedTechniques-2\n",
      "Hkpg kh vjcveUu vjg yca w hggn. VjcveUu vjg yca kvu iqvc d\n",
      "Length: 58\n",
      "customizedTechniques-3\n",
      "f",
      ">>s>",
      ">>>",
      "",
      "L>ts>",
      ">>>>\n",
      "Length: 58\n",
      "customizedTechniques-5\n",
      "»À·p»¸pÆº³Æµ¥ÅpÆº·pÉ³±pÇp¸··¾~p¦º³Æµ¥ÅpÆº·pÉ³±p»ÆÅp¹ÁÆ³p´\n",
      "Length: 58\n",
      "OpenSourceTechniques-6\n",
      "b'\\xa1\\xb8NkS6\\xbd\\xdda\\r\\xb9q\\x92Zp\\x8e\\x96\\x8e\\xf7\\xef\\xd9\\x19\\x1f\\xd9\\x91o\\xf7\\x126\\x05\\xdfS\\xcf\\x8b\\t(y\\x81\\xe7\\\\X\\xf1\\xd7\\xdb\\x9e\\xfc\\xa7\\x10:\\x95\\xb5z\\xc8\\xe6\\xf0\\x1c\\x8f\\xe3\\x82\\x80\\x19\\x9d<\\x102\\x1dJ\\xb0\\xb8\\x90tA\\x00\\xbd\\xbf\\xfdQ\\x16\\xe8\\x8f\\xcf\\xbd\\x81r2\\xae\\xa5\\xc5b\\xb4\\xd7\\xf2\\xf5\\xb6\\xeb\\x9c\\x81\\xee\\xdd%Bx\\xf6\"n\\xdb\\x9d\\xfe\\xc3\\xa1\\xa8g'\n",
      "Length: 112\n",
      "Embedding Efficiency: 4.142857142857143\n",
      "==============\n",
      "456What you thinked about me. First time you saw me in class.\n",
      "customizedTechniques-2\n",
      "Yjcv aqw vjkpmgf cdqwv og. Hktuv vkog aqw ucy og kp encuu.\n",
      "Length: 58\n",
      "customizedTechniques-3\n",
      "w>>",
      ">>",
      "L>f>",
      ">>>",
      ">>L\n",
      "Length: 58\n",
      "customizedTechniques-5\n",
      "©º³Æp±ÁÇpÆº»À½·¶p³´ÁÇÆp¿·~p»ÄÅÆpÆ»¿·p±ÁÇpÅ³Ép¿·p»Àpµ¾³ÅÅ~\n",
      "Length: 58\n",
      "OpenSourceTechniques-6\n",
      "b'\\xd6\\xa9#+x\\xed\\x81\\x99\\xa5a\\x07\\x8c\\xf5\\xec\\xb1\\xa4+\\x8b\\xcb\\xf9\\xac\\xd8\\x13\\x80\\xa8\\x94W\\x8b\\x0b/\\xbaz\\xb5\\x145\\xa3\\xef\\xc5S\\x18\\x8ew\\xe4\\xfea\\x19\\x8cq\\tE\\x19i\\xc3\\xda\\xf8#9\\x13\\x83\\t\\xa0{\\xa9g\\x996K\\xe2\\x8aq\\xd6F\\xbb\\x876\\xa2\"[\\xc1\\xd7]\\xa1\\x13\\xe1\\x83`\\xe4w\\x8a\\xb2Z\\x05\\x8c\\xcb\\xbe[\\xa7j\\xa76\\xa0\\x85\\x8a\\xe6m\\x15c[\\x81(u\\xeb'\n",
      "Length: 112\n",
      "Embedding Efficiency: 4.142857142857143\n",
      "==============\n",
      "457Finally the match heading towards draw as your prediction.\n",
      "customizedTechniques-2\n",
      "Hkpcnna vjg ocvej jgcfkpi vqyctfu ftcy cu aqwt rtgfkevkqp.\n",
      "Length: 58\n",
      "customizedTechniques-3\n",
      "f>",
      ">>",
      ">>>>>",
      "L\n",
      "Length: 58\n",
      "customizedTechniques-5\n",
      "»À³¾¾±pÆº·p¿³Æµºpº·³¶»À¹pÆÁÉ³Ä¶Åp¶Ä³Ép³Åp±ÁÇÄpÂÄ·¶»µÆ»ÁÀ~\n",
      "Length: 58\n",
      "OpenSourceTechniques-6\n",
      "b'\\x05k\\xd05\\x83\\xc5=\\xc3\\x87\\xd6\\xf6\\xc1\\xc0\\xb0\\xc1\\x1eb|\\x8b\\xafI\\x94\\xf8\\xc1\\xd4_B\\x93i\\xcfl\\xc4d\\x7f:~\\xa3\\xc8]\\x97\\xa1\\xaax\\x7f\\xe5\\x0fL\\xed\\xfa\\xfb\\xf7\\x02T\\xb0\\xe4\\xc1\\x9eT\\x9e>\\x8f\\xfe\\xcf\\xda(\\xea\\x90\\xe8\\xd5\\xe4\\xc2\\x81y\\xd2T9Rw\\xd9\\xae\\xad\\x8a\\xc7\\x01\\xaarvI\\xc9iFi\\xaf\\x1a\\x1e_\\xdf4\\xb44\\tF\\xdfy\\xdc\\xcb\\xf9\\x1d\\x06x\\xbb '\n",
      "Length: 112\n",
      "Embedding Efficiency: 4.142857142857143\n",
      "==============\n",
      "458K, I might come by tonight then if my class lets out early\n",
      "customizedTechniques-2\n",
      "M, K okijv eqog da vqpkijv vjgp kh oa encuu ngvu qwv gctna\n",
      "Length: 58\n",
      "customizedTechniques-3\n",
      "kJ>i>>",
      ">>>",
      ">>>>",
      ">>",
      "\n",
      "Length: 58\n",
      "customizedTechniques-5\n",
      "|pp¿»¹ºÆpµÁ¿·p´±pÆÁÀ»¹ºÆpÆº·Àp»¸p¿±pµ¾³ÅÅp¾·ÆÅpÁÇÆp·³Ä¾±\n",
      "Length: 58\n",
      "OpenSourceTechniques-6\n",
      "b'\\xa5\\xb9m]\\x97x\\x19\\x90\\xb0f\\x13C\\xb3\\xe5+U\\xf7\\x9fg\\xb9\\x05\\xbbj\\xaf\\xd1\\xb6\\xe5}\\xc8&uk,\\xb7\\xb5\\x0bnv\\xb8I\\xe2_\\x82\\xa9X9O\\xf2\\x1f\"^\\x1c\\x9e\\xfb\\x8f>\\xa8\\x7f/\\x8b\\xd3E[\\xcb\\x94\\xfa>%\\xd4(\\n\\x1bC\\xe7\\x19\\xae\\xe5\\x05\\xa3d\\xa2_\\xe3=QF\\xae\\xa8!\\xad\\x07{\\xa2t\\x1d\\xff\\xb4\\xd7\\xee\\xa91h\\xd2da\\xf4;\\x15~\\xdf\\xb6\\xce'\n",
      "Length: 112\n",
      "Embedding Efficiency: 4.142857142857143\n",
      "==============\n",
      "459Ask g or iouri, I've told the story like ten times already\n",
      "customizedTechniques-2\n",
      "Cum i qt kqwtk, K'xg vqnf vjg uvqta nkmg vgp vkogu cntgcfa\n",
      "Length: 58\n",
      "customizedTechniques-3\n",
      "a>>>J>iE",
      ">>",
      ">>",
      ">",
      ">",
      ">",
      "\n",
      "Length: 58\n",
      "customizedTechniques-5\n",
      "Å½p¹pÁÄp»ÁÇÄ»|pwÈ·pÆÁ¾¶pÆº·pÅÆÁÄ±p¾»½·pÆ·ÀpÆ»¿·Åp³¾Ä·³¶±\n",
      "Length: 58\n",
      "OpenSourceTechniques-6\n",
      "b'\\x9d\\xf3`Cl\\xae\\xd2\\x1e\\xed\\xc1\\xaf\\xead\\xf03\\xc2O=n\\xe8\\xbc\\xd2<)\\xfen\\xa6\\xca9\\x10s\\x14}\\x85\\x17\\x9b\\xb6\\x99\\x14\\x13}\\x96?\\xd6Im{\\xe1A\\xca\\x17\\xb7[\\x91Q\\x02\\x85\\xe6\\x15 \\xebed|\\xf8\\x08\\xd0\\xcf\\xfeZ\\xddi\\xd4\\x1e\\xf1\\xc7\\x8aK\\x84}\\xb6\\xbc{\\xf4\\x18\\xdc-/\\xec\\xf6G\\x8c\\x820?\\x9f\\xdcn\\xc2%U\\xd1\\xfcK\\xcc\\n-2\\x94\\xc69\\x1c'\n",
      "Length: 112\n",
      "Embedding Efficiency: 4.142857142857143\n",
      "==============\n",
      "460Good words.... But words may leave u in dismay many times.\n",
      "customizedTechniques-2\n",
      "Iqqf yqtfu.... Dwv yqtfu oca ngcxg w kp fkuoca ocpa vkogu.\n",
      "Length: 58\n",
      "customizedTechniques-3\n",
      "g>LLLL>b>>>",
      "",
      ">>>>>",
      "L\n",
      "Length: 58\n",
      "customizedTechniques-5\n",
      "ÁÁ¶pÉÁÄ¶Å~~~~pÇÆpÉÁÄ¶Åp¿³±p¾·³È·pÇp»Àp¶»Å¿³±p¿³À±pÆ»¿·Å~\n",
      "Length: 58\n",
      "OpenSourceTechniques-6\n",
      "b'(\\x9e*i\\xa6\\xaa\\x8b\\xa5\\xac\\xc0G\\xb8l\\xd3\\xed\\xae9%\\x8f\\xa9\\xef\\x17\\xa3_\\x8c\\xa4\\x08\\xec\\x02.}\\xd3\\xfa\\xa5\\xf3\\xff\\x02\\tMJ}&\\xd3(;;8\\x94\\x19\\xb1j\\xbb\\xc9\\x98LVb:\\xc5snR\\xee\\x98\\x00\\xdf\\xf9\\xfar)\\xf6\\x96\\xf4\\x99\\x91\\xe4U^\\xb3\\xc8D\\xaa`\\xeai\\xcbv\\x92%`\\xb1P\\xf8\\xd5\\x81&T}C\\xd3\\x02\\x11\\xdd4o\\x9d\\xef-\\xc5\\xec;\\x97'\n",
      "Length: 112\n",
      "Embedding Efficiency: 4.142857142857143\n",
      "==============\n",
      "461sorry, no, have got few things to do. may be in pub later.\n",
      "customizedTechniques-2\n",
      "uqtta, pq, jcxg iqv hgy vjkpiu vq fq. oca dg kp rwd ncvgt.\n",
      "Length: 58\n",
      "customizedTechniques-3\n",
      "J>J>",
      ">>",
      ">>>L>>",
      ">>>",
      "L\n",
      "Length: 58\n",
      "customizedTechniques-5\n",
      "ÅÁÄÄ±|pÀÁ|pº³È·p¹ÁÆp¸·ÉpÆº»À¹ÅpÆÁp¶Á~p¿³±p´·p»ÀpÂÇ´p¾³Æ·Ä~\n",
      "Length: 58\n",
      "OpenSourceTechniques-6\n",
      "b'@\\xadY\\x97v\\xcf\\x01A\\xfd\\xf10\\xa9\\xccv;\\xb1d\\xf1FWQ\\xd7\\x18\"\\xcb\\xa8\\xfeR\\xc8p6\\x8c\\x9b\\xd3\\xb4\\xf9\\x89g\\x89\\xba|,cb\\xf8\\x9f\\xeb\\xa9\\xa1\\x03q]\\xff\\x99\\x18\\x8c\\x8e\\x08Fq\\x15>$\\x9b\\r,\\x87bs\\xe1\\xcd\\xa8=dW\\x80oe\\xe0?\\x94\\x13\\xd4p\\xe1\\xe7K\\xf7\\x047\\xf1\\xd2\\xabI\\xe6q\\r\\xa2\\xa6\\xae\\xe0\\xe7\\x0e\\xceT\\ra\\xac\\xd3\\x98-i'\n",
      "Length: 112\n",
      "Embedding Efficiency: 4.142857142857143\n",
      "==============\n",
      "462Got it. Seventeen pounds for seven hundred ml ‰ÛÒ hope ok.\n",
      "customizedTechniques-2\n",
      "Iqv kv. Ugxgpvggp rqwpfu hqt ugxgp jwpftgf on ‰AR jqrg qm.\n",
      "Length: 58\n",
      "customizedTechniques-3\n",
      "g>L>s",
      "",
      "",
      "",
      ">>>",
      "",
      ">",
      ">>⁎_p>",
      ">L\n",
      "Length: 58\n",
      "customizedTechniques-5\n",
      "ÁÆp»Æ~p¥·È·ÀÆ··ÀpÂÁÇÀ¶Åp¸ÁÄpÅ·È·ÀpºÇÀ¶Ä·¶p¿¾p₀¢pºÁÂ·pÁ½~\n",
      "Length: 58\n",
      "OpenSourceTechniques-6\n",
      "b'\\xba&u\\xd3\\xa59`\\xc1\\x81OA\\xf0\\x0f0\\x11 \\x14\\xbc@,\\x97z\\xfd3\\xa75\\xec\\xdb\\xe4\\xc3n\\xe6VH)N\\x96\\xe4*\\x1b|(G\\x96\\xbe\\xf3\\x10\\xcf\\xd9F\\xa8 \\x8c\\xf8\\x08\\xb3\\x04D\\xcf%\\x96T\\xe4\\xfa\\xff\\xdc9h\\xc7-\\xbf\\xfd\\xa6\\x10\\xc0\\xa3\\x05\\xef/\\xb9\\xd1\\xa3\\xd2\\x9a)\\xca\\xe3\\xa7C\\xaesj\\x8b\\x9e75\\x8d\\xa6e\\x1cX\\xd6\\x8a\\xae\\x17\\xbe\\xe3\\xde\\xa6\\xc1\\x1c`'\n",
      "Length: 112\n",
      "Embedding Efficiency: 4.196428571428571\n",
      "==============\n",
      "463Not getting anywhere with this damn job hunting over here!\n",
      "customizedTechniques-2\n",
      "Pqv igvvkpi cpayjgtg ykvj vjku fcop lqd jwpvkpi qxgt jgtg!\n",
      "Length: 58\n",
      "customizedTechniques-3\n",
      "n>",
      ">",
      "",
      ">>>>>>",
      ">",
      "",
      "?\n",
      "Length: 58\n",
      "customizedTechniques-5\n",
      " ÁÆp¹·ÆÆ»À¹p³À±Éº·Ä·pÉ»ÆºpÆº»Åp¶³¿Àp¼Á´pºÇÀÆ»À¹pÁÈ·Äpº·Ä·q\n",
      "Length: 58\n",
      "OpenSourceTechniques-6\n",
      "b\"\\xd0\\xd5\\xd3M\\xca\\xbc2b\\x19r\\xe6H\\xc9\\x86\\xfa\\xdbt\\x84\\xab\\x8b\\xeb\\xf9M\\x00M\\x02P\\x1fG\\x98`'\\xa7\\x07_\\x95Uot\\xec\\xe8\\xc5\\x16\\xe3\\xb1\\xed\\x1cg\\xfa\\xaa9~\\xcd6V\\xc1R\\xdf\\x97\\xce\\x19\\xd7S\\x977\\x1e`;\\xfb\\x86\\x81\\xa93\\x87\\x81~(\\xfa\\x81\\xfa\\xd1p\\xa4\\x05\\xc4p\\xef\\x13\\xb2\\xe6\\xf3{\\r\\tL!\\x85\\xd5\\xfe\\xbd\\xa3\\xaa\\x84\\xdb\\xdfD\\xd9\\x08S\\x10 \\xc8\"\n",
      "Length: 112\n",
      "Embedding Efficiency: 4.142857142857143\n",
      "==============\n",
      "464I am real, baby! I want to bring out your inner tigress...\n",
      "customizedTechniques-2\n",
      "K co tgcn, dcda! K ycpv vq dtkpi qwv aqwt kppgt vkitguu...\n",
      "Length: 58\n",
      "customizedTechniques-3\n",
      "i>>",
      "J>?>i>>>>>>",
      ">",
      "LLL\n",
      "Length: 58\n",
      "customizedTechniques-5\n",
      "p³¿pÄ·³¾|p´³´±qppÉ³ÀÆpÆÁp´Ä»À¹pÁÇÆp±ÁÇÄp»ÀÀ·ÄpÆ»¹Ä·ÅÅ~~~\n",
      "Length: 58\n",
      "OpenSourceTechniques-6\n",
      "b'\\xb5+\\xc4\\xf7\\xfe\\xc7+\\xb4\\x11\\xdc\\xe9\\x8a^BaZ\\xb2\\xc6ly\\x06@\\x0eC\\xf9\\xb1%n\\xde\\xa4\\x9d\\xd5I\\xcc\\xa5\\xf9\\xb1\\xe4m\\xed\\xff\\x1fl\\x8d\\xf6\\xcaB\\x85\\xb5\\xd6Q<\\xfa\\xb2\\x8e,\\xa1y\\xfe@\\xb9d\\x18J\\xb0^\\xe60\\x9ec\\x84\"\\x8c)\\xd0\\xb3\\x80I\\x91\\xf1\\x10\\xf2\\x87\\x06\\xf7\\xbaV\\xb5\\xc9D\\xcbRT\\xcd\\xa6Du\\x05\\xef\\x0e\\xf5\\xd7\\xb16\\xa9,\\xdcZy\\xa7B6'\n",
      "Length: 112\n",
      "Embedding Efficiency: 4.142857142857143\n",
      "==============\n",
      "465Yup i thk cine is better cos no need 2 go down 2 plaza mah.\n",
      "customizedTechniques-2\n",
      "Awr k vjm ekpg ku dgvvgt equ pq pggf 2 iq fqyp 2 rncbc ocj.\n",
      "Length: 59\n",
      "customizedTechniques-3\n",
      "_>>>",
      ">>",
      "",
      ">>>",
      "",
      ">P>>>P>>L\n",
      "Length: 59\n",
      "customizedTechniques-5\n",
      "ÇÂp»pÆº½pµ»À·p»Åp´·ÆÆ·ÄpµÁÅpÀÁpÀ··¶pp¹Áp¶ÁÉÀppÂ¾³²³p¿³º~\n",
      "Length: 59\n",
      "OpenSourceTechniques-6\n",
      "b'(\\x01\\xb5\\xde\\x0c6ZJ\\x00\\xdav\\n\\xf4\\xa0\\xcc\\t)\\x16c\\xbc\\xc7BmK\\n9]\\x9b\\xb9\\xb1\\xf4\\xba+\\x16\\x89FZ8\\xa9z\\x1f\\xa7\\xc8M\\xa9Q\\xbd\\xb6\\xbf1\\xec\\xea!j\\x15\\x98\\x82\\xbc\"\\x00wQ/\\xff\\xf33M\\xfe\\xc3\\xba\\xab\\x85\\xd9\\xca\\xa95Bb l>\\xb4\\xa2g/\\xe3[\\xb1\\x0cm\\xbb\\xd7ge-\\x90w\\xc1\\x1f\\x96<\\x98\\xd8\\xcb\\xef=\\xf5L\\x80CU+'\n",
      "Length: 112\n",
      "Embedding Efficiency: 4.214285714285714\n",
      "==============\n",
      "466Yes :)it completely in out of form:)clark also utter waste.\n",
      "customizedTechniques-2\n",
      "Agu :)kv eqorngvgna kp qwv qh hqto:)enctm cnuq wvvgt ycuvg.\n",
      "Length: 59\n",
      "customizedTechniques-3\n",
      "_",
      ">XG>",
      "",
      ">>>>XG>>",
      ">",
      "L\n",
      "Length: 59\n",
      "customizedTechniques-5\n",
      "·Åpy»ÆpµÁ¿Â¾·Æ·¾±p»ÀpÁÇÆpÁ¸p¸ÁÄ¿yµ¾³Ä½p³¾ÅÁpÇÆÆ·ÄpÉ³ÅÆ·~\n",
      "Length: 59\n",
      "OpenSourceTechniques-6\n",
      "b'\\x84D\\xe7\\x0f%\\xe2\\x8a[Q\\x83\\x8d\"\\x8f\\x87\\x1c8\\xc1\\x85k\\x05\\xe84\\xf3\\xed\\x0c&\\xae\\xb2\\x81\\xb5\\x10.2\\x90\\xfeI\\xcc\\xb2n\\xc3\\xd7\\xde$\\x94\\xdf%lAf\\x07\\x1b\\xf4\\xf7\\xf2\\xfa%\\xf1\\x05\\x10g\\xa0\\x99\\xd3\\x07\\xe9\\xc2\\xd9\\xf2\\xbc\\xcc\\xcf\\xc6\\x16\\xefu\\x0b\\xf5.\\t\\xe9]]\\xb5\\x85\\x02\\t\\xd1\\xca\\xbeg\\x172o\\x02L9}\\xf4\\xc3&\\x83\\x97s:\\xeaQz\\xf4 \\x8d\\xa4\\x96'\n",
      "Length: 112\n",
      "Embedding Efficiency: 4.214285714285714\n",
      "==============\n",
      "467Yeah sure, give me a couple minutes to track down my wallet\n",
      "customizedTechniques-2\n",
      "Agcj uwtg, ikxg og c eqwrng okpwvgu vq vtcem fqyp oa ycnngv\n",
      "Length: 59\n",
      "customizedTechniques-3\n",
      "_",
      ">",
      "J>",
      ">",
      ">>",
      ">",
      ">>>>>",
      "\n",
      "Length: 59\n",
      "customizedTechniques-5\n",
      "·³ºpÅÇÄ·|p¹»È·p¿·p³pµÁÇÂ¾·p¿»ÀÇÆ·ÅpÆÁpÆÄ³µ½p¶ÁÉÀp¿±pÉ³¾¾·Æ\n",
      "Length: 59\n",
      "OpenSourceTechniques-6\n",
      "b\"H\\xed\\x88\\x17\\x0c5\\x7fyJ|q\\xe5\\x12\\xb5\\xd6\\x81\\xfd\\xd6-U*#\\\\\\xa4?5\\x0c\\x05Fy<\\xf6\\xb5]\\xd1\\xc8\\xc6m\\xea\\xe2\\xb4\\xfc\\xd2\\xaf\\x00\\x0c0v\\xe1O\\xde\\xef#G\\x83\\xf7\\xb2(8\\xaf\\xca\\xf7as\\xe3H\\x91\\xe4\\x84Z\\x8d\\x03\\xb2-\\xa0N\\xcd\\xbd'\\xe0\\x95k\\xceD\\x0f\\xeeln\\x06\\xb8\\x83\\xc6\\xbb\\xe2Q4\\xb07pf\\x83L\\x96\\xc7\\x11\\x99H\\xfa\\xbb\\xbe\\xef\\xb9\"\n",
      "Length: 112\n",
      "Embedding Efficiency: 4.214285714285714\n",
      "==============\n",
      "468If u sending her home first it's ok lor. I'm not ready yet.\n",
      "customizedTechniques-2\n",
      "Kh w ugpfkpi jgt jqog hktuv kv'u qm nqt. K'o pqv tgcfa agv.\n",
      "Length: 59\n",
      "customizedTechniques-3\n",
      "i>>",
      ">",
      ">",
      ">>E>>L>iE>>",
      ">",
      "L\n",
      "Length: 59\n",
      "customizedTechniques-5\n",
      "¸pÇpÅ·À¶»À¹pº·ÄpºÁ¿·p¸»ÄÅÆp»ÆwÅpÁ½p¾ÁÄ~pw¿pÀÁÆpÄ·³¶±p±·Æ~\n",
      "Length: 59\n",
      "OpenSourceTechniques-6\n",
      "b'\\xa2\\xa2\\x91\\x91\\'#\\xfb\\xa9\"\\xf8\\xb3\\x80\\\\E\\x02b\\x06\\x07\\xe5J8qW\\xdd`\\xff\\xed`#\\x8a\\rP\\x92\\xc1{b_\\x8e\\xed\\xf2Q\\xe3\\x80\\xb0U\\xe1\\x1f\\xb9*|zV?*m\\x1d7\\x04\\xba\\xa0q\\x88fF\\xac\\x1e\\xef.\\x8d\\xb9<`\\x16r6\\xc5C}5\\x01%\\xcb\\xee7\\xad\\xdd5_\\xa0:\\xe5\\xe3\\x99\\xfe\\xca\\x14\\xd5\\x95\\x9ach\\xcb\\x1f\\xee\\x16\\x13\\xf8\\xb8B\\xd0\\x1c-'\n",
      "Length: 112\n",
      "Embedding Efficiency: 4.214285714285714\n",
      "==============\n",
      "46988800 and 89034 are premium phone services call 08718711108\n",
      "customizedTechniques-2\n",
      "88800 cpf 89034 ctg rtgokwo rjqpg ugtxkegu ecnn 08718711108\n",
      "Length: 59\n",
      "customizedTechniques-3\n",
      "VVVNN>>VWNQR>",
      ">",
      ">",
      ">",
      "",
      ">>NVUOVUOOONV\n",
      "Length: 59\n",
      "customizedTechniques-5\n",
      "p³À¶pp³Ä·pÂÄ·¿»Ç¿pÂºÁÀ·pÅ·ÄÈ»µ·Åpµ³¾¾p\n",
      "Length: 59\n",
      "OpenSourceTechniques-6\n",
      "b'\\xc2\\x8bc\\xe4\\x01\\x90i8\\x9av\\xa4\\r\\xeb(\\x84\\xbeo\\xcd2\\xa7\\x84\\x8b\\xb6\\x08\\x86\\xf3\\x83\\xe1\\xf6\\xe0\\x02n\\xe1\\xef\\x99\\xfe\\x83y=v\\x03\\x9e?,\\xa0M\\xc0\\\\3w6 \\xcd\\x8e\\xe0\\tJ\\x15\\xf1\\xf1J\\x06Y2\\xe6@$+\\x18\\x8e`\\xafG\\x83\\xac}\\xcb(s=\\x8e\\x03\\xfay)\\xa5\\xcec\\x19\\xd5\\x05\\x87\\xc5\\x8f>\\xf9G\\xf0x0\\xd2\\xb2+B\\xb9%\\xd5\\x08\\xd5\\xd9\\x86a'\n",
      "Length: 112\n",
      "Embedding Efficiency: 4.214285714285714\n",
      "==============\n",
      "470Cant think of anyone with * spare room off * top of my head\n",
      "customizedTechniques-2\n",
      "Ecpv vjkpm qh cpaqpg ykvj * urctg tqqo qhh * vqr qh oa jgcf\n",
      "Length: 59\n",
      "customizedTechniques-3\n",
      "c>>>",
      ">>H>",
      ">>>H>>>>",
      "\n",
      "Length: 59\n",
      "customizedTechniques-5\n",
      "³ÀÆpÆº»À½pÁ¸p³À±ÁÀ·pÉ»ÆºpzpÅÂ³Ä·pÄÁÁ¿pÁ¸¸pzpÆÁÂpÁ¸p¿±pº·³¶\n",
      "Length: 59\n",
      "OpenSourceTechniques-6\n",
      "b\"\\xb1\\x8f\\xea\\xa1KO\\xf4@\\x90\\xf8h\\xeez\\xc5\\xbe6\\x0f0\\xc2f\\xbb\\xd2\\xe4\\xca\\xb6\\xcc\\x88\\x02\\xda\\xc1#\\xd0\\xb5Td\\x0e2;\\x1d\\xd0\\xe5\\x1b\\x17r\\xdfC-e\\x0f\\xaf(\\xb1R\\x1f\\x13\\xf5\\xf9\\x02A%Z~\\x1c\\x9d>73\\x9a\\x04AZ6\\xb4\\xbf\\xac\\xac\\xd6o3\\xcc\\xad'zeG\\\\\\x98\\x14\\x84\\xbd\\xa0\\xd1\\xefY\\xe2|\\x1f\\x06\\xa5\\xbf\\x13Y\\x81\\xa3\\x9b\\x7fs\\x8f\\x17\\xf83\\x17\"\n",
      "Length: 112\n",
      "Embedding Efficiency: 4.214285714285714\n",
      "==============\n",
      "471I cant wait to see you! How were the photos were useful? :)\n",
      "customizedTechniques-2\n",
      "K ecpv yckv vq ugg aqw! Jqy ygtg vjg rjqvqu ygtg wughwn? :)\n",
      "Length: 59\n",
      "customizedTechniques-3\n",
      "i>>>>",
      "",
      ">?>h>",
      "",
      ">",
      ">>",
      "",
      ">",
      "]>XG\n",
      "Length: 59\n",
      "customizedTechniques-5\n",
      "pµ³ÀÆpÉ³»ÆpÆÁpÅ··p±ÁÇqpÁÉpÉ·Ä·pÆº·pÂºÁÆÁÅpÉ·Ä·pÇÅ·¸Ç¾py\n",
      "Length: 59\n",
      "OpenSourceTechniques-6\n",
      "b\"A\\x8c\\xee\\xee\\xd7\\xbd}\\xf4\\xafR'*QF\\x01\\x1f\\xa0_;\\xbb\\xe2\\xd31-\\xc9|(h\\x93\\xc5h\\xdcu:\\xbfX\\xa9\\x0c0\\x11\\x9al\\x86\\xd1\\xec7\\xa8\\xcbk\\xa7~\\xe0\\xe30\\xc0J\\x89\\x97\\x13f]\\xaa\\xde\\x99O\\xae\\x87L\\xdf\\x8c\\x81\\xc8z\\xdb\\xc7\\xb2d\\x1aq\\xf8X5a.[\\x90\\xd5)\\xffV\\xc7d\\xc0c\\xb7\\x8a^=E\\xc0\\x1f?N\\xee\\xab\\x9e\\x13I*&\\x0fX\"\n",
      "Length: 112\n",
      "Embedding Efficiency: 4.214285714285714\n",
      "==============\n",
      "472Haha get used to driving to usf man, I know a lot of stoners\n",
      "customizedTechniques-2\n",
      "Jcjc igv wugf vq ftkxkpi vq wuh ocp, K mpqy c nqv qh uvqpgtu\n",
      "Length: 60\n",
      "customizedTechniques-3\n",
      "h>",
      ">",
      ">>>>>J>i>>>>>",
      "\n",
      "Length: 60\n",
      "customizedTechniques-5\n",
      "³º³p¹·ÆpÇÅ·¶pÆÁp¶Ä»È»À¹pÆÁpÇÅ¸p¿³À|pp½ÀÁÉp³p¾ÁÆpÁ¸pÅÆÁÀ·ÄÅ\n",
      "Length: 60\n",
      "OpenSourceTechniques-6\n",
      "b'~\\n\\x16,\\xf1\\x0c\\x16VzL\\x04\\x85\\xee@>E\\xf91\\x7f\\xfaN\\x052\\xe8Ca!\\xe2\\xcb\\x8a\\n\\xa0?\\x97\\x8b\\xc0Pxb:\\x0bF\\xed\\xda\\xe7\\x05\\xda\\x8ej\\x98\\x96\\xaa\\xf7dr\\x7f=\\x89\\xbf\\x9b\\x86\\xe0ab\\x14\\x98-\\xfe\\xe4\\xd2\\xf3\\x92t\\x83\\xf8\\xc49\\r\\xd1F\\xcf\\x8f\\x17i\\x15\\x05\\xef>\\r\\xf9\\x0c6\\x89\\xa3\\xa0\\xe8\\xf3X\\xb1@\\xc3\\xf2\\x8eS\\x82\\x08\\x10\\xcf\\xe5o\\x1fC'\n",
      "Length: 112\n",
      "Embedding Efficiency: 4.285714285714286\n",
      "==============\n",
      "473I come n pick Ì_ up... Come out immediately aft ur lesson...\n",
      "customizedTechniques-2\n",
      "K eqog p rkem L_ wr... Eqog qwv koogfkcvgna chv wt nguuqp...\n",
      "Length: 60\n",
      "customizedTechniques-3\n",
      "i>",
      ">>>j}>LLL>c",
      ">>",
      "",
      ">>>",
      "LLL\n",
      "Length: 60\n",
      "customizedTechniques-5\n",
      "pµÁ¿·pÀpÂ»µ½p¯pÇÂ~~~pÁ¿·pÁÇÆp»¿¿·¶»³Æ·¾±p³¸ÆpÇÄp¾·ÅÅÁÀ~~~\n",
      "Length: 60\n",
      "OpenSourceTechniques-6\n",
      "b'\\xe2\\x00T\\xe3#\\x06X\\x12\\xecg}\\xbd\\\\\\xef\\xf1,>\\xfb\\x86\\xba\\x1cod\\xa2\\xd2\\xb8\\x90\\x1dj#.\\x8a\\xf0\"LS+\\x93w\\xd9;H[\\x95\\xb0Q\\x17\\x17\\x06z\\x86\\x87\\x94\\x95\\xce\\xa0ff\\x0e]\\xc3\\x18s\\x05\\xdck8ZP\\xfd$W \\xacl\\xee\\xf8(\\x97\\xdf\\xd7+\\x10\\x8acD\\x89\\x03\\x80\\xdf\\xaa\\xf7\\x15\\xa6\\xcbb\\xf0\\xa4Q\\x8bhi\\x1ds\\x04\\x89\\xd7z\\xae\\x83\\xaa?'\n",
      "Length: 112\n",
      "Embedding Efficiency: 4.285714285714286\n",
      "==============\n",
      "474It wont b until 2.15 as trying 2 sort house out, is that ok?\n",
      "customizedTechniques-2\n",
      "Kv yqpv d wpvkn 2.15 cu vtakpi 2 uqtv jqwug qwv, ku vjcv qm?\n",
      "Length: 60\n",
      "customizedTechniques-3\n",
      "i>>>>PLOS>>>P>>",
      ">J>>>]\n",
      "Length: 60\n",
      "customizedTechniques-5\n",
      "ÆpÉÁÀÆp´pÇÀÆ»¾p~",
      "p³ÅpÆÄ±»À¹ppÅÁÄÆpºÁÇÅ·pÁÇÆ|p»ÅpÆº³ÆpÁ½\n",
      "Length: 60\n",
      "OpenSourceTechniques-6\n",
      "b'KKpH8[\\x03\\xa0\\xc3\\r\\x151c\\xb4l\\xb3\\xc2\\xedxPc\\xaf\\xc3\\xa8\\xe7\\xdf\\x10\\x87\\xfaQ\\x12\\xe9{\\nz\\xcf\\x8f2.,\\xe6\\x8fG\\x7f\\xcb\\x9e\\x95\\xa9\\xd9R\\x8d\\x97\\x17e\\xa52\\xef*sB\\xb0\\xf0\\xf4\\x7f\\xd4pT\\xf4\\xa1W\\x9d\\xe76o\\xc6\\x96\\xd5\\x8b\\x01\\xc4\\x10\\xe5\\x9f\\x8c\\x017L\\x1c\\x8e\\xffR\\xb1{$\\xc4J#\\xf3\\xe1a\\xab\\r\\xcc\\xec\\x1f\\xe3\\xf5\\xa2\\xf6}\\xac\\x0c'\n",
      "Length: 112\n",
      "Embedding Efficiency: 4.285714285714286\n",
      "==============\n",
      "475Nah I don't think he goes to usf, he lives around here though\n",
      "customizedTechniques-2\n",
      "Pcj K fqp'v vjkpm jg iqgu vq wuh, jg nkxgu ctqwpf jgtg vjqwij\n",
      "Length: 61\n",
      "customizedTechniques-3\n",
      "n>i>E>>",
      ">",
      ">>J>",
      ">",
      ">>",
      "",
      ">\n",
      "Length: 61\n",
      "customizedTechniques-5\n",
      " ³ºpp¶ÁÀwÆpÆº»À½pº·p¹Á·ÅpÆÁpÇÅ¸|pº·p¾»È·Åp³ÄÁÇÀ¶pº·Ä·pÆºÁÇ¹º\n",
      "Length: 61\n",
      "OpenSourceTechniques-6\n",
      "b'\\xe4||\\x90P\\xe2\\x1d(\\xf21a\\xa3\\x04\\xfcb\\x1e\\t6\\xd9\\xe3\\xa7A\\xee=#\\xd2*-\\t\\xf2\\x83\\xdbqf\\xa3G\\x9ab\\xac\\xd0\\x8b\\xae\\x93\\xa2\\xdfr\\x8b\\x18\\x19}\\x04a9Ux\\x11\\xe5M@\\xa5d\\x19S\\xf3\\xa52\\x8d\\r\\x99\\xda\\xe7\\x08l\\x87\\xaeP\\x80\\x97\\xdb\\xf4\\x1fF\\x8f\\xec\\xe2\\t\\xf9=r\\xa3\\x04\\xf1\\xba\\xeb5\\xd4\\x16C~\\xca\\xa6\\xbb\\x13\\xcd\\xab\\x9a{_\\x81U\\x02\\\\'\n",
      "Length: 112\n",
      "Embedding Efficiency: 4.357142857142857\n",
      "==============\n",
      "476Well, i'm gonna finish my bath now. Have a good...fine night.\n",
      "customizedTechniques-2\n",
      "Ygnn, k'o iqppc hkpkuj oa dcvj pqy. Jcxg c iqqf...hkpg pkijv.\n",
      "Length: 61\n",
      "customizedTechniques-3\n",
      "w",
      "J>E>>>>>L>h",
      ">>LLL",
      ">L\n",
      "Length: 61\n",
      "customizedTechniques-5\n",
      "©·¾¾|p»w¿p¹ÁÀÀ³p¸»À»Åºp¿±p´³ÆºpÀÁÉ~p³È·p³p¹ÁÁ¶~~~¸»À·pÀ»¹ºÆ~\n",
      "Length: 61\n",
      "OpenSourceTechniques-6\n",
      "b'\"8\\xde-\\xfcC\\xad\\x8c\\xc1)\\xf4\\xa37J.\\xd2t4\\x8d\\x91\\xdcU\\xccY\\xc2l\\x07>\\xa1gNv\\xf4\\xc0\\xd1\\xda\\xf1\\x18\\x1b&\\xdf\\xe9X\\xa3\\x96\\xc2\\x80A\\xd2\\xad<\\xb3\\xa8\\xdfkU`\\xe6\\xf7\\xdeb\\xc6\\x82\\xd87\\xdc\\x01\\x9d\\xd2E\\x9e:~+\\xf8\\x92\\xbb\\x026\\xf1\\xd8gdB;\\x08\\x94WC\\x916\\xbcF\\x00\\xa2\\xd5\\x86\\x189\\xe0:s\\xa3\\xf8\\x9c\\x86\\xefsiP*\\xa4'\n",
      "Length: 112\n",
      "Embedding Efficiency: 4.357142857142857\n",
      "==============\n",
      "477Yes baby! We can study all the positions of the kama sutra ;)\n",
      "customizedTechniques-2\n",
      "Agu dcda! Yg ecp uvwfa cnn vjg rqukvkqpu qh vjg mcoc uwvtc ;)\n",
      "Length: 61\n",
      "customizedTechniques-3\n",
      "_",
      ">?>w",
      ">>>>",
      ">>>",
      ">>>YG\n",
      "Length: 61\n",
      "customizedTechniques-5\n",
      "·Åp´³´±qp©·pµ³ÀpÅÆÇ¶±p³¾¾pÆº·pÂÁÅ»Æ»ÁÀÅpÁ¸pÆº·p½³¿³pÅÇÆÄ³py\n",
      "Length: 61\n",
      "OpenSourceTechniques-6\n",
      "b'\\xc0%q\\x10\\x0e\\x9a\\x0b\\xe2\\xcez\\x96g\\xb0XK\\xf21E\\x88\\xec^\\x16nM\\xdc\\xcd\\xa9)V\\xae0 \\xdc\\xb0<\\x05\\xb4Y\\xc3FMf\\xb98\\xf5\\xc8\\x81\\xae\\xa1,L\\xbc({\\x91#:\\x07\\x8f\\x07W\\x95\\xe5-\\x04\\x1ag\\xa4n\\xa6\\xf8\\xacf\\x00J\\xc9h3\"n\\x99(\\xb9\\xda\\xbb\\xa1I\\x9cn\\xda[W\\xdf\\xb6k\\xfbB\\xe6\\xfb\\x8c\\xec(\\xbd\\xd0&\\x83W\\x8a\\x88\\x07$c'\n",
      "Length: 112\n",
      "Embedding Efficiency: 4.357142857142857\n",
      "==============\n",
      "478Reckon need to be in town by eightish to walk from * carpark.\n",
      "customizedTechniques-2\n",
      "Tgemqp pggf vq dg kp vqyp da gkijvkuj vq ycnm htqo * ectrctm.\n",
      "Length: 61\n",
      "customizedTechniques-3\n",
      "r",
      ">",
      "",
      ">>",
      ">>>>",
      ">>>>H>L\n",
      "Length: 61\n",
      "customizedTechniques-5\n",
      "¤·µ½ÁÀpÀ··¶pÆÁp´·p»ÀpÆÁÉÀp´±p·»¹ºÆ»ÅºpÆÁpÉ³¾½p¸ÄÁ¿pzpµ³ÄÂ³Ä½~\n",
      "Length: 61\n",
      "OpenSourceTechniques-6\n",
      "b'\\xed\\xbe\\xfb1J%VW\\xce\\xa6\\x9a\\x19)\\xc2\\x00a$\\x9e\\x86\\xb3\\x1d@\\x11a\\x83\\x9f\\x88\\xd68\\xff\\xa2\\xca\\xc3&3\\x1d\\x86\\x16\\xc1l\\x91j\\xc3\\xa9tb\\x89\\x9b\\xa3D\\x97\\x90\\x94\\xace@\\xd2\\x99/0\\xdd\\xee#\\x10t\\x19Qk(\\xd3%:\\xf2\\x82%\\x19\\x92E\\xb3>d\\xf1\\xff\\xa3\\x9d\\xc2\\x8f%U\\xc3\\xd2\\xd0\\xa6a.\\x15\\x98\\x8d/z\\xa7\\xfd\\xf9\\xbf\\x80:\\xae%1\\x92\\x94%'\n",
      "Length: 112\n",
      "Embedding Efficiency: 4.357142857142857\n",
      "==============\n",
      "479Yeah do! Don‰Û÷t stand to close tho- you‰Û÷ll catch something!\n",
      "customizedTechniques-2\n",
      "Agcj fq! Fqp‰A÷v uvcpf vq enqug vjq- aqw‰A÷nn ecvej uqogvjkpi!\n",
      "Length: 62\n",
      "customizedTechniques-3\n",
      "_",
      ">?>d⁎_ĕ>>>",
      ">K>⁎_ĕ>>",
      "?\n",
      "Length: 62\n",
      "customizedTechniques-5\n",
      "·³ºp¶ÁqpÁÀ₀ŇÆpÅÆ³À¶pÆÁpµ¾ÁÅ·pÆºÁ}p±ÁÇ₀Ň¾¾pµ³ÆµºpÅÁ¿·Æº»À¹q\n",
      "Length: 62\n",
      "OpenSourceTechniques-6\n",
      "b'\\x16\\xbc\\xb7\\xd1\\xdfk\\xa5>a\\x90\\xa6\\xfa\\x04\\xe2\\x0e\\xae\\xd8\\xa2\\xfd\\xc1a\\x98\\xa3\\xf76\\xf7\\xfa~\\xe3qa\\xa9\\xab\\xd1\\xde\\xca;\\xd7\\x1e\\x05\\x14\\xe0\\xbeS\\x96]\\xde\\x1d\\xff\\xbc\\x8a\\xfd\\xa1T\\xa5\\x9a\\xd5\\xf3V\\xfb\\xf4\\xf2\\xe5\\x081)T\\xe55\\x99\\x087\\xb6\\xfcF\\xac<(\\xb8\\xe7\\x15\\xde\\x86<\\xd0@A\\xff\\xc8\\xb5\\xb1\\x0e\\xf9-eT\\x93\\xba\\xe9\\xc7\\xfe\\x12\\xcfF\\x90V\\xe8\\x89\\xf0Y\\xa2\\xc2\\xfd\\xe2\\xca8\\xd2\\x13VPs\\xac\\xa8\\xaf\\x8c^\\x124'\n",
      "Length: 128\n",
      "Embedding Efficiency: 3.96875\n",
      "==============\n",
      "480Hey... Why dont we just go watch x men and have lunch... Haha \n",
      "customizedTechniques-2\n",
      "Jga... Yja fqpv yg lwuv iq ycvej z ogp cpf jcxg nwpej... Jcjc \n",
      "Length: 62\n",
      "customizedTechniques-3\n",
      "h",
      "LLL>w>>",
      ">>>>>",
      ">>",
      ">LLL>h>\n",
      "Length: 62\n",
      "customizedTechniques-5\n",
      "·±~~~p©º±p¶ÁÀÆpÉ·p¼ÇÅÆp¹ÁpÉ³ÆµºpÊp¿·Àp³À¶pº³È·p¾ÇÀµº~~~p³º³p\n",
      "Length: 62\n",
      "OpenSourceTechniques-6\n",
      "b'\"\\x82+\\x95\\xdc\\x18\\xb1\\xa4\\x97\\xcfR@L&\\xb4M\\xde:\\xd5BT\\xb08%\\xab_\\xc3>\\x80\\xb1\\xbbA.\\xe5\\xea\\n\\x1b/\\x00\\x17\\x01A\\xef0X\\t\\xe3F\\xde\\x10#\\x06_\\xf1\\x18\\xc8M\\xb1S\\x074\\x95\\xa1 \\xe9u\\xe9\\xc2)r\\x89\\xf5p\\x16 \\' \\xcaq0#\\xa5\\xc5\\xf0\\xc3\\xeeN\\xd7\\x9c#\\xb8E\\x85\\xaa\\xb4C\\x05k\\x07nq\\xfc\\xabS\\xf0H#\\x9ek/\\r\\xf4'\n",
      "Length: 112\n",
      "Embedding Efficiency: 4.428571428571429\n",
      "==============\n",
      "481Where did u go? My phone is gonna die you have to stay in here\n",
      "customizedTechniques-2\n",
      "Yjgtg fkf w iq? Oa rjqpg ku iqppc fkg aqw jcxg vq uvca kp jgtg\n",
      "Length: 62\n",
      "customizedTechniques-3\n",
      "w",
      "",
      ">>>]>m>",
      ">>>",
      ">>",
      ">>>>",
      "",
      "\n",
      "Length: 62\n",
      "customizedTechniques-5\n",
      "©º·Ä·p¶»¶pÇp¹Áp±pÂºÁÀ·p»Åp¹ÁÀÀ³p¶»·p±ÁÇpº³È·pÆÁpÅÆ³±p»Àpº·Ä·\n",
      "Length: 62\n",
      "OpenSourceTechniques-6\n",
      "b'\\xb6W\\x82\\xfd\\x8cK\\x83\\xd3\\x9e\\x00\\xfaC\\xe1e\\xfb\\xcc\\xda\\xee\\xf7\\xc5,\\x97!6s\\xf5\\xb96\\xdf\\xba,\\x86\\xf9g\\xb8\\x85\\x7f\\xe8Ffr\\x037\\x07\\xa3s\"%k\\x06\\xd0:\\x82(.\\x9d\\xb1\\xb1\\\\\\x8dO\\xb1\\x1egx5nY\\x0c$j\\x9f\\x8eC\\xc0\\x84\\x0c\\xc1\\xd5\\xff*\\xd88\\xf9\\xde\\xaa\\x02\\x92\\xc0\\xc9\\xf44.\\xb4b\\xb2\\x86\\xd8}\\x18Y\\xfd^\\xdbv\\x01\\xa6\\x0e!\\xe2\\x85\\x00'\n",
      "Length: 112\n",
      "Embedding Efficiency: 4.428571428571429\n",
      "==============\n",
      "482Maybe westshore or hyde park village, the place near my house?\n",
      "customizedTechniques-2\n",
      "Ocadg yguvujqtg qt jafg rctm xknncig, vjg rnceg pgct oa jqwug?\n",
      "Length: 62\n",
      "customizedTechniques-3\n",
      "m",
      ">",
      "",
      ">>",
      ">>",
      "J>",
      ">",
      ">",
      ">>",
      "]\n",
      "Length: 62\n",
      "customizedTechniques-5\n",
      "³±´·pÉ·ÅÆÅºÁÄ·pÁÄpº±¶·pÂ³Ä½pÈ»¾¾³¹·|pÆº·pÂ¾³µ·pÀ·³Äp¿±pºÁÇÅ·\n",
      "Length: 62\n",
      "OpenSourceTechniques-6\n",
      "b'w\\x8bme)\\xa4\\xa1\\xfes3\\xd1#\\xb7\\xca^S\\xfd|\\xfa\\x88\\xf3xQ\\x85\"\\xa2\\xcdYen=N\\x0e\\xf7^\\xbd\\x18\\x0c\\x9d\\xfe \\xc2IX\\x8dwn\\xd0\\x93^\\'\\x16\\x82\\x83\\xf8z\\xe0\\xa0\\x84I0\\xf8;\\x13\\xe5\"\\xcc7\\xab\\xe6\\x84\\xf4\\xf3\\x85x\\xc8\\t\\x95\\x8d\\xd4\\xc5\\x1e\\x1cdW\\x02\\xa9\\xa1uR\\xb2\\'\\x0ea2pvk2\\x8f\\xea\\xedRb\\xc9\\xd62\\x80^\\x1d\\xd3QQ\\x06\\xaeEE\\x13A\\xf8\\x82Yo\\xa2\\xc0<np'\n",
      "Length: 128\n",
      "Embedding Efficiency: 3.875\n",
      "==============\n",
      "483Oh that was a forwarded message. I thought you send that to me\n",
      "customizedTechniques-2\n",
      "Qj vjcv ycu c hqtyctfgf oguucig. K vjqwijv aqw ugpf vjcv vq og\n",
      "Length: 62\n",
      "customizedTechniques-3\n",
      "o>>>>",
      ">",
      "",
      "L>i>>>",
      ">>>",
      "\n",
      "Length: 62\n",
      "customizedTechniques-5\n",
      "¡ºpÆº³ÆpÉ³Åp³p¸ÁÄÉ³Ä¶·¶p¿·ÅÅ³¹·~ppÆºÁÇ¹ºÆp±ÁÇpÅ·À¶pÆº³ÆpÆÁp¿·\n",
      "Length: 62\n",
      "OpenSourceTechniques-6\n",
      "b'0\\xf21B\\xd4\\xb2\\xa7\\xbat\\x86)\\x80\\xf8\\xcf\\xe0\\x83\\x08\\xf9?\\x1f\\x8cJ\\\\\\x80\\xe9X\\xf9!_\\x83\\xfe\\xda\\x16\\xe6\\xdd\\x96e=\\xdc\\xd6\\x1f\\xef\\xb1o\\x88\\xa9\"\\x86\\x85\\x81\\xcb\\xa8U$\\xb9\\x1f\\x17\\xb0A\\xb3\\xa2\\x0bW\\xe4\\x93\\x1f\\x02D\\xfb1\\x83u.\\x98\\xc7y\\x1c\\xad3J\\xf5\\xdb\\x84\\xbc\\xf9\\x8e\\xb3\\x82\\xb1Elo\\xaf\\xd0\"\\x7f.\\xff|)\\xa1\\xe8\\xc20E,Z \\x9c\\xa0\\x9f\\x9a'\n",
      "Length: 112\n",
      "Embedding Efficiency: 4.428571428571429\n",
      "==============\n",
      "484Do well :)all will for little time. Thing of good times ahead:\n",
      "customizedTechniques-2\n",
      "Fq ygnn :)cnn yknn hqt nkvvng vkog. Vjkpi qh iqqf vkogu cjgcf:\n",
      "Length: 62\n",
      "customizedTechniques-3\n",
      "d>",
      ">XG>>>",
      ">",
      "L>t>>>",
      ">",
      "X\n",
      "Length: 62\n",
      "customizedTechniques-5\n",
      "ÁpÉ·¾¾py³¾¾pÉ»¾¾p¸ÁÄp¾»ÆÆ¾·pÆ»¿·~p¦º»À¹pÁ¸p¹ÁÁ¶pÆ»¿·Åp³º·³¶\n",
      "Length: 62\n",
      "OpenSourceTechniques-6\n",
      "b'\\xb1\\x06k\\x96\\xdc\\x00s\\xc7\\xbb\\x01\\n\\xc7\\xe1\\xdb\\x1c\\x99=b\\x9e\\xe4\\x15\\xfbG\\x16\\x9d\\xdeV\\n\\xdb\\xc6^\\x88\\x89\\x84\\x01\\xaf\\x14P[\\x9e?\\x87}\\xff\\x95\\x92\\xe1Q\\x99C\\x8e@\\xad2\\xe6\\x96 L\\xc7\\xe3\\x90\\xa1t&.\\xc6 \\x9e\\x18\\xe4\\x18\\xb9\\xc1q\\x13\\x9b\\xaf\\x1b^-c\\xadB\\xc5\\x90\\xb4\\xe8\\xd7\\xd4\\xfeP\\xf5pSy\\x11\\x0e\\xd8]\\xb5\"\\xdc\\xa3\\xc0\\xd30w\\x81\\xd1e\\x9f\\xa3'\n",
      "Length: 112\n",
      "Embedding Efficiency: 4.428571428571429\n",
      "==============\n",
      "485Nutter. Cutter. Ctter. Cttergg. Cttargg. Ctargg. Ctagg. ie you\n",
      "customizedTechniques-2\n",
      "Pwvvgt. Ewvvgt. Evvgt. Evvgtii. Evvctii. Evctii. Evcii. kg aqw\n",
      "Length: 62\n",
      "customizedTechniques-3\n",
      "n",
      "L>c",
      "L>c",
      "L>c",
      "L>cL>cL>cL>",
      ">\n",
      "Length: 62\n",
      "customizedTechniques-5\n",
      " ÇÆÆ·Ä~pÇÆÆ·Ä~pÆÆ·Ä~pÆÆ·Ä¹¹~pÆÆ³Ä¹¹~pÆ³Ä¹¹~pÆ³¹¹~p»·p±ÁÇ\n",
      "Length: 62\n",
      "OpenSourceTechniques-6\n",
      "b'<X\\xe7\\x93\\xf4\\x06DC\\xae1d\\xd72T\\x17\\xa1\\x88\\xa05\\xbaj\\xf4K\\xcf\\x9d\\xacb\\x16\\x80T\\x87\\x1a\\x94\\x0e\\xea\\xf6` \\x0f9\\xe6\\xac\\xf0\\x8c\\x9bId[m@;\"\\x18k\\xef*v\\xcc\\xa3\\xa6\\xda\\xe7\\xf4{\\x93\\xa8\\x9e\\xc8\\xe5`\\xf94\\xf1\\xcaI\\xb8\\x0b\\xcc!\\xed_\\xa5\\xa3\\xa5|\\x90A\\x87\\x07\\xa2\\x177N\\x1b\\x8c\\xe1\\x0bR\\x06Y\\xdc\\xa5\\x98\\x95\\x88w\\x8b\\xf5\\r6\\xc3\\x03'\n",
      "Length: 112\n",
      "Embedding Efficiency: 4.428571428571429\n",
      "==============\n",
      "486Ok lor but not too early. Me still having project meeting now.\n",
      "customizedTechniques-2\n",
      "Qm nqt dwv pqv vqq gctna. Og uvknn jcxkpi rtqlgev oggvkpi pqy.\n",
      "Length: 62\n",
      "customizedTechniques-3\n",
      "o>>>>>",
      "L>m",
      ">>>",
      ">",
      "",
      ">L\n",
      "Length: 62\n",
      "customizedTechniques-5\n",
      "¡½p¾ÁÄp´ÇÆpÀÁÆpÆÁÁp·³Ä¾±~p·pÅÆ»¾¾pº³È»À¹pÂÄÁ¼·µÆp¿··Æ»À¹pÀÁÉ~\n",
      "Length: 62\n",
      "OpenSourceTechniques-6\n",
      "b'\\xe1s2\\xb5u\\x855\\x179\\xd8Om3\\xc5\\xed\\xcc\\xbf^\\x17te\\xe4\\xf4t!\\x17\\xf8\\xb3t\\xd0t\\x8f\\x9e\\xb6\\x12tP?E{\\xf8\\xd3\\xee\\xffz\\xaf\\x9b&\\x07\\xb8\\x14\\x0c\\xe5\\xa1\\x82\\xec\\xb5\\xf6\\x1c\\x01\\xc4*r\\x0b\\xf9J\\xe7$0\\xe9\\xb0\\x1b\\xe4I\\xa6S:\\xe5d!\\xed\\x05\\x92\\xfdSh\\x8f\\xb8\\x18v\\xeb\\x1b\\xfb[\\xa1L\\xf7r\\x9c\\x05t\\x83e\\xe7C\\xbeR\\xa6E\\xf0\\xca\\xed'\n",
      "Length: 112\n",
      "Embedding Efficiency: 4.428571428571429\n",
      "==============\n",
      "487If you're not in my car in an hour and a half I'm going apeshit\n",
      "customizedTechniques-2\n",
      "Kh aqw'tg pqv kp oa ect kp cp jqwt cpf c jcnh K'o iqkpi crgujkv\n",
      "Length: 63\n",
      "customizedTechniques-3\n",
      "i>E",
      ">>>>>>>>>>>iE>>",
      "\n",
      "Length: 63\n",
      "customizedTechniques-5\n",
      "¸p±ÁÇwÄ·pÀÁÆp»Àp¿±pµ³Äp»Àp³ÀpºÁÇÄp³À¶p³pº³¾¸pw¿p¹Á»À¹p³Â·Åº»Æ\n",
      "Length: 63\n",
      "OpenSourceTechniques-6\n"
     ]
    },
    {
     "name": "stdout",
     "output_type": "stream",
     "text": [
      "b'$n\\xe4M\\x14Q\\xbe\\xd6\\xec\\xb5:-\\xaa\\xb4\\xdc\\xb1\\x81\\x07\\xb3G\\x1cx\\x1a\\xb4\\x92\\xb32\\xb37,\\xcb\\xaf7\\xfb\\xd6\\x82\\xe7Z\\xdc\\x988\\x1a8\\x8c\\x91\\xe6\\xb5i\\x11.deG\\xfd*6\\x81R\\xdd\\xa9\\\\5\\xeb\\xa75m\\xf6Z^\\xfef4\\xc3Bm.^!\\xad?\\x9cg\\x11D3\\x9b\\xda\\xbah[><\\xc2,d\\x88\\x17n\\xeb\\xc4\\xdaDDKV\\x9f\\r\\xe4P\\xac\\xd1\\xd4'\n",
      "Length: 112\n",
      "Embedding Efficiency: 4.5\n",
      "==============\n",
      "488Probably gonna be here for a while, see you later tonight &lt;)\n",
      "customizedTechniques-2\n",
      "Rtqdcdna iqppc dg jgtg hqt c yjkng, ugg aqw ncvgt vqpkijv &nv;)\n",
      "Length: 63\n",
      "customizedTechniques-3\n",
      "p>>",
      ">",
      "",
      ">>>",
      "J>",
      "",
      ">>",
      ">>DYG\n",
      "Length: 63\n",
      "customizedTechniques-5\n",
      "¢ÄÁ´³´¾±p¹ÁÀÀ³p´·pº·Ä·p¸ÁÄp³pÉº»¾·|pÅ··p±ÁÇp¾³Æ·ÄpÆÁÀ»¹ºÆpv¾Æy\n",
      "Length: 63\n",
      "OpenSourceTechniques-6\n",
      "b'\\xed\\n\\xc0\\x9e\\xaaCRO\\'\\xb7 yaNH\\x7f\\xec\\xa6\\xe0m\\xc9x\\xa9^\\xd6\\xfe\\xb3\\xef\\x10B\\xea\\x80\\xc3>\\xc2\\x06\\r\\xe0\\xf0\\x80\\xf1\\xc0\\xeb\\xa1\\xbfV\\xbfa\"`.\\x93\\x13\\xdfGx\\xcb\\xdc\\x93f\\xa2\\xb8\\x02\\nF\\xc5\\xda\\xb55m]@\\xb4\\x8eW\\xcc\\xb71q\\x0f,\\xca\\xd76\\x14\\x9d\\x1b:fHH?t\\xd4\\xc6\\xc7\\x81\\xd3\\xae\\xda\\xfd\\xe7\\xa7\\x06#\\x96\\xb8\\xd9\\xfb\\x05\\xee\\x99g`\\x9a\\x11tp\\x052\\x17\\xdc\\xb3MHe?\\xb7'\n",
      "Length: 128\n",
      "Embedding Efficiency: 3.9375\n",
      "==============\n",
      "489my ex-wife was not able to have kids. Do you want kids one day?\n",
      "customizedTechniques-2\n",
      "oa gz-ykhg ycu pqv cdng vq jcxg mkfu. Fq aqw ycpv mkfu qpg fca?\n",
      "Length: 63\n",
      "customizedTechniques-3\n",
      ">",
      "K",
      ">>>",
      ">>",
      ">L>d>>>>",
      ">]\n",
      "Length: 63\n",
      "customizedTechniques-5\n",
      "¿±p·Ê}É»¸·pÉ³ÅpÀÁÆp³´¾·pÆÁpº³È·p½»¶Å~pÁp±ÁÇpÉ³ÀÆp½»¶ÅpÁÀ·p¶³±\n",
      "Length: 63\n",
      "OpenSourceTechniques-6\n",
      "b'\\x13\\x99\\xa7\\x19?Y]\\xd2I\\x13\\xea\\x9e\\xd3\\x91\\xd5\\xd7\\x91&\\xfa\\x90i\\xdbH\\n\\xe5W\\x84\\x0e\\xf4\\xbf\\xff\\x93St\\xe7x\\xcd\\xa4\\xf3\\x1b\\x9c4>\\xaf\\x00\\xe4\\xd7\\xb1\\xf4\\xe9\\xd9\\xc3\\x10}\\xa0\\x99\\xa1(\\xe9\\xd7B\\xca\\xc6J\\x8dB\\x1c\\x9f\\x99\\xc9\\x9e\\xc4\\xfe9\\xad\\xdbWI\\xd7j3\\xfaI`\\xe0\\xd7M\\xf1g\\xad\\xe71b\\xb4\\x9fI\\xebS\\x06=]\\x90\\xf2\\xe9\\\\{\\xf2\\xca\\xc0\\x93\\x0e\\x9d'\n",
      "Length: 112\n",
      "Embedding Efficiency: 4.5\n",
      "==============\n",
      "490Exactly. Anyways how far. Is jide her to study or just visiting\n",
      "customizedTechniques-2\n",
      "Gzcevna. Cpaycau jqy hct. Ku lkfg jgt vq uvwfa qt lwuv xkukvkpi\n",
      "Length: 63\n",
      "customizedTechniques-3\n",
      "eL>a>>L>i>",
      ">",
      ">>>>>\n",
      "Length: 63\n",
      "customizedTechniques-5\n",
      "Ê³µÆ¾±~pÀ±É³±ÅpºÁÉp¸³Ä~pÅp¼»¶·pº·ÄpÆÁpÅÆÇ¶±pÁÄp¼ÇÅÆpÈ»Å»Æ»À¹\n",
      "Length: 63\n",
      "OpenSourceTechniques-6\n",
      "b\"\\xe3\\x87\\x12\\x8b\\xd6\\x027\\x94\\xd9\\xc5[y\\xa5`C\\x0e\\xc7;-\\xac\\x0f9U\\xb2\\xc2\\xe2\\x0b\\xf9-\\xfb\\xcc\\xa3]\\xb8E;\\xd99FR\\xeb'\\x13\\x1e'\\x1f6*\\x9e\\rf{Ckh\\x94\\x17\\x8cJ\\\\m\\xa6-\\x84\\x89+G\\x86\\xe2$\\xd95*\\xa6\\xf2\\x16\\xfc\\xdb\\xff\\x81\\x0eE\\xd8>\\x80wm\\xf1\\xf2946\\xd9\\x88>H\\xd5\\x8b\\xdf~\\xa5\\xba\\x15\\xed\\xbf8\\xd9\\xc1\\x02t\\xa1\\xd5\\x8f\\xa8Q&\\xa0@\\xd96\\x80\\xfdI\\xa6\\x82\\x9e\\xa5\\xf3\"\n",
      "Length: 128\n",
      "Embedding Efficiency: 3.9375\n",
      "==============\n",
      "491I am not sure about night menu. . . I know only about noon menu\n",
      "customizedTechniques-2\n",
      "K co pqv uwtg cdqwv pkijv ogpw. . . K mpqy qpna cdqwv pqqp ogpw\n",
      "Length: 63\n",
      "customizedTechniques-3\n",
      "i>>>",
      ">>>",
      "L>L>L>i>>>>>",
      "\n",
      "Length: 63\n",
      "customizedTechniques-5\n",
      "p³¿pÀÁÆpÅÇÄ·p³´ÁÇÆpÀ»¹ºÆp¿·ÀÇ~p~p~pp½ÀÁÉpÁÀ¾±p³´ÁÇÆpÀÁÁÀp¿·ÀÇ\n",
      "Length: 63\n",
      "OpenSourceTechniques-6\n",
      "b'`<\\xcd\\x15\\xd5\\xce\\x9c\\xc9\\xdb\\x88XE\\x83\\xd0h\\x03\\x02\\xff\\xdb\\xa9\\x1a\\xab\\xca\\xca\\x84\\r\\x12d\\xf2{\\xa76/\\x82\\xd3\\xe0CgW\\xb4iN\\xc2%\\xa4ll\\xa3/\\x01u\\x8cM2\\xb3\\xbd\\xee\\x869\\xdb\\xa1\\x03\\x03\\x9d\\x99\\xf2\\xeb\\xea\\x9c\\xcaP\\xf0\\xbb\\x18\\xd2\\x17^}\\xden9\\x0b%_\\x19\\xac\\xb2\\x90Y\\xa1$\\x06B\\xff\\x06B\\x82,\\xa19\\x16\\x98\\xca\\tT%5\\xbaf\\xbb\\x07j'\n",
      "Length: 112\n",
      "Embedding Efficiency: 4.5\n",
      "==============\n",
      "492Poyyarikatur,kolathupalayam,unjalur post,erode dis, &lt;#&gt; .\n",
      "customizedTechniques-2\n",
      "Rqaactkmcvwt,mqncvjwrcncaco,wplcnwt rquv,gtqfg fku, &nv;#&iv; .\n",
      "Length: 63\n",
      "customizedTechniques-3\n",
      "pJJ>J",
      "",
      ">J>DYADY>L\n",
      "Length: 63\n",
      "customizedTechniques-5\n",
      "¢Á±±³Ä»½³ÆÇÄ|½Á¾³ÆºÇÂ³¾³±³¿|ÇÀ¼³¾ÇÄpÂÁÅÆ|·ÄÁ¶·p¶»Å|pv¾Æsv¹Æp~\n",
      "Length: 63\n",
      "OpenSourceTechniques-6\n",
      "b'\\xf4\\x992L\\xdd\\x9b\\x0c\\x80Kf3C\\xb4\\x87u\\x85^Y\\xf1\\xaf\\xa2\\x03\\x7f\\x1d\\x15\\xad\\x04\\xcb*p%l\\xa9\\x9fR\\x17\\x8c8\\x1e\\x80\\xb0(\\x8eF{\\x8c\\xfcP\\x9d\\xd5w=\\xbe\\xa0\\xf6y\\xbc\\x94\\x01\\xe5\\xb0`m+ \\x89s\\xaf\\x18Tos\\xab\\xfe[B\\xe8\\xa8\\x93\\x15\\x06\\xb6G&]\\x7f\\xddz{xK1Lo\"eW;LD\\xec\\xa5\\x13\\xd1\\x8dl\\xc7^\\xbaM\\xd6Q\\xe7\\xe6%\\xe3\\x08\\xe7r\\xe8\\x19U\\xce9\\xddu\\xcb\\xf5'\n",
      "Length: 128\n",
      "Embedding Efficiency: 3.9375\n",
      "==============\n",
      "493Ahhh. Work. I vaguely remember that! What does it feel like? Lol\n",
      "customizedTechniques-2\n",
      "Cjjj. Yqtm. K xciwgna tgogodgt vjcv! Yjcv fqgu kv hggn nkmg? Nqn\n",
      "Length: 64\n",
      "customizedTechniques-3\n",
      "aL>wL>i>",
      ">",
      "",
      "",
      ">?>w>",
      ">>",
      "",
      ">",
      "]>l\n",
      "Length: 64\n",
      "customizedTechniques-5\n",
      "ººº~p©ÁÄ½~ppÈ³¹Ç·¾±pÄ·¿·¿´·ÄpÆº³Æqp©º³Æp¶Á·Åp»Æp¸··¾p¾»½·pÁ¾\n",
      "Length: 64\n",
      "OpenSourceTechniques-6\n",
      "b'\\r\\\\\\xe5G\\xea$}H\\xdbi\\x18\\xe8j\\xe2Gt\\xd4x\\x9e\\x91c\\xc7\\xc4\\x1c\\x9b@\\xfd\\xaf\\x1b\\xbd\\xbb\\xda%~\\xa1\\xea2\\x97G\\x88j \\xf3\\xa9\\xec\\xb4\\x1fn\\xec`\\x89\\xb4>\\xabl\\xbc\\xb0:\\xa8vu\\x81\\x85PA\\x01\\n(\\xabm\\x87\\xe0\\x82\\xbf\\xdc\\xff\\xfa\\xe3|\\x11\\xb0JC\\xb9(\\xb2}\\xdc\\t[\\xa6\\x14Dm\\xce!\\\\\\xbd \\x88%\\xd1\\xd3>\\xb9O\\xfe\\xb1\\xd7N\\xfc\\xed\\x1a\\xa5\\xb1\\xc3\\x9eI\\x03\\t\\xfc\\xa8\\xe7U\"\\x89L\\xe6'\n",
      "Length: 128\n",
      "Embedding Efficiency: 4.0\n",
      "==============\n",
      "494New car and house for my parents.:)i have only new job in hand:)\n",
      "customizedTechniques-2\n",
      "Pgy ect cpf jqwug hqt oa rctgpvu.:)k jcxg qpna pgy lqd kp jcpf:)\n",
      "Length: 64\n",
      "customizedTechniques-3\n",
      "n",
      ">>>",
      ">>>",
      "LXG>",
      ">>",
      ">>>XG\n",
      "Length: 64\n",
      "customizedTechniques-5\n",
      " ·Épµ³Äp³À¶pºÁÇÅ·p¸ÁÄp¿±pÂ³Ä·ÀÆÅ~y»pº³È·pÁÀ¾±pÀ·Ép¼Á´p»Àpº³À¶y\n",
      "Length: 64\n",
      "OpenSourceTechniques-6\n",
      "b'\\xed\\xf2\\xeaW\\xfe$&*\\x06s\\x0c\\x91\\xe1\\xf2\\x03\\xf0\\xe2\\xb6a\\xa1\\xb2\\x1d\\xa9O\\xdd\\xe8\\xde\\xc9\\xe53\\x90Wy\\n\\xd3\\xdb0\\x0c\\xe3\\xf5\\xf0\\x8c\\x85\\'\\x9d\\xa0\\xea\\xc7\\\\}b\\x80\\xe57\\x90*\\x07V\\x99\\xce\\x8b\\x15\\xa8~\\xa8@\\xe10\\x11\"[\\x88\\x13;\\xdcS;\\x9d\\x12\\xb1\\xb3$-J\\xd8~7\\x8a\\xf7uK\\x1a\\xcflO\\xdf\\xf6X,o\\xd2\\\\h\\x9c\\xc0\\x03\\xba\\xa1\\xd7\\x07A\\xf7\\xcb\\x82\\x1b\\xf2pq\\n\\xc5\\xa0\\xe5\\x16h\\xd5{Vm'\n",
      "Length: 128\n",
      "Embedding Efficiency: 4.0\n",
      "==============\n",
      "495is your hamster dead? Hey so tmr i meet you at 1pm orchard mrt? \n",
      "customizedTechniques-2\n",
      "ku aqwt jcouvgt fgcf? Jga uq vot k oggv aqw cv 1ro qtejctf otv? \n",
      "Length: 64\n",
      "customizedTechniques-3\n",
      ">>",
      ">",
      "]>h",
      ">>>>",
      "",
      ">>>O>>]>\n",
      "Length: 64\n",
      "customizedTechniques-5\n",
      "»Åp±ÁÇÄpº³¿ÅÆ·Äp¶·³¶p·±pÅÁpÆ¿Äp»p¿··Æp±ÁÇp³ÆpÂ¿pÁÄµº³Ä¶p¿ÄÆp\n",
      "Length: 64\n",
      "OpenSourceTechniques-6\n",
      "b'\\x17\\x86k\\x9bYE6\\x1cnY\\x8b4\\xec\\n\\xf5\\'{\"\\x9b\\x94->\\xba\\xcb\\xc5\\x85d.\\x04l\\x15\\xbb\\x8c\\x90\\x0e\\xff1)\\xbb=\\xa6\\xef\\xe4\\xa0\\xba\\x98c\\x1e\\x0c\\x0b\\xed0\\x9c\\xff\\xa4\\x02\\xbf\\x94\\x85\\x89\\xf3\\xcc\\xe6\\xb9\\tPs\\xb5\\xf3\\x98Zn\\xe5 \\x01\\x10$j|\\xe4\\xcb^\\xca\\x8a\"\\x0f\\xed\\xef\\xecm\\xf3\\xb1\\xe1\\x97\\x96\\xdc(\\xef\\xd7\\x10!\\xfb\\xc5\\xfe\\xad\\xf1\\x1e\\n1\\xa9\\xad\\xacX\\xb7\\xd3\\n\\xc1\\x1a\\xb5\\x91\\xa0\\xe8\\x98\\xd1\\xea\\x9diC'\n",
      "Length: 128\n",
      "Embedding Efficiency: 4.0\n",
      "==============\n",
      "496ÌÏ say until like dat i dun buy ericsson oso cannot oredi lar...\n",
      "customizedTechniques-2\n",
      "LO uca wpvkn nkmg fcv k fwp dwa gtkeuuqp quq ecppqv qtgfk nct...\n",
      "Length: 64\n",
      "customizedTechniques-3\n",
      "jm>>>",
      ">>>>>",
      ">>>",
      ">LLL\n",
      "Length: 64\n",
      "customizedTechniques-5\n",
      "pÅ³±pÇÀÆ»¾p¾»½·p¶³Æp»p¶ÇÀp´Ç±p·Ä»µÅÅÁÀpÁÅÁpµ³ÀÀÁÆpÁÄ·¶»p¾³Ä~~~\n",
      "Length: 64\n",
      "OpenSourceTechniques-6\n",
      "b'\\x0b\\x19\\x98\\xb1m\\x0e\\xdd\\xf1\\x93\\xa2m\\xee9\\x82\\x92T\\x89\\x19\\x15\\xe2\\x99\\x9f9\\xd8\\x8a\\x1c[\\xd3u)\\x15\\xdf\\xfa\\xf6\\x1e^\\xcd\\xb8\\xbd\\xfe\\x99\\xa9%\\x10\\xe9\\x12\\x01=\\x93\\x89\\xa8P\\xf0\\x1c\\xf1\\xc6}\\x96qs^\\xe9\\xc5\\xdc\\xaeW\\x8cQ\\x84\\xdb\\xa2\\x0f\\x8d5]\\xf0\\x9f\\x03\\xfd:\\xec\\xad\\xde<P\\xa8\\\\\\xc1G,Q\\x96\\x84\\xb4\\xf8\\xda\\x9cX+\\xa1\\x9b\\xa3;\\xee+:\\xa4\\xf5?l\\x18\\xdb\\xf2\\x95\\xe2Z\\xf4\\x1f\\xf1\\xd2QM\\x9f|\\x97#\\xdb\\x97'\n",
      "Length: 128\n",
      "Embedding Efficiency: 4.0\n",
      "==============\n",
      "497Let me know when you've got the money so carlos can make the call\n",
      "customizedTechniques-2\n",
      "Ngv og mpqy yjgp aqw'xg iqv vjg oqpga uq ectnqu ecp ocmg vjg ecnn\n",
      "Length: 65\n",
      "customizedTechniques-3\n",
      "l",
      ">",
      ">>",
      ">E",
      ">>",
      ">",
      ">>>>",
      ">",
      ">\n",
      "Length: 65\n",
      "customizedTechniques-5\n",
      "·Æp¿·p½ÀÁÉpÉº·Àp±ÁÇwÈ·p¹ÁÆpÆº·p¿ÁÀ·±pÅÁpµ³Ä¾ÁÅpµ³Àp¿³½·pÆº·pµ³¾¾\n",
      "Length: 65\n",
      "OpenSourceTechniques-6\n",
      "b'_\\xea\\xc3\\x92\\xad\\xcdn\\xf0\\x83Q\\xef\\xdd\\x03\\xb5\\xd8\\x86\\xefv\\x13\\x07\\xfcP\\x99f\\x00Pz\\x8a^\\xcc\\xc0\\x1d\\x9f\"\\xa5\\xbc|\\x8b7z\\xc6`\\xc8\\x9c\\xe4\\x9ez\\x19\\x92\\x0eE\\xc0rx\\xdf\\xa5\\x0f%Q\\xab\\x84\\x82?\\xcbl.\\xc3\\xd1\\xf6\\x1bh\\xfaL\\xc5Ym\\xe7\\x1a\\x0cB\\x81\\x9b\\xac.\\xad[\\xddkP\\xaa\\xde:\\xfa\\xc3c\\xe0\\x9a\\xf3\\xa6\\x8fJ[\\x19\\x98\\xc6\\x91i=\\xa2\\x80g\\xfa\\x9c\\xb8\\x93o\\x06\"-} \\x1cl\\xa7/\\xd8\\xc1\\x08'\n",
      "Length: 128\n",
      "Embedding Efficiency: 4.0625\n",
      "==============\n",
      "498ok. I am a gentleman and will treat you with dignity and respect.\n",
      "customizedTechniques-2\n",
      "qm. K co c igpvngocp cpf yknn vtgcv aqw ykvj fkipkva cpf tgurgev.\n",
      "Length: 65\n",
      "customizedTechniques-3\n",
      "L>i>>>",
      "",
      ">>>",
      ">>>>>",
      "",
      "L\n",
      "Length: 65\n",
      "customizedTechniques-5\n",
      "Á½~pp³¿p³p¹·ÀÆ¾·¿³Àp³À¶pÉ»¾¾pÆÄ·³Æp±ÁÇpÉ»Æºp¶»¹À»Æ±p³À¶pÄ·ÅÂ·µÆ~\n",
      "Length: 65\n",
      "OpenSourceTechniques-6\n",
      "b'\\xfbk\\x16]&d\\xc4\\xec\\xb4\\x984,\\x86\\xb1\\x82:iz3\\xbb\\x9c\\xa9l:v\"\\x84\\xd7\\x8c\\x1b\\xf2\\xc8\\x14\\x96\\xba\\xc4\\xc6a\\xd2V\\x8a\\xc5o\\x9e\\xb3\\xfe\\xb5\\xbd\\x04C\\xb4\\xacv\\xaa\\xc3\\xc9\\xacB\\xe4\\x99\\xf8\\xc6\\xafZ\\xa4\\xc4\\xf1\\x8e4\\x0f\"*u\\xca\\xe1\\xe6e\\x95\\x08\\xd2t\\xa2\\x17c_hcd\\xa7:\\xf8\\xe2\\xcb%\\x0f+\\xf1\\xb4z8\\xfd\\xe4\\x8b\\xd2\\xf8\\xa0F\\r\\x13_(\\xd3\\x94\\xf4FD\\xf8\\x15\\x98\\x88\\x17\\xeb\\x12\\x96\\xdc\\xcb6}'\n",
      "Length: 128\n",
      "Embedding Efficiency: 4.0625\n",
      "==============\n",
      "499Or ill be a little closer like at the bus stop on the same street\n",
      "customizedTechniques-2\n",
      "Qt knn dg c nkvvng enqugt nkmg cv vjg dwu uvqr qp vjg ucog uvtggv\n",
      "Length: 65\n",
      "customizedTechniques-3\n",
      "o>>",
      ">>",
      ">",
      ">",
      ">>",
      ">>>>",
      ">",
      ">",
      "",
      "\n",
      "Length: 65\n",
      "customizedTechniques-5\n",
      "¡Äp»¾¾p´·p³p¾»ÆÆ¾·pµ¾ÁÅ·Äp¾»½·p³ÆpÆº·p´ÇÅpÅÆÁÂpÁÀpÆº·pÅ³¿·pÅÆÄ··Æ\n",
      "Length: 65\n",
      "OpenSourceTechniques-6\n",
      "b'\\xfe^\\x9dF?\\x1c\"\\xb19\\x85\\x195uk\\xf6\\xed\\x17\\x08\\xc8\\xa1\\x81\\xfc\\xa0\\x9a\\xb3\\xca\\x8b\\x9b\\x9a\\x98\\x98\\xadB\\xb6\\xc4,\\xbd\\xb5\\xb6\\xe5R\\x80\\xe1m\\x93\\x0c\\x90\\x0f!\\x1f P\\x02\\xf3\\xaf*\\x13\\xc1/`\\xdfF\\'P\\xd0\\xb69\\xc6\\x8d\\x0f\\xcb\\xfbA\\xc1\\x17@\\xd2\\xfd\\xfeg\\xba\\xa5\\xcc\\xcf\"\\x16\\xa6\\xf1\\x131\\xcd\\x8db\\xf10\\x06\\xcc\\x8c\\xb1\\xd0\\xfba\\xefN\\xe6\\xd7W`\\x85\\xcf\\xc4\\x911\\xc5\\xb8\\x95\\xd50\\xdaey\\xef\\xab\\xb0\\x07l\\x81\\x1c'\n",
      "Length: 128\n",
      "Embedding Efficiency: 4.0625\n",
      "==============\n",
      "500I called and said all to him:)then he have to choose this future.\n",
      "customizedTechniques-2\n",
      "K ecnngf cpf uckf cnn vq jko:)vjgp jg jcxg vq ejqqug vjku hwvwtg.\n",
      "Length: 65\n",
      "customizedTechniques-3\n",
      "i>",
      ">>>>>XG",
      ">",
      ">",
      ">>",
      ">>",
      "L\n",
      "Length: 65\n",
      "customizedTechniques-5\n",
      "pµ³¾¾·¶p³À¶pÅ³»¶p³¾¾pÆÁpº»¿yÆº·Àpº·pº³È·pÆÁpµºÁÁÅ·pÆº»Åp¸ÇÆÇÄ·~\n",
      "Length: 65\n",
      "OpenSourceTechniques-6\n",
      "b'\\x08\\xf2\\xdcE\\xd8\\xde\\xeb\\x82Q?\\x14\\xdc\\xd9Z\\xce\\xb8\\xe5\\xdf\\xa6\\x87\\x9b\\x00\\xc6A\\x9e\\xfc\\x10*\\x8c\\x91~\\xbcWr\\xc3\\x06\\x17\\x9c\\x89ZJI3y\\x8d\\x16\\x06\\x89\\xbe`\\xee\\xdep\\xb3\\xe3Y\\xff\\x1d\\xc5U S\\xd9\\x11\\xde\\x07\\xeb\\x07\\xf6\\xb8\\x9f1\\xeft\\xc0\\x98\\xb7W\\xeek.x\\x9cz\\xdfj\\xb4\\x0c\\x94}\\xe2\\x0c\\xe7\\xe7z\\xaa\\xdc\\x11\\xaa\\xbf\\xba\\xa0\\x9b8\\xe3o\\tu\\xfb\\x98\\xd2)\\xea\\x18[\\x08k\\xee\\xe2~{\\xc5\\xa2\\xd9\\x0fXGo'\n",
      "Length: 128\n",
      "Embedding Efficiency: 4.0625\n",
      "==============\n",
      "501Wait, do you know if wesleys in town? I bet she does hella drugs!\n",
      "customizedTechniques-2\n",
      "Yckv, fq aqw mpqy kh ygungau kp vqyp? K dgv ujg fqgu jgnnc ftwiu!\n",
      "Length: 65\n",
      "customizedTechniques-3\n",
      "wJ>>>>>",
      "",
      ">>]>i>",
      ">",
      ">",
      ">",
      ">?\n",
      "Length: 65\n",
      "customizedTechniques-5\n",
      "©³»Æ|p¶Áp±ÁÇp½ÀÁÉp»¸pÉ·Å¾·±Åp»ÀpÆÁÉÀpp´·ÆpÅº·p¶Á·Åpº·¾¾³p¶ÄÇ¹Åq\n",
      "Length: 65\n",
      "OpenSourceTechniques-6\n",
      "b'\\x7f\\xce\\ryO\\xc5YN\\x97$\\x04\\xcd\\xd3\\x88q\\x03lE#=\\xadO \\x03Z\\x84\\x18\\xbf\\x06i\\xda\\xaf;x\\xef<+\\x03\\xf7^\\xd8\\x12n\\xb4S\\xe8d\\x13\\x1c\\x18\\xd8\\x08\\xb0\\xca\\xf9\\x934\\x93\\xaa\\xcb\\\\\\x8c\\xab\\x84C\\x00LZ\\x05\\x82\\xc0\\xd2\\xdb\\x88\\x8f\\x06x\\x07\\xd3\\x1e\\x8a\\x11H$3\\r\\xe2\\x92<rt\\x98\\x9f\\x03\\xce\\x7f\\x9e5\\xfb\\xda\\xd9\\x8bnT\\xbb,@X\\xe8\\x8f=U\\x18\\x80\\x98\\x1e_\\x1f\\x90\\x1bs\\xae\\x8f\\xea`\\x13Vs'\n",
      "Length: 128\n",
      "Embedding Efficiency: 4.0625\n",
      "==============\n",
      "502You have an important customer service announcement from PREMIER.\n",
      "customizedTechniques-2\n",
      "Aqw jcxg cp korqtvcpv ewuvqogt ugtxkeg cppqwpegogpv htqo RTGOKGT.\n",
      "Length: 65\n",
      "customizedTechniques-3\n",
      "_>",
      ">>>",
      ">",
      "",
      ">",
      "",
      ">>premierL\n",
      "Length: 65\n",
      "customizedTechniques-5\n",
      "ÁÇpº³È·p³Àp»¿ÂÁÄÆ³ÀÆpµÇÅÆÁ¿·ÄpÅ·ÄÈ»µ·p³ÀÀÁÇÀµ·¿·ÀÆp¸ÄÁ¿p¢¤¤~\n",
      "Length: 65\n",
      "OpenSourceTechniques-6\n",
      "b'\\x98\\x7f;|\\x14\\x14e\\xb8\\xafb\\x1f.T\\xa1V0\\xf5\\xdf\\xd7\\nRGx\\xdf\\x16\\xff\\xacjD8\\x8d\\x8c\\xf16\\xdc\\x83\\x17\\xc3\\xcez\\x87\\xe2E\\xd1\\xef\\x1f\\xe9G\\x8b^\\xc9\\xe7\\xe1\\x02\\x85:E\\n\\xb7\\xb2\\xa5FU\\x01\\x02k\\xbc\\xb951\\xb9\\xfb2\\xb1\\x85\\xf4_\\xa6\\xbb\\xea6\\xcc%\\x80nB\\xea\\xc1\\x92\\xa5\\x92\\xcac\\xd81*C[f\\xd5l\\xfb\\xdd\\x1a\\xee\\x9f\\r\\xad\\xce\\x92p\\x91\\x15z\\xb2Z\\x02\\xe5\\xb0\\xc9^\\xeb\\t\\xd4v\\xa9W\\x86'\n",
      "Length: 128\n",
      "Embedding Efficiency: 4.0625\n",
      "==============\n",
      "503Dont think so. It turns off like randomlly within 5min of opening\n",
      "customizedTechniques-2\n",
      "Fqpv vjkpm uq. Kv vwtpu qhh nkmg tcpfqonna ykvjkp 5okp qh qrgpkpi\n",
      "Length: 65\n",
      "customizedTechniques-3\n",
      "d>>L>i>>>",
      ">>>S>>",
      "\n",
      "Length: 65\n",
      "customizedTechniques-5\n",
      "ÁÀÆpÆº»À½pÅÁ~pÆpÆÇÄÀÅpÁ¸¸p¾»½·pÄ³À¶Á¿¾¾±pÉ»Æº»Àp",
      "¿»ÀpÁ¸pÁÂ·À»À¹\n",
      "Length: 65\n",
      "OpenSourceTechniques-6\n",
      "b\"\\xe4\\x8d\\xc9\\x97\\xc6xsjt\\x1e\\x9e@\\x91\\x84\\xf2Dx\\x1b#F\\xac\\x0c\\x9cRd\\x14e\\xb4\\xaa\\xde\\xf7\\xb7\\xb6D\\xeaI]\\x127\\xf0@\\xd4\\xd0\\x83\\xe7\\x9d\\xe6\\x87\\xaei:\\xad\\x8a\\n%\\x97)\\xd4\\xf9\\x9f\\xc9\\x9e\\xac\\x14`ny\\x99\\x9cy4\\xd8\\xe8\\xd2L\\xe8\\x06\\x97\\xfdNh\\xb0\\xf4\\x85t\\x00\\xe3\\xa3&\\xce\\xf1m'\\xac\\x92\\xce\\xdcz\\x93<\\xc3J\\x1f\\x87\\xe4\\xfe\\x16T\\x86\\xcf\\xcfV`8\\xae\\xd0j\\x9a\\x8b\\xdb\\xcb4\\xfb\\x89\\x7f\\x92\\x1e\\x17\"\n",
      "Length: 128\n",
      "Embedding Efficiency: 4.0625\n",
      "==============\n",
      "504Text her. If she doesnt reply let me know so i can have her log in\n",
      "customizedTechniques-2\n",
      "Vgzv jgt. Kh ujg fqgupv tgrna ngv og mpqy uq k ecp jcxg jgt nqi kp\n",
      "Length: 66\n",
      "customizedTechniques-3\n",
      "t",
      ">",
      "L>i>",
      ">",
      ">",
      ">",
      ">",
      ">>>>>",
      ">",
      ">>\n",
      "Length: 66\n",
      "customizedTechniques-5\n",
      "¦·ÊÆpº·Ä~p¸pÅº·p¶Á·ÅÀÆpÄ·Â¾±p¾·Æp¿·p½ÀÁÉpÅÁp»pµ³Àpº³È·pº·Äp¾Á¹p»À\n",
      "Length: 66\n",
      "OpenSourceTechniques-6\n",
      "b'\\x8cj\\xce\\x0b*\\x87\\x1a2~\\xde\\xef\\xbfN\\xb3sf\\x9c\\ne\\xd6\\x11G\\xe94\\xa8\\xcdb|`o\\x14[\\xb5\\xac>\\xd0\\x9e\\x8aOK\\xb8\\x1eJ\\xceq-\\x11\\x13Q\\xb4\\xb2\\x14\\xdb\"\\x9fO\\xc4\\xf8&\\xdf\\x12\\x88\\xb5V6\\xb8\\xbf\\xaa\\xc5]\\xe3\\xc9\\x87\\xdcS\\xea\\xeb\\x907\\xab\\xcf\\x89\"\\xa2.\\x15\\x8e\\x0c\\xdbt\\xcbx\\x9f\\x81\\xb0\\xb9\\xc5,\\x1b\\x89\\xba\\x04\\xfb\\x98\\x12aXL[\\xb1\\xb4\\x9c\\x99\\xe2\\x11A\\x96|\\xab~\\xe6\\xd9lW\\x89\\x17ef'\n",
      "Length: 128\n",
      "Embedding Efficiency: 4.125\n",
      "==============\n",
      "505Alright, I'll head out in a few minutes, text me where to meet you\n",
      "customizedTechniques-2\n",
      "Cntkijv, K'nn jgcf qwv kp c hgy okpwvgu, vgzv og yjgtg vq oggv aqw\n",
      "Length: 66\n",
      "customizedTechniques-3\n",
      "aJ>iE>",
      ">>>>",
      ">",
      "J>",
      ">",
      ">",
      "",
      ">>",
      "",
      ">\n",
      "Length: 66\n",
      "customizedTechniques-5\n",
      "¾Ä»¹ºÆ|pw¾¾pº·³¶pÁÇÆp»Àp³p¸·Ép¿»ÀÇÆ·Å|pÆ·ÊÆp¿·pÉº·Ä·pÆÁp¿··Æp±ÁÇ\n",
      "Length: 66\n",
      "OpenSourceTechniques-6\n",
      "b'\\xf6\"\\xa0\\x9c\\xd6{^MQR\\xdc\\xbf\\x9b1\\xa2)\\xcd`>\\x1fSW\\xc9t\\x91f1\\x91{\\xc2\\x89-\\x0b\\xc3n\\xa2\\x04\\xb7\\tMWM\\xd6)k\\x06\\xad_\\x9d\\x1bm\\x13\\x1d\\x08\\xe6\\xf2\\xc8\\xeb\\x1dr\\xfc\\x86Ct\\xdb\\x04\\xea\\'U\\xa1\\xfa\\x14\\xcd\\xc2Y\\x11\\x95\\\\\\x19\\'\\x0e\\xc8\\xdfZ\\x17\\xaf\\xac\\xf0\\xfb\\xf8:\\r.\\x1a]\\x06\\xa9\\xd1,@\\x86\\x0e\\x84`q\\x05\\xfc\\xe6\\x16\\xe9\\xe7\\x12\\x917\\xd2\\x1a\\x13\\xac\\xb8\\xea\\x85\\xa6@\\x1bHmp\\xf4'\n",
      "Length: 128\n",
      "Embedding Efficiency: 4.125\n",
      "==============\n",
      "506\\HEY HEY WERETHE MONKEESPEOPLE SAY WE MONKEYAROUND! HOWDY GORGEOUS\n",
      "customizedTechniques-2\n",
      "\\JGA JGA YGTGVJG OQPMGGURGQRNG UCA YG OQPMGACTQWPF! JQYFA IQTIGQWU\n",
      "Length: 66\n",
      "customizedTechniques-3\n",
      "zhe_>he_>werethe>monkeespeople>sa_>we>monke_around?>howd_>gorgeous\n",
      "Length: 66\n",
      "customizedTechniques-5\n",
      "¬pp©¤¦p¡ ¥¢¡¢p¥p©p¡ ¤¡§ qp¡©p¡¤¡§¥\n",
      "Length: 66\n",
      "OpenSourceTechniques-6\n",
      "b'\\xd2V=\\xbcBH\\xc4\\xff\\x89E\\x1e\\xcae(\\x80PF\\x80|\\xbd\\x0f\\xb1\\xbb\\xb8\\x8e]\\xffl\\x9fB\\xe2\\x9f{Li\\xd4\\x12\\n\\xde\\x9c\\xed/M;g1\\x8d\\xf4\\xa6\\xad\\xae\\xceD\\xf9\\xce$2\\xd8?\\x1aF\\xbbF\\xdb\\xcc~\\xc0du\\x91\\x90\\xc4gP\\x16\\xb8\\xc7Z\\xbf\\x8c\\xdb\\xf9D\\xe6\\x7f#\\xc0\\xea(H\\x11\\xd7\\x06\\x07\\x9e\\xf4\\x8d\\x13%\\xc3,\\x9b4\\n[@\\xf4\\xc3u\\xf7\\xa8\\xac\\x1a\\\\#\\x9e\\xc8^:\\xbcj\\xb9\\xa9\\xf9oc\\x8a\\xf9'\n",
      "Length: 128\n",
      "Embedding Efficiency: 4.125\n",
      "==============\n",
      "507O. Well uv causes mutations. Sunscreen is like essential thesedays\n",
      "customizedTechniques-2\n",
      "Q. Ygnn wx ecwugu owvcvkqpu. Uwpuetggp ku nkmg guugpvkcn vjgugfcau\n",
      "Length: 66\n",
      "customizedTechniques-3\n",
      "oL>w",
      ">>",
      ">L>s",
      "",
      ">>",
      ">",
      "",
      ">",
      "",
      "\n",
      "Length: 66\n",
      "customizedTechniques-5\n",
      "¡~p©·¾¾pÇÈpµ³ÇÅ·Åp¿ÇÆ³Æ»ÁÀÅ~p¥ÇÀÅµÄ··Àp»Åp¾»½·p·ÅÅ·ÀÆ»³¾pÆº·Å·¶³±Å\n",
      "Length: 66\n",
      "OpenSourceTechniques-6\n",
      "b'\\xa9\\xc4\\x0eB>yV\\xb6\\x17u\\xfcb\\x112(\\xa1\\t\\xee\\x82^\\x08S\\xbe\\xe3j\\xca\\xc0\\x985a\\xa5\\xab!\\t\\xabM\\x84\\x08\\x8b\\x8c\\x19\\xefSY\\xe0\\xf7l\\x02\\x86-M\\x06\\x1c\\xe0m\\xfaW\\xb2\\xc3\\xa3{/\\xd49:\\x12\\x9e\\xaf\\xec\\xcc\\xfa\\xbf!\\x9b\\xf4\\xda3\\xa8\\x9a\\x92X\\xd5\\x7fJ\\xc0\\xb5l\\xffH\\xfd(\\xd6\\xb5P\\xc6\\xc2\\x96u\\xd3<\\x15@\\x0bc\\x85\\xad:\\x8c\\xd5i\\x9e\\x9a\\xdb\\x99\\xd4\\xf6U\\x0ed\\xb6\\xdbg\\xbdb\\x05\\x0b\\xbe?'\n",
      "Length: 128\n",
      "Embedding Efficiency: 4.125\n",
      "==============\n",
      "508It's fine, imma get a drink or somethin. Want me to come find you?\n",
      "customizedTechniques-2\n",
      "Kv'u hkpg, kooc igv c ftkpm qt uqogvjkp. Ycpv og vq eqog hkpf aqw?\n",
      "Length: 66\n",
      "customizedTechniques-3\n",
      "iE>",
      "J>>",
      ">>>>",
      "L>w>",
      ">>",
      ">>]\n",
      "Length: 66\n",
      "customizedTechniques-5\n",
      "ÆwÅp¸»À·|p»¿¿³p¹·Æp³p¶Ä»À½pÁÄpÅÁ¿·Æº»À~p©³ÀÆp¿·pÆÁpµÁ¿·p¸»À¶p±ÁÇ\n",
      "Length: 66\n",
      "OpenSourceTechniques-6\n",
      "b'\\xef\\xff\\xf4K\\xd6\\x1e\\xa6\\rv\\xdb\\x99@\\xf9\\xc7\\xcf4?\\x96\\xca\\x99\\xa0\\xc8KEB\\xbd\\xb9\\xd6\\xd5\\x83\\x08P-\\x0b\\xccu\\xe1\\xa94\\xfaX7m\\xe8\\x91\\xfc\\xde&\\xeer\\xe6\\\\\\xe1M\\xcfD*\\xad\\n\\x07\\xde\\xb6\\x01\\x1b<\\xe8H\\xb76Fzc\\xf5o\\xa5\\xfc\\xae\\x84\\x0187\\xdf\\xf3\\x077\\x03\\xb8xH\\xea\\xd1\\xc0\\xb9\\xa8?\\x7f\\xb5\\x0b\\xcc\\x98\\xed\\xae\\x90\\r\\xa0\\xb7\\xaa{\\xe7*\\xcb\\xe9\\xb6W\\xaf{&\\xcd\\xf0\\xf0\\xdfnC`\\xc4\\x96\\xc7\\xfe'\n",
      "Length: 128\n",
      "Embedding Efficiency: 4.125\n",
      "==============\n",
      "509How many licks does it take to get to the center of a tootsie pop?\n",
      "customizedTechniques-2\n",
      "Jqy ocpa nkemu fqgu kv vcmg vq igv vq vjg egpvgt qh c vqqvukg rqr?\n",
      "Length: 66\n",
      "customizedTechniques-3\n",
      "h>>>",
      ">>",
      ">>",
      ">>",
      ">",
      "",
      ">>>",
      ">]\n",
      "Length: 66\n",
      "customizedTechniques-5\n",
      "ÁÉp¿³À±p¾»µ½Åp¶Á·Åp»ÆpÆ³½·pÆÁp¹·ÆpÆÁpÆº·pµ·ÀÆ·ÄpÁ¸p³pÆÁÁÆÅ»·pÂÁÂ\n",
      "Length: 66\n",
      "OpenSourceTechniques-6\n",
      "b'1/\\xf5;\\x81\\x19\\xfa\\xb2\\x84\\xe8%\\xf09z\\x92\\xe9\\xbeX\\xb4\\x9d\\xb4\\x03ia\\x9a\\xd3q\\xf04\\xce\\xe7J\\xe1\\xbe\\x14\\xf7m\\xab\\xb5X{\\xcf\\xbdig\\xb5\\xc24A\\xe2\\\\\\xf5_\\x0f\\x08<h\\x13\\x86\\x1ao?\\x92\\x01\\x14\\xbd\\xd2~\\xc6\\xd9\\x0c2\\xf9\\x9cl\\x90r\\x84\\x10\\x02JgI\\xbf\\x1f\\xcf\\xdf \\xaf\\x92\\x01\\xc1\\x92\\xa0\\xd9\"DD\\x9f\\x19c\\xf7\\xeb\\x97\\xbd\\x15\\x84\\xa1\\xec\\xbd\\x16\\x18\\x81s\\x07\\xc3\\xed;\\xf5\\x1bk2\\x06\\x86 \\xe6(\\xdb'\n",
      "Length: 128\n",
      "Embedding Efficiency: 4.125\n",
      "==============\n",
      "510Thats cool! Sometimes slow and gentle. Sonetimes rough and hard :)\n",
      "customizedTechniques-2\n",
      "Vjcvu eqqn! Uqogvkogu unqy cpf igpvng. Uqpgvkogu tqwij cpf jctf :)\n",
      "Length: 66\n",
      "customizedTechniques-3\n",
      "t>?>s",
      "",
      ">>>",
      "",
      "L>s",
      "",
      ">>>>XG\n",
      "Length: 66\n",
      "customizedTechniques-5\n",
      "¦º³ÆÅpµÁÁ¾qp¥Á¿·Æ»¿·ÅpÅ¾ÁÉp³À¶p¹·ÀÆ¾·~p¥ÁÀ·Æ»¿·ÅpÄÁÇ¹ºp³À¶pº³Ä¶py\n",
      "Length: 66\n",
      "OpenSourceTechniques-6\n",
      "b\"\\x97'\\x01\\x13\\xaf\\xa8<\\n\\xd8|X\\xa6}R\\x89U\\xf1T\\xb2\\xa8a!\\xcf\\xb2oE\\xe4\\xe7\\x8f\\x92\\x927\\x8f\\xf6\\xcd\\\\\\xad\\x8d\\xb3RT\\xf4\\x9d\\xff\\xdcn\\x98\\x01h3\\xc4\\xa0\\xcf\\x8f \\xbf\\xeaw]\\x00\\x90\\xe2\\xc46\\x86\\xfbK@\\xea\\x18\\xae\\x1cwD|\\n_\\x00O\\xc4\\xf3\\x90\\xafz\\x06\\xdd\\x9f\\xe9\\x0e\\xb2Q\\xe66\\xed\\nM\\xa1\\xcc\\x17po\\x19\\xa9\\x13\\xa4\\x04@\\xa0I\\x8e\\x13\\xdbv8\\x1c\\xeej\\x0cz|\\xe4\\nD\\x9b\\xb6\\xf4\\xa9\\x8a\"\n",
      "Length: 128\n",
      "Embedding Efficiency: 4.125\n",
      "==============\n",
      "511Good Morning my Dear........... Have a great &amp; successful day.\n",
      "customizedTechniques-2\n",
      "Iqqf Oqtpkpi oa Fgct........... Jcxg c itgcv &cor; uweeguuhwn fca.\n",
      "Length: 66\n",
      "customizedTechniques-3\n",
      "g>m>>d",
      "LLLLLLLLLLL>h",
      ">>",
      ">DY>",
      ">L\n",
      "Length: 66\n",
      "customizedTechniques-5\n",
      "ÁÁ¶pÁÄÀ»À¹p¿±p·³Ä~~~~~~~~~~~p³È·p³p¹Ä·³Æpv³¿ÂpÅÇµµ·ÅÅ¸Ç¾p¶³±~\n",
      "Length: 66\n",
      "OpenSourceTechniques-6\n",
      "b'\\xd7a\\x13\\xbb\\x07\\xb8\\xa4\\x1fN7\\xa3\\xec\\xc0\\x85\\x7f\\xd6\\xa5`\\xda\\x0b\\x1d\\xbe\\x9du\\x7f\\xda\\xa2\\xa0u\\x8d\\x7f\\xe8\\xa3\\x97=\\xda\\xd7;>\\x03\\xc1&\\xf9_\\xd1\\xfe\\x95\\xfaL\\xfc\\xf5k\\xe2\\xc6l0\\x05\\xf2\\x8b\\xa0\\xd3\\x02\\xba\\xb7\\xd9Vyg\\xe3\\x18\\x86\\xfa!Hgc\\xb4=\\x03v\\xb9n\\xf4\\x08R\\x96\\xd1\\xcf\\xc5\\xbca\\xd6\\xbc\\xd3_\\xc4k\\x83\\x7f\\xab\\x8c\\xca\\x0bZ\\x8d\\x1a\\xc1\\xb9\\x8b\\xfa\\xd1o'\n",
      "Length: 112\n",
      "Embedding Efficiency: 4.714285714285714\n",
      "==============\n",
      "512Yeah hopefully, if tyler can't do it I could maybe ask around a bit\n",
      "customizedTechniques-2\n",
      "Agcj jqrghwnna, kh vangt ecp'v fq kv K eqwnf ocadg cum ctqwpf c dkv\n",
      "Length: 67\n",
      "customizedTechniques-3\n",
      "_",
      ">",
      "J>>",
      ">E>>>i>>",
      ">>>>\n",
      "Length: 67\n",
      "customizedTechniques-5\n",
      "·³ºpºÁÂ·¸Ç¾¾±|p»¸pÆ±¾·Äpµ³ÀwÆp¶Áp»ÆppµÁÇ¾¶p¿³±´·p³Å½p³ÄÁÇÀ¶p³p´»Æ\n",
      "Length: 67\n",
      "OpenSourceTechniques-6\n",
      "b\"\\x7f\\xa8WsS\\xaeH\\xe1\\x0b\\x08\\x8d\\xa2\\xc0\\xc0\\xe5\\x08n\\xbc\\xc8\\xff\\xbb!\\x07SF\\xa9\\xcc\\xad\\xaf\\xa4j\\xdb\\xf4H <\\x9d\\xdf\\xff\\xfe\\x9bi.\\xaf\\xa4r\\xab\\xc5\\xe8\\x9f\\xbd\\xdf\\xae\\xa4\\xa4\\xe0b\\xaa\\x83r\\x06\\xc9\\xbf\\xe3\\xae\\xf0\\x05\\x9fv\\xa4\\xc8/\\xd9\\xe8\\xd8+\\x01Ns\\xfd#\\x85\\xa1 \\xa6Y\\xc4\\xd6\\xc7\\xe5\\xc3\\xbb\\xb3-\\x84\\xe3\\x83u\\x08)\\xde\\xb7\\x8eu\\xe5\\xd1\\x8e\\x94'\\x9b|\\xab\\x02\\x83..\\xc6\\xc1\\x0c\\x17\\xd9\\x99\\xf7\\xcbL\\xdb:\\xf8\"\n",
      "Length: 128\n",
      "Embedding Efficiency: 4.1875\n",
      "==============\n",
      "513Great escape. I fancy the bridge but needs her lager. See you tomo \n",
      "customizedTechniques-2\n",
      "Itgcv guecrg. K hcpea vjg dtkfig dwv pggfu jgt ncigt. Ugg aqw vqoq \n",
      "Length: 67\n",
      "customizedTechniques-3\n",
      "g",
      ">",
      "",
      "L>i>>",
      ">",
      ">>",
      "",
      ">",
      ">",
      "L>s",
      "",
      ">>>\n",
      "Length: 67\n",
      "customizedTechniques-5\n",
      "Ä·³Æp·Åµ³Â·~pp¸³Àµ±pÆº·p´Ä»¶¹·p´ÇÆpÀ··¶Åpº·Äp¾³¹·Ä~p¥··p±ÁÇpÆÁ¿Áp\n",
      "Length: 67\n",
      "OpenSourceTechniques-6\n",
      "b'\\xe2N\\x02w\\xf2\\x7f-\\x96F\\x1fXpQ\\\\\\x0c\\x96u\\x06<\\x95\\xbe\\x07\\x98\\x9e\\x90F\\xc3^\\x06\\x1a\\xd3Uk\\x1fP\\x8f\\xdf\\xc3\\x1c\\xcc\\x1f8c\\x0c\\x04\\xcd\\xc0\\x99\\xea\\xea\\xda@\\xa2\\xa6V\\xefP\\xdb(\\xc2=\\xf73U\\x0b\\x00\\x95\\x8b\\xa5\\xea7\\x14/\\x8d\\xda\\xc1\\x84\\xcd\\x8c\\x90bG}\\xd3O\\x99w\\xa2\\xab\\x9e\\x9d\\xeb\\x99\\r\\x114\\x95v\\\\\\xb7-L\\x02\\x1f!VP\\x9b\\x92\\xcd\\xf7\\x03\\xd6\\xb6&\\x82\\x86}\\xa3\\xc1o\\xbc\\xdf\\xbc\\x91J\\x05\\xac'\n",
      "Length: 128\n",
      "Embedding Efficiency: 4.1875\n",
      "==============\n",
      "514Unless it's a situation where YOU GO GURL would be more appropriate\n",
      "customizedTechniques-2\n",
      "Wpnguu kv'u c ukvwcvkqp yjgtg AQW IQ IWTN yqwnf dg oqtg crrtqrtkcvg\n",
      "Length: 67\n",
      "customizedTechniques-3\n",
      "u",
      ">E>>>",
      "",
      ">_ou>go>gurl>>",
      ">",
      ">",
      "\n",
      "Length: 67\n",
      "customizedTechniques-5\n",
      "§À¾·ÅÅp»ÆwÅp³pÅ»ÆÇ³Æ»ÁÀpÉº·Ä·p¡§p¡p§¤pÉÁÇ¾¶p´·p¿ÁÄ·p³ÂÂÄÁÂÄ»³Æ·\n",
      "Length: 67\n",
      "OpenSourceTechniques-6\n",
      "b'\\xac\\xf0)F\\x82\\xe6\\x84\\xd5\\x80\\xeb\"\\xc3m\"\\x87P;\\\\\\xaa!\\xb0\\xd6v\\x90\\x08\\xfc\\xd1\\xa0]\\xa8l\\xa5\\xc9YuR\\xb9\\xd7:J\\x98\\x93\\x1bR\\x89Vt\\xaa\\x0et\\xb5\\xf5\\x96\\xdf\\xb0UP\\xdb\\xa4I\\x88\\xe9R ,\\xee\\x0fZ\\x1d\\xdd\\xbd\\x85\\xf5\\xee\\xc7\\xb6\\x15E\\xb0N\\x7f\\xe4\\xbd\\xdb\\xa8F1\\x05\\xdf?\\x17jC$\\xc55\\xf4^\\x11\\xbd\\x16>e\\xb7q\\xf44yE\\xec\\xedB*r\\xa3\\xc79n\\xacZ\\xb0\\x8e\\xf7\\x8d\\x80[\\t\\xac'\n",
      "Length: 128\n",
      "Embedding Efficiency: 4.1875\n",
      "==============\n",
      "515Need a coffee run tomo?Can't believe it's that time of week already\n",
      "customizedTechniques-2\n",
      "Pggf c eqhhgg twp vqoq?Ecp'v dgnkgxg kv'u vjcv vkog qh yggm cntgcfa\n",
      "Length: 67\n",
      "customizedTechniques-3\n",
      "n",
      "",
      ">>",
      "",
      ">>]cE>",
      "",
      "",
      ">E>>",
      ">>",
      "",
      ">",
      "\n",
      "Length: 67\n",
      "customizedTechniques-5\n",
      " ··¶p³pµÁ¸¸··pÄÇÀpÆÁ¿Á³ÀwÆp´·¾»·È·p»ÆwÅpÆº³ÆpÆ»¿·pÁ¸pÉ··½p³¾Ä·³¶±\n",
      "Length: 67\n",
      "OpenSourceTechniques-6\n",
      "b\"LW\\xdeB\\x1c9N\\xfa\\xb7\\x9a\\xfaFN\\x80\\xb3,\\xcc\\xc5\\xef7Wc\\x07mR>\\xa7\\x15\\x91\\xa5\\xa5\\xf6\\xf4\\x05\\x8a\\xd5\\xfba\\x8e)\\x8c\\x1cjN\\xbb{\\x9c\\x94\\xc2{\\xbb]\\xc9\\x13Pf'\\x0b\\x0eB\\xb9Y\\x12\\x87\\xc86y\\x89sS\\xbf2\\xb7\\xf3\\xd2\\xd1B\\xd9P\\xad\\xa3\\x1b\\xb4\\x9e\\xa5xF\\x8d\\xd4\\x87\\xe0OE\\xdf\\xe6\\x07\\xee\\xc0\\xa8O/(\\x04\\x12P\\xc8\\x1e\\xa7\\xbb(\\x19\\xa8\\x8ekJC\\x8f\\x96/\\xd9&\\xfe/\\xc9\\x0b\\x17\\xd8=\"\n",
      "Length: 128\n",
      "Embedding Efficiency: 4.1875\n",
      "==============\n",
      "516Nope... Think i will go for it on monday... Sorry i replied so late\n",
      "customizedTechniques-2\n",
      "Pqrg... Vjkpm k yknn iq hqt kv qp oqpfca... Uqtta k tgrnkgf uq ncvg\n",
      "Length: 67\n",
      "customizedTechniques-3\n",
      "n",
      "LLL>t>>>>>>>LLL>s>>",
      "",
      ">>",
      "\n",
      "Length: 67\n",
      "customizedTechniques-5\n",
      " ÁÂ·~~~p¦º»À½p»pÉ»¾¾p¹Áp¸ÁÄp»ÆpÁÀp¿ÁÀ¶³±~~~p¥ÁÄÄ±p»pÄ·Â¾»·¶pÅÁp¾³Æ·\n",
      "Length: 67\n",
      "OpenSourceTechniques-6\n",
      "b\"\\xdaX\\xde{\\\\&\\x82\\x82\\x99\\xd0\\xd7\\x88\\x8fcW\\xb3\\xa41hM.\\x15a`\\x1f,\\xc6\\x99\\xa7\\xac\\x95\\\\\\xd3\\x0c\\x12\\xcf\\x82&\\xbd\\x16\\x9dr\\xb4\\xb7\\xc1\\x97\\xf0\\xf7Fh\\xc7\\xc3\\xf0w%\\x90\\xb6\\x9c\\xd8\\x1b\\x9a\\xcb7\\x10\\x16A\\x8fP\\xe534\\x8d\\xba\\xc5\\xde/\\x88\\xdb\\xacK4\\x96\\xda\\xc4m\\x8a\\xd0/\\xf1\\xce\\xd0&\\x95\\xd8\\x97V'\\x9e\\xd5f\\x1f\\\\\\xac\\x1cs;-:\\xc7\\xb7\\xa1\\x92\\xaa\\xa1\\xd6oV\\x83g\\x82:<_E\\x95\\x03s\\xea\"\n",
      "Length: 128\n",
      "Embedding Efficiency: 4.1875\n",
      "==============\n",
      "517Haha good to hear, I'm officially paid and on the market for an 8th\n",
      "customizedTechniques-2\n",
      "Jcjc iqqf vq jgct, K'o qhhkekcnna rckf cpf qp vjg octmgv hqt cp 8vj\n",
      "Length: 67\n",
      "customizedTechniques-3\n",
      "h>>>",
      "J>iE>>>>>",
      ">",
      ">>>V\n",
      "Length: 67\n",
      "customizedTechniques-5\n",
      "³º³p¹ÁÁ¶pÆÁpº·³Ä|pw¿pÁ¸¸»µ»³¾¾±pÂ³»¶p³À¶pÁÀpÆº·p¿³Ä½·Æp¸ÁÄp³ÀpÆº\n",
      "Length: 67\n",
      "OpenSourceTechniques-6\n",
      "b\"\\xf9\\xc6F\\x9a\\xc4\\xef\\xbf\\xf8\\x02Z|\\xd1\\x9d\\\\\\x92\\xa4\\xb3\\xbb\\x95\\xe1\\xd9\\x99\\x85v(>\\xd0\\xd2[\\xcd\\x9fx^\\x90du\\xe2{\\x91\\x04M\\xf2\\x92L\\xc3\\xa4\\x01\\xabC\\xea\\x807\\x1a\\xb9\\xd4\\xd8\\x1d\\x03\\x1b\\x1c\\x18\\xfbL\\x15\\xae\\xd6\\n1\\xb3\\xea\\x98\\xfb\\xbc&;\\xfd'w\\xfb\\x9e\\xa8Z3\\x16\\xd0p!\\xd8\\x97\\x86\\x17\\xfd\\x01\\x08#\\x17xv\\x0b')\\x11\\x9b\\x0f(0\\xf7]\\x84\\xa5I1\\xc3ZQt!\\xd6\\xe3\\xd5\\xfd6\\xee\\xde,$\\x1a\\xb1\"\n",
      "Length: 128\n",
      "Embedding Efficiency: 4.1875\n",
      "==============\n",
      "518I could ask carlos if we could get more if anybody else can chip in\n",
      "customizedTechniques-2\n",
      "K eqwnf cum ectnqu kh yg eqwnf igv oqtg kh cpadqfa gnug ecp ejkr kp\n",
      "Length: 67\n",
      "customizedTechniques-3\n",
      "i>>>>>",
      ">>",
      ">",
      ">>>",
      "",
      ">>>\n",
      "Length: 67\n",
      "customizedTechniques-5\n",
      "pµÁÇ¾¶p³Å½pµ³Ä¾ÁÅp»¸pÉ·pµÁÇ¾¶p¹·Æp¿ÁÄ·p»¸p³À±´Á¶±p·¾Å·pµ³Àpµº»Âp»À\n",
      "Length: 67\n",
      "OpenSourceTechniques-6\n",
      "b'\\xd2\\x9dn$\\xfa\\x18\\x04\\xd0\\x16\\xd7\\x88\\xc2\\xe7\\x94a\\n\\x8a\\x02D\\xd4\\xf2G\\xa6\\x13\\x0b\\x15\\x03\\x7f\\xcf\\xda\\x18a\\x11E?\\x99\\x03\\x14lNeB\\x14\\xf6&\\xea\\x0e\\x07\\x93\\x7f\\xd9) \\x00P\\x08Wc\\xbd\\xb6\\x82\\xd8\\xf7\\xe5v\\xa0\\x8bw\\xc8l\\xf5w\\x04gLD\\xb2:]\\x8f&\\x93\\x96<\\x19\\xa2\\x8d7\\x16OJ\\xe7\\xfd\\xf55\\xe0\\x13QH6x\\xc7\\r{h7d\\xdf\\xa0W~Jd\\xf3\\xc9\\x8e\\x89\\xd5\\xa8\\n\\\\\\xeb\\xa4\\x82\\x81*\\xab\\xff'\n",
      "Length: 128\n",
      "Embedding Efficiency: 4.1875\n",
      "==============\n",
      "519Y dun cut too short leh. U dun like ah? She failed. She's quite sad.\n",
      "customizedTechniques-2\n",
      "A fwp ewv vqq ujqtv ngj. W fwp nkmg cj? Ujg hckngf. Ujg'u swkvg ucf.\n",
      "Length: 68\n",
      "customizedTechniques-3\n",
      "_>>>>>",
      "L>u>>",
      ">]>s",
      ">",
      "L>s",
      "E>",
      ">L\n",
      "Length: 68\n",
      "customizedTechniques-5\n",
      "p¶ÇÀpµÇÆpÆÁÁpÅºÁÄÆp¾·º~p§p¶ÇÀp¾»½·p³ºp¥º·p¸³»¾·¶~p¥º·wÅpÃÇ»Æ·pÅ³¶~\n",
      "Length: 68\n",
      "OpenSourceTechniques-6\n",
      "b'\\xb1$\\x00@\\x1d\\x80\\xb6\\xfcSd\\xbc9\\xd4\\x06&\\xd3\\xbd\\xeb\\xcfeD\\x12\\x85\\xb8\\xcd@w\\x0c\\xd5\\xf2\\xc2\\x8b\\xe6\\x0f\\x07\\xc6z\\x0fv\\xda\\x03L\\x7fo!\\x91\\xf7bWA\\xf4\\xc6h\\x96\\xde]\\xc1R\\xcf\\xe8Ac\\xd1a\\xc9\\xca\\x82\\x17Z\\x0c5\\x005\\xb4h`lL8;a\\\\\\xd7B\\xba\\x92y\\r\\xd8\\xdco\\xd8\\x0fx\\x8f\\x85\\x0cA\\x01\\xd4O\\xbf@?\\x98\\xce\\xc3\\x17\\xbb\\xd4\\xc0f\\xb6i\\xfd\\x1e\\x83l[k]\\xa9\\xa3U\\xd8`\\xa9\\xa4'\n",
      "Length: 128\n",
      "Embedding Efficiency: 4.25\n",
      "==============\n",
      "520Would really appreciate if you call me. Just need someone to talk to.\n",
      "customizedTechniques-2\n",
      "Yqwnf tgcnna crrtgekcvg kh aqw ecnn og. Lwuv pggf uqogqpg vq vcnm vq.\n",
      "Length: 69\n",
      "customizedTechniques-3\n",
      "w>",
      ">",
      "",
      ">>>>",
      "L>j>",
      "",
      ">",
      "",
      ">>>L\n",
      "Length: 69\n",
      "customizedTechniques-5\n",
      "©ÁÇ¾¶pÄ·³¾¾±p³ÂÂÄ·µ»³Æ·p»¸p±ÁÇpµ³¾¾p¿·~pÇÅÆpÀ··¶pÅÁ¿·ÁÀ·pÆÁpÆ³¾½pÆÁ~\n",
      "Length: 69\n",
      "OpenSourceTechniques-6\n",
      "b'\\x10z\\x00\\xc59*\\xeb\\x17lI\\xe8\\x19\\xb7)QI\\xf7\\xfb6\\xa3\\x0cP^\\x93\\xd6=\\x91\\xc3jR\\x94\\x02\\x07C\\xb4\\xa1\\xd7J\\x03\\x94\\xee5\\x0c\\xb2\\xe7\\x80j\\x95\\x13\\xeb\\xb4k\\x99\\x8c\"\\xac\\xd4\\xc4]R\\xa2\\xf9;\\xd6\\xdf\\x06{\\x9c\\x88\\xa8\\xc0}\\x8b;\\xf2k\\xf7\\x18&\\xf6\\x80\\x93\\xde>\\xf7(*\\x1a[\\x11\\x86\\x02\\x8a\\xbcm*\\xea\\x9f\\x18\\x87F\\xdd<1Fd\\x06\\x15~s\\x90\\xc7/\\xd2R\\xc6\\x18\\xb3\\x88`\\xbf\\xa6\\xca\\xcf\\x81\\xa5\\xdc\\x0f'\n",
      "Length: 128\n",
      "Embedding Efficiency: 4.3125\n",
      "==============\n",
      "5217 at esplanade.. Do Ì_ mind giving me a lift cos i got no car today..\n",
      "customizedTechniques-2\n",
      "7 cv gurncpcfg.. Fq L_ okpf ikxkpi og c nkhv equ k iqv pq ect vqfca..\n",
      "Length: 69\n",
      "customizedTechniques-3\n",
      "U>>",
      "",
      "LL>d>j}>>>",
      ">>>>>>>>LL\n",
      "Length: 69\n",
      "customizedTechniques-5\n",
      "p³Æp·ÅÂ¾³À³¶·~~pÁp¯p¿»À¶p¹»È»À¹p¿·p³p¾»¸ÆpµÁÅp»p¹ÁÆpÀÁpµ³ÄpÆÁ¶³±~~\n",
      "Length: 69\n",
      "OpenSourceTechniques-6\n",
      "b'\\x02c\\x97\\xf1*x\\x02,\\xcd\\x14\\x7f\\x10\\x91\\xdd\\xae\\xb1_\\xfc?\\xf7\\x04$ov\\xb0\\xd2\\xdf(\\x19D\\xbdL\\xdf\\xc9\\xd0\\x19\\xa5\\x11\\xc5\\xb5\\xb2;\"\\xc4=\\x08w\\xf7\\x9ev\\x9dZ\\xda)\\xfbf=\\xc7\\xee;@aM\\xfbd\\xd9i\\xb1\\xeb\\xa9\\xa2(-\\x04\\xe1\\xda\\xaf\\x8b\\xa6\\xc3\\xf1\\xe9#\\xe3\\x9d\\xce\\x7f\\xb1\\xe1\\x01r\\x1cw[\\xda\\xd9\\xb6\\x0c\\x0cc\\xb8\\xfbVh\\xf3\\xdfJXX\\xb0ve\\x10\\x9eNU\\xc4\\xdf6=\\xbe\\xcex\\x86$\\xedp-'\n",
      "Length: 128\n",
      "Embedding Efficiency: 4.3125\n"
     ]
    },
    {
     "name": "stdout",
     "output_type": "stream",
     "text": [
      "==============\n",
      "522Oic... I saw him too but i tot he din c me... I found a group liao...\n",
      "customizedTechniques-2\n",
      "Qke... K ucy jko vqq dwv k vqv jg fkp e og... K hqwpf c itqwr nkcq...\n",
      "Length: 69\n",
      "customizedTechniques-3\n",
      "oLLL>i>>>>>>>",
      ">>>",
      "LLL>i>>>>LLL\n",
      "Length: 69\n",
      "customizedTechniques-5\n",
      "¡»µ~~~ppÅ³Épº»¿pÆÁÁp´ÇÆp»pÆÁÆpº·p¶»Àpµp¿·~~~pp¸ÁÇÀ¶p³p¹ÄÁÇÂp¾»³Á~~~\n",
      "Length: 69\n",
      "OpenSourceTechniques-6\n",
      "b'0\\xc7I/\\xd4oy\\x8c\\xfb\\x9e\\xd6T\\x07\"\\xa6\\x83\\xfa\\xe0\\xa2L>\\xc7\\xf7\\xaf\\x03\\xbd\\xe0\\xa7=\\x1f\\x90_\\xf2\\xf6\\xb7\\xeb\\x97\\xf0\\xb9\\x89\\xd5\\xfb\\xb2\\xdb`7\\xac\\xd8\\xbb\\xefen@Dg\\xca[\\xca<\\x80_\\xa7\\xaa2\\xd2?\\xa7\\x17\\\\\\xb3\\x12\\x94\\xc5\\xbfZ\\x97\\xbf\\x0c+\\x85dp\\x93\\xb7\\xbf`\\t\\x1e\\x1e4\\x1dt7>\\x1a\\xbe\\xf6x\\xd7\\x81F\\x9aK@)@+\\xafr\\xe8=\\'\\xc0\\x9f\\x8bK\"n\\xbe#y.\\x7f0\\xfa\\xda\\xca\\x02'\n",
      "Length: 128\n",
      "Embedding Efficiency: 4.3125\n",
      "==============\n",
      "523You have won ?1,000 cash or a ?2,000 prize! To claim, call09050000327\n",
      "customizedTechniques-2\n",
      "Aqw jcxg yqp ?1,000 ecuj qt c ?2,000 rtkbg! Vq encko, ecnn09050000327\n",
      "Length: 69\n",
      "customizedTechniques-3\n",
      "_>",
      ">>]OJNNN>>>>]PJNNN>",
      "?>t>J>NWNSNNNNQPU\n",
      "Length: 69\n",
      "customizedTechniques-5\n",
      "ÁÇpº³È·pÉÁÀp|pµ³ÅºpÁÄp³p|pÂÄ»²·qp¦Ápµ¾³»¿|pµ³¾¾",
      "\n",
      "Length: 69\n",
      "OpenSourceTechniques-6\n",
      "b'\\xfc\\x03e\\xdc\\xe6\\xacv\\x82\\x90\\x8bhc\\x00(57\\x963\\x0c\\xe9\\x8b\\xcc\\xcc,h\\x15\\xfac\\xa8v\\xbfB\\xd3\\x02C\\xb7\\xe5<\\xa7\\xaftQ\\xa9{\\xacX\\xa2\\x8f\\xe2\\x12\\xd8\\xb4\\x8a\\xb9\\x8c\\xb7\\xb5\\x9at\\xb5(\\x982\\xf0\\x95\\xa6\\x8f\\'U\\xacp\\xde\\xc4\\x8c\\xbd\\xcd;\\xe1\\x8c\"\\x80\\xd8\\x80z\\x1d\\x18\\xb6\\xe7\\xfci\\x0f\\x90\\xd99\\xaf\\xeci\\xb1\\xe3\\x0c\"\\x87\\x1b\\xcf\"\\x80\\x06\\xa3\\xfb\\x8e\\xe8\\xa7\\xb7(\\x19\\x8a\\x8a\\xae\\xe3\\xb8\\x1cP\\x933v\\xb4\\xfd\\xa4'\n",
      "Length: 128\n",
      "Embedding Efficiency: 4.3125\n",
      "==============\n",
      "524Tell them u have a headache and just want to use 1 hour of sick time.\n",
      "customizedTechniques-2\n",
      "Vgnn vjgo w jcxg c jgcfcejg cpf lwuv ycpv vq wug 1 jqwt qh ukem vkog.\n",
      "Length: 69\n",
      "customizedTechniques-3\n",
      "t",
      ">",
      ">>",
      ">>",
      "",
      ">>>>>",
      ">O>>>>",
      "L\n",
      "Length: 69\n",
      "customizedTechniques-5\n",
      "¦·¾¾pÆº·¿pÇpº³È·p³pº·³¶³µº·p³À¶p¼ÇÅÆpÉ³ÀÆpÆÁpÇÅ·ppºÁÇÄpÁ¸pÅ»µ½pÆ»¿·~\n",
      "Length: 69\n",
      "OpenSourceTechniques-6\n",
      "b'\\x02\\xbfH\\\\\\xe5+\\xbc{\\xf8\\n\\xedFQ\\xb9#\\xf0g\\xbe\\xc2\\xe7\\xc9\\xd5\\x06\\x18\\x9a(\\\\\\x8d*\\x94\\xcfdK\\xfa\\xd6l#\\xb2\\x19\\xe6\\xcb)\\xacC\\xd9\\x89\\xd9\\xd03\\xd3\\xa3\\x89:WR\\xb4\\x02\\xdd\\xab\\x1c\\x80B4g\\xd6j\\xa5\\xb3\\xdb&h\\xe5o\\x06\\xec\\xdd\\xb8Z\\xb8\\xcd9\\x98\\x95\\x8c{\\xdc\\xe2u#\\x9dx\\x99\\x85)\\x92V\\x13\\x0b\\x16\\xce\\x9f\\x83\\xbe\\xd1\\xe21M\\x1dP\\xd2\\xaa,\\xf6[U\\xb0\\xe8\\xde\\xf1\\x10\\x01\\xc1W\\x8d\\x7f\\x187\\x9b'\n",
      "Length: 128\n",
      "Embedding Efficiency: 4.3125\n",
      "==============\n",
      "525Piggy, r u awake? I bet u're still sleeping. I'm going 4 lunch now...\n",
      "customizedTechniques-2\n",
      "Rkiia, t w cycmg? K dgv w'tg uvknn unggrkpi. K'o iqkpi 4 nwpej pqy...\n",
      "Length: 69\n",
      "customizedTechniques-3\n",
      "pJ>>>",
      "]>i>",
      ">E",
      ">>",
      "",
      "L>iE>>R>>LLL\n",
      "Length: 69\n",
      "customizedTechniques-5\n",
      "¢»¹¹±|pÄpÇp³É³½·pp´·ÆpÇwÄ·pÅÆ»¾¾pÅ¾··Â»À¹~pw¿p¹Á»À¹pp¾ÇÀµºpÀÁÉ~~~\n",
      "Length: 69\n",
      "OpenSourceTechniques-6\n",
      "b'\\xc9n=\\xe4D\\xa7\\xc4\\xe2\\x0c!\\xb7\\x8bB\\x04Ma\\xa7\\x83\\x121\\xa7&\\x99\\xf0T\\xaa\\xdcp7\\x8b+;\\xa6q\\xda{\\x86\\x8e\\x044\\xb3\\x1e\\xd7\\x83\\x9a\\xdd\\xcc\\xc9\\xd6|O\\x1b\\xf8\\xf7\\x9b\\xc9-8\\xf8Y\\xf3\\x1e\\xdd\\x89\\xaf\\xd7\\x01\\x08\\xe7\\xfa\\xe3\\x7f\\xdd\\xb5\\xd1\\x01\\x81\\x80\\xe9\\x97\\xa6\\xb5\\xe1\\xb5\\x85s\\nb\\xbd\\xffNU\\x1d\\xe5\\x00\\xaex\\xc7k\\xd7\\x9e\\x9d\\xf9\\x12\\xa5F\\x9c\\x8e\\x86w\\xc5\\x83\\x170dI\\xf8tC\\xf9\\xedt+\\x88A7b\\xe0'\n",
      "Length: 128\n",
      "Embedding Efficiency: 4.3125\n",
      "==============\n",
      "526Well done, blimey, exercise, yeah, i kinda remember wot that is, hmm. \n",
      "customizedTechniques-2\n",
      "Ygnn fqpg, dnkoga, gzgtekug, agcj, k mkpfc tgogodgt yqv vjcv ku, joo. \n",
      "Length: 70\n",
      "customizedTechniques-3\n",
      "w",
      ">",
      "J>",
      "J>",
      "",
      "",
      "J>",
      "J>>>",
      "",
      "",
      ">>>J>L>\n",
      "Length: 70\n",
      "customizedTechniques-5\n",
      "©·¾¾p¶ÁÀ·|p´¾»¿·±|p·Ê·Äµ»Å·|p±·³º|p»p½»À¶³pÄ·¿·¿´·ÄpÉÁÆpÆº³Æp»Å|pº¿¿~p\n",
      "Length: 70\n",
      "OpenSourceTechniques-6\n",
      "b\"\\xcb\\xdeH\\xad\\x19x\\x86Av\\xd0\\x91WfJ\\xd6x(.>\\x14j\\xbdA\\xad.\\xe9d\\x1d\\xf3\\x1b\\x0e,\\xa6h,\\xda\\xadb\\xb5W\\xeb\\xfe\\xd6\\x99l^\\xdf\\xdbO`\\xcfZTV\\xa0`\\xea?\\xc6g\\xc1\\x82h.\\x81\\x02h\\x00\\x9f\\xd4I\\xa8g;\\xdd\\x97'\\x08\\x82\\x1b Tk\\xc4\\xa9i\\xb3n#k\\x1aOi\\x17\\xbf\\xca\\x98g\\xf6\\xf9\\xbe\\x8b\\xbbY\\xba\\x9f\\xfe\\x96E\\xe4\\x19\\xf6}\\x15\\x98\\xfe\\x833X+\\xb6\\xd5\\xd2\\x86\\xf4V\\xcbj\"\n",
      "Length: 128\n",
      "Embedding Efficiency: 4.375\n",
      "==============\n",
      "527Hi Princess! Thank you for the pics. You are very pretty. How are you?\n",
      "customizedTechniques-2\n",
      "Jk Rtkpeguu! Vjcpm aqw hqt vjg rkeu. Aqw ctg xgta rtgvva. Jqy ctg aqw?\n",
      "Length: 70\n",
      "customizedTechniques-3\n",
      "h>p",
      "?>t>>>",
      ">L>_>",
      ">",
      ">",
      "L>h>",
      ">]\n",
      "Length: 70\n",
      "customizedTechniques-5\n",
      "»p¢Ä»Àµ·ÅÅqp¦º³À½p±ÁÇp¸ÁÄpÆº·pÂ»µÅ~pÁÇp³Ä·pÈ·Ä±pÂÄ·ÆÆ±~pÁÉp³Ä·p±ÁÇ\n",
      "Length: 70\n",
      "OpenSourceTechniques-6\n",
      "b\"\\xa2\\xf1\\xeeS\\xaf]\\xf4CX\\x1a\\x84!>\\x86\\xe9\\x0bL\\xf0\\xe8\\xe5g\\xd4\\xf8\\x93g\\xc6m\\xd1\\\\\\xab\\xbexS'\\xd6=\\xf3\\x11\\x88W\\x1cl\\xc5\\xddDl\\xe1\\xd0\\xf0\\xd8\\x9e\\x16\\x00\\xfc\\xd3\\x11\\x865D@{-G\\x98\\xbf\\xac_\\x94CP.vN.\\xe7N|rL\\x19\\x99\\x9f\\xda\\xa3Zg\\x99\\xc3J\\xf4-\\xae\\xf0(\\x94\\xc2\\xf4Bd\\xddJ1\\x9cO\\x86\\xc9\\xdc\\xaeD\\xfd\\x0f\\xae\\x80\\xf8\\xf7\\x82\\xe7\\x9f\\x92\\rTx\\xfc\\xf2\\xb0\\xf7\\x87\\x1a\"\n",
      "Length: 128\n",
      "Embedding Efficiency: 4.375\n",
      "==============\n",
      "528Got it! It looks scrumptious... daddy wants to eat you all night long!\n",
      "customizedTechniques-2\n",
      "Iqv kv! Kv nqqmu uetworvkqwu... fcffa ycpvu vq gcv aqw cnn pkijv nqpi!\n",
      "Length: 70\n",
      "customizedTechniques-3\n",
      "g>?>i>>LLL>>>>",
      ">>>>?\n",
      "Length: 70\n",
      "customizedTechniques-5\n",
      "ÁÆp»ÆqpÆp¾ÁÁ½ÅpÅµÄÇ¿ÂÆ»ÁÇÅ~~~p¶³¶¶±pÉ³ÀÆÅpÆÁp·³Æp±ÁÇp³¾¾pÀ»¹ºÆp¾ÁÀ¹q\n",
      "Length: 70\n",
      "OpenSourceTechniques-6\n",
      "b'\\x825&\\xcf\\xf9^ b\\xed\\xca\\xe9\\x164\\xee\\x9e\\x99M{\\x7f}\\xe0E\\xef\\xeb\\xdd\\xdc*m\\x86\\xc1f\\x96O\\x1bn\\xdf\\xa0\\x9c\\x9e\\xb6\\xdd\"z8\\x01\\xeb\\x05\\xd9\\'w\\x80\\x81C-\\x03\\x93\\xaf\\xb2l\\xb7\\x95\\x83\\xb6_\\xc4\\xdb\\xd1\\x98\\xac\\xb3)J\\xb0\\x10b\\x9b\\xca0\\x7f\\xf6T\\xcb\\xbf)\\xd8Q\\xa7B!$\\x81\\xfc\\xc9\\x88\\xef\\x01\\x15o!\\xe5g]\\x05\"\\x9c}Hv\\xc5_\\xab:.\\xac*\\xf4\\xb7b\\xfex\\x1d\\x0f(\\x0c\\xf4\\xaa8\\xc6'\n",
      "Length: 128\n",
      "Embedding Efficiency: 4.375\n",
      "==============\n",
      "529Omg I want to scream. I weighed myself and I lost more weight! Woohoo!\n",
      "customizedTechniques-2\n",
      "Qoi K ycpv vq uetgco. K ygkijgf oaugnh cpf K nquv oqtg ygkijv! Yqqjqq!\n",
      "Length: 70\n",
      "customizedTechniques-3\n",
      "o>i>>>",
      "L>i>",
      "",
      ">",
      ">>i>>",
      ">",
      "?>w?\n",
      "Length: 70\n",
      "customizedTechniques-5\n",
      "¡¿¹ppÉ³ÀÆpÆÁpÅµÄ·³¿~ppÉ·»¹º·¶p¿±Å·¾¸p³À¶pp¾ÁÅÆp¿ÁÄ·pÉ·»¹ºÆqp©ÁÁºÁÁq\n",
      "Length: 70\n",
      "OpenSourceTechniques-6\n",
      "b'\\xbe\\\\\\x9a\\xa9\\x87\\xe8\\x8b\\x9c\\ta!\\xd8\\x10R\\x88=*n\\t\\xa4F\\xfd\\x1a\\xcd\"\\x18?\\x99\\xec\\xc7e?\\xa6+\\xbb\\xcd\\x0b\\x1c\\x98\\xc1\\xec\\xdbsf\\xe0bx\\x9f;\\x840\\xa5\\xb3\\x89\\xe5\\xf2\\x0e\\xc1&\\x84z\\xa5\\rx\\xc52\\x9c\\xa9|\\xfeV~\\xe4\\x87\\x92\\xe5\\xd7\\xe4\\xcf\\xeb?\\x13\\xf79X\\xb1\\x86\\xcd\\x7f\\xd9@\\xeaL\\xf6a\\xd8\\x12\\xe8[i!l\\xad\\xc5\\x10\\xb4W\\xecL\\xe3i\\xeaK\\x7f\\xd3c\\xa5\\x17`1\\x86\\x81`=\\x10a\\xcf|'\n",
      "Length: 128\n",
      "Embedding Efficiency: 4.375\n",
      "==============\n",
      "530Lol yes. Our friendship is hanging on a thread cause u won't buy stuff.\n",
      "customizedTechniques-2\n",
      "Nqn agu. Qwt htkgpfujkr ku jcpikpi qp c vjtgcf ecwug w yqp'v dwa uvwhh.\n",
      "Length: 71\n",
      "customizedTechniques-3\n",
      "l>",
      "L>o>",
      ">>>>>",
      ">",
      ">>E>>L\n",
      "Length: 71\n",
      "customizedTechniques-5\n",
      "Á¾p±·Å~p¡ÇÄp¸Ä»·À¶Åº»Âp»Åpº³À¹»À¹pÁÀp³pÆºÄ·³¶pµ³ÇÅ·pÇpÉÁÀwÆp´Ç±pÅÆÇ¸¸~\n",
      "Length: 71\n",
      "OpenSourceTechniques-6\n",
      "b\"{\\xd6\\xeaA\\xe5\\x0e\\x9b\\xaf\\xbf5\\xa2/\\xb5\\xdd\\x10Cl\\x93[\\xed\\x19\\x11\\xf6s\\x94\\x98\\xe9\\xc3v\\xcb\\xb5\\xa1\\xacX';`\\x8a\\x00Cf\\xa3e\\x97\\x17KX\\xe9\\x1cb_\\x95\\xee\\x1c%\\xc0\\xb8\\x843\\xf0\\x90\\xb3d\\xdc\\xd27%\\x1c\\xbf\\xe9\\n2Z\\x12\\xa9p\\xafJ'\\xdc\\xfb\\x1c\\x1d\\x15?P5\\xc0\\x0c1\\xeblHw\\x0f?G\\xc7,FA\\x847\\xd8\\xe7a\\x03\\xa3h\\xaf\\xfa\\xdc\\xa4i8\\xb8\\x80G\\xe1\\xe7>l\\x95\\xbc=\\x16\\xb2S\"\n",
      "Length: 128\n",
      "Embedding Efficiency: 4.4375\n",
      "==============\n",
      "531Great. Never been better. Each day gives even more reasons to thank God\n",
      "customizedTechniques-2\n",
      "Itgcv. Pgxgt dggp dgvvgt. Gcej fca ikxgu gxgp oqtg tgcuqpu vq vjcpm Iqf\n",
      "Length: 71\n",
      "customizedTechniques-3\n",
      "g",
      "L>n",
      "",
      ">",
      "",
      ">",
      "",
      "L>e>>",
      ">",
      "",
      ">",
      ">",
      ">>>g\n",
      "Length: 71\n",
      "customizedTechniques-5\n",
      "Ä·³Æ~p ·È·Äp´··Àp´·ÆÆ·Ä~p³µºp¶³±p¹»È·Åp·È·Àp¿ÁÄ·pÄ·³ÅÁÀÅpÆÁpÆº³À½pÁ¶\n",
      "Length: 71\n",
      "OpenSourceTechniques-6\n",
      "b'sH\\xe7\\xb0\\xc8\\xc0\\x8c\\x84\\xeckC\\x8f\\x0c\\x04\\xc6\\x1d\\xb6Dm.m\\x8f\\x98\\xd7\\xd3#\\x17G\\xe9\\xdb\\xd0\\xc2t\\xc5\\xfd\\xceg\\x13\\xc7\\x05\\xee\\x9a\\xd5\\xdf\\x08I\\xa7\\xd7\\x86\\xea\\xb6rS\\xd0\\x99\\x06\\x1bX\\xb1Z\\x9f\\xea\\x1d\\x96K[\\xd2u@Gp(\\x80\\xc2\\x17\\xed\\x12j4\\xfc\\xd4a\\xad\\x80\\xc8d\\x07\\x14\\xf0\\xc4\\x9c`w\\xbbw\\x8e\\x98\\x89I\\x1d\\x16C\\xack\\xf6/:pn\\x8a7\\xd3\\x8b\\xf5\\x1e7\\xae\\x18w\\x85`j\\xde4\\xb1\\xe7\\x10\\xee\\xba1\\xb4\\x12\\xc7b9\\xa9\\x84m\\x94@\\x0b\\xc7K\\xa3'\n",
      "Length: 144\n",
      "Embedding Efficiency: 3.9444444444444446\n",
      "==============\n",
      "532She was supposed to be but couldn't make it, she's still in town though\n",
      "customizedTechniques-2\n",
      "Ujg ycu uwrrqugf vq dg dwv eqwnfp'v ocmg kv, ujg'u uvknn kp vqyp vjqwij\n",
      "Length: 71\n",
      "customizedTechniques-3\n",
      "s",
      ">>",
      ">>",
      ">>E>",
      ">J>",
      "E>>>>\n",
      "Length: 71\n",
      "customizedTechniques-5\n",
      "¥º·pÉ³ÅpÅÇÂÂÁÅ·¶pÆÁp´·p´ÇÆpµÁÇ¾¶ÀwÆp¿³½·p»Æ|pÅº·wÅpÅÆ»¾¾p»ÀpÆÁÉÀpÆºÁÇ¹º\n",
      "Length: 71\n",
      "OpenSourceTechniques-6\n",
      "b'jS\\xc4\\xfd)\\x8c.T\\xf9\\xf2L\\xd9\\x84!\\x83\\xba:\\xd1\\x7f\\xb8\\xc3!\\xc0G\\\\\\xaf\\xe0\"\\xae\\xd6\\xa9i\\x844\\x19a3\\xa1\\xa3\\x8d\\xb0\\xe3\\x91\\xf4S\\xc14\\xfe\\xfe\\x97lb\\xec\\xf9\\x19\\xc7\\xf2\\xb4\\xe5\\xc4%\\xe3\\x8b\\x86\\xf3\\xa2\\xa0\\xf2\\xa7\\xc4\\xf5\\x98\\x0cM\\x91\\xe9\\x10\\xbeK\\r@\\xe9\\x1bz\\x1d\\x81\\xf7,\\x9a\\x00\\x82\\xb1=\\x1c\\x11i\\xa4\\xa4\\xf3\\xedw\\xc3\\x1d\\xfay\\x03\\x95\\xe3h\\xf6p\\xde\\x88,\\x99\\xc5\\xbc\\xf5\\x10FrQ\\xcd\\xd2\\x83\\xf8\\x8d\\xe1'\n",
      "Length: 128\n",
      "Embedding Efficiency: 4.4375\n",
      "==============\n",
      "533Appt is at &lt;TIME&gt; am. Not my fault u don't listen. I told u twice\n",
      "customizedTechniques-2\n",
      "Crrv ku cv &nv;VKOG&iv; co. Pqv oa hcwnv w fqp'v nkuvgp. K vqnf w vykeg\n",
      "Length: 71\n",
      "customizedTechniques-3\n",
      "a>>>DYtimeDY>L>n>>>>E>",
      "L>i>>>",
      "\n",
      "Length: 71\n",
      "customizedTechniques-5\n",
      "ÂÂÆp»Åp³Æpv¾Æ¦v¹Æp³¿~p ÁÆp¿±p¸³Ç¾ÆpÇp¶ÁÀwÆp¾»ÅÆ·À~ppÆÁ¾¶pÇpÆÉ»µ·\n",
      "Length: 71\n",
      "OpenSourceTechniques-6\n",
      "b'\\xc0q\\xabi\\x04@\\x91\\xdf\\xf6\\x13\\xcf\\x8e\\xc9\\xb1\\x8b\\xd8\\xe8\\xc6\\xe3;6Ox*\\xbe\\xf7\\xec\\x1b0\\x8bJ|t\\xcd)\\xb8\\xe2\\xca\\xc2- \\xf7\\xa9j\\xfb\\x85(\\xf0\\x1a\\xdd\\x8b\\xdb J\\x86h\\xafE\\\\&9\\xb3\\xe4\\x14W}\\xce\\xaf7\\xca\\xe3,i\\xc4\\xad~;\\xba\\x99E\\xea1AE=\\xf2y/6\\xca\\xbd\\xde]&X\\xbb\\x86\\xe5V\\x95\\xf3[\\x84@\\x16\\x83\\xe3N\\xfcL\\x99p&\\xef\\xc2\\xe6:9M\\x97\\x08c\\x99j\\xc6\\xb1\\xc7w'\n",
      "Length: 128\n",
      "Embedding Efficiency: 4.4375\n",
      "==============\n",
      "534Great! I hope you like your man well endowed. I am  &lt;#&gt;  inches...\n",
      "customizedTechniques-2\n",
      "Itgcv! K jqrg aqw nkmg aqwt ocp ygnn gpfqygf. K co  &nv;#&iv;  kpejgu...\n",
      "Length: 72\n",
      "customizedTechniques-3\n",
      "g",
      "?>i>",
      ">>",
      ">>>",
      ">",
      "",
      "L>i>>>DYADY>>",
      "LLL\n",
      "Length: 72\n",
      "customizedTechniques-5\n",
      "Ä·³ÆqppºÁÂ·p±ÁÇp¾»½·p±ÁÇÄp¿³ÀpÉ·¾¾p·À¶ÁÉ·¶~pp³¿ppv¾Æsv¹Æpp»Àµº·Å~~~\n",
      "Length: 72\n",
      "OpenSourceTechniques-6\n",
      "b\"\\x08~*V\\xfb\\x9d\\x8a\\xa6\\x9a\\x17y\\xc1q\\xd5>\\xdc\\x95\\x82Y@q\\xab\\xcd`q\\xcf\\xf9\\x7f\\xd4\\x885h\\\\\\x98P\\x96\\xe8\\xcb\\xb8nnH\\xfb\\x9dz5Y\\xc2\\xf0\\x832\\x80\\xa0\\x05B\\x85\\r}\\x85@(?K.\\xaeX;\\xd6\\x90Q+W\\x8a\\x90[nR\\xda5\\x9b}]\\x92H`\\xb8\\x85l\\xf8\\xdc\\x86E\\x87 i`gC'\\x07\\xfa\\xe2u\\x82PS4\\x86\\x97\\xbd\\x17\\x99\\x9fH\\x0f\\xa2\\xf8e\\xae\\x9b\\x85*\\xc1s\\xb8\\tR\\x93\"\n",
      "Length: 128\n",
      "Embedding Efficiency: 4.5\n",
      "==============\n",
      "535Goodo! Yes we must speak friday - egg-potato ratio for tortilla needed! \n",
      "customizedTechniques-2\n",
      "Iqqfq! Agu yg owuv urgcm htkfca - gii-rqvcvq tcvkq hqt vqtvknnc pggfgf! \n",
      "Length: 72\n",
      "customizedTechniques-3\n",
      "g?>_",
      ">",
      ">>",
      ">>K>",
      "K>>>>",
      "",
      "",
      "?>\n",
      "Length: 72\n",
      "customizedTechniques-5\n",
      "ÁÁ¶Áqp·ÅpÉ·p¿ÇÅÆpÅÂ·³½p¸Ä»¶³±p}p·¹¹}ÂÁÆ³ÆÁpÄ³Æ»Áp¸ÁÄpÆÁÄÆ»¾¾³pÀ··¶·¶qp\n",
      "Length: 72\n",
      "OpenSourceTechniques-6\n",
      "b\"&\\xb7\\xea\\xc8\\x99\\x1d\\xe8D}\\xf5\\xe2\\x017\\xb9\\x1b\\xf2\\xc8\\x18\\xc3 \\xd3\\x7fu\\x80\\x03O\\xc8\\xc5\\xf2\\x95b\\xc7\\x85Y\\xed\\xf6\\xcc\\xe6\\xe4y\\xb8yd\\xb8@r\\xf0\\xfc\\x15\\x1e#\\x92\\x9d\\x82\\x1e\\\\F\\x90\\x02i\\xd6\\xfa\\x03\\xb4\\xc1\\xaf\\x1c\\xe4\\xe0\\x16V\\xa4\\x9d\\xb6\\xf3\\xa9\\xda\\x00\\x97\\t\\xc1\\x1c\\x95\\x12]\\xe9\\xc9\\x0b\\x92\\n\\x80\\xc9)\\xac\\x18\\xc3<\\xd5\\x97`'\\xff\\xb6\\x01\\xd3m\\x07\\xabL\\xf0\\xad\\xb7[Ol\\x006)\\xe9\\xc7\\xd3\\x80:\\xda\\xf8\\x89/?AM\\x12*\\xf6($,\\x8cx\\x8e>@wk\\xbb\"\n",
      "Length: 144\n",
      "Embedding Efficiency: 4.0\n",
      "==============\n",
      "536Are you unique enough? Find out from 30th August. www.areyouunique.co.uk\n",
      "customizedTechniques-2\n",
      "Ctg aqw wpkswg gpqwij? Hkpf qwv htqo 30vj Cwiwuv. yyy.ctgaqwwpkswg.eq.wm\n",
      "Length: 72\n",
      "customizedTechniques-3\n",
      "a",
      ">>",
      ">",
      "]>f>>>QN>aL>L",
      "",
      "LL\n",
      "Length: 72\n",
      "customizedTechniques-5\n",
      "Ä·p±ÁÇpÇÀ»ÃÇ·p·ÀÁÇ¹ºp»À¶pÁÇÆp¸ÄÁ¿pÆºpÇ¹ÇÅÆ~pÉÉÉ~³Ä·±ÁÇÇÀ»ÃÇ·~µÁ~Ç½\n",
      "Length: 72\n",
      "OpenSourceTechniques-6\n",
      "b'\\xbf\\r\\xe6XJ\\xeb\\x1d\\x8d3\\xf0\\xf6\\xa6u\\x1df4S\\x0f\\xa6A\\xb4mN\\x06\\xb3\\xc4@\\xa9i\\x9a7\\xd2\\x0f\\x8c\\x0e]J;\\xfa?U*Om\\x90\\xf6\\xa6M\\x9cC\\x04t\\xe1\\n\\xdd~u<;\\xf8\\xdfe\\xd2u_\\x87\\xa5;~}\\xcd\\x96\\xcd\\xf1a\\xb5\\x0c\\x19Y\\xf8\\xec\\x93_\\x90e\\xa9\\xd6V\\xc0\\xc9\\xe5\\xea5\\xcd\\xe7\\xba.\\x86\\x0b\\x82\\xd0\\xe5\\xa3\\xaf\\xf8\\xa3\\x13<)\\x1b3\\xec\"m\\xffO\\xe1nyY\\xb8\\xb9\\x04\\x96tG\\x85\\xa6\\xe3\\x8c\\x85\\x89\\xf2\\xbf\\x0c\\x95\\xb4\\x9bJ\\xe1|\\xa4\\x99:'\n",
      "Length: 144\n",
      "Embedding Efficiency: 4.0\n",
      "==============\n",
      "537Y?WHERE U AT DOGBREATH? ITS JUST SOUNDING LIKE JAN C THATåÕS AL!!!!!!!!!\n",
      "customizedTechniques-2\n",
      "A?YJGTG W CV FQIDTGCVJ? KVU LWUV UQWPFKPI NKMG LCP E VJCVeUU CN!!!!!!!!!\n",
      "Length: 72\n",
      "customizedTechniques-3\n",
      "_]where>u>at>dogbreath]>its>just>sounding>like>jan>c>thatss>al?????????\n",
      "Length: 72\n",
      "customizedTechniques-5\n",
      "©¤p§p¦p¡¤¦p¦¥p§¥¦p¥¡§  pp pp¦¦µ¥¥pqqqqqqqqq\n",
      "Length: 72\n",
      "OpenSourceTechniques-6\n",
      "b\"\\xba \\xe1V\\xc9\\x1d\\x8cP\\xe0$\\re\\x98H\\xb3\\xca>\\xe2\\xd5I\\n\\xca\\x8f(aJyn\\xe8\\x95\\x7f\\xb3|\\xff\\xb7\\nD\\xb8'\\xed_\\xde\\xfch|Y\\xb174~*\\xb5o\\xba\\xf4\\x95\\xf8\\x11\\x0f\\xdb\\xefHQ\\x82\\xa5\\xdb\\xf8\\x15\\x0e\\xfeZ\\x13\\x19\\x1e[\\xec\\xc6\\x93\\xad\\xa1\\x0f\\xe8\\xf8\\x02\\x0e\\x96\\xbc\\x03\\xc2\\x12^\\xc2\\x9b\\x0c\\x87t\\x1c\\x01Wl\\xa1\\xac\\x1d|\\xa4W\\x8b\\xfbU(\\xe3c;\\x8b\\x07\\x19\\xe0:\\xab\\xa2\\xe6\\x16!\\t\\xe72\\x13\\x19\"\n",
      "Length: 128\n",
      "Embedding Efficiency: 4.5\n",
      "==============\n",
      "538I am in office:)whats the matter..msg me now.i will call you at break:).\n",
      "customizedTechniques-2\n",
      "K co kp qhhkeg:)yjcvu vjg ocvvgt..oui og pqy.k yknn ecnn aqw cv dtgcm:).\n",
      "Length: 72\n",
      "customizedTechniques-3\n",
      "i>>>",
      "XG>",
      ">",
      "LL>",
      ">L>>>>>",
      "XGL\n",
      "Length: 72\n",
      "customizedTechniques-5\n",
      "p³¿p»ÀpÁ¸¸»µ·yÉº³ÆÅpÆº·p¿³ÆÆ·Ä~~¿Å¹p¿·pÀÁÉ~»pÉ»¾¾pµ³¾¾p±ÁÇp³Æp´Ä·³½y~\n",
      "Length: 72\n",
      "OpenSourceTechniques-6\n",
      "b'oq\\xf8\\x1b\\x17\\xd9\\xb1\\xc0\\xd0@v\\xe2y\\x19\\x89\\xc4\\x17\\xe3\\xa2\\xc2\\xfd\\xe6\\x16\\xf7A\\xcd\\xf5\\xf7@rQF2z\\x0e\\x8d\\xa9\\xf2\\xb7_\\x9e\\xcb\\xd3\\xa7t\\xa1\\x0f\\xc2W\\x07DV\\x06]\\xb2>\\xe1Z\\x94\\x05\\x11\\xa89\\xbe\\x9cANg!\\xd1\\x93\\x82\\x06\\xd7q\\x85)`\\xb8\\xec\\x00byM\\xce\\x82\\x99\\x0c\\x8f6}\\xf9\\xe6\\xfdZ\\xd3\\xae\\x96o\\x0cD\\xec_\\\\IZ\\x0c\\xb5,\\xe6\\xb0\\x81\\x9e8\\xe3\\xa1;2X\\t`\\x7f6\\xc1\\x16\\xc5\\x02\\x0e'\n",
      "Length: 128\n",
      "Embedding Efficiency: 4.5\n",
      "==============\n",
      "539Yetunde i'm in class can you not run water on it to make it ok. Pls now.\n",
      "customizedTechniques-2\n",
      "Agvwpfg k'o kp encuu ecp aqw pqv twp ycvgt qp kv vq ocmg kv qm. Rnu pqy.\n",
      "Length: 72\n",
      "customizedTechniques-3\n",
      "_",
      "",
      ">E>>>>>>>",
      ">>>>",
      ">>L>p>L\n",
      "Length: 72\n",
      "customizedTechniques-5\n",
      "·ÆÇÀ¶·p»w¿p»Àpµ¾³ÅÅpµ³Àp±ÁÇpÀÁÆpÄÇÀpÉ³Æ·ÄpÁÀp»ÆpÆÁp¿³½·p»ÆpÁ½~p¢¾ÅpÀÁÉ~\n",
      "Length: 72\n",
      "OpenSourceTechniques-6\n",
      "b'\\x1b\\xa5V>\\xa5\\xee\\xba\\xb7\\xdb7k>(.\\xb1|,\\x9c1\\x01\\xda\\xd9\\xcf\\xcf\\\\\\xbb\\x14\\xa6\\x84\\xa5\\x0f\\xbb\\xa8\\xdaz\\xea\\x89U\\xa0\\xed\\xce\"A\\xfbAXT\\xf8K6\\xc7\\xd2\\xd0\\xd8O\\xbd\\xbb\\xedO\\xa15\\xc2\\x11X\\xde\\x13e\\xcfN \\xc0\\xa4\\x89\\xa6C\\x7fLe\\xca\\x93\\x920&A\\xed\\\\1\\x89S\\xb2Oy8A\\x9e\\x9cp\"\\xc4\\x8b\\xc4\\xa4\\x15\\xd6\\x99\\x84+\\x185c\\xea\\x97\\x90\\xa3\\x1d2\\xfb\\x93\\xd5\\xdc\\x11E\\x0fm(\\x0b6\\xc9'\n",
      "Length: 128\n",
      "Embedding Efficiency: 4.5\n",
      "==============\n",
      "540Thats cool. i am a gentleman and will treat you with dignity and respect.\n",
      "customizedTechniques-2\n",
      "Vjcvu eqqn. k co c igpvngocp cpf yknn vtgcv aqw ykvj fkipkva cpf tgurgev.\n",
      "Length: 73\n",
      "customizedTechniques-3\n",
      "t>L>>>>",
      "",
      ">>>",
      ">>>>>",
      "",
      "L\n",
      "Length: 73\n",
      "customizedTechniques-5\n",
      "¦º³ÆÅpµÁÁ¾~p»p³¿p³p¹·ÀÆ¾·¿³Àp³À¶pÉ»¾¾pÆÄ·³Æp±ÁÇpÉ»Æºp¶»¹À»Æ±p³À¶pÄ·ÅÂ·µÆ~\n",
      "Length: 73\n",
      "OpenSourceTechniques-6\n",
      "b'@R@>R\\xe2\\xa9\\x0c\\xb8>d\\xc6\\x81@\\x13\\x1b\\x80H<\\x12d\\xea\\x17\\xedY\\xe44\\xbf3 \\xb1S\\xc1A\\xea\\xe50\\x00\\xac\\xcc\\x16Q\\x81\\x10D\\x18ee\\xf2\\xcco\\xcc\\x9f1k\\xe6H\\xe3F\\xacU/\\x13\\xe0\\x15Q&]7\\xc9\\x1b\\xba\\x87~(\\xdb\\xe1\\xe9\\xe8\\x17C4T\\x0f\\x89:/\\xe8\\x1dh\\xf6\\xd6\\x82\\xf1\\xc6G#g\\xe9\\x83\\x8f=x\\xf80\\xf8\\xacq:\\xe8\\x93\\xe2\\x83Y\\x8c]\\xc5\\xb3\\x88\\xc2\\xed\\x9fR\\xa5\\xd4\\xc5\\x1f\\xf3\\xb1=\\xf4 fu\\x99C?\\x91P\\xe8\\xf0\\x7f(\\x12'\n",
      "Length: 144\n",
      "Embedding Efficiency: 4.055555555555555\n",
      "==============\n",
      "541What's up bruv, hope you had a great break. Do have a rewarding semester.\n",
      "customizedTechniques-2\n",
      "Yjcv'u wr dtwx, jqrg aqw jcf c itgcv dtgcm. Fq jcxg c tgyctfkpi ugoguvgt.\n",
      "Length: 73\n",
      "customizedTechniques-3\n",
      "wE>>J>",
      ">>>>",
      ">",
      "L>d>",
      ">>",
      ">",
      "",
      "",
      "L\n",
      "Length: 73\n",
      "customizedTechniques-5\n",
      "©º³ÆwÅpÇÂp´ÄÇÈ|pºÁÂ·p±ÁÇpº³¶p³p¹Ä·³Æp´Ä·³½~pÁpº³È·p³pÄ·É³Ä¶»À¹pÅ·¿·ÅÆ·Ä~\n",
      "Length: 73\n",
      "OpenSourceTechniques-6\n",
      "b'\\xe8\\x18\\x94\\xfa\\x90Ji\\x9c\\x00D\\x91e\\xd0\\xe1\\xf5\\xbe)\\x80\\xcb2,\\x9a\\x86\\x06e\\xe01AG\\xeaT\\x13\\xe1\\xb1\\x06n\\xa3\\x16\\x83h\\xc6\\x88Z\\x95\\x8c\\x87\\xf8=}\\x92\\x1e\\x8fA\\xcb\"\\x0bZ\\x9f\\xff\\x1a5\\xb2\\xe8\\x90T\\x87\\x89|\\xf3W]\\xc2\\x0c\\\\\\xf0\\xdd\\xf3\\xd1\\xac\\xa7\\xc8\\xc8\\x07\\xe6`\\n\\xd3\\xf7\\x06O\\xedSe\\x98L\\xfc\\x99\\x08\\x00j\\xe0D#m\\x177\\xbc6\\xa0\\t-\\xb0\\xael\\xf0\\xe83\\xd2\\xcd\\x8e\\xe3\\xcfJ\\xde\\x96\\xe8\\xa9\\xec\\xc9ck\\xc3k\\x18k\"\\xc4\\xba<\\x1b\\xc6\\xc2\\xda\\xee'\n",
      "Length: 144\n",
      "Embedding Efficiency: 4.055555555555555\n",
      "==============\n",
      "542You available now? I'm like right around hillsborough &amp;  &lt;#&gt; th\n",
      "customizedTechniques-2\n",
      "Aqw cxckncdng pqy? K'o nkmg tkijv ctqwpf jknnudqtqwij &cor;  &nv;#&iv; vj\n",
      "Length: 73\n",
      "customizedTechniques-3\n",
      "_>",
      ">]>iE>",
      ">>>>DY>>DYADY>\n",
      "Length: 73\n",
      "customizedTechniques-5\n",
      "ÁÇp³È³»¾³´¾·pÀÁÉpw¿p¾»½·pÄ»¹ºÆp³ÄÁÇÀ¶pº»¾¾Å´ÁÄÁÇ¹ºpv³¿Âppv¾Æsv¹ÆpÆº\n",
      "Length: 73\n",
      "OpenSourceTechniques-6\n",
      "b'\\xed\\xaa\\x08\\x8fgD\\x160\\xf0\\xe1\\xdfYU0\\x9f\\xa9\\x85O7\\x9c\\xf8-\\xa6Y\\x9ba\\x8f\\xc8P\\x8af\\x0b\\x03X\\xacZ\\xe76\\xb5\\x17\\x80\\x8c\\xf6\\x971\\x82\\xcf\\xe1\\xa2sE\\xddE\\x91\\xd5V/\\xc1vHV\\x12Y\\x88\\xeb\\x8eR \\x1a<\\xc6\\xc4\\x018\\xafi\\x86\\t\\x8a\\xd0\\xdeiU\\xd6\\xb8ry!s\\xec\\x04\\x82\\xb3\\xf3\\xb8\\xc5L\\xe6\\xf5\\xa9\\x9e\\\\f)\\xbf\\xf1\\xdajZ\\x9b\\x8dt\\xf7\\x97\\xa8\\x95\\x148m\\xb4\\x89\\xad\\xe2l\\x1d\\x9c\\x8ba}\\x08L\\xaf\\x18\\xda\\x03\\xbf\\xe2\\x00+\\x0f;\\x19\\x96!'\n",
      "Length: 144\n",
      "Embedding Efficiency: 4.055555555555555\n",
      "==============\n",
      "543I wont get concentration dear you know you are my mind and everything :-)\n",
      "customizedTechniques-2\n",
      "K yqpv igv eqpegpvtcvkqp fgct aqw mpqy aqw ctg oa okpf cpf gxgtavjkpi :-)\n",
      "Length: 73\n",
      "customizedTechniques-3\n",
      "i>>",
      ">",
      ">",
      ">>>>",
      ">>>>",
      "",
      ">XKG\n",
      "Length: 73\n",
      "customizedTechniques-5\n",
      "pÉÁÀÆp¹·ÆpµÁÀµ·ÀÆÄ³Æ»ÁÀp¶·³Äp±ÁÇp½ÀÁÉp±ÁÇp³Ä·p¿±p¿»À¶p³À¶p·È·Ä±Æº»À¹p}y\n",
      "Length: 73\n",
      "OpenSourceTechniques-6\n",
      "b'\\x8f \\x00\\r\\x84\\xa2\\x153\\x98\\x94\\xdd{\\x80\\xe5\\xeam\\x92 P\\x8a\\xe4\\x91\\xcd\\xf6\\xde\\xc8FF\\xda\\xees\\xe9\\x8b\\x84r\\x82\\xf0\\xeaM\\xc8\\xc86\\x1dU\\xcc\\xc5\\xb08u\\x02\\x88&\\xca\\xbd\\\\\\xd8!\\x9e\\xe0\\xa4\\xff(\\x08\\xf1\\xd6p\\x7f\\x98\\xe5\\x905\\n9\\xf1\\x05\\x89\\xf5_\\x7f\\x96\\x14\\xa1\\xf6\\x95p\\xceI\\x13\\xe9\\xc3\\x08CV\\xb6\\xb9\\xc5\\xd18\\xae\\x18lKN\\xd4\\x1b{|j\\xca\\xf3W\\x13\\x8a\\x95z\\x90\\xa6\\xfcE5\\xce!\\x17\\xfe\\xaf\\x87\\xc7\\x04\\xaeY\\x10\\x10\\x13\\xa4bS\\xee7}\\x05\\x86\\xdaa\\t'\n",
      "Length: 144\n",
      "Embedding Efficiency: 4.055555555555555\n",
      "==============\n",
      "544Will purchase d stuff today and mail to you. Do you have a po box number?\n",
      "customizedTechniques-2\n",
      "Yknn rwtejcug f uvwhh vqfca cpf ockn vq aqw. Fq aqw jcxg c rq dqz pwodgt?\n",
      "Length: 73\n",
      "customizedTechniques-3\n",
      "w>",
      ">>>>>>>L>d>>",
      ">>>>",
      "]\n",
      "Length: 73\n",
      "customizedTechniques-5\n",
      "©»¾¾pÂÇÄµº³Å·p¶pÅÆÇ¸¸pÆÁ¶³±p³À¶p¿³»¾pÆÁp±ÁÇ~pÁp±ÁÇpº³È·p³pÂÁp´ÁÊpÀÇ¿´·Ä\n",
      "Length: 73\n",
      "OpenSourceTechniques-6\n",
      "b\";-\\t\\xf50E\\xf2(\\xb8\\x13sW'\\x1d\\x9eJ\\xb06\\x9a)p\\x05~\\xba\\x1b5\\xb4/-\\xe8q_pL\\xd2z\\xc66W\\xb6\\xb4\\xb5g\\xbd\\xc8\\xa9j4C\\xde\\xbd\\x077\\xd7\\r\\x14#a\\x81\\x1b\\xf46l\\x8d\\xb1/\\xf2h\\x00\\x1frkLk\\xc6\\xc6NE\\xf5\\x16 c\\x8e\\xa0\\xd9\\x8d\\x15\\xf9P\\x7f8\\xf9\\xaeW\\x00\\x88$\\xf4\\xde_\\xa8\\x01qg\\xac\\x97\\x8e\\\\\\x1c<\\xe9&\\xa8\\xacIuH\\xb2\\xf4\\x87N\\xdc\\x17\\xf4q\\xaco\\xb2\\xcf\\x85\\xdcvK\\x837`\\x9a\\xd7h\\xd8\\x80\\xd4\\\\\\x96\"\n",
      "Length: 144\n",
      "Embedding Efficiency: 4.055555555555555\n",
      "==============\n",
      "545Pls send me a comprehensive mail about who i'm paying, when and how much.\n",
      "customizedTechniques-2\n",
      "Rnu ugpf og c eqortgjgpukxg ockn cdqwv yjq k'o rcakpi, yjgp cpf jqy owej.\n",
      "Length: 73\n",
      "customizedTechniques-3\n",
      "p>",
      ">",
      ">>",
      "",
      "",
      ">>>>E>J>",
      ">>>L\n",
      "Length: 73\n",
      "customizedTechniques-5\n",
      "¢¾ÅpÅ·À¶p¿·p³pµÁ¿ÂÄ·º·ÀÅ»È·p¿³»¾p³´ÁÇÆpÉºÁp»w¿pÂ³±»À¹|pÉº·Àp³À¶pºÁÉp¿Çµº~\n",
      "Length: 73\n",
      "OpenSourceTechniques-6\n",
      "b'\\xce\\x933\\x14O\\xd6\"\\x9c\\xb3\\xc9bL\\x1ai\\x97\\x8d\\x0e\\xd75#v\\xa4\\xda\\x80\\x8c\\x82+=(/\\xb8)c\\x8b\\xb8%\\xbd\\x91\\x16>\\xbf|yi_\\xa6R\\xb2\\x04c\\x08r\\x92mY@nL\\x05*\\xc9\\xb8\\xa1\\x98\\\\\\xb5[F\\xadlhY\\xa7\\xe0\\xd9A\\x0e(\\xb0\\x97a$\\x13m\\x8c\\xe6\\xe9\\xf5\\x7fyi\\xa1kmm\\x1c\\xca\\xe7\\x02BJe\\x8f\\x16\\xa6\\x8f\\xed\\x84\\x17b1c\\x07wr\\xacn\\xc1\\x1d\\x83\\xd3\\xc4\\x1c\\xb7\\xa3\\x1b\\x15x~\\xde<\\xaa\\xaa\\xfc\\xb0\\xe4\\x9a\\xa4\\xae\\xd9\\xc7dn&'\n",
      "Length: 144\n",
      "Embedding Efficiency: 4.055555555555555\n",
      "==============\n",
      "546Did u find out what time the bus is at coz i need to sort some stuff out.\n",
      "customizedTechniques-2\n",
      "Fkf w hkpf qwv yjcv vkog vjg dwu ku cv eqb k pggf vq uqtv uqog uvwhh qwv.\n",
      "Length: 73\n",
      "customizedTechniques-3\n",
      "d>>>>>",
      ">",
      ">>>>>>",
      "",
      ">>>",
      ">>L\n",
      "Length: 73\n",
      "customizedTechniques-5\n",
      "»¶pÇp¸»À¶pÁÇÆpÉº³ÆpÆ»¿·pÆº·p´ÇÅp»Åp³ÆpµÁ²p»pÀ··¶pÆÁpÅÁÄÆpÅÁ¿·pÅÆÇ¸¸pÁÇÆ~\n",
      "Length: 73\n",
      "OpenSourceTechniques-6\n",
      "b\"w\\xaeS\\x91\\xf8\\xa8l\\xe3`\\xf8\\x14\\xa2\\xcc\\xb2\\x04mLv@\\x8ew\\xe5TuV!\\xa0\\xb5N\\x90\\xe3\\xbd\\xb8h\\x1f\\x00\\x9e\\xbe\\x93\\xf3**G\\xf4\\x1cv\\x8e\\xe1u\\xd5\\x17\\x1bU\\xa1\\xdeso\\xb7\\xb6\\xa1\\x06R\\xa5m\\x81\\xaf:\\x1f[\\xdc\\xfa\\xcf\\xcbbf\\x1c\\xd1\\x16\\xb2\\xd2)<\\x94\\xc8\\x8a\\xaa\\xb4\\xf4\\xd6\\xb8T\\xda'l\\xeb\\x11\\x82k\\x1d\\x06e\\xc3\\xe8\\x0f\\xe6\\x07\\xe3\\xafq\\xcaD\\xaf\\xbb9\\xca4\\xda\\x8c\\xf8q\\x1a\\x0b\\xf9(\\xcb\\xf5\\xeb\\x9c\\xb0\\xa7\\x95\\xe0<V\\xf6\\xc9\\x84T\\x10\\xdaY\\xb7rj\"\n",
      "Length: 144\n",
      "Embedding Efficiency: 4.055555555555555\n",
      "==============\n",
      "547Was actually about to send you a reminder today. Have a wonderful weekend\n",
      "customizedTechniques-2\n",
      "Ycu cevwcnna cdqwv vq ugpf aqw c tgokpfgt vqfca. Jcxg c yqpfgthwn yggmgpf\n",
      "Length: 73\n",
      "customizedTechniques-3\n",
      "w>>>>",
      ">>>",
      "",
      ">L>h",
      ">>",
      ">",
      "",
      "",
      "\n",
      "Length: 73\n",
      "customizedTechniques-5\n",
      "©³Åp³µÆÇ³¾¾±p³´ÁÇÆpÆÁpÅ·À¶p±ÁÇp³pÄ·¿»À¶·ÄpÆÁ¶³±~p³È·p³pÉÁÀ¶·Ä¸Ç¾pÉ··½·À¶\n",
      "Length: 73\n",
      "OpenSourceTechniques-6\n",
      "b'kH\\xc8\\x00\\xf0R?\\xc6n\\xfc\\x7f\\x1e\\xd2\\xf4\\xce\\x92\\xbd\\x88\\x91\\xccAL\\x07)\\xdb\\x93\\xf6)]*\\xa8\\xa6\\xc9\\\\2l\\xbcb\\x81\\x9e|\\xeb\\xb9\\xd6\\xe6%\\xedB\\xa0\\xe3\\xdeJ\\x93\\xf43\\x00y}\\xfb\\x80!\\x9a.w\\x0b\\x11Q\\xf3\\xb9=\\xc4\\xf0%\\x1d\\xbacu%\\xcf\\xd6\\xaf\\x15\\x17\\xb46X#h\\xf4^u\\xb4\\xd6\\x88yD\\xd7`!\\xd3\\xc0\\x84C5\\x8d\\x89\\xd9u\\xb9\\xa7\\xb2\\x17<\\xd7|\\xf29\\x1a\\xed\\xc15\\xd7\\xd7$|\\x13N\\xa6\\x04[\\xfd\\x85\\x0e\\xcc\\xf6\"\\xbe\\x9dZ\\xe1\\x92#\\x8d\\xca'\n",
      "Length: 144\n",
      "Embedding Efficiency: 4.055555555555555\n",
      "==============\n",
      "548She went to attend another two rounds today..but still did't reach home..\n",
      "customizedTechniques-2\n",
      "Ujg ygpv vq cvvgpf cpqvjgt vyq tqwpfu vqfca..dwv uvknn fkf'v tgcej jqog..\n",
      "Length: 73\n",
      "customizedTechniques-3\n",
      "s",
      ">",
      ">>",
      ">",
      ">>>LL>>E>",
      ">",
      "LL\n",
      "Length: 73\n",
      "customizedTechniques-5\n",
      "¥º·pÉ·ÀÆpÆÁp³ÆÆ·À¶p³ÀÁÆº·ÄpÆÉÁpÄÁÇÀ¶ÅpÆÁ¶³±~~´ÇÆpÅÆ»¾¾p¶»¶wÆpÄ·³µºpºÁ¿·~~\n",
      "Length: 73\n",
      "OpenSourceTechniques-6\n",
      "b'pH\\xc1\\t\\xf5\\xe31\\xc0\\xed\\xa5\\x00\\xeb\\x1d\\xca;\\x13G\\x11\\x8e+W\\xed\\xba\\xaf\\x88\\xefR\\xaa\\xfb@w\\x8c\\xa7\\xfc\\xea/@|\\x96\\xfb\\xb5\\xdf\\xce\\xca\\xe6\\xa1#\\xa5\\x90\\x10p\\x15\\xb1\\'\\x86\\x05\\xa6\\xd8\\xf9\\xef\\x97P\\xff\\x1a\\x11: .\\xa1\\x7f\\xc0\\x93\\xffX\\xb4\\xc6\\x0c\\xe5T\\xb3\\x91o\\xfe\\xb4\\xc2\\x17\\x88\\rv\\xd1$39y\\xa0R\\r\\xe5./\\xe6\\xc9\\x16\\x16\\x95[D\\x1bW:\\x88\\x14\\x0e\\xb6\\x8e.d\\xb8Jp&\\xa0\\x9a\\xbc\\xc0\\xcf\"\\xf9}\\n_\\xe3\\xb9$\\xee1\\x83\\xd6\\xf5\\x99[=\\r\\xd4'\n",
      "Length: 144\n",
      "Embedding Efficiency: 4.055555555555555\n",
      "==============\n",
      "549Up to Ì_... ÌÏ wan come then come lor... But i din c any stripes skirt...\n",
      "customizedTechniques-2\n",
      "Wr vq L_... LO ycp eqog vjgp eqog nqt... Dwv k fkp e cpa uvtkrgu umktv...\n",
      "Length: 73\n",
      "customizedTechniques-3\n",
      "u>>j}LLL>jm>>",
      ">",
      ">",
      ">LLL>b>>>>>",
      ">LLL\n",
      "Length: 73\n",
      "customizedTechniques-5\n",
      "§ÂpÆÁp¯~~~ppÉ³ÀpµÁ¿·pÆº·ÀpµÁ¿·p¾ÁÄ~~~pÇÆp»p¶»Àpµp³À±pÅÆÄ»Â·ÅpÅ½»ÄÆ~~~\n",
      "Length: 73\n",
      "OpenSourceTechniques-6\n",
      "b'\\xb6[W^\\x94\\xe5\\x8c&\\x86s9FYG \\x8c\\x1aZY\\xc1B\\x81\\xbf9\\xf5\\xdaC\\xb9\\x9b\\x8bJ\\xf5\\xf1\\x95u\\x13v\\xcc\\x0bX\\xe02aN\\x81\\x7f(\\x92j\\x1f\\xf5\\t\\xf0\\xe9=9\\x1c\\xc4\\x06}\\x80\\x1a\\xeb^\"]B\\x0e\\xf4\\x1d\\xaf\\xdb\\x13d\\xb5\\x05\\t\\x11\\xdb/\\xeb\\x80l9@\\x15\\x82\\x86\\xbbw\\x86y!\\xda\\x12\\x91\\x88\\xb9N\\x8f>-\\x8c&\\x92\\xc6\\x0c.\\xd0\\x887\\xc98+\\x1cDD\\xd5\\xdc]\\x99j\\xedK:h\\xcf\\x9e'\n",
      "Length: 128\n",
      "Embedding Efficiency: 4.5625\n",
      "==============\n",
      "550Hi frnd, which is best way to avoid missunderstding wit our beloved one's?\n",
      "customizedTechniques-2\n",
      "Jk htpf, yjkej ku dguv yca vq cxqkf okuuwpfgtuvfkpi ykv qwt dgnqxgf qpg'u?\n",
      "Length: 74\n",
      "customizedTechniques-3\n",
      "h>J>>>",
      ">>>>",
      ">>>",
      "",
      ">",
      "E]\n",
      "Length: 74\n",
      "customizedTechniques-5\n",
      "»p¸ÄÀ¶|pÉº»µºp»Åp´·ÅÆpÉ³±pÆÁp³ÈÁ»¶p¿»ÅÅÇÀ¶·ÄÅÆ¶»À¹pÉ»ÆpÁÇÄp´·¾ÁÈ·¶pÁÀ·wÅ\n",
      "Length: 74\n",
      "OpenSourceTechniques-6\n",
      "b\"\\xb0\\xce&\\x9c\\xda4`\\\\\\xc1S\\xa4\\x04\\x9a\\xa6U<\\xfb\\x82g\\xa8\\xf2}'\\xbb\\xf8\\x10\\x0b.\\xd7\\x94\\x8d\\x99\\xcd7\\xe9k\\xb72w\\xd9`\\xfa_l\\x1a\\xb7\\xber\\xe1G\\xf3\\x0f\\xf3\\x18\\xcb\\x87\\x1c\\xec\\x9d[\\xa6\\x91\\xe9\\xde\\x04\\xf6\\x87\\x81(\\xedk\\xaa\\xf9GRn\\xa84\\t\\xb0\\xda\\xfd\\xa5\\xb9\\xc1\\xef\\xa1\\xc0@\\x95\\xad\\x16m\\x88,\\xcc+\\x1e\\x10|x\\xc8OK\\xa5\\xd7\\xa8\\xe0\\x0bS\\xc6\\x83\\xe2\\xd2\\x85-TA\\xb6]\\x96u\\xdf\\x14\\xf3\\xc2j\\xb5md\\xe7\\x86\\x0e\\nl\\xfa<\\xd8x\\xa0u\\xf5e\\x99\"\n",
      "Length: 144\n",
      "Embedding Efficiency: 4.111111111111111\n",
      "==============\n",
      "551I‰Û÷m parked next to a MINI!!!! When are you coming in today do you think?\n",
      "customizedTechniques-2\n",
      "K‰A÷o rctmgf pgzv vq c OKPK!!!! Yjgp ctg aqw eqokpi kp vqfca fq aqw vjkpm?\n",
      "Length: 74\n",
      "customizedTechniques-3\n",
      "i⁎_ĕ>",
      ">",
      ">>>mini????>w",
      ">",
      ">>>>>>>]\n",
      "Length: 74\n",
      "customizedTechniques-5\n",
      "₀Ň¿pÂ³Ä½·¶pÀ·ÊÆpÆÁp³p qqqqp©º·Àp³Ä·p±ÁÇpµÁ¿»À¹p»ÀpÆÁ¶³±p¶Áp±ÁÇpÆº»À½\n",
      "Length: 74\n",
      "OpenSourceTechniques-6\n",
      "b'\\x88\\xd1\\x8f\\xee\\xe1\\xbd\\x9ed\\x8d\\xe7\\x19\\x8d-\\x94\\xe5p\\xc7U<\\x88\\xf1\\x90\\x960l\\xb2\\xe7W^\\xf3]^\\x9c\\xef\\xe2\\x1f\\x14;\\x0b\\xcfU.\\x9d\\xd4B\\xdc\\xc2 \\xbb\\x16\\xabdO\\xe9\\xdem\\xfa^\\x9bG\\xe0\\\\\\x81@\\xbc\\xe9\\xc2\\x1b\\x8d\\x8c\\xf8\\xcb6\\xebL\\xf9\\x1cc\\x1e\\x198\\xaa\\xbb\\xf8d \\x87\\xfc4\\x12jZ<\\xbe\\x93\\x98(\\x00\\xf3\\xf4\\xd0|\\xa1\\x0b\\x19\\x95\\xe3E\\x81\\x07\\xdd\\xae\\x8e\\xcf*\\xe3\\xf5\\x99$[-\\x16\\xe8\\x93\\x80\\x87C\\x92\\x9b_\\x04\\x8b\\xc4Sz\\x9d\\x9f\\x8b\\x7f\\xfezf\\x90\\x8e'\n",
      "Length: 144\n",
      "Embedding Efficiency: 4.152777777777778\n",
      "==============\n",
      "552I'm back &amp; we're packing the car now, I'll let you know if there's room\n",
      "customizedTechniques-2\n",
      "K'o dcem &cor; yg'tg rcemkpi vjg ect pqy, K'nn ngv aqw mpqy kh vjgtg'u tqqo\n",
      "Length: 75\n",
      "customizedTechniques-3\n",
      "iE>>DY>",
      "E",
      ">>",
      ">>J>iE>",
      ">>>>",
      "",
      "E>\n",
      "Length: 75\n",
      "customizedTechniques-5\n",
      "w¿p´³µ½pv³¿ÂpÉ·wÄ·pÂ³µ½»À¹pÆº·pµ³ÄpÀÁÉ|pw¾¾p¾·Æp±ÁÇp½ÀÁÉp»¸pÆº·Ä·wÅpÄÁÁ¿\n",
      "Length: 75\n",
      "OpenSourceTechniques-6\n",
      "b'\\xa1\\xbf\\xb0?\\xcf\\xe5\\x03N\\xba\\xb4\\xf8b#\\x84\\xe3|\\xcd\\xd7\\xe1J\\xe2L\\xe4F\\xfa\\xf0\\x8f\\xea\\t \\x8c\\xda\\xc3\\xaf\\xe9\\x94s\\xa0\\xc1\\x1aSA\\x81\\xf10e\\x16\\xdf\\xef<\\x84\\x98F\\xac>f\\xe7C\\x00\\x12\\xfc\\x1e\\xfa\\x01\\xbd6\\xd8\\x04\\xeev\\xf3\\xbe\\xd2D\\x9cWJ\\xd0\\x8e\\xae\\xc7v\\x90\\x9c\\x97\\xa9\\x92\\xb7\\x89\\xc5\\x15\\x0b\\xae\\x15\\x17-\\xc4!L\\xc8\\xdc$\\xe6m:\\x19`\\x108\\x8d}\\xe0\\xf0\\xb3\\xbe\\'\\xc4o=\\x83\\xd0\\x90\\x14\\x8e\\x81\\xe0v)u\\xdb\\x8c\\xd2\\xac\\x89\\x9aq\"\\x10\\x00\\x1bM<\\xb4Q'\n",
      "Length: 144\n",
      "Embedding Efficiency: 4.166666666666667\n",
      "==============\n",
      "553Come by our room at some point so we can iron out the plan for this weekend\n",
      "customizedTechniques-2\n",
      "Eqog da qwt tqqo cv uqog rqkpv uq yg ecp ktqp qwv vjg rncp hqt vjku yggmgpf\n",
      "Length: 75\n",
      "customizedTechniques-3\n",
      "c",
      ">>>>>",
      ">>>",
      ">>>>",
      ">>>>",
      "",
      "",
      "\n",
      "Length: 75\n",
      "customizedTechniques-5\n",
      "Á¿·p´±pÁÇÄpÄÁÁ¿p³ÆpÅÁ¿·pÂÁ»ÀÆpÅÁpÉ·pµ³Àp»ÄÁÀpÁÇÆpÆº·pÂ¾³Àp¸ÁÄpÆº»ÅpÉ··½·À¶\n",
      "Length: 75\n",
      "OpenSourceTechniques-6\n",
      "b'\\x8b\\x1a\\xbe[\\xb24\\xbeH\\xc4\\xf1\\xfbs\\xd1lJ\\n[\\xde\\x15R>\\xbd\\xef\\x1fI\\x16/P\\xefz\\xeb>\\xb6P\\xe2\\x87\\xe8\\xf7\\xc6\\x05\\xa1\\xffA@\\nU\\xc4w\\xc7\\x9aX\\xbf\\xd5@\\xf0\\x91y\\\\\\xaf\\xfau\\x7f\\xd6\\x03\\xfb@8\\x96\\x8f|\\x0c\\x83M2\\x9f\\x9d\\x94\\xe5\\xf4\\xb8i\\xee\\x02\\x84\\xad\\xaa\\x03;\\x01z\\xcc\\xe6*\\xbe\\xfe\\x85_H\\xbf/\\xb3\\xd9\\x1f\\x8f\\xfa\\xe8\\x00Md%F\\x002r\\xec\"\\xdf\\x12l\\xa3\\x89\\xefA\\xfe\\x04\\xa3\\x98\\xac\\x16\\x81?Z~\\xd1\\xde\\x1aE#F\\x995\\xcb\\xd6\\xf8'\n",
      "Length: 144\n",
      "Embedding Efficiency: 4.166666666666667\n",
      "==============\n",
      "554True dear..i sat to pray evening and felt so.so i sms'd you in some time...\n",
      "customizedTechniques-2\n",
      "Vtwg fgct..k ucv vq rtca gxgpkpi cpf hgnv uq.uq k uou'f aqw kp uqog vkog...\n",
      "Length: 75\n",
      "customizedTechniques-3\n",
      "t",
      ">",
      "LL>>>>",
      "",
      ">>",
      ">L>>E>>>",
      ">",
      "LLL\n",
      "Length: 75\n",
      "customizedTechniques-5\n",
      "¦ÄÇ·p¶·³Ä~~»pÅ³ÆpÆÁpÂÄ³±p·È·À»À¹p³À¶p¸·¾ÆpÅÁ~ÅÁp»pÅ¿Åw¶p±ÁÇp»ÀpÅÁ¿·pÆ»¿·~~~\n",
      "Length: 75\n",
      "OpenSourceTechniques-6\n",
      "b'/\\xccM\\xac\\xcbV\\x9b3>\\xa7U\\xd1\\xbb!\\xa4\\x9d\\x15\\xe7z\\xb7wQ\\xf9\\xa85E\\x03\\xcf\\xe3\\xc8\\x9d\\xbc\\x92\\x10(\\xd20\\xd6\\x0e\\xba\\x83\\xe1\\x00-\\xebt\\x93D\\xc92b\\x0f\\x7fy\"\\xd4%\\x04\\x1bI\\xees\\xdbC\\xfdb\\xb4\\x17\\x9c7\\xe5d\\xbe)m\\x05\\x14\\x03\\xff$\\xab\\xbd\\xb9\"\\xac\\xf0\\xf8=\\xab\\x1b\\x9e3\\'\\xa7\\xde\\xa693D\\xd8fK\\x05\\xe8\\x88\\xc1\\x8dv\\xcd\\xf1a: \\xb0\\xe8$\\x84-\\x9c\\xea?\\xefe\\x9b\\x82!z\\x04\\xdb\\x97\\xbd\\xd3\\x9a\\xb1g9\\xdb\\xce\\xbf\\xf4\\xbf\\xde\\xe7\\xdc'\n",
      "Length: 144\n",
      "Embedding Efficiency: 4.166666666666667\n",
      "==============\n",
      "555Wishing you and your family Merry \\X\\\" mas and HAPPY NEW Year in advance..\"\n",
      "customizedTechniques-2\n",
      "Ykujkpi aqw cpf aqwt hcokna Ogtta \\Z\\\" ocu cpf JCRRA PGY Agct kp cfxcpeg..\"\n",
      "Length: 75\n",
      "customizedTechniques-3\n",
      "w>>>>>m",
      ">zxz@>>>happ_>new>_",
      ">>",
      "LL@\n",
      "Length: 75\n",
      "customizedTechniques-5\n",
      "©»Åº»À¹p±ÁÇp³À¶p±ÁÇÄp¸³¿»¾±p·ÄÄ±p¬ª¬rp¿³Åp³À¶p¢¢p ©p·³Äp»Àp³¶È³Àµ·~~r\n",
      "Length: 75\n",
      "OpenSourceTechniques-6\n",
      "b'\\xcc\\xec\\xbe\\xfeK\\xa5\\xbc4\\xf7\\xfc3Q\\xde\\xa3P\\xdfM\\x83\\x1b\\xec\\x87\\x03\\xfdP\\xb8t:\\x15\\xf5\\xe7@\\xd8\\xfc\\x0cy\\xb3\\xc2\\x96\\xfd\\x9ah\\x85R\\xedZ\\x9c\\x19\\x92 pf\\x1f\\xa0\\xe6\\xafV\\xa3\\x9f=K\\xef\\xc5}\\x86\\x87\\xe7\\xad-s\\xdc\\xcb\\xc5\\x12\\xee\\xed\\xb4\\xa4\\xf36\\x0fW\\x8c\\x99\\x8b=-\\xed\\xa8S\\xf6\\xa5<\\xb6~\\xda\\xd9\\xd82\\xf1}7*%E\\x1dQxHq\\x1b\\xba\\xe8\\xd9\\x8a\\xae\\xd8\\xb2\\xfb\\xf9`\\xda\\xd98a\\x98\\x84S\\xab\\x98\\xfd\\xc1\\xab\\x18(\\xe5\\x1cY\\xf3\\xd4\\xee\\x07n\\xda\\x98'\n",
      "Length: 144\n",
      "Embedding Efficiency: 4.166666666666667\n",
      "==============\n",
      "556Do you know what Mallika Sherawat did yesterday? Find out now @  &lt;URL&gt;\n",
      "customizedTechniques-2\n",
      "Fq aqw mpqy yjcv Ocnnkmc Ujgtcycv fkf aguvgtfca? Hkpf qwv pqy @  &nv;WTN&iv;\n",
      "Length: 76\n",
      "customizedTechniques-3\n",
      "d>>>>m>s",
      ">>",
      "",
      "]>f>>>^>>DYurlDY\n",
      "Length: 76\n",
      "customizedTechniques-5\n",
      "Áp±ÁÇp½ÀÁÉpÉº³Æp³¾¾»½³p¥º·Ä³É³Æp¶»¶p±·ÅÆ·Ä¶³±p»À¶pÁÇÆpÀÁÉpppv¾Æ§¤v¹Æ\n",
      "Length: 76\n",
      "OpenSourceTechniques-6\n",
      "b'D\\x9c\\x02\\xc1\\xdb\\xa5\\xb6~\\x18\\xa9\\xf5\\x8dG\\x1a\\xed \\xea\\n\\x00)\\x90q\\x89\\x07\\xb0\\x87\\x82\\xe8\\xb9gPv\\xc9r3\\xba\\x1fq\\xd6\\xf7\\xab\\x90R\\x98\\x99\\x12\\xce\\xbb\\xc8\\xdcj\\x17N\\x95\\x0c\\xab\\x9c\\xe6-n\\xeb\\x15\\x16\\xc7\\x84e:\\x11;\\xa1;l\\x1f\\x85\\xe5l\\xae_G\\xd4\\t\\xc1\\xe5lh\\xc3\\xc98\\xbc\\x8d\"\\xaf&\\x8d\\xba\\xaf\\x8aaP\\xde;\\xf2v \\x01\\x16`H\\xeb\\x9f\\xc8u\\x87/\\xa8\\x9b\\xe5y\\x84\\xa0\\xb6\"Ox\\xb5|\\xda@\\x8e\\x19\\xd7*\\xdd\\xb78\\xd1Y\\xc5\\x15 \\x83o\\xd9?'\n",
      "Length: 144\n",
      "Embedding Efficiency: 4.222222222222222\n",
      "==============\n",
      "557Its not the same here. Still looking for a job. How much do Ta's earn there.\n",
      "customizedTechniques-2\n",
      "Kvu pqv vjg ucog jgtg. Uvknn nqqmkpi hqt c lqd. Jqy owej fq Vc'u gctp vjgtg.\n",
      "Length: 76\n",
      "customizedTechniques-3\n",
      "i>>",
      ">",
      ">",
      "",
      "L>s>>>>L>h>>>tE>",
      ">",
      "",
      "L\n",
      "Length: 76\n",
      "customizedTechniques-5\n",
      "ÆÅpÀÁÆpÆº·pÅ³¿·pº·Ä·~p¥Æ»¾¾p¾ÁÁ½»À¹p¸ÁÄp³p¼Á´~pÁÉp¿Çµºp¶Áp¦³wÅp·³ÄÀpÆº·Ä·~\n",
      "Length: 76\n",
      "OpenSourceTechniques-6\n",
      "b'5\\xd83\\x1d\\x81\\x0c\\xc6\\x83\\xcc\\x1bR\\x8bk\\x83\\xb58g\\xb3-\\xe0\\xab\\xd1\\xa0\\x1eV\\x19>\\x94\\x93\\xbe\\xe2\\x1d\\x12S,\\x83\\xacE\\x01\\xbfZ\\xabcI\\x17\\x00^U\\x95\\xcc\\xcaqpu!i\\xd9\\t \\xe8\\x15}\\x01\\x14\\x9e\\xdf\\x03\\x0eZ\\x9d\\xb74\\xbe\\xbez\\xe2\\xd4\\x95\\xbf\\x85YB\\x14\\x82v\\xce\\x9f+\\x01\\x15Y\\xe2\\xd2\\x8d\\xa6\\xd6\\xf5\\t\\xa0c\\xbe5\\xfbT\\xee\\xfbcRx\\xe7]\\xf3g\\x96\\x91\\xe1\\xe4j\\x91\\x04\\x91\\xa2\\xe2\\x14\\x19q)\\xb2q\\xbd5\\xc5\\x1a\\x18\\x7f\\xa6\\xde\\xc3F0e\\x92\\x98&'\n",
      "Length: 144\n",
      "Embedding Efficiency: 4.222222222222222\n",
      "==============\n",
      "558I'm still looking for a car to buy. And have not gone 4the driving test yet.\n",
      "customizedTechniques-2\n",
      "K'o uvknn nqqmkpi hqt c ect vq dwa. Cpf jcxg pqv iqpg 4vjg ftkxkpi vguv agv.\n",
      "Length: 76\n",
      "customizedTechniques-3\n",
      "iE>>>>>>>L>a>",
      ">>",
      ">R",
      ">>",
      ">",
      "L\n",
      "Length: 76\n",
      "customizedTechniques-5\n",
      "w¿pÅÆ»¾¾p¾ÁÁ½»À¹p¸ÁÄp³pµ³ÄpÆÁp´Ç±~pÀ¶pº³È·pÀÁÆp¹ÁÀ·pÆº·p¶Ä»È»À¹pÆ·ÅÆp±·Æ~\n",
      "Length: 76\n",
      "OpenSourceTechniques-6\n",
      "b\"\\x93\\x18&\\x0e\\x17\\xfa\\xa6\\xcd*\\xa3\\x15'\\x9b\\xe7\\xbe\\x15\\x14\\xdd\\x05\\xb7\\xbc\\xa6,\\xf3\\xfc\\x99\\x87\\x97\\x15\\xac\\xcak\\x1a\\x1b\\\\\\xe2\\xcd\\x95\\xdd\\xe2m|\\xcb*\\x19\\x1c%+`\\xab\\x92\\x8b\\xec\\x18B=\\x93\\x03F\\xd5\\xee-\\xbe\\xcd\\x13\\xc3\\xcf\\xca\\x05\\x92\\xf4z\\xf4\\xd9\\x8aq\\xaccP\\ny\\xd9\\xaah\\x04f\\x83\\x1d\\xe1xM\\xef\\x9e\\xcd\\xe5\\xc0s\\xa2\\x1c\\xbaH\\x0b\\x8aJl\\xde\\xfd\\x1dV\\xd2\\xc5\\xab\\xb6b\\xdf\\x93\\xd3\\x00\\xf39\\x9c\\xc1\\xd5OV\\x1f\\xe7\\xac9e4\\x8c\\x1b\\x0c\\x94?|\\xda\\xd9\\x8c\\x81\\xd3\\x8d\\xc7\"\n",
      "Length: 144\n",
      "Embedding Efficiency: 4.222222222222222\n",
      "==============\n",
      "559Maybe i could get book out tomo then return it immediately ..? Or something.\n",
      "customizedTechniques-2\n",
      "Ocadg k eqwnf igv dqqm qwv vqoq vjgp tgvwtp kv koogfkcvgna ..? Qt uqogvjkpi.\n",
      "Length: 76\n",
      "customizedTechniques-3\n",
      "m",
      ">>>",
      ">>>>",
      ">",
      ">>",
      "",
      ">LL]>o>",
      "L\n",
      "Length: 76\n",
      "customizedTechniques-5\n",
      "³±´·p»pµÁÇ¾¶p¹·Æp´ÁÁ½pÁÇÆpÆÁ¿ÁpÆº·ÀpÄ·ÆÇÄÀp»Æp»¿¿·¶»³Æ·¾±p~~p¡ÄpÅÁ¿·Æº»À¹~\n",
      "Length: 76\n",
      "OpenSourceTechniques-6\n"
     ]
    },
    {
     "name": "stdout",
     "output_type": "stream",
     "text": [
      "b\"i\\xb9I\\x1dw\\xca\\xfc\\x1aH\\xbb!K\\x1bT\\xf2\\xab\\x05\\xc2]\\xbd\\x07/\\x9a\\xa3\\x12\\xc5\\xbd\\xec|\\xee\\xa1\\x0b\\xbb\\x11\\xa8\\xf4\\xc4o\\xd2\\x96\\\\\\xb2n\\xf0\\x98,\\x95\\n\\x19\\xcd \\xf7\\x17\\xb2\\x90\\xae\\x0fJ\\xc4\\xd6\\xbf\\xa18\\x86*\\xa5\\x96\\x9a\\xaa\\x9d\\x89\\xab\\xbbw\\r\\xee\\xc8\\xc5\\xebx\\x1b'\\x87g\\x08t\\xb6m\\xdf\\xddq\\x95d\\x88\\x90\\xa6\\x85^\\xb9\\xde\\x13!\\xe6d\\x9f\\xaa\\x8cr7,\\xb1\\xe6K\\x84\\xd50%\\xc0\\xde\\x8e\\x9c1\\xc8)\\x13\\x0e\\x03]\\xf3\\xb9<\\xf5\\x16\\x83}\\xd9\\xd8\\x1f}_8\\x05\\xd0\\x15\"\n",
      "Length: 144\n",
      "Embedding Efficiency: 4.222222222222222\n",
      "==============\n",
      "560Hi hope u get this txt~journey hasnt been gd,now about 50 mins late I think.\n",
      "customizedTechniques-2\n",
      "Jk jqrg w igv vjku vzv~lqwtpga jcupv dggp if,pqy cdqwv 50 okpu ncvg K vjkpm.\n",
      "Length: 76\n",
      "customizedTechniques-3\n",
      "h>",
      ">>",
      ">>",
      ">>",
      "",
      ">J>>SN>>",
      ">i>L\n",
      "Length: 76\n",
      "customizedTechniques-5\n",
      "»pºÁÂ·pÇp¹·ÆpÆº»ÅpÆÊÆÎ¼ÁÇÄÀ·±pº³ÅÀÆp´··Àp¹¶|ÀÁÉp³´ÁÇÆp",
      "p¿»ÀÅp¾³Æ·ppÆº»À½~\n",
      "Length: 76\n",
      "OpenSourceTechniques-6\n",
      "b'\\xaa\\xbd3\\x18IP0\\xbe\\xc9\\xf8\\xf5;\\x88~\\xc8\\xa8\\xdf\\xe1\\x02TE\\x02,\\xce\\xae\\x175\\x9a\\x0f\\xf4Vt\\x94\\x99\\xb9w\\xf1W\\xa7L\\xfb\\x1f\\xe1zxA4E\\xa2\\x06\\x10\\xe8\"\\x06\\xd9\\xab\\xf6\\\\\\xc3\\xe1\\x1f\\xae\\xd8r\\x11j\\x16\\xc1ty\\x0ed\\xd5A\\xd8\\'\\x98\\x15\\xb9\\xf3T\\xaa\\x86\\xf3\\x8b\\x94\\x8e\\x8bd\\xda\\xe1\\xf2\\x98\\xd3\\ri\\xa7\\xd8)o\\xfeId\\xcd\\n\\x19\\x06Y\\x8e\\x9d\\xaa\\x0b\\xfem\\xf04{X\\x0f\\x9cwr\\xb1\\x19\\tb\\x8fL\\xb0\\xa6P\\xb9\\x84k\\xe2H3-\\xcd\\xf8\\xc2\\xd8\\x8bA'\n",
      "Length: 144\n",
      "Embedding Efficiency: 4.222222222222222\n",
      "==============\n",
      "561But am going to college pa. What to do. are else ill come there it self. Pa.\n",
      "customizedTechniques-2\n",
      "Dwv co iqkpi vq eqnngig rc. Yjcv vq fq. ctg gnug knn eqog vjgtg kv ugnh. Rc.\n",
      "Length: 76\n",
      "customizedTechniques-3\n",
      "b>>>>",
      "",
      ">L>w>>L>",
      ">",
      "",
      ">>",
      ">",
      "",
      ">>",
      "L>pL\n",
      "Length: 76\n",
      "customizedTechniques-5\n",
      "ÇÆp³¿p¹Á»À¹pÆÁpµÁ¾¾·¹·pÂ³~p©º³ÆpÆÁp¶Á~p³Ä·p·¾Å·p»¾¾pµÁ¿·pÆº·Ä·p»ÆpÅ·¾¸~p¢³~\n",
      "Length: 76\n",
      "OpenSourceTechniques-6\n",
      "b'\\x99\\xe1x/\\xae8:F\\x1el\\xf1\\xc4nC\\xa2\\x15\\xb8\\xea\\x85L\\xa8#\\x97<=}X\\x96\\t\\x7f\\x8a\\xd5\\xad\\xb7\\x15\\x04T)\\xee}\\xa8[\\xff\\x91\\xed\\x83!\\xc8i&\\x07\\xdd\\xc3\\x1c\\xb4\\n\\x1b\\xfe\\xfe\\xeb\\\\\\xe5{\\xce\\x9a+.!\\xde\\x19\\x82\\xe6\\x80\\xb9k\\x8c9\\x15q\\xcd[}\\x9c\\xafe\\r\\xacd\\xae\\xb6s\\x16\\xd5Pc\\xa9\\xf7\\xd3g\\\\}\\xb5-g\\x12\\x98\\xc9\\xe0\\xc7}\\xc9\\xec\\xf3\\xbc\\x93s\\xb9/P:\\xcb\\x8f\\xec\\xc5$\\x0f\\x03\\xc3\\x83yReIK\\x021\\xb4\\x1f}2|\\xe0\\x9e\\xb3'\n",
      "Length: 144\n",
      "Embedding Efficiency: 4.222222222222222\n",
      "==============\n",
      "562My sister in law, hope you are having a great month. Just saying hey. Abiola\n",
      "customizedTechniques-2\n",
      "Oa ukuvgt kp ncy, jqrg aqw ctg jcxkpi c itgcv oqpvj. Lwuv ucakpi jga. Cdkqnc\n",
      "Length: 76\n",
      "customizedTechniques-3\n",
      "m>",
      ">>J>",
      ">>",
      ">>>",
      ">L>j>>",
      "L>a\n",
      "Length: 76\n",
      "customizedTechniques-5\n",
      "±pÅ»ÅÆ·Äp»Àp¾³É|pºÁÂ·p±ÁÇp³Ä·pº³È»À¹p³p¹Ä·³Æp¿ÁÀÆº~pÇÅÆpÅ³±»À¹pº·±~p´»Á¾³\n",
      "Length: 76\n",
      "OpenSourceTechniques-6\n",
      "b'z\\xc8f[\\x1c\\xb7\\\\, \\xbfw\\\\zL\\xcd\\xfd1\\t\\xcdJ\\'\\xb9\\xf3F\\xe3\\x01%Vb7\\x06\\xef\\xa9\\x9b##\\x04\\xed\\xbb9\\xdb\\x94 D\\xe0\\xe3\\xd7<l\"\\xcb\\x92\\x03\\xe9\\x88\\x829O\\xa1\\xd2\\xd6\\x0e\\x04\\xd8|q\\x9f\\x91\\x18f\\xb2\\x89E\\xf6\\xf7\\x03\\x85Wo\\x10\\x11L \\x16\\xf9E\\x9aN\\xd0?s\\xdd3z\\x9dE,z\\xb7:\\xceY\\xd2d\\xb3N!\\x91\\xf3\\xd1\\xe5\\xc8\\x9a6\\x00Y\\xf13\\\\R\\xae\\xf0\\x7f\\x05\\xa5\\x0eA\\xda\\xc3\\xfc\\x8d\\xd2\\xdbnH\\xb8\\xb7\\xbe\\x8bo\\x0co&\\xb6'\n",
      "Length: 144\n",
      "Embedding Efficiency: 4.222222222222222\n",
      "==============\n",
      "563I don't think I can get away for a trek that long with family in town, sorry\n",
      "customizedTechniques-2\n",
      "K fqp'v vjkpm K ecp igv cyca hqt c vtgm vjcv nqpi ykvj hcokna kp vqyp, uqtta\n",
      "Length: 76\n",
      "customizedTechniques-3\n",
      "i>E>>i>>",
      ">>>>",
      ">>>>>>J>\n",
      "Length: 76\n",
      "customizedTechniques-5\n",
      "p¶ÁÀwÆpÆº»À½ppµ³Àp¹·Æp³É³±p¸ÁÄp³pÆÄ·½pÆº³Æp¾ÁÀ¹pÉ»Æºp¸³¿»¾±p»ÀpÆÁÉÀ|pÅÁÄÄ±\n",
      "Length: 76\n",
      "OpenSourceTechniques-6\n",
      "b'\\xb6T\\x16\\x9bf\\x13\\x9dt(\\x9b\\xbb*\\xf4\\xb5\\xa0p\\xec$\\'>:d\\x1e\\x1a\\xdd\\xa2\\x00F\\x8b\\n\\xac\\xb3x`\\xdf!y\\x88=\\x1b\\xd9\\xd6\\x8a\\xe9\\xeb\\xeb\\x08\\xd1I\\x08c\\xaa0\\xf9\\xd4\\x02\\xb6\\x8d\\xe8o\\xa3|Wz\\x98\\xa1\\x0c\\xc3\\xaf\\xe0\\xeb\\x82\\x18}\\x94\\xa9\\xb0\\xc9\\x95V\\xc1\\x92\\x97\\xaf\\xe1\\xd6\\xecs\\xd7s\\xe2l|I\\xd7\\x946x<@\\x820\\xe1\\xb9\\xd9\\xa3FC\\xb0\\\\x%O\\x83\\xc3\\xf4\\x06c\"\\xe8\\xdd\\xa5>\\xe2\\xbbI\\xa5\\xcc\\xad\\x125\\xbc8\\xa7\\xa5\\xa7\\x89\\xa0\\xf1^\\xe4\\x0bL\\x99'\n",
      "Length: 144\n",
      "Embedding Efficiency: 4.222222222222222\n",
      "==============\n",
      "564Our Prashanthettan's mother passed away last night. pray for her and family.\n",
      "customizedTechniques-2\n",
      "Qwt Rtcujcpvjgvvcp'u oqvjgt rcuugf cyca ncuv pkijv. rtca hqt jgt cpf hcokna.\n",
      "Length: 76\n",
      "customizedTechniques-3\n",
      "o>p",
      "E>",
      ">",
      ">>>L>>>",
      ">>L\n",
      "Length: 76\n",
      "customizedTechniques-5\n",
      "¡ÇÄp¢Ä³Åº³ÀÆº·ÆÆ³ÀwÅp¿ÁÆº·ÄpÂ³ÅÅ·¶p³É³±p¾³ÅÆpÀ»¹ºÆ~pÂÄ³±p¸ÁÄpº·Äp³À¶p¸³¿»¾±~\n",
      "Length: 76\n",
      "OpenSourceTechniques-6\n",
      "b'\\xfce.!g5\\xc6-R\\x86\\x95\\xc9X\\x89\\x94\\xf5\\xe4[\\x9edBH8\\xb8\\x10\\x9e\\x87\\x8c\\x94D\\xe3!WH\\xe7\\xc4\\xe1\\x16w\\x19\\x162\\x86[3\\xbb/\\xb1\\xd34`\\xce\\xa7G\\xe5\\xd6=lI\\xee\\xae\\xfb\\xeb\\x9a\\xe18.\\x8bw\\xf9\\x9b\\x80\\xf6\\xfb\\xb1\\xfa\\xfb\\xcc\\xde\\xf2F\\x89\\x966\\x07}\\xd3\\x13l\\x06\\x17\\xfd\\x80\\xf21\\xd7r\\x9d\\xe0\\xc7]\\x8f+\\x9cO\\xe0\\xb7CS\\x8c\\x01Mq\\x07\\x96_g\\xbd\\xcd7\\x99\\x92\\x87,\\xea\\x97\\rW\\x7f\\x02kt\\xe3\\x87\\x9d\\xf8/\"\\x926\\xa0\\x8b[n'\n",
      "Length: 144\n",
      "Embedding Efficiency: 4.222222222222222\n",
      "==============\n",
      "565Even my brother is not like to speak with me. They treat me like aids patent.\n",
      "customizedTechniques-2\n",
      "Gxgp oa dtqvjgt ku pqv nkmg vq urgcm ykvj og. Vjga vtgcv og nkmg ckfu rcvgpv.\n",
      "Length: 77\n",
      "customizedTechniques-3\n",
      "e",
      ">>",
      ">>>",
      ">>",
      ">>",
      "L>t",
      ">",
      ">",
      ">",
      ">>",
      "L\n",
      "Length: 77\n",
      "customizedTechniques-5\n",
      "È·Àp¿±p´ÄÁÆº·Äp»ÅpÀÁÆp¾»½·pÆÁpÅÂ·³½pÉ»Æºp¿·~p¦º·±pÆÄ·³Æp¿·p¾»½·p³»¶ÅpÂ³Æ·ÀÆ~\n",
      "Length: 77\n",
      "OpenSourceTechniques-6\n",
      "b\"\\x0c/\\xfe\\xb4\\xe6a\\x7f\\xd2\\xda\\x13\\xb9j\\xcf\\xc1\\x82I\\xaf\\xfe\\xd3\\x80\\xcd\\xdd\\x84\\xffMfA\\xcc\\x99\\x1c\\x99%o\\xe4\\xba\\x12lS<R\\xeb\\x84J\\xf8\\xeb+\\x11\\xc9.BQ\\xa2m\\x88hgavw('\\xc7\\xae\\xf6\\x033\\x7f3\\x87\\x14P]K\\xff\\xac\\xe6\\x85\\xf6\\xd8\\xf8\\xc0\\x98$8\\xce\\xc9\\x1aft~\\xfd\\x84\\xcc\\x05e\\xb3e\\x16\\xe0'\\xdaE5\\xbd]F\\x81\\xf4\\x0e\\xbb\\xd0>\\xddPLqn\\xfa\\xee\\x05\\xd5\\x11\\x049!\\x7f\\x17\\x0f\\x86\\xbdg\\xe2t'\\xf2\\x85NW\\x94\\x81.\\xd6@\\xf2\"\n",
      "Length: 144\n",
      "Embedding Efficiency: 4.277777777777778\n",
      "==============\n",
      "566Yep, the great loxahatchee xmas tree burning of  &lt;#&gt;  starts in an hour\n",
      "customizedTechniques-2\n",
      "Agr, vjg itgcv nqzcjcvejgg zocu vtgg dwtpkpi qh  &nv;#&iv;  uvctvu kp cp jqwt\n",
      "Length: 77\n",
      "customizedTechniques-3\n",
      "_",
      "J>",
      ">",
      ">",
      "",
      ">>",
      "",
      ">>>>DYADY>>>>>\n",
      "Length: 77\n",
      "customizedTechniques-5\n",
      "·Â|pÆº·p¹Ä·³Æp¾ÁÊ³º³Æµº··pÊ¿³ÅpÆÄ··p´ÇÄÀ»À¹pÁ¸ppv¾Æsv¹ÆppÅÆ³ÄÆÅp»Àp³ÀpºÁÇÄ\n",
      "Length: 77\n",
      "OpenSourceTechniques-6\n",
      "b\"\\x08\\xe2N\\xca\\xb8\\x91\\xad\\x9bkZ\\x16\\x9d2\\xc2&\\xbf\\xac0(\\xbcK\\xf1\\xcc\\x1cn\\xb2\\xccUo\\xa7J\\x1a'o\\xe5\\x83\\x0b\\xe3\\xe7\\xc0Z\\x8f8\\x80\\xee\\xcaa5\\x11\\tP\\xbfA\\xdbNYc\\xa2qspA`\\xab@\\xc2v\\xa3=\\x91\\xb0t;0\\xd3B\\xc2K\\x08U\\x83Pdg\\x19\\xbdP\\xf9@\\xe0\\xe4\\x9d=\\x9d4\\xa06Y\\xda:\\x1bf\\xfc0\\xd7}\\xa5\\xdb\\xe09\\xc3yw\\xb5:\\x9e=\\x1d\\xaa\\xfd\\x1e\\xe8G\\x15\\xc6R\\x95\\xba\\xbe8\\x93\\x82\\x86\\\\\\xebG\\xff\\xe8~A&\\x87\\xb7M\"\n",
      "Length: 144\n",
      "Embedding Efficiency: 4.277777777777778\n",
      "==============\n",
      "567What is important is that you prevent dehydration by giving her enough fluids\n",
      "customizedTechniques-2\n",
      "Yjcv ku korqtvcpv ku vjcv aqw rtgxgpv fgjaftcvkqp da ikxkpi jgt gpqwij hnwkfu\n",
      "Length: 77\n",
      "customizedTechniques-3\n",
      "w>>>>>>",
      "",
      ">",
      ">>>",
      ">",
      ">\n",
      "Length: 77\n",
      "customizedTechniques-5\n",
      "©º³Æp»Åp»¿ÂÁÄÆ³ÀÆp»ÅpÆº³Æp±ÁÇpÂÄ·È·ÀÆp¶·º±¶Ä³Æ»ÁÀp´±p¹»È»À¹pº·Äp·ÀÁÇ¹ºp¸¾Ç»¶Å\n",
      "Length: 77\n",
      "OpenSourceTechniques-6\n",
      "b\"7\\x81U\\xcdv\\xa8\\x8b!\\x85\\x1a\\xc9\\x90\\x08\\x13\\\\\\x96\\xa3,\\x8f\\xafn\\xf9,\\x9b\\x9a&\\x130\\xbd\\xa5]\\x90t\\xa0\\xf4\\xdf'\\xfe\\xf6\\xd9\\x88\\xf7~;\\x0f\\x1d\\x86\\x0b\\xbc\\xa2\\x1e\\x91\\xb1\\xfbp\\xadn\\xb3\\xdd#\\x92\\x9e\\x99N<\\xe0c\\xe5+=|wr\\xdacH\\xc45ba\\xbb\\xf9}Y\\r\\n\\xca0\\xc8\\xb3j\\n\\xa5],\\x9d\\x92\\xfexE\\xa1\\x0c\\xc9%\\xfa\\xfd\\xa8\\xf12\\xfa\\n\\x8c\\x10\\xe9#\\x1dqtk\\x92T\\xb8N\\x04\\x08cf\\xe0\\xad\\xbbvRAq\\xa5\\x95\\x1b\\xe5d\\xd0_\\xc8HL\"\n",
      "Length: 144\n",
      "Embedding Efficiency: 4.277777777777778\n",
      "==============\n",
      "568Ugh its been a long day. I'm exhausted. Just want to cuddle up and take a nap\n",
      "customizedTechniques-2\n",
      "Wij kvu dggp c nqpi fca. K'o gzjcwuvgf. Lwuv ycpv vq ewffng wr cpf vcmg c pcr\n",
      "Length: 77\n",
      "customizedTechniques-3\n",
      "u>>",
      "",
      ">>>L>iE>",
      "",
      "L>j>>>",
      ">>>",
      ">>\n",
      "Length: 77\n",
      "customizedTechniques-5\n",
      "§¹ºp»ÆÅp´··Àp³p¾ÁÀ¹p¶³±~pw¿p·Êº³ÇÅÆ·¶~pÇÅÆpÉ³ÀÆpÆÁpµÇ¶¶¾·pÇÂp³À¶pÆ³½·p³pÀ³Â\n",
      "Length: 77\n",
      "OpenSourceTechniques-6\n",
      "b\"\\xbf\\x15]\\xeaK\\xa0\\x03\\xdbL\\x802\\xd4\\xd9\\xc18q\\xea\\xc1(\\x87\\xcd\\xde\\x10\\xb7d\\xaf\\n\\xa2mW\\xffI\\xaa\\xcaS\\x14\\xaeO\\xf1\\xd3\\xf38\\xa7BE\\xf4\\xb0\\xd0\\xf5$f.k\\x00\\x94.\\xd72\\x81\\xd8\\x1ci\\x10\\x9b\\xa1\\xa6\\xdc\\xf7+l\\xb1\\xaf\\x12{\\xb1\\xc58\\r\\xf6{\\xa8\\xe5\\x89\\x94\\xf2\\x9f[S\\xdb\\xe6\\x85U\\x88:\\x07\\x8do(e\\xb9\\x07\\x15J\\xf0\\x04:\\n\\x80\\xae\\x9c\\x16'\\xa4\\x90wRg\\xcf\\xd5`\\x81\\x0e\\xcf\\xbc\\x84K\\x9e\\xd1]\\xd4!6\\x03\\x9cW\\x80\\xbf\\xf9x\\x87\\xe5UN\\x85\"\n",
      "Length: 144\n",
      "Embedding Efficiency: 4.277777777777778\n",
      "==============\n",
      "569I wonder if your phone battery went dead ? I had to tell you, I love you babe\n",
      "customizedTechniques-2\n",
      "K yqpfgt kh aqwt rjqpg dcvvgta ygpv fgcf ? K jcf vq vgnn aqw, K nqxg aqw dcdg\n",
      "Length: 77\n",
      "customizedTechniques-3\n",
      "i>",
      ">>>",
      ">",
      ">",
      ">",
      ">]>i>>>",
      ">J>i>",
      ">>",
      "\n",
      "Length: 77\n",
      "customizedTechniques-5\n",
      "pÉÁÀ¶·Äp»¸p±ÁÇÄpÂºÁÀ·p´³ÆÆ·Ä±pÉ·ÀÆp¶·³¶pppº³¶pÆÁpÆ·¾¾p±ÁÇ|pp¾ÁÈ·p±ÁÇp´³´·\n",
      "Length: 77\n",
      "OpenSourceTechniques-6\n",
      "b'\\xf6\\xfb\\xa8,\\xc2\\xc1\\x1f\\x06\\xdceQ\\xeb\\xc9\\xe2\\x86Z\\x1a\\x1f\\x03\\x99\\x07\\xd5+\\xf2b\\x85\\x86\\xa9)\\xddw\\xe9U\\xcd\\x1e\\x046\\x8a\\xeb\\xf8\\xcfeK\\xfe\\xb1y&>\\xac\\x1cAx\\xd4.\\x9a\\xb5\\xd8\\x94\\xa9\\x94+\\xde@\\x02\\xcd\\xfe0\"G#BC\\xb8\\xdbM\\xe2h\\xa7d\\xd6On\\xe9\\x83\\x9ch\\xef\\xabfJ\\x11\\xb6\\x1b\\xd4\\x7f\\xdd\\xa9\\xc1c\\xb5\\x9f\\x1b\\x1f\\xe3?\\x8b:\\xabq\\xfb\"v6\\xca\\x91:\\x8f\\x05\\xb8\\xd1\\xd7\\xc5\\xbc(\\xaf\\x9c\\xb8\\xc2 )\\xed\\xf7!\\xed\\xdb\\xae\\xe0\\xca\\xccX\\x13;\\xc1\\xdf'\n",
      "Length: 144\n",
      "Embedding Efficiency: 4.277777777777778\n",
      "==============\n",
      "570What time you think you'll have it? Need to know when I should be near campus\n",
      "customizedTechniques-2\n",
      "Yjcv vkog aqw vjkpm aqw'nn jcxg kv? Pggf vq mpqy yjgp K ujqwnf dg pgct ecorwu\n",
      "Length: 77\n",
      "customizedTechniques-3\n",
      "w>",
      ">>>E>",
      ">]>n",
      "",
      ">>>",
      ">i>>",
      ">",
      ">\n",
      "Length: 77\n",
      "customizedTechniques-5\n",
      "©º³ÆpÆ»¿·p±ÁÇpÆº»À½p±ÁÇw¾¾pº³È·p»Æp ··¶pÆÁp½ÀÁÉpÉº·ÀppÅºÁÇ¾¶p´·pÀ·³Äpµ³¿ÂÇÅ\n",
      "Length: 77\n",
      "OpenSourceTechniques-6\n",
      "b'\\xcf\\x966\\xab\\x95\\xa7V\\x0b\\x02\\x05\\xb2\\x87\\\\\\xd3\\x10\\xe9\\x8d\\x8a\\x93\\xe0\\xa1\\xe1k`\\xea\\x86H_Ot\\xc3_\\xba\\x0c\\xba\\xbd\\r\\xd2\\xfc\\x91\\xff\\xdf\\x0e\\xa9\\x80Z\\n\\x13\\xe1\\xeb\\xe5\\xee\\x98\\xc1\\xee\\xca\\x86E\\xe9\\x10\\xd5]\\xe0\\x1e\\xa8\\x92\\x1e\\xb5%x\\xa6\\xda\\x0b\\xca#X\\x88Wf\\xec\\x01|vc\\x90\\xf2\\x95\\xf8\\x84\\xbd\\xdd\\xc1\\x8af$el\\x8a\\x17\\x00\\x92\\x15{\\xf1\\xf2e\\xc3\\xaf&\\xc2-\\xfd{j\\xf8L\\x91,\\x98\\xb5\",\\x92\\xd7\"W\\x7f\\x85\\x03\\xbf\\xe9\\x91\\xe64I\\xddp\\x8bi\\xed\\xb2\\xee@\\xfe'\n",
      "Length: 144\n",
      "Embedding Efficiency: 4.277777777777778\n",
      "==============\n",
      "571Too late. I said i have the website. I didn't i have or dont have the slippers\n",
      "customizedTechniques-2\n",
      "Vqq ncvg. K uckf k jcxg vjg ygdukvg. K fkfp'v k jcxg qt fqpv jcxg vjg unkrrgtu\n",
      "Length: 78\n",
      "customizedTechniques-3\n",
      "t>",
      "L>i>>>",
      ">",
      ">",
      "",
      "L>i>E>>",
      ">>>",
      ">",
      ">",
      "\n",
      "Length: 78\n",
      "customizedTechniques-5\n",
      "¦ÁÁp¾³Æ·~ppÅ³»¶p»pº³È·pÆº·pÉ·´Å»Æ·~pp¶»¶ÀwÆp»pº³È·pÁÄp¶ÁÀÆpº³È·pÆº·pÅ¾»ÂÂ·ÄÅ\n",
      "Length: 78\n",
      "OpenSourceTechniques-6\n",
      "b'\\xf6\\x1bB\\xc6k\\xc5>\\xcf\\x98P\\'x\\xf87\\xdf\\x9e\\x90\\xed\\x07\\x8aF\\xbe@w+K\\x0bc\\x83L\\x82\\xa6(\\xcd0\\xc4r\\x9b\\xf27)\\x07\\xea\\xae\\xeaGpn\\xba\\x82\\xa3G|~\\xc3Uc1\\x06\\x9e\\n\\x0cP\\x0f\\x95\\x90\\xd4\\x88]\\x89}\\xf3\\x8d\\xac\\xc5\\xa8\\xe2\\x0c\\xa4\\xcd\\x89\\xb6\\xcd\\x0e!\\x02\\xfcI\\xdf\\x8e5\".\\xbfz1\\xe4\\x15\\xabq;\\x98b\\xa2\\xe3\\xbb<2\\xabH\\xe9\\'XI\\xfer\\x1e\\xc5\\x15\\xbb\\xaf\\xe7\\xac\\xdf\\xcf\\x7f\\x85&\\xb5\\x151\\x95\\xa8\\xc0\\xa3p\\xe5.\\x9f\\x81\\x85\\x8d\\xe5n'\n",
      "Length: 144\n",
      "Embedding Efficiency: 4.333333333333333\n",
      "==============\n",
      "572Just checking in on you. Really do miss seeing Jeremiah. Do have a great month\n",
      "customizedTechniques-2\n",
      "Lwuv ejgemkpi kp qp aqw. Tgcnna fq okuu uggkpi Lgtgokcj. Fq jcxg c itgcv oqpvj\n",
      "Length: 78\n",
      "customizedTechniques-3\n",
      "j>",
      ">>>L>r",
      ">>>",
      "",
      ">j",
      "",
      "L>d>",
      ">>",
      ">\n",
      "Length: 78\n",
      "customizedTechniques-5\n",
      "ÇÅÆpµº·µ½»À¹p»ÀpÁÀp±ÁÇ~p¤·³¾¾±p¶Áp¿»ÅÅpÅ··»À¹p·Ä·¿»³º~pÁpº³È·p³p¹Ä·³Æp¿ÁÀÆº\n",
      "Length: 78\n",
      "OpenSourceTechniques-6\n",
      "b'o0\\x1c2\\x0e\\xe0\\xba\\x03\\xc4|O^\\xf2Z-s\\x97\\x83G\\x02\\xb9\\xd4\\x1c3\\x93Z8cv\\xca\\xd984RH\\x8a\\xd6\"0\\xcb\\xf5e\\x03\\xa15*rS\\xd9p\\xacuE\\x93f\\xe5\\xed\\xab\\xb4\\xf7Et\\xa9\\xe4enM\\xb3jIu\\xad`\\xee\\x1f\\x17\\xcc\\x8a\\xb8\\xaa+\\x1d\\x85\\x95\\x0e\\xb6\\xe5\\xca\\xd1\\t[2CVk?%?}\\xff0\\xc7V\\xdaN9\\xdd\\x91[\\x1ffZ\\xb5\\x19\\xb2$\\x07H\\x13\\xb4\\x01\\xf4\\r\\x1e*>\\xd0\\xe7\\x98\\xc5\\x04\\xabB&\\xfd\\x18d\\xbf\\x97\\x92\\x18\\x05\\xb1u'\n",
      "Length: 144\n",
      "Embedding Efficiency: 4.333333333333333\n",
      "==============\n",
      "573meet you in corporation st outside gap ‰Û_ you can see how my mind is working!\n",
      "customizedTechniques-2\n",
      "oggv aqw kp eqtrqtcvkqp uv qwvukfg icr ‰A_ aqw ecp ugg jqy oa okpf ku yqtmkpi!\n",
      "Length: 78\n",
      "customizedTechniques-3\n",
      "",
      "",
      ">>>>>",
      ">>⁎_}>>>",
      "",
      ">>>>>?\n",
      "Length: 78\n",
      "customizedTechniques-5\n",
      "¿··Æp±ÁÇp»ÀpµÁÄÂÁÄ³Æ»ÁÀpÅÆpÁÇÆÅ»¶·p¹³Âp₀¯p±ÁÇpµ³ÀpÅ··pºÁÉp¿±p¿»À¶p»ÅpÉÁÄ½»À¹q\n",
      "Length: 78\n",
      "OpenSourceTechniques-6\n",
      "b\"\\x8a\\xae\\xa3\\x9di+\\xa0{Z\\x1f\\xc4\\x8d\\xcd\\x13\\x8cr\\x08f\\xfa\\xb2-\\tY\\xe9\\x03u\\x1c\\xec\\x87\\x10*\\xded\\xcb\\xc6\\x02\\xa0L\\xc1B\\xd8\\x10\\xf6\\xfc}\\x9b\\x8c\\xa2sm^\\x17\\xc4+E\\x11\\xff-H\\x97\\xff\\xbb=Tr\\x86\\xcc\\x0f\\xeb\\xa5\\xc3sW\\x8a\\xbeg\\xa1\\xbd\\xbd.\\xa1\\x02(\\xd8r\\xfb\\xc8\\xd0l}M\\xbd\\xef\\x9ck\\xb6a\\x1dC\\x19@\\xecuI^\\x88V\\xc2\\xa8\\xed>\\r\\x91\\x96e\\x85\\xbc\\xf9\\xeb\\xf7'p#\\xb0aj\\xf2\\xd1\\xe9uj\\xf2\\x91I\\x04\\x9c\\x14\\xb3i\\xfb\\x99b\\x9b#\"\n",
      "Length: 144\n",
      "Embedding Efficiency: 4.375\n",
      "==============\n",
      "574I love to give massages. I use lots of baby oil... What is your fave position?\n",
      "customizedTechniques-2\n",
      "K nqxg vq ikxg ocuucigu. K wug nqvu qh dcda qkn... Yjcv ku aqwt hcxg rqukvkqp?\n",
      "Length: 78\n",
      "customizedTechniques-3\n",
      "i>",
      ">>",
      ">",
      "L>i>",
      ">>>>LLL>w>>>",
      ">]\n",
      "Length: 78\n",
      "customizedTechniques-5\n",
      "p¾ÁÈ·pÆÁp¹»È·p¿³ÅÅ³¹·Å~ppÇÅ·p¾ÁÆÅpÁ¸p´³´±pÁ»¾~~~p©º³Æp»Åp±ÁÇÄp¸³È·pÂÁÅ»Æ»ÁÀ\n",
      "Length: 78\n",
      "OpenSourceTechniques-6\n",
      "b'\\x86\\xc6\\xed\\xa2\\x9d:U\\xfa u\\xc2\\xa1\\xf3bc\\x9d)4\\'\\xbd\\x98\\xe3]\\xaeP:=~:\\x12\\xfbJ{\\x1c\\xd1\\x98(\\x12/\\x86|J\\xc7\\x1fLM/\\x9bh6O\\xd5\\xb8\\x93\\xcd\\x1c\\xf6U\\xdeRr\\t\\xed\\xb1\\x96\\x95\\xa5\\x18\\xe6]~\\x9aL\\xcd\\xa1\\x9e\\x8f\\x87Ph\\x98t\\xb1a\\xd9\\x02\\x04\\xbe\\xd6\\x19\\xddK#`\\xe0\\xb5\\xaf@\\xe2\\xa4x\\xa5\\xc7\\xa5\\x9d\\xb1\\xba\\x05q\\x90:\\x07\\x04\\x84\\xe3\\x97\"<\\x0c\\xb8\\x0b+\\xeb\\x9bK\\xeclG\\x14\\xa9Bn\\x97\\x8dn\\xc2\\x94\\xf2\\xd7t{\\xec \\xce'\n",
      "Length: 144\n",
      "Embedding Efficiency: 4.333333333333333\n",
      "==============\n",
      "575Theyre doing it to lots of places. Only hospitals and medical places are safe.\n",
      "customizedTechniques-2\n",
      "Vjgatg fqkpi kv vq nqvu qh rncegu. Qpna jqurkvcnu cpf ogfkecn rncegu ctg uchg.\n",
      "Length: 78\n",
      "customizedTechniques-3\n",
      "t",
      "",
      ">>>>>>",
      "L>o>>>",
      ">",
      ">",
      ">",
      "L\n",
      "Length: 78\n",
      "customizedTechniques-5\n",
      "¦º·±Ä·p¶Á»À¹p»ÆpÆÁp¾ÁÆÅpÁ¸pÂ¾³µ·Å~p¡À¾±pºÁÅÂ»Æ³¾Åp³À¶p¿·¶»µ³¾pÂ¾³µ·Åp³Ä·pÅ³¸·~\n",
      "Length: 78\n",
      "OpenSourceTechniques-6\n",
      "b\"O#(\\x7f\\x87?\\x07\\xab\\x8e\\xc4\\xb7\\xa3\\xf2\\x06B\\xe7W\\x03=\\xd9\\x88\\x8d~j\\xc3\\xb48z\\xdbj\\xba\\x02h}\\xaa#\\xd2(\\x92\\x1c\\xfd4\\x97\\x11\\x1f\\xd1\\xae\\xb6{\\x7fzG\\x87j\\xd8\\xcf\\xb5.\\xfa\\xa6\\x7f\\xc1\\x0e\\xdd\\xcf\\x96\\xa7{\\xf2\\x88+\\xca\\xd1\\x9c:\\x7f\\x01LEB\\x7f\\x9dZ\\x9a\\xc6\\xaa%:\\x16\\xe9\\x93\\xc6\\xeb\\t\\x91w\\xbeA+Rk\\t\\xa0p@\\x13\\xc1\\x8bq\\xbbu\\xe6\\x05T\\x82\\x8d\\xfc._\\x8aP\\xaa\\xf19\\xd3\\xa8w'~\\xddD\\x00\\xaa\\xe2\\xe9?\\xc8\\xeb=TK\\x87d\\x9b\"\n",
      "Length: 144\n",
      "Embedding Efficiency: 4.333333333333333\n",
      "==============\n",
      "576I'd say that's a good sign but, well, you know my track record at reading women\n",
      "customizedTechniques-2\n",
      "K'f uca vjcv'u c iqqf ukip dwv, ygnn, aqw mpqy oa vtcem tgeqtf cv tgcfkpi yqogp\n",
      "Length: 79\n",
      "customizedTechniques-3\n",
      "iE>>E>>>>J>",
      "J>>>>>",
      ">>",
      ">",
      "\n",
      "Length: 79\n",
      "customizedTechniques-5\n",
      "w¶pÅ³±pÆº³ÆwÅp³p¹ÁÁ¶pÅ»¹Àp´ÇÆ|pÉ·¾¾|p±ÁÇp½ÀÁÉp¿±pÆÄ³µ½pÄ·µÁÄ¶p³ÆpÄ·³¶»À¹pÉÁ¿·À\n",
      "Length: 79\n",
      "OpenSourceTechniques-6\n",
      "b\"\\x82j\\xef*\\xe8\\xb0:'\\xae\\xa0\\xc647Sy\\xfa\\xba\\xe0\\xb8\\xcf\\xc8\\xa6\\xf3\\xd4Mn\\xbdQ\\xe7\\xeb1F\\x9b}\\xbc\\x0f\\xa7\\xa5A>\\x83!\\x94\\xe3L\\xba\\xbaJ\\x82\\xc75}\\xef\\xb2\\xaca\\x1e\\xdd\\x03\\xf2\\x14\\x02\\x9d\\x0f\\x11}\\xb4\\x82\\xc0\\xa1\\xd7\\xf8\\xb0%L<\\x80 \\xbc\\xf5\\xb5\\xc6\\x94\\x10E\\x1a+\\x18\\xad\\xc7\\xb9%S\\xef\\xd00L^\\x9df\\x9f\\x7f=\\x0f\\x936\\xdbc\\xb6\\xc3a\\x11\\xa8\\n'\\xc0P\\x07\\xba\\xe88\\xb5V3\\xbf6\\xb3\\xf9\\xfd\\xa0v\\xb1^\\x81)\\xb6z\\x0c\\xda\\xae\\x7fK\\xbe\\xa7\"\n",
      "Length: 144\n",
      "Embedding Efficiency: 4.388888888888889\n",
      "==============\n",
      "5771.20 that call cost. Which i guess isnt bad. Miss ya, need ya, want ya, love ya\n",
      "customizedTechniques-2\n",
      "1.20 vjcv ecnn equv. Yjkej k iwguu kupv dcf. Okuu ac, pggf ac, ycpv ac, nqxg ac\n",
      "Length: 79\n",
      "customizedTechniques-3\n",
      "OLPN>>>L>w>>",
      ">>L>m>J>",
      "",
      ">J>>J>",
      ">\n",
      "Length: 79\n",
      "customizedTechniques-5\n",
      "~pÆº³Æpµ³¾¾pµÁÅÆ~p©º»µºp»p¹Ç·ÅÅp»ÅÀÆp´³¶~p»ÅÅp±³|pÀ··¶p±³|pÉ³ÀÆp±³|p¾ÁÈ·p±³\n",
      "Length: 79\n",
      "OpenSourceTechniques-6\n",
      "b\"\\xb7{j\\xf7V\\xcf\\xcbj\\x98B\\xb8b\\xb5n\\xf6'\\x1e\\x80\\x9b\\xfb\\xa8y\\xc6;\\x82Y\\xda\\x80iH\\x15\\xa80\\x92`\\xbb\\x8e\\xfe\\x85\\xf7\\x0bl\\xf0\\xdd\\xc7\\xc8\\x04\\xc7O\\xf4\\xd6\\xecbCG{\\x9aP\\xf0\\xfe\\xa9M&\\xff\\xd6g\\xc1\\xec\\xd8LI\\x9a\\xa1l\\xb2;\\x1c\\xd2\\xc9g\\xa5\\xf9\\x01H\\x95F\\xb9A\\x82\\x87\\x9cG\\x88\\xf2?ll\\x9f\\xd2\\x03\\xbfO\\x9b\\xe1\\xe2\\x077r\\xc9\\xfa\\xab\\x8c\\x8dt\\xfa\\xd7\\\\\\r\\xf9\\x10\\xa8\\x1a\\x86\\x90\\xd6O\\xeb\\\\\\x05v\\x92\\x81\\xf8\\xc4\\xc7\\xe8\\xbf/\\xd3\\xc14f8V\"\n",
      "Length: 144\n",
      "Embedding Efficiency: 4.388888888888889\n",
      "==============\n",
      "578Yoyyooo u know how to change permissions for a drive in mac. My usb flash drive\n",
      "customizedTechniques-2\n",
      "Aqaaqqq w mpqy jqy vq ejcpig rgtokuukqpu hqt c ftkxg kp oce. Oa wud hncuj ftkxg\n",
      "Length: 79\n",
      "customizedTechniques-3\n",
      "_>>>>>",
      ">",
      ">>>",
      ">>L>m>>>",
      "\n",
      "Length: 79\n",
      "customizedTechniques-5\n",
      "Á±±ÁÁÁpÇp½ÀÁÉpºÁÉpÆÁpµº³À¹·pÂ·Ä¿»ÅÅ»ÁÀÅp¸ÁÄp³p¶Ä»È·p»Àp¿³µ~p±pÇÅ´p¸¾³Åºp¶Ä»È·\n",
      "Length: 79\n",
      "OpenSourceTechniques-6\n",
      "b\"\\xee\\x8a\\x05\\x12/\\xc7\\xf3\\x19\\xbe\\x08j\\x96\\x03\\xb2J!\\xd6\\xd9\\xa2+0_\\x9ey*\\xcd\\xcf\\xf9\\xddP[\\xa1\\x91\\x04>\\xbeZn\\xa67o\\x12Y\\x01\\x87\\xfc\\xe15\\xcd\\x8b\\xa3\\xe3\\xda \\x98\\x86S\\x8c\\x01s\\t\\xb1\\x0e*\\xc1]f\\x8f;M\\xd9\\xc71Yd\\xea\\xb3q\\xa7ZH\\x18\\x99g\\xc8Q\\xed\\xa3\\xe0\\xe6\\xb8\\x14\\xd5\\x8c\\xe3\\x81\\xc2\\xe9/C\\x0b\\x95\\x17\\x16\\t\\x83W\\x16\\x10E\\xca8PP\\xcc\\xf8\\x9d=&\\xce&\\xb0&\\xb6d\\x13\\xe1\\x0c\\xe2\\xab\\x92\\xe5\\xe6\\x9c\\xcd\\x92\\xf8M2\\xdc'\\xaaq\\xa8\"\n",
      "Length: 144\n",
      "Embedding Efficiency: 4.388888888888889\n",
      "==============\n",
      "579I.ll give her once i have it. Plus she said grinule greet you whenever we speak\n",
      "customizedTechniques-2\n",
      "K.nn ikxg jgt qpeg k jcxg kv. Rnwu ujg uckf itkpwng itggv aqw yjgpgxgt yg urgcm\n",
      "Length: 79\n",
      "customizedTechniques-3\n",
      "iL>",
      ">",
      ">",
      ">>",
      ">L>p>",
      ">>",
      ">",
      "",
      ">>",
      "",
      "",
      ">",
      ">",
      "\n",
      "Length: 79\n",
      "customizedTechniques-5\n",
      "~¾¾p¹»È·pº·ÄpÁÀµ·p»pº³È·p»Æ~p¢¾ÇÅpÅº·pÅ³»¶p¹Ä»ÀÇ¾·p¹Ä··Æp±ÁÇpÉº·À·È·ÄpÉ·pÅÂ·³½\n",
      "Length: 79\n",
      "OpenSourceTechniques-6\n",
      "b'\\x89\\x16\\x1a^+\\xb4;d\\x98=\"\\x11\\xfd\\xaf\\xb2Fql\\x04;J\\xaflC\\x13\\x07\\nO\\xef\\x9eWq\\xd7\\xa1U&A\\x0cn\\xf42\\xea\\xe2]\\xbc|\\x11\\x14\\x16@\\xb0\\x04\\xb5\\x87Q$\\xad\\\\\\xb7\\x18\\x80\\xd1O\\xfdt \\x1f:\\xe5\\x95\\xa1%k0\\xd7\\xe3\\xf1\\xbd\\x1b\\x08\\xfc\\xf5\\x8c\\x16W#\\x89\\xf8 Z\\xdb<F\\x8cs?we\\xd7A\\x0b\\xc5BF\\xb8\\xbf\\xb2&\\t\\x87\\x1c\\x02AV\\xc0\\xbc\\xcf\\x92`\\xfe\\xf4\\x05\\xf1\\xae\\x99\\xd4|\\xe0u\\'\\xe6\\xb4{\\x9fO\\\\Z\\xeb\\xb2\\x19\\xc3\\xf2\\xe1w'\n",
      "Length: 144\n",
      "Embedding Efficiency: 4.388888888888889\n",
      "==============\n",
      "580K fyi x has a ride early tomorrow morning but he's crashing at our place tonight\n",
      "customizedTechniques-2\n",
      "M hak z jcu c tkfg gctna vqoqttqy oqtpkpi dwv jg'u etcujkpi cv qwt rnceg vqpkijv\n",
      "Length: 80\n",
      "customizedTechniques-3\n",
      "k>>>>>",
      ">",
      ">>>>",
      "E>>>>",
      ">\n",
      "Length: 80\n",
      "customizedTechniques-5\n",
      "p¸±»pÊpº³Åp³pÄ»¶·p·³Ä¾±pÆÁ¿ÁÄÄÁÉp¿ÁÄÀ»À¹p´ÇÆpº·wÅpµÄ³Åº»À¹p³ÆpÁÇÄpÂ¾³µ·pÆÁÀ»¹ºÆ\n",
      "Length: 80\n",
      "OpenSourceTechniques-6\n",
      "b'\\xc6Q\\x91\\xabY\\xe5\\xba\\r}U;\\xe4\\xbc\\xae\\xbb\\x15ag\\n\\r2F\\xdf\\xe7\\x81\\xa3}\\x1f\\xf4\\xd4\\xc1\\xd1\\xff \\x06H\\xc6k\\xed\\xde\\x8a\\xd0\\x14\\xf1\\x81\\xf9\\xbe\\x10\\x909C\\x88\\n\\x83\\xf8\\x14*\\xf2\\xb2W\\xe3`|J\\xb2\\x035\\xdf\\xdd!\\x1f`\\xf5<\\xa6\\xc0\\xb5\\xe7\\xc2|\\xd5z$\\xec\\xb6\\x1cV\\x00\\x9c 53\\xc0H\\x83\\xa5\\x0f\\x91\\xd1\\\\\\x94\\xeff\\xe5\\x19\\xde9GYs\\x1e6\\x07\\x8d\\xe4g\\x0c\\xa7\\xd4\\xb5\\x15U\\x90p^\\xacW#0y`\\xab?\\x85\\xd6k|\\xb82\\xce\\x00M\\xa0\";\\x16|\\xc8\\xba\\xbd\\xd2z4\\xd4\\xd12VT\\xac\\x84'\n",
      "Length: 160\n",
      "Embedding Efficiency: 4.0\n",
      "==============\n",
      "581Did you hear about the new \\Divorce Barbie\\\"? It comes with all of Ken's stuff!\"\n",
      "customizedTechniques-2\n",
      "Fkf aqw jgct cdqwv vjg pgy \\Fkxqteg Dctdkg\\\"? Kv eqogu ykvj cnn qh Mgp'u uvwhh!\"\n",
      "Length: 80\n",
      "customizedTechniques-3\n",
      "d>>",
      ">>",
      ">",
      ">zd",
      ">b",
      "z@]>i>",
      ">>>>k",
      "E>?@\n",
      "Length: 80\n",
      "customizedTechniques-5\n",
      "»¶p±ÁÇpº·³Äp³´ÁÇÆpÆº·pÀ·Ép¬»ÈÁÄµ·p³Ä´»·¬rpÆpµÁ¿·ÅpÉ»Æºp³¾¾pÁ¸p·ÀwÅpÅÆÇ¸¸qr\n",
      "Length: 80\n",
      "OpenSourceTechniques-6\n",
      "b'\\x17\\xa4\\x9f\\xfcSB\\x8c2i\\xbaw\\x99~\\xb6\\x83t\\xa1\\xb7\\xea\\x16J/\\xcc\\x88\\x99\\xbc\\xfdsF\\x0fO\\x8d\\xc4\\xe8\\x90\\xe41\\xff\\x117\\xf1\\xc0~\\xe4\\xf3P>\\x1a\\x84F\\xe4/\\x1f\"\\xec\\x05\\xdfo\\x95Q\\xf5\\xa6\\xd2\\x8c\\x8c\\xf4\\x04\\xd7\\xa9.\\x0c\\xe7_\\xf6\\x9b\\xa6\\xb2\\xaa\\x15\\x01\\xe8\\'\\x171$\\xd7\\xac\\xd7\\xe8\\xdb\\xbc\\x80!\\x8c\\x97@\\xf2\\xff\\xde\\x19_\\xf3\\xed\\xf1_\\xe1L\\xe3\\xe1\\x92n\\xcbyxEe\\xf3\\xca\\x83\\xd2\\xa3Q\\x03\\xebi\\xd8\\xe9\\xf5\\x8d=\\x9b{\\xb8#=qLN\\xebO\\xb8\\x05*h'\n",
      "Length: 144\n",
      "Embedding Efficiency: 4.444444444444445\n",
      "==============\n",
      "582Hey so this sat are we going for the intro pilates only? Or the kickboxing too? \n",
      "customizedTechniques-2\n",
      "Jga uq vjku ucv ctg yg iqkpi hqt vjg kpvtq rkncvgu qpna? Qt vjg mkemdqzkpi vqq? \n",
      "Length: 80\n",
      "customizedTechniques-3\n",
      "h",
      ">>>>",
      ">",
      ">>>",
      ">>",
      ">]>o>",
      ">>]>\n",
      "Length: 80\n",
      "customizedTechniques-5\n",
      "·±pÅÁpÆº»ÅpÅ³Æp³Ä·pÉ·p¹Á»À¹p¸ÁÄpÆº·p»ÀÆÄÁpÂ»¾³Æ·ÅpÁÀ¾±p¡ÄpÆº·p½»µ½´ÁÊ»À¹pÆÁÁp\n",
      "Length: 80\n",
      "OpenSourceTechniques-6\n",
      "b'>\\xa8h\\xe3\\x81\\xc73\\x80\\x92@)\\xa3\\xef\\x02\\x90\\xc5\\r\\x1b\\x18\"\\x05w\\x1d\\xd6\\xaf\\xed\\xf68d\\x17\\xc4\\xaeT\\xcf\\xdf=\\xa3~ls\\xbf\\x07\\xf3\\xe1Q?A\\xf4T\\xd6&^.*>\\x01\\xf1\\xf6\\x12\\xd2{\\x87\\xf4hY\\xdfu*\\x12v5\\xd4\\xe8\\xef\\xf2\\xa8\\xb5\\xca\\x13\\xd4<\\xf8[\\xba\\xf2SIU\\x1bN\\xd0\\x8d\\xe2\\'\\xe0\\xbb7c?R\\x04\\xaf\\xad\\x1aJ\\xc9\\x1d\\xf4\\x13j\\x1d\\xd8\\xd4\\xa6a\\r\\xdeV6\\x93\\xacF!h\\x93\\xb6\\xa7\\x1f\\x91\\x90\\xe9J\\x9c:\\x91W}\\xdf\\xe5\\x0bp=@\\x85\\xfc\\xfd\\x80\\xd9#:T\\x12J\\xc63\\xc0\\x9c\\xc3l3'\n",
      "Length: 160\n",
      "Embedding Efficiency: 4.0\n",
      "==============\n",
      "583Does she usually take fifteen fucking minutes to respond to a yes or no question\n",
      "customizedTechniques-2\n",
      "Fqgu ujg wuwcnna vcmg hkhvggp hwemkpi okpwvgu vq tgurqpf vq c agu qt pq swguvkqp\n",
      "Length: 80\n",
      "customizedTechniques-3\n",
      "d",
      ">",
      ">>",
      ">",
      "",
      ">>",
      ">>",
      ">>>",
      ">>>",
      "\n",
      "Length: 80\n",
      "customizedTechniques-5\n",
      "Á·ÅpÅº·pÇÅÇ³¾¾±pÆ³½·p¸»¸Æ··Àp¸Çµ½»À¹p¿»ÀÇÆ·ÅpÆÁpÄ·ÅÂÁÀ¶pÆÁp³p±·ÅpÁÄpÀÁpÃÇ·ÅÆ»ÁÀ\n",
      "Length: 80\n",
      "OpenSourceTechniques-6\n",
      "b'\\xf3E\\x8fq\\xa9\\xa2.\\xb6?3?\\x0bU\\xfb\\xb6\\xec\\xead\\x81\\xad\\x93\\xc0vsT\\x85\\xa5\\x089\\x1fc\\x0bu\\xc1i5\\x04\\x0ea`[\\xf2.p<CXV\\x92\\xcf:;S\\xa0bSJ`\\xd2|\\xa0\\xdc\\xf6\\x07Y\\x90sW\\x16\\x9e\\x1dU\\x86a\\xb0: ^e\\xf24,\\xaa\\xf7\\xf8\\xe7\\x8c\\xdf\\xe4\\x85`:>\\xa1\\x10\\x8fL\\xacY\\xaa4]\\xd5\\x16`-tg\\x9c\\x03yiN}\\xc0\\x99f\\x15\\x04\\xcfR7g\\x85F\\x8et\\x80\\x0e\\xc7\\xc4$\\xfa\\x9cK?\\x83\\xb2\\x8b@G_Tu\\x92\\x07\\x0f\\x03\\x9br\\xb9\\x1e\\xa2\\xb07\\x1e\\xbb3\\x13.'\n",
      "Length: 160\n",
      "Embedding Efficiency: 4.0\n",
      "==============\n",
      "584Do you mind if I ask what happened? You dont have to say if it is uncomfortable.\n",
      "customizedTechniques-2\n",
      "Fq aqw okpf kh K cum yjcv jcrrgpgf? Aqw fqpv jcxg vq uca kh kv ku wpeqohqtvcdng.\n",
      "Length: 80\n",
      "customizedTechniques-3\n",
      "d>>>>i>>>",
      "",
      "]>_>>",
      ">>>>>>",
      "L\n",
      "Length: 80\n",
      "customizedTechniques-5\n",
      "Áp±ÁÇp¿»À¶p»¸pp³Å½pÉº³Æpº³ÂÂ·À·¶pÁÇp¶ÁÀÆpº³È·pÆÁpÅ³±p»¸p»Æp»ÅpÇÀµÁ¿¸ÁÄÆ³´¾·~\n",
      "Length: 80\n",
      "OpenSourceTechniques-6\n",
      "b'o\\x16t\\n\\x8d\\xe15|\\xbcu\\xc1~6\\xfeY\\x08\\xaa\\xf1\\x8d7\\xe5\\xef\\xf0\\xe0\\xb2t\\xd3\\xee\\xa3x\\xc4=\\xa32\\xcd|\\xbe\\x00\\x9b\\xe6s\\x001\\x1bX\\xd8\\xafJ\\xffDL\\x12\\xb4\\\\\\xd2\\xcfo\\xb9\\x92L\\xbf\\xdc\\xc9\\t\\xb4\\xc0\\xf7\\'\\xa8\\xa3\\x88w\\xd0\\xbc\"\\x94\\x03f\\xf5(k\\x9f?v\\x98\\x8f\\x1a\\xfa\\xedM\\xae\\x08\\xf4a=\\xf0\\xc5o!\\xd3 \\x7f\\xe4\\x91j\\xe5O\\x125^5\\xb8\\x1a\\xf1\\x10\\x0f\\x1f\\x14\\x97\\xbe\\x9e&\\xfby\\x13\\xf3\\xc6p=\\xdf\\xc09\\xe4\\xa4R\\x02\\xaf\\t\\xbd\\x8b\\x9ec\\x80e'\n",
      "Length: 144\n",
      "Embedding Efficiency: 4.444444444444445\n",
      "==============\n",
      "585Maybe?! Say hi to  and find out if  got his card. Great escape or wetherspoons? \n",
      "customizedTechniques-2\n",
      "Ocadg?! Uca jk vq  cpf hkpf qwv kh  iqv jku ectf. Itgcv guecrg qt ygvjgturqqpu? \n",
      "Length: 80\n",
      "customizedTechniques-3\n",
      "m",
      "]?>s>>>>>>>>>>>L>g",
      ">",
      "",
      ">>",
      "",
      "]>\n",
      "Length: 80\n",
      "customizedTechniques-5\n",
      "³±´·qp¥³±pº»pÆÁpp³À¶p¸»À¶pÁÇÆp»¸pp¹ÁÆpº»Åpµ³Ä¶~pÄ·³Æp·Åµ³Â·pÁÄpÉ·Æº·ÄÅÂÁÁÀÅp\n",
      "Length: 80\n",
      "OpenSourceTechniques-6\n",
      "b'\\xbb*>g&\\x8e8x{\\r\\x1f\\xfe9\\x9b+\\xa1[luj%\\xe4\\x01WV\\xa2\\xc2\\xb5\\xfa:\\xcb\\xb8=d\\xa5\\xf5\"\\xc4)\\xd1\\xd9\\xe4\\xbct\\xc0\\x1a\\x8f\\x94n\\xb0\\xeel\\xd6\\xc6\\x12\\xfbvu\\xd8\\xbc\\xe1,\\xce\\xb0\\xa7\\xf9J)$Sl\\x01\\xdb\\xce\\x8b\\xa8=\\xd1/m\\x89>\\xba\\xfe\\xe6p\\xa7\\x96\\x89{m\\x1c\\x16\\x03\\xff\\x01p\\xb3^j\\xda\\r\\xef\\xa04\\x03_\\xe30\\xeb\\xab\\xb8\\xd5\\xd0\\x16t-\\xe3\\x8a\\xfc\\xcd\\x16\\x0cA0]\\xc4\\xbd>\\xe6_\\xafG\\xcb\\xcc\\xa8\\xac\\xca\\x03j\\xf6\\xa1\\x80o'\n",
      "Length: 144\n",
      "Embedding Efficiency: 4.444444444444445\n",
      "==============\n",
      "586Lol you won't feel bad when I use her money to take you out to a steak dinner =D\n",
      "customizedTechniques-2\n",
      "Nqn aqw yqp'v hggn dcf yjgp K wug jgt oqpga vq vcmg aqw qwv vq c uvgcm fkppgt =F\n",
      "Length: 80\n",
      "customizedTechniques-3\n",
      "l>>E>",
      "",
      ">>",
      ">i>",
      ">",
      ">",
      ">>",
      ">>>>>",
      ">",
      ">[d\n",
      "Length: 80\n",
      "customizedTechniques-5\n",
      "Á¾p±ÁÇpÉÁÀwÆp¸··¾p´³¶pÉº·ÀppÇÅ·pº·Äp¿ÁÀ·±pÆÁpÆ³½·p±ÁÇpÁÇÆpÆÁp³pÅÆ·³½p¶»ÀÀ·Äp\n",
      "Length: 80\n",
      "OpenSourceTechniques-6\n",
      "b'\\xaa\\x10\\xc1\\x19\\xe0\\x81\\x83LH\\'\\xe3\\x8f\\x10<\\x05\\x03\\xeds\\xa74\\xca\\'\\xe4\\xba2\\x96\\xbe\\xe9-H\\xbb:|0\\xcd\\x07\\x8d\\x0f;9\\x01G\\xce2[\\x07xC\\xbfj\\x8e\\x94`\\x0b\\x86*I\\xe9K\\x9d\\x16\\x05\\xa4\\xf5\\xd8\\xd7`\\xca:-\\xe8W\\xa9\\xd4\\xcf{\\xb9\\x13\\x89Q\\x1a\\x8dN\\xc0\\xf9!\\xe6`V\\xb2\\xc6\\x08\\xf2\\xd8\\x1a\\xf2E\\xb5\\xa4\\xec#t\\xa6oP\\x8a\\x96DN\\xf6-\\x0b\\xba\\xca$ \\xe2\\xa1L\\xcc\"2\\x96s\\xa3V\\x94\\xa9\\xa8\\x8b\\xfd\\xe0\\x84\\xc3\\x9aP(\\xbb\\x8d\\xf5n$\\xea\\x81'\n",
      "Length: 144\n",
      "Embedding Efficiency: 4.444444444444445\n",
      "==============\n",
      "587Actually i deleted my old website..now i m blogging at magicalsongs.blogspot.com\n",
      "customizedTechniques-2\n",
      "Cevwcnna k fgngvgf oa qnf ygdukvg..pqy k o dnqiikpi cv ocikecnuqpiu.dnqiurqv.eqo\n",
      "Length: 80\n",
      "customizedTechniques-3\n",
      "a>>",
      "",
      "",
      ">>>",
      "",
      "LL>>>>>LL\n",
      "Length: 80\n",
      "customizedTechniques-5\n",
      "µÆÇ³¾¾±p»p¶·¾·Æ·¶p¿±pÁ¾¶pÉ·´Å»Æ·~~ÀÁÉp»p¿p´¾Á¹¹»À¹p³Æp¿³¹»µ³¾ÅÁÀ¹Å~´¾Á¹ÅÂÁÆ~µÁ¿\n",
      "Length: 80\n",
      "OpenSourceTechniques-6\n",
      "b'\\xe4@\\xc6\\xb4\\x881\\\\Fr\"\\x83I\\xdb\\x9f\\xad\\xcfl|ez\\x16 \\x14[[\\x86-\\xa7+.H#\\x98\\x7fjR\\x1f\\x18S\\xb8\\xcf\\xff-)\\xbe\\xe4~c\\rm\\xe8H\\xbd\\xad\\x9e3\\x08`@\\x0e\\xd0c\\x80/\\xbc\\x02YZ\\xf1G\\xa6\\x82\\xf1\\x08g\\xbaE\\x15\\x95\\xd7(\\xb5 \\xfe\\xf8\\t\\xd6zS&yq0&L\\xa6\\xec\\xb1\\xfe\\xa2\\xd4\\x06\\xacP\\x80+Ae\\x95\\xe2]\\x9f\\x87\\xd2\\xbc\\x10o\\xe4\\x96m\\xa9\\xdah\\x10\\xee\\xdf\\xa0\\x0e\\x83\\x07\\xca$\\\\\\xcb\\x94:\\xa8\\xf0=\\xea\\xafn\\xc1\\xce%\\x0e~u\\xbb\\'7\\x12\\xcd\\x88\\x8b\\x1e\\xb0\\x95\\xfbK'\n",
      "Length: 160\n",
      "Embedding Efficiency: 4.0\n",
      "==============\n",
      "588Eh u remember how 2 spell his name... Yes i did. He v naughty make until i v wet.\n",
      "customizedTechniques-2\n",
      "Gj w tgogodgt jqy 2 urgnn jku pcog... Agu k fkf. Jg x pcwijva ocmg wpvkn k x ygv.\n",
      "Length: 81\n",
      "customizedTechniques-3\n",
      "e>>",
      "",
      "",
      ">>P>",
      ">>",
      "LLL>_",
      ">>L>h",
      ">>>",
      ">>>>",
      "L\n",
      "Length: 81\n",
      "customizedTechniques-5\n",
      "ºpÇpÄ·¿·¿´·ÄpºÁÉppÅÂ·¾¾pº»ÅpÀ³¿·~~~p·Åp»p¶»¶~p·pÈpÀ³Ç¹ºÆ±p¿³½·pÇÀÆ»¾p»pÈpÉ·Æ~\n",
      "Length: 81\n",
      "OpenSourceTechniques-6\n",
      "b'\\xb0\\xde^\\x05\\x95\\x0b\\xcf\\xf7\\xe0\\xaa\\x8d\\xb3\\x8d\\xf5\\x85\\x19\\x9e\\xc1\\x02\\xf9:\\xd1LQZF\\x99\\xa0\\x8c~\\xb7\\xdb\\xfd\\xa77\\x99\\xe9..i\\xdd\\xe3g\\xd2#v\\x1272\\xe3)\\x9b\\xbf\\xe5\"\\xb1yISE\\xbc1\\xbfu\\xad\\x9e\\xbe\\xa8\\n.d\\x0b,\\xc9@\\x0f-d\\xed\\xa9k\\xb3\\xa2\\x81\\xba\\xbb\\xd2*n\\xdb\\xfenT\\xdab\\n\\xe2\\nIZ\\xc4\\x1d\\xd4\\x94viV\\x05w\\x99\\xae\\xb6\\x941\\xef\\xbd&\\x18\\xc3>\\xf8\\xdc]\\x8eY\\xa7\\x90\\x9a\\x84Kwa\\xd2\\r\\xbcAi\\xd4\\xf42^.RH'\n",
      "Length: 144\n",
      "Embedding Efficiency: 4.5\n",
      "==============\n",
      "589Okay name ur price as long as its legal! Wen can I pick them up? Y u ave x ams xx\n",
      "customizedTechniques-2\n",
      "Qmca pcog wt rtkeg cu nqpi cu kvu ngicn! Ygp ecp K rkem vjgo wr? A w cxg z cou zz\n",
      "Length: 81\n",
      "customizedTechniques-3\n",
      "o>",
      ">>",
      ">>>>>",
      "?>w",
      ">>i>>",
      ">]>_>>",
      ">>>\n",
      "Length: 81\n",
      "customizedTechniques-5\n",
      "¡½³±pÀ³¿·pÇÄpÂÄ»µ·p³Åp¾ÁÀ¹p³Åp»ÆÅp¾·¹³¾qp©·Àpµ³ÀppÂ»µ½pÆº·¿pÇÂppÇp³È·pÊp³¿ÅpÊÊ\n",
      "Length: 81\n",
      "OpenSourceTechniques-6\n",
      "b\"o\\x18\\x9f\\xdb\\xe0 j\\x7f2P\\xcf\\xd8\\x8d\\x14@\\x84a<xv\\xb9\\xe3\\x88\\xbb\\xa2\\xe5\\x12\\x05\\xba\\xdb\\xf6\\xfd}%\\xf57\\xe0',\\x8f\\x18\\xde]\\xbf,\\xe6T\\xd5\\xfa\\x19\\x00\\xbfl}LL\\xc4s\\xeaV\\x94\\\\%\\x03\\x93\\xa9\\n%\\x93K\\x028\\xe2\\xa9Z\\x81&\\xd6\\xd6u\\xb6\\x81\\x9eY\\x7f\\xbd\\x1cn\\xcb(\\xd7h\\x82\\n\\xdd\\x81{\\x82\\xae\\x0f\\x01\\x9d~L\\xb0C\\xa8NBG\\xa8\\x8d\\xb8<\\xf3\\x8b\\xb2\\x19&\\xb2\\xc4\\x96\\x83T\\xf4\\xbe\\xb3\\xb2\\xf4\\xcc6\\xd1p\\x02\\x13\\xf4\\xd0\\xdc\\x1e\\xb6\\xa6b\\\\J\"\n",
      "Length: 144\n",
      "Embedding Efficiency: 4.5\n",
      "==============\n",
      "590When're you guys getting back? G said you were thinking about not staying for mcr\n",
      "customizedTechniques-2\n",
      "Yjgp'tg aqw iwau igvvkpi dcem? I uckf aqw ygtg vjkpmkpi cdqwv pqv uvcakpi hqt oet\n",
      "Length: 81\n",
      "customizedTechniques-3\n",
      "w",
      "E",
      ">>>",
      ">]>g>>>",
      "",
      ">>>>>>\n",
      "Length: 81\n",
      "customizedTechniques-5\n",
      "©º·ÀwÄ·p±ÁÇp¹Ç±Åp¹·ÆÆ»À¹p´³µ½ppÅ³»¶p±ÁÇpÉ·Ä·pÆº»À½»À¹p³´ÁÇÆpÀÁÆpÅÆ³±»À¹p¸ÁÄp¿µÄ\n",
      "Length: 81\n",
      "OpenSourceTechniques-6\n",
      "b'9\\xc1\\x10\\x1a`[\\xd2\\x1d.S\\x11\\x91\\xa89\\x83GB\\xab@^V\\xf4\\xc6%()\\xd78k\\xbe\\xbd\\x1f\\xdaY\\x86\\xe7\\xdf\\xeb\\x8b\\x9fH\\xd4\\x90?Z%V_\\xbd\\xde\\x16\\xc9\\xaa4\\x9f\\xe6Z\\xaf\\xba\\xbc\\x9d\\xff\\x11Aa\\xe0m\\xef\\t\\xb1\\xabA\\xd5\\xd3uM\\r\\xe7b\\xa2\\x97C\\xcb\\xb8\\xa1\\x9d\\xd4\\xe5\\x8b\\x8e\\x07\\xcd\\x86+\\x885S@%Z\\xe2T\\x0c\\xd0\\xc4\\xe1\\x11Xa\\xd0n\\xa4\\xb3\\x14\\x81\\xb3%f\\x9b\\xe2+H_\\xd0g{\\xe9u\\xe4\\xe7p\\xc6\\x11yC\\xa7d\\x9dG\\xf9\\x07,K\\xcb\\xd8\\x17z)\\xdbm\\x91\\xdd\\x10hnI\\xf0\\xf5\\x15`'\n",
      "Length: 160\n",
      "Embedding Efficiency: 4.05\n",
      "==============\n",
      "591idc get over here, you are not weaseling your way out of this shit twice in a row\n",
      "customizedTechniques-2\n",
      "kfe igv qxgt jgtg, aqw ctg pqv ygcugnkpi aqwt yca qwv qh vjku ujkv vykeg kp c tqy\n",
      "Length: 81\n",
      "customizedTechniques-3\n",
      ">",
      ">",
      ">",
      "",
      "J>>",
      ">>",
      "",
      ">>>>>>>",
      ">>>\n",
      "Length: 81\n",
      "customizedTechniques-5\n",
      "»¶µp¹·ÆpÁÈ·Äpº·Ä·|p±ÁÇp³Ä·pÀÁÆpÉ·³Å·¾»À¹p±ÁÇÄpÉ³±pÁÇÆpÁ¸pÆº»ÅpÅº»ÆpÆÉ»µ·p»Àp³pÄÁÉ\n",
      "Length: 81\n",
      "OpenSourceTechniques-6\n",
      "b\"\\x03#\\xaf\\xc1\\xf0\\x16'm\\x87\\xe6\\xe9\\xa6\\x9flh\\xaf\\x93\\xdacv\\x0e\\xa2R\\xce\\xa3\\x00:Jq\\xaf\\xffv.\\xa8,\\r\\xa3m+\\x86*m)9\\xb0!\\x08\\xcb\\xbb\\x81\\x91\\xb3\\xc4v\\xf2\\xcf[\\xfd\\xbeVrv\\xf7\\x01\\xffF.;&\\xdf&\\x156-\\xaa\\x0fc]pD{^\\xd5\\x15\\xe2h\\xfc\\xbehI\\xed\\xb8\\xf8z\\x16k\\x8c\\x0f9\\xd6([\\x0e\\xc7\\xa1\\xfd\\x8f\\x85k\\xd4\\xd5\\xd7H\\xd5A\\xf7}\\xefS\\x8cRx\\x04\\x08}\\t\\x89\\xe4N\\x8a\\xc4\\x1c\\x9a\\x0eg`gx^\\t\\xf0Y\\xd2A\\x89\\x99%\\xed\\x94D\\xa8\\x04\\xc9C\\xabZh!\\x1cI\"\n",
      "Length: 160\n",
      "Embedding Efficiency: 4.05\n",
      "==============\n",
      "592Pls go ahead with watts. I just wanted to be sure. Do have a great weekend. Abiola\n",
      "customizedTechniques-2\n",
      "Rnu iq cjgcf ykvj ycvvu. K lwuv ycpvgf vq dg uwtg. Fq jcxg c itgcv yggmgpf. Cdkqnc\n",
      "Length: 82\n",
      "customizedTechniques-3\n",
      "p>>",
      ">>L>i>>",
      ">>",
      ">",
      "L>d>",
      ">>",
      ">",
      "",
      "",
      "L>a\n",
      "Length: 82\n",
      "customizedTechniques-5\n",
      "¢¾Åp¹Áp³º·³¶pÉ»ÆºpÉ³ÆÆÅ~pp¼ÇÅÆpÉ³ÀÆ·¶pÆÁp´·pÅÇÄ·~pÁpº³È·p³p¹Ä·³ÆpÉ··½·À¶~p´»Á¾³\n",
      "Length: 82\n",
      "OpenSourceTechniques-6\n",
      "b'\\xca\\xcb\\xedB\\xef\\x08\\xac\\x90\\xc5\\x05\\x92P\\xbe\\x13\\x90FMs\\xf3\\xaa\\xdc\\x9cU12\\x0f:L\\xe4\\xf6w\\x1eKi\\xc6\\xa91\\xdcp\\x00\\xb8\\xeb\\xf0\\x8b\\xa1\\xd3W\\xf6\\x19A\\xd0e?l\\xe9\\xd6\\x08P#4\\xb0\\x9e\\xbd\\xcc\\x80K-,^\\x8a\\xda\\xe3\\xc4`R\\x9c\\xab]\\x0e\\x16\\rxj:Q\\x12X\\x95_\\x1bX\\r\\x9cG\\x8f\\x9f\\x0b5*g)QQ\\xac\\xae\\xf1\\x9et\\x85\\x18`\\xd9]\\xccrM\\x1b(38Y2bs\\x04\\xde\\x0e\\x0c}\\x97x\\x9dm\\x14:g\\x0bq\\x15\\x8e\\xfd&\\x16\\xa4\\xb3\\n\\xe1\\xfa\\x18d\\x0e\\xdf\\x0b\\x96D\\x1f\\xab\\xac\\xaaD'\n",
      "Length: 160\n",
      "Embedding Efficiency: 4.1\n",
      "==============\n",
      "593How would my ip address test that considering my computer isn't a minecraft server\n",
      "customizedTechniques-2\n",
      "Jqy yqwnf oa kr cfftguu vguv vjcv eqpukfgtkpi oa eqorwvgt kup'v c okpgetchv ugtxgt\n",
      "Length: 82\n",
      "customizedTechniques-3\n",
      "h>>>>",
      ">",
      ">>",
      ">>",
      ">E>>",
      ">",
      "",
      "\n",
      "Length: 82\n",
      "customizedTechniques-5\n",
      "ÁÉpÉÁÇ¾¶p¿±p»Âp³¶¶Ä·ÅÅpÆ·ÅÆpÆº³ÆpµÁÀÅ»¶·Ä»À¹p¿±pµÁ¿ÂÇÆ·Äp»ÅÀwÆp³p¿»À·µÄ³¸ÆpÅ·ÄÈ·Ä\n",
      "Length: 82\n",
      "OpenSourceTechniques-6\n",
      "b'\\xfc\\xca\\xa2\\xf9*\\x05\\xc5q\\xba [\\xbb\\xe3\\xb3m\\tH\\xe9\\x88\\xaai\\xcf\\x00\\x9f\\xf7hj\\xc6f9E\\xc2K?\\x91$N\\xe74\\xe5\\x1be\\n\\xc7\\xc3(\\x928YB\\xd1ml\\x8d\\xdaA$\\x9d\\x08\\x8f\\x83\\x9c\\xdb\\x8fCq(\\xd73l\\x85\\xc1\\x9cE_I\\\\\\xcb\\x01\\xc0\\xec\\x16\\x9e\\x91_\\\\\\xe6J\\x96\\xa2f\\x07{-\\xd8>j\\x05\\x86Qx\\xaa\\xf2U\\x92\\x00\\xb3\\xad\\xac\\xf6is\\xd8\\xa3Sx\\xe9|J\\xfb\\x1e\\xc8(\\xc4\\xe4\\xdc\\xaf\"\\xa59\\xd0\\x1b\\xf0R\\xc4\\xbdq\\x8e\\x05\\xd2y5+c\\xb3,\\x17\\xd1\\x1a~\\xe0\\r*`a\\xaf%\\xcaR\\xee'\n",
      "Length: 160\n",
      "Embedding Efficiency: 4.1\n",
      "==============\n",
      "594Realy sorry-i don't recognise this number and am now confused :) who r u please?! \n",
      "customizedTechniques-2\n",
      "Tgcna uqtta-k fqp'v tgeqipkug vjku pwodgt cpf co pqy eqphwugf :) yjq t w rngcug?! \n",
      "Length: 82\n",
      "customizedTechniques-3\n",
      "r",
      ">K>E>",
      "",
      ">>",
      ">>>>",
      ">XG>>>>",
      "",
      "]?>\n",
      "Length: 82\n",
      "customizedTechniques-5\n",
      "¤·³¾±pÅÁÄÄ±}»p¶ÁÀwÆpÄ·µÁ¹À»Å·pÆº»ÅpÀÇ¿´·Äp³À¶p³¿pÀÁÉpµÁÀ¸ÇÅ·¶pypÉºÁpÄpÇpÂ¾·³Å·qp\n",
      "Length: 82\n",
      "OpenSourceTechniques-6\n",
      "b\"\\x01'\\xef\\xe6\\x8f\\x92c\\xbe\\xb6d\\xec\\x91Gg)\\xd9\\xa55\\x82\\xdel\\xe4s\\x05\\xd6\\xbc\\x15\\x83\\x15\\x8f\\x9a\\x86\\xe7T\\x85\\x11a\\xb5#\\xd5\\x92\\xb0z\\x17\\x96\\xbe\\xf6\\xa8\\xea\\xdaA\\xa8\\x1f\\xc2\\x89\\x13\\xd4\\xc5\\x12\\tK\\x8a)\\x11\\xd9\\x18vi\\\\(OU\\xedT\\x17n\\xb1\\x0b\\x95\\xf4\\xd3\\xf6\\rC\\xc8~\\xf72v3\\xc4/\\x84\\xf6 \\xbc\\xe4\\xb1\\xe5\\xe1~D8&\\xba\\x91\\xff\\x9b\\xab\\x81\\x07\\xe1m7\\xb0<\\xf5N|\\xa5m\\xc5]\\x80\\xbb\\xaa\\xee|\\xa3d\\xff\\x9f\\xf4\\xc1\\x8c\\x05~T\\xab\\x9eBq\\xcb\\r6\\x90\\xa3\\xdb8j\\x02\\x12\\x84\\xd9\\xcd}A>\\xcb\\x80\"\n",
      "Length: 160\n",
      "Embedding Efficiency: 4.1\n",
      "==============\n",
      "595I luv u soo much u donåÕt understand how special u r 2 me ring u 2morrow luv u xxx\n",
      "customizedTechniques-2\n",
      "K nwx w uqq owej w fqpeUv wpfgtuvcpf jqy urgekcn w t 2 og tkpi w 2oqttqy nwx w zzz\n",
      "Length: 82\n",
      "customizedTechniques-3\n",
      "i>>>>>>s>",
      ">>",
      ">>>P>",
      ">>>P>>>\n",
      "Length: 82\n",
      "customizedTechniques-5\n",
      "p¾ÇÈpÇpÅÁÁp¿ÇµºpÇp¶ÁÀµ¥ÆpÇÀ¶·ÄÅÆ³À¶pºÁÉpÅÂ·µ»³¾pÇpÄpp¿·pÄ»À¹pÇp¿ÁÄÄÁÉp¾ÇÈpÇpÊÊÊ\n",
      "Length: 82\n",
      "OpenSourceTechniques-6\n",
      "b'\\xdb\\xf4\\xa0\\x87\\x17R[\\xb4[\\t\\x18\\x04t\\x96\\x08G\\xa8\\xd10\\x10\\xaa&\\xea-\\x8b36C n\\xca\\x80L\\x94ML\\n\\x98\\x0bx\\x8a\\xad\\xa5\\xb1E$\\x9ck0\\x08\\xe4\\xec\\x16\\xd5Y\\xb5\\xc0\\xff\\xf0,\\xd57\\xb1\\xdeN\\xd4\\x044L\\xb9\\x83\\x83\\x0ei/\\xba\\xb3 \\xa8\\xc3\\xbb|\\xc1>=\\xfa&\\x06\\x11z\\xe0\\xbdE\\xce\\xcbJ\\xd8\\xc7\\x8d\\x92\\xba\\xb9\\xa2If\\x0c\\x8b\\xf0# o~:vW\\x11}:\\x844\\xac\\xa5\\x8c\\x19\\xa6\\xdbjz\\x8b0\\x00\\x15=b#!+\\x0c\\x98\\xe8t\\x99QC\\x16\\xdc\\xf2\\x80\\xb0\\xb3u\\xd9\\x1e\\x11\\xb4??\\xe4\\xd9\\xf0'\n",
      "Length: 160\n",
      "Embedding Efficiency: 4.1\n",
      "==============\n",
      "596Okay. No no, just shining on. That was meant to be signing, but that sounds better.\n",
      "customizedTechniques-2\n",
      "Qmca. Pq pq, lwuv ujkpkpi qp. Vjcv ycu ogcpv vq dg ukipkpi, dwv vjcv uqwpfu dgvvgt.\n",
      "Length: 83\n",
      "customizedTechniques-3\n",
      "oL>n>J>>>L>t>>",
      ">>",
      ">J>>>>",
      "",
      "L\n",
      "Length: 83\n",
      "customizedTechniques-5\n",
      "¡½³±~p ÁpÀÁ|p¼ÇÅÆpÅº»À»À¹pÁÀ~p¦º³ÆpÉ³Åp¿·³ÀÆpÆÁp´·pÅ»¹À»À¹|p´ÇÆpÆº³ÆpÅÁÇÀ¶Åp´·ÆÆ·Ä~\n",
      "Length: 83\n",
      "OpenSourceTechniques-6\n",
      "b'j:\\xea\\xe5\\x95\\xe9\\x19\\x9cH\\xf6+\\xd6\\xbb\\xaa\\x9epGg2\\xdd\\xf6\\xfd\\x90w\\xd6\\xe7\\xcb\\xfb\\xf3\\x01\\x83\\xf7#\\xe4\\xa9\\xdbo\\x06 \\xbb\\xf1\\xf4\\xaf[c\\xc7}\\x1f\\x1f/\\x05\\xc3a\\xe9\\xf9V\\x1af/\\xb2UT\\xd7r\\xcd\\xc1\\xba\\x08\\x9f\\x8aXu\\xbb\\xf5\\xbd\\x1b\\xbac5\\xe0\\x1d\\x87C}\\x15\\xb6\\xa6_s\\xd3\\x9f0\\x86C\\xe5\\xec\\x89\\xc8\\xdd\\x12\\xbe\\x84h\\xc4D\\xbe\\x977\\x8e$\\xb7\\x17-Q\\x87gD\\xf3\\x86?r\\x88\\x11~\\xd5\\xe0\\xa4\\x8b*s\\xca\\xdf\\n{\\xdf\\xa0U|\\xd5\\x9f\\xd7\\x11\\x03\\xbf$X\\xfdk#\\\\\\xc4\\x8e\\x08\\xb8X\\x92\\x7f\\xee\\xa4N'\n",
      "Length: 160\n",
      "Embedding Efficiency: 4.15\n",
      "==============\n",
      "597They don't put that stuff on the roads to keep it from getting slippery over there?\n",
      "customizedTechniques-2\n",
      "Vjga fqp'v rwv vjcv uvwhh qp vjg tqcfu vq mggr kv htqo igvvkpi unkrrgta qxgt vjgtg?\n",
      "Length: 83\n",
      "customizedTechniques-3\n",
      "t",
      ">E>>>>>",
      ">>>",
      "",
      ">>>",
      ">",
      ">",
      ">",
      "",
      "]\n",
      "Length: 83\n",
      "customizedTechniques-5\n",
      "¦º·±p¶ÁÀwÆpÂÇÆpÆº³ÆpÅÆÇ¸¸pÁÀpÆº·pÄÁ³¶ÅpÆÁp½··Âp»Æp¸ÄÁ¿p¹·ÆÆ»À¹pÅ¾»ÂÂ·Ä±pÁÈ·ÄpÆº·Ä·\n",
      "Length: 83\n",
      "OpenSourceTechniques-6\n",
      "b\"\\xad\\xd8H\\x88\\x04\\x97\\x05\\x87\\xf6S\\xb4\\x19\\xf75\\x92G\\xa5P\\x02\\xf3\\xf6F\\xd6\\x8e\\xbe>\\x1e\\xcf\\xd8P\\xa2He\\xa2\\xef\\xe3\\xdf\\x0b\\x84\\x10\\xda\\xe8\\xff\\xdf\\x1a\\x8a\\xaaMO\\xdaJL\\r=\\xb4\\xa6\\x92\\xed\\x1a,\\xa4/6\\xbe\\xa56\\x92\\xc9\\x05\\xa6\\xd5]\\xd4\\x0fo\\xaa\\xd9\\x14\\x9e\\x1d\\x1ek\\xba\\xaf/\\xc9\\xe5'\\xcc\\xbb9\\xd7iL\\xa0\\xb2\\xd1\\xa1\\x0cn\\x03T\\xf1 _8FQ\\x1c-\\xf3^\\xa5\\xc2T\\xbb\\x95e\\xf5\\x1d<b\\r\\x8f\\x08\\x95\\x81\\x8a\\x08\\x86 \\xd7\\xd5\\x11\\xf4;\\x1e\\x0c\\xd6\\xd0\\x14}\\xbfF\\xc7\\x90D{\\x1a`}\\xa4\\xbd<\\x98:+<\\t\\xa9\"\n",
      "Length: 160\n",
      "Embedding Efficiency: 4.15\n",
      "==============\n",
      "598For fear of fainting with the of all that housework you just did? Quick have a cuppa\n",
      "customizedTechniques-2\n",
      "Hqt hgct qh hckpvkpi ykvj vjg qh cnn vjcv jqwugyqtm aqw lwuv fkf? Swkem jcxg c ewrrc\n",
      "Length: 84\n",
      "customizedTechniques-3\n",
      "f>",
      ">>>>",
      ">>>>",
      ">>>]>q>",
      ">>\n",
      "Length: 84\n",
      "customizedTechniques-5\n",
      "ÁÄp¸·³ÄpÁ¸p¸³»ÀÆ»À¹pÉ»ÆºpÆº·pÁ¸p³¾¾pÆº³ÆpºÁÇÅ·ÉÁÄ½p±ÁÇp¼ÇÅÆp¶»¶p£Ç»µ½pº³È·p³pµÇÂÂ³\n",
      "Length: 84\n",
      "OpenSourceTechniques-6\n",
      "b\"\\xecBlV\\x8c\\xbaS\\xf9\\x15\\xeaAzp\\t\\xec\\xb3\\x9f\\xbb\\x12t\\x1d\\xd2:\\xaa\\xf92\\xb0p\\t\\xf2\\xe4\\x87\\xc4S\\xb2m\\xa3/\\x14ns;\\x11^\\xda\\xed\\xa4\\n1n\\t\\xba4\\\\C\\x07\\xd7;\\xf8\\xf2\\xb7D\\xc9\\xcf/\\x8d\\xc7\\xa4\\xf4\\xe9\\xfe\\xa0\\n~\\xf3\\xb6\\xf96'\\x1e\\xecIP@J\\xa4\\xb2<\\x82%\\xf7\\x0cdn{\\n\\xf9\\xff\\x8cm[D\\x89A\\x8b\\x0e\\xf4\\xbd\\xb5t\\xbf\\xd5\\x7f\\x18\\x9c\\xbf\\x1d/\\x99\\xdd?r\\xe9=\\x02\\xc5{\\xa6z}\\xfd\\xb5O\\x0eLe\\xfd\\x839\\x0b\\xb7\\x8b\\\\\\xb7w\\xc3\\xb7\\xc3\\x08pZ\\r\\xd3\\x87dH\\xc4s\\xb6\\x8e\"\n",
      "Length: 160\n",
      "Embedding Efficiency: 4.2\n",
      "==============\n",
      "599Ummma.will call after check in.our life will begin from qatar so pls pray very hard.\n",
      "customizedTechniques-2\n",
      "Woooc.yknn ecnn chvgt ejgem kp.qwt nkhg yknn dgikp htqo scvct uq rnu rtca xgta jctf.\n",
      "Length: 84\n",
      "customizedTechniques-3\n",
      "uL>>",
      ">",
      ">L>",
      ">>",
      ">>>>>>",
      ">L\n",
      "Length: 84\n",
      "customizedTechniques-5\n",
      "§¿¿¿³~É»¾¾pµ³¾¾p³¸Æ·Äpµº·µ½p»À~ÁÇÄp¾»¸·pÉ»¾¾p´·¹»Àp¸ÄÁ¿pÃ³Æ³ÄpÅÁpÂ¾ÅpÂÄ³±pÈ·Ä±pº³Ä¶~\n",
      "Length: 84\n",
      "OpenSourceTechniques-6\n"
     ]
    },
    {
     "name": "stdout",
     "output_type": "stream",
     "text": [
      "b'?\\xf0\\x9e<\\xff\\xd5kZ}\\xf0{\\xfd\\xda\\xec\\xd1\\xcc\\xf2\\x12+\\xee\\xbfn\\x0f\\xffb\\t\\xcaY\\xb8\\xe4\\xe3\\r\\xe1\\x14 \\x16\\xb0\\xd5n\\x9f\\x94\\xf0 \\xc4\\xc8\\x1f&*`\\x93\\xf0\\xeb\\x03Z\\xbe\\xff\\x01\\x87\\xb1=.\\x16\\x18x\\x06\\xaaQ@X,\\xd4(\\xfd-w\\xe3\\xd4\\x13\\x8b\\xb0\\x97\\x1f\\x19\\x0fbd\\x0e\\xcc\\xa4a\\xfcnvC\\x083\\xeb\"\\xeb\\xba\\xd3\\xfb\\x1b\\t\\r\\x1aSSq_\\x7f\\xf5\\t$\\x95\\xc7\\xc7LM\\xd4\\x16\\xb5tym\\x18}\\x14\\x80L63\\x7fj}k\\xf6\\x0c\\x99\\xd0\\x15a\\x8d\\x80{\\xed\\x81\\x85\\xa5\\xf4\\xbb%_%\\xf8\\x02\\x17\\xcd\\xb11'\n",
      "Length: 160\n",
      "Embedding Efficiency: 4.2\n",
      "==============\n",
      "600Hello darlin ive finished college now so txt me when u finish if u can love Kate xxx\n",
      "customizedTechniques-2\n",
      "Jgnnq fctnkp kxg hkpkujgf eqnngig pqy uq vzv og yjgp w hkpkuj kh w ecp nqxg Mcvg zzz\n",
      "Length: 84\n",
      "customizedTechniques-3\n",
      "h",
      ">>",
      ">",
      ">",
      "",
      ">>>>",
      ">",
      ">>>>>>",
      ">k",
      ">\n",
      "Length: 84\n",
      "customizedTechniques-5\n",
      "·¾¾Áp¶³Ä¾»Àp»È·p¸»À»Åº·¶pµÁ¾¾·¹·pÀÁÉpÅÁpÆÊÆp¿·pÉº·ÀpÇp¸»À»Åºp»¸pÇpµ³Àp¾ÁÈ·p³Æ·pÊÊÊ\n",
      "Length: 84\n",
      "OpenSourceTechniques-6\n",
      "b\"OTu\\xa6\\x97\\x0715\\x8eusKI\\xe8\\x92\\x03\\xf5\\xe4)\\xf5s\\xa5g\\x89\\x13\\xfb\\xa7\\xb6\\xf9\\xc4^\\xc30\\xfc\\x1eO\\xf6`\\x1a\\x90\\x93\\xf0*Ht\\x96\\x0c'\\xb8\\x91+\\x18\\x1c\\xf6d\\xe6\\xecOco\\xcd`\\x8c\\xa5\\xacsf~?\\x82m\\x8f\\x91R\\x9a\\x1a\\xf6\\x80&\\xee\\xa7\\x06\\x9a\\xe8\\xd9\\x1cicN\\xa6\\x051Q\\xaa\\xa3?\\xf0\\x8f\\x93I\\xb7\\t\\x91\\xfa\\xdf\\x03S\\xb2~\\xb9\\xadz\\x1e\\x04\\x8a\\x81,\\x1b\\xfb%\\xf0]\\x96\\x9a\\x8d\\xe2\\x1b\\xd2\\ntM M\\x06\\x01O\\x9blm\\xa9\\x12\\xc1\\x90OO\\xf5^\\x13\\x8e\\xac\\xf1>\\xa5\\xba1\\xfa\\x89\\xbbd)\"\n",
      "Length: 160\n",
      "Embedding Efficiency: 4.2\n",
      "==============\n",
      "601Or maybe my fat fingers just press all these buttons and it doesn't know what to do.\n",
      "customizedTechniques-2\n",
      "Qt ocadg oa hcv hkpigtu lwuv rtguu cnn vjgug dwvvqpu cpf kv fqgup'v mpqy yjcv vq fq.\n",
      "Length: 84\n",
      "customizedTechniques-3\n",
      "o>",
      ">>>",
      ">>",
      ">>",
      "",
      ">>>>",
      "E>>>>L\n",
      "Length: 84\n",
      "customizedTechniques-5\n",
      "¡Äp¿³±´·p¿±p¸³Æp¸»À¹·ÄÅp¼ÇÅÆpÂÄ·ÅÅp³¾¾pÆº·Å·p´ÇÆÆÁÀÅp³À¶p»Æp¶Á·ÅÀwÆp½ÀÁÉpÉº³ÆpÆÁp¶Á~\n",
      "Length: 84\n",
      "OpenSourceTechniques-6\n",
      "b'\\x7f\\xcc@:\\xc8\\xfeW\\xc9\\xa4k\\x08\\x1e)\\xad;\\xf5\\x8f9r\\xc36\\x9d{\\xa7\\x1c\\xd4\\x00\\xb6^\\x83K\\\\\\x8e\\xff&\\xc5\\xff\\xbb\\xf6\\x94\\x8c4y\\xab\\xa5\\x83\\x813\\xbcB\\x9d\\xdc\\x97\\xd4x\\xf3\\x83\\x0c-[sgDv\\x97\\xdby\\xce\\xa0\\xb8\\xc5jd\\xe7m\\x11\\xda\\xc6*\\xc3\\xd0O\\x15\\xab\\x9eX\\x8c\\xaer\\x19R\\x19\\xd0\\x84\\xc1\\x0b\\xba\\xf8h\\x82~D>\\n\\x1c\\xb7\\xd6!*\\x03\\x9e \\xe0S\\xe1\\xdbK\\x14\\xadj\\xb2\\x08\\x0c\\xc9\\x85\\xaa\\x1c8M\\x9c\\xff\\x93\\xab\\xb1\\xbb\\xebO\\x97\\xce\\xac\\xc9\\xda\\xa2\\x88\\x833u\\xbe\\xb07\\x19\\xce\\xf6\\xb9\\xb8K\\x06P\\xf3\\x0e'\n",
      "Length: 160\n",
      "Embedding Efficiency: 4.2\n",
      "==============\n",
      "602Ummmmmaah Many many happy returns of d day my dear sweet heart.. HAPPY BIRTHDAY dear\n",
      "customizedTechniques-2\n",
      "Woooooccj Ocpa ocpa jcrra tgvwtpu qh f fca oa fgct uyggv jgctv.. JCRRA DKTVJFCA fgct\n",
      "Length: 84\n",
      "customizedTechniques-3\n",
      "u>m>>>",
      ">>>>>",
      ">",
      "",
      ">",
      "LL>happ_>birthda_>",
      "\n",
      "Length: 84\n",
      "customizedTechniques-5\n",
      "§¿¿¿¿¿³³ºp³À±p¿³À±pº³ÂÂ±pÄ·ÆÇÄÀÅpÁ¸p¶p¶³±p¿±p¶·³ÄpÅÉ··Æpº·³ÄÆ~~p¢¢p¤¦p¶·³Ä\n",
      "Length: 84\n",
      "OpenSourceTechniques-6\n",
      "b\"\\tO\\x99\\xa9\\xe2\\x88\\xd7>\\xd7%PH\\x95\\xd0\\xea\\x8dL\\xec\\x04\\xd4\\x0c\\xf4\\xed\\xe0\\x1c\\xcaU\\xfb&pl\\x13\\xc4\\xbd\\x1aUKn\\x9e\\xd9z\\xf9\\xd6\\xd3\\xf2\\x91\\xca\\xe4:^\\x8av[f\\xfa\\xa5\\x9ee|\\xab\\x8f\\x89A'|\\xc4I\\xeb\\xb4J\\xf3(\\xe5\\x8a7\\x1a\\xce\\xdbS\\xa4\\x1a\\xb6\\xe9\\x1e\\xed\\xbe\\xe0\\xa0\\xae\\xf1\\xdci\\xb8DxU\\xe0\\x07\\xcc\\xad-\\x83\\xb0\\xf4\\x9c\\x81\\x8e\\xe7:\\xec\\xc9\\xba\\xa7!\\x9c.\\xc8\\x93\\xa4\\xde{i\\x19\\xe3\\xd4}\\xfa\\\\\\xdb[\\xe0\\xd5\\xa0\\x97A\\xbdm\\xd26`C^e\\xdd$H\\x9c\\xe4\\x88!^\\xd5\\x1f\\x91\\xe4\\xfd\\x16\\xfa\\x08/\"\n",
      "Length: 160\n",
      "Embedding Efficiency: 4.2\n",
      "==============\n",
      "603We're all getting worried over here, derek and taylor have already assumed the worst\n",
      "customizedTechniques-2\n",
      "Yg'tg cnn igvvkpi yqttkgf qxgt jgtg, fgtgm cpf vcanqt jcxg cntgcfa cuuwogf vjg yqtuv\n",
      "Length: 84\n",
      "customizedTechniques-3\n",
      "w",
      "E",
      ">>",
      ">",
      ">",
      ">",
      "",
      "J>",
      "",
      ">>>",
      ">",
      ">",
      ">",
      ">\n",
      "Length: 84\n",
      "customizedTechniques-5\n",
      "©·wÄ·p³¾¾p¹·ÆÆ»À¹pÉÁÄÄ»·¶pÁÈ·Äpº·Ä·|p¶·Ä·½p³À¶pÆ³±¾ÁÄpº³È·p³¾Ä·³¶±p³ÅÅÇ¿·¶pÆº·pÉÁÄÅÆ\n",
      "Length: 84\n",
      "OpenSourceTechniques-6\n",
      "b'u\\xee\\x11\\xbf\\x88\\x87:\\xc0=\\xc2\\x8f\\xa08\\xe4\\x92\\xd8H\\xe1\\xaeS\\xa7\\xdc\\x88gR\\xfa\\x98u\\xcd\\x9b\\xc9\\xcdP`\\xea\\xe7\\xc4\\x8e\\xd4\\xe5\\xd9d\\xa2*\\x0c\\x8d\\x9f%2\\xaek\\xc7\\xf9\\xac&@\\xa7\\xeb\\x14y5\\xc5(\\x98\\xff\\x99\\xe6\\xa0\\xb9\\xb6\\xfb\\x01ip\\xc6bmo\\xeb+*i\\xd1w\\xb5\\tz\\xceZ\\x9b\\x06\\xca{\\x03_K\\xaa\\x8f\\x1di\\xe1W2-\\t\\xb2W,Q\\xd1/N3V1^\\x1a\\x90\\xd2O\\x0eF\\xdb\\xb9\\xac\\xed\\xeeEB\\x7fO\\xb1\\x14\\x1f\\xb9\\xcb\\xd7\\x8fg\\xe0s8\\xa8\\xdf\\x11?o\\x89,\\x03\\xd0*\\xaa\\xb2\\xcb\\xc5Mh\\x8d\\xa6'\n",
      "Length: 160\n",
      "Embedding Efficiency: 4.2\n",
      "==============\n",
      "604I'm so in love with you. I'm excited each day i spend with you. You make me so happy.\n",
      "customizedTechniques-2\n",
      "K'o uq kp nqxg ykvj aqw. K'o gzekvgf gcej fca k urgpf ykvj aqw. Aqw ocmg og uq jcrra.\n",
      "Length: 85\n",
      "customizedTechniques-3\n",
      "iE>>>",
      ">>L>iE>",
      "",
      ">",
      ">>>",
      ">>L>_>",
      ">",
      ">>L\n",
      "Length: 85\n",
      "customizedTechniques-5\n",
      "w¿pÅÁp»Àp¾ÁÈ·pÉ»Æºp±ÁÇ~pw¿p·Êµ»Æ·¶p·³µºp¶³±p»pÅÂ·À¶pÉ»Æºp±ÁÇ~pÁÇp¿³½·p¿·pÅÁpº³ÂÂ±~\n",
      "Length: 85\n",
      "OpenSourceTechniques-6\n",
      "b\"&]9=%v\\xcc\\x87\\x84\\xbf\\xc0 \\xd0*{\\xd4\\xe66\\x13\\xcc\\xf5\\x0eWz\\xc9\\xd3\\x00\\xdf\\x16\\x97K\\xbc5y;EM\\x18\\x06c\\xe9\\x0e/\\xff\\x17\\x9a<X\\xa56%\\xe6\\x1a\\xe4z\\xa5M\\xf5\\x02AI\\xca?\\xb0R\\xb3\\x07\\x03\\x14\\xc9\\xd8\\x88\\n'?6!L\\xe3S\\xd3\\x9d\\xf8N\\xe4\\xdc\\xf5\\x8cl4\\x9b\\x85u\\x9e\\xe0FVO\\xab\\xa9\\xdb\\xc1\\xc0\\xb9\\xa2\\xdd\\x1f\\x1a\\xeda\\xcf\\xe6\\xa2\\x92\\x18\\xdb\\x9cv\\x9a\\xf4\\xc3jL\\xbf}y\\x89D\\x8cOZ:\\x7f\\xce#\\xca\\xe1\\re=\\xf1L\\xf7#\\xb5\\x96\\x0c\\xac3\\xf4\\x8ehK(\\x13-q\\xb2\\xf2\\x01\"\n",
      "Length: 160\n",
      "Embedding Efficiency: 4.25\n",
      "==============\n",
      "605Anyway i'm going shopping on my own now. Cos my sis not done yet. Dun disturb u liao.\n",
      "customizedTechniques-2\n",
      "Cpayca k'o iqkpi ujqrrkpi qp oa qyp pqy. Equ oa uku pqv fqpg agv. Fwp fkuvwtd w nkcq.\n",
      "Length: 85\n",
      "customizedTechniques-3\n",
      "a>E>>>>>>L>c>>>>",
      ">",
      "L>d>>>L\n",
      "Length: 85\n",
      "customizedTechniques-5\n",
      "À±É³±p»w¿p¹Á»À¹pÅºÁÂÂ»À¹pÁÀp¿±pÁÉÀpÀÁÉ~pÁÅp¿±pÅ»ÅpÀÁÆp¶ÁÀ·p±·Æ~pÇÀp¶»ÅÆÇÄ´pÇp¾»³Á~\n",
      "Length: 85\n",
      "OpenSourceTechniques-6\n",
      "b\"\\x95AF\\x11f\\x9f\\x0c\\x16B'\\xc8\\r\\x1e,\\x05U\\xf2D\\xa8S\\xd9\\xa1M\\xa3\\x1f\\xbf\\xd9\\xear\\xe0\\x03\\xa3\\xa6=\\x0f#J\\xdd<\\x8d\\xee\\xack\\xc6Ng\\x99\\xfa\\x8d3mM\\x17\\x10B;(z\\xac|\\x04\\xa0\\xc2\\xb0@C\\x023\\x0fK\\xfdMW{\\xd6u\\x9e;\\xea\\xcb\\xec\\xba\\x02+\\x07c\\x93\\xe8\\xc3\\xc8\\x01\\xc2Ur\\x90\\xa9\\xc4\\xa9a\\xf4\\x10\\x8e#\\xab\\\\\\xb1\\x07\\x8d^\\x1b\\x13G\\xe0\\xc7\\xbd\\\\3\\xf4\\xa3\\xfe\\xd2\\x87\\x82@b\\xf7<\\xc0\\xe3\\xe15i-\\xd9\\xc0\\xcaG\\xc6\\xdb\\xac;\\x07mM\\x16$O\\xe2\\x0198N\\xaf\\xe7>w\\xc0\\xbb\\x7f\\x93\"\n",
      "Length: 160\n",
      "Embedding Efficiency: 4.25\n",
      "==============\n",
      "606Dis is yijue. I jus saw ur mail. In case huiming havent sent u my num. Dis is my num.\n",
      "customizedTechniques-2\n",
      "Fku ku aklwg. K lwu ucy wt ockn. Kp ecug jwkokpi jcxgpv ugpv w oa pwo. Fku ku oa pwo.\n",
      "Length: 85\n",
      "customizedTechniques-3\n",
      "d>>",
      "L>i>>>>L>i>",
      ">>",
      ">",
      ">>>L>d>>>L\n",
      "Length: 85\n",
      "customizedTechniques-5\n",
      "»Åp»Åp±»¼Ç·~pp¼ÇÅpÅ³ÉpÇÄp¿³»¾~pÀpµ³Å·pºÇ»¿»À¹pº³È·ÀÆpÅ·ÀÆpÇp¿±pÀÇ¿~p»Åp»Åp¿±pÀÇ¿~\n",
      "Length: 85\n",
      "OpenSourceTechniques-6\n",
      "b'\\x0c\\xc8-\\xaa\\xdcv\\\\G\\xd0\\x82\\x1e\\x9cz\\xe5\\xc9\\xa6\\xddt\\xe8\\x85\\xd9\\x13~\\xbai\\x88!aL7\\xbe\\x90W\\x89\\xd4\\xd5\\xeb\\x9a\\xf4\\xd2\\xa1\\xb4+5\\xacNc\\x06(\\x1f\\x9b\\x1fCW\\xd3\\xd9\\xe8D#{\\xee\\xb4N \\x96/\\x8e\\x9c<)H!M\\xbf@\\x80\\xce\\xaf\\x16\\x7f\\x99;\\xadJ\\xe0\\xe8\\xc9&\\x8e\\xec\\xc4\\xf9\\xac9\\xf5\\x07\\xca\\xb0\\xc7=\\xa0\\xf0\\x04\\xb3\\xf7!\\xec\\xf9A0 \\xf8\\x0c\\xba\\xf8\\xff\\xb6\\x86\\xf3\\x82\\x06\\xcd\\xe5\\x8dT\\xf8\\x1esU\\xa7\\x96\\xdb!\\xf76\\xeftu\\xe7]b$=\\xa5\\x06\\x9d\\xbb\\x84\\x9c\\xd7\\xa8J\\xeah2\\xf9\\xc8\\\\j\\xf1'\n",
      "Length: 160\n",
      "Embedding Efficiency: 4.25\n",
      "==============\n",
      "607Hello! Just got here, st andrews-boy its a long way! Its cold. I will keep you posted\n",
      "customizedTechniques-2\n",
      "Jgnnq! Lwuv iqv jgtg, uv cpftgyu-dqa kvu c nqpi yca! Kvu eqnf. K yknn mggr aqw rquvgf\n",
      "Length: 85\n",
      "customizedTechniques-3\n",
      "h",
      "?>j>>",
      "",
      "J>>",
      "K>>>>?>i>L>i>>",
      "",
      ">>",
      "\n",
      "Length: 85\n",
      "customizedTechniques-5\n",
      "·¾¾ÁqpÇÅÆp¹ÁÆpº·Ä·|pÅÆp³À¶Ä·ÉÅ}´Á±p»ÆÅp³p¾ÁÀ¹pÉ³±qpÆÅpµÁ¾¶~ppÉ»¾¾p½··Âp±ÁÇpÂÁÅÆ·¶\n",
      "Length: 85\n",
      "OpenSourceTechniques-6\n",
      "b'F\\xd6\\xda\\x06+\\t\\n\\x0c\\x19\\x97\\xae\\xb7\\xc4VD\\xc7\\x84]\\x9c\\x02.~\\xe4>S\\xac\\x13\\xeaZm\\x95\\xad\\x9f\\x9dw\\x02V3m\\x91\\x05!\\x06\\x14\\xd7\\xb2T\\xd7D&\\xe8\\xd7\\x1b\\xac\\x7f\\xe3\\x88Af\\xbf\\x8e#\\xc4\\xc5\\x1b4\\xa9\\xbb\\x7f\\x15\\x17\\xe4\\x9f\\xd0&:\\xfe\\x0f\\x97\\x1c\\xdf]\\x1cd\\xa0\\xc7\\xf5d4(\\xa69ci+\\x82\\xd4=&\\x7f\\xafL\\x8c\\xf2\\x90\\xca6\\x04\\xdd\\x80\\x0e\\xc2w)\\xbdL\\xc3J<LW&wMh\\xcb\\x100YJ7j}\\x0c\\xc9\\xd3\\xbf\\xcbbX\\xc3\\x01/\\xd7n\\xea\\x9d\\xb7L\\x97\\x95\\x0caw\\xf9#P\\xc5\\x9e['\n",
      "Length: 160\n",
      "Embedding Efficiency: 4.25\n",
      "==============\n",
      "608Or better still can you catch her and let ask her if she can sell  &lt;#&gt;  for me.\n",
      "customizedTechniques-2\n",
      "Qt dgvvgt uvknn ecp aqw ecvej jgt cpf ngv cum jgt kh ujg ecp ugnn  &nv;#&iv;  hqt og.\n",
      "Length: 85\n",
      "customizedTechniques-3\n",
      "o>",
      "",
      ">>>>>",
      ">>",
      ">>",
      ">>",
      ">>",
      ">>DYADY>>>",
      "L\n",
      "Length: 85\n",
      "customizedTechniques-5\n",
      "¡Äp´·ÆÆ·ÄpÅÆ»¾¾pµ³Àp±ÁÇpµ³Æµºpº·Äp³À¶p¾·Æp³Å½pº·Äp»¸pÅº·pµ³ÀpÅ·¾¾ppv¾Æsv¹Æpp¸ÁÄp¿·~\n",
      "Length: 85\n",
      "OpenSourceTechniques-6\n",
      "b'\\x91\\x8e\\x80\\xf0\\x13\\xf7<B\\'WL\\xf8\\x16\\xbckT\\'RA\\x9f\\x0fa1\\xa1F\\xee\\x89\\x8b\\xc5\\xf5bb\\xeeU\\x8f\\xa7DoUXV\\xc5\\xd9\\xb9\\xb6\\xf4\\xed\\x82\\x17\\xa1`I\\xf6c!\\x0c\\xaa\\xf2\\xa9\\xf9w)\\xce\\x91\\xfd\\xfeu\\x8ef\"\\x84Mi\\xaa\\xa3>\\xf0\\xa7\\xa4\\x1d\\xa7co\\xef\\xb4c\\xa9\\xc9Cs\\xb4\\x1a!\\xfaj\\xb6\\x8aEV\\xa9[\\x15\\x0ff\\xfb\\xb6\\xc19,::a\\\\\\xe2\\x07\\xfa6\\xac\\x1cR\\xf8\\x8a_]\\xf1\\xdf\\x91\\xd8\\xc3X\\x86\\x0f?\\x80vc\\xa8\\xef\\t\\rg\\xd4\\xcd\\xe1\\xe9\\xee\\xc3tsas\\xe9\\x17\\xb6\\xef\\xf4\\x1c\\x99(\\xf7'\n",
      "Length: 160\n",
      "Embedding Efficiency: 4.25\n",
      "==============\n",
      "609Hmm...my uncle just informed me that he's paying the school directly. So pls buy food.\n",
      "customizedTechniques-2\n",
      "Joo...oa wpeng lwuv kphqtogf og vjcv jg'u rcakpi vjg uejqqn fktgevna. Uq rnu dwa hqqf.\n",
      "Length: 86\n",
      "customizedTechniques-3\n",
      "hLLL>",
      ">>",
      ">",
      ">>",
      "E>>",
      ">>",
      "L>s>>>L\n",
      "Length: 86\n",
      "customizedTechniques-5\n",
      "¿¿~~~¿±pÇÀµ¾·p¼ÇÅÆp»À¸ÁÄ¿·¶p¿·pÆº³Æpº·wÅpÂ³±»À¹pÆº·pÅµºÁÁ¾p¶»Ä·µÆ¾±~p¥ÁpÂ¾Åp´Ç±p¸ÁÁ¶~\n",
      "Length: 86\n",
      "OpenSourceTechniques-6\n",
      "b'{/\\x12_E\\x0cc^\\x08O\\xb0\\xca\\xc7N\\xa9\\xbb\\xd08\\xfeL;P\\x1e\\x8c\\xdd\\xe4\\x97H*\\x99f;\\xd8hC\\x85\\xfd$\"\\x93\\xe89\\x97\\x14{\\xfe\\x9f\\xbe\\x98\\xbd\\xe7y\\xde\\'\\n\\xae7\\xd37a\\xc9y\\xe3\\xf3\\x7fa=l\\x9a\\xa2\\xf7lD\\xa0\\xb9\\x0f\\x94?\\xaf\\xe4Ol\\xf3\\xee\\\\n\\x98\\xa0\\xe9V\\x88R\\x9a\\xb9=\\nn2k\\t\\xf2\\x05\\x9azOg\\xd8\\xff\\x93\\xe9\\xb7\\xa4y\\xb5B\\x94\\xb6$$\\x8f\\x07\\x84\\x0cw\\xe1\\xe8\\xf6\\xe6`\\xe7\\xf9e#\\x98u\\xbb5\\x19/\\xa9\\x10\\xc6:\\xbf\\x1bd{\\x9f\\x7f[6\"\\xb0\\x95\\xdey\\xc9\\xd6\\xdd\\xa1'\n",
      "Length: 160\n",
      "Embedding Efficiency: 4.3\n",
      "==============\n",
      "610Got c... I lazy to type... I forgot Ì_ in lect... I saw a pouch but like not v nice...\n",
      "customizedTechniques-2\n",
      "Iqv e... K ncba vq varg... K hqtiqv L_ kp ngev... K ucy c rqwej dwv nkmg pqv x pkeg...\n",
      "Length: 86\n",
      "customizedTechniques-3\n",
      "g>LLL>i>>>",
      "LLL>i>>j}>>",
      "LLL>i>>>>>",
      ">>>",
      "LLL\n",
      "Length: 86\n",
      "customizedTechniques-5\n",
      "ÁÆpµ~~~pp¾³²±pÆÁpÆ±Â·~~~pp¸ÁÄ¹ÁÆp¯p»Àp¾·µÆ~~~ppÅ³Ép³pÂÁÇµºp´ÇÆp¾»½·pÀÁÆpÈpÀ»µ·~~~\n",
      "Length: 86\n",
      "OpenSourceTechniques-6\n",
      "b'+\\xc9\\x10x\"S\\xa4\\xfd\\x80%\\xbc\\x80\\x8b\\xa1\\x15E\\x1ec\\x93r\\x82\\xf0\\x10\\xad\\xd7\\xbb\\xafWi\\x8dl\\xa5\\x84v\"\\xa2\\xcc\\x9e\\x04|6W\\x1d\\xef\\xfa[\\x94\\xea\\x01\\xb36/\\x91E\\x16!k\\x9f\\x01\\xcc\\x8d\\x8f\\x1f\\xf6#x\\x12h\\xb3\\x9c\\x11\\x8e\\xcc\\xf0L\\xc9arx\\n]/C\\x02\\xc3\\xbd%6#4\\xff\\x01\\xd7\\x1b\\xc0N\\x8c\\xfb\\xedq\\xa0\\xe7\\x91\\xb6\\x86\\xcbbxCX\\xa7b_\\xb0\\xf3\\xc0\\x97U\\xc0\\x0b\\x9aY\\xcb_67\\xc4s\\xba\\x96\\xb1\\xf2\\x85\\xfc\\x92\\x07*\\x9b9W+\\xf84\\xc5'\n",
      "Length: 144\n",
      "Embedding Efficiency: 4.777777777777778\n",
      "==============\n",
      "611You please give us connection today itself before  &lt;DECIMAL&gt;  or refund the bill\n",
      "customizedTechniques-2\n",
      "Aqw rngcug ikxg wu eqppgevkqp vqfca kvugnh dghqtg  &nv;FGEKOCN&iv;  qt tghwpf vjg dknn\n",
      "Length: 86\n",
      "customizedTechniques-3\n",
      "_>",
      "",
      ">",
      ">>",
      ">>",
      ">",
      "",
      ">>DYdecimalDY>>>",
      ">",
      ">\n",
      "Length: 86\n",
      "customizedTechniques-5\n",
      "ÁÇpÂ¾·³Å·p¹»È·pÇÅpµÁÀÀ·µÆ»ÁÀpÆÁ¶³±p»ÆÅ·¾¸p´·¸ÁÄ·ppv¾Æv¹ÆppÁÄpÄ·¸ÇÀ¶pÆº·p´»¾¾\n",
      "Length: 86\n",
      "OpenSourceTechniques-6\n",
      "b'\\x8d+\\xba\\xaa @W\\x00\\xdbF\\x1a\\x15\\xd2\\x02\\xbd\\x13*\\xebF\\x85\\xcd\\xe3~\\xfa\\x13\\x92DG\\xa1/\\xa3QC\\xff9\\x94\\xa0\\x01uM\\xee\\xadj\\x10\\xc7\\x98\\xd5\\xd4\\xe7a\\xc22\\xd0\\x8ck\\x18k\\x98\\x16LN\\x9em~\\x1fb\\x0f\\x19)\\xb5\\xc9\\r @(8o\\xaa7\\x99\\x80\\xd9\\xe6\\x9f\\xf1;\\xbf6\\xca\\xba\\xcdr\\xaa\\xc2\\xe2D1\\x8f\\xc3l\\xc3\\xc3T\\x8f\\x07\\x9c\\xa6{\\x8c\\xf2I\\r\\xc4Z0N\\xf8(\\xc3\\x82IRqU\\xf4\\xb5gA\\x07\\r@\\xd2\\r\\t\\xf7\\xe6\\xe6\\x9bw\\xf2\\xe7\\x97v\\xa8\\xb7V\\x84\\x17\\x91\\xaf\\xf5\\xc2F[\\xf2$\\xba\\xa8\\x1b@'\n",
      "Length: 160\n",
      "Embedding Efficiency: 4.3\n",
      "==============\n",
      "612I'm reading the text i just sent you. Its meant to be a joke. So read it in that light\n",
      "customizedTechniques-2\n",
      "K'o tgcfkpi vjg vgzv k lwuv ugpv aqw. Kvu ogcpv vq dg c lqmg. Uq tgcf kv kp vjcv nkijv\n",
      "Length: 86\n",
      "customizedTechniques-3\n",
      "iE>",
      ">",
      ">",
      ">>>",
      ">L>i>",
      ">>",
      ">>",
      "L>s>",
      ">>>>\n",
      "Length: 86\n",
      "customizedTechniques-5\n",
      "w¿pÄ·³¶»À¹pÆº·pÆ·ÊÆp»p¼ÇÅÆpÅ·ÀÆp±ÁÇ~pÆÅp¿·³ÀÆpÆÁp´·p³p¼Á½·~p¥ÁpÄ·³¶p»Æp»ÀpÆº³Æp¾»¹ºÆ\n",
      "Length: 86\n",
      "OpenSourceTechniques-6\n",
      "b'\\n\\xb9\\x96i\\xae\\x01(\\x0c.\\x0e5\\xb7\\xa5b\\xa0p\\x94\\xd6~\\xa5P\\xea0\\xf0\\x19\\xfd\\xca\\x0f(\\xe2\\x98\\xaa\\xee\\xb0\\n\\xca\\xe7\\xfb\\x90\\x8d\\xdb W\\x90+\\x15\\x0e\\xcf\\x1e\\xcb\\xbb\\xb8\\xac\\xee\\xb54(\\xef\\xa7[x\"\\x06n\\xc2G:\\xa4\\xf3\\x1dA\\xc8\\xe5T\\x8e\\xcc\\r$\\xc4\\xed\\xaa\\xe7\\x83\\x90S=\\xff\\xef\\'dg\\xa5P)+\\x8d\\x07\\xeaK{,\\xbc$\\x13\\x84>\\x9d\\xc4\\xc8\\xcd\\xa7\\x8co\\xa7.q[\\x85\\xe0\\x9f\\xfb\\xbe*\\x13j\\xb1\\xb4\\xff\\xe9\\xa8uu\\x01\\x1d,\\xed\\xd3;G\\xd8\\xca`\\xfe\\xd1\\xe2oi\\xef\\xf1G)B\\xbe\\xe7*\\xbf\\xff\\xd4u\\xff'\n",
      "Length: 160\n",
      "Embedding Efficiency: 4.3\n",
      "==============\n",
      "613You have an important customer service announcement. Call FREEPHONE 0800 542 0825 now!\n",
      "customizedTechniques-2\n",
      "Aqw jcxg cp korqtvcpv ewuvqogt ugtxkeg cppqwpegogpv. Ecnn HTGGRJQPG 0800 542 0825 pqy!\n",
      "Length: 86\n",
      "customizedTechniques-3\n",
      "_>",
      ">>>",
      ">",
      "",
      ">",
      "",
      "L>c>freephone>NVNN>SRP>NVPS>?\n",
      "Length: 86\n",
      "customizedTechniques-5\n",
      "ÁÇpº³È·p³Àp»¿ÂÁÄÆ³ÀÆpµÇÅÆÁ¿·ÄpÅ·ÄÈ»µ·p³ÀÀÁÇÀµ·¿·ÀÆ~p³¾¾p¤¢¡ pp",
      "p",
      "pÀÁÉq\n",
      "Length: 86\n",
      "OpenSourceTechniques-6\n",
      "b\"\\xad&k\\x8c%\\xa5x\\xf0\\xfd\\xa8\\x88\\xb6\\x8a\\xcfdyV\\xad\\x81\\xd7\\x8a\\x9f\\xcd\\xa6\\x808\\x8a\\xe3u\\x13L%T\\xaf\\x1a\\x1b\\xf9|4+\\x0f\\x92VU8$\\xebA\\xdc\\x97\\xbe\\xbdm&\\xcc\\xecS\\xc1\\xbaa\\x04\\n6\\xf6\\xf0*SZi\\x14\\xf3c\\xbb\\xdct\\xbe\\xe0\\x12\\x91\\x1e\\xadH\\xc7\\x88\\xf7\\x98\\x1c{ \\xba\\xce\\x97\\x94\\x93'\\xdc\\xa6\\xdf\\x92A\\x96\\x93\\xea\\x7fY\\xbdjl\\xbc+\\x84|\\xe4\\t\\xd5\\x0b\\xaf1\\xcf6\\xb5\\xecF\\x18]\\x1aR\\xf7\\x84F\\xb6\\xd1\\x14\\x98xK\\x0f\\xed\\x83r\\x7f\\x96\\xac\\xc0]\\xef \\xa7~e\\xe3\\n1h\\x85\\xe2 \\x14\\x05\\x84\"\n",
      "Length: 160\n",
      "Embedding Efficiency: 4.3\n",
      "==============\n",
      "614Will do. Was exhausted on train this morning. Too much wine and pie. You sleep well too\n",
      "customizedTechniques-2\n",
      "Yknn fq. Ycu gzjcwuvgf qp vtckp vjku oqtpkpi. Vqq owej ykpg cpf rkg. Aqw unggr ygnn vqq\n",
      "Length: 87\n",
      "customizedTechniques-3\n",
      "w>L>w>",
      "",
      ">>>>L>t>>",
      ">>",
      "L>_>",
      "",
      ">",
      ">\n",
      "Length: 87\n",
      "customizedTechniques-5\n",
      "©»¾¾p¶Á~p©³Åp·Êº³ÇÅÆ·¶pÁÀpÆÄ³»ÀpÆº»Åp¿ÁÄÀ»À¹~p¦ÁÁp¿ÇµºpÉ»À·p³À¶pÂ»·~pÁÇpÅ¾··ÂpÉ·¾¾pÆÁÁ\n",
      "Length: 87\n",
      "OpenSourceTechniques-6\n",
      "b'\\xdeVA\\xde&q\\x17\\xa4\\xca\\x95\\\\cR\\xc9}\\xa6\\xf1\\x0f1[\\xa8\\xf2\\x91\\x8f\\xeb\\xc4\\x92C\\x13>\\x0e\\xd8n\\xb1b\\xf6\\xb3N\\xae\\x11\\xe2$\\x8fV\\x99\\xca[_\\xca<\\x97\\xf6\\xd2\\xd0\\x1e\\x0e\\xa2\\xc2\\xf2;J\\xbd\\x0c]\\x96g\\xaa\\x86\\xb47\\xb0g\\x9c\\xcc~1\\xef\\x96\\xf2XH\\xfd9\\xe5\\xd0\\x86\\xbb=;(h-`Kfu\\xfbM\\xee\\x0b\\x9c\\xbe\\x005\\x17\\xb8\\xb1\\x0b\\x80\\x9e\\xdc,\\xcf\\x8a S\\xd6\\xfb:\\xba\\xa0?\\xf1\\xf1\\xc7\\xc53\\xdav\\xa3p0E\\xe9\\xab4\\x14\\x05a\\xf7\\x8a\\xd19\\x9d\\xabA\\x02\\xa4\\xd0\\xc5\\xc7\\xf7\\xe4\\x9c\\x93\\x8d\\x04\\xa6\\xd6\\xb5'\n",
      "Length: 160\n",
      "Embedding Efficiency: 4.35\n",
      "==============\n",
      "615what I meant to say is cant wait to see u again getting bored of this bridgwater banter\n",
      "customizedTechniques-2\n",
      "yjcv K ogcpv vq uca ku ecpv yckv vq ugg w cickp igvvkpi dqtgf qh vjku dtkfiycvgt dcpvgt\n",
      "Length: 87\n",
      "customizedTechniques-3\n",
      ">i>",
      ">>>>>>>",
      "",
      ">>>",
      ">",
      ">>>",
      ">",
      "\n",
      "Length: 87\n",
      "customizedTechniques-5\n",
      "Éº³Æpp¿·³ÀÆpÆÁpÅ³±p»Åpµ³ÀÆpÉ³»ÆpÆÁpÅ··pÇp³¹³»Àp¹·ÆÆ»À¹p´ÁÄ·¶pÁ¸pÆº»Åp´Ä»¶¹É³Æ·Äp´³ÀÆ·Ä\n",
      "Length: 87\n",
      "OpenSourceTechniques-6\n",
      "b'i0\\x10:\\xbdO\\xe2\\x81\\xa3a,T\\x05\\xed\\xa8\\x8b\\xa0\\xa3{\\x12\\x84\\x92\\xf6\\x1en\\x86\\xd1\\x1f\\x05\\xfb+\\xe7\\x91\\x8f\\xc5\\xb5\"\\xe8I\\x13;:\\xab\\x01\\x0b\\xd0B\\x0c&(\\xa5\\xa4\\xda\\xbb`\\xe6\\xbf^g \\x82\\x12\\x16l\\xab\\xeb\\xc9\\x98bNN[\\x1f8\\x8cng!\\xe0\\xb4\\x84\\xe9\\xfc{b\\x89&O`E\\x81:\\xfeQ\\x1a\\xf0\\xa1Eza\\x1eD\\xcf\\x19\\xd7\\x1bD\\xfe\\x88q\\xc7\\xbaV?\\xdc\\x05)\\xd1\\xe8\\x7f\\xe1Ub\\xde\\x00p\\x87F\\xf0\\xc4\\xa74\\xff\\x01\\xee<\\xef\\xf8\\x01!\\xa1\\xefLc\\xf7\\x0fC>N\\xcd\\xb3\\xec\\xab\\x98-A>M\\xd8_'\n",
      "Length: 160\n",
      "Embedding Efficiency: 4.35\n",
      "==============\n",
      "616MAKE SURE ALEX KNOWS HIS BIRTHDAY IS OVER IN FIFTEEN MINUTES AS FAR AS YOU'RE CONCERNED\n",
      "customizedTechniques-2\n",
      "OCMG UWTG CNGZ MPQYU JKU DKTVJFCA KU QXGT KP HKHVGGP OKPWVGU CU HCT CU AQW'TG EQPEGTPGF\n",
      "Length: 87\n",
      "customizedTechniques-3\n",
      "make>sure>alex>knows>his>birthda_>is>over>in>fifteen>minutes>as>far>as>_ouEre>concerned\n",
      "Length: 87\n",
      "customizedTechniques-5\n",
      "p¥§¤pªp ¡©¥p¥p¤¦p¥p¡¨¤p p¦ p §¦¥p¥p¤p¥p¡§w¤p¡ ¤ \n",
      "Length: 87\n",
      "OpenSourceTechniques-6\n",
      "b\"\\xc2TI\\x8f$,\\x0c\\x82\\x12\\x13-\\xd7!\\x812\\xdf.\\x8e6\\xb1>\\x99\\xc2b\\x9b\\x0f\\x9d\\xb9\\xae\\x00\\xdf\\x1b1Z\\x8a\\xfd\\xde\\x93\\xce\\x1b\\x81\\xe5i \\x19\\x97\\xa6oU\\x1cZ\\xc1I \\x07\\xca\\xbdA\\x8eY&\\x8c\\x0e\\x05+\\x137zg?\\xb7Wh\\xcd\\xc0\\xd2\\xbb\\xeeo\\x84\\x80\\xb1`a\\x13I\\xa4\\x97\\xb3\\xe6A\\x87~\\xbb\\x08\\xd6 \\xdce\\x93\\x02\\x89\\xef\\xc0T\\xb19\\x14\\xd5c)\\x07\\xcf*\\xa3s1\\xbeS\\xd7{\\x11n\\xa4\\xa3\\xe9z\\xda\\x80\\xf2\\x9a\\x00x\\xe6\\xff\\x01\\xc6\\xd9}\\xff\\x06'\\x19m\\xd5n\\xc1\\xbf\\x9b\\xa6\\x13$\\x9a\\xb8\\xd2Y:\\x94\\xd9\\x10\"\n",
      "Length: 160\n",
      "Embedding Efficiency: 4.35\n",
      "==============\n",
      "617I wanted to ask Ì_ to wait 4 me to finish lect. Cos my lect finishes in an hour anyway.\n",
      "customizedTechniques-2\n",
      "K ycpvgf vq cum L_ vq yckv 4 og vq hkpkuj ngev. Equ oa ngev hkpkujgu kp cp jqwt cpayca.\n",
      "Length: 87\n",
      "customizedTechniques-3\n",
      "i>",
      ">>>j}>>>R>",
      ">>>",
      "L>c>>",
      ">",
      ">>>>L\n",
      "Length: 87\n",
      "customizedTechniques-5\n",
      "pÉ³ÀÆ·¶pÆÁp³Å½p¯pÆÁpÉ³»Æpp¿·pÆÁp¸»À»Åºp¾·µÆ~pÁÅp¿±p¾·µÆp¸»À»Åº·Åp»Àp³ÀpºÁÇÄp³À±É³±~\n",
      "Length: 87\n",
      "OpenSourceTechniques-6\n",
      "b'\\xc6\\xeb\\xdb{k\\x18\\xben0\\x0e\\x07.\\xd8\\xa6\\t\\xfdN\\r\\xaa\\x1a\\\\\\x94k@lZ\\x95\\xe9f\\x9f\\xad\\x9b\\x90\\xae\\x92 \\x08\\xb1\\x7fs4\\x1aAM)Dr\\xc6(\\xd1\\x81\\x8a\\xf1\\x91E\\x10S\\xce\\xc0=\\xdbfA\\x05\\x9e\\xa4\\x91s(B\\x9c\\xe3\\xbe\\xc0\\xd3\\xc5\\xbf\\xc9\\x04\\x14\\x1a\"\\xfe\\xa9\\xa3.\\xa7\\xadX\\xdajd@\\xb0-D\\xfa\\xff\\x03\\xc1\\xd9bYI[\\xc2\\xff\\xe1\\xc8\\x10CW(\\xf4\\x1eT\\xfdo^I\\x1f\\xd9\\xdb\\x01\\xf2\\xe5)\\xfd\\xc1\\xe6\\xcb\\xf9:\\xae\\x91\\xb0\\x97\\'\\xa4\\x84\\xde\\xf0\\xbf;\\xdc\\xe0^\\xe4G\\xac\\xb7\\xe8PJq0\\xd4\\xc4_\\x10'\n",
      "Length: 160\n",
      "Embedding Efficiency: 4.35\n",
      "==============\n",
      "618My stomach has been thru so much trauma I swear I just can't eat. I better lose weight.\n",
      "customizedTechniques-2\n",
      "Oa uvqocej jcu dggp vjtw uq owej vtcwoc K uygct K lwuv ecp'v gcv. K dgvvgt nqug ygkijv.\n",
      "Length: 87\n",
      "customizedTechniques-3\n",
      "m>>>",
      "",
      ">>>>>i>",
      ">i>>E>",
      "L>i>",
      "",
      ">",
      ">",
      "L\n",
      "Length: 87\n",
      "customizedTechniques-5\n",
      "±pÅÆÁ¿³µºpº³Åp´··ÀpÆºÄÇpÅÁp¿ÇµºpÆÄ³Ç¿³ppÅÉ·³Äpp¼ÇÅÆpµ³ÀwÆp·³Æ~pp´·ÆÆ·Äp¾ÁÅ·pÉ·»¹ºÆ~\n",
      "Length: 87\n",
      "OpenSourceTechniques-6\n",
      "b'\\x99\\x16\\xb4\\x0e\\x8cc\\xfc\\x83>\\xf6\\xf4M\\xffA\\x9b\\xd3O\\x0f\\x16\\x8e\\x17\\xfb\\xee\\xe3\\x83GY\\xaf\\xdb\\xc8\\xeadHY.\\xec2\\x14\\xeb\\xe7\\x1e[\\x10KK\\x9e>\\x07R/\\x15y\\xc1\"\\x1b`\\xb3\\xa64\\x08\\x1f\\x1d\\xf2L\"\\x8a\\x05\\xc8A\\x85\\xf3\\x08\\xb0\\xf3\\x9a\\t\\xcf\\xe5\\xb6\\x1b\\xd5ZEwPi2\\\\\\x89\\xa2\\x9d\\x8fN\\x830\\xcf\\xb4\\xafw\\'\\x99\\xebi&{S\\xb9\\xe8\\xc1\\xea\\x9c\\xfd\\x06\\xc4\\xf2x\\x94\\xa1\\x00\\xd1\\xa7\\xf5\\xadZ\\xdeX\\xd78\\x10D\"T\\xc7\\xa6\\xb8\\x14\\xf7\\xcf\\x94\\xcft]\\xc1\\x9b[\\x1b\\xe1c\\x9a\\x06a\\x14\\xe1\\xc0*\\x8b\\xd9\\xf7\\x84\\xd8'\n",
      "Length: 160\n",
      "Embedding Efficiency: 4.35\n",
      "==============\n",
      "619Doesn't g have class early tomorrow and thus shouldn't be trying to smoke at  &lt;#&gt;\n",
      "customizedTechniques-2\n",
      "Fqgup'v i jcxg encuu gctna vqoqttqy cpf vjwu ujqwnfp'v dg vtakpi vq uoqmg cv  &nv;#&iv;\n",
      "Length: 87\n",
      "customizedTechniques-3\n",
      "d",
      "E>>",
      ">>",
      ">>>>E>",
      ">>>",
      ">>>DYADY\n",
      "Length: 87\n",
      "customizedTechniques-5\n",
      "Á·ÅÀwÆp¹pº³È·pµ¾³ÅÅp·³Ä¾±pÆÁ¿ÁÄÄÁÉp³À¶pÆºÇÅpÅºÁÇ¾¶ÀwÆp´·pÆÄ±»À¹pÆÁpÅ¿Á½·p³Æppv¾Æsv¹Æ\n",
      "Length: 87\n",
      "OpenSourceTechniques-6\n",
      "b']\\xf2\\xfd\\xe5\\xe4P\\x1a\\xd5\\\\\\x81\\x0cN\\x8cZ\\xa3k\\xc9\\xc85\\xee\\xcbQ\\x9f\\xaa`\\xb3\\x8d0\\xa4\\xc8a~I\\xcf\\xc0\\xbf\\xea(\\xce\\xda\\'`K\\x95\\xb76* \\xc4\\xa85\\xfe/\\xb5+\\xe6\\x05\\xd1\\xe3\\xdb\\x0b\\xd6\\x92\\xee\\xc2\\xcf\\x86\\x7f+\\x9b\\xf4\\x17\\xa2\\xcdM}\\x06\\x81\"\\xed\\xe1\\xf0\\r\\xcb\\xe1g\\x8ax<\\x12\\x9bv\\x16!\\xd4P\\xb6\\xdf3\\x87\\xc4\\xee\\xacyh\\x99\\xfeZ%(\\xcc-\\x07\\xa8\\xe0,p\\x03m\\tC\\x0f\\x9b\\x1d_:+|&M\\xab\\x13\\xc6/\\x9do\\xf9\\x0e!\\xb2\\x1b%\\xa8k\\xc6X\\xa0\\xb6e\\xfd\\x86`!\\xc23/\\x1d\\xb1\\x1b\\xd3'\n",
      "Length: 160\n",
      "Embedding Efficiency: 4.35\n",
      "==============\n",
      "620If he started searching he will get job in few days.he have great potential and talent.\n",
      "customizedTechniques-2\n",
      "Kh jg uvctvgf ugctejkpi jg yknn igv lqd kp hgy fcau.jg jcxg itgcv rqvgpvkcn cpf vcngpv.\n",
      "Length: 87\n",
      "customizedTechniques-3\n",
      "i>",
      ">",
      ">",
      ">",
      ">>",
      ">>>",
      ">L",
      ">",
      ">",
      ">",
      ">>",
      "L\n",
      "Length: 87\n",
      "customizedTechniques-5\n",
      "¸pº·pÅÆ³ÄÆ·¶pÅ·³Äµº»À¹pº·pÉ»¾¾p¹·Æp¼Á´p»Àp¸·Ép¶³±Å~º·pº³È·p¹Ä·³ÆpÂÁÆ·ÀÆ»³¾p³À¶pÆ³¾·ÀÆ~\n",
      "Length: 87\n",
      "OpenSourceTechniques-6\n",
      "b'\\x12\\x157}\\x828\\xcc\\xb0\\xf2J\\x12\\x9e\\xb2\\xf7\\xa7\\xdd8~*rsO\\xd8_P.\\x83O\\x02\\x93\\xbe\\xd3\\x14\\x04\\xa3\\xb5\\xcd\\xc7\\xd0\\x83\\xc8\\x1d\\xc1\\xf7\\x03\\x9b\\xe1\\xe4h3\\xa8\\xf6\\xd9H\\x0e\\xc2\\xfe\\x13\\xd5\\x90aA\\n\\xf1]-\\x89{\\xcc\\xff\\xa4(\\xc8\\x9f\\xd0\\x06\\x0c\\xe2I\\xd1 `\\xec`k\\xc3\\x02\\xbd\\xa9\\xdf\\r\\xa3\\x13\\x91\\xdb\\x132\\x03H\\xd9ys\\x01\\xe5\\xcf\\x10\\x0c\\x97wL<r\\xa9pN;\\xc5\\xe8T\\x8ag\\xe7(\\xcbf\\xd7p{\\x07\\xfd\\xfd\\xf3K\\xf2\\x0c\\x038\\xe4\\xad\\xf3\\x88\\xda\\x18e(\\x9f\\x1d\\x95\\xc2M\\xe4\\xf0\\xcf\\x8e\\n\\xa4\\x82\\xa5\\xb2\\xd4'\n",
      "Length: 160\n",
      "Embedding Efficiency: 4.35\n",
      "==============\n",
      "621Aft i finish my lunch then i go str down lor. Ard 3 smth lor. U finish ur lunch already?\n",
      "customizedTechniques-2\n",
      "Chv k hkpkuj oa nwpej vjgp k iq uvt fqyp nqt. Ctf 3 uovj nqt. W hkpkuj wt nwpej cntgcfa?\n",
      "Length: 88\n",
      "customizedTechniques-3\n",
      "a>>>>>",
      ">>>>>L>a>Q>>L>u>>>>",
      "]\n",
      "Length: 88\n",
      "customizedTechniques-5\n",
      "¸Æp»p¸»À»Åºp¿±p¾ÇÀµºpÆº·Àp»p¹ÁpÅÆÄp¶ÁÉÀp¾ÁÄ~pÄ¶ppÅ¿Æºp¾ÁÄ~p§p¸»À»ÅºpÇÄp¾ÇÀµºp³¾Ä·³¶±\n",
      "Length: 88\n",
      "OpenSourceTechniques-6\n",
      "b'8\\xbe\\xba\\xc7\\x1b#\\xe9j\\x01\\xbd\\xa3\\x99\\xe9\\xf5\\xcc\\x80\\xcf\\xc8V\\xd5\\x97y,+\\\\\\xceUJ\\x01\\x8bF\\xdd\\xc4\\xeb\\x89\\x12.p)O\\x04\\xe9W\\xfc\\x98~\\xdd/\\x00\\xec\\x02\\xb9\\x0e\\x87.i\\xd0\\xba\\xcbv\\x8d\\xc3`t\\x9f\\xbd\\xed\\xa6l\\x119\\x98\\xacv\\x9d\\xf7\\x18\\xa1G\\x0byd+\\xf0\\xdfW\\x00\\xfe\\xa0\\x8a\\xd1\\xe5\\xcc,\\x01[\\x9e\\x1f/\\x93\\x84v>\\x97\\xd7K\\x1d\\xb1\\xbc\\x8fi\\x03\\xa1\\xf9\\x81\\xd2\\x05sWF\\xd2\\xb0:,\\x8f\\xed>\\xe2AL(X6s&\\xd9Pn\\x02\\xb2\\x8d\\x06d;\\xaa<*\\r}\\xf8\\xa1\\x89\\x88\\x93\\xa2\\xc9\\xfe\\xd8T\\x1f'\n",
      "Length: 160\n",
      "Embedding Efficiency: 4.4\n",
      "==============\n",
      "622I jus reached home. I go bathe first. But my sis using net tell u when she finishes k...\n",
      "customizedTechniques-2\n",
      "K lwu tgcejgf jqog. K iq dcvjg hktuv. Dwv oa uku wukpi pgv vgnn w yjgp ujg hkpkujgu m...\n",
      "Length: 88\n",
      "customizedTechniques-3\n",
      "i>>",
      "",
      ">",
      "L>i>>",
      ">L>b>>>>",
      ">",
      ">>",
      ">",
      ">",
      ">LLL\n",
      "Length: 88\n",
      "customizedTechniques-5\n",
      "p¼ÇÅpÄ·³µº·¶pºÁ¿·~pp¹Áp´³Æº·p¸»ÄÅÆ~pÇÆp¿±pÅ»ÅpÇÅ»À¹pÀ·ÆpÆ·¾¾pÇpÉº·ÀpÅº·p¸»À»Åº·Åp½~~~\n",
      "Length: 88\n",
      "OpenSourceTechniques-6\n",
      "b'\\x9f\\x91\\xfe\\xd6\\xe2\\x7f\\xe8\\x84\\x85M\\xf2\\xb1\\xab\\xc4\\x93\\x14\\x14\\xda6\\x01<\\xe4[\\xbe\\x9e\\x87:\\xf4\\xa7\\xc2\\xd6\\x97\\xa8\\x8a\\xeb_\\xcfU{\\xca\\x84\\xeaf.F\\xe7Pg|\\xf2\\x01m\\xd2\\xdc\\x80\\xd5\\x95\\x01\\x1f\\xa5!\\xf9/\\xb6\\xe5\\x8a\\x9e1Ub\\xdc!\\xe0\"\\xcac\\x0b\\xd0\\xac[\\xb9OI7~\\x84g\\xf53\\xfd\\xbeY-\\xa0S\\xb6Qa\\xd2\\x10*<\\x91\\xcfe\\xf7\\x12\\x84`\\xcf\\xfe\\xc5\\xd9\\xb2\\x1f\\xc7\\xa6)\\x9b\\x1b)\\xfe\\x8d\\xbaIe\\x1b*!\\x99zCE\\xe4\\xc8\\x96\\xc6\\xd5ln\\xa6j\\x81\\xf0\\xcb\\xa8\\x14\\xaeN\\x19~\\xe6}(}&\\x07\\xe7\\xb7\\xc6'\n",
      "Length: 160\n",
      "Embedding Efficiency: 4.4\n",
      "==============\n",
      "623Awesome, I remember the last time we got somebody high for the first time with diesel :V\n",
      "customizedTechniques-2\n",
      "Cyguqog, K tgogodgt vjg ncuv vkog yg iqv uqogdqfa jkij hqt vjg hktuv vkog ykvj fkgugn :X\n",
      "Length: 88\n",
      "customizedTechniques-3\n",
      "a",
      "",
      "J>i>",
      "",
      "",
      ">",
      ">>",
      ">",
      ">>",
      ">>>",
      ">>",
      ">>",
      "",
      ">Xv\n",
      "Length: 88\n",
      "customizedTechniques-5\n",
      "É·ÅÁ¿·|ppÄ·¿·¿´·ÄpÆº·p¾³ÅÆpÆ»¿·pÉ·p¹ÁÆpÅÁ¿·´Á¶±pº»¹ºp¸ÁÄpÆº·p¸»ÄÅÆpÆ»¿·pÉ»Æºp¶»·Å·¾p¨\n",
      "Length: 88\n",
      "OpenSourceTechniques-6\n",
      "b\"\\xd7\\xb7,5M\\x87\\x1aX\\x98\\x89\\xa2B_\\xd1\\xefdY;\\xb9\\xc4\\xfbb-\\x07\\xce_R\\xa0\\xa4\\x9c.\\xbcZ\\xb0\\x96X$\\xfc\\xf4[\\xa4\\x83\\xc1N\\xcb\\x9fR\\x8df\\xf6HY\\x8esJ\\xc6]\\xad\\xc5\\xeb(\\xa4'5Jg1\\xf6\\x98w\\t \\x8d\\xcc\\x8c'|x\\xd3\\x05\\xadp\\x8b\\xd5%~\\x9bWz\\x85\\x91\\xa4\\xa1\\xab\\x04\\x81\\xc8\\x17\\xc3%\\x1de\\xf1\\x13z\\xc6\\x19yqjIj\\xb9\\x9dO\\r\\xb1)\\xb7\\n\\xf8:\\xe6\\xe0\\x0f\\xf1|\\xdc\\x9f\\x9c\\x1e\\xf0\\xd2I=\\xe6\\xb0\\xd4+\\xed\\xa4\\xc0\\xc3\\xbb\\x87\\xf0\\xc9&xP\\xb7L\\x9ew}T\\x15\\xec\\xcd\\x8c\"\n",
      "Length: 160\n",
      "Embedding Efficiency: 4.4\n",
      "==============\n",
      "624Busy here. Trying to finish for new year. I am looking forward to finally meeting you...\n",
      "customizedTechniques-2\n",
      "Dwua jgtg. Vtakpi vq hkpkuj hqt pgy agct. K co nqqmkpi hqtyctf vq hkpcnna oggvkpi aqw...\n",
      "Length: 88\n",
      "customizedTechniques-3\n",
      "b>",
      "",
      "L>t>>>>",
      ">",
      "L>i>>>>>>",
      "",
      ">LLL\n",
      "Length: 88\n",
      "customizedTechniques-5\n",
      "ÇÅ±pº·Ä·~p¦Ä±»À¹pÆÁp¸»À»Åºp¸ÁÄpÀ·Ép±·³Ä~pp³¿p¾ÁÁ½»À¹p¸ÁÄÉ³Ä¶pÆÁp¸»À³¾¾±p¿··Æ»À¹p±ÁÇ~~~\n",
      "Length: 88\n",
      "OpenSourceTechniques-6\n",
      "b'B\\x9d\\xf9hU\\xb2\\xdf\\xada\\x0ei\\xc3$Po\\x88\\x92X\\xfd5\\x8e\\xd95\\x83\\xb9\\xfa%S\\xdd\\xff\\xf9\\x83GT&\\xb9*\\x15\\xeb5>\\x99\\x0cWb\\xa4ze\\xca\\xdaZ\\xf8gdUY\\x0b~\\xb5\\x92\\nn\\x0e\\xb7\\xa3\\xef\\xb2\\x85\\xc94\\xd2\\xdc\\xb6\\x14\\x19\\x0ct\\rr\\xc5$\"\\x18\\xd0\\x80\\xd9\\xf3jml\\xb3\\x01\\xb2\\xb9\\xf9#h\\x91\\x86J\\xac\\x89\\x98\\x85\\x17,Z\\x13\\x9b\\x9d\\xf2g\\x0b+\\x13\\x1d/R_\\xb9\\xeb\\x98\\xce\\xe3\\x95{\\xa6\\xe0\\x89\\xac\\xcd\\xedo\\x9f\\xb4\\xa14\\xbe+9\\x7f\\xd8\\xdd@\\x8f,\\x0f\\x91\\xbe\\x17\\xde\\xaa\\xa8{<\\xf4`\\x0f\\x07\\x1e'\n",
      "Length: 160\n",
      "Embedding Efficiency: 4.4\n",
      "==============\n",
      "625Well imma definitely need to restock before thanksgiving, I'll let you know when I'm out\n",
      "customizedTechniques-2\n",
      "Ygnn kooc fghkpkvgna pggf vq tguvqem dghqtg vjcpmuikxkpi, K'nn ngv aqw mpqy yjgp K'o qwv\n",
      "Length: 88\n",
      "customizedTechniques-3\n",
      "w",
      ">>",
      "",
      ">",
      "",
      ">>",
      ">",
      "",
      ">J>iE>",
      ">>>",
      ">iE>\n",
      "Length: 88\n",
      "customizedTechniques-5\n",
      "©·¾¾p»¿¿³p¶·¸»À»Æ·¾±pÀ··¶pÆÁpÄ·ÅÆÁµ½p´·¸ÁÄ·pÆº³À½Å¹»È»À¹|pw¾¾p¾·Æp±ÁÇp½ÀÁÉpÉº·Àpw¿pÁÇÆ\n",
      "Length: 88\n",
      "OpenSourceTechniques-6\n",
      "b'\\xca\\x04R`|\\xbcp\\n\\x85\\xa1t\\x9eG\\x9c\\xbe:\\xe9\\xe5\"\\x9a\\xac\\xf6\\xb5\\xc0l\\xe0u|X\\xa9\\x12^\\x19\\x0e1`\\xfa\\xba\\x82.u8\\n;p\\x9b\\xc9\\xb1m\\x1d%\\xd1JG<\\x04\\xe4\\x14\\xf5\\x9fH\\xbf^\\x17\\xd6\\xd1\\xa6b\\xe3\\xbay\\x9et\\xa1\\xc3\\xda\\x17X\\xfa\\x19\\x00u\\x18\\xce05\\xd6\\xb1\\x80\\x90\\x01\\xdf;(\\xd5>\\xd3\\xa7\\xbb\\xa0\\xd2\\xdf\\xb0\\xc6*\\xb5p?{\\xca\\xb8\\xb4+\\r\\xa5\\r~x\\xc0;\\xb6l\\xa2\\xee\\xda\\xf7\\xa8\\xce\\xa9I\\xbd\\xe5\\xb65\\xf2\\xfc\\xe3\\xd8\\xb0u\\x85Uz\\xc04\\xd6I\\x89(\\x07\\xdd\\xa2\\xc5W7\\x7f\\x81]\\xa3\\xd1'\n",
      "Length: 160\n",
      "Embedding Efficiency: 4.4\n",
      "==============\n",
      "626Stop the story. I've told him i've returned it and he's saying i should not re order it.\n",
      "customizedTechniques-2\n",
      "Uvqr vjg uvqta. K'xg vqnf jko k'xg tgvwtpgf kv cpf jg'u ucakpi k ujqwnf pqv tg qtfgt kv.\n",
      "Length: 88\n",
      "customizedTechniques-3\n",
      "s>",
      ">L>iE",
      ">>>E",
      ">",
      "",
      ">>>",
      "E>>>>>",
      ">",
      ">L\n",
      "Length: 88\n",
      "customizedTechniques-5\n",
      "¥ÆÁÂpÆº·pÅÆÁÄ±~pwÈ·pÆÁ¾¶pº»¿p»wÈ·pÄ·ÆÇÄÀ·¶p»Æp³À¶pº·wÅpÅ³±»À¹p»pÅºÁÇ¾¶pÀÁÆpÄ·pÁÄ¶·Äp»Æ~\n",
      "Length: 88\n",
      "OpenSourceTechniques-6\n",
      "b'r/\\x86\\xd6Q|yDw\\xf7\\xe3\\x18\\xec\\xca\\xcf\\xbem\\xc5\\xffe\\xbf2\\n\\x9f\\xbf\"\\xaa\\x0c\\x99\\xdb~\\xf1a0\\xa6\\xaaC\\xb9\\x1er\\xc0b\\xac^\\xd9\\xe5\\xde\\x16\\x80\\x87.9ZL\\xc7\\xbb}\\xf4\\xbay-E\\rz\\xd5\\x1c\\xf3\\x88C\\xf6==\\xb3 g6U\\x81|\\x80s\\xfc\\x91,:\\xc8\\xb3\\xe7z\\x00J_\\xe1\\xb1\\xd7s\\x89\\xfd\\x0f$:\\xc7\\xf9\\x99\\xe9\\t?Q\\xf9\\x13\\xd5U\\xff\\xde\\xfas\\xa5\\xd0\\xdfP0]\\x11\\xb9\\xb1\\xb6\\xb6<\\x96\\xab\\xf9\\x1a\\xd9\\x8a*\\xdc\\xe5/XB\\xa4\\xb93\\xe9\\x0e\\xb5/\\xbd7(\\x91\\xc0O\\xafg\\xa2\\xc9\\xb1Ez'\n",
      "Length: 160\n",
      "Embedding Efficiency: 4.4\n",
      "==============\n",
      "627Hey you gave them your photo when you registered for driving ah? Tmr wanna meet at yck? \n",
      "customizedTechniques-2\n",
      "Jga aqw icxg vjgo aqwt rjqvq yjgp aqw tgikuvgtgf hqt ftkxkpi cj? Vot ycppc oggv cv aem? \n",
      "Length: 88\n",
      "customizedTechniques-3\n",
      "h",
      ">>",
      ">",
      ">>>",
      ">>",
      "",
      "",
      ">>>]>t>>",
      "",
      ">>]>\n",
      "Length: 88\n",
      "customizedTechniques-5\n",
      "·±p±ÁÇp¹³È·pÆº·¿p±ÁÇÄpÂºÁÆÁpÉº·Àp±ÁÇpÄ·¹»ÅÆ·Ä·¶p¸ÁÄp¶Ä»È»À¹p³ºp¦¿ÄpÉ³ÀÀ³p¿··Æp³Æp±µ½p\n",
      "Length: 88\n",
      "OpenSourceTechniques-6\n",
      "b'EM\\xee\\x07J\\x98\\xe5x\\xcd\\x1b\\xbc\\xde\\xc1\\x01\\x9b\\xdd&T\\x15\\x99\\xaa\\xa1\\xd1\\x07\\xfa\\x10\\xcaDr\\'\\xb5\\xad%\\xdb_\\xad\\xd1AU\\xf9X\\r\\x0c\\xe4\\x10\\x00s?\\xc3\\xae\\xb9\\xd8#\\x91%Pgv\\x1b\\x90\\xdcvu\\xed\\x8b\\xdc\\xde\\xdf\\x8d\\xa1)X\\x86r|\\x96\\xaf\\x8dF\\x05\\xd8\\xbf\\xe5\\x9b\\x8f\\x10ye\\xc8Y\\xbdmGB\\xaf\\x92\\xc0f\\xe7\\xe8\\xca\\x00\\x13\\x01\\x0f\\x07v\\x99\\xb3u\\xf4\\xb6\\xaf\\xc7%\\x10B\\x8d\\xeb\\x1a,a\"\\x9a\\xda~L6?\\xb8\\xb8\\xc7zLu\\xfb\\xd2\\x9a\\xd4a\\xc3\\x8a\\x9c\\xd8\\xb9^\\x88\\x97\\x9c\\x9d\\xbb\\x94\\xb693\\x94\\r\\x06\\xe7\\xe3'\n",
      "Length: 160\n",
      "Embedding Efficiency: 4.4\n",
      "==============\n",
      "628Yar lor he wan 2 go c horse racing today mah, so eat earlier lor. I ate chicken rice. U?\n",
      "customizedTechniques-2\n",
      "Act nqt jg ycp 2 iq e jqtug tcekpi vqfca ocj, uq gcv gctnkgt nqt. K cvg ejkemgp tkeg. W?\n",
      "Length: 88\n",
      "customizedTechniques-3\n",
      "_>>",
      ">>P>>>",
      ">>>J>>",
      ">",
      "",
      ">L>i>",
      ">",
      ">",
      "L>u]\n",
      "Length: 88\n",
      "customizedTechniques-5\n",
      "³Äp¾ÁÄpº·pÉ³Àpp¹ÁpµpºÁÄÅ·pÄ³µ»À¹pÆÁ¶³±p¿³º|pÅÁp·³Æp·³Ä¾»·Äp¾ÁÄ~pp³Æ·pµº»µ½·ÀpÄ»µ·~p§\n",
      "Length: 88\n",
      "OpenSourceTechniques-6\n",
      "b'\\xe4Z\\x8aAj\\xce\\xcd\\x1f\\xda\\xfat\"#\\xb0\\xa3\\x17m3[\\x96Jn,[\\x8c\\x99%\\tf\\xbcc0\\xd8\\xf8\\xd4\\xb8j\\x12\\xc2\\xee\\xeb\\x8e(\\x04\\x9f\\x11\\xf96\\xe1 \\xcd\\x1b\\xf6\\x11,\\\\\\xb4\\xaa\\x8a\\xca\\xa7\\xdbs\\x95\\t\\xcbj\\x98\\xe5]\\x07\\xa0\\x89A\\x14V\\x9737\\xed\\xa1\\xeb\\x9c\\xf3\\x0b\\x1b \"\\x11;1\\xf1SX\\xe3\\x8a>\\xd8\\xd1\\xf5\\x87\\xca5\\xe7\\x14\\xab\\xf5\\xa1|\\xcd\\x86S?#\\xc8V\\xcfhW\\xb4\\xfe\\x02\\x9bF\\xc0\\xc1\\xe3_\\x8e\\xa2\\xf1W\\xd8\\x83\\xb6,1s\\xdb\\xbf3\\x17\\xde\\x8eR\\xcc\\xd7\\xcc\\x04yX\\xffo\\x7f\\x8c\\x948!\\x93 '\n",
      "Length: 160\n",
      "Embedding Efficiency: 4.4\n",
      "==============\n",
      "629The message sent is askin for  &lt;#&gt; dollars. Shoul i pay  &lt;#&gt;  or  &lt;#&gt; ?\n",
      "customizedTechniques-2\n",
      "Vjg oguucig ugpv ku cumkp hqt  &nv;#&iv; fqnnctu. Ujqwn k rca  &nv;#&iv;  qt  &nv;#&iv; ?\n",
      "Length: 89\n",
      "customizedTechniques-3\n",
      "t",
      ">",
      "",
      ">",
      ">>>>>DYADY>L>s>>>>DYADY>>>>DYADY>]\n",
      "Length: 89\n",
      "customizedTechniques-5\n",
      "¦º·p¿·ÅÅ³¹·pÅ·ÀÆp»Åp³Å½»Àp¸ÁÄppv¾Æsv¹Æp¶Á¾¾³ÄÅ~p¥ºÁÇ¾p»pÂ³±ppv¾Æsv¹ÆppÁÄppv¾Æsv¹Æp\n",
      "Length: 89\n",
      "OpenSourceTechniques-6\n",
      "b'\\x0cOa\\xe9\\xbf\\xe6\\xc3\\xf0\\xc4{\\xc7 \\x7fy\\xec\\xf5\\xd3\\xfc\\xcf\\xec\\x04\\xa1\\xc7\\xd1{@\\x81\\x92\\xd7\\x9d\\xcc\\xf7\\xcd)\\x13\\x8d\\x88\\xe4\\xbd\\x95y5\\x1d\"\\xa7\\x7f\\x13\\xe2\\xc1\\xf3\\x96\\xd1)]\\xef\\x9d\\xb9\\x965,\\xf2&7\\xf3\\xfclE:$i\\xfe\\xb6-\\x86H\\xac\\xe0%)\\x15%\\xa3\\xd5\\xd8\\xbeQ\\x8b\\x10J\\xda~\\xccu8\\xb9\\x9fq\\xec\\x9a\\x9b,\\x14\\x8f\\xd5\\xfbS\\xde\\xee\\x06g\\xa7/\\x07\\xac\\xe4\\xc6?XL\\x93\\xa17,\\xe3~>\\x96Z\\x04;\\x14\\rM\\xc4\\xc6\\x0b{\\xe46o\\x11I\\x87\\x8ba\\xferCsi\\x929\\xed\\x12\\xb9\\xea\\x02\\x80\\x80\\x9b'\n",
      "Length: 160\n",
      "Embedding Efficiency: 4.45\n",
      "==============\n",
      "630Your credits have been topped up for http://www.bubbletext.com Your renewal Pin is tgxxrz\n",
      "customizedTechniques-2\n",
      "Aqwt etgfkvu jcxg dggp vqrrgf wr hqt jvvr://yyy.dwddngvgzv.eqo Aqwt tgpgycn Rkp ku vizztb\n",
      "Length: 89\n",
      "customizedTechniques-3\n",
      "_>",
      ">",
      ">",
      "",
      ">",
      ">>>XMML",
      "",
      "L>_>",
      "",
      ">p>>\n",
      "Length: 89\n",
      "customizedTechniques-5\n",
      "ÁÇÄpµÄ·¶»ÆÅpº³È·p´··ÀpÆÁÂÂ·¶pÇÂp¸ÁÄpºÆÆÂÉÉÉ~´Ç´´¾·Æ·ÊÆ~µÁ¿pÁÇÄpÄ·À·É³¾p¢»Àp»ÅpÆ¹ÊÊÄ²\n",
      "Length: 89\n",
      "OpenSourceTechniques-6\n",
      "b'x\\x14\\x08\\xb9\\x81\\x88\\xfc\\xe6e2\\x8c\\xebH\\xd10\\x05\\xa6{\\xb5\\xe1(\\x9c\\xcf7\\x13t|\\xa3\\xf7\\x98j7y`\\xd8J\\xce\\x13FpR\\xc7\\xdb\\xed%\\xe86\\xbf2\\x86\\x1cq\\x0c\\xc3\\x90\\xf8\\xd2\\xdc[<\\xad\\xbf\\xde@\\x0c0\\xaf8\\x12E\\xea\\xda\\x18\\xdf6\\xd5=G\\xf5\\xde\\xc7F\\xac?N`\\x98\\xee?e\\x05\\xe5\\xc6\\xf6\\xf2\\x10\\x99\\xc7kGe+\\xc4\\xa9\\xbfV\\xe9=\\x97=\\xa4\\x07<\\xae\\xaa8T.\\xa6,`\\xa74\\x0b\\xf9+_\\x8c\\xf6\\xf2\\xb9\\x96\\xf6\\x14\\x84\\xcfP\\x825\\x036K\\xef\\xe5\\xba\\xf3cj\\xfaj\\x1e\\xec\\xef\\xc5\\x950e\\x84\\xaa\\r\\x14\\x91\\xf1\\xad\\xe5\\xe3\\x19w!<4\\xc71\\xdb\\x91\\xb0'\n",
      "Length: 176\n",
      "Embedding Efficiency: 4.045454545454546\n",
      "==============\n",
      "631Lol! U drunkard! Just doing my hair at d moment. Yeah still up 4 tonight. Wats the plan? \n",
      "customizedTechniques-2\n",
      "Nqn! W ftwpmctf! Lwuv fqkpi oa jckt cv f oqogpv. Agcj uvknn wr 4 vqpkijv. Ycvu vjg rncp? \n",
      "Length: 89\n",
      "customizedTechniques-3\n",
      "l?>u>?>j>>>>>>",
      "L>_",
      ">>>R>L>w>",
      ">]>\n",
      "Length: 89\n",
      "customizedTechniques-5\n",
      "Á¾qp§p¶ÄÇÀ½³Ä¶qpÇÅÆp¶Á»À¹p¿±pº³»Äp³Æp¶p¿Á¿·ÀÆ~p·³ºpÅÆ»¾¾pÇÂppÆÁÀ»¹ºÆ~p©³ÆÅpÆº·pÂ¾³Àp\n",
      "Length: 89\n",
      "OpenSourceTechniques-6\n",
      "b'Gpt\\xcb\\x89\\xcaJ\\xf9dQ\\xaa\\x8exZ#d\\xe6\\x05\\x13\\x1b\\xb0\\xf3\\xcb2\\x95\"\\xf4\\xbf\\xf0F\\xe6\\x81\\xcdL\\x99\\x070\\xca\\xca\\xa2l\\x9bV\\xb7~\\xde\\xcb\\x8e\\x8e\\xd0\\x88\\x0b\\xdf\\xc9u[\\x8c\\xe5X\\x7f\\xfb\\xd3\\x17b\\xb0\\x04\\xda\\xa3\\xb3\\xb5\\xf1B\\n\\xbfe\\x92\\xaf\\xa6\\xae\\x84\\xce\\x04z\\x83\\xdd\\x17x\\x97$\\x07\\x9c,=\\xfd/\\xacR9e\\x05=\\x84\\xdc-\\x00\\xbb\\xa9\\xf5j\\x12P#\\xfdO\\'nMC*<Y\\x0bj\\xab\\xd6v(\\x1c\\xffb\\x8e\\x83\\x81\\xb8\\xdb\\xbf\\xb8_\\x19I\\xc2Y\\x05;\\x17\\x1b\\x98*?\\xf6\\xf6\\x95K\\x87d\\xee\\x0b\\x9d6)'\n",
      "Length: 160\n",
      "Embedding Efficiency: 4.45\n",
      "==============\n",
      "632Thanks for yesterday sir. You have been wonderful. Hope you enjoyed the burial. MojiBiola\n",
      "customizedTechniques-2\n",
      "Vjcpmu hqt aguvgtfca ukt. Aqw jcxg dggp yqpfgthwn. Jqrg aqw gplqagf vjg dwtkcn. OqlkDkqnc\n",
      "Length: 89\n",
      "customizedTechniques-3\n",
      "t>>",
      "",
      ">L>_>",
      ">",
      "",
      ">",
      "L>h",
      ">>",
      "",
      ">",
      ">L>mb\n",
      "Length: 89\n",
      "customizedTechniques-5\n",
      "¦º³À½Åp¸ÁÄp±·ÅÆ·Ä¶³±pÅ»Ä~pÁÇpº³È·p´··ÀpÉÁÀ¶·Ä¸Ç¾~pÁÂ·p±ÁÇp·À¼Á±·¶pÆº·p´ÇÄ»³¾~pÁ¼»»Á¾³\n",
      "Length: 89\n",
      "OpenSourceTechniques-6\n",
      "b'\\xf4\\x9c\\xd9om\\xe7\\xa3\\xba\\xfd\\xc1\\xf2\\xa6\\x95\\xa4]\\x02\\xf3\\x92&\\xe2.+\\x13G&\\xcaP\\xc0o\\xa3\\xf6\\x7f\\xe1\\xa5\\xf5\\x03W]_\\xe5Uz`\\xfc+\\xf5 /_\\x18\\xc0\\xfc#l,\\xd2\\xd4\\xa6\\x02\\xb7\\xe9\\xa56D\\xf9\\x9483n(\\xaeA\\x84|\\xa7\\xf2B\\x13\\xe8\\x8b\\xac$\\x82\"L!^g6\\xd7pTD\\xe6\\xc4tH\\xb4\\x92\\xeb\\x89 \\xd1\\x04\\x92\\x8c\\x91W\\xc6\\xc5\\x89~\\xa3Q\\x1c\\xf1V\\r&\\x01\\x1b\\x1c6Y\\x0b\\x1cC#d\\xf1\\xb6\\xbf\\x1ec f\\xcb\\xff/s\\xa7\\x7f\\xf8g\\x13\\xcc\\xaaq\\x92\\xe6\\xe5/\\xbd\\x13=\"l\\x82\\xf1\\x89,g\\xf7\\xd75\\xa4\\xb54\\x14f\\xcd\"\\xc6p\\xfd\\x1d'\n",
      "Length: 176\n",
      "Embedding Efficiency: 4.045454545454546\n",
      "==============\n",
      "633Yo carlos, a few friends are already asking me about you, you working at all this weekend?\n",
      "customizedTechniques-2\n",
      "Aq ectnqu, c hgy htkgpfu ctg cntgcfa cumkpi og cdqwv aqw, aqw yqtmkpi cv cnn vjku yggmgpf?\n",
      "Length: 90\n",
      "customizedTechniques-3\n",
      "_>J>>",
      ">",
      ">",
      ">",
      ">>",
      ">>J>>>>>>",
      "",
      "",
      "]\n",
      "Length: 90\n",
      "customizedTechniques-5\n",
      "Ápµ³Ä¾ÁÅ|p³p¸·Ép¸Ä»·À¶Åp³Ä·p³¾Ä·³¶±p³Å½»À¹p¿·p³´ÁÇÆp±ÁÇ|p±ÁÇpÉÁÄ½»À¹p³Æp³¾¾pÆº»ÅpÉ··½·À¶\n",
      "Length: 90\n",
      "OpenSourceTechniques-6\n",
      "b'&\\xe9=\"z\\x95B\\x89\\xaf\\x1a\\x1b=fx\\x8d\\xcb\\xc6AL:Dt\\xfd%j0s\\xc6\\xe2\\xa1\\x10\\x05\\xf4M\\xd5\\xa8\\xa9\\xc7D\\x82.g\\xa2E/90\\xf6U-\\xcf\\xe3\\xfc5u;\\x17\\x01x\\x15\\xcc\\x07,\\x94\\x90|U\\xb5.\\xe1\\xc3p\\xd6\\x9f\\xd7\\x02\\xcf\\xe8\\xe2(\\xb7\\xc6\\xf7+\\x00\\xdf\\x96\\xb7_\\x95\\xcb\\xef\\xebW\\x0b\\xb6\\xa7~\\xd3\\xcad\\xfc\\x80\\x16\\xab\\xeda\\xa5\\x06\\xec+8\\n\\xee\\'z\\x06[c\\xf4\\x12\\x18\\x1dcYo\\x8b\\xb5u\\x9ax1\\xc1\\xcb\\x7f\\x97:\\xaa\\xae\\x9b\\x15\\x1b\\xe0\\xd1\\xb6?`\\xb7\\x06\\x1c\\x1c\\x19\\xe0G\\xd2\\xf3]S\\xcd]\\xd8\\xe5#o\\x0f\\xc3/P5\\xa8\\x19\\x9d\\x0f1\\xa4T'\n",
      "Length: 176\n",
      "Embedding Efficiency: 4.090909090909091\n",
      "==============\n",
      "634Yo chad which gymnastics class do you wanna take? The site says Christians class is full..\n",
      "customizedTechniques-2\n",
      "Aq ejcf yjkej iaopcuvkeu encuu fq aqw ycppc vcmg? Vjg ukvg ucau Ejtkuvkcpu encuu ku hwnn..\n",
      "Length: 90\n",
      "customizedTechniques-3\n",
      "_>>>>>>>>",
      "]>t",
      ">",
      ">>c>>>LL\n",
      "Length: 90\n",
      "customizedTechniques-5\n",
      "Ápµº³¶pÉº»µºp¹±¿À³ÅÆ»µÅpµ¾³ÅÅp¶Áp±ÁÇpÉ³ÀÀ³pÆ³½·p¦º·pÅ»Æ·pÅ³±ÅpºÄ»ÅÆ»³ÀÅpµ¾³ÅÅp»Åp¸Ç¾¾~~\n",
      "Length: 90\n",
      "OpenSourceTechniques-6\n",
      "b'<%\\xfe\\x9bnD_[\\xa9q\\x8et\\xc6\\x03\\x9bI\\xaa\\xa7\\x0e\\xbbL\\x06t\\xefS1\\xb4*5\\x00;x\\xb3\\r`\\xee \\x0f\\x92\\x06f\\'V7\\x99\\x9f!Z\\xfd\\xaa\\xc9\\x94\\x19u\\xe3\\\\n\\xc4\\xa6\\x89jJ\\xdd\\x9a\\xe5\\xf6\\xfc\\xfdp\\x0b\\xe1\\xc1\\xcdO\\x15n\\x1b\\x99\\x8b\\x04\\x7fKa9\\xab\\xce\\xe3#\\xa1\\xf8g?\\x88\\xab(8\\\\\\xb2\\x12\\x16\\xb0\\x9fZ\\xea\\xc8v\\x08\\xab6*\\xd5\\xfd\"\\x87\\x85N\\xc1\\xadV\\xaf*\\x1a\\x84\\xd9x\\x94\\xae`\\xa4\\xd4k9+\\x0e8V\\x92+\\xbf\"\\xbd\\xec\\xc4zV\\x17\\x01F\\x1e\\x90\\xc5\\xee1\\xa6D\\xb6\\xed\\xb1g\\xfe\\xc8g\\xe5\\xad\\xe4\\xdf\\x0c\\x08\\'\\x1f\\xf7\\x15\\x0c\\xd6l\\x1b'\n",
      "Length: 176\n",
      "Embedding Efficiency: 4.090909090909091\n",
      "==============\n",
      "635Oh and by the way you do have more food in your fridge! Want to go out for a meal tonight? \n",
      "customizedTechniques-2\n",
      "Qj cpf da vjg yca aqw fq jcxg oqtg hqqf kp aqwt htkfig! Ycpv vq iq qwv hqt c ogcn vqpkijv? \n",
      "Length: 91\n",
      "customizedTechniques-3\n",
      "o>>>",
      ">>>>",
      ">",
      ">>>>",
      "?>w>>>>>>",
      ">]>\n",
      "Length: 91\n",
      "customizedTechniques-5\n",
      "¡ºp³À¶p´±pÆº·pÉ³±p±ÁÇp¶Ápº³È·p¿ÁÄ·p¸ÁÁ¶p»Àp±ÁÇÄp¸Ä»¶¹·qp©³ÀÆpÆÁp¹ÁpÁÇÆp¸ÁÄp³p¿·³¾pÆÁÀ»¹ºÆp\n",
      "Length: 91\n",
      "OpenSourceTechniques-6\n",
      "b'T\\xdf<\\xb2P\\x92;\\xa6j\\xb8F\\x07\\xf0\\xe9\\xeb/\\xbd\\xaeo\\x80\\x19\\x9a~\\xa8\\x87\\xfcn|\\xc7\\x1d#,H\\x02;V\\xcf\\xe4Z1\\x0e\\x1a\\xaa\\x04\\xf9/\\xc1\\x94(u\\xa2\\xa6n\\x1c&D-|\\x1b+\\xe1\\x0f\\xa8\\xca\\x92\\x81S\\xe9\\xa2\\xa7\\xb6\\xb2|&\\x11|\\xb6\\xf1\\xbcbZ\\xbf\\xe5\\xde\\xc2;\\xdb\\xe6V9\\xc5>Er\\xa6\\xc9\\xb3\\xdd\\x1e\\x122N\\x0c\\xadz#\\x15\\xce\\xb1\\xbf\\xcaX\\t\\xeb\\xf0\\xb5\\xf3\\x0b\\xe1\\x9a\\xf8\\xb4\\xd0\\xc8VL\\x81\\x9a\\x18\\x15\\xfb\\x91\\xd3\\xff\\x1d/~!\\xa0B\\x98\\xf7\\xf2J\\xc1?\\xe9\\xf4l\\x8e\\xc5\\x9b>\\x91\\xdd/\\xa6yg\\xc8\\xe5\\xd4\\x87\\\\<\\xb0\\xdf\\x15\\x89]\\xe1\\xcdrQD\\xf6'\n",
      "Length: 176\n",
      "Embedding Efficiency: 4.136363636363637\n",
      "==============\n",
      "636How are you doing? Hope you've settled in for the new school year. Just wishin you a gr8 day\n",
      "customizedTechniques-2\n",
      "Jqy ctg aqw fqkpi? Jqrg aqw'xg ugvvngf kp hqt vjg pgy uejqqn agct. Lwuv ykujkp aqw c it8 fca\n",
      "Length: 92\n",
      "customizedTechniques-3\n",
      "h>",
      ">>]>h",
      ">E",
      ">",
      "",
      ">>>",
      ">",
      ">>",
      "L>j>>>>V>\n",
      "Length: 92\n",
      "customizedTechniques-5\n",
      "ÁÉp³Ä·p±ÁÇp¶Á»À¹pÁÂ·p±ÁÇwÈ·pÅ·ÆÆ¾·¶p»Àp¸ÁÄpÆº·pÀ·ÉpÅµºÁÁ¾p±·³Ä~pÇÅÆpÉ»Åº»Àp±ÁÇp³p¹Äp¶³±\n",
      "Length: 92\n",
      "OpenSourceTechniques-6\n",
      "b'\\xdby\\xe8!^\\x13\\xec\\xd2\\xd3T\\xac\\x94\\xa1|\\x94\\xd4#\\xe7\\x00\\xa1\\xcf[\\x88\\xc0\\xb3(\\xb0\\x85\\xea/n3y\\x15\\xa1\\x7f> \\x97\\xe7o\\x0fZ\\x85\\x12\\x9fC\\xcd\\x05\\xf6P\\x1ei\\x0ciz\\x8a\\x07T\\xc2\\xa5h\\xae\\xc8Xg\\x96\\xe0\\xe1\\xa4\\xc2\\x88\\xea2g\\xe8\\xed\\xb0\\x9a\\x19\\xc67\\xc9R\\xb7\\xce\\x18\\xab\\x80R2\\x81\\xa5&\\xb3Fts\\xa7\\x1dI\\xeesg\\xe3\\x13H\\xdc\\xc0|xp`g,\\xf6Py[&2\\x95[;\\xca6lm\\xd0|P\\xcfgY@\\xe0\\x19\\xb0<\\x830j\\xbd\\xa4\\xaf\\xa0-\\xc3#\\x92\\x83Z:\\x0c\\xbe\\x1f\\xc4\\xfe\\xeaMjV{\\x95\\x87\\xee\\x95B\\xac\\xe5\\xdc\\xfe\\x9cw\\x9d\\xe3'\n",
      "Length: 176\n",
      "Embedding Efficiency: 4.181818181818182\n",
      "==============\n",
      "637Love it! Daddy will make you scream with pleasure! I am going to slap your ass with my dick!\n",
      "customizedTechniques-2\n",
      "Nqxg kv! Fcffa yknn ocmg aqw uetgco ykvj rngcuwtg! K co iqkpi vq uncr aqwt cuu ykvj oa fkem!\n",
      "Length: 92\n",
      "customizedTechniques-3\n",
      "l",
      ">?>d>>",
      ">>",
      ">>",
      "",
      "?>i>>>>>>>>>?\n",
      "Length: 92\n",
      "customizedTechniques-5\n",
      "ÁÈ·p»Æqp³¶¶±pÉ»¾¾p¿³½·p±ÁÇpÅµÄ·³¿pÉ»ÆºpÂ¾·³ÅÇÄ·qpp³¿p¹Á»À¹pÆÁpÅ¾³Âp±ÁÇÄp³ÅÅpÉ»Æºp¿±p¶»µ½q\n",
      "Length: 92\n",
      "OpenSourceTechniques-6\n",
      "b'\\x11\\x8b\\xaarnh\\xb5\\xf0z\\xd0\\x02\\x03\\xa9\\x90\\xf7\\xca\\x08X\\xb2\\xd3\\xaa\\xb2`\\xe27.\\x8a\\x97\\xf4\\xfc\\x1eU\\x8d\\xd87\\x82\\x9eQ&\\x14~\\x01\\xb4\\x06^.`DU\\x05\\x9f\"\\xf1\\xe7wC\\xa5k\\xf5\\x8a-G&\\x1d\\x0em\\xc2\\x9b7\\xdfH\\x13\\xf64G1\\x81V\\xb7-\\xf4\\x0b\\xb3\\xf1ebR\\xa9\\xa5\\xff\\xc9\\xe1\\xfaO\\xc8q\\x0b\\xb6u86E\\xb1\\x1e\\xa8\\xafl1\\xce,\\xbe\\x9c\\x9dpX\\x9d\\x85\\\\f}\\x0b>9\\x88\\xf2b\\xc00\\xf9wyz\\x1dn3\\xe7YKUE\\xd1\\xc7\\xf8z\\xa0\\xa7V\\xfa\\xa3\\x9d8\\x85\\xd3\\xe9\\x02v\\x16\\x88S\\xbe\\xbd/\\x9b\\n\\x82\\x1fTW\\xd1:[\\x84\\x8d\\x19U\\xaa'\n",
      "Length: 176\n",
      "Embedding Efficiency: 4.181818181818182\n",
      "==============\n",
      "638Watching cartoon, listening music &amp; at eve had to go temple &amp; church.. What about u?\n",
      "customizedTechniques-2\n",
      "Ycvejkpi ectvqqp, nkuvgpkpi owuke &cor; cv gxg jcf vq iq vgorng &cor; ejwtej.. Yjcv cdqwv w?\n",
      "Length: 92\n",
      "customizedTechniques-3\n",
      "w>J>",
      ">>DY>>",
      "",
      ">>>>",
      "",
      ">DY>LL>w>>]\n",
      "Length: 92\n",
      "customizedTechniques-5\n",
      "©³Æµº»À¹pµ³ÄÆÁÁÀ|p¾»ÅÆ·À»À¹p¿ÇÅ»µpv³¿Âp³Æp·È·pº³¶pÆÁp¹ÁpÆ·¿Â¾·pv³¿ÂpµºÇÄµº~~p©º³Æp³´ÁÇÆpÇ\n",
      "Length: 92\n",
      "OpenSourceTechniques-6\n"
     ]
    },
    {
     "name": "stdout",
     "output_type": "stream",
     "text": [
      "b\"PR\\xaf\\x16\\x89\\xebo\\xf4#\\xef\\xea\\x85D\\r\\xe1\\xe7\\x87\\xbb=\\xeb\\x1d'\\xd8\\x7fe\\x8e\\xc9q\\x89Yq\\xe7\\xb3<yC\\x965\\xce1\\xc0\\x81]\\x85\\r\\xd2\\x94)d\\x85\\xb2C'\\xfb\\xbbj^\\xf6h\\x86\\xaaal\\xe8\\x0bv\\xaf(\\xa16zB8X\\xfa_\\xfa\\xe3\\xc0Kv\\x94\\x07\\x93\\x12\\x07&O\\x1d\\x9c\\x16\\xd0;\\x03\\xbb\\xc0\\xa5d/B\\x94\\x05\\x0b\\x05\\x06\\xb6\\xb66e\\xebi-R*-\\xc2.\\xe8a9]\\xa7\\xd4R\\r\\xefi.\\xd9XG\\x11\\xe2\\xe4\\xcf\\xc64:\\xe2\\x9e\\x89\\xbc\\xe7;\\xd2d\\xd9G\\x10\\xd6V3s\\x88z6.L\\xf2;\\xf2\\xc9w\\xa0oz\\xcd\\xa1\\x89i\\xb3\\xda\\xda\\xbb\\x97\\xdf\"\n",
      "Length: 176\n",
      "Embedding Efficiency: 4.181818181818182\n",
      "==============\n",
      "639Ah poop. Looks like ill prob have to send in my laptop to get fixed cuz it has a gpu problem\n",
      "customizedTechniques-2\n",
      "Cj rqqr. Nqqmu nkmg knn rtqd jcxg vq ugpf kp oa ncrvqr vq igv hkzgf ewb kv jcu c irw rtqdngo\n",
      "Length: 92\n",
      "customizedTechniques-3\n",
      "a>L>l>",
      ">>>",
      ">>",
      ">>>>>",
      ">",
      ">>>>>>",
      "\n",
      "Length: 92\n",
      "customizedTechniques-5\n",
      "ºpÂÁÁÂ~pÁÁ½Åp¾»½·p»¾¾pÂÄÁ´pº³È·pÆÁpÅ·À¶p»Àp¿±p¾³ÂÆÁÂpÆÁp¹·Æp¸»Ê·¶pµÇ²p»Æpº³Åp³p¹ÂÇpÂÄÁ´¾·¿\n",
      "Length: 92\n",
      "OpenSourceTechniques-6\n",
      "b\"\\xa3\\xc9e8?I\\x80\\x85\\xf4\\x1e\\x88j|\\xfe\\xc8\\xc8V\\xf6\\xc0\\x8fuV'\\x9c\\x1d\\xf3\\xbb\\xa4\\xb0\\xf8\\xc8\\xc5g\\xf7\\x9c\\xac\\xef.\\x97\\xe70\\x05\\x06\\xb98\\x05\\x8c\\xbc\\xff\\x15\\xee\\xa3n\\x0c\\xa9\\xb5F&%\\x99z\\xab\\x8e;\\xf7v\\xc2\\xeajN\\x14\\xf6\\xf7\\xacV\\x13\\x8f\\x91\\xb7\\xa3\\xa7\\xe2\\xfan-\\xc6V\\x1d\\x95\\x08\\xf4\\xa7M#`\\x05\\xf4a\\x07\\xe0K\\xab\\x02y\\x06\\x8c\\xaez\\x81&U\\xd6b\\xa0\\x1b\\xff\\x19\\x1fy\\xdd\\x84\\xae,\\xe2\\x07\\xd6\\xfe\\x9b\\xf3\\xc7\\xbb\\xdb+\\xf9\\x06\\xa3\\x7f%\\x1f\\xc2\\xfeP\\x8f\\x18\\xb6>J\\xa4\\xd4\\xb2\\xc7\\xf6\\x8b\\xdd\\x95i\\xe1x\\xee\\xa8\\xdf!\\xb0\\xd1[\\xe8\\xf5\\xcc\\xdfd\\xae\\xe7\\xcc\\xb7$]\"\n",
      "Length: 176\n",
      "Embedding Efficiency: 4.181818181818182\n",
      "==============\n",
      "640Well am officially in a philosophical hole, so if u wanna call am at home ready to be saved!\n",
      "customizedTechniques-2\n",
      "Ygnn co qhhkekcnna kp c rjknquqrjkecn jqng, uq kh w ycppc ecnn co cv jqog tgcfa vq dg ucxgf!\n",
      "Length: 92\n",
      "customizedTechniques-3\n",
      "w",
      ">>>>>>",
      "J>>>>>>>>",
      ">",
      ">>",
      ">",
      "?\n",
      "Length: 92\n",
      "customizedTechniques-5\n",
      "©·¾¾p³¿pÁ¸¸»µ»³¾¾±p»Àp³pÂº»¾ÁÅÁÂº»µ³¾pºÁ¾·|pÅÁp»¸pÇpÉ³ÀÀ³pµ³¾¾p³¿p³ÆpºÁ¿·pÄ·³¶±pÆÁp´·pÅ³È·¶q\n",
      "Length: 92\n",
      "OpenSourceTechniques-6\n",
      "b':0\\xbc\\xcbY:9\\xc6\\t\\xc1eb\\xd7\"\\xe4\\x8c\\x95\\x12\\xf7C\\xe5\\x1d\\xa2\\x19\\xc3\\x99\\xb6\\xb6\\xb2\\x1923\"i\\xd3\\xef\\xdfF\\xbd[L\\t\\x19\\x85\\xb6\\x19_\\xbfj\\x05\\x98\\x17\\xb6\\xf5\\xbe\\x16[\\x8c\\x9a\\xb6_\\x1a\\xafWQ\\x1fx\\xf7\\xcb\\x80\\xf9\\x07\\xf7\\xac\\x07\\xdf\\xbb\\x8d\\xac2\\xd7f\\xc0\\n\\xd0\\x95\\xcb\\xc7\\x99C\\x1c|J[1\\xc6~$\\xe0\\x1a\\xa2\\x9a\\xc1\\x87E+ha\\xd1\\x97\\x01\\xe61\\xe78k\\x99\\x9f\\xe3fR\\xca\\xfb^\\xaaW\\x8ei\\xaaM\\xeehz\\xf1\\x11\\xf4Z\\xfd\\x7f\\\\Q[\\xaf\\xe1\\xef\\x97\\x04~\\xc7\\x85u7,\\x8dS\\xdc\\xf1$\\x896\\xd3a\\xb3\\xcd\\x03\\x07\\xce\\xcc%\\xea\\xd92V0\\xd5t'\n",
      "Length: 176\n",
      "Embedding Efficiency: 4.181818181818182\n",
      "==============\n",
      "641But I'm on a diet. And I ate 1 too many slices of pizza yesterday. Ugh I'm ALWAYS on a diet.\n",
      "customizedTechniques-2\n",
      "Dwv K'o qp c fkgv. Cpf K cvg 1 vqq ocpa unkegu qh rkbbc aguvgtfca. Wij K'o CNYCAU qp c fkgv.\n",
      "Length: 92\n",
      "customizedTechniques-3\n",
      "b>iE>>>",
      "L>a>i>",
      ">O>>>",
      ">>>",
      "",
      "L>u>iE>alwa_s>>>",
      "L\n",
      "Length: 92\n",
      "customizedTechniques-5\n",
      "ÇÆpw¿pÁÀp³p¶»·Æ~pÀ¶pp³Æ·ppÆÁÁp¿³À±pÅ¾»µ·ÅpÁ¸pÂ»²²³p±·ÅÆ·Ä¶³±~p§¹ºpw¿p©¥pÁÀp³p¶»·Æ~\n",
      "Length: 92\n",
      "OpenSourceTechniques-6\n",
      "b'\\xf1\\xf2\\xfb\\r\\xb3\\xa2\\xab\\xef \\xc5\\xbd\\x02\\xa1\\xa2{\\x11\\t\\x07\\x1a\\xa0\\x88[\\xba\\r\\x92\\xff\\xfd\\x13\\x8e)\\xda\\xe8~6\\x82\\x1a%,\\x8c\\xae\\xea\\xe00\\xe3\\xfc\\xf2\\xcf\\xe9\\x18\\x8dQ1\\x0c\\xbf\\x056%$\\x02W@\\xf1\\x05\\xa2\\xd1r\\xd9\\x1a\\xc5q\\xf2^l\\xef\\xbe\\xdc\\x10\\x01\\xb0\\xfc\"\\xc8\\xddnJ1\\xea\\xb3X\\xc7\\xabd\\xea\\xed\\xef+\\xf8\\xc2.\\x14\\xc0\\xd5]\\xc8\\xe3\\xc5B&u\\x95\\x0b?\\xe2\\xae\\x8b\\x1d\\xb1\\x02r\\x9e49\\xdcOp\\xa0\\xe9\\xc4Y\\xb2R\\xf8>E$\\x05\\x84}\\x18\\x9dr\\xf6\\x85\\x97x\\xd9\\xb2,\\x86\\x109\\xd7\\xa9/\\xfb+\\xf4\\x7f8f'\n",
      "Length: 160\n",
      "Embedding Efficiency: 4.6\n",
      "==============\n",
      "642Watching cartoon, listening music &amp; at eve had to go temple &amp; church.. What about u?\n",
      "customizedTechniques-2\n",
      "Ycvejkpi ectvqqp, nkuvgpkpi owuke &cor; cv gxg jcf vq iq vgorng &cor; ejwtej.. Yjcv cdqwv w?\n",
      "Length: 92\n",
      "customizedTechniques-3\n",
      "w>J>",
      ">>DY>>",
      "",
      ">>>>",
      "",
      ">DY>LL>w>>]\n",
      "Length: 92\n",
      "customizedTechniques-5\n",
      "©³Æµº»À¹pµ³ÄÆÁÁÀ|p¾»ÅÆ·À»À¹p¿ÇÅ»µpv³¿Âp³Æp·È·pº³¶pÆÁp¹ÁpÆ·¿Â¾·pv³¿ÂpµºÇÄµº~~p©º³Æp³´ÁÇÆpÇ\n",
      "Length: 92\n",
      "OpenSourceTechniques-6\n",
      "b\"\\x0b\\x01\\xe4(>\\x9a\\xb5\\x9c\\xd2,\\x8eJ\\xae\\x8f\\xdd\\xc8)\\xc0;\\xa4\\xf5q\\xc8E\\xddb\\x1b \\x16\\xbb/6f\\xed\\xa7r7a x\\x83\\xfd\\xc3^b\\xbb;c5\\xee\\xfef\\xab/|\\xa7\\xbf$\\\\)\\xd7\\xea\\x9dG\\xc5\\xdf%\\x0f\\x103m\\xd4\\xe40\\x8fA\\xddQS!\\xdd\\xfe\\x85\\xf9Q'\\xa1\\x11\\x91\\xfc\\xab\\xeb?\\xf3\\xd5]dr\\x1f@\\x1f\\x03d(90V\\xaafp\\xde@o\\xf4\\x96<.\\xb7\\xf8\\xba}u\\xaab=\\xcc{\\xb4(\\x08l\\xd7\\xcc?s\\x97($\\x1c\\x0e\\xd2*\\xff\\xadv\\x91\\x19r\\x88g\\xdc\\xfar\\x02(c\\x0e\\xa8x\\xfc\\xd1\\xf6\\x0c\\x1d\\xcd\\x83\\x9d\\xbb%a\\xa4tI\\xce\\xa6\\x94\"\n",
      "Length: 176\n",
      "Embedding Efficiency: 4.181818181818182\n",
      "==============\n",
      "643Lol I would but my mom would have a fit and tell the whole family how crazy and terrible I am\n",
      "customizedTechniques-2\n",
      "Nqn K yqwnf dwv oa oqo yqwnf jcxg c hkv cpf vgnn vjg yjqng hcokna jqy etcba cpf vgttkdng K co\n",
      "Length: 93\n",
      "customizedTechniques-3\n",
      "l>i>>>>>>",
      ">>>>",
      ">",
      ">",
      ">>>>>",
      "",
      ">i>\n",
      "Length: 93\n",
      "customizedTechniques-5\n",
      "Á¾ppÉÁÇ¾¶p´ÇÆp¿±p¿Á¿pÉÁÇ¾¶pº³È·p³p¸»Æp³À¶pÆ·¾¾pÆº·pÉºÁ¾·p¸³¿»¾±pºÁÉpµÄ³²±p³À¶pÆ·ÄÄ»´¾·pp³¿\n",
      "Length: 93\n",
      "OpenSourceTechniques-6\n",
      "b'\\x89\\xf9\\xf7\\xb1{\\xa0\\xe3o\\xe6N\\x99[\\xe9$*\\x9d>r[\\x11H\\x16\\xf9\\x19\\xee\\x11}%(]]z\\x95\\xc1h\\x90fi\\xb0\\x1dP)6\\x80M\\x0b\\xcb\\x81\\xda\\xc9\\x86\\xb2\\xe2F\\xe1N\\xd2\\xd3\\xa7\\xc3h\\xea\\xbe\\x889\\x00vAL#\\xfa.$\\x95@\\x1dO\\xe9,\\xb7\\x80\\xb09w\\xf0&r\\xa2\\x96i\\x04y\\xa1-O5\\x87\\x15b>\\x14\\x15\\xf5\\x01N\\xfc\\xbb\\xd3\\x1e\\xfe8\\xc3\\x82#6\\xc4\\xf1\\xc7M8\\xd6\\x1f\\x90\\x03|\\xf83\\xb3\\x8b\\x95\\xf4\\x0f,a^\\x923\\xed\\xc7\\xa0aF\\x06&u\\xd6\\xf1\\xc9\\x10\\xcc\\xae\\xc4\\x16\\xa7S\\x19j\\xdb0\\xc6Z\\xf6\\xe1\\xb3\\tl\\xb8\\xc4\\xacZ\\xb6\\x0b\\x14\\x1aR\\x18'\n",
      "Length: 176\n",
      "Embedding Efficiency: 4.2272727272727275\n",
      "==============\n",
      "644Hmmm.. Thk sure got time to hop ard... Ya, can go 4 free abt... Muz call u to discuss liao... \n",
      "customizedTechniques-2\n",
      "Jooo.. Vjm uwtg iqv vkog vq jqr ctf... Ac, ecp iq 4 htgg cdv... Owb ecnn w vq fkuewuu nkcq... \n",
      "Length: 94\n",
      "customizedTechniques-3\n",
      "hLL>t>",
      ">>",
      ">>>LLL>_J>>>R>",
      "",
      ">LLL>m>>>>>LLL>\n",
      "Length: 94\n",
      "customizedTechniques-5\n",
      "¿¿¿~~p¦º½pÅÇÄ·p¹ÁÆpÆ»¿·pÆÁpºÁÂp³Ä¶~~~p³|pµ³Àp¹Ápp¸Ä··p³´Æ~~~pÇ²pµ³¾¾pÇpÆÁp¶»ÅµÇÅÅp¾»³Á~~~p\n",
      "Length: 94\n",
      "OpenSourceTechniques-6\n",
      "b'\\x9a\\x11\\x02\\x8d\\xa0o\\xcc\\x86)\\xe8\\x1e\\x9b\\xd2\\xe36\\x9c\\xefz\\xdc*jNT\\xb1\\xbe\\xe4\\x0c\\xfe#\\x18\\x02-\\xe9\\r\\xc6\\xe5a\\xeb\\xdd\\x158\\x10\\x0f$\\xc2<\\xc1\\xea\\x94\\xe9\\x0c\\xe8\\xea%\\xc2l\\x13.*\\xefOh\\xd6\\x02\\xa5o4\\xad\\'\\xb8mwN\\x19\\x00\\xc3\\xe8X1&\\xd8\"\\xefK\\xde 0\\xa0\\xfbap1\\r>\\x9b\\xc2_!\\xecm\\r3\\xb1\\xa8WJ\\xe9d\\xe3\\x85B+\\xe8=_\\n5\\xcc\\x9a\\x83z|\\xd4\\x06\\x878\\x7f(\\xb50\\xf9\\xc3\\xf0UP\\x8a?\\xa7\\xa7fW\\n1t\\x00$\\x7fI\\xc1\\xbc5+\\x08\"\\x99\\x01\\x03]zs'\n",
      "Length: 160\n",
      "Embedding Efficiency: 4.7\n",
      "==============\n",
      "645Sorry, my battery died, I can come by but I'm only getting a gram for now, where's your place?\n",
      "customizedTechniques-2\n",
      "Uqtta, oa dcvvgta fkgf, K ecp eqog da dwv K'o qpna igvvkpi c itco hqt pqy, yjgtg'u aqwt rnceg?\n",
      "Length: 94\n",
      "customizedTechniques-3\n",
      "sJ>>",
      ">",
      "J>i>>",
      ">>>iE>>",
      ">>>>J>",
      "",
      "E>>",
      "]\n",
      "Length: 94\n",
      "customizedTechniques-5\n",
      "¥ÁÄÄ±|p¿±p´³ÆÆ·Ä±p¶»·¶|ppµ³ÀpµÁ¿·p´±p´ÇÆpw¿pÁÀ¾±p¹·ÆÆ»À¹p³p¹Ä³¿p¸ÁÄpÀÁÉ|pÉº·Ä·wÅp±ÁÇÄpÂ¾³µ·\n",
      "Length: 94\n",
      "OpenSourceTechniques-6\n",
      "b\"\\xc6\\xf1\\xeaB\\xcf\\x94\\x10\\xc6\\xe8\\xc3>z>'\\xda6\\xa0\\x8d\\xe5\\x05\\xc5\\xb6?\\x85A\\x8e\\x14\\xd7\\xbaP,\\xe1\\x93,\\xab\\xb7#vI\\x0c\\xe1\\x8f\\x9ae\\xcd*bF`\\xc4\\xa8\\xb3s\\x81\\xa9z\\x9f\\x0e\\xc8\\x94\\xc3\\xc7\\xd0\\xbf*\\x01\\xfe\\xce?\\x84W\\xec\\x91:O\\xb1\\xfeL]\\xed\\xef\\x7f\\x90\\xd3Q\\x08\\x05\\xc3R\\xa4;\\xe7z\\xca\\x9aS\\xa1\\n\\xd6\\x8dr}\\x1d\\xc4\\x10{\\xa9\\xd0\\xa3\\xc6\\xed\\x9e,:\\xcc\\xd3\\xb8\\xd7mqdEcn^\\xe0\\x02\\xc2\\xffND=\\\\\\xf5\\xc7*}a\\xef\\xf0+&\\x1f\\x9a\\xc9\\x96%\\xf0-\\x845I\\x01?\\xf6\\xd3\\xb8\\xabqKB\\x17\\xd3_\\x1eq\\x05\\x04\\x97j\\xdc`\\x0c\\xe3\\xd3\\xb5\"\n",
      "Length: 176\n",
      "Embedding Efficiency: 4.2727272727272725\n",
      "==============\n",
      "646It doesnt make sense to take it there unless its free. If you need to know more, wikipedia.com\n",
      "customizedTechniques-2\n",
      "Kv fqgupv ocmg ugpug vq vcmg kv vjgtg wpnguu kvu htgg. Kh aqw pggf vq mpqy oqtg, ykmkrgfkc.eqo\n",
      "Length: 94\n",
      "customizedTechniques-3\n",
      "i>",
      ">",
      ">",
      "",
      ">>",
      ">>",
      "",
      ">",
      ">>",
      "",
      "L>i>>",
      "",
      ">>>",
      "J>",
      "L\n",
      "Length: 94\n",
      "customizedTechniques-5\n",
      "Æp¶Á·ÅÀÆp¿³½·pÅ·ÀÅ·pÆÁpÆ³½·p»ÆpÆº·Ä·pÇÀ¾·ÅÅp»ÆÅp¸Ä··~p¸p±ÁÇpÀ··¶pÆÁp½ÀÁÉp¿ÁÄ·|pÉ»½»Â·¶»³~µÁ¿\n",
      "Length: 94\n",
      "OpenSourceTechniques-6\n",
      "b'k\\x8abww&\\xac\\x16u\\xa4\\x96\\x80y\\xa3\\x0b%\\xed6>N\\xeb\\xc6\\xadx(GWD\\xf5\\xe8\\xaaz\\x86\\xb8f\\xa5\\xbd\\xe4r!(u\\x06Z\\x02\\xd6]\\xcc\\xc0\\x06U\\x84\\x08\\xce\\xefx\\xa3^\\xbf;\\xd2\\xbeS\\x94*\\x156\\x90\\xb1\\x9d\\xc6=~\\\\Y\\x91\\xf1=\\xa0\\xea\\x13\\xabO\\xbf\\x9e\\xf4\\x87\\xb5e\\xd8\\xd1\\x1c\\xfdR\\x15D\\x1e\\x95\\x9b\\xd1t\\x1e\\x01\\x06\\xdb\\x1e\\xe8G\\xbb\\x0e\\xa0\\xb4\\x1a\\xd4\\xbc\\x1a\\x84%\\xbc\\x8f\\n\\xd0\\xa3=\\xdfp\\x9b\\x0c{Q-o@\\x16l\\xc7Rg\\xf6\\xd6\\x95,\\xd2\"\\xc4;\\xb78,\"Y~\\x11q_\\x93Y\\xaa/A\\x9b\\x83\\xc6X9/\\x85o\\xbe\\x91\\xb3\\xc1\\xcd!\\xe9\\xe1'\n",
      "Length: 176\n",
      "Embedding Efficiency: 4.2727272727272725\n",
      "==============\n",
      "647Hmmm ... I thought we said 2 hours slave, not 3 ... You are late ... How should I punish you ?\n",
      "customizedTechniques-2\n",
      "Jooo ... K vjqwijv yg uckf 2 jqwtu uncxg, pqv 3 ... Aqw ctg ncvg ... Jqy ujqwnf K rwpkuj aqw ?\n",
      "Length: 94\n",
      "customizedTechniques-3\n",
      "h>LLL>i>>",
      ">>P>>",
      "J>>Q>LLL>_>",
      ">",
      ">LLL>h>>i>>>]\n",
      "Length: 94\n",
      "customizedTechniques-5\n",
      "¿¿¿p~~~ppÆºÁÇ¹ºÆpÉ·pÅ³»¶ppºÁÇÄÅpÅ¾³È·|pÀÁÆpp~~~pÁÇp³Ä·p¾³Æ·p~~~pÁÉpÅºÁÇ¾¶ppÂÇÀ»Åºp±ÁÇp\n",
      "Length: 94\n",
      "OpenSourceTechniques-6\n",
      "b\"\\x17\\x05=\\xc1\\xa8s\\xa4\\x9c\\x9f's]\\xcdn<\\x8fIJ\\x8bV\\x03\\xeb\\xe2S\\xd2;\\xcb\\xb9\\xc8\\xe6\\xd5t\\x7f$\\xc25,\\xbck\\xc6\\xc9\\xf4$\\x87`\\x07\\xcd\\xe9\\xe8vW\\xd6F\\xac\\x93\\x91\\xc7\\xacF<5\\xb3\\xfe\\xd7\\x1e\\xacQ\\n\\x1bb\\xa4)\\xe2\\xc8\\xc2m\\x96Ju50Y\\xc3\\x9e&\\xe1\\xbe)\\xdf\\x10A\\xc3\\x83\\x10iY\\x84\\x18\\xf7tV\\xd7\\xb34\\xc8\\xe0\\xb0\\x90\\xde\\x95\\x12\\xeeh\\xd8\\x0b\\x1f\\xa6\\xc6\\x06z\\x1c\\xaf\\xae\\xd0\\xc0\\xd3^\\x8b/\\xd2\\xd0Y\\x12$\\xcc\\xd4c\\xc5\\x9e\\x89\\x98\\xf5\\xae\\xdf@\\x82\\xb0\\xe4\\xab)1v\\x08\\x1b\\xaf\\x1f\\xd3\\xdbk(\"\n",
      "Length: 160\n",
      "Embedding Efficiency: 4.7\n",
      "==============\n",
      "648There generally isn't one. It's an uncountable noun - u in the dictionary. pieces of research?\n",
      "customizedTechniques-2\n",
      "Vjgtg igpgtcnna kup'v qpg. Kv'u cp wpeqwpvcdng pqwp - w kp vjg fkevkqpcta. rkgegu qh tgugctej?\n",
      "Length: 94\n",
      "customizedTechniques-3\n",
      "t",
      "",
      ">",
      "",
      ">E>",
      "L>iE>>",
      ">>K>>>",
      ">L>",
      "",
      ">>",
      "",
      "]\n",
      "Length: 94\n",
      "customizedTechniques-5\n",
      "¦º·Ä·p¹·À·Ä³¾¾±p»ÅÀwÆpÁÀ·~pÆwÅp³ÀpÇÀµÁÇÀÆ³´¾·pÀÁÇÀp}pÇp»ÀpÆº·p¶»µÆ»ÁÀ³Ä±~pÂ»·µ·ÅpÁ¸pÄ·Å·³Äµº\n",
      "Length: 94\n",
      "OpenSourceTechniques-6\n",
      "b'b\\xe5M\\x8cb\\x0bV\\xca\\xf7\\xd7f\\x17\\x82\\x82\\xb8i\\xddh\\x848\\xcd\\xc3L\\xf9\\x8dfq3\\xe4\\x85*\\xae\\xa2\\xd99\\x8a#\\x08\\xf6MX\\x1b/\\x17\\xf5t&\\xe2\\xfd.\\t\\x91\\xb4t\\x15\\x11\\xae\\xe8\\xb8\\x96F\\x82\\x19\\x19>\\x8b\\xeaf\\xdf\\x03\\x0c\\x85\\xab\\x9c\\xfb\\xebI\\nOI\\xd5\\x8a\\xab\\xf9\\xfb\\xd7=\\x13\\x0eb\\r\"\\xc0g\\x1e\\xa4\\xab\\x08g\\xda\\xdc\\x16\\xdb\\xd5b\\xab\\xf1\\xaf\\xa06\\x0f\\x8a\\x1e/|^\\xac\\xea\\x82A\\x9e\\xf5\\x19\\xbaz\\xc7\\xef\\xf8\\xa8\\x9f4?!P\\x05j\\xe5\\x8bc\\xd0\\xd9p\\x00\\xf2\\xc4\\x82H\\xcb9\\xee\\xaa\\xea&\\xe8\\xe9E\\xe5wUN\\xd9~\\xc0\\xe4~j\\x81\\xe7e:U\\xb4s\\x80\\x04\\x93'\n",
      "Length: 176\n",
      "Embedding Efficiency: 4.2727272727272725\n",
      "==============\n",
      "649Thanks a lot for your wishes on my birthday. Thanks you for making my birthday truly memorable.\n",
      "customizedTechniques-2\n",
      "Vjcpmu c nqv hqt aqwt ykujgu qp oa dktvjfca. Vjcpmu aqw hqt ocmkpi oa dktvjfca vtwna ogoqtcdng.\n",
      "Length: 95\n",
      "customizedTechniques-3\n",
      "t>>>>>",
      ">>>L>t>>>>>>>",
      "",
      "L\n",
      "Length: 95\n",
      "customizedTechniques-5\n",
      "¦º³À½Åp³p¾ÁÆp¸ÁÄp±ÁÇÄpÉ»Åº·ÅpÁÀp¿±p´»ÄÆº¶³±~p¦º³À½Åp±ÁÇp¸ÁÄp¿³½»À¹p¿±p´»ÄÆº¶³±pÆÄÇ¾±p¿·¿ÁÄ³´¾·~\n",
      "Length: 95\n",
      "OpenSourceTechniques-6\n",
      "b'>\\xf0\\xc9qsg\\xa5u\\xed\\xf6\\xf7\\x84~{\\xf8\\xf3\\x18\\x1b\\xce\\x88\\xd792\\t\\xc0\\x06\\x92U\\xd5\\xda\\xc5\\xfc\\xd3\\xe9\\x98P\\xf9\\xff\\xa5:{\\x05\\x9a\\x8b\\xcb\\xc6\\xee-[Y\\xfe\\xfb\\xa6\\x85We\\x8fZ\\xde\\xca6\\x85\\xe0\\xbcI\"\\xe6\\xe4\\xd0\\xb2\\xc5g\\n\\xd4\\xf4!r8\\\\0\\xcf\\xef\\x07\\xbe\\x18N&\\x8e\\xb1\\x00Q\\xb9\\xe0\\xfe\\xd3\\x03\\xd5o$\\r\\xdd\\x186u\\x01;J\\xe7\\xe8\\xde]|#\\xfcOm\\xffV{L\\x02\\xaa\\xf8\\x14\\xe5\\xb7\\xeav\\x15\\x8e\\xc1\\xde\\x0fc>t\\x13\\xec\\xd6Z\\x90\\x19\\x08\\xb9\\xb6NjR[P\\xfe\\xdd\\xde\\xfb\\xac`a\\xc6f%T[\\x16\\x90\\xa7\\x15\\xdbqH\\x92\\x84\\x04\\xc5\\xefK\\xa8'\n",
      "Length: 176\n",
      "Embedding Efficiency: 4.318181818181818\n",
      "==============\n",
      "650Okies... I'll go yan jiu too... We can skip ard oso, go cine den go mrt one, blah blah blah... \n",
      "customizedTechniques-2\n",
      "Qmkgu... K'nn iq acp lkw vqq... Yg ecp umkr ctf quq, iq ekpg fgp iq otv qpg, dncj dncj dncj... \n",
      "Length: 95\n",
      "customizedTechniques-3\n",
      "o",
      "LLL>iE>>>>LLL>w",
      ">>>>J>>",
      ">",
      ">>>",
      "J>>>LLL>\n",
      "Length: 95\n",
      "customizedTechniques-5\n",
      "¡½»·Å~~~pw¾¾p¹Áp±³Àp¼»ÇpÆÁÁ~~~p©·pµ³ÀpÅ½»Âp³Ä¶pÁÅÁ|p¹Ápµ»À·p¶·Àp¹Áp¿ÄÆpÁÀ·|p´¾³ºp´¾³ºp´¾³º~~~p\n",
      "Length: 95\n",
      "OpenSourceTechniques-6\n",
      "b\"s\\x89P\\x7f'$@\\xdeq\\xf9\\xdb\\x02T\\xed\\xda\\xf9|m\\xf3%\\xd7\\xbd\\xae\\x86\\xaayl\\t\\x81{v\\xd5QP\\xa31\\xfd\\x0c\\\\\\x1aVE\\xa4Z\\x19\\xa2\\x05+\\xfe\\xb6#\\x90\\xb0\\xa3\\xbb\\xcdP\\xc8\\xb4h\\xc1@\\x0b\\xeb\\x8dZ\\x9a\\x99K\\x02z?\\x82O\\x08\\x0f\\xeb\\x9e\\x1bV_\\xeb\\xd9\\xc5\\x84\\xc3\\x9f\\xdc\\xd4\\xdeU\\x82P\\xc1\\xf7\\xb0\\xfe\\xc3\\xc3/\\x11\\xd2\\x1a\\xdd\\xfb\\x84\\xd5\\xf1\\xac^\\x04\\x88@\\x97{;\\xc4'#\\xc1\\xa3\\xb9$\\xde\\xa0\\x1cr\\xc4\\x0eH\\x1d\\xdb\\x9b4\\xb0\\xa3<\\xce\\xaf\\x7f\\xb6\\xc2\\xad\\xc0\\x8a\\x03\\xcd?\\xb1\\xf5\\xca\\xdf\\xa1\\x15\\tF\\xb7l\\xa9\\x8a\"\n",
      "Length: 160\n",
      "Embedding Efficiency: 4.75\n",
      "==============\n",
      "651So how's scotland. Hope you are not over showing your JJC tendencies. Take care. Live the dream\n",
      "customizedTechniques-2\n",
      "Uq jqy'u ueqvncpf. Jqrg aqw ctg pqv qxgt ujqykpi aqwt LLE vgpfgpekgu. Vcmg ectg. Nkxg vjg ftgco\n",
      "Length: 95\n",
      "customizedTechniques-3\n",
      "s>E>L>h",
      ">>",
      ">>",
      ">>>jjc>",
      "",
      "",
      "L>t",
      ">",
      "L>l",
      ">",
      ">",
      "\n",
      "Length: 95\n",
      "customizedTechniques-5\n",
      "¥ÁpºÁÉwÅpÅµÁÆ¾³À¶~pÁÂ·p±ÁÇp³Ä·pÀÁÆpÁÈ·ÄpÅºÁÉ»À¹p±ÁÇÄppÆ·À¶·Àµ»·Å~p¦³½·pµ³Ä·~p»È·pÆº·p¶Ä·³¿\n",
      "Length: 95\n",
      "OpenSourceTechniques-6\n",
      "b'\\xe9\\x01.\\x029\\x03\\xa9\\xf8\\xe7\\xac\\x13\\xa3n\\xb5]b\\xf8\\x11M\\x04O\\xdc\\xdd\\xf3\\x89\\x14\\x1cR\\xd5\\nK\\x15\\x15\\x0b\\xae#*C\\xe0\\xd2\\xe0\\xb0\\x07\\x16P\\x13o\\xd7\\x0eaC\\xb4\\xb3e\\xb8\\x1f\\x17\\xefb\\xc5H%\\xd16\\xb5[4 \\x1b@\\x82*;\\x00\\x18\\x9e\\x8cH\\x9d\\xf21o\\xb6\"\\x14V\\xa6\\x02\\xac\\x87)6{\\x0f\\xd5\\xa7\\xe1o\\x99G\\x1b\\xc2\\xbd\\xaf\\x9bM\\xb9,\\xc9\\x81\\x8bnK\\xc3\\x97\\xc7\\x85\\x80m%\\x00\\xd0X\\x0f\\x85=\\xc9\\xfer\\xa2\\xe0\\xd0\\xd4#\\xaa\\x95\\x0b\\xcbm\\xd9:\\x0b\\n\\x96\\xc2\\x81\\xea\\xcc\\x1b\\x03\\\\j\\x03\\xe1*c\\xe19\"~\\xb0\\\\\\x87\\x8a\\x1c\\xff<\\xe5\\x0c-\\x958\\xbejQQ'\n",
      "Length: 176\n",
      "Embedding Efficiency: 4.318181818181818\n",
      "==============\n",
      "652Call me when you/carlos is/are here, my phone's vibrate is acting up and I might not hear texts\n",
      "customizedTechniques-2\n",
      "Ecnn og yjgp aqw/ectnqu ku/ctg jgtg, oa rjqpg'u xkdtcvg ku cevkpi wr cpf K okijv pqv jgct vgzvu\n",
      "Length: 95\n",
      "customizedTechniques-3\n",
      "c>",
      ">",
      ">M>M",
      ">",
      "",
      "J>>",
      "E>",
      ">>>>>i>>>",
      ">",
      "\n",
      "Length: 95\n",
      "customizedTechniques-5\n",
      "³¾¾p¿·pÉº·Àp±ÁÇµ³Ä¾ÁÅp»Å³Ä·pº·Ä·|p¿±pÂºÁÀ·wÅpÈ»´Ä³Æ·p»Åp³µÆ»À¹pÇÂp³À¶pp¿»¹ºÆpÀÁÆpº·³ÄpÆ·ÊÆÅ\n",
      "Length: 95\n",
      "OpenSourceTechniques-6\n",
      "b'\\xe5\\xc4h\\x8e\\xe2j\\xb9\\x84\\x1e\\xf6\\x7f\\xd4\\xf7\\x8a\\xf2\\xfc\\xe6S\\xc0m\\xc3\\xfcS%\\xda\\x03\\xee^\\xbb\\xbe\\x88\\x0b\\xd1\\x1e-\\xe0I\\x01\\xa2\\xa8\\xdcP\\xafNY-\\x05\\x1c\\xeb\\xab\\xddu}\\xdd\\xaa\\\\\\xdb\\x82L\\xe0\\x13\\x87\\xd8\\xe1\\x14\\x01;cg\\xf4i\\xa0\\x0e\\x85\\x930\\xd7\\x1c\\x8e0b\\xcffE\\xda~p\\x97\\xa5\\xeb:\\x91\\x1a\\xc1\\x1b1\\xfe-[6\\x8dI\\x93\\x03\\xbc\\x14[\\xb5\\xc5{\\x8f\\xb7\\xe3\\x8e\\x01\\xd6\\xc8\\x82\\xf0\\xe5\\xef\\x91a\\xe1\\x92\\x98\\x89\\xdbF\\x19@%SAn\\xf1\\x1e\\xc6\\x8aJS\\x0b\\xa7\\xf2\\xd8\\x036\\x07\\xc6P\\x05:\\xb7\"{\\xeeF\\x92\\x96pz\\xc4<3\\xfc\\x13\\x08j\\xa3\\xa5\\x8e\\xc7\\xea\\xe3\\x04\\xbc'\n",
      "Length: 176\n",
      "Embedding Efficiency: 4.318181818181818\n",
      "==============\n",
      "653Sorry, I guess whenever I can get a hold of my connections, maybe an hour or two? I'll text you\n",
      "customizedTechniques-2\n",
      "Uqtta, K iwguu yjgpgxgt K ecp igv c jqnf qh oa eqppgevkqpu, ocadg cp jqwt qt vyq? K'nn vgzv aqw\n",
      "Length: 95\n",
      "customizedTechniques-3\n",
      "sJ>i>",
      ">",
      "",
      "",
      ">i>>",
      ">>>>>",
      "J>",
      ">>>>]>iE>",
      ">\n",
      "Length: 95\n",
      "customizedTechniques-5\n",
      "¥ÁÄÄ±|pp¹Ç·ÅÅpÉº·À·È·Äppµ³Àp¹·Æp³pºÁ¾¶pÁ¸p¿±pµÁÀÀ·µÆ»ÁÀÅ|p¿³±´·p³ÀpºÁÇÄpÁÄpÆÉÁpw¾¾pÆ·ÊÆp±ÁÇ\n",
      "Length: 95\n",
      "OpenSourceTechniques-6\n",
      "b'\\x92X\\x83R\\x0eD\\xee\\x91E,\\x88\\x88{\\xbc\\x06\\xd7\\xd8<\\xdf\\x00v\\xc7\\'q\\xb2\\x8f\\xce\\xce`2\\xf0&\\x1c*r\\x8e\\x05\\n\"\\x9d\\x93\\x9e\\x8d\\xc1\\x00P\\xff\\xd1\\x1e\\x84PV96\\xd6;\\x15\\x0e\\xfb/\\xfcu\\x82\\xae\\xb9\\xf1\\x80\\xf1>\\xb4P\\xf4\\xd1\\x98\\x81\\xc5\\xd3\\xb5\\xb6}\\xc4\\xb8\\xa6CZZc#a\\xc6,\\xe7W\\xf3\\xed\\xbeO\\xaa\\xb7\\x16\\x83#\\xa9\\x88`V\\x00S\\xe2\\x9d\\xe3\\xc7\\xb3\\x89|r\\x05\\xc7\\xf9\\x11;8\\x9d\\x96\\xd5?\\xd3\\xdb\\xf16{\\x90\\xd0\\xa5]\\xac;_M\\xe8K\\xf7\\xb9\\x95\\x03\\xb1\\xcd\\x10\\xc8J\\xbd\\xd1\\tJ\\x83&\\xcb\\xa6\\xe9\\xd1\\x0c\\xd9K\\xba\\x93U`\\xbf\\x1b\\xc1\\x1c\\x11\\x8an\\xbb\\xae'\n",
      "Length: 176\n",
      "Embedding Efficiency: 4.318181818181818\n",
      "==============\n",
      "654I'm ok wif it cos i like 2 try new things. But i scared u dun like mah. Cos u said not too loud.\n",
      "customizedTechniques-2\n",
      "K'o qm ykh kv equ k nkmg 2 vta pgy vjkpiu. Dwv k uectgf w fwp nkmg ocj. Equ w uckf pqv vqq nqwf.\n",
      "Length: 96\n",
      "customizedTechniques-3\n",
      "iE>>>>>>",
      ">P>>",
      ">L>b>>",
      ">>>",
      ">L>c>>>>>L\n",
      "Length: 96\n",
      "customizedTechniques-5\n",
      "w¿pÁ½pÉ»¸p»ÆpµÁÅp»p¾»½·ppÆÄ±pÀ·ÉpÆº»À¹Å~pÇÆp»pÅµ³Ä·¶pÇp¶ÇÀp¾»½·p¿³º~pÁÅpÇpÅ³»¶pÀÁÆpÆÁÁp¾ÁÇ¶~\n",
      "Length: 96\n",
      "OpenSourceTechniques-6\n",
      "b'J\\x9c\\xd5\\x84=\\xa7pA\\x93\\x0e\\t\\x8e\\x06#r4\"H-\\x96\\xbe.\\xaf`\\xb3\\xe6@\\xa4\\xb2\\x1b\\xd2#\\xde\\x978W\\xa4>l\\xb0,\\t\\x92\\x0bP\\xdeQ\\x8a\\xeff\\r@\\xa5j\\xbe@\\xd8\\xf8\\xe8\\xb7\\xd8\\xbfGj\\x13uA)\\xe9\\x97\\x0fq\\x0b\\xbf>\\xefI\\x87\\x12\\x1d\\x87g\\xf9F\\x9f\\x0e[z\\xc4j\\x90\\xa9\\xc0\\x08\\x9bt\\x94\\x00\\x14\\x8b\\xf5\\xc2\\n,\\xf9\\xcbGm\\xcaE@7\\xd5\\x1e}L\\xf4RA\\xce\\x99\\xd0\\x92\\xbdR\\x03\\xee/\\xd45\\x01\\x8e\\xccgg\\xb2\\x18\\x96\\xd2\\xdf-\\x84\\xf2`\\x89\\x9e\\x07|\\xc3\\xd8:d6\\xed\\x11`W\\xb8\\n\\xc3v5\\x01\\xb6\\xa5\\xad\\xdd\\x7fp\\xf9\\xb3\\x0c;.\\xddK'\n",
      "Length: 176\n",
      "Embedding Efficiency: 4.363636363636363\n",
      "==============\n",
      "655from www.Applausestore.com MonthlySubscription@50p/msg max6/month T&CsC web age16 2stop txt stop\n",
      "customizedTechniques-2\n",
      "htqo yyy.Crrncwuguvqtg.eqo OqpvjnaUwduetkrvkqp@50r/oui ocz6/oqpvj V&EuE ygd cig16 2uvqr vzv uvqr\n",
      "Length: 96\n",
      "customizedTechniques-3\n",
      ">La",
      "",
      "L>ms^SNM>TM>tDcc>",
      ">",
      "OT>P>>\n",
      "Length: 96\n",
      "customizedTechniques-5\n",
      "¸ÄÁ¿pÉÉÉ~ÂÂ¾³ÇÅ·ÅÆÁÄ·~µÁ¿pÁÀÆº¾±¥Ç´ÅµÄ»ÂÆ»ÁÀ",
      "Â¿Å¹p¿³Ê¿ÁÀÆºp¦vÅpÉ·´p³¹·pÅÆÁÂpÆÊÆpÅÆÁÂ\n",
      "Length: 96\n",
      "OpenSourceTechniques-6\n",
      "b'\\x91\\xeb\\xf1\\x92{a\\x83\\xe8\\x8au\\xbd?\\xad\\x9d=\\xb2uI\\x84\\xbd\\x91\\xd7pkG6 \\xe2D\\x89\\x97\\xfb\\xfd\\x1a\\x1ch\\x88=\\xcb\\x90\\xd8\\x11hu\\xc6\\xdc\\xa0\\x02\\xc1\\xca\\x94\\xc9P\\x0e\\x8f\\xa9\\x90H\\x85U\\x84\\x93\\xde\\x81\\xd3\\x8a\\x9c^\\x96\\xbd\\x82\\x0csR\\xb1f\\xb35b\\xdb\\x99\\x12Z\\xe2\\xe6\\xefH\\xb5\\x19G\\xf2\\xac~\\x86\\xf9\\xc3-\\xd9\\x1fc\\x891\\x97\\x94T\\xfbU\\x9c5\\xb8\\xca\\xca\\x9d\\x1a\\xaa\\xa8\\x99\\xc2\\t\\xed&\\xc6;?U>T\\xfd\\xfd\\x95\\xa5\\xc2\\xff#\\x89\\'\\xaf\\xcfU\\xc0\\xf6\\x1b\\xa7jdg\\xd8\\x1e]\\x91\\x03\\x94\\x176)\\xc8gBgi\\xa3>Y\\xd2\\xbc\\x9f\\x06\\xf4 M\\xd6}\\x9f.\"\\x89\\xa9\\xa5\\xc3n(k\\xbb\\x85\\xb0\\xcc,\\xcd=\\x16\\x08\\''\n",
      "Length: 192\n",
      "Embedding Efficiency: 4.0\n",
      "==============\n",
      "656Romantic Paris. 2 nights, 2 flights from å£79 Book now 4 next year. Call 08704439680Ts&Cs apply.\n",
      "customizedTechniques-2\n",
      "Tqocpvke Rctku. 2 pkijvu, 2 hnkijvu htqo e£79 Dqqm pqy 4 pgzv agct. Ecnn 08704439680Vu&Eu crrna.\n",
      "Length: 96\n",
      "customizedTechniques-3\n",
      "r>pL>P>J>P>>>ÁUW>b>>R>",
      ">",
      "L>c>NVUNRRQWTVNtDc>L\n",
      "Length: 96\n",
      "customizedTechniques-5\n",
      "¤Á¿³ÀÆ»µp¢³Ä»Å~ppÀ»¹ºÆÅ|pp¸¾»¹ºÆÅp¸ÄÁ¿pµópÁÁ½pÀÁÉppÀ·ÊÆp±·³Ä~p³¾¾p¦ÅvÅp³ÂÂ¾±~\n",
      "Length: 96\n",
      "OpenSourceTechniques-6\n",
      "b'\\x01\\xeap^\\xad3\\x0bEtN5\\xe9: \\xea\\xc7\\xd9\\xde\\xdc\\xbe\\x19\\xd1Z^\\x97E\\xe5\\x8e\\x10\\xb2\\xae\\x93\\\\nhFw\\x96\\xe9\\x9b\\x85\"\\xf0n\\r-\\xe4\\x04\\x816Q\\xf9\\xb4|\\xa6\\xe6\\xc2\\xbfP7Y3o\\xaa!\\x9d\\xe9C\\xa3\\x99\\xad0\\t\\x7f\\xa9\\x1a@\\xf1\\x8c\\x85\\x95\\x8b#\\xae\\x98\\xe3\\xd6\\xa1}n\\x05E\\x0eU\\x18\\xab\\xc7\\xd9\\xd6\\xfbBh-\\x06C\\r\\xe0\\xca\\xe5\\xf2\"!\\xa3\\xfa\\xc4\\xf5\\xcc:rNXy\\x04r\\x1a\\xec\\xc7K8\\xbe%\\xc1\\xe8;\\x15\\xdf>\\xc2;\\x8f\\xb2\\xb1I,\\xc6\\xd9e\\x9c\\xe0\\xd6!\\xf7Ub\\xa2c\\xd9\\xeehc\\x04\\x84#\\xeb\\x93\\xcd\\xf0\\xb4\\x8dO\\xe9\\xd4\\xd3\\x98A\\x8b'\n",
      "Length: 176\n",
      "Embedding Efficiency: 4.363636363636363\n",
      "==============\n",
      "657Don't necessarily expect it to be done before you get back though because I'm just now headin out\n",
      "customizedTechniques-2\n",
      "Fqp'v pgeguuctkna gzrgev kv vq dg fqpg dghqtg aqw igv dcem vjqwij dgecwug K'o lwuv pqy jgcfkp qwv\n",
      "Length: 97\n",
      "customizedTechniques-3\n",
      "dE>",
      "",
      ">",
      "",
      ">>>",
      ">",
      ">",
      "",
      ">>",
      ">>>",
      "",
      ">iE>>>",
      ">\n",
      "Length: 97\n",
      "customizedTechniques-5\n",
      "ÁÀwÆpÀ·µ·ÅÅ³Ä»¾±p·ÊÂ·µÆp»ÆpÆÁp´·p¶ÁÀ·p´·¸ÁÄ·p±ÁÇp¹·Æp´³µ½pÆºÁÇ¹ºp´·µ³ÇÅ·pw¿p¼ÇÅÆpÀÁÉpº·³¶»ÀpÁÇÆ\n",
      "Length: 97\n",
      "OpenSourceTechniques-6\n",
      "b\"z^\\xad\\x05\\xe4\\x95\\xa2\\xa7\\xce\\x8e\\xa7\\x89z\\xa9\\x00\\x17\\xa1\\xe27\\xa6}Yo\\x87\\xc9\\x11\\xab\\x1a+%\\xaf\\x8a\\x94`\\xf3,\\xc6K\\xb9'\\x9c+\\x9b;_\\x96\\xaf@\\xa2Z\\x975\\x0c\\xc0@%C\\x83\\xbf\\x8e\\x187\\xe3\\\\\\xc4\\x94%\\x9d\\t\\x89\\x12\\xef\\xf0\\xee\\xda\\xd0\\x94\\x89d\\x8b\\xcdx\\xa3\\xc2\\xb5\\xaa\\xac\\x98\\x14\\xd4\\x04\\xef\\x10\\xe1\\xa6\\xe1\\x8ey\\xc1\\xfdx\\x9fI\\x9a\\x93\\x86 @\\xabCd\\xc2\\xbe1\\xb0L)w<\\xb1'*\\xceZT9\\x93\\x8d\\xbdZ\\x9f\\xb6\\xb9R\\xb6\\xfd\\x01\\x90\\x87\\xb1\\xe3\\x1d\\xd4\\xb5Pr\\x13\\xa1\\xa0\\xd7\\xa6=0X6\\xcc\\x8a\\xca\\xb0/\\xf5/ \\xb9l\\xb1\\xff\\x05\\xee\\x1b\\x84\\xe8i\\xd0\\x08K\"\n",
      "Length: 176\n",
      "Embedding Efficiency: 4.409090909090909\n",
      "==============\n",
      "658You have won ?1,000 cash or a ?2,000 prize! To claim, call09050000327. T&C: RSTM, SW7 3SS. 150ppm\n",
      "customizedTechniques-2\n",
      "Aqw jcxg yqp ?1,000 ecuj qt c ?2,000 rtkbg! Vq encko, ecnn09050000327. V&E: TUVO, UY7 3UU. 150rro\n",
      "Length: 97\n",
      "customizedTechniques-3\n",
      "_>",
      ">>]OJNNN>>>>]PJNNN>",
      "?>t>J>NWNSNNNNQPUL>tDcX>rstmJ>swU>QssL>OSN\n",
      "Length: 97\n",
      "customizedTechniques-5\n",
      "ÁÇpº³È·pÉÁÀp|pµ³ÅºpÁÄp³p|pÂÄ»²·qp¦Ápµ¾³»¿|pµ³¾¾",
      "~p¦vp¤¥¦|p¥©p¥¥~p",
      "ÂÂ¿\n",
      "Length: 97\n",
      "OpenSourceTechniques-6\n",
      "b\"\\xb4\\x9b1T\\xb8\\xdc\\xb0W\\x15\\xca \\xed,\\xb2\\x9b/p\\x85\\xc1\\x84\\xc7\\xedB\\x97\\xd0\\xe6]j\\xc0\\xaa\\x0e\\x1by_?;p#\\x8b\\x16\\xfdj\\x92\\x85us\\xf2f\\x82\\xa4\\x88\\x1e\\x14\\xf2\\xe3!9\\xb0\\xe1&S\\x19V]>\\x87\\xd27$\\xda\\xe0\\x92\\xce#\\xedhr\\xcb\\x0b\\x8a\\xdev<C\\xf7@\\r'<\\xd4\\x99\\xe4\\xf2\\xc1},\\xfa\\xb8\\xbc:\\xe9\\xc8\\xf2,\\xdc\\xa6\\x9e\\x89\\\\AJ\\x04\\xfd\\x95\\xf1F\\x8a\\x99\\xe0=\\xd6\\xce\\xa1\\xc8\\x82\\\\\\xddS\\x8b=\\x16=\\x04\\x04av\\xe4\\xff\\xb0\\x1b\\xcb\\xba\\x96\\xf2:=\\x84s@peR\\x9b{e\\x96\\xd0i\\xd2(\\xa4\\xa5\\x9arU\\x88\\xab\\xcfKw,@\\x8bE\\n}\"\n",
      "Length: 176\n",
      "Embedding Efficiency: 4.409090909090909\n",
      "==============\n",
      "659\\Petey boy whereare you me and all your friendsare in theKingshead come down if you canlove Nic\\\"\"\n",
      "customizedTechniques-2\n",
      "\\Rgvga dqa yjgtgctg aqw og cpf cnn aqwt htkgpfuctg kp vjgMkpiujgcf eqog fqyp kh aqw ecpnqxg Pke\\\"\"\n",
      "Length: 98\n",
      "customizedTechniques-3\n",
      "zp",
      "",
      ">>",
      "",
      "",
      ">>",
      ">>>>",
      "",
      ">>",
      "k",
      ">",
      ">>>>",
      ">nz@@\n",
      "Length: 98\n",
      "customizedTechniques-5\n",
      "¬¢·Æ·±p´Á±pÉº·Ä·³Ä·p±ÁÇp¿·p³À¶p³¾¾p±ÁÇÄp¸Ä»·À¶Å³Ä·p»ÀpÆº·»À¹Åº·³¶pµÁ¿·p¶ÁÉÀp»¸p±ÁÇpµ³À¾ÁÈ·p »µ¬rr\n",
      "Length: 98\n",
      "OpenSourceTechniques-6\n",
      "b\"\\x8ce\\xf6>i\\xc2.\\xe3H\\x89\\xa2\\x9dQ\\xec9\\x9f\\x9e\\x91N\\xc6\\xe5 2z\\xfe\\xa7\\xb3\\xa8\\xaf\\x03\\xa7F\\xab\\x90X\\x1d+\\xe2\\xa2e\\xd5\\xbbv\\xbe\\x80n\\xce[\\xcb\\x0b\\x86\\xb9\\x9f\\xeeD\\xad\\xcc\\xd5\\xdcX\\xe6Q\\xe2\\x14\\x82\\x03\\xfb\\xfc\\xc0]_\\xe9^\\x98q\\xdao\\x8e\\xf1\\xd1\\xad\\x84\\x92u\\xb1\\xe7<\\xef\\xf7.\\x05\\x89\\x8b\\\\\\x9c\\xd5\\xc4\\xfc\\xd9\\xcd\\xd1\\xbbB\\xbf!\\xd9\\xd8s\\x03\\xfc\\xa4}\\xee^Mw]\\xaa?\\xb7\\xe0\\xb0\\xce.\\xf1\\xc9\\xc0\\x1c\\xb9^\\xb9\\x8e\\x00\\xc8\\x0c\\xa1\\xcea&\\nn=pi\\xdf\\xd6l\\xcf'F\\x0fb\\xd8J\\x1a\\x0e\\x9eY\\x88\\x9d\\xa5\\x88\\x9a\\x1c<[\\x80\\ri\\xa4\\xaaJ\\xa5\\tn\\x92fz\\x92\\xaa\\x81\\x0f\\xd5\\xca.E\\xa3N\\xfd^\\xc1\\x10\"\n",
      "Length: 192\n",
      "Embedding Efficiency: 4.083333333333333\n",
      "==============\n",
      "660Sorry light turned green, I meant another friend wanted  &lt;#&gt;  worth but he may not be around\n",
      "customizedTechniques-2\n",
      "Uqtta nkijv vwtpgf itggp, K ogcpv cpqvjgt htkgpf ycpvgf  &nv;#&iv;  yqtvj dwv jg oca pqv dg ctqwpf\n",
      "Length: 98\n",
      "customizedTechniques-3\n",
      "s>>",
      ">",
      "",
      "J>i>",
      ">",
      ">",
      ">",
      ">>DYADY>>>>",
      ">>>",
      ">\n",
      "Length: 98\n",
      "customizedTechniques-5\n",
      "¥ÁÄÄ±p¾»¹ºÆpÆÇÄÀ·¶p¹Ä··À|pp¿·³ÀÆp³ÀÁÆº·Äp¸Ä»·À¶pÉ³ÀÆ·¶ppv¾Æsv¹ÆppÉÁÄÆºp´ÇÆpº·p¿³±pÀÁÆp´·p³ÄÁÇÀ¶\n",
      "Length: 98\n",
      "OpenSourceTechniques-6\n",
      "b\"\\xb10\\xe4\\xdf\\xac\\x98\\xcch\\xb6v\\x82\\xba\\x14X\\xbc\\xf9!}\\xff\\x95N\\xed\\xc5z\\x03c\\xd4\\x1d\\x0bH\\x0c&\\xaf\\x8b\\xf1M!FQ\\xee\\x9d\\x97\\x99\\x8c`l\\xe8b@\\x1c\\xa5\\x14W\\xec\\xad\\x05\\xb0S\\x0e\\x06\\x0b\\xf4\\x17\\xaf\\xd1\\xb0X\\xd3~k\\xbe\\xe2\\x9b\\r\\x88\\x7f\\xa2\\x99#\\xa9\\xfe\\xf3\\xeb0\\xac\\xe9\\xfa\\x98\\xbdu\\xd3^\\xf7%M\\x05\\xb9)\\x93\\x186}87\\x12\\xa7\\x1f\\xcaA\\x81\\x97{=,\\x80\\xd8\\xa4\\x86\\x19E\\x0e\\x14\\xd2\\nX\\x10#\\x1b3X\\x96\\t\\xa0\\xceD\\x15\\x8a!\\xe4P\\xcb\\xaa$\\x07\\n\\xff\\x08\\xcf\\xbee\\xa6'\\xd5z;\\x14\\x93\\x0c\\nD\\x88o{\\x0cV\\xca#}\\xa2$\\x1f\\xb95{\\x19;\"\n",
      "Length: 176\n",
      "Embedding Efficiency: 4.454545454545454\n",
      "==============\n",
      "6618 at the latest, g's still there if you can scrounge up some ammo and want to give the new ak a try\n",
      "customizedTechniques-2\n",
      "8 cv vjg ncvguv, i'u uvknn vjgtg kh aqw ecp uetqwpig wr uqog cooq cpf ycpv vq ikxg vjg pgy cm c vta\n",
      "Length: 99\n",
      "customizedTechniques-3\n",
      "V>>",
      ">",
      "J>E>>",
      "",
      ">>>>",
      ">>",
      ">>>>>",
      ">",
      ">",
      ">>>\n",
      "Length: 99\n",
      "customizedTechniques-5\n",
      "p³ÆpÆº·p¾³Æ·ÅÆ|p¹wÅpÅÆ»¾¾pÆº·Ä·p»¸p±ÁÇpµ³ÀpÅµÄÁÇÀ¹·pÇÂpÅÁ¿·p³¿¿Áp³À¶pÉ³ÀÆpÆÁp¹»È·pÆº·pÀ·Ép³½p³pÆÄ±\n",
      "Length: 99\n",
      "OpenSourceTechniques-6\n",
      "b'\\x9ePz\\xa1\\xf1\\xb19!\\x96\\xcd\\x95\\xfa\\xc6\\x94\\xe1\\xe2k\\xa0\\x87\\xae\\xa2\\xd3\\xc3Jcc\\x9f(k\\xbe\\xc9l\\xa5\\xe5t\\xd5x8Rj`K\\xe4 Y0\\xf0\\xaf\\xd6\\xdc\\xe7Q\\xae\\xe3}\"+\\x84P\\x93\\xdd\\xcc\\xc5\\xcb\\x11\\xaa\\x85$\\xef\\x16\\x00\\xef[\\x06\\x86\\xdc\\xf3\\xf4:#\\xedK\\x94\\x83\\xe3\\xdbi\\x83_\\xc2,\\x01\\xf5\\xca\\x81\\x96,\\xed\\xc1\\xc8\\xa6KR\\x96\\xcf\\xe4\\xae_,F\\x97a\\x94\\x15-\\xa9s\\x97e^\\xcc\\x89\\xa1\\xa1v\\\\\\xde3`\\x95 \\xf3\\xd6\\xb8k4\\xc2\\xdd\\xb0\\x8f?^h5s(\\xdd\\xe7\\xc2-\\xfd\\xf3\\x84\\xd0\\xa3\\xa1\\x88\\x86\\xf7\\xed\\x8b\\xf0\\x93\\x91\\xb2\\xbe\\xf3\\xa0\\x82\\x83I\\xd2r\\x92j!'\n",
      "Length: 176\n",
      "Embedding Efficiency: 4.5\n",
      "==============\n",
      "662You have an important customer service announcement from PREMIER. Call FREEPHONE 0800 542 0578 now!\n",
      "customizedTechniques-2\n",
      "Aqw jcxg cp korqtvcpv ewuvqogt ugtxkeg cppqwpegogpv htqo RTGOKGT. Ecnn HTGGRJQPG 0800 542 0578 pqy!\n",
      "Length: 99\n",
      "customizedTechniques-3\n",
      "_>",
      ">>>",
      ">",
      "",
      ">",
      "",
      ">>premierL>c>freephone>NVNN>SRP>NSUV>?\n",
      "Length: 99\n",
      "customizedTechniques-5\n",
      "ÁÇpº³È·p³Àp»¿ÂÁÄÆ³ÀÆpµÇÅÆÁ¿·ÄpÅ·ÄÈ»µ·p³ÀÀÁÇÀµ·¿·ÀÆp¸ÄÁ¿p¢¤¤~p³¾¾p¤¢¡ pp",
      "p",
      "pÀÁÉq\n",
      "Length: 99\n",
      "OpenSourceTechniques-6\n",
      "b'\\x8cN?\\xef\\xa7\\xce\\xb5O\\x0c\\\\\\x8e\\xa6\\x81`p\\xcdbE\\xb4\\xb4\\tq^\\xb0I\\xd7o\\xceP\\x8dS\\xc5\\xed\\x98\\x11\\xcae\\xdd#O\\x03\\x87s\\x15\\x0c\\xeb\\x84\\x08M\\x9f\\xad\\x0e/t\\x13\\xdd\\xb27\\x83\\xbd\\xcfa\\x18\\xbc2K\\r\\xe5E\\xe9\\xe0\\xfars\\x93\\x91\\x1d\\r]\\xc8\\xba\\xdc\\xd0\\xf0.\\x7f#\\x10\\xa0 \\xe0E\\xb8\\xc5v\\xea<\\x830\\x99W\\x8b.\\x06\\x1f\\xbe\\xe1\\x89YM\\xfer\\xa0E>\\xc4\\x0f\\xd5\\xe7\\x06\\xb1\\x89\\xed\\x0b\\x0f\\xe1\\xc5ZcUn\\x18\\xd8\\xa1;\\x188#l\\xdb\\xde\\xf6u\\xd1i\\x9dx\":e\\xac[\\xaaVQqI}\\xc0\\xbb\\x11\\x88ym#8\\x1c\\xe6\\xd7\\xdb+\\x0e\\xc3Ln\\x99\\xcb\\x0b\\xbf\\x915\\xc7XvXh\\xc1;6\\xc6\\xee\\xbc'\n",
      "Length: 192\n",
      "Embedding Efficiency: 4.125\n",
      "==============\n",
      "663our mobile number has won å£5000, to claim calls us back or ring the claims hot line on 09050005321.\n",
      "customizedTechniques-2\n",
      "qwt oqdkng pwodgt jcu yqp e£5000, vq encko ecnnu wu dcem qt tkpi vjg enckou jqv nkpg qp 09050005321.\n",
      "Length: 100\n",
      "customizedTechniques-3\n",
      ">",
      ">",
      ">>>ÁSNNNJ>>>>>>>>",
      ">>>",
      ">>NWNSNNNSQPOL\n",
      "Length: 100\n",
      "customizedTechniques-5\n",
      "ÁÇÄp¿Á´»¾·pÀÇ¿´·Äpº³ÅpÉÁÀpµó",
      "|pÆÁpµ¾³»¿pµ³¾¾ÅpÇÅp´³µ½pÁÄpÄ»À¹pÆº·pµ¾³»¿ÅpºÁÆp¾»À·pÁÀp",
      "",
      "~\n",
      "Length: 100\n",
      "OpenSourceTechniques-6\n",
      "b'NE\\xd3\\xc1]\\xbed\\xbf!g\\xb5\\xe4KAO\\x10Y\\xe7\\xd7\\x18&\\xdcK\\xc1FS\\xdc`\\x9d\\x8e\\x03:AI\\xf6;\\x8f\\xcd\\x8ew\\x0b\\x89\\xb4R\\xaa\\x14\\x1eC\\xb1\\xf0h\\x8f\\x9fhG\\xd2\\x11\\xe6\\xe0\\xa6^O\\x12\\x8bp\\xbfY\\xf9_DS\\xc5\\xdd\\x8b\\xa3\\xe3\\x90\\xb6f\\xac\\xc2H\\x04y@Q\\x08\\xc5y\\xf4D\\x9c\\xec\\xa6b<\\\\\\xb1l\\xee\\x8b\\x91\\t\\x1e\\x97\\x06\\xd6\\r\\x9b\\xfe\\xf60\\xab\"\\rs\\x1b\\x7f\\xfa\\xfa^\\xb0\\xfd\\x93g\\xb9\\xdb\\xd4\\x00\\xd6\\x9b\\xf85\\x1bU\\x88\\x03\\xb6\"\\x86\\x13x\\x86*\\xf5\\x11\\xcc\\xffQJ\\xefW#O\\xd2\\xa5+\\xb5\\xd8K\\xccs\\x01\\xc8\\xea=\\x1fq\\xf9\\xef\\xbdL\\xdf\\xfc\\xd4uBr\\xa6\\x15\\x83\\xd2Z\\xfd\\xfe\\x89\\xeb\\x96\\x1d#`;'\n",
      "Length: 192\n",
      "Embedding Efficiency: 4.166666666666667\n",
      "==============\n",
      "664Sweetheart, hope you are not having that kind of day! Have one with loads of reasons to smile. Biola\n",
      "customizedTechniques-2\n",
      "Uyggvjgctv, jqrg aqw ctg pqv jcxkpi vjcv mkpf qh fca! Jcxg qpg ykvj nqcfu qh tgcuqpu vq uokng. Dkqnc\n",
      "Length: 100\n",
      "customizedTechniques-3\n",
      "s",
      "",
      "",
      "J>",
      ">>",
      ">>>>>>?>h",
      ">",
      ">>>>",
      ">>",
      "L>b\n",
      "Length: 100\n",
      "customizedTechniques-5\n",
      "¥É··Æº·³ÄÆ|pºÁÂ·p±ÁÇp³Ä·pÀÁÆpº³È»À¹pÆº³Æp½»À¶pÁ¸p¶³±qp³È·pÁÀ·pÉ»Æºp¾Á³¶ÅpÁ¸pÄ·³ÅÁÀÅpÆÁpÅ¿»¾·~p»Á¾³\n",
      "Length: 100\n",
      "OpenSourceTechniques-6\n",
      "b'\\xbf\\xd3\\x82\\x1e\\x02\\xcf}\\x7f\\x98x\\xc0\\xa4\\x93\\x98\\xb5\\xc0z\\xcdm\\xefY\\xc1\\xfb\\x98\"\\x1c\\x1aa*\\n5#\\xed\\xaa\\x1b\\xa0V\\x07\\x0c\\xbaT\\xcf\\xf6`\\xb89%\\x96\\xf4f\\xc6\\xf1v\\xc6~\\x0eq\\xa4\\xda\\t\\x9f\"\\xe4\\x80\\xdf\\x96\\xf8\\xb6\\\\\\x80\\xe2@\\x91\\x17N\\xff\\xfc\\x87|J\\xd1\\x80\\xc5\\x1f-\\xe8u\\xb8\\xea\\xbb\\x8c>\\x93\\x96h\\xaa\\xdc\\x1cY\\x1b)F\\xf1\\xc9TP-\\xa7`\\x07\\xc1\\\\\\xd1^A\\xc1+\\xaf\\x8f>\\xb3]\\x03\\x8a\\xe6\\xca\\x13\\x16\\xe12}>\\x8b\\xf2\\xb5R\\xea&\\x0f-\\xf6\\xb1\\xd1M\\r\\x00\\xf4\\x9a8\\x8b\\xe4\\x9fO\\xf9\\x8df\\xc5\\xc6F^\\xa4rD\\xd8\\x0c\\x8d\\x82t\\xe7\\x13\\xc8\\xf6b\"\\xf7\\xfa\\xe47\\xc7\"3/\\x9b/h\\xbc\\x9bsD#\\xf8\\xb4'\n",
      "Length: 192\n",
      "Embedding Efficiency: 4.166666666666667\n",
      "==============\n",
      "665Ok give me 5 minutes I think I see her. BTW you're my alibi. You were cutting my hair the whole time.\n",
      "customizedTechniques-2\n",
      "Qm ikxg og 5 okpwvgu K vjkpm K ugg jgt. DVY aqw'tg oa cnkdk. Aqw ygtg ewvvkpi oa jckt vjg yjqng vkog.\n",
      "Length: 101\n",
      "customizedTechniques-3\n",
      "o>",
      ">",
      ">S>",
      ">i>>i>",
      "",
      ">",
      "L>btw>E",
      ">>L>_>",
      "",
      ">>>>",
      ">",
      ">",
      "L\n",
      "Length: 101\n",
      "customizedTechniques-5\n",
      "¡½p¹»È·p¿·p",
      "p¿»ÀÇÆ·ÅppÆº»À½ppÅ··pº·Ä~p¦©p±ÁÇwÄ·p¿±p³¾»´»~pÁÇpÉ·Ä·pµÇÆÆ»À¹p¿±pº³»ÄpÆº·pÉºÁ¾·pÆ»¿·~\n",
      "Length: 101\n",
      "OpenSourceTechniques-6\n",
      "b'\\x8eD>\\xc6\\xa0n\\x9e|t\\x14\\x07\\x19L\\xb7-\\xfb\\xac\\xd3\\x89\\xe5\\xc7G\\x14~\\xb2ugEo+\\x16\\xee\\xdc\\xdc{\\x99\\xc2\\xbbT\\xb3\\xc7s\\x8d)\\xc6\\x91\\x10\\x82\\x18W\\x9c]o\\x8cR\\x06\\xc0\\xe1Z^\\xca\\xa0\\xc7m\\xffh\\xf6B\\x1e\\xb6\\xb4um\\xbdvI8\\xd8J\\x9bB\\r\\xec\\x80\\xa0\\x08Z\\xb4_\\x0f\\xae\\xe1\\xaei\\xaa\\xc1\\x06{\\xf1J\\xf3)b\\x9dco\\xba\\xdd\\x1f}\\x0b\\xea9\\xb3\\xd3\\xf6\\xe5\\x95\\r\\x86\\xa6\\xa2\\x00\\x8aJ8\\xe2dH\\x92\\n\\x9a\\xa6u\\xae\\xb5\\xdd,c*\\xdc{\\xda\\\\\\xabQf\\x9c\\x19\"\\xdf3\\x11\\x1e\\\\\\xab\\xf6\\x02$@\\xc8\\xf0=\\xd1\\xfbA?dh\\x9b\\xa5\\x19\\xe6\\xd9\\xbbR$q\\xda\\x9e\\x08>Vu,\\x8au\\x9aF%I\\xaa'\n",
      "Length: 192\n",
      "Embedding Efficiency: 4.208333333333333\n",
      "==============\n",
      "666Email AlertFrom: Jeri StewartSize: 2KBSubject: Low-cost prescripiton drvgsTo listen to email call 123\n",
      "customizedTechniques-2\n",
      "Gockn CngtvHtqo: Lgtk UvgyctvUkbg: 2MDUwdlgev: Nqy-equv rtguetkrkvqp ftxiuVq nkuvgp vq gockn ecnn 123\n",
      "Length: 101\n",
      "customizedTechniques-3\n",
      "e>a",
      "fX>j",
      ">s",
      "s",
      "X>Pkbs",
      "X>lK>",
      ">t>",
      ">>",
      ">>OPQ\n",
      "Length: 101\n",
      "customizedTechniques-5\n",
      "¿³»¾p¾·ÄÆÄÁ¿p·Ä»p¥Æ·É³ÄÆ¥»²·p¥Ç´¼·µÆpÁÉ}µÁÅÆpÂÄ·ÅµÄ»Â»ÆÁÀp¶ÄÈ¹Å¦Áp¾»ÅÆ·ÀpÆÁp·¿³»¾pµ³¾¾p\n",
      "Length: 101\n",
      "OpenSourceTechniques-6\n",
      "b'\\x08\\xbb\\x19\\x1f\"\\xd8\\xf2Hu3J\\xcf\\x97O\\x87e1q`\\xbd\\xd1\\xf4\\'\\x82\\xc3\\x88\\xe0\\xd8\\x08\\xcb\\x99\\xb1\\\\\\x82\\xcb\\xf8\\xf2K\\x87\\x06)\\x12\\xf1\\x07\\x04\\x0cc\\xea\\xf0\\xa3*t\\xb1\\x89\\xef\\xe5\\x1ez\\xbe\\x1e\\xebBl\\xe6\\xea\\xee\\xb5\\xba\\xf1\\xfc9\\xcbc/)\\xcd\\x91\\xd6\\x87\\xfe\\x84\\xb7\\x15\\x17\\x9a]*\\xf9\\x7f\\x02\\xe8\\xaa\\xf3\\x8a\\xad(\\x08#\\\\\\xcb\\xc5\\x82\\x02\\x15i\\xf1V\\xc4\\x00\\x18a\\xd4\\x94\\x16\\xfa\\xf5\\xbah\\x87>\\xce\\x9eUk\\xdf\\xd0\\x0f2\\x08\\xb7K\\x11\\x1fG\\xa0\\xe0bU+\\x87+13\\x10\\xd0\\xaf\\xa2\\xfd\\x14\\x10\\xc3J\\xa3\\x82\\xa9\\x84+\\xd6\\x8dYi\\xd7\\xdb\\xe5\\xc3=V\\xacU\\xf9\\xe0\\xbf\\x81<\\x0e\\xc3\\x82\\x96\\x03H\\xf3\\x9c\\xce\\x1e\\x91->\\x84\\x16-\\xc3\\x03'\n",
      "Length: 192\n",
      "Embedding Efficiency: 4.208333333333333\n",
      "==============\n",
      "667Is there a reason we've not spoken this year? Anyways have a great week and all the best in your exam\n",
      "customizedTechniques-2\n",
      "Ku vjgtg c tgcuqp yg'xg pqv urqmgp vjku agct? Cpaycau jcxg c itgcv yggm cpf cnn vjg dguv kp aqwt gzco\n",
      "Length: 101\n",
      "customizedTechniques-3\n",
      "i>",
      "",
      ">>",
      ">",
      "E",
      ">>",
      ">>",
      "]>a>",
      ">>",
      ">",
      "",
      ">>>",
      ">",
      ">>>",
      "\n",
      "Length: 101\n",
      "customizedTechniques-5\n",
      "ÅpÆº·Ä·p³pÄ·³ÅÁÀpÉ·wÈ·pÀÁÆpÅÂÁ½·ÀpÆº»Åp±·³ÄpÀ±É³±Åpº³È·p³p¹Ä·³ÆpÉ··½p³À¶p³¾¾pÆº·p´·ÅÆp»Àp±ÁÇÄp·Ê³¿\n",
      "Length: 101\n",
      "OpenSourceTechniques-6\n",
      "b'\\x83]\\xeb\\xebc\\xfdK\\x12=y\\x87\\xb5\\xdbm\\t\\x9cOo\\xbcF\\x92d\\xd4\\xbcS.\\x0fyt\\xdf\\xda\\xc2JR[3wh{\\xef\\xeb_\\x05\\xc7\\x86\\x1e\\xf3Cb\\xd9\\xc8\\x13\\x1b\\xce#\\x0f\\x7f&\\x1a\\xae\\xea\\xdd\\xda\\x02\\xae\\x81\\x05\\x0e\\x9f\\xdb\\xf6?|o@\\xab\\xa6\\xad\\xb0\"8\\x80\\xbb\\xf0\\x10\\xd0\\xeb\\xc6-P\\xbc\\x96\\xa1E\\x05\\x12\\xaf\\xb8\\xa3/~\\x0e\\x870t\\x1a\\xf3\\xdb`p\\x05o|\\x89\\xf4\\xe8\\xe9\\xc1\\x9c(\\x10\\xf2\\xeb\\x9c\\xfe\\xd5\\xe1^P\\x8b\\xbb+j\\xa7\\xf6\\x1f\\xb1jiM\\xd1\\xa3\\x04<jUE\\xe5\\x1d\\xb9d\\x82\\xdc\\xfc\\x94\\\\\\x8c\\xbb*e\\xc0\\xe5\\xe6\\xa9l\\x1dmqm{>\\xb9\\x14\\xd1(\\xcd\\xe1\\x93Gi$\\x91\\x1f;\\xc4v\\r\\xe8&o*|'\n",
      "Length: 192\n",
      "Embedding Efficiency: 4.208333333333333\n",
      "==============\n",
      "668From here after The performance award is calculated every two month.not for current one month period..\n",
      "customizedTechniques-2\n",
      "Htqo jgtg chvgt Vjg rgthqtocpeg cyctf ku ecnewncvgf gxgta vyq oqpvj.pqv hqt ewttgpv qpg oqpvj rgtkqf..\n",
      "Length: 102\n",
      "customizedTechniques-3\n",
      "f>",
      "",
      ">",
      ">t",
      ">",
      "",
      ">>>",
      ">",
      "",
      ">>L>>",
      ">",
      ">>",
      "LL\n",
      "Length: 102\n",
      "customizedTechniques-5\n",
      "ÄÁ¿pº·Ä·p³¸Æ·Äp¦º·pÂ·Ä¸ÁÄ¿³Àµ·p³É³Ä¶p»Åpµ³¾µÇ¾³Æ·¶p·È·Ä±pÆÉÁp¿ÁÀÆº~ÀÁÆp¸ÁÄpµÇÄÄ·ÀÆpÁÀ·p¿ÁÀÆºpÂ·Ä»Á¶~~\n",
      "Length: 102\n",
      "OpenSourceTechniques-6\n",
      "b'\\xb4\\\\\\x82\\x80\\xd8\\x88\\xebj\\x82\\xb7\\x08\\xe9\\x9f3meh\\x92&g\"]\\xeeL\\x9a\\xbaF\\x9b\\xeah\\xee\\x1a\\x91rE\\xee8\\xea\\x9b\\x84\\x1f\\xdf\\xe2,\\x06\\x86\\x92-\\xa2\"\\x94p\\xda\\xbf\\xb3\\xa2F\\x80\\x04PJ\\xce\\x05\\x04=\\x04j}V\\xaf\\xa6Q\\x91N\\x91\\xe7{\\xbf\\xd8\\x94\\x8e$\\\\\\x0bv\\xfd\\x1f\\xd1\\xd5\\xd5\\x12\\xb3z\\xdeip\\xeb\\xe3ol \\xc1Bq\\xcb\\xd0i}o~\\x88$\\xb3\\xefv\\x1d?\\xb5\\'}]\\xfb\\xc3\\x08iV\\xc3h\\x91Dv\\x8c\\x87\\xc7_\\xad\\x82\\xa1\\xc59\\xe4\\x92iP\\xfc\\xb7n\\xdbs\\xc8m8\\xedrH\\x8f\\x1d\\x10qCJ\\nh\\xf0g\\x9f\\xf1\\x86oh\\x18x\\x91.\\xa3\\xacI\\xb4\\xedY\\x0e\\x0bhF\\xe4\\xa5/\\xc9\\x96\\xf4\\x1c\\x89'\n",
      "Length: 192\n",
      "Embedding Efficiency: 4.25\n",
      "==============\n",
      "669Yup i thk they r e teacher said that will make my face look longer. Darren ask me not 2 cut too short.\n",
      "customizedTechniques-2\n",
      "Awr k vjm vjga t g vgcejgt uckf vjcv yknn ocmg oa hceg nqqm nqpigt. Fcttgp cum og pqv 2 ewv vqq ujqtv.\n",
      "Length: 102\n",
      "customizedTechniques-3\n",
      "_>>>",
      ">>",
      ">",
      "",
      ">>>>",
      ">>",
      ">>",
      "L>d",
      ">>",
      ">>P>>>L\n",
      "Length: 102\n",
      "customizedTechniques-5\n",
      "ÇÂp»pÆº½pÆº·±pÄp·pÆ·³µº·ÄpÅ³»¶pÆº³ÆpÉ»¾¾p¿³½·p¿±p¸³µ·p¾ÁÁ½p¾ÁÀ¹·Ä~p³ÄÄ·Àp³Å½p¿·pÀÁÆppµÇÆpÆÁÁpÅºÁÄÆ~\n",
      "Length: 102\n",
      "OpenSourceTechniques-6\n",
      "b'aA\\xbd\\xd1`\\x13\\xeb\\xe8\\x08\\x04\\xb4\\x06\\xf1\\xaaS-V\\xa8\\nW\\x9a\\xd1\\xaa\\xc6\\x83\\x92M\\xa6\\xc1%dZL\\x16\\xa2Y\\xdf\\x94=\\x82&\\x8b\\x94\\x88\\xd17\\xe6aN\\x89S\\x8d/\\x12\\x08LN{\\x8c#\\x94\\xa7\\xae\\x03Y\\x9b6\\xba\\x9c\\rC\\x0f\\x1b\\xb7\\xb3\\xb6^\\x19F\\xf8t\\xc3\\x8b9\\xd6\\xe2\\xed\\x0f\\xc62\\xe1K\\x19\\xe4\\xe6\\x83\\xf3\\xaf\\xfe\\xe5\\x97\\xe9\\xc7\\xae)\\x12#\\x8d\\x81\\x9a\\xef\\xe5\\xa8A5\\x1f\\x7fp\\x16\\x12\\x83o\\xa1\\xa4\\xb6\\x0f\\t\"t\\xad\\xf0\\\\Hn\\x9c\\'\\xbdS\\xb2^g\\xd5wH\\xf5x:\\xa3\\xa2{ EI\\xdaIX6=\\xcd)\\x8b\\x98\\x9c\\xb9H\\xe3y\\xbe\\xdc\\xbb\\xc9Z\\xb3\\xadLw9=\\x12\\x95pM{\\xc8\\x7f\\xb459U\\x98\\x86\\x84'\n",
      "Length: 192\n",
      "Embedding Efficiency: 4.25\n",
      "==============\n",
      "670Do you realize that in about 40 years, we'll have thousands of old ladies running around with tattoos?\n",
      "customizedTechniques-2\n",
      "Fq aqw tgcnkbg vjcv kp cdqwv 40 agctu, yg'nn jcxg vjqwucpfu qh qnf ncfkgu twppkpi ctqwpf ykvj vcvvqqu?\n",
      "Length: 102\n",
      "customizedTechniques-3\n",
      "d>>",
      "",
      ">>>>RN>",
      "J>",
      "E>",
      ">>>>",
      ">>>>]\n",
      "Length: 102\n",
      "customizedTechniques-5\n",
      "Áp±ÁÇpÄ·³¾»²·pÆº³Æp»Àp³´ÁÇÆpp±·³ÄÅ|pÉ·w¾¾pº³È·pÆºÁÇÅ³À¶ÅpÁ¸pÁ¾¶p¾³¶»·ÅpÄÇÀÀ»À¹p³ÄÁÇÀ¶pÉ»ÆºpÆ³ÆÆÁÁÅ\n",
      "Length: 102\n",
      "OpenSourceTechniques-6\n",
      "b\"h\\xc0\\xcf\\xc4\\xd8\\x00\\xaeB)L\\xcf\\xc5|xC\\x16\\xb5P\\x83'\\xf3|\\xfb\\xfc\\x87$\\xb7\\x003\\x96\\x9c\\xed\\xef]\\xd42\\x8f\\xf8\\xc2`\\x99\\x1b\\xb5/\\xcd@\\xc9cz\\xea\\xc8J\\xf9V\\xe2\\xf4\\xa9#\\xd9\\x0e\\xdb\\x9b\\x9e\\xfe\\x12\\x06o\\x8d\\xdd?\\x03|\\xdc\\x9fj;M\\x08\\\\\\x89<\\xa7\\xfc\\xb5\\xc4\\x00\\x95\\x9e\\xc3\\x8e\\xb5\\xdc\\x0bJ\\xadMN\\x97\\xef\\x88\\x0cj\\x8a\\xd9\\x82\\xa0\\xe8+[d\\x9f\\xf7Y\\xdfD\\xe0r\\xd5B\\x84\\x0c\\xe7\\x13\\x0e\\xd0\\xacI\\xa4\\xb1\\xef\\xea\\x8f4\\x84\\x8c\\x06\\x82G\\x94\\xb57\\x99,\\xb1\\xa4\\xc3E7\\xec(\\x81(\\xf8\\xbe\\x01\\x17x\\x1f\\x04w[\\x91\\xee\\xd9\\x98\\xe0\\xf9\\\\\\x95\\xbca\\xdc]\\x02f\\xd3\\x85\\x10\\x11\\x11\\x0f}\\xf8\\x02a\\x7f\\x8f:\\x13a\\xacc\"\n",
      "Length: 192\n",
      "Embedding Efficiency: 4.25\n",
      "==============\n",
      "671Its going good...no problem..but still need little experience to understand american customer voice...\n",
      "customizedTechniques-2\n",
      "Kvu iqkpi iqqf...pq rtqdngo..dwv uvknn pggf nkvvng gzrgtkgpeg vq wpfgtuvcpf cogtkecp ewuvqogt xqkeg...\n",
      "Length: 102\n",
      "customizedTechniques-3\n",
      "i>>LLL>",
      "LL>>",
      "",
      ">",
      ">",
      "",
      "",
      "",
      ">>",
      ">",
      ">",
      ">",
      "LLL\n",
      "Length: 102\n",
      "customizedTechniques-5\n",
      "ÆÅp¹Á»À¹p¹ÁÁ¶~~~ÀÁpÂÄÁ´¾·¿~~´ÇÆpÅÆ»¾¾pÀ··¶p¾»ÆÆ¾·p·ÊÂ·Ä»·Àµ·pÆÁpÇÀ¶·ÄÅÆ³À¶p³¿·Ä»µ³ÀpµÇÅÆÁ¿·ÄpÈÁ»µ·~~~\n",
      "Length: 102\n",
      "OpenSourceTechniques-6\n",
      "b\"\\xc5\\xd0\\xea]1\\xf20\\x8d\\x14\\xe0\\xa0\\x1at\\xc3\\xdb\\x90\\xfb%\\xb2-$#\\r`c\\x92;\\xe7\\xd8n\\x93\\xb1\\x11\\x08\\x18o\\x97\\xfcV\\x87^\\x14\\xec\\xfc\\xca[\\xb1E\\xc0x\\x02\\xdaOz\\xeaQ3F\\xa7gvL\\xcf\\xde\\x9b$\\xe9\\xaa+\\xdfJ\\xb7p\\\\\\x17sp\\xddL\\x8f\\xc2\\xd9W\\xa9&y'\\xa3\\xca\\xfc\\xee\\xa1P\\xcd\\xdf\\x1f\\x01\\xec5\\xfdfS\\xc8\\xe17\\xbe\\xcc\\x89\\xd0\\x16\\xab\\x89\\x95\\x831{\\xfd\\xfe\\xd8\\xaf\\xfa\\xffx\\xf2\\xe9\\x95r\\xb4\\xa13?\\x19\\x1cL\\x13\\xfc.Zf\\x11\\xfb\\xb3\\xdfy\\xaf\\xbdfb\\xd9kg\\xf1\\x16\\x1b&)\\xdb]\\xe8d\\xa9v\\xd3_]'\\x9f\\xd6\\xa0_\\xfd]=\\xf1\\xf0\\xec\\xecH\\xb1\\xf7\\xe2b\\x8c\\xc9\\xc5{\\x9d\\xc9\\xea\\r\\xb8\\xa3\"\n",
      "Length: 192\n",
      "Embedding Efficiency: 4.25\n",
      "==============\n",
      "672Ill call u 2mrw at ninish, with my address that icky American freek wont stop callin me 2 bad Jen k eh?\n",
      "customizedTechniques-2\n",
      "Knn ecnn w 2oty cv pkpkuj, ykvj oa cfftguu vjcv kema Cogtkecp htggm yqpv uvqr ecnnkp og 2 dcf Lgp m gj?\n",
      "Length: 103\n",
      "customizedTechniques-3\n",
      "i>>>P>>J>>>",
      ">>>a",
      ">",
      "",
      ">>>>",
      ">P>>j",
      ">>",
      "]\n",
      "Length: 103\n",
      "customizedTechniques-5\n",
      "¾¾pµ³¾¾pÇp¿ÄÉp³ÆpÀ»À»Åº|pÉ»Æºp¿±p³¶¶Ä·ÅÅpÆº³Æp»µ½±p¿·Ä»µ³Àp¸Ä··½pÉÁÀÆpÅÆÁÂpµ³¾¾»Àp¿·pp´³¶p·Àp½p·º\n",
      "Length: 103\n",
      "OpenSourceTechniques-6\n",
      "b\"2\\x1b\\xc8\\xc8\\xdcK\\x15+\\xcb\\x87\\x10\\xf9_\\x15G\\xcd\\xb9\\x94\\x08\\x13Z\\xd9C\\x9f0R?5\\xb8\\xa3\\x9c%Q\\x9c\\x93\\xe4\\xe1\\x85I=\\xed\\xad\\xe3\\xd3@\\xb6\\xba}'Y\\x8b?\\xa7\\xf3ZU\\xf8\\xc3\\x9b\\x01\\x94\\xc7<\\xf8]\\x17z\\t:U6\\xf6\\xf2\\xeb\\xfc\\x95\\x90\\x96\\x16\\x04\\x86\\xf0\\xf2&\\xdb\\xe7\\x97\\xaf\\x0b\\xfb\\x80\\xa3\\xed\\xea\\xc0L\\xa6Bg\\xe8\\rY\\x1b\\xa5\\x17\\xa4\\xdf\\x11z\\n\\xad\\x01\\x85\\xaf\\xf5\\x87\\xcf@\\t\\x12a\\xef\\x00[\\xe6\\xaa\\x96\\xcb\\xad+\\xde\\xa5z\\xda\\xb0\\xe2\\xce\\xd4=g\\x88%u\\x84\\xc8\\x10\\x1c\\xebm\\xd95\\xc4B\\x0b\\xe9\\xf5\\xcfr\\xa2\\xb6\\xd4\\xc4\\x8a\\xe6-\\xdd`v\\xad\\xff\\xa9\\xc7]F\\x96\\x00o \\x0f\\x04\\x16B\\xf8C\\x8e\\xe0\\x0eO\\xf9\\xedN\\x14\"\n",
      "Length: 192\n",
      "Embedding Efficiency: 4.291666666666667\n",
      "==============\n",
      "673Let there be snow. Let there be snow. This kind of weather brings ppl together so friendships can grow.\n",
      "customizedTechniques-2\n",
      "Ngv vjgtg dg upqy. Ngv vjgtg dg upqy. Vjku mkpf qh ygcvjgt dtkpiu rrn vqigvjgt uq htkgpfujkru ecp itqy.\n",
      "Length: 103\n",
      "customizedTechniques-3\n",
      "l",
      ">",
      "",
      ">",
      ">L>l",
      ">",
      "",
      ">",
      ">L>t>>>",
      "",
      ">>>",
      "",
      ">>",
      ">>L\n",
      "Length: 103\n",
      "customizedTechniques-5\n",
      "·ÆpÆº·Ä·p´·pÅÀÁÉ~p·ÆpÆº·Ä·p´·pÅÀÁÉ~p¦º»Åp½»À¶pÁ¸pÉ·³Æº·Äp´Ä»À¹ÅpÂÂ¾pÆÁ¹·Æº·ÄpÅÁp¸Ä»·À¶Åº»ÂÅpµ³Àp¹ÄÁÉ~\n",
      "Length: 103\n",
      "OpenSourceTechniques-6\n",
      "b'D\\x9f\\xd1QVcFz\\x1c\\x1e\\xe9R\\xde\\x90c\\xf3\\x07\\xe5\\xde\\x92S\\xb0y\\x89U;\\xf8]\\\\\\x06\\x84\\x8d)\\t\\xd0\\x96\\xd2\\xb7\\x0e\\xafF;\\xacY\\xcfKPe?lw\\x86\\x83Z\\xcf\\xc9\\xa6\\xfb\\xd3K\\xb4\\xd4\\xc6|\\xdc7\\xd8\\xee\\xf4\\xb8Oq\\xf7 #\\x9f\\xa4|\\x96\\x83C\\x80\\xbd\\xcb{J\\xd9}M\\xa8\\x81\\xe3\\x08\\x1e\\x10\\x1f%\\xf9A\\x19\\x9c\\x9a\\xcc\\xd5\\x17HN<P.\\xdc6\\x8d\\x83\\xacR\\xdfj\\xec\\xd3meU\\xb3+\\xf6\\x0f\\xb2w\\x12\\xa86i\\x89\\x95\\xcd\\xe3\\xb6\\xcc\\x16\\xdeCa\\xd6\\xd1}\\x96\\x1c{\\xf1\\xb8\"\\xe58_\\xdb\\x1a_\\xc9\\x90\\xa6k\\xf6b\\x0b\\xde\\x08\\xba!p\\xe4\\xe2\\xa0\\x01q\"\\x97`\\x1c9?\\x16\\xf3\\xd9\\x88\\x7f\\xd8;\\t\\x0eSE'\n",
      "Length: 192\n",
      "Embedding Efficiency: 4.291666666666667\n",
      "==============\n",
      "674Leaving to qatar tonite in search of an opportunity.all went fast.pls add me in ur prayers dear.Rakhesh\n",
      "customizedTechniques-2\n",
      "Ngcxkpi vq scvct vqpkvg kp ugctej qh cp qrrqtvwpkva.cnn ygpv hcuv.rnu cff og kp wt rtcagtu fgct.Tcmjguj\n",
      "Length: 103\n",
      "customizedTechniques-3\n",
      "l",
      ">>>",
      ">>",
      ">>>L>",
      ">L>>",
      ">>>",
      ">",
      "Lr",
      "\n",
      "Length: 103\n",
      "customizedTechniques-5\n",
      "·³È»À¹pÆÁpÃ³Æ³ÄpÆÁÀ»Æ·p»ÀpÅ·³ÄµºpÁ¸p³ÀpÁÂÂÁÄÆÇÀ»Æ±~³¾¾pÉ·ÀÆp¸³ÅÆ~Â¾Åp³¶¶p¿·p»ÀpÇÄpÂÄ³±·ÄÅp¶·³Ä~¤³½º·Åº\n",
      "Length: 103\n",
      "OpenSourceTechniques-6\n",
      "b\"\\x0ck!%\\xacL\\xe2@\\xael~1\\x89\\xc8\\xf1\\x0b\\xa9\\xd3\\x7fg\\x87g?\\x89]\\x88N\\x0f\\x11P\\x16\\xfd>K\\xcf\\xde\\x0bi\\xf4\\x1f?\\xf8\\xc9\\x8b\\xdf\\xa1\\x86\\xde\\xc1\\x86\\x1a\\t\\x1eH\\x90\\x81\\x80&s^\\xee\\x893B\\xad\\x98\\xef!\\xcb\\xcf\\x98eK\\xa0DJ'\\x1fC\\x7f\\x07.\\xf5\\xd7\\x95\\x00\\x04z\\x0b\\xa6\\x04\\xc5P+\\x85\\xce\\xa2\\xea\\xe9\\xb2\\x0f7\\xf5o\\xd1*&B\\x1f\\xfd\\x15U\\x13l\\xe0\\xab\\xe0\\xa3\\x1a\\xe1h@\\x1e\\xa3\\xbf\\x07\\x0c\\xfb\\xfc\\xdd\\x00D\\xb4\\x9f\\x9a\\x0b\\x81\\xc21\\xdb\\\\A\\xb9\\xe9\\xd3\\t\\xbb\\xee4\\xd8\\xde\\xfe~9\\xa1\\xae\\xf8\\x03^\\xb7\\xf3CZ@\\xcb\\xb3rZ>\\xb9\\x88\\x8e\\x98{\\t\\xa3S#\\xe9\\xeb\\x87\\xd0hJ\\x86\\xc3\\x1cC\\x16\\x14\\xcd\\x9d\"\n",
      "Length: 192\n",
      "Embedding Efficiency: 4.291666666666667\n",
      "==============\n",
      "675I'm nt goin, got somethin on, unless they meetin 4 dinner lor... Haha, i wonder who will go tis time...\n",
      "customizedTechniques-2\n",
      "K'o pv iqkp, iqv uqogvjkp qp, wpnguu vjga oggvkp 4 fkppgt nqt... Jcjc, k yqpfgt yjq yknn iq vku vkog...\n",
      "Length: 103\n",
      "customizedTechniques-3\n",
      "iE>>J>>",
      ">J>",
      ">",
      ">",
      "",
      ">R>",
      ">LLL>hJ>>",
      ">>>>>",
      "LLL\n",
      "Length: 103\n",
      "customizedTechniques-5\n",
      "w¿pÀÆp¹Á»À|p¹ÁÆpÅÁ¿·Æº»ÀpÁÀ|pÇÀ¾·ÅÅpÆº·±p¿··Æ»Àpp¶»ÀÀ·Äp¾ÁÄ~~~p³º³|p»pÉÁÀ¶·ÄpÉºÁpÉ»¾¾p¹ÁpÆ»ÅpÆ»¿·~~~\n",
      "Length: 103\n",
      "OpenSourceTechniques-6\n",
      "b\"\\xbc\\xfb7\\xb9\\xe8\\x14\\xdf\\xec\\x97\\x98BN\\x96\\xfc\\xb7\\xe2\\xe0\\xc1~Jb\\x83D/\\xb2\\x11\\xa4\\xd9M(\\xaf\\xe03e\\xbc\\xc6\\xe2Q\\xea\\xfe\\xa2\\xdb\\xf4\\x9a\\xd9,A\\x13\\xce\\x00\\xc1\\x1dH\\xd5\\\\\\x92x\\xdf1;F\\xea\\xc03|\\xf8\\xfd]\\x8d\\x97\\xf0\\x80`!\\x91&\\xe173\\xcc'#\\xbd\\xd6\\x90\\xae\\x0cX\\x80\\xb8\\xa4\\xaf\\x1e~@>\\xc44\\xe4@\\xc7\\x93\\xf2\\xf0\\x02\\xb7\\xdb,y\\xbe!6X\\xe9'\\xddZ\\xf6\\x02h\\xfe\\x85\\xe2\\x10\\xfd\\x8d\\xd9\\xa5e\\x16\\xfeUv\\xb4A\\xf6\\xc6n\\xd0\\xbd\\xdc\\x80]M\\t\\xe2\\xa7\\x02\\xd8Jx\\xb2\\xf7\\xbf\\xe1\\xb6\\x02w\\x04\\xbb\\x1fEK\\xcf{e\\xe5\\xa2\\x0c\\xd8\\xee \\x11\\x13~\\xbaw\\x15\\xde\\\\\\xc4e\\x93\\xefmQ\\x1e\\xe6P\\x99ud\"\n",
      "Length: 192\n",
      "Embedding Efficiency: 4.291666666666667\n",
      "==============\n",
      "676Congratulations ore mo owo re wa. Enjoy it and i wish you many happy moments to and fro wherever you go\n",
      "customizedTechniques-2\n",
      "Eqpitcvwncvkqpu qtg oq qyq tg yc. Gplqa kv cpf k ykuj aqw ocpa jcrra oqogpvu vq cpf htq yjgtgxgt aqw iq\n",
      "Length: 103\n",
      "customizedTechniques-3\n",
      "c>",
      ">>>",
      ">L>e>>>>>>>>",
      ">>>>",
      "",
      "",
      ">>\n",
      "Length: 103\n",
      "customizedTechniques-5\n",
      "ÁÀ¹Ä³ÆÇ¾³Æ»ÁÀÅpÁÄ·p¿ÁpÁÉÁpÄ·pÉ³~pÀ¼Á±p»Æp³À¶p»pÉ»Åºp±ÁÇp¿³À±pº³ÂÂ±p¿Á¿·ÀÆÅpÆÁp³À¶p¸ÄÁpÉº·Ä·È·Äp±ÁÇp¹Á\n",
      "Length: 103\n",
      "OpenSourceTechniques-6\n",
      "b'\\x8b\\xb7\\xdd\\x05\\xb0\\xb5\\n\\xd3\\x88\\x05\\x86G>gx \\x05\\xad\\xccLJq\\xefVT\\xb3d\\xe9,\\x80\\x81\\x84\\xe9;\\t\\xe3\\xc2;\\x03\\xab\\xfdN\"\\xa0\\x81\\xcf\\x8dB1\\xc9\\x86\\xfb\\xcd}\\x83\\x7f\\x9bh\\\\\\xb6G\\'\\xb3\\x87\\xf5\\xf6\\x9aX\\x00\\xcd0N\\xf6?\\xac\\x0c\\xc7\\x14\\x08\\xb9\\xb4f\\x01\\xf9\\xa3a+\\x14B\\x1c\\xbaw\\x19\\xf3\\x84\\x18\\xeet\\x12\\xb9#\\x93RC\\x83c\\x8a\\xa6\\x84\\xa5P>\\xf5\\xdb\\xee4\\xb7\\xaf\\x9c^\\xc5\\xce\\\\\\xc0\\xb4D\\xb8\\x8c\\xae\\x9a\\xadp\\x97&\\xe0i\\xbf\\xfc\\xeb\\xa6\\xc2\\xec3\\xfe\\xd8-4\\x02\\x9d\\xd1\\xb5\\x858a\\xa8#\\xc0#+m\\x8e\\xe1\\x14\\xb3\\x07\\xf7\\x9d\\xf8#\\xab\\x04+\\xfd\\x19J\\x18\\'g\\x07\\x81n\\x05\\xf3\\xc9zs\\t\\xec\\xd2\\xeb\\xd5^'\n",
      "Length: 192\n",
      "Embedding Efficiency: 4.291666666666667\n",
      "==============\n",
      "677Yes..he is really great..bhaji told kallis best cricketer after sachin in world:).very tough to get out.\n",
      "customizedTechniques-2\n",
      "Agu..jg ku tgcnna itgcv..djclk vqnf mcnnku dguv etkemgvgt chvgt ucejkp kp yqtnf:).xgta vqwij vq igv qwv.\n",
      "Length: 104\n",
      "customizedTechniques-3\n",
      "_",
      "LL",
      ">>",
      ">",
      "LL>>>",
      ">",
      "",
      ">",
      ">>>XGL",
      ">>>",
      ">L\n",
      "Length: 104\n",
      "customizedTechniques-5\n",
      "·Å~~º·p»ÅpÄ·³¾¾±p¹Ä·³Æ~~´º³¼»pÆÁ¾¶p½³¾¾»Åp´·ÅÆpµÄ»µ½·Æ·Äp³¸Æ·ÄpÅ³µº»Àp»ÀpÉÁÄ¾¶y~È·Ä±pÆÁÇ¹ºpÆÁp¹·ÆpÁÇÆ~\n",
      "Length: 104\n",
      "OpenSourceTechniques-6\n",
      "b'\\x96\\xf3\\xdd}-m\\xf2E\\xbe\\x17\\x9d\\x99\\xd8\\xc93\\x89\\x85\\xf8.\\xc5+\\xd6\\x7fx\\xff\\r\\xe4Z\\x82\"\\xc8n\\xfe\\x13\\x11\\xd5\\xf1\\x9a\\xf7\\xfb\\xef\\xb4\\x0c\\x87w%\\xc3\\xc2\\x86Eb!\\xa2k\\xad$\\xc3\\xa2\\xddo\\xda\\x072x5N\\xc5\\x86C\\xe9`UJ{\\x08\\x00\\xdbF\\xce\\xeb\\x8c\\x1c}\\xb7x\\x0e\\x99\\xc4\\x1d\\xb4\\xdc7\\x86\\t\\x16\\xdd\\x8a\\x11\\xf7=\\xa6\\x8a\\xc3lOc\\x82\\xc7\\xe0\\xb8\\xc2\\xeb6\\xa4U\\xb2\\xf6\\xf7\\xcd\\xddr\\xa32\\xe2\\xcfyp\\x9a\\x8e\\x8a\\x1d1\\x00\\xecbN\\x99-n\\x1a\\xd3\\xe1\\xa0B\\xd2\\x15\\xe9\\xd1F\\x14\\x8b\\xb7\\x99\\x86\\xa4)\\xcd\\xe8\\x1bS\\xa5P\\xee\\x0f\\xa6\\xd3\\xc97\\x1c\\xe7\\x96\\x92\\xea_\\x07-\\xc8\\xdb\\x05\\x00\\xf9\\x0b\\x8d87aSrr\\x80r\\x98'\n",
      "Length: 192\n",
      "Embedding Efficiency: 4.333333333333333\n",
      "==============\n",
      "678Mind blastin.. No more Tsunamis will occur from now on.. Rajnikant stopped swimming in Indian Ocean..:-D\n",
      "customizedTechniques-2\n",
      "Okpf dncuvkp.. Pq oqtg Vuwpcoku yknn qeewt htqo pqy qp.. Tclpkmcpv uvqrrgf uykookpi kp Kpfkcp Qegcp..:-F\n",
      "Length: 104\n",
      "customizedTechniques-3\n",
      "m>LL>n>",
      ">t>>>>>LL>r>",
      ">>>i>o",
      "LLXKd\n",
      "Length: 104\n",
      "customizedTechniques-5\n",
      "»À¶p´¾³ÅÆ»À~~p Áp¿ÁÄ·p¦ÅÇÀ³¿»ÅpÉ»¾¾pÁµµÇÄp¸ÄÁ¿pÀÁÉpÁÀ~~p¤³¼À»½³ÀÆpÅÆÁÂÂ·¶pÅÉ»¿¿»À¹p»ÀpÀ¶»³Àp¡µ·³À~~}\n",
      "Length: 104\n",
      "OpenSourceTechniques-6\n",
      "b'S\\x17\\x02\\x0b\\x91\\xde4 Y\\xd4\\x953\\x0fw\\xe4\\xee$\\x9d\\xeb\\x9d\\x96\\xfa\\xf46\\x13{\\xde\\xd8\\x92\\xac\\xcd\\x1bw\\xc9i\\x07\\xc8EY\\xc1NaP\\x9f\\xaf\\xf0{\\x9c\\xc7-:\\xf7\\xbb\\x8f\\xf6\\x19\\x8fH\\x911{^@\\xcd\\xf4Z\\x1et\\xf6\\xd3\\x06q\\xdep\\x8f\\x87c\\x19\\xc6\\x02\\x08\\xf5N\\xcd\\x7f^\\xba|r5 \\xb7\\nh\\x92\\x15\\x1dp\\xd31f3k0\\x89 \\xe7\\x89o#\\xb3q\\x88\\xda\\x9b\\x19\\x8e:\\x1f\\xbb\\x16!\\x18\\xa3\\xc9\\xa7fh\\xd4r\\r\\xbeV(\\x05m\\x97\\xca\\x06\\x0b\\xc9m\\x04\\xc2>f\\x89\\xf9Q}u\\x8c\\x85\\xdd4\\xc5\\xd8T\\xdd\\x8dZ\\x95\\xff(\\xe3\\\\\\xb5\\x059])\\xb1\\xed\\nf\\xaa\\x1f\\x91]\\x0eQ\\xce\\xcclGb\\xbah\\x90\\xf7!\\\\'\n",
      "Length: 192\n",
      "Embedding Efficiency: 4.333333333333333\n",
      "==============\n",
      "679It's ok i noe u're busy but i'm really too bored so i msg u. I oso dunno wat colour she choose 4 me one.\n",
      "customizedTechniques-2\n",
      "Kv'u qm k pqg w'tg dwua dwv k'o tgcnna vqq dqtgf uq k oui w. K quq fwppq ycv eqnqwt ujg ejqqug 4 og qpg.\n",
      "Length: 104\n",
      "customizedTechniques-3\n",
      "iE>>>",
      ">E",
      ">>>E>",
      ">>",
      ">>>>L>i>>>>>",
      ">",
      ">R>",
      ">",
      "L\n",
      "Length: 104\n",
      "customizedTechniques-5\n",
      "ÆwÅpÁ½p»pÀÁ·pÇwÄ·p´ÇÅ±p´ÇÆp»w¿pÄ·³¾¾±pÆÁÁp´ÁÄ·¶pÅÁp»p¿Å¹pÇ~ppÁÅÁp¶ÇÀÀÁpÉ³ÆpµÁ¾ÁÇÄpÅº·pµºÁÁÅ·pp¿·pÁÀ·~\n",
      "Length: 104\n",
      "OpenSourceTechniques-6\n",
      "b\"_\\xfd1\\xe3X\\x04\\xf7\\xed\\xa5\\xd9'Fm\\x02`\\x9a\\xb5\\x85\\x14}\\xf3=\\xf1\\xe2\\xc4\\x02\\xa6zL\\xf5\\xfb<%\\x1a\\x86IE\\x86\\xef\\x1b\\xb1\\x81`\\x84\\x89uU\\xa5\\xcau\\xd0\\xbe\\xcf\\x04\\x0b-\\x08\\x05(\\xf6\\xc2\\xa5'i{(\\xe4\\xddZ\\n\\xdfx\\x1c\\x14\\xdf\\xb8>\\xae2B&\\x98\\x80\\xe6\\xff\\xd3\\xc3\\x18\\xc2\\xc4\\xc4{FE\\xee\\xa7\\x1a\\xc8\\xfdZ>\\x04\\x1d6\\nZp7<:@\\xad-\\xd0~gn\\x97\\xc51\\xc9\\xbey1\\x9f7,\\xf6\\xed\\x9cn\\x8e\\xcf\\\\A\\xa4\\xc1F%\\x9a\\x88\\x8e>+n\\xa4\\xb4\\xc6Wo\\xe67\\xed\\x9e\\x8c\\xfe\\xe3\\xfd\\x128$ns%O\\xb5\\x08\\xab\\xc5\\x08\\xd1%z\\x80\\x9ek6\\x05s\\xe0M\\x8c\\xc6\\xba\\xd5C7\\xf8\\xd4\\xb0v\\xab\"\n",
      "Length: 192\n",
      "Embedding Efficiency: 4.333333333333333\n",
      "==============\n",
      "680Yes..he is really great..bhaji told kallis best cricketer after sachin in world:).very tough to get out.\n",
      "customizedTechniques-2\n",
      "Agu..jg ku tgcnna itgcv..djclk vqnf mcnnku dguv etkemgvgt chvgt ucejkp kp yqtnf:).xgta vqwij vq igv qwv.\n",
      "Length: 104\n",
      "customizedTechniques-3\n",
      "_",
      "LL",
      ">>",
      ">",
      "LL>>>",
      ">",
      "",
      ">",
      ">>>XGL",
      ">>>",
      ">L\n",
      "Length: 104\n",
      "customizedTechniques-5\n",
      "·Å~~º·p»ÅpÄ·³¾¾±p¹Ä·³Æ~~´º³¼»pÆÁ¾¶p½³¾¾»Åp´·ÅÆpµÄ»µ½·Æ·Äp³¸Æ·ÄpÅ³µº»Àp»ÀpÉÁÄ¾¶y~È·Ä±pÆÁÇ¹ºpÆÁp¹·ÆpÁÇÆ~\n",
      "Length: 104\n",
      "OpenSourceTechniques-6\n",
      "b'\\x85\\xc5_Iyj\"\\x12\\x80\\x8c\\x85\\xef\\x96\\x8e.\\xbc8\\xe3x\\xdf[\\x81\\x1a\\xe9PN\\x05+\\x0c\\x810\\\\\\xda-\\xc1\\xdca\\x94\\xaf\\xd5\\xbaG\\x9e4R\\xed\\xc0\\xe8\\xe8\\xc2[4\\x8e\\x02\\xfe\\xf3x\\xe9\\x81zN\\xf2\\xcbv!\\x95\\x03 \\xf2]\\xaab<HxD\\xfd\\xf1\\x18\\xf9\\xa4S\\xf9\\xb7\\xab\\xae\\x87\\xa0\\x986\\x1b^\\x7f\\xd0\\xeav\\xb9\\x91\\xce\\xde\\x8f\\x96IvK\\xfdctx\\xf9\\x85\\xdcI)\\xeb\\x97\\x84\\x98E\\xb8j\\xb3i\\xb8\\xd4\\x16\\xcd.Fo\\x1ca\\r\\rI\\xb7FLZa\\x8d\\x0b\\x8fGV3OywK\\x10\\x9f\\xca\\xfd\\xb3\\xce|-\\xc0\\xc5\\x89\\xd5\\x9a\\xf2{\\x8a\\xf4uQu\\xeaC\\r\\xd4Vm\\xd5i\\xc9\\xd0\\x99M\\x02\\x9a\\x7f\\xe1\\xbb\\x91X-\\xa4O'\n",
      "Length: 192\n",
      "Embedding Efficiency: 4.333333333333333\n",
      "==============\n",
      "681Bloody hell, cant believe you forgot my surname Mr . Ill give u a clue, its spanish and begins with m... \n",
      "customizedTechniques-2\n",
      "Dnqqfa jgnn, ecpv dgnkgxg aqw hqtiqv oa uwtpcog Ot . Knn ikxg w c enwg, kvu urcpkuj cpf dgikpu ykvj o... \n",
      "Length: 105\n",
      "customizedTechniques-3\n",
      "b>",
      "J>>",
      "",
      "",
      ">>>>",
      ">m>L>i>",
      ">>>",
      "J>>>>",
      ">>LLL>\n",
      "Length: 105\n",
      "customizedTechniques-5\n",
      "¾ÁÁ¶±pº·¾¾|pµ³ÀÆp´·¾»·È·p±ÁÇp¸ÁÄ¹ÁÆp¿±pÅÇÄÀ³¿·pÄp~p¾¾p¹»È·pÇp³pµ¾Ç·|p»ÆÅpÅÂ³À»Åºp³À¶p´·¹»ÀÅpÉ»Æºp¿~~~p\n",
      "Length: 105\n",
      "OpenSourceTechniques-6\n",
      "b'\\x1e6\\x0bY\\x86\\xac\\x99\\xc5al\\xd9\\x1enF=\\x93\\x8a75\\x06v\\x95Zi\\x02F\\xd3tJi\\xbfk\\xb8B\\xae\\xd0\\x8a\\xfa\\xae\\xd9\\x98\\x99\\xa7\\xec\\xf36\\x10\\x11qi&\\xc5\\x01\\x1dB{\\xda\\xce\\xcc^0\\xf2\\x1bo\\xa6\\x1d-\\x9a\\xcd\\x17G\\xcb%\\xa1\\x97xwATY\\xa9\\xeac:M\\xeb\\xa9\\x1f\\x15\\xdb_\\xdd\\xb7\\xd8\\x11@\\xa5*\\x88\\xc9\\xce\\x9c\\xbb\\xa2U\\x98\\x1d\\xd3}\\xb7-\\xe5\\xe3\\xf2\\xb3\\x1aO\\xd7\\xb4X\\xe3\\xbb\\xf2\\xb7\\xe7\\xce\\xb7@W\\x9f\\x1f\\x84x-\\xe2~=B\"\\xa5\\xbfUu\\xbe_\\xa5~\\xb8@\\x9f\\xf4{J\\xc0r\\xfb\\xc9\\xc9mx\\xbb\\x99J\\xb3d\\x14\\xd7\\r1\\x00\\xa5\\xed4N\\xac\\x94\\xd2ZK\\xda\\xa0i\\x1cqH\\x9f\\xea\\xe3\\xb1\\xeb:\\x80'\n",
      "Length: 192\n",
      "Embedding Efficiency: 4.375\n",
      "==============\n",
      "682Ok i will tell her to stay out. Yeah its been tough but we are optimistic things will improve this month.\n",
      "customizedTechniques-2\n",
      "Qm k yknn vgnn jgt vq uvca qwv. Agcj kvu dggp vqwij dwv yg ctg qrvkokuvke vjkpiu yknn kortqxg vjku oqpvj.\n",
      "Length: 105\n",
      "customizedTechniques-3\n",
      "o>>>",
      ">",
      ">>>L>_",
      ">>",
      "",
      ">>>",
      ">",
      ">>>>",
      ">>L\n",
      "Length: 105\n",
      "customizedTechniques-5\n",
      "¡½p»pÉ»¾¾pÆ·¾¾pº·ÄpÆÁpÅÆ³±pÁÇÆ~p·³ºp»ÆÅp´··ÀpÆÁÇ¹ºp´ÇÆpÉ·p³Ä·pÁÂÆ»¿»ÅÆ»µpÆº»À¹ÅpÉ»¾¾p»¿ÂÄÁÈ·pÆº»Åp¿ÁÀÆº~\n",
      "Length: 105\n",
      "OpenSourceTechniques-6\n",
      "b'<\\x0c\\x84\\xf6\\xd0\\xa4\\n\\xday\\xccR\\xa4^\\x88\\x19\\x8c\\x0c\\xb9\\x06\\xf5\\x9d\\x1f\\x91y\\xf3\\xe9\\'\\xb9$\\x1b\\xbeJ\\x9b\\x98\\xd9\\\\\\xf7%\\xed\\x15\\xf5\\x99\\xae\\x81\\xad\\x07}\\x1b?\\x19\\xc6\\xa4\\x0f\\xd5\\x15y+\\x8fV\\xb3:R\\xda\\xdc5?\\x8c~JZ\\x9b%\\xb1y!\\xbf\\x9a\\xf7\\xcd_\\xc6\\xd3\\x8b\\x1d\\xfe+Q\\xde\\x1f\\xe3\"\\xd8\\xad;\\xa4g\\x86\\x03\\xc2\\x99f\\x94Vvj?\\xe8\\xdeE\\x87KV\\r\\x19#\\xf64Y\\x88|\\xc4\\xbb%\\xac(!\\x8a[\\xb9]\\x8d\\x18\\xf0\\xffx\\xc4\\xe07\\xca\\r\\xa95E*b\\x08\\x80\\x17b\\xca\\x9c\\xa9\\xf4A\\xa2\\x80&\\xe3\\xb6u\\xb2m\\xba|\\xc8\\xfe\\xf0\\\\\\xcc\\xfa\\x87\\x96\\x87\\xb0\\x90\\x00K2\\xc5\\xcd6\\xc3tk\\xa3<I\\xc3FW\\x00u'\n",
      "Length: 192\n",
      "Embedding Efficiency: 4.375\n",
      "==============\n",
      "683Yeah there's barely enough room for the two of us, x has too many fucking shoes. Sorry man, see you later\n",
      "customizedTechniques-2\n",
      "Agcj vjgtg'u dctgna gpqwij tqqo hqt vjg vyq qh wu, z jcu vqq ocpa hwemkpi ujqgu. Uqtta ocp, ugg aqw ncvgt\n",
      "Length: 105\n",
      "customizedTechniques-3\n",
      "_",
      ">",
      "",
      "E>",
      ">",
      ">>>",
      ">>>J>>>>>>",
      "L>s>J>",
      "",
      ">>",
      "\n",
      "Length: 105\n",
      "customizedTechniques-5\n",
      "·³ºpÆº·Ä·wÅp´³Ä·¾±p·ÀÁÇ¹ºpÄÁÁ¿p¸ÁÄpÆº·pÆÉÁpÁ¸pÇÅ|pÊpº³ÅpÆÁÁp¿³À±p¸Çµ½»À¹pÅºÁ·Å~p¥ÁÄÄ±p¿³À|pÅ··p±ÁÇp¾³Æ·Ä\n",
      "Length: 105\n",
      "OpenSourceTechniques-6\n",
      "b'5\\xc0\\xb2\\xf6b\\xd0>\\xb4\\xf9\\xc0\\x86f\\x03\\xfeH2\\xd6\\xe19\\xca\\xc8\\x8e\\xc9L5\\xe0\\xc64\\xd1\\x07i~c\\xed\\x95\\x11\\xfbi\\x11j7}\\x8c\\x81%\\rL\\xd1\\x0b\\x08\\xf6\\x8e<\\x7fl\\xba\\xe4\\x01\\x95\\x02\\xe3\\xdd~B8\\xad\\x95\\xb3\\x13Gi\\x14\\x0e\\xacA\\xd0\\xd5\\xfc\\x1f\\xfaA\\x81D\\\\\\xb0@um:\\xab\\xad\\np\\x86\\xd1\\x13\\x89\\x0e\\xd3x5\\x1d\\xdb@\\xbe\\xc9\\x85\\x08\\xef,\\x82\\x9d\\xb6\\xce\\x1b\\x19a7G\\xc3+m\\xfc\\xd5<\\xd3\\x9b\\xf4\\n\\x92\\xf3\\xfc\\xa1\\x06Eg\\x86q.\\xe0\\xe2\\x0e\\xb4\\x03\\xd9\\xde\\xd6\\xc4\\xd1[RYgW\\xd4\\x03.\\xac\\xf7\\xc8\\xec\\x8b\\xb9\\xee\\xb9\\x08\\xe0\\xe3\\xbb?\\xf0_\\x04\\xb6\\t\\xe3\\x14\\xba)5\\x1a\\xadA\\xf2E\\xf1\\xb0\\xcd\\x05\\x89\\xe6y'\n",
      "Length: 192\n",
      "Embedding Efficiency: 4.375\n",
      "==============\n",
      "684I'm really sorry i won't b able 2 do this friday.hope u can find an alternative.hope yr term's going ok:-)\n",
      "customizedTechniques-2\n",
      "K'o tgcnna uqtta k yqp'v d cdng 2 fq vjku htkfca.jqrg w ecp hkpf cp cnvgtpcvkxg.jqrg at vgto'u iqkpi qm:-)\n",
      "Length: 106\n",
      "customizedTechniques-3\n",
      "iE>",
      ">>>E>>",
      ">P>>>L",
      ">>>>>",
      "",
      "L",
      ">>",
      "E>>XKG\n",
      "Length: 106\n",
      "customizedTechniques-5\n",
      "w¿pÄ·³¾¾±pÅÁÄÄ±p»pÉÁÀwÆp´p³´¾·pp¶ÁpÆº»Åp¸Ä»¶³±~ºÁÂ·pÇpµ³Àp¸»À¶p³Àp³¾Æ·ÄÀ³Æ»È·~ºÁÂ·p±ÄpÆ·Ä¿wÅp¹Á»À¹pÁ½}y\n",
      "Length: 106\n",
      "OpenSourceTechniques-6\n",
      "b'%;\\xc5*C\\xa7\\x1bL5\\x03U\\xb0W\\xb4c\\xc3\\x9e@3\\x8b]p8\\xd9\\\\\\x7f/I\\x8d\\xc7\\xd4\\x10m\\x91\\x9e\\xe5<3\\xdd\\x99\\xc03\\x13\\xf1\\x18\\x86\\xca\\x16z\\x8e\\xffhKq\\xba|\\xbb^\\x8a\\xeeM\\xe73\\x10:s\\xec7\\x05\\x15\\x1a\\xb5\\xab\\x93\\tS\\x1e\\xb2I\\xc1\\x86F\\xaaK\\xbe\\xc6\\t!K\\x11\\xaa}Z\\xb4\\xf0\\xe4\\xa2\\xed\\x84\\x8f\\xd6\\xc7\\xfa\\x16\\x9b0\\xda\\xd1\\x9a\\xd1\\x0e\\xec\\xb7\\xfdA\\x9b.\\x81B8\\x1b\\x89?\\x8c\\xdc\\x16aB\\x93p\\x02N\\xb5\\xb3\\x9a\\x1e\\x8e\\x13p\\xfc\\xb7\\xbb\\x1b\\xad\\x0b}\\xf0<X/\\xe4\\x86K\\x19\\x96\\xb7\\xbc\\xeb\\xdb\\xc0r\\xda4Z\\xc9\\xce)h\\xb7\\rCI\\xd4\\xa2\\xa0$\\xd78)\\xeaq\\xcc\\xcd\\xf3\\xc5\\x9eX\\x12<\\x1e\\x82\\xdb'\n",
      "Length: 192\n",
      "Embedding Efficiency: 4.416666666666667\n",
      "==============\n",
      "685Havent planning to buy later. I check already lido only got 530 show in e afternoon. U finish work already?\n",
      "customizedTechniques-2\n",
      "Jcxgpv rncppkpi vq dwa ncvgt. K ejgem cntgcfa nkfq qpna iqv 530 ujqy kp g chvgtpqqp. W hkpkuj yqtm cntgcfa?\n",
      "Length: 107\n",
      "customizedTechniques-3\n",
      "h",
      ">>>>",
      "L>i>",
      ">",
      ">>>>SQN>>>",
      ">",
      "L>u>>>",
      "]\n",
      "Length: 107\n",
      "customizedTechniques-5\n",
      "³È·ÀÆpÂ¾³ÀÀ»À¹pÆÁp´Ç±p¾³Æ·Ä~ppµº·µ½p³¾Ä·³¶±p¾»¶ÁpÁÀ¾±p¹ÁÆp",
      "pÅºÁÉp»Àp·p³¸Æ·ÄÀÁÁÀ~p§p¸»À»ÅºpÉÁÄ½p³¾Ä·³¶±\n",
      "Length: 107\n",
      "OpenSourceTechniques-6\n"
     ]
    },
    {
     "name": "stdout",
     "output_type": "stream",
     "text": [
      "b\"m N\\x85\\xfd\\x1e)\\xf6\\xb0!>_m\\xabO\\xc2\\xc0\\xbb\\xf0\\xcd\\xadJ0C\\xec=Y\\xeeD\\xd8\\xe7\\xeaRO\\xe7\\xc4\\x94\\xfb\\x18<\\x959{\\xd6\\x8a\\xf3i\\x93!\\x0b\\xb2\\xe5\\x98\\xe3\\xbf\\xdf\\xc3\\x9f\\x86\\x88\\xe1G\\xf2\\x88p\\xebntCQ6'\\xb2\\xf8;+\\xc5\\x1b`0%+\\xb2\\x9bd\\xe63\\xe8\\xb3FZ\\xed\\xdd3\\xac\\x1e\\x95\\xbf\\x1e&\\x03Ka\\x92\\t\\xa7HD\\xb9\\xa2\\xfa\\xcb#\\x19\\xa4\\x11G\\x98\\xadV\\xa5\\xe8mn\\x1a\\x87\\xb0y\\xec\\xcb*\\x81\\xc2\\xb7\\x08\\x11j\\xae\\xbf\\xf3r)\\xf3\\xbcp\\x1b\\x89V~\\xda\\xe1\\x92&^\\xc9v\\x1b\\x9b\\xb0=&}\\xae\\r\\xaa\\xc7\\xff\\xe4\\xf1o|\\xea\\xfd\\x05U\\x1e\\xe5M\\xd8g\\xd1V\\\\\\x0es&\\xdc\\x05]VX\\xffV\\xb1\\xd1{\\xf1\\x04F\\x91h\\xb5\\xf8`\\x85&\\xf2\\xc3\"\n",
      "Length: 208\n",
      "Embedding Efficiency: 4.115384615384615\n",
      "==============\n",
      "686HEY GIRL. HOW R U? HOPE U R WELL ME AN DEL R BAK! AGAIN LONG TIME NO C! GIVE ME A CALL SUM TIME FROM LUCYxx\n",
      "customizedTechniques-2\n",
      "JGA IKTN. JQY T W? JQRG W T YGNN OG CP FGN T DCM! CICKP NQPI VKOG PQ E! IKXG OG C ECNN UWO VKOG HTQO NWEAzz\n",
      "Length: 107\n",
      "customizedTechniques-3\n",
      "he_>girlL>how>r>u]>hope>u>r>well>me>an>del>r>bak?>again>long>time>no>c?>give>me>a>call>sum>time>from>luc_\n",
      "Length: 107\n",
      "customizedTechniques-5\n",
      "p¤~p¡©p¤p§p¡¢p§p¤p©pp pp¤pqp p¡ p¦p ¡pqp¨pppp¥§p¦p¤¡p§ÊÊ\n",
      "Length: 107\n",
      "OpenSourceTechniques-6\n",
      "b'\\xa9\\xdbI\\xfby6l\\xe8D\\x87\\xe66\\xc0h\\xcfz\\x85\\xddt\\x15\\xc6\\xb9\\xc0\\xa0\\xd6\\x1b\\\\\\xe2?\\x84;m\\x04\\x90\\xd7|\\xc9B\\x81\\xf4CX!\\\\-\\xc3\\x1a/c\\x80\\xa8\\xa3\\xc7Js\\xf6R\\x00\\xcf\\n\\xe7\\xbe\\x15\\r\\xc7k\\xb6_#4^\\xef\\xf0\\x1a!\\x8a\\xc9\\x9e\\x1cK\\xd0\\xb5\\xa8KF\\nBz/\\xb8i\\x06\\x96M\\xb4\\x18\\xf5c\\xe1\\xfb\\xdcn\\x91\\xef\\x8a)\\x06+Xo\\x7f)\\xafh\\xcf}\"b\\xc5\\xb0\\xecg\\x8f\\xdf\\x01\\xf5mzQ\\xf4\\xabJ\\xe8O\\xb2\\xb8\\x9a\\x00\\x14v\\x92a\\xb2\\x9bHju\\xe7\\xe7\\x16 \\xf7\\xb2h\\x11wy\\x1c\"=Y\\r\\xf2CN\\xf9Q\\xeaxU\\x0f35\\xa0,3ri\\xf9<\\x8b\\xd5\\xef\\x08\\xac\\xa3\\xac\\xda\\x99\\xce9o'\n",
      "Length: 192\n",
      "Embedding Efficiency: 4.458333333333333\n",
      "==============\n",
      "687cud u tell ppl im gona b a bit l8 cos 2 buses hav gon past cos they were full & im still waitin 4 1. Pete x\n",
      "customizedTechniques-2\n",
      "ewf w vgnn rrn ko iqpc d c dkv n8 equ 2 dwugu jcx iqp rcuv equ vjga ygtg hwnn & ko uvknn yckvkp 4 1. Rgvg z\n",
      "Length: 107\n",
      "customizedTechniques-3\n",
      ">>",
      ">>>>>>>V>>P>",
      ">>>>>",
      ">",
      "",
      ">>D>>>>R>OL>p",
      "",
      ">\n",
      "Length: 107\n",
      "customizedTechniques-5\n",
      "µÇ¶pÇpÆ·¾¾pÂÂ¾p»¿p¹ÁÀ³p´p³p´»Æp¾pµÁÅpp´ÇÅ·Åpº³Èp¹ÁÀpÂ³ÅÆpµÁÅpÆº·±pÉ·Ä·p¸Ç¾¾pvp»¿pÅÆ»¾¾pÉ³»Æ»Àpp~p¢·Æ·pÊ\n",
      "Length: 107\n",
      "OpenSourceTechniques-6\n",
      "b'\\xcb\\xa4\\xe2\\x8a\\xb0\\x92\\x19w\\xc6#\\xe6\\x7f\\x0cq\\xb2\\xe0\\x84\\x85\\x9e\\xc3j+\\xfe\\x8b \\x02\\xcd^(\\xa1k\\xb4Y\\xd8\\xc1\\x1b\\xb3\\xff\\xee#f\\x10\\x1b\\x03>\\xa1\\xa7M\\xf6w\\xc4\\x9eO\\x1e\\'?\\x81\\xa8A8\\xd9+\\x1cy\\xd0W?[\\x9eh\\xfc\\x1d\\xa6..T}yO\"\\x0b\\xc2\\xa6\\xe2\\x0c\\xd0\\xba*\\xc9>\\xcbj\\x8c\\x95\\xc8Aq\\xb0w%,\\xd3BQh#\\x97Iz\\xd7\\xe0\\x80\\xa1\\x0b-\\x99o\\x92E`\\x88Z\\x03\\xc5\\xc6\\xe1p\\x19Hb\\x93\\xf4h\\xd7\\x89K7\\x83\\xe39\\xbb\\xb3\\xf4\\x1f\\xb6\\x1as\\xb0E]WL\\x83>\\x95X\\xd9\\xb6\\xf3\\x804\\xb2)q\\xb4\\x1bv*\\xd0\\xe0\\xdc\\x14\\xb03p\\xeex\\x89\\x9c\\xedl_\\xe5\\xb1\\\\x\\xda\\x94 \\xba\\x91N'\n",
      "Length: 192\n",
      "Embedding Efficiency: 4.458333333333333\n",
      "==============\n",
      "688FREE entry into our å£250 weekly competition just text the word WIN to 80086 NOW. 18 T&C www.txttowin.co.uk\n",
      "customizedTechniques-2\n",
      "HTGG gpvta kpvq qwt e£250 yggmna eqorgvkvkqp lwuv vgzv vjg yqtf YKP vq 80086 PQY. 18 V&E yyy.vzvvqykp.eq.wm\n",
      "Length: 107\n",
      "customizedTechniques-3\n",
      "free>",
      ">>>ÁPSN>",
      "",
      ">",
      ">>",
      ">",
      ">>win>>VNNVT>nowL>OV>tDc>LLL\n",
      "Length: 107\n",
      "customizedTechniques-5\n",
      "¤p·ÀÆÄ±p»ÀÆÁpÁÇÄpµó",
      "pÉ··½¾±pµÁ¿Â·Æ»Æ»ÁÀp¼ÇÅÆpÆ·ÊÆpÆº·pÉÁÄ¶p© pÆÁpp ¡©~pp¦vpÉÉÉ~ÆÊÆÆÁÉ»À~µÁ~Ç½\n",
      "Length: 107\n",
      "OpenSourceTechniques-6\n",
      "b\"\\xf6 \\xdc\\x0b\\x82p\\xf3\\xd1QjV\\xccX:\\xb3!\\x1f\\xa7n8\\x86O\\xdeT\\x1e\\xf0's\\x80sNk\\xb9\\xb7\\xacDYy\\xc3tKE\\xeax\\xc7\\x17\\x1a\\xf2i\\x9c\\xdby\\x8e\\r\\xd6<J\\xce\\xeco\\x11\\tj!\\x9cOY\\x1d\\\\\\x96\\x86z\\xa6x!Zh\\xa8\\xed\\x1b\\xe8\\x00\\xa97?aQ\\xf1\\x16\\xa4v\\xff<\\x0f\\xfe\\xce\\x83\\xfd\\x8fV\\x81\\xf7\\x1a\\x8dZ\\xe15\\xdd\\x01\\xe6\\x8e]\\xaeN\\xba\\xf4  \\xb4qc=lz\\x80\\x1b\\x9dl\\xa5\\xd4fI!\\t\\x81\\x0f\\x93\\xf2y\\xaf\\x9fN\\xb3\\xebuBJ\\xf4?zo\\xcb\\x7f\\xfe\\\\\\xad\\\\\\xdfe\\xa5\\xfdw\\x83\\x12\\xb4\\x0c\\xfe\\xce\\x1a\\xa5\\xab\\xe2q\\xfd\\x93\\xee,\\xc4w\\xfd\\xe3\\xd6\\xdb\\xbf\\x96\\xa2J-\\x9b\\x03\\xff\\xff@\\xdf\\xd2#\\xedq_\\xc12\\xbb\\xc9\\x99\\xcc\\x91A_\"\n",
      "Length: 208\n",
      "Embedding Efficiency: 4.115384615384615\n",
      "==============\n",
      "689Depends on quality. If you want the type i sent boye, faded glory, then about 6. If you want ralphs maybe 2\n",
      "customizedTechniques-2\n",
      "Fgrgpfu qp swcnkva. Kh aqw ycpv vjg varg k ugpv dqag, hcfgf inqta, vjgp cdqwv 6. Kh aqw ycpv tcnrju ocadg 2\n",
      "Length: 107\n",
      "customizedTechniques-3\n",
      "d",
      "",
      ">>L>i>>>",
      ">",
      ">>",
      ">",
      "J>",
      ">J>",
      ">>TL>i>>>>",
      ">P\n",
      "Length: 107\n",
      "customizedTechniques-5\n",
      "·Â·À¶ÅpÁÀpÃÇ³¾»Æ±~p¸p±ÁÇpÉ³ÀÆpÆº·pÆ±Â·p»pÅ·ÀÆp´Á±·|p¸³¶·¶p¹¾ÁÄ±|pÆº·Àp³´ÁÇÆp~p¸p±ÁÇpÉ³ÀÆpÄ³¾ÂºÅp¿³±´·p\n",
      "Length: 107\n",
      "OpenSourceTechniques-6\n",
      "b'\\x97\\x82\\xe8@0X\\xbc\\xc8\\x91\\x1f$\\xabA\\xdc\\xc5\\t*Lm\\xe3\\xccaE\\xd3\\x1b\\x87\\xad\\xa9\\x9e/\"!\\xd5T\\xe7*\\xb0\\x10\\xe1\\x95\\x80\\xe9\\x96\\xc11\\xd6\\x9b\\xdb\\xb1/\\x89|\\x00\\xc4<\\xe3\\x7f\\xb8\\x869\\xc2\\x1cs,\\x86\\x17\\x85\\n\\x13?\\x10\\xa9\\xf0\\xbc`\\xee\\xde\\xb7\\r\\x14\\xae.\\x1d\\xf5<`Y\\x84\\xc8w\\x03\\xa64\\x13F\\x17\\xb3\\xd6\\xed\\xaf\\xe7\\xfa#\\xbaP\\x19\\x18\\xb4\\xbc\\t\\xee,\\xc7\\xde\\x93\\xcaP\\xd2\\xc93\\xac\\x8cu\\xfa}\\x11[\\xc5b\\xb9\\x80\\xc2\\x7f\\x89\\xf2\\x95\\xd4\\x1b\\x10\\xee\\x11\\x16\\x1f\\xc1?\\x83\\\\=qo\\xb3\\x8a\\x98\\x88\\xcf\\x17\\x16\\xdd\\xe3\\x7fd\\x8e&\\xbfV\\xfa\\x1d\\xc5\\x869=\\xa3\\xeb-\\x1a\\x8d\\xa3W\\xc3bJ\\x96\\xad\\xa7\\x99\\xd6\\xdcr\\xe5;\\x83\\xcb'\n",
      "Length: 192\n",
      "Embedding Efficiency: 4.458333333333333\n",
      "==============\n",
      "690THANX4 TODAY CER IT WAS NICE 2 CATCH UP BUT WE AVE 2 FIND MORE TIME MORE OFTEN OH WELL TAKE CARE C U SOON.C\n",
      "customizedTechniques-2\n",
      "VJCPZ4 VQFCA EGT KV YCU PKEG 2 ECVEJ WR DWV YG CXG 2 HKPF OQTG VKOG OQTG QHVGP QJ YGNN VCMG ECTG E W UQQP.E\n",
      "Length: 107\n",
      "customizedTechniques-3\n",
      "thanxR>toda_>cer>it>was>nice>P>catch>up>but>we>ave>P>find>more>time>more>often>oh>well>take>care>c>u>soonLc\n",
      "Length: 107\n",
      "customizedTechniques-5\n",
      "¦ ªp¦¡p¤p¦p©¥p pp¦p§¢p§¦p©p¨pp p¡¤p¦p¡¤p¡¦ p¡p©p¦p¤pp§p¥¡¡ ~\n",
      "Length: 107\n",
      "OpenSourceTechniques-6\n",
      "b\"\\x12\\x11a\\xcf\\x99Q\\xb7\\xa8\\xae\\x90\\xfd[pE\\xf6\\xbe\\x88\\t2\\xce\\x88\\x80\\xcd\\x840\\xd2\\xc0\\x87\\x03\\xce\\xd9*\\x89m\\xcel\\xa8V0\\xd1\\xbe7\\xf7\\r\\x14\\x1e\\xb4\\x19\\x89C\\x16\\xf7v+\\x18\\xe8\\x05\\xa20\\x13~g\\xbf\\x84\\xc1\\xe9\\x1a\\xf0\\xb1\\xe5\\x18H\\x96*\\xbe\\xfe\\xe6\\xcfv\\x1a/\\x7f\\xb9\\xc0\\xfa\\xe6\\x1a\\xca\\xfd3\\x99\\xad`1\\x9e\\x96T\\xd6V\\xfe\\xde}\\xc3\\x99SQ\\xa5\\xcc\\xfb\\x04\\x1e\\xec\\xb0w\\xd4AB\\x85\\x1c\\x02b1=y`\\x04CV\\x05.\\xfc@iQ\\x0fx\\x8df\\xa4\\x94\\xa2\\xe1\\xdb`\\x8c\\xd3\\xe2\\xeb\\xfc'|\\xd7`\\xba\\xc1\\x13\\xec<\\xa1\\x8d\\xb5iwE\\xeb\\x95m\\xb9gc4q[:R \\xd3\\x9b\\xbc\\x98\\xcc\\x8a )\\x83\\x9fl\\x05\\xec\\xa8\\x12\\xde\"\n",
      "Length: 192\n",
      "Embedding Efficiency: 4.458333333333333\n",
      "==============\n",
      "691He has lots of used ones babe, but the model doesn't help. Youi have to bring it over and he'll match it up\n",
      "customizedTechniques-2\n",
      "Jg jcu nqvu qh wugf qpgu dcdg, dwv vjg oqfgn fqgup'v jgnr. Aqwk jcxg vq dtkpi kv qxgt cpf jg'nn ocvej kv wr\n",
      "Length: 107\n",
      "customizedTechniques-3\n",
      "h",
      ">>>>",
      ">",
      ">",
      "J>>",
      ">",
      ">",
      "E>",
      "L>_>",
      ">>>>",
      ">>",
      "E>>>\n",
      "Length: 107\n",
      "customizedTechniques-5\n",
      "·pº³Åp¾ÁÆÅpÁ¸pÇÅ·¶pÁÀ·Åp´³´·|p´ÇÆpÆº·p¿Á¶·¾p¶Á·ÅÀwÆpº·¾Â~pÁÇ»pº³È·pÆÁp´Ä»À¹p»ÆpÁÈ·Äp³À¶pº·w¾¾p¿³Æµºp»ÆpÇÂ\n",
      "Length: 107\n",
      "OpenSourceTechniques-6\n",
      "b'\\xf7r\\x0e\\xfb\\x19\\xa0\\xffU\\xfa\\x0b\\t\\xbc\\x1b/\\xc80gn\\x0c\\x01\\xc1\\xa63_%s\\x07%\\x91W\\x00\\xdd#8\\xbb!=\\xa5\\'\\x90\\xdbO\\x0b\\x9cS\\x96\\xd7\\xc4\\x85\\xe3n\\x1d\\xfe<\\xd3\\x07\\xf1\\xcf\\xfd8\\x9ceU\\x9b\\xc87C\\x8f\\xfb\\xb0\\x1e\\xc6e6H\\xd5\\xcfIa2\\x05\\xf7\\x92\\xbf#\\xa5\\x9f\\xe1\\xc5l\\xe0\\x9f\\xea\\xd2\\x18[,l\\xeb\\x04\\x86\\xff\\xf5\\xdc\\xe1\\xf7Y2p\\xf9\\xce\\xe0\\xca\\xa5\\xe3\\x19\\xcd\\xb5\\xaa\\xc4F\\xf2\\xee3\\xb5\\x0b\\xfb\\xc0uv\\xd9\\xaf\\xdf\\x1f\\x8a\\xb1CE\\xb2\\x9fl\\xd3gZ1?\\xd8PoQ\"\\xd7\\xbd\\xfe\\xa0x\\xa7b\\x96\\xf5\\xf3\\xa0\\x07\\xc7\\xc5\\xe2w\\xca\\xc3\\xbf\\x94\\x8d\\x8dd\\xc6\\x01\\x94Q\\x07\\xcf\\xab\\xaa\\x10\\xf9\\x98\\xa3!\\xa8l\\x8dw\\x84'\n",
      "Length: 192\n",
      "Embedding Efficiency: 4.458333333333333\n",
      "==============\n",
      "692Then Ì_ wait 4 me at bus stop aft ur lect lar. If i dun c Ì_ then i go get my car then come back n pick Ì_.\n",
      "customizedTechniques-2\n",
      "Vjgp L_ yckv 4 og cv dwu uvqr chv wt ngev nct. Kh k fwp e L_ vjgp k iq igv oa ect vjgp eqog dcem p rkem L_.\n",
      "Length: 107\n",
      "customizedTechniques-3\n",
      "t",
      ">j}>>R>",
      ">>>>>>",
      ">L>i>>>>j}>",
      ">>>",
      ">>>",
      ">",
      ">>>>j}L\n",
      "Length: 107\n",
      "customizedTechniques-5\n",
      "¦º·Àp¯pÉ³»Æpp¿·p³Æp´ÇÅpÅÆÁÂp³¸ÆpÇÄp¾·µÆp¾³Ä~p¸p»p¶ÇÀpµp¯pÆº·Àp»p¹Áp¹·Æp¿±pµ³ÄpÆº·ÀpµÁ¿·p´³µ½pÀpÂ»µ½p¯~\n",
      "Length: 107\n",
      "OpenSourceTechniques-6\n",
      "b'rS(\\x0ch|\\xf3$\\xf3#\\x04\\xe3\\xd1\\xfem\\xc4&)\\x11T3D\\x1f\\xf9\\x96\\xcc\\xe1\\xb3>\\x88\\xacp\\xf6\\xbb\\xe4\\xb0\\x01\\t\\xb27R\\x05\\xfc\\xc6\\x16(*:X\\xd15\\xeeUo\\xaa\\xce\\x176\\x94\\x11\\xeb]`\\x0c\\xc0\\xaf\\x92\\xf5\\xbc8\\'\\x0b\\xe2\\xf2\\x9a\\x14\\x0f\\'60|\\xd6J+\\xbadyj\\xe2\\xbd&W2\\xcd\\xfeo\\xcbT\\x93\\xb8\\xff\\x83\\x84\\x93\\x9ch\\xfbS\\x86\"W\\xef\\xb6+J\\xa8\\xc3\\x9d\\x92-Y\\x00c\\xbdo\\xe9\\xde\\xc1\\xf1\\x19\\xbb\\xb2\\x1a\\xc5\\xb4\\x8a\\t\\x8e\\xd2E\\x8b\\xd6\\x16\\xa9%\\x13\\x13Vu\\x0en\\x8d}\\x0f!|\\xceF\\x17g\\xf5m\\xd2\\xb3\\xb4\\xca\\xa7S\\x06\\x83\\x00\\x04\\x8dqT\\xb8\\x1cMl\\r4\\x18\\x8cx)\\xa5<S\\x9a\\x91\\xc4A'\n",
      "Length: 192\n",
      "Embedding Efficiency: 4.458333333333333\n",
      "==============\n",
      "693Your gonna have to pick up a $1 burger for yourself on your way home. I can't even move. Pain is killing me.\n",
      "customizedTechniques-2\n",
      "Aqwt iqppc jcxg vq rkem wr c $1 dwtigt hqt aqwtugnh qp aqwt yca jqog. K ecp'v gxgp oqxg. Rckp ku mknnkpi og.\n",
      "Length: 108\n",
      "customizedTechniques-3\n",
      "_>>",
      ">>>>>BO>",
      ">>",
      ">>>>",
      "L>i>E>",
      "",
      ">",
      "L>p>>>",
      "L\n",
      "Length: 108\n",
      "customizedTechniques-5\n",
      "ÁÇÄp¹ÁÀÀ³pº³È·pÆÁpÂ»µ½pÇÂp³ptp´ÇÄ¹·Äp¸ÁÄp±ÁÇÄÅ·¾¸pÁÀp±ÁÇÄpÉ³±pºÁ¿·~ppµ³ÀwÆp·È·Àp¿ÁÈ·~p¢³»Àp»Åp½»¾¾»À¹p¿·~\n",
      "Length: 108\n",
      "OpenSourceTechniques-6\n",
      "b'\\xbd\\xfb\\xb2\\x06g\\x04Z6\\x9db\\xc8)\\xf8`+s\\xd1I\\x1e\\xdbs\\xc3o_{wk\\x92\\x06\\x1d\\xc4\\xb9\\x94\\xd935\\x0c\\tz\\xd1gH\\xd9\\xa7\\xcb\\x86\\xf9S\\x84\\xd5\\xef\"\\xb8\\x0e\\xccP\")%\\xe4\\x017,\\xacn\\x8b{\\xbe\\xa5\\xca\\x04\\x81\\x15wDRi|\\x15*\\xa1k1l\\xb1\\xca\\xb2\\xb4\\x013\\x11$\\xe8\\xb8\\xcf\\xde\\xf3\\xbcsF*\\xf5\\xd2B5\\x9c8\\xf6\\x18}:B\\xcf\\xdbR*9Y\\xb1\\xce\\xa4\\xb9\\x93>\\xb1\\xb4\\xe3\\xc3;F \\x9d6\\xa0\\x8a\\xef\\xa2V\\xe1 T\\xb6\\xf1,\\x05\\xe4wnR*\\x0e\\x80b}\\x9c\\xfb\\xa5\\xadC\\x86S1\\x91k\\xb8\\xb2u\\x05#\\xfd^\\x80j\\x81\\xafE\\xbd\\xdf\\xcc\\xf9\\x95\\xba\\xf8H23\\xa1\\xc4rz2\\xf0'\n",
      "Length: 192\n",
      "Embedding Efficiency: 4.5\n",
      "==============\n",
      "694Missed your call cause I was yelling at scrappy. Miss u. Can't wait for u to come home. I'm so lonely today.\n",
      "customizedTechniques-2\n",
      "Okuugf aqwt ecnn ecwug K ycu agnnkpi cv uetcrra. Okuu w. Ecp'v yckv hqt w vq eqog jqog. K'o uq nqpgna vqfca.\n",
      "Length: 108\n",
      "customizedTechniques-3\n",
      "m",
      ">>>",
      ">i>>",
      ">>L>m>L>cE>>>>>",
      ">",
      "L>iE>>",
      ">L\n",
      "Length: 108\n",
      "customizedTechniques-5\n",
      "»ÅÅ·¶p±ÁÇÄpµ³¾¾pµ³ÇÅ·ppÉ³Åp±·¾¾»À¹p³ÆpÅµÄ³ÂÂ±~p»ÅÅpÇ~p³ÀwÆpÉ³»Æp¸ÁÄpÇpÆÁpµÁ¿·pºÁ¿·~pw¿pÅÁp¾ÁÀ·¾±pÆÁ¶³±~\n",
      "Length: 108\n",
      "OpenSourceTechniques-6\n",
      "b't\\t\\x0f\\xa9\\xe3\\x86\\xf8vM\\x88<\\x96\\xb9\\x17\\x00\\xff\\x8a\\xedt\\xefU\\xa0~{\\xcd\\xa5\\xfe\\x83\\xe6m\\x19\\x10\\xb4|\\xa3!\\xd2\\x10?\\xea\\xe2\\xac\\xcc\\xfd\\xb9#\\xb1\\x00\\x1am\\xf5\\xe8\\xf8K\\xd1\\xab\\xdf\\x04a)\\xb6\\xb3\\x08S\\xe5\\xf9J\\xf6\\xca=\\xbe{Eu\\xa89i\\xedZC}\\x87DA\\xae\\x07\\t\\x92jYfF\\x13I~8\\xc9\\x8c\\x16\\x11\\x81Q)\\x9d\\xfe>\\xe83HH\\x03\\xf8(\\x1d\\xf3\\xb9\\x10\\x81\\x86/\\xd0\\x90\\x19\\xdd\\xf6\\xcc\\x99\\xebTp\\xac\\xef\\x9f_\\x01\\xd8\\xc48\\x06\\x1a\\x01\\xdc\\x13}\\xf6\\x92e\\xf97\\x02/\\xd8\\x01oUr\\x149\\x9ch5\\x08\\x02\\xe7\\x81$3[\\xfbsj\\xd0f\\xf8\\xf8!\\xa2\\xfb\\xf3\\xeb\\x87>\\xec=3\\xec\\\\z\\x81\\xf0,\\x80'\n",
      "Length: 192\n",
      "Embedding Efficiency: 4.5\n",
      "==============\n",
      "695Dear Hero,i am leaving to qatar tonite for an apt opportunity.pls do keep in touch at  &lt;EMAIL&gt; ,kerala\n",
      "customizedTechniques-2\n",
      "Fgct Jgtq,k co ngcxkpi vq scvct vqpkvg hqt cp crv qrrqtvwpkva.rnu fq mggr kp vqwej cv  &nv;GOCKN&iv; ,mgtcnc\n",
      "Length: 108\n",
      "customizedTechniques-3\n",
      "d",
      ">h",
      "J>>",
      ">>>",
      ">>>>L>>",
      "",
      ">>>>>DYemailDY>J",
      "\n",
      "Length: 108\n",
      "customizedTechniques-5\n",
      "·³Äp·ÄÁ|»p³¿p¾·³È»À¹pÆÁpÃ³Æ³ÄpÆÁÀ»Æ·p¸ÁÄp³Àp³ÂÆpÁÂÂÁÄÆÇÀ»Æ±~Â¾Åp¶Áp½··Âp»ÀpÆÁÇµºp³Æppv¾Æv¹Æp|½·Ä³¾³\n",
      "Length: 108\n",
      "OpenSourceTechniques-6\n",
      "b'e\\x93&bQ\\r\\x0e\\x12m\\x06\\xd5\\xd3\\xa2t\\xd91q;t\\xdd\\xf5\\xf9\\x1a\\xee\\x93\\x01P\\x18\\x01P\\x85\\xc8\\xe3F\\x91\\xef\\x1f\\xf7\\xf6\\xb8\\x19\\x96\\r\\x98\\xc2\\xc5\\xfd\\x9a\\xb01\\xc4\\t\\x18\\x06\\xa6\\xd0\\xe4-\\xf4\\xa7\\xe1\\x88\\xdb=\\x80u\\n\\xf2\\xe9\\x1e\\x00\\x0c]q@\\x12\\xce\\r\\xb2\\xaf<\\xa6\\xc5\\xdb\\x0f\\x1b}\\xb2\\xe2\\xe4\\xf7\\xac\\xd5\\xd6\\x89\\x9f\\xa3c\\xcfW\\x87\\xb7O9\\xe8\\xf9\\xa3\\xc8\\x07\\xf2\\x94\\x07\\xc16\\xa4;v\\x8bb\\xde]\\x0cD\\xce\\xca\\xf6z)]\\xb9\\xbd\\x06\\x83X.%c\\x1d?O\\x14\\xed-5l\\x8b\\xb8\\xaa\\x17\\xf0J%\\x90\\xfbd3?\\x84\\xd4\\x0ca\\xb4\\x12\\xf90\\x96\\xb9\\xc1\\xc96\\x95\\xcf\\xac=(4\\xc4@A\\xe1i\\xad\\x1f\\xb5\\xe96d\\xd79\\xcc\\x08\\n\\xd0\\n\\xfed\\xf0\\xc9\\xf1\\x9f\\n\\xf4\\xf6\\xc5D\\x82\\xc8\\xdd'\n",
      "Length: 208\n",
      "Embedding Efficiency: 4.153846153846154\n",
      "==============\n",
      "696I'm gonna be home soon and i don't want to talk about this stuff anymore tonight, k? I've cried enough today.\n",
      "customizedTechniques-2\n",
      "K'o iqppc dg jqog uqqp cpf k fqp'v ycpv vq vcnm cdqwv vjku uvwhh cpaoqtg vqpkijv, m? K'xg etkgf gpqwij vqfca.\n",
      "Length: 109\n",
      "customizedTechniques-3\n",
      "iE>>",
      ">",
      ">>>>E>>>>>>>",
      ">J>]>iE",
      ">",
      ">",
      ">L\n",
      "Length: 109\n",
      "customizedTechniques-5\n",
      "w¿p¹ÁÀÀ³p´·pºÁ¿·pÅÁÁÀp³À¶p»p¶ÁÀwÆpÉ³ÀÆpÆÁpÆ³¾½p³´ÁÇÆpÆº»ÅpÅÆÇ¸¸p³À±¿ÁÄ·pÆÁÀ»¹ºÆ|p½pwÈ·pµÄ»·¶p·ÀÁÇ¹ºpÆÁ¶³±~\n",
      "Length: 109\n",
      "OpenSourceTechniques-6\n",
      "b'\\xc2\\xf9\\x8f\\xf3#7Z\\xac\\x9f\\xb4I\\xf8\\xb0\\xc6\\xdf\\xd0\\xde\\x16P\\xce\\x81+\\x0f\\x8b&\\x91t\\x90\\\\\\xd7u\\x8a\\xc8J\\xb3\\x8b\"R\\xde\\x1c9\\x1b\\x08.\\xce\\xafYC\\xdc\\xa3\\x03\\xd1=\"\\n\\x10\\x9f\\xb0\\xf5\\xcb\\xdd\\xf5\\xbc1U\\xc6\\x81\\x0e\\x92\\x17\\xed\\x92\\xb4y\\xb6K\\xaa, \\x84\\xc7\\xa2\\xa0N\\xa0\\\\\\xe1$K\\x95\\x06a\\x7f[C\\x8674F@/\\xfc\\xfb\\xf7\\x192\\x17[DJ\\x9fR3\\xec\\x96\\xe4\\xb2\\xac\\xe6o\\x8a\\x97\\xebq\\x17{\\xc8w\\x08p\\x0c\\xc9\"\\x19\\xe9\\x80`\\xeey\\x9e\\x0e\\x98\\\\\\xebA\\xd1\\xb4\\xd9\\xe5\\xde6\\xac\\xd1\\xf8\"\\x92\\xa6(\\xe9?\\x0b\\xf5\\x92;\\xeeQbE\\xe7\\x15\\xd1\\x9e\\x05>\\x07\\xac\\x8cIq%3\\xcb\\xed\\xb9\\xe4V1\\xf7R\\x8c_\\xdd\\x8ai\\x8c\\xd4?+\\n\\xbb\\xe4Ll\\x12a\\x0b5\\''\n",
      "Length: 208\n",
      "Embedding Efficiency: 4.1923076923076925\n",
      "==============\n",
      "697Get down in gandhipuram and walk to cross cut road. Right side &lt;#&gt; street road and turn at first right.\n",
      "customizedTechniques-2\n",
      "Igv fqyp kp icpfjkrwtco cpf ycnm vq etquu ewv tqcf. Tkijv ukfg &nv;#&iv; uvtggv tqcf cpf vwtp cv hktuv tkijv.\n",
      "Length: 109\n",
      "customizedTechniques-3\n",
      "g",
      ">>>>>>>>>L>r>",
      ">DYADY>",
      "",
      ">>>>>>L\n",
      "Length: 109\n",
      "customizedTechniques-5\n",
      "·Æp¶ÁÉÀp»Àp¹³À¶º»ÂÇÄ³¿p³À¶pÉ³¾½pÆÁpµÄÁÅÅpµÇÆpÄÁ³¶~p¤»¹ºÆpÅ»¶·pv¾Æsv¹ÆpÅÆÄ··ÆpÄÁ³¶p³À¶pÆÇÄÀp³Æp¸»ÄÅÆpÄ»¹ºÆ~\n",
      "Length: 109\n",
      "OpenSourceTechniques-6\n",
      "b'\\xa2\\xf3\\'\\x8e[\\x1a5U\\x90\\x11\\xe8\\x96V\\xbd\\xb7\\x88\\xb9\\x8a+\\xf0\\xc1%\\xfa2\\x04\\xf3\\xdb\\x9f4m\\xaa\\x01\\xc9\\x1bIUM}\\xe2}a\\x93\\x90d\\xf5\\xf9_YM\\xfb\\x1c\\x95\\xd8sE\\x04x\\x80-\\xfc\\x8c\\x0b`u\\x8c*{\\x8eT\\xc9,ys\\xddzK\\x9d\\x0cK\\x89\\x96\\xd3\\xfd\\xf7n<\\x85\\x85\\xd6y_\\x86LL8_\\xe8\\xedz\\xdb\\xd4\\xe3\\xdc\\xb2\\x04\\xe8\\x99\\x10\\xa4T)\\xf1\\x0f\\xb6\\x9a\\xa3h\\xa2S\\t\\xb0\\xf3\\xfe\\xc4x \\xb2\\xdc\\x9bH\\xcd\\x02\\xad\\x12\\xa2fre\\x80\\x1c\\xe0\\xd1^ZzQ\\xbaA/_\\x0c\\x11|%/m[\\x11R\\x1a\\xe6E\\x01\\x91\\x9a\\xb3\\xcds\\xd5Q\\xfb\\xa8\\xff\\xd1%\\xf3\\x85\\x8e2l\\xb1\\xfb\\xb4$\\xb4\\x01\\x1dX\\x0b\\xcdP\\xf8\\x84C\\xa7\\xcf[v\\xf17\\xd6\\xf4T\\xa9dZ\\xd9\"'\n",
      "Length: 208\n",
      "Embedding Efficiency: 4.1923076923076925\n",
      "==============\n",
      "698I'm tired of arguing with you about this week after week. Do what you want and from now on, i'll do the same.\n",
      "customizedTechniques-2\n",
      "K'o vktgf qh ctiwkpi ykvj aqw cdqwv vjku yggm chvgt yggm. Fq yjcv aqw ycpv cpf htqo pqy qp, k'nn fq vjg ucog.\n",
      "Length: 109\n",
      "customizedTechniques-3\n",
      "iE>",
      ">>>>>>>",
      "",
      ">",
      ">",
      "",
      "L>d>>>>>>>J>E>>",
      ">",
      "L\n",
      "Length: 109\n",
      "customizedTechniques-5\n",
      "w¿pÆ»Ä·¶pÁ¸p³Ä¹Ç»À¹pÉ»Æºp±ÁÇp³´ÁÇÆpÆº»ÅpÉ··½p³¸Æ·ÄpÉ··½~pÁpÉº³Æp±ÁÇpÉ³ÀÆp³À¶p¸ÄÁ¿pÀÁÉpÁÀ|p»w¾¾p¶ÁpÆº·pÅ³¿·~\n",
      "Length: 109\n",
      "OpenSourceTechniques-6\n",
      "b'>$\\x90\\x0b\\xca\\xb84V;\\x1d\\xfb\\xd4\\xa4K}\\x98\\xd3Ub\\xa6j>&_3[\\x8fk\\x84\\xca~\\xc5\\xb0\\x8f\\xdcj\\x98m(^\\xe9(\\xd1\\xae8Sx@\\x86\\xde\\xec\\xa90\\xbcp\\x03\\xc3a\\xd3X[\\xa7\\xd9>\\xd1`\\xd1\\\\}\\xcf3\\xc7e\\xbc\\xf7c\\x851\\x87\\x88\\xf7\\xb2\\x16}\\xc8\\x98\\x9aU\\x0ee\\xeaF(\\xc5\\xa8\\xcf\\x06\\x15@k\\r\\xfc\\xfc\\x14\\xfd\\xab\\xc0e\\x92\\xae\\x91\\x1c\\x95ZS\\xfe\\x13\"\\xa9\\xc7\\xc4\\xde\\x8b\\xd7\\xad\\xaf\\xedp\\x06V\\x05I\\xfb\\xe0y\\xa2*1\\x95\\x9fY\\xb9.\\x82\\xbe\\xf8I\\x9e\\xb5n\\xdf\\xac\\n\\x00\\x1a\\x8bL\\xe3\\x07\\xb1\\x98\\xb4\\n\\xbb7\\xbb\\xf2\\x16\\xf1\\x89\\x92\\xc0\\xbe\\x87\\x036\\x0b\\xc8\\x11\\xd7\\x94\\x1f\\xc3\\xd3\\x07\\xbc/6\\xf2\\xc0P;'\n",
      "Length: 192\n",
      "Embedding Efficiency: 4.541666666666667\n",
      "==============\n",
      "699Sorry to trouble u again. Can buy 4d for my dad again? 1405, 1680, 1843. All 2 big 1 small, sat n sun. Thanx.\n",
      "customizedTechniques-2\n",
      "Uqtta vq vtqwdng w cickp. Ecp dwa 4f hqt oa fcf cickp? 1405, 1680, 1843. Cnn 2 dki 1 uocnn, ucv p uwp. Vjcpz.\n",
      "Length: 109\n",
      "customizedTechniques-3\n",
      "s>>",
      ">>L>c>>R>>>>]>ORNSJ>OTVNJ>OVRQL>a>P>>O>J>>>L>tL\n",
      "Length: 109\n",
      "customizedTechniques-5\n",
      "¥ÁÄÄ±pÆÁpÆÄÁÇ´¾·pÇp³¹³»À~p³Àp´Ç±p¶p¸ÁÄp¿±p¶³¶p³¹³»Àp",
      "|p|p~p¾¾pp´»¹ppÅ¿³¾¾|pÅ³ÆpÀpÅÇÀ~p¦º³ÀÊ~\n",
      "Length: 109\n",
      "OpenSourceTechniques-6\n",
      "b'uuHq\\x19\\x99\\x98\\xba\\'r;\\xe5\\xcep\\xabD8+\\xd3\\x85=\\xab4ykm9\\xb0\\xe5\\xb7D}\\x1e\\xcbG\\xf0\\xf0\\r\\xdd\\x08\\xb3\\xba\\xd5\\x1cd\\xd9\\xbf\\xed{H\\x12h\\xda\\xab\\'\\xc2\\xa5\\x18\\x98m\\xfa\\x84\\xd5/q\\x8b\\x00C\\xc0\\xa0#\\xdckN\\xf7|\\xfb>\\xd7\\x96\\xc9B\\x84\\x89\\xf04\\x10(\\xba\\x05\\xa9W\\x1cmZ\\xe4\\x96\\'\\x02D\\x1e34P=\\xa1\\xb7d\\x0fn&\\xa1\\x84XV\\xfe\\x15\\xea\\x86Z\\xc1b\\x94\\x87\\xa6|\\xfd\\xbc\\x1c\\x91\\xd6\\x92\\xbby\\xda\\x12\\x8auG\\xd2\\xe3\\xa8R\\x8fL\\x10\"\\xa9\\x10bu{\\x98\\xdfP\\x18+\\x0c`\\x96\\xc3\\xcf\\xd6\\xd5r\\xf7\\xa1\\xe2G\\x19\\x1ex|z\\xb8\\xcf\\xc9\\x0f\\x84\\x8a\\xcf\\x94\\xe4\\xa4\\xa0\\xbb1D\\xba_\\xce+'\n",
      "Length: 192\n",
      "Embedding Efficiency: 4.541666666666667\n",
      "==============\n",
      "700Thats a bit weird, even ?- where is the do supposed to be happening? But good idea, sure they will be in pub!\n",
      "customizedTechniques-2\n",
      "Vjcvu c dkv ygktf, gxgp ?- yjgtg ku vjg fq uwrrqugf vq dg jcrrgpkpi? Dwv iqqf kfgc, uwtg vjga yknn dg kp rwd!\n",
      "Length: 109\n",
      "customizedTechniques-3\n",
      "t>>>",
      "J>",
      "",
      ">]K>",
      "",
      ">>",
      ">>",
      ">>",
      ">",
      "]>b>>",
      "J>",
      ">",
      ">>",
      ">>?\n",
      "Length: 109\n",
      "customizedTechniques-5\n",
      "¦º³ÆÅp³p´»ÆpÉ·»Ä¶|p·È·Àp}pÉº·Ä·p»ÅpÆº·p¶ÁpÅÇÂÂÁÅ·¶pÆÁp´·pº³ÂÂ·À»À¹pÇÆp¹ÁÁ¶p»¶·³|pÅÇÄ·pÆº·±pÉ»¾¾p´·p»ÀpÂÇ´q\n",
      "Length: 109\n",
      "OpenSourceTechniques-6\n",
      "b\"\\xf2\\x07\\x8b\\x94F\\xb5\\xf5Q\\x08Mf\\x0b\\x16\\xc7\\x04\\x9eb\\x01\\xba9\\x13Z'@\\x0f6\\x172_\\xde\\xaaO\\xd0\\xe4\\x0b\\xf5\\x87\\x9b7\\xa6\\xc7-\\x13\\x0c\\xc3dV\\xb0\\xed\\xbe\\xf5c\\x1aj\\x97\\xc2\\x0fj\\x06\\xc7\\x19\\xbf\\r,q\\xb0\\x95\\xd4\\x02\\x9c\\xf8\\x9a\\xd0\\xcfo\\x92%\\x97\\xef\\xee\\x92C\\x136(\\xdcJ\\xf1;+28|\\x0b\\xe2\\x13\\xb5p\\xf4\\xc3\\x9c\\x15|\\xfb\\xf5*{^,P\\x9c\\xcf\\xa8\\xddx\\xf7?\\\\\\xa3\\x1bJV\\x07\\xe9g\\x0f\\x89\\xce\\xf6\\xdf\\xe4\\xddR\\x8a_2\\xc9\\xff'\\xbf\\x0b@\\xc1;\\x1f\\x86\\x16\\xbc\\xd1S\\xa7\\xf3\\xf49\\xa8\\x16\\xff'\\x86\\x0c\\xcfA.\\x18!\\xa5JQT)D0\\xc2\\xab&\\xc5\\xc4\\xd7\\xc4\\xd3t\\xf6M+\\x85e,\\xb9\\xd6\\xba\\x86\\xd9\\xc3\\\\\\x0ch\\xcd\\xd1)&\\r\\x03\\xa6\\xae+D\\xe7\\xdf\"\n",
      "Length: 208\n",
      "Embedding Efficiency: 4.1923076923076925\n",
      "==============\n",
      "701Ok lar i double check wif da hair dresser already he said wun cut v short. He said will cut until i look nice.\n",
      "customizedTechniques-2\n",
      "Qm nct k fqwdng ejgem ykh fc jckt ftguugt cntgcfa jg uckf ywp ewv x ujqtv. Jg uckf yknn ewv wpvkn k nqqm pkeg.\n",
      "Length: 110\n",
      "customizedTechniques-3\n",
      "o>>>",
      ">",
      ">>>>",
      "",
      ">",
      ">",
      ">>>>>L>h",
      ">>>>>>>",
      "L\n",
      "Length: 110\n",
      "customizedTechniques-5\n",
      "¡½p¾³Äp»p¶ÁÇ´¾·pµº·µ½pÉ»¸p¶³pº³»Äp¶Ä·ÅÅ·Äp³¾Ä·³¶±pº·pÅ³»¶pÉÇÀpµÇÆpÈpÅºÁÄÆ~p·pÅ³»¶pÉ»¾¾pµÇÆpÇÀÆ»¾p»p¾ÁÁ½pÀ»µ·~\n",
      "Length: 110\n",
      "OpenSourceTechniques-6\n",
      "b\"\\xd1\\x18Jra\\xfe\\xc7\\xc2\\x1e\\xc5o{\\x8a\\xc0\\x9eA\\xe7g\\x11\\x03\\x1b`\\xbe\\x80\\xf9\\xacnY\\x03\\xd3\\x86C\\xa8\\\\\\xe5#\\x1cY\\xb8\\r\\x1d\\xffy2\\x01-l\\xd1=\\xa8\\x86\\x99'O7D\\xc8I\\x99\\x9f[D\\xea(z3\\xd7R@\\x0f\\xdcG\\x08MCf\\x01]\\xcf\\x96\\xae\\x08\\xb2:\\x13)`N\\x1c\\x0f.$\\xa1*\\xb5\\x11M\\x0chs\\x8b\\xf6\\x02\\xac\\x1a\\x03\\xc7 \\x17\\xd8Ur\\xb7\\x95\\xf9\\xda\\xb6\\x97x\\xcd\\xa6\\xd3\\xe20\\x82\\xb0\\x10\\xd2\\x0fu{9+\\x1c<\\x9f\\x821V\\xe6\\x96v=\\x87\\x19\\x9e\\xe6\\x95\\x8ay\\xbe\\x7f\\xcfA\\xf3\\x9b[\\x9c\\xaa\\x1a~\\xb3eZ\\x19T\\xd3t\\x91,\\x89\\xfde}y\\x01\\x9e\\x199\\x9b\\xfa\\x91\\x18\\xa9\\x8a\\xc78]\\xd9\\x18`\\xf7!>I\\x85\\t\\xd0\\xed\\xc5\\x93J\\xafs9s\\xc7\\xe4\"\n",
      "Length: 208\n",
      "Embedding Efficiency: 4.230769230769231\n",
      "==============\n",
      "702I dun thk i'll quit yet... Hmmm, can go jazz ? Yogasana oso can... We can go meet em after our lessons den... \n",
      "customizedTechniques-2\n",
      "K fwp vjm k'nn swkv agv... Jooo, ecp iq lcbb ? Aqicucpc quq ecp... Yg ecp iq oggv go chvgt qwt nguuqpu fgp... \n",
      "Length: 110\n",
      "customizedTechniques-3\n",
      "i>>>E>>",
      "LLL>hJ>>>>]>_>>LLL>w",
      ">>>",
      "",
      ">",
      ">",
      ">>",
      ">",
      "LLL>\n",
      "Length: 110\n",
      "customizedTechniques-5\n",
      "p¶ÇÀpÆº½p»w¾¾pÃÇ»Æp±·Æ~~~p¿¿¿|pµ³Àp¹Áp¼³²²ppÁ¹³Å³À³pÁÅÁpµ³À~~~p©·pµ³Àp¹Áp¿··Æp·¿p³¸Æ·ÄpÁÇÄp¾·ÅÅÁÀÅp¶·À~~~p\n",
      "Length: 110\n",
      "OpenSourceTechniques-6\n",
      "b'\\xfa>\\x13\\x83\\x99\\xd8n\\xc8\\xf4\\x86\\xa5\\x8d\\xceh\\x1f\\x1a\\x87#\\x87k\\xee#\\x9e\\xbb\\xc2h\\t\\xb7*\\x80\\xc5\\x07\\x92\\x06\\xb9BK\\xdb\\xddp\\xd9\\x02\\x82><\\x1f\\xb6\\xe5\\xbb,\\xfdC\\x07V\\xdc\\x8f\\xee&\\x88\\x86\\xa2\\xf4\\xb9\\xa0\\x90\\xdd\\xf4KO\\xce%E\\x1d<.\\xdfi\\x0cE\\x93!\\x8c\\x9fI\\xc2\\xef\\x82\\x9ah\\x1a\\xd8\\x9f\\xabL\\x84\\x8dt\\xd8\\xf6\\xcdt\\xde]G\\x10\\x9dO`\\xc0\\xb3\\xc3i\\xcf\\xebo\\xcc\\x845U\\x0b\\x91o\\xec\\x9e\\xd8\\xa5o}\\x82\\x9a\\x90.@.\\xf2\\xf4\\xaf\\x15\\x11\\xcd\\x84.\\xfd\\x16\\xc6\\xad\\xb8(\\xbd\\x06\\xa2\\x16\\x10\\x9f\\xe9\\xcc\\xc8\\x1a\\x92\\x8d\\xcewQ\\x8a\\xf9\\xdc\\xe6\\x0e\\xbe\\xfd$`\\xc4Q6\\xcdw! l\\x90\\xdcf\\x02:\\\\^\\xb0\\xe1\\x04\\x84x'\n",
      "Length: 192\n",
      "Embedding Efficiency: 4.583333333333333\n",
      "==============\n",
      "703I promise to take good care of you, princess. I have to run now. Please send pics when you get a chance. Ttyl!\n",
      "customizedTechniques-2\n",
      "K rtqokug vq vcmg iqqf ectg qh aqw, rtkpeguu. K jcxg vq twp pqy. Rngcug ugpf rkeu yjgp aqw igv c ejcpeg. Vvan!\n",
      "Length: 110\n",
      "customizedTechniques-3\n",
      "i>",
      ">>",
      ">>",
      ">>J>",
      "L>i>",
      ">>>L>p",
      "",
      ">",
      ">>",
      ">>",
      ">>",
      "L>t?\n",
      "Length: 110\n",
      "customizedTechniques-5\n",
      "pÂÄÁ¿»Å·pÆÁpÆ³½·p¹ÁÁ¶pµ³Ä·pÁ¸p±ÁÇ|pÂÄ»Àµ·ÅÅ~ppº³È·pÆÁpÄÇÀpÀÁÉ~p¢¾·³Å·pÅ·À¶pÂ»µÅpÉº·Àp±ÁÇp¹·Æp³pµº³Àµ·~p¦Æ±¾q\n",
      "Length: 110\n",
      "OpenSourceTechniques-6\n",
      "b'A\\xc4L\\xb0b\\xba\\xb2\"W\\x1et\\xb6\\xe1\\xd9\\xaa,\\xdd\\xfc\\xc0{g\\x03d\\xb4&\\x86\\xa0\\xca\\xccG\\xd3d\\x1b\\xd9\\x9c\\xb2\\x1a\\xa1\\xf8\\xfe\\x9e]\\x82\\xd1\\xf4\\x9ca\\x17\\xbc\\xba\\xdd=^\\xc8\\xca\\xba\\x90x\\xb8\\xfbF\\xef\\xf1B\\x00\\xb7s\\x96\\xd1q3\\x8b\\xe8em\\xeea\\x97?\\x8f\\xa0r\\xdc\\xae\\x1c5\\x80\\xa1\\x0etL%\\x18/;\\xa0\\xe27{Hfm\\x88\\xd6\\xe3@\\xfc+5v\\x9c\\x8b0\\x9b\\xd9\\xca\\x8e\\xaf\\x1f$&\\x88~\\xac\\x1c\\xff>#\\x0fC\\xa16<$\\xd4\\xf98\\xd0\\xf6U}?+\\'\\xcd\\xb1&\\xef\\x08P\\x0ek\\xc2\\xea\\xd5<\\xc8hg H\\x1eY1-\\xee\\xfc!\\xa13H4\\xfc\\xf2\\'\\xc0\\x03\\x82\\xd2\\xcb\\x80\\xf3\\x8c\\x1d\\xae\\xd5\\xe2\\xb0\\x1fA\\xa6\\xc0\\xe9\\x1fA\\xacr\\x84t\\xf4&?=dk%\\x05\\x00'\n",
      "Length: 208\n",
      "Embedding Efficiency: 4.230769230769231\n",
      "==============\n",
      "704Go until jurong point, crazy.. Available only in bugis n great world la e buffet... Cine there got amore wat...\n",
      "customizedTechniques-2\n",
      "Iq wpvkn lwtqpi rqkpv, etcba.. Cxckncdng qpna kp dwiku p itgcv yqtnf nc g dwhhgv... Ekpg vjgtg iqv coqtg ycv...\n",
      "Length: 111\n",
      "customizedTechniques-3\n",
      "g>>>J>LL>a",
      ">>>>>",
      ">>>",
      ">",
      "LLL>c",
      ">",
      "",
      ">>",
      ">LLL\n",
      "Length: 111\n",
      "customizedTechniques-5\n",
      "ÁpÇÀÆ»¾p¼ÇÄÁÀ¹pÂÁ»ÀÆ|pµÄ³²±~~pÈ³»¾³´¾·pÁÀ¾±p»Àp´Ç¹»ÅpÀp¹Ä·³ÆpÉÁÄ¾¶p¾³p·p´Ç¸¸·Æ~~~p»À·pÆº·Ä·p¹ÁÆp³¿ÁÄ·pÉ³Æ~~~\n",
      "Length: 111\n",
      "OpenSourceTechniques-6\n",
      "b'|\\xa3\\xba;\\xa1{r\\xc7\\xf5\\x00\\xe9\\xe1\\xc86\\x8b|[-tz\\x82`:lL\\xd9M\\xaf\\x84\\xe5m=!\\xac\\xc9\\xa62\\x01\\xc2\\xca=\\xf7Y\\x87\\xe6\\xc8k\\xc2\\x8a\\x08\\x88_\\xda\\x8a\\x90\\x06\\xe3\\xb3\\x19b\\xa2\\xa3\\\\22\\t\\xbf\\xc2\\xba\\x03\\x9d\\xc2\\x18\\x9f\\x04]\\x9d_|\\xa7\\x84nv\\xec<\\xbc\\x82\\xadv\\x8f\\xa0g1#p\\xb4\\x03\\xe4\\'\\t|\"?\\xef\\xaf\\'$\\x8a\\x10\\xd3\\x1a\\x84K\\xc4q\\x05\\xdd\\x97\\xc9\\xaf\\x86q%\\x89\\x0f\\r\\xcak\\x00\\xdc\\x9b)\\x94b\\xca\\xb4\\xa3N\\xda<\\x11f\\xeb\\xc7 \\xad\\xa6\\x98HA3\\x84\\x89\\xddb\\xbfu\\r\\xb7Q$\\xe1\\xda\\x8d\\xb3\\xd2\\xbe\\xae\\x1a[x~\\xd1\\xf7#$*\\xd1gr]\\x1f\\xb42\\xc2\\x95\\x8c\\xd3(\\x7f\\x88\\xc52!\\x86\\xd1\\xb5\\xd7\\xabF\\xc4\\xe6`|`s\\xf6\\x10'\n",
      "Length: 208\n",
      "Embedding Efficiency: 4.269230769230769\n",
      "==============\n",
      "705It will stop on itself. I however suggest she stays with someone that will be able to give ors for every stool.\n",
      "customizedTechniques-2\n",
      "Kv yknn uvqr qp kvugnh. K jqygxgt uwiiguv ujg uvcau ykvj uqogqpg vjcv yknn dg cdng vq ikxg qtu hqt gxgta uvqqn.\n",
      "Length: 111\n",
      "customizedTechniques-3\n",
      "i>>>>",
      "L>i>",
      "",
      ">",
      ">",
      ">>>",
      "",
      ">>>",
      ">",
      ">>",
      ">>>",
      "",
      ">L\n",
      "Length: 111\n",
      "customizedTechniques-5\n",
      "ÆpÉ»¾¾pÅÆÁÂpÁÀp»ÆÅ·¾¸~ppºÁÉ·È·ÄpÅÇ¹¹·ÅÆpÅº·pÅÆ³±ÅpÉ»ÆºpÅÁ¿·ÁÀ·pÆº³ÆpÉ»¾¾p´·p³´¾·pÆÁp¹»È·pÁÄÅp¸ÁÄp·È·Ä±pÅÆÁÁ¾~\n",
      "Length: 111\n",
      "OpenSourceTechniques-6\n",
      "b'\\xf3l\\xdei\\xfb\\xa1\\xb8nm\\x9d\\x00h\\xd1\\x17\\x13!\\xab\\xec\\xb9:\\xbdq1\\xab1\\x10\\xcaI\\xe2\\xe6\\xb6\\x10\\xfa\\xf3q\\x01\\xfcU\\xb3-4JR\\xbb1\\xf8\\xec\\xa2,\\xd5\\'\\xaa\\xca\\xa6\\xff\\x9e\\xb6\\xd55\\xb3I\\x81}\\xee\\xfb\\xc2\\x9ck\\x81\\xf3\\x8eN\\xfe\\xe7\\xac\\xa9\\x85\\xd91\\xf8\"Wu\\r\\xeeP\\xf7\\x1f\\xad|\\x03w\\x00\\xfb\\x87\\xf1\\x91>#?\\xba`\\xb1\\xa6\\xce\\xe1sQ\\xb6|\\xdac-i|\\x95\\xe6$\\x9b\\xbc\\xac\\xfek\\xdc\\xd8Mi1\\xd7\\xc8\\xaf\\xf9jMd\\x84Z\\xbecu\\x15\\xc70\\xad\\x18\\x9f\\xc8hI\\t\\x86\\xaa\\xc5a\\xce\\x18\\xab9n8\\x9a\\x11\\x95i\\x92D\\x99\\xe4\\xa8\\x90\\x7fAMi^\\xa5\\xeb\\x0c\\xfe.\\xf3E\\xdf\\xf9\\x89#\\xcb\\x81M\\x82c\\xbc@\\x1a\\x9d\\x01iM`\\xf7\\xfei;~[\\xf8\\x7f{'\n",
      "Length: 208\n",
      "Embedding Efficiency: 4.269230769230769\n",
      "==============\n",
      "706Fancy a shag? I do.Interested? sextextuk.com txt XXUK SUZY to 69876. Txts cost 1.50 per msg. TnCs on website. X\n",
      "customizedTechniques-2\n",
      "Hcpea c ujci? K fq.Kpvgtguvgf? ugzvgzvwm.eqo vzv ZZWM UWBA vq 69876. Vzvu equv 1.50 rgt oui. VpEu qp ygdukvg. Z\n",
      "Length: 111\n",
      "customizedTechniques-3\n",
      "f>>]>i>Li",
      "",
      "",
      "]>",
      "",
      "L>>xxuk>su`_>>TWVUTL>t>>OLSN>",
      ">L>tc>>",
      "",
      "L>x\n",
      "Length: 111\n",
      "customizedTechniques-5\n",
      "³Àµ±p³pÅº³¹pp¶Á~ÀÆ·Ä·ÅÆ·¶pÅ·ÊÆ·ÊÆÇ½~µÁ¿pÆÊÆpªª§p¥§pÆÁp~p¦ÊÆÅpµÁÅÆp~",
      "pÂ·Äp¿Å¹~p¦ÀÅpÁÀpÉ·´Å»Æ·~pª\n",
      "Length: 111\n",
      "OpenSourceTechniques-6\n",
      "b\"\\x91\\xea\\x97\\x94F\\xa8s\\x82#\\xa8\\xb2\\\\a\\xa3\\xd1\\x07\\xba\\xc5\\xed\\xcd\\x95\\xb4S@\\xa0qe=\\x1c\\x92\\xd4\\x99rY\\xed\\x81\\xdd\\x8d\\xe6:\\xa056$\\x10M\\x9c\\xafFk\\x8c\\x8dXql\\xdb\\xd1m\\xe7\\x95\\xc01\\x86~\\xcb\\x84\\xc9\\x1e\\x01\\xbeK\\xcd\\xec\\x8d~\\xd5\\xe8\\xb8K\\xb5\\xba\\x81\\xf8k]s\\x9b[O\\xb3&\\xd9//\\xcc{\\xa8\\xfbJ\\xf1\\xe4\\xad\\xec>\\x05'\\x98\\xd8\\xa6&\\xf6\\x97\\xaa\\xfd\\xc4\\xa2S\\x80{\\xb9\\x87\\xc5\\xb0:\\xc0\\x19\\xf9y&\\x96\\xf7w\\xd5\\xee\\xa9\\xa47\\xcd|\\x87\\xb8\\x91\\xddi\\xc0H\\xa7n\\xb7\\xc7h\\xe9\\xa1\\x8e3\\xec\\x88%\\xea\\xa53\\xe9\\xeb\\xf2*\\x10\\xb1\\x07\\xd4\\xf4\\x8dbZ\\x9epH\\x0f#5\\x9a\\xbb\\xf6\\x8d\\x18\\x8a\\xa4Bx\\xbd\\xb0\\x8c\\xcd\\xc9'<\\xef\\x8a\\xb5 f\\xc93\\x9b\\xffT!\\x80\\xa0\"\n",
      "Length: 208\n",
      "Embedding Efficiency: 4.269230769230769\n",
      "==============\n",
      "707You will recieve your tone within the next 24hrs. For Terms and conditions please see Channel U Teletext Pg 750\n",
      "customizedTechniques-2\n",
      "Aqw yknn tgekgxg aqwt vqpg ykvjkp vjg pgzv 24jtu. Hqt Vgtou cpf eqpfkvkqpu rngcug ugg Ejcppgn W Vgngvgzv Ri 750\n",
      "Length: 111\n",
      "customizedTechniques-3\n",
      "_>>",
      "",
      "",
      ">>",
      ">>",
      ">",
      ">PRL>f>t",
      ">>>",
      "",
      ">",
      "",
      ">c",
      ">u>t",
      "",
      "",
      ">p>USN\n",
      "Length: 111\n",
      "customizedTechniques-5\n",
      "ÁÇpÉ»¾¾pÄ·µ»·È·p±ÁÇÄpÆÁÀ·pÉ»Æº»ÀpÆº·pÀ·ÊÆpºÄÅ~pÁÄp¦·Ä¿Åp³À¶pµÁÀ¶»Æ»ÁÀÅpÂ¾·³Å·pÅ··pº³ÀÀ·¾p§p¦·¾·Æ·ÊÆp¢¹p",
      "\n",
      "Length: 111\n",
      "OpenSourceTechniques-6\n",
      "b']\\x92c\\xb0\\x1d*\\x8a\\xa5\\x9bJ1\\xfe\\t\\xa1\\x85\\xb1>\\xf8\\xa7\\x81B\\xa0\\xcd\\x17\\xf5E\\xbdK\\xb3\\xcf\\xb0\\x0f\"C\\x0b\\x05s\\xd0\\xaf\\xdf\\xc6\\xcbj\\xff\\xed\\xd5\\xc3\\xa43prpp\\xd9\\xb1\\xb6c\\x01\\x878\\xf2\"nst\\xfd^\\x8e\\x95\\x14\\x9dCJ8\\xcd\\xfd`O\\x01\\x9a\\xe4\\xab\\xea2\\x19\\xf4\\x8c_\\x01\\xf4\\xed\\xf7p\\n\\x9f\\x93)\\xd0\\xed\\xe5\\xe1A\\x82e\\xe7\\xce\\xed\\xe2\\xce\\xf6\\t\\xfd&\\xa3rt#k\\x87\\xd7\\x9fj-\\x06\\xe3\\x07\\x15f\\xac\\xa5\\x1d\\x01\\xf0\\x931\\x9d\\xb2\\xab\\xba_\\x8aH\\xd1\\xd9.\\x8c9x\\xf0+.\\x11\\x14\\x881\\x88\\xa0{{p\\xb2amp\\xd1T\\xf4C]\\xb5U\\xbb\\xed\\xdd;\\xf8J\\x8e\\x9f\\xf0j\\x19`U\\x03{\\x15\\xdbTiBC*3\\x80\\xd3\\xad\\x1b\\xadJ\\xa7\\xaa+_\\x10\\xbdr\\xf6'\n",
      "Length: 208\n",
      "Embedding Efficiency: 4.269230769230769\n",
      "==============\n",
      "708<Forwarded from 448712404000>Please CALL 08712404000 immediately as there is an urgent message waiting for you.\n",
      "customizedTechniques-2\n",
      "<Hqtyctfgf htqo 448712404000>Rngcug ECNN 08712404000 koogfkcvgna cu vjgtg ku cp wtigpv oguucig yckvkpi hqt aqw.\n",
      "Length: 111\n",
      "customizedTechniques-3\n",
      "Zf",
      ">>RRVUOPRNRNNN\\p",
      "",
      ">call>NVUOPRNRNNN>",
      "",
      ">>",
      "",
      ">>>",
      ">",
      "",
      ">>>L\n",
      "Length: 111\n",
      "customizedTechniques-5\n",
      "ÁÄÉ³Ä¶·¶p¸ÄÁ¿p¢¾·³Å·ppp»¿¿·¶»³Æ·¾±p³ÅpÆº·Ä·p»Åp³ÀpÇÄ¹·ÀÆp¿·ÅÅ³¹·pÉ³»Æ»À¹p¸ÁÄp±ÁÇ~\n",
      "Length: 111\n",
      "OpenSourceTechniques-6\n",
      "b'\\x90]\\x9eh\\x89\\x94\\xf6\\x0c\\xeb\\xf0\\xd7\\xae\\xb6\\x12Rl\\x03\\x17\\x1a\\xd4\\xec\\xd8Yf\\xbdr\\xf8\\xd71\\xcf\\xb3\\xc8J\\xa8\"O\\x1a$.\\xd4\\xdf\\\\R\\xd8fC\\x7f;\\x7fU\\xaf\\x17=s\\xe8_g\\xbcC\\x8eUT^\\xb6\\xf5\\x04g<\\x97p\\xf17\\x91\\x14D\\x8cz__\\t\\x01\\xcak\\x04/NY\\xfa\\x08\\xfc\\xeetv/q\\xd9B8\\x1d\\xdbP\\xefWv\\xff\\x0e\\xd9\"XN\\xd9]3-:\\x01\\x10\\x1c:w\\xac%\\xd1\\x16F\\x97Eg\\xed\\xca\\xc5\\xc0\\xfc7\\xa2\\xdf\\xb1\\xacT\\xc4\\r}\\xe6\\xff9z\\x86\\xb9I\\xce\\x89\\x01\\xa1\\xa6ix\\x186\\x9f\\xe6\\x07\\xcd2\\xb8\\xd7q\\t\\xba-\\xc6\\xf2\\x1d9\\x89me\\xd2\\xf6#\\xf3y\\x0e6\\xba\\xfa\\x9f\\xb0[\\xb4i\\xc090\\xe6\\xe3\\x14\\xf6=OQZ\\xb3^k\\x83Hu\\xb6'\n",
      "Length: 208\n",
      "Embedding Efficiency: 4.269230769230769\n",
      "==============\n",
      "709So there's a ring that comes with the guys costumes. It's there so they can gift their future yowifes. Hint hint\n",
      "customizedTechniques-2\n",
      "Uq vjgtg'u c tkpi vjcv eqogu ykvj vjg iwau equvwogu. Kv'u vjgtg uq vjga ecp ikhv vjgkt hwvwtg aqykhgu. Jkpv jkpv\n",
      "Length: 112\n",
      "customizedTechniques-3\n",
      "s>",
      "",
      "E>>>>",
      ">>",
      ">>",
      "L>iE>",
      "",
      ">>",
      ">>>",
      ">",
      ">",
      "L>h>\n",
      "Length: 112\n",
      "customizedTechniques-5\n",
      "¥ÁpÆº·Ä·wÅp³pÄ»À¹pÆº³ÆpµÁ¿·ÅpÉ»ÆºpÆº·p¹Ç±ÅpµÁÅÆÇ¿·Å~pÆwÅpÆº·Ä·pÅÁpÆº·±pµ³Àp¹»¸ÆpÆº·»Äp¸ÇÆÇÄ·p±ÁÉ»¸·Å~p»ÀÆpº»ÀÆ\n",
      "Length: 112\n",
      "OpenSourceTechniques-6\n",
      "b\"\\xb5\\n\\x8dt\\xca'\\x19\\x9f\\xa2\\xb9\\xc2\\x07\\x02\\x18\\xee\\x9cY\\xb3W>WJ\\xd5\\xecJ\\xd7\\xc9*6L\\xf7\\x0c\\x10\\xc9\\x9c\\x1dT\\xafX:\\xae\\x92\\xcd\\x97$\\x038\\xbf\\xaf\\x1e\\xc7/\\xb2\\xe0\\xea\\xa4\\xdfKs4\\xfe\\\\0\\xf6B\\xee{\\x8d\\xd1\\xe2\\x87I\\xe2G\\x98|\\xab\\xd1\\xd8!\\xcdsR5XOg#\\xa4\\xf6\\x8cBd\\\\\\xb6\\x94\\xba\\xfan.gs\\x084A\\xaa\\xe0\\x14R\\x1a<\\x94\\x82\\xa4\\xdf'uQ\\x0b\\xfae0\\xeeI6\\xac\\x15\\xf8\\x8b\\x86\\x96e\\x83-\\x85\\xe4\\xd9\\x14\\xdc\\x8cZ\\xfc\\xfe\\xe26\\x9b\\xc0\\xdc\\xc0=b/\\xc9\\xda\\xbf\\xdb\\xad\\x04\\x94\\x80\\xbd#\\xba?\\xaa1-d\\x81\\x89\\x00{/\\x8d7:\\xca+'<(\\x9b\\x99<\\xac6n\\xbd\\x8e\\x94\\xd5\\x05\\xa7\\xf8~\\xe3N\\x9c\\xca\\xed5\\x02\\x0c\\x11\\x86'?\\xb6\"\n",
      "Length: 208\n",
      "Embedding Efficiency: 4.3076923076923075\n",
      "==============\n",
      "710Hmmm...k...but i want to change the field quickly da:-)i wanna get system administrator or network administrator..\n",
      "customizedTechniques-2\n",
      "Jooo...m...dwv k ycpv vq ejcpig vjg hkgnf swkemna fc:-)k ycppc igv uauvgo cfokpkuvtcvqt qt pgvyqtm cfokpkuvtcvqt..\n",
      "Length: 114\n",
      "customizedTechniques-3\n",
      "hLLLLLL>>>>",
      ">",
      ">",
      ">>XKG>>",
      ">",
      ">>>",
      ">LL\n",
      "Length: 114\n",
      "customizedTechniques-5\n",
      "¿¿¿~~~½~~~´ÇÆp»pÉ³ÀÆpÆÁpµº³À¹·pÆº·p¸»·¾¶pÃÇ»µ½¾±p¶³}y»pÉ³ÀÀ³p¹·ÆpÅ±ÅÆ·¿p³¶¿»À»ÅÆÄ³ÆÁÄpÁÄpÀ·ÆÉÁÄ½p³¶¿»À»ÅÆÄ³ÆÁÄ~~\n",
      "Length: 114\n",
      "OpenSourceTechniques-6\n",
      "b'\\xa5\\x15\\xf0\\xdaa\\xd9T\\x11\\xdc\\x7f\\xc4d\\xf5\\tX;\\xc4\\xdc4bda-\\t\\x18\\xde\\xfe\\xa9\\x8c\\x94\\x8d?\\xafF\\x1bY\\xe4;\\x8c\\xed~\\xc5\\xa3\\xe9\\x8e\\x8e\\xfb\\xa1\\x10\\x891\\xbf\\xfb~\\\\t\\r\\xb0\\xd0H\\x8a\\xb1\\xf5\\xeb \\xfe\\x1a\\x83\\xa0\\xfe\\x9e\\x14\\xa1y\\xd9\\xfb\\x04SA!&\\xb4\\x1f\\x03a\\xe9+\\x08\\x91\\xf6~\\x1b\\xb8@\\xa5\\x87\\x9b\\xd7\\x89\\x04\\n\\xcf\\x07O.\\xe6\\xc5eJO\\xf26\\x19%\\x94\\xf1\\xc1\\xb0-\\xcf\\xf8\\xc1\\x0f\\xf7\\x8d\\'\\x89\\x05pD\\x1d|\\xae\\x98$i\\x12\\x8d\\xf7b\"!\\x96m\\xaf\\xcdJ\\x8b[}\\xe6\\xc0\"\\xf0j\\xc1\\xe3\\xa2o\\xb0W\\xb0\\x16\\xb70\\xcf\\xab\\xd9w\\xdf\\xc6\\x81\\x04\\x02\\xa9\\xfcs\\xcag\\x90i\\x18M]\\xb5\\x8b\\xf9]\\x92\\xb7\\x95e(\\xadw\\xady\\x83qmM\\x8f\\xc97\\x01\\xe6\\x14w'\n",
      "Length: 208\n",
      "Embedding Efficiency: 4.384615384615385\n",
      "==============\n",
      "711My sort code is  and acc no is . The bank is natwest. Can you reply to confirm i've sent this to the right person!\n",
      "customizedTechniques-2\n",
      "Oa uqtv eqfg ku  cpf cee pq ku . Vjg dcpm ku pcvyguv. Ecp aqw tgrna vq eqphkto k'xg ugpv vjku vq vjg tkijv rgtuqp!\n",
      "Length: 114\n",
      "customizedTechniques-3\n",
      "m>>",
      ">>>>>>>L>t",
      ">>>",
      "L>c>>",
      ">>>E",
      ">",
      ">>>",
      ">>",
      "?\n",
      "Length: 114\n",
      "customizedTechniques-5\n",
      "±pÅÁÄÆpµÁ¶·p»Åpp³À¶p³µµpÀÁp»Åp~p¦º·p´³À½p»ÅpÀ³ÆÉ·ÅÆ~p³Àp±ÁÇpÄ·Â¾±pÆÁpµÁÀ¸»Ä¿p»wÈ·pÅ·ÀÆpÆº»ÅpÆÁpÆº·pÄ»¹ºÆpÂ·ÄÅÁÀq\n",
      "Length: 114\n",
      "OpenSourceTechniques-6\n",
      "b'\\xe0\\x0b\\x83\\xa6\\x1a\\xce\\x9f\\x12\\xa7FA\\xfc-\\xfb\\x9e@\\xa63\\xa4N\\x06\\xbetYb\\x0b\\xa5=\\x18Da\\xb2\\xeb)\\xbd\\xe2q\\x82\\xbcl\\x81Z\\x04\\xcb\\xe2X\\xa71\\x14\\xc1G\\x8e\\xcf\\x93\\x844\\xd0\\xffod\\x11\\xc1\\x90\\x05f6v~\\xb6w\\x89\\x13\\xbc\\xcc:\\x00r\\xab\\xf7\\x8f\\xb7\\xfc\\x100\\xdd\\xe9fO\\xc5\\x17\\xb3{\\\\\\xb5\\xb0}\\xc9\\xc8A\\xa3[\\xb4\\x99\\xec\\xa9\\xc6\\xa7Zy\\xe0qWV\\x907>p\\n\"\\xfd\\x8d\\xbat\\x0b0?\\xd6\\'%\\xb5]\\xbe\\x12\\x98)\\x0fu\\x90!\\xde@\\xbf\\xe9\\x9cf6\\xcaA$\\xe5\\x8fZ|\\xd8\\x08\\x18;\\x8b\\xecehWP\\xc8h\\x8e\\xad\\xc3\\\\N\\xa9y\\xd3\\x8e$\\x94\\x94K{1)\\xb0j\\x86\\xb9\\x92/=\\x96\\x00x\\xec7\\xff\\x86\\xffw\\x9b\\xf4\\xd3\\xa4\\xa0=E\\xd6oB\\xea'\n",
      "Length: 208\n",
      "Embedding Efficiency: 4.384615384615385\n",
      "==============\n",
      "712I know! Grumpy old people. My mom was like you better not be lying. Then again I am always the one to play jokes...\n",
      "customizedTechniques-2\n",
      "K mpqy! Itwora qnf rgqrng. Oa oqo ycu nkmg aqw dgvvgt pqv dg nakpi. Vjgp cickp K co cnycau vjg qpg vq rnca lqmgu...\n",
      "Length: 115\n",
      "customizedTechniques-3\n",
      "i>?>g>>",
      "",
      "L>m>>>",
      ">>",
      "",
      ">>",
      ">L>t",
      ">>i>>>",
      ">",
      ">>>",
      "LLL\n",
      "Length: 115\n",
      "customizedTechniques-5\n",
      "p½ÀÁÉqpÄÇ¿Â±pÁ¾¶pÂ·ÁÂ¾·~p±p¿Á¿pÉ³Åp¾»½·p±ÁÇp´·ÆÆ·ÄpÀÁÆp´·p¾±»À¹~p¦º·Àp³¹³»Àpp³¿p³¾É³±ÅpÆº·pÁÀ·pÆÁpÂ¾³±p¼Á½·Å~~~\n",
      "Length: 115\n",
      "OpenSourceTechniques-6\n",
      "b's\\xb2\\xae\\xd3\\xb5\\xcaM\\r~\\x85H\\xd5\\x82\\x1e\\xf9\\x08\\xa3\\xa1\\x82\\x7f\\x83\\rD\\x87e\\\\\\x96\\xb6z\\xa6\\xa7o\" \\xf6H[.\\x1a7\\x0c\\xe7\\xc5\\x02S\\xc0c\\xa9\\x89\\xb1\\x0e\\xe3R\\xae\\\\\\xa3\\xfeWcd\\xe6\\xe8\\xee\\xff\\xec!\\x8fR\\xfeb\\xa0nF\\x94\\xdb\\xab\\xb5=\\x04}}\\xb1j[[|z/\\ngny\\xfej\\xc6\\xa7Z\\xcfY\\x03W\\xfc\\xb8\\x13\\xd1\\xc0\\x80\\x03\\x9c\\xf9\\x9b~m2FN\\xe9\\x9b\\x05`\\x8d\\xca\\x96\\x87\\xfe\\xc3\\xcf>mw-\\xd8$\\x15\\x19G\\x81R\\xf2y6\\xed \\x08\"\\t\\x00P\\x18y+[\\xe8\\x1db\\x95\\x81,O\\xdd?Ed&\\xf2J\\x90\\x02X\\xbb\\xd8/Q\\xd9\\xd2\\xd1\\x8b\\x19\\xc2\\x8dKF\\x02~\\x17`\\xe5j\\x99\\x1dt1J?\\xc6=\\x82\\x16\\xd1\\x0e\\x15\\x8b\\xf8;\\xaaFV\\x89'\n",
      "Length: 208\n",
      "Embedding Efficiency: 4.423076923076923\n",
      "==============\n",
      "713Keep yourself safe for me because I need you and I miss you already and I envy everyone that see's you in real life\n",
      "customizedTechniques-2\n",
      "Mggr aqwtugnh uchg hqt og dgecwug K pggf aqw cpf K okuu aqw cntgcfa cpf K gpxa gxgtaqpg vjcv ugg'u aqw kp tgcn nkhg\n",
      "Length: 115\n",
      "customizedTechniques-3\n",
      "k",
      "",
      ">",
      ">",
      ">>",
      ">",
      "",
      ">i>",
      "",
      ">>>i>>>",
      ">>i>",
      ">",
      "",
      "",
      ">>",
      "",
      "E>>>",
      ">",
      "\n",
      "Length: 115\n",
      "customizedTechniques-5\n",
      "··Âp±ÁÇÄÅ·¾¸pÅ³¸·p¸ÁÄp¿·p´·µ³ÇÅ·ppÀ··¶p±ÁÇp³À¶pp¿»ÅÅp±ÁÇp³¾Ä·³¶±p³À¶pp·ÀÈ±p·È·Ä±ÁÀ·pÆº³ÆpÅ··wÅp±ÁÇp»ÀpÄ·³¾p¾»¸·\n",
      "Length: 115\n",
      "OpenSourceTechniques-6\n",
      "b\"jzwK\\x92\\x04tO\\x8at\\xc4\\x9e\\x8d\\x16m\\x92\\xf6\\x91\\xdf\\xb8\\x93\\x8eM\\xc7\\xfc\\x05I-\\x84>F=~W\\xd3\\x89T\\x8f\\xc6\\xf90\\xfb\\xd1-A\\x9a-\\xa4\\xff[oF\\xad\\xe8\\x8e\\xbeL+\\xaekX\\x1aj\\x99\\x06\\xb9\\x9an\\xe17\\x90X}\\xd3\\x16R\\x91\\xa2\\xe5\\xdc\\xa69K'=\\x1d\\xdc\\xc5\\xd6*\\xe2\\x1f}\\xc1\\xdb7%\\xd4IQ\\xb5h\\xb2\\x10Y\\x0b\\x8b\\x86\\xf0\\xb3\\xec?f\\xc0\\xf6\\x86\\xdd\\xdfs\\x18m\\x07\\xaf\\x03/\\x8fP\\xe6H\\x1d=kc\\xa5<\\xdd\\x04\\xa8~2\\x87\\xf8\\x18\\xd0\\xaf\\x08\\x08k\\xbb\\x96\\x18]\\x8d\\x83f\\xf4\\xf5\\x08_\\xcc\\xe2\\xd0\\x80&V\\xbd\\xee[v\\x04wt-\\xb8\\xa2\\xda\\xf5Ez\\\\\\xe6V\\x96\\xccU\\xcf!>\\x86|T\\\\\\xa45\\xa5M\\xb9\\x9f\\x0f\\xf0\\x12\\xd8\\xedKqT{\\xa2\"\n",
      "Length: 208\n",
      "Embedding Efficiency: 4.423076923076923\n",
      "==============\n",
      "714Yes i think so. I am in office but my lap is in room i think thats on for the last few days. I didnt shut that down\n",
      "customizedTechniques-2\n",
      "Agu k vjkpm uq. K co kp qhhkeg dwv oa ncr ku kp tqqo k vjkpm vjcvu qp hqt vjg ncuv hgy fcau. K fkfpv ujwv vjcv fqyp\n",
      "Length: 115\n",
      "customizedTechniques-3\n",
      "_",
      ">>>L>i>>>",
      ">>>>>>>>>>>>",
      ">>",
      ">L>i>>>>\n",
      "Length: 115\n",
      "customizedTechniques-5\n",
      "·Åp»pÆº»À½pÅÁ~pp³¿p»ÀpÁ¸¸»µ·p´ÇÆp¿±p¾³Âp»Åp»ÀpÄÁÁ¿p»pÆº»À½pÆº³ÆÅpÁÀp¸ÁÄpÆº·p¾³ÅÆp¸·Ép¶³±Å~pp¶»¶ÀÆpÅºÇÆpÆº³Æp¶ÁÉÀ\n",
      "Length: 115\n",
      "OpenSourceTechniques-6\n",
      "b'\\xa0\\x00Z|\\xe6%$~K|\\xe8\\xb1\\xa37\\xdb\\x06E\\x00\\xb7*\\xf1\\xdb\\x13\\xa6\\xac?ia\\xf5;\\xf2\\x8c\\xb7\\x8a1\\xf8B\\xe7\\xee\\xdc\\xe3\\xb57\\xb92oL\\t\\x0e\\x87\\x9a\\x9dt\\xeaf\\xfb\\xb4B\\xab\\xa7\\xfcC+\\x8f\\x05\\r\\xe3\\xbe\\x0b\\x87\\xaa\"\\xbf\\xc0?\\xc1\\x10\\xc2\\x98U*8\\xc6`\\xab|\\xdaN\\x96U\\x87\\x9a\\xd5\\xd6\\x13\"R\\xa8\\xcc&\\xb6\\x0f\\x80\\x184h\\x03\\xa2D\\xd9\\xcc_\\xee\\xf5D\\xb9\\x0b\\xa85@vSx1\\xa9\\xa8c\\x9d\\xec\\x84\\xf3\\xa3\\xb2\\xe5\\xd1\\x85h\\xad\\xb9\\xc6\\x81Y\\xad\\x1dJ\\'-\\x15Ud\\xb1R\\xf8\\x95N\\xc4\\x8b\\x9c\\xa1\\xe7\\xe1*\\x9fl\\x03\\x17\\x8a\\x93\\xa2\\x04\\xed\\xea\\x94\\\\\\xa4\\xafvT\\xb7\\xf0E\\xbby{\\x95\\xa9\\xa22\\xa4\\x89.\\x9bTnt\\r\\xe6\\xab\\x89\\xfes@F\\x0c$\\xef\\xcc\\xb3'\n",
      "Length: 208\n",
      "Embedding Efficiency: 4.423076923076923\n",
      "==============\n",
      "715And also I've sorta blown him off a couple times recently so id rather not text him out of the blue looking for weed\n",
      "customizedTechniques-2\n",
      "Cpf cnuq K'xg uqtvc dnqyp jko qhh c eqwrng vkogu tgegpvna uq kf tcvjgt pqv vgzv jko qwv qh vjg dnwg nqqmkpi hqt yggf\n",
      "Length: 116\n",
      "customizedTechniques-3\n",
      "a>>iE",
      ">>>>>>",
      ">",
      ">",
      "",
      ">>>",
      ">>",
      ">>>>",
      ">",
      ">>>",
      "",
      "\n",
      "Length: 116\n",
      "customizedTechniques-5\n",
      "À¶p³¾ÅÁpwÈ·pÅÁÄÆ³p´¾ÁÉÀpº»¿pÁ¸¸p³pµÁÇÂ¾·pÆ»¿·ÅpÄ·µ·ÀÆ¾±pÅÁp»¶pÄ³Æº·ÄpÀÁÆpÆ·ÊÆpº»¿pÁÇÆpÁ¸pÆº·p´¾Ç·p¾ÁÁ½»À¹p¸ÁÄpÉ··¶\n",
      "Length: 116\n",
      "OpenSourceTechniques-6\n",
      "b'\\x1c\\xdf\\xc2\\xdd\\xf5\\xe1i\\xc6\\x83\\xe1u\\x9a\\x10\\xab>\\x81\\xd5\\xdf(\\x0f\\xed\\xf7\\xa5\\xdf\\xed\\xc5\\x12\\'.\\xef7\\x8cDFP<\\xec0\\xcb\\xdc\\x1e\\x91\\xda\\xa0\\xffW\\xf7h\\x00;Q(RV|\\x1bl\\x1f\\xf8\\xd0D\\xb6\\x87\\xfc!?\\x88\\xa6\\xac\\x11\\xd1\\xd2-\\x83\\xfb\\x85\\x85\\xaf\\xa1\\xebQ\\xd0\\xb5UH\\xd3>\\x9b\\xc2[\\x81O\\x00)\\x98,\\x85\\x15\\xb1\\xcc\\x07\\xe4<\\xe5\\xf6G)\\x97\\x8a\\xf6\\x1e8\\xfe\\xaeN\\x80\\x05:\\x0b\\x9e\\x16\\xd3\\x97\\xb3\\n\\xb6\\xed\\xb1\\xceh\\x1b\\xf5\\xdf\\x82\\xb6\\xcb\"H\\xa9\\x1e\\x93\\xf6\\xb7\\xe9&k\\xf7\\x0cx\\xe6\\x82\\x8b\"X\\x9a\\x89O\\xa9\\xfdFA\\xa4i6\\xb0\\xaeI\\xc7d\\xdd;x\\xc6\\xad\\xb2^w\\xb7+\\xcb(\\xf9\\xe3S\\xe1\\x19\\xac\\xad\\x02\\xa0Pk\\xb3\\xb7\\x05\\xef\\xb9#\\xbbM\\xa4h\\x9a4\\xc6\\xe3\\xa9\\xa3\\xdc\\x9a\\xf6\\x83\\xf4\\x82p~@\\xe1:\\x1fe%\\x9c\\xb5'\n",
      "Length: 224\n",
      "Embedding Efficiency: 4.142857142857143\n",
      "==============\n",
      "716LOOK AT AMY URE A BEAUTIFUL, INTELLIGENT WOMAN AND I LIKE U A LOT. I KNOW U DONåÕT LIKE ME LIKE THAT SO DONåÕT WORRY.\n",
      "customizedTechniques-2\n",
      "NQQM CV COA WTG C DGCWVKHWN, KPVGNNKIGPV YQOCP CPF K NKMG W C NQV. K MPQY W FQPeUV NKMG OG NKMG VJCV UQ FQPeUV YQTTA.\n",
      "Length: 117\n",
      "customizedTechniques-3\n",
      "look>at>am_>ure>a>beautifulJ>intelligent>woman>and>i>like>u>a>lotL>i>know>u>donst>like>me>like>that>so>donst>worr_L\n",
      "Length: 117\n",
      "customizedTechniques-5\n",
      "¡¡p¦pp§¤pp§¦§|p ¦ ¦p©¡ p ppp§pp¡¦~pp ¡©p§p¡ µ¥¦pppp¦¦p¥¡p¡ µ¥¦p©¡¤¤~\n",
      "Length: 117\n",
      "OpenSourceTechniques-6\n",
      "b'\\x87\\xc5\\xa6E\\xb7\\x9c\\x08WWg\\xd2e\\xd4\\xea\\xff\\x08\\xf7\\x90S\\xc8LW\\xad\\xdee\\x88\\xa8\\xc0\\xc1or`y\\xea\\xc0\\xa7\\x84v\\xe0aV\\x08\\x8d\\xcdy0lK\\x92\\x95\\xdb\\x92\\xfc\\x05\\x9eE\\xb9\\xf83\\xaa b\\x9d\\xf1L\\xc2\\xaep\\x19\\xeb\\xe0\\xc29\\xcb\\xf8\\xfcW~\\x8dO\\xa9\\x00v\\xc3\\x12\\x9efb\\xd8e\\xf7?n3\\xaf\\xfa\\x82L\\x9b!\\x82\\xecVo\\xa6\\x0e\\x07\\x96\\xd6\\xdbI\\xb9\"\\xa2\\xe9\\xe73u%_\\x9b\\xaf\\xe1. \\x0e~(\\xb1\\xa5[S\\xa6\\xce\\x98\\xc4L\\x195\\xee\\xa50k\\xd6\\t#Zyp\\x0b\\xba\\\\a\\xa6\\xe3\\xfci\\xc6\\x8aa\\x90z\\xda\\x83\\xb17<\\xe9\\t\\xa3\\x15\\xc2\\xeaT|\\xb2x\\xcb\\x16$\\xc6A\\xd3\\r\\xa1\\xb7&\\n\\n\\x9a\\xbb{m\\x8c\\xd0\\xa6Fi\\xb4\\x08L\\xa4\\x8e\\xcfB=\\xe6\\x94'\n",
      "Length: 208\n",
      "Embedding Efficiency: 4.5\n",
      "==============\n",
      "717No it's waiting in e car dat's bored wat. Cos wait outside got nothing 2 do. At home can do my stuff or watch tv wat.\n",
      "customizedTechniques-2\n",
      "Pq kv'u yckvkpi kp g ect fcv'u dqtgf ycv. Equ yckv qwvukfg iqv pqvjkpi 2 fq. Cv jqog ecp fq oa uvwhh qt ycvej vx ycv.\n",
      "Length: 117\n",
      "customizedTechniques-3\n",
      "n>E>>>",
      ">>E>",
      ">L>c>>",
      ">>>P>L>a>",
      ">>>>>>>>L\n",
      "Length: 117\n",
      "customizedTechniques-5\n",
      " Áp»ÆwÅpÉ³»Æ»À¹p»Àp·pµ³Äp¶³ÆwÅp´ÁÄ·¶pÉ³Æ~pÁÅpÉ³»ÆpÁÇÆÅ»¶·p¹ÁÆpÀÁÆº»À¹pp¶Á~pÆpºÁ¿·pµ³Àp¶Áp¿±pÅÆÇ¸¸pÁÄpÉ³ÆµºpÆÈpÉ³Æ~\n",
      "Length: 117\n",
      "OpenSourceTechniques-6\n",
      "b'S\\xe5\\xa5\\x97\\x08ha\\xed\\xd9-\\xbd[\\xcbp\\xd8\\xa4\\xd9\\x94e \\x81\\x05\\xb1DU\\x9d\\xc5\\x9e\\xc9\\xfe[{\\x1bMV\\x82.\\x88-<\\x80*\\x14\\xe7\\xd9%<\\xefC?R/5\\xe1q\\xdd\\xfa$\\xe7\\x9c\\xd0\\x16\\x9bh\\xeb\\xf2}\\xcf\\x1a=\\x8e\\x97]\\x99(i%\\xda\\x8a\\x9e\\xbe\\x107\\x86oI8\\xb7d\\xfd\\xfd\\xb0\\xb2\\xbb\\xfb\\x8e\\xd8\\xa3\\xdfY\\x93Qo\\xcc{\\xe8\\xb8s\\xd9\\xf5v\\xd8z\\x01K\\xfa\\xe1\\xba\\xd1\\xeb\\x84\\xd2\\xdfV\\x9b\\xfb\\x05P\\x00\\xcb\\x0f\\xea\\xf3*\\xfbd\\x9a]\\x8cK|\\xd2\\xfdp\\x05\\xb0ea\\xfaT\\x92\\x1f\\x82pi\\x13>\\xdc\\x10\\x14\\x8d\\xf2\\x19\\xfc\\xa5\\xd44\\xd0\\xde_2V\\xdc@\\xde\\xb5\\xa1\\xe9Jc{g\\xc5w\\xb6\\xfe\\xcd\\x88\\xc2%\\x82\\xabK\\xcd\\x1f^\\xa7\\xda\\xf9\\xd7V\\xec\\xf7\\x1d\\xd4<]4'\n",
      "Length: 208\n",
      "Embedding Efficiency: 4.5\n",
      "==============\n",
      "718Usually the person is unconscious that's in children but in adults they may just behave abnormally. I.ll call you now\n",
      "customizedTechniques-2\n",
      "Wuwcnna vjg rgtuqp ku wpeqpuekqwu vjcv'u kp ejknftgp dwv kp cfwnvu vjga oca lwuv dgjcxg cdpqtocnna. K.nn ecnn aqw pqy\n",
      "Length: 117\n",
      "customizedTechniques-3\n",
      "u>",
      ">",
      ">>>E>>",
      ">>>>",
      ">>>",
      "",
      ">L>iL>>>\n",
      "Length: 117\n",
      "customizedTechniques-5\n",
      "§ÅÇ³¾¾±pÆº·pÂ·ÄÅÁÀp»ÅpÇÀµÁÀÅµ»ÁÇÅpÆº³ÆwÅp»Àpµº»¾¶Ä·Àp´ÇÆp»Àp³¶Ç¾ÆÅpÆº·±p¿³±p¼ÇÅÆp´·º³È·p³´ÀÁÄ¿³¾¾±~p~¾¾pµ³¾¾p±ÁÇpÀÁÉ\n",
      "Length: 117\n",
      "OpenSourceTechniques-6\n",
      "b'\\xb98F\\x08g\\xb99\\xb9c\\x10\\xbd5\\xbd`\\x08\\xd2^/\\xae\\x8c\\xb3\\x980\\x03\\x14&\\x10a9Dv!\\x98\\xeb\\xf9\\x02\\x8a\\xfcL\\x11\\xac{\\xe6\\xad`\\xcf\\xcd\\xfcP*\\xac\\xfd\\x9fN\\xeds\\x97\\x91\\xd0\\x801J\\xe3\\x8b\\xd5\\xf9\\x8d\\xb3\\xc0!rV\\x1e\\x9aW\\x81\\x18\\x1f!\\x1d\"\\xcdo\\x8f\\x14\\xe2\\xea\\xc8\\xf7\\xb4s\\x9dg\\xd9t)\\x18\\x8c\\x19)\\xba\\x8dL\\xea\\xdba\\x9a\\xbe\\xcc\\xf2kX\\x88\\x06\\x8d\\x00\\xf2\\x13\\x97\\xb08\\xdd\\x98X\\xc8\\xb6\\xc8\\xef\\x90`\\x8f!\\x86\"^U\\xf6\\xa4\\xc4\\xab\\xc0\\xd2\\xa2\\x8c#\\xee\\\\\\xf9%\\xad\\xb5%\\xf1\\xbb\\xfd#\\x06j\\xee\\xf5\\xde\\xfbk2\\xb3\\'%\\xbd\\xeeG\\x12\\xfa\\xf0\\xed^\\xf7L8\\x1b\\xde\\xce\\xe4t\\xa9\\xdd\\x95\\xf9\\x9d\\xd3l\\x87\\xd7\\x99^\\x0b\\x89M\\xbc1~\\xe8\\xa3\\xe8\\xe5R\\xb5Z\\\\\\x98\\xde\\x10\\xca\\xcc`y\\x8d\\x16\\xc2\\x02\\x15\\x8d\\x8d\\xc7\\xbe'\n",
      "Length: 224\n",
      "Embedding Efficiency: 4.178571428571429\n",
      "==============\n",
      "719It does it on its own. Most of the time it fixes my spelling. But sometimes it gets a completely diff word. Go figure\n",
      "customizedTechniques-2\n",
      "Kv fqgu kv qp kvu qyp. Oquv qh vjg vkog kv hkzgu oa urgnnkpi. Dwv uqogvkogu kv igvu c eqorngvgna fkhh yqtf. Iq hkiwtg\n",
      "Length: 117\n",
      "customizedTechniques-3\n",
      "i>",
      ">>>>L>m>>",
      ">",
      ">>",
      ">>",
      "L>b>",
      "",
      ">>",
      ">>",
      "",
      ">>L>g>",
      "\n",
      "Length: 117\n",
      "customizedTechniques-5\n",
      "Æp¶Á·Åp»ÆpÁÀp»ÆÅpÁÉÀ~pÁÅÆpÁ¸pÆº·pÆ»¿·p»Æp¸»Ê·Åp¿±pÅÂ·¾¾»À¹~pÇÆpÅÁ¿·Æ»¿·Åp»Æp¹·ÆÅp³pµÁ¿Â¾·Æ·¾±p¶»¸¸pÉÁÄ¶~pÁp¸»¹ÇÄ·\n",
      "Length: 117\n",
      "OpenSourceTechniques-6\n",
      "b\"\\x059Vu9\\xbdli\\xc49\\x8c.\\x9d\\xef\\xa2\\x1f\\x7f\\xe7\\x05!:\\x99\\ny\\x86`\\x1f\\x04Y\\n\\x85\\xab\\x01E$$J\\x9b\\xe1\\x88\\x02G\\x07\\x145Fv%\\xc73\\xb8\\xf7d\\x19\\xc2\\x8f6\\xac\\x03\\xb3\\x13\\xc1\\x07\\xff\\x81u\\xc8\\x9c\\xd0\\xf8\\xe6\\x93\\xbe\\xeb\\x17\\xab\\xde\\x00@m\\xf3E\\x1f\\xd7.g\\xea\\xd4\\xedDmRV\\xa50/\\xc0\\xd5=K\\x1a\\xee\\xcf\\xc0=\\x9e}\\xbe\\xfe\\x9a\\xb1\\xab\\xe8\\x0b%]cf\\xd9\\x07:\\x817r\\xdc\\x06'J\\xdah\\xfa\\x929\\x9b\\xc3\\x1a\\x8a\\xc2iFC\\x0e\\x0b\\xaa\\x8c\\xfee@9\\x89\\xc6<\\xccl\\xd0\\xb3\\x06\\x06.]\\x0c\\x15\\xd4\\x1b\\x84F\\xdeE+\\n\\x1e\\xa5Fi\\xf1\\x89@[\\x8c\\n?K\\x8e\\xf1J\\xfb\\xd9`E\\xee\\xf8\\xf4!wc!\\x12-@1<\\x99h\\xd6vd\\xd1^\\xe8\\xff\\xd2\\xf6P\\x9c\\xeb\\xc6\\x92\\x86\\xba>\\xf43\\xb3\\x10\"\n",
      "Length: 224\n",
      "Embedding Efficiency: 4.178571428571429\n",
      "==============\n",
      "720Was actually sleeping and still might when u call back. So a text is gr8. You rock sis. Will send u a text wen i wake.\n",
      "customizedTechniques-2\n",
      "Ycu cevwcnna unggrkpi cpf uvknn okijv yjgp w ecnn dcem. Uq c vgzv ku it8. Aqw tqem uku. Yknn ugpf w c vgzv ygp k ycmg.\n",
      "Length: 118\n",
      "customizedTechniques-3\n",
      "w>>",
      "",
      ">>>>",
      ">>>L>s>>",
      ">>VL>_>>L>w>",
      ">>>",
      ">",
      ">>",
      "L\n",
      "Length: 118\n",
      "customizedTechniques-5\n",
      "©³Åp³µÆÇ³¾¾±pÅ¾··Â»À¹p³À¶pÅÆ»¾¾p¿»¹ºÆpÉº·ÀpÇpµ³¾¾p´³µ½~p¥Áp³pÆ·ÊÆp»Åp¹Ä~pÁÇpÄÁµ½pÅ»Å~p©»¾¾pÅ·À¶pÇp³pÆ·ÊÆpÉ·Àp»pÉ³½·~\n",
      "Length: 118\n",
      "OpenSourceTechniques-6\n",
      "b'\\x1a\\xc7\\xcdg\\x819D\\x08\\xecSz\\xbc\\xde\\x89iE\\xb68wy\\xfaC\\x16@\\xcaE\\xc8\\xf2kvX{\\xaa\\x00\\xd8\\x1bu\\xcd\\xf4\\xab\\n\\x8e9I\\xe9\\xa3,\\xa2\\xf8\\xf0&a\\x02\\x16b\\xe8\\xed\\xaa?7\\xd0\\x9d+\\x88>\\x15\\xeb\\x94\\xe0e,\\x0f\\xb1\\xc9\\xc9\\x12\\x104\\x11\\xe3W/_D\\x8b\\xd6<p\\xc9t\\xf0\\xd7\\x9f\\xd2\\x0e4\\x80\\xfb\\x1d\\xf1\\r\\xd3\\xeb\\xec?\\x14\\xa5(4\\xed{\\xbf_xy\\xc7\\x1e\\xd9\\x14-|y\\x10\\xb13;\\xe3\\xd65\\xc4\\xb2\\xa4\\xa7\\xb2\\xbdV1\\xa3p\\x8e\\x9c\\xe5y-([0\\xa5\\xdf\\x9a>\\xdb\\xd3\\xeerhc\\xb4\\x88\\x02?9\\x94\\x027l\\xb3E\\x98g\\xbd\\x08u\\xe8\\xe9\\xd4\\x1da\\xb5\\xf8j\\xc3q\\xee\\xdfe\\xcf\\xf5~\\xda\\xdd\\xd1\\x81\\xdfP\\xfb\\xfc\\x9c\\xc6\\xbe\\\\l\\x1a\\xa5\\x99\\x03\\xd0\\xe9'\n",
      "Length: 208\n",
      "Embedding Efficiency: 4.538461538461538\n",
      "==============\n",
      "721\\AH POOR BABY!HOPE URFEELING BETTERSN LUV! PROBTHAT OVERDOSE OF WORK HEY GO CAREFUL SPK 2 U SN LOTS OF LOVEJEN XXX.\\\"\"\n",
      "customizedTechniques-2\n",
      "\\CJ RQQT DCDA!JQRG WTHGGNKPI DGVVGTUP NWX! RTQDVJCV QXGTFQUG QH YQTM JGA IQ ECTGHWN URM 2 W UP NQVU QH NQXGLGP ZZZ.\\\"\"\n",
      "Length: 118\n",
      "customizedTechniques-3\n",
      "zah>poor>bab_?hope>urfeeling>bettersn>luv?>probthat>overdose>of>work>he_>go>careful>spk>P>u>sn>lots>of>lovejen>xxxLz@@\n",
      "Length: 118\n",
      "customizedTechniques-5\n",
      "¬p¢¡¡¤pq¡¢p§¤ p¦¦¤¥ p§¨qp¢¤¡¦¦p¡¨¤¡¥p¡p©¡¤pp¡p¤§p¥¢pp§p¥ p¡¦¥p¡p¡¨ pªªª~¬rr\n",
      "Length: 118\n",
      "OpenSourceTechniques-6\n",
      "b'\\xfe6\\xeeX\\x84\\xd4j\\xc2U\\xfe\\x18\\x1fB!p\\xb6\\xcbVd\\xaf\\xed\\xd3\\xf9\\x88vf\\xed\\xb9\\xb6\\xc79-t/\\xee\\xce\\x90\\x18\\xe9\\xd3\\xff\\xaa\\x16:)\\xee\\x91\\xe6\\xd3m\\r\\x84]vc#n\\x1e\\x1b\\n\\xc0\\x85\\xe4|K\\xb62\\xaaY\\x9f\\xa3#\\xcf\\xcdp]\\x1b\\xa0\\xc9\\x93\\x0b\\xacU;\\x81\\xf12{E\\xea\\x1a54v\\x9d\\x96\\x87\\xb9\\x0b\\xa9\\xc0\\x02\\xe1\\x0c\\xc6\\xa5%\\xf3\\t\\xde@\\x11\\xe9\\x1a\\xbcr4=\\xdd\\xded\\xff\\x81\\x04\\x0e{\\x9fa\\xde\\x9e\\x15\\xfe\\xa1\\xf6\\xb42\\x99\\x01;\\x04\\x17\\x12N\\xafte\\xbdFx\\xa41\\xaf\\x1ca\\x98.8\\x80>\\x83\\xdf\\xc3\\x95\\x10\\xbaS\\xe9\\xe3\\xa1#\"\\x0bN\\xbb\\xb8n\\x95\\xe5\\x95he\\xd6\\xeeI|\\xba\\xf4\\x8c,\\xe8\\x8f\\x04U\\x18\\x8e\\x04\\x993\\xe3U\\x95\\xdf\\xe5\\xf1\\x99\\x04][\\x89\\x8fS\\xd1\\x02\\xf9M\\x08\\n\\x19\\xb8\\xb0\\x94\\x012\\xb1'\n",
      "Length: 224\n",
      "Embedding Efficiency: 4.214285714285714\n",
      "==============\n",
      "722Hey no I ad a crap nite was borin without ya 2 boggy with me u boring biatch! Thanx but u wait til nxt time il ave ya \n",
      "customizedTechniques-2\n",
      "Jga pq K cf c etcr pkvg ycu dqtkp ykvjqwv ac 2 dqiia ykvj og w dqtkpi dkcvej! Vjcpz dwv w yckv vkn pzv vkog kn cxg ac \n",
      "Length: 118\n",
      "customizedTechniques-3\n",
      "h",
      ">>i>>>>",
      ">>>>>P>>>",
      ">>>?>t>>>>>>",
      ">>",
      ">>\n",
      "Length: 118\n",
      "customizedTechniques-5\n",
      "·±pÀÁpp³¶p³pµÄ³ÂpÀ»Æ·pÉ³Åp´ÁÄ»ÀpÉ»ÆºÁÇÆp±³pp´Á¹¹±pÉ»Æºp¿·pÇp´ÁÄ»À¹p´»³Æµºqp¦º³ÀÊp´ÇÆpÇpÉ³»ÆpÆ»¾pÀÊÆpÆ»¿·p»¾p³È·p±³p\n",
      "Length: 118\n",
      "OpenSourceTechniques-6\n"
     ]
    },
    {
     "name": "stdout",
     "output_type": "stream",
     "text": [
      "b'\\x0fP\\xf99\\xcb>\\xb6\\xc9\\xe0\\xc9\\x90po\\x98\\xb8\\xffu\\x0b\\xbf\\xc55&d\\xc4\\xadrl\\xa5\\x0c\\xc4\\xea\\xe1\\x9ceZ\\x10\\xc9Mi\\xca\\xd6\\'\\xed\\xa6\\x9e;\\x8a\\x19/\\xbeF\\xa7\\xd6\\xf2e\\x17\\x11M]C\\xb8G\\xabViW=\\xee9\\x93V\\xf8y\\xc6\\xc6\\xa3\"\\x7f\\xe2X\\x83|\\x05\\x0b\\xf5fn\\x99+O\\x08\\x9c\\xe9\\xcf\\xd6X\\x80\\\\\\xa0\\xde\\xe5*`!b\\xd8\\xa4k\\xe1\\xb6\\xf1M\\xd2\\xb5\\xa3\\xaa\\xea\\x88a*\\x84c\\xa3\\xd1\\xd7A\\xbbo\\xa9\\xd3J/\\x0c\\xefxf\\x9a\\xd4\\x94}\\x1e\\x9b\\xaf\\xbc\\x14\\x83\\x00N\\xe1Y1or3|\\x0e\\xf5/\\x19\\'\\xb8\\xa9\\x12p\\x9c\\xfaL\\x9d\\xa5@\\x9c\\r,-g\\xbd\\xe4\\x1d/\\x8cA#\\x8f\\xe3\\x85\\xb9\\x17n_\\xf1\\x97\\xd5n\\x17T\\tn\\x08:\\x13w\\xbb\\x90\\xc8\\xefy\\x1b\\x87'\n",
      "Length: 208\n",
      "Embedding Efficiency: 4.538461538461538\n",
      "==============\n",
      "723U say leh... Of course nothing happen lar. Not say v romantic jus a bit only lor. I thk e nite scenery not so nice leh.\n",
      "customizedTechniques-2\n",
      "W uca ngj... Qh eqwtug pqvjkpi jcrrgp nct. Pqv uca x tqocpvke lwu c dkv qpna nqt. K vjm g pkvg uegpgta pqv uq pkeg ngj.\n",
      "Length: 119\n",
      "customizedTechniques-3\n",
      "u>>",
      "LLL>o>",
      ">>",
      ">L>n>>>>>>>>L>i>>",
      ">",
      ">",
      "",
      ">>>",
      ">",
      "L\n",
      "Length: 119\n",
      "customizedTechniques-5\n",
      "§pÅ³±p¾·º~~~p¡¸pµÁÇÄÅ·pÀÁÆº»À¹pº³ÂÂ·Àp¾³Ä~p ÁÆpÅ³±pÈpÄÁ¿³ÀÆ»µp¼ÇÅp³p´»ÆpÁÀ¾±p¾ÁÄ~ppÆº½p·pÀ»Æ·pÅµ·À·Ä±pÀÁÆpÅÁpÀ»µ·p¾·º~\n",
      "Length: 119\n",
      "OpenSourceTechniques-6\n",
      "b\"\\xf3/\\xff\\xef\\x82\\xccs\\x0e\\xc8O\\xb0\\xb5\\x80O\\xf2\\x84o\\xeb8\\xe9\\xdaA\\xe5\\x9a\\xc3\\x08\\xe3\\xfd\\xa4\\xd01)\\xbdD\\x8e\\xf7H\\x85\\xf3\\x18\\x1c\\xd3O\\xc6\\xf3;\\x0b1\\x96\\x1f\\xa3\\x12O\\xe9e\\xc7\\x17\\xa3.w\\x0fvW\\x0b\\xf7\\x80\\xaa\\xf3\\xf8\\xcc\\x9d;'\\x14\\x957\\xa2\\x15*\\x17\\xea\\xb0@\\xda\\xa3\\xbbqS\\xd5\\x14\\xf6S\\xe0\\x15\\x1d\\xc3\\xbb\\x820\\xb6\\x9f\\x14YX\\xa4\\xf6\\x9ab\\x87\\xfc\\x9f\\x0e\\xacQ\\xad\\xf6\\x8b\\xb5\\xb5\\xf3\\x7fx\\x1c\\x0cXK\\xa7\\xcbK\\x9c7\\xf11GQ\\x13\\x911\\xd5\\xd9\\xc3\\xe8\\x95\\xc4\\x85\\xf8R\\x97\\xefG\\xaf\\xdeV\\x9e\\x92\\xc1\\xb6\\xc3F\\r\\x0cvlQ\\xe7\\xa0&\\x8d\\x0b\\xc8a\\x10l\\xdb*_\\x87\\xc5%\\x06\\xc7\\xfa\\x12uq}\\xca\\x9b\\xad\\x96\\x86\\x02*\\x00\\xc0\\xabt;\\xd6\\xb8\\xb0$\\x89\\xdc\\xf1L\\xc6\\xba\"\n",
      "Length: 208\n",
      "Embedding Efficiency: 4.576923076923077\n",
      "==============\n",
      "724He says he'll give me a call when his friend's got the money but that he's definitely buying before the end of the week\n",
      "customizedTechniques-2\n",
      "Jg ucau jg'nn ikxg og c ecnn yjgp jku htkgpf'u iqv vjg oqpga dwv vjcv jg'u fghkpkvgna dwakpi dghqtg vjg gpf qh vjg yggm\n",
      "Length: 119\n",
      "customizedTechniques-3\n",
      "h",
      ">>",
      "E>",
      ">",
      ">>>",
      ">>",
      "E>>",
      ">",
      ">>>",
      "E>",
      "",
      ">>",
      "",
      ">",
      ">",
      ">>",
      ">",
      "",
      "\n",
      "Length: 119\n",
      "customizedTechniques-5\n",
      "·pÅ³±Åpº·w¾¾p¹»È·p¿·p³pµ³¾¾pÉº·Àpº»Åp¸Ä»·À¶wÅp¹ÁÆpÆº·p¿ÁÀ·±p´ÇÆpÆº³Æpº·wÅp¶·¸»À»Æ·¾±p´Ç±»À¹p´·¸ÁÄ·pÆº·p·À¶pÁ¸pÆº·pÉ··½\n",
      "Length: 119\n",
      "OpenSourceTechniques-6\n",
      "b'\\x8b\\xb8\\x9aW\\xe7\\xbf\\xef\\xf4\\xec)\\x99*\\x90\\xd0\\xa4z\\xe2d\\xa6\\x81\\xb4\\xad\\xb4\\x907|\\xad\\xe4\\x94\\x15\\x80$9W\"\\xb2\\xae*6\\x18\\xfd.\\xcf\\xaa\\x93\\x94?Fi\\xb4\\x1e\\x8fr\\x90\\x8a+IHN\\x90f\\x84\\x16`\\x9f\\xd7Q\\x0c\\x0fu=\\xabz\\x9e\\x17Pu\\xb3\\xd5X\\xc72\\x7f\\x909\\xf4y\\x84d`(K\\xde\\xb9l\\xd1\\xb9\\xc0p\\x15\\x9b\\x9b\\\\\\xfbI\\x9f\\x91\\x8b\\x04\\t}%\\xe5p\\xe0\\xbe\\x01\\xe7\\xbc\\x869\\xae+_\\xbb\\xc7\\xccIG\\xa7\\xf2\\xda)P\\xb6\\xc00\\xeb\\x08P\\x9bDT\\x19\\x17\\t\\xc5F\\xad\\xc2\\xa4\\xccQ\\xbc\\x1al+\\xdf\\xfc\\xc6]\\x18!\\xca\\x9a\\xde\\xa5\\xa1PdZj]\\x1b\\x9e\\xda\\xf2*kIC/\\x83=\\xd6\\xc2K\\xed\\xdb\\x05/\\xe6RU\\xf9N\\xa2h\\n=\\xe5\\x12\\xa0j\\xe5f\\xb7\\x82\\x8dc/\\x12\\x92\\xee\\xd8\\x8b\\x95\\\\\\xba?\\x1eK\\xbf\\xf5'\n",
      "Length: 224\n",
      "Embedding Efficiency: 4.25\n",
      "==============\n",
      "725Hmmm... Guess we can go 4 kb n power yoga... Haha, dunno we can tahan power yoga anot... Thk got lo oso, forgot liao...\n",
      "customizedTechniques-2\n",
      "Jooo... Iwguu yg ecp iq 4 md p rqygt aqic... Jcjc, fwppq yg ecp vcjcp rqygt aqic cpqv... Vjm iqv nq quq, hqtiqv nkcq...\n",
      "Length: 119\n",
      "customizedTechniques-3\n",
      "hLLL>g",
      ">",
      ">>>R>>>",
      ">LLL>hJ>>",
      ">>>",
      ">>LLL>t>>>J>>LLL\n",
      "Length: 119\n",
      "customizedTechniques-5\n",
      "¿¿¿~~~pÇ·ÅÅpÉ·pµ³Àp¹Ápp½´pÀpÂÁÉ·Äp±Á¹³~~~p³º³|p¶ÇÀÀÁpÉ·pµ³ÀpÆ³º³ÀpÂÁÉ·Äp±Á¹³p³ÀÁÆ~~~p¦º½p¹ÁÆp¾ÁpÁÅÁ|p¸ÁÄ¹ÁÆp¾»³Á~~~\n",
      "Length: 119\n",
      "OpenSourceTechniques-6\n",
      "b\"|j4\\xcbU\\x12\\xf16\\xf8\\xc0Co\\xcf\\xd6\\xe3\\x93fD\\xc1\\\\\\xc8\\xe1\\xbfYBm\\x00\\x8fj\\xcc\\xf93\\x16\\x14\\xb4\\xaf\\xe2\\xb1\\xc6\\x80\\x9a\\x86\\xdf\\xf4\\xc1\\x8e\\xacC}qX6\\x9eu`\\xb4b\\x01^a\\xfa~w\\xc2#\\xf3\\xb4l]\\xaet.\\xee\\x03\\xea\\xec\\xa6fJ\\xd9\\x07aS\\xf0\\x12o\\xd4\\xcf\\x89\\xf1B\\r\\x1em\\x07\\xfc%\\x89\\x89p\\xcew\\x90S\\xb1r\\x1a\\x0e\\x1e6\\x94\\xd4M\\xe2\\x9b\\xd4\\xcd&\\xd8\\xc2\\xd8\\xf8A\\x9eJ\\xd5O\\x9e@S\\xe5~\\xc1\\xa0\\x88\\x8a\\x18\\xc5\\xa3\\xba(/\\xc2\\xed\\xa4!\\xbcv(_i:iiz|$R\\xc9\\xf91\\x8e\\x9b\\xbeTK>\\xa9\\x98v\\xea7%\\xc2\\x0f%\\x8f\\x06_]yQ\\x05!\\xfc\\xb3\\xba\\x10|\\xf7\\xe6\\xce\\xed'L\\x0eP\\xd3HO<\\x05h\\xf6fX\\xc1\\xa0\"\n",
      "Length: 208\n",
      "Embedding Efficiency: 4.576923076923077\n",
      "==============\n",
      "726I'm gonna say no. Sorry. I would but as normal am starting to panic about time. Sorry again! Are you seeing on Tuesday?\n",
      "customizedTechniques-2\n",
      "K'o iqppc uca pq. Uqtta. K yqwnf dwv cu pqtocn co uvctvkpi vq rcpke cdqwv vkog. Uqtta cickp! Ctg aqw uggkpi qp Vwgufca?\n",
      "Length: 119\n",
      "customizedTechniques-3\n",
      "iE>>>L>sL>i>>>>>>>>>>",
      "L>s>?>a",
      ">>",
      "",
      ">>t",
      "]\n",
      "Length: 119\n",
      "customizedTechniques-5\n",
      "w¿p¹ÁÀÀ³pÅ³±pÀÁ~p¥ÁÄÄ±~ppÉÁÇ¾¶p´ÇÆp³ÅpÀÁÄ¿³¾p³¿pÅÆ³ÄÆ»À¹pÆÁpÂ³À»µp³´ÁÇÆpÆ»¿·~p¥ÁÄÄ±p³¹³»ÀqpÄ·p±ÁÇpÅ··»À¹pÁÀp¦Ç·Å¶³±\n",
      "Length: 119\n",
      "OpenSourceTechniques-6\n",
      "b'x}S*\\xe1\\xcc+g\\x84k:\\xc6@\\x8a`\\xc5^\\xe1\\x84\\xc2_S\\xa6/k!\\x96\\x19\\x9c\\x05\\x7f\\xcb\\xdb\\xab\\xd6\\x81yv\\x04`\\xc0\\nD\\xa3m\\x9a\\xc7+\\xf3%\\xcaGD\\x96\\xa7\\x9d]\\xe2M9\\x8c\\xd3.a\\xb6)\\xae\\x9f\\xafPN\\n\\xa4ws\\x1b\\xab\\xed\\x0bX\\x1aB\\x05\\xff\\x8b\\xd8\\x08\\x94\\x91\\xe8\\x02C]\\xb1*C4s/w_\\xb8\\x83\\x11(`\\x87y\\xba\\xf4\\x19?\\xa80\\x84\\x05\\xdb\\x16wg\\x1c3\\xc4.06\\x90\\xbd=\\xb6\\x1c\\xde\\x1d\\xaa\\xb8\\xa1P\\x01\\xc8U\\xd1M\\xfe\\xf1\\xfe\\xad\\xa0@\\x83\\xfb\\xb5\\xb1\\xf29[\\x8c]u\\xd2\\x7f|\\xe6X\\x06\\xe9\\x9eC\\xc6??Y\\xa5{8*\\xc2t\\\\\\xbc\\xa10}\\x93\\x81\\xce\\xe3)dQ\\xe3\\xc3Z\\xdd\\xd6C9d\\x90\\x0c\\xa6\\xd0T\\r\\xf2\\xa5\\xd7\\x1c\\xd5M\\x1d\\xa1p\\xd2\\xabN\\xec\\x02\\x14\\xc5\\x8aP[\\x02B'\n",
      "Length: 224\n",
      "Embedding Efficiency: 4.25\n",
      "==============\n",
      "727SMS. ac Sptv: The New Jersey Devils and the Detroit Red Wings play Ice Hockey. Correct or Incorrect? End? Reply END SPTV\n",
      "customizedTechniques-2\n",
      "UOU. ce Urvx: Vjg Pgy Lgtuga Fgxknu cpf vjg Fgvtqkv Tgf Ykpiu rnca Keg Jqemga. Eqttgev qt Kpeqttgev? Gpf? Tgrna GPF URVX\n",
      "Length: 120\n",
      "customizedTechniques-3\n",
      "smsL>>sX>t",
      ">n",
      ">j",
      "",
      ">d",
      ">>",
      ">d",
      ">r",
      ">w>>i",
      ">h",
      "L>c",
      ">>i",
      "]>e]>r",
      ">end>sptv\n",
      "Length: 120\n",
      "customizedTechniques-5\n",
      "¥¥~p³µp¥ÂÆÈp¦º·p ·Ép·ÄÅ·±p·È»¾Åp³À¶pÆº·p·ÆÄÁ»Æp¤·¶p©»À¹ÅpÂ¾³±pµ·pÁµ½·±~pÁÄÄ·µÆpÁÄpÀµÁÄÄ·µÆpÀ¶p¤·Â¾±p p¥¢¦¨\n",
      "Length: 120\n",
      "OpenSourceTechniques-6\n",
      "b'\\xc4i\\n\\x14qn\\x94+\\xdc\\x10M\\x89Z\\x12\\xdd\\xbb%\\x9c3@FW\\\\\\xae;,R\\xa2\\xabV\\x19k\\xa9\\xab\\x1e\\x0fI\\x97\\x95\\xb5\\xbc\\x98_C\\x81\\xa7\\x80f\\xfc\\x16\\x00-|\\xc6I\\x93\\xf8w\\x97\\xd59M/\\x99\\xbdT\\x9e\\x9a%2\\xd8\\xe7\\x86{\\xb2\\xb3\\xed\\xb5Z\\r\\xd7{\\xe4\\x87SZ\\xa0!\\xb8 e\\xe7\\tm\\x17\\x1d7\\x149\\xb1_|*\\x92\\xe94\\x1a\\xafR\\x17\\xe7C\\x18}\\xe6e\\xcb\\xf9\\xbd\\xc4jN\\xc2$\\xa8\\x1f=A\\xc1\\x91\\x88\\xf7 \\xa4\\xfdAu\\x84\\xd0\\x03),\\x80\\xa3{;;Gw\\x87\\x0f\\x1e\\x8e\\xb9\\x83S\\x98\\xa5\\x1aH\\x116\\x98P(\\x98\\xaf\\xf8\\x0b\\xc7\\x9bOS\\xbb\\xea\\xb5G\\xe1\\xab\\xaa\\x08\\xc2\\xc5\\xf6\\xcd\\xdc\\xff.\\x87\\xe1Dr\\xec`\\x87\\xbb\\\\s\\xaf\\xdc\\x94\\xa5$\\xf2X\\x85>\\x9f\\xcb}E\\xb8\\xa74\\\\+\\xc2\\xe2;\\x95\\xa8\\xd8i^'\n",
      "Length: 224\n",
      "Embedding Efficiency: 4.285714285714286\n",
      "==============\n",
      "728Sorry man my account's dry or I would, if you want we could trade back half or I could buy some shit with my credit card\n",
      "customizedTechniques-2\n",
      "Uqtta ocp oa ceeqwpv'u fta qt K yqwnf, kh aqw ycpv yg eqwnf vtcfg dcem jcnh qt K eqwnf dwa uqog ujkv ykvj oa etgfkv ectf\n",
      "Length: 120\n",
      "customizedTechniques-3\n",
      "s>>>E>>>i>J>>>>",
      ">>",
      ">>>>i>>>",
      ">>>>",
      ">\n",
      "Length: 120\n",
      "customizedTechniques-5\n",
      "¥ÁÄÄ±p¿³Àp¿±p³µµÁÇÀÆwÅp¶Ä±pÁÄppÉÁÇ¾¶|p»¸p±ÁÇpÉ³ÀÆpÉ·pµÁÇ¾¶pÆÄ³¶·p´³µ½pº³¾¸pÁÄppµÁÇ¾¶p´Ç±pÅÁ¿·pÅº»ÆpÉ»Æºp¿±pµÄ·¶»Æpµ³Ä¶\n",
      "Length: 120\n",
      "OpenSourceTechniques-6\n",
      "b']\\x19!\\xbba\\x9af\\xfcQ\\xde\\xdb\\xa2$\\xc1\\xd6aL\\x83\\x1c0\\x11\\xf4\\xb7\\x92\\x07\\xa9\\xbfgh\\x1a\\xa5\\xd4\\xf3\\x08O\\xf5!\\xb5\\xb7e\\xec\\xb2]\\x02,\\x1e\\xbf\"v\\x9e#S\\xab\\x06T\\xaa\\tW{\\xc7j\\xbb\\x1d\\x17\\xbeG\\x01\\xdbG\\x9b\\xf2\\xdf\\x0f\"V\\xdb\\xca\\xe7iym\"\\xbe\\xaa\\x82\\xb3E\\xdb\\xf1\\x0bHF\\xa7Sn<}n\\rbI\\xab\\xeb\\xfb\\xc0/\\x97>=\\xa7\\xd7%\\xd9m\\x9bAj\\x82\\xe4\\xd6\\x88\\xe3\\xa0\\x9dt\\xdd\\x11\\xa8\\xd6xZ&eJ\\x1d\\xc5\\x06\\xec\\x17\\x9c\\xba\\xefr\\xdf\\x88\\xd6\\x0e\\x11\\xce\\xc7\\xd4\\xe6\\x14\\x81\\xbc@%\\xe3g\\xf4\\x9c\\xb0\\xad\\x81\\x8d\\x8fv\\xb9\\xd72\\x14\\xe5\\x10\\xe5\\xf5\\x87\\xb9\\xe8\\rL0\\x1eKW\\xb7X\\xbb6;*\\xfe8\\x90\\xe0\\xad\\r\\x96\\x7f\\xce\\xfd{\\xbd\\xc9\\x94.\\xcd\\x7f.\\xaf\\x0b..\\x91\\x7f\\xb0y]h\\x9b\\xae\\xca2\\xc9\\x97'\n",
      "Length: 224\n",
      "Embedding Efficiency: 4.285714285714286\n",
      "==============\n",
      "729Sure, if I get an acknowledgement from you that it's astoundingly tactless and generally faggy to demand a blood oath fo\n",
      "customizedTechniques-2\n",
      "Uwtg, kh K igv cp cempqyngfigogpv htqo aqw vjcv kv'u cuvqwpfkpina vcevnguu cpf igpgtcnna hciia vq fgocpf c dnqqf qcvj hq\n",
      "Length: 120\n",
      "customizedTechniques-3\n",
      "s",
      "J>>i>",
      ">>",
      "",
      "",
      ">>>>E>>",
      ">>",
      "",
      ">>>",
      ">>>>\n",
      "Length: 120\n",
      "customizedTechniques-5\n",
      "¥ÇÄ·|p»¸pp¹·Æp³Àp³µ½ÀÁÉ¾·¶¹·¿·ÀÆp¸ÄÁ¿p±ÁÇpÆº³Æp»ÆwÅp³ÅÆÁÇÀ¶»À¹¾±pÆ³µÆ¾·ÅÅp³À¶p¹·À·Ä³¾¾±p¸³¹¹±pÆÁp¶·¿³À¶p³p´¾ÁÁ¶pÁ³Æºp¸Á\n",
      "Length: 120\n",
      "OpenSourceTechniques-6\n",
      "b'\\xf3\\xda\\x92\\xa6\\x04J\\xe7\\xa4\\x9bBY]\\x9e\\x858ABX\\xfd\\xaas\\x8a\\x8e\\xdfO\\xe0\\xb5\\x92\\xd0\\xf5tD\\xd9\\r\\xb8\\x9d\\x8e\\x05\\xb4\\xcf\\xc5EY\\xf2\\x154*\\x86\\xa3\\x08\\xc6\\'\\x00A\\xeaB\\xb8k\\xc0P\\xcatQ\\xf3\\xaa\\r\\x14\\x91G}\\xcdVNC\\xde|&\\x82\\x89\\x9au\\x87\\x84\\xba\\xd0C.\\xebzi\\xcbi\\x14\\x16-\\xdb\\xb9\\x00\\xc8y\\xee\"P\\xf0+\\xb6@o\\xa71\\x00\\x03>\\xb2\\xca[\\xda\\xd2\\xeb\\xbb\\xc2\\xcf\\xce?\\xe6\\xfbTMa\\x16\\x94\\xf5\\x155\\x14\\xb7\\x88\\xd1b\\xef\\x07]\\xe2x4,z\\xa5\\xf7\\x02.u\\xf3\\x88$cb\\x14\\xc2\\xe9\\x9a%\\xbbl\\xbd\\xfeY\\xf1,\\x08|4\\xf1\\xed\\x04\\x1e\\xcc\\x0c\\xc3{\\xaa\\xc5\\x9an\\r\\xe4[SG\\x8b\\x1b\\xbdm\\xe2\\xcf\\x02\\xf5\\xd4\\x13b\\xbc=\\xad\\xb0oq\\xc7B\\x8a\\xfa5\\xe3\\x10\\xbc8=\\xbd\\xf8&\\r\\xb1\\xbc\\x08\\x94'\n",
      "Length: 224\n",
      "Embedding Efficiency: 4.285714285714286\n",
      "==============\n",
      "730For real when u getting on yo? I only need 2 more tickets and one more jacket and I'm done. I already used all my multis.\n",
      "customizedTechniques-2\n",
      "Hqt tgcn yjgp w igvvkpi qp aq? K qpna pggf 2 oqtg vkemgvu cpf qpg oqtg lcemgv cpf K'o fqpg. K cntgcfa wugf cnn oa ownvku.\n",
      "Length: 121\n",
      "customizedTechniques-3\n",
      "f>",
      ">",
      ">>",
      ">>]>i>>",
      "",
      ">P>",
      ">",
      ">>",
      ">",
      ">",
      ">>iE>",
      "L>i>",
      ">",
      ">>>L\n",
      "Length: 121\n",
      "customizedTechniques-5\n",
      "ÁÄpÄ·³¾pÉº·ÀpÇp¹·ÆÆ»À¹pÁÀp±ÁppÁÀ¾±pÀ··¶pp¿ÁÄ·pÆ»µ½·ÆÅp³À¶pÁÀ·p¿ÁÄ·p¼³µ½·Æp³À¶pw¿p¶ÁÀ·~pp³¾Ä·³¶±pÇÅ·¶p³¾¾p¿±p¿Ç¾Æ»Å~\n",
      "Length: 121\n",
      "OpenSourceTechniques-6\n",
      "b'h\\xea\\xdfuo\\x116Z[\\x9e\\x0b\\xe1\\x14\\x1d\\xeb\\x88\\xc8\\x1c\\xc9\\x82\\xe0\\x86\\x16iUQ\\x16\\x8dV\\xf5\\xc5\\x96;\\xafS\\x95!\\xfcP2\\x87\\xf5d\\x1e\\xb2Ac\\x97\\xaf\\x95\\xa5\\xf5\\x05P\\xebSwt\\xd8\\xbei\\x99\\x17\\xce\\xe6\\x9en\\x9b,y\\xb5\\x00\\xe3\\xed\\xf9x\\x9d\\xfa\\x08g\\xd5\\xe2]\\x01\\x9b\\xac\\x16\\xd0\\xb8_\\xbb\\x92cV\\x85\\xf6S\"\\xbe\\x05$\\x00a\\xd7E)\\xa4\\xc7\\xff\\x9a)\\xc22r\\xb6d\\xb3/B\\xf4\\x92\\xaeJ2\\x9de\\xb6\\xed \\xb7\\xfbR\\xf9d\\xc2o\\xe9\\xb1U(a\\x04\\xcdGX\\x179V\\xe8\\x96i)8\\xfc\\xfdN\\xed\\xc8\\xb0\\x8d\\x10\\x15\\x8e\\xe3`\\x9d\\x0c\\xb2\\xf6`\\x9eH1\\xb1!\\xbb\\'\\xce\\x8a/\\x1b\\x03\\x8f\\xd0\\x00()(\\xfa\\xe9]\\xc9\\x94\\xa1wN\\xd3\\xfc\\xb1\\x9b\\xe4\\x9e\\xeb\\xa8f\\x9a\\xea\\x18\\x05eIP\\xedCS#S\\x0es\\x821\\xb0\\x84\\x02'\n",
      "Length: 224\n",
      "Embedding Efficiency: 4.321428571428571\n",
      "==============\n",
      "731Hey I am really horny want to chat or see me naked text hot to 69698 text charged at 150pm to unsubscribe text stop 69698\n",
      "customizedTechniques-2\n",
      "Jga K co tgcnna jqtpa ycpv vq ejcv qt ugg og pcmgf vgzv jqv vq 69698 vgzv ejctigf cv 150ro vq wpuwduetkdg vgzv uvqr 69698\n",
      "Length: 121\n",
      "customizedTechniques-3\n",
      "h",
      ">i>>",
      ">>>>>>",
      "",
      ">",
      ">",
      ">",
      ">>>TWTWV>",
      ">",
      ">>OSN>>",
      ">",
      ">>TWTWV\n",
      "Length: 121\n",
      "customizedTechniques-5\n",
      "·±pp³¿pÄ·³¾¾±pºÁÄÀ±pÉ³ÀÆpÆÁpµº³ÆpÁÄpÅ··p¿·pÀ³½·¶pÆ·ÊÆpºÁÆpÆÁppÆ·ÊÆpµº³Ä¹·¶p³Æp",
      "Â¿pÆÁpÇÀÅÇ´ÅµÄ»´·pÆ·ÊÆpÅÆÁÂp\n",
      "Length: 121\n",
      "OpenSourceTechniques-6\n",
      "b'.\\x03\\x88\\xe05\\xcb#p\\xf1v\\x81;\\xb0CZ\\x92\\xbf\\xec{\\xba\\xee\\xa4\\xa9\\x1e\\x9d\\xc2V\\xae\\x904sb\\xa8\\x11\\x85\\x81\\x9e\\xb6:\\xa4\\xb1\\xa6\\x18\\xeaO%\\x8e8NL\\xac\\xf0\\x95$\\x7f\\xdf\\xf9\\x9e\\xcd\\x01D\\x0e\\x1d\\xfb\\xc3I\\xe4\\xd1\\x04hY\\r\\xc1-\\xc4\\x05q\\xe2\\xcdn\\xa4$\\xe5.\\xd8\\x06yP\\xea\\xd6$\\xa8\\xff\\xaeV\\xc8\\\\\\xe14\\xd1\\xd6,\\xe3\\x8f\\x9eK\\xae\\x0c~V\\xb9\\x12\\xc79\\xa2z\\xbb?&R\\xdd\\xfc\\xc6\\x01\\xffL6I\\x07@\\x9d+\\xddg\\xa7\\xda\\x82\\xf9\\x1b\\x05Z\\xad#VT\\xffc\\tn@w\\xfb\\xee\\x95 cP\\xc9\\x85a}\\x18h\\x044\\xff\\xfe\\xda\\xceYI\\xb2\\xdan\\x0cT2\\xeeY\\xbeX\\xa7\\x89\\xe6k \\xa9!\\xc1\\x13hqo\\xe4#\\xe6Z.\\x86v\\x9e\\x07\\x87\\xda!\\xfa\\x96\\x89\\xe3\\xa3\\x073\\x85\\xd8%L\\xbd!\\xac\\xf4;I`2'\n",
      "Length: 224\n",
      "Embedding Efficiency: 4.321428571428571\n",
      "==============\n",
      "732Yeah I think my usual guy's still passed out from last night, if you get ahold of anybody let me know and I'll throw down\n",
      "customizedTechniques-2\n",
      "Agcj K vjkpm oa wuwcn iwa'u uvknn rcuugf qwv htqo ncuv pkijv, kh aqw igv cjqnf qh cpadqfa ngv og mpqy cpf K'nn vjtqy fqyp\n",
      "Length: 121\n",
      "customizedTechniques-3\n",
      "_",
      ">i>>>>E>>",
      ">>>>J>>>",
      ">>>>",
      ">",
      ">>>iE>>\n",
      "Length: 121\n",
      "customizedTechniques-5\n",
      "·³ºppÆº»À½p¿±pÇÅÇ³¾p¹Ç±wÅpÅÆ»¾¾pÂ³ÅÅ·¶pÁÇÆp¸ÄÁ¿p¾³ÅÆpÀ»¹ºÆ|p»¸p±ÁÇp¹·Æp³ºÁ¾¶pÁ¸p³À±´Á¶±p¾·Æp¿·p½ÀÁÉp³À¶pw¾¾pÆºÄÁÉp¶ÁÉÀ\n",
      "Length: 121\n",
      "OpenSourceTechniques-6\n",
      "b'U-\\x9c\\x8e\\xdf\"\\x01X\\xb7\\x91Y\\xa3G\\x12Y\\xee){5\\xee\\x7f<\\xb5Y\\xd9Z\\x1e!\"\\x80@M\\x0e\\xf9\\xb1\\x9d\\x01H\\x9d\\xcd\\xefHg{\\xad\\xc4$\\xed\\xb0W\\x92<d@\\xd05\\xe2Y\\xe16h\\x1c\\x9cv?\\x04\\x91\\xd1\\xe9\\xa4,#\\x17\\xbah\\x14#\\x0b\\xf5\\x0bk\\xc8\\xb0SFC\\xa3\\x94\\x17\\x0cu\\xcfN\\xeb&\\x01\\xa7\\xaa\\xe3\\x0c\\xcduN\\n\\xd7\\x85\\xb0\\xfd\\xfd\\x8ePEY\\x01\\x13\\xc1\\n\\xeaO_\\xd3\\xc4\\\\\\xe7\\x7f\\xc6\\x08\\x13QL\\t\\xe4\\xc3u\\x8c\\xd3\\x9db\\xcd\\x8a\\x92\\xff\\xc3\\xe06\\xebE\\x02]\\xd9\\xae_\\x1c\\xc7I\\'k\\xf8\\xf4G(\\xd6 b\\xb9\\xea\\x0f>\\xc3C\\x1b\\x16\\xca\\xe1\\x90a.\\xaf\\xa3\\xe5\\x94\\xe1n\\xbe\\x8c\\xda\\xd4\\x94\\x8b\\x06\\xbd\\xb5[$\\xd8.^\\xf2\\xc3!D\\xeb\\xa8O\\x7f@:F&\\x10bU\\x82\\xb6W\\xc9\\xa7\\x16z\\xc7\\xff\\xad\\xe4\\xfd'\n",
      "Length: 224\n",
      "Embedding Efficiency: 4.321428571428571\n",
      "==============\n",
      "733Book which lesson? then you msg me... I will call up after work or sth... I'm going to get specs. My membership is PX3748\n",
      "customizedTechniques-2\n",
      "Dqqm yjkej nguuqp? vjgp aqw oui og... K yknn ecnn wr chvgt yqtm qt uvj... K'o iqkpi vq igv urgeu. Oa ogodgtujkr ku RZ3748\n",
      "Length: 121\n",
      "customizedTechniques-3\n",
      "b>>",
      "]>",
      ">>>",
      "LLL>i>>>>",
      ">>>LLL>iE>>>",
      ">",
      "L>m>",
      "",
      ">>pxQURV\n",
      "Length: 121\n",
      "customizedTechniques-5\n",
      "ÁÁ½pÉº»µºp¾·ÅÅÁÀpÆº·Àp±ÁÇp¿Å¹p¿·~~~ppÉ»¾¾pµ³¾¾pÇÂp³¸Æ·ÄpÉÁÄ½pÁÄpÅÆº~~~pw¿p¹Á»À¹pÆÁp¹·ÆpÅÂ·µÅ~p±p¿·¿´·ÄÅº»Âp»Åp¢ª\n",
      "Length: 121\n",
      "OpenSourceTechniques-6\n",
      "b'\\xf1o8\\xe2\\xd6\\x9d\\xb6\\xa8\\x94,\\x04\\x94B\\n\\xb3\\x93\\xf5\\xa3\\xb9\\xfb\\xa0\\x93$\\xa7\\x9f;FXv\\xe9\\x90\\x8b\\x1d\\x01\\xc6A<\\xe8\\xc3k[\\xb3\\xe6\\xda\\x9c\\xfc\\x8ah\\x93}\\xdbQ\\nqff\\x9c#\\xdf\\x999\\xdd\\x94\\xf7\\x80\\xf5\\xd5\\x89\\x10\\xd5?\\xe4\\xdf\\xc9\\xd7[\\x84\\xc7\\xf9Y\\x19z\\x9b\\xf2\\x9fDfI\\xdda;\\x1e\\xff\\x0f\\xad\\xda\\xd0\\\\E\\xfd\\xb4\\x92\\xbfv\\x10\\x16\\xf87\\xf7\\xac\\xad\\xa7\\xefaW\\x91&2H\\xb4\\x7fa\\x1b\\xec\\xba\\xb7w\\xc0\\xda\\x81\\x9c\\xc3\\xdex)\\x1d\\xea\\x13\\x1f\\xa7\\x0f\\\\\\x89\\xcb\\xf2\\xee\\xb7\\xa7\\xfc\\x84S\\xe6\\xe8\\xb7\\x1dm\\x13o\\xa5\\x97q\\xc7.\\x08\\xf4\\x06`K\\xa5\\xea\\xd0\\xb2\\xeb\\x04\\xa6\\xd3\\xaa\\x9d\\t\\x8e \\xcas\\xed\\x07\\xf5[\\xe5\\n\\xa1\\xe7T\\xb3\\xcb\\x95zJ\\x9fHj\\xae\\\\\\xbd\\xddZ\\x98\\xd3\\xc4$7z\\xb0\\xf2\\xb4H\\xf0\\xf3J\\x8b6\\xd2\\xe1*\\xa6'\n",
      "Length: 224\n",
      "Embedding Efficiency: 4.321428571428571\n",
      "==============\n",
      "734\\Hi its Kate it was lovely to see you tonight and ill phone you tomorrow. I got to sing and a guy gave me his card! xxx\\\"\"\n",
      "customizedTechniques-2\n",
      "\\Jk kvu Mcvg kv ycu nqxgna vq ugg aqw vqpkijv cpf knn rjqpg aqw vqoqttqy. K iqv vq ukpi cpf c iwa icxg og jku ectf! zzz\\\"\"\n",
      "Length: 122\n",
      "customizedTechniques-3\n",
      "zh>>k",
      ">>>",
      ">>",
      "",
      ">>>>>",
      ">>L>i>>>>>>>",
      ">",
      ">>?>z@@\n",
      "Length: 122\n",
      "customizedTechniques-5\n",
      "¬»p»ÆÅp³Æ·p»ÆpÉ³Åp¾ÁÈ·¾±pÆÁpÅ··p±ÁÇpÆÁÀ»¹ºÆp³À¶p»¾¾pÂºÁÀ·p±ÁÇpÆÁ¿ÁÄÄÁÉ~pp¹ÁÆpÆÁpÅ»À¹p³À¶p³p¹Ç±p¹³È·p¿·pº»Åpµ³Ä¶qpÊÊÊ¬rr\n",
      "Length: 122\n",
      "OpenSourceTechniques-6\n",
      "b'x\\xccY\\xddd\\xc6\\xb3a\\x07\\xe0]\\xea}\\xce\\x18\\xb23\\xf7\\x85\\xa0\\xe6:(\\x83\\xfa\\x15R@\\xd4\\x05\\x94\\xa6\\xd0\\xab\\x8e\\xd3\\x9b+\"\\xd1\\n\\x84k\\xc8\\x04\\xbf\\xf8\\x14i%\\x19\\xf9\\x89\\x05\\x1f\\xdd\\xffG~\\x9d\\x8c\\xef\\xe2`\\xa36i\\xe5-\\x1b\\xa4\\xeei\\x87&\\x00\\x8e\\xc0\\xd3\\x91\\xab\\x93\\xde\\xd6\\x1c\\x00yM-\\xcb\\xfe\\xa1\\xda\\x17m\\nQ\\xf4\\x1f\\x9a&\\xb9p_\\xd15?\\x94v\\xee\\x05\\x94F\\x1fn\\x021\\x0f\\xad\\xe7E}\\xf8x#)\\xe4\\xb4:\\xc6`\\xf4\\x01\\x93\\x04\\xbd#a\\xa5\\xc1:7\\xaf\\x06\\x89\\x861:\\xa3o\\xef\\x06\\xbe\\xd6q\\xb3\\x96\\xb2\\x89^\\xb5\\xce\\x02\\x84l\\x97@\\xc9$DO\\xd1w\\x0e3\\x034\\xebbE\\xd5W\\xeb|\\xfb:@,\\x96\\xb7v\\xa0\\t\\x0e\\x9b\\xe8\\xa6\\xca\\x80Qg\\xfc\\xcb\\t\\xd1\\xae(\\xe3\"NQ\\xdb\\xbe5M\\xd7\\xe7^\\x12\\xa5\\x7f|\\xa4D'\n",
      "Length: 224\n",
      "Embedding Efficiency: 4.357142857142857\n",
      "==============\n",
      "735Sorry i now then c ur msg... Yar lor so poor thing... But only 4 one night... Tmr u'll have a brand new room 2 sleep in...\n",
      "customizedTechniques-2\n",
      "Uqtta k pqy vjgp e wt oui... Act nqt uq rqqt vjkpi... Dwv qpna 4 qpg pkijv... Vot w'nn jcxg c dtcpf pgy tqqo 2 unggr kp...\n",
      "Length: 122\n",
      "customizedTechniques-3\n",
      "s>>>",
      ">>>LLL>_>>>>LLL>b>>R>",
      ">LLL>t>E>",
      ">>>",
      ">>P>",
      "",
      ">LLL\n",
      "Length: 122\n",
      "customizedTechniques-5\n",
      "¥ÁÄÄ±p»pÀÁÉpÆº·ÀpµpÇÄp¿Å¹~~~p³Äp¾ÁÄpÅÁpÂÁÁÄpÆº»À¹~~~pÇÆpÁÀ¾±ppÁÀ·pÀ»¹ºÆ~~~p¦¿ÄpÇw¾¾pº³È·p³p´Ä³À¶pÀ·ÉpÄÁÁ¿ppÅ¾··Âp»À~~~\n",
      "Length: 122\n",
      "OpenSourceTechniques-6\n",
      "b\"\\xb8hJ;Y\\xce\\x86\\\\\\xf4\\xb5\\xfd\\xe2\\xa3\\xf73\\xa4\\x9c/\\xbd\\xbe\\xd9jGI7E\\x94\\xeb\\x19\\x10BA79-x\\xe3'\\x9a\\xfeJ\\xc9\\xcf\\xe9Y\\xc6\\x13\\xf9@\\x1d\\x0c\\xd1\\xbc\\xf2\\x95`\\xe4[\\xa7\\xd0\\x14[sYh\\xee\\x02\\xb9\\xc4h\\xfdpX#\\xb4\\x12\\\\\\x92V\\xf7\\xf6\\x10\\x15\\xee\\xdf#Knw\\x84V\\x89J\\xe1\\xda\\xda\\x03\\x9f\\x1d;Y\\xbd\\x00\\t\\x977\\xa5\\xb8\\xb8\\xfcnWz\\x82{\\x03}>z\\xef?\\xa7F_\\x88\\xe0\\xf6^\\x8az\\xa7!\\xb2~\\xcd\\x95!2\\x81\\xad\\xd9V\\x91\\xdd\\xea\\xaad\\xcf\\xf2|\\x10\\x7f\\xbe\\xb9\\x12\\x07\\x16\\xadk\\xd4u\\x00\\x14\\xc9V\\x8c\\xfd\\x1d\\x85\\x08=M~\\xac\\xe5y}\\xcd\\x9cA\\xd2?\\x9f\\xb2m\\xb1\\xcb<\\xd2\\xe3\\x1f\\xb6\\xd5\\x01\\xdf@\\xba\\x16\\x0c\\xf3\\xb7l\\x90c\\x15\\x94\\x18\\xd3\"\n",
      "Length: 208\n",
      "Embedding Efficiency: 4.6923076923076925\n",
      "==============\n",
      "736Yup... Ok i go home look at the timings then i msg Ì_ again... Xuhui going to learn on 2nd may too but her lesson is at 8am\n",
      "customizedTechniques-2\n",
      "Awr... Qm k iq jqog nqqm cv vjg vkokpiu vjgp k oui L_ cickp... Zwjwk iqkpi vq ngctp qp 2pf oca vqq dwv jgt nguuqp ku cv 8co\n",
      "Length: 123\n",
      "customizedTechniques-3\n",
      "_LLL>o>>>",
      ">>>",
      ">>",
      ">>>j}>LLL>x>>>",
      ">>P>>>>",
      ">",
      ">>>V\n",
      "Length: 123\n",
      "customizedTechniques-5\n",
      "ÇÂ~~~p¡½p»p¹ÁpºÁ¿·p¾ÁÁ½p³ÆpÆº·pÆ»¿»À¹ÅpÆº·Àp»p¿Å¹p¯p³¹³»À~~~pªÇºÇ»p¹Á»À¹pÆÁp¾·³ÄÀpÁÀpÀ¶p¿³±pÆÁÁp´ÇÆpº·Äp¾·ÅÅÁÀp»Åp³Æp³¿\n",
      "Length: 123\n",
      "OpenSourceTechniques-6\n",
      "b\"\\x9d\\xc1\\x1a\\xdc\\xf7\\xd1\\x1a+\\xd2\\x87\\xe3\\x8a\\x05b\\xdb\\xd7\\xc5\\toJ\\x98\\xb7=\\x05\\xdb\\x00SN\\x11\\xb1\\xf6\\xb3P\\x01bT8V\\xb6\\xa5\\xc6v\\xd88\\xef{\\x15x\\x049]\\xfc\\xb1*Ch\\xbf\\xbf\\x08\\x92X&fRR\\x9aM\\xd3\\xf09v\\xc2\\x01(\\x82\\x1c\\xcce \\xf3\\xca \\xa2\\xca\\x069?cEi\\x01\\xd7\\x01Zva\\x8d\\x9d\\xe5\\xb42\\x9c\\x15%\\xbeLK\\xccn|\\x84_tI\\x81\\x85I\\xac\\xbc\\x02\\x98\\x18\\xcdIt\\x81\\x17\\xdd`A\\xe3\\xa8%\\xdb\\x97\\x0e\\xc4\\xcc\\xac7\\x9b\\n\\xa2\\xb1\\x0fK\\xbe,y\\xd8\\xe5pz\\x92\\xf6\\xfc\\x0f\\xbdnB\\xc6\\x11Oz\\xb2X\\x92\\xed\\x85'\\xc8`\\x925\\xaf}.\\x99\\xf0\\x11R\\x9e\\xaf:\\xf0\\xb3\\xd1\\x0eA\\x11\\xecN\\x14\\xf4\\xad!\\x85\\xdb\\x12\\xcb\\x8fG\\x1c\\xd2\\xd0_\\xc0\\xda\\xb3\\xeeF|q\\xa2\\xeb\\x9axY\\xfaN\\x00\\xbc}t\"\n",
      "Length: 224\n",
      "Embedding Efficiency: 4.392857142857143\n",
      "==============\n",
      "737Nah it's straight, if you can just bring bud or drinks or something that's actually a little more useful than straight cash\n",
      "customizedTechniques-2\n",
      "Pcj kv'u uvtckijv, kh aqw ecp lwuv dtkpi dwf qt ftkpmu qt uqogvjkpi vjcv'u cevwcnna c nkvvng oqtg wughwn vjcp uvtckijv ecuj\n",
      "Length: 123\n",
      "customizedTechniques-3\n",
      "n>E>J>>>>>>>>>>",
      ">E>>>",
      ">",
      ">",
      ">>>\n",
      "Length: 123\n",
      "customizedTechniques-5\n",
      " ³ºp»ÆwÅpÅÆÄ³»¹ºÆ|p»¸p±ÁÇpµ³Àp¼ÇÅÆp´Ä»À¹p´Ç¶pÁÄp¶Ä»À½ÅpÁÄpÅÁ¿·Æº»À¹pÆº³ÆwÅp³µÆÇ³¾¾±p³p¾»ÆÆ¾·p¿ÁÄ·pÇÅ·¸Ç¾pÆº³ÀpÅÆÄ³»¹ºÆpµ³Åº\n",
      "Length: 123\n",
      "OpenSourceTechniques-6\n",
      "b'\\xc0\\xdfh\\x17e\\xb8w\\xfb-\\xa5D S\\xd5\\xab\\'SA,\\x12B\\x91\\x14\\x08\\xae\\x1c\\xf1\\x02[2\\xabZ\\x07\\xbcC\\x0c\\x1e\\xfe0\\xb3T^\\x9a\\xd3O\\x13\\x1c\\xbd\\xaar\\xb2\\x17;\\\\\\xa7\\xaa]\\xab\\xde+}\\x87\\x16\\x10\\xba\\x99A\\xc1\\xaf_\\xaa\\xfd~\\xba\\x14#\\xc7\"\\x7fe\\xc7hq\\x0e\\xef2\\x9f\\xe7\\xce\\x92\\xd8\\xce\\x8e\\xde\\xd0\\xcexD\\x15\\xb6\\xf1_\\xe4\\xbc\\xf5\\xa2\\x19_\\xd1\\xe3c\\xb4\\xc4\\xd6\\x0eo\\xa7\\xd4&\\x02\\xdc\\x1fvr\\xcc\\x91{\\x1a\\xe9\\xb31\\xd5\\x18,\\xd1\\t\\xbe\\x15\\xcb\\xf7\\xff\\xcdz\\xb3\\xc2\\x14\\xce=\\xb4V\\xcc\\x9f\\x88}UR\\x81|*\\xcc}\\n\\x96`WUJ\\x97\\x12\\xb5\\x19\\x8d\\xb9\\x07q\\xad\\x0e\\xd4\\n\\xe1\\xfa\\xc5\\x7f\\xf1\\xf3;\\'\\xb1\\x85\\x9f\\x1f$\\\\\\xdf\\x17@?\\xa1k\\x03p\\x10>,\\x91Nv;\\xd7\\xe5\\xd6\\n\\xb6y\\xeb\\xe7RP\\xd4V\\xee\\xe1\\xf8\\x1c'\n",
      "Length: 224\n",
      "Embedding Efficiency: 4.392857142857143\n",
      "==============\n",
      "738A gram usually runs like  &lt;#&gt; , a half eighth is smarter though and gets you almost a whole second gram for  &lt;#&gt;\n",
      "customizedTechniques-2\n",
      "C itco wuwcnna twpu nkmg  &nv;#&iv; , c jcnh gkijvj ku uoctvgt vjqwij cpf igvu aqw cnoquv c yjqng ugeqpf itco hqt  &nv;#&iv;\n",
      "Length: 124\n",
      "customizedTechniques-3\n",
      "a>>>>",
      ">>DYADY>J>>>",
      ">>",
      ">>>",
      ">>>>",
      ">",
      ">>>>DYADY\n",
      "Length: 124\n",
      "customizedTechniques-5\n",
      "p¹Ä³¿pÇÅÇ³¾¾±pÄÇÀÅp¾»½·ppv¾Æsv¹Æp|p³pº³¾¸p·»¹ºÆºp»ÅpÅ¿³ÄÆ·ÄpÆºÁÇ¹ºp³À¶p¹·ÆÅp±ÁÇp³¾¿ÁÅÆp³pÉºÁ¾·pÅ·µÁÀ¶p¹Ä³¿p¸ÁÄppv¾Æsv¹Æ\n",
      "Length: 124\n",
      "OpenSourceTechniques-6\n",
      "b'\\xbf\\x12c\\xb4\\xec\\xf0:\\x8d\\xb3k\\xf2\\xdap\\xd2\\x14\\x19\\xe9\\x1b\\xb3\\x02\\xc4\\xa1\\x90\\xfbq\\x1ao\\t\\x1cEi\\xee\\x7f!N\\x8d\\x97W\\x14t\\xc2\\xe2Ch\\x85x\\x88\"\\x1dF\\xc9\\x96\\x89o\\xb2\\xb3&\\xd0\\x96\\x85S\\xd1\\x05`>\\xce&\\xf2M\\xa2\\x1e\\xf5\\xc6\\xaeNo\\x7f\\xe2\\x9eI)\\xb1\\n!\\xaa\\xf2\\xb1G3\\xa1,\\x80O\\xd6q\\xe4\\xab0jK\\xc8\\x8d\\xf1\\xce\\x98\\xba#\\xdb\\xc0\\xfb\\x96\\xdc\\xa3\\xb7\\xde\\x83\\xac\\xceG\\xd7\\xac\\xe9\\xff\\xe5\\x92u\\xc1e\\xfd\\xaf-\\x80`\\x10\\xd6\\x13\\xca~\\x11]\\x1f\\x9d\\xfdY\\xb4\\x98\\xa8ru\\xde\\x1e(\\xbd\\x1d\\x14\\t\\xc5(\\xcc\\xed4\\xb4\\xe9\\xea\\xb1O\\x89^I\\xc0q\\xd3\\xab7\\x15\\x92\\xae\\x96ViM\\x1d,A\\x98j)\\xc9g\\xf3\\x0b\\x19L\\x9ew>\\xbbZ[$\\xa1\\xd0\\x96\\x00vj5\\xcbx\\x95y\\xef\\xee\\xb8~\\x9f\\xaae\\x9b\\xad\\xb5\\xcc\\x16\\xd7'\n",
      "Length: 224\n",
      "Embedding Efficiency: 4.428571428571429\n",
      "==============\n",
      "739Today is \\song dedicated day..\\\" Which song will u dedicate for me? Send this to all ur valuable frnds but first rply me...\"\n",
      "customizedTechniques-2\n",
      "Vqfca ku \\uqpi fgfkecvgf fca..\\\" Yjkej uqpi yknn w fgfkecvg hqt og? Ugpf vjku vq cnn wt xcnwcdng htpfu dwv hktuv trna og...\"\n",
      "Length: 124\n",
      "customizedTechniques-3\n",
      "t>>z>",
      "",
      ">LLz@>w>>>>",
      "",
      ">>",
      "]>s",
      ">>>>>",
      ">>>>>",
      "LLL@\n",
      "Length: 124\n",
      "customizedTechniques-5\n",
      "¦Á¶³±p»Åp¬ÅÁÀ¹p¶·¶»µ³Æ·¶p¶³±~~¬rp©º»µºpÅÁÀ¹pÉ»¾¾pÇp¶·¶»µ³Æ·p¸ÁÄp¿·p¥·À¶pÆº»ÅpÆÁp³¾¾pÇÄpÈ³¾Ç³´¾·p¸ÄÀ¶Åp´ÇÆp¸»ÄÅÆpÄÂ¾±p¿·~~~r\n",
      "Length: 124\n",
      "OpenSourceTechniques-6\n",
      "b'h\\x8b\\xb8\\xce\\xa0\\xc8\\x80\\xf7\\x840\\xf5\\xb2\\xaa\\x07\\xb3\\xcb\\x91\\xcc\\xf5>*\\x85w\\x0bkG\\xff2e\\x88 \\x83\\x94#c\\x8fc%\\xbbF\\x0et\\xeb\\x96\\xa3T\\'\\xf0\\xbb\\x8e4\\xde\\xe7st\\x04\\x82\\x9e\\xc2\\xbf\\xcb\\xa9`\\x80\\xc2#\\x82:n:8\\xaf\\x07Y\\xb4]\\x07\\xfe\\xfb\\xa1\\x15R=A\\t\\x9f\\x8f\\xaf\\xe5\\xfb\\x1a\\x17z\\xd7WJ \\xf9z\\xc6\\x97\\x85\\x9d\\xe1\\xe4y\\x95\\xdd\\x833\\xc6lVcc\\xcec\\xac\\xd8\\xc0\\xba\\xc9\\x85\\x8f\\xd9\\x01\\x16W9\\x9f`P\\xf7\\x1f\\x8f\\xff\\xc81\\xa9\\x13\"`\\xf1\\xd5$\\xde\\xa0\\xdd\\xa2\\x0e\\xcer\\x0e\\x8d\\xff-N+\\xd3\\xf2\\x89\\x1dW\\x02\\xf2y\\xb9\\xdcUN \\xbcQ)Y\\x99J\\x0b\\xa9\\xfa.\\xb7-IL\\xdaad\\xf9\\xf6\\xf7Z\\xe4\\x18\\r\\xd0\\xba\\xf7O\\xea\\xa4\\n\\x1f\\x03\\xb4\\x8a\\xf8-`$]n<I\\xa5\\x83\\xad\\x14\\xbb\\xfd\\xae\\x83\\x00\\xc3'\n",
      "Length: 224\n",
      "Embedding Efficiency: 4.428571428571429\n",
      "==============\n",
      "740Customer service annoncement. You have a New Years delivery waiting for you. Please call 07046744435 now to arrange delivery\n",
      "customizedTechniques-2\n",
      "Ewuvqogt ugtxkeg cppqpegogpv. Aqw jcxg c Pgy Agctu fgnkxgta yckvkpi hqt aqw. Rngcug ecnn 07046744435 pqy vq cttcpig fgnkxgta\n",
      "Length: 124\n",
      "customizedTechniques-3\n",
      "c",
      ">",
      "",
      ">",
      "",
      "L>_>",
      ">>n",
      ">_",
      ">",
      "",
      ">>>L>p",
      "",
      ">>NUNRTURRRQS>>>",
      ">",
      "",
      "\n",
      "Length: 124\n",
      "customizedTechniques-5\n",
      "ÇÅÆÁ¿·ÄpÅ·ÄÈ»µ·p³ÀÀÁÀµ·¿·ÀÆ~pÁÇpº³È·p³p ·Ép·³ÄÅp¶·¾»È·Ä±pÉ³»Æ»À¹p¸ÁÄp±ÁÇ~p¢¾·³Å·pµ³¾¾p",
      "pÀÁÉpÆÁp³ÄÄ³À¹·p¶·¾»È·Ä±\n",
      "Length: 124\n",
      "OpenSourceTechniques-6\n",
      "b'\\t\\x9ef\\xed\\xfe\\xc2\\x95\\xdc)\\xac\\xdc\\xa2\\xb4\\xf7\\x0b0>\\xe7\\x95\\x0e\\xbf\\xcf\\x9b\\x06t\\xf2.\\x032\\xd5/\\xbf)\\x9f\\xb2\\x873\\xad\\t\\x01\\xcc\\x85\\xd59k\\x11\\xd7\\x08@\\xdcf\\\\\\xd1>\\xc8\\xb2\\xbeeN\\xda\\x83s\\xaf\\xa4\\xba\\xe9\\xe8\\xe4\\xefk\\xabc\\x10l\\x16er\\xdd\\xc4\\xc5\\x96\\xca\\xbe\\xcd\\x85YDu\\x1a]\\x1f\\xd2c\\x0b\\xb7\\xd8\\xb2\\xc1\\xddVx\\x87\\x1d\\x1e\\x82\\x88\\x12\\x9b\\xdap\\x1a\\x7f+p\\xa1\\xf2\\xae17\\x06g\\xa9=\\xba\\x9a\\nM\\x10\\xed\\xf3E\\xc8\\xe1\\xddy2qa\\xe2>\\x1al\\xdbW\\x18\\xbd{\\x0f\\xa6U3\\xd3\\xd8\\xe1k\\xa9\\xf3\\x01E\\xb8\\x16\\xf3\"\\x977\\x87\\xed\\x0e\\xb3\\x88=\\x86\\xee\\xd0\\xc9\\xd9w\\xcdN\\x1b\\x10\\x19@\"\\xa7,YJ\\x9eT\\xc3F\\x9e\\xeb\\x05\\xbban38+\\x017D\\x86\\xd7\\x0f2!f\\xcf\\xdbm\\x01S\\xb3\\xa1Gb\\'\\xe6\\xea_\\xc7Xt<\\xdb#\\xc0\\x88\\x1a\\xe5\\xa0\\xd7j\\xfbk\\xe8v'\n",
      "Length: 240\n",
      "Embedding Efficiency: 4.133333333333334\n",
      "==============\n",
      "741Dear,regret i cudnt pick call.drove down frm ctla now at cochin home.left mobile in car..ente style ishtamayoo?happy bakrid!\n",
      "customizedTechniques-2\n",
      "Fgct,tgitgv k ewfpv rkem ecnn.ftqxg fqyp hto evnc pqy cv eqejkp jqog.nghv oqdkng kp ect..gpvg uvang kujvcocaqq?jcrra dcmtkf!\n",
      "Length: 124\n",
      "customizedTechniques-3\n",
      "d",
      "J",
      "",
      ">>>>L",
      ">>>>>>>",
      "L",
      ">",
      ">>LL",
      "",
      ">",
      ">]>?\n",
      "Length: 124\n",
      "customizedTechniques-5\n",
      "·³Ä|Ä·¹Ä·Æp»pµÇ¶ÀÆpÂ»µ½pµ³¾¾~¶ÄÁÈ·p¶ÁÉÀp¸Ä¿pµÆ¾³pÀÁÉp³ÆpµÁµº»ÀpºÁ¿·~¾·¸Æp¿Á´»¾·p»Àpµ³Ä~~·ÀÆ·pÅÆ±¾·p»ÅºÆ³¿³±ÁÁº³ÂÂ±p´³½Ä»¶q\n",
      "Length: 124\n",
      "OpenSourceTechniques-6\n",
      "b'\\x94\\xf7\\xe6g`~A\\xafO\\x85\\xfd\\xe0\\x95\\xa2J8\\xd85\\x01JNwr\\xed/@\\t\\xbd\\xc0\\x14\\x893\\x07\\x89\\xf9\\x04\\x90\\x0f&S\\x08\\x81:\\xb2\\x9e7\\x1el\\xa3#U\\xeb\\xa3\\x04\\xe2\\xa4\\x8d\\xc9\\x96\\xad\\x832\\x1d\\xa7\\x95/\\xbano\\xe7;,\\x05\\x82\\xe5\\xc2\\x8a\\xc0_`\\xe4}~\\x954?\\xf7F\\x84308\\x82\\xf7\\xe4{\\xcb\\xc9\\xe0(v\\xbe\\xaa\\xf3\\xeaP\\xb0\\x07C\\xda\\x96z+k\\xd3\\xcb2\\x19\\xd2h\\x0b\\xb6\\xd3\\x91ML\\x08\\xb6z\\xc4\\xc2\\xdbC?#\\xcd\\xf5\\xad\\x1b,\\xffQp\\x8b\\x7fm\\x1e*\\xc2\\xe3x\\xc2\\tk\\xac\\xb4\\x7f\\x03l\\x13\\xa7\\xea\\x08\\x84\\xe9J\\xb7@6\\xf1t\\x90\\xa2<|{\\xcfC\\xd0\\xe9Y\\x9f\\xeb\\xa8L*\\x91E\\xb3.\\x14rB\\x04|\\xbbx\\xa3\\x03\\x98El\\xff\\xcd\\xa8\\x18\\xee\\xe0\\xc4\\x1a\\x10\\xb72z\\n\\xb9\\x11bo\\xd9\\xe9\\xa6c%.Ye\\x85u\\xb3\\xef\\x14\\xe4d\\xb0c\\x80\\xe3J\\x85'\n",
      "Length: 240\n",
      "Embedding Efficiency: 4.133333333333334\n",
      "==============\n",
      "742Your free ringtone is waiting to be collected. Simply text the password \\MIX\\\" to 85069 to verify. Get Usher and Britney. FML\n",
      "customizedTechniques-2\n",
      "Aqwt htgg tkpivqpg ku yckvkpi vq dg eqnngevgf. Ukorna vgzv vjg rcuuyqtf \\OKZ\\\" vq 85069 vq xgtkha. Igv Wujgt cpf Dtkvpga. HON\n",
      "Length: 125\n",
      "customizedTechniques-3\n",
      "_>",
      "",
      ">",
      ">>>>",
      ">",
      "",
      "L>s>",
      ">",
      ">>zmixz@>>VSNTW>>",
      "L>g",
      ">u",
      ">>b",
      "L>fml\n",
      "Length: 125\n",
      "customizedTechniques-5\n",
      "ÁÇÄp¸Ä··pÄ»À¹ÆÁÀ·p»ÅpÉ³»Æ»À¹pÆÁp´·pµÁ¾¾·µÆ·¶~p¥»¿Â¾±pÆ·ÊÆpÆº·pÂ³ÅÅÉÁÄ¶p¬ª¬rpÆÁp",
      "pÆÁpÈ·Ä»¸±~p·Æp§Åº·Äp³À¶pÄ»ÆÀ·±~p\n",
      "Length: 125\n",
      "OpenSourceTechniques-6\n",
      "b'zqx\\xffI}b\\xec+e\\xed\\x02\\xcd\\x1d\\xde|\\xef\\x16B\\x88\\xab\\xcb\\x11\\x1c%\\x83\\xb9H\\x9al\\xda\\xb0\\xac\\xc2\\xf1\\x16K\\xc4\\x8bh\\xd7\\x8a^\\x9a\\xb1\\x94\\x07\\xb4W\\x99\\\\Y\\xed\\'M \\x0fDdQ\\xd1\\xa6D\\xc5+\\x18\\xb0k\\xd7\\xb6\\xe6\\x93\\x96\\xeb\\xdc;\\xbf\\xae\\xa1\\xbf\\x83\\\\\\tQ\\xd9\\x1f\\xd5\\xec\\xdc\\x05\\xe8\\xcc\\xfcv\\xbck1j}\\xa1\\x90q\\x8bT\\xd9\\x90\\xc9~\\xdf3K\\xe5\\xe82\\xaf]@\\x85\\xbf\\xb7\\xce\\x82\\x1f\\xf9\\xcd\\xee\\rvk\\xf13\\x97p\\xdfh\\xdbr\\x12C]r\\xccp\\xe1\\\\<\\x0bh\\x00\\x12dr\\xb7*u\\x1e\\xa3\\x11H\\x8b5\"\\x86[w\\x16\\xd9\\xe98\\xd2\\xf5\\xa8\\xb8\\x93\\x7fEUUZ\\x13A\\x0ea\\xc6\\x9c\\xe3e\\x06\\xca\\xb7\\x03\\x1b\\xc4/\\x92\\xbb^\\x10N\\xc6\\xee\\xc9\\xcb\\xa7y\\x19\\x11\\x90\\xc4\\x9e\\xf2\\x0f\\xd9\\xe6vH\\xbbU\\x83F[B\\xa8B\\xc6:\\r\\xe5\\xe7\\x96\\xbb4\\xc6\"y\\x98^c\\x85\\xd5'\n",
      "Length: 240\n",
      "Embedding Efficiency: 4.166666666666667\n",
      "==============\n",
      "743Nice line said by a broken heart- Plz don't cum 1 more times infront of me... Other wise once again I ll trust U... Good 9t:)\n",
      "customizedTechniques-2\n",
      "Pkeg nkpg uckf da c dtqmgp jgctv- Rnb fqp'v ewo 1 oqtg vkogu kphtqpv qh og... Qvjgt ykug qpeg cickp K nn vtwuv W... Iqqf 9v:)\n",
      "Length: 125\n",
      "customizedTechniques-3\n",
      "n",
      ">",
      ">>>>",
      ">",
      "K>p>E>>O>",
      ">",
      ">>>",
      "LLL>o",
      ">",
      ">",
      ">>i>>>uLLL>g>WXG\n",
      "Length: 125\n",
      "customizedTechniques-5\n",
      " »µ·p¾»À·pÅ³»¶p´±p³p´ÄÁ½·Àpº·³ÄÆ}p¢¾²p¶ÁÀwÆpµÇ¿pp¿ÁÄ·pÆ»¿·Åp»À¸ÄÁÀÆpÁ¸p¿·~~~p¡Æº·ÄpÉ»Å·pÁÀµ·p³¹³»Àpp¾¾pÆÄÇÅÆp§~~~pÁÁ¶pÆy\n",
      "Length: 125\n",
      "OpenSourceTechniques-6\n",
      "b\"\\xe1\\x16\\x86\\x91\\xdf{F\\xb9-f\\xb9\\xe8\\xe1\\x81\\xaeZ\\x8e\\x86\\xe6ZW``O\\x0fuWo\\x8a\\xf9p\\xb3\\x17\\xf0\\x8f\\xa9\\x07\\xf9\\xf87\\x9f\\xdd\\x8c\\xf3\\xa8\\xb0i\\x95\\xdcmJx\\xcb\\x0f\\xe7\\xda\\xa4\\r\\xfb\\x91S\\x16t0g+\\x0b\\xe6\\x88\\xd9\\xe9x\\xaaNm\\xbe\\x00q\\x8dxC\\x9a\\x06\\xd1>\\n\\x94N\\xa5s\\x89 \\xa5_\\x96\\xc7\\xc9OHnb}/\\x96ErnMY\\xc5\\xda\\x92\\xc91\\xf7\\xf5LZ\\xef\\x0ec\\x8e$\\x0e\\xc4,]\\x13\\xbf\\x06\\xb05\\xd6\\xca\\x03\\xb1\\xdd\\xd9\\x8d=\\xafQ\\xd8\\xff\\xd8|\\x1b\\xef\\xa8\\xea\\x80\\xa7\\x08~\\xb7u?%E\\xa7\\xa7\\x17-y\\x110\\xdaL\\x9c\\xf4\\xc34:\\x15A\\xefp\\xe6\\xe1\\xfc~}\\x1bC\\xea/\\xcd\\x87\\xdcX\\x96l\\xf2\\xd5\\x862\\x08\\xfbx?\\x15\\xe5\\x8bQ\\x9c\\xaa\\xea\\x13~\\xea'm~\\xe6\\xbc\\xc1\\x8f\\xcc3+\\xfc\\xfame\"\n",
      "Length: 224\n",
      "Embedding Efficiency: 4.464285714285714\n",
      "==============\n",
      "744Save yourself the stress. If the person has a dorm account, just send your account details and the money will be sent to you.\n",
      "customizedTechniques-2\n",
      "Ucxg aqwtugnh vjg uvtguu. Kh vjg rgtuqp jcu c fqto ceeqwpv, lwuv ugpf aqwt ceeqwpv fgvcknu cpf vjg oqpga yknn dg ugpv vq aqw.\n",
      "Length: 125\n",
      "customizedTechniques-3\n",
      "s",
      ">",
      ">",
      ">",
      "L>i>",
      ">",
      ">>>>J>>",
      ">>>",
      ">>",
      ">",
      ">>",
      ">",
      ">>L\n",
      "Length: 125\n",
      "customizedTechniques-5\n",
      "¥³È·p±ÁÇÄÅ·¾¸pÆº·pÅÆÄ·ÅÅ~p¸pÆº·pÂ·ÄÅÁÀpº³Åp³p¶ÁÄ¿p³µµÁÇÀÆ|p¼ÇÅÆpÅ·À¶p±ÁÇÄp³µµÁÇÀÆp¶·Æ³»¾Åp³À¶pÆº·p¿ÁÀ·±pÉ»¾¾p´·pÅ·ÀÆpÆÁp±ÁÇ~\n",
      "Length: 125\n",
      "OpenSourceTechniques-6\n",
      "b\"\\x12\\xd1\\xd0+u^\\xe5V\\x8bF\\x95\\x81\\xeel\\xb2\\xcb\\xb1a2V\\xder\\xe5\\x90t\\x14a\\xb8\\xa9\\x0f\\x10DQ\\xddM\\x0c\\xf9>\\x87\\xe9\\xa7\\xb2G\\xa1\\xae\\xe8\\xe7\\x0b\\xb0CGQ\\xdd\\xc7MY\\xb4\\xb8\\xb0Dg\\xb7n\\xe8\\x06l\\x950<\\x01\\x01\\x1e7\\xe50\\xfe\\x02\\x89\\xd6\\x85\\xfd\\x8f\\x80\\xef\\xae\\x7f7Nh\\x1a$\\xeeO\\x1b\\x1c\\xb2\\x85\\xa7x\\xa2\\x8d\\xed\\xe4j6\\x1c\\xbb\\xbfl\\xf5\\xff\\xd0\\x84\\xf5\\x14\\xb8P\\xda\\xb7\\xae\\xae\\xe7\\x0c\\xae\\xce\\xbce\\xa9&\\x8f\\xecm-\\xf7\\x0b\\x9cx\\xc8\\xc6.\\x14\\x82D\\x99C\\xf4\\xe1:\\x00/G-\\x1d(\\x18b%_\\xdfL\\x9e\\x03T\\xcb\\xdc\\x16\\xd7\\x04\\xeb<\\x8e\\xeb\\xefe\\xa7\\x9a\\xca\\t\\x14L\\xd4\\x88\\x06\\xe8\\xc58\\x13\\xc3\\x1b\\xa1\\xbaS\\xa5\\x91f\\xd7\\xa0\\t\\xba\\xd1\\xecQ%\\x0e\\xff^g4\\x99!n'u`-\\xf3\\x0fe\\xa4c\\xact\\xc1\\x05\\x96g\\xc4Z7\\x85\\xc4\\xc4\\xe9D\\xd5\\xad\\xf0\\xb6\\x0cG\"\n",
      "Length: 240\n",
      "Embedding Efficiency: 4.166666666666667\n",
      "==============\n",
      "745Your free ringtone is waiting to be collected. Simply text the password \\MIX\\\" to 85069 to verify. Get Usher and Britney. FML\n",
      "customizedTechniques-2\n",
      "Aqwt htgg tkpivqpg ku yckvkpi vq dg eqnngevgf. Ukorna vgzv vjg rcuuyqtf \\OKZ\\\" vq 85069 vq xgtkha. Igv Wujgt cpf Dtkvpga. HON\n",
      "Length: 125\n",
      "customizedTechniques-3\n",
      "_>",
      "",
      ">",
      ">>>>",
      ">",
      "",
      "L>s>",
      ">",
      ">>zmixz@>>VSNTW>>",
      "L>g",
      ">u",
      ">>b",
      "L>fml\n",
      "Length: 125\n",
      "customizedTechniques-5\n",
      "ÁÇÄp¸Ä··pÄ»À¹ÆÁÀ·p»ÅpÉ³»Æ»À¹pÆÁp´·pµÁ¾¾·µÆ·¶~p¥»¿Â¾±pÆ·ÊÆpÆº·pÂ³ÅÅÉÁÄ¶p¬ª¬rpÆÁp",
      "pÆÁpÈ·Ä»¸±~p·Æp§Åº·Äp³À¶pÄ»ÆÀ·±~p\n",
      "Length: 125\n",
      "OpenSourceTechniques-6\n",
      "b'\\xd3\\xae/\\xecJx\\x80\\x8da\\x0b\\x15\\x1e\\x04\\x98\\xe9\\xb4\\xb9\\\\\\x9b\\xa0J\\xf8\\x87+O\\xe7\\xb8}\\\\k\\xbd\\x92\\xba\\xa7\\xd9~\\n$\\xf73a\\xdb\\xdf\\xb7\\\\\\x89\\x12\\xdc{\\xf2G>\\xf2,\\xc3^\\x0c\\xd5\\xdf~(\\xff\\x11\\xe3C\\xa5R\\x0eR\\xd5\\xe2aWR\\x89\\xf0b\\x1b\\xbf\\xcaj\\xd8z^\\xd3\\x9c\\x94f\\xce\\xe5.\\xd8\\x15\\xe6\\xaf\\xbbb\\xa9\\x8b\\x06\\xe4\\x17\\xf2\\x06\\xe9rv\\xee\\xf7\\xd8m\\xefsc\\xb4K\\xc9\\xce\\xcb?J\\x9c\\x8a7D\\xd3\\xdc<\\xb9\\xb0\\xed\\x1b\\xb8(\\x18A\\xcb\\xbf\\xdfT\\x1c\\xbaC\\xd4\\xec\\xab\\x99\\x85\\x12\\xad\\x8bz\\xee\\rn\\xe34H8\\xb4$\\xb9_Iy\\xe4\\xc3\\xb1$\\xa4:;\\xa1Z\\xc8:\\xbb\\xb8\\r\\xa2/\\x95Z\\x08\\x05/\\xd8\\xfaC\\xcf\\x94Q\\x15\\x99R;\\x90\\x8fq\\xbb\\xe1\\xb6\\xc8A\\xd2\\x0f\\xb9\\xc5\\xf8\\xe1\\xc6|\\x03\"\\xfa\\x17\\xb3\\xbb\\xf1h\\x12\\xca\\x13\\xd3\\x00R\\x1a\\x87\\xc3\\xf9\\xe1Y\\xc05\\x1bX\\xcdv\\xaeK'\n",
      "Length: 240\n",
      "Embedding Efficiency: 4.166666666666667\n",
      "==============\n",
      "746Sunshine Quiz Wkly Q! Win a top Sony DVD player if u know which country the Algarve is in? Txt ansr to 82277. å£1.50 SP:Tyrone\n",
      "customizedTechniques-2\n",
      "Uwpujkpg Swkb Ymna S! Ykp c vqr Uqpa FXF rncagt kh w mpqy yjkej eqwpvta vjg Cnictxg ku kp? Vzv cput vq 82277. e£1.50 UR:Vatqpg\n",
      "Length: 126\n",
      "customizedTechniques-3\n",
      "s",
      ">q>w>q?>w>>>s>dvd>",
      ">>>>>>",
      ">a",
      ">>]>t>>>VPPUUL>ÁOLSN>spXt",
      "\n",
      "Length: 126\n",
      "customizedTechniques-5\n",
      "¥ÇÀÅº»À·p£Ç»²p©½¾±p£qp©»Àp³pÆÁÂp¥ÁÀ±p¨pÂ¾³±·Äp»¸pÇp½ÀÁÉpÉº»µºpµÁÇÀÆÄ±pÆº·p¾¹³ÄÈ·p»Åp»Àp¦ÊÆp³ÀÅÄpÆÁp~pµó~",
      "p¥¢¦±ÄÁÀ·\n",
      "Length: 126\n",
      "OpenSourceTechniques-6\n",
      "b'p\\x8c\\xec\\xc6m\\xab\\\\fg`\\xe3\\xc4\\x12\\xb3\\xa3\\x99}i\\xf1v\\x94\\x16\\xd5_\\xdcv*\\x9bM\\xb7\\x1d\\xefc\\xb0\\x1c\\xb3\\x95!\\x14\\x15\\xbb\\xe7\\x112L\\xcd\\x10Cc\\\\8\\xfc\\x88\\xf2\\x90\\x9c^O\\x19\\xdf\\xf0\\xda}\\x13\\x14\\x89[m\\xceRuW\\xc8W\\xd0\\xd9\\x90\\xb4-\\xed\\xf6\\x14\\x9b\\xf4\\x00\\xea\\x9b\\xdc\\n;\\x97e\\x12C\\x19\\x95S\\x02\\xed\\x7f\\xb4\\x88\\x80\\xc7/\\x89\\xf3\\xf8#\\x85\\xee\\xafRKKk\\n\\xf5\\xab1\\x10\\x10\\xe5\\xac\\xc0/\\xb8Q&-NLK|%\\xe8n\\x00\\x86\\xbfB\\xa3\\x12.\\xe0\\xdf\\xe3\\xd6\\xff\\xa3\\x8a\\x85\\xf0\\x88\\xc2Rt\\xd7F\\xd5\\xc0l\\x82xl\\xd9,\\\\~EE\\xe0\\x83\\xe1b`j\\xd1\\xe0|7-\\x01\\x8f\"R\\x05\\xb4]\\x93?\\xbf\\xed\\x8b@\\n\\xb9@\\xb2\\xbf\\xfbj\\xd7\\\\\\xb1-nO\\x1aF\\xbc\\xf0\\xd8694\\xcc\\xcf\\xe3l\\x12\\xbd4\\x99\\xc6\\xc9\\x9cdH\\xa8\\xceZ\\x81\\xd0\\xe9\\x93\\xe0eM\\x13'\n",
      "Length: 240\n",
      "Embedding Efficiency: 4.2\n",
      "==============\n",
      "747Hi! You just spoke to MANEESHA V. We'd like to know if you were satisfied with the experience. Reply Toll Free with Yes or No.\n",
      "customizedTechniques-2\n",
      "Jk! Aqw lwuv urqmg vq OCPGGUJC X. Yg'f nkmg vq mpqy kh aqw ygtg ucvkuhkgf ykvj vjg gzrgtkgpeg. Tgrna Vqnn Htgg ykvj Agu qt Pq.\n",
      "Length: 126\n",
      "customizedTechniques-3\n",
      "h?>_>>",
      ">>maneesha>vL>w",
      "E>",
      ">>>>>",
      "",
      ">",
      ">>",
      ">",
      "",
      "",
      "",
      "L>r",
      ">t>f",
      "",
      ">>_",
      ">>nL\n",
      "Length: 126\n",
      "customizedTechniques-5\n",
      "»qpÁÇp¼ÇÅÆpÅÂÁ½·pÆÁp ¥p¨~p©·w¶p¾»½·pÆÁp½ÀÁÉp»¸p±ÁÇpÉ·Ä·pÅ³Æ»Å¸»·¶pÉ»ÆºpÆº·p·ÊÂ·Ä»·Àµ·~p¤·Â¾±p¦Á¾¾pÄ··pÉ»Æºp·ÅpÁÄp Á~\n",
      "Length: 126\n",
      "OpenSourceTechniques-6\n",
      "b'\\x81<XQI!\\xd2\\xbd\\x1f\\xe3\\x9e\\xe2\\x17\\xbdy\\xd2\\x08\\xd32\\x83\\xabo;R\\xdb\\xfc,RAn\\xcc\\xc2\\x8c\\x84+\\x16\\x1d\\xcb\\x04-\\x1a\\xc1;R\\xb4*$\\xef\\x1c\\xb6\\xb2\\xe5^z\\xa6\\xd7\\xcf\\xe5\\xd7\\x88\\x8aB\\xed\\x92\\xae\\x01szoZ\\x86~\\xa8\\xe1)\\x1d)*\\xb7nQ\\x8f\\xb6f\\x98\\x9a\\x95\\x18<%\\x12F\\x8a\\x9c\\x1a\\xeaZ\\xea \\xa4`\\xaf\\x17\\xeb\\t\\xec\\x9e$[\\x00K\\xec\\xd2[\\x14\\x88\\x02\\xeb\\xda\\x88\\xb3\\xf7K\\x15\\x98\\xc8<C\\xc8\\x98\\xc7gw\\xd9k\\xdcK\\x94s\\xc6\\xe5\\xbdk\\xff\\xf1\\x19\\xd7;\\x0b>\\x1e,\\x11\\x8b\\x81 i\\xf4P8lF\\xe4\\x06c\\x1f\\xb23\\xcb_R\\xc0BC\\xc2\\x97\\x00WP\\x7f\\xa7\\xbf\\x02\\x02\\x9b\\x1b\\xa0\\x1e\\xe9&8\\xf4\\xb0\\xa70\\xfa\\xd3Q\\x8e\\xd1u\\xb7\\x9b\\x1d~\\x0f\\xf1Q\\x88\\xeb\\x85$q\\xa3\\xd6\\xc7]E\\x1b\\xaa\\xe8\\x9d\\x1f\\x0c'\n",
      "Length: 224\n",
      "Embedding Efficiency: 4.5\n",
      "==============\n",
      "748Probably money worries. Things are coming due and i have several outstanding invoices for work i did two and three months ago.\n",
      "customizedTechniques-2\n",
      "Rtqdcdna oqpga yqttkgu. Vjkpiu ctg eqokpi fwg cpf k jcxg ugxgtcn qwvuvcpfkpi kpxqkegu hqt yqtm k fkf vyq cpf vjtgg oqpvju ciq.\n",
      "Length: 126\n",
      "customizedTechniques-3\n",
      "p>",
      ">",
      "L>t>",
      ">>",
      ">>>",
      ">",
      "",
      ">>",
      ">>>>>>>",
      "",
      ">>L\n",
      "Length: 126\n",
      "customizedTechniques-5\n",
      "¢ÄÁ´³´¾±p¿ÁÀ·±pÉÁÄÄ»·Å~p¦º»À¹Åp³Ä·pµÁ¿»À¹p¶Ç·p³À¶p»pº³È·pÅ·È·Ä³¾pÁÇÆÅÆ³À¶»À¹p»ÀÈÁ»µ·Åp¸ÁÄpÉÁÄ½p»p¶»¶pÆÉÁp³À¶pÆºÄ··p¿ÁÀÆºÅp³¹Á~\n",
      "Length: 126\n",
      "OpenSourceTechniques-6\n",
      "b'\\xc5zc\\xeb\\xdf\\xe2\\xa6\\xca>\\xbczU\\x86\\xff6\\x18\\xdf\\x03s\\x86\\x13\\xa4>\\xb1|0\\xe4V\\xd3l\\x00\\xfc\\xe7\\x97hhQ\\n.\\x9c\\xf9\\x9d\\xde\\xd2\\x14\\xd9\\xd2\\xb6_\\xef\\x87!\\xa08\\xa6\\xec\\xd4\\xd6}Mt\\xdf\\x15\\x8d\\x99\\xfe\\xfd[\\x0cm_\\xe4\\xe1u\\xe3\\xa9\\xc4\"\\x03\\x13C\\x88s\\xfe\\xc9\\xeaFz\\x91\\x18t@.V\\xe4o\\xfd\\x8b\\x14\\xcb\\xcf\\xa0^\\x9c\\xca\\x93\\x1eeG\\xaa\\xeb\\x86;\\xe5\\x04\\xf4\\xe7\\xbf\\x0f\\xdaU\\xd5\\xf2&\\xb3\\n\\x80\\xc8:\\x14\\xc7\\xd1\\x14\\xc0M\\x06\\xa6q\\x127\\x84\\xe5\\xfc\\xdf\\xaeX\\xfc\\xd0\\xd7c\\x80x\\rN:\\xe0\\x11\\x87\\xf7O\\x99\\xb3:\\xfc\\xcc\\x85:\\xa6\\x9a\\xb3\\x99\\x92\\x99\\x05\\xc0\\xd3#7\\xfa\\x91k\\x8a\\xd6Ms\\xb5\\xea\\xd8\\xf5\\x87\\xc8a\\xa9\\xbe\\x9d ]\\xd3{\\xd94\\x08U\\xf4\\xb8vw.\\x0c\\x11\\xfd\\xc9\\xe5\\xde\\xe7^\\x08\\x94q<,E\\xb08\\x1c\\xe2;\\x81W\\'*m\\x80U\\xfb|\\xe0\\x89\\x90\\xbc'\n",
      "Length: 240\n",
      "Embedding Efficiency: 4.2\n",
      "==============\n",
      "749No we sell it all so we'll have tons if coins. Then sell our coins to someone thru paypal. Voila! Money back in life pockets:)\n",
      "customizedTechniques-2\n",
      "Pq yg ugnn kv cnn uq yg'nn jcxg vqpu kh eqkpu. Vjgp ugnn qwt eqkpu vq uqogqpg vjtw rcarcn. Xqknc! Oqpga dcem kp nkhg rqemgvu:)\n",
      "Length: 126\n",
      "customizedTechniques-3\n",
      "n>",
      ">",
      ">>>>",
      "E>",
      ">>>L>t",
      ">",
      ">>>>",
      "",
      ">>L>v?>m",
      ">>>",
      ">",
      "XG\n",
      "Length: 126\n",
      "customizedTechniques-5\n",
      " ÁpÉ·pÅ·¾¾p»Æp³¾¾pÅÁpÉ·w¾¾pº³È·pÆÁÀÅp»¸pµÁ»ÀÅ~p¦º·ÀpÅ·¾¾pÁÇÄpµÁ»ÀÅpÆÁpÅÁ¿·ÁÀ·pÆºÄÇpÂ³±Â³¾~p¨Á»¾³qpÁÀ·±p´³µ½p»Àp¾»¸·pÂÁµ½·ÆÅy\n",
      "Length: 126\n",
      "OpenSourceTechniques-6\n",
      "b\"\\xc7\\xbb\\xeff=7H\\x1fjj`\\xfb{\\xf7\\x8c5$`y\\x01\\xf9\\xe5\\xfd\\xca{3zC\\xb9\\x9e|n\\xd1\\xc2\\xd3]\\xe9(\\x8ct\\xe9o\\t\\xc1\\xf6\\x1eI\\x07}B\\x18\\x93\\xc1:\\xcej\\x07x\\x9e'D\\x80\\xbc\\xd2\\xb3M\\xe4\\xc5/\\xcd\\x1fq\\xc9\\xa9\\xd9)\\xfa\\x15\\x8f\\xe6X\\x8eq\\xba\\xac\\xa6^\\xab^\\xb9M\\xa4G|\\xae<\\x9a\\xce4\\xech\\xf57\\x15-\\xc3%R\\x17\\xb3\\xbd&\\xe6\\x9d\\x99a~e\\x0c\\xe7Iz\\xd2\\x83\\xbc\\x01\\x16\\n\\x91\\x05n<\\x1d\\xc2{\\xba'\\x7f\\x9b\\x1d\\xbbp(\\xde\\xc4[ls<lAO2_i\\xdc\\xddX\\xd2\\x88\\x01BW\\xbd%\\xa7F(#\\x99A\\xc5\\xf4\\xf7W[\\xffF5\\xab\\xa5s\\xdb\\x86\\xd3i\\x92~\\xfa\\x8c\\x97\\xf8\\\\'S\\xb4\\n\\xf9\\x85\\xc48\\x82~\\xd8\\xe9\\xcf\\x92\\x87\\xf7`\\xbb\\xe7\\xc39\\xa03u\\xa8\\xb9\\x1dWu\\xe1/\"\n",
      "Length: 224\n",
      "Embedding Efficiency: 4.5\n",
      "==============\n",
      "750Love isn't a decision, it's a feeling. If we could decide who to love, then, life would be much simpler, but then less magical\n",
      "customizedTechniques-2\n",
      "Nqxg kup'v c fgekukqp, kv'u c hggnkpi. Kh yg eqwnf fgekfg yjq vq nqxg, vjgp, nkhg yqwnf dg owej ukorngt, dwv vjgp nguu ocikecn\n",
      "Length: 126\n",
      "customizedTechniques-3\n",
      "l",
      ">E>>",
      "J>E>>",
      "",
      "L>i>",
      ">>",
      "",
      ">>>",
      "J>",
      "J>",
      ">>",
      ">>",
      "J>>",
      ">",
      ">\n",
      "Length: 126\n",
      "customizedTechniques-5\n",
      "ÁÈ·p»ÅÀwÆp³p¶·µ»Å»ÁÀ|p»ÆwÅp³p¸··¾»À¹~p¸pÉ·pµÁÇ¾¶p¶·µ»¶·pÉºÁpÆÁp¾ÁÈ·|pÆº·À|p¾»¸·pÉÁÇ¾¶p´·p¿ÇµºpÅ»¿Â¾·Ä|p´ÇÆpÆº·Àp¾·ÅÅp¿³¹»µ³¾\n",
      "Length: 126\n",
      "OpenSourceTechniques-6\n",
      "b'`\\xaa\\xc4|\\x08\\xad\\xf2\\xa9\\x9a\\xff\\n\\xea\\xf4\\xd6\\xc5O2\\xf6\\xff]\\xc7\\xf4R\\x8f\\xbf\\xef\\x8b\\xd0\\xcfw^PI\\xae]\\x0b\\xa9\\x08\\x067!\\xbe\\xdf\\x1aX\\\\>=\\xac\\x80R-\\xc7\\']\\x83\\xe5y\\xa3\\xd7\\x13E\\x98\\x9c\\xe7\\xc7\\xfb\\xa8\\xd2\\x13\"\\xff\\xbb\\xe1\\xe1\\x96\\t\\x14B\\xae\\xb0V\\xf7\\xec\\xd7\\x81\\ry!0le\\xff\\x1aK\\x96\\xb4\\x12?h\\xfb\\xc2\\xbaz\\x00\"\\x98$\\x1dlQ\\xe2\\xe3\\x98\\x04j\\xb8\\x90x\\xd8\\x01\\xe86\\x00\\x14\\x8eW\\x9d\\xb8\\xaaQ\\xcb[%fR\\xbf\\xbc\\xbb\\x86\\xe9N\\xb7\\xe5\\xd0\\xb3aO\\x15\\xb1\\x80\\xeb\\r+\\x84\\x89\\xb1\\xb4\\xbf>\\x19\\xf2\\x97\\\\\\x95\\x1e\\x14\\x06\\x8f\\xbd\\x97\\xecJ\\xda\\xbd\\x13\\xd3\\x1eZST\\x0fI\\xaekJ\\x85\\xbd\\x10\\x87\\xbe\\x9e\\xfd\\x7f\\x80vU\\xbe\\x03Ua\\xd9k\\x8e\\x0c\\xfd\\x84\\xe9o\\x1f\\xd2\\x1c\\xc2\\xbd \\xc8(?\\x95\\xa8\\xb93E['\n",
      "Length: 224\n",
      "Embedding Efficiency: 4.5\n",
      "==============\n",
      "751For ur chance to win a å£250 wkly shopping spree TXT: SHOP to 80878. T's&C's www.txt-2-shop.com custcare 08715705022, 1x150p/wk\n",
      "customizedTechniques-2\n",
      "Hqt wt ejcpeg vq ykp c e£250 ymna ujqrrkpi urtgg VZV: UJQR vq 80878. V'u&E'u yyy.vzv-2-ujqr.eqo ewuvectg 08715705022, 1z150r/ym\n",
      "Length: 127\n",
      "customizedTechniques-3\n",
      "f>>",
      ">>>>ÁPSN>>>",
      "",
      ">txtX>shop>>VNVUVL>tEDcE>LKPKL>",
      ">NVUOSUNSNPPJ>OOSNM\n",
      "Length: 127\n",
      "customizedTechniques-5\n",
      "ÁÄpÇÄpµº³Àµ·pÆÁpÉ»Àp³pµó",
      "pÉ½¾±pÅºÁÂÂ»À¹pÅÂÄ··p¦ª¦p¥¡¢pÆÁp~p¦wÅvwÅpÉÉÉ~ÆÊÆ}}ÅºÁÂ~µÁ¿pµÇÅÆµ³Ä·p",
      "",
      "|pÊ",
      "ÂÉ½\n",
      "Length: 127\n",
      "OpenSourceTechniques-6\n",
      "b'_\\x8a\\x01\\xc7d\\x00v]\\x0f\\xa8E\\xe4\\\\\\x87\\x13\\xa0\\x93\\nS\\xfa\\xa9\\xc7\\xf9$\\x839\\x1d\\\\\\x03\\xf4\\x12\\x8a)\\xa0\\xae\\xadGkVL\\xfe\\xf5\\x96f\\x13\\x90\\xb5MAo\\x17H\\xb1\\x88t\\xa9\\xc5}\\xc5\\x8c\\xac\\xce\\x1f\\xa1\\x81\\x04G\\xd3\\xc8T}A4\\xc3\\x8f\\xd1\\xdd \\xee\\xfeB\\x80\\xd3F\\x97 Nj(m\\x83\\x92\\xf4\\xdb5\\xcf\\xbe\\x11\\xd0\\x98\\xa24\\xf8\\xf8\\x98x\\xb4\\xf1]L\\xcf\\xa6\\xe9\\xe9\\xca\\t\\x83\\xab\\xa3[\\xebFi\\x7f\\xf2Q\\x0f\\xc9\\xda,\\xb3\\xab\\xc8\\x91C\\x88\\xc8GCp\\xe9\\x02\\x19hb*\\xb9\\xa6@\\xa4\\x88\\xea3\\xc5\\xf9\\xd2\\xe0\\xc4\\xe3\\x839\\xa8\\x16\\xec\\x95\\xd2\\xfc\\xce\\x03\\x96}&\\xece\\x86sc\\xf8\\r\\x19\\x88\\xc6A\\xdep\\x92\\x19e\\x98bk\\xa9\\x8e+\\xf0s_iI5\\x84Dt\\xd2\\x19?e!\\xaf\\xd2\\xbcO\\x88m:P\\r\\x86\\xc6l\\xbd\\xe6\\xd61H\\x1e\\x83\\x03\\xdd\\x16/a\\xb3\\xca?\\xe2r\\xb5\\x97\\xe3'\n",
      "Length: 240\n",
      "Embedding Efficiency: 4.233333333333333\n",
      "==============\n",
      "752Allo! We have braved the buses and taken on the trains and triumphed. I mean we‰Û÷re in b‰Û÷ham. Have a jolly good rest of week\n",
      "customizedTechniques-2\n",
      "Cnnq! Yg jcxg dtcxgf vjg dwugu cpf vcmgp qp vjg vtckpu cpf vtkworjgf. K ogcp yg‰A÷tg kp d‰A÷jco. Jcxg c lqnna iqqf tguv qh yggm\n",
      "Length: 127\n",
      "customizedTechniques-3\n",
      "a?>w",
      ">",
      ">",
      ">",
      ">",
      ">>",
      ">>",
      ">>>",
      "L>i>",
      ">",
      "⁎_ĕ",
      ">>⁎_ĕL>h",
      ">>>>",
      ">>",
      "",
      "\n",
      "Length: 127\n",
      "customizedTechniques-5\n",
      "¾¾Áqp©·pº³È·p´Ä³È·¶pÆº·p´ÇÅ·Åp³À¶pÆ³½·ÀpÁÀpÆº·pÆÄ³»ÀÅp³À¶pÆÄ»Ç¿Âº·¶~pp¿·³ÀpÉ·₀ŇÄ·p»Àp´₀Ňº³¿~p³È·p³p¼Á¾¾±p¹ÁÁ¶pÄ·ÅÆpÁ¸pÉ··½\n",
      "Length: 127\n",
      "OpenSourceTechniques-6\n",
      "b'\\x9e\\xdc[M\\x8b\\xa4Qw\\x83\\x02\\xf8\\n\"\\x13<\\x02\\xef/HjiA\\xd1\\xae\\xfc\\x04k\\xc5\\x9d\\xd3\\x8d\\xf3+\\xe7]\\xd9{g\\xcd\\x9ejn\\xcf\\xed\\x1dG\\xfe\\xa2-\\x1f/\\x82\\xe8w\\xb0\\x89\\xe7V\\t\\x1c\\x8d\\xd0\\xea\\xc6\\xf8\\x07\\x14u\\x11\\x14C\\xa5\\x8d\\xbd\\x07\\xf9\\xc3\\xa9\\xc4B\\x91\\x976 \\xa4\\x06\\x8dsps\\xfa;\\xb57\\x07\\xcb}1\\x12~\\x9f\\x9e\\xc3k\\x03\\xd6S\\x94RA\\x90#5\\xd6H\\x93\\x17(\\xda\\x9d{4\\xd1\\xf2\\x99\\xb5l\\xb9\\x81I\\xb0\\xf7\\xe2\\x1f\\xf6\\xb5\\xbc\\x95\\xc4\\x9a\\x02\\x94\\xc4\\xd0\\x95\\xc3H\\xee\\xf3\\x98\\x888`4\\x9c\\xa8/\\x9c\\xa09\\x93f=\\xfco\\xabU\\x9a\\xd0\\x8ef\\'3\\xa6\\xc0LM\\x81o\\xad\\xcd\\xad\\xd9y\\xee\\xa3\\xf6\\x03bG\\x04\\x82\\xdfc\\xcb\\xdb\\xec\\xe9)\\x83\\xf1\\x94\\x8d\\xca\\x18\\xefhWH\\xe4ruyj\\xe3\\xb5\\x0e\\xadB\\x13 \\xc6\\xa2R\\xba\\xe0\\x1a\\xb8\\x1e\\x9d\\xb7\\xc02<\\x19\\xc0~\\xe8\\xe4\\x82'\n",
      "Length: 240\n",
      "Embedding Efficiency: 4.283333333333333\n",
      "==============\n",
      "753Reminder: You have not downloaded the content you have already paid for. Goto http://doit. mymoby. tv/ to collect your content.\n",
      "customizedTechniques-2\n",
      "Tgokpfgt: Aqw jcxg pqv fqypnqcfgf vjg eqpvgpv aqw jcxg cntgcfa rckf hqt. Iqvq jvvr://fqkv. oaoqda. vx/ vq eqnngev aqwt eqpvgpv.\n",
      "Length: 127\n",
      "customizedTechniques-3\n",
      "r",
      "",
      "X>_>",
      ">>",
      ">",
      ">",
      ">>",
      ">",
      ">>L>g>XMML>L>M>>",
      ">>",
      "L\n",
      "Length: 127\n",
      "customizedTechniques-5\n",
      "¤·¿»À¶·ÄpÁÇpº³È·pÀÁÆp¶ÁÉÀ¾Á³¶·¶pÆº·pµÁÀÆ·ÀÆp±ÁÇpº³È·p³¾Ä·³¶±pÂ³»¶p¸ÁÄ~pÁÆÁpºÆÆÂ¶Á»Æ~p¿±¿Á´±~pÆÈpÆÁpµÁ¾¾·µÆp±ÁÇÄpµÁÀÆ·ÀÆ~\n",
      "Length: 127\n",
      "OpenSourceTechniques-6\n",
      "b'\\xacy/g\\xde\\xe6\\x1ct\\x1b\\xf5\\xd5O<\\x14>s\\x13\\x95\\x85=\\x95\\xd0B\\x12Fv[\\x0e\\x99\\x7fT\\xb6\\x1f\\xf5\\x8a\\xf5=\\xcf\\xb4p\\xa1\\xf1\\x16\\x166\\xb2\\xad\\x0fk\\x17\\xd3=\\xeaU\\xa3E-\\xe7\\x1f\\xa0\\x92\\xa1\\xee\\xc2[\\x06\\x90\\x14+\\xa0D<\\xbbQrb\\xc0\\xc2\\xc2\\x91 \\x92\\xb3a=?\\x04\\x1f\\x0e\\xa0\\x8b\\xcag3D\\xeb\\xe6\\xb9\\xbb\\xa9p<$\\xc3\\x84\\x07\\x14\\xd5\\xf6\\xd5F\\x12\\x96\\x9ay\\x00\\x1f]\\xeb\\xc4n,7\\xc8\\x92\\x85\\r\\x0b\\t\\xb7\\xdf[\\xa1\\xd1\\x10\\xa9\\xf8\\x0f\\x80\\x87\\x9aps\\xe1\\xf3L\\x8b\\x9a\\x85[\\xd3\\x1a\\x98\\x06\\rPo\\xc9\\xba@\\x16\\xe8|\\x00\\xd0\\xa0!)\\xafIb\\tmbn\\x1d\\xf4\\\\o\\xa0\\x9d\\x13`\\xcb2i-\\xe4\\n\\xf7#{\\xe0\\x91$V\\xc8\\x11l\\xe8v\\xb0\\xd1J\\xd9Dki\\x90p\\r$V\\xc0\\xf6\\xce\\x10d0\\xd3[\\xba\\x83XggP\\xfc\\x1ehme\\xcdx\\xa9\\x81\\xde\\x10\\xb7\\xed'\n",
      "Length: 240\n",
      "Embedding Efficiency: 4.233333333333333\n",
      "==============\n",
      "754Call Germany for only 1 pence per minute! Call from a fixed line via access number 0844 861 85 85. No prepayment. Direct access!\n",
      "customizedTechniques-2\n",
      "Ecnn Igtocpa hqt qpna 1 rgpeg rgt okpwvg! Ecnn htqo c hkzgf nkpg xkc ceeguu pwodgt 0844 861 85 85. Pq rtgrcaogpv. Fktgev ceeguu!\n",
      "Length: 128\n",
      "customizedTechniques-3\n",
      "c>g",
      ">>>O>",
      "",
      ">",
      ">",
      "?>c>>>",
      ">",
      ">>",
      ">",
      ">NVRR>VTO>VS>VSL>n>",
      "",
      "L>d",
      ">",
      "?\n",
      "Length: 128\n",
      "customizedTechniques-5\n",
      "³¾¾p·Ä¿³À±p¸ÁÄpÁÀ¾±ppÂ·Àµ·pÂ·Äp¿»ÀÇÆ·qp³¾¾p¸ÄÁ¿p³p¸»Ê·¶p¾»À·pÈ»³p³µµ·ÅÅpÀÇ¿´·Äppp",
      "p",
      "~p ÁpÂÄ·Â³±¿·ÀÆ~p»Ä·µÆp³µµ·ÅÅq\n",
      "Length: 128\n",
      "OpenSourceTechniques-6\n",
      "b\"*u\\xe5\\xf6lq\\x8b\\xe4F5\\xcb_\\xb7\\xb7\\x03\\xc4\\x15E\\xe9Ej\\xed\\xb5\\x19<9\\x80\\x8f\\xaa\\xd6\\x1e_`\\xc4g\\xca)\\x84`x\\x9f\\xa8S\\xfc.\\xb99\\x95\\x9dh\\xb7\\xb4\\xc4\\xb9\\xfcc\\xa0ye|\\xdd\\xa7!)\\xd5\\xbe\\\\R\\xce\\xe4\\xad79O\\x84\\\\\\x05\\x89\\x86\\xd3j\\xa5\\x15\\x16b'\\x89\\x1c\\xb9\\x9c\\xe3\\x8c\\xff3\\x06\\x02\\xc5a\\x99\\xd6\\x8e\\xedX\\xeds\\xb2^\\xc2e\\xa7#\\xc2d\\x0e\\x85\\xb9\\x10\\x087\\x98\\xdf\\xd4\\x1bE\\x94b\\x88^{ |jeu\\x05\\xec\\x89P5I\\x1b\\x0f\\xb4\\xcb\\x9b=\\xd3S\\x0e`c\\xce\\xd2pei\\xf5\\xb5\\xcf\\x0c\\x98\\xfd\\xdb8\\xa1\\xdc\\x1e\\xe8v\\x10\\xb9\\xf3K\\x00\\x92\\x07\\x85\\xa6\\x80O/]\\xc5\\xab\\xa0\\xca\\x91\\xa0\\x10W\\x11\\xfd\\xa6<9\\xee\\x8a\\xbd=\\xc3\\xf1\\xa9P\\x1e\\xf7\\xb6\\t\\xd8\\x83\\x08;\\xb6[\\x88\\x9c\\x9b\\x1dr\\xdbj\\x956QU\\x9c|&iE\\xc3e\\x94\\xbay+\\x10\\xf0\\xcb\\xfd\\xf7\"\n",
      "Length: 240\n"
     ]
    },
    {
     "name": "stdout",
     "output_type": "stream",
     "text": [
      "Embedding Efficiency: 4.266666666666667\n",
      "==============\n",
      "755Yo you guys ever figure out how much we need for alcohol? Jay and I are trying to figure out how much we can safely spend on weed\n",
      "customizedTechniques-2\n",
      "Aq aqw iwau gxgt hkiwtg qwv jqy owej yg pggf hqt cneqjqn? Lca cpf K ctg vtakpi vq hkiwtg qwv jqy owej yg ecp uchgna urgpf qp yggf\n",
      "Length: 129\n",
      "customizedTechniques-3\n",
      "_>>>",
      "",
      ">",
      ">>>>",
      ">",
      "",
      ">>]>j>>i>",
      ">>>",
      ">>>>",
      ">>",
      ">",
      ">>",
      "",
      "\n",
      "Length: 129\n",
      "customizedTechniques-5\n",
      "Áp±ÁÇp¹Ç±Åp·È·Äp¸»¹ÇÄ·pÁÇÆpºÁÉp¿ÇµºpÉ·pÀ··¶p¸ÁÄp³¾µÁºÁ¾p³±p³À¶pp³Ä·pÆÄ±»À¹pÆÁp¸»¹ÇÄ·pÁÇÆpºÁÉp¿ÇµºpÉ·pµ³ÀpÅ³¸·¾±pÅÂ·À¶pÁÀpÉ··¶\n",
      "Length: 129\n",
      "OpenSourceTechniques-6\n",
      "b'f\\xa2\\xb8\\xf8\\x8f\\x1dK\\x96\\x9a\\xae\\xe2\\x0e\\x1f$\\x07:\\xd7C\\x0fE0\\x80\\xf3@\\x06\\xbaz<\\x9e\\xa3\\xd22\\xab\\x1a\\x95\\xf3\\xb6@Y_|\\xdd\\x0e\\xfa#\\x1b\\xbb\\x90\\x0f:{\\xfa\\x89\\xe6\\x0cQR\\x08.\\x08\\xf5\\x0b\\x1bb=\\x10~\\xbdI:S\\x8c\\x9d\\xf8\\\\\\x8b[\\x98\\xea\\x8cA\\xdc\\x87x\\r\\xc7\\x94\\x8azp\\xe1\\x04k\\x92&\\xccc\\xbb\\xb0 ;\\xf3}\\r7\\xbb\\x83\\xa3\\x19\\x7f\\xa8\\xef\\xc6\\xbcU,\\xe2\\xd6\\x8f\\xde\\xe8W\\xf4H\\x90z\\xb2\\x18\\xbfs#:5\\xd2Q\\x92\\x12Jh\\x8d]ba(\\xbe\\xbc\\xc8\\x0e\\xb2\\xd9\\x96\\x9e5>\\xe9\\xa6\\xed+\\xeb\\x82tt\\n\\x00\\x80e$\\x86py\\x92\\x05\\x83\\xd7\\xc3\\xb8B|b\\x15ev\\xe2\\xc3\\x8c8\\xb0\\x0f=\\x91s\\x08\\xd4\\xd7\\xac\\x1a\\x9c}\\xc3\\x91\\x0e\\xd4V\\xbb\"\\xc1\\xc4u\\xa9\\xf7\\xd0\\x14k\\xb2!\\x8fb\\x97\\xaa\\xa5D\\xc0\\xe3\\xffb\\x0b\\x8b\\x80\\xca}:{\\xfdf\\xd3[\\xd0\\xc9\\xfd\\x89'\n",
      "Length: 240\n",
      "Embedding Efficiency: 4.3\n",
      "==============\n",
      "756Here is your discount code RP176781. To stop further messages reply stop. www.regalportfolio.co.uk. Customer Services 08717205546\n",
      "customizedTechniques-2\n",
      "Jgtg ku aqwt fkueqwpv eqfg TR176781. Vq uvqr hwtvjgt oguucigu tgrna uvqr. yyy.tgicnrqtvhqnkq.eq.wm. Ewuvqogt Ugtxkegu 08717205546\n",
      "Length: 129\n",
      "customizedTechniques-3\n",
      "h",
      "",
      ">>>>",
      ">rpOUTUVOL>t>>",
      ">",
      "",
      ">",
      ">L>L",
      "LLL>c",
      ">s",
      "",
      ">NVUOUPNSSRT\n",
      "Length: 129\n",
      "customizedTechniques-5\n",
      "·Ä·p»Åp±ÁÇÄp¶»ÅµÁÇÀÆpµÁ¶·p¤¢~p¦ÁpÅÆÁÂp¸ÇÄÆº·Äp¿·ÅÅ³¹·ÅpÄ·Â¾±pÅÆÁÂ~pÉÉÉ~Ä·¹³¾ÂÁÄÆ¸Á¾»Á~µÁ~Ç½~pÇÅÆÁ¿·Äp¥·ÄÈ»µ·Åp",
      "",
      "\n",
      "Length: 129\n",
      "OpenSourceTechniques-6\n",
      "b'\\xc9\\x83\\xd0\\xcd\\xfe\\xec#\\xf8c\\xcdu\\xdb\\xafD%Rux.-\\x9d>\\xfd\\x16_\\x90\\x8c\\xcf\\xb9L\\x15\\x07\\xdd\\xe3\\xc0A\\xf1\\x98\\xb2\\xc7G-cc\\x94\\x90Wa\\x01\\x07\\xb5\\xf1\\xb4\\xa5\\x04E@\\xcf\\x0bp\\xcc\\x0c\\xa9E\\x95^CE\\x1c6\\xc5\\xeb\\xea\\x95\\x96\\xa9\\xfe\\xe3^\\xd9\\xda\\x9e$\\xb3B8\\xd6\\xfa\\x95X\\x19\\xf1\\x1c1\\xc4\\x92F\\x87`}%\\xe6\\x17<\\xd6\\x8f:\\xb1T\\xc1\\xf0\\xfe\\xbc4\\xf0tb\\x0b\\xca\\xee\\x88kx\\x1f\\xc0\\xc5\\xd3}\\x12[\\xad\\xb1\\xca\\xa9_\\xbep\\x8dB%\\x17@Bv\\xac\\x08\\xbd\\xd0O\\xeb3S\\xbe\\x97\\xc2{\\x0f:\\x0eA\\x83T\\xf8\\x8b\\xe7\\xc4\\x13,\\xaf* \\xb5O#\\xc5Z\\xc5\\xe1\\x0ea\\x14\\xb77\\x00!\\xcd\\x9e\\x94\\xe4\\x0c\\xce\\x14\\xdc\\xc7\\xbdo\\x1d\\x1cb\\xd3\\xf2\\x17\\n_\\xf3n\\x9d\\x0er\\xd9\\xb6b\\x19G;\\xad\\xec\\x1b\\xa8V\\xdc\\xf7\\xc8\\xb6\\r{\\n6\\xba1\\x83\\x1d(HF\\x90\\t\\x86C\\xc9'\n",
      "Length: 240\n",
      "Embedding Efficiency: 4.3\n",
      "==============\n",
      "757Hello my boytoy ... Geeee I miss you already and I just woke up. I wish you were here in bed with me, cuddling me. I love you ...\n",
      "customizedTechniques-2\n",
      "Jgnnq oa dqavqa ... Igggg K okuu aqw cntgcfa cpf K lwuv yqmg wr. K ykuj aqw ygtg jgtg kp dgf ykvj og, ewffnkpi og. K nqxg aqw ...\n",
      "Length: 129\n",
      "customizedTechniques-3\n",
      "h",
      ">>>LLL>g",
      "",
      "",
      "",
      ">i>>>",
      ">>i>>",
      ">L>i>>>",
      "",
      ">",
      "",
      ">>",
      ">>",
      "J>>",
      "L>i>",
      ">>LLL\n",
      "Length: 129\n",
      "customizedTechniques-5\n",
      "·¾¾Áp¿±p´Á±ÆÁ±p~~~p····pp¿»ÅÅp±ÁÇp³¾Ä·³¶±p³À¶pp¼ÇÅÆpÉÁ½·pÇÂ~ppÉ»Åºp±ÁÇpÉ·Ä·pº·Ä·p»Àp´·¶pÉ»Æºp¿·|pµÇ¶¶¾»À¹p¿·~pp¾ÁÈ·p±ÁÇp~~~\n",
      "Length: 129\n",
      "OpenSourceTechniques-6\n",
      "b'\\x97\\x8b\\x17\\x19Y[Lt@\\xc1\\xa06\\xb1n\\xfa\\xb1\\xa1\\x15\\xb9;o?\\xca\\xd14uZhs\\rXe\\xe8a\\x86\\xc4\\xbf\\xd9\\xad\\xa9\\xee\\xe2\\xf5\\xe7Y\\xc1F\\xe3\\x145\"PupE\\xfb\\xe9\\xae\\x14x\\xa8m\\x99\\x14s\\x83\\x1dd\\xe8]\\xb5\\xc2\\xfa3\\xd0;~q\\\\\\xa6Z\\xc7\\xda\\x02\\xa9\\xdf<\\xcd\\x0e\\x0c\\xd7Q\\xc8\\xe8\\xea\\xee^\\x94\\xa8\\xd7\\xb0\\x0b\\x9d\\x05\\x8d\\\\\\xad\\xbd,\\xf4*T\\xd1\\x92<\\x1a+\\xa0\\xbe\\xe0\\xc0\\x08\\xd4Q\\xf6E\\xc0Z\\x1e\\xde\\xf3\\xcb\\xf2\\xc4`\\x95\\xa2e\\xeb\\xfd)\\x12\\xc0\\xee\\xf0\\x0cz\\x8a\\x9d\\x8b\\xbaB\\xd9\\xd0\\xc2=j\\x0c\\xfc\\t=\\x01\\x8f\\xa8~\\xa6\\xa0\\xeb\\x9f\\x07T\\x9a\\xa9\\x87cO\\xdds\\xa0\\xeb\\xdd\\xe5G\\xcc\\x82\\xc1\\xc4k\\xb1kH\\x11\\x80\\x14\\x00\\x16\\xa5\\x86\\x85\\t\\xfbW\\xba\\xe7\\xc1\\x9ac\\xa1ef\\xd9a\\xd1\\x0e\\x17\\xd6\\x7f\\xa7\\x0e\\xd8\\xf1\\xcf\\xbf\\x10'\n",
      "Length: 224\n",
      "Embedding Efficiency: 4.607142857142857\n",
      "==============\n",
      "758Ever thought about living a good life with a perfect partner? Just txt back NAME and AGE to join the mobile community. (100p/SMS)\n",
      "customizedTechniques-2\n",
      "Gxgt vjqwijv cdqwv nkxkpi c iqqf nkhg ykvj c rgthgev rctvpgt? Lwuv vzv dcem PCOG cpf CIG vq lqkp vjg oqdkng eqoowpkva. (100r/UOU)\n",
      "Length: 129\n",
      "customizedTechniques-3\n",
      "e",
      ">>>>>>",
      ">>>",
      "",
      ">",
      "]>j>>>name>>age>>>",
      ">",
      ">L>FONNMsmsG\n",
      "Length: 129\n",
      "customizedTechniques-5\n",
      "È·ÄpÆºÁÇ¹ºÆp³´ÁÇÆp¾»È»À¹p³p¹ÁÁ¶p¾»¸·pÉ»Æºp³pÂ·Ä¸·µÆpÂ³ÄÆÀ·ÄpÇÅÆpÆÊÆp´³µ½p p³À¶ppÆÁp¼Á»ÀpÆº·p¿Á´»¾·pµÁ¿¿ÇÀ»Æ±~pxÂ¥¥y\n",
      "Length: 129\n",
      "OpenSourceTechniques-6\n",
      "b'\\x0c;\\xdf/2\\x85\\xc2\\xaf\\xbbTz\\x86\\xf2\\xcc\\xcf e\\x95\\xc0\\x97kn\\x0f\\t\\xe2\\xcb\\\\\\xb2\\x87\\xe2\\x12\\x86\\xdcX`Z6\\xe0B\\x11\\xd3\\xd6\\xb2l\\x1cO\\xf2G\\xb2\\xfck\\xf1\\xe5\\x14g\\x98\\x82\\'\\xb8>\\x00S\\x1f\\xcc\\xb6\\n\\x1dG(\\x03\\xd2\\xea\\x9b$e\\x86\\xc3\\x96k%\\x1a\\xc9\\x1e\\x83\\x02tR\\xd6\\n\\xee\\xca\\xa3\\xc4|\\xd93(\\t%\\x84\\x96\\x90\\'\\x0cJ\"0\\xb2\\x1d5o|/\\xdd\\x03,k\\x0bvvl\\x18\\xed7\\x9c\\x10Y\\xa55J/D=\\xf3\\xcc\\xecr\\x0f\\xd7D\\xf2R5\\x93\\xf5\\xdc\\xeb\\xc2o$\\xa0Vf\\x1c7\\xf1\\xa4\\xc7w\\xa1S\\xf8w0\\xf9\\xa2\\x86\\xdb>B\\xd6\\xc4\\x1c\\xe2\\xe7[3V\\x831\\x18:H\\x80\\x0c\\x9e\\x86\\xf3\\xf8\\x13\\xa5\\x07\\x82\\x87l\\xe3}\\xfaS\\xc9L\\x9a\\xdfv\\xcf\\t\\x9f\\\\h\\xfb\\x89b\\xee\\x1f4\\x9f\\xf4W\\xdc$\\x08r\\xb7\\xc9\\x18K\\xa7\\xf0\\xe5\\x97-\\xa1\\x84\\xf2\\xd2\\xcbj\\x01\\x9bi'\n",
      "Length: 240\n",
      "Embedding Efficiency: 4.3\n",
      "==============\n",
      "759\\BOO BABE! U ENJOYIN YOURJOB? U SEEMED 2 B GETTIN ON WELL HUNNY!HOPE URE OK?TAKE CARE & IåÕLLSPEAK 2U SOONLOTS OF LOVEME XXXX.\\\"\"\n",
      "customizedTechniques-2\n",
      "\\DQQ DCDG! W GPLQAKP AQWTLQD? W UGGOGF 2 D IGVVKP QP YGNN JWPPA!JQRG WTG QM?VCMG ECTG & KeUNNURGCM 2W UQQPNQVU QH NQXGOG ZZZZ.\\\"\"\n",
      "Length: 129\n",
      "customizedTechniques-3\n",
      "zboo>babe?>u>enjo_in>_ourjob]>u>seemed>P>b>gettin>on>well>hunn_?hope>ure>ok]take>care>D>isllspeak>Pu>soonlots>of>loveme>xxxxLz@@\n",
      "Length: 129\n",
      "customizedTechniques-5\n",
      "¬¡¡pqp§p ¡ p¡§¤¡p§p¥ppp¦¦ p¡ p©p§  q¡¢p§¤p¡¦p¤pvpµ¥¥¢p§p¥¡¡ ¡¦¥p¡p¡¨pªªªª~¬rr\n",
      "Length: 129\n",
      "OpenSourceTechniques-6\n",
      "b\"OlDCF\\x8c\\x18\\xdey\\x01\\xd1\\x1e`fEm\\xdfO\\xd9\\\\\\xba\\x97@@\\xb2,j\\xcfr\\x8a\\xd1r\\xdf\\xb2\\xed\\xf2\\x9b\\x83\\x07^kav-\\xdc\\xd9^\\x7f\\xd2\\x91\\x91\\xffu\\xb3V\\xcc\\xcfc\\x1e^\\x01f9<\\x94\\x9f\\xff`P\\xdf\\xbd\\xae\\x110\\xf7\\x88\\xf8\\x9d\\x9e\\xb2\\xea2\\xc3}\\x85\\x9cx/R\\x9d\\x9c\\xf4\\xe4\\xc4r\\x90\\xb6\\xac\\x8a\\xcd\\xba\\xec\\x07\\x95r\\x1d`W'5\\x0f\\xf7\\xd4n\\xae\\xb5\\xb4\\xe9\\xcd\\xa0\\x95\\xbf\\x7f\\xb4\\x1a\\xd8\\xbd\\xa5[\\xc3\\xf2y\\x9b\\x9bA\\x0f\\xc1\\x94m*=\\x18^\\x11\\x11\\xc5\\xa2\\x08|\\xec80\\xf0v\\xa0\\x95\\x1b\\x18\\x91\\x85r\\xd5\\x9e\\xf9\\x88r\\xafQ\\x1a\\x9a\\xa4\\xce\\xd2\\xd7\\xc1\\x07h\\x1b\\xcb\\xcc<a\\xa7\\x9f\\x11\\x08.8\\xc0z e\\x9a\\xdd\\xf7\\x0ek\\xc8p\\xc6\\xe3$\\xca8\\x06:\\x9ee\\xd0\\xbc\\xa3\\x907K8[\\xf7\\xe6\\xaf\\x9b\\x08\\xc0\\x8f\\x93\\x14J\\xbcV\\xf2\\x0e\\xba\\xebcC\\xae\\xfb;\\x8b\\xb0t\"\n",
      "Length: 240\n",
      "Embedding Efficiency: 4.3\n",
      "==============\n",
      "760The Xmas story is peace.. The Xmas msg is love.. The Xmas miracle is jesus.. Hav a blessed month ahead &amp; wish U Merry Xmas...\n",
      "customizedTechniques-2\n",
      "Vjg Zocu uvqta ku rgceg.. Vjg Zocu oui ku nqxg.. Vjg Zocu oktceng ku lguwu.. Jcx c dnguugf oqpvj cjgcf &cor; ykuj W Ogtta Zocu...\n",
      "Length: 129\n",
      "customizedTechniques-3\n",
      "t",
      ">x>>>",
      "",
      "LL>t",
      ">x>>>",
      "LL>t",
      ">x>",
      ">>",
      "LL>h>>",
      "",
      ">>",
      ">DY>>u>m",
      ">xLLL\n",
      "Length: 129\n",
      "customizedTechniques-5\n",
      "¦º·pª¿³ÅpÅÆÁÄ±p»ÅpÂ·³µ·~~p¦º·pª¿³Åp¿Å¹p»Åp¾ÁÈ·~~p¦º·pª¿³Åp¿»Ä³µ¾·p»Åp¼·ÅÇÅ~~p³Èp³p´¾·ÅÅ·¶p¿ÁÀÆºp³º·³¶pv³¿ÂpÉ»Åºp§p·ÄÄ±pª¿³Å~~~\n",
      "Length: 129\n",
      "OpenSourceTechniques-6\n",
      "b']\\x12\\'\\x134\\xa3X\\x11\\xc01\\xa6\\x87\\xe9\\xa1\\xd1\\x14U\\\\\\x00\\nr.\\x81\\x8b\\x80\\xb6\\x82\\xe5\\x9a@\\xb4\\xbb\\xdd\\xce\\xccc\\x95\\xbd\\x90r\\x1a\\xd4\\x89\\xe6\\x86\\x1c\\x1a\\xf1L\\x90\\x1dL\\xed~\\xd0\\xc9\\xab~\\xc0\\xa8P\\xa1<\\xf5\\xbct\\xa1\\xed0%\\xab\\xa1\\x1b\\xc3\\xfdL\\r,o\\x08\\xcd\\xc5\\x91t\\xb0t\\xe5C\\xc8yG\\x1d\\x9b\\'\\x90E@\\xdd\\x1b\\xea\\xcf\\xe6\\xc9\\xee\\xc6<\\xf7\\x00\\xe2\\xb7\\x07N\\xbdu\\xf9&FV\\x92T9\\x8f~F{\\x9bSZz\\x9c\\x08\\xe6\\\\\\x86\\x0e\\xeec\\x8f\\x12:p\\xb4\\\\\\x83q\\x19c}D\\x01?0\\xc4:\\xacz\\x17>\\xfb\\x9b\\xdf\\xf1\\xb2D\\x9c\\x07\\xac\\xa5\\x1a\\x97@\\xad\\xee\\xc4FW\\xddZ\\x8a\\xd3\\xd5k\\xe9\\xe9l\\xf1\\xd3\\x02\\xdb\\xb4\\n4\\xa2\\xfd\\xf9wz9\\x8dV\\x15\\xf4\\x96\"\\xdb\\x99\\x9f\\xddP\\x1cZ%\\xd6c\\xeaT\\xcb\\x12\\xe1\\xbb%\\x84\\x8d^`\\x97\\xa5@h\\x9e\\x87\\xbd\\xa0u\\x1b\\xf2\\x00\\xb9\\xb6/'\n",
      "Length: 240\n",
      "Embedding Efficiency: 4.3\n",
      "==============\n",
      "761Wait that's still not all that clear, were you not sure about me being sarcastic or that that's why x doesn't want to live with us\n",
      "customizedTechniques-2\n",
      "Yckv vjcv'u uvknn pqv cnn vjcv engct, ygtg aqw pqv uwtg cdqwv og dgkpi uctecuvke qt vjcv vjcv'u yja z fqgup'v ycpv vq nkxg ykvj wu\n",
      "Length: 130\n",
      "customizedTechniques-3\n",
      "w>E>>>>>",
      "J>",
      "",
      ">>>",
      ">>",
      ">",
      ">>>>E>>>",
      "E>>>",
      ">>\n",
      "Length: 130\n",
      "customizedTechniques-5\n",
      "©³»ÆpÆº³ÆwÅpÅÆ»¾¾pÀÁÆp³¾¾pÆº³Æpµ¾·³Ä|pÉ·Ä·p±ÁÇpÀÁÆpÅÇÄ·p³´ÁÇÆp¿·p´·»À¹pÅ³Äµ³ÅÆ»µpÁÄpÆº³ÆpÆº³ÆwÅpÉº±pÊp¶Á·ÅÀwÆpÉ³ÀÆpÆÁp¾»È·pÉ»ÆºpÇÅ\n",
      "Length: 130\n",
      "OpenSourceTechniques-6\n",
      "b'\\xecD\\x1fSKE3\\xda0^?\\xc4\\xdf\\x85\\xad\\n\\xf5\\x8b\\xc5\\xf6\\xea\\x8b\\xc7B\\x96\\x82\\xae\\xa7\\xfa \\xde\\xc1#\\xe9\\xb0N\\xfbVP\\xb0mC\\xce\\x93k7w\\x83k\\x16\\x8f^R\\x92L\\x08[g\\xc6\\x90Y\\xce\\xbay\\xf0;\\xb2\\x1f\\x19 \\\\:}f\\x1f\\xc3\\x98^\\xa28\\xc9\\x08\\x95\\xd1\\xceJ\\x83\\x00\\xe4\\\\SO)\\xc6\\xd7\\x80\\xf5S\\xa95n\\x01\\xa3s\\x97\\x9371\\xd1\\xd6\\x83q\\x0fT\\x9f*\\xfa\\xec\\x00\\xc5\\x95\\xb1q\\x07L\\xd3\\xf4H8\\x03\\xba\\x86X5M\\x8de\\xe2\\x93\\x17\\'\\xce\\xab`m8\\x05S \\r\\xf8z\\xa2c\\xb5\"\\xc66\\xa3r\\xcd\\xca\\x03\\xdc4X\\t\\xe2\\x964T\\xbfK\\x810\\x08f!4|b\\xa7\\xbfNq\\xb1q\\xf0n\\xc6\\xa8\\xa3\\xc9\\x83\\xbfrE\\x9d)D]9\\xe9bl\\xdc,\\xdd\\x13\\xfb\\xfc\\xcc\\xa7\\x96\\x93\\xe8OW[\\xa3\\x10\\xb0\\x9d\\xe0\\xc5.p^P\\xc6\\x14\\xea\\x7f\\x92\\x9fGM\\x8d0\\xbc'\n",
      "Length: 240\n",
      "Embedding Efficiency: 4.333333333333333\n",
      "==============\n",
      "762This girl does not stay in bed. This girl doesn't need recovery time. Id rather pass out while having fun then be cooped up in bed\n",
      "customizedTechniques-2\n",
      "Vjku iktn fqgu pqv uvca kp dgf. Vjku iktn fqgup'v pggf tgeqxgta vkog. Kf tcvjgt rcuu qwv yjkng jcxkpi hwp vjgp dg eqqrgf wr kp dgf\n",
      "Length: 130\n",
      "customizedTechniques-3\n",
      "t>>",
      ">>>>",
      "L>t>>",
      "E>",
      "",
      ">",
      "",
      ">",
      "L>i>",
      ">>>",
      ">>>",
      ">",
      ">",
      ">>>",
      "\n",
      "Length: 130\n",
      "customizedTechniques-5\n",
      "¦º»Åp¹»Ä¾p¶Á·ÅpÀÁÆpÅÆ³±p»Àp´·¶~p¦º»Åp¹»Ä¾p¶Á·ÅÀwÆpÀ··¶pÄ·µÁÈ·Ä±pÆ»¿·~p¶pÄ³Æº·ÄpÂ³ÅÅpÁÇÆpÉº»¾·pº³È»À¹p¸ÇÀpÆº·Àp´·pµÁÁÂ·¶pÇÂp»Àp´·¶\n",
      "Length: 130\n",
      "OpenSourceTechniques-6\n",
      "b\"P\\xb9q\\xcf\\xb9'o>\\xc0\\xa5~\\xdb\\xbd.\\n'\\xccu\\xcd[\\xd8sda:\\x97#\\xd7\\x85Y\\xb5\\xe5\\x82-R\\x19\\x8e\\xa4d\\xc1\\x0f\\xf2\\xf8\\x92{\\x8c2\\x8c\\xe8\\rD6\\x8c\\xc3\\xa9\\x16\\x1d(iW\\xdd#\\x8b\\xb6XH\\xc9\\xc3\\x15s\\n\\xc6\\xb2\\x97\\xb3\\x16\\xf0:\\xf4\\x17G\\xb1B\\xcaE,\\xbf5~X\\x8a!F`\\xaa&ZI\\xcc\\xff\\xf3zP\\x10\\x89\\x1en\\xcc\\xc3\\xa7\\x9f\\xdb\\x01\\xd6\\xd4\\x0f\\xf5H^^\\x90\\x06\\x01\\xaas\\x8fh\\x8c\\xd20\\xe9~\\xbc3\\x83\\x86\\x86{\\x1b[+L<i\\xda\\x7f\\x7f`(\\xfc\\xfa\\x0f\\x02\\x12\\xfb;\\xb1k\\x9atU\\xe5Q\\xdc]\\xc3\\t\\xa1B\\xdd\\xb5v!\\xb7\\xce}O\\x1f\\x1de$\\xee~\\x11\\xaa\\xef\\xcd/\\x86\\xd1xn\\xe2F\\x81[\\xc3\\xbamw\\xf1\\xc3\\xd6$\\xb2\\xe3\\x06\\xef\\n\\xa9\\xa6=\\x03\\x1eW\\xd6\\x9cU\\x84\\x84\\xfc\\xdf\\xbc@\\x02\\xabY\\xdc\\xcf\\xc9Z\\xdf\\x96\\x8a\\x15\\x91~\\x9cOR\"\n",
      "Length: 240\n",
      "Embedding Efficiency: 4.333333333333333\n",
      "==============\n",
      "763New TEXTBUDDY Chat 2 horny guys in ur area 4 just 25p Free 2 receive Search postcode or at gaytextbuddy.com. TXT ONE name to 89693\n",
      "customizedTechniques-2\n",
      "Pgy VGZVDWFFA Ejcv 2 jqtpa iwau kp wt ctgc 4 lwuv 25r Htgg 2 tgegkxg Ugctej rquveqfg qt cv icavgzvdwffa.eqo. VZV QPG pcog vq 89693\n",
      "Length: 130\n",
      "customizedTechniques-3\n",
      "n",
      ">textbudd_>c>P>>>>>",
      ">R>>PS>f",
      "",
      ">P>",
      "",
      "",
      ">s",
      ">",
      ">>>",
      "LL>txt>one>",
      ">>VWTWQ\n",
      "Length: 130\n",
      "customizedTechniques-5\n",
      " ·Ép¦ª¦§pº³ÆppºÁÄÀ±p¹Ç±Åp»ÀpÇÄp³Ä·³pp¼ÇÅÆp",
      "ÂpÄ··ppÄ·µ·»È·p¥·³ÄµºpÂÁÅÆµÁ¶·pÁÄp³Æp¹³±Æ·ÊÆ´Ç¶¶±~µÁ¿~p¦ª¦p¡ pÀ³¿·pÆÁp\n",
      "Length: 130\n",
      "OpenSourceTechniques-6\n",
      "b'\\xcb\\xb3\\xa9\\x94\\x9du\\x84\\xd7{\\xbfr\\x91\\x0fT5i7g\\tN\\x94\\xbd/\\xbbmJ\\x8a\\xde\\x93\\x84\\x12F\\xeb1\\x8e@Fv[\\xc1\\x80(\\xfc\\xea\\\\t\\xc1\\xc7\\xa8;\\x0bj#\\xda\\xd0\\x82b\\xe7K\\xeew\\xda?\\x1d\\x9d\\xf2x\\x91\\x91q\\x1f\\xa4\\x13Z\\xedZk\\xb3\\xf0F\\xdbj\\xf4\\xa4R/\\xc9\\x08\\x8d\\x14y\\x9c\\xfc\\x96\\x92\\x99\\xad\\xea\\xf0\\x9fX\\x80\\x0c!\\xd7\\x018\\xc4\\xbd8\\x17\\xf0\\xe4\\xcb\\x86\\xc0X\\xd0$\\xd4\\xaf\\x96\\xd3\\xd6\\x8d\\xb2r\\xc3\\xd3\\x85\\x07q.\\xbb:\"|n\\x9aw\\xfa\\x08\\xdd\\xec\\xa4\\xf4\\xc9$O`\\xbf\\xb4\\xe7\\xc6?\\xfd\\x0e(\\x80<\\x90W\\xbda\\x9c\\x98\\xea\\x9bi\\xbd\\r\\xf0\\x80\\x193KOfI\\xaf\\x84C^~I\\xd6-\\x81@:\\'\\xcdC\\xa4\\n.w\\x9e\\xee\\xb5\\xcdR\\xbb\\x9d\\x89b\\xcc\\x8a\\xa14\\xd2\\x1ek\"\\x17\\xf1\\xb6\\xf2?\\xd8\\x01FdY\\x90\\xa17\\x84Kd\\x12\\t\\x12^\\xe4Cd\\x17\\xcd\\xae'\n",
      "Length: 240\n",
      "Embedding Efficiency: 4.333333333333333\n",
      "==============\n",
      "764Hi mate its RV did u hav a nice hol just a message 3 say hello coz havenåÕt sent u 1 in ages started driving so stay off roads!RVx\n",
      "customizedTechniques-2\n",
      "Jk ocvg kvu TX fkf w jcx c pkeg jqn lwuv c oguucig 3 uca jgnnq eqb jcxgpeUv ugpv w 1 kp cigu uvctvgf ftkxkpi uq uvca qhh tqcfu!TXz\n",
      "Length: 130\n",
      "customizedTechniques-3\n",
      "h>",
      ">>rv>>>>>",
      ">>>>",
      "",
      ">Q>>",
      ">>",
      "s>",
      ">>O>>",
      ">",
      ">>>>>?rv\n",
      "Length: 130\n",
      "customizedTechniques-5\n",
      "»p¿³Æ·p»ÆÅp¤¨p¶»¶pÇpº³Èp³pÀ»µ·pºÁ¾p¼ÇÅÆp³p¿·ÅÅ³¹·ppÅ³±pº·¾¾ÁpµÁ²pº³È·Àµ¥ÆpÅ·ÀÆpÇpp»Àp³¹·ÅpÅÆ³ÄÆ·¶p¶Ä»È»À¹pÅÁpÅÆ³±pÁ¸¸pÄÁ³¶Åq¤¨Ê\n",
      "Length: 130\n",
      "OpenSourceTechniques-6\n",
      "b'\\xdd\\xbf\\xb5($\\xe29\\xbc\\x7f\\x8f/t\\xc6\\n\\xbeM\\xa1l\\xb1\\xbc8X\\x04r#N\\xa3\\x02r\\x97uh=\\x0f5\\xfd\\xf5\\x01\\xbb\\xf8\\xed\\xeeP\\x85p1\\x80\\xb8>\\x0e\\x9f\\xd5\\xb6\\xf5\\xfeR\\x96\\xf5\\xf7\\x0ef\\x18u\\xdb\\x8b0\\xaf\\xb8\\x14\\x1f\\xf5\\x82\\xf5xa\\x1d\\x0e\\xb7U\\xe2\\x91.\\xa1\\xd3)\\xc2\\xba\\x8a?\\x89@\\x17\\xba\\xb3\\xb9\\x1fv\\xd6/\\x87\\xa9\\x1d\\x97\\x80\\xf8I(\\x8a\\x13\\x94\\xfe\\xe9\\x98\\x99?\\xd4\\x18^\\xcd\\xa5\\xaa@\\xf8G\\xcf\\x99\\xb9\\xa9\\x95\\xae\\x18B\\x0e5\\x7f\\x91Y\\x04\\x1f\\x03.\\xa2/\\xf6P\\x11yH\\xf8\\x93\\xaa\\x1e\\xc8)\\xf9Ix\\nU\\xd5\\xb5\\xd2\\xbb5:\\xda\\x9f\\xa7\\xc5c\\x0fs\\xc1\\x9cc@*BT`\\xc0OL\\xaf\\xb6\\xca\\x96\\x82\\xf4\\xf5\\xa3\\x08\\xc0d\\xb9}<\\x93\\xd6\\x18\\xb5g\\xcb1$\\x04\"q-\\x93\\xb1\\xea\\xb6\\x01\\xb5\\xb0\\xdb\\x8eB\\xb1h\\xb3\\x81\\xc7\\xae\\x162\\x1cXj\\x02\\xc0\\'\\x98\\xfa~\\'E~k'\n",
      "Length: 240\n",
      "Embedding Efficiency: 4.333333333333333\n",
      "==============\n",
      "765Hi its Kate how is your evening? I hope i can see you tomorrow for a bit but i have to bloody babyjontet! Txt back if u can. :) xxx\n",
      "customizedTechniques-2\n",
      "Jk kvu Mcvg jqy ku aqwt gxgpkpi? K jqrg k ecp ugg aqw vqoqttqy hqt c dkv dwv k jcxg vq dnqqfa dcdalqpvgv! Vzv dcem kh w ecp. :) zzz\n",
      "Length: 131\n",
      "customizedTechniques-3\n",
      "h>>k",
      ">>>>",
      "",
      "]>i>",
      ">>>",
      "",
      ">>>>>>>>",
      ">>>",
      "?>t>>>>L>XG>\n",
      "Length: 131\n",
      "customizedTechniques-5\n",
      "»p»ÆÅp³Æ·pºÁÉp»Åp±ÁÇÄp·È·À»À¹ppºÁÂ·p»pµ³ÀpÅ··p±ÁÇpÆÁ¿ÁÄÄÁÉp¸ÁÄp³p´»Æp´ÇÆp»pº³È·pÆÁp´¾ÁÁ¶±p´³´±¼ÁÀÆ·Æqp¦ÊÆp´³µ½p»¸pÇpµ³À~pypÊÊÊ\n",
      "Length: 131\n",
      "OpenSourceTechniques-6\n",
      "b'\\x99\\xbc!\\x94\\xcd\\xde\\x17\\x8b&\\t\\x14\\x85w\\n\\xec\\xf06\\x7f\\x8bd>\\xf3N\\xec\\xa8WC\\tK\\x91\\xe7\\x9c+@\\x03\\\\S\\xa4\\x99\\xa8\\xb1\\x96\\xf4g)W\\xad\\xc6\\xb0\\xb9-\\xeb\\x7f\\xfe\\xc4\\x1e}Y7\\x83j+8\\r\\xa6\\x86\\xb4\\x04\\x02!\\x05{\\x13_\\xad\\x16\\xb4\\r\\x98_(0\\xbd\\x99B,C[\\xe1\\x03X\\xc2\\xeb _\\xe3\\xf8h\\xcb5\\xc0\\x7fv\"\\xe5\\x85 V~>K\\x05<\\x97t\\x11\\xbf\\xd9P:\\x9f\\xc9j\\xeb\\xa2\\xablf\\xba\"\\xb3u\\x92>\\xbbtm\\x1f\\x06\\x03\\x94j\\xe3\\x8fS\\\\\\xb6\\xc9\\xc3\\xa3I\\xfa\\xc1\\xb4\\x8e\\xcc\\xb2\\xd5\\'\\xb7SF\\x8f\\xef\\xd2\\xc4\\x85\\xd3\\xe0\\x01\\x17\\x01\\xe0\\x8a\\xebZc\\xeb\\xdb<\\x1f,9\\xc3\\x08\\xc8w~(\\xa0\\\\\\xb1I\\x9bt<}\\xb1|\\x92\\xa3\\xe5W\\xc7\\x8b\\xe6\\x18\\xc3\\xd9\\xed\\xe1\\xb4\\xf1x\\xe0\\tB|\\x9b>\\x81\\x01\\xb1\\xb1\\xb4 \\x04\\xe82\\x19\\xa2\\xd5\\x00H?\\x8a(\\n\\x8d\\x9e'\n",
      "Length: 240\n",
      "Embedding Efficiency: 4.366666666666666\n",
      "==============\n",
      "766Well there's not a lot of things happening in Lindsay on New years *sighs* Some bars in Ptbo and the blue heron has something going\n",
      "customizedTechniques-2\n",
      "Ygnn vjgtg'u pqv c nqv qh vjkpiu jcrrgpkpi kp Nkpfuca qp Pgy agctu *ukiju* Uqog dctu kp Rvdq cpf vjg dnwg jgtqp jcu uqogvjkpi iqkpi\n",
      "Length: 131\n",
      "customizedTechniques-3\n",
      "w",
      ">",
      "",
      "E>>>>>>",
      ">>l>>n",
      ">",
      ">HH>s",
      ">>>p>>",
      ">",
      ">",
      ">>",
      ">\n",
      "Length: 131\n",
      "customizedTechniques-5\n",
      "©·¾¾pÆº·Ä·wÅpÀÁÆp³p¾ÁÆpÁ¸pÆº»À¹Åpº³ÂÂ·À»À¹p»Àp»À¶Å³±pÁÀp ·Ép±·³ÄÅpzÅ»¹ºÅzp¥Á¿·p´³ÄÅp»Àp¢Æ´Áp³À¶pÆº·p´¾Ç·pº·ÄÁÀpº³ÅpÅÁ¿·Æº»À¹p¹Á»À¹\n",
      "Length: 131\n",
      "OpenSourceTechniques-6\n",
      "b'N\\xd9\\xdc9\\xdc\\xf6\\xcd\\xa6\\xf9\\xe0\\xad\\x99\\xae\\xe1>\\x811~\\x01\\xc4\\xaa\\xb7\"\\x15\\xdc\\xb1\\x8cj\\xbf\\xe7\\x88 \\r\\x88\\xaa\\xda\\xfd\\x18\\x8e\\'\\x9d\\xc9\\x06o\\xdc\\xcb\\x90;\\xacg\\xee\\x14.\\x02\\xc8\\x8cG5j\\x958\\xe8N\\xb5\\x8c\\xbe!\\x1c\\x1e>,\\x0f=4\\xa24\\xf5s\\xb7\\xac\\x8d-2\\x0f1\\x8f \\xec\\xb3\\x12^r\\xd2\\xcc\\x84\\x8c\\x95\\x80y\\x83\\xa4 \\x01\\x0c\\xb0\\x99\\xe2$\\xb6\\xebbq\\x8aGM\"\\xf7B\"\\x03\\x86@\\x9eN\\x8clh`\\xa1\\xc8\\xe0\\x9f\\xcdz\\x9e\\x07\\xbd\\xc8&p\\x1d\\x9c\\xd3\\xe0I\\x04\\xac\\xbd\\xa8\\x1d\\xd3\\xad)\\x97\\xd3\\xa7d\\\\*\\xb4o@\\xa9\\xce\\xac\\x17\\xa6l^\\x9f\\xe2\\xbe\\xf7\\x01\\xb6\\x19t\\xa5\\xda\\x95\\x85\\xa2\\x0e\\xfcsW\\xa4\\x1e\\xc6\\xcd\\x15R{V\\xf0b\\xb0\\xc8\\x8b\\xa0w\\xda\\x96\\x8d\\xda\\xf0n\\x88dZ\\xe1\\xeb\\x14s\\xfb:F\\xa9R\\xfc\\xddCkPtB\\x9d\\xbe\\xa5\\xd6\\xf4l\\xd9\\xb9f\\x83O\\x93U\\xce'\n",
      "Length: 240\n",
      "Embedding Efficiency: 4.366666666666666\n",
      "==============\n",
      "767Good afternoon starshine! How's my boytoy? Does he crave me yet? Ache to fuck me ? *sips cappuccino* I miss you babe *teasing kiss*\n",
      "customizedTechniques-2\n",
      "Iqqf chvgtpqqp uvctujkpg! Jqy'u oa dqavqa? Fqgu jg etcxg og agv? Cejg vq hwem og ? *ukru ecrrweekpq* K okuu aqw dcdg *vgcukpi mkuu*\n",
      "Length: 131\n",
      "customizedTechniques-3\n",
      "g>",
      ">",
      "?>hE>>]>d",
      ">",
      ">",
      ">",
      ">",
      "]>a",
      ">>>",
      ">]>H>H>i>>>",
      ">H",
      ">H\n",
      "Length: 131\n",
      "customizedTechniques-5\n",
      "ÁÁ¶p³¸Æ·ÄÀÁÁÀpÅÆ³ÄÅº»À·qpÁÉwÅp¿±p´Á±ÆÁ±pÁ·Åpº·pµÄ³È·p¿·p±·Æpµº·pÆÁp¸Çµ½p¿·ppzÅ»ÂÅpµ³ÂÂÇµµ»ÀÁzpp¿»ÅÅp±ÁÇp´³´·pzÆ·³Å»À¹p½»ÅÅz\n",
      "Length: 131\n",
      "OpenSourceTechniques-6\n",
      "b'\\x1f~\\xe0\\xb3\\xea\\x1c\\x05\\xbb\\xe9\\xd3\\x08\\x1c?\\xea\\xf6 q\\x16\\xfed.\\x07\\x8f\\xe6\\xba\\xa5\\xa2\\x96\\x8b\\x96h\\xbc\\xdf3\\xd2\\xdb^D\\x19\\x1e\\xacm\\xd4\\xbd\\x06\\x06&\\xe4\\xfc\\x04\\xc9\\xe4\\xcb\\xe3-}\\xefA\\xf2s\\xf9y\\x1e\\xe5\\x08,d\\xe7\\x82\\x12\\x00]\\x02f\\xd7\\xc4\\x8a\\xe7$w\\x9c\\x8bJ\\xe5`\\xc0\\x8a\\x984\\xc7]3\\xbfy\\x1e\\x0b\\x8a\\x03s\\xcb\\x13\\x8ac\\xeay\\x8f)\\x11\\xcd\\x87`6V\\xb4U\\x07n\\x001\\rX\\xd4\\xf8L\\x91\\xf7M+\\x02\\xeb\\xa9\\xf1W\\xa1L5\\x87\\xe0\\xce\\xd9a>\\xd4d\\xa0E\\xc4\\xebZ\\xc2\\x98L\\x87\\xdc\\xef\\xc6\\xe6kYG\\x18\\xba*%.L\\xebs\\xfa\\x9b\\x84\\x1a\\x84\\xac\\xb1\\xe4g\\xa2\\x95\\x85A3\\x84[k\\x11I\\xaf\\xd2\\x9f\\xdb\\xfd\\x05\\x8f\\xa8{\\xe8\\xeb\\xd3\\xa6\\xc9\\xfc\\x82\\xf2D\\xba\\xa3\\x9d\\x7f\\x1d\\x8d@a{A\\xf3\\xe2Y\\x03\\xe8\\xa6\\x80\\\\\\xff\\x00 *\\xc2,\\xcf\\x14\\xa0,Q\\xddju~2\\xea'\n",
      "Length: 240\n",
      "Embedding Efficiency: 4.366666666666666\n",
      "==============\n",
      "768U are subscribed to the best Mobile Content Service in the UK for å£3 per 10 days until you send STOP to 82324. Helpline 08706091795\n",
      "customizedTechniques-2\n",
      "W ctg uwduetkdgf vq vjg dguv Oqdkng Eqpvgpv Ugtxkeg kp vjg WM hqt e£3 rgt 10 fcau wpvkn aqw ugpf UVQR vq 82324. Jgnrnkpg 08706091795\n",
      "Length: 132\n",
      "customizedTechniques-3\n",
      "u>",
      ">",
      ">>",
      ">",
      ">m",
      ">c",
      ">s",
      "",
      ">>",
      ">uk>>ÁQ>",
      ">ON>>>>",
      ">stop>>VPQPRL>h",
      "",
      ">NVUNTNWOUWS\n",
      "Length: 132\n",
      "customizedTechniques-5\n",
      "§p³Ä·pÅÇ´ÅµÄ»´·¶pÆÁpÆº·p´·ÅÆpÁ´»¾·pÁÀÆ·ÀÆp¥·ÄÈ»µ·p»ÀpÆº·p§p¸ÁÄpµópÂ·Äpp¶³±ÅpÇÀÆ»¾p±ÁÇpÅ·À¶p¥¦¡¢pÆÁp~p·¾Â¾»À·p",
      "\n",
      "Length: 132\n",
      "OpenSourceTechniques-6\n",
      "b\"]8\\x0b\\x97\\xcb\\x83v\\xf9>\\xe95\\xba\\xb2\\x1c\\xb8;\\xd81#\\xdb\\x95\\xfeQ\\x96\\x06C?i\\x0c\\x06\\x06\\r\\x94{\\xe9\\xecQ$\\xe3\\x15\\x92M\\x13o$l\\xb7\\xf4(0\\xe9\\x8cjL\\x86\\xde\\xa7\\xd2\\xf1\\xa3\\t\\xa4\\x9c\\xde\\xe7\\x06\\xed\\x91M\\xd00 \\x92\\xf5o\\xff\\x91\\x0b5m_8J'\\x16\\xa7\\x16\\x88\\xf3\\xbdU%\\xcaZL_\\xc8M\\x92\\x19\\xe5\\xd1g\\r\\xd2\\xba\\xf6\\xec\\xd4)O\\x13bD\\xf2\\xbe\\xe7D\\xf4[\\xfd\\x9b.\\x1b/\\xb5,UM\\xb6\\x89\\xbd \\x18\\x0e\\xeeK\\xb9-d\\x85u\\xbe\\x8c\\x8a\\xa2wtN\\x0c\\xad\\x87l,\\x84\\xccZ\\x9c\\x14\\xf0`\\xbeq\\xae\\x01i[jw\\xaacNb\\x9b,{9\\x19L\\x08\\xc2S\\x17`\\xa8\\x00m\\xe6\\x0fe\\x88Te\\xd2\\x08\\x88\\xa1&]Sm\\xd3=LSB\\x17P\\x0e\\\\k}\\xdf_\\x9c\\x16\\x89\\xd3\\x0bV\\xe2p\\xb5\\x9d\\x01\\x885C\\x04\\x98t@\\xa9\\xd4\\xfa.\\x17\\xe8\\xc7\\xd7\"\n",
      "Length: 240\n",
      "Embedding Efficiency: 4.4\n",
      "==============\n",
      "769U have a secret admirer who is looking 2 make contact with U-find out who they R*reveal who thinks UR so special-call on 09058094565\n",
      "customizedTechniques-2\n",
      "W jcxg c ugetgv cfoktgt yjq ku nqqmkpi 2 ocmg eqpvcev ykvj W-hkpf qwv yjq vjga T*tgxgcn yjq vjkpmu WT uq urgekcn-ecnn qp 09058094565\n",
      "Length: 132\n",
      "customizedTechniques-3\n",
      "u>",
      ">>",
      "",
      ">",
      ">>>>P>",
      ">>>uK>>>",
      ">rH",
      "",
      ">>>ur>>",
      "K>>NWNSVNWRSTS\n",
      "Length: 132\n",
      "customizedTechniques-5\n",
      "§pº³È·p³pÅ·µÄ·Æp³¶¿»Ä·ÄpÉºÁp»Åp¾ÁÁ½»À¹pp¿³½·pµÁÀÆ³µÆpÉ»Æºp§}¸»À¶pÁÇÆpÉºÁpÆº·±p¤zÄ·È·³¾pÉºÁpÆº»À½Åp§¤pÅÁpÅÂ·µ»³¾}µ³¾¾pÁÀp",
      "",
      "",
      "\n",
      "Length: 132\n",
      "OpenSourceTechniques-6\n",
      "b't/\\xa2&L\\x7f\\xac%\\xa2\\x9e\\xe1\\x8ccU\\x86\\x12/m\\x08\\xfb&\\xec\\x8c\\x8c\\x8b$hC\\xb6\\xbc&\\x05on\\x8dGB\\xe7\\xc67ky\\xfa\\xb6\\xc0\\xd4w\\xd7o4\\xb6\\x1a\\xf5=\\xecr\\x0e\\xe9\\xd5}qm4\\x9b\\xb5S&\\x8c\\xcdR\\xb5\\xad\\t\\x18\\xe3*b4\\x97\\xeb)O\\x9b\\xe7\"+\\x85\\x0fd1\\x0c\\x96\\x97\\xea\\x11\\x01\\xb4\\x8f\\xd5N\\xf8\\xa0\\xb5\\x07\\x8f7\\x94\\xe6\\xbf\\xf7IR\\xe9i=\\xbcf\\x0ch\\xb5\\x85\\xda1\\xcfM\\xbd\\xd6T\\x97`\\xa0\\x9b~\\x8d\\xec\\xbaw\\xd3\\xe7pc\\xf6\\x90[\\xc5\\xe6\\xbbe\\xfc\\xf5\\xec`\\x8e\\xd0*;\\xb8\\xb6\\x06\\xda\\xcf\\x9f\\x02\\x1f\\x00b\\x99\\xe7\\xfe\\xdf\\xfd\\xe5{\\x82P\\x9e\\xe6\\xf5\\xd5;%\\xc0\\x9by\\xda\\x1e\\x901\\x82\\xf7\\xf1\\xc1xtA\\xe1\\xc5\\xff\\x90p\\x02\\xc4\\xd4`W`\\x9a\\x13$5-a,\\x98\\x9c.*\\xaa\\t\\xcaNgB\\xc7`N\\x05yj\\x93Z\\xddpH\\xc4\\x14)\\xaf`\\xa9'\n",
      "Length: 240\n",
      "Embedding Efficiency: 4.4\n",
      "==============\n",
      "770How about getting in touch with folks waiting for company? Just txt back your NAME and AGE to opt in! Enjoy the community (150p/SMS)\n",
      "customizedTechniques-2\n",
      "Jqy cdqwv igvvkpi kp vqwej ykvj hqnmu yckvkpi hqt eqorcpa? Lwuv vzv dcem aqwt PCOG cpf CIG vq qrv kp! Gplqa vjg eqoowpkva (150r/UOU)\n",
      "Length: 132\n",
      "customizedTechniques-3\n",
      "h>>",
      ">>>>>>>]>j>>>>name>>age>>>?>e>",
      ">>FOSNMsmsG\n",
      "Length: 132\n",
      "customizedTechniques-5\n",
      "ÁÉp³´ÁÇÆp¹·ÆÆ»À¹p»ÀpÆÁÇµºpÉ»Æºp¸Á¾½ÅpÉ³»Æ»À¹p¸ÁÄpµÁ¿Â³À±pÇÅÆpÆÊÆp´³µ½p±ÁÇÄp p³À¶ppÆÁpÁÂÆp»ÀqpÀ¼Á±pÆº·pµÁ¿¿ÇÀ»Æ±px",
      "Â¥¥y\n",
      "Length: 132\n",
      "OpenSourceTechniques-6\n",
      "b'!6\\xa0cJv\\xac\\xf7\\x9dJt`M\\xfb0\\x1b\\xaaOG\\x90\\x13\\x17x\\x93\\x8bw\\xba\\x19n\"\\xe5x2J\\xe9\\xf9SUr\\xd5\\x0e\\x01>\\xef\\xf7\"\\xfd\\x08\\x80\\xd3l\\x85\\x82\\xe8\\xc6\\xd5\\x15\\x0e\\xca\\t\\xa6\\x0ble=\\x04\\xde`1K\\xd9\\x9a\"\\xbe\\xa2\\x0c\\xf0c\\xd0\\xcc5\\\\\\xeb\\xb4\\x00O\\xdc\\r0\\x1a^:Q\\x9e/!\\x0b{\\x99E\\xdd\\x1e\\xc3Z\\xc5?\\xac\\x06Jk\\x0cV\\xdc1\\x00|\\x08\\xbbl\\xae\\x06\\xf8Xy3L%\\xd7\\xfa\\xdbbQ\\xb0P\\xcf\\xb5\\xc6P(\\xf6w\\x9d\\xae\\x04\\x83\\xbb\\x8d\\xb1\\x003l{O1h\\xa83K\\xe9\\xe2;\\x8b\\xf9%\\xafNu\\x9f0\\x0fPq\\xe4\\xac^\\x99\\x9f9.\\x9b\\x9d\\x99\\r\\x17\\x8e\\x03q`6\\xed\\x86\\x1a\\xcc_\\x1d\\xa0\\x1e4\\x8f\\xf1\\x82Fq\\'\\xd7\\xa3`\\xf4\\x8e\\xf9\\xff1\\x9a3\\xd2\\xbb\\x84\\x8c\\xf70kA\\x19\\xd7F\\xcep\\x01I>4\\xa4*\\x02\\x15$<\\xce\\xd9\\xce'\n",
      "Length: 240\n",
      "Embedding Efficiency: 4.4\n",
      "==============\n",
      "771I don't quite know what to do. I still can't get hold of anyone. I cud pick you up bout 7.30pm and we can see if they're in the pub?\n",
      "customizedTechniques-2\n",
      "K fqp'v swkvg mpqy yjcv vq fq. K uvknn ecp'v igv jqnf qh cpaqpg. K ewf rkem aqw wr dqwv 7.30ro cpf yg ecp ugg kh vjga'tg kp vjg rwd?\n",
      "Length: 132\n",
      "customizedTechniques-3\n",
      "i>E>",
      ">>>>L>i>>E>",
      ">>>",
      "L>i>>>>>>ULQN>>",
      ">>",
      "",
      ">>",
      "E",
      ">>",
      ">]\n",
      "Length: 132\n",
      "customizedTechniques-5\n",
      "p¶ÁÀwÆpÃÇ»Æ·p½ÀÁÉpÉº³ÆpÆÁp¶Á~ppÅÆ»¾¾pµ³ÀwÆp¹·ÆpºÁ¾¶pÁ¸p³À±ÁÀ·~ppµÇ¶pÂ»µ½p±ÁÇpÇÂp´ÁÇÆp~Â¿p³À¶pÉ·pµ³ÀpÅ··p»¸pÆº·±wÄ·p»ÀpÆº·pÂÇ´\n",
      "Length: 132\n",
      "OpenSourceTechniques-6\n",
      "b'\\xd5\\x01s\\xa9\\n\\xbb\\xab\\x08\\xe4b\\xfdc\\\\V\\x11\\xa4\\xd0\\xc4\\x86\\x95\\x8b\\x15\\xe0\\x06\\xd1\\x1bs\\x81fe\\xf4\\xda\\xd5\\xadb\\n8\\xa2\\xd0*\\x9dA\\xb8<9\\xe8\\x1eG\\xb4\\xa64\\x19\\x1d\\xadx)D\\x80P\\xe5\\x10\\'\\x03\\xb9Wf|\\x1d\\\\\\xe5a\\xbf\\xd2e\\xeby\\x99,n\\x81\\x99i\\x8e\\x0c\\xca\\x05;*\\xae\\x13\\xc9-\\x9d{\\xf1\\xe3\\xa0\\xd8^\\xc2\\xfa\"t\\xb67\\xa6P\\x07Pf\\xcd\\x8dA\\x06\\x01\\x01%\\xed\\xa8Q&\\xa6\\x81\\xa3\\xbb\\x082\\xe4TB3\\x1a\\xb7Y\\x03\\xa6rR\\xa6\\x8c\\r\\xaa\\xa0\\xde\\x80\\xf5-\\x13\\x06q\\xd2\\xac\\xb4eV\\xe2\\x07\\x81A\\xefffY\\xe3\\xb8:\\xde\\xffj7\\xb9\\xd6:@\\xf9\\xc1\\x06\\x81\\xea\\xe4\\xf8\\x0b\\x18\\x92Y\\x17w\\x90+\\xf5\\x1f\\x18\\xab\\xb6\\x91\\xa1\\xf6S\\xfa4\\x10\\xb4p\\x1d\\xa8S\\xbe\\x8a\\x86=cP\\x0f1X\\r\\x942\\xe0\\x0c\\x1b\\xd6^\\xfbj\\xca)\\xfa\\x95\\xb8\\xef\\xf0\\xfb\\xc7\\x96hJ\\xd11]'\n",
      "Length: 240\n",
      "Embedding Efficiency: 4.4\n",
      "==============\n",
      "772Ringtone Club: Get the UK singles chart on your mobile each week and choose any top quality ringtone! This message is free of charge.\n",
      "customizedTechniques-2\n",
      "Tkpivqpg Enwd: Igv vjg WM ukpingu ejctv qp aqwt oqdkng gcej yggm cpf ejqqug cpa vqr swcnkva tkpivqpg! Vjku oguucig ku htgg qh ejctig.\n",
      "Length: 133\n",
      "customizedTechniques-3\n",
      "r",
      ">cX>g",
      ">",
      ">uk>",
      ">>>>",
      ">",
      ">",
      "",
      ">>",
      ">>>>",
      "?>t>",
      "",
      ">>",
      "",
      ">>",
      "L\n",
      "Length: 133\n",
      "customizedTechniques-5\n",
      "¤»À¹ÆÁÀ·p¾Ç´p·ÆpÆº·p§pÅ»À¹¾·Åpµº³ÄÆpÁÀp±ÁÇÄp¿Á´»¾·p·³µºpÉ··½p³À¶pµºÁÁÅ·p³À±pÆÁÂpÃÇ³¾»Æ±pÄ»À¹ÆÁÀ·qp¦º»Åp¿·ÅÅ³¹·p»Åp¸Ä··pÁ¸pµº³Ä¹·~\n",
      "Length: 133\n",
      "OpenSourceTechniques-6\n",
      "b\"\\x8e\\xd1\\x1e\\x0c\\xb3qpQ\\\\*\\x18\\xa8\\xbeUl^N`\\xfcf\\x88\\xee^&Wl\\xfc\\x90aF\\xff*)jC'\\xf5BO;\\x9b9\\x91G\\xda\\xf0\\x03\\x81.\\x84l-7\\x87\\xfa}R4\\x08\\x0fl\\x01\\xf0\\xd2O\\x08GMl\\x01\\xdd\\xd2v\\x84;\\x9b\\x00Q\\x80\\x15Z\\x07\\xeb\\xb1LWr\\xf3d\\x8e\\xe9+\\xcf\\x02\\xb8\\xf7_\\x96\\xa0{\\xde\\xf3b\\xb6\\xbe\\xcd\\xe9\\xf89\\xfd\\xd4\\xc2ty\\xb8\\r\\xd9\\xff\\xa9\\xb1\\xf4\\xaf\\x182;\\xe9\\xcb\\xe7\\xcc\\xc8\\x95\\xa4\\x1ai\\xa2\\x06\\xe1\\xd25\\xec\\xb1\\x18\\xae\\xd8\\x15b>\\xec\\x10\\x12\\xfc_\\x86I\\x98'\\x8b\\xae|\\x90\\xfc\\xa5\\x97\\xaaH\\xcb\\x90\\xd3W\\x82ZQ\\x9aj\\xb5}\\xa1\\xe4\\xd9\\xd4\\x83\\xb7\\xbb\\xa8\\xcd\\xe0\\x0b\\xdc/\\x0e\\xb8N\\xc5>\\xbaI\\xa7R\\x13\\x18\\x80\\xc6)\\x08\\xe0\\xf0\\x8f\\xbdv\\x07\\xc8\\x89\\x00\\xc3\\xc7\\xe7\\x1d\\x9dI\\x13\\x17\\x9c\\x8a\\xf9a\\xe23%\\x95\\xfd\\xc8L\\x91\\xdaa\\xe8\\xd9\\x19\\xfa\\xb1Y\\xfc\\xaa\\xdd\\xc7{GM-W06v\\xe6\\xa6\\xf8\"\n",
      "Length: 256\n",
      "Embedding Efficiency: 4.15625\n",
      "==============\n",
      "773 said kiss, kiss, i can't do the sound effects! He is a gorgeous man isn't he! Kind of person who needs a smile to brighten his day! \n",
      "customizedTechniques-2\n",
      " uckf mkuu, mkuu, k ecp'v fq vjg uqwpf ghhgevu! Jg ku c iqtigqwu ocp kup'v jg! Mkpf qh rgtuqp yjq pggfu c uokng vq dtkijvgp jku fca! \n",
      "Length: 133\n",
      "customizedTechniques-3\n",
      ">>J>J>>E>>",
      ">>",
      "",
      "?>h",
      ">>>",
      ">>E>",
      "?>k>>",
      ">>",
      "",
      ">>",
      ">>",
      ">>?>\n",
      "Length: 133\n",
      "customizedTechniques-5\n",
      "pÅ³»¶p½»ÅÅ|p½»ÅÅ|p»pµ³ÀwÆp¶ÁpÆº·pÅÁÇÀ¶p·¸¸·µÆÅqp·p»Åp³p¹ÁÄ¹·ÁÇÅp¿³Àp»ÅÀwÆpº·qp»À¶pÁ¸pÂ·ÄÅÁÀpÉºÁpÀ··¶Åp³pÅ¿»¾·pÆÁp´Ä»¹ºÆ·Àpº»Åp¶³±qp\n",
      "Length: 133\n",
      "OpenSourceTechniques-6\n",
      "b'\\xbd\\x9e\\x13g\\xcb\\xad\\xac\\xed_\\xbc]u\\xb7\\x16~(\\xb7\\xdf.K\\xe7\\xab\\xd3?^\\xdd\\xb5\\x03\\xe1\\xa5\\x90\\xf9\\r\\xdfT\\x86\\xe3[o\\x9f\\xa7k\\x8b\\x9cbR\\x9a\\xacki\\x85\\xb2\\xb4h\\xfb\\xef\\x93\\x94\\xfd-q\\xba\\x13i\\xda\\x15\\x12\\xd1\\xeb\\xc3\\xff5\\x84\\x14\\xa3\\xc8~\\xbe\\x9e3e\\x07\\xb49\\xb9q\\xbe\\xdf\\xfb\\x8e\\r \\xa3-\\x87q\\xa7\\xf8\\xf0H3\\x9b\\xa1\\xadE\\xf73\\xaa\\xc5\\x9cf/\\xa7\\xa9C\\xb6\"o\\xaf\\xea\\x88G\\x08v_\\xab\\x1a\\xd9\\x98\\xc6\\xff\\xf4\\xc1\\x1f}IuQ@{\\xd1\\xf6\\xe8L\\x17\\xf9\\xac\\xd4\\xaal,\\x7f\\xf3\\x87\\x8ei\\x04\\xb6<c\\xbbY\\xb4\\x01\\x02\\xaf2`\\x0b\\x1a]\\x9bq\\xbe\\x19\\xef\\xf55\\xe1c\\xfaVJ\\x94\\x9c\\xf4\\xd4\\xf3\\xf3\\xbe\\x86%\\x97\\x93`M)\\xa1\\xe7\\x9f\\x9e\\xcd/\\xe7\\xde\\xba\\xc1\\xac\\x9d\\x04\\x01\\x98\\xdc\\xe4Do\\xabm\\xfci\\xf1\\xbd\\x84\\r\\xf5\\x11(\\xafq\\x91bt\\x07\\x18\\x7f\\xf7\\xd4R\\x88\\xbd'\n",
      "Length: 240\n",
      "Embedding Efficiency: 4.433333333333334\n",
      "==============\n",
      "774Faith makes things possible,Hope makes things work,Love makes things beautiful,May you have all three this Christmas!Merry Christmas!\n",
      "customizedTechniques-2\n",
      "Hckvj ocmgu vjkpiu rquukdng,Jqrg ocmgu vjkpiu yqtm,Nqxg ocmgu vjkpiu dgcwvkhwn,Oca aqw jcxg cnn vjtgg vjku Ejtkuvocu!Ogtta Ejtkuvocu!\n",
      "Length: 133\n",
      "customizedTechniques-3\n",
      "f>",
      ">>",
      "Jh",
      ">",
      ">>Jl",
      ">",
      ">>",
      "Jm>>",
      ">>",
      "",
      ">>c?m",
      ">c?\n",
      "Length: 133\n",
      "customizedTechniques-5\n",
      "³»Æºp¿³½·ÅpÆº»À¹ÅpÂÁÅÅ»´¾·|ÁÂ·p¿³½·ÅpÆº»À¹ÅpÉÁÄ½|ÁÈ·p¿³½·ÅpÆº»À¹Åp´·³ÇÆ»¸Ç¾|³±p±ÁÇpº³È·p³¾¾pÆºÄ··pÆº»ÅpºÄ»ÅÆ¿³Åq·ÄÄ±pºÄ»ÅÆ¿³Åq\n",
      "Length: 133\n",
      "OpenSourceTechniques-6\n",
      "b'\\xc6\\x8c^\\xf3\\xd3c\\x14\\xbe\\x86\\x15\\xbb]6\\xd3w\\xe1*\\xf0\\x8cd\\r\\x9b\\x10bN\\xc9.\\n\\xc2\\xa9\\xa2\\x0c\\xd7\\x7f\\nn\\xe2\\xb2Z\\x03\\x06\\xf7\\xe83:\\x18O\\xbf]\\x8a\\xb5\\x9c\\xdf\\xa6\\x80\\xb1F\\xfcP\\xd4z\\x8aSU9\\xcc\\x0cj\\xd5x\\xc5E\\xd6\\x94\\xcd\\xd7\\xfbP[\\x9dQ\\x02\\xd4\\xf0\\\\\\xa7\\x9e\\x9bl\\xdbMK\\xba\\xf4\\x85\\xcd\\xac\\x94HE\\xb8-@D\\ndzHx\\xd2Gt\\xbbBQ\\xd2\\xb3\\xdd,\\x9b\\xffCw\\x9e\\'\\xe9\\xedt\\xb7\\x8f\\x1cI\\x91\\xaa\\x17\\xa4\\x1dD\\xd3<.K6qB\\x82\\xd0\"\\xf7\\xd0l\\x90\\xd2X\\x85#\\xf1\\xb3\\xca\\r\\xda\\xab\\xb3\\\\\\xefYG\\x8a\\x91\\x00\\xb6\\x1fF\\xaa\\xed\\x9bZ\\xc8/c\\xa3\\xf7v\\x07{b\\x83\\xcd\\x1a\\xb2\\xc8\\xbe\\xef\\xe0\\xc3\\xd93\\xaa\\\\\\xa4\\xcd^\\xbe\\xe8\\xc4D\\x1b\\xec?\\xee\\x8f\\x8a}\\xe9\\xad`\\x02\\xe6Y\\xc9w\\x9c%\\xdf\\xde\\xcf[\\xd1\\x1d;\\x96\\xeb+\\x0fB\\xfb\\x05\\xcd\\xa3\\x13\\x9f\\xc0g#\\xc4\\x95bN/\\xec\\x91\\xcf\\xb1q76'\n",
      "Length: 256\n",
      "Embedding Efficiency: 4.15625\n",
      "==============\n",
      "775U were outbid by simonwatson5120 on the Shinco DVD Plyr. 2 bid again, visit sms. ac/smsrewards 2 end bid notifications, reply END OUT\n",
      "customizedTechniques-2\n",
      "W ygtg qwvdkf da ukoqpycvuqp5120 qp vjg Ujkpeq FXF Rnat. 2 dkf cickp, xkukv uou. ce/uoutgyctfu 2 gpf dkf pqvkhkecvkqpu, tgrna GPF QWV\n",
      "Length: 133\n",
      "customizedTechniques-3\n",
      "u>",
      "",
      ">>>SOPN>>",
      ">s>dvd>pL>P>>J>>L>M",
      ">P>",
      ">>J>",
      ">end>out\n",
      "Length: 133\n",
      "customizedTechniques-5\n",
      "§pÉ·Ä·pÁÇÆ´»¶p´±pÅ»¿ÁÀÉ³ÆÅÁÀ",
      "pÁÀpÆº·p¥º»ÀµÁp¨p¢¾±Ä~pp´»¶p³¹³»À|pÈ»Å»ÆpÅ¿Å~p³µÅ¿ÅÄ·É³Ä¶Åpp·À¶p´»¶pÀÁÆ»¸»µ³Æ»ÁÀÅ|pÄ·Â¾±p p¡§¦\n",
      "Length: 133\n",
      "OpenSourceTechniques-6\n",
      "b'\\xec=\\x84\\xee\\xca\\x11\\x19\\xd5\\xb0\\xc8#\\xa5\\x85*\\xee6\\x00\\xcd\\xbf]\\xedL\\xcf1#\\xf6\\xa5\\x15\\xb1!\\xca\\xe1\\x87@\\x1f+\\x88G\\xee\\xab\\xf9\\xb8;J\\xf0\\xfe\\x1d\\xfb\\xd1\\xccs\\xd7\\xec\\xf5H\\xd4\\x83\\x94u\\x8a\\x99U\\xbc\\x0f\\xac\\x1cu\\xd3\\xa9\\xb1fN\\xd28\\x17R\\xa0\\xcb%\\xa3\\x0e\\xa5{J<\\x80x\\xf4;\\xee\\xd0\\x17\\x0e\\xc9\\xb5\\xdf\\xe4\\xd6\\x81hI\\x15\\x0c\\xaf>o\\xed\\x1f\\xdd*\\xc3&\\xfcZ\\xedr\\xa2\\x0b\\x95\\xdd\\xf5\\xdeId|}\\xf7$\\xac=\\xbb\\xcb \\x8a\\xcb\\xf3\\xac\\x9b\\x88\\xfa\\xd24R^\\x85\\xa0\\xd4\\xb0\\x18\\xb9s=\\xab`\\x99\\x8f\\x07O\\xd4\\xa1\\x12o\\x1c1\\xc5\\x81\\xb0<\\x14A9\\xd9,M_\\xa7\\xc7=w\\x9a\\x92[\\xe5$\\x00S\\xe9\\xee*q\\xd0b\\xfb!T\\xd3\\x7f\\x9a\\xf3\\xc4\\xa3\\xfe\\n:\\x83\\x8a@D;\\xaf[*.\\x98\\xe4B\\x14\\x89\\xf8U\\x9a\\xed\\x9e\\x18\\xf8M\\xc1g\\x1bJ\\x0c\\xdc\\xdev\\x160\\x83\\x07\\xe2\\xb5'\n",
      "Length: 240\n",
      "Embedding Efficiency: 4.433333333333334\n",
      "==============\n",
      "776Better. Made up for Friday and stuffed myself like a pig yesterday. Now I feel bleh. But at least its not writhing pain kind of bleh.\n",
      "customizedTechniques-2\n",
      "Dgvvgt. Ocfg wr hqt Htkfca cpf uvwhhgf oaugnh nkmg c rki aguvgtfca. Pqy K hggn dngj. Dwv cv ngcuv kvu pqv ytkvjkpi rckp mkpf qh dngj.\n",
      "Length: 133\n",
      "customizedTechniques-3\n",
      "b",
      "",
      "L>m",
      ">>>f>>",
      ">",
      ">",
      ">>>",
      "",
      "L>n>i>",
      "",
      ">",
      "L>b>>",
      ">>>>>>>",
      "L\n",
      "Length: 133\n",
      "customizedTechniques-5\n",
      "·ÆÆ·Ä~p³¶·pÇÂp¸ÁÄpÄ»¶³±p³À¶pÅÆÇ¸¸·¶p¿±Å·¾¸p¾»½·p³pÂ»¹p±·ÅÆ·Ä¶³±~p ÁÉpp¸··¾p´¾·º~pÇÆp³Æp¾·³ÅÆp»ÆÅpÀÁÆpÉÄ»Æº»À¹pÂ³»Àp½»À¶pÁ¸p´¾·º~\n",
      "Length: 133\n",
      "OpenSourceTechniques-6\n",
      "b\"3x[i\\xc7T\\xbc}\\x87A\\xa5\\x14\\xb1\\xee3\\xec\\x08\\x8bm\\x8e\\xc9.\\xe0\\x1b9\\x07E\\xa4\\xa4&f\\xc8\\xb8\\x96\\xe6\\x0b\\x19\\xe0\\x0b\\xe0R\\x87+v\\xde4\\xd5\\xda$\\xd6>\\x88\\xc7\\xb7\\xdel\\x96D\\xeb\\t\\xa1S>\\xb4\\xf5\\x97@\\xe7\\x02\\x99\\xb0\\xd8\\xe5\\xdaV|\\x01$\\xc6t\\xa6M\\xd9T\\xd3H\\xc5V\\x92)>\\xa9o\\xee\\xc28\\xbd\\xe7\\x11\\xc9\\xb3R,\\xcf\\xa4\\x1f\\xb6\\xd7\\x05\\x8e\\xc9d\\xba\\x822\\x91$\\xdb\\xee-B\\x9ai\\x13\\x1fw\\xb5\\xb3E\\xf2c\\x1b\\xfe\\xb2\\xc6\\x08\\xb1$\\x04'\\x1c\\xba\\x96\\xed\\xf4\\xf5\\xcf\\xd3\\x9f\\x8b\\xcb\\x97\\xc5\\x89p\\x04|\\xd9\\xbf9\\x13\\xc1\\r\\xc5\\xd2c\\xf6\\x93 ir\\x1a\\x0c9\\xab\\x1d}\\xb6\\x166\\xb0\\x0e\\xd5\\x93\\xf5\\xc2\\xad\\xaeW\\xafS]/\\x80\\xe4\\xd4\\x10\\x9b?\\xa2\\x11-\\x92\\xdd\\xe2\\x82=6<\\x144\\xdb\\xb2\\x05\\xf6\\xb7\\x17\\x90\\xc0\\x9e\\xc2\\x8c\\x1fG\\x11\\xcf2^\\xd62\\x97U\\xf0\\xfa3\\xfd\\xdc\\x93\\x87)\"\n",
      "Length: 240\n",
      "Embedding Efficiency: 4.433333333333334\n",
      "==============\n",
      "777Did you catch the bus ? Are you frying an egg ? Did you make a tea? Are you eating your mom's left over dinner ? Do you feel my Love ?\n",
      "customizedTechniques-2\n",
      "Fkf aqw ecvej vjg dwu ? Ctg aqw htakpi cp gii ? Fkf aqw ocmg c vgc? Ctg aqw gcvkpi aqwt oqo'u nghv qxgt fkppgt ? Fq aqw hggn oa Nqxg ?\n",
      "Length: 134\n",
      "customizedTechniques-3\n",
      "d>>>",
      ">>]>a",
      ">>>>",
      ">]>d>>",
      ">>",
      "]>a",
      ">>",
      ">>E>",
      ">",
      ">",
      ">]>d>>",
      "",
      ">>l",
      ">]\n",
      "Length: 134\n",
      "customizedTechniques-5\n",
      "»¶p±ÁÇpµ³ÆµºpÆº·p´ÇÅppÄ·p±ÁÇp¸Ä±»À¹p³Àp·¹¹pp»¶p±ÁÇp¿³½·p³pÆ·³pÄ·p±ÁÇp·³Æ»À¹p±ÁÇÄp¿Á¿wÅp¾·¸ÆpÁÈ·Äp¶»ÀÀ·ÄppÁp±ÁÇp¸··¾p¿±pÁÈ·p\n",
      "Length: 134\n",
      "OpenSourceTechniques-6\n",
      "b'?5nNP\\xdd\\xee\\xb8\\xab\\xf6+\\xff\\xa6\\x9d\\xd4G\\xa2L\\xf2qN\\xad:\\x1e\\x96\\x02\\x151\\xc7t\\xea\\xc9F\\x80\\xd7B\\xcak\\x18t{4n<\\x1cx\\x14\\xe1}\\x0b\\x85\\xb5~!o\\xad\\x91\\xc3\\xa2\\x80\\x8a\\xe3\\xe8\\n\\xd3\\x95\\xf9\\xaa\\xe6\\xddq\\xd5\\x1bR:(\\xf6Wg\\x05\\xbcs\\r\\xd2\\xba\\t\\x99\\x0e\\xe9\\xda\\xcd\\xf0\\x1e\\xb4l2I\\xbb\\x86>\\xff\\x1a\\x8b\\xe9>S\\xc2\\xabd\\xc6\\xe3b\\x00\\rx\\x01k\\x1f\\xce\\xc7\\xa8\\xb3\\x1c\\xb1O\\xf5\\x8e\\xdf\\xb2`3\\xbb\\xb4\\xb2}\\x11\\x1d\\xf9\\xd3Y\\x88\\x88\\xaa!\\x86\\x08\\x0c3~\\xbd\\xde\\x8d\\xa8W3\\xe5J\\xfa\\x89WH\\xc8L\\x9e\\xe2\\x06\\xb5\\x8c\\xf9\\x8f\\x1f\\xc3\\xac\\xa4\\xa8\\x9c\\x91A\\x12\\xee\\x9a9\"`BA\\xfdF\\xde?eZ\\x94\\x99u\\xbe\\x0e\\xf8Hz\\xddkP\\xd4\\x1fF\\x98\\x83:\\xbfbf1:\"\\xc8\\x1d\\xa0\\xe3\\x94\\xedd9\\x83\\x02\\x13I{\\xaa\\xf4\\x03)\\x96Y5\\x7f\\x1a5M\\x8c'\n",
      "Length: 240\n",
      "Embedding Efficiency: 4.466666666666667\n",
      "==============\n",
      "778Think ur smart ? Win å£200 this week in our weekly quiz, text PLAY to 85222 now!T&Cs WinnersClub PO BOX 84, M26 3UZ. 16+. GBP1.50/week\n",
      "customizedTechniques-2\n",
      "Vjkpm wt uoctv ? Ykp e£200 vjku yggm kp qwt yggmna swkb, vgzv RNCA vq 85222 pqy!V&Eu YkppgtuEnwd RQ DQZ 84, O26 3WB. 16+. IDR1.50/yggm\n",
      "Length: 134\n",
      "customizedTechniques-3\n",
      "t>>>]>w>ÁPNN>>",
      "",
      ">>>",
      "",
      ">J>",
      ">pla_>>VSPPP>?tDc>w",
      "c>po>box>VRJ>mPT>Qu`L>OTIL>gbpOLSNM",
      "",
      "\n",
      "Length: 134\n",
      "customizedTechniques-5\n",
      "¦º»À½pÇÄpÅ¿³ÄÆpp©»ÀpµópÆº»ÅpÉ··½p»ÀpÁÇÄpÉ··½¾±pÃÇ»²|pÆ·ÊÆp¢pÆÁp",
      "pÀÁÉq¦vÅp©»ÀÀ·ÄÅ¾Ç´p¢¡p¡ªp|pp§~p{~p¢~",
      "É··½\n",
      "Length: 134\n",
      "OpenSourceTechniques-6\n",
      "b'^P\\xf4~\\xb2L\\xd1l\\xa1\\xb5j\\xe9i\\x1c& \\xab\\x12H\\xd9\\xb8\\x0f\\x86{\\xf7D\\xa2\\x7fde\\x93\\xfc\\xb2\\x02/\\x9c\\xa7l\\x02r\\xba\\x8d\\x00+\\xcb\\x0f\\x87\\x0c\\xed\\x16#e\\x11M\\x9d\\x14\\x10\\x8a?\\xe1\\x9c\\xe6a\\x83\\xb3n\\x0f\\xfa?6B\\xdf\\xa8\\x0c\\x11\\x01\\'\\xbcc\\xa7\\xa6\\x7f0@Zg\\xea\\xee\"\\x07\\x8f`\\xa7\\xbc\\x9e\\xf8\\x06\\x82\\xfb\\nF\\xc5jga\\x18\\x13u\\xd2\\xc9t\\tX\\xa4\\x8aIA<\\xc6\\xe3\\x0e!\\xa9\\x83\\xc6%H\\x01\\x85\\xdb\\xb6\\xdb{*\\xdcXc\\xd2w\\xcbBO!\\x96n=\\x93\\xa7\\x87X\\x927\\xdcx\\xce[)\\x0b\\x98\\xe5\\xecR8\\xdb\\x1e\"\\x08\\x10\\xff\\xe7\\xd2sV[\\xca\\xcd\\xceM\\xda`E\\x1f`77&\\xfd\\xfc\\xd8\\xe6\\x96\\xdezi\\xedg\\x879\\xb2\\xe2\\xca\\x12\\'!\\xcd\\x7f\\xff\\xab\\xeb`Z\\xc7\\x1a\\xd0D\\xc9\\x97\\xc4LQ\\xc7\\x80\\xf3\\xed\\x0c\\xfe\\xbf7\\x8bc\\t\\xe8\\xf2j\\xce<\\x8eu#A'\n",
      "Length: 240\n",
      "Embedding Efficiency: 4.466666666666667\n",
      "==============\n",
      "779Yar lor wait 4 my mum 2 finish sch then have lunch lor... I whole morning stay at home clean my room now my room quite clean... Hee...\n",
      "customizedTechniques-2\n",
      "Act nqt yckv 4 oa owo 2 hkpkuj uej vjgp jcxg nwpej nqt... K yjqng oqtpkpi uvca cv jqog engcp oa tqqo pqy oa tqqo swkvg engcp... Jgg...\n",
      "Length: 134\n",
      "customizedTechniques-3\n",
      "_>>>R>>>P>>>",
      ">",
      ">>LLL>i>",
      ">>>>",
      ">",
      ">>>>>>",
      ">",
      "LLL>h",
      "",
      "LLL\n",
      "Length: 134\n",
      "customizedTechniques-5\n",
      "³Äp¾ÁÄpÉ³»Æpp¿±p¿Ç¿pp¸»À»ÅºpÅµºpÆº·Àpº³È·p¾ÇÀµºp¾ÁÄ~~~ppÉºÁ¾·p¿ÁÄÀ»À¹pÅÆ³±p³ÆpºÁ¿·pµ¾·³Àp¿±pÄÁÁ¿pÀÁÉp¿±pÄÁÁ¿pÃÇ»Æ·pµ¾·³À~~~p··~~~\n",
      "Length: 134\n",
      "OpenSourceTechniques-6\n",
      "b'-\\x9c\\xa5Y\\x84\\x15[wy\\xc1\\xe4\\xa8 \\xd6\\x18\\xb8\\xb7\\x13\\xba\\xb1\\xd0\\x97\\xbc\\x1f\\xc6\\xfc\\x83.\\xd3\\x00\\x06Pa\\xcbH%p\\xad\\xf0\\xd0n;\\x0e@\\x99\\x9czJ\\x92\\xff{\\x95X3\\x15\\x1ei}v\\x1f\\xda\\x14\\xe2bH\\xec~\\xca\\x16\\xcd\\x9c\\x84uK\\xbbaT\\xda\\xd5\\x91\\x04\\x01\\x89\\xc84\\xcc\\xa7)]\\xc1\\x8dvyMx\\xb7Fb\\x04\\xe9\\xc0\\x91\\xb7\\x1d.h\\x9d\\xb4\\x83\\xcc\\xad\\x94\\xea\\x06\\x8eS\\x07\\xf0\\x8f\\xa1\\xfd\\x98j\\xd0CKz[&\\xd2>\\xf2\\xdf$1\\xe2\\xdbsMX\\x01\\xa8a\\xbd\\x85H\\r\\xd0\\xff\\xf1\\x03\\xb6;\\xca=r\\xc3\\xfe\\xd9\\x18\\xcb}}6\\x81\\xd0\\x00R[\\xdb\\x06\\xc3\\'pgX\\xeb\\xe5\\xe7\\xc3\\xf6`#\\x82]\\x9d(\\x10\\xc8\\xd2_}\\x8f\\x12\\xdc\\xdf\\xf9\\xd7\\xb9\\xf2k\\xd7\"\\x80d\\t\\xac\\x91\\x0b\\xfb\\xf2\\xd8/A\\xff\\xe4\\xc2\\x04\\x98\\x7f6\\x08LX\\xf5\\xf6\\xb4\\x01;iYMOH\\x9f\\xb9\\xc6\\xd8\\xa7l'\n",
      "Length: 240\n",
      "Embedding Efficiency: 4.466666666666667\n",
      "==============\n",
      "780Hello. We need some posh birds and chaps to user trial prods for champneys. Can i put you down? I need your address and dob asap. Ta r\n",
      "customizedTechniques-2\n",
      "Jgnnq. Yg pggf uqog rquj dktfu cpf ejcru vq wugt vtkcn rtqfu hqt ejcorpgau. Ecp k rwv aqw fqyp? K pggf aqwt cfftguu cpf fqd cucr. Vc t\n",
      "Length: 134\n",
      "customizedTechniques-3\n",
      "h",
      "L>w",
      ">",
      "",
      ">",
      ">>>>>>",
      ">>>>",
      "L>c>>>>]>i>",
      "",
      ">>",
      ">>>L>t>\n",
      "Length: 134\n",
      "customizedTechniques-5\n",
      "·¾¾Á~p©·pÀ··¶pÅÁ¿·pÂÁÅºp´»Ä¶Åp³À¶pµº³ÂÅpÆÁpÇÅ·ÄpÆÄ»³¾pÂÄÁ¶Åp¸ÁÄpµº³¿ÂÀ·±Å~p³Àp»pÂÇÆp±ÁÇp¶ÁÉÀppÀ··¶p±ÁÇÄp³¶¶Ä·ÅÅp³À¶p¶Á´p³Å³Â~p¦³pÄ\n",
      "Length: 134\n",
      "OpenSourceTechniques-6\n",
      "b\"\\xb4\\xfd\\xac=B\\xec>\\x01\\xfd\\xd6\\xb9\\xe7\\xa1\\x8f\\xa1\\xec\\x9b/\\xddh\\x9d\\xc5\\xdb\\xe9\\xd0\\xc4\\x1c\\xcf7\\x9dk2:\\x08\\x02\\x98f\\xd7\\xe9f\\xab\\xbc\\x96Q\\xd0\\x99VLX\\t\\x06\\x9f\\xe6ku\\x11vv\\xddg\\x13\\xf5\\xa8\\xef*\\xafJ\\x80\\xc4\\xfc9\\xfb\\xccFNHv\\xf3\\xe9\\xf8\\xb0\\xe8\\xa1kU\\xb4\\xd4uZ\\x1cK'xV\\xf3\\x16\\xc4S5\\x0b\\xff}\\xb4\\xd2d\\x02\\xfd\\r\\xd5\\xda\\x89\\x8f\\xe9\\xe7\\xdfjz\\x80\\xf0\\x8a\\x1e\\x82\\xcb\\x11`I\\x89\\xe2\\x8e:\\xa0\\x80\\x16\\x8fh\\x03} uc\\xd2\\xfa\\x18\\x08;H\\x13|\\xb9'k\\xb6\\x11\\xf7 s/\\x0e2\\xf5pq?:\\xe3D\\x12\\xae\\x98>LWv\\xfc\\xf9\\xef\\x13\\xd7\\x9d0\\x1aT\\xb2\\x80\\xa6\\x93\\r\\xf1e[*\\xa5\\xaa\\xe9\\x157\\xbe\\x05\\x11O\\x05\\xd2\\x8adT\\xbeo\\x1aQ&\\xbb\\xc17\\xe2~[\\x96\\xc6\\xfa2\\x0e7\\xd2\\xe4s\\x81\\xa9\\x1b\\xf7Z\\x02\\xe6uJ)\\xb9\\x9c\\x94\\xbb(\"\n",
      "Length: 240\n",
      "Embedding Efficiency: 4.466666666666667\n",
      "==============\n",
      "781I‰Û÷ll have a look at the frying pan in case it‰Û÷s cheap or a book perhaps. No that‰Û÷s silly a frying pan isn‰Û÷t likely to be a book\n",
      "customizedTechniques-2\n",
      "K‰A÷nn jcxg c nqqm cv vjg htakpi rcp kp ecug kv‰A÷u ejgcr qt c dqqm rgtjcru. Pq vjcv‰A÷u uknna c htakpi rcp kup‰A÷v nkmgna vq dg c dqqm\n",
      "Length: 135\n",
      "customizedTechniques-3\n",
      "i⁎_ĕ>",
      ">>>>",
      ">>>>",
      ">⁎_ĕ>",
      ">>>>",
      "L>n>⁎_ĕ>>>>>⁎_ĕ>",
      ">>",
      ">>\n",
      "Length: 135\n",
      "customizedTechniques-5\n",
      "₀Ň¾¾pº³È·p³p¾ÁÁ½p³ÆpÆº·p¸Ä±»À¹pÂ³Àp»Àpµ³Å·p»Æ₀ŇÅpµº·³ÂpÁÄp³p´ÁÁ½pÂ·Äº³ÂÅ~p ÁpÆº³Æ₀ŇÅpÅ»¾¾±p³p¸Ä±»À¹pÂ³Àp»ÅÀ₀ŇÆp¾»½·¾±pÆÁp´·p³p´ÁÁ½\n",
      "Length: 135\n",
      "OpenSourceTechniques-6\n",
      "b'\\x15\\r\\x91\\x02\\xc0/\\xe6\\x89\\xa5s5\\xa1A\\x8bQ(g\\xecD\\xeb\\xe2j\\x81\\xd6h8/6x|\\xf1\\xc2S+\\xb9\\x85\\xea\\xaa\\x9b\\x04\\xbc\\x19\\xee{\\xed5\\x07g\\x99\\x07Q\\x19\\x12d\\xb2uT\\xdbP\\x9ct\\xf9\\x9d\\x88U\\x7f\\xbb7\\xc7\\x18_\\x89\\xabS\\xf6\\xdd\\x06\\xa0\\xcdo86d=\\x81\\x9bqM\\xf2\\xe4\\xffL\\x8cr&\\x04^\\xcb\\xc6\\xe4\\xbd(\\x9d\\xbaP\\xe1UW\\xbb\\x17\\xbc\\xe8\\xf5\\x0bE\\x02\\x91X\\xb7n\\xf1\\xbc\\xc3E\\xf7\\x82\\xe0\\x12\\xab\\xc8\\x0c<Wk\\xcb\\xe1\\x1a*\\x90=#\\r\\x13[_5\\xe3\\xfe\\x96\\xe2\\xc2\\x16\\xfe\\xb19C\\xfd\\x11\\x0fQ\\xbc?\\xc5\\xf4\\x05k\\x8a\\xb1\\xa9\\x95L\\x9d\\xf9?\\xbd\"\\xbc\\x90#.P)}\\x81\\x18Q\\xb5\\xd2\\xc0\\xeb\\xd2U\\x1d\\x19\\xb1\\xf86\\x92\\xb9\\xaf\\xbd\\xe1\\xfc-\\xe8\\xb9z\\x12 \\xed\\x08;\\xa4n\\x18\\x054\\x81Y\\xc8\\xb9\\x1e\\xe2x\\xbcR\\xd8\\xab\\xe3\\x95)\\xf8D\\x05\\xd6@\\xbet;\\x99\\xed\\xd5\\xe6\\x86\\x10R\\x814`j\\xb8\\x95\\xec<\\x03\\xdd'\n",
      "Length: 256\n",
      "Embedding Efficiency: 4.3125\n",
      "==============\n",
      "782XCLUSIVE@CLUBSAISAI 2MOROW 28/5 SOIREE SPECIALE ZOUK WITH NICHOLS FROM PARIS.FREE ROSES 2 ALL LADIES !!! info: 07946746291/07880867867 \n",
      "customizedTechniques-2\n",
      "ZENWUKXG@ENWDUCKUCK 2OQTQY 28/5 UQKTGG URGEKCNG BQWM YKVJ PKEJQNU HTQO RCTKU.HTGG TQUGU 2 CNN NCFKGU !!! kphq: 07946746291/07880867867 \n",
      "Length: 135\n",
      "customizedTechniques-3\n",
      "xclusive^clubsaisai>Pmorow>PVMS>soiree>speciale>`ouk>with>nichols>from>parisLfree>roses>P>all>ladies>???>X>NUWRTURTPWOMNUVVNVTUVTU>\n",
      "Length: 135\n",
      "customizedTechniques-5\n",
      "ª§¥¨§¥¥p¡¤¡©p",
      "p¥¡¤p¥¢p¡§p©¦p ¡¥p¤¡p¢¤¥~¤p¤¡¥¥ppp¥pqqqp»À¸Ápp\n",
      "Length: 135\n",
      "OpenSourceTechniques-6\n",
      "b'\\xb3\\x11\\xc5\\xf7\\x8f\\xaf\\x1e\\xb1\\xdc\\x10k\\xee\\xde\\xc6\\x16\\xc2\\xb9\\x08f\\xf0\\x1b\\x05\\x8cu\\xc3p\\xcb\\xfb[\\x1b\\xbc\\x1f\\xde-\\xed\\r^w\\t^\\x8d\\x9d,\\xa6\\xd3\\\\\\xe7J\\x97\\xfa\\x9fE\\x17\\x98\\x12\\x1b\\xbd\\xfd.\\xc2\\x8d7#hX\\x86\\x95!-w\\x16v_\\xca\\x8c\\xd4\\xc2\\x01F\\x02\\xec;\\x9d\\xf0\\x98\\xa5I\\xbc\\xac 6\\xef\\x852z\\x8e\\x84\\x82\\xc2\\x1eO\\xa9\\xfby\\xbf\\xc8\\x02vQc\\xf6\\xa7\\xf4Z\\xd0\\xa9\\'S\\xd3y[\\xcd\\x8f)\\xbc\\xb1\\xed\\xde\\t\\xda\\xdb\\x96\\x05_\\xb3P\\x9au\\xf6\\x08+\\rr\\xbb\\xa8/\\x0bZ\\x8b\\x89\\x9c`i\"\\x9af \\x92\\x99\\x8c\\xb6:\\xbb\\xb1\\x0e2\\xc1\\xc4\\x9f\\xaf\\x19\\xfc\\xcc\\x8f\\xb2N\\x17\\xe9F\\xc7\\x87\\xaawgMX\\xaatU\\xb6\\x04\\xc1Kf\\xa9\\x84\\xaaXv\\x01\\'\\xda\\x7f,\\xf6\\x8c\\xf3\\xe3\\x8f\\x99\\xb8\\xcb\\xb5\\xe3\\xbb\\xf9\\xc65\\xc0g\\xfd\\x1b\\x18]4\\xf8d&\\x88\\xe2mZ7\\xfe\\xcc\\xc5U\\xa6\\xe8\\xdc\\x81\\xc1B`9\\xb8 \\xb6\\x889\\xab\\xb4\\xa6\\x02\\xcd\\x13'\n",
      "Length: 256\n",
      "Embedding Efficiency: 4.21875\n",
      "==============\n",
      "783We are at grandmas. Oh dear, u still ill? I felt Shit this morning but i think i am just hungover! Another night then. We leave on sat.\n",
      "customizedTechniques-2\n",
      "Yg ctg cv itcpfocu. Qj fgct, w uvknn knn? K hgnv Ujkv vjku oqtpkpi dwv k vjkpm k co lwuv jwpiqxgt! Cpqvjgt pkijv vjgp. Yg ngcxg qp ucv.\n",
      "Length: 135\n",
      "customizedTechniques-3\n",
      "w",
      ">",
      ">>L>o>",
      "J>>>]>i>",
      ">s>>>>>>>>>",
      "?>a",
      ">>",
      "L>w",
      ">",
      "",
      ">>L\n",
      "Length: 135\n",
      "customizedTechniques-5\n",
      "©·p³Ä·p³Æp¹Ä³À¶¿³Å~p¡ºp¶·³Ä|pÇpÅÆ»¾¾p»¾¾pp¸·¾Æp¥º»ÆpÆº»Åp¿ÁÄÀ»À¹p´ÇÆp»pÆº»À½p»p³¿p¼ÇÅÆpºÇÀ¹ÁÈ·ÄqpÀÁÆº·ÄpÀ»¹ºÆpÆº·À~p©·p¾·³È·pÁÀpÅ³Æ~\n",
      "Length: 135\n",
      "OpenSourceTechniques-6\n",
      "b'\\x16\\xc9b*\\xde\\x1f\\xfd\\x90\\xfb>\\xd7\\xb5\\xf1@=\\x8d\\xe4\\xcbo\\xd2\\xa5L\\xb0\\xe4\\x8a\\x03\\xd1\\x18\\x03\\r\\xac\\x18\\xfe6\\x1eRF\\t\\xb9y\\xdb\\xf3\\xc4\\x84.\\xbd\\xc5\\x95\\xc2\\x92\\xe6\\x84\\x04\\xf6n\\x81\\x83\\xab\\xee\\xfay4\\xa6\\xf5\\x1b\\xfb\\x83r\\x0b\\xd9\\xd5\\x84)\\xbe\\xf6\\x01\\x0e\\'\\x98\\xa0RI\\xbdE\\xa4\\xb3rdj*a\\xec)\\xf7\\xab\\xe1r\\xf5\\xdeh\\xb79G\\x1c\\xee\\x1f\\x9e\\x02lmr\\x9b\\xef\\nq\\x97\\x94(\\xf8\\x1f\\xba\\xe3i<\\x92\\x0e\\xb0\\xac\\x92\\x12\\xab\\x9aj\\xb3\\xb6\\xe7\\xc1\\xf0\\x13\"\\xe7\\r~\\x84\\x06 \\x0b\\x18\\xcc\\x98>f\\xaa\\x95c\\xc6R\\xa8\\xce\\x12\\x9bE\\xfe\\xb7``\\xef\\xa2\\x19\\xe7%\\xbc&\\x89.\\xc0\\x9a\\xb0\\xe691\\xa7\\x00\\x0c\\x18\\xd1\\t\\xd9bn\\xf0\\xdb\\x86\\xa9\\xbf\\xa5d\\x08\\xc7\\x1a\\x80\\xe6U\\n\\x1dB\\x8blqhGN\\x16~\\xc0U\\xf51\\xe8\\xf7\\xabo$\\x8f\\xff\\x98\\xd4\\xf5+\\x1b\\x93\\xc7k\\xfd\\xc0\\xc98aSu'\n",
      "Length: 240\n",
      "Embedding Efficiency: 4.5\n",
      "==============\n",
      "784SIX chances to win CASH! From 100 to 20,000 pounds txt> CSH11 and send to 87575. Cost 150p/day, 6days, 16+ TsandCs apply Reply HL 4 info\n",
      "customizedTechniques-2\n",
      "UKZ ejcpegu vq ykp ECUJ! Htqo 100 vq 20,000 rqwpfu vzv> EUJ11 cpf ugpf vq 87575. Equv 150r/fca, 6fcau, 16+ VucpfEu crrna Tgrna JN 4 kphq\n",
      "Length: 136\n",
      "customizedTechniques-3\n",
      "six>",
      ">>>cash?>f>ONN>>PNJNNN>>\\>cshOO>>",
      ">>VUSUSL>c>OSNMJ>TJ>OTI>tc>>r",
      ">hl>R>\n",
      "Length: 136\n",
      "customizedTechniques-5\n",
      "¥ªpµº³Àµ·ÅpÆÁpÉ»Àp¥qpÄÁ¿ppÆÁp|pÂÁÇÀ¶ÅpÆÊÆp¥p³À¶pÅ·À¶pÆÁp",
      "",
      "~pÁÅÆp",
      "Â¶³±|p¶³±Å|p{p¦Å³À¶Åp³ÂÂ¾±p¤·Â¾±ppp»À¸Á\n",
      "Length: 136\n",
      "OpenSourceTechniques-6\n",
      "b'\\xb7%Q\\xb2u\\xb2\\x85\\xf3\\xe0\\x8a\\x11\\xef\\xcf\\x0f\\xf7(\\xcb\\x16&\\xe4\\x8c\\xb0I\\xcf\\xeb\\x9f\\xec\\xc0\\xe2Y\\xb0\\xf6\\xa0\\xbb\\xefE\\xa0\\xef\\xac\\xeb\\xc7\\xec\\x154z/\\xaa\\xffD8O\\x12\\xb6\\x99\\x06Y\\xde\\xc7\\x04\\xab\\x8b\\x80@\\xea\\xb0\\xbb\\xd0\\xbds\\xab\\xd7G\\xbe\\x1f\\xfew\\xa2K\\xb8\\xab\\xfb\\xb2\\x84\\x918d\\xf6\\xaa\\x08_\\xdfy\"\\x08Q+\\x9c\\x17U\\xbf\\xa0{\\xd7p\\xa5M\\xe8*<\\x0c\\xc7\\xab\\xf9\\xf8B\\xb0?\\x9f\\x8a\\xb0\\xfa\\x16A\\x00Y_N\\xd7e\\xcd\\xbf\\x1d\\xa8;\\x990\\tt\\xefTb\\xb4\\xd8e/\\xc1\\xd7\\xd0\\x1e\\x1eT\\xf1\\xe4\\xe3t4\\\\\\x13\\x97\\x9d\\x8e\\xab\\xb6\\n%\\xbb7\\xa8\\xd0T/u:\\x8d\\xa9>\\x9f\\x83\\x1d\\xb9>~Qw\\xfb\\xd0\\x82\\xd8 \\x9c`\\x8d:\\x99-\\x83\\x80\\xc3\\xbf\\x05\\xd8}\\xd1T!\\x98\\xd3\\x7f\\xc6\\xf1\\xecv\\xce\"\\xd9B\\xfd\\x87x\\xa2\\x9a0\\xccZ?\\x8f\\xbc\\x9b\\xc4\\xe4\\xfcj&\\xec\"{\\x1f\\x9aA\\xa1\\x0b14\\xca\\xddG\\xf5$\\xa3\\x1d\\xda\\x86X\\xc2O\\xaa'\n",
      "Length: 256\n",
      "Embedding Efficiency: 4.25\n",
      "==============\n",
      "785Your opinion about me? 1. Over 2. Jada 3. Kusruthi 4. Lovable 5. Silent 6. Spl character 7. Not matured 8. Stylish 9. Simple Pls reply..\n",
      "customizedTechniques-2\n",
      "Aqwt qrkpkqp cdqwv og? 1. Qxgt 2. Lcfc 3. Mwutwvjk 4. Nqxcdng 5. Ukngpv 6. Urn ejctcevgt 7. Pqv ocvwtgf 8. Uvankuj 9. Ukorng Rnu tgrna..\n",
      "Length: 136\n",
      "customizedTechniques-3\n",
      "_>>>",
      "]>OL>o",
      ">PL>j>QL>k>RL>l",
      ">SL>s",
      ">TL>s>",
      ">UL>n>",
      ">VL>s>WL>s",
      ">p>",
      "LL\n",
      "Length: 136\n",
      "customizedTechniques-5\n",
      "ÁÇÄpÁÂ»À»ÁÀp³´ÁÇÆp¿·p~p¡È·Äp~p³¶³p~pÇÅÄÇÆº»p~pÁÈ³´¾·p",
      "~p¥»¾·ÀÆp~p¥Â¾pµº³Ä³µÆ·Äp~p ÁÆp¿³ÆÇÄ·¶p~p¥Æ±¾»Åºp~p¥»¿Â¾·p¢¾ÅpÄ·Â¾±~~\n",
      "Length: 136\n",
      "OpenSourceTechniques-6\n",
      "b'\\x08]5%%N`)\\xebD\\x8a$\\x8f^\\x97-IN\\xfc\\xa4;\\xc8\\x89g\\xeaW\\xbd\\x11tv\\xaaZ9\\x9b9\\xce\"\\x02\\xd53\\xd8\\x8a\\x83)\\xea)y|*y\\x1d/}Z\\xaf\\xd0CX\"\\x03\\x03/.4J\\x04\\x94\\xc32Xt\\x8f\\xfdS\\x0f\\x9f\\xe9|\\x9d(\\xa2\\xa0n\\x08Z\\xea\\x02\\x15\\x8dyM\\xf4y\\x1cH\\x06\\x1b\\xbe\\x8fWN\\\\;-\\xf9+y\\xa6\\xb1\\xcfyb*\\xa8\\x9d6L\\x1b\\x8ap\\xf3\\xc0U\\x9f\\xc8|~\\xc6\\x1d\\x10\\xba\\xe9\\x99#\\x9a\\xf6\\x9c\\xeeE\\x91(\\xabS\\x11\\xfd\\xf7\\n&\\xc2JY\\xc0\\x89@\\x11\\xcb9\\xd4\\xd7\\xe9f\\xa0\\xd8I\\xc3 \\x9b\\xd9\\x96\\xfe|\\xac$\\xde\\xd6\\x7f&\\xe1Rg\\x15\\xcc>\\x95#A\\xbe\\xce\"\\xa6\\xf2\\x1c\\x9e%\\xad\\xcdYjy6\\xcf~\\x87\\xd4;\\xe8\\xb7/\\xf0\\x9aVJi\\xc8\\x10SAq\\xfcz\\xfb5|\\tvw\\x02\\x16)\\xf8\\xf3\\x17=\\xe4\\xeb\\x8c\\x89\\xb1P\\xc0'\n",
      "Length: 240\n",
      "Embedding Efficiency: 4.533333333333333\n",
      "==============\n",
      "786PRIVATE! Your 2003 Account Statement for shows 800 un-redeemed S. I. M. points. Call 08715203694 Identifier Code: 40533 Expires 31/10/04\n",
      "customizedTechniques-2\n",
      "RTKXCVG! Aqwt 2003 Ceeqwpv Uvcvgogpv hqt ujqyu 800 wp-tgfggogf U. K. O. rqkpvu. Ecnn 08715203694 Kfgpvkhkgt Eqfg: 40533 Gzrktgu 31/10/04\n",
      "Length: 136\n",
      "customizedTechniques-3\n",
      "private?>_>PNNQ>a>s",
      "",
      ">>>VNN>K",
      "",
      "",
      "",
      ">sL>iL>mL>L>c>NVUOSPNQTWR>i",
      "",
      ">c",
      "X>RNSQQ>e",
      ">QOMONMNR\n",
      "Length: 136\n",
      "customizedTechniques-5\n",
      "¢¤¨¦qpÁÇÄppµµÁÇÀÆp¥Æ³Æ·¿·ÀÆp¸ÁÄpÅºÁÉÅppÇÀ}Ä·¶··¿·¶p¥~p~p~pÂÁ»ÀÆÅ~p³¾¾p",
      "p¶·ÀÆ»¸»·ÄpÁ¶·p",
      "pÊÂ»Ä·Åp\n",
      "Length: 136\n",
      "OpenSourceTechniques-6\n",
      "b'\\xeb\\n\\x96\\xce\\xb0/\\xe8\\xa1\\xed\\xa2V\\x9ao\\x9cA\\xdc+\\xfa\\xf5u\\xa5\\x1e\\xe3\\x130(jP\\xc0\\xe1\\xc3\\xc3\\xee\\xd3\\xfa\\x15Z\\x01\\xf4d\\xfa\\x80\\xff\\x1c}\\xb2\\xca\\xac\\xc4\\x89\\xaa\\xdd\\xb6g\\xc2\\xe4\\xfc\\xef\\x80\\xc4\\xda\\x0b:\\xda\\x97\\x85\\n\\x1e\\x1a\\xb0\\x8bq\\xa0yd\\x80g!\\xed\\x1ao\\xe4\\xa1s\\xf5p9\\x17\\xa8j\\xcc\\x997\\x9d\\x88\\xb3B\\xf59\"\\xf9\\xc1\\x88\\xfc\\xa36\\xa8\\xf8z\\x0c\\x0fo\\xc38Sk\\xe6\\x15a\\xb7\\x02\\xd9?B\\xe8\\xd6\\x8c\\xa0\\xd9`\\xc3\\xa3A:/\\xf3K\\x80\\xca\\x98\\xbe\\xd6\\xdcw\\nx\\xfc\\x1f\\xb1\\xf5\\x9a1\\xc6\\xe1FP\\x14:\\x9co\\xc8\\xc0Y\\xcb\\x1a64\\xeaU\\x18\\xdf\\xff\\x9bf`\\x1b\\xc5\\xd8Cz\\xf1\\xee\\x8ao\\x85!6\\xf9m\\xc8\\xacf\\xe9}\\x98\\x99\\x03_b_U\\xa2Oi\\x8e\\x9ee\\x00;#\\x80\\x84\\xd3\\x89\\xbe\\xa6\\xe7\\x18\\x04\\xa0\\xe9\\x8di\\x99\\x83\\xd4\\xdf\\xf7<\\xdd\\xbf\\x14e\\xdfku\\x15\\xbe\\x89\\xce\\xbe\\x17\\x8dR\\xc0\\xbdP\\xcfg\\x1f\\xe2\\t\\xec\\xe5\\x85\\xa9'\n",
      "Length: 256\n",
      "Embedding Efficiency: 4.25\n",
      "==============\n",
      "787Your opinion about me? 1. Over 2. Jada 3. Kusruthi 4. Lovable 5. Silent 6. Spl character 7. Not matured 8. Stylish 9. Simple Pls reply..\n",
      "customizedTechniques-2\n",
      "Aqwt qrkpkqp cdqwv og? 1. Qxgt 2. Lcfc 3. Mwutwvjk 4. Nqxcdng 5. Ukngpv 6. Urn ejctcevgt 7. Pqv ocvwtgf 8. Uvankuj 9. Ukorng Rnu tgrna..\n",
      "Length: 136\n",
      "customizedTechniques-3\n",
      "_>>>",
      "]>OL>o",
      ">PL>j>QL>k>RL>l",
      ">SL>s",
      ">TL>s>",
      ">UL>n>",
      ">VL>s>WL>s",
      ">p>",
      "LL\n",
      "Length: 136\n",
      "customizedTechniques-5\n",
      "ÁÇÄpÁÂ»À»ÁÀp³´ÁÇÆp¿·p~p¡È·Äp~p³¶³p~pÇÅÄÇÆº»p~pÁÈ³´¾·p",
      "~p¥»¾·ÀÆp~p¥Â¾pµº³Ä³µÆ·Äp~p ÁÆp¿³ÆÇÄ·¶p~p¥Æ±¾»Åºp~p¥»¿Â¾·p¢¾ÅpÄ·Â¾±~~\n",
      "Length: 136\n",
      "OpenSourceTechniques-6\n",
      "b\"^\\xdc\\xe5I\\x96\\xba\\x1fgWV\\xc8B\\xfeB\\\\\\xd5\\xf4\\xcc\\xed\\xe0\\x0c\\xfc:e\\t\\xa1\\x15*\\x1f\\x01\\xec\\xab\\xa5\\x9c.\\x98o\\x9e\\x92\\xd0\\xed(\\xfa\\xc1\\xa2Dv'\\x89N\\x8d\\x88^\\x10\\xd0\\x95\\x1c\\x18\\xeaw\\x8e\\xc3\\xd0\\x01\\x1e\\xb3\\xb2\\xe2q\\x8f\\xc9La\\x9eZ\\xc4\\xd5Xm\\xdd\\x13@\\x1d\\xf6^\\xe0\\xb4\\x0b\\xe3\\xf5\\x14lS\\xd0\\xa2\\xdb.U\\xb1\\xb5o\\x83\\xe3\\x90\\xc5\\xdcB.\\xe0\\xc3\\xc5\\x05\\xd9\\x08\\x8a\\xbb|T\\x1fU\\xd05\\x1dm\\xd6T\\x89\\x18\\xe79Po\\x8f\\xd7\\xd0\\x1c\\xc7\\xd11\\xa8\\xe7c\\xb5\\xf3\\xabp\\x1c~,Y:\\xf39\\xefQy\\x1a\\xa3\\x14\\x00/eG\\x91r\\r\\xfd\\x90\\x9f&-d\\xde\\xc2c\\x18^tfA\\xecz}J\\xde\\x05\\xf8\\xca\\xc5{y\\x03\\xde\\x82\\x8f&d9\\x03A\\xa0\\xc1\\x96e\\xbf=\\xa5\\xcf\\xd0\\xc1\\xf0v\\xea[\\xf0\\x9d-B*\\x89g%\\x1f\\xb7m\\x10\\xda\\x9e\\xec\\x8d\\xd2\\xd5h\\x19\\xec#TO\\xefu\"\n",
      "Length: 240\n",
      "Embedding Efficiency: 4.533333333333333\n",
      "==============\n",
      "788Hai ana tomarrow am coming on morning.  &lt;DECIMAL&gt;  ill be there in sathy then we ll go to RTO office. Reply me after came to home.\n",
      "customizedTechniques-2\n",
      "Jck cpc vqocttqy co eqokpi qp oqtpkpi.  &nv;FGEKOCN&iv;  knn dg vjgtg kp ucvja vjgp yg nn iq vq TVQ qhhkeg. Tgrna og chvgt ecog vq jqog.\n",
      "Length: 136\n",
      "customizedTechniques-3\n",
      "h>>>>>>L>>DYdecimalDY>>>",
      ">",
      "",
      ">>>",
      ">",
      ">>>>rto>",
      "L>r",
      ">",
      ">",
      ">",
      ">>",
      "L\n",
      "Length: 136\n",
      "customizedTechniques-5\n",
      "³»p³À³pÆÁ¿³ÄÄÁÉp³¿pµÁ¿»À¹pÁÀp¿ÁÄÀ»À¹~ppv¾Æv¹Æpp»¾¾p´·pÆº·Ä·p»ÀpÅ³Æº±pÆº·ÀpÉ·p¾¾p¹ÁpÆÁp¤¦¡pÁ¸¸»µ·~p¤·Â¾±p¿·p³¸Æ·Äpµ³¿·pÆÁpºÁ¿·~\n",
      "Length: 136\n",
      "OpenSourceTechniques-6\n",
      "b'\\x86\\xa1\\xf5\\xceF\\xcd\\x06\\xa6\\xae\\x0b}\\xd6\\xa1\\xdfp\\x08\\xae\\xd1y\\x91\\xf55P\\xfd\\tA\\x9f,\\xae9\\xcd\\xbeny\\xda\\xfc\\xa1\\xff6(\\x13\\xb8r\\xe9z\\xd3I\\xe2\\x91\\x9e\\x9b\\r\\x90\\x99\\x1f6}k\\xf0\\xf6\\x11\\xa8\\xc1\\xbc\\xc4\\xe3\\xe5%O\\x9a}\\x1e\\x91\\xe6\\x18\\xc3\\x0b\\xd7\\x0f\\xe04\\x90\\xb9\\xc0\\xae\\xd2\\x1d\\xb9s1\\xcdu\\xea\\x03\\xeeRhv\\xffc\\x9fCg\\xda\\xb4\\x98\\\\\\x9a8)(\\xee3\\xbd\\x8d\\xa6\\xddb\\xd8\\n>\\xd0\\x9b\\xc9\\xd1\\x86\\xc9\\x86\\xf6b\\x15\\xfe\\xa1\\xdf\\xb9\\x96/\\x16\\xc8\\xffb\\xa2\\xa7y\\x0e\\x924\\xb7\\xc8h\\xfc\\x19\\xba\\xba\\xda\\xf9\\x19\\x8a\\x18\\xd3&\\x81N\\xc6\\xc7\\x0bnE\\t\\x88\\x93\\x87e\\xd9\\x9b76\\xb7T\\xb0p\\x17\\x0b\\x86\\xf4]%C\\xabY\\xd9\\xd0\\xde\\x92\\xf0!\\xb5\\xf3\\xbb\\xda\\x18\\xf8j\\xa3D\\x06S\\xc0\\xaa\\x13\\xf0\\xd7\\xc8\\x9c\\x9bX~?\\xee\\xa8\\xaeg\\xb6x\\x80\\xff\\xf2\\x93\\x13a/\\xc4\\xfb\\xbb\\xec\\xbf\\x02\\x0b\\x99\\x9ag\\x14#\\xf4Io\\xcbn\\x83)\\xd4Q\\xc6\\xc5\\x12\\xbc'\n",
      "Length: 256\n",
      "Embedding Efficiency: 4.25\n",
      "==============\n",
      "789Will u meet ur dream partner soon? Is ur career off 2 a flyng start? 2 find out free, txt HORO followed by ur star sign, e. g. HORO ARIES\n",
      "customizedTechniques-2\n",
      "Yknn w oggv wt ftgco rctvpgt uqqp? Ku wt ectggt qhh 2 c hnapi uvctv? 2 hkpf qwv htgg, vzv JQTQ hqnnqygf da wt uvct ukip, g. i. JQTQ CTKGU\n",
      "Length: 137\n",
      "customizedTechniques-3\n",
      "w>>",
      "",
      ">>",
      ">",
      ">]>i>>",
      "",
      ">>P>>>]>P>>>",
      "",
      "J>>horo>",
      ">>>>J>",
      "L>L>horo>aries\n",
      "Length: 137\n",
      "customizedTechniques-5\n",
      "©»¾¾pÇp¿··ÆpÇÄp¶Ä·³¿pÂ³ÄÆÀ·ÄpÅÁÁÀpÅpÇÄpµ³Ä··ÄpÁ¸¸pp³p¸¾±À¹pÅÆ³ÄÆpp¸»À¶pÁÇÆp¸Ä··|pÆÊÆp¡¤¡p¸Á¾¾ÁÉ·¶p´±pÇÄpÅÆ³ÄpÅ»¹À|p·~p¹~p¡¤¡p¤¥\n",
      "Length: 137\n",
      "OpenSourceTechniques-6\n",
      "b\"\\xb5\\x9f?e\\xabH. \\x94\\x0e\\xe0Nd\\xfbj\\xde\\r\\xf7\\xac\\xb3\\xaeL\\xe9\\xafQDk}'Vc\\xe5\\xa7*\\x8b\\x89c\\xcf\\xf0\\xd6\\xc2\\xdb\\x1d\\r\\xa7\\x0egk\\xfd\\xd6\\xa76\\x93\\x8dZ\\xeet\\xca+\\xefo\\xe9\\xa8\\xfela^R\\xb9\\xba\\xde\\x7f+q\\xd7M\\xcd\\xf6i\\x83;\\x94|k\\xafIu\\xebe,\\x0f\\xd5\\xc3,\\xd6\\xde\\x84\\xce:\\xd0'^\\x15\\x15\\x90\\x14\\rA/\\x18\\xd76\\x92Zxu\\xf5A6\\x8c\\xd9K;\\x01\\xc0\\xaf]\\xc7B\\xfaj\\xb1\\x9ce\\xd2@;=\\xc5u\\xcc\\xa5#RhN\\x12\\x0b\\x9a\\xcdBE\\xd2\\x9c\\xb4|]h\\x15\\xdd\\x05lY\\x87\\x04@\\x1b\\x93\\xdbx.\\xcd\\x91\\x7fT\\x9d\\x10\\x01\\xf5\\xc39\\xe5\\x8ck4p\\xb6\\x99\\xca\\xc8\\xd5\\xef\\xc4kkJ\\xe8\\xa5B`\\xd3\\x0f\\xbe\\x93\\x96\\x16\\xd1\\xbc\\x0eE\\\\\\x9e7\\xebJ\\x1a\\x01\\xc1\\xa8x\\xc4\\x9d6\\xed\\x8e\\x8f=\\x82O\\x9er\\xce\\x06\\xa8G\\xf2\\xc8\\x01\\xc7\\xe5\\x87\\x1c\\xbc\\x18jl\\xde\\xb1\\xe9\\xff\\x92\\xe1\\xa7\\xf5e\\xca\"\n",
      "Length: 256\n",
      "Embedding Efficiency: 4.28125\n",
      "==============\n",
      "790URGENT! Your Mobile number has been awarded with a å£2000 prize GUARANTEED. Call 09058094455 from land line. Claim 3030. Valid 12hrs only\n",
      "customizedTechniques-2\n",
      "WTIGPV! Aqwt Oqdkng pwodgt jcu dggp cyctfgf ykvj c e£2000 rtkbg IWCTCPVGGF. Ecnn 09058094455 htqo ncpf nkpg. Encko 3030. Xcnkf 12jtu qpna\n",
      "Length: 137\n",
      "customizedTechniques-3\n",
      "urgent?>_>m",
      ">",
      ">>",
      "",
      ">",
      ">>>ÁPNNN>",
      ">guaranteedL>c>NWNSVNWRRSS>>>",
      "L>c>QNQNL>v>OP>\n",
      "Length: 137\n",
      "customizedTechniques-5\n",
      "§¤ ¦qpÁÇÄpÁ´»¾·pÀÇ¿´·Äpº³Åp´··Àp³É³Ä¶·¶pÉ»Æºp³pµópÂÄ»²·p§¤ ¦~p³¾¾p",
      "",
      "",
      "p¸ÄÁ¿p¾³À¶p¾»À·~p¾³»¿p~p¨³¾»¶pºÄÅpÁÀ¾±\n",
      "Length: 137\n",
      "OpenSourceTechniques-6\n",
      "b'\\xf9\\x0c\\xd7\\xba\\x86\\xf6N]\\xa7\\\\\\xe1C#\\x89\\x9al\\xa2\\x12\\xd7)5\\xd8\\xff\\xb0\\x86)\\xf0v\\\\\\x94TX\\x1bhb\\x1a\\xbd\\x99\\x1c\\xa08\\xe6\\xc4\\x97k/f\\xf7\\xee\\xa5=\\xbdl\\xc4:\\xbf\\xb0)5\\xa2\\x94\\xd9l\\xaf\\xd5\\x19\\x98\\xb3m\\xda\\xe9\\x9f\\xa4\\x8f\\xe0\\x90\\xfe.\\xf0\\xcc\\x97\\xf9\\xd0^\\xd2\\xf0]\\x87\\xfe\\xece\\xc8\\xa0\\xb8\\xa1\\xc3\\x10kTgq\\xc6\\x1d\\xc9\\x85\\\\\\x1b\\xcc%P\\x8bt:|\\xa3-\\xea{\\x9c\\x04\\xef\\x89\\xdc\\xb4Ks\\xba\\xc9\\x0c$\\x05\\xe3y\\x12b\\xdd\\xe3\\xaa\\xa3h6\\x03$\\x98)^\\xee\\x07u)\\xc4J\\xd1[\\x96&R\\xd1\\xdd.5\\x03\\x96\\x88\\'\\xe2\\x98\\x19\\x87\\xd5\\xbd\\x16?!\\n\\xddK\\xcc\\x89\\xe2\\x06\\xa1\\xcaX\\xaf\\x1f+\\x8a\\x1c\\xac\\x96\\x02\\xd23\\xb2y]\\xa6\\xe6\\x17\\x17,E\\xdcq\\x93,Td\\xf8e\\x83\\x95\\xfd\"B\\xef8\\'\\xd0\\x16\\x9cY\\x14\\xef\\xa1\\xdb\\x84\\xc0\\x9e\\x08\\x17\\xcb\\xe9_z\\xbe\\xa6k\\x8e}\\xa1\\xc7\\x9d;!\\x13A\\x9c\\x02|c\\xb1\\x01\\x1bz'\n",
      "Length: 256\n",
      "Embedding Efficiency: 4.28125\n",
      "==============\n",
      "791He like not v shock leh. Cos telling shuhui is like telling leona also. Like dat almost all know liao. He got ask me abt ur reaction lor.\n",
      "customizedTechniques-2\n",
      "Jg nkmg pqv x ujqem ngj. Equ vgnnkpi ujwjwk ku nkmg vgnnkpi ngqpc cnuq. Nkmg fcv cnoquv cnn mpqy nkcq. Jg iqv cum og cdv wt tgcevkqp nqt.\n",
      "Length: 137\n",
      "customizedTechniques-3\n",
      "h",
      ">",
      ">>>>",
      "L>c>",
      ">>>",
      ">",
      ">",
      ">L>l",
      ">>>>>L>h",
      ">>>",
      ">>>",
      ">L\n",
      "Length: 137\n",
      "customizedTechniques-5\n",
      "·p¾»½·pÀÁÆpÈpÅºÁµ½p¾·º~pÁÅpÆ·¾¾»À¹pÅºÇºÇ»p»Åp¾»½·pÆ·¾¾»À¹p¾·ÁÀ³p³¾ÅÁ~p»½·p¶³Æp³¾¿ÁÅÆp³¾¾p½ÀÁÉp¾»³Á~p·p¹ÁÆp³Å½p¿·p³´ÆpÇÄpÄ·³µÆ»ÁÀp¾ÁÄ~\n",
      "Length: 137\n",
      "OpenSourceTechniques-6\n",
      "b'l\\xa3\\xf1\\xff\\xa84\\xaa>yAn\\x91\\xadO\\xc2\\x08\\xceH\\xd5\\x1d\\xd7\\xee\\xb1\\x99\\xc2X\\x98\\x11\\xff3xh\\xa8\\xe0~\\xf7\\xce(\\xed\\x9d\\xc3\\xf5\\xbfB\\x16u\\xf9\\x9ci\\x98L\\xcd87\\xf64\\xa6\\x8c\\t\\xe4\\x8e$jrc<\\xfc!\\xb2lr|\\xa4S`[O\\x890\\xd6\\xfbw`u.\\xc0W\\xe0\\xa7\\x12\\x95^1\\xcb\\xfbd\\xf1C\\xf0\\x11a$\\x0fl\\xfe9c\\x1a\\xbbA\\x1f\\x85\\xa3\\x86i\\x15\\xbbY%\\xa8T}\\xaf\\x81]\\xd3\\xa68\\\\J\\r\\xd9\\x1e,\\x0b\\x99\\\\@\\xfe\\xb6\\xdb\\xfc\\xeds\\x85\\xc3@\\xd8\\xcc\\x93\\xd9A\\r\\x85\\xcd\\x99\"^9\\x881\\xc9\\x84\\xb2\\xc5Om]\\xf8\\x92\\xe6e\\xee\\x1ag\\xd2q>\\x9b\\xf9\\xce\\x05\\x88\\xc7\\xa5xNW\\xec^\\x86\\xbb:\\x99\\xf0\\xa5\\x1c\\x90J.\\xad\\xe6+cV0kw\\xad\\xccL\\xb7\\x1d\\xe1\\xc1\\xd0\\xc4\\x15\\x7f\\xf1\\x0f^\\x0bp\\x0b\\xbb7\\t\\x1f2#\\x8c\\xa9\\x15\\xf4L\\x04\\xd1\\xe7\\x10\\xf6\\x1b\\x04\\xd5\\xb0\\xd9M\\xfe\\xb8\\x88gr\\x9a\\x88\\xd8W'\n",
      "Length: 256\n",
      "Embedding Efficiency: 4.28125\n",
      "==============\n",
      "792Even u dont get in trouble while convincing..just tel him once or twice and just tel neglect his msgs dont c and read it..just dont reply\n",
      "customizedTechniques-2\n",
      "Gxgp w fqpv igv kp vtqwdng yjkng eqpxkpekpi..lwuv vgn jko qpeg qt vykeg cpf lwuv vgn pgingev jku ouiu fqpv e cpf tgcf kv..lwuv fqpv tgrna\n",
      "Length: 137\n",
      "customizedTechniques-3\n",
      "e",
      ">>>",
      ">>",
      ">",
      ">LL>",
      ">>",
      ">>",
      ">>>",
      ">",
      "",
      ">>>>>>",
      ">LL>>",
      "\n",
      "Length: 137\n",
      "customizedTechniques-5\n",
      "È·ÀpÇp¶ÁÀÆp¹·Æp»ÀpÆÄÁÇ´¾·pÉº»¾·pµÁÀÈ»Àµ»À¹~~¼ÇÅÆpÆ·¾pº»¿pÁÀµ·pÁÄpÆÉ»µ·p³À¶p¼ÇÅÆpÆ·¾pÀ·¹¾·µÆpº»Åp¿Å¹Åp¶ÁÀÆpµp³À¶pÄ·³¶p»Æ~~¼ÇÅÆp¶ÁÀÆpÄ·Â¾±\n",
      "Length: 137\n",
      "OpenSourceTechniques-6\n",
      "b'\\xdb~\\x0c\\xee\\xfc]\\xb6\\xef\\xcd\\xa4\\xa0*/\\xc0D\\xcf@\\xcaZ\\xdbk\\x19\\xa2\\xb8\\xd4\\x07\\xf5\\xfe \\xce\\xecJ:\\x8b\\xee\\x9fN\\x18\\xc5#\\x90?x\\xb0\\x029\\x1a\\xd2\\xfd\\x9e\\xf8\\xb4\\xb63\\xfdh\\xa5\\xe2oz\\'NK\\x9e\\xb6X\\x8aa \\xc3\\xad\\xf89\\xcd\\xbb\\xe3`Eb\\xd4Zj\\xde\\xdfs\\xccz\\x16\\xdds\\xaa\\x90\\xc9\\x8e\\x02K9\\xf3\\x1e;\\xffZ\"e\\xd9?OB\\xe1\\xffj\\x92\\xf9\\xc2\\'\\xb8\\x9e\\x05\\xbe\\x12]\\xf2\\xe19,;\\xa3\\xb9\\xe3\\x10\\x17lq\\x84qq\\xd2\\xed*\\xfc\\x88\\xbf-?8\\xcbN\\x01#\\r\\xed\\x85\\xff\\xcc\\x86\\x98\\x8dH\\x1f@2\\x87&r_\\xdbg\\x84[\\xca\\xf6\\xc3\\xcc\\xc5\\xb3X\\x7f=\\x1ev\\x03\\xf1\\xbew;x\\xad\\xcb?k\\xd3\\x13\\t\\xd3\\xe3U\\x08 Ar\\x18\\xf3\\x98\\xdei\\xb5\\xe7\\xa5\\x92\\xa0\\xe0W&\\xc7\\x83\\xd4\\x15P\\tp\\xf9\\x8b\\xce(\\x1a\\xee\\x8e1\\x86;\\x89f\\x14;\\xc6\\xbc\\tB\\xa4F\\x1a\\x01\\xda7;s\\x9a\\x8d\\xa0\\x1ci\\t\\xf0\\x1cfa'\n",
      "Length: 256\n",
      "Embedding Efficiency: 4.28125\n",
      "==============\n",
      "793Lol I know! They're so dramatic. Schools already closed for tomorrow. Apparently we can't drive in the inch of snow were supposed to get.\n",
      "customizedTechniques-2\n",
      "Nqn K mpqy! Vjga'tg uq ftcocvke. Uejqqnu cntgcfa enqugf hqt vqoqttqy. Crrctgpvna yg ecp'v ftkxg kp vjg kpej qh upqy ygtg uwrrqugf vq igv.\n",
      "Length: 137\n",
      "customizedTechniques-3\n",
      "l>i>?>t",
      "E",
      ">>L>s>",
      ">",
      ">>L>a",
      ">",
      ">E>",
      ">>",
      ">>>>",
      "",
      ">",
      ">>",
      "L\n",
      "Length: 137\n",
      "customizedTechniques-5\n",
      "Á¾pp½ÀÁÉqp¦º·±wÄ·pÅÁp¶Ä³¿³Æ»µ~p¥µºÁÁ¾Åp³¾Ä·³¶±pµ¾ÁÅ·¶p¸ÁÄpÆÁ¿ÁÄÄÁÉ~pÂÂ³Ä·ÀÆ¾±pÉ·pµ³ÀwÆp¶Ä»È·p»ÀpÆº·p»ÀµºpÁ¸pÅÀÁÉpÉ·Ä·pÅÇÂÂÁÅ·¶pÆÁp¹·Æ~\n",
      "Length: 137\n",
      "OpenSourceTechniques-6\n",
      "b'1\\xdds]\\x1a&\\xeb\\xc2\\xc0\\xdf\\x16\\xd3L1\\xea\\xdez\\xd7X\\xb5D7x\\xb5\\xbdzoA\\xf0\\t\\x12]\\xff]T.\\xd5\\x05Y\\xe0\\r\\xaf\\xbf\\xd3~Eh\\xbd\\xad\\xd1XG\\xe7\\xde{p\\x84i\\xaa\\x13\\x04A\\xca\\xc49\\x19%\\xf8\\xf8\\xd5\\xd2Q\\xe2\\n{b\\xf2T\\x16\\xabM\\x12\\xeb\\x85\\x1f\\xeb\\x01\\xc8\\xf53%\\x11j\\xf1\\x9091\\xecubI\\xef\\x17\\xef\\xae\\x0e\\x83\\x1a\\x94\\x10\\x8a\\x05\\xd5\\xad\\xdb\\x96\\xb96\\xd3\\xf3m\\x81\\x1d;T\\xdbv\\xf2II\\xaekF\\x95\\x95\\xfe\\x9f0\\x92\\x16\\x1f\\xc6d\\x8c\\x89za\\xf2Yx\\xca\\xb1\\r\\xef\\xf7&\\xf2\\xc5\\xdf\\xea\\xf3\\xd8/KA\\x0b~1\\x8e\\xf1<i\\x91\\x13\\xb5L\\x15h#B\\x87R\\xa1\\x8e?\\x1f[zb[\\xfa\\xd8m\\xe3\\x19V4\\xceB\"dz\\x1e^B;\\x1b\\xfa\\x8e\\xd8)\\xc5\\x91\\xeb(\\x10\\xbd7\\x1b?\\x15\\xae\\x86\\xec\\xc0\\x02_L9;\\xd18\\xcf\\xef\\x03+\\x9e\\x97R\\nQ\\xe9\\xd7R7&l!\\xc3\\xd1\\x1b\\xc68\\xb7\\xbe5'\n",
      "Length: 256\n",
      "Embedding Efficiency: 4.28125\n",
      "==============\n",
      "794Sunshine Quiz Wkly Q! Win a top Sony DVD player if u know which country Liverpool played in mid week? Txt ansr to 82277. å£1.50 SP:Tyrone\n",
      "customizedTechniques-2\n",
      "Uwpujkpg Swkb Ymna S! Ykp c vqr Uqpa FXF rncagt kh w mpqy yjkej eqwpvta Nkxgtrqqn rncagf kp okf yggm? Vzv cput vq 82277. e£1.50 UR:Vatqpg\n",
      "Length: 137\n",
      "customizedTechniques-3\n",
      "s",
      ">q>w>q?>w>>>s>dvd>",
      ">>>>>>l",
      ">",
      ">>>",
      "",
      "]>t>>>VPPUUL>ÁOLSN>spXt",
      "\n",
      "Length: 137\n",
      "customizedTechniques-5\n",
      "¥ÇÀÅº»À·p£Ç»²p©½¾±p£qp©»Àp³pÆÁÂp¥ÁÀ±p¨pÂ¾³±·Äp»¸pÇp½ÀÁÉpÉº»µºpµÁÇÀÆÄ±p»È·ÄÂÁÁ¾pÂ¾³±·¶p»Àp¿»¶pÉ··½p¦ÊÆp³ÀÅÄpÆÁp~pµó~",
      "p¥¢¦±ÄÁÀ·\n",
      "Length: 137\n",
      "OpenSourceTechniques-6\n",
      "b'\\x84)\\x10&\\x8a~\\x0cj\\xc2\\xa1tN\\xfe\\xd1W\\xc7\\x0e\\x15d\\xc5m\\xd3\\x98\\xa7\\x15\\xe5u\\xea\\xcf\\x01\\x04n\\xe1\\x8c\\xac\\xc0\\x15ME\\xec\\nE\\xda\\xdd\\xb2\\x97bX\\x82/\\x1cZ\\n\\xe2C\\x8e\\x94\\xcf \\x99\\x8aC\\xf9s\\x7f\\x8c\\xadO+\\xbb\\xa6-\\x08|Q\\rT\\xaad}v\\xf5\\xda\\xebD\\x0e\\xd3\\xf3y\\x10\\xc2\\xbb\\x1c\\xc0\\x0c\\xcf\\x1f\\xf6\\x852\\xee\\xa2\\xcc\\xe1\\x8c\\xb1\\x92Z\\x88J\\xffHr\\xd6\\xb3tv\\xfb\\x921?\\x84G\\xb1\\xc4b(\\x12\\x8e\\xb7\\xef\\x1f\\xef(17\"\\xe7\\xc2\\x99\\x12\\xf0\\x04\\xfb\\xf6\\xde\\xe3\\x16\\x12x\\x9b\\x8d\\xa0\\xd3A\\x95\\x8f\\xdfk\\xe1Y/M\\xb1\\x1bZ\\xa8\\x0bV\\x1a\\xe1\\xf8\\x0fnq\\xa8\\t\\xc1\\xaft\\x14-\\x93\\xaf\\x9dk\\xbe\\x04V\\xe4\\xff\\xe0\\t\\x0c\\x88m\\xbcf8{\\x1d?\\x86\\x7f\\xdem\\xe91f\\xc9\\xfc\\xdd\\xd2\\x855\\x87q/-\\x18E\\rm\\x81a\\x81*\\xc4\\xc5~Yx\\x11_\\xb2\\x9c\\xc6\\xdc\\xe2Y\\x06\\x04\\x88\\xe5\\x91\\'\\x01\\x1dJ\"\\x12\\xd5V\\xf3\\x17@'\n",
      "Length: 256\n",
      "Embedding Efficiency: 4.28125\n",
      "==============\n",
      "795Ur cash-balance is currently 500 pounds - to maximize ur cash-in now send GO to 86688 only 150p/msg. CC: 08718720201 PO BOX 114/14 TCR/W1\n",
      "customizedTechniques-2\n",
      "Wt ecuj-dcncpeg ku ewttgpvna 500 rqwpfu - vq oczkokbg wt ecuj-kp pqy ugpf IQ vq 86688 qpna 150r/oui. EE: 08718720201 RQ DQZ 114/14 VET/Y1\n",
      "Length: 137\n",
      "customizedTechniques-3\n",
      "u>K",
      ">>",
      ">SNN>>K>>",
      ">>K>>",
      ">go>>VTTVV>>OSNML>ccX>NVUOVUPNPNO>po>box>OORMOR>tcrMwO\n",
      "Length: 137\n",
      "customizedTechniques-5\n",
      "§Äpµ³Åº}´³¾³Àµ·p»ÅpµÇÄÄ·ÀÆ¾±p",
      "pÂÁÇÀ¶Åp}pÆÁp¿³Ê»¿»²·pÇÄpµ³Åº}»ÀpÀÁÉpÅ·À¶p¡pÆÁppÁÀ¾±p",
      "Â¿Å¹~ppp¢¡p¡ªpp¦¤©\n",
      "Length: 137\n",
      "OpenSourceTechniques-6\n",
      "b'\\xa0\\x1cF\\xb2sg\\x1d\\xf4\\xbaGbm\\x17`Z\\x0b\\xf7\\xf0\\xf7\\x0c6\\xd9\\xe9\\x83W\\x03\\x0c&\\xbb(m\\xd8\\t\\xc4-Y\\x18X\\xe1\\x8b\\x97\\x93\\xb0\\x07\\r\\x0b\\xbaT\\xf7\\xfcY\\x0e\\xd0\\x9b\\xf6\\xe4\\xa9\\xd7u\\xdd\\x18\\xc7\\xeej\\xe3\\xb8\\xa2\\xfbz\\x92E\\xb40\\x84vd\\xfe\\xd7D\\xc7\\xac\\xd1\\xab6\\xbb\\xc3f\\xbf\\xdd\\x1c\\x02[\\x8cY@\\x80\\x89kV\\xa2e\\xf3\\xa8\\x92]\\x97\\xd2=>)!\\xb1\\xe6\\xe9\\x02j+|\\xdc\\xae\\x10\\xa1\\xackgA}c\\xe3g-7\\xbbH\"\\xc7\\xf7D\\x1b!q-9\\x06T\" {\\xe4\\x98\\x13\\xdb\\xf1\\xf0\\x96\\x8c\\xc4\\x98%&\\x19\\x1c\\xad\\x92\\x08\\x10AS\\t\\xde\\x92}\\xb4\\x93\\xd0\\x1a\\xf2\\xbd\\x99-\\xef\\xad\\x93\\x0b\\xefa\\x0cq:\\x87x0\\xbe\\xe5g\\xcc\\x8d\\x84?^\\x88;\\xf2_q\\x04q(Q\\xf3S\\xb8\\x10\\xa21\\xa2\\xf1\\xe8Of\\xc4+\\xb0c\\xf5=\\xd3\\x7fU)\\xc3\\x8d8\\xc3x\\x01o\\xe5.\\xbd/\\xb7\\xd6\\x98\\x95\\x88\\x16\\xef\\xf68jQo\\xf0d\\x90'\n",
      "Length: 256\n",
      "Embedding Efficiency: 4.28125\n",
      "==============\n",
      "796TheMob> Check out our newest selection of content, Games, Tones, Gossip, babes and sport, Keep your mobile fit and funky text WAP to 82468\n",
      "customizedTechniques-2\n",
      "VjgOqd> Ejgem qwv qwt pgyguv ugngevkqp qh eqpvgpv, Icogu, Vqpgu, Iquukr, dcdgu cpf urqtv, Mggr aqwt oqdkng hkv cpf hwpma vgzv YCR vq 82468\n",
      "Length: 138\n",
      "customizedTechniques-3\n",
      "t",
      "m\\>c",
      ">>>",
      "",
      ">",
      "",
      ">>",
      "J>g",
      "J>t",
      "J>gJ>",
      ">>J>k",
      "",
      ">>",
      ">>>>",
      ">wap>>VPRTV\n",
      "Length: 138\n",
      "customizedTechniques-5\n",
      "¦º·Á´pº·µ½pÁÇÆpÁÇÄpÀ·É·ÅÆpÅ·¾·µÆ»ÁÀpÁ¸pµÁÀÆ·ÀÆ|p³¿·Å|p¦ÁÀ·Å|pÁÅÅ»Â|p´³´·Åp³À¶pÅÂÁÄÆ|p··Âp±ÁÇÄp¿Á´»¾·p¸»Æp³À¶p¸ÇÀ½±pÆ·ÊÆp©¢pÆÁp\n",
      "Length: 138\n",
      "OpenSourceTechniques-6\n",
      "b'\\xd9\\xcb]\\xb2(\\xaf\\x04\\xcc \\x1a\\xec\\xd3\\x06R\\x98\\xea,\\xb0\\xa6\\x8cT\\xd6$\\x11\\xcf\\xcd\\xf12\\x88\\x8b\\xbf\\x06\\xb5\\xd1\\x8e\\x1c\\x1b\\xce\\xd2B\\xf5W\\'\\x88\\xef\\x0c\\xad\\\\!\\t-B\\x17\\xbb\\x13\\x1c\\xb4\\xcc(#\\xcb\\xaa\\xcb\\x9bW\\x1f\\xc3\\x03\\xa9E\\xb0.Q\\xb4\\xf3M\\x8f\\x1cSc>C\\\\)^\\xa4\\x0b\\xd4\\xbf\\xab\\x96\\x96\\xcc3%\\x97\\xc5\\xb3i\\xa1\\x91\\'\\x7f2wr\\xb3\\xd1\\x98\\xad\\xfd\\xd9\\x8b3/\\xca\"7q\\xc7z\\xa7\\x15\\x1f\\x8dH\\xfe#AYw\\xd2E\\xb8h\\xb00\\xca\\x97\\x12|\\xb6\\xeb)\\xb0\\xe3^NR\\xef\\xf7\\xd6<\\xb9\\xb65\\xd2gE>\\x814\\x8c\\x12\\x1f\\xb0\\xee,\\xf8\\x8e(--K\\x06\\xd0?\\xec|eI\\x00!\\xf2~7\\x18\\xe2\\xc1\\xf0\\x14*\\xe26\\xf7\\x87\\x8a\\xb8\\x9fU\\xbb\\x94A43Z\\xbd\\xea8\\x0f\\x90\\xb0\\x19\\xbeA\\xbfm_}\\xd4 UUA\\x1d\\xdf\\xde\\x932\\x1d\\xe2LW\\x1e\\xa1w\\t\\xe7G2\\x04\\xe5\\x08V]@S\\xf1-R\\xc1\\x12\\x97\\xabx\\xde'\n",
      "Length: 256\n",
      "Embedding Efficiency: 4.3125\n",
      "==============\n",
      "797Ok. Every night take a warm bath drink a cup of milk and you'll see a work of magic. You still need to loose weight. Just so that you know\n",
      "customizedTechniques-2\n",
      "Qm. Gxgta pkijv vcmg c ycto dcvj ftkpm c ewr qh oknm cpf aqw'nn ugg c yqtm qh ocike. Aqw uvknn pggf vq nqqug ygkijv. Lwuv uq vjcv aqw mpqy\n",
      "Length: 138\n",
      "customizedTechniques-3\n",
      "oL>e",
      ">>",
      ">>>>>>>>>>E>",
      "",
      ">>>>L>_>>",
      "",
      ">>",
      ">",
      "L>j>>>>\n",
      "Length: 138\n",
      "customizedTechniques-5\n",
      "¡½~pÈ·Ä±pÀ»¹ºÆpÆ³½·p³pÉ³Ä¿p´³Æºp¶Ä»À½p³pµÇÂpÁ¸p¿»¾½p³À¶p±ÁÇw¾¾pÅ··p³pÉÁÄ½pÁ¸p¿³¹»µ~pÁÇpÅÆ»¾¾pÀ··¶pÆÁp¾ÁÁÅ·pÉ·»¹ºÆ~pÇÅÆpÅÁpÆº³Æp±ÁÇp½ÀÁÉ\n",
      "Length: 138\n",
      "OpenSourceTechniques-6\n",
      "b\"\\xc7\\xcb\\xbb\\x9e\\xc3\\xb3\\xd2[\\xfd\\x03\\x19\\xbd'\\xde\\xe7\\x9e[;\\xb2=\\x18Nk\\x8dK\\xeew+\\x12\\xfbE{S\\x0c\\x98\\x995ej\\x85\\xf5\\x9c\\xbd\\x96\\x979\\x86\\xa18\\x11\\n\\xee\\x8f\\t\\xc1\\xaca\\x02\\x9b\\xa11\\x80\\xd5\\xee\\xff2\\x99\\x8c\\xfbO\\x84:\\x06\\xecI\\xd8gw\\x8dt\\xfc<8?\\x9b\\xfa\\xa3%\\x8e\\xef]\\xe2k0D\\xe1\\xadf\\xe7\\xfa\\xcb:\\xd1\\xd9O?[\\xc17\\\\\\xedz\\xcf\\x8fN3\\xd7@tEHg\\x9c\\x0e\\x10\\xc4\\xe2x\\xf3\\x8b)\\xbb\\xf5i\\xf7\\xa3\\xc9\\xf1\\xc4\\xd3\\x80\\xa5\\xe6\\x10\\xde,\\xe1\\xbc\\xb1\\xbbe\\x8a\\x9d\\xb0\\xbcZ\\x1f\\xa4\\x02\\xd58)_\\x03\\x86\\xc6X\\xb8\\xc7\\xb7\\x17\\x8ec<\\xea\\xba\\x84\\xd2\\x80\\x1cf\\xc0(\\xf2\\x87\\xf6^!\\x03\\x18\\x00z\\x8f\\xa1\\xe8\\x99\\xa7\\xe8\\x94\\x80\\xd4\\xa5\\xa3G\\xa7\\xc1v\\x9d\\xafrm\\xa2\\xa3\\x85-\\xb3\\xd74\\x9e\\xd0\\xf0\\xf6_\\x1dy?\\xdc\\xc5\\xcci\\xf4(\\xd7@\\xeb\\xcf\\x07\\xe1&.#n\\x96\\x06<y\\xba\\xfb\\x16Di\\xe4\\x0f\\x07\\xa7\\x83\"\n",
      "Length: 256\n",
      "Embedding Efficiency: 4.3125\n",
      "==============\n",
      "798Please call our customer service representative on 0800 169 6031 between 10am-9pm as you have WON a guaranteed å£1000 cash or å£5000 prize!\n",
      "customizedTechniques-2\n",
      "Rngcug ecnn qwt ewuvqogt ugtxkeg tgrtgugpvcvkxg qp 0800 169 6031 dgvyggp 10co-9ro cu aqw jcxg YQP c iwctcpvggf e£1000 ecuj qt e£5000 rtkbg!\n",
      "Length: 139\n",
      "customizedTechniques-3\n",
      "p",
      "",
      ">>>",
      ">",
      "",
      ">",
      "",
      "",
      "",
      ">>NVNN>OTW>TNQO>",
      "",
      "",
      ">ONKW>>>",
      ">won>>",
      "",
      ">ÁONNN>>>ÁSNNN>",
      "?\n",
      "Length: 139\n",
      "customizedTechniques-5\n",
      "¢¾·³Å·pµ³¾¾pÁÇÄpµÇÅÆÁ¿·ÄpÅ·ÄÈ»µ·pÄ·ÂÄ·Å·ÀÆ³Æ»È·pÁÀpppp´·ÆÉ··Àp³¿}Â¿p³Åp±ÁÇpº³È·p©¡ p³p¹Ç³Ä³ÀÆ··¶pµópµ³ÅºpÁÄpµó",
      "pÂÄ»²·q\n",
      "Length: 139\n",
      "OpenSourceTechniques-6\n",
      "b'A@(<\\xab-\\x05\\x88\\xe0 \\xc9\\xb7\\x85\\xec\\xb4_\\x0f\\xe6\"\\xad\\x81\\xc3\\xaa\\x083\\xb9\\xe5\\x88j\\xa1\\x98\\x96\\x17\\xcd\\x14\\xb1KT\\x11H\\x1f\\xbcik8*\\xca)\\xf6\\xf7\\x02\\xe6\\xc3\\xab\\x1d\\xc2-$\\x90\\xdd\\xa8\\x01\\xfd\\x1dF\\x0b\\x05\\xc9u`\\xce\\x0b\\xc5\\x8e\\xcdU-\\xcd\\x8f)\\xaf\\x83\\xff8\\xbaE\\xe7DD\\xc0\\xcb2^\\xcb\\xda\\xc31\\xad\\xd3\\xc5\\x16\\t$\\xfd\\xe9@Z\\xfa\\x80-jm\\x9bR\\r\\xa1}\\x0f\\xdb4\\xc5>\\x8ao\\x88M\\xd8eQ\\x91\\xd7\\xd1\\x00\\xba\\x13\\xc3\\xb22O|\\x9d%\\xd5T\\x00\\x10!B\\x17\\x0e\\'d\\x91\\xa6\\x07\\xf1CO\\xca\\xf0H\\x02&l-JPo\\x91\\x9d\\x83\\xafaR\\xc0\\xa3\\xd7z0\\xb6R\\xfd&\\x92\\xa4T\\xce,]8i\\xb5\\xe5H\\xecS\\xb4\\x892\\xfe{\\xf6\\xd7Z\\xa0\\xc0\\x07\\x8b\\x94\\xb4\\x8b\\xb4\\xf7\\x8b*\\x1c\\xdf\\xeei\\x0b6\\xa4kN\\xacPUo\\xa24\\xeb\\x85\\xceQ]\\xae\\x99\\xbe3\\\\\\xd0\\xcab\\xd98+\\xe4F\\xb46\\xbdC\\xc4+\\xe9\\xbe'\n",
      "Length: 256\n",
      "Embedding Efficiency: 4.34375\n",
      "==============\n",
      "799I can't download it. One of the cheapest applications and the lowest banks. A loser and garbage that does not open, sits and rolls without opening, I wish they would solve the problem. The bank is bad, and it was the first bank for me to get a visa, but it was a thief who used to take a percentage greater than 3.75. Can it develop with the merger, who knows?!. The logo has become invalid, at least write the name of the bank in Arabic inside the logo (all logos are now similar and in the same colors). It is not acceptable to save the password. I'm having trouble logging in and baptizing. It is not satisfied that it is happening. I deleted the app and tried to install it. loser. \n",
      "Bad, needs a better update... It has become slow and stuck in moving from one operation to another. The bank's service is no longer what it used to be, as it asks to visit the nearest branch instead of carrying out any operation. Customer service equipment is most of the time under maintenance, and if it works after a few days of review, it refuses the fingerprint while it is accepted by the employee. However, Al-Ahly services are deteriorating if we compare them to the bank, which we consider to be a giant .. It does not load with me until now, 5 days ago and I am trying to download it. Recently, the application has been hanging.. either when I open it or when I make a transfer. Very bad new app. The old one was very good. The instant transfer is done even in hour-old banks, and the National Bank until now. The problems of the instant transfer are something strange again, other than the secret number, the right of the bank phone that you set, and it returns to tell you the wrong number two days later. Star and forbidden, by God.. It does not support the activation of international transfer. The cheapest bank to deal with and benefits. refused holds. \n",
      "Historic bank and failed app 😜. The latest update has not spoken to me. The update hid some of the recorded information. He gets stuck and the baptism process is always a failure!!!?? The app tired me, it was great at first, and now it's gone. C very much. The program does not work, requests an update, and it does not happen. Bad update app stuck won't open. Suspended, not satisfied with entering after he sent me an update. The new update refuses to open with me... bad👎🏻. \n",
      "The program does not work. I removed the Wazift Bank application. Because the evaluation is compulsory, not optional, I want to enter my account, and I must evaluate the application before entering. Never satisfied. The program asks me to update, but there is no update! And suspended and suspended exchange!. Unsatisfactory. I would like to add a service to buy credit for all telecom companies, as it allows the customer to benefit from this service. Buy credit and the card number will receive a message on the cell phone approved by the bank, as well as data balance for data segments. You see provided in all banks except Al-Ahly. The app is sometimes unresponsive. Problems after the update. \n",
      "The last update is not working 😖😖😖😖. A program that does not work says it needs an update. You enter and tell you that there is no update. I deleted the program and returned it, the same problem. An application that fails every bit, two updates, is worse than before, banks are evolving, and you are behind a secret. The application has become very bad. Please pay attention to the criticism to log in. Where are you, Al-Ahly employees?. There is no refresh button. What did the new program open?. It got bad. Too bad, I'm worse than before. The application does not work. When I open the application, I see a message asking for an update, and I am transferred to Google Play. Unfortunately, there is no update. \n",
      "Dislike. There is no update and the current version is requesting an update. Where is the update. The application does not work even though it has been updated. It has become very bad. I have to go to the National Bank website instead of the application. it's OK. I tried to log in.. pls refused... means the app is not working. C program every day the problem of entry. The application does not open. the website does not work. \n",
      "The application does not open, it says a new version, and it tells me. We can't enter. An application from three months or more, and I am having difficulty entering the program and it gets stuck a lot. By God, it no longer opens. You ruined it after the update. The problem of the update is blocking and preventing access. Why is it not optional? I am now unable to log into my account. Give me a solution????. Poor services from Jabbar Bank. The new update is bad 👎 not working. The application does not want to be updated every day, the service is worse and broken, and there are no advantages. The application does not open. \n",
      "What happened is not working and all that comes out to develop your experience is to update the program. You press update. There is no update. I deleted it and installed it again after asking for the update!!!!!!!!!!. The app is very bad. The program requests an update and does not accept the update. Failing and very heavy. It asks me to update. Enter I want to update. There is no update!!. The application does not accept the update permanently. It was nice, but unfortunately I have not been able to access my account for several months, especially from outside the Kingdom. it's OK .. dime hanging. \n",
      "The program is not running, and every bit the program happened, and then it says the password is wrong. I open it and it says there is a new version. to update. OK to update. But it does not work.. The application has become tired.. Please return the first version.. and pay attention to the program. So that it becomes as easy to use as before.. Al-Ahly is not satisfied with speaking, I tried, and I do not know the reason. Mukhais, Marouh, and a rotten bank.. no services or interest. By God, every month, as soon as my salary comes out, I transfer it all on the same day to my account in Al-Rajhi. The new update has broken the app. Unfortunately, in the recent period, after modifying its identity and logo to merge with Samba Bank, the application no longer works and requires an update, but it is not activated for Android devices. Weak. The application does not work and requires an update. Please fix this matter. Hanging open. \n",
      "I wish we had a safe pilgrimage.. The application has been updated and on the home page it takes me back to the update..Failed experience in updating. Very bad challenge w and a bad bank, I do not advise anyone in it. The new update is pending until the previous one opens. It does not respond and does not work and always asks for an update. Uninstalled and re-downloaded, same issue. After the update, it actually refuses to log in to a large bank. This should not allow any error in its electronic applications. Bad program and I do not recommend dealing with the National Bank fraudsters. There is a problem that does not work. The application is updated to the latest update and does not work. It requests an update even though it is the latest update. Not satisfied to open. \n",
      "Where is the update so that we can remove the message that is sitting for us on the application door 😤. The app is asking for an update and there is no update in the store!!. God willing, the application was good, until I updated it, it no longer works. May God break the hand of those who worked on the update 😡. It does not work, writes in an update, but it is updated to the latest version!. It does not work, writes in an update, but it is updated to the latest version!. Zaffah is not working. not talking. Very bad and hung. Too bad..always hanging. \n",
      "The update is very very bad. Did not open. Why can't I login to my debit card number?????. It needs development.. Look, for example, the application of Al-Rajhi and Al-Inmaa, its speed, ease, and smoothness. Your right is slow and old as a form. The application hangs. XVD application. C experience. It is difficult and does not work easily. Every time I open the application, it tires me. I hope to develop it. always loafers.\n",
      "customizedTechniques-2\n"
     ]
    },
    {
     "name": "stdout",
     "output_type": "stream",
     "text": [
      "K ecp'v fqypnqcf kv. Qpg qh vjg ejgcrguv crrnkecvkqpu cpf vjg nqyguv dcpmu. C nqugt cpf ictdcig vjcv fqgu pqv qrgp, ukvu cpf tqnnu ykvjqwv qrgpkpi, K ykuj vjga yqwnf uqnxg vjg rtqdngo. Vjg dcpm ku dcf, cpf kv ycu vjg hktuv dcpm hqt og vq igv c xkuc, dwv kv ycu c vjkgh yjq wugf vq vcmg c rgtegpvcig itgcvgt vjcp 3.75. Ecp kv fgxgnqr ykvj vjg ogtigt, yjq mpqyu?!. Vjg nqiq jcu dgeqog kpxcnkf, cv ngcuv ytkvg vjg pcog qh vjg dcpm kp Ctcdke kpukfg vjg nqiq (cnn nqiqu ctg pqy ukoknct cpf kp vjg ucog eqnqtu). Kv ku pqv ceegrvcdng vq ucxg vjg rcuuyqtf. K'o jcxkpi vtqwdng nqiikpi kp cpf dcrvkbkpi. Kv ku pqv ucvkuhkgf vjcv kv ku jcrrgpkpi. K fgngvgf vjg crr cpf vtkgf vq kpuvcnn kv. nqugt. \n",
      "Dcf, pggfu c dgvvgt wrfcvg... Kv jcu dgeqog unqy cpf uvwem kp oqxkpi htqo qpg qrgtcvkqp vq cpqvjgt. Vjg dcpm'u ugtxkeg ku pq nqpigt yjcv kv wugf vq dg, cu kv cumu vq xkukv vjg pgctguv dtcpej kpuvgcf qh ecttakpi qwv cpa qrgtcvkqp. Ewuvqogt ugtxkeg gswkrogpv ku oquv qh vjg vkog wpfgt ockpvgpcpeg, cpf kh kv yqtmu chvgt c hgy fcau qh tgxkgy, kv tghwugu vjg hkpigtrtkpv yjkng kv ku ceegrvgf da vjg gornqagg. Jqygxgt, Cn-Cjna ugtxkegu ctg fgvgtkqtcvkpi kh yg eqorctg vjgo vq vjg dcpm, yjkej yg eqpukfgt vq dg c ikcpv .. Kv fqgu pqv nqcf ykvj og wpvkn pqy, 5 fcau ciq cpf K co vtakpi vq fqypnqcf kv. Tgegpvna, vjg crrnkecvkqp jcu dggp jcpikpi.. gkvjgt yjgp K qrgp kv qt yjgp K ocmg c vtcpuhgt. Xgta dcf pgy crr. Vjg qnf qpg ycu xgta iqqf. Vjg kpuvcpv vtcpuhgt ku fqpg gxgp kp jqwt-qnf dcpmu, cpf vjg Pcvkqpcn Dcpm wpvkn pqy. Vjg rtqdngou qh vjg kpuvcpv vtcpuhgt ctg uqogvjkpi uvtcpig cickp, qvjgt vjcp vjg ugetgv pwodgt, vjg tkijv qh vjg dcpm rjqpg vjcv aqw ugv, cpf kv tgvwtpu vq vgnn aqw vjg ytqpi pwodgt vyq fcau ncvgt. Uvct cpf hqtdkffgp, da Iqf.. Kv fqgu pqv uwrrqtv vjg cevkxcvkqp qh kpvgtpcvkqpcn vtcpuhgt. Vjg ejgcrguv dcpm vq fgcn ykvj cpf dgpghkvu. tghwugf jqnfu. \n",
      "Jkuvqtke dcpm cpf hckngf crr 😜. Vjg ncvguv wrfcvg jcu pqv urqmgp vq og. Vjg wrfcvg jkf uqog qh vjg tgeqtfgf kphqtocvkqp. Jg igvu uvwem cpf vjg dcrvkuo rtqeguu ku cnycau c hcknwtg!!!?? Vjg crr vktgf og, kv ycu itgcv cv hktuv, cpf pqy kv'u iqpg. E xgta owej. Vjg rtqitco fqgu pqv yqtm, tgswguvu cp wrfcvg, cpf kv fqgu pqv jcrrgp. Dcf wrfcvg crr uvwem yqp'v qrgp. Uwurgpfgf, pqv ucvkuhkgf ykvj gpvgtkpi chvgt jg ugpv og cp wrfcvg. Vjg pgy wrfcvg tghwugu vq qrgp ykvj og... dcf👎🏻. \n",
      "Vjg rtqitco fqgu pqv yqtm. K tgoqxgf vjg Ycbkhv Dcpm crrnkecvkqp. Dgecwug vjg gxcnwcvkqp ku eqorwnuqta, pqv qrvkqpcn, K ycpv vq gpvgt oa ceeqwpv, cpf K owuv gxcnwcvg vjg crrnkecvkqp dghqtg gpvgtkpi. Pgxgt ucvkuhkgf. Vjg rtqitco cumu og vq wrfcvg, dwv vjgtg ku pq wrfcvg! Cpf uwurgpfgf cpf uwurgpfgf gzejcpig!. Wpucvkuhcevqta. K yqwnf nkmg vq cff c ugtxkeg vq dwa etgfkv hqt cnn vgngeqo eqorcpkgu, cu kv cnnqyu vjg ewuvqogt vq dgpghkv htqo vjku ugtxkeg. Dwa etgfkv cpf vjg ectf pwodgt yknn tgegkxg c oguucig qp vjg egnn rjqpg crrtqxgf da vjg dcpm, cu ygnn cu fcvc dcncpeg hqt fcvc ugiogpvu. Aqw ugg rtqxkfgf kp cnn dcpmu gzegrv Cn-Cjna. Vjg crr ku uqogvkogu wptgurqpukxg. Rtqdngou chvgt vjg wrfcvg. \n",
      "Vjg ncuv wrfcvg ku pqv yqtmkpi 😖😖😖😖. C rtqitco vjcv fqgu pqv yqtm ucau kv pggfu cp wrfcvg. Aqw gpvgt cpf vgnn aqw vjcv vjgtg ku pq wrfcvg. K fgngvgf vjg rtqitco cpf tgvwtpgf kv, vjg ucog rtqdngo. Cp crrnkecvkqp vjcv hcknu gxgta dkv, vyq wrfcvgu, ku yqtug vjcp dghqtg, dcpmu ctg gxqnxkpi, cpf aqw ctg dgjkpf c ugetgv. Vjg crrnkecvkqp jcu dgeqog xgta dcf. Rngcug rca cvvgpvkqp vq vjg etkvkekuo vq nqi kp. Yjgtg ctg aqw, Cn-Cjna gornqaggu?. Vjgtg ku pq tghtguj dwvvqp. Yjcv fkf vjg pgy rtqitco qrgp?. Kv iqv dcf. Vqq dcf, K'o yqtug vjcp dghqtg. Vjg crrnkecvkqp fqgu pqv yqtm. Yjgp K qrgp vjg crrnkecvkqp, K ugg c oguucig cumkpi hqt cp wrfcvg, cpf K co vtcpuhgttgf vq Iqqing Rnca. Wphqtvwpcvgna, vjgtg ku pq wrfcvg. \n",
      "Fkunkmg. Vjgtg ku pq wrfcvg cpf vjg ewttgpv xgtukqp ku tgswguvkpi cp wrfcvg. Yjgtg ku vjg wrfcvg. Vjg crrnkecvkqp fqgu pqv yqtm gxgp vjqwij kv jcu dggp wrfcvgf. Kv jcu dgeqog xgta dcf. K jcxg vq iq vq vjg Pcvkqpcn Dcpm ygdukvg kpuvgcf qh vjg crrnkecvkqp. kv'u QM. K vtkgf vq nqi kp.. rnu tghwugf... ogcpu vjg crr ku pqv yqtmkpi. E rtqitco gxgta fca vjg rtqdngo qh gpvta. Vjg crrnkecvkqp fqgu pqv qrgp. vjg ygdukvg fqgu pqv yqtm. \n",
      "Vjg crrnkecvkqp fqgu pqv qrgp, kv ucau c pgy xgtukqp, cpf kv vgnnu og. Yg ecp'v gpvgt. Cp crrnkecvkqp htqo vjtgg oqpvju qt oqtg, cpf K co jcxkpi fkhhkewnva gpvgtkpi vjg rtqitco cpf kv igvu uvwem c nqv. Da Iqf, kv pq nqpigt qrgpu. Aqw twkpgf kv chvgt vjg wrfcvg. Vjg rtqdngo qh vjg wrfcvg ku dnqemkpi cpf rtgxgpvkpi ceeguu. Yja ku kv pqv qrvkqpcn? K co pqy wpcdng vq nqi kpvq oa ceeqwpv. Ikxg og c uqnwvkqp????. Rqqt ugtxkegu htqo Lcddct Dcpm. Vjg pgy wrfcvg ku dcf 👎 pqv yqtmkpi. Vjg crrnkecvkqp fqgu pqv ycpv vq dg wrfcvgf gxgta fca, vjg ugtxkeg ku yqtug cpf dtqmgp, cpf vjgtg ctg pq cfxcpvcigu. Vjg crrnkecvkqp fqgu pqv qrgp. \n",
      "Yjcv jcrrgpgf ku pqv yqtmkpi cpf cnn vjcv eqogu qwv vq fgxgnqr aqwt gzrgtkgpeg ku vq wrfcvg vjg rtqitco. Aqw rtguu wrfcvg. Vjgtg ku pq wrfcvg. K fgngvgf kv cpf kpuvcnngf kv cickp chvgt cumkpi hqt vjg wrfcvg!!!!!!!!!!. Vjg crr ku xgta dcf. Vjg rtqitco tgswguvu cp wrfcvg cpf fqgu pqv ceegrv vjg wrfcvg. Hcknkpi cpf xgta jgcxa. Kv cumu og vq wrfcvg. Gpvgt K ycpv vq wrfcvg. Vjgtg ku pq wrfcvg!!. Vjg crrnkecvkqp fqgu pqv ceegrv vjg wrfcvg rgtocpgpvna. Kv ycu pkeg, dwv wphqtvwpcvgna K jcxg pqv dggp cdng vq ceeguu oa ceeqwpv hqt ugxgtcn oqpvju, gurgekcnna htqo qwvukfg vjg Mkpifqo. kv'u QM .. fkog jcpikpi. \n",
      "Vjg rtqitco ku pqv twppkpi, cpf gxgta dkv vjg rtqitco jcrrgpgf, cpf vjgp kv ucau vjg rcuuyqtf ku ytqpi. K qrgp kv cpf kv ucau vjgtg ku c pgy xgtukqp. vq wrfcvg. QM vq wrfcvg. Dwv kv fqgu pqv yqtm.. Vjg crrnkecvkqp jcu dgeqog vktgf.. Rngcug tgvwtp vjg hktuv xgtukqp.. cpf rca cvvgpvkqp vq vjg rtqitco. Uq vjcv kv dgeqogu cu gcua vq wug cu dghqtg.. Cn-Cjna ku pqv ucvkuhkgf ykvj urgcmkpi, K vtkgf, cpf K fq pqv mpqy vjg tgcuqp. Owmjcku, Octqwj, cpf c tqvvgp dcpm.. pq ugtxkegu qt kpvgtguv. Da Iqf, gxgta oqpvj, cu uqqp cu oa ucncta eqogu qwv, K vtcpuhgt kv cnn qp vjg ucog fca vq oa ceeqwpv kp Cn-Tcljk. Vjg pgy wrfcvg jcu dtqmgp vjg crr. Wphqtvwpcvgna, kp vjg tgegpv rgtkqf, chvgt oqfkhakpi kvu kfgpvkva cpf nqiq vq ogtig ykvj Ucodc Dcpm, vjg crrnkecvkqp pq nqpigt yqtmu cpf tgswktgu cp wrfcvg, dwv kv ku pqv cevkxcvgf hqt Cpftqkf fgxkegu. Ygcm. Vjg crrnkecvkqp fqgu pqv yqtm cpf tgswktgu cp wrfcvg. Rngcug hkz vjku ocvvgt. Jcpikpi qrgp. \n",
      "K ykuj yg jcf c uchg rknitkocig.. Vjg crrnkecvkqp jcu dggp wrfcvgf cpf qp vjg jqog rcig kv vcmgu og dcem vq vjg wrfcvg..Hckngf gzrgtkgpeg kp wrfcvkpi. Xgta dcf ejcnngpig y cpf c dcf dcpm, K fq pqv cfxkug cpaqpg kp kv. Vjg pgy wrfcvg ku rgpfkpi wpvkn vjg rtgxkqwu qpg qrgpu. Kv fqgu pqv tgurqpf cpf fqgu pqv yqtm cpf cnycau cumu hqt cp wrfcvg. Wpkpuvcnngf cpf tg-fqypnqcfgf, ucog kuuwg. Chvgt vjg wrfcvg, kv cevwcnna tghwugu vq nqi kp vq c nctig dcpm. Vjku ujqwnf pqv cnnqy cpa gttqt kp kvu gngevtqpke crrnkecvkqpu. Dcf rtqitco cpf K fq pqv tgeqoogpf fgcnkpi ykvj vjg Pcvkqpcn Dcpm htcwfuvgtu. Vjgtg ku c rtqdngo vjcv fqgu pqv yqtm. Vjg crrnkecvkqp ku wrfcvgf vq vjg ncvguv wrfcvg cpf fqgu pqv yqtm. Kv tgswguvu cp wrfcvg gxgp vjqwij kv ku vjg ncvguv wrfcvg. Pqv ucvkuhkgf vq qrgp. \n",
      "Yjgtg ku vjg wrfcvg uq vjcv yg ecp tgoqxg vjg oguucig vjcv ku ukvvkpi hqt wu qp vjg crrnkecvkqp fqqt 😤. Vjg crr ku cumkpi hqt cp wrfcvg cpf vjgtg ku pq wrfcvg kp vjg uvqtg!!. Iqf yknnkpi, vjg crrnkecvkqp ycu iqqf, wpvkn K wrfcvgf kv, kv pq nqpigt yqtmu. Oca Iqf dtgcm vjg jcpf qh vjqug yjq yqtmgf qp vjg wrfcvg 😡. Kv fqgu pqv yqtm, ytkvgu kp cp wrfcvg, dwv kv ku wrfcvgf vq vjg ncvguv xgtukqp!. Kv fqgu pqv yqtm, ytkvgu kp cp wrfcvg, dwv kv ku wrfcvgf vq vjg ncvguv xgtukqp!. Bchhcj ku pqv yqtmkpi. pqv vcnmkpi. Xgta dcf cpf jwpi. Vqq dcf..cnycau jcpikpi. \n",
      "Vjg wrfcvg ku xgta xgta dcf. Fkf pqv qrgp. Yja ecp'v K nqikp vq oa fgdkv ectf pwodgt?????. Kv pggfu fgxgnqrogpv.. Nqqm, hqt gzcorng, vjg crrnkecvkqp qh Cn-Tcljk cpf Cn-Kpocc, kvu urggf, gcug, cpf uoqqvjpguu. Aqwt tkijv ku unqy cpf qnf cu c hqto. Vjg crrnkecvkqp jcpiu. ZXF crrnkecvkqp. E gzrgtkgpeg. Kv ku fkhhkewnv cpf fqgu pqv yqtm gcukna. Gxgta vkog K qrgp vjg crrnkecvkqp, kv vktgu og. K jqrg vq fgxgnqr kv. cnycau nqchgtu.\n",
      "Length: 8116\n",
      "customizedTechniques-3\n",
      "i>E>>L>o",
      ">>",
      ">",
      "",
      ">>>",
      ">",
      ">L>a>",
      ">>",
      ">>",
      ">>",
      "J>>>>>",
      "J>i>>",
      ">>",
      ">",
      ">",
      "L>t",
      ">>>J>>>>",
      ">>>>",
      ">>",
      ">>J>>>>>",
      ">>",
      ">>",
      ">>",
      "",
      "",
      ">",
      "",
      ">>QLUSL>c>>",
      "",
      ">>",
      ">",
      "",
      "J>>]?L>t",
      ">>>",
      "",
      ">J>>",
      ">",
      ">",
      ">",
      ">>",
      ">>>a>",
      ">",
      ">>F>>",
      ">>>>>",
      ">",
      ">GL>i>>>",
      "",
      ">>",
      ">",
      ">L>iE>>",
      ">>>>L>i>>>",
      ">>>>",
      "L>i>",
      "",
      "",
      ">",
      ">>>",
      ">>>L>",
      "L>(bJ>",
      "",
      ">>",
      "",
      ">",
      "LLL>i>>",
      "",
      ">>>>>>>",
      ">",
      ">>",
      "L>t",
      ">E>",
      "",
      ">>>",
      ">>>",
      ">>",
      "J>>>>>>",
      ">",
      "",
      ">>",
      ">>>>>",
      "L>c",
      ">",
      "",
      ">",
      "",
      ">>>>",
      ">",
      ">",
      ">",
      "",
      "J>>>>>",
      ">>",
      ">>>",
      "",
      "J>>",
      "",
      ">",
      ">",
      ">",
      ">>>",
      "",
      ">>",
      ">",
      "",
      "",
      "L>h",
      "",
      "J>aKa>",
      "",
      ">",
      ">",
      "",
      ">>",
      ">",
      ">",
      ">>",
      ">J>>",
      ">",
      ">>",
      ">>>LL>i>",
      ">>>>",
      ">>J>S>>>>i>>>>>L>r",
      "",
      "J>",
      ">>>",
      "",
      ">LL>",
      "",
      ">",
      ">i>",
      ">>>",
      ">i>",
      ">>",
      "L>v",
      ">>",
      ">L>t",
      ">>",
      ">>",
      ">L>t",
      ">>",
      ">>",
      ">",
      "",
      ">>K>J>>",
      ">n>b>>L>t",
      ">",
      ">>",
      ">>",
      ">",
      ">",
      ">",
      ">J>",
      ">>",
      ">",
      "",
      ">",
      "J>",
      ">>>",
      ">>",
      ">>>",
      "J>>>",
      ">>",
      ">>",
      ">>",
      ">>>",
      "L>s>>",
      "J>>gLL>i>",
      ">>>",
      ">>>",
      ">",
      "L>t",
      ">",
      "",
      ">>>",
      ">>>",
      "",
      "L>",
      "",
      ">L>(h>>>",
      ">>😺L>t",
      ">",
      ">",
      ">>>",
      ">>",
      "L>t",
      ">",
      ">>",
      ">>",
      ">",
      "",
      ">L>h",
      ">",
      ">>>",
      ">>",
      ">>>>",
      "???]]>t",
      ">>",
      ">",
      "J>>>",
      ">>J>>>E>",
      "L>c>",
      ">L>t",
      ">>",
      ">>J>",
      "",
      ">>",
      "J>>>",
      ">>",
      "L>b>",
      ">>>E>",
      "L>s",
      "",
      "J>>",
      ">>",
      "",
      ">",
      ">",
      ">",
      ">",
      ">>",
      "L>t",
      ">",
      ">",
      ">",
      "",
      ">>",
      ">>",
      "LLL>👬🐙L>(t",
      ">>",
      ">>L>i>",
      "",
      ">",
      ">w>b>L>b",
      "",
      ">",
      ">",
      ">>J>>J>i>>>",
      "",
      ">>J>>i>>",
      "",
      ">",
      ">>",
      "",
      ">",
      "",
      "L>n",
      "",
      ">",
      "L>t",
      ">>>",
      ">>",
      "J>>",
      "",
      ">>>",
      "?>a>",
      "",
      ">>",
      "",
      ">",
      "",
      "?L>uL>i>>",
      ">>>>",
      "",
      ">>>",
      ">>>",
      "",
      ">",
      "J>>>>",
      ">",
      ">>",
      "",
      ">>>",
      "",
      "L>b>",
      ">>",
      ">>",
      ">>",
      "",
      "",
      ">>",
      "",
      ">>",
      ">",
      ">",
      ">",
      ">>",
      ">J>>",
      ">>>",
      ">>>",
      "",
      "L>_>",
      "",
      ">",
      ">>>>",
      "",
      ">aKaL>t",
      ">>>",
      "",
      ">",
      "",
      "L>p",
      ">",
      ">",
      ">",
      "L>(t",
      ">>",
      ">>>>😴😴😴😴L>a>>>",
      ">>>>>",
      "",
      ">>",
      "L>_>",
      "",
      ">>",
      ">>>",
      "",
      ">>>",
      "L>i>",
      "",
      "",
      ">",
      ">>>",
      "",
      ">J>",
      ">",
      ">",
      "L>a>>>>",
      "",
      ">J>>",
      "J>>",
      ">>",
      "",
      "J>>",
      ">",
      "J>>>",
      ">",
      ">>",
      "",
      "L>t",
      ">>>",
      "",
      ">",
      ">L>p",
      "",
      ">>",
      ">>",
      ">>>>L>w",
      "",
      ">",
      ">J>aKa>",
      "",
      "",
      "]L>t",
      "",
      ">>>",
      "",
      ">L>w>>",
      ">",
      ">>",
      "]L>i>>L>t>J>iE>",
      ">>",
      "",
      "L>t",
      ">>",
      ">>L>w",
      ">i>",
      ">",
      ">J>i>",
      "",
      ">>",
      "",
      ">>>>",
      "J>>i>>",
      "",
      ">>g",
      ">pL>u",
      "J>",
      "",
      ">>>",
      "L>(d",
      "L>t",
      "",
      ">>>",
      ">>",
      ">",
      ">",
      ">>",
      "",
      ">>",
      "L>w",
      "",
      ">>",
      ">",
      "L>t",
      ">>",
      ">>>",
      "",
      ">>>>",
      "",
      ">",
      "L>i>>",
      "",
      ">",
      ">L>i>",
      ">>>>",
      ">n>b>",
      "",
      ">",
      ">>",
      ">L>E>okL>i>",
      ">>>LL>>",
      "",
      "LLL>",
      ">",
      ">>>>L>c>>",
      "",
      ">>",
      ">",
      ">>",
      "L>t",
      ">>",
      ">>",
      "L>",
      ">",
      "",
      ">",
      ">>L>(t",
      ">>",
      ">>",
      "J>>>>",
      ">",
      "J>>>",
      ">",
      "L>w",
      ">E>",
      "",
      "L>a>>>",
      "",
      ">>>",
      "J>>i>>>>",
      "",
      ">",
      ">>>>",
      ">>>L>b>gJ>>>",
      ">",
      "L>_>",
      ">>",
      ">",
      ">",
      "L>t",
      ">",
      ">>",
      ">",
      ">>>>",
      "",
      ">",
      "L>w>>>>]>i>>>",
      ">>>>>L>g",
      ">",
      ">>]]]]L>p>",
      "",
      ">>j>bL>t",
      ">",
      ">",
      ">>>👬>>L>t",
      ">>",
      ">>>>",
      ">",
      ">",
      "",
      ">J>",
      ">",
      "",
      ">>",
      ">>",
      "J>>",
      "",
      ">",
      ">>",
      "L>t",
      ">>",
      ">>",
      "L>(w>",
      "",
      ">>>>>>>",
      ">>>",
      "",
      ">>",
      "",
      "",
      "",
      ">>>",
      ">",
      ">L>_>",
      ">",
      "L>t",
      "",
      ">>>",
      "L>i>",
      "",
      "",
      ">>>",
      ">>>",
      ">>>",
      ">",
      "??????????L>t",
      ">>>",
      ">L>t",
      ">>",
      "",
      ">>",
      ">>",
      ">>",
      ">",
      ">",
      "L>f>>",
      ">",
      "L>i>>",
      ">>",
      "L>e",
      ">i>>>",
      "L>t",
      "",
      ">>>",
      "??L>t",
      ">>",
      ">>",
      ">",
      ">",
      ">",
      "",
      "L>i>>",
      "J>>",
      ">i>",
      ">>",
      "",
      ">",
      ">>",
      ">>>>",
      "",
      ">J>",
      "",
      ">>",
      ">",
      ">kL>E>ok>LL>",
      ">L>(t",
      ">>>>J>>",
      "",
      ">>",
      ">>",
      "",
      "J>>",
      ">>>",
      ">>>L>i>",
      ">>>>>",
      "",
      ">>>",
      ">",
      "L>>",
      "L>ok>>",
      "L>b>>",
      ">>LL>t",
      ">>>",
      "",
      ">",
      "LL>p",
      "",
      ">",
      ">",
      ">>",
      "LL>>>",
      ">>",
      ">L>s>>>",
      "",
      ">>",
      ">>",
      ">>",
      "",
      "LL>aKa>>>",
      ">>",
      "J>i>",
      "J>>i>>>>",
      ">",
      "L>mJ>mJ>>>",
      ">LL>>",
      "",
      ">>",
      "",
      "L>b>gJ>",
      "",
      ">J>>>>>>",
      ">J>i>",
      ">>>>",
      ">",
      ">>>>>>aKrL>t",
      ">",
      ">",
      ">>",
      ">",
      ">L>u",
      "J>>",
      ">",
      "",
      ">",
      "J>",
      ">>>",
      ">>>>",
      "",
      ">>s>bJ>",
      ">>>",
      ">>>",
      "",
      ">>",
      "J>>>>>",
      ">>a>",
      "",
      "L>w",
      "L>t",
      ">>",
      ">>>>",
      "",
      ">>",
      "L>p",
      "",
      ">>>",
      "L>h>",
      "L>(i>>",
      ">>>",
      ">",
      "LL>t",
      ">>>",
      "",
      ">",
      ">>>",
      ">",
      ">",
      ">>",
      ">",
      ">>>",
      ">",
      "LLf",
      ">",
      "",
      "",
      "",
      ">>L>v",
      ">>",
      "",
      ">>>>>J>i>>>",
      ">",
      ">>L>t",
      ">",
      ">",
      ">>",
      ">>",
      ">",
      ">",
      ">",
      "L>i>",
      ">>",
      ">>",
      ">>>>>>>>",
      "L>u",
      ">>",
      "K",
      "J>",
      ">",
      "L>a",
      ">",
      ">",
      "J>>>",
      "",
      ">>>>>>",
      ">L>t>>>>>",
      ">>>",
      "",
      ">L>b>>>i>>>",
      "",
      ">",
      ">>",
      ">n>b>",
      "L>t",
      "",
      ">>>",
      ">>",
      ">>L>t",
      ">>>",
      ">>",
      ">",
      ">",
      ">>",
      ">>L>i>",
      "",
      ">>",
      ">",
      "",
      ">>>>",
      ">",
      ">",
      "L>n>",
      ">>",
      "L>(w",
      "",
      ">>",
      ">",
      ">>>",
      ">>",
      "",
      ">",
      ">",
      "",
      ">>>>>>>",
      ">>>🙂L>t",
      ">>>>>>",
      ">>",
      "",
      ">>>",
      ">>",
      ">",
      "??L>g>J>",
      ">>>J>>i>",
      ">J>>>",
      ">L>m>g>",
      ">",
      ">>>",
      ">>",
      ">>",
      ">",
      ">😿L>i>",
      ">>J>",
      ">>>",
      "J>>>>",
      ">>",
      ">",
      ">",
      "?L>i>",
      ">>J>",
      ">>>",
      "J>>>>",
      ">>",
      ">",
      ">",
      "?L>`>>>L>>L>v",
      ">>>L>t>LL>L>(t",
      ">",
      ">>",
      ">",
      ">L>d>>",
      "L>w>E>i>>>>",
      ">>",
      "]]]]]L>i>",
      "",
      ">",
      "",
      "",
      "LL>lJ>>",
      "",
      "J>",
      ">>>aKr>>aKiJ>>",
      "",
      "J>",
      "",
      "J>>",
      "L>_>>>>>>>>L>t",
      ">>L>xvd>L>c>",
      "",
      "",
      "",
      "L>i>>>>",
      ">>>",
      "L>e",
      ">",
      ">i>",
      ">",
      ">J>>",
      ">",
      "L>i>",
      ">>",
      "",
      ">L>>",
      "L\n",
      "Length: 8116\n",
      "customizedTechniques-5\n",
      "pµ³ÀwÆp¶ÁÉÀ¾Á³¶p»Æ~p¡À·pÁ¸pÆº·pµº·³Â·ÅÆp³ÂÂ¾»µ³Æ»ÁÀÅp³À¶pÆº·p¾ÁÉ·ÅÆp´³À½Å~pp¾ÁÅ·Äp³À¶p¹³Ä´³¹·pÆº³Æp¶Á·ÅpÀÁÆpÁÂ·À|pÅ»ÆÅp³À¶pÄÁ¾¾ÅpÉ»ÆºÁÇÆpÁÂ·À»À¹|ppÉ»ÅºpÆº·±pÉÁÇ¾¶pÅÁ¾È·pÆº·pÂÄÁ´¾·¿~p¦º·p´³À½p»Åp´³¶|p³À¶p»ÆpÉ³ÅpÆº·p¸»ÄÅÆp´³À½p¸ÁÄp¿·pÆÁp¹·Æp³pÈ»Å³|p´ÇÆp»ÆpÉ³Åp³pÆº»·¸pÉºÁpÇÅ·¶pÆÁpÆ³½·p³pÂ·Äµ·ÀÆ³¹·p¹Ä·³Æ·ÄpÆº³Àp~",
      "~p³Àp»Æp¶·È·¾ÁÂpÉ»ÆºpÆº·p¿·Ä¹·Ä|pÉºÁp½ÀÁÉÅq~p¦º·p¾Á¹Ápº³Åp´·µÁ¿·p»ÀÈ³¾»¶|p³Æp¾·³ÅÆpÉÄ»Æ·pÆº·pÀ³¿·pÁ¸pÆº·p´³À½p»ÀpÄ³´»µp»ÀÅ»¶·pÆº·p¾Á¹Ápx³¾¾p¾Á¹ÁÅp³Ä·pÀÁÉpÅ»¿»¾³Äp³À¶p»ÀpÆº·pÅ³¿·pµÁ¾ÁÄÅy~pÆp»ÅpÀÁÆp³µµ·ÂÆ³´¾·pÆÁpÅ³È·pÆº·pÂ³ÅÅÉÁÄ¶~pw¿pº³È»À¹pÆÄÁÇ´¾·p¾Á¹¹»À¹p»Àp³À¶p´³ÂÆ»²»À¹~pÆp»ÅpÀÁÆpÅ³Æ»Å¸»·¶pÆº³Æp»Æp»Åpº³ÂÂ·À»À¹~pp¶·¾·Æ·¶pÆº·p³ÂÂp³À¶pÆÄ»·¶pÆÁp»ÀÅÆ³¾¾p»Æ~p¾ÁÅ·Ä~pZ³¶|pÀ··¶Åp³p´·ÆÆ·ÄpÇÂ¶³Æ·~~~pÆpº³Åp´·µÁ¿·pÅ¾ÁÉp³À¶pÅÆÇµ½p»Àp¿ÁÈ»À¹p¸ÄÁ¿pÁÀ·pÁÂ·Ä³Æ»ÁÀpÆÁp³ÀÁÆº·Ä~p¦º·p´³À½wÅpÅ·ÄÈ»µ·p»ÅpÀÁp¾ÁÀ¹·ÄpÉº³Æp»ÆpÇÅ·¶pÆÁp´·|p³Åp»Æp³Å½ÅpÆÁpÈ»Å»ÆpÆº·pÀ·³Ä·ÅÆp´Ä³Àµºp»ÀÅÆ·³¶pÁ¸pµ³ÄÄ±»À¹pÁÇÆp³À±pÁÂ·Ä³Æ»ÁÀ~pÇÅÆÁ¿·ÄpÅ·ÄÈ»µ·p·ÃÇ»Â¿·ÀÆp»Åp¿ÁÅÆpÁ¸pÆº·pÆ»¿·pÇÀ¶·Äp¿³»ÀÆ·À³Àµ·|p³À¶p»¸p»ÆpÉÁÄ½Åp³¸Æ·Äp³p¸·Ép¶³±ÅpÁ¸pÄ·È»·É|p»ÆpÄ·¸ÇÅ·ÅpÆº·p¸»À¹·ÄÂÄ»ÀÆpÉº»¾·p»Æp»Åp³µµ·ÂÆ·¶p´±pÆº·p·¿Â¾Á±··~pÁÉ·È·Ä|p¾}º¾±pÅ·ÄÈ»µ·Åp³Ä·p¶·Æ·Ä»ÁÄ³Æ»À¹p»¸pÉ·pµÁ¿Â³Ä·pÆº·¿pÆÁpÆº·p´³À½|pÉº»µºpÉ·pµÁÀÅ»¶·ÄpÆÁp´·p³p¹»³ÀÆp~~pÆp¶Á·ÅpÀÁÆp¾Á³¶pÉ»Æºp¿·pÇÀÆ»¾pÀÁÉ|p",
      "p¶³±Åp³¹Áp³À¶pp³¿pÆÄ±»À¹pÆÁp¶ÁÉÀ¾Á³¶p»Æ~p¤·µ·ÀÆ¾±|pÆº·p³ÂÂ¾»µ³Æ»ÁÀpº³Åp´··Àpº³À¹»À¹~~p·»Æº·ÄpÉº·ÀppÁÂ·Àp»ÆpÁÄpÉº·Àpp¿³½·p³pÆÄ³ÀÅ¸·Ä~p¨·Ä±p´³¶pÀ·Ép³ÂÂ~p¦º·pÁ¾¶pÁÀ·pÉ³ÅpÈ·Ä±p¹ÁÁ¶~p¦º·p»ÀÅÆ³ÀÆpÆÄ³ÀÅ¸·Äp»Åp¶ÁÀ·p·È·Àp»ÀpºÁÇÄ}Á¾¶p´³À½Å|p³À¶pÆº·p ³Æ»ÁÀ³¾p³À½pÇÀÆ»¾pÀÁÉ~p¦º·pÂÄÁ´¾·¿ÅpÁ¸pÆº·p»ÀÅÆ³ÀÆpÆÄ³ÀÅ¸·Äp³Ä·pÅÁ¿·Æº»À¹pÅÆÄ³À¹·p³¹³»À|pÁÆº·ÄpÆº³ÀpÆº·pÅ·µÄ·ÆpÀÇ¿´·Ä|pÆº·pÄ»¹ºÆpÁ¸pÆº·p´³À½pÂºÁÀ·pÆº³Æp±ÁÇpÅ·Æ|p³À¶p»ÆpÄ·ÆÇÄÀÅpÆÁpÆ·¾¾p±ÁÇpÆº·pÉÄÁÀ¹pÀÇ¿´·ÄpÆÉÁp¶³±Åp¾³Æ·Ä~p¥Æ³Äp³À¶p¸ÁÄ´»¶¶·À|p´±pÁ¶~~pÆp¶Á·ÅpÀÁÆpÅÇÂÂÁÄÆpÆº·p³µÆ»È³Æ»ÁÀpÁ¸p»ÀÆ·ÄÀ³Æ»ÁÀ³¾pÆÄ³ÀÅ¸·Ä~p¦º·pµº·³Â·ÅÆp´³À½pÆÁp¶·³¾pÉ»Æºp³À¶p´·À·¸»ÆÅ~pÄ·¸ÇÅ·¶pºÁ¾¶Å~pZ»ÅÆÁÄ»µp´³À½p³À¶p¸³»¾·¶p³ÂÂp🙬~p¦º·p¾³Æ·ÅÆpÇÂ¶³Æ·pº³ÅpÀÁÆpÅÂÁ½·ÀpÆÁp¿·~p¦º·pÇÂ¶³Æ·pº»¶pÅÁ¿·pÁ¸pÆº·pÄ·µÁÄ¶·¶p»À¸ÁÄ¿³Æ»ÁÀ~p·p¹·ÆÅpÅÆÇµ½p³À¶pÆº·p´³ÂÆ»Å¿pÂÄÁµ·ÅÅp»Åp³¾É³±Åp³p¸³»¾ÇÄ·qqqp¦º·p³ÂÂpÆ»Ä·¶p¿·|p»ÆpÉ³Åp¹Ä·³Æp³Æp¸»ÄÅÆ|p³À¶pÀÁÉp»ÆwÅp¹ÁÀ·~ppÈ·Ä±p¿Çµº~p¦º·pÂÄÁ¹Ä³¿p¶Á·ÅpÀÁÆpÉÁÄ½|pÄ·ÃÇ·ÅÆÅp³ÀpÇÂ¶³Æ·|p³À¶p»Æp¶Á·ÅpÀÁÆpº³ÂÂ·À~p³¶pÇÂ¶³Æ·p³ÂÂpÅÆÇµ½pÉÁÀwÆpÁÂ·À~p¥ÇÅÂ·À¶·¶|pÀÁÆpÅ³Æ»Å¸»·¶pÉ»Æºp·ÀÆ·Ä»À¹p³¸Æ·Äpº·pÅ·ÀÆp¿·p³ÀpÇÂ¶³Æ·~p¦º·pÀ·ÉpÇÂ¶³Æ·pÄ·¸ÇÅ·ÅpÆÁpÁÂ·ÀpÉ»Æºp¿·~~~p´³¶💞👋~pZ¦º·pÂÄÁ¹Ä³¿p¶Á·ÅpÀÁÆpÉÁÄ½~ppÄ·¿ÁÈ·¶pÆº·p©³²»¸Æp³À½p³ÂÂ¾»µ³Æ»ÁÀ~p·µ³ÇÅ·pÆº·p·È³¾Ç³Æ»ÁÀp»ÅpµÁ¿ÂÇ¾ÅÁÄ±|pÀÁÆpÁÂÆ»ÁÀ³¾|ppÉ³ÀÆpÆÁp·ÀÆ·Äp¿±p³µµÁÇÀÆ|p³À¶pp¿ÇÅÆp·È³¾Ç³Æ·pÆº·p³ÂÂ¾»µ³Æ»ÁÀp´·¸ÁÄ·p·ÀÆ·Ä»À¹~p ·È·ÄpÅ³Æ»Å¸»·¶~p¦º·pÂÄÁ¹Ä³¿p³Å½Åp¿·pÆÁpÇÂ¶³Æ·|p´ÇÆpÆº·Ä·p»ÅpÀÁpÇÂ¶³Æ·qpÀ¶pÅÇÅÂ·À¶·¶p³À¶pÅÇÅÂ·À¶·¶p·Êµº³À¹·q~p§ÀÅ³Æ»Å¸³µÆÁÄ±~ppÉÁÇ¾¶p¾»½·pÆÁp³¶¶p³pÅ·ÄÈ»µ·pÆÁp´Ç±pµÄ·¶»Æp¸ÁÄp³¾¾pÆ·¾·µÁ¿pµÁ¿Â³À»·Å|p³Åp»Æp³¾¾ÁÉÅpÆº·pµÇÅÆÁ¿·ÄpÆÁp´·À·¸»Æp¸ÄÁ¿pÆº»ÅpÅ·ÄÈ»µ·~pÇ±pµÄ·¶»Æp³À¶pÆº·pµ³Ä¶pÀÇ¿´·ÄpÉ»¾¾pÄ·µ·»È·p³p¿·ÅÅ³¹·pÁÀpÆº·pµ·¾¾pÂºÁÀ·p³ÂÂÄÁÈ·¶p´±pÆº·p´³À½|p³ÅpÉ·¾¾p³Åp¶³Æ³p´³¾³Àµ·p¸ÁÄp¶³Æ³pÅ·¹¿·ÀÆÅ~pÁÇpÅ··pÂÄÁÈ»¶·¶p»Àp³¾¾p´³À½Åp·Êµ·ÂÆp¾}º¾±~p¦º·p³ÂÂp»ÅpÅÁ¿·Æ»¿·ÅpÇÀÄ·ÅÂÁÀÅ»È·~p¢ÄÁ´¾·¿Åp³¸Æ·ÄpÆº·pÇÂ¶³Æ·~pZ¦º·p¾³ÅÆpÇÂ¶³Æ·p»ÅpÀÁÆpÉÁÄ½»À¹p🙦🙦🙦🙦~ppÂÄÁ¹Ä³¿pÆº³Æp¶Á·ÅpÀÁÆpÉÁÄ½pÅ³±Åp»ÆpÀ··¶Åp³ÀpÇÂ¶³Æ·~pÁÇp·ÀÆ·Äp³À¶pÆ·¾¾p±ÁÇpÆº³ÆpÆº·Ä·p»ÅpÀÁpÇÂ¶³Æ·~pp¶·¾·Æ·¶pÆº·pÂÄÁ¹Ä³¿p³À¶pÄ·ÆÇÄÀ·¶p»Æ|pÆº·pÅ³¿·pÂÄÁ´¾·¿~pÀp³ÂÂ¾»µ³Æ»ÁÀpÆº³Æp¸³»¾Åp·È·Ä±p´»Æ|pÆÉÁpÇÂ¶³Æ·Å|p»ÅpÉÁÄÅ·pÆº³Àp´·¸ÁÄ·|p´³À½Åp³Ä·p·ÈÁ¾È»À¹|p³À¶p±ÁÇp³Ä·p´·º»À¶p³pÅ·µÄ·Æ~p¦º·p³ÂÂ¾»µ³Æ»ÁÀpº³Åp´·µÁ¿·pÈ·Ä±p´³¶~p¢¾·³Å·pÂ³±p³ÆÆ·ÀÆ»ÁÀpÆÁpÆº·pµÄ»Æ»µ»Å¿pÆÁp¾Á¹p»À~p©º·Ä·p³Ä·p±ÁÇ|p¾}º¾±p·¿Â¾Á±··Å~p¦º·Ä·p»ÅpÀÁpÄ·¸Ä·Åºp´ÇÆÆÁÀ~p©º³Æp¶»¶pÆº·pÀ·ÉpÂÄÁ¹Ä³¿pÁÂ·À~pÆp¹ÁÆp´³¶~p¦ÁÁp´³¶|pw¿pÉÁÄÅ·pÆº³Àp´·¸ÁÄ·~p¦º·p³ÂÂ¾»µ³Æ»ÁÀp¶Á·ÅpÀÁÆpÉÁÄ½~p©º·ÀppÁÂ·ÀpÆº·p³ÂÂ¾»µ³Æ»ÁÀ|ppÅ··p³p¿·ÅÅ³¹·p³Å½»À¹p¸ÁÄp³ÀpÇÂ¶³Æ·|p³À¶pp³¿pÆÄ³ÀÅ¸·ÄÄ·¶pÆÁpÁÁ¹¾·p¢¾³±~p§À¸ÁÄÆÇÀ³Æ·¾±|pÆº·Ä·p»ÅpÀÁpÇÂ¶³Æ·~pZ»Å¾»½·~p¦º·Ä·p»ÅpÀÁpÇÂ¶³Æ·p³À¶pÆº·pµÇÄÄ·ÀÆpÈ·ÄÅ»ÁÀp»ÅpÄ·ÃÇ·ÅÆ»À¹p³ÀpÇÂ¶³Æ·~p©º·Ä·p»ÅpÆº·pÇÂ¶³Æ·~p¦º·p³ÂÂ¾»µ³Æ»ÁÀp¶Á·ÅpÀÁÆpÉÁÄ½p·È·ÀpÆºÁÇ¹ºp»Æpº³Åp´··ÀpÇÂ¶³Æ·¶~pÆpº³Åp´·µÁ¿·pÈ·Ä±p´³¶~ppº³È·pÆÁp¹ÁpÆÁpÆº·p ³Æ»ÁÀ³¾p³À½pÉ·´Å»Æ·p»ÀÅÆ·³¶pÁ¸pÆº·p³ÂÂ¾»µ³Æ»ÁÀ~p»ÆwÅp¡~ppÆÄ»·¶pÆÁp¾Á¹p»À~~pÂ¾ÅpÄ·¸ÇÅ·¶~~~p¿·³ÀÅpÆº·p³ÂÂp»ÅpÀÁÆpÉÁÄ½»À¹~ppÂÄÁ¹Ä³¿p·È·Ä±p¶³±pÆº·pÂÄÁ´¾·¿pÁ¸p·ÀÆÄ±~p¦º·p³ÂÂ¾»µ³Æ»ÁÀp¶Á·ÅpÀÁÆpÁÂ·À~pÆº·pÉ·´Å»Æ·p¶Á·ÅpÀÁÆpÉÁÄ½~pZ¦º·p³ÂÂ¾»µ³Æ»ÁÀp¶Á·ÅpÀÁÆpÁÂ·À|p»ÆpÅ³±Åp³pÀ·ÉpÈ·ÄÅ»ÁÀ|p³À¶p»ÆpÆ·¾¾Åp¿·~p©·pµ³ÀwÆp·ÀÆ·Ä~pÀp³ÂÂ¾»µ³Æ»ÁÀp¸ÄÁ¿pÆºÄ··p¿ÁÀÆºÅpÁÄp¿ÁÄ·|p³À¶pp³¿pº³È»À¹p¶»¸¸»µÇ¾Æ±p·ÀÆ·Ä»À¹pÆº·pÂÄÁ¹Ä³¿p³À¶p»Æp¹·ÆÅpÅÆÇµ½p³p¾ÁÆ~p±pÁ¶|p»ÆpÀÁp¾ÁÀ¹·ÄpÁÂ·ÀÅ~pÁÇpÄÇ»À·¶p»Æp³¸Æ·ÄpÆº·pÇÂ¶³Æ·~p¦º·pÂÄÁ´¾·¿pÁ¸pÆº·pÇÂ¶³Æ·p»Åp´¾Áµ½»À¹p³À¶pÂÄ·È·ÀÆ»À¹p³µµ·ÅÅ~p©º±p»Åp»ÆpÀÁÆpÁÂÆ»ÁÀ³¾pp³¿pÀÁÉpÇÀ³´¾·pÆÁp¾Á¹p»ÀÆÁp¿±p³µµÁÇÀÆ~p»È·p¿·p³pÅÁ¾ÇÆ»ÁÀ~p¢ÁÁÄpÅ·ÄÈ»µ·Åp¸ÄÁ¿p³´´³Äp³À½~p¦º·pÀ·ÉpÇÂ¶³Æ·p»Åp´³¶p💞pÀÁÆpÉÁÄ½»À¹~p¦º·p³ÂÂ¾»µ³Æ»ÁÀp¶Á·ÅpÀÁÆpÉ³ÀÆpÆÁp´·pÇÂ¶³Æ·¶p·È·Ä±p¶³±|pÆº·pÅ·ÄÈ»µ·p»ÅpÉÁÄÅ·p³À¶p´ÄÁ½·À|p³À¶pÆº·Ä·p³Ä·pÀÁp³¶È³ÀÆ³¹·Å~p¦º·p³ÂÂ¾»µ³Æ»ÁÀp¶Á·ÅpÀÁÆpÁÂ·À~pZ©º³Æpº³ÂÂ·À·¶p»ÅpÀÁÆpÉÁÄ½»À¹p³À¶p³¾¾pÆº³ÆpµÁ¿·ÅpÁÇÆpÆÁp¶·È·¾ÁÂp±ÁÇÄp·ÊÂ·Ä»·Àµ·p»ÅpÆÁpÇÂ¶³Æ·pÆº·pÂÄÁ¹Ä³¿~pÁÇpÂÄ·ÅÅpÇÂ¶³Æ·~p¦º·Ä·p»ÅpÀÁpÇÂ¶³Æ·~pp¶·¾·Æ·¶p»Æp³À¶p»ÀÅÆ³¾¾·¶p»Æp³¹³»Àp³¸Æ·Äp³Å½»À¹p¸ÁÄpÆº·pÇÂ¶³Æ·qqqqqqqqqq~p¦º·p³ÂÂp»ÅpÈ·Ä±p´³¶~p¦º·pÂÄÁ¹Ä³¿pÄ·ÃÇ·ÅÆÅp³ÀpÇÂ¶³Æ·p³À¶p¶Á·ÅpÀÁÆp³µµ·ÂÆpÆº·pÇÂ¶³Æ·~p³»¾»À¹p³À¶pÈ·Ä±pº·³È±~pÆp³Å½Åp¿·pÆÁpÇÂ¶³Æ·~pÀÆ·ÄppÉ³ÀÆpÆÁpÇÂ¶³Æ·~p¦º·Ä·p»ÅpÀÁpÇÂ¶³Æ·qq~p¦º·p³ÂÂ¾»µ³Æ»ÁÀp¶Á·ÅpÀÁÆp³µµ·ÂÆpÆº·pÇÂ¶³Æ·pÂ·Ä¿³À·ÀÆ¾±~pÆpÉ³ÅpÀ»µ·|p´ÇÆpÇÀ¸ÁÄÆÇÀ³Æ·¾±ppº³È·pÀÁÆp´··Àp³´¾·pÆÁp³µµ·ÅÅp¿±p³µµÁÇÀÆp¸ÁÄpÅ·È·Ä³¾p¿ÁÀÆºÅ|p·ÅÂ·µ»³¾¾±p¸ÄÁ¿pÁÇÆÅ»¶·pÆº·p»À¹¶Á¿~p»ÆwÅp¡p~~p¶»¿·pº³À¹»À¹~pZ¦º·pÂÄÁ¹Ä³¿p»ÅpÀÁÆpÄÇÀÀ»À¹|p³À¶p·È·Ä±p´»ÆpÆº·pÂÄÁ¹Ä³¿pº³ÂÂ·À·¶|p³À¶pÆº·Àp»ÆpÅ³±ÅpÆº·pÂ³ÅÅÉÁÄ¶p»ÅpÉÄÁÀ¹~ppÁÂ·Àp»Æp³À¶p»ÆpÅ³±ÅpÆº·Ä·p»Åp³pÀ·ÉpÈ·ÄÅ»ÁÀ~pÆÁpÇÂ¶³Æ·~p¡pÆÁpÇÂ¶³Æ·~pÇÆp»Æp¶Á·ÅpÀÁÆpÉÁÄ½~~p¦º·p³ÂÂ¾»µ³Æ»ÁÀpº³Åp´·µÁ¿·pÆ»Ä·¶~~p¢¾·³Å·pÄ·ÆÇÄÀpÆº·p¸»ÄÅÆpÈ·ÄÅ»ÁÀ~~p³À¶pÂ³±p³ÆÆ·ÀÆ»ÁÀpÆÁpÆº·pÂÄÁ¹Ä³¿~p¥ÁpÆº³Æp»Æp´·µÁ¿·Åp³Åp·³Å±pÆÁpÇÅ·p³Åp´·¸ÁÄ·~~p¾}º¾±p»ÅpÀÁÆpÅ³Æ»Å¸»·¶pÉ»ÆºpÅÂ·³½»À¹|ppÆÄ»·¶|p³À¶pp¶ÁpÀÁÆp½ÀÁÉpÆº·pÄ·³ÅÁÀ~pÇ½º³»Å|p³ÄÁÇº|p³À¶p³pÄÁÆÆ·Àp´³À½~~pÀÁpÅ·ÄÈ»µ·ÅpÁÄp»ÀÆ·Ä·ÅÆ~p±pÁ¶|p·È·Ä±p¿ÁÀÆº|p³ÅpÅÁÁÀp³Åp¿±pÅ³¾³Ä±pµÁ¿·ÅpÁÇÆ|ppÆÄ³ÀÅ¸·Äp»Æp³¾¾pÁÀpÆº·pÅ³¿·p¶³±pÆÁp¿±p³µµÁÇÀÆp»Àp¾}¤³¼º»~p¦º·pÀ·ÉpÇÂ¶³Æ·pº³Åp´ÄÁ½·ÀpÆº·p³ÂÂ~p§À¸ÁÄÆÇÀ³Æ·¾±|p»ÀpÆº·pÄ·µ·ÀÆpÂ·Ä»Á¶|p³¸Æ·Äp¿Á¶»¸±»À¹p»ÆÅp»¶·ÀÆ»Æ±p³À¶p¾Á¹ÁpÆÁp¿·Ä¹·pÉ»Æºp¥³¿´³p³À½|pÆº·p³ÂÂ¾»µ³Æ»ÁÀpÀÁp¾ÁÀ¹·ÄpÉÁÄ½Åp³À¶pÄ·ÃÇ»Ä·Åp³ÀpÇÂ¶³Æ·|p´ÇÆp»Æp»ÅpÀÁÆp³µÆ»È³Æ·¶p¸ÁÄpÀ¶ÄÁ»¶p¶·È»µ·Å~p©·³½~p¦º·p³ÂÂ¾»µ³Æ»ÁÀp¶Á·ÅpÀÁÆpÉÁÄ½p³À¶pÄ·ÃÇ»Ä·Åp³ÀpÇÂ¶³Æ·~p¢¾·³Å·p¸»ÊpÆº»Åp¿³ÆÆ·Ä~p³À¹»À¹pÁÂ·À~pZpÉ»ÅºpÉ·pº³¶p³pÅ³¸·pÂ»¾¹Ä»¿³¹·~~p¦º·p³ÂÂ¾»µ³Æ»ÁÀpº³Åp´··ÀpÇÂ¶³Æ·¶p³À¶pÁÀpÆº·pºÁ¿·pÂ³¹·p»ÆpÆ³½·Åp¿·p´³µ½pÆÁpÆº·pÇÂ¶³Æ·~~³»¾·¶p·ÊÂ·Ä»·Àµ·p»ÀpÇÂ¶³Æ»À¹~p¨·Ä±p´³¶pµº³¾¾·À¹·pÉp³À¶p³p´³¶p´³À½|pp¶ÁpÀÁÆp³¶È»Å·p³À±ÁÀ·p»Àp»Æ~p¦º·pÀ·ÉpÇÂ¶³Æ·p»ÅpÂ·À¶»À¹pÇÀÆ»¾pÆº·pÂÄ·È»ÁÇÅpÁÀ·pÁÂ·ÀÅ~pÆp¶Á·ÅpÀÁÆpÄ·ÅÂÁÀ¶p³À¶p¶Á·ÅpÀÁÆpÉÁÄ½p³À¶p³¾É³±Åp³Å½Åp¸ÁÄp³ÀpÇÂ¶³Æ·~p§À»ÀÅÆ³¾¾·¶p³À¶pÄ·}¶ÁÉÀ¾Á³¶·¶|pÅ³¿·p»ÅÅÇ·~p¸Æ·ÄpÆº·pÇÂ¶³Æ·|p»Æp³µÆÇ³¾¾±pÄ·¸ÇÅ·ÅpÆÁp¾Á¹p»ÀpÆÁp³p¾³Ä¹·p´³À½~p¦º»ÅpÅºÁÇ¾¶pÀÁÆp³¾¾ÁÉp³À±p·ÄÄÁÄp»Àp»ÆÅp·¾·µÆÄÁÀ»µp³ÂÂ¾»µ³Æ»ÁÀÅ~p³¶pÂÄÁ¹Ä³¿p³À¶pp¶ÁpÀÁÆpÄ·µÁ¿¿·À¶p¶·³¾»À¹pÉ»ÆºpÆº·p ³Æ»ÁÀ³¾p³À½p¸Ä³Ç¶ÅÆ·ÄÅ~p¦º·Ä·p»Åp³pÂÄÁ´¾·¿pÆº³Æp¶Á·ÅpÀÁÆpÉÁÄ½~p¦º·p³ÂÂ¾»µ³Æ»ÁÀp»ÅpÇÂ¶³Æ·¶pÆÁpÆº·p¾³Æ·ÅÆpÇÂ¶³Æ·p³À¶p¶Á·ÅpÀÁÆpÉÁÄ½~pÆpÄ·ÃÇ·ÅÆÅp³ÀpÇÂ¶³Æ·p·È·ÀpÆºÁÇ¹ºp»Æp»ÅpÆº·p¾³Æ·ÅÆpÇÂ¶³Æ·~p ÁÆpÅ³Æ»Å¸»·¶pÆÁpÁÂ·À~pZ©º·Ä·p»ÅpÆº·pÇÂ¶³Æ·pÅÁpÆº³ÆpÉ·pµ³ÀpÄ·¿ÁÈ·pÆº·p¿·ÅÅ³¹·pÆº³Æp»ÅpÅ»ÆÆ»À¹p¸ÁÄpÇÅpÁÀpÆº·p³ÂÂ¾»µ³Æ»ÁÀp¶ÁÁÄp🙴~p¦º·p³ÂÂp»Åp³Å½»À¹p¸ÁÄp³ÀpÇÂ¶³Æ·p³À¶pÆº·Ä·p»ÅpÀÁpÇÂ¶³Æ·p»ÀpÆº·pÅÆÁÄ·qq~pÁ¶pÉ»¾¾»À¹|pÆº·p³ÂÂ¾»µ³Æ»ÁÀpÉ³Åp¹ÁÁ¶|pÇÀÆ»¾ppÇÂ¶³Æ·¶p»Æ|p»ÆpÀÁp¾ÁÀ¹·ÄpÉÁÄ½Å~p³±pÁ¶p´Ä·³½pÆº·pº³À¶pÁ¸pÆºÁÅ·pÉºÁpÉÁÄ½·¶pÁÀpÆº·pÇÂ¶³Æ·p🙱~pÆp¶Á·ÅpÀÁÆpÉÁÄ½|pÉÄ»Æ·Åp»Àp³ÀpÇÂ¶³Æ·|p´ÇÆp»Æp»ÅpÇÂ¶³Æ·¶pÆÁpÆº·p¾³Æ·ÅÆpÈ·ÄÅ»ÁÀq~pÆp¶Á·ÅpÀÁÆpÉÁÄ½|pÉÄ»Æ·Åp»Àp³ÀpÇÂ¶³Æ·|p´ÇÆp»Æp»ÅpÇÂ¶³Æ·¶pÆÁpÆº·p¾³Æ·ÅÆpÈ·ÄÅ»ÁÀq~p³¸¸³ºp»ÅpÀÁÆpÉÁÄ½»À¹~pÀÁÆpÆ³¾½»À¹~p¨·Ä±p´³¶p³À¶pºÇÀ¹~p¦ÁÁp´³¶~~³¾É³±Åpº³À¹»À¹~pZ¦º·pÇÂ¶³Æ·p»ÅpÈ·Ä±pÈ·Ä±p´³¶~p»¶pÀÁÆpÁÂ·À~p©º±pµ³ÀwÆpp¾Á¹»ÀpÆÁp¿±p¶·´»Æpµ³Ä¶pÀÇ¿´·Ä~pÆpÀ··¶Åp¶·È·¾ÁÂ¿·ÀÆ~~pÁÁ½|p¸ÁÄp·Ê³¿Â¾·|pÆº·p³ÂÂ¾»µ³Æ»ÁÀpÁ¸p¾}¤³¼º»p³À¶p¾}À¿³³|p»ÆÅpÅÂ··¶|p·³Å·|p³À¶pÅ¿ÁÁÆºÀ·ÅÅ~pÁÇÄpÄ»¹ºÆp»ÅpÅ¾ÁÉp³À¶pÁ¾¶p³Åp³p¸ÁÄ¿~p¦º·p³ÂÂ¾»µ³Æ»ÁÀpº³À¹Å~pª¨p³ÂÂ¾»µ³Æ»ÁÀ~pp·ÊÂ·Ä»·Àµ·~pÆp»Åp¶»¸¸»µÇ¾Æp³À¶p¶Á·ÅpÀÁÆpÉÁÄ½p·³Å»¾±~pÈ·Ä±pÆ»¿·ppÁÂ·ÀpÆº·p³ÂÂ¾»µ³Æ»ÁÀ|p»ÆpÆ»Ä·Åp¿·~ppºÁÂ·pÆÁp¶·È·¾ÁÂp»Æ~p³¾É³±Åp¾Á³¸·ÄÅ~\n",
      "Length: 8116\n",
      "OpenSourceTechniques-6\n",
      "b'\\x0e\\xa9\\xec\\x0fE;\\xb2\\xf5\\x89p\\xe7\\x06d\\xd8!\\x99\\xfd\\x90U\\xe2\\xc1\\x03l\\x9cpi\\x8b\\xc8\\xb0wv\\xb8\\xe1\\xd3G\\xbd\\xa2a\\x99TY=m9\\xa6\\x9c\\xbe\\xb8g\\xb5G\\x08\\xf0\\x05\\xbds\\x02\\xaf\\x07D\\xfa\\x123w\\xdfh^\\xc9\\xd2\\xde\\xf3[c\\xb6\\xfc\\xe4J\\xc2\\xebU\\xb0\\x12\\xd7\\xce?\\x181O\\xc1\\x9f\\xa0g\\xcdn\\xbf\\x93e\\x9b\\xaf\\xcf1<\\x9fDEJ\\x13H_\\xe0\\xdb\\x80\\x9b\\xdeMl f~\\xdfQ\\x84\\x8bF\\x12\\xcd\\x1f_\\xcb8\\x12=O\\xc2\\x8fLD2d\\xfea\\xea(\\xb5\\x18\\xd5\\t\\xb9\\x9b\\xb8M.\\x01N\\x02\\x9f\\x07\\x1b\\xf5\\n\\xe5\\x83\\xd9@\\xd3\\x03\\xc6\\xb4\\x83\\xa7\\xf5\\xc6\\xa2\\xc7\\x19g\\x1f-\\xbc\\x80\\x9d$\\xed\\xef\\x01\\xc5\\x12#\\x15s\\x0c\\xa0\\xbc\\xd9\\xe9\\xf7\\xb0\\xac\\x88\\x99_wWLO\\xc0\\x83<V\\xc3q\\x05\\xf5\\xe3\\xef \\xc5\\x12\\x15\\x0e\\xe9\\x06F\\x89\\x17\\xd7\\xcfQ\\x9d\\x15\\x8c\\xd6$\\x95<mWf\\xf5\\xaa,NDtW\\x83&T\\x9c\\xb5\\x1f\\xbc\\x03\\x85\\x9a\\xf3\\xd9\\xd4\\x80\\x9eF\\xc8\\xdf\\xa3\\x10sA\\xc9\\x02RO:E\\xbayE\\xf2\\x9b\\xb4\\xcc\\x8b\\xf4 \\xec\\xd6\\x98,\";2\\x13p\\xab\\'Oda\\x05\\xdeJ\\xa8\\'\\x8c8\\xdd\\x07Cv\\xb95\\x83\\xd7\\xb7#\\xc7\\xfa\\x12\\xb5\\xdb\\xc2\\xdf\\xbeY\\x89\\x02\\xe7\\xbc\\xfcG\\x16\\\\\\xf8\\xa8d-\\xd5\\xbe\\'\\x7f\\x82\\xfe\\xe6\\xbe\\xb4\\r~\\x0f\\xc8K\\xfc\\xa4\\xf3A\\xa0+\\r*\\x1e\\xbaWoc(\\xaa\\xe9Z\\xed\\xc5b\\x84LV\\x8d\\xc3\\x9e\\xd3\\x17\\x93\\xa5\\xa0j6\\xf3\\xd00\\xa3\\xef\\xc7\\xdc\\xc00\\x85\\xc4\\x89?\\xc1\\x0b+\\xca{.\\'\\x97\\x892\\xca\\x1c\\x9b\\xd1\\xc0?\\x15]d\\x15\\xe6\\xcak\\x9a\\xe6\\x8c\\xdfP=\\xf4\\x8d\\xa8U,\\xc6\\x83\\xf4\\x02\\xb6\\xcco\\xd5\\xe0\\xd2>^\\r\\xc5\\xc4=\\xefr\\x88J\\x9fW\\xc7\\x0e\\xf9\\xcd8\\xb4\\x16\"[\\x1c\\xf3\\xb1\\x0e\\xaf\\x7f\\xda\\xd4[`\\xcdL\\xec\\x93\\xcc\\xe3n\\xb2\\x92\\xd2\\xa5{\\xd91u\\n\\x94\\xe6\\x7fA\\x98f\\xd7\\xb1\\x11\\xdb\\xd6\\x01[\\x00\\xb7Ro\\'\\xf0+\\x92\\xba\\xdb\\xc5\\xbd\\x05\\xef\\xcc&\\xa9\\xfe&\\xec\\x82\\xffQ\\xe6\\xd8\\xac\\xb0rKx\\x9e~#b\\xaf\\x12b\\xb9p\\xa3N]\\xae\\xca*`\\xd4\\x99\\x1e@\\xbd^\\xe9\\xeb\\x9b\\xab\\x9es\\x16\\x91\\x88\\xad\\xdd\\xc0\\x8f\\x01\\x115qu\\xe3\\xael\\x89\\x88\\xc9\\x91.\\xef\\xe3aB\\xc8+\\x871\\x1e\\xb1\\x0b\\xc6\\xe1\\x0c0iz\\x8e`vni2\\x85\\x98\\xb4Ga\\xfe\\x9c[P\\x99\\xec\\xe8\\x83{ \\x86\\xe90\\x8c\\xbc\\x9cO\\x0f\\xe8\\x89\\xbfl\\x02\\x873\\x85\\xfc\\xf61\\xd0P9V\\xeaJ\\xcb\\xeel\\xc8\\x93\\x07\\xe9r\\xfb\\xc8\\x14\\n\\xf1#\\xfa\\xba\\r\\x82p\\xbf\\x06\\xfe\\x80\\xa7\\x89\\x0b\\xc9i\\x07\\xb2\\xab\\xea.\\xad\\xfa\\x04\\xb0\\\\)\\x18#\\xbc2\\x00\\xf7\\x86\\xa8\\r\\xf7\\xdd\\xf6B\\xb4\\x04]*\\x10\\xb2\\x8e\\xf0\\x98W,\\xe0\\xec\\x00\\xe2K%\\xa7x\\xd3\\xaf\\xfe\\xc9\\x9a!y\\xa1\\xd0=\\xd1\\xa3\\xdf\\x89W\\x0c\\x1c\\xe8f\\\\\\xa3\\xdb\\xf5\\xe2\\t\\x1d\\xe4\\x0eC\\xbf\\xb4\\xab\\x88\\xf8Y\\xa8\\x95\\x18\\x9c\\x9f\\x19\\xd5S\\xd2k\\xa4\\xec1b#\\xbf\\xc4\\xe3\\x9e\\x0cp\\xef0\\xed\\x04\\xd95\\x8eu\\xab\\x87s?<\\x85\\xf5<\\x82\\xc5zh\\xd3\\xa3\\xd4\\x1b\\xf0-\\xdc\\x04\"\\xaa!\\xe9Y\\xe1MD\\x93D\\x9a\\xa2\\xc3a\\xc8\\xf7\\xb9\\x812Y\\x9d\\xbe\\xc8z\\xef~\\x1b\\xd53\\xad>\\x8fg\\xb7\\x03\\xcb\\x1a\\x1d\\xf7\\x1d!}\\x0f\\x11\\xe1\\x85\\xfau\\x8c\\x19\\xdb\\x80T[\\xa8\\x15\\x9bZOke\\xae\\xbbZ\\xa2\\xc3\\xfd\\x814\\x08a~Q;Olf\\x8d\\xc8\\xd02\\xe4\\xaa\\x18\\xfd\\xa6PJ=R5k\\x96\\xee\\x0e\\x10\\xbf\\x9e\\xb2\\xc37\\xe0_\\xe7\\x92L\\xbc\\xd4\\xa4\\xcc\\x1d\\xe5\\tr\\x97\\x1a\\xc3\\x1c\\x92t\\xc4#\\xab\\'\\xc97\\xd6\\xdf\\x1cC\\x1d\\xa2\\xc0\\xc9Zg\\x1b.\\xc2(\\xabz\\r\\xdf\\xa3\\xa63\\xdf7\\xb6\\x7fo50\\x10M\\x91\\x9a\\xff\\xfe)+\\xd5(\\xc6\\xcc\\xcbj^\\x0f\\xebm\\x18\\x95\\xbc\\xd5\\x1e\\xa9q|\\xf9J\\x93s\\xcc\\x80\\x08\\xde\\xabW\\xf6u\\x88\\xd5A\\xec\\xdd\\x04\\xc6\\xdd\\x131\\xdaj\\x83\\x98\\xe5\\x16\\x93\\xca\\xd3\\xee\\x0e\\xed\\xa6\\x0e\\xc7|g\\xe8\\x86hY\\x87\\xb8>\\xaa%<,\\xff\\xc5N\\x1e\\xd5\\x17\\xef\\x15\\x8e\\'\\x1e\\x1dYE\\x9b\\xc7Qs\\xf6a\\x08\\xdfy\\xa9\\x86+<U\\x1c<\\xc3p\\x04y\\xe5\\xcf\\xa3\\xd9X\\x1fv[~\\xedf\\x1d\\x08\\x02nq\\xb6\\xd2\\x93w\\xff\\xd3\\xce\\x16\\x04\\x9ev\\x8d\\xf2d\\xb4L\\x17\\xd9\\x85\\xb2/Ta\\x18\\xcc\\x9fA\\x91\\xa3.\\x03z\\xf9\\xa6`\\xbdr\\xdc\\xa1\\xc5\\x87\\x0e?\\xb2{\\xa8\\xe0\\xf0\\xf5\\x80\\xdf\\x1b\\x0e\\xde\\x00A\\xba\\xe5\\xb9q\\xac\\xc1\\xddP\\xb8\\x91\\xdf\\x88\\xa1K\\t\\r\\x89\\xa2A\\xa8\\x0f\\x1e\\xda\\xdc\\x96\\xbc\\xeafA\\xe2\\x9f\\'\\xed\\x02O\\x0b\\xcfJ\\xf3\\xbb\\xbbp\"{C\\xd4r\\xc4q\\x93\\xb4\\xc1\\xcf\\xcd\\xba,\\xec\\'\\xa3*3\\x19\\xc4\\x9a\\xf8\\x16\\xec=\\xf4qA\\xf5\\xd8B&\\xc49\\xb5\\xe6^\\xb8\\xa5\\xc4\\xef\\xd5\\x9c<\\x8d\\x8c\\xf8k~\\xe5Lz\\xcbx\\xcf\\xb2\\x89\\x9a\\xf6\\x8d\\xc4G@\\xee\\x85\\x7f\\xa9h\\x05\\x92L\\x80\\x03^\\x9c\\xd0\\xd9\\x02O\\x86\\'\\x04\\xf0\\x13\\x12i\\x89%\\x98\\r\\xd7Ul\\xb7[w\\xdf8\\x8a\\xfd)\\xc9\\x119\\x8c\\x0b\\x82\\xd5\\x95\\xc5J\\x1f\\x05\\x06\\x85\\xa3\\xbbk\\xcb\\xe0\\xbb\\xdeB\\x8c\\xeb\\x03\"\\x9c0\\xc61\\x7f\\xf5[\\x02\\xae;\\xaa\\x8fp\\x14\\xb2\\xb8x\\n<\\xe4\\xe0\\xe2;\\xfdD+c!\\x1dt\\x89\\x83\\xffu\\x0b^\\xc2\\x1b\\x97\\x13\\x84!m\\x15\\x00\\xeb\\xde\\x1a\\x90.\\x94\\xce\\x01\\x9cm rXQx\\xadL\\xcd\\xb4j\\x1b4?\\r\\x88\\xe0\\xe9E\\x12T\\x82Y\\x15*\\x9e\\x00\\x07\\x1a\\xed@4r\\xb6\\xe4\\x8b>*\\x06=\\xfcQ\\x96\\x83\\xf3R\\x16\\xca\\xaaL\\xdb\\xd8{\\xe9<\\xd7Eu\\xec/\\xa8\\x06\\xd4\\xaew.J+S\\xa7F\\x97\\x01\\xea\\x8bk\\xa0\\x02\\xe4\\x85}T\\x84\\x03\\xc7a\\x0f\\xac\\x1aor\\xb1\\x85nd\\x13e\\xf2\\xd7k\\x9b=\\xea\\x1f\\x93J:\\xf5!\\xe8Eh\\xde\\xe0\\x06\\xf1z\\xbd)a7]\\x0e\\xdcR\\x9ee\\x1c\\xf3\\xb0\\xce5\\x96\\xdcKq?\\x91\\xdb;t2O\\rt\\xb0\\xa7Nv\\xb2|$*1\\x9e\\t\\xc1\\xb3\\x0e\\xd1.\\x03\\x00\\x04L\\x80hu\\xe0!\\x8dr\\xc4EOv\\x10\\xc1~\\x0e>H\\x8a\\xeeO\\x0e\\r\\xc9\\r\\x9c\\x9b\\xe8\\xf7\\xc9\\xaa\\xabe\\xef!\\xb1\\xcd\\xde\\xda\\xe7r\\xf3c\\\\\\xa6\\x87``Z:\\xad\\xa5\\x83FX\\xc7\\xd3\\xf0w\\xb0\\x1bN/\\x93\\\\\\xd8X\\xe4lN@\\xe2F\\xd4\\x9b\\xf9\\x03\\xe4F\\xfb\\xca\\xbf\\x03\\x1fT^\\xd8\\x83\\x14\\xfc%\\xcdK\\xdeG<\\xf9\\xa3\\x13\\xc3I\\x15;x\\x13\\xed\\x88P\\xe1\\xa8.\\x8e\\x19|\\xdf\\x0e]\\xc4\\xd5\\xb4\\x94H\\x888R\\xbfzyd\\xa0\\xdd\\xdcUO\\xeb\\xe5\\xd7M\\xbc\\xccU\\xe1Y\\xc0w\\xe68\\xb3\\xbc\\xf6 1b\\xa23{\\xa6\\x05PM\\xa5\\xa8@\\x05\\x98N%\\x85\\xc7\\x11\\x98\\xbb\\xea\\xf3\\x92\\x8d_\\xa3~\\xf9\\xc0\\xde$\\x11\\xf1\\xd0\\xec\\x7f\\x16+^\\x91\\x9f\\xf3c\\x1dEWB[*\\xc3\\x83\\x19\\x8er\\xb4\\xa8\\xd0\\xa5\\xb2\\x80o\\x0c\\xc2\\x86\\x07\\xe3\\x99\\x0e\\xd6\\x07\\x89\\xcc\\xca\\xf7\\x9c\\x17\\x05\\xb3\\x04\\x87\"\\x1e\\xbel\\x92\\xb8V\\xd5m\\xc4\\x90\\xc4\\x8e\\x11D\\x81\\x0e\\xb7\\xda%T\\xe8Z\\xafc\\xe2t&%\\x1f3]\\t\\xeb\\xe4\\x03\\xeb\\x00\\xc8w\\xf7\\xe7\\xe9~tk\\x04\\xe3\\x05;2\\xc1\\xba\\xedL\\xa8\\x8dJ0u\\xb6t:\\x8f\\x99\\xc4 \\x05R\\xa3\\xbe\\xe4\\x03\\xd7l\\x9b\\x02\\x1a\\x8e\\x17\\xdc\\xb9+\\x907J2\\x9dR\\xd7Di\\xb4F\\xe3!\\x14+\\xd0mo\\x11\\xadr\\x01\\xe4\\xf3k\\xe7\\xa7\\xdf\\xeb\\xb1J\\xc0\\xd4(\\x9aK\\x95o\\xf3\\n3F\\x84\\xfb\\x08H\\xac\\x86>\\xbe\\xb6\\xa8x\\xc1\\x07}vH\\xda\\xfc\\xb6\\xf7\\xcb$\\x05[?\\x06\\x07\\xea\\xaf\\xe0dQ4-P\\xca\\x02\\x9a\\xddu\\xec1\\x96,\\x93 \\x94\\xa9\\x18zc\\xba\\xd7\\x1c\\xda/\\xe3\\x83\\xdc\\xde\\x86&\\x06;*\\x9a!C\\xcd\\xf3\\x91HS\\xb7i\\xacu\\xfbBj5S\\xd81\\xcc\\xe2\\x19\\xf4\\x8e\\xac\\x9b\\xa2\\x93\\x8f\\x1c\\xc0\\xabz\\x81\\xe5[I\\x04\\x08\"\\x17Z\\x9d%\\x14S\\xf7*\\x99\\xc5\\xaa?=<\\x84R\\x19\\xcf\"R\\x98\\x8e\\xb2\\x8cDy\\x9eA\\xe2L[\\x99\\xa1XQ&C]\\x99G\\x9d3M==\\xb56\\x08\\xa9\\xbb\\xfd\\x1e6\\xd8\\x10\\xa1\\x99\\xcb%\\x92\\xe9\\x1c\\xdb\\xda\\x07n\\xe8$a\\xb9>\\xa0\\xfb\\xb2w\\x11\\xccI\\x8a\\x17A@fZM\\xdf\\xbaIm\\xc1\\xd1H\\xa4\\x9f\\xd7u_\\x12\\x82\\xa4Z\\x9bb67\\'\\xd5\\x9e\\x1a\\x17U\\x07\\xda)x\\x95jI\\x91#\\xd6\\x8ac\\xd2\\x88\\\\\\x95\\x93\\xb0\\x1f(\\x943vm\\xe5\\x1d[\\xb3jy\\x02\\tH\\xe8b\\xe6\\xe4e\\x0f\\xf1]\\xec\\x8d\\xe8\\xc2\\xfbU\\x04\\x9bZd=\\xca\\r\\x1d\\x1f\\xf2Uz*\\x86\\x92*w\\xc3[|\\xee\\xe1\\xa7\\x10\\x8b\\xec\\xfb\\x92\\xee\\xf1jyT&\\x07\\x89y5Ud>\\xd1\\x10P\\xc7|\\xdcj\\x80(O./d\\xc4\\xfd\\xd8A_N\\xca\\x8a\\xf5\\xf1_\\xe4A*Y\\xd6\\xa7\\x00\\xe8\\x95l\\xb8L\\x0e9\\x18R\\x8b\\xb2\\xc9Y\\xf5\\xe5\\r\\x16\\x97D\\xa2]&\\xf1\\'M\\xf8\\x955Y\\xe9\\xda\\xb4\\x15\\xf8p\\x01h\\xbb\\xb7\\xc8\\x8e\\xa5\\x1eY<\\r=N\\xc9\\xbd;\\xbb}Z\\x85\\xd5\\xa1#\\x98\\xd0\\xf3\\xe6\\x882\\xe0\\xa7=\\xa1\\xde9\\xa0\\xe8\\x114Y.\\xf3\\xc8P\\xeb+\\xa4E\\x12\\xea\\xdf-\\xf0!68[ws\\x17\\xbc\\x83mR\\x10(\\x8d\\x83\\x17LW\\xeb\\xb3\\x05\\x99v\\x9e\\xecM)|&\\xc1C\\xdb\"y\\xf2\\x1d\\xbc\\x0ef\\xb4\\x98\\xf5e\\xb7\\x0e {\\xbbw\\x94{\\xd4\\x1c\\xef\\xcf\\x1c*j5!}\\xcfD)e\\xfe\\x15z\\xccP\\xf3\\x08\\xf2\\x9c%dH\\x9a\\xdb\\xfcn8\\xa8\\x04G\\xcd4O\\xb4\\\\X\\xbc\\x9dr\\x1f\\x1d\\xbe\\xfe\\x1b\\xfc(a\\xf8F\\x85?\\xb3\\x00p\\x8bP\\xbb)\\xd0\\xcb\\xa0\\xeb\\xaf\\xc51\\xe0\\xa2\\xf8\\xadq\\xc4Y\\xdb\\xf7*\\xc9\\x90 t\\xf1$]\\xc7\\xb5\\x880n\\x02\\xc1d\\rX\\xcbZU\\x98(\\xc2\\xa0\\xb1N>|l\\x02..\\xf6\\xb0hB\\x96\\xd2\\xaa8\\xed\\xb1\\x8bwB\\x05i\\xbbm\\xea\\xe0s\\' \\xe1H\\xdcat%DGg\\xa7-\\xf9\\xf8b?\\xf6\\x8e\\xe4c\\xc0-\\xaa\\xc8?\\xb8\\xc0\\xe11::O&\\x0f\\x1f\\xbeb\\xbfn\\xc3\\x86\\xdf\\xa4\\x16\\x83\\x17\\x0cA\\xcf\\x19\\'>\\xe4H\\x07\\x87+\\x04\\x86\\xe7\\xf0\\xc1L\\x14\\x12^\\xbei\\xf3\\xb9\\xa6\\xd8\\x16w\\x00]\\x8f\\xce\\x9f\\xfd\\xddl\\xe3?\\\\\\'\\xf5\\x8f\\xfe*\\xf2T\\x912\\x81\\xc4\\xd3\\xbd\\x1a:DB/\\xb0g\\x8d\\xfd\\xbe\\xe3\\xab\\xfd\\xa3H\\x9f\\t\\xe2\\xd0B\\xae\\xd7W|>\\x05\\xc8\\r\\r\\xb0\\xc0!\\x8f\\xbf\\x80\\xd0\\xf8;Y\\xc2\\xc8\\x93\\x89h[;\\xc3\\xc6S \\x99\\xf6s\\xa1\\xb2\\xf3\\x858\\xc0\\x8b\\x0b\\xf9y{wt\\xb9,\\xdc\\x1a\\xb3ai\\x03\\x1e\\x04&\\xd8\\x1a\\xbc\\x0e\\xc1\\xb5\\x9b9\\xffK\\x9d\\xfc\\xd5\\x9f\\xd8<E\\x97\\x1c\\xab$\\xa4\\xca2\\xfe\\xd4\\xb8\\x087\\x7fq\\x87\\x96\\xc7q\\x18&\\xb8I\\x1f\\xdb!I\\xd6\\xa6\\xc04\\x1a\\x8f\\x85\\xbd\\r\\x1b\\r\\xc2\\xbek\\x95\\x1aP\\xe1\\xf4\\xe7\\xdcFk~\\x16\\xb6\\x802\\x1dg\\xf3\\xcd\\xbd\\x13\\xc2\\x1f64\\\\\\x9b\\xcc\\\\\\xbf\\np\\xf9z\\xe2\\xbcB\\xdf\\x15\\x91>\\x93\\xb1u*\\x0e\\x19\\x11\\xbe\\x8c\\x7f\\x96s\\xec\\xff\\x9e\\x95\\x1cV\\xf5l\\r\\x1cvN\\x19\"x\\xa0 {\\xb5;8?\\xd9\\xd6k\\xfd@5\\x16\\xb0a\\x1d;\\x1f;=\\x95\\xde\\xa3\\xde\\xc0Ek\\xee\\x84\\x16\\xd2/\\x19\\xc8\\xe2)\\x9cI\\xe6w\\xae\\x188\\x9d\\xe4\\xeb+\\x17\\x0fF\\x96\\x08\\xf9K\\xfc\\xbc\\xdc\\xac\\x9b;\\x19\\xf7\\xa6\\x83\\x1e\\xc7-\\x98S\\xc5\\xf0\\x06WS%\\x90\\xdb\\x85\\xfd,\\x9e\\xdf\\x07\\xbb\\xe6\\x04\\x91\\xf8/\\x9b5\\x016\\xd4\\xf3\\xf3\\x92\\xd9\\xcf\\x9e\\xe6<u\\xb4W1\\xa07\\x0b\\xf0hH\\xa5\\x04?\\xeaF\\r~\\xb7\\x86\\xa6\\x7f\\xa2\\xb4pK\\xc7\\x82\\xb9<\\xbc\\x8b\\xccBf,\\xd1\\x1e\\x12\\x0bAf\\x97\\x80f\\x99\\x90\\x13\\xd6;\\xf9\\xd4\\x8c\\x81\\x0eK\\x1ao\\xfa\\x97\\x98\\xe7\\x85\\xec\\xcf:\\xbcC\\xbe<\\xa0\\xe5e\\x1bZ,k\\xef\\xeb\\xbcP\\x8f\\xb1\\xb9C.\\x89\\xb3\\xe2\\x13\\xe8\\xa2\\x9d\\xfd\\x0c\\xc5\\xdf\\x96\\xfe#e\\xd4\\xcafz\\x18\\xfa\\x9e\\x0b4U\\x1c\\xa2\\x12r\\x8f\\xbd \\xf5\\x18\\xfd(?I<\\x04\\x82\\x9f\\x11\\x8a\\xbc\\xd9\\x8c\\xa9\\xf9lU\\xf4U\\xa0C\\xfbG\\xee8\\xd5\\x133x\\xd0\\x17;\\xde\\xd9\\xb0\\n\\xf93\\x88\\x9f(\\xba\\x93r\\x878\\xa1n3\\x86\\x0c\\xbd=\\x8f%\\xd9\\x8a\\xdbH\\x05YX\\xd3\\x9c\\xa9G\\xd54\\x9e\\x81\\xc2\\xa1\\xf9\\xa3\\xcex\\x9ek\\xf4\\x90\\x11\\x8794\\xa2jc\\x90<n\\x86\\xa3\\x9f\\xbe\\x85\\xdb\\x86 O\\x93\\xbb\\xec\\x8d\\x07\\xf3\\xef\\x16\\x10\\xd9\\xdd\\x95ty\\xd1F\\xdb\\x96\\x9d\\x13\\x9eS2M\\xad\\x8f_\\\\\\x9b~\\x9aE\\xe9\\x98\\x99.\\x01*\\x8e/\\xe2#R\\x06\\x85M\\xac\\x0e\\xaam\\x13\\xba\\xff\\xc5\\xbaJi\\xc9\\xd5\\xba\\x85\\x97\\xcf\\xf6\\x9dB\\x1b\\xc8\\xd4\\x12\\xef\\xeei#\\xeb\\xa9\\xe40\\xfcJ\\xd1\\xec\\xd0C\\x97\\xa2^\\xa3\\x90T\\xb2@\\xd0\\xbc\\xefL0\\xdb:\\xcb\\x9f\\x8d\\x8f\\xc9\\xf7}\\xad\\xf0\\x80\\xf8\\x9c\\x7f\\xc2\\xbc\\xd3\\xed\\xf71\\xe8odvn4\\x9f)\\xefu\\x07\\x8f\\xd1J\\r\\x0e\\x93/\\xa8AQ\\xaf8m\\xd0(\\x9b\\xa56`\\xa9q)\\x95M\\xaa\\x0bXpp\\x81\\x97}Q\\xb5\\xab\\xd31\\x8ex\\xc6{@\\xd1k\\xb7\\x9c\\xc3\\xd8\\x85_\\xe6\\t\\\\\\xa8\\xc0Wo\\xf5u\\xe8\\xe4\\xaf\\x83\\x0b\\xdf\\x8b+\\x16\\x9cd\\x98\\x0f\\x1c\\x1c\\x1d\\x1a7\\xacw\\xd9\\x9e\\'\\xd5\\xfc\\xcb,}\\x0e\\xae\\x1c2\\x8e\\x10\\xf0\\xa0L\\x12\\xdb\\xab\\xb2P\\x0b;\\x18t\\xb0\\xf5>\\x0e\\x1d}\\xb6$_\\x85\\x93\"\\xf6\\x08\\x9dJE\\n?\\xa2\\x89\\xdb\\xc0BX@\\x00\\x17d\\xa7\\xc2Q\\xc7-\\xf1\\xcf]\\xa4`\\x9dW\\xd5\\x82f\\xa2\\xcb\\xb7-\\x9b\\x02\\xd8r\\x0f\\xeb\\xe9\\x8a\\xe5k\\xc6\\x06\\xcc\\x88\\x99?\\xaf\\x9a\\xb6\\x9e\\xca(H\\xdb\\xfe\\x81\\xfc\\xe1\\x865z\\xa9\\xb2d\\xd8~\\x1f\\xa2\\xbb \\\\\\xb2\\x9f\\x1f\\x15\\xb0Mv\\xee\\x8a\\xe9\\xbc\\x84\\x8c\\x93\\x9edVe !i\\x06\\xa3\\xa7X\\xb3>8\\x97\\xaf7\\x9f \\xff8e\\xb6\\xce\\xc6\\xee\\x14\\xe4\\x7f\\xbd\\xe0\\x90V\\x93\\t\\xba\\xb0n\\x93\\x90\\xc0F\\xb9\\x1e\\xc6\\xab\\x84\\xe9\\xc3\\xcc\\xa6\\x86\\x92~YG\\x86o2\\n\\xf7A1\\x9c\\x9d\\x12U\\x0c\\xd8\\xb0\\xd1OAA\\x8c\\\\T\\x850\\xb3\\xfc\\x0c;W\\x8b\\x85\\x0f\\xaa\\xa7%5\\x17m1\\xb2\\xdd\\x03\\xf9B\\xa9h8\\xa6B\\x9b)\\x1d\\x8b\\x82\\tt\\x86kP\\xaf\\x17\\xc9\\xd8\\xe1\\x8f\\xcdj\\xfd\\x9ea\\xcc\\xf9\\x19D\\x81\\x03\\x84\\xbcC\\xec\\x0e`\\xb4\\x10~\\x9f%y,\\x85\\xf6\\x025@v\\xc3m\\x8bl\\xef\\x112y\\x9a\\xb8/\\x89p\\xfa\\x05\\x1fh\\x1c\\x8a\\x8a\\xf5\\xfalC`b(\\x83\\xc2\\xd6G\\xcf\\x15\\xdc\\x8a\\xc0\\x84q\\xb8?\\x14\\xff\\xc5\\tj\\xb1\\xaf.\\x13\\x17\\t\\x16\\x8c\\xf2\\t\\xc4\\x86\\xa2\\x94\\\\\\x18\\xa9\\xf2\\x96\"\\xda\\xab[\\xb1\\x07\\xbd7W\\xcb\\xfe\\xb8\\xef?\\xd6\\x0f\\x14\\x82\\x06.=\\xd8\\xb5Iv%)L\\x8b\\x01\\x93\\x8e\\xa3\\xb1o\\xd9\\xc8M\\xbc\\xa5\\x8d4\\xe8\\t\\xae\\x03\\xe4\\xaa\\xa8\\x08U\\xf6\\x0e\\xe1\\x03\\x17\\xe0\\xc3p}\\xe2\\xbe\\xab\\x9bZ\\x17n\\x89jA\\x84\\xe2\\x08\\n\\\\z4\\x008\\xe3\\x82\\x80s\\xf8\\xf2\\xd89M\\x07e\\xd3\\xb8N\\xb1\\x1f\\x96\\xfe\\xf81SZ\\xb4.\\x958Cg\\xbd\\xb9=\\x12K\\xa2\\xe1u/\\x94\\xa2\\x0eF\\x1a\\x83\\x19c_\\x9f\\xcf\\xfc\\x06h[\\xc6t\\x1e\\xd9\\xab\\xe4[oKl\\xb8h\\xf6y\\xb2QG\\xa8jXI\\xe6\\xf6\\x81\\xe6\\xa4\\x00u\\x87\\xec\\x85\\xd8%DhM<q\\xda\\x15\\xdag\\x17\\xeb{8\\xaa\\x17\\xf8\\x12\\x9e\\xd1\\xf6+\\x8f)\\xf4\\xbafd#\\x0c\\xd4nG\\xf3\\xfd\\x8d\\xfc\\xc5\\x1b\\xb2\\xfd\\xe2\\rYzY\\xdb \\xe6\\xdf\\xc1\\xea\\x15\\x19b\\x1a\\xb7T&,\\xfa\\t}\\xbd\\xd3\\x1c|e\\x8a\\xfe\\x8c\\xb0\\x1f\\xacI\\xfb\\xe59\\x1d\\x01Tf(\\r\\t}^;\\xaf\\xbc\\xd7\\xd9\\xbd\\x0c)\\xff\\x97\\xafz\\xf4\\xbe_\\xab-\\x9a\\xba\\xc2\\x98\\x19\\xa2q\"V\\x8f\\x12\\xb2wY\\x90\\xa2*1\\xe2\\xddu\\xe8:\\xd5\\xa8%rbS\\x84\\x8a\\xf1V\\x8a\\xf0\\xd2\\x8e}\\x19\\x91l`U(y/\\x12\\xd5\\xab\\xebt\\xa1\\x89\\xa2\\xf0\\xb8\\\\x\\x14\\xba\\xda\\xc4\\xf6\\x96\\x07\\xf9\\xed\\xe3\\x16\\xd7c\\xe5X\\xc3^a\\x16\\xcf\\xc3\\xc6\\xa9uv&2E5\\xc7F^\\xb6h\\x92;\\x0b|\\xc5\\xb5\\xe5\\x03\\x98{h\\xaf&\\xd5\\x0ff\\xd0\\xffT\\x06\\x94\\xcc\\xa4\\x7f\\x92]Y\\xcd\\x9c\\xf4\\x07\\x9a;\\xcf]\\xd1\\xc7M\\x1b\\xd1\\xbc\\x0b\\x98\\xedc\\x94\\xaa\\x00\\xa5\\x07\\xcd8}1\\xfcT>I-K\\x08\\xa6\\xb6\\xe9=\\x01n\\xef\\xfcL}\\xe3GU\\xf3\\x9f\\xd2j\\x12\\xc4\\x83\\xb3\\xb1G\\xbb\\x86\\xe13\\x89\\xb7\\x98\\xf7\\xebp=\\xe3\\\\`\\xcf}\\xf5\\xa3Zx\\xed\\xda\\xee\\xbe\\x12R_u`\\xfb\\x98\\xbab|\\x1b\\x0e0\\x06\\xbb8O\\x04\\xc1u\\x88\\x98v\\x8f`1\\xae\\xb7\\xcf%\\xd0\\xfe,\\x9f@\\xa4:i\\x95\\xae\\x91\\xce8RL\\x1f\\xfbz\\xd9\\xec\\x99\\xadF\\xad!T\\xe8\\\\2,\\x1an[\\x01\\x06\\xbc\\xce>\\xd8\\xc6\\xb3L=\\xeb\\x87.\\x8e\\x18x\\xa8R^\\xb6^L\\x8f\\x1d\\xd9\\xeaccNmu\\xb8u\\x82\\x95\\xcfEQ(o\\xbb\\xde\\xae\\xeaI\\xc2\\x0e\\x11s\\xb0\\xa5X\\x977\\x99 \\x8d\\xf6\\xaa\\xd3]\\xda\\xd7_\\xaf\\x93\\xafq\\xc8\\x92\\x00\\xe3\\xee\\r\\xa9x\\xa9\\x89\\x0b\\x1f P\\x9d\\r\\xa9>\\xa6\\xae\\xea\\xde\\xb8\\xca\\x06\\xc3\\x92/J%\\xb0t\\x9e\\xec\\xca\\xdc!\\xec\\xf4\\x8a\\xf9{\\xbdN\\xd5\\xba\\x94U\\x1a#\\x97\\x86\\xcco\\xfc\\x9a\\x14\\xa2S\\x03\\x03\\xd8\\xa2\\x0b\\xdeG\\'\\xedP\\xd6\\xfe\\x97\\xa3\\x13\\xfd\\xe1\\xd5\\x8a)\\n\\x90\\'\\x9d`\\xdbw\\\\\\x96h\\xfe\\xe9\\x17s\\xe9\\x9b\\x06\\x1a\\x1c\\xcd5\\xea=\\xbaR\\xe0\\xed\\xea\\x80\\x16\\xec\\xbe\\x98\\xd1\\xf4J\\x0e\\xdf\\x05\\x9f\\x1b\\xe0\\x99Mm>\\xeb\\xb4\\xb2\\xb0\\xce\\xa4\\x0f\\x19\\x7f\\xbd\\x98UO\\xf5\\x96\\x82\\xd22\\x93Oq\\xfb\\xba\\xca!\\xdei!\\xd5\\xbc\\x96\\xa4[M\\x94\\x15\\x92\\xc4\\xd6\\xf9y<\\x00(-c\\x9a4Qr\\xd3\\x8c\\xe5\\xf0\\x87C\\xe5\\xeb\\xfc\\x96SB\\x19\\xb4Z?/\\xae\\xd3\\x89\\xfc\\xb7\\x12\\x9b%\\x9e\\xfc\\x0c\\xec@\\x90\\xab\\xb9\\x94t\\xc0\\xc5,s\\x17\\xbc\\x83mR\\x10(\\x8d\\x83\\x17LW\\xeb\\xb3\\x05Y1\\xbb\\x06<qS\\x9b\\xa6hrTc\\x124\\x90\\xda\\xa6\\x03\\x8a\\xb0\\xb0\\xabu\\x16#\\x17%\\x0c\\xc0m\\x1d\\x11?Q\\xd4\\xe7!\\xd2l\\xc5\\x95\\x97\\xbak\\xac\\x050=M\\x14O\\xb3\\x90Q\\x17\\xec^L\\xb5\\x10S~b\\xc5[(6(\\x9cQ\\xee\\x89\\xaf\\xcf\\xe7f\\x84\\xc0\\xf7\\xcb\\xe9\\x1c\\xd6\\x81\\xdb\\tK\\xd8n\\xd8R;\\xde\\x8fx\\x80\\x17\\xb5c\\xf5\\x82\\xb5\\x7f\\x10\\xba\\n\\xea~=\\x88\\'\\xbd~\\xdd\\xf4\\xf5p|V\\xb0\\x90ZE\\x8e+?\\xe2\\xc2\\xbb=\\x00g\\x14\\x80\\xfa\\xf7\\xb6\\xc0w&\\x9a\\xe4\\xe4\\xf3\\xec\\x1c\\xdf\\x19\\xd9t\\x8dc\\xdc\\x87E\\xa2\\x11g\\xfcp\\x11\\x05\\xf8\\x0f\\x9f\\xcb\\xf7\\xd9\\xa1\\x0b\\xea)\\xc5\\xf7\\x11\\x82O\\xbc\\xe4,\\xa0\\x1e \\xe4\\x8a\\xde\\xcd@`\\x01\\x9f\\x994\\x13\\xa0\\x88+\\xc0\\xb8\\xf4x g\\x01n\\x16A\\xff\\x93H\\x1a\\xeb4\\x92\\xe9l\\x0f\\x03\\xbfV\\x98\\xb4\\x8cA\\xb0\\xba\\xc3+A\\xa6\\xab\\xfa\\xf7?U`\\xe2\\xb9:\\x85\\xd8|!\\xcf6\\xe9\\xf9<E\\x85\\xc7\\x94\\xf1j\\xa2\\xf5#\\xcf\\xa56p_L\\x9ah\\xdf\\x0c\\xfc_\\x08b\\x89W\\x8eM\\x1d\\x16\\x89\\xe2\\x91D\\xa5\\x9d2\\x82\\x1d\\xdf\\xfc\\x12\\xd2L\\x8e\\xe7\\xa3\\xba\\xbda\\x9b\\xe2\\x91\\x9d\\x93\\x1b\\xcfE\\x01\\xf7YZm\\xe2{\\x80;<\\xaa\\xac\\xc7\\x857\\xbbw\\xe8\\xc0\\x1b\\xf6)^\\x96B\\xd6E\\x034fE;\\xcf)`o\\xea\\x07\\xdf\\x99\\xce\\x87v\\xc7V\\xfb\\x87I\\x85\\x19\\xa0m\\x9e\\r\\xf7\\xce\\xb4\\xda\\x1d\\xfb6\\x89M{\\x11\\xe9)h\\x11\\xbbM\\xe8\\xdcr\\xcd\\x13\\xea\\xde\\x02\\xe4\\xcf_\\xc8\\x8c\\x89\\xf0\\xed\\x17\\x1cW+\\x17\\xcd\\x16\\x0be\\xadI\\x9a$~\\xea\\xbeqIH\\xa2\\xdf\\x99AY\\xc0\\x1f\\xbb\\xc1\"\\xff\\xbb\\x1d1C\\xe4mN\\x0b\\x1bUj\\x8e\\x11\\xdc\\xcc\\x1a\\x94\\xe6v\\xbc)\\x19\\xc4\\xa2\\x0cA\\xbel\\xb4\\xf2\"\\xf8wl\\xb5\\xf4,\\x9d#\\xbb;\\xe0G6\\r\\x8f\\x87\\xe6\\x9f\\xe8\\xa3j\\x85\\xa3\\xb9\\x0cZ\\x9e\\xc5\\xa3\\x19\\x8a\\xac+#\\x9c\\x04\\xe9\\xd0\\xfc\\x06\\xb8\\xc1{+9\\xed;\\x06P\\x88(\\x81\\xce&ED\\xcb\\xa1\\x94o\\'x\\xcd_\\xd8\\x940~\\x07\\xd2l\\xd6-\\xecF?\\xca&\\xd6L.2\"P\\xbeP\\x8b%\\xbfao\\xc1\\xb9\\xf8\\x9f:[\\xc3\\x99\\xc1\\xd8\\x1b\\xa7\\xd7\\n\\xa4\\x8bR-\\x9e)\\x86}\\x8b\\x00\\xa5\\xde\\x9fy\\xb2c\\xa4\\xa4F\\x85\\x8e\\xba\\xd2\\xe2A\\xf6-W\\xfe\\xff\\xdc\\x95\\xe7\\xcf\\xa3\\x7f\\xd1n.`k\\xdd\\r4s2\\xa9\\x0f\\xb9\\x96\\xdf\\xce\\x91n\\xbd\\xb7\\xe0\\x7fB\\x85\\x17r\\x83E\\x1fh\\x19\\t\\x87a\\x9b|Wz\\xb5\\xc1\\xe4\\xd5\\x14\\x88=4\\xe4\\x07\\x1b\\xed\\x8a\\xa4\\x0ctwL\\xbd\\x8d\\x04\\xc8\\x9a\\x85\\x97c\\xce\\xb0\\x1a)\\xcbe\\xce#\\xff\\xf3\\x9e?\\xfd!\\xf4\\xd8\\xd4\\xaa\\xc5o\\\\\\xc7\\xe4^o\\xeb\\xf5\\x8f\\x9f\\x12\"7\\xfa\\xb5>F-\\xebH\\xcf\\xcc\\x9e\\xdd\\xe0\\xf4L\\xfa^\\xd6\\x03\\xcc\\x9c$\\x14{\\x82\\xe2`oVs\\x7f<\\xe1}]\\x13\\xc5&\\xab\\x9a\\xa2\\x8e56\\xc7Y\\xc5\\xbes\\xfa\\xc1\\xf2\\x99K\\xc13\\xce3\\xd9\\xa3*\\xd4\\xe3n\\xc0\\x01\\x8ds\\xed7o\\x9d\\xe1\\xaf\\xca\\x89\\x1f\\xbe\\x11?\\xc48W\\xa7\\x0b\\x16\\x1c\"\\xd2\\x90\\xca\\x13\\'\\xf0;\\xfc~\\xd9\\xc3)\\xe1\\xfe\\xa1&\\xf6j\\xcf\\xcc^#\\xcb]\\x85\\x97\\xea\\xd7,}$l5Ne\\x99\\x11@J\\x84\\x04\\x89\\x9c\\xac{(\\x93\\xa1\\xe2\\xda\\x1d.N\\x1e5\\xaf4\\x91\\xe4\\xda\\xd8\\x03\\x8c\\xe8\\xf9q\\xb2h\\x12\\xd5\\x9a\\x87j\\'\\xe1\\xe3b(E\\x1c\\xbe\\xa1\\xed\\x8d\\xc6\\xe2EM\\xa4<nlP\\xda\\x94\\xc2i\\xf1\\x11\\xb6\\xdf\\xb0\\x06Gb\\x9d^\\x01k\\xa7\\xc1\\xbc\\t\\x86\\xf0\\xcdY\\x89\\x8bcSb\\xc9\\x8c\\x1b\\xd2\\xc5\\xb0\\xcb\\xb1\\xa25\\x8eyuh\\x02\\xba\\xb8Qh\\xbb4\\x95\\xe3\\x13\\x90\\\\i\\xd6WH\\xd4\\x87\\x1b3t\\xb6Bzx\\xed\\t\\xa2\\x98u_\\x81B@\\xcf\\xb1\\n\\x18\\x1a\\xb8U \\xf7\\xf5<a\\xb6\\xb6\\x87G\\xd21?\\x8b\\xfa\\xab@\\xfcs\\xea\\xac pI\\xce\\xff\\xdbCB\\xda\\x96\\xb6T\\x1d|b\\x1c\\xd3\\x10\\x95-\\xd0\\xac\\x04\\x92\\xc1\\x98\\xb7^\\x8b\\xb1\\xcb/\\x82\\xab\\xd2\\xf2\\xec\\x8a\\x0eu\\xac\\xf8\\xe1\\xd1\\xde\\xa1\\x86rX]\\xcfK\\x80X\\xd09\\xe3\\xab&\\x86o*\\xecV\\xac[\\xde\\x9d\\xe6\\xe4/\\x07\\x17\\x8f2\\xb0\\xf3\\x90\\xc6@\\xa4\\xc8\\xc2\\xfd\\xd9\\xbfd\\x0b\\x08\\x99V!\\xdfy\\xe8\\xff=!z\\xb0\\\\\\x05\\x92\\x18\\xff\\xba\\xfc\\xf8\\xa4sV\\xfc$\\xeb\\x04\\xac\\xb0\\xb1\\x9f\\xb4\\x85c\\xa0\\xe4\\x84\\x92\\x93\\x0b\\xcd3\\xc7{\\x1eH=\\x9d&\\x10\\xcc\\xab\\xb5Vu\\xac\\':&\\xf2{\\x90\\xc3\\x9dZ0\\xbc\\xe1\\x13\\xf9h]\\x161&\\x83z2T\\x16 \\xb5\\x93\\xa9\\x18\\xe5\\x05\\xcf/r\\xf0\\xfe\\xae\\x92\\n-l\\x90\\xc6C\\xdcA\\x91jB\\xdd\\xd6\\xa7\\xa6\\xb3\\xc2\\x12\\xb1\\xe8\\xad*\\x13.\\xf1Wc\\xac\\';>8O\\xd1\\xccRe\\xed\\xe2\\xc0_>\\x8a\\x8c\\x113\\xfd\\x90\\x0c\\xac2\\xcc\\xce\\x87\\x82\\x0c\\xc2\\xcd2\\xeaHfP|\\xe8\\xca\\x83(\\x98\\xcf~\\xffg\\xcf\\xf1\\xc6\\xdbR+\\xd39(\\xeb\\x04\\xe6\\xa0\\xec\\xd6\\r$\\x19\\tP\\xa4\\xc6J)\\x11\\x7f\\xd2\\x8c\\x18\\xa1!\\xf4q:\\nQ]\\x8b\\xfc!\\xa0d\\x81\\x96\\xad\\x01\\xa0\\xd5\\x14Y\\xb9\\xec\\xea\\xda\\x0bm\\xfd\\xf4X\\x00\\x07<\\x946\\xb6\\xe0\\xf0:\\xd7\\x14\\x14\\x93\\xfd\\x1b\\x05.\\x14\\xe3Aoq:\\x08\\xec-2`\\xb7w\\xf8\\xd1[\\xb9\\xd0\\xf1\\xe98\\xc3>\\xfe\\xa34\\x16\\x94;f\\xef\\x99\\xc6\"\\x17t\\x86U\\x9fV\\x95\\x186t\\x017\\x80!\\xa8$k\\x8f\\xa8Kd\\xb7\\xafgoF\\xcb\\x0b\\x8a\\x8dO\\xc9\\xb6\\xfe\\x82\\x99\\x91a>\\xe8\\x97\\xb0\\xcb-2S\\xcf=\\xaf-\\x1b[\\\\I\\x84\\xdbd\\x10Z\\xd2\\xaa\\x08\\xebVlq\\xd25X\\xc9\\xc9C\\xdb\\xack7\\xe2\\xf9ap\\x8e\\xde\\xa8\\xb9\\xea\\x94\\xfe>\\xb0S\\xed\\xfc\\xba\\xfb-4\\x06\\x8b\\x87\\x82\\xcf\\xd9Y\\'\\x92\\x82\\xa8\\x04IH\\xe7S\\x90\\x0e.sDkvi\\x8e:\\xda0\\xc1\\xdb\\xa7\\x94\\xcc*\\r\\xaeo\\xcb\\x14|_\\x19\\xd4\\x8e\\xcc^\\xbd\\x8dG\\xfb\\x0e\\xbdN\\x7fM\\xa4\\xaaTGU\\xc4q\\x9e\\\\\\x82\\xcf\\xd7\\x99\\xbfo\\x95*\\xe4;\\x18\\xbd\\xb7\\x96\\xe22\\\\\\xf4\\xff\\xdb\\r\\xa9x\\xa9\\x89\\x0b\\x1f P\\x9d\\r\\xa9>\\xa6\\xae\\xea\\x1f\\xa19y\\x1b\\x1f\\xcc\\xcd\\x01\\x9f\\xc7fP\\xa9\\x89\\xbf\\xd6K\\xfbY\"jM\\xff\\xa9\\xe6\\x14g\\'\\xb88\\x1c\\x8a\\xbe\\x974k^\\xfa\\x15q\\xa6\\x96\\x02\\x83\\xa0\\xc4I\\xb9\\xde\\x03\\x8d\\xa9\\x84\\x0b\\x98\\xe5\\xda\\xeb\\xfc\\x0e9k6\\xd7\\x04Us\\x1d\\xa8\\x13\\x04\\xf2\\xb0\\x9f\\xd7\\x96\\xf5l\\x92\\xb8\\xd0`\\xd2\\xcb\\xdd\\x19\\x1az\\xb6\\xc9~\\xa5\\xd5\\xbfC\\xef\\x1a\\xd5\\x9d,=*\\xfb\\xea\\x83FR\\xd95dU\\x02\\xae\\x04\\x9c\\xf2%<\\xe0\\x9f\\xb6\\x05M\\xc0]f\\x1d\\x0c\\xa0\\x9dh\\xaa\\x89\\xecV\\x13eM\\x9f\\n\\xb7S\\x04\\x1956t\\x1f\\xa1\\xc1L\\x9a\\xb3\\x12\\xcc\\xe9\\xfd\\xc6%\\xd5=\\xdb.\\xbbCV\\xac\\xc2\\xe0\\xad\\xa0\\xd1]4\\x1e\\xfe\\x1c\\xa5J\\x01\\x7f\\xd7\\xb6\\xd7\\x88\\x9b\\x82\\x18A\\x9a\\xb9\\x05\\xd1\\x9cZdI\\x9d\\xb51G(i\\xcb\\x9d\\xe7\\x12\\x87\\xcck>)\\x0e\\x7f\\xba\\\\?\\x01\\x87\\no\\xf4=\\x1a\\x89\\xc2:x\\x8d5\\xb2\\xd9\\xdc\\xd7\\xedFD:<\\xa8+a\\x11\\x17u\\r\\xf1\\xfa\\xcf\\xb17\\xf9\\x9f+\\xee\\xe6\\x0e\\xf7\\x0f\\xd5\\x93\\xad\\xa4\\xf3\\xdft\\x9b06\\xe0\\xe1\\xac\\xe0\"\\xe0\\xebc\\x9c\\xca&\\xc0\\x8fq\\xa8\\xa7j{j\\x80\\xc2\\xe2\\xc7\\x86\\xa2\\xb9~\\xf9ffh\\x03&V&\\xbf\\xd06\\xe3b|i-\\x920{C*\\xf6z*s\\xad\\xcf\\x89:Sn\\xb1\\x8e\"\\xb9\\xc8\\xb9\\xe1D\\x0e_\\xb0\\xc2\\xe8!O\\xb0\\r\\xef\\x86\\x03j\\x85\\\\\\xb1\\xe2\\xe1?\\xe0!Gh\\xbd\\xee\\xe2a$\\xebB|\\xfbM[.\\xf1Q\\xeb\\xe8R\\xfd\\x7fb\\xf8uc\\xd2F\\x87F\\xb9d\\x0f\\xa2\\xa0f\\xf40tJM\\x1a\\xeb\\xda\\xab*\\xfb\\xf5\\x11\\x94\\x91\\xaaI\\xd6\\xf0~\\xfa\\x05\"\\xc7\\x02\\xb9\\xdd@y2hC\\xc5\\xe9\\xb6na\\xa3ig\\x0e%\\x0c\\xf7\\xda_\\xd0\"\\xda\\'\\xcajp\\xcc\\xf2.\\xae\\x94=6\\xed\\xed\\x9d|\\xe6\\xedk*\\xb4gU\\xe3\\x03\\x7f\\x08\\x15%\\xa8\\x0e6#\\xe2\\xa6\\xff\\x07(8\\xdcf1\\xae\\xb3\\xb3r\\xc0m\\x1f\\x16L\\xdd\\xa2\\x11iC\\xd6\\xa0\\x90\\xf4 \\xf8\\xe7ja$y\\xfd\\x93\\xf46\\xcd\\xf8\\xa0\\xdc%)\\xa7\\xdd\\xc42\\xb9\\xbbU\\xca\\xb7\\x00\\xf6\\xc7M\\x1b\\xd1\\xbc\\x0b\\x98\\xedc\\x94\\xaa\\x00\\xa5\\x07\\xcd8m\\x14Y\\xf5\\xac_\\xa7\\xec\\xf5 \\x00\\x16`\\x13L\\xe4+m\\xe2\\xc0\\x17\\xbd\\xd4c\\xce\\x1f\\xb1L;\\xbc\\xa4\\xfd\\xdf\\xa8bk\\xc0\\x1c\\xa0\\xc1}J\\xc1\\x9el\\xd7d}\\xf7\\xeb\\xfe\\x94\\xfd\\xcb\\xca\\xd2\\x9c/\\xe1\\xd7\\xca\\xb2\\x1e\\xa25L\\x87$S\\xe5|K\\x1bkt\\xf7C4\\xf3\\xcc4\\xaf\\x84\\x04\\xc5\\x96\\x8f\\xa8\\x8c\\xb1\\x17\\xe0\\xec\\xca\\x14!5[\\x14O\\xfc\\xb7\\xf0\\xffsbs\\xb6ly\\xc0\\xa5\\xc2k\\xc7QG\\xa5\\x8dM\\xd0\\xc8!\\xb1\\xb8\\x19\\xe8\\xb2\\x0e;(\\xa0g\\x1f\\x8c\\xce8\\t\\x8a\\x88\\xfa\\xf5\\xda\\x90\\xfb\\x16/\\xfe\\x19m\\x0b\\xfaD\"\\xf5\\xce=\\xf9\\xa6!\\x9c\\x1a\\xf7\\x8d2J\\xd8\\xcb\\x03\\xb4o\\xc0\\xf7vf.\\x90\\xcdc\\xc9\\x85\\xb3t\\xc9\\x04\\xcd.\\x84\\xf6\\xe5\\xb6\\xd9\\xff,\\xf0\\xc6\\xb9z:+*\\xb7\\x9c$p D\\xd8H\\x00l\\xc6\\xc9\\xc5\\x91\\x80w\\xba\\x03\\xea\\xbb|z\\x8b\\xc8\\x8d\\x08\\x14\\x80V\\xe8n^N&\\xaap\\xa7#\\xc2d7\\xb4{)\\xb0\\xc7\\x80\\x9a\\x0e`w\\xac!{s \\x97\\x93k\\xff5\\xb4\\xf8S\\x16\\xb1\\xd2\\xad\\xe7 \\xe2 \\xd4YO\\xf6z\\xd0o\\xfea\\r\\xfdq\\x9b~w\\x0e\\xf6A!\\xe1\\x1d5K\\x9c\\x90+\\xd5\\xebw=\\x97\\xe7\"\\x100\\x82bF7\\xfc\\xcd\\xf5\\xb6\\x1d\\x07J\\xa9\\r\\xa9x\\xa9\\x89\\x0b\\x1f P\\x9d\\r\\xa9>\\xa6\\xae\\xeah\\xf8\\xfd\\x9f~<\\xacA\\xfc\\xc0\\xbf2\\x89\\x10\\x8b59?U\\xec\\xfc\\xad\\xea\\x01\\x93\\xf0\\xdf\\xbd\\xadZM\\xdemf#u\\x8eI\\x14\\xfd\\xb8\\xecN\\xd0h.,}\\x98\\xeb\\x0c\\xab\\x7f9{\\xa1\\xc8R\\xd2\\x10/V\\x9ex\\xa1#Z\\xed\\x17\\xc3\\xbe\\x91\\xca4~\\xb3\\xdee\\x98\\x14V}\\xc9\\xf7\\xe4\\x93pr\\x81\\xeaW)\\x8d\\xcc@\\xf5>v\\x8e>\\xa1\\xbc\\xa5*\\x9bF\\xf5\\xb2\\xb76\\xb4\\xd5\\xdf\\x13\\xd3\\x86\\xfdu\\xdc\\x97J\\xa9\\xaa\\x95W\\xcc\\\\_95\\xac\\xedz\\x8d%\\x87\\x8ch\\xff\\x0e\\x1d\\xd8uOVeKow\\xe7\\x17\\x07\\x05\\xe8\\x14`Gcf\\x1e\\x12p\\x8e\\'Y/\\x06\\x94\\xab\\x1fF\\xcb\\'\\x7f\\xe5\"1\\x06\\xf2\\xc6\\xdaSt\\xe7\\xba\\x063{\\xb3xOu\\xc3B\\xc0\\xb7\\xeb\\xd5@Y\\x81?\\x15\\xba9~p\\xf2\\x8dK8\\x8a0h!\\xf2\\xea\\xba\\x1d\\x8b\\xd2\\x18$K!\\xcf\\x13\\x9e0\\x1c\\xbd\\x98\\xbd\\x97\\xfc\\x8aT\\xf8\\x0c7\\x8c\\xe9\\xce\\xcd\\x02--\\xcde\\x84\\xa3s\\xed\\xf1(L\\xdd\\x95\\xf2\\xee\\x1c\\xf7\\x17\\x11\\xd8\\xf5\\xf5\\xdf\\x94\\x12A+J\\xf3\\xbb\\xbbp\"{C\\xd4r\\xc4q\\x93\\xb4\\xc1\\xcf\\x04E\\xcd\\xaf\\x05K\\xdb\\x8b\\xb6\\x9cA\\x98\\x12n\\xfc>1\\xd0\\x8e,\\x80cl\\x17\\x8a\\xba*`*\\xfcNsg\\xfe\\xb4[Nmnu\\xf2\\x1a2\\r\\x84\\xe7\"\\x9f,\\x96\\xb9[{\\x1bK\\x19\\xb2\\x8e4\\xb8\\xd3\\x8fW\\xccG\\xd60\\x0cc6[\\x02\\xae\\x8d\\xf0\\x8b4\\x90\\x12\\xa4\\x85\\x1c\\x885\\xa7G\\xb4!\\x86\\x82\\x0eQ\\x06o\\x13g\\tG\\xcb\\xf6 y)\\xa1\\xba\\xa36\\xfa\\x08\\xe0\\xdd\\xc1\\xf7w\\xd97\\xb5\\xf4\\x1d\\xb8\\xb6\\xe9\\xe6\\x1d\\\\O\\xfd]\\xe7;\\xb3\\xc3\\xe9+}\\x07\\x9d\\x95CVJ\\x86\\xf2\\x82\\x1a\\'Fe\\x94!\\xef\\xb0JY\\xf4\\x118\\xc0\\x1f\\x13\\xab@\\xf81\\xa40\\x1d\\x8e\\x04=\\xa9!4\"f\\'\\x82\\xabq8w\\xac8\\'\\xa0rl\\x07Je\\xa6\\xe6\\x9a\\xfa\\x07\\xc7\\xc2\\xb32l\\x02\\x19K\\xc5\\x13KUDIZ\\x13\\x1a\\x0b\\xd8zW\\xa9\\xf1\\xc7;\\n\\xd88\\xe2\\x8b:I\\r\\xe4;\\xbc\\xdf\\x01\\\\r\\xe9\\x8e\\xd6\\xe2\\xb4\\xc3g\\x8d\\x17\"\\xf3x\\xe4\\x8eJ\\x1f\\xb4\\x10\\xe4>\\xe8{K9\\xc7q\\xe0\\x84K\\xf4\\xbdu\\xaaF\\xff&\\xec\\x83\\xe4\\xd7\\xa0tB\\x1e\\x07\\xb4\\xda\\xfe1\\xeaD\\x01-z\\t\\x1b-\\xef\\xae(\\xd9<=)_$O/\\x19?\\xc3Fq\\xf2\\xc4j\\x8d\\x02\\x12\\\\\\xd5\\x05\\xdd\\xe8EXn\\x8f\\x90\\xb5P\\x80=/\\x82\\xa2C\\x94\\x05 \\x1a\\xbfk\\xe0\\xafa3\\xba\\xde\\x0e\\xc9a_\\x07\\xdc\\x18^:f\\xda\\x17\\x00w\\x87\\xe4|@q\\xda\\x11k\\x9c\\'\\xb41\\xd8<\\xc5\\xbfG\\x01<\\xebvs}\\x12A\\x16K%\\x18\\xb0!{R\\x15h7C\\xc2F\\xbf\\xc3i<\\x89n\\t\\xec\\xb4\\xea\\xff\\xf7\\xc7\\xdar\\xa2/\\xd1q\\xee\\x94\\xb3~\\xbduNJ\\xe1 b\\xcc\\x88\\xab\\xf1x\"\\xa7tw5U%l\\xd8\\xe7\\t\\xad-\\xf78\\x87\\xfc\\xc7\\xc3x\\xb9;,>\\xbe\\x1bZ\\x97F[O(\\r)\\xa0\\xf1\\xad\\xe1\\xbd|y\\x08\\xc3\\xde\\xc7\\x98\\xa5\\xdf{\\x0e\\xbe\\x8d\\xb6\\xef\\x01\\x1dH\\x1cF8\\xe5\\xfaK\\xf2+g\\xbb\\xd9>\\xd3\\xba\\xd59\\xea0\\xf2:\\x0e\\xf8=J\\x93s\\xcc\\x80\\x08\\xde\\xabW\\xf6u\\x88\\xd5A\\xec\\xdd\\xd1\\xfa\\x91\\x03\\xef\\xc1\\xc5r\\xa8\\x9a\\xfc\\x19\\x8f\\xb6\\xc6\\xfee(\\xc6\\x07;\\xed\\xd2\\xe32\\xbcjj\\xc8OH\\x07]l/\\x14\\x9e\\xe1\\x95?\\xe0\\x84 \\xb8=\\xdf\\xc3R\\x98\\x8e\\ta\\xe2j\\xfe\\xa1q\\x81\\xaf\\x8b\\x87\\xb4*3\\xb3\\xb4\\x18\\xc3\\x9a\\xc8AX\\r\\xb6\\x08\\x07\\xf7\\xeem[\\xdc\\x1d\\xe2\\x8fu\\xae0\\xfdI\\xcd\\xd2\\x020\\xf6Y\\xf8\\xaa\\xa1\\xa1/\\x80\\x19=\\xab$\\xf1\\xa2\\x13\\xa1\\xba2\\xa7^\\xbd\\xea,u\\x8a\\xf3\\xf0\\x1f\\xb9z\\xe7\\xc5\\xfe\\x1204\\x9eF\\xc7\\x17\\xfe\\x95%\\x87\\x1f\\xebb\\x07\\x02C\\xf6\\xd0\\xef\\xceU\\x9b\\x81\\xf3\\x0f\\x9a\\xc7\\x1b\\xceydQ=M}\\x81\\x9c\\xd3\\xf4\\xd8\\xd2\\x10\\x1fm\\xe9\\xae\\x9csq\\xd8\\xc3\\xf6\\x88\\x8d\\xcej\\ny\\xb2-\\xd1\\x87\\x11\\xa2\\xab\\xe8\\xc3\\x19Z8\\xd4\\xf2\\xc0\"V\\xb9z\\x06e\\x9czG\\xedP\"\\xc8V \\x87V\\xf3\\xb7\\xfa\\xa0\\x17+v\\x01\\r\\xb3\\x9a\\x0e\\x98m\\xa9\\x9c\\xc5\\xf0\\x91\\x9a<\\xef\\n\\xc1Y<\\xd5\\x97:J\\x80\\xc2A\\xe0\\xe6O6\\xdc>L[\\xeee\\xc5\\x7f\\xe8T\\x99Y3Vv\\xe5\\xb2[\\xd9\\xebq\\xd7\\x99ts\\n\\x81o\\xa1\\r\\x80\\xd0\\x1d\\x99[U\\x88\\xb8=\\xf4\\xdb\\x16d~\\x85\\x8b\\xe9\\x008;\\xfe\\xdbN\\xb2\\x85\\xees\\xc3\\x0cD\\xdf\\x93O\\xe8*\\x9dN\\x92I\\xbc\\x11}\\x9e\\n\\xff=\\xc8\\xfd\\xb4\\x04\\'\\xc3z\\x1ddIx\\xb5bj\\x7f\\r)q\\xf9\\xc1\\x7f\\xebm\\xc6\\x04\\x94\\xb2\\xdc\\xb3\\x951\\xc4\\x9a_\\xe7\\xe4o\\x03\\x97qn\\xd1\\x17\\xc6AN\\x08\\x87b\\xecz\\xab\\xdclv\\x12\\xe3\\x9f\\xde9\\x92\\x00\\xe1\\r]\\x0f\\x89\\xf1\\xd28:\\xb5\\xb3\\x91FI\\xef\\x91hD\\xba\\xb0}(\\x9e[\\xeb\\x86\\xaa\\xbc\\x8c\\xeeM\\x97{\\xa1H\\x95{\\x9e\\x83\\xa1cV\\xcf\\x00w\\xde}\\xbf\\xb3\\xa6*\\x95\\x95\\\\\\x03`\\xb9\\xd891\\x07\\xae\\xc4\"\\xb1h\\xb5\\xee\\x8c\\xa1\\xf0\\xee\\xe9\\x80\\xd9\\xfd9\\xe2\\xc2\\x00\\x04d\\n\\xf7y(H\\x1e\\xcd\\x84\\x1b\\xecz\\x07\\xbe\\xcb\\xe2\\xfc\\xac}\\xf2m)\\x96\\x19\\xf8z*~Y\\xed%\\xe5\\x02\\x93\\xd5\\x13Rb\\x86W\\x8a\\x00Q\\nS\\x01/h,\\xd5\\xfa\\xb9\\xd2%\\x06\\xaf\\xfc\\xda\\x82#\\xa3\\x9d\\xb9\\xa2\\xd6\\r\\x8e\\xefA\\x8d\\xa5\\xc4\\x1a\\x98\\xe1\\xef\\xed7\\xe6\\xf6;\\x0f`2\\xfd\\xad\\x84^\\xd3\\'\\x06\\xff\\x97\\x93\\x1c\\xcfNr)*{rwKl\\xb8h\\xf6y\\xb2QG\\xa8jXI\\xe6\\xf6\\x81Y\\x81#\\xaa\\x01,\\xb4\\xad\\xee\\xe5\\\\\\x96\\x94\\xc8\\xacLs\\x17\\xbc\\x83mR\\x10(\\x8d\\x83\\x17LW\\xeb\\xb3\\x05\\xb7\\xdb\\xdf\\x83:\\xe6\\x9d\\x82*c\\xba\\xdb\\xd0_\\xff\\x81\\xe0\\x03\\xef\\xdd^s\\xb3\\xd3\\xa55L\\x0f\\xa0\\xb7\\x1a\\xf1f\\r\\n\\x04(Se\\xea\\xd6[\\x89N\\x92UK\\xb4\\x06=vO\\xb8\\x91H\\xe6Lj7?\\xa8\\xf8T\\xf0F\\xe3%d\\xaf}\\xf1\\\\\\xe2\\xad\\xf6\\xcf\\xde\\xe8\\xed\\x06\\x9e\\xd4\\xa3\\xb1K\\xc4\\xc7\\xd9\\x8d\\xed\\xc0\\xad\\\\\\n\\x02\\xaa\\n\\xb3\\x84\\x89\\xe1\\x86\\x80\\x83O\\xf0\\x94n`\\x88\\x1e\\x12\\xd5\\xa4\\xab\\x9a\\x82OET\\xd8\\xad\\xec\\xe5\\xab\\x16P\\xe4\\xa2\\x0f\\xa0\\x9c\\x86\\xef\\x19\\to\\xda\\n\\xe4\\x83\\xf7,\\x90\\xe5\\x8fu\\xc7t\\x93\\xfe3\\xed\\xe7\\xfc\\xb8\\xef\\xe4\\x0ep\\xd8\\x86\\x8d\\xc6\\xe5D\\x0f(\\xcd)\\x1dy\\\\B-}\\xa9\\x07V\\xb7L\\xbf\\x1a|\\xe3\\xd8n\\xfd\\x03>\\x0f\\n\\x16k\\xa5\\xd9p8\\xb3Lm:`a8>8?\\x02\\x1e\\xe7,3\\xdd}\\x1d\\xc1\\x0e\\x92Nh\\xfa\\xeb\\r\\xb8\\x18\\xedN\\xfb8\\xbc}\\xac\\xc8\\xbd\\x08\\x05\\x1a\\xf2b\\x15\\xe9\\x18\\x9c\\xceL3\\xdc\\x1a\\x92\\xc5ttt}\\xaaU\\xf7O\\xad\\x9f\\xeag\\xa5\\xe0/`\\xf8\\xd2z\\x92\\x80\\xaa\\xd0\\x8bt\\xd0\\xfd\\xde\\xa6\\x8bq>\\x86\\xbf{K/\\xc3\\x82\\xed\\xfc\\xc0/\\x9d/\\x92\\t\\x1d;\\x1cH\\xff\\xfc\\xdfZ7R\\xebB-N}d\\xc2\\xe3\\x17X^w<\\xe4\\xfe\\x18\\xcc\\x92\\xb3wJ>\\x9b\\xca\\x80\\xba\\x8e\\xbc\\xa0PV\\x04\\xa8\\xd8\\xb5\\xa5d-\\xf6Lmu_\\x0e\\x04*ru\\xcecx\\xf2\\x8b\\x0ei\\x8c\\x1e\\xda%\\x81\\xdb\\xf4,\\xf8\\x7f\\xc2\\xa8\\xe0j\\xc3]me\\x80\\xd9\\x95\\n\\xd5zW[\\x88\\xa3\\t\\x11\\xbcI\\x14\\xf8\\x03\\xaa>F]\\xb2\\xb3\\x1be\\t\\x04H\\x0f\\x14\\xa8Q\\x1e\\x97vb\\x95]\\xa6\\xd9\\x9f3\\xd1/\\x15\\xa3\\xa0k\\xf1\\xb7\\x80\\x9c\\x97\\x08L~\\x9d\\x9e\\xf7N\\x98s\\x93\\x9b1\\xf8\\xd0L\\xe6j\\x97\\xbeo\\xb5\\x03\\xd2\\xccl\\x92W\\x94T\\xd5\\xb1\\xcb\\x07\\xce\\xc8l?\\x04\\x19\\xc9A@\\x0e\\xe8AG\\xc2k\\xc7QG\\xa5\\x8dM\\xd0\\xc8!\\xb1\\xb8\\x19\\xe8\\xb2\\x8b\\x92\\xc8B\\xe8I\\x02\\x8aA\\x07\\xb7\\x0f\\xe3\\x7f\\x8f\\x83\\xae\\x13\\x93 5C\\x82UP\\x12\\xca\\xc7\\x8c\\x98\\xa76\\xb2Vpz\\xf9}\\x01)\\xb2\\tJ\\xce\\xcc\\xca\\xcfv\\xec\\x00<H\\x17\\xa0\\x8e\\x86*\\xecDs\\x06\\xd2\\xb0\\x9f\\x16\\x16h\\xa0\\xd0\\x00\\xe2\\x19\\x05nQ\\xc3\\xb3\\xc4\\xae\\x0c\\x1e\\x01Wf\\xb0\\x00\\x8f\\xd0!M[u\\x96\\xb8\\xe7\\x17\\xc4k\\xe1\\xc8u\\xece\\x8bL#\\x8b\\xab\\t\\xc4\\xbc$`D\\x04\\xd7\\xc0G\\x8b\\x9c\\xc9\\xc6\\x9e\\xa1%\\xd8b\\xa93A\\xaa\\xcd\\xb3\\xd3z\\xc4\\x14\\xfa\\xc4\\x952\\xb8\\xeeS\\xfc\\x00\\xf9\\x9a\\x03\\xd9o \\xd9Y\\xbe\\xdd\\x00\\xb7\\x98\\x94\"\\x00L\\xac\\xed,\\xddU\\xfd\\x9e\\xb0\\xe8\\x14\\xe1+\\xee\\x12\\x92&#\\xc2}4\\x19\\x0f$\\xf6\\xb7.\\xdd\\xcfo=\\xddR\\xcc\\xcf\\xf3\\xb0\\x07\\xa7\\x8f\\xabw\\xa0\\xb3[X2\\xb5\\xbf\\x8c\\x85n)\\x87\\xe1\\x9f\\xccK\\x19\\xa1\\xbbH\\x1f\\x1f\\r\\x99]Je:\\r\\x08c\\xe9R\\x0c\\xbfx\\x0b\\x83\\xef\\xcc\\xcf\\x17\\xbb\\x99\\xc8\\x8e\\xd4&L\\x17\\xc1\\xd6\\xa5\\x7f\\x93\\x06e];\\x033\\xf1\\x8b\\xa3\\xadO\\xf3;q\\xa8\\x16cib\\xf99\\xd9a\\xf9-\\x9b\\xdd{Y\\xde\\x91V\\xdd\\xe4\\x8a\\x96\\x87^\\xee\\x87\\xc0F\\xfa\\xafhh\\xf4\\x0c\\x81E\\xd3O\\xb0\\x08\\x7f\\x1f\\xb32\\x92FrY\\xc3\\xf2\\x038\\xcaI\\x19\\xb7\\\\\\xb2\\xf3J!$a\\xe0c\\xd6\\xbd[@\\xa3\\xb5\\x9a 1+\\x8b\\xa61\\xc0\\xb5\\xbb\\x87\\xf0eR\\xbf(\\xe9%\\xee\\x9e\\x93\\xfc\\x0cy#/\\xaaA\\xe4\\xf5\\xb4\\x9f\\xebS\\xaf5\\xe5\\x1eS\\xfaxR\\xb0\\x87\\x82\\xe1\\xe0\\x82\\xb2\\xf1\\xec\\xd9\\x90\\x8e\\x1cK\\xff\\xeb\\xb7\\xe22N\\xd5\\xc7\\xa0\\xb7\\x1ac-\\x01\\xf0\\x9c\\xdd\\xd6\\xa7\\xa6\\xb3\\xc2\\x12\\xb1\\xe8\\xad*\\x13.\\xf1Wc\\x1c\\x08\\xe7\\xb9\\'\\xf7\\xdf\\xf4\\xf8lY\\xf5\"uX{o\\xe2A\\xc1;\\xa8?NJ\\xa3\\xd3Fzr\\xa0Q\\x9f\\x94-P\\xfa\\xf1\\xf24&n\\xf40\\xb3+B\\x1a\\x0b\\x83\\xef\\xcc\\xcf\\x17\\xbb\\x99\\xc8\\x8e\\xd4&L\\x17\\xc1\\xd6\\xa5\\x7f\\x93\\x06e];\\x033\\xf1\\x8b\\xa3\\xadO\\xf3;\\xa9\\x965C\\xc0\\xcc)\\xc6\\x17\\x9f\\xe2ne\\xa2\\xc7\\xd7\\x8d\\xce\\xd29\\x00\\tsk7M\\x9b\\xc9]G\\n\\xe7\\x0c\\x8f!\\xde\\x83Fa6\\xf3\\xef\\xd9\\x7fE\\xd5\\xfeF_\\\\S&b\\x00\\x11\\x1c!\\'\\xcc\\xdd\\x87>}\\xacJz\\x18\\xb2\\\\%O\\xb7\\xf2S\\xdd\\x88\\x97\\x13\\xe1\\x07\\x0f\\xc3\\xe8\\x0c\\x10\\x9f]\\x89)\\xfb\\t\\x86\\x131\\x0cJ{\\x8aw\\xec1\\x97D\\xc3\\xf6\\x9cSo\\xd0\\xef\\xe4\\x9fZ\\xca\\x83\\x8b\\x1c_\\x15;\\xaa\\x91\\xd0\\\\Ed\\x9a\\xf8\\x9d\\xde\\x96\\xde\\xb8\\x85\\x9b\\x1eo\\x19W\\xcc\\r\\xcd\\xad\\x81!\\xdei!\\xd5\\xbc\\x96\\xa4[M\\x94\\x15\\x92\\xc4\\xd6\\xf9\\x7f\\xb7\\x1d\\x97\\x94R-\\x90\\x1a=\\xcd\\xc3|\\xec*\\x96Y\\x0fP\\xd4\\xc0\\xf1\\xbc\\xae\\xc4\\xf4\\xe6k5\\xd9\\xc4\\xb0\\xff\\x8d5\\xe4l\\x87S\\xa4\\xbe\\x03o\\x96\\x07\\xd8\\x970\\xaf\\x1f\\xaaVLDg\\xf1(\\xfa\\x95\\xd0{O\\xab/\\xd7\\xfd\\x93\\xd6\\x85\\x8f5y\\xf2\\xfb\\x85\\x8c\\xee\\xb3\\xa4\\xdf!\\xe4\\xad!!J\\xf2\\xb2=\\x81\\xebv#\\x02\\x84V\\x87=;\\xd7\\x1d5\\xe2\\xb0\\xfb=\\xa1\\xcbC/\\x95\\x06\\xf3w\\xb4\\xcbB\\xd5\\x97\\xa23\\xab\\xab\\x9a8\\xe8O\\xed\\xbf\\xd9(ql8l\\x1d\\x99`\\xfc\\x15\\x1f\\x03\\x80e\\xe7e\\xf8\\xe3\\x98u\\x9a\\x1a.\\x9c\\x9a\\xfbN\\x1dJ\\xec\\x0b^E,\\xc9O5\\x99\\'o!\\xeb\\xff^\\xf2j\\x1f\\x0c\\xc0\\xbe\\x13B< \\xa5\\xe27\\x9aN\\x11$\\x034\\x82&j\\xc5G\\x9c\\xfc.\\xe2\\x0e\\xeb\\xc8\\x98V\\x97c\\x83\\xa3\\x90!U\\x8dbP\\x84D\\xca\\xbe<\\xa7\\x0bM\\x1e\\xa2\\xdd\\xbc=\\xac\\x99\\xa2\\xfa \\x1aD\\xaa0W\\xf0{\\x0f_Q\\x06\\xde\\xff\\xbe\\xab\\xd7$F8\\x06&9a\\xcb\\x92\\xc6\\xa7\\xfc+W\\x06jA}\\xb8\\xc6\\xb1?\\xe9\\x02\\x90\\xe7o\\xd9\\x17\\x92\\xeb\\x7f7s8\\xf7\\xe4w\\x18\\xee\\x8f\\xf2>\\xc7\\x0cq\\xe7\\xe8\\x03\\x91f\\xbdl\\xfc\\xc7\\xcbBr\\xe0g3\\xa41\\x06!\\xd7\\xc7h\\x97\\x1e\\xcc\\xb7\\x1a\\xfc\\xe3<|Z\\xd5\\xb1\\xb8%\\xc6\\xb4l\\x0f*6M\\x95\\xc4;6\\xe8\\x03X\\x8b\\xb1)\\x0f\\x91x\\xcdkr#\\xcb\\x16\\xfa\\xe4+IH\\xbf`\\xc6\\x08\\x82vX\\xa6\\x98\\xda\\xb3pk4\\xf9F\\x07Q;\\x96\\xf3\\xa9C:&t\\x173\\x88\\xc5\\x074w\\xa0\\t\\xea\\x9ev~\\x1b\\xc2q\\xa0\\xe9J\\xd0Kci@7]\\x11N\\x99\\xcbn\\xdd\\xbc\\xab\\x97\\xbf\\xee\\xe8@\\xf8\\x8b\\xc2\\x06\\xd7/+}\\x95n\\x84\\x97u\\x88\\xea\\xee!\\xeb\\xc6\\x1a\\xac1CZ\\xb5\\xcc6\\xa4\\x18\\x9a\\xb5\\xd9V\\xc7\\xa4\\xc4\\xab=+\\'r\\xe3\\xa7<$EhX\\xdd1\\xc1{j\\xd07x\\xd9\\xa8\\xfbk\\x1a\\x98l\\xae\\xf0\\xc0x\\x8f\\xef\\x86\\xf5:.\\xfaN\\x99H\\xbd\\xe7\\x8a\\x90^wZ\\t#\\x9c\\x9d\\xc6=\\x84\\xe7w\\x1c\\xbb\\xb4\\x1eU\\xd9vWZ\\xf3t5=\\x9e\\xd4HP\\xdbq^\\xc6\\x8701\"\\xdf/\\x0e\\xe7\\xa8\\x14\\xcc\\x1c\\x07\\xec\\xe6H\\x8f\\xf4\\xa2\\xa0A\\xf5\\x9f\\x7f`\\x8c\\xc9\\x13\\x19\\xce6\\xd5e|qyL\\xdf\\xa9\\x86v\\xc8fw\\xf5\\xc0\\xc6\\xf2P\\x81\\xd7\\x02m\\x04\\xfd\\xb2\\x13{\\xfco\\xb3-\\xe6?\\x9c!\\x01\\xe4J\\xa6\\xea\\xd1\\xfc\\xbd\\x8e\\xb3`\\xb5\\xf9\\xbfF\\x92\\xe6\\x1d\\x1b:v0h\\xb0.\\xacW\\xee*\\x94\\xfb\\xa4i\\x17\\xde\\x95p\\x1e\\r\\x97a\\xce5\\x9dQQt\\x17|\\xc52;)\\xbdF\\x15<\\xb8 /\\x0e\\x8b\\x8c\\xe8\\x1b\\x1f\\xcc\\x1d\\xe7\\x93\\xde\\x88N\\xf3_\\xb8g\\xa4\\x82\\n\\x86\\rX\\xba\\x13\\x80\\x19\\x92V\\xf9\\x0b\\xd31\\x02\\xfezGi9\\xff\\xb98\\xe4\\xa1m\\xda\\xda\\xac|\\x01\\xb3@R\\x0f\\x07h\\xc8\\xb2q%\\x92U\\xe3\\xec\\x04\\x8c\\xa46%e*\\x16\\xf8J\\xe2\\xa8v8\\x11\\x1cc\\x16\\xfb\\xbc\\xa2\\x1f*c\\xfd/%z\\xe6\\xb0(\\xd2\\t\\xd0\\xe2\\t\\x05\\xef\\x91o\\x18\\x05\\xaf\\xdb\\x99\\xac\\xe5\\xcb\\x83\\xfb\\xa6\\xeb\\xa0\\x92\\xc8wv\\xa2\\x97\\xb1\\x8a\\x0b\\xcc\\x9c\\x80\\xa8_\\x11e\\xc7\\xf8\\xd5?\\x7f`\\xae&\\x1e\\xbd\\x82\\x1a\\xcc\\xfb\\xfe\\xdf?\\xf3\\xbe\\xeb\\xbe>o\\x98j\\x97\\xc2Iu\\x82\\x94\\x17\\xd2\\xfb\\xd4U\\x0b{\\x92\\xcaJ\\xf5\\xce\\x12\\x04\\xe9\\xd7\\xba\\x1e\\x99\\xd3T\\xdc\\xb7oL\\xeaq\\x1c\\x823i\\xa7|\\x19A\\xdd\\xe8\\x1eE\\xc4T\\\\\\x15f\\x1c\\xa2\\x1a\\xce\\xc3\\xa7wB\"\\x85\\x06-\\x045\\xdfP7\\x00\\xa5s~\\xca\\x85?>\\xa9\\x1d\\xc8\\x12\\x82\\xec\\xef3DC\\x9f\\xb3I_\\xde\\xcb\\xd3!\\xee\\xbd\\xff\\x12>\\x1d81\\x00\\x87a\\x88&\\xddD\\xf1\\xe0\\x9b\\xa4=\\xc7\\x82\\xa38\\x07\\xb7\\x19\\r\\x16V\\xda\\xcaRe\\xbb\\xa3w.\\xff\\xb7\\x05\\x85n\\x1c\\x86k\\xdb5 \\xcc\\t):\\xc0%\\x8a\\xbf|3kX8\\\\\\xc2\\x13B\\n\\x0c\\\\\\x05\\x9b\\t\\xfc\\xbf*\\xf0\\xb6\\x17\\xb7\\x87n\\xa6\\xdb\\xc1\\xe8\\xa2\\x06N\\xf5\\xb2P\\x1d^\\x05\\x9f\\xce\\xa2<Q\\xd3\\xb8\\xa2\\xf9?\\x99\\xb3\\xca\\x13<5b\\xaa\\xbb\\xb4~Q\\n\\x81\\x03\\xbf\\x9f\\xbd\\xfe\\xe9\\xcdI\\xf9T\\xd5\\xafr\\x96\\x0fY~+cg\\x18\\x15\\x91zK\\xff\\x17T\\xf3.L\\x19}\\xf3\\xca=\\xb64J8\\x86\\xe03\\x85m\\xbd\\x83\\x11\\xc3\\xf9Y:\\xff\\x8b\\xdc\\xa6-\\x99\\xbd\\x87b\\xac\\xf6\\xfa\">L\\x14\\x12^\\xbei\\xf3\\xb9\\xa6\\xd8\\x16w\\x00]\\x8f\\xce&\\x95{\\x19\\xa90\\x1e\\xa6\\xef}s\\xb3-$\\xf0\\xbf\\xfc\\xa2\\xff*\\\\A\\x8a\\x18<\\x8c\\x18<\\xa3\\xcc\\x9cS\\xa8\\x1fl\\x9a\\xc71\\x92#>\\x85\\xdc\\xfb\\xa9v\\xf9\\xac!\\xdei!\\xd5\\xbc\\x96\\xa4[M\\x94\\x15\\x92\\xc4\\xd6\\xf9\\xe7\\x81GStj\\xa8>\\x19\\xd8\\xed\\xb2\\xe6v@]5~\\x9f\\x9a\\x12\\x1b67*\\xac\\xff\\xe9\\xfc}\\xc3w\\xfa\\xa0\\xb3\\xcfe\\xc2\\xe3\\xb5\\x08B\\x94y}Q\\xb3\\xd0\\xf0\\x90d\\x033\\x99\\x9d\\xa2\\xc2\\x98\\x0c;]DS~y)\\xcf\\xab\\xe9\\xcc\\xdb\\x98\\x9a\\x7f\\t\\x18\\xbd2%\\xe6\\x0c\\x12\\xcd\\x11\\xc3\\x96\\xbf\\x9d\\'\\xd6I\\xcf\\xb8\\x81]Z\\x0e\\x87\\x92Y\\xf1\\x00\\x92(x\\xb1<>\"\\xe8\\xa3\\x06g\\x7f-\\xc3Y\\xc7\\x13~ \\x80gA~\\xc3\\xcc0\\x020k\\xba\\x05\\xa4\\xd8\\xfe\\x16*f\\x978\\x92\\r\\x1b\\x14\\xa0\\xd2|\\x1f=uc\\xcdE\\x9d8\\x06\\x1d\\x95\\x19\\x06\\x7f\\x01 \\xf7$\\xder\\x83\\xa7\\x1am\\xb4\\xbc\\xf7\\'\\x0f\\x10\\xd1\\xf2\\xae8z\\xee\\x8fU\\x06\\xdc[pA\\xa89B\\xd1</\\x87\\x88\\x83\\xd5\\xa4^\\xc0\\xa6\\xfaa\\xc7\\xa4\\xfeL|6C\\xeb\\xce\\x9c\\xf7\\x01\\xeb\\x9dy\\xef\\xab\\x1e \\xd8)\\x1bE!2\\x9c\\xc1\\xba\\xf2\\x14w\\x94\\xe3\\x18`HTp\\x1b\\r,\\xa77\\xe0\\x17\\xc3\\x02X\\xa4\\xa1-\\xae\\xce\\x1e\\xf9i\\xa8\\'\\x1bS\\x07s4\\xd8\\x97\\xdb\\x05\\x865\\x8d\\xd1\\xf4\\xd4\\x9f\\x13\\t\\x08\\x98\\x92\\x94\\xb6\\x17\\xa5\\x15\\tS\\x92Iz\\xda\\xf0\\xf7\\x9a5Y\\x8b\\xcb\\x7f\\xbb\\xac\\xae\\x94\\xb5%RR\\x11:\\x92\"?\\xb8aWA\\x0e\\xbb\\x88\\xa2|6\\xefJ\\xbe\\x1c2\\x90\\x13\\x15\\xb0Az\\xe2v\\xbcZ\\xf7\\xb7\\x03.\\x95\\x92\\x17\\xab&\\x14J\\x05rVZ\\xf5\\x1e\\xe9\\x95\\x198%\\xafK\\xe0t\\x13\\x7f\\xd46f\\x17\\xf3\\x03X\\xb0\\xb3\\xdey\\xdf\\x01\\xfeSTPG\\xd8*\\xbd\\xec\\xf2\\xd6\\xe8v)\\x8ft\\x1a\\xeb\\xdb\\xc2\\x92\\xae\\xc7\\x0b\\xff\\x941\\xeb\\xf3\\x17\\xa2\\xf9j\\xf9@\\xf4\\xd7\\xbc\\x8e\\xdb\\x05C\\xf06\\x84\\xed]\\x15\\x811\\xe4uXiI\\xd9aJ\\xdaq30\\xbd\\xca\\x9bn\\x81\\xaf\"I\\x1a\\xd6\\xaf\\x82\\xb8\\xc7\\xd32\\xf15\\xdf\\x84E\\xb4\\x91U\\xb32\\xaa[c\\\\\\x15\\xd7\\xdbb\\xf9\\x10\\x19E\\xd4\\xaa\\xe9\\xb6q!\\x8f\\x1aG\\xa1u\\xac[\\xde\\x9d\\xe6\\xe4/\\x07\\x17\\x8f2\\xb0\\xf3\\x90\\xc6@\\xa4\\xe2Fo!\\xba\\x0e\\x13\\xc6\\xf9\\xd7\\x112m\\x8bs\\x0b\\xaffv\\xe5\\x8b\\xd5\\xd8-\\x831\\xdb\\x9d\\xfb\\xd9J\\xc6g\\n\\x14\\xdc6m2\\x12\\xb4\\xfe\\x14\\x19\\xbc\\x11\\xfe\\xaf\\x7f!\\x17]\\xbfd\\xbe\\xe3)\\x9e\\xa0\\xd7\\xc0H\\x18\\xa1\\x06\\xc5.\\xdc\\xc7$\\xc5\\xd8su\\xb8N\\x06\\xa3\\x10wt\\x89\\xbc)\\x02Y\\x86-\\x02\\xedxf\\xdeN\\tT\\xd7pJ\\xc4|\\\\\\x88\\xd9\\x8fFq\\x13\\xcf\\x9fb\\xd3\\x00\\x9a\\xee2\\xd2\\xc7w\\xb7\\xf1\\xc7\\x19\\xa8?f\\xa2)\\xe6\\xd5y\\xe7\\xd4 \\xa7\\xe6b\\x83X\\xdd\\x91\\x9d|\\x8b\\xa8v]On\\xf1\\xfc\\'}\\x0f\\xd7\\x92\\xc3\\xf6\\x94\\xad\\xf7\\xd1~\\xbd\\x96\\xc2\\xf2\\x89\\xc2\\xbe\\xca\\xd82$?\\x9f\\x8f\\xef\\x86\\xf5:.\\xfaN\\x99H\\xbd\\xe7\\x8a\\x90^wZ\\t#\\x9c\\x9d\\xc6=\\x84\\xe7w\\x1c\\xbb\\xb4\\x1eU\\xd9\\xacP\\x92j\\xc5#D[\\x9bU\\xb9\\x90P\\xebM\\xa0\\xd9\\xe1\"\\xd7\\xfa\\xd1O\\xfd?\\xe1(\\x80\\xcf\\xfaV\\x83\\xba\"\\xa5\\x1cf\"\\x1cm\\x91w^\\x04T\\x1f\\xbd\\x85_`\\xff6!\\xa4\\x8a_8A\\'\\xd1K\\x97a\\x0b\\xfc\\xd7\\x96G\\xc9\\r\"\\x16\\xb2\\xe5/1~YW\\x11\\xbat\\x8f\\x80:\\xbd\\x1ad\\x1cW=\\xf6\\xe0_,\\x8c\\xc4p\\x89y\\xf2w\\x1c\\x83\\x00s\\xfc\\xf5\\xf6\\xf4K\\x18\\xab\\x0bZ4A1\\xe9\\xcd\\x84=\\xa5.\\xdb4\\xcb?=-MR\\xb3\\xf2\\xa0\\x9d(\\xcd\\x1a\\xa0\\x1a\\xbd\\x89\\xdb\\xa8nP\\xc6N\\xa2\\xbd\\xe2\\x1b:\\x9f,\\x11\\xa34\\x8b\\xb0f\\x83b\\x12Jw\\xec\\x10E\\xd9\\x07\\xcb\\xaa\\x0b\\xc5\"\\xac\\xe8@:\\xc6\\x06\\x08<\\x8e2\\x16\\x0c\\xe2\"O\\xec\\x1c\\xc6G\\xb4<\\xd8\\x0c\\xe1\\x07\\xfdN\\xd7\\xad {\\xa5\\x97\\xb4\\xc3\\x14 \\x1f5\\xbe\\x14q\\x01(\\xee\\xa8\\xe8\\x02\\xe9s\\xe6\\x89\\x99e\\x1b\\xdf@i \\xb1\\x99\\x1dZ\\xa3U\\xebP\\xad\\'h9\\xfe\\x8e\\xf9]\\xf3e\\xa0\\xce\\xd6\\x1c\\xcc\\xb4\\x85\\xb0\\xa7\\xd7\\x06\\xfd\\xedaG\\x1f\\xbeF\\x85]V3\\xe8Rw\\xb1\\xfb u\\x81\\xad\\xff/a\\x8c\\x83p\\xd8\\xac\\xd2\\xe1\\xd7\\x84\\x15~D\\xbdYo&\\xfa\\xa0\\xb3\\xcfe\\xc2\\xe3\\xb5\\x08B\\x94y}Q\\xb3\\xd0\\x80\\xc0c4\\n\\x16X\\x9dx/\\xc0\\xb9/\\xde$\\x8f\\xbf\\xd7\\x1b\\xa3\\xf4\\x07\\x86\\xe9\\xb0\\x96u\\xdd$R6A\\xea\\x97\\x99\\xf3\\xf5g\\xc4\\xbbP\\xab7\\x89\\x89\\x87:e\\xef\\x01\\x03\\xa5uT>[\\xa7\\xc5o4\\xa3\\x01\\x0c\\xe4\\xbb\\xb7K\\x8dB\\x8b\\x9aK\\xbe\\xc8\\x19\\xf2\\xa1$\\x80+#\\x1b\\x83\\x0bX\\xb0+\\x1b\\xca\\xe4~\\x80RS\\x06\\x97c\\xcfj\\xf9\\\\\\xfa\\xc1\\xeb\\xcd&\\xd8\\xdd\\x9c\\x1aab\\xc7\\xdb\\xc7s\\xf8\\xffL\\xda\\xae\\xdc9\\xbd\\xafs\\xddM\\xaa\\xd0\\x8bt\\xd0\\xfd\\xde\\xa6\\x8bq>\\x86\\xbf{K/u\\x0f)* \\xfd\\xb3l\\x9d\\xac\\x9b\\xbf\\xd69\\t\\x0f\\xe1\\x06\\x120=\\xbc\\xd6\\xe01\\xad\\xdb]\\xf0\\xc7\\r\\xd5\\tkYd\\x88\\xb3\\xb4\\x96^K\\xd5\\xaf\\x14D\\x18nz\\xb9t\\xa5\\xcf\\xae\\xd1\\xdb\\']\\xd6\\x14\\xda!fY!Y\\xb0X\\x17\"*W)\\xcf\\xe1\\xc0\\t\\x8fM\\x14\\xf8o\\xf8\\xef\\xe1b\\x82\\xd8\\x0c~\\xf0\\xd06\\x01N\\xd9lr&\\x99\\x9f\\xcf\\x80\\xb1\\x1c\\xf8x\\x00>\\x91?\\xed\\x9f\\xb1\\xea\\x973\\x8e3+4+g\\xbf\\x83\\x12\\xb3l\\xf6\\x06\\xb6$]\"\\xcf6SK\\xc1\\x9d(\\xb7\\x1e9uh\\x02\\xba\\xb8Qh\\xbb4\\x95\\xe3\\x13\\x90\\\\i\\xd6%\\x82\\xcb\\xc0\\x9cv\\xcba\\xa0#\\xaed\\xe0i\\x93\\x08\\xd6\\x1dk\\x88\\x86\\x9ar\\xe4S\\xc1\\xed\\x02\\x0b\\xd8\\xad\\xa8\\x01\\xbf\\x1f+\\xfd\\xb4\\xea(\\xdevb\\xac~r\\x01\\x86\\x19_\\'\\x7fR\\xc8\\x00$B\\xc8F\\xe2\\\\\\xdb]\\xd3\\x13\\x86\\x04O\\n\\x85\\x8c\"\\x82F\\xbd\\x98\\xe8i\\xd3\\xdeg\\x8e\\xd9&\\r\\xd1\\xa0\\xce*9\\xb4`2\\xf4\\xf2T7>\\xb2\\x1e/=\\x14\\xee\\x96FxI\\x14\\xbe\\x9b\\xa2\"\\x96h\\xae\\t0\\x90\\xe1\\x93\\x98\\x8d\\xa6\\x04\\x1b\\xac\\xe6\\xb7c\\xca F\\x1d\\xfdl\\xd2\\x9a\\xdf\\x12*\\x14G\\xc8\\xd7\\xa1\\x9d<}\\x9euy\\xbb^\\xde\\xd7\\x1fL\\x8a\\xf8^\\xc0\\xb7\\x80E\\x93\\x86W\\x0cr\\xf2\\xe5P\\xfb{ +\\xc8\\x04^A\\x07u\\xd7\\xb6%7\\x95a\\x04?\\xd3\\x14`\\x1f\\xd1\\x96\\xdf\\xccE\\ttK2()\\x9e\\t\\xca\\xc0*yz\\xdd\\xc4J\\xa45/\\xd4%\\x15\\x9b\\xb7!\\x9fVh\\xf2\\x96\\x05\\x13\\xe7\\xab\\x0b\\x8a\\xac\\x1a\\xa0\\x99\\xf7\\x9fW\\xfb\\xd3\\xb3\\x08\\xbd\\xfe\\xd9\\xffu\";\\xcb\\x81\\xbeV\\x15\\xdf\\xe1\\x00\\r\\x08\\x98?\\x0fMoL\\x1b\\xb8}M\\x0b\\x9f\\xc7`\\x9d7\\x96\\t2\\xd6\\xf6\\xfe\\x0f,9N\\x13\"\\n\\xa7Wx\\xfdP\\xc9-7\\x84L\\xc5\\xc8\\xa3\\x8f$\"s5\\xa4\\xb4\\xf0\\x86\\x92\\xc1\\xb6cf\\nh\\x89<\\xc1\\x05\\x84[H\\xa2\\xd0\\xdamJFPf\\xb6\\xa2\\x0fN\\xf2\\xb68\\x9f(~\\x85\\x8c-\\xa7\\x10m(b\\xe7FK\\xc6\\xc2\\xb2\\xa2\\x94w\\x14T\\xe9\\xe2\\xdf\\x94\\x89o\\xcc\\xc9F\\xd7\\xee2\\xa5\\xb4~\\xa7\\x9ck\\x99DP\\xca\\x055\\x04\\xfe\\xe3\\xe2+\\x8b\\xf0\\xb3\\xdb\\xc2Kl\\xb8h\\xf6y\\xb2QG\\xa8jXI\\xe6\\xf6\\x81JxT\\x80\\xe4i\\x98\\x88#\\x1d\\xd4\\x97\\x07*\\xb4\\x91\\x94\\xfe\\x00s\\x1f\\xacPM\\xa2\\x91\\xd5X&#\\xdc\\xa6\\x8a*\\xe3)\\x95-\\xa9I\\xc8\\x80\\xd3\\x05\\xb3T\\xe2Z\\xd7}\\x06\\xd8\\xb4\\xfb\\x86[)\\xfb\\xf7\\xbb\\n\\x85X\\xb3\\xcaF_\\xfd\\xf4\\xd8\\x93\\xdaJA\\xe6\\x92\\x85Q/\\xe3JC*\\'dGGm[;\\xc0p\\xc8j\\xafV\\xca\\r\\x1d\\x1f\\xf2Uz*\\x86\\x92*w\\xc3[|\\xeea\\xac9q\\xc0\\xad\\xbb\\xc7Lp\\xa3\\xa7\\xd9\\x9e\\x1f\\xbb\\xa9\\xbf\\xd0\\x10\\\\ohs3\\xd4\\x8b(\\xda\\xe8\\r\\xd9\\x14J\\x05rVZ\\xf5\\x1e\\xe9\\x95\\x198%\\xafK\\xe0\"\\xb2\\xbcZ\\x80\\x93\\xaf\\x0bq-\\xf1\\x9a\\xe1\\xce3o\\x88O\\xa7D\\x13f\\xa6\\x98\\'\\x87\\x9eu\\xa7\\x86\\xa4\\xc3\\r\\xd2~\\xbf\\\\\\xacS\\xedi\\xf2\\xeb\\xaf\\x82Bg\\xec<]\\xad\\xe1Q)v\\x1e\\xae\\xaed\\xaa1\\xbc[\\xdd\\x9d\\xbe\\xfd\\xad\\xb2\\xdbr\\x0c`L+{\\xe8\\x101\\x06\\x7f/{Y#\"\\xa8\\xae\\xdbV\\xef5\\n\\xc2^\\xc7\\x02\\xcd\\x94\\x8e4\\xa5{\\x1e\\xcff\\x84\\xf7\\x89[\\xbaX\\xeeg\\xf7\\xf7X5\\xa3\\x90\\x15\\xb0\\x13(\\x14g/2\\x8eKh\\x9afT\\x9b\\x1fn\\xde1%D\\x98\\x96\\xeb\\x05@\\x1c/\\x8fP\\x07\\x80\\xdb\\x92\\x80*\\x03m\\x16\\xfe,=\\x8e\\xb2\\xa4\\xdf\\xe9>\\x9d`i\\xc6S%\\xc8\\x9dmK\\xe5\\x8a\\x16\\xac\\x19,\\x1d\\xfb\\xf9\\x17\\r\\xc1\\xba\\xd3\\xa4F\\x85\\x8e\\xba\\xd2\\xe2A\\xf6-W\\xfe\\xff\\xdc\\x95\\xe7EP\\x8a\\xd5\\x96\\xc7b\\tG\\xdf\\xc0*\\x84Rpk\\xf4\\xea\\xa2\\x96\\x0b\\x08\\xcc_\\x7f\\xca^:\\xc5y:\\xad\\xdc\\x1a\\x08\\xcd\\x82X\\'\\xac\\xe4P\\xa8\\xb9\\xa22XQ\\xdb\\x05\\x865\\x8d\\xd1\\xf4\\xd4\\x9f\\x13\\t\\x08\\x98\\x92\\x94\\xb6$\\x81\\x05\\x034\\x87\\xa7f*\\x0c\\xe3b\\'\\xb2\\t\\x9c\\x931\\xa0\\xea\\xc3\\xc7\\xea\\xb4T\\xbf\\x1f\\t\\x99p\\xa1b\\x1eR)\\'\\x12\"\\xa8\\xc9\\xdf\\xe8z\\x12g\\x83\\xf9\\xa2x\\x0b\\rz\\xb7\\x94\\xcf\\x0b\\xca]\\xa9D\\x04G>\\xd4\\xbbQ8?\\x04\\x8bJE\\x03\\x8cx\\xa4z\\x1br\\xc6\\xdaI\\xf4b*\\xad\\x95X\\x92\\xf3d0\\xa6\\xdeX\\xab\\x137\\xc1\\xc3\\xcb\\xa2\\xb0\\xc2\\x97|^x\\xf3\\x01\\x91Ey\\xd9\\xa7\\x8dh\\x0c\\xc0F\\xd2\\xa4\\x8b\\xf6\\x00mZj|P\\x90\\xa1\\x07\\xca\\xc3\\x0c\\xb7X\\xebP\\xcca\\xf4kr\")\\xd3A\\xee\\x83\\xa0T\\x9d\\xc0\\xd8J\\x0c\\x04^7\\x90\\xb3\\xf6\\xf6\\xbe\\xfa\\xd9xo\\x03m\\xdd\\n\\xb6\\xdf\\xdb\\x05\\x865\\x8d\\xd1\\xf4\\xd4\\x9f\\x13\\t\\x08\\x98\\x92\\x94\\xb6\\x1cH\\xfa\\xc6\\xa1\\xe2*\\xdf}<\\xf9<\\xd4\\x9e\\x12\\x1d\\xc4K\\x80\\xf0Y\\xca\\xbc\\x07\\xfd\\xecs\\xeb\\x97\\x9b\\xd6f\\xa4\\x86a\\x11\\x08^]\\xb7\\x0c\\x17X\\xd9r\\xb5\\xe0X\\xa00\\xf8eo\\x1a\\xbf8\\xc4k\\xcc\\xf6\\xb0\\xb4\\x06\\xfc7\\xed\\xc8\\xa65\\xc5\\xd7\\x08\\x84\\xaap\\xd5Zw\\x91E\\xd6\\x84cn_\\x04d\\xb2!\\xda\\x1fQ\\x83G\\xfd\\x1f\\x95C*aqBL\\x93\\xbc\\xbe\\x04\\x7f\\xb5~\\xdd\\x08Y\\xc9\\x9f\\xc3K\\xd0\\xca}\"zR>\\xa8!\\xcb\\xac\\xf8p5q\\x88\\x82\\xb7\\\\f\\x81\\xb3\\x01\\x9fc\\xe5\\xf7H^U99\\xb8?\\xe8\\xdd\\x9cB\\xb7\\x1d\\xe8\\xaeJAr(\\xee\\xfb\"\\xa5\\xb1y\\xff\\xea\\x97\\xa3\\xc4\\x9e\\x0e\\xd2\\xd5\\xdf\\x02\\\\\\xb4\\xeb\\x99%o((h\\xae\\xcfL\\\\\\xd8\"\\x8el\\x15\\xf7\\xe3\\xde\\x8e\\xcd\\x96\\x92i\\xdd@\\xef\\xb6;\\x18\\xf8\\xb9R\\x7f\\xa6\\xbd\\x9a\\xd8\\xfe\\xbbh}\\xdd\\x1b\\x86)Q{\\x13\\xb3\\xb3\\xd7\\xdd`\\xd5^i6\\xcd\\x95\\xcb#\\x91\\x8d\\x02\\x11.^YU\\xb2\\xf8S\\xe5\\xc7M\\x1b\\xd1\\xbc\\x0b\\x98\\xedc\\x94\\xaa\\x00\\xa5\\x07\\xcd8nj\\xf9\\xcf\\xfd\\xd6\\xa2\\xb5qU\\x96y\\xc6\\x98\\x84\\xdf:V\\x9ar\\x9eN\\x0b\\xa6Y\\xf1vt\\xaf\\x8b\\x02\\xec;\\xff\\x82\\xbc\\xe5\\xe2Z\\xb6O\\x90p\\xd6\\x991\\x99\\xb0\\xd3Dj\"\\xf2\\xae\\xde&n*\\xea\\xdc\\xc2\\xc9\\x93\\xa7u\\xdb\\xefG\\x89\\xdd$(\\x1eU\\xa5\\xc3\\x9b\\x16x\\x8a\\xfd\\xe2\\rYzY\\xdb \\xe6\\xdf\\xc1\\xea\\x15\\x19b\\x1aQ\\x9b\\xbbZ^eY\\xe5\\xa0!\\xb6\\x88\\x9c\\x1a\\xe6\\x83N\\x9a\\xb4s\\xdbz\\x91\\nn\\xf2\\xc4E\\xe9\\x19\\x95}!\\xbe\\xeb\\xdc\\x9a\\x130\\xee^\\xae*\\xb6\\xf8_\\x96\\x95m}h\\xa1|\\xe7f\\xa0H\\xd1\\x88:{f[5\\x1b\\xcfb|C\\xfbm7\\x03\\xdc\\x12\\xedr\\xea624\\xbb\\x02\\xb1y\\x08\\xbf]\\xa0\\x81\\x02$H\\xb2\\xd2\\x14\\xcd\\xa5\\x8f\\xb6R=}\\x94\\xeb\\x1f\\x8e\\xcc\\xedn\\x01\\x14\\xeei\\x1f\"\\x05\\xfc\\x92\\x81m\\xe3T\\x84\\xdfqYz`\\xf0\\xfe\\xdb{\\xd3\\xc5>\\x13\\xcb\\x96\\x18\\tE\\xbb\\xb5.$\\x98s\\xdb\\xd0?\\xd4\\xf7g\\xa0\\x9dVA\\xf1\\xa5\\xc8G\\x96\\x1fAz\\x04\\xf2\\x11\\xcf,I\\xec\\x88:I\\xb8`\\xc4\\xa3\\xf0\\xb1\\xa0I\\x15.\"\\xf7\\x87\\xe3\\x05\\xeb\\xb7\\xb7\\x963\\x87\\xbbXTQ\\xe8\\xaeF\\xf1\\xcd-\\xa8YN\\x92o\\r\\x9e\\x94\\x02\\xf3\\x06\\x7f\\xc3&,\\xf8\\xb3\\'\\xd1&\\x1f\\x02\\xd0\\xe9\\xae\\x00\\x96%*\\x8d\\xca\\x8aT{\\xefV\\xcb\\xa5F\\x8e\\xf8\\x88\\xd4\\x96\\x07\\x81\\xc8\\xf0\\x9ag\\x97.\\xab\\x8b\\xbcH\\x12<7\\x16\\xf1\\x90\\x80\\xe1\\xf4y\\xd9\\xa7\\x8dh\\x0c\\xc0F\\xd2\\xa4\\x8b\\xf6\\x00mZj\\x81\\xeb\\x97p\\xcfFX\\x9b\\xe4YO\\xb6\\x82\\x88\\x1b\\x95\\xd0\\xdc|_\\x9c\\xdc\\xd3\\x88\\xa10}\\x89[\\xcd\\xac\\xec\\xc6\\xdbK$\\xb5\\x02Ck\\xa6\\xd4<\\xc8\\x88\\x9a\\x10\\x0fg\\x0e\\x81i\\xedU\\x89\\xdb\\xce\\xa47\\xac\\xe0\\xf8:\\xc0\\xc3\\x18\\xb1\\xd6x\\x9b\\x93\\x16Q\\xb6\\xa6.\\xbb22\\xb8<Kv}Y\\xeeIb\\xf0\\xc6\\xd5\\xdd-\\xdeq\\xba\\x13\\x95\\x82\\xa9J\\xf7\\xa2\\x85\\xfc\\xfe\\xde\\xf4\\xa5\\x0e\\xaaE\\xa8[kM\\xc0\\xd9\\xb8\\xca2\\x13\\xf7vP<\\xcc\\xa0\\x84\\\\\\xa4\\xday\\xb1\\x964\\xa4\\xd7\\xae\\\\\\xcd\\xa8w\\x0ei\\xc7\\xf5\\x83\\x85\\xf0~v\\xf4\\xbc\\xf5\\xd1\\xd8\\xde6\\x1f#\\xfeb\\xcb7\\xdd+\\xb0\\x9f&\\xbd\\x1b\\xd6f-E\\xbe~^N\\xa8[\\xcc\\th\\x1doPP\\xad\\xb4\\xf5W*\\xbd\\xa4\\xf2\\xd0v\\xfa0\\x12\\xb5\\x85\\xd7\\x04\\x7f\\x86\\xb6<\\xe9\\x89Mqd\\x1f\\x96\\xd3u\\xb77k)6\\xa0\\xa8\\xebx\\xe1W\\xd0\\x19+j\\xfe5y\\'\\xf1\\xda\\x95\\xdf\\xcbY\\x16\\r\\x90\\xf7 U\\x81\\x8c\\x95\\xc7\\xbdr\\\\L\\xb0\\xa1D\\x9b\\x14.Z\\x87\\xa7\\x9en\\xb7\\xe3\\x93r)^i\\xae\\n\".:\\xb7\\x17\\xee\\xe5\\x0bT5\\x18\\xae5:dpBO\\xe5\\'\\xc3\\x0b\\x17\\x02w\\xb6\\xca\\xee\\x1cG\\xc1N\\x0bW\\xfb\\x84\\xf3\\xcc\\xf5u\\x19\\nk!\\xafL\\x95\\x82+\\xf0P\\x92{\\x19E\\xcb\\xac\\xe4p\\xa6\\xaa\\xa4\\x05D\\xb8\\xc9\\xcf\\xe9@\\xca\\x8b\\xdf\\x15+\\x1d\\x8d\\xd1{\\xe2&V{\\xd0*9\\x0e\\xc7\\x06\\x80W\\x10\\xf4\\xfb8\\xd0Z\\xc4\\xe4\\x89\\xdf\\xe6\\xf7!r\\xa7\\xd7\\x1csx/OW\\x94w\\x89\\x1b\\x83\\xd5N\\xb8\\xeeP\\t-2\\xd6\\xe8\\xe6Y\\xf8\\xa5\\xb8k\\xb9DT\\x8a\\xcf\\x16k\\xa5\\xd9p8\\xb3Lm:`a8>8?\\xefP\\x10\\x0f\\x1e\\x0b\\xf2B\\xb4B$B\\x0bOqB:\\xb2\\xa7\\x06\\xf8\\xbd\\x19jI\\xbd@ \\xf5w\\x81r\\x87F\\xb9d\\x0f\\xa2\\xa0f\\xf40tJM\\x1a\\xeb\\xda\\xbf1\\x91\\xf3\\xdc&\\x03\\x1a\\x8a,\\xdd\\xb1\\xdcN\\xcc\\xce!*r\\x8eT\\xa2]\\xdc\\xe1\\xd2\\xc2\\xdf\\xb9\\xf2\\'\\xae\\xed`\\xec\\xba\\xeb\\x99\\x0e\\x80\\x04\\xe5n\\x1c\\x1e\\xddA\\xa4\\\\\\xfe\\xe3\\x11\\xe6V\\xd0\\x8642\\xc2\\x85\\xbe1\\x1a\\xaejc\\x90<n\\x86\\xa3\\x9f\\xbe\\x85\\xdb\\x86 O\\x93\\xbb\\xfa\\x0f\\xdf\\xf7\\xb7\\'\\xa2<r\\x0e\\xd7\\xb0\\xa6N;\\x16t\\xd9\\xcf[\\x89\\xdc\\xc8,\\xddc\\x10\\xa63\\xf7\\xa8\\x12*\\x0b]\\xe6\\xfbe\\x01\\xef\\xa5\\\\\\xee\\xe8\\xab\\x8cb\\xb2%\\t\\xbe\\xe4F\\x19{\\x0e\\x103\\t\\x86s\\xd8Y\\xee\\x82\\xabq8w\\xac8\\'\\xa0rl\\x07Je\\xa6\\xe6\\xa6>\\x07gr\\xb5d\\x99\\xe1\\xd6\\xe5\\xf7\\x8c(\\xab\\xa4a\\x1a\\xe4\\xbc\\xfc\\x8dt\\x102\\xed*\\x8c\\xe4\\x05\\xe8\\xce\\xab\\xe4\\xdf\\xbe5\\xf8u\\x1c\\x96 s\\x8f\\x1d$\\r\\x11\\xb6\\x14r\\x9a\\xfcx\\xf38j\\x9a\\x8c\\xdc2\\t\\x1c@\\xb2\\xad\\xbfqr\\x17r\\x97\\xa0&W+\\x16\\xc3G\\x804\\x9c\\x0c\\x0f\\x15>\\xa5\\xa2o\\x87\\n\\xed\\xbc\\x83\\xb5\\x14'\n",
      "Length: 14464\n",
      "Embedding Efficiency: 4.495160398230088\n",
      "==============\n",
      "800Arngd marriage is while u r walkin unfortuntly a snake bites u. bt love marriage is dancing in frnt of d snake &amp; sayin Bite me, bite me. Really rubbish application. Bad app not working. Unfortunately, for the worst, the application was very wonderful, easy, and simple. Now it is complicated and does not open with you easily, and you do not find all the services available to you. The update is very slow when opening. Pass it by after the last update, it never opened, and it refuses any password you write or the card.  Unfortunately, it does not deserve any evaluation. God suffices them, and He is the best disposer of affairs, updating garbage. Go up, Al Ahly Bank. Technology is advancing, and you are backward. It is one of the worst programs that you can use technically. I expect its budget to be ten riyals, including tax. Unfortunately, after the update, it does not work and has many problems, and we did not benefit from it, especially outside the Kingdom. Very poor service and useless updates. Too bad the one before it is better number .. Al-Ahly ruined the application that most people used to rely on, unfortunately. The application does not work. Every time I log in to.  Every beneficiary host refuses. The worst bank in history. The application does not open for me, please solve the problem. Whoever fails me fails, and it is clear that everything is complicated. The application is considered to facilitate, not to complicate. Integration does not improve your services. You must look at the problem..... Bad bank, they close the account on strange things to sign, and the problem is not solved from the first visit. You need to stay with them in the branch in order to return the account. After the update it got really bad. Khara costume. not good. v\n",
      "customizedTechniques-2\n",
      "Ctpif octtkcig ku yjkng w t ycnmkp wphqtvwpvna c upcmg dkvgu w. dv nqxg octtkcig ku fcpekpi kp htpv qh f upcmg &cor; ucakp Dkvg og, dkvg og. Tgcnna twddkuj crrnkecvkqp. Dcf crr pqv yqtmkpi. Wphqtvwpcvgna, hqt vjg yqtuv, vjg crrnkecvkqp ycu xgta yqpfgthwn, gcua, cpf ukorng. Pqy kv ku eqornkecvgf cpf fqgu pqv qrgp ykvj aqw gcukna, cpf aqw fq pqv hkpf cnn vjg ugtxkegu cxckncdng vq aqw. Vjg wrfcvg ku xgta unqy yjgp qrgpkpi. Rcuu kv da chvgt vjg ncuv wrfcvg, kv pgxgt qrgpgf, cpf kv tghwugu cpa rcuuyqtf aqw ytkvg qt vjg ectf.  Wphqtvwpcvgna, kv fqgu pqv fgugtxg cpa gxcnwcvkqp. Iqf uwhhkegu vjgo, cpf Jg ku vjg dguv fkurqugt qh chhcktu, wrfcvkpi ictdcig. Iq wr, Cn Cjna Dcpm. Vgejpqnqia ku cfxcpekpi, cpf aqw ctg dcemyctf. Kv ku qpg qh vjg yqtuv rtqitcou vjcv aqw ecp wug vgejpkecnna. K gzrgev kvu dwfigv vq dg vgp tkacnu, kpenwfkpi vcz. Wphqtvwpcvgna, chvgt vjg wrfcvg, kv fqgu pqv yqtm cpf jcu ocpa rtqdngou, cpf yg fkf pqv dgpghkv htqo kv, gurgekcnna qwvukfg vjg Mkpifqo. Xgta rqqt ugtxkeg cpf wugnguu wrfcvgu. Vqq dcf vjg qpg dghqtg kv ku dgvvgt pwodgt .. Cn-Cjna twkpgf vjg crrnkecvkqp vjcv oquv rgqrng wugf vq tgna qp, wphqtvwpcvgna. Vjg crrnkecvkqp fqgu pqv yqtm. Gxgta vkog K nqi kp vq.  Gxgta dgpghkekcta jquv tghwugu. Vjg yqtuv dcpm kp jkuvqta. Vjg crrnkecvkqp fqgu pqv qrgp hqt og, rngcug uqnxg vjg rtqdngo. Yjqgxgt hcknu og hcknu, cpf kv ku engct vjcv gxgtavjkpi ku eqornkecvgf. Vjg crrnkecvkqp ku eqpukfgtgf vq hceknkvcvg, pqv vq eqornkecvg. Kpvgitcvkqp fqgu pqv kortqxg aqwt ugtxkegu. Aqw owuv nqqm cv vjg rtqdngo..... Dcf dcpm, vjga enqug vjg ceeqwpv qp uvtcpig vjkpiu vq ukip, cpf vjg rtqdngo ku pqv uqnxgf htqo vjg hktuv xkukv. Aqw pggf vq uvca ykvj vjgo kp vjg dtcpej kp qtfgt vq tgvwtp vjg ceeqwpv. Chvgt vjg wrfcvg kv iqv tgcnna dcf. Mjctc equvwog. pqv iqqf. x\n",
      "Length: 1780\n",
      "customizedTechniques-3\n",
      "a>",
      ">>",
      ">>>>>>",
      ">",
      ">L>>",
      ">",
      ">>>>>>>",
      ">DY>>b",
      ">",
      "J>",
      ">",
      "L>r",
      ">>L>b>>>L>u",
      "J>>",
      ">J>",
      ">>>",
      ">",
      "J>",
      "J>>",
      "L>n>>>",
      ">>",
      ">>",
      ">>>",
      "J>>>>>>>",
      ">",
      "",
      ">",
      ">>L>t",
      ">",
      ">>",
      ">>",
      ">",
      "L>p>>>",
      ">",
      ">>",
      "J>>",
      "",
      ">",
      "",
      "J>>>",
      "",
      ">>>>",
      ">>",
      ">L>>u",
      "J>>",
      ">>",
      "",
      "",
      ">>",
      "L>g>",
      ">",
      "J>>h",
      ">>",
      ">",
      ">",
      ">>J>>",
      "L>g>J>a>a>bL>t",
      ">>J>>>",
      ">L>i>>",
      ">>",
      ">>>>>>",
      ">",
      "L>i>",
      "",
      ">>",
      ">>",
      ">",
      ">J>>L>u",
      "J>",
      ">",
      ">",
      "J>>",
      ">>>>>>",
      "J>>",
      ">>>",
      "",
      ">>J>",
      "",
      ">",
      ">",
      ">kL>v",
      ">>",
      "",
      ">>",
      "",
      ">",
      "L>t>>",
      ">",
      ">",
      "",
      ">>>",
      "",
      ">",
      ">LL>aKa>",
      ">",
      ">>>>",
      "",
      ">",
      ">>",
      ">J>",
      "L>t",
      ">>",
      ">>L>e",
      ">",
      ">i>>>L>>e",
      ">",
      "",
      ">>",
      "",
      "L>t",
      ">>>>L>t",
      ">>",
      ">>",
      ">>",
      "J>",
      "",
      ">",
      ">",
      ">",
      "L>w",
      "",
      ">>",
      ">J>>>>",
      ">>",
      "",
      ">>",
      "L>t",
      ">>>",
      "",
      ">>",
      "J>>>",
      "L>i",
      ">",
      ">>",
      ">>",
      "",
      "L>_>>>>",
      ">",
      "LLLLL>b>J>",
      ">",
      ">",
      ">>>",
      ">>>J>>",
      ">",
      ">>>",
      ">>",
      ">>L>_>",
      "",
      ">>>>",
      ">>",
      ">>>",
      ">>",
      ">",
      ">L>a",
      ">",
      ">",
      ">>>",
      ">L>k>",
      "L>>L>\n",
      "Length: 1780\n",
      "customizedTechniques-5\n",
      "ÄÀ¹¶p¿³ÄÄ»³¹·p»ÅpÉº»¾·pÇpÄpÉ³¾½»ÀpÇÀ¸ÁÄÆÇÀÆ¾±p³pÅÀ³½·p´»Æ·ÅpÇ~p´Æp¾ÁÈ·p¿³ÄÄ»³¹·p»Åp¶³Àµ»À¹p»Àp¸ÄÀÆpÁ¸p¶pÅÀ³½·pv³¿ÂpÅ³±»Àp»Æ·p¿·|p´»Æ·p¿·~p¤·³¾¾±pÄÇ´´»Åºp³ÂÂ¾»µ³Æ»ÁÀ~p³¶p³ÂÂpÀÁÆpÉÁÄ½»À¹~p§À¸ÁÄÆÇÀ³Æ·¾±|p¸ÁÄpÆº·pÉÁÄÅÆ|pÆº·p³ÂÂ¾»µ³Æ»ÁÀpÉ³ÅpÈ·Ä±pÉÁÀ¶·Ä¸Ç¾|p·³Å±|p³À¶pÅ»¿Â¾·~p ÁÉp»Æp»ÅpµÁ¿Â¾»µ³Æ·¶p³À¶p¶Á·ÅpÀÁÆpÁÂ·ÀpÉ»Æºp±ÁÇp·³Å»¾±|p³À¶p±ÁÇp¶ÁpÀÁÆp¸»À¶p³¾¾pÆº·pÅ·ÄÈ»µ·Åp³È³»¾³´¾·pÆÁp±ÁÇ~p¦º·pÇÂ¶³Æ·p»ÅpÈ·Ä±pÅ¾ÁÉpÉº·ÀpÁÂ·À»À¹~p¢³ÅÅp»Æp´±p³¸Æ·ÄpÆº·p¾³ÅÆpÇÂ¶³Æ·|p»ÆpÀ·È·ÄpÁÂ·À·¶|p³À¶p»ÆpÄ·¸ÇÅ·Åp³À±pÂ³ÅÅÉÁÄ¶p±ÁÇpÉÄ»Æ·pÁÄpÆº·pµ³Ä¶~pp§À¸ÁÄÆÇÀ³Æ·¾±|p»Æp¶Á·ÅpÀÁÆp¶·Å·ÄÈ·p³À±p·È³¾Ç³Æ»ÁÀ~pÁ¶pÅÇ¸¸»µ·ÅpÆº·¿|p³À¶p·p»ÅpÆº·p´·ÅÆp¶»ÅÂÁÅ·ÄpÁ¸p³¸¸³»ÄÅ|pÇÂ¶³Æ»À¹p¹³Ä´³¹·~pÁpÇÂ|p¾pº¾±p³À½~p¦·µºÀÁ¾Á¹±p»Åp³¶È³Àµ»À¹|p³À¶p±ÁÇp³Ä·p´³µ½É³Ä¶~pÆp»ÅpÁÀ·pÁ¸pÆº·pÉÁÄÅÆpÂÄÁ¹Ä³¿ÅpÆº³Æp±ÁÇpµ³ÀpÇÅ·pÆ·µºÀ»µ³¾¾±~pp·ÊÂ·µÆp»ÆÅp´Ç¶¹·ÆpÆÁp´·pÆ·ÀpÄ»±³¾Å|p»Àµ¾Ç¶»À¹pÆ³Ê~p§À¸ÁÄÆÇÀ³Æ·¾±|p³¸Æ·ÄpÆº·pÇÂ¶³Æ·|p»Æp¶Á·ÅpÀÁÆpÉÁÄ½p³À¶pº³Åp¿³À±pÂÄÁ´¾·¿Å|p³À¶pÉ·p¶»¶pÀÁÆp´·À·¸»Æp¸ÄÁ¿p»Æ|p·ÅÂ·µ»³¾¾±pÁÇÆÅ»¶·pÆº·p»À¹¶Á¿~p¨·Ä±pÂÁÁÄpÅ·ÄÈ»µ·p³À¶pÇÅ·¾·ÅÅpÇÂ¶³Æ·Å~p¦ÁÁp´³¶pÆº·pÁÀ·p´·¸ÁÄ·p»Æp»Åp´·ÆÆ·ÄpÀÇ¿´·Äp~~p¾}º¾±pÄÇ»À·¶pÆº·p³ÂÂ¾»µ³Æ»ÁÀpÆº³Æp¿ÁÅÆpÂ·ÁÂ¾·pÇÅ·¶pÆÁpÄ·¾±pÁÀ|pÇÀ¸ÁÄÆÇÀ³Æ·¾±~p¦º·p³ÂÂ¾»µ³Æ»ÁÀp¶Á·ÅpÀÁÆpÉÁÄ½~pÈ·Ä±pÆ»¿·pp¾Á¹p»ÀpÆÁ~ppÈ·Ä±p´·À·¸»µ»³Ä±pºÁÅÆpÄ·¸ÇÅ·Å~p¦º·pÉÁÄÅÆp´³À½p»Àpº»ÅÆÁÄ±~p¦º·p³ÂÂ¾»µ³Æ»ÁÀp¶Á·ÅpÀÁÆpÁÂ·Àp¸ÁÄp¿·|pÂ¾·³Å·pÅÁ¾È·pÆº·pÂÄÁ´¾·¿~p©ºÁ·È·Äp¸³»¾Åp¿·p¸³»¾Å|p³À¶p»Æp»Åpµ¾·³ÄpÆº³Æp·È·Ä±Æº»À¹p»ÅpµÁ¿Â¾»µ³Æ·¶~p¦º·p³ÂÂ¾»µ³Æ»ÁÀp»ÅpµÁÀÅ»¶·Ä·¶pÆÁp¸³µ»¾»Æ³Æ·|pÀÁÆpÆÁpµÁ¿Â¾»µ³Æ·~pÀÆ·¹Ä³Æ»ÁÀp¶Á·ÅpÀÁÆp»¿ÂÄÁÈ·p±ÁÇÄpÅ·ÄÈ»µ·Å~pÁÇp¿ÇÅÆp¾ÁÁ½p³ÆpÆº·pÂÄÁ´¾·¿~~~~~p³¶p´³À½|pÆº·±pµ¾ÁÅ·pÆº·p³µµÁÇÀÆpÁÀpÅÆÄ³À¹·pÆº»À¹ÅpÆÁpÅ»¹À|p³À¶pÆº·pÂÄÁ´¾·¿p»ÅpÀÁÆpÅÁ¾È·¶p¸ÄÁ¿pÆº·p¸»ÄÅÆpÈ»Å»Æ~pÁÇpÀ··¶pÆÁpÅÆ³±pÉ»ÆºpÆº·¿p»ÀpÆº·p´Ä³Àµºp»ÀpÁÄ¶·ÄpÆÁpÄ·ÆÇÄÀpÆº·p³µµÁÇÀÆ~p¸Æ·ÄpÆº·pÇÂ¶³Æ·p»Æp¹ÁÆpÄ·³¾¾±p´³¶~pº³Ä³pµÁÅÆÇ¿·~pÀÁÆp¹ÁÁ¶~pÈ\n",
      "Length: 1780\n",
      "OpenSourceTechniques-6\n",
      "b'0\\xa9@\\x10Y\\x8f\\xdf\\'\\x86?{\\xa6\\x97\\x8d[#\\x0f\\x1fH\\xd0\\xc1+.\\xd2zE\\xf5\\xa6\\x9f\\x8eHG\\x80^\\xb0\\x14D\\xd34\\x08\\xabN\\xb8\\x177N\\xcf\\x99\\xb1>\\xa9\\xa5\\xb5o\\xd8\\x86(\\xaf.\\xad~\\xe5&\\xd9\\xef\\xe1\\xfe\\xedYbQG2\\xa2\\x95W\\xb6>>\\x04\\x81\\xdc\\xc9\\xc4qAhW\\x05\\xf8\\x1f\\x10\\xb8\\x13\\x9c\\x1cc%\\x19\\xa2\\x9a2\\x97\\x86\\x99\\x9b\\x06\\x93:\\x00\\xeb\\xc8`\\x1d\\xe3\\xd3\\xb6\\xee\\xaau\\x95\\\\\\x0f3\\x8a}\\xcd\\x9e\\xd0\\xd3h\\x9b\\x9f\\x1aC\\xa3q\\x84\\xab\\x1c;K\\x81I\\xe0\\xb1\\xfa\\x1a\\xe8\\x8b\\x8b\\xb8\\xf7z+\\x04.W\\xf1y\\x88.\\xc1\\xe7`(l\\xf7\\x08=\\x1c\\x83\\x94\\xf1\\xadT\\'\\xc2\\xe1\\x8b\\xe1G\\xd8\\xaa\\x89E\\xf5\\xc6\\xa0u\\xfb\\x10f\\xc2\\xdf-\\x0c\\xbes\\xfb\\x9b\\xaa\\x9bE\\x9b\\x81\\xe2\\xcf\\x93\\xd9\\x01\\xf1c\\xb9B\\xf1V\\x92\\xf0\\x80\\xf0\\x03\\xca\\xa9.\\xee\\xa8\\xcb\\x1d\\xe6IH\\x9d\\xe2+H\\xe2 aw\\xe7A&[\\xee\\x97\\\\\\x85\\xdf\\xb6\\x14\\r\\x82\\xbb?\\x98&4\\xc0\\xaa\\x17v\\xafQ\\t\\x86\\xb9\\x1ec>\\x9d\\xc4Q\\xa1%\\xab?h\\xaea\\x14Z\\xa7\\x9d\\xf6\\t\\x19\\xe3\\x0e\\x03\\x0b\\xab\\xd1t\\xf9Hb(\\x1a\\x15\\x91\\x11ju\\x8e\\xea?\\x1b\\xa6\\x18\\x80G\\x8d\\xe8\\xbd\\xf3fH\\xe1\\x961\\xd7s\\x81Y\\xb4\\xd8\\x94\\x9b\\xe7R\\x1e\\x85\\x9e\\x86\\xbd\\x8bc{\\x18^9b\\xb8\\xa3\\xd0b\\x08\\x95\\xee\\xadH&\\xe7h\\x04\\xad\\x03\\xde\\xc9\\x9b\\x8b\\x89U7^\\xa0\\x9au\\x07\\x1f\\xb0?\\xcc<\\xeb\\xcc.\\xfe>4F\\x0e\\x8e\\xea\\xcf\\xc1\\xee\\xd8\\x0eNy\\xfb\\x9f4\\xc9Y\\r\\x8e\\xc5.t-\\x91)\\xf58\\xabr\\x9dD|?\\xea\\xbe}\\xf9\\xa7\\x1e?\\xb9h\\xfc\\x1eDj\\x82\\xc5\\xb6\\x11Xp\\x94\\x1e\\xab\\xa8\\x1cr\\xcd\\xeb\\xb9`\\x01Dd\\x18\\xf0\\xb0\\xf1\\xeb\\xcb\\xcaIz\\xb3\\xd4\\xd0:\\xc7\\x1f\\xa9\\x96\\xe6\\xc1\\xf1\\x16\\x98\\x9dnm\\xa1\\x03\\x9fB\\xb9\\xac^\\xc7\\xf8\\xf7\\x15\\xfd\\x8b\\xb3\\x814\\xceo:\\x12M\\xf1\\xdeL\\xe4?o\\xf6\\xc92\\x1a9#\\xd7\\xb6i\\xe7\\xfa\\xa3y8]\\xba\\xba\\xc1\\x12i\\x10u \\x94\\xe5\\xd3E\\xb1\\xac\\x8d\\xeb\\xc3\\xf8\\x15\\xa1\\xf4\\x96RK\\x1b\\xc1\\xc4\\xabq\\xa0 \\x03\\xb3\\xbf\\xc8\\xb5\\x988\\xed\\x1dM\\xd0S\\x8dD\\x1fJ,\\x08\\xd9\\xd3\\x06\\xbe\\x7f\\xff\\x7f2\"\\x1e4\\xf7\\x84\\xc0^\\xac\\xdcIho\\xfd\\x90\\xc6o\\xec\\xea\\xe8\\xc3\\xb9\\t6\\x0b\\x00\\xf6_\\x16\\x17\\x86\\xa5\\xf9a\\xbd\\xcb7\\xcb\\x8d\\xa4[\\x0e\\xc9WN\\xaeU\\xbd\\xf1\\x02f\\xb65\\xc4\\xe6:TT\\x81\\xf3~\\x87<\\xeb\\x15K\\x0c\\xa2\\xfa\\xdd6\\x89E\\xc8\\xbd\\xf7,E\\xb5\\xb3\\xe8\\xfak.- oY\\x8b\\xefh\\xeb\\x81{9\\x0e\\x00\\xec\\xb1\\x16\\x80\\xdf\\xae\\x94\\xf7\\xd1\\xa3w\\x8eX\\xcf\\xc85\\x07\\x15l\\xa9\\xc6d\\x1b\\xce\\xec\\x0b\\xed~\\x1f\\x9d\\x9f\\x00*_\\x96\\xdfL\\x14\\xfa\\x11\\xfc\\xb9\\xac8\\x18P\\xc2[\\xbe\\xc3\\x81\\xec\\x18\\\\\\xaa\\xb9\\xdc\\xbd\\x82Z\\xa5\\xc1\\xac\\x1a\\x8c\\x9c\\xa4T2v\\xf6 3\\xeb\\xe3w\\xfe0\\x8dA\\xe5VQ=\\xf2l\\x0fz*\\x95\\xbf\\xac\\xcc\\xb4\\x85\\xaa\\xbcm(\\x96\\x11#\\x9d^6t\\x99\\x1181P\\xa3Y\\x996\\x82\\xb5\\xe19\\xf2\\x04\\x94A*&\\xe6\\xcb\\xcdo\\xd7,\\x8c\\xf7S\\xac\\xe5bF\\x0f\\xd9&\\x82\\x0c\\x1f!v\\x9e\\x82\\xdc)\\x01\\xa6\\x1e\\xbb==\\xe4$2a$0\\xd5v\\x94\\x0c\\xeen\\x15\\xea\\xef\\x15-^;\\xdc\\xc9\\xecjyF\\x92f_o\\xe1B&)\\x04\\x03\\x1c\\xb2\\xf9o\\xe8t\\xf3\\x9a\\xd1n_\\x87r$\\xac\\x99\\x85\\xed\\xf8\\x1c|\\x19\\x0eS\\x1a\\xd7\\x9f\\x94\\xe0\\x90z\\xfc\\xfaX\\nU\\xf4?O\\x9a\\xb4,T\\x86\\xb1\\xdf\\x16\\xf5\\x89\\xc3\\xe9\\xd0\\xc5\\x13\\xc2\\xf5m\\xfb)?y\\x97\\xf9<9l\\'\\xaa\\xb0q\\x10\\x0blM\\x17\\xc4\\xb9\\xbb\\xe2\\xf0\\xdf\\xb9K\\xec\\x04?\\xb6,\\x01\\xf2\\xe4\\x98\\xcc\\x97\\xc0j\\x8a^\\x07\\x84\\x18\\xd1\\x82\\xab\\xa7\\xea\\xbb\\xad\\x01\\x87\\x89\\xd5\\x08R\\xc1=\\xcf\\xc7\\x96#W\\x04\\xc0\\xe6-\\xbb)\\x92\\xfe^\\xb4e\\xe7\\xfda}d\\xa77J\\xb9.\\r\\x00\\xb1\\x134+\\xb0y5\\xb1\\xba\\x10\\x80\\xa9\\xc5\\xd4d\\x9c\\x8e\\t\\xca\\x12bQ\\n?\\xfc-P\\x9dG\\x1d\\xe9Ns\\'\\x86~\\xa9\\x82\\xda\\xaf+u]n\\x8f\\xf7\\x84PQ\\x82\\xa4W\\xab&\\x0b\\xf5\\x8eA\\x86J\\xdc\\xf0\\xfa\\xea\\x07\\x90\\xdaT\\x9bm$\\xb6^\\xd7Q\\x9ax\\xd0\\x9a\\x84\\x16\\xca=\\x10\\xdb\\x13\\xaf\\x8a\\xe7\\x8e\\xf9\\xbc1.(1\\xef\\xb2\\xa9\\xe7\\xfe\\xfb\\xa6lPe\\x86\\x9a\\x07u$\\xbf\\xa2n7\\x13\\x0b\\xf5\\xf7\\x96\\xbd}\\xfa$G\\xe6_\\xfap\\x1f\\xf4\\x97X\\xab\\x1d\\x0f\\xf8k\\xaaS\\xd7\\xee\\xbe\\x05\\xde3\\x80\\x8eE\\xae\\n\\xe9X\\x99\\xc3\\x05\\xec4\\x1f\\x7f\\xc7_\\xdaU8%\\xad\\xe7\\xc0\\x16\\x9c+\\x1fA6\\xaem\\x83g\\x05erWa\\x98[\\x95Bx\\xe6B\\x8a\\xc9\\xf7\\x1a\\xcc\\x9c\\xcfN\\xaex\\xf5\\xe5\\x03\\xc2\\xa9\\xea\\x9c\\xf0l\\x02i>\\xd2wW,\\xc2\\x05M\\xc4\\x13\\tric\\x05\\xb8N8\\xd9\\xb3\\xact\\xe1\\x15\\xd6\\rt\\x7f\\x89\\xe3\\xe8h\\xf8|A\\xfc\\xc90\\x0e\\xfe\\xed\\xb5\\xb7\\xc2Pe\\xfa\\xb6V[\\xab\\xf4\\xda~\\xc4\\x04+\\xbf~~v\\xd68\\xf0\\xe9\\xf3J\\x91\\xf7Z~\\xd7\"\\xe7\\n\\x8b\\xccA\\xea\\xec\\xaf(\\x05\\xeb\\xa5\\xbe\\x9c\\xa0\\x94\\x06\\x1b\\xc2\\xc4\\x15\\x8cd\\xf6j\\t\\x1c\\xcc/\\x9b\\xc4xL\\x9ek\\xb8Z\\x11\\x12\\xdc\\x92\\x7f~\\x05G\\x98\\x85\\xd3Kz\\n\\x98\\xe2\\x95_\\x96/\\xb6m\\x89\\xd0\\xd4Q\\x13\\xa3\\xcf\\xe4/\\xa8\\xf5b\\xe1e\\xcd\\xbf\\xae*\\x01N\\xfe2!r\\x8aB\"]\\x19A\\x97\\xa1\\x13\\xc8\\xd0\\xbc3\\xf5=\\xb0\\xfd\\x89\\xdeZP\\x10\\xc4<\\x1b\\xb3o*\\xb3!\\xa3l\\xc8\\t92\\x8eU\\xcf\\x90\\xb1xXN(\\xf6\\xe6\\xf5\\xd0\\xa7E\\xde\\xebt\\xb7R1\\x05\\x0e4\\x99\\xc7k\\x05\\xf2\\xe5E\\xe7\\xd6\\xc97\\x01\\xb9\\x0b\\x96\\xfeK.7\\xf3\\xed`\\xa3\\xba\\x9e\\x82\\x8d\\xc2\\xb6@\\xc0\\xfa\\xb8\\xc0\\xa1\\x1d\\x1c\\xb49\\x1eQ>\\xc7TR\\x94\\xd6\\x15\\xc1\\xde\\x19\\x04w\\xcc\\xd1\\x1b\\xad_q\\xc1\\x1e\\x19\\xc7p\\x08\\x13/\\xf8D\\tw\\xf4\\xfe1*@~\\xab\\x07[o\\x1a\\xfc@\\x87\\x1a\\xc0k\\xab\\xf1\\xe8\\xa4\\xab=\\xc1B\\xb2\\xde~\\xa4\\x80\\xc3[h\\t\\x13\\xf7\\x96\\xdb\\xde\\x15\\xf6\\x19\\'\\xec\\x0f\\xd2\\xa8\\xbd\\x8f\\xd41\\x17\\x99\\x84\\xf86\\xf3\\x8d \\xd4\\xff\\xf5\\x13\\xb1\\x8d\\x82\\xb93\\\\\\xbf\\xdc\\x7f\\xf2\\x0b\\xfd@\\x12h\\xf6\\xf6\\x1dD\\r\\xa1\\xc8\\x08\\xe9D\\xfc6\\xa3\\xba\\xec\\x8eV\\xb9\\xfd\\xc1\\xbaKc\\x80\\xa8\\xe6\\xab\\x93T\\x08\\xbc\\x8bX\\x90\\xe4\\xff\\x1c\\xc591\\xd0|bp=:\\x06\\xa63\\xd5L\\x92\\xb5\\x85\\x1b\\xf5\\xa1U\\xdd\\x8b\\xc7\\x10\\x82\\x8e\\xd1\\xe7\\xf4>\\xdb=\\x05\\x98\\xa3\\x89\\x80AJ\\xa1\\xbay\\xb2\\xe6\\xe8v}\\xfb\\x8f\\x11\\xae\\x01\\x90\\xe0q\\xaf?\\xb8s\\x86;\\x83\\xabm\\xa5\\xaa\\xab\\x1a\\xf6\\xde\\x12\\xae\\n\\xc4\\xb4\\xed\\xb3\\x89ew\\xbaG\"1<\\xe3\\xdb\\x0f\\x0f.d\\x81\\xe7\\xe6\\x06\\ts\\tY\\xf5.l\\xeap\\xd0\\x93\\xb3\\xaej\\xa1\\xac\\xc5\\xa13{&\\x1e,\\xeaZ\\xd0S\\xaa\\xa3\\x8e\\x08\\xc3\\xbd\"\\xb4\\xd8\\xb7\\xd6\\xae\\xdca\\xcfL\\x85J\\xd2\\xbf\\xab\\x84\\xb88\\xd6\\x18vc\\x18x\\xe1\\x91\\x99\\r\\xf2,\\xfaT8\\xed\\xca(@\\xdfU/\\x92\\x85\\xce\\xae\\xd8L|Z\\xf5\\xb2n\\x06\\x0c\\xcd\\'\\n\\x12=}\\nTd\\xf5`k0\\xa0\\x84\\xb2&,\\xbd\\xd9&\\x88w\\x93\\xf6\\x90\\x19\\x98\\xaa\\x14\\xabHM\\xbc\\x97Bn\\xb9f\\x07\\\\c\\x87\\xad\\x0f\\x016zL\\rX\\xe9\\xa0\\xa0\\xff\\x81\\xb0q\\xd7g,i\\xdb2g\\xe6\\x00\\xef9\\xcb&\\xab\\xb8\\x8e)fY\\r\\x8a\\xe0\\xbd\\xb0\\xb6\\xde\\\\\\xd4Z\\tE\\x84\\xb4(\\xd8\\t\\\\=\\xf1.\\x89G\\xa9\\xa8\\x05\\xfct\\x92\\x19\\x04\\xa8\\xf09&\\x86\\xeft^\\\\\\xa1\\xef\\x1bG\\xc2\\x03\\xaf\\xd1_=\\x7f\\xba\\x03\\xde\\x19\\xe8\\xd1Z\\xd6\\xde\\xbe\\xba\\xad\\xe0\\x16\\xabD,\\xe6Yu\\x89\\x07X\\xf1\\xafe\\x15E\\xf5=7\\xcf\\xcfU\\x97yr\\xc5\\xaf\\xc6\\x18\\xef\\xb1\\xa2\\xe7\\x03\\x82\\xfa\"\\xbbf}d\\x06U^\\xca\\x14\\xe1\\xe0\\xd1\\x00m\\xf0zM\\x9f\\xf5&f\\x16\\nv[\\x14\\xa0\\xf9y@\\x9d\\xdb.(oo\\xeb\\x88\\xed \\x1a\\x01\\xed\\xf2\\xe3\\xec:\\x8f\\x1e\\x10c\\xe6\\xa7-\\xdc#\\x98\\x1d_\\nk]\\x8e\\xc8\\'=\\x9e\\x15\\x86\\x1c2\\x12\\xb2\\x0cux\\x1cql#\\x99\\xa8\\x8a2\\xb8\\xc0\\xff|\\x01\\x99\\x10\\x14:\\x90\\xb2\\xdd}\\x0e\\xba3Q\\xb1\\xa6{ZwHX\\xa1W@\\xe3\\xd7q\\x8e3\\xcf\\xef\\xdb\\xe6\\x96\\xa8\\xa5\\xbd\\x85\\xec\\xcdy\\xd2\\x13\\x00\\x9dp~n\\x18\\x89\\x89Q\\xbd\\x93\\x15\\xdf\\xbc\\xed\\x8c\\xfd>\\xac\\x92\\xe3\\xbe\\xfa}\\x18\\xd0N\\x12\\xd1XV\\xf28\\xf8jvpv~\\xa0m\\x85\\xd7\\x86\\xf5\\xb8\\x80\\xb5`OM\\xb1|\\x81\\xf6\\xf7O\\xc6\\xb9\\x07j\\xa6\\x84y<\\xa2\\x13\\x89}\\xce\\xb4\\xbb\\x817\\\\W3\\xa3\\xc2\\x9c\\xc6 \\x8dy\\x1a\\x16.\\xcf\\x0bi\\x90~;\\t(\\xbdtfjO\\xb5P\\xa3\\xa1$\\x04I\\xb78\\xf9\\xa95\\xb5\\xfb\\x9eg\\xe3\\xafdE\\xab\\x81\\xbf\\xc1\\x05rV6\\x08\\x11\\xd0y\\x00\\xf2s\\x1d\\xf9u\\x9c\\xe4\\xbc#\\xa1\\x16(\\xd6\\xfb\\xe5\\x17S\\x89S\\x1f\\x83\\xa4\\x8c\\xec\\x0e*U\\x83\\xf7\\xee\\x85\\xdb\\x83^r\\xb1j\\xcf\\xb9!\\x8f\\xe3\\xea\\xbdl\\xfb@\\x14UQ\\xd1B\\xa7\\xcc*\\x8d\\n~\\xe05\\xd2^\\xa6\\x13\\xa8\\x1eK\\xbc(x\\x8d\\xe7\\xadr_ID\\x98\\x81\\x90\\x19\\xc6\\xd0\\xff\\xed1\\x1e\\xce\\xf1\\x84\\xef\\xf2\\xfa\\x8d5\\xa3\\xc4\\x98\\x97\\'\\xf9\\x87\\x997\\xf6/T\\x8f\\xad\\xa9\\'\\x94\\xc8\\x1b]A\\x83\\xc6\\xe3/\\xde(\\xba\\x90\\xbf\\x07[\\x88\\x11J\\x9dq\\xdb\\x96\\xbf\\x1d\\x11pr\\x86\\xd1\\xe3M\\xc2\\xdeL\\xaf\\xae\\x8d\\x16\\xed\\xbe\\r_\\xa3\\t\\xbdgv\\xe8\\xcf8TIT+\\x8c\\x1f\\xbd\\xf9\\x03\\xd1\\x16(6P\\x9e\\xeb\\xd1,\\x95\\xea~s&^;\\x8d\\xc933\\xd7\\xff\\xb07\\xaa\\xd2\\xc5\\x856\\x00\\xdb\\x8b\\xce\\xfe\\xfba\\xe3\\x1b\\xe4Y\\x10{\\x05\\xb9z\\xd8\\xf7@\\xcf\\x0e\\xf6\\xd2DI`\\x08/}t]\\xe6\\x84\\x93o?\\xb5\\x9e\\xa3\\xd8\\x12\\x9a\\x91O\\xdaDcO\\x12\\xf6\\x8c\\xef\\xc2\\xc0=\\x96\\x88d\\xdc\\x90(\\xe5@\\xe7\\\\#\\x1e\\x98Zk=\\xa3p\\xe0\\xd0W|\\xa9\\xbe\\xbcPn\\x1c\\xfc\\xbb8\\xc9\\xd4\\xe0\\xbbY\\xfb`/N\\tI\\x9dq6\\x87\\xda3\\xecg{\\xa0\\xb3\\x7f\\xfec@\\x9b>\\xd2\\xe0\\xa1\\xe4\\xbd!G\\xc2\\xf9\\xc3\\xfeC\\xab3b\\xf7\\xccL\\x1a\\xf2\\xa4O\\xec\\x0b^\\x19\\x16\\xff\\x92\\xf7\\x1e^\\xce\\x8b\\xef\\x1f-\\x93\\xaf|\\xbc\\x1bZ\\xd7\\x8ah\\x9b\\x87\\x84[\\xa0\\x95\\xe5\\xe7\\n\\xc3\\xd4\\x9e\\xce\\xe52\"\\xce\\xdb\\x8ao\\xc4|s\\xc0\\xfe\\\\)\\xa6\\x14:\\x90\\xb2\\xdd}\\x0e\\xba3Q\\xb1\\xa6{ZwH*\\x15V\\xc7\\xe3\\x9c\\xd2\\x8b\\xc44z\\xbf\\x1e\\x01%Cq\\xbc*{\\x8czJ\\xcc<94I\\xf3\\x98\\xc3\\xbc\\x9f,\\xcf\\xdfP[-\\xa6%\\x9a\\xb2\\xc3\\x04\\x9e\\xf2K\\xba\\xcd&}.%.w\\x199-\\xbc%b\\xe6\\x99w\\x9c\\x9eI\\xdbt;\\xf3\\xc77Q\\xf5\\x1a:\\x9a@\\x18V!\\x12\\x0f\\x1a_\\xd9A,Z[\\xc9\\xcb\\x19\\xf4h\\xd2\\t\\xcdk\\xaa`)\\xda\\xf4\\xd7!\\xe3\\x94\\xcd\\x11J\\xe2\\x0b\\x92\\xe5\\xbd\\xf0v\\x11\\xd0\\x97\"\\xe3\\x90oD\\xfa\\x06\\x8d&9\\xa2\\x8e,\\xc4t5\\xc4\\x8a\\xe5\\x94\\xe2\\x0f!A?\\xa8X\\xf7\\x9dc\\x8a\\x10\\x03\\xbf\\x9f\\xa5)\\xecp\\n\\x7f+\\xf7\\xf0Z\\xe0\\x90\\xb1P\\x84%\\x9dt\\xa2>\\x1a\\xf5A#\\x10\\xae\\xc6\\xa0\\xf1J\\x1e\\xcd\\xd3\\xc6H\\x8fg\\x1c\\xf0nv\\x8bW.\\xcd\\x01\\x15\\xb2\\xe8\\xf7\\xbaf\\x80\\xc6\\\\\\xce\\xbc=\\xe4L\\x103o\\xf0\\x98\\xa6\\x87Wg\\xfay\\x84.R\\xe9\\x189/\\x11\\xc3I\\x10\\x91+\\xf8\\xb8t\\xbd\\xa3m\\x90\\xd3\\xa7\\x98\\xef\\xe0\\xb4\\xbe\\xa6OMM\\x18\\xb7\\x0c\\xcc\\x8c\\x0bq\\xc4\\x8e\\xa3\\x08&v\\x17\\xc5\\xc9\\x00\\xd7\\xc1\\x84\\xca#\\xd2\\tx\\x13E\\xb1\\xb3!$\\xea\\xb6\\x02\\x95\\xc1\\xe8\\xa6{\\xf4\\x0e\\x8a\\x7f \\xc8\\xe6%\\x96\\x18x\\x84\\x9duM\\x15O\\xe1{\\xb9\\xf6\\x0e\\xbbw\\x0e\\x0cn\\x8d\\xe2\\n\\xd9e\\xee\\xa6NG\\xceE\\x10\\xa9\\xbfu(\\x13\\x1b[4\"4\\xd6+\\x9a\\x9cqNX\\n\\x16\\x1f\\xdd\\x18\\xd2\\x8c\\xca\\x90\\x08\\x02\\xd3\\xf4\\x1c\\x96\\x88\\xbe\\xec\\xf8\\xb5\\xe2\\xb2k\\x9e\\x12r\\xcc\\xc5\\xed\\xc7E\\x17o\\xe4\\xf8\\xd6\\xcc\\\\\\xbe4a\\xc4\\x8b\\xb2/s<e\\xd2@\\xcf\\x0f\\xc0\\x02\\xc3K6\\xd02\\x8a\\x86w\\xe71\\xeax\\x1a\\xef!;\\xc0\\xf7d\\xacd\\xce>9~\\x8cK\\x13.\\x13\\x02\\x17z?0\\xfc\\x8f\\x1a\\\\\\x0e\\xde#\\xac\\x9c\\xea;\\x80\\xbaE\"U\\x0f\\xae9?\\x95O\\xc4\\xdeA\\x7f\\x81i\\x0e#\\x9ckC\\xb0H^7\\x92\\xa9G\\x89Lk\\xeb`\\x8c\\xc6\\x9fTs\\xe2\\xdb\\x17\\xe1]\\x18\\x8c]\\xf1\\xd3\\xf3P\\xb2Y\\x9f\\x06\\x06x_\\x984\\xcc\\xc4l\\xbc*(\\xc5)~\\xdf\\x89\\xa7\\xdf\\xabO\\xa9\\x0e\\x1b\\xb1\\x97\\xb6UsSK\\x14\\x18\\x85\\x05'\n",
      "Length: 3184\n",
      "Embedding Efficiency: 4.472361809045226\n",
      "==============\n"
     ]
    }
   ],
   "source": [
    "import xlsxwriter\n",
    "workbook = xlsxwriter.Workbook('D:\\YahyaData\\output\\ProposedModelEncryptedMessages-'+ str (cTechniques) + str(oSource)+'.xlsx')\n",
    "worksheet1 = workbook.add_worksheet()\n",
    "\n",
    "row=0\n",
    "col=0\n",
    "imageCount=0\n",
    "worksheet1.write(row, 0, str(\"Original Message\"))\n",
    "worksheet1.write(row, 1, str(\"Length of Original Message\"))\n",
    "worksheet1.write(row, 2, str(\"Cutomized Algorithm\"))\n",
    "worksheet1.write(row, 3, str(\"Encrypted Text\"))\n",
    "worksheet1.write(row, 4, str(\"Length\"))\n",
    "worksheet1.write(row, 5, str(\"Cutomized Algorithm\"))\n",
    "worksheet1.write(row, 6, str(\"Encrypted Text\"))\n",
    "worksheet1.write(row, 7, str(\"Length\"))\n",
    "worksheet1.write(row, 8, str(\"Cutomized Algorithm\"))\n",
    "worksheet1.write(row, 9, str(\"Encrypted Text\"))\n",
    "worksheet1.write(row, 10, str(\"Length\"))\n",
    "worksheet1.write(row, 11, str(\"Open Source Algorithm\"))\n",
    "worksheet1.write(row, 12, str(\"Encrypted Text\"))\n",
    "worksheet1.write(row, 13, str(\"Length\"))\n",
    "worksheet1.write(row, 14, str(\"Embedding Effieiency\"))\n",
    "\n",
    "col=0\n",
    "row=0\n",
    "for k in range (0,len(messages)):\n",
    "    encrypted_text = messages[k]\n",
    "    text=messages[k]\n",
    "    print(str(k) + encrypted_text)\n",
    "    row=row+1\n",
    "    col=0\n",
    "    worksheet1.write(row, col, str(messages[k]))\n",
    "    col=col+1\n",
    "    worksheet1.write(row, col, str(len(messages[k])))\n",
    "    for i in range(0, len(customizedTechniques)):\n",
    "        #print(customizedTechniques[i])\n",
    "        if(customizedTechniques[i]==\"1\"):\n",
    "            print(\"customizedTechniques-1\")\n",
    "            encrypted_text=encryptReplace1234(encrypted_text)\n",
    "            print(encrypted_text)\n",
    "            print(\"Length: \" + str(len(encrypted_text)))\n",
    "            col=col+1\n",
    "            worksheet1.write(row, col, str('1'))\n",
    "            col=col+1\n",
    "            worksheet1.write(row, col, str(encrypted_text))\n",
    "            col=col+1\n",
    "            worksheet1.write(row, col, str(len(encrypted_text)))\n",
    "            \n",
    "        if(customizedTechniques[i]==\"2\"):\n",
    "            print(\"customizedTechniques-2\")\n",
    "            encrypted_text=encryptReplace12(encrypted_text)\n",
    "            print(encrypted_text)\n",
    "            print(\"Length: \" + str(len(encrypted_text)))\n",
    "            col=col+1\n",
    "            worksheet1.write(row, col, str('2'))\n",
    "            col=col+1\n",
    "            worksheet1.write(row, col, str(encrypted_text))\n",
    "            col=col+1\n",
    "            worksheet1.write(row, col, str(len(encrypted_text)))\n",
    "        if(customizedTechniques[i]==\"3\"):\n",
    "            print(\"customizedTechniques-3\")\n",
    "            encrypted_text = encryptUnicode30(encrypted_text)\n",
    "            print(encrypted_text)\n",
    "            print(\"Length: \" + str(len(encrypted_text)))\n",
    "            col=col+1\n",
    "            worksheet1.write(row, col, str('3'))\n",
    "            col=col+1\n",
    "            worksheet1.write(row, col, str(encrypted_text))\n",
    "            col=col+1\n",
    "            worksheet1.write(row, col, str(len(encrypted_text)))\n",
    "        if(customizedTechniques[i]==\"4\"):\n",
    "            print(\"customizedTechniques-4\")\n",
    "            encrypted_text = encrypted_text[::-1]\n",
    "            print(encrypted_text)\n",
    "            print(\"Length: \" + str(len(encrypted_text)))\n",
    "            col=col+1\n",
    "            worksheet1.write(row, col, str('4'))\n",
    "            col=col+1\n",
    "            worksheet1.write(row, col, str(encrypted_text))\n",
    "            col=col+1\n",
    "            worksheet1.write(row, col, str(len(encrypted_text)))\n",
    "        if(customizedTechniques[i]==\"5\"):\n",
    "            print(\"customizedTechniques-5\")\n",
    "            #mid_point = len(encrypted_text) // 2\n",
    "            encrypted_text = encryptUnicode50(encrypted_text)\n",
    "            print(encrypted_text)\n",
    "            print(\"Length: \" + str(len(encrypted_text)))\n",
    "            col=col+1\n",
    "            worksheet1.write(row, col, str('5'))\n",
    "            col=col+1\n",
    "            worksheet1.write(row, col, str(encrypted_text))\n",
    "            col=col+1\n",
    "            worksheet1.write(row, col, str(len(encrypted_text)))\n",
    "    openSource=str(oSource)\n",
    "    if(openSource==\"6\"):\n",
    "        print(\"OpenSourceTechniques-6\")\n",
    "        encryptor_aes = TextEncryptorAES()\n",
    "\n",
    "        encrypted_text, key = encryptor_aes.encrypt_text(str(encrypted_text))\n",
    "        with open('D://YahyaWork//'+ str(k) +'6text.pickle', 'wb') as f:\n",
    "                pickle.dump(encrypted_text, f)\n",
    "        with open('D://YahyaWork//'+ str(k) +'6key.pickle', 'wb') as f:\n",
    "                pickle.dump(key, f)\n",
    "        print(encrypted_text)\n",
    "        print(\"Length: \" + str(len(encrypted_text)))\n",
    "        col=col+1\n",
    "        worksheet1.write(row, col, str('6'))\n",
    "        col=col+1\n",
    "        worksheet1.write(row, col, str(encrypted_text))\n",
    "        col=col+1\n",
    "        worksheet1.write(row, col, str(len(encrypted_text)))\n",
    "        #print(\"Capacity:\", len(text_to_binary(text)))\n",
    "        print(\"Embedding Efficiency:\", calculate_embedding_efficiency(text, encrypted_text))\n",
    "        #binaryLength=len(text_to_binary(text))\n",
    "        EmbeddingEfficiency=calculate_embedding_efficiency(text, encrypted_text)   \n",
    "        col=col+1\n",
    "        worksheet1.write(row, col, str(EmbeddingEfficiency))\n",
    "        \n",
    "        \n",
    "    if(openSource==\"7\"):\n",
    "        print(\"OpenSourceTechniques-7\")\n",
    "        encryptor = fernetTextEncryptor()\n",
    "        key = encryptor.get_key()\n",
    "        encrypted_text = encryptor.encrypt_text(str(encrypted_text))\n",
    "        print(\"Encrypted text:\", encrypted_text)\n",
    "        print(\"Length: \" + str(len(encrypted_text)))\n",
    "        with open('D://YahyaWork//'+ str(k) +'7Text.txt', 'wb') as f:\n",
    "                f.write(encrypted_text)\n",
    "        with open('D://YahyaWork//'+ str(k) +'7key.key', 'wb') as f:\n",
    "                f.write(key)\n",
    "        col=col+1\n",
    "        worksheet1.write(row, col, str('7'))\n",
    "        col=col+1\n",
    "        worksheet1.write(row, col, str(encrypted_text))\n",
    "        col=col+1\n",
    "        worksheet1.write(row, col, str(len(encrypted_text)))\n",
    "        #print(\"Capacity:\", len(text_to_binary(text)))\n",
    "        print(\"Embedding Efficiency:\", calculate_embedding_efficiency(text, encrypted_text))\n",
    "        #binaryLength=len(text_to_binary(text))\n",
    "        EmbeddingEfficiency=calculate_embedding_efficiency(text, encrypted_text)   \n",
    "        col=col+1\n",
    "        worksheet1.write(row, col, str(EmbeddingEfficiency))\n",
    "        \n",
    "    if(openSource==\"8\"):\n",
    "        print(\"OpenSourceTechniques-8\")\n",
    "    \n",
    "    \n",
    "        encryptor_salsa20 = TextEncryptorSalsa20()\n",
    "        encrypted_text, key = encryptor_salsa20.encrypt_text(str(encrypted_text))\n",
    "        with open('D://YahyaWork//'+ str(k) +'8Text.pickle', 'wb') as f:\n",
    "                pickle.dump(encrypted_text, f)\n",
    "        with open('D://YahyaWork//'+ str(k) +'8key.pickle', 'wb') as f:\n",
    "                pickle.dump(key, f)\n",
    "        print(encrypted_text)\n",
    "        print(\"Length: \" + str(len(encrypted_text)))\n",
    "        col=col+1\n",
    "        worksheet1.write(row, col, str('8'))\n",
    "        col=col+1\n",
    "        worksheet1.write(row, col, str(encrypted_text))\n",
    "        col=col+1\n",
    "        worksheet1.write(row, col, str(len(encrypted_text)))\n",
    "        #print(\"Capacity:\", len(text_to_binary(text)))\n",
    "        print(\"Embedding Efficiency:\", calculate_embedding_efficiency(text, encrypted_text))\n",
    "        #binaryLength=len(text_to_binary(text))\n",
    "        EmbeddingEfficiency=calculate_embedding_efficiency(text, encrypted_text)   \n",
    "        col=col+1\n",
    "        worksheet1.write(row, col, str(EmbeddingEfficiency))\n",
    "    if(openSource==\"9\"):\n",
    "        print(\"OpenSourceTechniques-9\")\n",
    "        encryptor = pyaesEncryptor()\n",
    "        encrypted_text, key = encryptor.encrypt_message(str(encrypted_text))\n",
    "        \n",
    "        with open('D:\\\\YahyaWork\\\\'+ str(k) +'9text.pickle', 'wb') as f:\n",
    "            pickle.dump(encrypted_text, f)\n",
    "        with open('D:\\\\YahyaWork\\\\'+ str(k) +'9key.pickle', 'wb') as f:\n",
    "            pickle.dump(key, f)\n",
    "        print(encrypted_text)\n",
    "        print(\"Length: \" + str(len(encrypted_text)))\n",
    "        col=col+1\n",
    "        worksheet1.write(row, col, str('9'))\n",
    "        col=col+1\n",
    "        worksheet1.write(row, col, str(encrypted_text))\n",
    "        col=col+1\n",
    "        worksheet1.write(row, col, str(len(encrypted_text)))\n",
    "        #print(\"Capacity:\", len(text_to_binary(text)))\n",
    "        print(\"Embedding Efficiency:\", calculate_embedding_efficiency(text, encrypted_text))\n",
    "        #binaryLength=len(text_to_binary(text))\n",
    "        EmbeddingEfficiency=calculate_embedding_efficiency(text, encrypted_text)   \n",
    "        col=col+1\n",
    "        worksheet1.write(row, col, str(EmbeddingEfficiency))\n",
    "    print(\"==============\")\n",
    "workbook.close()"
   ]
  },
  {
   "cell_type": "code",
   "execution_count": null,
   "id": "07a4e80b",
   "metadata": {},
   "outputs": [],
   "source": []
  },
  {
   "cell_type": "code",
   "execution_count": null,
   "id": "e36ff7ce",
   "metadata": {},
   "outputs": [],
   "source": []
  },
  {
   "cell_type": "code",
   "execution_count": null,
   "id": "791f81a9",
   "metadata": {},
   "outputs": [],
   "source": []
  }
 ],
 "metadata": {
  "kernelspec": {
   "display_name": "Python 3 (ipykernel)",
   "language": "python",
   "name": "python3"
  },
  "language_info": {
   "codemirror_mode": {
    "name": "ipython",
    "version": 3
   },
   "file_extension": ".py",
   "mimetype": "text/x-python",
   "name": "python",
   "nbconvert_exporter": "python",
   "pygments_lexer": "ipython3",
   "version": "3.8.13"
  }
 },
 "nbformat": 4,
 "nbformat_minor": 5
}
